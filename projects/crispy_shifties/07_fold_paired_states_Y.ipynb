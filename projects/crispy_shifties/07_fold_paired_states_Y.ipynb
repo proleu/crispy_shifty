{
 "cells": [
  {
   "cell_type": "markdown",
   "id": "d04caaf9",
   "metadata": {},
   "source": [
    "# Run hacked AlphaFold2 on the designed paired state Y's"
   ]
  },
  {
   "cell_type": "markdown",
   "id": "e0142d45",
   "metadata": {},
   "source": [
    "### Imports"
   ]
  },
  {
   "cell_type": "code",
   "execution_count": 1,
   "id": "de865396",
   "metadata": {},
   "outputs": [
    {
     "name": "stdout",
     "output_type": "stream",
     "text": [
      "running in directory: /global/cfs/cdirs/m3962/projects/crispy_shifty/projects/crispy_shifties\n",
      "running on node: nid002745\n"
     ]
    }
   ],
   "source": [
    "%load_ext lab_black\n",
    "# Python standard library\n",
    "from glob import glob\n",
    "import os\n",
    "import socket\n",
    "import sys\n",
    "\n",
    "# 3rd party library imports\n",
    "import dask\n",
    "import matplotlib.pyplot as plt\n",
    "import pandas as pd\n",
    "import pyrosetta\n",
    "import numpy as np\n",
    "import scipy\n",
    "import seaborn as sns\n",
    "from tqdm.auto import tqdm  # jupyter compatible progress bar\n",
    "\n",
    "tqdm.pandas()  # link tqdm to pandas\n",
    "# Notebook magic\n",
    "# save plots in the notebook\n",
    "%matplotlib inline\n",
    "# reloads modules automatically before executing cells\n",
    "%load_ext autoreload\n",
    "%autoreload 2\n",
    "print(f\"running in directory: {os.getcwd()}\")  # where are we?\n",
    "print(f\"running on node: {socket.gethostname()}\")  # what node are we on?"
   ]
  },
  {
   "cell_type": "markdown",
   "id": "e9dbc771",
   "metadata": {},
   "source": [
    "### Set working directory to the root of the crispy_shifty repo\n",
    "Note: We want to use perlmutter"
   ]
  },
  {
   "cell_type": "code",
   "execution_count": 2,
   "id": "9c22ae00",
   "metadata": {},
   "outputs": [],
   "source": [
    "os.chdir(\"/global/cfs/cdirs/m3962/projects/crispy_shifty\")"
   ]
  },
  {
   "cell_type": "markdown",
   "id": "cf8cdc35",
   "metadata": {},
   "source": [
    "### Fix the paths\n",
    "Necessary because we are on perlmutter"
   ]
  },
  {
   "cell_type": "code",
   "execution_count": 3,
   "id": "b60434ea",
   "metadata": {},
   "outputs": [
    {
     "name": "stderr",
     "output_type": "stream",
     "text": [
      "/global/cfs/cdirs/m3962/projects/crispy_shifty/envs/crispy/lib/python3.8/site-packages/dask_jobqueue/core.py:20: FutureWarning: tmpfile is deprecated and will be removed in a future release. Please use dask.utils.tmpfile instead.\n",
      "  from distributed.utils import tmpfile\n"
     ]
    }
   ],
   "source": [
    "from crispy_shifty.utils.io import fix_path_prefixes\n",
    "\n",
    "pairs = os.path.join(\n",
    "    os.getcwd(),\n",
    "    \"projects/crispy_shifties/06_mpnn_paired_states/mpnn_paired_states.pair\",\n",
    ")\n",
    "new_pairs = fix_path_prefixes(\n",
    "    find=\"/mnt/home/pleung\",\n",
    "    replace=\"/global/cfs/cdirs/m3962\",\n",
    "    file=pairs,\n",
    "    overwrite=True,\n",
    ")"
   ]
  },
  {
   "cell_type": "markdown",
   "id": "076b96a7",
   "metadata": {
    "tags": []
   },
   "source": [
    "### Run AF2 on the designed paired states Y's"
   ]
  },
  {
   "cell_type": "code",
   "execution_count": null,
   "id": "ab210086",
   "metadata": {},
   "outputs": [],
   "source": [
    "from crispy_shifty.utils.io import gen_array_tasks\n",
    "\n",
    "simulation_name = \"07_fold_paired_states_Y\"\n",
    "design_list_file = os.path.join(\n",
    "    os.getcwd(),\n",
    "    \"projects/crispy_shifties/06_mpnn_paired_states/mpnn_paired_states.pair\",\n",
    ")\n",
    "output_path = os.path.join(f\"/pscratch/sd/p/pleung/{simulation_name}\")\n",
    "\n",
    "options = \" \".join(\n",
    "    [\n",
    "        \"out:level 200\",\n",
    "    ]\n",
    ")\n",
    "extra_kwargs = {\"models\": \"1\"}\n",
    "\n",
    "gen_array_tasks(\n",
    "    distribute_func=\"crispy_shifty.protocols.folding.fold_paired_state_Y\",\n",
    "    design_list_file=design_list_file,\n",
    "    output_path=output_path,\n",
    "    perlmutter_mode=True,\n",
    "    nstruct=1,\n",
    "    nstruct_per_task=1,\n",
    "    options=options,\n",
    "    extra_kwargs=extra_kwargs,\n",
    "    simulation_name=simulation_name,\n",
    ")"
   ]
  },
  {
   "cell_type": "markdown",
   "id": "f4b4fe53",
   "metadata": {},
   "source": [
    "### Set working directory to the root of the crispy_shifty repo\n",
    "Note: We rsync the perlmutter results, now back on the digs"
   ]
  },
  {
   "cell_type": "code",
   "execution_count": null,
   "id": "fb213278",
   "metadata": {},
   "outputs": [],
   "source": [
    "os.chdir(\"/home/pleung/projects/crispy_shifty\")  # TODO"
   ]
  },
  {
   "cell_type": "markdown",
   "id": "d68cd512",
   "metadata": {},
   "source": [
    "### Collect scorefiles of designed paired state Ys and concatenate\n",
    "TODO change to projects dir"
   ]
  },
  {
   "cell_type": "code",
   "execution_count": null,
   "id": "00a774a2",
   "metadata": {
    "scrolled": true,
    "tags": []
   },
   "outputs": [],
   "source": [
    "sys.path.insert(0, \"~/projects/crispy_shifty\")  # TODO\n",
    "from crispy_shifty.utils.io import collect_score_file\n",
    "\n",
    "simulation_name = \"07_fold_paired_states_Y\"\n",
    "output_path = os.path.join(os.getcwd(), f\"projects/crispy_shifties/{simulation_name}\")\n",
    "\n",
    "if not os.path.exists(os.path.join(output_path, \"scores.json\")):\n",
    "    collect_score_file(output_path, \"scores\")"
   ]
  },
  {
   "cell_type": "markdown",
   "id": "7af424a6",
   "metadata": {},
   "source": [
    "### Load resulting concatenated scorefile\n",
    "TODO change to projects dir  \n",
    "TODO might have to switch to a dask accelerated approach for production"
   ]
  },
  {
   "cell_type": "code",
   "execution_count": null,
   "id": "183b22b9",
   "metadata": {
    "scrolled": true,
    "tags": []
   },
   "outputs": [],
   "source": [
    "sys.path.insert(0, \"~/projects/crispy_shifty\")  # TODO\n",
    "from crispy_shifty.utils.io import parse_scorefile_linear\n",
    "\n",
    "output_path = os.path.join(os.getcwd(), f\"projects/crispy_shifties/{simulation_name}\")\n",
    "\n",
    "if not os.path.exists(os.path.join(output_path, \"scores.csv\")):\n",
    "    scores_df = parse_scorefile_linear(os.path.join(output_path, \"scores.json\"))"
   ]
  },
  {
   "cell_type": "markdown",
   "id": "6eb6ce5b",
   "metadata": {},
   "source": [
    "### Dump scores_df as a CSV and then reload, for performance reasons"
   ]
  },
  {
   "cell_type": "code",
   "execution_count": null,
   "id": "aec56adb",
   "metadata": {},
   "outputs": [],
   "source": [
    "if not os.path.exists(os.path.join(output_path, \"scores.csv\")):\n",
    "    scores_df.to_csv(os.path.join(output_path, \"scores.csv\"))\n",
    "\n",
    "scores_df = pd.read_csv(os.path.join(output_path, \"scores.csv\"), index_col=\"Unnamed: 0\")"
   ]
  },
  {
   "cell_type": "markdown",
   "id": "7f1282aa",
   "metadata": {},
   "source": [
    "### Setup for plotting"
   ]
  },
  {
   "cell_type": "code",
   "execution_count": null,
   "id": "272c2bc4",
   "metadata": {},
   "outputs": [],
   "source": [
    "sns.set(\n",
    "    context=\"talk\",\n",
    "    font_scale=1,  # make the font larger; default is pretty small\n",
    "    style=\"ticks\",  # make the background white with black lines\n",
    "    palette=\"colorblind\",  # a color palette that is colorblind friendly!\n",
    ")"
   ]
  },
  {
   "cell_type": "markdown",
   "id": "ef7cbe1c",
   "metadata": {},
   "source": [
    "### Data exploration\n",
    "Gonna remove the Rosetta sfxn scoreterms for now"
   ]
  },
  {
   "cell_type": "code",
   "execution_count": null,
   "id": "20b781a4",
   "metadata": {},
   "outputs": [],
   "source": [
    "rosetta = scores_df[scores_df[\"designed_by\"] == \"rosetta\"]\n",
    "mpnn = scores_df[scores_df[\"designed_by\"] == \"mpnn\"].sample(1100, random_state=0)\n",
    "sample_df = pd.concat([rosetta, mpnn])"
   ]
  },
  {
   "cell_type": "markdown",
   "id": "cf6425bd",
   "metadata": {},
   "source": [
    "### Remove score terms we don't care about"
   ]
  },
  {
   "cell_type": "code",
   "execution_count": null,
   "id": "f76efa7a",
   "metadata": {},
   "outputs": [],
   "source": [
    "from crispy_shifty.protocols.design import beta_nov16_terms\n",
    "\n",
    "sample_df = sample_df[\n",
    "    [term for term in sample_df.columns if term not in beta_nov16_terms]\n",
    "]\n",
    "print(len(sample_df))"
   ]
  },
  {
   "cell_type": "code",
   "execution_count": null,
   "id": "5b25e56a",
   "metadata": {},
   "outputs": [],
   "source": [
    "from crispy_shifty.plotting.utils import histplot_df, pairplot_df\n",
    "\n",
    "to_plot = [\n",
    "    \"best_average_plddts\",\n",
    "    \"best_model\",\n",
    "    \"best_ptm\",\n",
    "    \"best_rmsd_to_input\",\n",
    "    \"cms_AcB\",\n",
    "    \"cms_AnAc\",\n",
    "    \"cms_AnAcB\",\n",
    "    \"cms_AnB\",\n",
    "    \"designed_by\",\n",
    "    \"mean_pae\",\n",
    "    \"mean_pae_interaction\",\n",
    "    \"mean_pae_interaction_AB\",\n",
    "    \"mean_pae_interaction_BA\",\n",
    "    \"mean_pae_intra_chain\",\n",
    "    \"mean_pae_intra_chain_A\",\n",
    "    \"mean_pae_intra_chain_B\",\n",
    "    \"mean_plddt\",\n",
    "    \"mismatch_probability_parent\",\n",
    "    \"pTMscore\",\n",
    "    \"packstat_parent\",\n",
    "    \"pdb\",\n",
    "    \"recycles\",\n",
    "    \"rmsd_to_reference\",\n",
    "    \"sap_parent\",\n",
    "    \"sc_AcB\",\n",
    "    \"sc_AnAc\",\n",
    "    \"sc_AnAcB\",\n",
    "    \"sc_AnB\",\n",
    "    \"sc_all_parent\",\n",
    "    \"score_per_res\",\n",
    "    \"score_per_res_parent\",\n",
    "    \"ss_sc\",\n",
    "    \"state\",\n",
    "    \"topo\",\n",
    "]\n",
    "print(to_plot)"
   ]
  },
  {
   "cell_type": "markdown",
   "id": "715bf302",
   "metadata": {},
   "source": [
    "### Plot before and after mutlistate design"
   ]
  },
  {
   "cell_type": "code",
   "execution_count": null,
   "id": "dda9669a",
   "metadata": {},
   "outputs": [],
   "source": [
    "cols = [\n",
    "    \"best_average_plddts\",\n",
    "    \"best_ptm\",\n",
    "    \"best_rmsd_to_input\",\n",
    "    \"mean_plddt\",\n",
    "    \"pTMscore\",\n",
    "    \"rmsd_to_reference\",\n",
    "]\n",
    "the_fig = histplot_df(\n",
    "    df=sample_df,\n",
    "    cols=cols,\n",
    "    bins=10,\n",
    "    hue=\"designed_by\",\n",
    ")\n",
    "plt.savefig(os.path.join(output_path, \"old_vs_new_af2_scores.png\"))"
   ]
  },
  {
   "cell_type": "code",
   "execution_count": null,
   "id": "61ac0939",
   "metadata": {},
   "outputs": [],
   "source": [
    "sample_df[\"best_model\"] = sample_df[\"best_model\"].astype(str)\n",
    "the_fig = histplot_df(\n",
    "    df=sample_df,\n",
    "    cols=cols,\n",
    "    bins=10,\n",
    "    hue=\"best_model\",\n",
    ")"
   ]
  },
  {
   "cell_type": "code",
   "execution_count": null,
   "id": "0c671071",
   "metadata": {},
   "outputs": [],
   "source": [
    "sample_df[\"best_model\"] = sample_df[\"best_model\"].astype(str)\n",
    "the_fig = histplot_df(\n",
    "    df=sample_df,\n",
    "    cols=cols,\n",
    "    bins=10,\n",
    "    hue=\"topo\",\n",
    ")"
   ]
  },
  {
   "cell_type": "code",
   "execution_count": null,
   "id": "27b82bf2",
   "metadata": {},
   "outputs": [],
   "source": [
    "the_fig = pairplot_df(\n",
    "    df=sample_df,\n",
    "    cols=cols,\n",
    "    hue=\"designed_by\",\n",
    ")\n",
    "plt.savefig(os.path.join(output_path, \"old_vs_new_af2_scores_paired.png\"))"
   ]
  },
  {
   "cell_type": "markdown",
   "id": "215330ff",
   "metadata": {},
   "source": [
    "### Plot interface correllations"
   ]
  },
  {
   "cell_type": "code",
   "execution_count": null,
   "id": "f1ebaec2",
   "metadata": {},
   "outputs": [],
   "source": [
    "cols = [\n",
    "    \"cms_AnAcB\",\n",
    "    \"mean_pae\",\n",
    "    \"mean_pae_interaction\",\n",
    "    \"mean_pae_intra_chain\",\n",
    "    \"mean_plddt\",\n",
    "    \"sc_AnAcB\",\n",
    "]\n",
    "the_fig = histplot_df(\n",
    "    df=sample_df,\n",
    "    cols=cols,\n",
    "    bins=10,\n",
    "    hue=\"designed_by\",\n",
    ")\n",
    "plt.savefig(os.path.join(output_path, \"interface_scores.png\"))"
   ]
  },
  {
   "cell_type": "code",
   "execution_count": null,
   "id": "9e9447e8",
   "metadata": {},
   "outputs": [],
   "source": [
    "sample_df[\"best_model\"] = sample_df[\"best_model\"].astype(str)\n",
    "the_fig = histplot_df(\n",
    "    df=sample_df,\n",
    "    cols=cols,\n",
    "    bins=10,\n",
    "    hue=\"best_model\",\n",
    ")"
   ]
  },
  {
   "cell_type": "code",
   "execution_count": null,
   "id": "e4571883",
   "metadata": {},
   "outputs": [],
   "source": [
    "sample_df[\"best_model\"] = sample_df[\"best_model\"].astype(str)\n",
    "the_fig = histplot_df(\n",
    "    df=sample_df,\n",
    "    cols=cols,\n",
    "    bins=10,\n",
    "    hue=\"topo\",\n",
    ")"
   ]
  },
  {
   "cell_type": "code",
   "execution_count": null,
   "id": "fc799f43",
   "metadata": {},
   "outputs": [],
   "source": [
    "the_fig = pairplot_df(\n",
    "    df=sample_df,\n",
    "    cols=cols,\n",
    "    hue=\"designed_by\",\n",
    ")\n",
    "plt.savefig(os.path.join(output_path, \"interface_scores_paired.png\"))"
   ]
  },
  {
   "cell_type": "markdown",
   "id": "ba3c98e9",
   "metadata": {},
   "source": [
    "### Plot before and after for other scores"
   ]
  },
  {
   "cell_type": "code",
   "execution_count": null,
   "id": "1f8f4c1e",
   "metadata": {},
   "outputs": [],
   "source": [
    "cols = [\n",
    "    \"mean_plddt\",\n",
    "    \"mismatch_probability_parent\",\n",
    "    \"pTMscore\",\n",
    "    \"packstat_parent\",\n",
    "    \"rmsd_to_reference\",\n",
    "    \"sap_parent\",\n",
    "    \"sc_all_parent\",\n",
    "    \"score_per_res\",\n",
    "    \"score_per_res_parent\",\n",
    "    \"ss_sc\",\n",
    "]\n",
    "the_fig = histplot_df(\n",
    "    df=sample_df,\n",
    "    cols=cols,\n",
    "    bins=10,\n",
    "    hue=\"designed_by\",\n",
    ")\n",
    "plt.savefig(os.path.join(output_path, \"old_vs_new_other_scores.png\"))"
   ]
  },
  {
   "cell_type": "code",
   "execution_count": null,
   "id": "77d51a6c",
   "metadata": {},
   "outputs": [],
   "source": [
    "sample_df[\"best_model\"] = sample_df[\"best_model\"].astype(str)\n",
    "the_fig = histplot_df(\n",
    "    df=sample_df,\n",
    "    cols=cols,\n",
    "    bins=10,\n",
    "    hue=\"best_model\",\n",
    ")"
   ]
  },
  {
   "cell_type": "code",
   "execution_count": null,
   "id": "a17bc14f",
   "metadata": {},
   "outputs": [],
   "source": [
    "sample_df[\"best_model\"] = sample_df[\"best_model\"].astype(str)\n",
    "the_fig = histplot_df(\n",
    "    df=sample_df,\n",
    "    cols=cols,\n",
    "    bins=10,\n",
    "    hue=\"topo\",\n",
    ")"
   ]
  },
  {
   "cell_type": "code",
   "execution_count": null,
   "id": "69b8f9f9",
   "metadata": {},
   "outputs": [],
   "source": [
    "the_fig = pairplot_df(\n",
    "    df=sample_df,\n",
    "    cols=cols,\n",
    "    hue=\"designed_by\",\n",
    ")\n",
    "plt.savefig(os.path.join(output_path, \"old_vs_new_other_scores_paired.png\"))"
   ]
  },
  {
   "cell_type": "markdown",
   "id": "188bbc61",
   "metadata": {},
   "source": [
    "### Filter the whole df"
   ]
  },
  {
   "cell_type": "code",
   "execution_count": null,
   "id": "88cb88b1",
   "metadata": {},
   "outputs": [],
   "source": [
    "query = \"mean_plddt > 90 and mean_pae_interaction < 5 and rmsd_to_reference < 1.75\"\n",
    "\n",
    "filtered = scores_df.query(query)\n",
    "len(filtered)"
   ]
  },
  {
   "cell_type": "markdown",
   "id": "8a64d0e4",
   "metadata": {},
   "source": [
    "### Plot topo and scaffold_type fraction before and after"
   ]
  },
  {
   "cell_type": "code",
   "execution_count": null,
   "id": "c1b802be",
   "metadata": {},
   "outputs": [],
   "source": [
    "(\n",
    "    fig,\n",
    "    (ax1, ax2),\n",
    ") = plt.subplots(ncols=2, figsize=(20, 10), tight_layout=True)\n",
    "scores_df.groupby(\"scaffold_type\").size().plot(kind=\"pie\", autopct=\"%1.2f%%\", ax=ax1)\n",
    "ax1.set_ylabel(\"before\", rotation=0)\n",
    "filtered.groupby(\"scaffold_type\").size().plot(kind=\"pie\", autopct=\"%1.2f%%\", ax=ax2)\n",
    "ax2.set_ylabel(\"after\", rotation=0)\n",
    "\n",
    "plt.savefig(os.path.join(output_path, \"filtering_effect_scaffold_type.png\"))"
   ]
  },
  {
   "cell_type": "markdown",
   "id": "6898358e",
   "metadata": {},
   "source": [
    "### Sort the filtered df by length"
   ]
  },
  {
   "cell_type": "code",
   "execution_count": null,
   "id": "69bc3c64",
   "metadata": {},
   "outputs": [],
   "source": [
    "filtered = filtered.sort_values(\"trimmed_length\")"
   ]
  },
  {
   "cell_type": "markdown",
   "id": "a95e7236",
   "metadata": {},
   "source": [
    "### Save a list of outputs\n",
    "Sort by length"
   ]
  },
  {
   "cell_type": "code",
   "execution_count": null,
   "id": "37b59521",
   "metadata": {},
   "outputs": [],
   "source": [
    "simulation_name = \"07_fold_paired_states_Y\"\n",
    "output_path = os.path.join(os.getcwd(), f\"projects/crispy_shifties/{simulation_name}\")\n",
    "\n",
    "with open(os.path.join(output_path, \"folded_paired_states.list\"), \"w\") as f:\n",
    "    for path in tqdm(filtered.index):\n",
    "        print(path, file=f)"
   ]
  },
  {
   "cell_type": "markdown",
   "id": "adb3ab31",
   "metadata": {},
   "source": [
    "### Prototyping blocks"
   ]
  },
  {
   "cell_type": "markdown",
   "id": "71010f60",
   "metadata": {},
   "source": [
    "test `fold_paired_state_Y`"
   ]
  },
  {
   "cell_type": "code",
   "execution_count": null,
   "id": "894073c2",
   "metadata": {
    "tags": []
   },
   "outputs": [],
   "source": [
    "%%time \n",
    "from operator import gt, lt\n",
    "import pyrosetta\n",
    "\n",
    "filter_dict = {\n",
    "    \"mean_plddt\": (gt, 85.0),\n",
    "    \"rmsd_to_reference\": (lt, 2.2),\n",
    "    \"mean_pae_interaction\": (lt, 10.0),\n",
    "}\n",
    "\n",
    "pyrosetta.init()\n",
    "\n",
    "\n",
    "sys.path.insert(0, \"~/projects/crispy_shifty/\") # TODO projects\n",
    "from crispy_shifty.protocols.folding import fold_paired_state_Y\n",
    "\n",
    "t = fold_paired_state_Y(\n",
    "        None,\n",
    "        **{\n",
    "#             'fasta_path': '/global/cfs/cdirs/m3962/projects/crispy_shifty/projects/crispy_shifties/06_mpnn_paired_states/fastas/0000/06_mpnn_paired_states_e6c08d9247294efbb7f84c704711447b.fa',\n",
    "            \"filter_dict\": filter_dict,\n",
    "            \"models\": [1], # TODO\n",
    "            'pdb_path': '/mnt/home/pleung/projects/crispy_shifty/projects/crispy_shifties/06_mpnn_paired_states/decoys/0000/06_mpnn_paired_states_e6c08d9247294efbb7f84c704711447b.pdb.bz2____/mnt/home/pleung/projects/crispy_shifty/projects/crispy_shifties/06_mpnn_paired_states/fastas/0000/06_mpnn_paired_states_e6c08d9247294efbb7f84c704711447b.fa',\n",
    "#             'fasta_path': 'bar.fa',\n",
    "#             \"models\": [1, 2], # TODO\n",
    "#             'pdb_path': 'foo.pdb.bz2',\n",
    "            \n",
    "        }\n",
    ")\n",
    "for i, tppose in enumerate(t):\n",
    "    tppose.pose.dump_pdb(f\"{i}.pdb\")"
   ]
  },
  {
   "cell_type": "code",
   "execution_count": null,
   "id": "915e21f9",
   "metadata": {
    "scrolled": true
   },
   "outputs": [],
   "source": [
    "tppose.pose.scores"
   ]
  }
 ],
 "metadata": {
  "kernelspec": {
   "display_name": "crispy (3.8.12)",
   "language": "python",
   "name": "crispy"
  },
  "language_info": {
   "codemirror_mode": {
    "name": "ipython",
    "version": 3
   },
   "file_extension": ".py",
   "mimetype": "text/x-python",
   "name": "python",
   "nbconvert_exporter": "python",
   "pygments_lexer": "ipython3",
   "version": "3.8.12"
  }
 },
 "nbformat": 4,
 "nbformat_minor": 5
}
