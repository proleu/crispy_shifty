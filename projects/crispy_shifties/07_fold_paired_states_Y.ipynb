{
 "cells": [
  {
   "cell_type": "markdown",
<<<<<<< HEAD
   "id": "1e8625e2",
=======
   "id": "3c726f9b",
>>>>>>> 1318e07 (make list)
   "metadata": {},
   "source": [
    "# Run hacked AlphaFold2 on the designed paired state Y's"
   ]
  },
  {
   "cell_type": "markdown",
<<<<<<< HEAD
   "id": "fcf5b787",
=======
   "id": "7ae54b86",
>>>>>>> 1318e07 (make list)
   "metadata": {},
   "source": [
    "### Imports"
   ]
  },
  {
   "cell_type": "code",
   "execution_count": 1,
<<<<<<< HEAD
   "id": "8ba23b2e",
=======
   "id": "d4013b29",
>>>>>>> 1318e07 (make list)
   "metadata": {},
   "outputs": [
    {
     "name": "stdout",
     "output_type": "stream",
     "text": [
<<<<<<< HEAD
      "running in directory: /global/cfs/cdirs/m3962/projects/crispy_shifty/projects/crispy_shifties\n",
      "running on node: nid001005\n"
=======
      "running in directory: /mnt/projects/crispy_shifty/projects/crispy_shifties\n",
      "running on node: dig29\n"
>>>>>>> 1318e07 (make list)
     ]
    }
   ],
   "source": [
    "%load_ext lab_black\n",
    "# Python standard library\n",
    "from glob import glob\n",
    "import os\n",
    "import socket\n",
    "import sys\n",
    "\n",
    "# 3rd party library imports\n",
    "import dask\n",
    "import matplotlib.pyplot as plt\n",
    "import pandas as pd\n",
    "import pyrosetta\n",
    "import numpy as np\n",
    "import scipy\n",
    "import seaborn as sns\n",
    "from tqdm.auto import tqdm  # jupyter compatible progress bar\n",
    "\n",
    "tqdm.pandas()  # link tqdm to pandas\n",
    "# Notebook magic\n",
    "# save plots in the notebook\n",
    "%matplotlib inline\n",
    "# reloads modules automatically before executing cells\n",
    "%load_ext autoreload\n",
    "%autoreload 2\n",
    "print(f\"running in directory: {os.getcwd()}\")  # where are we?\n",
    "print(f\"running on node: {socket.gethostname()}\")  # what node are we on?"
   ]
  },
  {
   "cell_type": "markdown",
<<<<<<< HEAD
   "id": "494f1acb",
=======
   "id": "fdd6262e",
>>>>>>> 1318e07 (make list)
   "metadata": {},
   "source": [
    "### Set working directory to the root of the crispy_shifty repo\n",
    "Note: We want to use perlmutter"
   ]
  },
  {
   "cell_type": "code",
   "execution_count": 2,
<<<<<<< HEAD
   "id": "344ba6d1",
=======
   "id": "00d5360e",
>>>>>>> 1318e07 (make list)
   "metadata": {},
   "outputs": [],
   "source": [
    "os.chdir(\"/global/cfs/cdirs/m3962/projects/crispy_shifty\")"
   ]
  },
  {
   "cell_type": "markdown",
<<<<<<< HEAD
   "id": "a53c2342",
=======
   "id": "c8a23ef7",
>>>>>>> 1318e07 (make list)
   "metadata": {},
   "source": [
    "### Fix the paths\n",
    "Necessary because we are on perlmutter"
   ]
  },
  {
   "cell_type": "code",
   "execution_count": 3,
<<<<<<< HEAD
   "id": "0e37d60c",
=======
   "id": "bbdd8d56",
>>>>>>> 1318e07 (make list)
   "metadata": {},
   "outputs": [
    {
     "name": "stderr",
     "output_type": "stream",
     "text": [
      "/global/cfs/cdirs/m3962/projects/crispy_shifty/envs/crispy/lib/python3.8/site-packages/dask_jobqueue/core.py:20: FutureWarning: tmpfile is deprecated and will be removed in a future release. Please use dask.utils.tmpfile instead.\n",
      "  from distributed.utils import tmpfile\n"
     ]
    }
   ],
   "source": [
    "from crispy_shifty.utils.io import fix_path_prefixes\n",
    "\n",
    "pairs = os.path.join(\n",
    "    os.getcwd(),\n",
    "    \"projects/crispy_shifties/06_mpnn_paired_states/mpnn_paired_states.pair\",\n",
    ")\n",
    "new_pairs = fix_path_prefixes(\n",
    "    find=\"/mnt\",\n",
    "    replace=\"/global/cfs/cdirs/m3962\",\n",
    "    file=pairs,\n",
    "    overwrite=True,\n",
    ")"
   ]
  },
  {
   "cell_type": "markdown",
<<<<<<< HEAD
   "id": "baf15654",
=======
   "id": "53ae81b0",
>>>>>>> 1318e07 (make list)
   "metadata": {
    "tags": []
   },
   "source": [
    "### Run AF2 on the designed paired states Y's"
   ]
  },
  {
   "cell_type": "code",
<<<<<<< HEAD
   "execution_count": null,
   "id": "8b60b02b",
=======
   "execution_count": 4,
   "id": "af37592f",
>>>>>>> 1318e07 (make list)
   "metadata": {},
   "outputs": [],
   "source": [
    "from crispy_shifty.utils.io import gen_array_tasks\n",
    "\n",
    "simulation_name = \"07_fold_paired_states_Y\"\n",
    "design_list_file = os.path.join(\n",
    "    os.getcwd(),\n",
    "    \"projects/crispy_shifties/06_mpnn_paired_states/mpnn_paired_states.pair\",\n",
    ")\n",
    "output_path = os.path.join(f\"/pscratch/sd/p/pleung/{simulation_name}\")\n",
    "\n",
    "options = \" \".join(\n",
    "    [\n",
    "        \"out:level 200\",\n",
    "    ]\n",
    ")\n",
    "extra_kwargs = {\"models\": \"1\"}\n",
    "\n",
    "gen_array_tasks(\n",
    "    distribute_func=\"crispy_shifty.protocols.folding.fold_paired_state_Y\",\n",
    "    design_list_file=design_list_file,\n",
    "    output_path=output_path,\n",
    "    perlmutter_mode=True,\n",
    "    nstruct=1,\n",
    "    nstruct_per_task=1,\n",
    "    options=options,\n",
    "    extra_kwargs=extra_kwargs,\n",
    "    simulation_name=simulation_name,\n",
    "    time=\"29:30\",\n",
    ")"
   ]
  },
  {
   "cell_type": "markdown",
<<<<<<< HEAD
   "id": "ad856284",
=======
   "id": "10051f42",
>>>>>>> 1318e07 (make list)
   "metadata": {},
   "source": [
    "### Set working directory to the root of the crispy_shifty repo\n",
    "Note: We rsync the perlmutter results, now back on the digs"
   ]
  },
  {
   "cell_type": "code",
<<<<<<< HEAD
   "execution_count": null,
   "id": "8ff1ecce",
=======
   "execution_count": 2,
   "id": "60aafe35",
>>>>>>> 1318e07 (make list)
   "metadata": {},
   "outputs": [],
   "source": [
    "os.chdir(\"/projects/crispy_shifty\")"
   ]
  },
  {
   "cell_type": "markdown",
<<<<<<< HEAD
   "id": "5cbbdc7c",
=======
   "id": "2c1ddbed",
>>>>>>> 1318e07 (make list)
   "metadata": {},
   "source": [
    "### Collect scorefiles of designed paired state Ys and concatenate\n",
    "TODO change to projects dir"
   ]
  },
  {
   "cell_type": "code",
<<<<<<< HEAD
   "execution_count": null,
   "id": "29838df2",
=======
   "execution_count": 3,
   "id": "99baca0e",
>>>>>>> 1318e07 (make list)
   "metadata": {
    "scrolled": true,
    "tags": []
   },
<<<<<<< HEAD
   "outputs": [],
=======
   "outputs": [
    {
     "name": "stderr",
     "output_type": "stream",
     "text": [
      "/projects/crispy_shifty/envs/crispy/lib/python3.8/site-packages/dask_jobqueue/core.py:20: FutureWarning: tmpfile is deprecated and will be removed in a future release. Please use dask.utils.tmpfile instead.\n",
      "  from distributed.utils import tmpfile\n"
     ]
    }
   ],
>>>>>>> 1318e07 (make list)
   "source": [
    "sys.path.insert(0, \"/projects/crispy_shifty\")\n",
    "from crispy_shifty.utils.io import collect_score_file\n",
    "\n",
    "simulation_name = \"07_fold_paired_states_Y\"\n",
    "output_path = os.path.join(os.getcwd(), f\"projects/crispy_shifties/{simulation_name}\")\n",
    "\n",
    "if not os.path.exists(os.path.join(output_path, \"scores.json\")):\n",
    "    collect_score_file(output_path, \"scores\")"
   ]
  },
  {
   "cell_type": "markdown",
<<<<<<< HEAD
   "id": "f5a5b345",
=======
   "id": "289fb36d",
>>>>>>> 1318e07 (make list)
   "metadata": {},
   "source": [
    "### Load resulting concatenated scorefile\n",
    "TODO might have to switch to a dask accelerated approach for production"
   ]
  },
  {
   "cell_type": "code",
<<<<<<< HEAD
   "execution_count": null,
   "id": "534d9103",
=======
   "execution_count": 4,
   "id": "3512a495",
>>>>>>> 1318e07 (make list)
   "metadata": {
    "scrolled": true,
    "tags": []
   },
   "outputs": [
    {
     "data": {
      "application/vnd.jupyter.widget-view+json": {
       "model_id": "05e389a59c554dc083ee0a681eb5494a",
       "version_major": 2,
       "version_minor": 0
      },
      "text/plain": [
       "  0%|          | 0/97000 [00:00<?, ?it/s]"
      ]
     },
     "metadata": {},
     "output_type": "display_data"
    }
   ],
   "source": [
    "sys.path.insert(0, \"/projects/crispy_shifty\")\n",
    "from crispy_shifty.utils.io import parse_scorefile_linear\n",
    "\n",
    "output_path = os.path.join(os.getcwd(), f\"projects/crispy_shifties/{simulation_name}\")\n",
    "\n",
    "if not os.path.exists(os.path.join(output_path, \"scores.csv\")):\n",
    "    scores_df = parse_scorefile_linear(os.path.join(output_path, \"scores.json\"))"
   ]
  },
  {
   "cell_type": "markdown",
<<<<<<< HEAD
   "id": "2b2f6993",
=======
   "id": "0b525221",
>>>>>>> 1318e07 (make list)
   "metadata": {},
   "source": [
    "### Dump scores_df as a CSV and then reload, for performance reasons"
   ]
  },
  {
   "cell_type": "code",
<<<<<<< HEAD
   "execution_count": null,
   "id": "64879d67",
=======
   "execution_count": 5,
   "id": "fe6c3a81",
>>>>>>> 1318e07 (make list)
   "metadata": {},
   "outputs": [],
   "source": [
    "if not os.path.exists(os.path.join(output_path, \"scores.csv\")):\n",
    "    scores_df.to_csv(os.path.join(output_path, \"scores.csv\"))\n",
    "\n",
    "scores_df = pd.read_csv(os.path.join(output_path, \"scores.csv\"), index_col=\"Unnamed: 0\")"
   ]
  },
  {
   "cell_type": "markdown",
<<<<<<< HEAD
   "id": "61607c65",
=======
   "id": "1b7087ac",
>>>>>>> 1318e07 (make list)
   "metadata": {},
   "source": [
    "### Setup for plotting"
   ]
  },
  {
   "cell_type": "code",
<<<<<<< HEAD
   "execution_count": null,
   "id": "4f81a2cf",
=======
   "execution_count": 6,
   "id": "d770e829",
>>>>>>> 1318e07 (make list)
   "metadata": {},
   "outputs": [],
   "source": [
    "sns.set(\n",
    "    context=\"talk\",\n",
    "    font_scale=1,  # make the font larger; default is pretty small\n",
    "    style=\"ticks\",  # make the background white with black lines\n",
    "    palette=\"colorblind\",  # a color palette that is colorblind friendly!\n",
    ")"
   ]
  },
  {
   "cell_type": "markdown",
<<<<<<< HEAD
   "id": "4074723e",
=======
   "id": "e50d77ea",
>>>>>>> 1318e07 (make list)
   "metadata": {},
   "source": [
    "### Data exploration\n",
    "Gonna remove the Rosetta sfxn scoreterms for now"
   ]
  },
  {
   "cell_type": "code",
<<<<<<< HEAD
   "execution_count": null,
   "id": "4dce353d",
=======
   "execution_count": 7,
   "id": "90332fea",
>>>>>>> 1318e07 (make list)
   "metadata": {},
   "outputs": [],
   "source": [
    "rosetta = scores_df[scores_df[\"designed_by\"] == \"rosetta\"]\n",
    "mpnn = scores_df[scores_df[\"designed_by\"] == \"mpnn\"].sample(1000, random_state=0)\n",
    "sample_df = pd.concat([rosetta, mpnn])"
   ]
  },
  {
   "cell_type": "markdown",
<<<<<<< HEAD
   "id": "2063b310",
=======
   "id": "a1312ff9",
>>>>>>> 1318e07 (make list)
   "metadata": {},
   "source": [
    "### Remove score terms we don't care about"
   ]
  },
  {
   "cell_type": "code",
   "execution_count": null,
<<<<<<< HEAD
   "id": "848b8a24",
=======
   "id": "d458bb5c",
>>>>>>> 1318e07 (make list)
   "metadata": {},
   "outputs": [],
   "source": [
    "from crispy_shifty.protocols.design import beta_nov16_terms\n",
    "\n",
    "sample_df = sample_df[\n",
    "    [term for term in sample_df.columns if term not in beta_nov16_terms]\n",
    "]\n",
    "print(len(sample_df))"
   ]
  },
  {
   "cell_type": "code",
   "execution_count": null,
<<<<<<< HEAD
   "id": "1d0c8ab5",
=======
   "id": "389ea36b",
>>>>>>> 1318e07 (make list)
   "metadata": {},
   "outputs": [],
   "source": [
    "from crispy_shifty.plotting.utils import histplot_df, pairplot_df\n",
    "\n",
    "to_plot = [\n",
    "    \"best_average_plddts\",\n",
    "    \"best_model\",\n",
    "    \"best_ptm\",\n",
    "    \"best_rmsd_to_input\",\n",
    "    \"cms_AcB\",\n",
    "    \"cms_AnAc\",\n",
    "    \"cms_AnAcB\",\n",
    "    \"cms_AnB\",\n",
    "    \"designed_by\",\n",
    "    \"mean_pae\",\n",
    "    \"mean_pae_interaction\",\n",
    "    \"mean_pae_interaction_AB\",\n",
    "    \"mean_pae_interaction_BA\",\n",
    "    \"mean_pae_intra_chain\",\n",
    "    \"mean_pae_intra_chain_A\",\n",
    "    \"mean_pae_intra_chain_B\",\n",
    "    \"mean_plddt\",\n",
    "    \"mismatch_probability_parent\",\n",
    "    \"pTMscore\",\n",
    "    \"packstat_parent\",\n",
    "    \"pdb\",\n",
    "    \"recycles\",\n",
    "    \"rmsd_to_reference\",\n",
    "    \"sap_parent\",\n",
    "    \"sc_AcB\",\n",
    "    \"sc_AnAc\",\n",
    "    \"sc_AnAcB\",\n",
    "    \"sc_AnB\",\n",
    "    \"sc_all_parent\",\n",
    "    \"score_per_res\",\n",
    "    \"score_per_res_parent\",\n",
    "    \"ss_sc\",\n",
    "    \"state\",\n",
    "    \"topo\",\n",
    "]\n",
    "print(to_plot)"
   ]
  },
  {
   "cell_type": "markdown",
<<<<<<< HEAD
   "id": "434ebc1c",
=======
   "id": "8a5cfbd8",
>>>>>>> 1318e07 (make list)
   "metadata": {},
   "source": [
    "### Plot before and after mutlistate design"
   ]
  },
  {
   "cell_type": "code",
   "execution_count": null,
<<<<<<< HEAD
   "id": "600f013d",
=======
   "id": "87fde78a",
>>>>>>> 1318e07 (make list)
   "metadata": {},
   "outputs": [],
   "source": [
    "cols = [\n",
    "    \"best_average_plddts\",\n",
    "    \"best_ptm\",\n",
    "    \"best_rmsd_to_input\",\n",
    "    \"mean_plddt\",\n",
    "    \"pTMscore\",\n",
    "    \"rmsd_to_reference\",\n",
    "]\n",
    "the_fig = histplot_df(\n",
    "    df=sample_df,\n",
    "    cols=cols,\n",
    "    bins=10,\n",
    "    hue=\"designed_by\",\n",
    ")\n",
    "plt.savefig(os.path.join(output_path, \"old_vs_new_af2_scores.png\"))"
   ]
  },
  {
   "cell_type": "code",
   "execution_count": null,
<<<<<<< HEAD
   "id": "371cc618",
=======
   "id": "e95e50b3",
>>>>>>> 1318e07 (make list)
   "metadata": {},
   "outputs": [],
   "source": [
    "sample_df[\"best_model\"] = sample_df[\"best_model\"].astype(str)\n",
    "the_fig = histplot_df(\n",
    "    df=sample_df,\n",
    "    cols=cols,\n",
    "    bins=10,\n",
    "    hue=\"best_model\",\n",
    ")"
   ]
  },
  {
   "cell_type": "code",
   "execution_count": null,
<<<<<<< HEAD
   "id": "fc4f5978",
=======
   "id": "c142a638",
>>>>>>> 1318e07 (make list)
   "metadata": {},
   "outputs": [],
   "source": [
    "sample_df[\"best_model\"] = sample_df[\"best_model\"].astype(str)\n",
    "the_fig = histplot_df(\n",
    "    df=sample_df,\n",
    "    cols=cols,\n",
    "    bins=10,\n",
    "    hue=\"topo\",\n",
    ")"
   ]
  },
  {
   "cell_type": "code",
   "execution_count": null,
<<<<<<< HEAD
   "id": "3cbec0bd",
=======
   "id": "fa730e04",
>>>>>>> 1318e07 (make list)
   "metadata": {},
   "outputs": [],
   "source": [
    "the_fig = pairplot_df(\n",
    "    df=sample_df,\n",
    "    cols=cols,\n",
    "    hue=\"designed_by\",\n",
    ")\n",
    "plt.savefig(os.path.join(output_path, \"old_vs_new_af2_scores_paired.png\"))"
   ]
  },
  {
   "cell_type": "markdown",
<<<<<<< HEAD
   "id": "6de68c3e",
=======
   "id": "96122890",
>>>>>>> 1318e07 (make list)
   "metadata": {},
   "source": [
    "### Plot interface correllations"
   ]
  },
  {
   "cell_type": "code",
   "execution_count": null,
<<<<<<< HEAD
   "id": "aa72ec72",
=======
   "id": "37076830",
>>>>>>> 1318e07 (make list)
   "metadata": {},
   "outputs": [],
   "source": [
    "cols = [\n",
    "    \"cms_AnAcB\",\n",
    "    \"mean_pae\",\n",
    "    \"mean_pae_interaction\",\n",
    "    \"mean_pae_intra_chain\",\n",
    "    \"mean_plddt\",\n",
    "    \"sc_AnAcB\",\n",
    "]\n",
    "the_fig = histplot_df(\n",
    "    df=sample_df,\n",
    "    cols=cols,\n",
    "    bins=10,\n",
    "    hue=\"designed_by\",\n",
    ")\n",
    "plt.savefig(os.path.join(output_path, \"interface_scores.png\"))"
   ]
  },
  {
   "cell_type": "code",
   "execution_count": null,
<<<<<<< HEAD
   "id": "b5635150",
=======
   "id": "a7e860ba",
>>>>>>> 1318e07 (make list)
   "metadata": {},
   "outputs": [],
   "source": [
    "sample_df[\"best_model\"] = sample_df[\"best_model\"].astype(str)\n",
    "the_fig = histplot_df(\n",
    "    df=sample_df,\n",
    "    cols=cols,\n",
    "    bins=10,\n",
    "    hue=\"best_model\",\n",
    ")"
   ]
  },
  {
   "cell_type": "code",
   "execution_count": null,
<<<<<<< HEAD
   "id": "d2a83d83",
=======
   "id": "88a65eee",
>>>>>>> 1318e07 (make list)
   "metadata": {},
   "outputs": [],
   "source": [
    "sample_df[\"best_model\"] = sample_df[\"best_model\"].astype(str)\n",
    "the_fig = histplot_df(\n",
    "    df=sample_df,\n",
    "    cols=cols,\n",
    "    bins=10,\n",
    "    hue=\"topo\",\n",
    ")"
   ]
  },
  {
   "cell_type": "code",
   "execution_count": null,
<<<<<<< HEAD
   "id": "e066673a",
=======
   "id": "48500fa6",
>>>>>>> 1318e07 (make list)
   "metadata": {},
   "outputs": [],
   "source": [
    "the_fig = pairplot_df(\n",
    "    df=sample_df,\n",
    "    cols=cols,\n",
    "    hue=\"designed_by\",\n",
    ")\n",
    "plt.savefig(os.path.join(output_path, \"interface_scores_paired.png\"))"
   ]
  },
  {
   "cell_type": "markdown",
<<<<<<< HEAD
   "id": "17d9c5ea",
=======
   "id": "efe053cc",
>>>>>>> 1318e07 (make list)
   "metadata": {},
   "source": [
    "### Plot before and after for other scores"
   ]
  },
  {
   "cell_type": "code",
   "execution_count": null,
<<<<<<< HEAD
   "id": "15b0254b",
=======
   "id": "0631b1f5",
>>>>>>> 1318e07 (make list)
   "metadata": {},
   "outputs": [],
   "source": [
    "cols = [\n",
    "    \"mean_plddt\",\n",
    "    \"mismatch_probability_parent\",\n",
    "    \"pTMscore\",\n",
    "    \"packstat_parent\",\n",
    "    \"rmsd_to_reference\",\n",
    "    \"sap_parent\",\n",
    "    \"sc_all_parent\",\n",
    "    \"score_per_res\",\n",
    "    \"score_per_res_parent\",\n",
    "    \"ss_sc\",\n",
    "]\n",
    "the_fig = histplot_df(\n",
    "    df=sample_df,\n",
    "    cols=cols,\n",
    "    bins=10,\n",
    "    hue=\"designed_by\",\n",
    ")\n",
    "plt.savefig(os.path.join(output_path, \"old_vs_new_other_scores.png\"))"
   ]
  },
  {
   "cell_type": "code",
   "execution_count": null,
<<<<<<< HEAD
   "id": "5172c12a",
=======
   "id": "3452f736",
>>>>>>> 1318e07 (make list)
   "metadata": {},
   "outputs": [],
   "source": [
    "sample_df[\"best_model\"] = sample_df[\"best_model\"].astype(str)\n",
    "the_fig = histplot_df(\n",
    "    df=sample_df,\n",
    "    cols=cols,\n",
    "    bins=10,\n",
    "    hue=\"best_model\",\n",
    ")"
   ]
  },
  {
   "cell_type": "code",
   "execution_count": null,
<<<<<<< HEAD
   "id": "e01ed980",
=======
   "id": "532570a5",
>>>>>>> 1318e07 (make list)
   "metadata": {},
   "outputs": [],
   "source": [
    "sample_df[\"best_model\"] = sample_df[\"best_model\"].astype(str)\n",
    "the_fig = histplot_df(\n",
    "    df=sample_df,\n",
    "    cols=cols,\n",
    "    bins=10,\n",
    "    hue=\"topo\",\n",
    ")"
   ]
  },
  {
   "cell_type": "code",
   "execution_count": null,
<<<<<<< HEAD
   "id": "4824ba6d",
=======
   "id": "0d0b6adb",
>>>>>>> 1318e07 (make list)
   "metadata": {},
   "outputs": [],
   "source": [
    "the_fig = pairplot_df(\n",
    "    df=sample_df,\n",
    "    cols=cols,\n",
    "    hue=\"designed_by\",\n",
    ")\n",
    "plt.savefig(os.path.join(output_path, \"old_vs_new_other_scores_paired.png\"))"
   ]
  },
  {
   "cell_type": "markdown",
<<<<<<< HEAD
   "id": "b5623717",
=======
   "id": "eb503fce",
>>>>>>> 1318e07 (make list)
   "metadata": {},
   "source": [
    "### Filter the whole df"
   ]
  },
  {
   "cell_type": "code",
<<<<<<< HEAD
   "execution_count": null,
   "id": "d1f6086b",
=======
   "execution_count": 8,
   "id": "2cb88785",
>>>>>>> 1318e07 (make list)
   "metadata": {},
   "outputs": [
    {
     "data": {
      "text/plain": [
       "13725"
      ]
     },
     "execution_count": 8,
     "metadata": {},
     "output_type": "execute_result"
    }
   ],
   "source": [
    "query = \"mean_plddt > 90 and mean_pae_interaction < 5 and rmsd_to_reference < 1.75\"\n",
    "\n",
    "filtered = scores_df.query(query)\n",
    "len(filtered)"
   ]
  },
  {
   "cell_type": "markdown",
<<<<<<< HEAD
   "id": "8d09acbf",
=======
   "id": "a4bb471c",
>>>>>>> 1318e07 (make list)
   "metadata": {},
   "source": [
    "### Plot topo and scaffold_type fraction before and after"
   ]
  },
  {
   "cell_type": "code",
<<<<<<< HEAD
   "execution_count": null,
   "id": "88b0a258",
=======
   "execution_count": 9,
   "id": "ecb305b6",
>>>>>>> 1318e07 (make list)
   "metadata": {},
   "outputs": [
    {
     "data": {
      "image/png": "iVBORw0KGgoAAAANSUhEUgAABYcAAAJiCAYAAACcpn1QAAAAOXRFWHRTb2Z0d2FyZQBNYXRwbG90bGliIHZlcnNpb24zLjQuMywgaHR0cHM6Ly9tYXRwbG90bGliLm9yZy/MnkTPAAAACXBIWXMAAAsTAAALEwEAmpwYAAEAAElEQVR4nOzdd1xVdR8H8M+9l3m57I0oqOgVF25ciGJWzjLTco/KyiztsTIfLTM1tawng8qR5UhTc0vumSPFkTNxL/a+7LvOef5AUAIUFDjA/bxfL151z/idD7fEw/f+zvcnE0VRBBERERERERERERGZFLnUAYiIiIiIiIiIiIio8rE4TERERERERERERGSCWBwmIiIiIiIiIiIiMkEsDhMRERERERERERGZIBaHiYiIiIiIiIiIiEwQi8NEREREREREREREJojFYSIiIiIiIiIiIiITxOIwERERERERERERkQlicZiIiIiIiIiIiIjIBLE4TERERERERERERGSCWBwmIiIiIiIiIiIiMkEsDhMRERERERERERGZIBaHiYiIiIiIiIiIiEwQi8NEREREREREREREJojFYSIiIiIiIiIiIiITxOIwERERERERERERkQlicZiIiIiIiIiIiIjIBLE4TERERERERERERGSCWBwmIiIiIiIiIiIiMkEsDhMRERERERERERGZIBaHiYiIiIiIiIiIiEwQi8NEREREREREREREJojFYSIiIiIiIiIiIiITxOIwERERERERERERkQlicZiIiIiIiIiIiIjIBLE4TERERERERERERGSCWBwmIiIiIiIiIiIiMkEsDhMRERERERERERGZIBaHiYiIiIiIiIiIiEwQi8NEREREREREREREJojFYSIiIiIiIiIiIiITxOIwERERERERERERkQlicZiIiIiIiIiIiIjIBLE4TERERERERERERGSCWBwmIiIiIiIiIiIiMkEsDhMRERERERERERGZIBaHiYhM3NmzZxEaGor09PRC20NCQvDxxx+XaayQkBCo1Wqo1Wr4+/ujTZs26Nu3L6ZOnYrTp08XOT4qKgpqtRrLli0rdrzZs2dDrVYX2jZ8+PCCa6jVagQEBKBfv35Yvnw5RFEsU97SOnr0KPr374+AgACo1WqcOHECoaGhRbKp1WqEhoYWvC7pva0KTpw4UfC9EBERERERkWkykzoAERFJ6+zZswgLC0P//v1hZ2dXsD0sLAwqlarM47Vt2xYffPABACAzMxPXr1/Hli1bsH79egwZMgTTp09/6sy+vr6YN28eACAxMRHLly/HF198gaysLIwbN+6px3+YIAh4//334efnh0WLFsHKygp+fn7w8fFBUFDQI88t6b0lIiIiIiIiqgpYHCYiomI1btz4ic6zs7NDixYtCl537twZI0aMwPTp07F69Wr4+flh6NChT5XNysqq0DU6dOiAbt26Yd26deVeHE5MTIRGo0GPHj3Qvn37gu0qlQoeHh7leq3S0ul0sLCwkOTaREREREREVHOwrQQRkQkLDQ3FnDlzAADdu3cvaNUQFRX1RG0lSiKXyzFt2jQ4Ojpi6dKl5TLmw1QqFXx8fJCcnFxoe05ODubOnYuQkBA0a9YMgYGBGDRoEA4cOFCqcUNDQ9GlSxcAwNy5c6FWqxESElKw799tJf59bknvLZA3I3nZsmXo27dvQbaPPvoIiYmJhcYJCQnBuHHjEB4ejj59+qBp06YIDw8HAMTFxWHKlCno3LkzmjZtiueee67YFh03btzAa6+9hoCAAAQGBmLq1KnIzMws1XtARERERERENRdnDhMRmbCBAwciIyMDy5cvR1hYGFxdXQEAbm5u5X4tS0tLdOrUCeHh4YiNjYWnp2fBPlEUYTAYipxT2h7CRqMRcXFx8PX1LbR9zpw52LNnDyZMmIB69eohIyMDkZGRSEtLK9W4AwcORKNGjTB+/HiMHDkSvXr1KvWM3ce9t1OmTMH27dsxZswYtGvXDvHx8ViwYAGGDx+OjRs3QqlUFox1/vx53LhxA+PGjYObmxvc3NwQHx+Pl19+GTY2Nnj//ffh6emJo0eP4ssvv0RaWhomTpwIIG/m87Bhw2BpaYnp06fD2dkZW7duxcyZM0v1fRAREREREVHNxeIwEZEJ8/DwgJeXFwDA398f3t7eFXq9/IJwYmJioeLw3LlzMXfu3DKNlV9MTk5OxqJFi5CWloZZs2YVOubMmTPo27cvXn311YJt3bt3L/U1PDw8Cq7j5eVVqJVFac4t6b09c+YMNm/ejE8//bRQiw1/f3/0798fmzZtKrQ9LS0Na9asKTTGJ598gtzcXGzcuLGg4NyxY0fo9XosXboUo0aNgoODA5YtW4bU1FRs3boVDRs2BAAEBwdj1KhRiI2NLfX3Q0RERERERDUPi8NERFRpSpoJPHr0aPTu3bvI9mXLlhW0UHhYZGQkmjRpUmjbjBkz0LVr10Lbmjdvjo0bN8LOzg5BQUHw9/evEr16Dx06BLlcjt69exeaMd2gQQO4u7sjIiKiUHG4UaNGRQr3hw4dQocOHeDk5FRojODgYCxfvhznzp1DcHAwIiIi0KhRo4LCcL6+ffvir7/+qqDvkIiIiIiIiKoDFoeJiKjS5M9U/XfbCg8PDzRr1qzI8U5OTsWO4+vri/nz50MURdy7dw+hoaGYOXMmGjZsiFatWhUcN23aNLi5uWHbtm0IDQ2FUqlE9+7d8eGHH8Ld3b0cv7OySU5OhiAICAwMLHZ/ampqodf5LSn+Pcbu3buLFMn/PUZaWhp8fHyK7C9uTCIiIiIiIjItLA4TEVGl0Gq1OHbsGGrXrg0PD4+nGsvKyqqgmNy8eXO0bNkSvXv3xmeffYbNmzdDLs9bb1WpVGLixImYOHEikpOTsX//fsyfPx+xsbFYtWrVU39PT8rR0RFyuRyrV6+GmVnRv4ptbGwKvZbJZMWO0bhxY7z77rvFXiN/prGDgwOSkpKK7P/3wndERGQ6zp49i8OHD2PkyJGws7Mr2B4SEoJ27dqVqdVTSEgIoqOjAeQtQGtjYwNPT080b94cL730Elq3bl3o+KioKHTv3h1TpkzBqFGjiow3e/ZsrFixAleuXCnYNnz4cERERBS8trKygo+PDwYMGIARI0YU+/fk0zp69Cjmz5+PmzdvIjc3FytWrEBERATCwsIKZStvGzduxJQpU7Bv374Kb/dFREQEsDhMRGTy8tssaLXaCruGIAiYNWsWUlNTMWHChHIf38vLC2+88QYWLFiAHTt2FNuiwtnZGQMHDsSZM2ewe/fucs9QnJLe2y5dumDx4sVISkpCjx49nmjsoKAg/PXXX6hbty5UKlWJxwUGBuKnn37CtWvX0KBBg4Lt27Zte6LrEhFR9Xf27FmEhYWhf//+hYrDYWFhj/w7pSRt27bFBx98AADIzMzE9evXsWXLFqxfvx5DhgzB9OnTnzqzr68v5s2bByDvA87ly5fjiy++QFZWFsaNG/fU4z9MEAS8//778PPzw6JFi2BlZQU/Pz/4+PggKCioXK9FREQkNRaHiYhMXH4v2l9//RX9+vWDmZkZ1Gr1E4+Xnp6Os2fPAgCysrIKfkG8dOkShg8fjsGDB5dH7CJGjRqF1atXIywsDD179oRcLsegQYPQtWtXNGzYEHZ2doiMjMSuXbsQHBxcIRn+raT3tm3btnjppZfw0UcfYfjw4WjdujUsLCwQHx+PEydOIDg4GM8///wjx544cSKOHj2KwYMHY/jw4fDx8UF2djbu3LmDAwcO4Oeff4ZCocDIkSOxYcMGvPHGG5gwYQKcnJywdetW3L59uxLeASIiqk4aN278ROfZ2dkVWrS1c+fOGDFiBKZPn47Vq1fDz8+vUC/9J2FlZVXoGh06dEC3bt2wbt26ci8OJyYmQqPRoEePHmjfvn3BdpVK9dRPPxEREVU1LA4TEZm4Nm3aYOzYsdi0aRPWrFkDQRCwb98+AMW3M3ickydP4pVXXoFMJoNSqYSXlxcCAgIwbdq0Qv2Ay5tSqcS4ceMwY8YMhIeHo1+/fmjXrh327t2LX375BVqtFh4eHhgyZEi5/xJZkpLeW29vb3zxxRcICAjAunXrsHz5csjlcri5uaFdu3alKs67u7tjw4YN+P777/Hjjz8iMTERKpUKvr6+CAoKKmit4erqil9//RWzZ8/G9OnTYW1tjWeeeQaffPJJpb0PRERUdYSGhiIsLAwA0L1794Lt+/btw4gRI8rcVqIkcrkc06ZNw549e7B06dKnLg7/m0qlgo+PT5EWDzk5OViwYAF2796NxMREKJVK+Pj44O2330a3bt0eO+7D78/cuXMxd+5c1KpVC/v37y/Y9/A11Wo1RowYAX9/fyxevBixsbHw8fHB+++/X+h6d+7cwY8//ohTp04hISEBjo6OCAgIwKRJk4pdG4CIiKiysDhMRESYNGkSJk2aVGhbZmYmHBwcyjTO/v37y3S8t7f3I/v2TZ06FVOnTi20beXKlSUeP2TIEAwZMqTgdf4jrk+jpIzvvvtukX6/xR1X3HsL5BXeX331Vbz66quPvP6j3lNXV1d89tlnjzwfAOrXr4+ff/65yPaK7JlIRERV08CBA5GRkYHly5cjLCysYIHSfy8WWx4sLS3RqVMnhIeHIzY2Fp6engX7RFGEwWAoco4oiqUa22g0Ii4uDr6+voW2z5kzB3v27MGECRNQr149ZGRkIDIyEmlpaaUad+DAgWjUqBHGjx+PkSNHolevXgVtokqyb98+nDt3DhMmTIBSqcRPP/2E8ePHY+fOnahduzYAICEhAU5OTpg8eXLBegC//fYbBg0ahO3bt8PZ2blU+YiIiMobi8NERFTItWvXcPDgQWg0GgQEBEgdh4iIiMqRh4cHvLy8AAD+/v4VvuhZfkE4MTGxUHE4f1ZuWeQXk5OTk7Fo0SKkpaVh1qxZhY45c+YM+vbtW+jD14dnSD+Oh4dHwXW8vLwKtbIoiV6vx7Jly6BUKgEATZo0QVBQELZv344333wTQF5f5rZt2xacYzQa0bVrV3Ts2BHh4eEYOXJkqTMSERGVJxaHiYiokM8//xy3bt3C6NGj8dxzzwFAsTN7HiaXywvaGFQXoijCaDQ+8hiFQlEhK6ATERGZipJmAo8ePbrYBWSXLVuG8PDwItsjIyPRpEmTQttmzJiBrl27FtrWvHlzbNy4EXZ2dggKCoK/v/9jZ/4+rfbt2xcUhgHAxcUFzs7OiI6OLtim0+mwYsUKbN68GdHR0cjOzi7Yd/PmzQrNR0RE9CgsDhMRUSHFtW349y9j/9a/f/9y6U9YmTZt2oQpU6Y88pgVK1YgMDCwkhIRERHVPLGxsQCKtq3w8PBAs2bNihzv5ORU7Di+vr6YP38+RFHEvXv3EBoaipkzZ6Jhw4aF1jSYNm0a3NzcsG3bNoSGhkKpVKJ79+748MMP4e7uXo7f2QPFteGysLCATqcreD1nzhysXbsWY8eORdu2bWFrawuZTIaxY8dCq9VWSC4iIqLSYHGYiIgea/369Y/c7+joWElJyk+3bt0e+33VrVu3ktIQERHVPFqtFseOHUPt2rXh4eHxVGNZWVkVFJObN2+Oli1bonfv3vjss8+wefPmgieYlEolJk6ciIkTJyI5ORn79+/H/PnzERsbi1WrVj319/SkwsPD8cILL2DixIkF23Q6HTQajWSZiIiIABaHiYioFIqb2VPdOTo6VsuiNhER0dPKb7NQkTNWBUHArFmzkJqaigkTJpT7+F5eXnjjjTewYMEC7Nixo9gWFc7Ozhg4cCDOnDmD3bt3l3uGspDJZDA3Ny+0bcOGDY9tcUVERFTRWBwmIiIiIiIyIQ0bNgQA/Prrr+jXrx/MzMygVqufeLz09HScPXsWAJCVlYXr169jy5YtuHTpEoYPH47BgweXR+wiRo0ahdWrVyMsLAw9e/aEXC7HoEGD0LVrVzRs2BB2dnaIjIzErl27EBwcXCEZSis4OBibNm1CvXr1oFarcfr0aaxZswZ2dnaS5iIiImJxmIiIiIiIyIS0adMGY8eOxaZNm7BmzRoIgoB9+/YBwBMtxHry5Em88sorkMlkUCqV8PLyQkBAAKZNm1aoH3B5UyqVGDduHGbMmIHw8HD069cP7dq1w969e/HLL79Aq9XCw8MDQ4YMwbhx4yosR2lMmzYNCoUCCxcuhFarRYsWLbB06VK8/fbbkuYiIiKSiSUtH0tEREREREQmo127dhgwYAAmT54sdRQiIiKqJJw5TEREREREZMKuXbuGgwcPQqPRICAgQOo4REREVIk4c5iIiIiIiMiEDR8+HLdu3UKfPn0wefJkyGQyGAyGR54jl8shl8srKWH5EEXxsQvAKRSKJ2qtQUREVF2xOExERERERESFPG6Buv79+2Pu3LmVlKZ8bNy4EVOmTHnkMStWrEBgYGAlJSIiIpIei8NERERERERUyIULFx6539HREd7e3pWUpnykpqYiKirqkcfUrVsXKpWqkhIRERFJj8VhIiIiIiIiIiIiIhNUvZpEEREREREREREREVG5YHGYiIiIiIiIiIiIyASZSR2AiMiUiKIIESJEEcjr6fPvzj4yyGWAXMbP7oiIiIiIgLx7aIgCUJqumDLk3WLLZIBMDplMVtHxiIiqNRaHiYhKwSgIECFCUcINpkEwQi8I0AtG6ATj/X8aoDUaoTUaoBUM9/9phN5ogO7+cbr8bYIRFnIFVOaWUJlZwM7CCrbmVrA1t4CNmSVszCxgbWZeqqwGQYAMgELOAjMRERERVQ2i0QAAkCkeXYYQDFqI2mwI2iwI2kwIuZkQctIhaLMg6nMhQoQM9+/HZTKg0L8/+KdMroDcwgZya7u8LytbyK1UkFsqIZOXnEEURUAwAjIZZHLFU33PRETVAYvDRGTSHlVINQhGJOVmITo7HbHZ6YjNSUdcTgbisvP+WfA6JwPa+ze7FUkuk8HGzAIqM0uozC3uF5Lz/t3W3BK2ZpZwsVLB28b+/pcDats4wNWq6IrbBkGAXCaDnDMpiIiIiOgpiUYDIJdD9q+n3wR9Lgzp8TCkxsCgiSv4MmriH/x7ZkpeEVibBUGblVeYrWAyc8u8YrGlCnJrW8it7GBm5wYzew+YOXjmfdl7wszRC+aOXlCoXIoUisX7OVlAJqLqTiaKpXkug4ioejMKAmQPFUMFUcTtzBRcSInFrcwUxGanI/6hgm9sdjpStDkQi7R9qH7M5Qp4WtvB28YedWwc4GvrhHq2zqirckIDOxd42dhD8dCNvFEUIAMLx0RERET0QHEFYEGXA13CDehir0CXcB26+OvQJdyAIeUeDJo4CLmZEiYuRzI5FHauMLP3gLmDF8xdfGHh0QAW7g1g6dkI5i6+hWZEs3BMRNUJi8NEVKMUVwS+m5WKCymxuJQWh39S43EpLQ6RmgTkVsJs3+rATCZHHZUj6tk6ob6tC5o4eqC1szcCnLwKWlkI93slK9gLmYiIiKhGEwUBgFhQ2BSNemhjLkMbc/l+8fc69PF5hWCDJk7asFWFXAFzFx9YuDco+LL0aAALz0Ywd/EpKKiLggGQKdgHmYiqFBaHiahaEkURgigWagdxNzMVF1JjcSktHv+kxuFSWhwupyUgx6iXMGn1JZfJ0NDOFS2da+V9OdVCG5fasLOwAnC/YPyv/wZEREREVH2I+b117xcvjbkZyL3z94Ovu2ehjf4H4P30E5NZKGFVuzmsfFrCyrcVrHxbw8q7KWSKvEkY//5vQERU2VgcJqJqQRRFCA/NXL2iScDB2BuISLyLi2lxuJwWjyyDTuKUpsFH5YhWzrXQ0tm7oGDsZv2gr7FBEGDGgjERERFRlSMKhoLF2AyaeOTcjEDu3bMFhWB90m2AJYKKpzCHZa3GsPJpCWufVnlF4zotIbdUAshr4fG4hfuIiMoLi8NEVCUJ9380yWUyCKKICymxOBh3HYfjb+JI/G0k1pT+ZTWEh7UtWjrXQgunWmjj4o1ung1gf3+GsVEU2I6CiIiIqJKJogiIQkF7CF3CDWRdPoDsK4eRffUw9Im3JE5IhcjksPRuAqW6C5TqLrBp1A1mdq4AChf1iYjKG4vDRFQlGEUBcsggk8lgEIw4lRSFQ3E3cDj+Jo4l3IZGlyt1RCoDuUyG1s7eeMarIZ6t1RAd3HxhLldAEEXIAPZZIyIiIipnoigAAGQyOUTBCG3UBWRFHsorBl87AqMmXuKEVFYW7g2gbJRfLO4Kc+c6APJbUch5T01E5YLFYSKSxMNFQq3RgGMJt/Fn3E0cjr+JE4l3kc0WETWK0swCXdzr4RmvBnjOW43GDh4A2IKCiIiI6Gk83H4g9+45ZJ7fgewrh5B97RiEnHSJ01F5M3OqDaU6CDaNgqFq1hPmzrUB5BWL82eIExGVFYvDRFRpHm4vcD4lBhvvXMDemKs4nRQFnWCUOB1VJg9rWzzj1QDdvRriuVpquFvbAgCMgsAF7oiIiIhKIAoCIMubHWzMSkXmhZ3IPL8TWRd3w6CJkzoeVTLLWo2hCugNVYs+UDboBJlcwUIxEZUZi8NEVKHyi32CKOJ44h1svH0Bm+9cwK3MFKmjURXS2MEdz3g1RA+vhujqWR9KMwsWiomIiIhQeFZobvQlZP69FRl/b0POjRPA/VYSRHKlA1RNn4WqRW/YBvSBQuWU13caImRc/4OIHoHFYSIqd/mtAgyCEftjr2PznYvYcvci4nIypI5G1YC5XIFnvBrg1bot0d+3GWzMLNh+goiIiExKfkFYFIzIijyIjNObkHn2D+iTbksdjaoDmRzWddtAFdAbtq1egFWdAAB5falZKCaif2NxmIjKRf4sT63RgB1Rkdh05zzC711Gmi5H6mhUjVkpzNDbuzFerdcSvWv7w1JhxkIxERER1UgPzxDOvnoYmr9+Q/qpDTCmJ0icjKo7C3c/2AW+AvsOQ2Hp5X9/8UIZF7QjIgAsDhPRU8jvIZyh12Lr3YvYdOcCdkVf5WJyVCHszK3wok9TvFK3BXp4NYRCLmfrCSIiIqrWREGA7P69TM7Nk9AcX430iN9hSI2WOBnVVJbeTWEX+CrsOwyFhavv/T7WLBQTmTIWh4moTPILwtkGHdbc/Bvrb5/H/tjr0HNBOapELpY2eNm3OQbXb4nO7vUAFF7wkIiIiKiqyv8VXCaTIffuOWiO/4b0iHXQJ96SOBmZGqt6bWEf+Crs2w+BmYMHF7MjMlEsDhNRqeQX3s4lx2DhlWP47ebfyNBrpY5FBG8bewyq2wJD6rVCS+daEEURIgA5Zz8QERFRFZJfeDOkJyD14BJojq2ELvaK1LGIAJkMyoadYd9xOOw7DIXcUslCMZEJYXGYiEr08Czh1TfOYPGV4zidHCV1LKISNbBzwSt1W+J1dSBq2ziw7QQRERFJ6sGv2yIyz+9E2sHFyDj3B2A0SJqLqCRyKxXs2g+GY8jbsPZpySIxkQlgcZiIisgvCp9PicHCyL+w+uYZzhKmakUuk6Fv7cZ4r3EQunr6seUEERERVar8gpo+LRZpBxcj7c+foU++K3UsojKx8m0Fx65jYd9xGOSWNiwUE9VQLA4TEYCis4SXXD2BU0n3pI5F9NSaOnpgvH9nDPdrDSuFOQRRgJyFYiIiIipnoihCJpNBFIzIPLcdqQcWIfPCToBrc1A1J7dSwS7wVTiGvAVr39aFFlIkouqPxWEiE8dZwmQqHC2sMaZhIN5r3BnebDlBRERE5eRBL+FEpOwLQ9qhpTCkRksdi6hCWPm0hEPXsXAIGgW5uVXBhyJEVH2xOExkgvL/As8x6LHqxmnOEiaTopDJC1pOBHvWZ8sJIiIieiL5RWFt7BUkb/8Smr9WQeQkCzIRCpUzHEPehtNzE2GmcmbLCaJqjMVhIhMiiCLkMhnStDn49p8/8f3lo0jRZksdi0gyzRw98Y5/J4zwawNLhVnBnxEiIiKikuQXwbIiDyJ5+1fIPL8D4K/VZKJk5law7zQcLr0+goW7H4vERNUQi8NEJiB/ZmRMtgZfXTiIn66eQLZBJ3UsoirDyVKJMQ3a4V22nCAiIqISiKIAiCLSI9YhecfXyL19WupIRFWHTAZVi75w6T0ZygYdWSQmqkZYHCaqwfLbR1zTJGLu+f1YdfMM9FwQg6hECpkc/X2a4rOWz8HfwZ0tJ4iIiExc/v20oM1G6sFFSNm9APqkO1LHIqrSrOu3h3OvD2Dbuj8ggovXEVVxLA4T1UD5n9KKghE6wQjVr1Mh8I86UanJZTIM8g3A562eR307FxaJiYiITJAoihC1WUje+TWSd30LITtN6khE1Yq5W3249PkYDkGjAchYJCaqolgcJqpB8ovCObdPI3HTZ1DYuqDW67/g8793Y8bZ3VLHI6p2FDI5Rvi1xmctn4O3jQN7EhMREZkAURQh6nORsvtbJG+fD2NWitSRiKo1c9e6cOk3DQ6dR4JFYqKqh8VhohqgoCh86xQSN36atygGACjM4PfVDehsXWG/6hNpQxJVYxZyBcY0DMSnLXrA3dqWRWIiIqIaSBQFiAY9UveGIumPL2HMSJQ6ElGNYu5WH97vrIW1b2s+mUdUhfBPIlE1JgoCAECfeAv3vnsJtz5r+6AwDABGA5K2zobKwhofNu0qTUiiGkAnGLEw8hjq//4FPojYhjRdDoC8mUVERERUveUVhXVI2ROG65N8Eb/mQxaGiSqAMTMJFm5+SM7NxPpb5/O23f+dloikw5nDRNVQ/sIYhvQEJGyYhrQ/fwZKWGhOZmYBv69vI9vaHk6rP63kpEQ1k8rMEu827oyPmnWDnYVVwZ9JIiIiqj5EwQiIIlIP/YSkbbNhSImSOhJRjeba/zO4vjgdQw/+ijW3zqKFkxdmte6Fnt6NYBQEKNhugkgSLA4TVTP5C2Mkhc9B8q5vIeqyH3uOU4934THsO7z31yZ8H3m0ElISmQYHC2u836QL3m8aDKXCnAViIiKiaiC/JZvmxBokrJsCfdJtqSMR1XgKGyc0+OYOYowG+KybVWhfZ/e6mNOmNzq6+bJITCQBFoeJqglREADRiJS9YUjaOhvGzORSnyuzsEaDb+5CY2YFtzWfVVxIIhPlYmmDD5t1w7uNO8NcLoec/dOIiIiqHFEQIJPLkXP7NOJ+fQ85145JHYnIZLgNnAPn3pPRf98v2Hbvn2KP6e/TFN+0ewF1VI58Mo+oEvG3V6IqTrzfLiI9Yi2uf9QQ8av/U6bCMACIuhwk/zEPztYqjPJrWxExiUxakjYLk0+Fo8H6Odhw+wIA9k8jIiKqaowZiYhePBK3PmvLwjBRJVLYucHp2Qm4k5laYmEYADbduQj/jfMw/cwu6AQjjGLNup8+e/YsQkNDkZ6eXmh7SEgIPv744zKNFRISArVaDbVaDX9/f7Rp0wZ9+/bF1KlTcfr06SLHR0VFQa1WY9myZcWON3v2bKjV6kLbhg8fXnANtVqNgIAA9OvXD8uXL6+wtVeOHj2K/v37IyAgAGq1GidOnEBoaGiRbGq1GqGhoQWvS3pvq4ITJ04UfC9VlZnUAYioeKIoQCaTQxtzGXErxiH7yuGnGi/1wEK49P0vZrfuiWXXT5ZTSiJ6WHS2Bq8eXImfr57A9x0HoJ6tM2c9EBERSUgUjBAFA5K3f4Wk8LkQtVlSRyIyOS59PobM3ApvHVjx2GNzjQbMOrcHK66fwldt++DlugE1ptXE2bNnERYWhv79+8POzq5ge1hYGFQqVZnHa9u2LT744AMAQGZmJq5fv44tW7Zg/fr1GDJkCKZPn/7UmX19fTFv3jwAQGJiIpYvX44vvvgCWVlZGDdu3FOP/zBBEPD+++/Dz88PixYtgpWVFfz8/ODj44OgoKBHnlvSe0ulw+IwURUkigIEbRYS109Fyr4fSlxsriyE3Ewk7/wGHgNmYpBvANbdPlcOSYmoOLtjrqLppq/wYdNu+G9Ad5jJ5VCw1QQREVGlye8rnH7ydySsnQx98l2pIxGZJDPHWnDsPg7X0pOwJ+Zaqc+7m5WKVw6uRLcrfyG0fX/4O7hDEEXIa+Cki8aNGz/ReXZ2dmjRokXB686dO2PEiBGYPn06Vq9eDT8/PwwdOvSpsllZWRW6RocOHdCtWzesW7eu3IvDiYmJ0Gg06NGjB9q3b1+wXaVSwcPDo1yvVVo6nQ4WFhaSXLsy8TdVoiokv4WE5sgKXP/QDyl7QsulMJwvZW8ojLkZ+Kpt33Ibk4iKp70/66Hppq+wN/oqANS4R+OIiIiqmvxHnXPvncetWZ0R/cNgFoaJJOTS97+Qyc3x2pG1T3T+gdjrCNj8Nd47vgkZei2EarpsVmhoKObMmQMA6N69e0GrhqioqCdqK1ESuVyOadOmwdHREUuXLi2XMR+mUqng4+OD5OTCrS5zcnIwd+5chISEoFmzZggMDMSgQYNw4MCBUo0bGhqKLl26AADmzp0LtVqNkJCQgn3/bivx73NLem+BvBnJy5YtQ9++fQuyffTRR0hMTCw0TkhICMaNG4fw8HD06dMHTZs2RXh4OAAgLi4OU6ZMQefOndG0aVM899xzxbbouHHjBl577TUEBAQgMDAQU6dORWZmZqneAylx5jBRFZC/OIY26gJil49DzvW/KuQ6QrYGKbsXoFbfqejt3Rh/RJXc74mIysfNjGT02vMT+vs0xXft+8NLaS91JCIiohpJFIwQ9VrE/z4FKXvDAH4oSyQpcxcfOHZ9A/9oEnAs4fYTj2MUBXx/+SjW3jyLma2fx+sN20MUxWrVamLgwIHIyMjA8uXLERYWBldXVwCAm5tbuV/L0tISnTp1Qnh4OGJjY+Hp6VmwTxRFGAyGIueUtoew0WhEXFwcfH19C22fM2cO9uzZgwkTJqBevXrIyMhAZGQk0tLSSjXuwIED0ahRI4wfPx4jR45Er169Sj1j93Hv7ZQpU7B9+3aMGTMG7dq1Q3x8PBYsWIDhw4dj48aNUCqVBWOdP38eN27cwLhx4+Dm5gY3NzfEx8fj5Zdfho2NDd5//314enri6NGj+PLLL5GWloaJEycCyJv5PGzYMFhaWmL69OlwdnbG1q1bMXPmzFJ9H1JicZhIYqIgQNBmImHdx0g9sKjCb2JTdn0L5+f+gwXtX8Af61kcJqosm+5cxO7oq/i0xbN4v0nep+LV6YaWiIioqspvIZF5YRfilr/NmcJEVYRLv08AmQKjD68pl/GStFl4+9gGLLlyHGEdXkKgq0+1Wd/Dw8MDXl5eAAB/f394e3tX6PXyC8KJiYmFisNz587F3LlzyzRWfjE5OTkZixYtQlpaGmbNmlXomDNnzqBv37549dVXC7Z179691Nfw8PAouI6Xl1ehVhalObek9/bMmTPYvHkzPv3000ItNvz9/dG/f39s2rSp0Pa0tDSsWbOm0BiffPIJcnNzsXHjxoKCc8eOHaHX67F06VKMGjUKDg4OWLZsGVJTU7F161Y0bNgQABAcHIxRo0YhNja21N+PFFgcJpJI/k1sxtltiFv+NgxplfPDwpiZjJR938O35wcI8fTD/tjrlXJdIgKyDDpMPhWOlTdO4YcOA9DJvS4EUYCc/YiJiIieiCgKMGanIm7lu0g/Xj4FKCJ6ehbuDeAQNApnU2NwOjmqXMc+kxyNzn+EYbx/Z8xp0wvmMgUnXfxLSTOBR48ejd69exfZvmzZsoIWCg+LjIxEkyZNCm2bMWMGunbtWmhb8+bNsXHjRtjZ2SEoKAj+/v5VolfvoUOHIJfL0bt370Izphs0aAB3d3dEREQUKg43atSoSOH+0KFD6NChA5ycnAqNERwcjOXLl+PcuXMIDg5GREQEGjVqVFAYzte3b1/89VfFPB1eXlgcJpJA3k2sBnHL30Z6xLpKv37yzq/h1OM9fN/hJfhv/LLSr09k6i6mxqHL9u8xwq8Nvm7XDw4W1jVycQ0iIqKKkj/RQnNkOeJ/+wDGrBSpIxHRQ1xfnA4AGPlnxXxoI4givvvnMLZHXcbPnV9BJ/e61WYWcWXIn6n677YVHh4eaNasWZHjnZycih3H19cX8+fPhyiKuHfvHkJDQzFz5kw0bNgQrVq1Kjhu2rRpcHNzw7Zt2xAaGgqlUonu3bvjww8/hLu7ezl+Z2WTnJwMQRAQGBhY7P7U1NRCr/NbUvx7jN27dxcpkv97jLS0NPj4+BTZX9yYVQ2Lw0SVqGDV5ONrELdqAowZSZLkMGrikXpgERr0GI8Obj74K+GOJDmITN2K66ew7e4lzGrdE2PVHapd7zQiIiKp6JPvIvbn15H1z36poxDRv1jWagy7DoNxIvEeLqXFVei1rqcnIXj7DxjfuBPmtukNc7kCChN/Kk+r1eLYsWOoXbs2PDw8nmosKyurgmJy8+bN0bJlS/Tu3RufffYZNm/eDPn9312USiUmTpyIiRMnIjk5Gfv378f8+fMRGxuLVatWPfX39KQcHR0hl8uxevVqmJkVLYHa2NgUel3chwuOjo5o3Lgx3n333WKvkT/T2MHBAUlJRWs8/174rioy7T8xRJVIFAUYM5Jw99t+iF44VLLCcL7kHV8BghELOw6UNAeRqUvV5eCdvzbi2V2LkJCbWW1XYCYiIqpoomCEKBiRFD4XN6Y0ZmGYqIpy7T8DEEWM+HN1pVxPhIjQf46g+ab5BROfSrvAWmXKb7Og1Wor7BqCIGDWrFlITU3Fa6+9Vu7je3l54Y033sCVK1ewY8eOYo9xdnbGwIEDERISgsjIyHLPUJyS3tsuXbpAEAQkJSWhWbNmRb7q1av32LGDgoJw9epV1K1bt9gxHB0dAQCBgYGIjIzEtWvXCp2/bdu2cvouKw5nDhNVsPzZwml//oL4NZMgZGukjgQAMKREIe3Pn9Ek+A20cPTC2dQYqSMRmbQDsdfRfPN8LOz4Mgb4Nocgimw1QUREdJ8oitAn30X0j4ORc+OE1HGIqARWdVrAru3LOBR7Azcykiv12jcyktF1+w8Y598R89r0gYWias0izu9F++uvv6Jfv34wMzODWq1+4vHS09Nx9uxZAEBWVhauX7+OLVu24NKlSxg+fDgGDx5cHrGLGDVqFFavXo2wsDD07NkTcrkcgwYNQteuXdGwYUPY2dkhMjISu3btQnBwcIVk+LeS3tu2bdvipZdewkcffYThw4ejdevWsLCwQHx8PE6cOIHg4GA8//zzjxx74sSJOHr0KAYPHozhw4fDx8cH2dnZuHPnDg4cOICff/4ZCoUCI0eOxIYNG/DGG29gwoQJcHJywtatW3H79u1KeAeeDovDRBVIFAQYM1MQvXg4si7skjpOEUl/zIND8OtY0nkQ2m77Vuo4RCYvRZuNQQdWYHSDtviufX9Yys3YZoKIiExawUSLQz8hbvX7ELVZUkciokdwHTATgtGAkYd/k+T6IkR8f/kodkRF4ufOryDIo16VmXTRpk0bjB07Fps2bcKaNWsgCAL27dsHoPh2Bo9z8uRJvPLKK5DJZFAqlfDy8kJAQACmTZtWqB9weVMqlRg3bhxmzJiB8PBw9OvXD+3atcPevXvxyy+/QKvVwsPDA0OGDMG4ceMqLMfDSnpvvb298cUXXyAgIADr1q3D8uXLIZfL4ebmhnbt2pWqOO/u7o4NGzbg+++/x48//ojExESoVCr4+voiKCiooLWGq6srfv31V8yePRvTp0+HtbU1nnnmGXzyySeV9j48KZlYFefaE1Vz+Y3wM87+gZifRsOYUXV7zHi9/gvsOw1Hs83f4LImXuo4RHSfn50LVgcPQ2sX78cfTEREVAOJghFCjgYxP41BxpktUschosewrh+Iup8ex+7oK+i5e4nUcSCDDG/7d8SXbfrAQq6ospMu2rVrhwEDBmDy5MlSRyETVTX/ZBBVY6JghGjUIXbFO7j3vz5VujAMAEnhcwCZDEs6s/cwUVVyPT0JHcO/w5xz+yCIIoyCIHUkIiKiSpE/fynr0l7cmNKEhWGiasL1pfuzhv+UZtbwv4kQ8cPlowjYPB8XUyt2Ybwnce3aNSxZsgQajQYBAQFSxyETxpnDROUsN/oSor9/BdroS1JHKbVa436DXduBaLBhHm5lpkgdh4j+pYt7PazqOhQe1nZV4pE4IiKiipK36JwB8b99gNR93wP8dZWoWlCqg+D73z+x7e4lvLjvF6njFGGpMMNXbfviHf9OEEQB8irQi3j48OG4desW+vTpg8mTJ0Mmk8FgMDzyHLlcXtDGoLoQRRFGo/GRxygUiidqrUHlg8VhonKQ3wstefcCJKybDFFfcauPVgRL76aoP/sCDsbeQPedP0odh4iK4WBhjYUdX8bAugFV5oaWiIiovOXeO4/oHwdDG/2P1FGIqAx8px6GZf1AeKyZiRRdttRxSjTApzmWBr0CpcK8SraZeFwP3P79+2Pu3LmVlKZ8bNy4EVOmTHnkMStWrEBgYGAlJaJ/Y3GY6CmJghHG7DTELBqOzPM7pI7zxLzf2wRViz7wWf8FYrLTpY5DRCUY6dcGYR1e4mJ1RERUY4iCAJlcnjfRYu1HEA06qSMRURnYNHkGPh/twbpbZzH44K9Sx3mserbOWNdtBFo615I6ShEXLlx45H5HR0d4e1evNUlSU1MRFRX1yGPq1q0LlUpVSYno31gcJnpK2VePICpsIAyaqtfDqCysfFuh3ozT2BV1Bb32SL94ABGVrL6tM1YFD0Nb19pSRyEiInoqomCEqNciZukYpJ9YK3UcInoCdadHwLxOCzj/Nh2Z1eTDHQu5Al+27YN3GwfBKApQ8Kk8MmH8v5/oCYj3F4ZK3vU/3J7brdoXhgEg9/YZZJzfgR6e9eFiZSN1HCJ6hBsZyej8Ryhmn9ubt1idyMXqiIio+hFFAbqEm7g1oy0Lw0TVlCqgN6zrtcXqW2erTWEYAHSCERNPbMHA/cuRpdfxfppMGmcOE5WRKBggGvSI+Wl0jbuJta7fHnU//Qtb7l7ES/uWSR2HiEqhp3cjrA4eBhszC7aZICKiakEURchkMqSfXI+Yn8ZAyM2QOhIRPQmZDPU+/xsKL384rPoUucKjF1OrquqqnLCu2wi0cqle7RqIygt/iyQqA1EUoE+8g1uf1czZDTk3jiPrn/3oU0sNe3MrqeMQUSnsiIpEu23f4kZGMgR+3ktERFWcKBgBUUDcb5MQFTaQhWGiasy2dX9Y1QnAz9dPVdvCMADcykxBpz9CseDSnwDAe2oyOSwOE5VC/gT7jDNbcXN6K2ijL0mcqOIkbpkJhcIcCzu+LHUUIiqla+lJaLftW2y/d1nqKERERCUSBSOMmSm4MzcEKTu/kToOET0NmRxuA2ZBa9DhvRObpU7z1HSCEf+J2IrBB1dCJxhgENhmgkwHi8NEj5E/uyF+3ceICn0JQk661JEqVHbkQWRfO4aX6jSB0sxC6jhEVEoZei1e3PcLZp7dAwAQ2DeNiIiqmJwbJ3DzkwBkX/lT6ihE9JTs2r8KSy9//Bh5vEYVUtfdOoegP8KQkJvBPsRkMlgcJnoEUTBA0GXj7te9kPzHPMBEHi9J3PI5zMzMEda+v9RRiKgMRIj47O9dGHxwJeQyObisABERSS3/76LUA4twe04wDGmxEicioqcmV8DtpZnI0Wvx4clwqdOUuzPJ0Wiz9VucSoqSOgpRpWBxmKgEomCEPjUGtz9vj6yLu6WOU6myLuxCzu3TGFI3ABZyM6njEFEZdfXwAwCI+kyIolHiNEREZKpEQQAgIu63SYhd9hZgrL49SYnoAYdOI2DhVg/f/nMEAmrm7Nr4nAx02/EDVlw/BQCcdEE1GovDRMUQRRE5t07h1mdtoY3+R+o4kkjc/DnMzSzwbWA/qaMQURm83agj3mzUAbmxx3Hvl0bQxp2SOhIREZkgUTBCNOoQFTqA/YWJahKFOVz7z0CWLhfTzuyQOk2F0hoNGH14DSafDIdMJmPbNqqxWBwmKkZ6xDrcmdMVxvQEqaNIJvPsNuRGXcQovzYwk/NHBVF10N2zARYEvgh9Vhxi13aFkJOIuPXPIDPyN6mjERGRCclbeC4Zt2cHIeP0ZqnjEFE5cgx+DebOtfHF+f1SR6k08y8exMD9y6EXBBhrUH9lonys+BDdJ97/IZ+4dRaifxwMUZ8rcSKJiSKStnwOSzMLzG3dW+o0RPQYfnYu+D1kJESjFjGr2gH3H/ETjVok7hyJ1GOf5b3mjAciIqpAoihAGxuJm9PbIPcWn14hqklk5lZwfWE60rXZmHvBdIrDALDxzgUEb/8eKbpsLlRHNQ6Lw0TIm90A0YjoxSORuOETk1l47nHST26ANu4q3lK3h5w/LoiqLHsLK4Q/8xpszMyRsKk3hOy4IsekRXyBhO3DANGY9zOPiIioAmRd3IPbn3eAIeWe1FGIqJw5dnsTZg4emH52j9RRJHEy6R7abV2Aq5pECKwZUA3Cag+ZPFEwQtBm4s6XPaA5ukLqOFWLKCBpy0xYm1vis5Y9pE5DRMVQyORY03U46tu5QHNoErQxR0o8NuvqOsRveRGioGOBmIiIyk3+Qk0p+3/E3W96Q8jNkDgREZU3mYUSLv2mITU3C9/9c1jqOJK5m5WKjuGhOBB7TeooROWGxWEyaaJghDEjCbdndkJ25CGp41RJmuO/QZd4GxMbB0kdhYiKMa9NbzxbS42syyuRfu6Hxx6fc2cP4tb3gKjPZIGYiIiemigKkMlkiF/zIeKWjwP4dwtRjeT0zHiY2bpgypntUkeRXLo+F332LMWG2+eljkJULlgcJpMlCkbok+/h1swO0EZfkjpO1SUYkbRtFmwsrPBxsxCp0xDRQ8Y0aIf3mwZDm/A3kna/XurztHERiFnXFcacJBaIiYjoieWv2RGz9DUk75gvcRoiqihyazu49J2ChOwMLLlyQuo4VYJOMGLwwV+x7NpJqaMQPTUWh8kkiYIAbcxl3J7ZAfrEW1LHqfLSjqyAPjUGk5t1lToKEd3Xyc0XP3QcAENOEmLWlH1mvz75EmLXBsGQcQeiyAIxERGVTd6aHQKif3gVaX/+LHUcIqpATs9NhELpgEknt0odpUoxigJeP7LOpNtsUM3A4jCZHFEUkXMzArdnB8GgKbpoExXDqEdS+Bews1TiPbaXIJKcj8oRm7qPhkwwIGZ1e0DQPdE4hvTbiFnbBfrkfyBy1WUiIiolUTBCNBpw79t+SI/4Xeo4RFSB5DaOcO75AWKy0rD65t9Sx6lyRIh4/8QWfP737rzXXKiOqiEWh8nkZF3agzvzukPITpM6SrWSdmgpDOkJ+CSgu9RRiEyajZkFtj3zGhwsrJC4tT+MGXefajwhOwGxv4dAG3ucN7NERPRYomCEqMvB3a+eReb5HVLHIaIK5tLzA8gtVXj3xGapo1RpM87uxqSIrZDJZBB4T03VDIvDZFI0J9bi7jd9IOqypY5S7Yj6XCT9MQ9OViq81iBQ6jhEJkkGGVYGD4G/gzvSjn2C3Lt7y2VcQatB3MaeyLnNX/KJiKhkomCAkJOO23O6IvvKn1LHIaIKprB1hdOzE3E3MxWb71yUOk6V9+2lPzH2yDoAYIGYqhUWh8lkpB5cgugfhwBGvdRRqq3U/QthzErBrFbPSx2FyCR93uo5vFCnKXKubUT6qfJd+Ec05CB+28vIvLy6XMclIqKaQRSMMGYk4/bszsi9fVrqOERUCVx6T4bMwhpvHdsgdZRqY+m1CAw5+CsEUYCRbduommBxmExC6sEliF32JsAfzk9F1GUjeft8uCltMbheS6njEJmUwfVa4r8Bz0CXfBkJ2wdXzEUEAxJ3jUb6hSUVMz4REVVLomCEPiUKt2Z2gDb6H6njEFElMHPwhOMz43EjIxm7Y65IHada+f32Oby47xcYBAFGgTUIqvpYHKYaL/XQ0vuFYT7WUR5S9n0PY44GX7bpI3UUIpPR1qU2lnZ+BYbcNET/1qGCryYied94ZFxaXsHXISKi6iC/MHx7VifoE29JHYeIKolL3/9CZmaON+63SaCy2REVied2LUaOUc8CMVV5LA5TjZZ2+BfE/vIGC8PlSMhJR8qub+FlY48X6zSVOg5RjeeltMOWZ8ZAAQGxazoBhsromS4iae+byLyythKuRUREVZUoGGHQxOHOnGAYUqOljkNElcTcuQ4cu72Jy2mJ+DP+ptRxqq3D8TfRZ89S6EUjW0xQlcbiMNVYaUeWI2bp6ywMV4Dk3QsgaLPwTeALUkchqtGsFebY0n0MXCxtkLR9CAxp1yrv4qKAxF2jkXV9U+VdsxyFhoZCrVY/9riNGzdCrVbj8uXLjz02JCQEH3/8cZlylGX8x1m2bBnefvttBAcHQ61WlzlLvqioKKjVaixbtqzUOV944QUMHz680Da1Wl3oq3Xr1hg+fDj+/JOLVBHVBHk9hpNw+4tg6JPuSB2HiCqRywufADIFxhxZI3WUau9w/E303/sLBFGEwAIxVVEsDlONlHZ0JWJ+GsMewxVEyEpFyp5Q1LFxwLNejy++ENGT+anzILR0roX0iDnIubG18gMIBiRsH4bsm39U/rWroLCwMIwbN06y669ZswYJCQkIDg6GpaWlZDke1qtXL6xduxa//fYb/vvf/yI6OhpvvvkmIiIipI5GRE9BFAwwZqXi9pxg6BNuSB2HiCqRuVt9OASNxrnUWJxMuid1nBphd8xVvHpgJUQRLBBTlcTiMNU4mr9WIWbJKBaGK1jyzm8gGrQI7fCi1FGIaqQpzbvj1XotkXN7J9KOz5AuiKBHwh+vIvvOHog16EkMQRCg1+vLdE7jxo1Rp06dCkr0eNu3b8eGDRvw+eefw8LCQrIcD3NxcUGLFi3QqlUrDBgwAF9++SUEQcD69euljkZET0gUjBByMnBnbjfoYrkIFZGpcX1xOgBg5OHfJE5Ss2y+exGjD68BIKtR99RUM7A4TDWK5sRaRC8eycJwJTBmJCJ1/4+ob+uMzm51pY5DVKO8WKcpZrXuCX3aTcRvkb59i2jUImHby8iNPgyxCv583b9/P/r164emTZsiJCQEixcvLnLTrVarMXv2bCxfvhw9evRA06ZNcebMmYL9mZmZ+PTTTxEYGIjAwECMHz8e8fHxhcYorq1EXFwcpk6dii5duqBp06YICgrCf/7zH2RkZJSYNzo6Gr169ULfvn0RFxcHALh06RLGjh2LDh06oGnTpujSpQvGjRsHjUZTcJ5cXvVv25o0aQIASE5OljgJET0JUTBC0GbhzpfPQBt1Ueo4RFTJLLz8Yd9xKE4mR+NiapzUcWqcVTfP4J2/NkAmY4GYqhYzqQMQlQdRFJF1cTeiFw0HBKPUcUxG8o75cOr+Dn7sNADNNs2XOg5RjRDg5IVfg4fCoMtAzOp2UscpIBpyEL/lBXj03wFLz3aQyapGofLIkSN455130Lp1a/zvf/+DwWDAkiVLkJKSUuTYnTt3wt3dHZMmTYJSqUSdOnUQHZ23wNKUKVPQrVs3fP3114iNjcVXX32FDz/8ECtWrCjx2rGxsXj55ZcBAG+99Rb8/PyQkpKCgwcPIjs7G7a2tkXOuXTpEt588034+fkhLCwMKpUKWVlZGDNmDBo3boyZM2fCzs4OCQkJOHr0KLRabTm9U6VjNBphMBie+Pz897NuXX5oSFTdiIIRoj4Xd796Frm3zzz+BCKqcVz7fwaIIkb8uVrqKDXW4ivHYWNmifnt+kodhagAi8NU7YmCgNzbp3EvdABgLNsjwvR0DKkxSP1zKfy7vonWzt44nRwldSSias3VSoWtz4yBuQyIWxsMQZcudaRCRH0W4jb3geeAXbBwa1klCsQLFiyAm5sbfv7554JWC507d0b37t2LHKvT6bBs2TKoVKoi+7p27YqpU6cWvNZoNPjqq6+QkJAANze3Yq/93XffQaPRIDw8HL6+vgXbe/fuXezxhw4dwsSJE9GjRw/Mnj0b5ubmAICbN28iLS0NkydPRqNGjQqO79Onz+PfgHI2YMCAEve1a1f0wwpRFGEwGCAIAu7cuYMZM2bAzc0No0aNqsCURFTeRMEI0ajH3a97IufGCanjEJEELOsEwL7dIByOu4lr6UlSx6nR/nfpEFTmFvis5XNSRyECwOIwVXOiYIQu4Sbuft0TojZL6jgmKfmPeXAMfgOLOw1E663/kzoOUbVlIVdgY/dR8FTaIXnHSOiTq+bjvKIuHXEbe8Jz4D6YOzWGTK6QLEt2djYuXLiAESNGFOrBa2tri27dumHz5s2Fjm/fvn2xhWEARYrJanXeYpsxMTElFocPHz6Mjh07FioMl2T9+vVYs2YNXn/9dbz//vuF9vn6+sLe3h5Tp07FsGHD0KZNG9SuXfuxY1aE+fPnF/v9fPDBB8Uev3LlSqxcubLgtVKpxMqVK+Ht7V1REYmonOW3C7r37QvIvnJY4jREJBW3/p9DMBownLOGK8XMs3tga26JSU27Sh2FiD2HqfoSBSMM6Qm4++UzMGayt6FU9El3kHZ0BQIcPdDU0UPqOETV1g8dBqCjmy8yznyHrKtrpY7zSII2DXGb+sCYHQ9RwlY+6enpEEURLi4uRfa5urqWals+BweHQq/zi82PauuQmpoKD4/S/dz7448/oFKp8NJLLxXZZ2trW1BQ/eKLL/DMM8+ge/fu+Pnnnyu9H52fnx+aNWtW5MvKyqrY4/v06VNQ+P7kk08AAO+88w7S0tIqMTURPQ2ZTI6Yn19H1sXdUkchIolY1WsL21b9sD/+Ju5lpUkdx2R8dDIcCyOPSR2DiMVhqp7yFsvIxN0ve0CffFfqOCYvOXwOAGBJp0ESJyGqniY26YLRDdshJ+oQUg9/JHWcUjFmxSJuUx+IhhzJCsR2dnaQyWRISir66GNiYmKRbTKZrFyv7+joWLCg3ON88803qFWrFoYOHYobN24U2a9Wq7FgwQJERERgy5Yt6Ny5M+bNm4cNGzaUa+by5uTkhGbNmqFly5YYNmwY5s2bh7i4OHz33XdSRyOiUkrYNB2aw8ukjkFEEnJ7aSYEowEjD/0mdRSTM/6vTVh786zUMcjEsThM1c6Dnmi9oI2+JHUcAqCLv47042vQ1rkW/GydpY5DVK309G6EL9v2gT4jCnHrq1ffMX3yRcSHDwQgFjyWXJmUSiWaN2+O3bt3Q6fTFWzPzMzEgQMHKvz6QUFBOHbsGO7cufPYYx0dHbF8+XJ4e3tj2LBhiIyMLPY4mUyGRo0a4dNPP4WZmVmJx1VVzz77LDp06IB169YhJiZG6jhE9Biph5YiafPnUscgIgkpG3aGqtlz2B5zFXG5GVLHMTkiRIw+sgbHE+5AkOB+mghgcZiqmfzHa6NCX0bONT5+UZUkhX8BmVyBnzq/InUUomqjkb0bfus6HKIhFzGr2gGofjeEuXf3IWnfOMkWp5swYQLi4+MxZswY7N27Fzt37sSIESOgVCor/Nrvvfce7O3tMWTIEKxcuRLHjx/Hzp078fHHHyM+Pr7I8ba2tli6dCkaNGiAESNG4Pz58wCAAwcOYOzYsVi3bh2OHTuGw4cPY8qUKTAajQgKCio4/8KFC9i5cyd27twJg8GA6OjogtcpKSllzl/eM6nzTZo0CQaDAQsXLqyQ8Yno6YmigMwLuxC7/C2poxCRxFwHzILRaMDoP9dIHcVkaY0GvLjvF0RlaWAUqt/vA1T9cUE6qlZkMhlilo1D5rk/pI5C/6KN/gfpJ9ejU+v+qG3jwF5VRI/hZKlEeI/XYK1QIH5ddwi51XdV6MxLy2BuVxcOgVMq/dqdOnXC999/j2+//RYTJ06Eq6srBg8eDK1Wi7CwsAq9tqenJ37//Xd89913WLhwITQaDZycnNC2bVvY2NgUe46NjQ2WLFmCd999F6NHj8aiRYvg4+MDlUqFxYsXIyEhAZaWlqhfvz4WLFiA4ODggnNXrVqFTZs2FbyOiIhAREQEAGDFihUIDAwsVe7c3FwAKLSIX3lq1qwZnn/+eWzcuBFjx47l4nREVYwoGKGNuoiosJcBo0HqOEQkIZvGIbBpFIz1t84hRZctdRyTlpibiV67f8Jffd+DEuZQyDmXkyqPTKzslU6InkLyrm8Rv/r9xx9IkrCq0wL1Zv6NvTFX8dyuxVLHIaqyzGRy7HxuLII96iF539vIvPiL1JHKhevzy6FqNFjqGPQYe/bswfjx47F06VJ07txZ6jhEVIlEwQBDWhxuzWgHQ1qs1HGISGK+nx6HhW8ruP42A+n6XKnjEIBnvBpge483IJfJKuwpL6J/40cRVC3kPfq2E/FrPpA6Cj1C7t2zyDgbjhD3enCzUkkdh6jK+l/gC+jm6YfMiz/XmMIwACTueQM50Uck6T9Mj3f37l3s2rUL8+fPh7u7O9q1ayd1JCKqRHkLOmfhzlfPsjBMRFA17wll/UCsuXWOheEqZG/MNYw/vpGFYapULA5TlScKRujiriLq+1cAwSh1HHqMpC0zIVeYYUnnQVJHIaqS3lJ3wDj/TsiNjUDyvnFSxylfRh0Stg6AIe0GRP68rnSiKMJgMJT49d133+HTTz9FnTp1sGLFigprK0FEVY8oioAo4N7/+kEXc1nqOERUBbgN/AJ6gw5vHl0vdRT6l8VXjuObi4ekjkEmhD2HqUoTBSOEHA3uftMbQk661HGoFHJuRiDz4h709O8GBwsrpOn4KTRRvm6efviufX8YsuIR+3tXqeNUCEGbirhNfeA1+Bjklg6QyRVSRzIZERERGDFixCOPmTNnDl566aVKSkREVYVMJkPsyneRfeVPqaMQURVg27o/rOq0wE9XjiNXYO/xqmjyqXD42bmgb+3GnEVMFY49h6nKEgUBEI24M687sq8cljoOlYFSHQTf//6J9bfO45WDK6SOQ1Ql1Ld1xsl+E2EjB6J/8YeQFSN1pApl6dEWngMPAHIzyGR8UKkyZGZm4tatW488xtvbG46OjpWUiIiqitSDSxD7y1ipYxBRVSCTo/7sC5C5+8F+1afQsThcZdmYWeBI7/Fo4ugBBe+nqQJx5jBVWTK5HDE/vc7CcDWUfeUwsq8eQf/6gVCZWSDToJM6EpGk7MytsK3Ha7Axs0DChmdrfGEYALRxJ5G0bxxcn/1J6igmQ6VSoVmzZlLHIKIqRBSMyL19GnErx0sdhYiqCLvAQbCs1Rih/xxmYbiKyzLo0GfPUkT0nQAXKxXM5CwQU8Xg/1lUZSXvmI+0wzVnoSZTk7h5BhQKc3zfoeY/vuz41zV4bDoFnx/3wW/uNvj8sPeRx1tFp8BzfQR8v9+DevP/gM/CfXDdcQ5maVmlup7V3SS47L6A2ksPot4321F3wS7UWnkEqn+igRIeBlHeiEetlUdQ7+vtqPvtTnhsOgWztOwix5mlZsFz7XHU+2YHfH7cB/uTN4sdz2XPRdReeggQuPDY48hlMqzuOgwN7FyhOfwRtNGm84FX5j8rkH5+kdQxiIhMkigYYcxMwb3v+kPkB/VEBAByBVxfmolcvRb/ObFN6jRUCtHZGvTZuxRGUYBQDR78Dw0NhVqtfuxxGzduhFqtxuXLj++DHxISgo8//rhMOcoy/uMsW7YMb7/9NoKDg6FWq8ucJV9UVBTUajWWLVtW6pwvvPAChg8fXmibWq0u9NW6dWsMHz4cf/755K2jWBymKkcUjMiKPIj4dU/2B46qhqxLe5Fz8yRe8Q2AlbxmP6TgfCgS1neSoHdUwmhl/shjlTcTUOvXozBPzkRaK18k9WiKLD932P4TjdrLDkORkfPY67kcvAzVtTjk1HZGUkgTpHTwg0wU4bH1DFx3ni9yvM2VWHj+HgG53oikbo2RFlgfVveS4f3rESgyHuoJLYrw3HgS5mnZSOrqj6z6bnDddwk2kYVnuVrGpML+79tI6BUA8NPrx5rbpjd6ejdCVuRqpP8dKnWcSpd8aBJy4yK4QB0RUSXKW4BOxL3v+sOQWvOfViGi0rHvOAyW7n5YcPkIBHCSR3Xxd3I03j62HnIT7T0cFhaGceOkW8h7zZo1SEhIQHBwMCwtLSXL8bBevXph7dq1+O233/Df//4X0dHRePPNNxEREfFE49Xsig1VO6JghDEjCVE/vAqwkFDtJW6egTr/CceC9i/izWM1dxXc22+FwOBgAwCo/dNByHUlP57lcPImIJMhangnCMoHf7HoXG3htuM8VJGx0LSt98jrJXX1R663MyB/cHOgaVsPtVYfg/25u9C0qQudq13eDqMA1z0XYbCzRtSwThAt8n7sZ9VzQ+1lf8LpyBUk9gwAAJinZMEyMQPRgzsgx8cFAGCZmA7V1ThkNfIqGM9txzloWvlC6+lQpvfJFI30a4NJTbtCm3geSbtGSx1HGkYdErYNQq2hJyG3cuICdURElUAmkyH213eRc+2o1FGIqKpQmMP1pc+RrcvFf0/vkDoNldHy66fQwc0Xb6jbSx3lqQiCAKOxbLWexo0bV1Ca0tm+fTvk9ydFbd++XdIs+VxcXNCiRQsAQKtWreDj44OhQ4di/fr1aNeuXZnH45QvqjLy10aM+n4gjJp4idNQecg89wdy753HiPqtanR/pPzCcGnItQaIZgoIVhaFx1BZAQBE88cXznLruBQqDAMAZDJkqvMKuBaJGQWbre8lwywzF+kBdQoKwwCgc7dHTh0XqCJjAGPerAGZIe8vaaP1g2xGKwvI9A+K3Y4nrkOuNSC5S6PSfLsmraObLxZ2HAhDTjJifusodRxJGbNiEB8+CMCDn/VERFRxUg8tRer+hVLHIKIqxCFoNCyc62DuxYNSR6EnNOHEZvydHA2jWDVmfe/fvx/9+vVD06ZNERISgsWLFxe511er1Zg9ezaWL1+OHj16oGnTpjhz5kzB/szMTHz66acIDAxEYGAgxo8fj/j4wvWg4tpKxMXFYerUqejSpQuaNm2KoKAg/Oc//0FGRgZKEh0djV69eqFv376Ii4sDAFy6dAljx45Fhw4d0LRpU3Tp0gXjxo2DRqMpOE9eDWoZTZo0AQAkJyc/0flV/zskkyGTyZCw7mMuQFfDJG7+HBZmFpjftq/UUaqE7LqukOsMcP/jb1jEa6DIyIHyZgJc9v8DnbMKGf61nnhss/stKYw2D2YkW8WmAQByazkWOT7XywEKrQEWKXm9jvVOKhitzOF09CrM0rKhvB4P5a0E5NZyAgCYp2TC8dg1JD7XrFChmYqqY+OITd1HQy4aELu6PSCw16M25ihSjvwXMhN9HI6IqDKIghE5N08ibuU7UkchoipEZm4J1/6fIUObg9nnHr0+ClVdWqMBL+9fjky9VvIC8ZEjR/DOO+/Azs4O//vf//Dhhx9i586d2LhxY5Fjd+7ciW3btmHSpElYuHAh6tSpU7BvypQpsLS0xNdff40PPvgAERER+PDDDx957djYWAwYMAAHDx7EG2+8gSVLluDjjz+GQqFAdnbRdXWAvCLwK6+8Ajc3N/z222/w8PBAVlYWxowZA71ej5kzZ+Lnn3/GRx99BHt7e2i12qd7g8rIaDTCYDAU+Sqt6OhoAEDdunWf6Pr87Z6qBFEUkHFmK5J3zJc6CpWzjNMboY2NxBsN2uE/J7aZfG+rlA5+UGRrYXv+HmwvRRdsz6rvhrh+rSBaPtmPZUVGLuzO3oHeQYkcb6dC24EHM5MfZrC1zjsmMwdwtYVorkBCrwC4/XEWvgv35eWq6wpNm7qAKMJ153lkNfREdn33J8poKmzMLLD1mTFwtLBC4pb+MGTckTpSlZF+5n+wqtUJynp9IJPx82kiovIkCkYIOZq8Bej0lftLLVWc6BxzHEqywzmNEnG55tAJcnhY6dDRORN9PVJhpSj5iZwdcfZYfDvvvm156+uwM3/8fXiKToHtcQ64mWWFG1mWSDeYoZuLBu/5lfxk5+lUG/we7YTb2ZYwl4loZp+NkXUS4W5VuLARm2uOJbfcEJlpBTszI3p7pKGvZ1qR8X667YpL6UrMb3YHCn6mXC4cu46FuYMnpkRslToKPSURImKy0+HvIO3vZAsWLICbmxt+/vlnWFjkPXnauXNndO/evcixOp0Oy5Ytg0qlKrKva9eumDp1asFrjUaDr776CgkJCXBzcyv22t999x00Gg3Cw8Ph6+tbsL13797FHn/o0CFMnDgRPXr0wOzZs2FunrdO0M2bN5GWlobJkyejUaMHT8b26dPn8W9AORswYECJ+4prEyGKIgwGAwRBwJ07dzBjxgy4ublh1KhRT3R9FodJcqJggD75HmJ+GiV1FKoIoojELTPh/dYqzGr9PP57umr06JGMXAaDrRVyfF2Q2dATgpU5rKJT4HD6Njy2nEHsgLaAomxFM5neAM+NJyHXGxH7cotC58vvt4oQzYqOKd4/Tq5/0PMpq6Enbvu4wiI5A4K1BfSOeS0z7M7dgWVCOu6+0BoyvRHOBy/D5locBAsF0lv6QtP6yT6hrGlkkGF5l8Fo6uiB1GOfIufOTqkjVTlJu1+H19CTMFN5s/8wEVE5kskViF40AobU6McfTNXGvkR77IhzQDvHTHRxyYBCJuKiRonV91xwLNkWc5vehaW8aIE4RafAr/dcYCUXkCuU/t4yJscCG2Kc4WKhh59KizNpjy4Z/JWiwldXPeGr1GJknURkG+XYFueIKZfqYH6zO3CyyLvPFERg3lUv6AQZhtdOwt0cS/x8xw0uFgZ0cM4sGO9qhhV2xTvgiyZ3WRguJzILJVz6fYLU3Cz879KfUsehp9C3dmMs7zIEKjNz5MadhJVHW0lyZGdn48KFCxgxYkRBYRgAbG1t0a1bN2zevLnQ8e3bty+2MAygSDFZrVYDAGJiYkosDh8+fBgdO3YsVBguyfr167FmzRq8/vrreP/99wvt8/X1hb29PaZOnYphw4ahTZs2qF279mPHrAjz588v9vv54IMPij1+5cqVWLlyZcFrpVKJlStXwtvb+4muz+IwSUoUBIiCEfe+6w8hW/P4E6haSj+xFrqXZuLdRh1Nvjjs/sdZWEWl4u7rwRDN7y8Op/aE3tEGbrsuwO7iPaQH+JR6PJnBCM8NJ2EZl4b43i2RW9u50H7BTHH/uKIzRWT3ew0L/+pzLFqaQev1oA2FIjMXzvsvI6l7ExhtLOG66zyUtxIR36clzDJz4bb9LIxKS2T6e5U6d001veWz6O/TDFnXN0Nzcp7UcaokQZuGhPBB8HrlMERRxhnERETlJHn3d8g894fUMaicdXTKwACvFNiYPbiXe95dA897OqyPdsa+BHv08kgrct7iW+5wt9SjjlKHQ0l2pb5efVUulrW+AXtzI9L1cow87VfisQYB+OlWXoF3dpN7sL4/i7mVQzY+uFAHa6KcMa5eAoC8WcN3si0x0/8emtrntUK7m22B4ymqguKwQQB+uOWOnu5paKDi7Pfy4vTMOzCzc8XUGrxAeE1nJpNjVuue+LBZNxj0WYjf2BfamKPwHHQQlm6tK33CRXp6OkRRhIuLS5F9rq6updqWz8HBodDr/GLzo9o6pKamwsPDo1RZ//jjD6hUKrz00ktF9tna2mLlypX44Ycf8MUXXyA9PR3e3t4YOnQoRo8eXant8Pz8/ODv719ku5VV0SeAgbzZzaNGjYLBYMClS5fw9ddf45133sGWLVuKvKelwd/ISFIyuRxxK96B9u45qaNQRRKMSNo6C0oLK0wLeEbqNJIx02TD9lI0suq7FRSG82U2yiusWt0tfQN5mcEIjw0nYX07CQnPByCzadFPCY22eX+ZmGXmFs2T36NYZf3I67jsvQithz0ymtcGRBG2F+4htYMfcus4I7NxLWSpPWF3/m6pc9dUg+oG4JMWPaBLuYKE+4uvUfF0CX8j+dB/WBgmIioHomBE7r0LSFj3kdRRqAL4qbSFCsP5OjvnLbp0J9uiyL7jKSqcTLXBW/USIEfZFoK1VoiwNzc+/kAAlzKUSNGb4Rk3TUFhGADq2mjRxC4HR5NtkT8/QXd/9rLK7MHYtmaFZzVvinVCtkGOIbWTypSZSia3soVLnylIzMnAoivHpY5DT6CW0h4Heo7Dh826QZd0CdFLfKCNOgQIBiRuHwpRnwVRKN2f2fJiZ2cHmUyGpKSif1YTExOLbCvvIqujo2PBgnKP880336BWrVoYOnQobty4UWS/Wq3GggULEBERgS1btqBz586YN28eNmzYUK6Zy5uTkxOaNWuGli1bYtiwYZg3bx7i4uLw3XffPdF4/K2MJCOKAtJPbkDaoaVSR6FKkHZsJfQpUfigabDUUSSTX6CViUVv0mWCWOifj2UwwmPjSShvJSKxZ3NkBNQp9rBcTwcAgFV0apF9VjFpMFqaQedkU+JllNfiYHM9HonPNwcAKLJ1kBuEgn7FQF7vYrP0nNLlrqFaO3tjWdBgGHI1iF4dKHWcaiHj/GJk3dgKsYqstkxEVB2JggDRqEfUD6+wz7CJSdLmTTRw+FchN9sgx5JbbnjWXYOGqqKTA8rT9cy8RZDVtkWv01CVg2yjAjG5ecVrL2sdVGZGrIt2RnyuGU6l2uDvNCUa2ebdQ0bnmGN9lBPerJvwyD7KVDZOz06AwsYRH57kUwXVUQ+vhjj74iQEutaB5uz3iP61JQRdesF+Q/odJO5+vdJnDiuVSjRv3hy7d++GTvdg4e3MzEwcOHCgwq8fFBSEY8eO4c6dx6/t4ujoiOXLl8Pb2xvDhg1DZGRkscfJZDI0atQIn376KczMzEo8rqp69tln0aFDB6xbtw4xMTFlPp/FYZKEKBhhTE9E7C9jpY5ClcVoQNK22bC1sMZ/mnSROo0kdE4qiDIZbK7FQZ6rL7TP9sI9AID2fjEXAGAUYJ6cATPNv1ZcNRjhufEklDcTkfh880e2ocip7QyDyhJ25+5CpnuwKIhFvAbWd5OQqfYqscexTGuA6+4LSOmsLug9bLS2gKiQwyIx48FYienFLnhnKjyt7bD1mTFQQETs2k6AofgVcqmopL1vQ8hNqfTZDkRENYVMLkfcr+9BF3NZ6ihUiYwisC7aGQqZiC4u6YX2rbjrAhHAsEqYfZuiyytQO1kYiuxzvr8t/xhLuYjx9eJwTqPEW2frYfaVWmhil4PeHmkQRWDhLXcEOmWitWNWhec2FXKlA5x7fYjYbA1W3jgldRwqA7lMhs9aPoftz74BO7kMiVteRMrB94s9NvvGZqSf/aGSEwITJkxAfHw8xowZg71792Lnzp0YMWIElEplhV/7vffeg729PYYMGYKVK1fi+PHj2LlzJz7++GPExxddPNPW1hZLly5FgwYNMGLECJw/fx4AcODAAYwdOxbr1q3DsWPHcPjwYUyZMgVGoxFBQUEF51+4cAE7d+7Ezp07YTAYEB0dXfA6JSWlzPkrql3FpEmTYDAYsHDhwjKfy57DJAmZXIHoxcNhzCr7HySqvtIO/wLXFz/D1Obd8U0NWgzB9uI9mGnyZj0osrWQGUU4Hr0KADDYWyOjaV5Te8HaAmlt68Ix4iZq/3II6QE+MFqbwyoqBbaXoqFzUELz0Axgs4xc+Cw5iJzazoge2rFgu8e2v2FzMxHZvi4QzBRQXYwqlEfnZged2/3ecgo5Ep9pCo/Np+H961FoWvhArtXD4eRNGJWWSAlqWOL35Xzocl7mdvUebJTLkOHvBcdjVwGIMMvIhfJGAhJ6t3iKd7D6slKYYfMzo+FqpULi9sEwpF6VOlK1IuQkImnPm3DvV7Uf2yIiqopEUUDG6c1IO7hE6ihUyX6+7YqrmdYYVjsRtawfTDiIzLDC7gR7vO8XV2wrivKmvd8SwlxWdKav+f1F8rTCgyJIoFMWfrK/iXs5lrA1M8LTKi/7ngQ73M62xKSAWGgFGVbedUFEigpWCgHPu2uK7alMj+fccxIU1nZ4b/9yqaNQGbhZqbC66zB08/SDPvU6YtZ2hpD76LpJyuHJsKzVGRbOTSptFnGnTp3w/fff49tvv8XEiRPh6uqKwYMHQ6vVIiwsrEKv7enpid9//x3fffcdFi5cCI1GAycnJ7Rt2xY2NsU/FWtjY4MlS5bg3XffxejRo7Fo0SL4+PhApVJh8eLFSEhIgKWlJerXr48FCxYgOPjBE8+rVq3Cpk2bCl5HREQgIiICALBixQoEBpbuydHc3LynLB5exK88NWvWDM8//zw2btyIsWPHlmlxOpkoFvN8M1EFS971LeJXF//JF9VsTs9OgMfQb/HOsQ1YeOUvqeOUi1qrjsH6XvG9gv9d2IUowu7cXdiduwuLpAzIjAIMKitk+bkjpXNDCErLgkPN0rLhu3BfkTF8ftgL80e0cUjp1BApQepC25TX4+F07CosEtIhKhTI8XVBUld/GByL/8vTMjoV3quOImp458KzmQHItHq47rkIm+vxECwUSG/pi9T2fkAlNuyvKlZ2GYLB9VpCc3IeUo99KnWcasulx2KoGo+s1EUfiIiqM1EwwqCJw42pzSBkFW0dRTXX6nvO+D3aGc+6peHt+4u9AYBeACZd8IGThQGf+UcXbP/uujsOJNljeevrsDMvW8E4f0G6bi4avOdXdDbekluu2B7viO8CbqO2ta7Qvh1x9lh82x3TG0WhhUPJT1Wl6hR495wvxvgkIsQtHQtvuuGsRol368cjRWeGsBvueM8vDp3uL1pHpaOwdUGDr+8gSq9F3d9nSx2HSinYoz7WdB0GZysbZF1ajuS9b5b6XDOHBqg19CRkZlZc16OK2rNnD8aPH4+lS5eic+fOUscphDOHqVKJghG6uKtI+H2K1FFIIqkHF8PlhWmY0fLZGlMcLlT8fRyZDOktfJDeouRWEPkMDkpc/7hvke13xpV9Ub9sP3dk+7mX+nhtLUfc+KhPsftES3Mk9GlZ5gw1zeRmIRhSvxWyb+9mYfgpJR+aBOvaIVCoalV6zzQiouoq+odXWRg2MWvuF4ZDXDV4q25CoX074h0QnWOBUT6JiM01L9iec392b7zWHNlGAR5WhVubPQ2nh1pH/Ls4nPyIlhMP++m2G+rZaBHilg5BBA4k2uH1ugloYpc3EeJUmg32JtizOFxGzr0+gszCGu/8uVrqKFQKMsgwuXk3fN7qeYhGPRLDX0XOjc1lGsOQdg0phyfDJSS0YkLSE7t79y4uX76Mb775Bu7u7mjXrp3UkYpgcZgqjSiKgCgg6odXIeordnEEqrpEXQ6S//gK7q/Mw/D6bdj/iqqlfnWa4Is2vaDX3Eb85uKL6FR6oi4DibtGwePlvVJHISKqFpK2zkb21SNSx6BKtDbKCWujndHVRYN36sUXeWArUWsOATLMjCz+MeKPLvrASi7gt3bXyy2TnypvEcQrGVYIsC88O/hqpjWUCiO8rHTFnQoAOJlqg1NpNvi2ed6iUukGBXSiHC4PFZRdLAy4mWVZ0hBUDDN7Dzj1eBc3M5KxPap6LaplipwslVjRZQh6ejeCPv0OYtYEQciOe6KxMs4vhk2Dl2FVqzMnXFQiURRhNJa8hsp3332Hw4cPo3nz5pg6dWqFtZV4GiwOU6WRyWSI//2/0N47L3UUkljq/h/h0ncK5rTpyeIwVTvNHD2xKngoDLpMxKyqep/6Vle50UegOf0/OLSZJHUUIqIqSxSM0MZcRuLWWVJHoUq0NsoJa6Jc0NUlHe/Wj4e8mC5MIa4a+NsWbTu2I94BF9OVGF8vDiqzB8ULgwDEac1hKRfhavno2b0laWKbDUdzA/Ym2KOvZyqsFXkdK29lWeBSujVCXNNhVsLT7TlGGRbdcsMrtZILeg/bmhlhJhNwJ9sSLe+3oriTbQEn8yfLZ6qc+0yBzMwCY4/+LnUUeoz2rj5Y120EPJW2yLyyBok7RjzliCKS9ryBWsPPAjK2l6gsERERGDHi0f/t5syZg5deeqmSEpUdi8NUKUTBiOyrR5C88xupo1AVIORmIHnX/+DZfwYG+DTDhjsXpI5EVCouljbY1uM1WMjkiFvXDYIuTepINUraX59BWbcnzB0bQibnLQoRUXFilowCjOXXGoCqtu1x9lgT5QJXCz2a22fhzyTbQvsdzI1o4ZCNujY61LUpOkv3VGre+hJtHTML9RxO0Znh3XN10cQ2G7OaFF7c+PcoJwAPFpO7k21ZsK2xXU5BywczOfCabwK+vuaJqZdqo4ebBtlGObbFOcLO3IhXaxe/JgcA/HrXBbZmRrzg9aA1ikIGBDln4PdoJ4gAUnVmOJNmg/H1i/Y7puKZOdWGU8hbiNQk4mDcDanj0CNMaByEL9v2AUQjknaORtaV38plXEP6bbaXqGRNmjTB+vXrH3lMWRaHkwJ/86IKJ4oiRIMOMT+NBsSKXzWXqoeU3d/BpeeH+LpdPxaHqVowlyuwsfso1FLaIWnXGOiTzkkdqcYRjVok7hgBryF/QRRFLlBHRPQvydu/Qu7t01LHoEp0PdMKAJCoM8d3NzyL7G9im/3IBd+exOool0Kvb2Zb4WZ2Xo5XaiUXFIcBoJNzJizkMVgf7YRld11hLhPR3D4bw+skwbmEfsNXMqywO8EBc5rcheJff9W/7psIANgY4wQruYChtZPQzSW9HL+7ms31hWmA3AyvHVkrdRQqgb2FFZZ2fgX9fZpBnxmD2LVBMGbcK9drsL1E5VKpVGjWrJnUMZ6KTBRFUeoQVPPFrf4PUnb9T+oYVMW4vTwbzn2moN/epeyHRVXekk4DMaZhIDR/hyLlEFsfVCT7Nh/CqTNX1iYiyicKRugTb+HG1GZcu4OIimXuVg9+c6/ggiYBLbfwid2qqJVzLawPGYXaNg7IubEVCeEDK+xaZna+qDX8LGRmbC9Bj8f/Q6hCiYIRObdPI2XPd1JHoSooedf/IOpz8W3gi1JHIXqk9xoHYUzDQOREHWFhuBJoTn+N3JjjEIWSF3YgIjIpMhmil4xkYZiISuT6wqeATIaRf5ZPewIqX2+pO+Bo7/dQy1qF5H1vV2hhGHjQXoKFYSoN/l9CFS7mpzEAf8GnYhgzkpC67wfUs3VCV4/6UschKtazXg0xv11f6DOjEbf+GanjmAZRQNK+twHw4SYiIlEUkbInDDnXjkkdhYiqKAtPNew7DsPplBicT42VOg49RGVmiV+7DMX3HQdArk1B7MoWyLz4c6VcO+P8YuRGH+WEC3osFoepQiX/MQ/ae+eljkFVWPKO+RCNenzfoequ3EmmS23virXdRkA05CJmVTsA7JteWfTJl6A5s0DqGEREkhIFI/Qp95Cw/r9SRyGiKsy1/2cAgBGHVksbhApp6uiB0y+8j1frtUD27d24t7g2DGnXKjGBiKS9bwMQwI6y9CgsDlOFEAUjdPHXkbhlptRRqIozaOKQdnAJ1HauCHStI3UcogKOFtYI7/E6lGZmSNj4PIScRKkjmZy0E7NgyIzmbAciMlkyuQKxP42BqM2SOgoRVVGWtZvBPvBVHEu8iyvpvF+tKkb6tcGJvhPga+OAlD8/QPzmPpBiook+NRJpEXO50DM9EovDVCFkcgVilr7GvmhUKkl/fAmIRizsWLF9l4hKy0wmx7puI+CrckTq/vegjT0udSSTJOqzkHxgAldZJiKTJIoiUg/9hKx/9kkdhYiqMNf+n0MwGjD8T84argqsFeb4qdMg/Bz0Ksz0mYhb3Q7pf4dKmint5DzoU69xwgWViMVhKneiKCL1wCJkX/lT6ihUTRhS7iHt8DI0c3BHc0dPqeMQ4et2/RDi1QCZl5Yh8+JPUscxadk3tiL75h+8mSUikyIKAoxZKYhf86HUUYioCrPybQ271i/iYPwt3MlMlTqOyWto54qIvhMwqkFb5EQdxr3FtaBPvih1LMCoQ9LetzjhgkrE4jCVK1EQYMxMRvy6yVJHoWom6Y+5AEQs6TxI6ihk4saq22N8487Qxp1C8t63pI5DAJIPToQo6NkrjYhMhkwuR/yaDyBkp0kdhYiqMNcBMyEYDRh5+Depo5i8V+q2wKkX3kdDe1ekHvsUceu7A4JB6lgFcqMPI+PizxBFrqFCRbE4TOVKJpcjYe1HELI1UkehakafcBOav1ahtZMX1HauUschExXsUR+h7fvDkJ2AmHVdpI5D9xnS7yDtxCz2SiMikyAKRmTfOAHNkeVSRyGiKsy6QUfYNu+JnTHXEJOdLnUck2WpMENY+5ewuuswWBpzEL+mMzQn50kdq1gph6dAyE3hE3lUBIvDVG5EwYic26eRdmSZ1FGomkraNgeQyTh7mCRRV+WEjSGjAEGP6NWBVeqTfgI0p/8HXcoV3swSUc0nkyFu+dsAn5YgokdwGzALRqMBo4+skTqKyaqrcsLR3u/ibf+OyI07iXtLakOXcFrqWCUStKlIPjiJ7SWoCBaHqdzI5ArErRjPG1l6YrrYSKSfXI+OrnXgo3KUOg6ZEFtzS4T3eB0qcwskbn4BQma01JHo3wQ9kve/w5tZIqrRRFGEaNDD3LWe1FGIqApT+neDjX83bLn3D5Jys6SOY5JerNMUZ174D5o7eiDtxBzErukEGHKljvVYWVd+gzbuJCdcUCEsDlO5EAUBaUdXIOfGcamjUDWXtHUWZHIFlnZ+ReooZCLkMhlWBQ9FQ3tXaA5/jNyoA1JHohLkRv2JjH9+Za80IqqRRFGEoDVC0MvhPf531Jt1DmaudaWORURVkNvLs2E06vHakXVSRzE5ZjI5vmrbFxu6j4ISBsSv74HUv6ZLHatMkg9x9jAVVqri8NmzZxEaGor09MJ9bEJCQvDxxx+X6YIhISFQq9VQq9Xw9/dHmzZt0LdvX0ydOhWnTxedfh8VFQW1Wo1ly5YVO97s2bOhVqsLbRs+fHjBNdRqNQICAtCvXz8sX768whazOXr0KPr374+AgACo1WqcOHECoaGhRbKVt40bN0KtViMqKqpCr/MooihC1OciYV3Z/l8gKo723gVknNmKYDdfeCntpI5DJmB2617oXbsxsq+uRfrfC6SOQ4+RcngyRF0mF6cjohpHJpMhevcNXJx/DIl/RcGyVjM0mHcdtd78FZCbSR2PiKoIVfPnofTrgHW3LyBdX/VnqtYktW0c8Gfv8fhP02BoE87h3pI60MYckTpWmWljjyPzyjqIImcPU55S3WWcPXsWYWFh6N+/P+zsHhRrwsLCoFKpynzRtm3b4oMPPgAAZGZm4vr169iyZQvWr1+PIUOGYPr0p//UxdfXF/Pm5TUBT0xMxPLly/HFF18gKysL48aNe+rxHyYIAt5//334+flh0aJFsLKygp+fH3x8fBAUFFSu16qKZDIZErZ8DkNarNRRqIZI3DoTtq36YXGngeizZ6nUcagGG16/NT5q1g26pItI3DFC6jhUCkJOItIivoBT0FypoxARlRtREKFNzkbiiWhAEHFv21UknYxB7X4NYd9xKFSt+yN+zQdI2/+j1FGJSGKuA2ZDb9Bh7LH1UkcxKc/XaoRVwUNha24JzZkFSPnzQ6kjPZXUo1Nh4/cioOAMYnrKthKNGzdGnTp1ynyenZ0dWrRogRYtWqBz584YNWoUNmzYgEGDBmH16tVYtWrV08QCAFhZWRVco0ePHli4cCHs7Oywbl35P3aRmJgIjUaDHj16oH379mjRogVUKhU8PDzQokWLcr9eVSIKRugSbyFl1/+kjkI1SO6tU8i8sAvPeTaAi5WN1HGohmrv6oPFnQbBkJOC6DUdpY5DZZB+9gcYMmPYK42IagyZXIZ74dcA4cFTETlxmbi6+Axurr4Ao1YBr5E/wG/+TVj5tpIwKRFJybbVC7D2bYWVN88i26CTOo5JUMjkmNnqefzx7OtQyYGEzX2qfWEYAAzpd6A5863UMaiKeOzM4dDQUISFhQEAunfvXrB93759GDFiBNq1a4e5c59+9o5cLse0adOwZ88eLF26FEOHDn3qMR+mUqng4+ODK1euFNqek5ODBQsWYPfu3UhMTIRSqYSPjw/efvttdOvW7bHjPvz+zJ07F3PnzkWtWrWwf//+gn0PX1OtVmPEiBHw9/fH4sWLERsbCx8fH7z//vuFrnfnzh38+OOPOHXqFBISEuDo6IiAgABMmjQJPj4+5fSuPD2ZXIG4X9+DyL+YqJwlbvkcdZs9h4UdX8bL+5dLHYdqGG8be2x+ZjTkohGxv3WoFotH0AOiMRepxz6B67N8soCIqj9REJF+LRnpV5OL3Z96IQGayCR4dPWFexcf1J1+CpkXdyL6+0EQcjMrOS0RSUYmg+uAWdAZdHjnr42FdjkdvgKno1dLPFWUy3Djoz6PHF51OQbKmwmwjNPAIjkDMkHE7be6w+CgLHKs1d0kqCJjYX0vGeaabIgKBXRONtC0rotMfy9AJit0vH3EDTicvgV5rh65tZyQ+GyzIuOaabJRZ+lBxPdqgaxGXo97NyqFh7Utfus6DF086kOXcgWxa4Ig6NKkjlVu0k7Og23TMZBbOUEm45JkpuyxxeGBAwciIyMDy5cvR1hYGFxdXQEAbm5u5R7G0tISnTp1Qnh4OGJjY+Hp6VmwTxRFGAyGIueUtueg0WhEXFwcfH19C22fM2cO9uzZgwkTJqBevXrIyMhAZGQk0tLSSjXuwIED0ahRI4wfPx4jR45Er169YGFh8chz9u3bh3PnzmHChAlQKpX46aefMH78eOzcuRO1a9cGACQkJMDJyQmTJ0+Gg4MDkpKS8Ntvv2HQoEHYvn07nJ2dS5WvIomCEdlX/kTm2XCpo1ANlHPtGLIiD6Jfg06wM7diPy0qN0ozC2ztPgZOFtZI3PoSDOm3pI5ETyDz8irYt/4A5o4NuaAGEVV7UX9ce+R+QS8gZs9NJJ2KQe0+DeHQvCcahiUjKXw2kjZ/XkkpiUhKdm0Hwsq7Kb7/5wh0QuHaSKbaEzrHok9cWiamw/HEDWT5uT92fPszt2EZmwqdmx30DkpYpGSVeKzLwcswy8hFZgMPaFrXhUxngG1kDDy2noHmThISewYUHGsTGQPX/f8grZUvdC62cDh5E54bT+Le6C6Fisiuuy8gp45LlSkMd/P0w5quw+BoqUT6hZ+QvK9825NWBQpLR+jTrsPKs73UUUhijy0Oe3h4wMsr7w+nv78/vL29KzRQfkE4MTGxUHE4f1ZuWeQXk5OTk7Fo0SKkpaVh1qxZhY45c+YM+vbti1dffbVg28MzpB/Hw8Oj4DpeXl6laiOh1+uxbNkyKJV5n5Q1adIEQUFB2L59O958800AeX2Z27ZtW3CO0WhE165d0bFjR4SHh2PkyJGlzlhRZHIFEn6fInUMqsGStsyEz+R9+LHDAAz98+nbzRDJIMOyoFfR3MkLqX/NQM7tHVJHoiclCkg5MgUeL2yWOgkR0RMTRRGJx6OQm5hdquN1qbm4sfI87Bo4oXY/Ndz6z4BjyDuIWTgYWf/sr+C0RCQZuQKuA2YiV6/F+xFbi+zWudlB51Z0MW/rnecAAOnNH98ONL5PCxhsrQC5HC67LzyyOJzU1R+53s6A/EFxV9O2HmqtPgb7c3ehaVMXOte8PKorscip7YykZ5sBAPTOKtT67S+Yp2ZB75S3hpXqn2hY30vB3de7PjZnRZNBhv8GdMf0ls9CNOqQuHUgcm5tkzpWuZJbOsC+7WTYt3wXkCuQpTXAylwBhVz2+JOpRqpyy96WNBN49OjR6N27d5Hty5YtQ3h40ZmrkZGRaNKkSaFtM2bMQNeuXQtta968OTZu3Ag7OzsEBQXB39//sTN/n1b79u0LCsMA4OLiAmdnZ0RHRxds0+l0WLFiBTZv3ozo6GhkZz+4Ybx582aF5isNUTAi42w4cm6ckDoK1WBZ/+xH9vXjeNm3NV5XmCPHqJc6ElVzn7TogQG+zZF1Yxs0EV9IHYeeUs6t7ciNPgpLz/acPUxE1Y4oihB0RsTsLfu9ffq1FPzz7XG4dqgNr2fqos5He5Fz4zjuLngRQnpCBaQlIinZdxgCS4+G+OrCfhhFoVTnyPQGqC7HwGBrhex6j3/y22BftH1ESXLruBRzQRky1V6wvpcCi8SMguKwzGCE0dq84DCjlfn9fHlrR8hzdXDZdwnJwY1gsLMudYaK4GJpg1+Dh6BHLTX0mluIWRsEIbsG/UxVWMCu+VtwaP8J5BZ2uJ6UjaGrjsPTzgpbxrSTOh1JqMoVh2NjYwEUbVvh4eGBZs2aFTneycmp2HF8fX0xf/58iKKIe/fuITQ0FDNnzkTDhg3RqtWDRRymTZsGNzc3bNu2DaGhoVAqlejevTs+/PBDuLs//tGLJ+Hg4FBkm4WFBXS6B31758yZg7Vr12Ls2LFo27YtbG1tIZPJMHbsWGi12grJVSYyGRLXT5U6BZmApC2fo86k7Qjt0B+vHyn/BSXJdLzs2xzTWz4Lfeo1JGwbIHUcKicpRz6G1yuHpY5BRFRmMpkM8UfuwZhTtHVeaYhGEQlH7iLlXBxqPVcfLq07oOH/opF6cBHiV44v57REJBmFGVz7f45sXS4+PrW91KepLsdCoTUgpXXdQjN8K5JZRg4AwGhjWbAtt5YTnI5cgfJGPHTOtnA6ehVGK/OCWcMu+/6BwV4JTSvfSslYkk5uvljbbQTcrVXIuLwKSbtGS5qnfMlg03AgHDvPhrmdD5IyczFu7WmsPx97f78Gx26nILCOI2cPm6gqVRzWarU4duwYateuDQ8Pj6cay8rKqqCY3Lx5c7Rs2RK9e/fGZ599hs2bN0Muz2u2rVQqMXHiREycOBHJycnYv38/5s+fj9jYWKxaJd1j7OHh4XjhhRcwceLEgm06nQ4ajUayTPlEQYDmr1+hjb4kdRQyAZnndyDnzt8YWrcFxh3bWKS/FlFptHSuheVdBsOgTUfU6kCp41A50saeQNb1zVDW68vZw0RUbeTNGhaQcPTuU49lyNDhzvrLSIqIRp1+ajg/8w4cOg5D7C9jkR7BD9aJqjuHzqNg4eqLOX/vLtN5dufvQkTpWkqUB0VGLuzO3oHeQYkc7weT+DSt68L6ThK8fo8AABgtzZDQuyVEcwWs7yTB9p9o3BsVVGQRu8r0n6bBmNu6N0TBgKQdI5B1teb87LSqFQSnLl/C0r01cnQ6fPrHZcw7cL3IcZPDL+Pw+E4SJKSqoFTLEea3WajIGauCIGDWrFlITU3Fa6+9Vu7je3l54Y033sCVK1ewY0fxPSadnZ0xcOBAhISEIDIystwzlIVMJoO5uXmhbRs2bIDRaJQo0UNEIxI3Tpc6BZmQpC2fw8LMAl+36yt1FKqGPKxtsfWZMTADELs2CNBzZfeaJvXoJwAnORBRNZNw7O4TzxouTtbddFz+/iRub/gHomiNWuPWoN7sizB39yu3axBR5ZKZW8K1/wxk6nLw+dnSF4fNkzNhHZWCHB8XGBxK3y7iScn0BnhuPAm53oj43i0AxYNSk2iuQOwr7XH7zRDcG9EZt8f1QFZDD8gMRrjuPI/UwPrQudrB6m4yaq08At+w3fBcHwEzTel6sT8NRwtrbOk+Bl+17QshKwbRy9Q1pjBs7uQPt34b4TlwHxQuAVj81x3YT9tVbGEYAI7eTkH4P/EwCsW3eqWarVQzhxs2bAgA+PXXX9GvXz+YmZlBrVY/8UXT09Nx9uxZAEBWVhauX7+OLVu24NKlSxg+fDgGDx78xGM/yqhRo7B69WqEhYWhZ8+ekMvlGDRoELp27YqGDRvCzs4OkZGR2LVrF4KDgyskQ2kFBwdj06ZNqFevHtRqNU6fPo01a9bAzq5ok/nKJIoCUg8sgj7ptqQ5yLRknNmC3OhLeM2vDSYc3wIBpeuzRWSpMMOm7qPhbm2LpD+GwpByWepIVAH0qVeQcfEX2DYdA5msVJ97ExFJRhRFiHoB8UeeftZw0cGB5FOxSLuYCM9n6sKtQ2P4zbmC9FPrEL14JGDQPX4MIqoyHILfgLmjF6adLLrO0qPYnc/7+ZIeUPGzhmUGIzw3nIRlXBrie7dEbm3nYo8zONrA4GhT8NrpyFVABqR0bAAzTTa81h5HWrt6SFI3hdPhK/BcH4F7o4MrrCVGG5faWB8yErWU9si6thEJf7xaIdepbAqlBxw6fArbpqMBEdgZmYAhv55GWu7jP4z87/bL6OX/+P7UVPOUqjjcpk0bjB07Fps2bcKaNWsgCAL27dsHIG+Ga1mdPHkSr7zyCmQyGZRKJby8vBAQEIBp06YV6gdc3pRKJcaNG4cZM2YgPDwc/fr1Q7t27bB371788ssv0Gq18PDwwJAhQzBu3LgKy1Ea06ZNg0KhwMKFC6HVatGiRQssXboUb7/9tqS5RL0WiVtnSZqBTJAoImnLTHiPW4O5bXrho1Nluzki07W440C0c62DtJNfIfv6BqnjUAVKOz4TKv9hgMLyie5NiIgqU8KxezBmV1yrLGOuAVHh15B0MgZ1+qlhH/gqVC1eQMK6j5C6N6zCrktE5UdmYQ3XFz5BmjYL8y8eLP2JggDbi1EwWpkjs+HTtet8HJnBCI8NJ2F9OwkJPQOQ2dS7VOdZJKTDIeIGol9tD5gpYHspGkYbC6R0aQTIZEh6pil8Fu2HVWwqcmsVv87U0xjn3wnftOsHmSggec9YZP6zvNyvUdlk5jawb/0f2LeeBJmZFc7GZODVladxLSmr1GNcjMvAr6ejMLSVN3sPmxiZKIpPPGe8Xbt2GDBgACZPnlyemagKS9r2BRK4EB1JQSZH/XlXIDjVhupX/j9Ij/dhs26Y26Y3cu7sQ9ymnlLHoUrg2PmLvBtiFoeJqAoT9EZcmHcUhix9pV3ToakbavdpAAt7K+iS7iAq7GXk3jpVadcnorJz7jkJ7q/Ox7t/bcQPkcdKfZ7NlVh4bjqFtDZ1kfRM0ye6tsvuC3A4cxu33+peclsKgxGeG09CeTMRiT2bIz3Ap3SDiyK8VxyB1s0OiT0DAACuu87DMj4dUSM6F4ztN3874l5ojUx/ryf6Hopja26JJZ0GYWDdABiy4hG7tgsM6bfKbXxJyBSwbToajh1mQKF0xb3UbIxacxYHbiQ/0XCN3FT456Nu5RySqronevby2rVrWLJkCTQaDQICAso7E1VRgjYLSTvmSx2DTJUoIGnLTFibW2J6i2elTkNVXJ/ajfFF617Qp99hYdiEaM58Cxj5yDQRVV2iKCLhr6hKLQwDQNrFBFz8+i/E7L0JM4faqPtpBOp8uAtya2lb1hFR8eRWKjj3+S+ScjLLVBgGHmopUcJCdIrMXJgnZ0Cmf4qnFx4uDD9fhsIwAPtTt2CWnoPkbo0fDKeygnlqJmDIW2PJMjHj/nbLJ8/4L80dPXHmhf9ggG9zZN/agXtLfKp9YVhZrw9qjTgHl+4/IEtmj9fWnoXP7H1PXBgGgMiETGy+GMvewyamVG0l/u3zzz/HrVu3MHr0aDz33HMAAIPh0T9Y5HI55PLq1QdQFMXHLgCnUChMYoaSKIpI2RsGIStV6ihkwjTHV8N1wEz8p0kXzCjDggxkWpo4eGB112EQ9FmI+bWt1HGoEgnZCUi/sAR2Lcax9zARVUmiQUD84QroNVyaa+sFxO67heTTsfDu3QCOTZ9Fw9AkJG+fi8SNn0qSiYiK59TjPZipnPDR4TVlOk+RkQvlzUTkejpA51b8hz/OBy/D7mIUogd3QI6PS8F2q7vJsL6XV1S0iksDANifuQXB0hwAkNqpYcGxHtv+hs3NRGT7ukAwU0B1MarQNXRudsVe30yTDec/IxHfuwUEK/OC7Zn+XnA6ehWem04hq747HE7fgs7RBrlejmX6/kvyWoN2CO3wEhQAUg5MQMb5heUyrlQs3FvDqctXsK7VGTq9HnP2XcPUHZHlNv7c/dfxYlPPchuPqr4nKg6vXLmyyLYmTZo88pz+/ftj7ty5T3I5yWzatAlTpkx55DErVqxAYGBgJSWSjmjQIXnnN1LHIFNnNCBp6yx4jV6Mj5p1xZcXDkqdiKoYF0sbhPd4DZYyOeJ/7w5BlyZ1JKpkmtPfwC7gTYDFYSKqYkRRROKJaBgypX3CQZeWi5urLsDWzwl1+jWE6wufwLHbW4heNBxZF3dJmo2IALnSHs69P0JcdjqWXy9b+xe7C/cgE8UnWohOeScJTkevFtrmGHGz4N8fLg5bxqblnXM7CcrbSUXGSunUECnFFIddd11Ato8LshoVbhWhd1Ih9qW2cD54GS4H/0GuhwMSn2sOKJ7ufk5pZoEfOryE4X5tYMhJRuy6bjCkll8RtbKZ2dWFY6eZUKkHQTAa8NvfUXht7TnkGsp3wfaIu2k4eD0JQfWc2XvYRDxVz+GHXbhw4ZH7HR0d4e1duubkVUVqaiqioqIeeUzdunWhUqkqKZE0RFFAyp5QxK+aKHUUIsjMLOD39W1kW9vDaTVnudAD5nIF9jz3Jjq6+yJ59xvIulz0g0wyDS7df4Sq6WjOHiaiKkUwCLjw5VEYMqpQ+xu5DG4dvOHVox7kFgrk3DyJqAUvwqCJlToZkcly7T8Dri9+ilcPrMTvt89JHafa8rd3x/qQkVDbuyI36hDiNvUChIpbCLQiya2c4NBuCuxajAMgx+HbaXh15SnEVeDfJz0aumLX2PYVNj5VLeVWHKaaSzTqce2DejCkPLpQTlRZnHq8C49h3+G9vzbh+8ijUsehKmJhx5fxhro9NGd/QMrBiVLHIQmpmoyGa49FUscgIiogiiISjkUhKvzq4w+WgJnKArWeqw+X/7N339FRVWsfx79TU2aSTDqkUQIk9Bp6aAIqvYgKKGDHC1iwoL6WaxfLtYANFUREQJAOIqDSJfQOAUJJ75PJJJPJtPP+EY1GWoAkJ2V/1nJdc2bPOb/JNcmZZ/Z+dqcQJKcT49avSF8wBVwVOxtNEISrU+n9afq/i6Ta7TRY+obccWqs8Y078GWPMWiUCkw7XiT/QM1cBa1QueHdbiqGLs+j0HgRn1nAuIUHOJSaXyXXPzC9F63reYvZw3WAmFIjXJXkcpK3c4EoDAvVinHLVzjM2bzSfoDcUYRqYkrzHjwU1RVr6i5RGK6rFEo8m4wiZFwcgQO+RHI5cImNNARBqCYkp0TG1gtyx7giR4GNiz+d5OSne7GkFeLXbzJRn+bh3W2c3NEEoU7xH/QMCq0n//ljudxRaiR3lZovut/Bd73HoXEUkrGoWw0tDCvQR48nbNJJ/GLfJrtYy6j5+2jx3pYqKwwDvLX5jCgM1xGiOCxclUKpImf9e3LHEIQyJLuVnHUz8XfXc19TseFYXTcgpBkfdhmOvSCNtB/7yR1HqGpKDfqWkwibeIzgIYtR+rXiu31J9Pp8N0pxMysIQjUgSRLZe1OwV6d2EldgSc7n1Gd7ubDsBC7JjdBHvify7RNo60fJHU0Qaj2VTzB+Ax/nvDmXdckn5I5T40R6+fPHkMf+nDDyB0lzwrBl1by2HO7hfQkZv4fA2+Zh0wbx1Opj1Ht1E6uOpVd5luVH0ziXU4hTTLio9URbCeGKJJcT86G1JH88Qu4ognAJhZuOZh8mka1QEbLkNbnjCDJp5h1I3NDH8VS4SJnXDJclU+5IQhVRaHR4tXoQn47TUevrYym28WVcEjPWnuCvPTl+ebgr/ZoEiBkPgiDIyuV0cezdXdjzi+WOcl2UbipC+jcmqHs4IJG/7ydSvrwHHNW/yC0INVHw+I/wGzCNARvm8Hv6Wbnj1CijG7RhbuxdeKjU5Me9SV5czWvJofFvhV/s23g2vBWHw8GXcUk8vuqY7N19HuwSwZwxbeUNIVQ6URwWrur8a90oStgtdwxBuKyAYf9H0Og3GLdlAUvO17xPhYWbY9B6EDf0cRrqfclc2o/itD/kjiRUAaW7P97tpuDdfhoqNx/yLMW8t+Ucb/926Zuo/k0D2PhINxlSCoIglJAkiew9KSSujJc7yg1zD9IRPrQZ3k38cNmsZC59ntyNH8kdSxBqFbVfGE3fS+B0YR4tlr8rd5waQ6NU8W7MEB5rEYvDZiZzxWCK02pW/UKlC8G32yvoW05AkmDdySzuXXSQfGv12DxPq1Jy8cX+BOq1KBViwkVtJYrDwmVJLidF5/Zy4XXxplqovpQe3jT9MIk0l4sGP9a8T4eFG6dSKFk34AFuCWlG7u+PYT4iNh+r7VT6MHw6PoFX64dQqj1IMxXx0i/xzN2TdNXnHZzei1ZiIw1BEGR07H9/UJxlkTvGTTO0CCRsaDPcDO7YcpJInj0G67k4uWMJQq1Qb+Ln+PZ9mNh1n/JH1kW549QIETpffuw3gZiAcIozDpK6tC84as7vWoXWC0OnZ/Du8AQKlZb9yfnctWA/53Or32t4qndj3hvaUu4YQiUSPYeFy1IoVeRu+ljuGIJwVa6ifHI3fkyYzsDQ8BZyxxGq0HsxQxgQGkXhie9EYbiW0/hGETDgK8LvP413u6mcy3MxfG4coa9vvmZhGGDmb2dFYVgQBFlILgnzOWOtKAwD5J3I4vgHf5C66Rxqn1AavfQHEc9uRunhI3c0QajRNAEN8e39IMeMGaIwXE6Dw5pzaMR0OviFkLfvA1IXdak5hWGlGq82kwm/7zSGzs+RmO+k92e76Pzx9mpZGAb4cvdFTFY7Ym5p7SVmDguXkCQJpzmL00+EgdMudxxBuCqV3p+m/0sk0WYlctlbcscRqsCDzbrwZY8xFGccIHVRV7njCJVEG9wRQ8wMPCOHgSRxJK2A/yw/yh8Xjdd1HpVSQeKL/ann5YZCLIUTBKGKnfvhKMajta8fvtbgTtigJvi2DsblsJO74X0yl74gdyxBqJFCHpyLT48JdFr9MYeMqXLHqdbUCiWvd7ydZ1v3xWEvJHPVCIqTt8odq9w8I0fgF/s2GkMkeZZiHlt5nO8PpMgdq1xeuzWK/+vfVNxP11JquQMI1ZPx189EYVioEZwFOeRunk2DQc9wS0hTfk09I3ckoRL1Cm7Mp91G4bBkkbqk1xXHLdhrYOE+3ys+rlJKrHvkwjWvt+eiB4v2GziXo0WjkmgXauXBbrnU8760B1hhsYL5e3zZeV5HvlVJfW8Hw1rlM7ilmX/fQy0/7M2qo96Yi1W0rGdlSmzOJefMNKt4ZEkYT/bNoldk9ZxFUBncw/th6PwcHuF9cLmc7Dhv5OGlh4nPKryh8zldEl/tvshLA5pVcFJBEIQrkyQJR6GdvBNZckepFLY8K+d+OIZX4xTCh0cRMOR5DL0fImXOBAqP/Cx3PEGoMbT1muHTYwIHctNEYfgaQjy9WdznXnoEN8KWc4K0Jb1w2fLljlUubvW74hf7Lu4hXSm22/nvxnhe23ha7ljX5dNdF3iuXxPUKlEcro3EzGHhEpLTwZnpETjy0uSOIgjlovIJpukHFzlryaf58plyxxEqSUO9H/uGPYGXSknq/BY4zclXHHsuR8P5HO0lx8/naFl2yED3RoW8fNvVZ3LtOOfJm78E0TjAxm3NzRTalKw84oNSITHrjlT8dc7SsXYnPLUyhIRsLcNa5RPha2dvoge7zusY38nIvTF5pWO3JXjy1sZghrTMp4GfjRVHfHBXu5g9JpV/dj94eX0wCiReHVT7ZpxdQqHEM3IEhs4zcAtqj9Pp4OdT2Uz+6Sip+dabPn2Yjzvn/6+/aC8hCEKVkSSJ9C0XSN14Tu4olU+pILBrKKEDIlG6qbCe30/SJyNwGGvGbDhBkFPo5IV4d7mL1iv/x0lThtxxqq3+IU35ofc9GLQeFBz5ktwtj8sdqVzUhib49XgDXdNROJ0Ovj+QxiM/HcHmcMkd7Yb8NLETw1rWE/fUtZCYOSyUIbmc5O9dJgrDQo3iNGVg/P0Lmg6YRveghuzKvCB3JKGC6dVurOl/P94aNzJXDLlqYRigsb+dxv6Xrn74eKs7ALc2N1/1+Q4nfL7Dn0C9k/dHpOGhKfkcNSaiiGnLQvh+r4HH++SUjt9w0ovTmW482jOH4a1LZjDc3sLM6xuCWHLAwMDoAoK9SmYG7zyno3VIEVN7lTw/wtfOjNX1STOpCTWUjNlyRsexVHe+vPvqr7PGU2rQNx+PIeZZNIYm2B12vtuXxNTlxyiwVdwOzckmK+tOZjC4ebC4mRUEocpk76kjswBdElm7kjEeziBkYCQBMR1p+sFF8rbPI23+I+CqmUUQQahsbqEt8e56N7uzEkVh+AqUCgUvtR3Ai+0G4HJYyVo1gqKLG+SOdU1KjwAMXf4P7zaPAAp+O5vF3QsOkF1okzvaTZmz+yIjW9eXO4ZQCcSGdEIZCqWK3M2z5I4hCNctZ/174HLyRfc75I4iVDClQsHC3uOJNgSTt/NFrEm/3tB5rHYFW8/qCdA56BRedNWxR9LcySlUc2tzc2lhGCAywEabECtbE/Q4/p44zO9n9LipXdz+r6LzyDYmHC4F287qSo/ZHAq83P5+o/zXv1sdJX+SzcVKvtzpx6QuuQTqndRGCo0O7/aPE37/WQIHzMHuEcGH2xLQvbCBSYsPVWhh+C9f/HFRFIYFQagSkksiPz4HW97Nr3yoSRyFdhJXnOLUp3spTC3At8+DRH1mwqfHBLmjCUK1FDjqNSRJ4t6tP8gdpVoKctfzy8CHebn9QJymc6R8E1ntC8MKtQc+MTMIv+803m0f5USmhdYfbKP/F7trfGEYYNPpLJLzinCJBgS1jigOC6UklxNr4mGKzuySO4ogXDeHMYW8bXNp4RNEB/9QueMIFej1DrcxJKIFltPLyN//wQ2fZ1uCDotNyYBoM6pr/PU7nekGQPN6l76xjw4uxmJTkmzSAOCSICFbS2SADa267I1Ss+BilAqJ+D/PV3LOYvYnebD3ogfp+WoW7jPg5eYkzFAy0/mrXX4EezsY0urqs5trIqW7P4auLxP+4AX8e79HgdKP/1t/Ev3//cJTq09QmSvsNsZnkiRuZgVBqAIKpYKsuFq+8uMqLClm4j/fx/kfj+Nyagl56Fsi3zmFNqSF3NEEodpwb9gB706j2JpxnvMFuXLHqXZigxtzaMRT9KkfifnYtyR/2xyXNVvuWFemUKJvMYGwSafw6/E6GUUqBn+9l9bvb+VERoHc6SqMS4Kv4i6iFJvS1TqiOCyUUihV5G76RO4YgnDDste+A0jM6TFG7ihCBRnfuAPPtbkFW84Jsn4ef1Pn+uWkFwokbo2+9g1abqEKgADdpTN3/XUls1pzCks6MxUUKyl2KAnQXTrbVasqmRmc8+f5AIa3zqdVfSsvra/HpIXhHEpxZ3rfbNzUEodT3Pn9tJ4nemdTmya5qvRh+PV+n/AHz+Hb9UUyrVoe/PEQfi9v5O3fzlZJBpcEX+y6IG5mBUGoVJIkYTNZMcXnXHtwbSZB7sF0jr2/i4ztiWiDmxH55lHCpi0Hrbvc6QRBdoGjXsfldDBp2yK5o1QrChQ827ovv94+GX+Nlqx1Y8ne/LDcsa7Ko8FAQu/ZT+DAr7Fq/Jm24iihr29mQ3zt3Ddk7p4knC4x2aK2ET2HhVLOonxMu8UfJ6HmsmdfwLRzAe163Etzn2DRu6uG6xwQwVc978RhNZKyqOtNnSvJqOF4ujvtQouo533tlgV/tXjQqC698dH+eazYoSjzv5cbC6BVS6VjANzUEm8OySDVpMZsVRLua8dTK2FzKPh4awB3tM+job+do6nuzN3tS4ZZTdPAYqbE5hDkVbPaTGh8o/Dp9DT65uNBoSQhp4jpq+NYe0Kem+W5e5N49dYo1NeaOi4IgnCDFAoFWbtTQLxvBsBV7CTl57Nk70slfEgzfDqNJLqNkazlL5Lz842vBhKEmswjsitebQexIfkUyRaT3HGqDT83T+bHjmVQeHPs+YmkLumFq7D69m7XBrbFL3YmHhH9sDvsfLgtgadWn5A7VqVLMVn5+VQGt0eLvTxqE/HuSABKWkqY/liIZLt6H05BqO6y17wFCgVf97xT7ijCTQj19GFV//tR4SJtUXdw3Fzfxl9O6QG47Rob0f3FXV3S38DuvPSGx/bnMbc/W0j89b+XGwslPYbd1JdWCUJ8HEQF2/DUljz2/T4DCiTGdswjw6zmhbXBtA218uqgDCQUvLy+Hs4asqePNrgjQUN+JHTCYfTN7+FIWiE9Z++i2Tu/yVYYBsgwF7PyWLqY7SAIQqWRXBLZ+6tvMUMuxVkWzs47xNnvDmMvlAi++32afpiMR9MeckcThCoXeMcbJbOGty+WO0q10SUwgkPDn+K2sCgK4n8keW6TalsYVnmFEzBwLiHj4nAL68XyI2n4vryxThSG//LV7kRRGK5lxMxhAShpKWHa/q3cMQThptkyzpAft4Qune8k0sufBHMdX9ZZA3moNKzqfz/+bp5krRmDw5RwU+dzuuDXeD1ebk66Ny4s13P8/mwnkV2oIsLXXuaxv9pJ/NVeQu/mwk3tIrvw0j+pNmfJBnP+l2lP8U/ncjQsP+zDW0PT0arg99M6DB4uJnY2olDA5B453P9DOPGZbrSoV1yu1yAH9/B+GDo/h0d4H1wuJzvOG3l46WHis8r3fa8KX/xxkTvahsgdQxCEWkhySeQdz8RhrvmbDlUW08ls8s/kEtwzgvr9GtLwhe1Y4reQ9MkoXJY8ueMJQqXzjO6NvsUtrLx4lCxr7elFezMeaxHLezFDQHKS/cv9FJ6qnhv0Kd188ImZgU/7aaDUEJeYx10L9pNUxzYfBVh/KpP0fCvBXm4oRMu2WkHMHBaQXC6K009TdG6P3FEEoUJkr34ThVLFVz3E7OGaaF7s3bTzCyE/7g2Kzq+56fPtvuCJsUjNLc0K0KquPR6gWVBJAfZk+qV9EU9luOGpdRHmU1I0ViogMsBGQrYW279qwKcz3HBJitLzXY5Lgo+2BDIgykybkJKby+xCNf46B3/dawXoSwrR2QXV8DNdhRLPJqMIGRdH/dEb0Ib0ZO3xdMJf/5Xen+2qVoVhgN8TsknILhQb0wmCUOEUyj9bSghXJTlcpG+5wLEP/sB4LBNd8740m5VJ0F3vyh1NECpd0Og3cTrtPLBjidxRZOetcWdp34l82GU4kiWTtG9bVs/CsFKDd7uphN13Gp+OT5FgdNB91k66z9pZJwvDAE6XxDd7EuWOIVSgavguU6hqCqWSvG1z5Y4hCBWmOOU4+ftWENt+KGGePqKXVw3yYtsBjGnUFsu5deTFvVEh5/zllBcAt16hpUROoQqLTUmg3oG7pqRg2Ka+FT9PB7+c9GJUWxMefx4/l63lSKo7A6IKUP+j0NynaQEn0gP4+YQ3w1vnlx5fccQHlVKiV+SVC6SrjniTVaDirSHG0mN+OiepCRpszpJN7S7kaP88fu1+yVVGqUHffDyGmGfRGJpgd9j5bl8SU5cfo8BWjXL+iyTB539c4P2hLeWOIghCLSK5JIpzizCfM157sACA3VTM+UXHyNqdTMTwKAIGPYOh1wOkfj2JgoM3/+GwIFQ3ulYD8WzWg8XnDpFnq9lFRU1uAV7HkvG8kIXGaEHhdGI36CiIrk9ep8ZI2quXmtoZ6tFrTxYLfnqZmckXKCwoxE/nJCookDvbm2gSWHYFRtxFD9Yf9+J8rhZTkQqNUiLY20H/ZgUMbmlG+68WbssPe7PqqDfmYhUt61mZEptzyb4jmWYVjywJ48m+WfSKtFw2p67ZGHx7vInGpyE5hcVM/f4ASw5Xz3YXVe2bPYk8f0tTxLzh2kEhSWLqTF0nuZycmR6Bwyh+yQm1h3vDDjR+dT8bU+K5feNXcscRymFUg9Ys7TcRe14Cyd82r5Bz5hSquHdBOE0Di/l4dNplx7z/WwCb472YOSyNtqF/36hvS/Dk7Y1BNA6wcVtzMxabkhVHfFAgMeuOVAL0f08Ttjth+ooQzuVoGd46n3CDjb2Jnuw6r2NsRyMTO+dd9toZZjWPLA7lqX5ZxP7jpjQlT80jS8LoEF5ETISFNce8cboUfHlXcpmitBwUGh1erR7Ep+N01Pr6WIptfLk7iRnrTuCoIT2RA3Ra0l4ZKHqlCYJQoZLWniZzZ5LcMWompYLAzqGE3BqJyk2F9eJBkj4ZiSNHzEwTao9G/92LJrwt/oteocBRs9vP+G85ic+B8xQ2qYc1xBdJpcDjYg5ep1IpDvQmeUJPJM3lb1ofierGm60H8MDEiTQPyMfffhgPrYsss5qN8V4YLSreGJxOu7C/78uXHPAhPtONyAAbfp4ObE4lx9Lc2J6gp31YEW8NSS9dcbctwZO3NgYzpGU+DfxsrDjig7vaxewxqfzz1u/l9cEokHh10KX7YbiF9MC/13u41euE1Wbn9c1nefu3sxX6PawNNjzUhX5NA1GLe+oaT8wcruMkl5PC45tFYViodawXDmA+vJ7+rQYS6K4jy1q9lrYLZbXzC+G7XuNwFOeT+kOXCjvvplN6XJKC25pff0+3XpEW3G7PYNF+A1//4YdGKdEuzMr9XXPLFIYBNCp4e2g68/f4suWMDrPVm/o+dv7TM5uhra68Cd7sbf60CysqUxgGCDU4eOm2DOb+4cfc3X40DSxmWq8cWQvDSnd/vNtNwbv9NFRuPuRZinl33Une+b3m3ShnF9rYfCaL/k0DRYFYEIQK4XK6yDlw+Q8hhXJwSWTtTib3SAahAxsT0Lk9Td87h2nXd6TOfRBcNeTTR0G4An37oXg06sS3Z/bU+MIwQEFUfYxdm+By15Qey2/fEPs2HX67zuB9JBFTx0ZlnqNTa/mi+x2Mi+yAw5LFx8NO48g7U2bMoJZmJnwfzk+HfcoUh+/qcOlK0OGtYfY2F2uPe3M6U0tUcMn3dec5Ha1Dipjaq2TvmQhfOzNW1yfNpCbUUDJ7eMsZHcdS3fny7uQy59T4RuHb8y10kUNxOh18HXeR//x0pMZMgKhqX8UlMjAqSO4YQgUQxeE6TqFUkbd9ntwxBKFSZK96Ha+2g/iqx52M+FX8d15dBXt4sbr/A2gUkP5jH1y2/Gs/qZzu7mji7o5XbyvydL9snu6XfdnHujQsokvDonJdS+/mYkpsDlNiy78J4uuDM674WJcGRXRpIH/vSpU+DJ+OT+DV+iGUag/STEW8tOoQc/fU7Nlxiw+mcKu4mRUEoQJILon80zk4i6pvS52awmmxk7gynqw9qUQMi8IQex9eMXeSsfAx0QZPqLkUCoJGv4HNYeM/u5bLnaZCFNc3XPZ4QXQIfrvOoM0qOzmipaEey/pNpKl3AJaLm8lYMQS4tOJq8HCiVUmYi8u3PVawV8nvXXPx3zMobA4FXm5/n/uvf7c6lH+OVfLlTj8mdckl8M8JHyrPYAxdX8Sr1YMA/BKfyfiFB8i1lN2YWihr9fF0sgtt+HtqxMZ0NZwoDtdxzqJ8zAdWyR1DECpFUcJuCk78yqCoXhi07jW+t1dtpFWqWN5vEvU8vMjZMAF7zjG5Iwl/0vhG4dPpafTNx4NCSUJOEdNXx7H2xKVL72qilcfS+dLpQqsSe/MKgnBzFEoFxmO143djdVGUaib+i334tQsmbFBTQh74Bv/Bz5E0axS2ZHGvINQsXp1G4x7ehs9P7qTYVbs/RFKbSyZVOHVupccmNOnE591Ho1YoyN32DPkHPyl9zOmCgmIlTklBVoGKnw75UGRXEhNx+ckZFpsCu1OBxa7keJo7Px70wdvdSXTw35s/N69XzMJ9BvZe9CDc187CfQa83JyEGUoKvV/t8iPY28GQVmYUak98Oj6JT6dnUKjdOZJq5u7v91e7DZWrK7tTYvHBFP7TvSGiNlyzieJwHSa5nOTHLUayi4KZUHtlr3qdhs9v4fPudzB2y/dyxxH+5cseY+ga1IC8ff+j8PSPcscRAG1wRwwxM/CMHAaSxJG0Av6z/Ch/XKxdmyyZrA42nMpkcPNg0VpCEISbIrkkTCcuvwJFuDm5hzLIO5FN/b4NCY6NJPL1w5gPrSH587FgK9/KHkGQlUJJ0OjXKbYX88SeWj4pyyXht/MMklKBuUUoHioNn3Qdwf3NuuCwGklfesslE0GSjBom/xhW+rVO6+Su9nnc3SHvspf43++B7DinK/06OsjKlF456P8xU3h463wOp7jz0vp6ped8ul82bmqJwynu/H5az6wx6fi0vh/f7q+h8gwiOa+I+5bE8esZ8bv8ev10NI2pPRtde6BQrYnicB2mUKow/bFI7hiCUKksp7ZiObOLUY1j8FRrsdSCHl+1xfRWvZnQpBNFSb9j3PGc3HHqPPfwfhg6P4dHeB9cLic7zht5eOnhWj1zYvHBFIa1rCd3DEEQajDJJZF/NhentXbPBpSTy+Yk5ZcEsvenEj6kGT4dhhP9qZGsla+Qs26m3PEE4ap8uo3FrX40HxzdgqOW984O2HwM91QjOb2jadSoEcv6TaSlbz2KUnaQ/tOt4Lq0RUM9bwdvDU3D4VSQatLw2xk9hTYldqcClVK6ZPz4TkYGtczHVKTiSIo753O05FvLbsrhppZ4c0gGqSY1ZquScF87nloJm0PBx1sDGNs3gB5PrOZwgpnJE6cSfz6RXM/6ZLUaCZ6+lfb9qa22n8shp9CGv04rdxThJigkSbr0J06oExwFOZyeFgwu57UHC0INpms1kAbP/MJ3Z/dx3/bFcscRgEFhzVnV/36c5iSS5zaRO07dpVDiGTkCQ+cZuAW1x+l08POpbB5edph0c+3/IEWnVZH16q24X2E3bUEQhPK48NNJcvaJzZ2rineUPxFDo3Dz98BuTCP587spit8mdyxBuJRKTZOZp3EaQvD+/iVcl+mxW1v4bTuF364zmNpF0PfRCXzd8y7clCry/3gV0953yn2eIruCqUtDCfa289aQK+/N8Zd1x734dLs/7w1Po2X94quOnX+kObsu+rD2582kpqcx6PbBZDXsRUH91vjH/4K6yEhi7+mgEC3HrtcXo9vwQJcIsRqvBhP/1ddRksuJee8yURgW6oTCYxspurCfsQ3boFWKBRNya2EIZlGfe3DZLaT+0FnuOHWTUoO+5STCJh4jeMhilH6tmL83Cd+XNjFs3t46URgGKLQ5WX0iA6dLfE4uCMKNkVwSppNZcseoU/Ljczj+4R8kbziLShdEw+e20OD5rSj1fnJHE4QyDD0nog1sxAfHt9XuwvD2ePx2naGgTQQvvfIKi/rci5vTSsaSXtdVGAbw0Ej0aFzIgSRPUk3Xft92S7MCANad8L7iGLV3Q/Ki32XZHievvTmTlSey6PL4R1jVOnKib6PYEEZWq+G4mdNxNyZeV16hxE9H00RhuIYTxeE6SqFUkb/vJ7ljCEKVyVr5Khq1lo+6DJM7Sp3m5+bJmv4P4K5UkbGsPy5rrtyR6hSFRod3+8cJv/8sgQPmYPeI4H9bE9C9sIH7lhyiwFb3lkUvOZgibmYFQbghkkvCfN6Io1DsZl/VJKdExtaLHPvgD3KPZKCL7kWzjzMIHvuB3NEEAQCFWkvgiP9SYLPyysFf5I5TaXx3xOO38zSudpGs+uwbprToSXH6PpK+CsOWsfeGzlnsKLkvMxdfu1xldylwSQrM1kvHKt188YudSci9R3jz6x106387d2ws4O7vD0ChEYeHD3/touZwNwCgtubdUOa67vez2ZiKxN/CmkwUh+sopyWPwpO/yx1DEKpMwcE1WJOOcl+TTqiV4lefHNQKJcv6TiRCb8D466PYMvfLHanOULr7Y+j6MuEPXsC/93sUKP14ft1J9P/3C0+vOYGj9k5muaafT2VSUFz3iuKCINw8hVJB3rFMuWPUafb8Yi4sOU78l/uxZlnxv206zT7LxavjSLmjCXWcofeDaPzCeOvIr3JHqTS+O07jv+M0Pp1bsnf+Mtr7h5K35x1SF3cHx9+b3ucUqkgyarDa//4wPq9IyeUWbuVaVGxP0OGhcdHA117m+OWsOlIyYzg6+O+WEgqVG94dniT8/jN4d3iC/335HccSEpknxZCaX5LL4e6DtiALhbPkHlBrTis57uZzg9+Nus3hklhxLF2sxqvBxPrqOkhyOcnftxyc4s2wULdkrXqN8KlLmdlxCE/tXS13nDrnk64j6V0/EtPhLyk4MV/uOHWCSh+GT8cn8Gr9EEq1B2mmIl5adYi5e5LkjlZtWB0uVhxLZ1z7UDGDWBCE6yJJEsbjoqVEdVBwIY+Ts+II6BxK6K2RhE37CWviYZI+GYEj+6Lc8YQ6RqFxJ3D4y5iKLcw8WjsnZPnsP4//jnj0AX68MHoCv69bS/7+/2HPiwd0+Ho46RBeUoidF+fL5ngvZg5Lo21oybHfT+tZcdSbHo0sBHs50KgkkvM0bI7XU1Cs5Ik+2bhr/i40Tl4SSst6VpoE2vDXOci3qjiQ5MGhFA8a+tkY2cYEKNBF3Y1fzzdQe4WTWWDlgS82cOrLWWS0uwuXxqP0fAUhbfE/vYn6++ZTGByNz/md2HQBWH0jqvLbWKssP5rGpJhwuWMIN0gUh+sghVKFWbSUEOog877lFKefZnJUF57Zu7ZW9/6qbh6N7s4j0d2wpu0m9/dpcsep9TS+Ufh0ehp98/GgUJKQU8T01XGsPSFmuF3OkkMp3NsxTO4YgiDUIJJLojDRhKOO9GivESTIjkvBeDSDkP6RBHZpS9N3EzD9sZDUbx4Al5gYI1QN336PovYJ5uXdK+WOUmn8si0AFGTnMmPGjH88EgRA65AiOoSnX/H5rUKsnM5yY/cFT4wWFQ6XAoOHk/ZhRYxok0+LemU3lxveOp/9SR6sOeaNuViJm0oi1GBnUpdcRrTOx9CoN3693sUtqB2WYhvPrznOB1vPERL3NVJAUwpC2pY5n10fSGrMRAJOriPgxHqshjAy24wGpdik+EZtOp1Foc2BTlu1ZcZZs2Yxe/Zs9u7di7f3lXtPV0f33nsv+fn5rFq1qvRYVFQUEyZM4P/+7/8uGf/tt9/y9ttv8+uvvxIWVvLe5bnnnmPFihWlYzQaDWFhYQwZMoSHH34YrVZbriyiOFwHOa1mCo9vljuGIFQ9yUX2qtcJfWQBr3W4lRcP/Cx3ojqhX/0mfNxlBPbCdNKW9JE7Tq2mDe6EIeZZPCOHgSRxJK2A/yw/yh8XjXJHq9Y2nc4i32rH210jdxRBEGoIhVKB8aj4wK06clocJK2OJ3tvCuHDojD0nIBXp9FkLHqSvC1fyR1PqOUUbjoChv0fOdYCZp/cIXecSnFraBQL57+Gt8adgsOfkrv1qauOf7pfNk/3yy5zrGmgjRn9y7/yYnynPMZ3yrvkuMavBX6x3+HZ6HYcDgef77rAtJVHcf05Byi1y4NXPKcluAWJwS3KnUG4umKHi9XHM7izbYhYjVfFPD09mTdvHgBGo5Hly5cza9Ys0tLSePPNN8t1DtF4s46RXA7M+1ciOcQsB6FuMu1ehC3rAo817yF3lDqhiXcAy/pNRHIWk7qwM4jZ2pXCPeIW6o3eSOjYXXg0HsqO80ZavLeV9h9uE4XhcrA7JX4+lYnDJf77FASh/IzHRXG4OitKK+D0l/s5t/gYTpuakPvm0OS9s7iFt5E7mlCL+Q2Yhlrvz3P71ssdpcKpFEpe63Ab6wc+hJdSQebKIdcsDFdaFl19Avp/Qei9+3FvMJB1JzII+O8mpiz/uzAsVL2fjqSJwrAMVCoV7dq1o127dvTt25ePPvqIhg0bsmrVKoqLi699AkRxuM5RKNWY96+49kBBqK1cTrLXvIFO684LbW6RO02t5qN1Z23/B9CptWSuGIzLcuWlZcINUCjxbDKKkHFx1B/1M9qQnqw9nk7Y65vp/dku4rMK5U5Yo/wSnyU2qxQEoVwkl0Rhkgm7qXxvuAR5GQ9ncPyDP0j7/QJq/0Y0fu0g4U+uAa2n3NGEWkbp4U3A4BlkWPKZe2aP3HEqVD0PLzbd+gj/17Y/ttx4Ur5uiDWx6lcjKzR6DF1fIey+U+hbTuJAipmomVsYOncP+VbROkZuG+Izsdqdslw7OTmZhx9+mPbt29OlSxdeeeUVCgv/fj/kcrmYP38+w4YNo02bNsTExDB27Fh27dpVOsZisfDOO+/Qp08fWrVqRZ8+fZg5cyZW698bLA4fPpx77733kutbrVY6dOjAK6+8UrkvtBxUKhXR0dHY7Xby8/PL9RzRVqKOkZwOCk/U3h1Tr0dKkYat2d4cNnmSbtVgcymp526ju38BQ+sZcVf93QD/dIE727K9SChw54LFDatLybTG6fQLKt8PGsAxkwcvnbx8g/aOhgJejE695Ph+o46lKX5csLihUUi09rEwMSKLYPeyf/jSrBq+Oh/EqQJ3vNVOBtfLY2j9vEvO9/WFQI7ne/J+64uo6vAHenk7viNw5Ks807pPrd5BWE4qhZLFfe4l0jsA45YnKU6tncvqZKHSoo8ehyHmWTSGJtgddubvTWLaimMU2MRN8Y3acErMABQEoXxES4max2VzkroxgZz9qYQNboqh3RCiPzOStepVcta8JXc8oZbwv/VJVJ4Gpm9dKHeUCtWnXiSL+96Ln5sn+Ue/IefXR6s+hFKNV6v78e32X1QeAVzMtTBx8R9sO5db9VmEK7LYnKw7mcnwVsFVPuli6tSpDB06lIkTJ3L48GE+++wz0tLSmDNnDgDPPPMM69at4+677+bJJ59EoVBw9OhRUlJSgJLi8eTJkzlw4ABTpkyhTZs2peeJj4/nm2++QaFQMHLkSN555x2Sk5NL+/4CbNy4kcLCQkaNGnXTr0WSJByOS9/XSZJ0mdGXl5KSgre3N35+fuUaL4rDdYjkcmI5uwtXUfkLmrXZr1k+/JxuoLNvAb0CzKgUEsdMnvyQFMCuHC/eaZWIm7Lkh++AUcfP6QZCPWw09CzmVIHHNc5+ZQOD8mjuVVTmWID20h/8P3L1vHe6Pg09i5kYkYXFqWRNui/PH4/g/dYX8dOWfCLnkmDm6RBsLgX3hmeTWOTG3ItBBGgddPMvKD3fabM7v2QYeKtlYp0uDAPgtJO95i3qT/iUx1vE8vGJ7XInqnVmdhrMwNAozCcWkH/4M7nj1AoKjQ6vVg/i03E6an19LMU2Zm1N4Ll1J3CI5XM3Ld1czNG0fFrW80KpqOu/JAVBuBbjMVEcromKc4pI+O4I3s38CR/WjOA73sSv/zRSvhiH5eTvcscTajCVzg//258mpTCPxecOyh2nQihQ8Hzbfvy3/a1IThtZa++kKGF1lefwjByGX8+30fg2xVRUzBOLDzJ/X3KV5xDKZ/nRNEa3qV/l1x08eDBPPvkkAD169ECtVvPBBx9w8OBB7HY7a9eu5bHHHmPKlCmlz+nTp0/pv2/fvp24uDheeukl7rnnntLz6HQ63nrrLXbs2EFsbCzDhg3j/fffZ+XKlUydOrX0+StWrCAyMpK2bctufngjFixYwIIFC67rOX8Vk00mE0uXLuXYsWO8+uqrqFTl22RRFIfrEIVSRcERsQHXX7r7mRkdkotO/XdV5bZgE/WTbCxL8efXTB8G1cv783geI0JycVdJ7MrRc+rMjReHo/RW+gSarzrG4YKvz5cUeN9smYTHn7OYOxgsPH00gsXJ/vynccmbkjSrhosWN15vnkQrn5Kic6JFy+5cfWlx2OGCz84Hc3twHk31YgkkQN62uQSOeIWX2vYXxeEKdl/TGJ5s1ZvizENkb3xA7jg1ntLdH+92U/BuPw2Vmw95lmJmrjvJzN/Pyh2t1ll/MoOW9bzkjiEIQjUmSRJFaQXYjNZrDxaqrfzTOZz4cDdBPcKpf0tjGsz4FcuZXSR9PAJXQfa1TyAI/+I/6BkUbjqm/vqt3FEqhL+bJ9/3Hs/A0CjspgukLumJy1K1H4q51euMX693cQ/pTrHdzuubTvPKL/FVmkG4futPZuB0SVXee3jw4MGXfP3BBx+wd+9ezOaS+svYsWOv+Py4uDgAhg0bVub4iBEjeOutt4iLiyM2NhY/Pz9iY2NZuXIlU6ZMQaFQkJ6ezu7du5k+fXqFvJYhQ4YwadKkS46vW7eudOO5fzKbzbRs2bLMsYcffpi77rqr3NcUzfXqmMKjv8gdodpooi8uUxj+S0//kl8cFy3a0mMGrbNMm4mbZXUqsLmu/MvyuNmTXLua/kGm0sIwQCNdMS29i9iZ41U6U9DmKvkx1qv/7u3jpXZhdf39470izQ+LQ8m4cHGz+xfJbiV77Tv4uut4KKqL3HFqjR5BDfm8+x04irJJXdxT7jg1msorHL/e7xP+4Dl8u75IplXLgz8ewu/ljaIwXEk2xGeJWcOCIFyT6XSO3BGECiA5JTK2JXL8/V3kHkxH16wHzT5OI3j8R3JHE2oYlXcQfgMf52KBkdVJx+WOc9O6BzXk8Iin6R/SlIJTP5A8r1mVFobVPpEEDVpEyN070AR3ZuH+ZHxe2igKwzWEyepgX1IeLlfF1U/KIyAg4LJfG41GjEYjGo3mqi0WTCYTWq0Wb2/vMsd9fHzQarXk5eWVHhs1ahRJSUns3bsXgJUrV6JQKBg+fHiFvBY/Pz9at259yT/16tW77HhPT0+WLVvG0qVL+fTTT2nbti1z5sxh/fryb4wpisN1iMOcjTXxkNwxqr3s4pIJ9QZN5TRS/+ZiIGP3NuWuPU35z6GGrEkz8O/WMWcL3ACI8rp0VkozfREWp4pUa0nxOsTDhl7t5McUfzKsavYZdRzM8yT6z9YVKUUaliX78UijzAotcNcGxt+/xFGQy2vtb5M7Sq3QQO/LilvuQ+FykPZDN3DZ5I5UI2l8owkY8BXh98Xj3W4q5/JcDJsbR+jrm5m7J0nueLXargu5FMrQt3nWrFlERUWVe8OI6uTee++95EY4KiqKN99887Ljv/32W6KiokhO/ns56HPPPUdUVFTpP61ateK2225j9uzZ2Gzi94hQvSgUCgrOGeWOIVQgu9nGhaUnOPXFPqyZRfgPfJyoz/LwirlD7mhCDREw5DkUGncm71oqd5Sb9mTL3my5/T8Eat3J/nkCWRsmVdm1le7++PX+gLCJR/BsMoItZ7MJff1X7l10EJvooVajbDydRVXPt8jOzr7s176+vvj5+WG328nNvXKPaoPBgM1mu+R+3GQyYbPZMBgMpcf69OmDr68vK1asAEqKwz179iQoKKiCXs31UalUtG7dmjZt2tC/f3/mzp1LcHAwb731VplN+a5GFIfrCMnlpODIei6pQgplOCX4McUflUKiV0DFvklXKSVifAuYEJHNC1EpTG6UgU7lYu7FIGafCy4zNtdWUqD2u0wvYv8/j/01xk0pMbVxOodNnkw+1Jg340Np6V3E4Hp5SBJ8cT6YLn4FdPQt3y+FukSyWcj5+T2CPLwY17i93HFqNJ1ay5r+D2DQupO1eiQO80W5I9U42uBOBA35kdAJh9A3v4cjaYX0nL2LZu/8xtoTordlVbA7JTafzsbhEm9AqpqnpydLlixhyZIlzJo1i6ZNmzJr1ixeffVVuaMJQhmSS6LgoknuGEIlKLxo4uTsPVxcfhJJ4UnYlB9p/MYR1IGN5I4mVGNq3xB8b/kPZ/Kz2ZR6Ru44N8yg9WD5LZN4v/NQXJY0Ur6NovD0j1VybYXKHZ9OzxB+/2m8203lVJaV9h9up98Xf5BZID4krok2n8lCUcXV4XXr1l3265iYGGJjYwFYtGjRFZ/ftWtXAFavLttX+6+v/3ocQKPRMGTIEDZs2MCuXbs4f/58hWxEV1H0ej1PPfUUWVlZLFxYvg0yRc/hOqKk3/AGuWNUe3MvBHK6wIN7wrMI9bBX6Lmbe1lpHpVa5tiAIBNvnArltywfbgk00cK7ZKZw8Z8tITSKS4v5mj83ySv+R1uKLn6FfO1zjqQiN7zUTuq7l2TflOnNBYsbT7VNo9ilYEFiAHty9birXNwWbCrtqVyXGTd/SsCQ55jZaQg/1JLNI6qaAgULeo+juSGYvJ0vYk3cLHekGsU94hYMMTPwCO+Dy+Vkx3kjDy89THyW+EBHDhviMxne6vJLtoTKo1KpaNeuXenXvXr1YtCgQaxatYqXX34ZNzc3+cIJwp8kScKSko/LVjmry4RqQILsvakYj2YSMqAxgV1b0XTmWfL3LCJlziRwVf3qEqF6Cxj6fyhUGh7csUTuKDeso38Yy/pNJExnoPDMCjLXlb9P6U1RKNFHj8e3x+uo9SGk5xfx0II9rDspJkXUdLsvGrHYnHhqy7cZWkVYt24dKpWKmJgYjhw5wqeffkrv3r1p375kEtiQIUOYNWsW2dnZ9O7dG6VSybFjxwgMDGTMmDH07NmT7t27M3PmTMxmM23atCk9T8+ePenRo0eZ640ePZoFCxbw/PPPYzAY6Nev3w3lrqwi+tChQ5k7dy7ffPMN48aNQ6/XX3W8mDlcR0iSi8Ljm+SOUa39kOTP+gxfBgblMTq0apYLKhUwKrRkacOBPF3pcTdlyaw1u3TpLwr7n0VhN2XZwrGHSqKZ3lpaGDbaVMy/GMh9EVkYNE7mXQhkn1HH403SGROay/yLAezMufoviLrAZTWTu+FDQnQ+jGjQSu44NdJrHW5leEQris6uwLTvPbnj1AwKJZ5NRhEyLo76o35GG9KTtcfTCXt9M70/2yUKwzLacEq+NyTJyck8/PDDtG/fni5duvDKK6+UWQrmcrmYP38+w4YNo02bNsTExDB27Fh27dpVOsZisfDOO+/Qp08fWrVqRZ8+fZg5cyZW699tioYPH8699957yfWtVisdOnTglVdeqdwXWg4qlYro6GjsdnuNbLch1F7mBNFSoi5wWh0krTnNiU/iKEg04dNtPFFfmDD0e1TuaEI1oglogG+fhziRl8nOzAtyx7khj0Z3Z8fgaYR46MnZPLnKCsMeEf0JHb+XwFu/oVgTwOMrjxHy2mZRGK4l7E6JLQnZOKuw7/Cnn37K8ePHmTp1KvPmzWPUqFF8+OGHpY+/++67PPvss+zZs4epU6fy1FNPsWPHDsLCwoCSIu1nn33GPffcw5IlS3j44YdZsmQJEyZM4NNPP72kiNu8eXOio6NJT09n8ODBaLVarldRUdENPa88lEol06dPJy8vjwULFlxzvJg5XAdILhfWxIM4zWIzsitZnOTP0hR/+gWamNyoav8gBbmVFHPzHX9/qub3j9YR4R5ll9LkXKXlxD99fSGIxrpi+gXl45Lg9yxvHmyUSUvvkl7E+/J0bM70oYd/QYW9lpoqZ9Mn+A96hv/FDGflxWNyx6lRxjZuzwtt+2PLPUXmurvljlP9qbToo8dhiHkWjaEJNoed+XuTmLbiGAUy9LoVLnXRWMTprAKaBuiqfDnc1KlTGTp0KBMnTuTw4cN89tlnpKWlMWfOHACeeeYZ1q1bx913382TTz6JQqHg6NGjpKSkACXF48mTJ3PgwAGmTJlCmzZtSs8THx/PN998g0KhYOTIkbzzzjskJyeX3hADbNy4kcLCwgpZFidJEg7Hpf9NS9fR3iolJQVvb++rbh4iCFVJoVBgPi+Kw3WJNaOQ03MO4Ns6iLAhzQiZ+BkBg54hefYdWC8ckDueILOAYS+BQsV92xfLHeW6eWncmNNjDHc2aofDkknakt44TAmVfl1tQBt8Y9/Gs8EA7A47n2w/x/Q1xxEdvWqfzaezGdQ8+NoDb9K0adOYNm0aAF999dUVx6lUKu6//37uv//+K47x8PBgxowZzJgxo1zXXrVq1fWF/Qe73U5SUhI9e5bdxD0+/sobL06aNIlJkyaVOfbOO+9ccXzv3r2ver5/EsXhukABhcfFMu8rWZLsx5IUf/oEmJjSOKPKG6en/bmx3D83wGuiLwYg3uxOWx9LmfGnCzzwVDkJcb9y/6W9Rh378nR81Kak72u+Q4VNUhLwj4JygNbBuUKxTBfAVWgkd9MsIgbPYGBIFBtTxU645RETEM43Pe/CYc0j5Yeu135CHabQ6PBq9SA+Haej1tfHUmxj1tYEnlt3ArG/RvWz/mQmj8U2oor/HDB48GCefPJJAHr06IFareaDDz7g4MGD2O121q5dy2OPPcaUKVNKn9OnT5/Sf9++fTtxcXG89NJL3HPPPaXn0el0vPXWW+zYsYPY2FiGDRvG+++/z8qVK5k6dWrp81esWEFkZCRt27a96deyYMGCcs1S+Ke/iskmk4mlS5dy7NgxXn31VVSqqluSKAhXI7kkCi6IfsN1kfFoJqZT2dTr05DgXg1o9Mo+Co5tIOXTO3FZxUSLukgb3ARD7CQOGVPZn5N87SdUI21867Os30QaefljOb+BjFUjgMq9IVXpw/Dt/l/0ze9BkiRWHk1nwqKDYnJELbb5TJbcEaqlgoICjh49yurVq8nLy2Po0KFyRwJEcbhOUCiUWOK3yx2jWlqS7Mfi5AD6BOQzLTIDZQVUAhwuSC/W4KaUCHT7+49dvl2Jt6bsH127S8HiZH8AOv1jw7iWXhZ8NQ42Z/owtL4RD1XJTKvzhVqO53vQLzAf9RWawhQ5FXx5Poi7QnNKW0x4qZ2oFS4uWtxobygpNl+0aPHTiD/Gf8nZ8D/8bn2CWd1GEvXTlT99E0qEeHqzqv/9qHCRtrgHOCzXflIdpHT3x7vdFLzbT0Pl5oPRUsy7604y8/ezckcTrmLzmSye6NW4yq87ePDgS77+4IMP2Lt3L2azGYCxY8de8flxcXEADBs2rMzxESNG8NZbbxEXF0dsbCx+fn7ExsaycuVKpkyZgkKhID09nd27dzN9+vQKeS1Dhgy5ZGYDlPSDmzdv3iXHzWYzLVu2LHPs4Ycf5q67qqjvoSBcgyRJWFLNot9wHeayu0jddI7sfamED2mGoc3tNJudQ/bat8heKTbPrGsCRpS0YJpUw2YN39+0M7O7jUIFGLc8Sf7hzyr1egqtN4aYZ/Fp/zioNOxNMnHXgv1cNBZV6nUF+R3PMJNXZMfgoZE7SpVzOp1XXC135MgRJk+eTIMGDZg5c2aZiR5yEsXhOsJyZqfcEaqd9ek+LE4OIFBrp41PIduyvco8btA4afdnITWzWM3WLG8AEotKZvruzdOVtnjoHZhPkNvfrSCmHW5ESy8Lb7T8+1Pk10+F4at1EKmz4qd1kGtTszXbmzSrlsH1jDTT/90PUq2EBxpm8sGZ+vzf8XAGBJmwOJWsSffFW+Pk7vCcK76u7xMD8FI7GR7y97JHlQJi/c0sTfFDAow2NQfydEyNzLiJ72Dt4jRnYfztcyIHPk6v4MZsyzgnd6Rqy12lZtUt9xPgpiNr3V048mruzsyVReUVjk+Hx/Fq/RBKtQeppiJeXnWIuXuS5I4mlMOuC/IsGw8ICLjs10ajEbPZjEajuWqLBZPJhFarxdvbu8xxHx8ftFoteXl5pcdGjRrF1KlT2bt3L507d2blypUoFAqGDx9eIa/Fz8+P1q1bX3J8//79lx3v6enJd999hyRJZGZmMmfOHObMmUPz5s0ZNGhQhWQShJtlTsiVO4JQDdiMVhIWHMG7qR/hw6IIGvlffPs9SuqX4yk8/qvc8YQq4BbaAp9u44jLSuKYMV3uOOXiqdYyu+tIJjaNwVGUQ9rSfjhyT1beBZUavNs8jKHry6jcfTmXU8i9P+zlj4uiNU9dIUnw+9lshrYMRq2sW9udDRgwoLTt2+V07tz5ulfYVTZRHK7lJEmiOPUELkue3FGqnbMF7gBk2TR8klD/ksdbeln+Lg5bNfyQXPZN++5cL3bnlhSUm3sVlRaHr6Sbn5k4o5716QYKnSrclC4a64oZG5ZDbID5kvE9/AvQKlNZluLHt4mBaBQSbXws3BuRjf8V+g3Hm93ZmGng7ZaJqP41C/rBhiXLOpan+uGudDE+PJu+AWKTn3/KWf8efrdM4bPuo2m1QmysdiXf9LyL9v6h5O15m6KEG++zVBtpfKPx6fQU+ubjQaEkIaeI6avjWHtCbK5Rk+QV2TmRYaZ5kL5K+w5nZ2eXKRBnZ5fsFeDr64tGo8Fut5Obm3vFArHBYMBms5Gfn1+mQGwymbDZbBgMhtJjffr0wdfXlxUrVpQWh3v27ElQUFDlvLhrUKlUZYrJXbt2ZdCgQbz11lv07t0bnU53lWcLQuUr6TecJ3cMoRrJP5PLiY92E9gtnJD+jYh4ZhNFCbtJ/HgErnzxd782Cxz5KkgSE7b9IHeUcon2CWJZv4lE+wRRlLSV9BW3g6vyVpB6NhmFX+xbaHwaY7QUM3XhARYdvHKhTKi9tp3LYWTrS2sttd3nn3+OzXblNqDV8b5WFIdrO8mFJX6b3CmqpceaZPBYk/LNnG3lU8SKrqfLNTbI3XHZsaNCjYwKvb5PSmN8C4n5R7uJa4nysrK0y+VncXqqXX++XjFb+EoceWkYt35NdL/JxASEszdbzPL8t+fb3MLdjdtjOb+BvD/+K3ecakMb3AlDzLN4Rg4DSeJwWgFTlh8VsyNqsG0JOUQF6i/5oK0yrVu3jujo6DJfA8TExOBwOPjyyy9ZtGhRmZ7D/9S1a1e+/vprVq9eXdpzGGD16tWlj/9Fo9EwZMgQfvrpJ4YOHcr58+d54oknKuFV3Ri9Xs9TTz3Fs88+y8KFC3n44YfljiTUcSX9hvPkjiFUM5JTInNHIrmH0gm9LZKAjt1o9mEKxi1fkrFg6rVPINQ47hHt8I65g61pCSSYr7yas7oY27g9c3qMQatUkrvz/8jf936lXcstpDt+vd7FvV5nrDY7r284xRubxQrDumxrQvX/GakMUVFRcke4bqI4XMsplCrRb1gQrkPOupn49nmYL7vfQYfVH8odp1oZEdGKNzrejt10noxVw679hDrAPeIWDDEz8Ajvg8vlZPt5I48sPUx8Vvk/1BGqpx3nc5ncvWGVXnPdunWoVCpiYmI4cuQIn376Kb1796Z9+/ZASR/fWbNmkZ2dTe/evVEqlRw7dozAwEDGjBlDz5496d69OzNnzsRsNtOmTZvS8/Ts2ZMePXqUud7o0aNZsGABzz//PAaDgX79+t1Q7sqaXT106FDmzp3LN998w7hx49Dr9ZVyHUG4ltJ+w8Wi37BweY4CGxeXnSQ7LoXw4VH495+Cofu9pH37MPlxS+SOJ1SgwNGv43I6mLh9kdxRrspNpebDzsN5JLobjmITGUsGYMs6VCnX0vg2w7fHm+iaDMfpdDBvTyKPLDssNl0WOJKWT77Vgbe7KD1Wd+L/oTrAcnqH3BEEocaw5ySSt2M+bWIn0cq3Xo3pI1bZ2vqF8H3v8ThsZlIXxsgdR14KJZ6RIzB0noFbUHucTgdrjqfzyLLDpJuvvHxIqFl2XKj63qKffvop//vf/5g/fz4ajYZRo0YxY8aM0sffffddWrZsyU8//cTSpUvx8PCgadOmTJs2DSgp0n722Wd88sknLFmyhNmzZxMYGMiECRN47LHHLiniNm/enOjoaE6dOsX48ePRarXXnbmoqOiGnlceSqWS6dOn8/DDD7NgwQIeffTRSrmOIJSH+ZxYCSJcW2FSPqc+3Yt/x/qE3daE0EcXETDsJZI+GYE9Q2xGW9N5NO6MV7shbEyJJ6kwT+44VxTp5c+yfhNp4xeCNS2OtKW3gKvi71GVnkH4dnkRr9YPAbDpdBbjFx4gu1DcDwslXBJsP5fDbdFBqJRVuBxPuG4K6Upb6Am1gt2YwpknwuSOIQg1iiYokiYz49mXk0LXtZ/IHUd2ge569g17gnruOtJ/6Io956jckeSh0qKPHoch5lk0hibYHHYWHUxn2opjFNgqr2+bIJ+UlwdQ39td7hjVlt1up2fPnvTs2ZMPPvhA7jiCUKnOfHuI/Pi6uTxWuDEqdzX1+zciqFs4SBL5+34kZc5EcIjCWU0V8cxGPJv3JfTHN8i0Fsgd57JGNWjN3Ni78VSpyd/zNnm7X6vwayjUnvh0eByfmGdRqD04ll7A3d/v52RG9fyeCPJ6pk8kM4e0kDuGcA1i5nAtJjkdWE5ukTuGINQ49swETLsX0anrWJp6B3AmP1vuSLLRKlUsv2US9T29ydkwqU4WhhUaHV6tHsSn43TU+vpYim3M2prAc+tOiOVytdyuC0aGt6qHWsx0KKOgoICjR4+yevVq8vLyGDp0qNyRBKFSiX7Dwo1wWh0krz1D9p5Uwoc1w6fL3ejbDSdz6QyMm2bJHU+4Tp5RsehbDWBN4vFqWRjWKFXM7DSYx1v2wmErIGPpAIrTdlfsRRRK9C0m4Nv9NdS6eqSYinhgyR42ns6q2OsItcq+5Dy5IwjlIIrDtZhCpcZyZqfcMQShRspe8xY+3cbxdc+76L3+U7njyOazbqPpHtSQvP0fURi/WO44VUrp7o93uyl4t5+Gys0Ho6WYd9edZObvYlloXbEn0cjoNnVvh2UAp9PJlRaXHTlyhMmTJ9OgQQNmzpxJnz59qjacIFQhSZIoSisQ/YaFG2bNLOTM1wcxtAwkfGgz6t/zCf63PUXy7Duwnt8ndzyhnILueAun087926tfD+kInS8/9p1ATGA4xZkHSf2xLzgsFXoNj4a34Rc7E61/c8xWGzN+OsIXf1ys0GsItdOhlHy5IwjlIIrDtVzRuT1yRxCEGsmWehLzvp/o3nEU4TpDte4rVlmeaNmL+5p1pih5G8btz8odp8qovMLx6fA4Xq0fQqn2INVUxMurDjF3T5Lc0YQqFpeYJ3cE2QwYMICUlJQrPt65c2cWLFhQhYkEQSYSmC+IfsPCzcs7noXpdA71ejWgXp+GNHp5D4UnNpE8ewyuIlE8qc50Lfvj2awnS88fJtdWsUXXmzUorDnf9x6HXq0lb9//MO54rkLPrw1sh1+vd/EI74PdYef9LQk8u/ZEhV5DqN2MRXaS8ooIN3jIHUW4CtFzuBaTXE5OPaxDshfLHUUQaiS3iLZEvn6IX1NPM/CXOXLHqVK3hUazesD9SAWpJH3TBKj9/RM0vtH4dHoKffPxoFCSkFPE9NXHWHsiU+5ogkx0WhV5b9xeJzfQiI+Px2a7cl9MnU5H48aNqzCRIMjnwrIT5OxPkzuGUItoDe6EDW6Kb6sgXHY7OT/PJOunl+SOJVxBo1fi0ES0x3/RKxRUk57RKoWS1zrcynNtbsFht5C1aiTW5N8r7Pxq7wb4dnsVffNxuFwOlh/NZNKSg1hstf89gVDxfprYiaEtg1ErlXJHEa5AzByupSRJojj1lCgMC8JNKE48jPnQWvq2vo167l6kW81yR6oS0T5BLO57L5LDSsrCztT2wrA2uBOGmGfxjBwGksThtAKmLD/KHxfFTLG6rtDm5FSmmRbBXigUdatAHBUVJXcEQag2isQmS0IFs+VZObfwKF6RvkQMjyJw2Iv49nmElC/vpfDYL3LHE/5B33YwHo07892ZvdWmMFzfw5vFfe+lZ3AjbDknSVvSC5fNVCHnVroZ8ImZgU/7aaBUs/N8LmO/30+yyVoh5xfqpsOp+YxoVU/uGMJViOJwbeVyYr0gelgJws3KXvU6Xu2GMKfnGIZtnit3nErn5+bJ2gEP4KFSkfHjLbistXczPveIWzDEzMAjvA8ul5Pt5408svQw8VmFckcTqpE/LhiJCvJCXbdqw4Ig/EmSJKwZ4u+CUDnMCUaOfxRHULcwQgY0JuLpnyk6t5fkT0biyEuVO56gUBB0x5vYHTYe3fWT3GkAuKV+Uxb1uQeD1gPT4S/J/X1axZxYpcW7zaMYur6IUuvN2exCxi3czf7kiik6C3XbwRRTnZtoUdOI4nAtpVCpsV48KHcMQajxis7toeDYJm5r3hc/rWe16zNWkdQKJT/2nUADvS85v/4HW3ot7FmuUOIZOQJD5xm4BbXH6XSw5ng6jyw7TLq5eswGEaqXg6kmHqyDbSUEQShhM1px2Wv3ChpBZi6JzJ1J5B7OIHRgJAExnWn6v0SMW78ifcEUcIn//uTi1XEk7hFt+fLULqwuh6xZlAoF/9e2Py+3G4jLWUzWmlEUnV9fAWdWoIu6E78eb6L2jiC7wMqjS/bx05H0Cji3IJQ4mCI+ZKjuRHG4FhPFYUGoGNmrXqNhqwF80eMO7vz9O7njVJoPuwynb/0m5B/9moJjtWyWtEqLPnochphn0RiaYHPYmb83iWkrjlFgk/dmX6jejqeL5eSCUFdJLomiNPE7QKgajgIbF5efJGtPChHDo/DrNxmfruNJ+24y+X/8IHe8ukehJGj0GxQ7bDwWt1LWKIHuehb2Hs8tIU2x5yWQuji2Qlb3uYfG4tfrPdyCO1Bks/Hi2hO8uyWhAhILQlnJJitGiw1fT63cUYQrEMXhWsyaeEjuCIJQK1hO76AwfjsjmnRFr9ZWm35jFWlyVDf+07wH1rQ95Pz6H7njVBiFRodXqwfx6Tgdtb4+lmIbs7Ym8Ny6EzjERByhHE5k1I1e44IgXIZC9BsWqp4lOZ9Tn+3Fv319Qgc1IfSR7wkc9iJJn4zElhYvd7w6w7vLXbiFNOejY9twyDh7u2dwI37sO4EAdx3m4/PJ3vTQTZ9T49ccv55v4dl4MA6ngzl/XGTKiiM4xb2xUIn2J5vo2ySgTm70XBOI4nAtZcu+gKsoX+4YglBrZK96jQbPbuKz7qOZsG2R3HEqVN/6Tfik60gchRmkLe0jd5wKoXT3x7vdFLzbT0Pl5oPRUsy7604y8/ezckcTapjsQhs5hTb8dWKmgyDUNQqFgiKxekCQgwQ5B9IwHs8k5JZGBPWIJvKtE+Tv+4mUL++BWjhRoVpRqgga/QZF9mKe2btWlggKFDzdug9vdrgdyWUne914LGdvru+xyrMehm4v49XqPpDg55MZjF94gDyrvKvo/OJ/wf/0pis+LimUnB3y7tVP4nLim7AF7+T9qC05SCo3ivwjyY6+HbtX0CXD3fKS8Tu9CY/c8yicNuw6f/IjupDXqCcolGXGGhK2YTi/HaW9CKtfQzJbj8Th6V9mjNpipMGW98lodycFIW3L/+LrkEOpJvo1DZA7hnAFojhcC0lOB9bzYjM6QahIhcc3U3RuD3c2aMfDyqWy9x2rKJFe/vzUbyKSy0bKD12ghr8ulVc4Ph0ex6v1QyjVHqSainh51SHm7kmSO5pQgx1Nz6dXY3+UYiMNQahzisRmdIKMXMVOktefJXtvKuFDo/DpPAavdkPJXPo8uRs/kjterWXoMQFtUGPePvwrLqp+Oq2fmyffxo5lcHhz7PlJpC6JxVV44xsUKjQ6fDo+hU+np1Co3DiUYubu7/dzJrt6/H4rqN8au+7SoqE2Pw2/hC0UBre4+gkkiZC989BlnqIguCV5jXqgKi7E58Iuwnd8QnLPqdi86pUOd89JIHT3V7jU7uQ16onTTYdn1hkCj69Ga84gs+2Y0rH61MMEnlhNXsPu2LyCMZzbTsje+ST2eqJMETno6HIsAZGiMHwVB1Pyxb10NSaKw7WQQqUWLSUEoRJkrXyNiOlr+aTrSB7etVTuODfNW+POmgEPoFNryfxp4E3ddMpN4xuNT6en0DcfDwolCTlFTF8dx9oTmXJHE2qBE+lmYhv5g7ifFYQ6RXK6sGbX3o1ohZrDmmXhzNyD+LQIIHxoFPXGf4jfbdNJnj0G67k4uePVLioNgSNfpdBm5cUDP1f55TsHRLC03wRCPH0oOL2UrPXjb/xkChVere7Ht9t/UXkGkmS0MHHxbrYk5FRc4Apg8w7B5h1yyfGgw8sAMEV0vurzdenH0WWewhTRlcy2d5Qezw/rSIMt7xN4bBUp3R75+7zHVgEKknpOw6ErmQFsatiDoMPL8EncTX5YJ6z+jQDQpx3F4t+YrNajSrLqgwn74ws0hTnY9YElY1IO4p57jsQ+z9z4N6EOEJvSVW+iOFxLFaeelDuCINQ6BYfXYU08zL2R7fnP7p9k7T92s5QKBYv63ENT70CM256mOGW73JFuiDa4E4aYZ/GMHAaSxOG0AqYsP8ofF41yRxNqkeMZZtEfTRDqIGuWBVyS3DEEoZTpRDb5p3MJ7hVB/T4NafTSHxSe/I3k2XfgsuTJHa9W8O39ABr/cF7dv77Krz21eU/e7zwUheQke+MDFJ78/obP5dl4CH6x76DxbYapyMb0JYeYt7fmrKRTOGzoUw9hd/fBEhR91bEeOSVt4/IjYsocd+j8KfJvhC7rNGqLEYenL0qbBbf8VAoDo0oLw3/JD++ET+JuvJP2lhaHFU47Lo1n6Rjnn/+ucJa0dlHaLAQeX01O9O04PAw39Zpru9NZBRTZnXhoVHJHES5DFIdrKVv6abkjCEKtlLXqNcKn/cQHMcN4XOadi2/G2x0Hc1tYNAWnfiD/4Cy541w394hbMMTMwCO8Dy6Xk+3njTyy9DDxWVW/PK5C+qQBnhkn8TuzGbf8VCSlGktAU7JbDL6kpxmA0l6E/6kN6NOPorRZsHv6Y2rUA1ODbvCv5VqiT9rNOyE2pBKEOkdySVhEv2GhGpIcLtJ/u0DugXRCBzXBr/UtNJuVSe7P75O57AW549VoCo07gcNfIb/YwttHfquy63pr3Pm6552MbtgGe2E6aYtjcZgv3tC5tMGd8Ov1Lh6hPbHZ7bz162le/LnmbWSoTzuMymG9bA/gf1P+2RbPpdJc8pikKtkzwj0vkQJPXxR/jpUuM9b111jj3997q18D/OI34ZlxEptXEP6nN+HUeGLXl/QxDjixBrunH6aG3W/gVdYtLgmOpObTOcKAQrSXqHZEcbiWsmWITZcEoTKY96+gOPUkDzaN4cm41bL0IbtZE5t04unWfSjOOkLWhklyxyk/hRLPyBEYOs/ALag9TqeDNcfTeWTZYdLN8m3MctN90gBd2lHq7/uOYu/6ZLcYgtJuxXBuO+E7PiWx1+M43X3+HuxyELp7Dm6mFPIa9cSmD0KXeYqgo8tRFZvJjbq1dKjok1Yxjqeb5Y4gCEIVUygVWEVxWKjGbHlWzv9wjOzGKYQPjyJg6PMY+jxEypyJFB6p+lmvtYFv30dQG+rxStyqKrtmO78QlvWbSAO9H4UJa8lcM+qGzqP2boRvj9fRR92Jy+lg0cFkHlhyGKuj5r1XAfBJ3IOE4pLZwJdT/Gc/Yc/ss2XaUygcNtyNiQCoi/IAcLp54dDqcDcmonDayxSJPf+cgay25pUey2sUi0d2AqF7vil5vtqdjPZ3I6k0eGSfxSvlAEmxT1yzgC2UOJKWT8dwH9SiOFztiOJwLWTPTUayW+WOIQi1kySRtep1wh79gTc73sbzMiw5uxndgxryRfcxOIpySF1UQz7hVmnRR4/DEPMsGkMTbA478/cmMW3FMQps8m+gd7N90nA5CTq2AoeHD8k9piCp3QAoDIomYttH+MdvLLMxhk9iHO55SWS2GoGpUU8A8ht0pf7e+fid+Y388Bgcnn6A6JNWUbILbeQU2vDXaeWOIghCFSoSqwaEGsB8zsiJj+MI7BJK6MBIIqavxXphP0kfj8RhTJY7Xo2h0HoSMOxFjNZCPjlRNe3WHmrWhY+7jkSFRO5vUzEf/eq6z6F098PQ+Xm82/0HULItIZu7v98v68SJm6UpyMQj9zyWgKaXXUH3b+bQDvid3oxf/C+4VFosgU1R2Qrxj9+IylayqlDhtJcMVijIa9yLgFM/U3/vt+RE34pTW7IhnV/8RiSFEuVfYymZYZza9SE0hdkobRZsXkFIancUTjtBR5ZhjOyLzbs+7jkJBJxcj8ZixGoII6vVSByevpXy/anJzudaUCtFIb06EsXhWkZyuUS/YUGoZPl7fsQ2+g2mRnevUcXhCJ0vK265D6XkIO2HbuCq3jeNCo0Or1YP4tNpOmpdfSzFNj7ZmsDz605Q3SdBXF+ftATU1nxyom4tLQwD2HxCKQqIRJ96mMzWo0BZ0p/LK/kgLpWG/IguZc5jbByLPv0oXqmHMTbpW5JD9EmrMMfSzcQ29hO7LAtCHVKUXvWtigThhrgksv5Ixngkg5CBkQTEdKTpBxfI2z6PtPmPQA3eJ6Oq+PWfitorgOerYNNpnVrL593vYHxkBxyWbNKW9sFhvL62kAqVO97tpmDo8jwKjRfxmQWMW3iAQ6n5lZS66ngn7gHKMcHiTy6tJyndHiH44CKCjywrPW7xa0xuk774n9mM6x/32MYmfVE6bRgSthKx/ZOSc6jcyGo5FP9TP6OQLv15sesCQPf3136nNwEKjE37o7bkErr7K/Ia9yarVWv8438hZM83JPaeLmYU/8uFXLHJa3UlisO1jiT6DQtCZXM5yVr9OqEPzuOldgN4/dCV+81WFzq1ltX978dX607WqpE4zBfkjnRFSnd/vNtNwbv9NFRuPhgtxby77gQzf0+QO1q5XU+fNPe8ks1BinwbXPKY1dAAz+yzaAuzsHnVA8mFmymFYp/QS3qlFRsikFDglvf3ZiOiT1rFOZ6eT89GfiBqw4JQJzhtTmx5YiWeULM4Cu0krjhF9p4UwodF4dvnQby73E36gimYdn4nd7xqS+nuRcCQ58gsMvNVfFylXquFIZif+k2iqXcARYm/kr58MFxXmzoF+uhx+PZ8A7U+lAyzlYe/38OaE5mVFblquZx4J+/HqfGksF7rcj/N5l2fpN7T0RRmo7KacLr7YNcF4H9iLUDpvS8ACiU50beT26QfbuZ0kCSKvUMAiaAjP2H1jbjqtbT5qfgmbCWl68NIKjVeKQdxavXkRN8GCgVZrYbT8Ld3cDcmYvVreAPfhNrrvCgOV1uiOFzLKJQqURwWhCpg2vU9QSNf4+mWvap9cViBgm9jx9LKtx7GXa9QdHGD3JEuS+UVjk+Hx/Fq/RBKtQeppiJeWnWIeXtqzs7Kf7mePmlqa8kMD8c/+wr/yeHhXTKmyITNqx5KexFKlx2Hx6VjJZUap9YTtdVUekz0Sas4xzPMqJSiMiwIdYEkSRSJfsNCDWZJMRP/xT782tUjbFBTQh+eT8DQF0iaNRpbynG541U7frc+gUrny1NbF1bqde6N7Mjn3e9Ao1SQu20G+Qc/uq7nu4f3w6/Xu7gFtsFSbOPZVcf4aPv5ygkrE13GCdTFZoyNYpFU11+ususCyuwFoss8hVPtTtFlirSS2g3rPyZn6FMPo0CiMKj5lS8guQg+vJT88E4UBUQCJf2MHR4+pZtCO9wNJcf/0btYKHHBWCR3BOEKRHG4FrJliOKwIFQ6p4PsNW9Sf9IXPNWyNx8c3yp3oit6pf1ARjVsTeHZlZj2viN3nEtofKPx6fQU+ubjQaEkIaeIJ1fFse5kzZwBcb190v7qgSYpL/2TLCk1ZcYorzL2r/GiT1rlOJcjZjoIQp0hSVizREsJoYaTIPdgOnknsqjftxHBPZsS+cYRzAdWkfzlOLCJmfEASp0v/oOeIbUwjx/OHayUa7ir1HzSdSQPNOuCw5pH+tL+2HOOlPv5moDW+PV8G8+GA3E4HMzecY4nVh+vld1CfP5sKZF/hZYSKms+SrsVh4cBSX31vSB8zu/AzZxOTrMBZVq3XY7SVoj/qZ9xaHWYGnS74jjD+R2oi/JI6fpw6TGHuw9eqYdROB1IKjVac1rJcbdLJ3PUdRnmYqwOJ+5qldxRhH8RxeFaqFjMHBaEKpG341sCR/yXF9r2q7bF4TsbteWldgOw5caTufZOueOUoQ3uhCHmWTwjh4EkcTitgP8sP8rui0a5o92U6+2T9ld7CIXr0s31FC57mTGuq4z9a7zrX+0mQPRJqwjJJvEmWhDqDIUCe3717ssvCOXlKnaSsuEs2ftSCR/aDJ9OI4luYyRr+Yvk/PyB3PFkF3D70yjd9Ez7fX6lnL+pdwDL+k2klW99rCk7Sfvp1nLv+6HSheDb/b/oW0xAkiTWHE/nnh8OYi6Wf0PmyqCymvDMisdqCMfmXf+yYwJOrsc7eR/J3SZTFNCk9HhI3NfYPf2weQUDCjyzTqNPP0ZhUHNym/Yvcw7PjJP4JmzBEtgMp5sX6iIjPolxKG1FpHa+D5ebjstRW3LxP7WBjHZ34dJ4lB4vCGmL/+lN1N83n8LgaHzO78SmC7hme4q6KtFYRLNAvdwxhH8RxeFaRnI6sGdflDuGINQJkr2Y7HXvUG/8R/wnujufndold6QyOvqH8W3sWBzFJlJ+6HLtJ1QR94hbMMTMwCO8Dy6Xg+3njTz842FOZ9eCWVo30CfN4f5n6wirCbtXcJnH1EV/tpz4s42ES+OBS6lBXWTi3xROByqbhSL/q89SEH3SbkxynlgGJwh1hUKhwG4uljuGIFSo4mwLZ+cdwqd5AOFDmxF89/v4DXyS5M/uoujMTrnjyULlFYjfwCdILDCy8uKxCj//mIZt+brnnbir1OTu+i+mPW+V63kKrReGTs/g3eEJFCot+5PzuWvB/lrfr9U7aR8KyYUp4vrft1h9G6BPPYR30j4AbPogMluPLJkF/K/JDg5PXySlGsP5HahsFpxaHZaAJuQ261+2N/G/BB1djiWgKQUhbcsct+sDSY2ZSMDJdQScWI/VEEZmm9Glm0kLZSXkWIj014l2bdWMKA7XMg5TBriccscQhDrDuGUOAcNf5JV2A6pVcbi+hzer+9+PCom0xT3BIfPNpEKJZ+QIDJ1n4BbUHqfTwZrj6Tyy7DDp5tozO+tG+qRZDeEAeBgvUhTYrMxj7nkXcardsekCSw4olBT7hOKWn1K6dO0vbnmJKJAoNoRd+WKiT9oNM1kdFNoc6LTi1kkQ6gJ7vigOC7WT6WQ2+WdyCe4ZTv1+jWj4wnYs8VtJ+mQkLkue3PGqVMDgGSi0HkzeUrG9hrVKFe/FDGVqi544ivPJWNYPW8beaz9Rqcar9UP4dnsFlbsf53MtTPhhFzsv1OxVdeVlbHoLxqa3XHVMRvu7yWh/9yXHc5sNILfZgHJdx+ZVj9SuD113vtQuD17xMUtwCxKDW1z3Oeuii7kWJLlDCJcQ60VrEUmSsBtr3sZNglCTSbYicta9R4CHFxObdJI7DlDS12xl//sIdNeT8/M9OIzx8oVRadG3nETYxGMED1mMwq8V8/cm4fvSJobP21urCsNQvj5pGnMmCsffr7vIPxKHmzfeiXEoHH8XI7SmVDyyEygIaVNm5oE5tD1Kpx3vxN1lzu17bjuSQon5X7MZ/umvPmnZLYaUHnO4+6AtyELhLFmiKPqkXVmKaC0hCHWGKA4LtZnkcJG+5SLHPvgD47FMdM370GxWJkF3vSt3tCqjNtTHt/9UEsw5bEytuHvlhno/dg6extQWPSlO30fSV2HlKgx7NhlJ2ISjBPT9mHyXjnt/OEDkW7/WmcKwUHdcMFpQi1nD1Y6Y/lKbuJw4cpPlTiEIdY7xt88IGPo8b3UcxPyz++SOw1c97qSjfximvTOxnF0hSwaFRodXqwfx6TQdta4+lmIbn2xJ4Pn1J3DUws0z4Cb6pClVZLUaTr393xO281PyG3RBaS/GcG4bTjc9Oc1uLXMOU4MueCftJfD4ajSWXGz6YHSZJ9GnHyOnaf8rboIn+qTdvERjEU0CdCgV4oZWEGo7ey378FIQLsduKub8omNk7U4mYngUAYOewdDrAVK/nkTBwTVyx6tUAUNfQKHW8NCOHyvsnEPDWzC/1zj0ag15e9/FuPPFaz7HrX5X/GLfxT2kK8V2O//dGM9rG8UeQkLtVdvbo9RUojhcmygU2I0pcqcQhDrHZS0gZ8P/qDfqNe5o2IZlF8q/+3BFm9G6H+MiO2C5sAnjrper/PpKd3+8203Bu/00VG4+GC3FzFx7gne3JFR5lqp2M33SCkLakqbS4Ht6MwHH1yKp1FgCmpDTfDBOj3/N4FWqSen2CP6nfsYr5RBKeyF2T38yW43A1LDHFa8h+qTdvCRTES6XhFIlisOCUNuJnsNCXVJwPo8Tn+whsHMoIQMbE/74KqyJh0j6eASOnES541U4jX8Evn0f4ZQpi20Z5276fGqFkjc7DuLp1n1w2ArJ+GkwxSnbr/4cQxP8er6JrslInE4H8/cm8chPR7DV1lkUgvCnC7liH4/qSCFJkmj3UYtkLHmWnPXvyR1DEOocpacPTT9MItXhoOHSN2XJMCyiJStuuQ+76QLJ85pd+wkVSOUVjk+Hx/Fq/RBKtQeppiJe2hDPvL2i1Y1Qe7x6axQv9m+KQswcFoRazWGxc/j1bXLHEARZqDw1hA5sTEDnUHC5MO36jtS5D4Kr9hQt6983B0OvB+i2bhZ7s2/uXjXU04clfe+lW1BDbNnHSPuxDy5b/hXHKz0CMHT5P7zbPAIo+D0hl7u/P0B2oVitINQNgXotGf+99doDhSolZg7XMmLmsCDIw2UxkbvxE8KGvsCgsGjWJ5+q0uu39q3Pwt7jcdgKSF14+X63lUHjG41Pp6fQNx8PCiUJOUU8sTKO9acyqyyDIFSV5LwiURgWhDpA9BsW6jKnxU7iyniy4lKIGB6FIfY+vGLuJOP7x8jbPlfueDdNExSJodf9HDam3XRheGBIMxb2uQcfjTumg7PJ3Tr9imMVag+82z+GIWYGCo0nJzIKuGvBfk5kFNxUBkGoabIKbBTZnXhoxCrF6kQUh2sZhygOC4Jscjd+hP9t0/m4y0jWJ79dZdcNcNOxZsADaBVKMpb2xWXLq/RraoM7YYh5Fs/IYSBJHE4r4NGfjhCXWPnXFgS5JIsN6QSh1pNcEjZRHBYEitIKiP9iP37tggkb1JSQB78hYOhzJH4yClvyMbnj3bDAEa8AMGn74hs+h1Kh4JV2A3mhbX9cDitZq4ZRdHHj5QcrlOib34tvj9dR6+qRZirigfl72RAvJlIIdddFo4XoIC+5Ywj/IIrDtYwoDguCfJzmbIy/fkqj256iT71ItqRXfp9djVLF8lsmEerpTfYv92PLOlyp13OPuAVDzAw8wvvgcjnYft7IQz8e5kx2YaVeVxCqg2ST6JEmCLWeJImZw4LwD7mHMsg7kU39vg0Jjo0k8vXDmA+vJfmzsWCrWRtLaUOa49N9PHuzkzlqTLuhcwR7ePFD7/H0qd8Em/E0aUt64bLmXnasR4OB+PWaida/JQVWG88tP8pnuy7cxCsQhNohKc9Ks0C92OS5GhHF4VpGtJUQBHnl/PwBvgOm8Vn30bRY/m6lX++zbqPoEdwI08FZFJ76oXIuolDiGTkCQ+cZuAW1x+l0sOZ4Oo8sO0y62M1dqEOS8sTMYUGo9ZQKURwWhH9x2Zyk/JJA9r5Uwoc2w6f9MKI/zSVr1X/JWfuO3PHKLXDkf0GSmLDtxu6Ze9eLZHGfe/F39yT/2FxyNk++7DhtYDv8YmfiEdEXu8PBh1sTeGrNiZtILgi1S16RXWzyXM2I4nAt4izKR7KJWU2CICeHKZ283+fQrP8UugRGEJdVeTs8P9YilvubdaEoZQe5W5+q+AuotOijx2GIeRaNoQk2h535e5OYtuIYBTZHxV9PEKq5vCK76JEmCLWcQqHAbhbFYUG4nOKcIs5+exjvKH8ihkYRPOZt/Po/RvLnd1MUX703cXQLb4NP5zvZnn6OM/nZ1/VcBQpmtOnLax1uQ3LayVp7F0UJqy4Zp/IKx7fbq+ibj0OSXCw/ksaExQew2GrPZn6CUBHyiuxyRxD+RRSHaxGnxSh3BEEQgOz17+HbbzJfdh9Du1UfVMo1BoY04/3OQ7EXpJK+tH+Fnluh0eHV6kF8Ok1HrauPpdjGJ1sSeH79CRzi3lao43ItNkJ9POSOIQhCJbLni1UxgnA1+fE5HD/7B0E9Iwjp14iGz23Bcno7SbNG4iq4fIsFuQWNeh2Xy8mE7dc3a9jfzZMFvcZxa1g0dtNFUpfE4rKklxmjdPPBJ2YGPu0fA6WauMQ87lqwX6w4EoQryCuyi5YS1YwoDtcirkJRHBaE6sCRm0Te9m9p1esB2vmGcMiYWqHnj/IJZEnfCUgOK6k/dAYqpmKrdPfHu90UvNtPQ+Xmg9FSzMy1J3h3S+X3ThaEmsJkdRDqI3cKQRAqk03MHBaEa5KcEhlbL5J7MJ3Q25vg364XzT7OwPjrLDJ+mC53vDLcG8fg1WEYm1NPk1iQV+7ndQtqwI99J1DPw4uCU4vI2jCx7ACVFu82j2Do8hJKNx8Scizc+0Oc2KBZEK4hr8iOUimKw9WJsjJPvnz5cqKiooiLi6vwc2/YsIFhw4bRpk2bSrtGTSJJEs5q+imtINRF2WvfBiTm9BxToef11XqwdsCDeKrVZC6/DZfl5nc6VnmF49f7fcIfPIdv1xfJsGp5YMkh/F/eKArDgvAvYhmcUJPl5uby7LPP0rNnT6Kiorj33nvljlQtiZ7DglB+9vxiLiw5zqkv9mHNKsL/1idp9lkuXh1Hyh2tVNCo13E5HUzcuqjcz3miZS+23P4fgtw8yP554iWFYV2zMYRNPI5/7w/Ic3ow9vsDNHvnN1EYFoRyyLOK++nqpkbOHD5//jxPPfUU7dq146WXXkKr1RIZGSl3LHm5nDgteXKnEAThT/as85j+WEiHbuOJ8g4kPj/rps+pUihZ0ncCDfW+5Pw6leK03Td1Po1vND6dnkLffDwolJzNsfDkyjjWn7r5grMg1FYmq6NkAw0x20GogWbOnMn69euZPHky4eHhBAQEcPLkSTZv3szIkSMJCwuTO2K1YBebrQrCdSu8aOLkrD0ExIQSelskYdN+wpp4mKRPRuDIvihbLo+mPdC3vpV1SSdIt5qvOd6g9WBu7F0Mj2iFvSCVtCWxOM1JpY+7h/bEr9d7uAV3pMhm55X1J3nnt7OV+RIEodbJKxL711Q3NbI4vGfPHhwOBy+88AItW7aUO0614RRtJQShWsle8xY+3e/h69i7iF03+6bP90HnodwS0pT8Y3MpOPb1DZ9HG9wJQ8yzeEYOA0niUFoB//npiJjpIAjlkG+145IklIjisFDz7Ny5k549ezJ16tTSY8uXL2f27Nl07txZFIcBZ7EDXJLcMQShZpIge08KxqMZhAyIJLBLW5q+ew7T7u9J/foBcFV9QSjojjdxOh1M2rb4mmM7+IeyrN8kwnUGCs+uJHPtnaWPaXyj8e35JrrIoTidDr6Ou8h/fjoi9uMQhBsgVuJVPzWyOJyVVTIDz8enYpv+2e12XC4Xbm5uFXreKqFQ4BIzhwWhWrGlxZO/ZyndYu6gkd6P8zfR+uXhqK5MaxFLcfo+cjZPvqFzuEfcgiFmBh7hfXC5HGw/l8tDS49wJrvwhnMJQl1jtoqZDkLNlZ2djcFgqLLrSZKExWJBp9NV2TVvlktUegThpjmLHCStjid7Twrhw6Mw9JiAV8fRZCx6krwtX1VZDl2Lfuiie7Ps/GFybZarjp0c3Z0POw9HiYuczZMpOD4PAJVnMIauL+HV6gEAfonPZNz3+zGKmY+CcMNEcbj6qZLisNPpZNasWSxfvpysrCwaNWrE5MmTGTx4cJlxR48e5YsvvmDfvn0UFhYSGhrKiBEjeOihh1CrS6JGRUWVjr/lllsACA0N5bfffgMgOTmZjz/+mJ07d5Kfn0+9evUYNGgQjz76KB4ef+8uPmvWLGbPns3atWtZtmwZP//8M1lZWXz77bd06dIFm83G3LlzWbNmDYmJibi5udGpUycee+wxWrRoUdnfsuumUKpEWwlBqIay17yJT5e7+KrnnfTf8MUNnaN3vUhmdR2Jw5JJ6o+9ru/JCiWekSMwdJ6BW1B7nE4Hq4+nM3nZYdLFsllBuG75xQ4UYndloRopKCjgq6++YteuXSQmJlJYWEj9+vW59dZbmTJlCh4eHqX3vQArVqxgxYoVQMk9dEpKCgATJkwoPefIkSN55513AMp9TxwXF8eECRN4++23KSoqYuHChSQmJvLII48wbdq0qvp23DRJFIcFocIUpRdw+sv9+LYJJmxwU0Lum0PA4BkkfTKK4qQjlX79wDvewuG089DOpVcco1e7MafHGO5q3A6HJZO0Jb1xmBJQaHT4dHgSn05Po1C7cyTVzN3f7yc+S0yqEISbJXoOVz9VUhx+//33sVgsjB07FihZvjZ9+nSKi4sZNWoUAFu3bmXKlCk0aNCA+++/Hx8fHw4dOsQnn3zCyZMn+eSTTwB499132bRpE5s2beL555/H19e3dDZCSkoKY8aMwWw2M3bsWBo2bMiePXv48ssvOXDgAN9++21pkfkvTz/9NO7u7tx///0ABAYGYrfbeeCBBzh48CDDhw9n/PjxFBQU8OOPPzJ27Fi+//57WrduXRXfuusiisOCUP0UJx0l/8AqercdTIinN6mW/Ot6fiO9H8v7TQKXnZQfupR/OZ5Kiz56HIaYZ9EYmmBz2Jm/N5FpK45TYBMzHQThRuVbHahEv2GhGsnIyGDZsmUMHDiQIUOGoFar2bNnD19//TUnT57km2++YcCAAURERPDss8/SqVMn7ryzZKl0VFQUP/zwA0uWLGHy5Mk0btwYgIiICIAbuieeP38+eXl5jBkzhsDAQOrVq1e135CbJGYOC0LFMx7JwHQqm3p9GhDcqxGNXztIwZH1JH16F1xjRu+N0re5Hc/ILnx/dh/5dutlx7T2rc+yfhOJ9PLHcmEjGSuHgUKBV6v78e3+GirPIJLzipi0eDe/nc2plJyCUBeJmcPVT5UUh41GI6tXr8bLywuAsWPHMmzYMN555x0GDRqEQqHghRdeoG3btsyfP7+0gHv33XcTHR3N22+/TVxcHF26dGH48OEkJiayadMm+vfvX6Y32v/+9z9yc3OZM2cOvXv3BmD8+PHMnDmTuXPnsmLFCsaMGVMmm7e3N/PmzStTNP72229Lb6pjY2NLj48bN44hQ4bw7rvvsmDBgkr7ft0ol0X0HBaE6ih71et4dxjOVz3uZPCm8vcK9tK4sXbAg3hptGQuH4SrIOWaz1FodHi1ehCfTtNR6+pjKbbxyZYEnl9/QvREE4QKkC/aSgjVTHh4OFu2bEGj0ZQeGz9+PB999BGff/45R44coU2bNkRHR/Pss88SHh7O8OHDS8e2a9eOJUuW0L17d7p06VLm3AsXLrzue+K0tDR+/vln/P39K+kVVy4xc1gQKofL5iR14zmy96URPqQphnZDiP7MSNbq18hZ/WaFXy/wjjexO2w8snPZZR+f1CSGz7qPRgXkbplO/uFP8Wg0CL/Yd9D6RZNfZOOpHw/xzZ6kyz5fEIQbJzakq36UVXGRsWPHlhaGAby8vLj77rsxmUzExcWxc+dOsrOzGTVqFPn5+eTm5pb+06tXyRLqnTt3XvUaLpeL3377jRYtWpQWhv/yyCOPoFQq2bx58yXPmzhx4iWziVevXk3jxo1p2bJlmSw2m43u3buzf/9+rNbLf/ooJ2fR9c1IFAShalgv7Kfg6AYG1m9CgHv5+i4qFQoW9h5PM59A8rY/jzX596uPd/fH0PVlwh+8gH/v9zAr/Hhu7Qn0//cLz6wVhWFBqCgmsQxOqGa0Wm1pYdjhcGAymcjNzaV79+4AHD58+IbPfSP3xMOHD6+xhWEQM4cFobLZcotI+O4IZ+YdwmZyEDz6DZp+nIZn834Vdg2vjiPwaNCe+QkHsP5r1Z2nWsvcnnfxTexdqGz5pP3QCWvaH9S741fqDV8J3pHM/O0Mhpd+EYVhQagkRXYnNqf4e1udVMnM4b+WqP1TZGQkUNIj2GIpWUrywgsvXPEc2dnZV71Gbm4uFouFJk2aXPKYwWAgMDCQpKRLf7k3bNjwkmMJCQlYrVa6det2xesZjUbq169/1UxVTbIXyx1BEIQryFr1Oo1a38aX3e9g9G/zrzn+zY6DGBzegoL4xeQf/OiK41Re4fh0eAKv1g+hVLuTairipZWHmLdX3MwKQmXILxYzHYTqZ+HChSxevJizZ8/icpV9s2UymW74vDdyT3y5e+uaxGUXb1YFoSrkn87hxEe7CeoeTv3+jWkwYzOWM7tI+mQkLnPWjZ9YoSRo9JvYHDam7V5Z5qEon0B+6jeJaJ8gipK3kb35UXy7vYw+6i5cTgeLD6Vw/+JDWMWHRIJQ6fKtDgJ0WrljCH+qkuLwtTZukSQJgGeffZbmzZtfdkxQUFC5znG93N3dL3uuZs2a8fzzz1/xeX5+fjd0vcokOcVsJkGororO7KLw5O8MbdYTb437FXufAdwb2ZFnW/fFln2MrJ8nXHaMxjcan5in0UePA4WSszkWnlwZx/pTmZX1EgRBQLSVEKqfefPm8c4779CzZ08mTJhAUFAQGo2GjIwMnnvuuRu+R4Ybuyf+5wbQNY0kSaKthCBUIckpkbE9kdxD6YTe1gT/Dj1o9lEqxt8+I2Ph4zd0Tu8ud+IW2oJZJ7Zj+8es4bGN2zOnxxi0ShWmvTNRqNwIu/cgKFTsOJfD3d8fIDW/+q0OFoTaylRkF8XhaqRKisMJCQnccsstlxwDCAsLo7i4ZMarh4dH6RK46+Xv749Op+Ps2bOXPGYymcjKyrpi4fnfGjRogNFopGvXriiVVdJ5o0JIDpvcEQRBuIqsVa/T8Lnf+Lz7HYzf+v1lx3QNbMCcHnfiKDKSsvjS34fa4E4YYmagazIcyeXkUFoB//npCHGJeZWcXhAEgHzRVkKoZlatWkVoaChfffVVmfvWbdu2lev5V5vEUVPviW+YJHoOC4Ic7GYbF5aeIGtPChHDovAf+Bg+PSaSNu9BzHsv3zP4spQqAke9jtVezPS4NQC4qdT8r/MwJkd3x1FsxnJyCd5t/4NC68XprELGLzzAgZQbX2EhCMKNsdidckcQ/qFK7vIWLVqE2Wwu/dpsNrN48WK8vb3p3LkzPXv2xN/fn6+++oq8vLxLnm+1WikoKLjqNZRKJX379uXEiROX3AzPmTMHl8tF//79y5V3xIgRZGVlMW/evMs+fq0WF7IRM4cFoVqznPwdy9nd3BHREk/1pZ+Shul8WNn/PpSSk7TF3cDx9+wF94hbqDd6E6Fjd+HReDDbErKJfncrHT/cJgrDglCFxFJTobpRKpUoFIoyM4QdDgdfffVVuZ7v6ekJXL79RI29J74JouewIMin8KKJk7P3cHH5SVB4EjblRxq/cQR10KVtKi/Hp/s9uAU34eOTO3HhorGXP38Mnsbk6O64is1gL8C79YNk27TcMX8fzd/9XRSGBUEmDteNr2wSKl6VzBz29fVlzJgxjB49GkmSWL58OampqbzxxhulS89mzpzJlClTuO222xg9ejQNGjQgPz+fc+fOsWnTJmbPnn3JDsr/Nn36dHbt2sWUKVMYN24cERER7Nu3j/Xr1xMTE8PIkSPLlXfChAns2rWLd999l927d9O1a1f0ej2pqans3r0brVZ7yc7M1YFoKyEI1V/2qleJeOpnZnUdyQM7lpQe91RrWd3/Afy0HmStHoXDdA4USjwjR2DoPAO3oPY4nQ5WH09n8rLDpJvFSgFBkIPrJpboC0JluO222/jggw946KGHGDBgAAUFBaxdu/aSDZevpHXr1iiVSr744gtMJhOenp6EhYXRtm3bGntPfMMkCUlskCMI8pIge28qxqOZhAxoTGDXVjR95wz5exaRMmcSuK7Q3kmlIXDkq1hsVl7Yv56RDVoxL3YsnqqSDTuVbl5YceO5Ncf539ZzVfd6BEG4LKcoDlcrVVIcfvrpp9m3bx8LFy4kOzubhg0b8v777zN06NDSMbGxsSxbtow5c+awevVqjEYj3t7eREREMGnSJKKioq55ndDQUH788Uc++eQTVq9ejdlsJjg4mEceeYRHH3203DfJGo2GL7/8kh9++IFVq1Yxa9YsoKTvcevWrctdZK5qoq2EIFR/BUc2UHThAOMbteXRXT9hczlQoODb2Ltp41sf4x+vUpT0K/qW92GIeRaNIRKbw878vYlMW3GcApvodyoIchL3sUJ188ADDyBJEsuWLePNN98kMDCQ22+/ndGjRzNo0KBrPj8kJIS33nqLr776ildffRW73c7IkSNp27Ztjb0nvhliQzpBqB6cVgdJa06Xtprw6TYefYeRZCx+mrzfPr9kvCH2PrQBDZh5aCMfdB7GEy174ZRcqBTKktUUcclMW3UUl/gRF4RqQUy4qF4U0s3sUiFUK2dnRGFLPy13DEEQrsGrw3DCH1/J5yd3MXX3cl5uN5BX2g/EcmEjRYmb8ek4HbWuHpZiG5//kcTz608gVrkKQvUQHaTnxLN95Y4hCEIlkFwS2XtTSFwZL3cUQRD+xdAqiPAhTdH6uFOcdZ6U2XdgvXAAAIXGjSbvn8el9+ewMZ3OgREAuFxO1p/K4p4fDooNZQWhmtkxtQfdG/pde6BQJapk5rBQNcTMYUGoGcwHV2NNOc79TTqxPSOBV9oPRHI5cKvfBc+GAzFaipm59gTvbkmQO6ogCP8iZjkIQu3mcoifcUGojvKOZZIfn01w74bU692ARq/speDYL6R8eieG2PvQGOoD0DEgDElycSAln7sX7CchxyJzckEQLkf0HK5exMzhWuT0E2E4jClyxxAEoRy8O99J2JQlfxaaJJQKJcV2B2tPZrElofZt8CMItUWQ3o2XBjSTO4YgCJVAcklkbE8kZcNZuaMIgnAVWl93wgY3xbdlEC67DclpQ6n1xKUAm93FvL1JnMy8+ob2giDI67GejWgaqJc7hvAnURyuReIfq4fTlCF3DEEQLketxTtmDN6dRuPRuDNqn3pICgVKpVLuZIIgCIIgAJIkkfbbBdI2183NqlbFb+B8XhLnjYlkWXII8PTjk9veuOL40znnWB3/CxfykjDbCvH18KFlYBTDom4lWBdwzesdTDvKr+d3kJifQn6xGbVSTZBnALENunBLo1i0f24k9pfdyfs5lH6cC6YkUvLTcEouPr71dQJ1/pecO6Mgi3mHlnAm9xx6rY7bmvTl9ib9Lhk3//CPnMw+w5t9n0OlVJXjuyRUJ/X6NCRkYCMUCnE/LQg1kSRJKBQKuWMIiLYStYpCKf7vFITqQqn3w9B9Avr2Q3EPb4tK54viz0JwsbEI88V8vBv7AuBKtyKdNcsZVxCE8vJQoeoo+qMJQm2kUCiQ6nCT/yXHV6PX6mhoCMdiL7rq2MPpx3l312cE6wMZGNkbL62eZHMav53fwZ6Ug8zs/yJ+HoarniMpPxWlQkmfBt3xdffB5rJxKjuBBUeWcTD9GM/3mFamaLDp3DbO5l6ggU8oQbpA0gouPynGJbn43+4vsTnt3N1yOMnmNBYcWYa/hy+dQ9uXjjube57N57bz395PicJwDRQ+PIrAziGlXzuP5EG+Xb5AgiBcF2VrH/DWXHugUCVENbEWUai1ckcQhDpLExSJIfY+dK0G4Fa/BUp3XcmbTEmiKKOQgmMpFJzPo+CiCXt+MQ3vbAmAzWJCE+SN64QJ8sVGGYJQ7enFrZMg1GZSHe6B+OGtr5XO+H128+tYHcVXHLv+7G8oFUr+2/tpvN3+XhYc5lWfrw4uJC7lwGVn6v7TsKhbLzl2a2Rf5h1azKZz20gwXqSJX8PSxx7tNBFfdx9UShXzDi25YnE4vSCLpPxUXox9ghaBJW2AkvJT2ZN6qLQ47HA5+erAQgZG9ibyH9cQqj+NjxvNHu6Iu58H5tQz5J0/RHiPMWBxImWLPXgEocawi1nD1Yl4h1OLKFTiUxdBqCoeTXvg0308uqjeaAIjUWrdAHA5XViS8jGfv0jBhTwKE004L7M7sndTX6ymLOJXvk+be99G1d4X59asqn4ZgiBcL3EPKwi1mlJdd5enl6cVxF+KHFa0Kg16rWeZ4wYPHwDcVDc+aSXAs2R1RqHdctnj12JzlhQI/5lNr9FR/I9i99rTGymyWxnTYugN5xSqXkCXUMKHNEWhVJD8x3LS9q1HV69xyYPauvuzKwiCcLNEcbgWEcVhQagkSiVe7Yfj3flOPJp0RW0IQ6ku+fXptDown8vDfCGJggt5WFLM11ySqtZrUes05Bw8gM2URcbhX6nXfgCKSD1Sgtg8QxCqNVEcFoRaS5IkFHW4OHw92gQ152zueT7fN58hTQfg5aYnKT+VhUd/ItSrHt3COpX7XEV2K3aXgyKHldM5Caw5vQm9VkcT34Y3lC3EKxi9VsfyUz8zrtVIUvLTOJxxtpMnewAAtv1JREFUgjtaDAYgzZzBilMbeKLrQ7ir3W7oGkIVUytpdn879A0N2Mw5JPz8BYUZJb3Bi43pJWPcxM+uINQo4p66WhHF4VpEFIcFoWIo3fV4dxuPV4fhuDfogFofiEJVcsNpNxeTdzybggsmCi7kUZRRANe5AjW4ZzgKhZK884cASNq+CP9mnVG38MaZVgQWZwW/IkEQKoxY/ib8w6FDh9i+fTsTJ07E29u79Hi/fv3o3Lkz77zzTrnPdSPPqQwJCQmsX7+ekSNHEhYWVuax6pKx0kig1IgCU3kMj7qV/GIzWy/+wc6kvaXH2wW3ZGrn+/HQuJf7XF/uX8Ce1IOlXzfxbcikdnej+9es5PLSqrQ81GE8X+z7jidSSs7bJqgFt0b2RZIkvjn4AzEhbWlfr9UNnV+oWvrGBppMaIPKTUP2iR1c3PoDLru19HGHtaDkgx2t8npvyQVBkJO4pa5WRHG4FhE9hwXhxqh9wzDETkTX+nbcw1qhdPdGoSz5a2XNKiRvfxoFF/IouJCHzWi9xtmuzdAyCEexhYK0s6XHTq/5mBZ3voSynQHXrpybvoYgCIJQ+Q4dOsTs2bMZOXJkmeLw7Nmz0ev1V3nmpW7kOZXh/PnzzJ49m86dO19SHK4uGSuPmDlcXkqFEj8PA62CoukU0ha9Rsfp3AR+SdjKrD1zearbZNTl3ORtVPNB3NI4FnOxmeNZp0kypVBgu7mVVDEh7Wh1ezQp5nT0Wk/q6YMA+P38ThLzU5nW+UFsThuLjq1kf9oR3FRu9G8cy62RfW7qukLFihgZRUCnEFyOYhJ+/prcM3svP9DlAjexqaAg1ChKUR2uTkRxuDYRM4cFoVzcwttgiJ2Ernk/NMFNUWo9SjaPc0lYUs2YzyVScDGPwosmHIUVvOuxEtx83cg9swfJ9fcMYUvmBXLP7ME/qgtShCdSouUqJxEEQTbiPlYohxYtWlTJc6paTch4U6S63XP4enyx/ztO55zj3f4v4fbnBJWY0HYE6wKZe2gx2y/upm+jHuU6V4RPaOm/dw+P4ddz25m581Ne7j2dKP/IG87ooXEvs6FdntXEwmPLubfNHfi4e/HNwUUczTzJo50mYizK48v93+Pj5kXXsI43fE2hYmgN7jR7pANuBg/MKac598scbAW5VxzvcjpQiJ7DglCziL+31Yr4f6MWEW0lBOHydK1u5f/Zu/PAqOpz/+Pvc2ZNMslM9g2ykEAWIAn7juKGW1FEtLV1aatorVevrdat2mvbW+vPulS0172KWqsiorhRRVEURVRA2ZcsJJA9mayTTGbm/P4YiMSwJSQ5k8nz+sfJyVk+CebMmed8z/NNuvKfZP6/XWQ/5Sbjz5uInnsj5oQxtJS2Ub6qiJ1PfsPG/1nN9kfXs+/d3TRsren7wjAQMykZxWCg/kBLiUMVrnwST7sLdaxd+qYJEagMUh0WfosXL+aee+4B4NRTTyUrK4usrCzKyso45ZRTuPXWW3u0vx9us3jxYrKysrqtt2zZss7jHLrttddey+rVqzn//PPJy8vjzDPPZOnSpd22r6io4I477mD27NmMGTOGWbNm8Zvf/IampiaWLVvGr3/9awAuu+yyzp9p3bp1h80IsG3bNhYtWsSECRPIy8tjwYIFvP/++4fNvH79eu666y6mTJnClClTuO6666isrOyy7ueff86ll17K5MmTycvL45RTTuHGG2/s0e/yREhbiWOraa3js9L1jEsY01kYPmhK8ngAttXs6vX+Z6ZMAWBV4ZrehzyM5za9SrojhZNSp+HTfHxS8gXnjZpLTsxIpg+fxOTkAj4qXtunxxQ9Fzt9GKNvmoo5wkzZ2qVsX3bvUQvDAD6PG8Uqf7tCDCpGuaYOJDJyOIhIWwkhAKOZiCkXEzHhAkJGTMIYkYBi8D9m5mntoGFHvb9FRImT1v3N4BvY7mTR4xPRfF4aSzYf5rs+Ct97jJHz/hs1z45vff2AZhNCHJsihSNxwMKFC2lqauK5557jkUceITY2FoC4uDhd8mzdupX77ruPRYsWER0dzSuvvMIdd9xBamoqkyZNAqC8vJwLL7wQgGuuuYbMzEzq6upYvXo1ra2tnHzyydx000387W9/46677mL06NEAZGZmHvaYu3bt4pJLLiExMZG7776b0NBQXnnlFa677jruvfdezj///C7r33bbbcyZM4f777+f8vJy7rvvPm6++WaWLFkCQGlpKYsWLeK0007jyiuvxGKxUFFRwerVq/vnl/ZDiiJtJY5DncsJgE/rPgHvwWXew3zveHX4PGhoNLtber2PH/q6/Fs2VHzHX0+9A4Cm9hY6fB1EhUZ2rhMdEkmxs7TPjil6yKiS9ctxhKXaaW+spvDdx2ipKj6uTb1uF0ZLSP/mE0L0LRlwEVCkOBxEFJPMtiuGHtUWg2PmZdgKzsU6LA9DWCSK6v9g117vonZjZefkce01+rdqCE0Mo7FsO16367Dfbyj5jsa9W7GnjkYrdaFVnHiPYyFEH5LisDggISGBpKQkAHJycrr15x1oTqeTl19+mfj4eAAmTZrEunXrWLFiRWdx+OGHH6ahoYG33nqLtLS0zm3POeecztfp6emAvyBcUFBw1GM++uijaJrGkiVLiImJAWDOnDksWLCA+++/n3nz5qGq3//NnHzyydxxxx2dXzc0NHDfffdRVVVFXFwcW7Zswe1288c//pHw8PDO9X5YZO5Pqkn6lh5LUng8qqLyVfm3XDz6vC4Tx31c8gUAIyJTO5d5fF4qW6qxGMzEhEZ1Lne2NeCw2rvtf+WejwDIjErvk7yujjb+ufHfXJB9Tmfv4XBLGEbVSGnDPvLj/e1SShv3HzaP6H/hGZFkXDoWg8VE9ZY17P3kX/g62o97e297K4TH9mNCIUSfk5HDAUWKw0HEEBJx7JWEGOTM8SOxz7oC2+jTMSfmoFrD/P2CNQ1XZQvN3+3rnDyuo8mtd9wuwkdGopqMOAs3HHW93W8vZtxVi1ELHHg/qASPzL0sRMAwyYWsCEy5ubmdhWEAi8VCWloa+/bt61y2Zs0apk+f3qUwfCLWrVvH9OnTOwvDAIqiMG/ePO655x6KiorIyPi+Z+ypp57aZfuDbTP2799PXFwcubm5mEwmrr/+ehYuXMiECRO6/Ez9TVGVId1WYs3eddS0+h/fb2xvxuPz8Pr2dwGICY1i1oF2DzZzGGdlzuHtXau4/cN7mJM2A5s5lJ21hXxWup74sFjmpE3v3G+9y8nN7/+RnJiR3Dn7+xYhv/vgz2RFZ5DuSCEyxE5TewvfVW1jS/UOhkckcVbmKV3ybavZxfYa/2S+RfUlAPyncDWhJn9xen72WYf9uV7e8gbhZhvnjPz+/z9VUZk+bCKvb38XDX+hemPFFq6ecOmJ/ApFL6QuyCF6fALejjZ2v/ME9bu/7vE+OlxNKAbFPxLRK9fNQgQ81X+9IAKHFIeDiBrq0DuCEH0uZOQM7NN/Rlj2SZhiRqCa/SPkfR4fLWWNNBcV+0cGlzjxtXuPsTd9xU0dDoCzaNNR1/N53BR/9Bzpp/8SdbQd3ybnAKQTQhyXIVw4EoHN4XB0W2Y2m3G7v79RWl9fT0JCQp8ds6GhoUth+KCDLTacTudRM5rN/pZo7e3+EYIpKSk8++yzPPnkk9x+++24XC5GjhzJlVdeOWCjh40hQ3cOj9XFa7v1Cn516woAcmJGdhaHAS4ZcwGJtng+Kl7LGztW4vF1EBni4LQRs1iQcw6hpmM/4n9mxhy+rdrGfwo/psXdgtlgJtEWx8Wj5zE3Yw5WY9enIrdU7WDZ9ne6LHt716rO14crDu+qK2JV0afcffJNGNSuo8Ivy18IwIqd/8FiMHPR6B91+RlF/zJHWslaNB6zI4TGsu0U/udJOpp711Kto7XB/8KiQmtgfx4QQiCT0QUgKQ4HEYMUh8Vgp6qEjz+fiMkXEZIxFaMjGdXoP0152zw0FjppLi6ludhJa1kj2iAbGWBLt9NaU4a7qfaY69ZuX0t8/mmEpafhK2uF2sAaBS3EUKWYVDRNk9EOot9ZLP7CmNvt7iyigr/A21uRkZFUVFSccLaDHA4HNTU13ZZXV1d3fr+nJk6cyMSJE/F6vWzevJmnn36aW265hfj4eKZNm3aikY/JYB26H48OHdV7LIqicEr6TE5Jn3nMdWPDovnXBf/otvyCnLO5IOfs4z7mhbnncmHuuce9PsDIqHSen7/4sN8LNYVwzcTLerQ/0TdiZwxn2FkZKAqUfvoKFRtWgtb76/rOorJZisNCDArSUiLgDN2rnyCj+bwYDplQQYjBQLXaiJh+KeHj5mFNHY8xPKazX7C7sR3nlpoDLSIacFU2w+CqBXdhjrZisJpwfnf0lhKH2vnGAxT88kEM4yLxflgJvZ/bRQjRV0yK/1wk17SC7iNf+1JycjIA27dvJy8vr3P5Rx991Ot9zpo1ixUrVlBSUkJqauph1zGZ/CNn29qO3fN+6tSpfPjhh9TU1HSOINY0jRUrVhAfH8+IESN6ndVgMJCfn88tt9zCypUr2bFjx4AUh1WL9BwWor+oZpWRvxxP2PAI2huq2PPuY7RWl5zwftub/DepFIs6mD8uCDF0SHE44EhxOFhomrSVEAHPGDUcx8wrsOXNxZI8BtUagaL63xjaqltwri+nucRJc5ETtzO4JmKLn5mKoijH7Dd8KE9bM2Wfv8bwmRehZkXg29bYjwmFEMdF2kqIQ4waNQqAF154gXnz5mE0Gjv76J6ok046CYfDwR133MENN9yAwWDg9ddfp7y8vNf7vP766/nkk0+45JJLuOaaaxg5ciROp5PVq1dz4403Eh8fT2ZmJoqisHTpUmw2G2azmfT0dGw2W7f9/frXv+ajjz7i8ssv59prryU0NJSXX36ZzZs387e//a3HI+xfeukl1q1bx0knnURiYiIul4uXXnoJk8nE1KlTe/1z94TBIh+PhOgP4SOjyPjpWAwWI1WbP6b0k5fwefrmybj2Bv/TCpjl5o4Qg4JBrqcDjVz9BBFpKyECjSWlAMfMywnLPQVT3EhUs9U/eZxPo3VfI01Fe/0jg0sa8LZ26B23XzmyY+hobaClqmejIyq+eY+Y0SdhHRUH+13QENy/JyECnkmVUcOi08SJE1m0aBGvv/46//73v/H5fKxa5e+B2pvWI4duY7PZePLJJ/nLX/7CzTffTHh4OAsXLmTWrFn8/ve/71XexMREXn31VR5++GEee+wxGhoaiIqKYtKkSYSFhQH+Ecu33norS5Ys4dJLL8Xr9bJkyRKmTOneizUjI4OXXnqJBx54gDvvvJOOjg6ysrJ49NFHOe2003qcLycnh08//ZS///3v1NbWEhYWRk5ODk899RTZ2dm9+pl7SlEVf/uYDnlcR4i+krYwl6iCeLzuNna99RjOwm/6dP+u+gPtcixScBJiMFBk5HDAUTTtBJr7iIChaRqtWz+k5P/1/EJciL4Slncm9ik/JnTkDIxRqagHHk31ub00722guchJU7GT1tIGfEPoQ5dqVin4w0lUb/mEko+W9Hh7c0QseZfdA40evB9XD+r2GkIMdoY5cSj2oTthlTg+kydPZsGCBdxyyy39uo3oH5v+dw2eZun1L8SJMkdbybpqAma7lcbSrRT+5yk6Wpz9cqyJ//U02q5mfFvlSTshAp2SZMUwOVrvGOIQMnI4SCiKgmqL0juGGErMVuyTLyJ8wgWEpE/CGBGPYvA/yuVpcdOwo/5Av2AnreXN4Bu6Fc3YacNRVBVn0cZebe9urKZi0/skjpuLkmFD293ctwGFEMfPJCMdxJHt2rWL1atX09DQQH5+fr9tI/qXwWqU4rAQJyh+VgpJc0egKLB3zctUbvgP/TrCwafJyGEhBgvp7x9wpDgcRAxhMiGd6D+qLYbIWZdjyz8Hy/B8DKGRnf2C2+tc1G6s7CwGt9e4dE4bWKIK4vF53DSWbuv1PsrWvEz0qCmYcux497tkJmYh9CI9h8VR/PGPf6SoqIif//znzJ07FwCPx9PjbYS+DCHyEUmI3lLNKqOuHE/YcDtt9RXsee8xWqv39vtxNZ9HisNCDBKKVUXTtF614BL9Q658goghTEYOi75jTszy9wsefTrmxGxUS5i/X7Cm4apopvnbMpqKnLSUOOloktE1R2ONDaWheBOa98T6Be968+/kXnwX6jgHvs9q+yidEKJHpEeaOIrnn3++27LRo0cfdZv58+cfdjuhH3OEhVa9QwgxCEVkRTPikjEYzEaqvv2Q0k9f6bNJ547F63FjNJsH5FhCiBNkMfgfJJDL6oAhxeEgYgiJQDFZ0Tra9I4iBqGQrFnYp/2UsKyTMMWko5otAPg8PlpKG2guKqa5xD95nK9dRq0eL8fYOFSDodctJQ7VWl1C7c4viMmehpYSirZXProKMaCMioxwED22dOnSo34/MlKe/Ao0ZodV7whCDDppF40mKj8Or7uVXSue6ZNr357wuV1glb9dIQYFq0EKwwFGisNBxhiZTEfVHr1jiECnGgmfcD4RkxYSkjEFoyMZ1eg/HXjbPDQWOmkuKvX3C97XiOYduv2CT1Ts5GQ0TcNZ9G2f7K/oP0/jSMvHMNaOt7IN2ofOxH5C6M4sj6uKnhs7dqzeEUQPaD5NisNC9IAlNpRRV47DHGGlYe8Wiv7zFB2tDQOew9PeijlMJrgSYjBQrKoMuAgwUhwOMiYpDovDUEMisE/7Kbbx87Cmjsdoi0FR/UUOd2M7zs01NB3oF9xW1dKvc0UMNWHDw2mpKMTj6quZk33sfvf/yDr/N6h5Dnzr6/pov0KIY7LK5BlCDAVmuxSHhTge8SelknR6OqCx95OXqNz4AXp9kPC4mlGMKqiAjJ0QIrDJNXXAkeJwkDFGJusdQQQAY3QKjpmXY8s7E0vSaNSQiM47c66qFpzbyjsnj3M7pQ1JfwlJCsdgMVFfuKFP99tUuoXGvZuxp45FK7Oilcu/oRADQQmVC1khgp2iKpgjpTgsxNGoFgOjrhpPWHIErrpy9rz3GK6aUl0zdY5WNqvQJtVhIQKaPI0XcKQ4HGRMUhwekqxp47HPuIywnDmY4kaimq3+yeO8Plr2NdFcvNdfDC5pwNt6YpOiieMXPzMFoF96ru1++1HGXfUwar4Db00ldMhwbyH6nRSHhRgSpK2EEEdmz4kh/cejMZiNVG76gNJPXz3hSZf7grvF6X9hMUhxWIhAZlZRVGkpEWikOBxENJ9XRg4PEWF5Z2OfcjGho2ZgjEpBNZoA8Lq9tJQ00FS8n+biBlpKG9A65OJILxEjI2lvqKatbn+f79vncVP04XOMOONK1NF2fBudfX4MIURXSqgRzafJBa0QQc5kM6MYFJlzQYgfSP/JaCLHxuFpa2XPm0/RUNw3c2r0BXdjLQCKWZUOeUIEMouMGg5EUhwOJpomI4eDkdmKffLFhE+8gJC0iRgj4lEM/tFrnhY3DdvqaS5x0lzkpLWiGXxyORQIjDYzxjATlRu/6bdj1O34nPj8U7GljUAra0WrcffbsYQQ+EcOS11YiCHBZLfirnPpHUOIgGCNDWXkVeMxh1twFn9H0ftP9+F8Gn2jvbHa/0IKT0IENEX6DQckKQ4HE9WAMWqY3inECVIj4oiccTm2grOxDMvDEBrZOUqtvc5F7YbKAy0inLTXyIeWQBU/YziKouIs3Nivx9n55oOM++VDqOMi8a6qlAk4hOhHSphRZlYWYogwO6Q4LARAwpw0Ek9NAzRKPv4XVZs+0DvSYbU5K/0vpDgsRGALkeJwIJLicBBRFAVT1HC9Y4geMidm45h5BWFjTsOckI1qCfX3C/ZpuCqaadpU1lkM9jTJyNDBwjEmDm+7i+by3f16HG9bC6Vrl5Iy62LU7Ah8WwNrFIcQQUUuZoUYMswOi94RhNCVajWSddV4QpPCcdXu8086V7tP71hH5G6sRdM0FLNB2koIEcCUMIP/b1UGXAQUKQ4HGaM9AVQD+Lx6RxFHEJJ9Eo6plxCaPRtTdDqq2f/hw+fx0VLaQHNRlb8YvLcBX7v8Ow5KKlgiLdTt+hJtAP4WKzesJHbMSVhHxsM+FzToPymIEEHHKpNnCDGUyKR0Yiiz58aQfvGBSec2vk/pZ6+ieT16xzoGH2iajBwWItCFGUFDWrUFGCkOBxnFYMQUnUJHdZHeUQSAaiR84gVETLqQkIwpGO1JqEb/n52nzUPjnnp/Ibi4gdZ9jTLxSZCImZiEYjDgLNo4YMfcufx+8i6/F8N4B97V1ciQCSH6WKhcMgkxVGg+DbNdisNiaEr/6RgiR8ficbWw592naCj5Tu9Ix03zeqU4LESAU2xGGXARgOSTThAyJ4yS4rBO1JAI7DMuJbzgR1hTx2GwxaCo/gsUd0Mb9ZtrDhSDnbRVtUgBL0hFT0hC83lpKNk8YMd0N9VSsWEliRPOQsmwoe1uHrBjCzEUKKHSUkKIoURGDouhxhofxqgrx2GyWXAWbaLog2fwuJr0jtUjPq8bg1lKHEIEtDD5Gw1E8q8ShCwJo2j5bqXeMYYEY3QKjlk/xzZ2LpakXNSQiM7eOa6qFuq37e8cGex2tumcVgyU0MQwmsp24HUP7EQ2ZZ+9SnTWNEw5drzlLmiRtiRC9BkZOSzEkKGoCpaoEL1jCDFgEk9NJ3FOKprmo/ij56n+7iO9I/WKt6MNg9WudwwhxJGYVRSTjO4PRPJJJ8hoPi/mhFF6xwha1rSJ2GdeSljOHEyxmahmq3/yOK+Pln1NNBftPdAv2Im3NdD7con+EJ4RiWoyUl+4QZfj71zxEKMv/gPquEh8n9bokkGIYKSEGdB8mjwGJ8QQYY6QCelE8FOtRrKuHk9oQjitNWXsee8x2ur26x2r17ztrWCP1DuGEOJIwuRJvEAlxeEgJMXhvhOWfw72KRcTOnIGxqjhqEYTAF63118ELtlPc5GTlrJGtA6fzmlFIIidPgxgQPsNH8pVvZfaHWuJyZmBlhqKVtKqSw4hgk6oQSbOEGIIUc0GDCFGvC652S+Ck2NMHGkX5WAwGanYsJKyta8Ngknnjs7jakKJUf3v19K+T4iAo0hLiYAl/zJBRlENWJJy9I4xOJlDcEz5MeET5mNNn4gxPB7F4H/koaPFTcM2/+RxTcVOXBXN4JMrDtFdeHokrTVluJtqdctQ9P7TONLHYRhjx1vZBm1y40KIE6WEGTvbBgkhhgZLZAitg6znqhDHpMKIS8biyI3B42pm99tP0rh3i96p+kRHa6P/hVmFdrn+FSLQKDYjmqbJNXUAkuJwEDJGJqOYrGgd0uP2aNSIOCJnXo4t/xwsw/IwhDo6Hxdur3NRu6Gic/K49tqB7R0rBidzlBWD1YjzO31aShxq9zuPkjX/JtQ8B74v6/SOI8TgpgBWeQxOiKEmJMFG634pDovgYU04MOlcmIX6wg0Ur3p20E06dzTuFqf/hUWKw0IEpDCjf1S/1IYDjhSHg5CiqJjjMmjfFxx3gPuKOSkXx6zLCcs9DXNCFqol1N8v2KfhqmimaVNZZzHY0+zWO64YhOJnpaIoim4tJQ7VVLaNhpLvcKTloSVZ0fbLzSIhei3cKL2GhRhiNJ9GSJINvtE7iRB9I/H0ESSenILm81H84XNUb/5Y70h97uCTe4rZgMbgbpEhRDBSbEYpDAcoKQ4HKXPCqCFfHA7NmYN96iWEZs3CFJOOajID4PP4aNnbQHNxFU3FTlr2NuBr9+qcVgQDe3YMHa2NtFQW6x0FgF1vPcKEqx9BzXfgra6EDmmFIkRvKHaT3hGEEANNgdCkcL1TCHHC1FAj2YsmEBJvo7W61D/pXH253rH6RXvjgcmYLaq+QYQQh2eTNm2BSorDQcqSmE3wPCB0HFQjERMvIGLyQqwjpmC0J6Ea/Y8Ae9o8NO6u7xwV3LqvCc0rRTLRt1SzijnCTPXWdQTMDBg+D0WrnmHE3KtRR9vxbXTqnUiIQUmxm6U/mhBDjKIo/uKwTGwlBrHIvDjSLsxBNRkp//pd9n3x+qCfdO5o2p2V/hdSHBYi8IQaUEzytxmopDgchDSvB0tqgd4x+pUaYsc+41LCx83DmlKAwRaNovpPNO6GNuq/q6K5uIHmYidt1S1yUS/6XezU4SiqirNwo95Ruqjb+SXx+adjS8tAK2tFq5GWKUL0mIwcFmJIMliMmCNDcNfJ3BNikFEh42d5nU+1Fb31JI2lW/VO1e/aGqr8N3PNqnz8EyLAyJN4gU2Kw0FIMRgJSZuod4w+ZYxJwzHzCmxj52JJzkW1hneO4HJVtVC/dT9NB0YGdzS065xWDEVRBfH4PB0BeeG9440HGXflQ6jjIvF+WAUycl6IHlEcJhk1LMQQFZpok+KwGFRCEm2M+uU4jGFm6vd8TdGqZ/G2tegda2D4fKBpMnJYiACk2E3yJF4Ak+JwkDLHjUANicDnatQ7Sq9YR0zCPv1SwnLmYI7NQDFb/ZPHeX207GuiuajEPzK4xInXFbyPRonBwxobSkPJt2jeDr2jdONzt1K29lVSZv8ENTsc35bBeV4QQhfyCJwQQ5amaYQmhePcUq13FCGOS/LcDOJnD0fzeSla9U9qtqzRO9KA03xeMBv0jiGE+CG7yf9Et9SGA5IUh4OYNSWf1h2D4IJAVbHln0PE5IsIzZyOMSoF1ej/X9Pr9h4YEbyf5mInLWWNaB0+nQML0ZVjTByq0YCzaIPeUY6ocuP7xI45CWtmIpS5oCHwithCBCJ5BE6IIUyTSenE4GAMNTLq6omExIXRUlVC4XuP0+as0DuWLnzeDgwWKQ4LEWgUhxlFlcpwoJLicBCzpowLzOKwORTH1B8TPn4+1vQJGMPjUQz+UVkdzW4attUeKAg34KpoBp88Ai8CW+yUJDRNw1n0rd5Rjmrn8gfIu+L/YRgfiXd1lfTiFuI4yCNwQgxdiqoQOixC7xhCHFVUfjypC7JRjAbKv3rHP+mcz6t3LN34OtowWOSmjhABxaSihMhNm0AmxeEgpXk9WFPH6R0DAKM9AfvMy7Hln41l2FgMIY7OO0btta3UflNBc4m/X3B7rfR0E4NP2PAIWiqL8AR4Gxd3cx3l37xH0sSzUTJtaLua9Y4kROCTR+CEGNJMNjNGmxlPs0zoKgKMCpmX5RMxKpqO1gYKVzxBU9l2vVPpztPuwhTu0DuGEOIQ8iRe4JPicLBSDVjTJ+hyaHPyaBwzLycs91TMCVmollB/v2Cfhqu8iaaNpTQXOWkuaZALbTHohSSFY7CYcBZ+o3eU47Jv7VJisqZiyonEu78NWqRntxBHI4/ACSFCE2007qrTO4YQnUKTwxn5iwKMoWbqdn1F8YfP4W0fIpPOHYPH1QxR8r4tREBxSHE40ElxOEgpioIlMQfFZEHraO/XY4XlnkLE1J8QmjUbU3QaqskMgM/jo2VvA01FVTSXOGkpacDnHrqPOIngFD9zOAD1hRv1DdIDO998iNE/uRvDOAfeT2v0jiNE4DLLI3BCCP+NYCkOi0CRfGYG8bOG4/N6KXr/GWq2fap3pIDicTX6W0GZVXDLXDVCBALFbkLzaTLgIoBJcTiIKQYjluQxtBV/3Xc7VY1ETLqQiEkXEpIxGYM9CdXg/+DscXXQuMvfHqK52Enr/iY0rzQ1FcEtPDOK9sYa2ur26x3luLlqy6jZ/hmxuTNR0kLRilv1jiREQJJH4IQQms9HaKL0LxX6M9rMZC0ajzU2jJbKYva89xjtDVV6xwo4HS1O/wuLFIeFCBSKwySF4QAnxeEgZ02bcELFYTXUgX3GZYQXnIs1dRyGsCgU1T95nNvZRv23VTQXN9Bc7KStukUmuBJDijHUiMlmonLj4GgpcajiD54hcsQ4DGPseCvaoE0unoXoRorDQgx5iqoSOkyKw0JfUeMTSJ2fhWIwsH/9W+xf98aQnnTuaNqb/KP8FYuK1qRzGCEEGBWwSekx0Mm/UBDTfB5CR07HufqJ497GGJuOY+YV2MbOxZKUg2oN75yh3VXZTN2W/Z0jgzsa+rddhRCBLm5WCoqi4izaqHeUXtn9zqNkzb8ZNd+Bb508LivED8kjcEIIAEtUCKrZIO3RxMBTIfPyAiJGRtHR4qRw5eM07dupd6qA1t54oGWaWdU3iBACACXK3FlTEoFLisNBTFGNhGbNPuo61hGTsc+4jLDskzHHZaCarQBoXh8tZU00F5f4i8ElDXhdMnGVEIeKHBOPt91F8/5dekfplaay7TQUf4sjPR8tyYq2v03vSEIEFCVKJqMTQvjn8ghJtNFS0qB3FDGEhA6PYOTPCzCGmKjb+SXFHy3B2y6twI6l3Xmg1YZF5gwQIhAo0WY0TZMCcYCT4nCQM8emY4iIw9tYBaqKLf9c7FMuIiRzOsbI4ahG//8C3nYPTcUNNBfto7nYSUtZI5pHHjMX4ohUsERaqNu9flA/1rfr7UcZv2gxar4Db3UldEhvGCEACDGghMllkhDCL2xYhBSHxYAZds5I4qYPw+ftoPA/T1G7fa3ekQaN9oZK/wsZOSxEQFCiLXpHEMdBPvUMASm/eRtT1DAMtjgUg/9NsqPZjXNrbWeLCFdFs/QLFqIHoickoRgMOAs36h3lxPg8FH3wDBlnXYM6xo5vg1PvREIEBCVGLmSFEH6aTyM8I5Kqz0r1jiKCnNFmJuuaCVijQ2muKKRw5eO0N1TrHWtQ8Xnc/pZQFlU+3gqhNxWIlLYSg4EUh4OcpmmEpE+krbYV5zcVNBc7aSp24q5z6R1NiEEtZkIims9LQ8l3ekc5YfW719NScTq21Ey0MhdatfQTF0KJlUfghBB+iqoQnhEFqgI+KTeJ/hE1MZHU87JQDAr71r1J+foVg/rpND1pPq+MHBYiEDjMKAa5lh4MpDg8BLTub2Lb4i/1jiFEUAlNstG0bwded3DcaNnxxoOMu/LvqOMceFdVgVc+/IqhTYm1SGFYCNHJYDb4W0vsldYSoo+pMPLn4wjPiMTdXE/he4/TXD4457MIFD5vB6r0HBZCd0q0We8I4jjJ7bQgpygKIQk2eXMUog+FZ0SimozUD/aWEofwuV3s/fRllFAjana43nGE0FeoASVE7p8LIb6naRoRmVF6xxBBJizFTv7vZxORGUXdznVsefFOKQz3AV9HO4pFSh1C6E2JtqBpMuhoMJAz5hCgqAq2NIfeMYQIGrHThgHgLNqob5A+Vv3tKly1+1AybeAw6R1HCN0osdJvWAjxAxqEj5TisOg7w340iqyrx6MYvRSufILClU8EzRNpevO6W0GKw0LoTomWfsODhZwxhwBN0whPj9Q7hhBBIzzdgat2H+7GGr2j9LkdbzwAmoZhfCTI+7gYopQYC5r0FRVCHEJRFWwpdlSzPI0nTowxwsyYm6cRP304LZWFbH7xLmp3fKF3rKDiaWuRnsNC6C3CiGKSv8PBQv6lhojwDCkOC9EXzJFWDCEm6vd8o3eUftHRXE/51++gRJhQRtr0jiOELpQ4C4oqd0eEEF0pqoIt3aF3DDGIxUxKYuzN0zFHWtn3xXK2Lf1rUA420JvH1eQfrWiS93Ih9KJEy5N4g4kUh4cARVEITQqXvsNC9IH4WSkoioKzaJPeUfrNvs+X0d5Uh5odATbpuyqGGJsRRd4vhRCHofmk77DoJaPKqKvGkzI/m47Wera/eg/7v3wTNJ/eyYKSu8XpfyHv50LoRomVfsODiXzqHyIO9h1u3FGrdxQhBjV7TiwdrU20VBbpHaVf7XzzAcb85E8YxjnwrgmuES1PfvQvtu7bydZ9uyirKycpMp73b33psOs++v6z/OODJYf93k1nX83PT7r4uI65dd9O/vHBEr4p3ozL7SIlOpkFk87mpzPmY1C7f3D5ZPsXPL7qBXaUF2IympiaOY7fnn01w6ISu6y3t3Yff17+MBtLthAZZudnMy7g0pkLuu3vL28sZn3RJl79r8cxGuSD0tEoMTLKQQhxBApESN9h0UNhaXYyL8/HaDVRs20tJR+/gM/dpnesoOZuqvO/kNYSQuhDPfAknvQbHjSkODxEaD4N+6hoKQ4LcQJUs4o5wkzN1nVAcN8FbavdT83WNcSOmY2SFoZW3KJ3pD7z0HtPYQ+NIDdpJI2u5uPa5pZzryUyzN5lWW7yqOPa9qvCTVz19O8It9r42fT5RNocfL7rK+596x/sqSrh7gW/7bL++5s/4cYX7iYrMYPfnnM1zW0tPP/pa/zsH9fzyvX/R1xEDAA+n48blvyBto52bjzrKnZXFvPXFY8Sb4/ljLGzO/f37d5tvLxuBS/86mEpDB8HJdaM5tOkrYQQohtFUQiJt2G0mfE0u/WOIwaBlPOyiJmchM/jZs97z1C3c53ekYYEd5N/YINiUYP8il2IwKREWVCMcnNmMJHi8FChgGN0LKUrduqdRIhBK3bqcBRVpb5oo95RBkTxh88SmTEew5gIvBUuaAuORx/f+90LDI9OAuC8B35B63HMDH7q6JkkRyX06nh/efMRVEXlxWsXdx73J9PO439ee4BXv3yLeePPYEL6WAA6vB7+8sZiEuyxLLnm74RZQgCYmTWZix6+hkfff66zmFxSW8bOikL+uegBJmcUALC7oogPNq/pLA53eD384bX7+cm08xg7PLtX+YcaJdYqhWEhxFFFZEZSt7FS7xgigJnsFkYtmoA1KoSm/bsoXPkE7iYZpDNQ2pxV/hcyclgIXSjx/pYSMnJ48JCz5RChKApmu5WQBJlgSojeiiqIx+fpoKl0m95RBszutx8Fg4Ja4NA7Sp85WKDtqea2Fjxeb4+2aWhtYkf5Hiak53U77vkT5wKw/Kv3Opd9VbiJqsZaFkw6p7MwDJCTlMmkEfm8t2k1HV4PAG0d/lFr9tDwzvXsoeG4DnlU9ZmP/01TWzPXz/1Fj3IPWRFGFPkgKYQ4Cs2nEZ4hrSXEkcVMSWbMTdOwOCyUfb6M7a/9VQrDA6ytvsL/wiLv6ULoQUmw6h1B9JCcLYcQTdNw5MbqHUOIQcsaG0rD3s34PEPnUdKm/TtwFm1ETQhBSQ459gZBav5DVzLlDz9i/O/n8tNHr2PN9uN7LNTt7QAgxNS9j63V5L9o2rR3a+eyzWU7AChIze22fn5KLs3tLZRUlwKQHjsce2gEj616nrK6cj7e9gWf7lhPQepoAIqrS3l81QvcNf+/CTUP3X+7nlBipd+wEOLoFFUhYlS03jFEIDKqjFo0npTzsuhorWfbq3+hfP1bIBMyDThfR5u/RZRMSCfEwAs1oISbZNTwICNtJYYSDRy5sZR/GNwTaQnRHxxjYlGNBpyFG/WOMuB2v/MPxi96BDXfjreqHTqCo73E8Qi32lg4+VwK0kYTEWKjuLqU5z99jV89ezt/uvBm5k8886jbx9giiQyzs2nvNto62rEeUiT+cs8GACoaqjuXVTX6e+Qd7Ct8qDi7f1llYw2ZCelYTRb+dOFN3P7yvfznu58CMGPUJH424wI0TeN/lj3IqWNmMjt76on9EoYQNTFEHoETQhyTOcKCJSaU9ppWvaOIAGEb4SDzsjwMFhM1Wz+l5ON/4euQSed0pfmkrYQQOlDiZNTwYCTF4SFEURVCk8MxRVjoaGzXO44Qg0rs5GQ0TcNZtEnvKAPP56Xw/afIPPta1LER+L5x6p1owFw268Juyy6YeBbnPfhL/t9b/+CMsSd1af/wQ4qicNnMC/n7yqe5YckfuO6MK4gMs/P5rq959P3nMKoG2g758Njm9p+bzUZTt31ZjGb/Oh3fn79PHT2TD+8Yz56qEuwhEaTGJAOw9Mu32VlRyP0/vZO2jnYeeOcJPtq2lhCTlYunzeOn0+f37hcSzCwqRJulMCyEOC4RmVFUS3FYACnzs4mZmIivo5097z5F3a71ekcSgM/bgSJtJYQYcEq8RSZ3HoSkODwEOXJjqP5in94xhBhUwlIiaKkswuNq1DuKLpx7vqZ5/y7CU0ahlbrQqofuDSZHmJ2Lp/yIRz94jo0lm5kxatJR17/y5J/g6mjjuU9e5cePXAtAqDmE3537Kx5e+Qwe3/d9jK1m/8hit6ej237aD7Qzsf6gRUWYJZS84TmdX1c31XH/O4/zu3OvJdoWyR9ff5C1O7/inotupbKxhjtfvY/osEjOzD+5Vz9/sFISrFIYFkIcF82n+YvDX5TpHUXoyOywMurq8VgcITTt2+mfdK65Tu9Y4gCfpx2jJVTvGEIMLap/5LAUhgcfKQ4PMZpPw54TK8VhIXogJCEMg8WEs3CD3lF0tXPFQ4y78mHUcQ68q6rAO3R76CVFJQBQ33LsmwWqqnLD3F9y1ZxL2FVehIZGVmIGGhp3v/4g+YcUdg+2k6hqrCEjPrXLfqoa/C0n4g/TcuJQ97yxmJykkcyfeCY+n4/lX63k9vP+i4kj8gH4ZPs6Xlv/jhSHf0BJDpFRDkKI4+LvOxyFajbgc/dsolIRHGKnD2PY2ZkoCpStXUr51+9Kb+EA42l3YQyRydiFGEhKtAXFINfSg5E8ZzHEKKpCREYkqjTnF+K4xc/yF+mGYr/hQ/ncbez99CWUUCNqToTecXRVUuMfLRYTHnnc24SaQ8hPzaUgdTQhZitrtn+JpmnMyp7Suc6YYVkAbCzZ2m37TXu3YrOEkRo7/IjH+GjrWj7e/gV/uOA3ANS3NtDucZNgj+tcJ8Ee26XPsQBMCkqMRQrDQojjppoM2HOOfrNOBCGjStbVExh+7ijczbVse+V/Kf/qHSkMByBvW4v0HBZigCkJVjQ5Hw5KcrYcghSDil1mWRbiuIWPjKK9sQZXnYy4r/72I1prylAywiCye1/cYOLxemlyNXdbXu6s4uUvVuAIjaAgdXTn8g6vh8Kqveyvrzzmvp0tDfx95dNEhtm5eOq8zuUTR+QTGx7Na+vfpqXd1bl8+/49rC/cxNy8kzAZDv/QT0t7K39e/nd+ddplnb2HHaERmAwmdlUUdq63q6KIuAh5DziUkiCPvwkhekbzaUTlxesdQwyg8IxICn4/E1uag5qta9jyrz/QUlWsdyxxBB2uJv97u1He34UYKErykediEYFN2koMQf7WEjHUf1eldxQhAp4x1IjJZqJy49BuKXGoHW88QMEV92EYF4n3oyoYZDeH3/zmP50F3PqWBjq8HTy26nkAkiLjmTf+DABa3S7m3nsJp+TOYERcKhEhNoqrS3lt/Tu0ul3c95Pfd+n/W9VQw4/uv4JJI/J59uoHO5d/sv0Lnvn4FaaPnEBMeBT76yt5bf3bNLqaeeTyPxMZZu9c12Qwctu8X/Pbf/2Jyx67gQsnn0NzWwvPf/oakWF2fn365Uf8uR567ynsoRFcMeuizmUG1cDZBafw2KoX0NCoaqzlkx3r+PPC3/XNLzNIKEnSUkII0TOKqmDPisZgNeJt8+gdR/Sz1AU5RI9PwNvRxu63n6B+z9d6RxLH0NHi9L+wqOCR9i9C9LtoM4pVnlAfrKQ4PAQpqoIjJxZUBXyDrKojxACLm5mCoqg4i6Q4fJCnxcn+r94meco8lFHhaDua9I7UI8vWv8v6wk1dli3+zz8BmDQiv7M4bDWZOX3MbL4t3caHWz+jtd2FI8zO1MwJ/OLki7tMAnc0SZEJmI0mXvhsGQ2uJiJD7UzNHMfVp/6M9NiUbuvPzTsZi8nC46te4G9vP4bZaGJKxnh+c/ZVxNtjD3uMTSVbeWXdW7x47WKMhq4XZbfPuw6Ap1b/mxCTlRvm/pLzDvyMAjAoKPEyclgI0XOKQcUxOpbar8v1jiL6iTnSStaiCZgdVhrLtlP4nyfpaK7XO5Y4Du6D/05mA7RIcViI/qYmh6BpmkzwPEgpmjQEGbJ2PPkNzYVycSPE0Yz+zVRMdpUNT1yP5pMLy0PlXXEfZlsU3g+roFlGTYnBSUkKwTA5Su8YQohBSPNpNO6pY/czG/WOIvpB7IzhDDsr48Ckc69RsWGl9BYeRKKyppEx9yq8X9SiVbTpHUeIoGc4KwFF5rYatKTn8BCl+TQcuTKJhhBHpYIlyoqzaJMUhg9j5xsPAGAY79A3iBAnQEmSiTOEEL3jn+g5CmNYcPfgH2pUs0rWryYy/JyRuJtq2Pryn6n45j0pDA8y7Q0HWihapOQhRH9TYsxSGB7k5Ew5VCngGB137PWEGMKiJySiGAw4izYde+UhqK2+nOotH6NEWVDSw/SOI0TPqQcmo5PH34QQvaSoCo4xck0dLMJHRpF3+yxsKXaqN3/Mln/9gdbqEr1jiV5oc1b4X5il5CFEf1MOtJQQg5ecKYcoRVGwOKyEpdqPvbIQQ1TMhCQ0n5eGku/0jhKwSj5aQoerGXV0BITI3WIxuChxVhSjXAoJIXpP82lEFSToHUP0gbSFuYy8Ih9Nc7PrrUco+WgJPo9b71iil7xtLf7+pzJyWIj+pfiLwzLYYnCTM+UQpvk0YiYk6R1DiIAVkmSjad9OvO2tekcJaLveehgMCmq+Q+8oQvSItJQQQpwoRVUIT3NgirDoHUX0kjnaytjbZhA9PpGmfdvZ/OLvcRZ+o3cs0Rd8Pv+EdEKIfqPEWFDk72zQk+LwEKaoCpH58ajyhyxEN7YRDgwmI87CDXpHCXgt5btxFm5ATbCiJIfoHUeI46OCkiijHIQQfSMyT1pLDEbxs1IYfeNUTDYTe9e8zI7X76ejxal3LNFHfF6P9BwWop9JS4ngIGfKIc5gNhApfdKE6CZu+nAA6Td8nHa/+w+87jb/6GHp7SYGASUhBMUk/68KIU6c5tOIypfWEoOJalbJvnYiw84eibuxmq0v/4nKDSsBKXAEE5+nXdpKCNGfFFCSZLBFMJAz5RCn+TSiJybqHUOIgBOe7sBVu4/2xmq9owwOPh+F7z8FJgV1rPQyF4FPSQuVUQ5CiD6hqAphwyIwR8nTM4NBRFY0eXfMImy4napvP2TLS/9Da/VevWOJfuB1t8nIYSH6kRJvRZGBQUFB/hWHOEVVCE+PlItZIQ5hdlgxhJiol5YSPeLc8w1N+3aiDg9FiZPeiyKAhRpQ46wyykEI0aeipLVEwEu7aDSZl+Wh+drYteJhSla/IJPOBTFve4v0HBaiH8lgi+AhxWGBpmnETJDRw0IcFDc7BUVRcBZu1DvKoLNrxd/xeTpQxznAIIU3EZjUVLmQFUL0LU3TiCqQ1hKByhIbytjbZhI9LoHGsm1sfuFOnEUb9Y4l+lmHqwnFoMg1qRD9war6Rw7LYIugIMVhAUD0xCSQv2khAHBkx9LhaqKlskjvKIOOr6ONvZ/8C6wG1NwIveMI0Z0CSmqY3imEEEFGURRC4m1Y4+T8EmjiT0ol94bJGMMM7P3kJXYuf4CO1ga9Y4kB0PnvLK0lhOhzSkqoFIaDiJwlBYqiYI6wEJ4ZpXcUIXSnmlXMdjPOwg3IpCS9U735Y1y1ZSgjwiDSrHccIbpQ4q0oVoNczAoh+pymacRMStI7hjhAtRjIvm4Sw87MpL2hiq3//iOVG99Hru+GDndzvf+F9EQVos+paWHyJF4QkbOkAPwT00lrCSEgZsowFFWVlhInaMfyB8DnwzDeIU8liICiSEsJIUQ/URSFmElJqNLjVHf2nBjybp9JWHIElZs+YMtL/4OrtkzvWGKAuRtrAVBk5LAQfUqJsaCEGmWwRRCRs6QA/BPTOUbHYbAa9Y4ihK6iCxLweTpoLN2qd5RBzdPawP71K1DCTSijwvWOI4SfVUVJkN5oQoj+Y7AYpfewztJ/MpqMS8eiedvY+eZD7P34X2jeDr1jCR20N1b5X1jkho0QfUkmogs+UhwWnVSjSlRBvN4xhNCVNS6Uhr1bZObqPrD/yzdpb6hBzQqHcLnxJPQnvdGEEP1N82nEzRiud4whyRobSt4dM4nKS6ChZAvfvfB7Goq/1TuW0JGrvtL/QtpKCNF3TCpKUohcUwcZ+bQuOmk+jeiJSVR/sU/vKELowp4bg2o04CzaoHeUoLHzzQcY89M/YxgXifeTar3jiCHuYG80uZgVQvQXRVUIiQsjPCOSpj31escZMhLmpJF4ahqgUbL6Raq+XaV3JBEAPC1O//u+RR3ynaaLq0tZseED1u78itK6/bR3uBkencTcvJO4dOYCQs0hnes++8krrN72OUXVpTS0NmEPDSc9NoWfzZjPaWNm9ei4uyuLefzDF/hyz0YaWpuICrMzZngWd82/kZjw7+c86vB6+OfHL7Pim/cprSsn1BLCpBH53DD3l4yIS+myz721+/jz8ofZWLKFyDA7P5txAZfOXNDt2H95YzHrizbx6n89jtEgo8f7ijI8BEWVa+lgI8Vh0UlRFcKSI7DGh9FW2aJ3HCEGXOzUYQA4izbpnCR4tNVXUL15NXF5p6CMCEMrlHOL0IcS6++NJoQQ/U3zacRNHy7F4QGgWo1kXTWe0KRwXLX72PPuY7jqZKCLOIRPk5HDwLKv3uWltW8wJ3c65447FaPByJd7NvLwymd479vVvPTrR7GaLAB8V7qdpMgEZmVNITLMTkNrIyu/+5gbnv8D153+c3512qXHdcxPd6zn+iV3Mjw6iZ/NuIBoWyS1zfVs2ruVlvbWzuKwpmn813O/Z82OLzkldwaXzJhPfbOTf3/xJpc8+mteuHYxmfFpAPh8Pm5Y8gfaOtq58ayr2F1ZzF9XPEq8PZYzxs7uPPa3e7fx8roVvPCrh6Uw3MdksEVwkk9JogtN04idkkzpmzv1jhIU3tjxHkXOUorq91LdWktMaBQPn/nno26zofw73tn9IUXOvXh8HqJCIhkbl8PPCy4+7uOWNZazfPu7bK3eSXNHKxFmGyMiU/nluJ9gt0Z0PV7FZpZvf5e9DfswqkZGx2VxyZj5xIXFdFmvsrmaf258mV11hdjMYZyZOYezMk/pduznNr3Ctppd/O+cWzGog+uN2JYSQXNFIZ7WRr2jBJWS1S8QmTkJY24E3vI2cHn1jiSGoIMT0cmFrBCivymqgj07BnOkFXd9m95xgpY9N4b0H4/GYDJSufF9Sj97Fc3r0TuWCDCazyM9h4Ezxp7EVSdfQniIrXPZxVPnkRKTzBMfvshr69/hp9PnA3D/T+/qtv2lMy9k4eKreebjf7PolEuO+Tmvtrme3/37f5k0ooBHrvgzJsORS08fbv2MNTu+ZOHkc/mfBb/pXP6j8adz/oO/5J43H+Hpq/4GQEltGTsrCvnnogeYnFEAwO6KIj7YvKazONzh9fCH1+7nJ9POY+zw7OP7BYnjE2VGiTDpnUL0A7mFJrpQFIWYiUkYZHRVn3h5y5tsrd5JvC2WMFPoMdd/bdvb3Pf5/2FQDFyYcy6X513EtGETqHMd/8iTTZVbuePDv7K3cR9zM0/mFwU/5oyMk9DQaPV0/YDy5b4N/G3t/+H2dnDJmPmcO+o0ttfs5n8+vp96l7NzPZ/m44EvHqeypZofjz6PgoTRPP/tUr7c17X9wu66Ij4oXMNV43466ArD1oQwDBYTzsKNekcJSrveehgMCmqBQ+8oYigyS280IcQAU75/Ikn0vRE/HUPGz8bi63Cx840H2fvJS1IYFofl9bSjWKTsMWZYVpfC8EFn5c0BYHdF8VG3NxoMxEfE4Opow+M99kCPl79YQUNrI789exEmgxGXu42OI/yNfrlnIwDzJ57ZZfnw6CTGp43li93fsP9A/+i2Dv+8MPbQ7ye8toeG43J//zn3mY//TVNbM9fP/cUxc4qeUTNtMhFdkJIKoOhGNRmInTqMig+L9Y4y6D0494/EHxiB+7sP/kSbp/2I635XtZ3Xtr3NhTnnckHO2b06XkNbE4+u/ye5sSP57bRfYTxKgdbj8/LcpleIDonkDyf9BqvRCkB+/Gju+PCvLN32NleN/ykAFc3VlDbu5/ez/pvc2FEAlDbu58v9G5mcPK5zf09+8yJnZJxERlRar/LrKWFWKoD0G+4nLRV7qN/zNVGZE9GGhaCVufSOJIYQJSVUeqMJIQZczORk9n9QiNbh0ztK0LDGhzHqynGYbBacRZso+uAZPK4mvWOJAOZzt4El5NgrDlGVDf45QaJtkd2+52xtxOfzUd/SwMrvPubTneuZPKIAi8l8zP2u2b4OmyWMprZmLnjoKnaU70FVVApSR/O7c3/VZUSv29MBgNVs6bafEPPBVhfbSIqMJz12OPbQCB5b9Ty/Pftq9lSW8OmO9fz69CsAf2/lx1e9wEOX/k+XPsqiD4QaUBKtMtgiSElxWHSjaRrx04dT+cleNI9czJ6I+B+0ZjiaN3a8R4QlnPOy5gLQ5mnDbDCjKsd/p3tV0Rqa3S38ZMx8jKqBdo8bg2o4bJF4W80u6tsauDDn3M7CMECaYzi5saP4ouxrfl7wY4yqAbfXf4fWZv5+9LPNFEb7IcXut3b+B1dHGwtzf3TceQNJ+Mgo2ptqcdVKn7r+sue9x7AvegQ1z4G3qh3ccn4RA0D9fpSDXMwKIQaKoigYrUaiCxKoWb9f7zhBIfHUdBLnpKJpPoo/ep7q7z7SO5IYBDztrZjDovWOEZC8Pi//t+p5jKqBc8Z1bxd4zn2X4TzQbs+oGjh9zCzuPP+/j2vfxTWleH1ern76Vs7IO4lrTr2U/fUVPP7hC/z88d/w7+seJTMhHYDMeP8gnXW7N5CVmNG5D5e7jW/3bgeg3OkvYltNFv504U3c/vK9/Oc7/0CmGaMm8bMZF6BpGv+z7EFOHTOT2dlTe/dLEUekZnQfeS6ChxSHRTeKomAMMxM9PpGaL6VQNhDaPO1sr9lNQfxoVhevZdn2d6hva8BsMDE+MY/L8xZ26xV8OBsrNhNitNLa4eK2VX+hpKEMBYVR0SP42dgFXUb0FtYXAzAyekS3/WRGpbGlegcVzZUMi0giKTwemzmMZdvf5ZIx89nXWM6myq1cmHsOAOVNlby+/T3+e+pVWI3d7/gGOjXUiMlmomrTN3pHCW4+H3tWPsHIc/8Ldawd39cyUY/of8rwUBTr4GpzI4QIDppPI27GcCkOnyDVaiTr6vGEJoTTWlPGnvceo61Ofqfi+HhcTShG1d9QU8YldPHXFY+yae9W/vvMK0mPTen2/b9fejftHjdVDTWs/O5j2jvcNLe3EGVzHHPfLe2teH0+zh13Gn+56JbO5bnJo/j5E7/h/1Y939nb+Nxxp/P4hy/yyPvPEmK2Mm3kBOpbGnj0/Wepb20AoK3j+7YRp46eyYd3jGdPVQn2kAhSY5IBWPrl2+ysKOT+n95JW0c7D7zzBB9tW0uIycrF0+Z19lQWvWBSUFJDZaBFEJPisDgszacRPzuFmvX7QFrK9LvK5mp8mo/d9UV8V7WNH406g1T7MLbX7ua93R9R2rCPP8+5FYvx6I/w7G+uxKf5uPezR5iSPJ752WdR3VrL69vf5c9rHuJPc37HsIgkAOpd/jfaKKu9236irA4A6lxOhkUkYTaYuWr8T3nsqyX894E+w3lxuczNmIOmaTy94V9MSspnXMKYPvytDJz4GSkoikq99Bvudw1FG2nat4OI4dloZa1olUdutSJEX1BHhsuoYSGELhRVISTehi3dQXORU+84g5JjTBxpF+VgMBmp2LCSsrWvSW9h0SMdB4qLWAwyKfIhHl75DP9au5yFk8/lqjmXHHadiSPyO1/Pn3QWN/3rT1z6fzfw5m/+2aXn7+FYjBZa3S7OnzC3y/LJGQUkOuJYX7ipc5k9NJynrryP2175K/+z7IHvj5+exy9P+jGPf/gCNmtYl/2EWULJG57T+XV1Ux33v/M4vzv3WqJtkfzx9QdZu/Mr7rnoVioba7jz1fuIDovkzPyTj/m7Ed0pqWH+mywiaElxWByWoipYo0Nx5MTi3Fqtd5yg5zowUVxjezNXjfspc9JnADApuYAQo5Vl29/hk71fcPqI2UfdT5unHZ/mY8bwSVwz8bLO5emOFP685iGWbXuH66dcCdDZKsJo6D7bqOnAsvYD6wBMSipgzFnZ7GuqwGYOJcEWB8BHRZ+xt3E//zX5StxeNy9tXs7X5d9iMVg4bcQs5mac3MvfysCJGhuH1+2ief9OvaMMCbtWPMy4q/6OWhCJd1UleOQOlOgfSqIVxSaXOkII/Wg+jbjpw6U43FMqjLhkLI7cGDyuZna//SSNe7fonUoMQu5mp/+FWZXi8AGPvv8sj3/4AvMnnskfLrjxuLc7b8Jc3t30ER9sXsOCyUefIyfBHkth9V5iwqO6fS82PJqt+3d1WTYqcQSv3fAEJTX7qG6sITYihtSYZP72zuMApMcOP+rx7nljMTlJI5k/8Ux8Ph/Lv1rJ7ef9V2eB+5Pt63ht/TtSHO4Nxd9SQgZbBDcp/Ysj8o8eTtU7xpBgNvhHBCsozEyZ3OV7s1P9/ZK2VR+7cGk+UNSdnTqty/Lc2FHEhESxtWbXIev6j+nxdnTbT8eBZRZD15HKISYrmVFpnYVhZ1sDL25exk/HXoDdGs7z377GhorN/Gri5czPPpN/ffc6X5R9fczculLBHGXFWfQtmk8uGAeCr6ONko9fBKuKmnvsdilC9JY6KlxmVBZC6EpRFRy5sZjsg6/tll6sCWHk3T6TyNFxOIs2sfmF30thWPSau6kWAMUipQ+Af7z/HP/4YAnzxp/BHxfc1KNiX3uH/4m/BlfjMdcdc2DCuYqG7gPNKhuqiQ5zHHa71JhkJo7I72wV8emOL7FZwhiXduQnVD/aupaPt3/BHy74DQD1rQ20e9wk2OM610mwxx42izg2JSkEJcQgheEgJ2dIcUSKqmBLtROW0r3tgOhb0SEOAMLMoZ2jdg9yHGj70NLResz9RB3Yj8PSveDmsEbQ4v5+H5Eh/v3WtTV0W7euzdllf0fy3KZXSXekcFLqNHyaj09KvuC8UXPJiRnJ9OGTmJxcwEfFa4+ZW0/R4xNRDQacRRv1jjKk1Gz5BFdNKUp6GEQde8ZjIXpKiTGjRJrlQlYIoT8FYqcO0zvFoJB4+ghy/2sSBotK8YfPsfutxXjamvWOJQaxtoMFQbOUPv7xwRIe/eA55o0/nf9d+DtUtfvvpNXtoqXd1W251+flpc/fACA/JbdzeYfXQ2HVXvbXV3ZZf9740wF45YsVXZZ/tHUtlY01zMqecsy8L362jF0VRVw2awGh5pDDrtPS3sqfl/+dX512WWdB2REagclgYldFYed6uyqKiIuQiQl7Qx1pk8EWQ4A8aymO6mDv4cIXvtM7SlCzWyOICYmi1lVPu8fdpbdwncs/aVeE5eh9nQAyItPY31RJnaue4fakLt+rczmxH7KPEZFpAOyqLWRsXHaXdXfXFRNitJJgiz/isb4u/5YNFd/x11PvAKCpvYUOXwdRoZGd60SHRFLsLD1mbj3FTExC8/loKJH/xwfajuUPUPCL+zGMc+D9qEomCRF9ShklvYaFEIEjdnIy5R8WoXXIm93hqKFGshdNICTeRmt1qX/SufpyvWOJINDurPC/GOIjh/+1djmPvv8siY44pmZO4O2Nq7p8P9oWyfRREymp2ccVj93IGWNnkxY7HHtoOFUNNbyz6UOKqks5b8JcJqTndW5X1VDDj+6/gkkj8nn26gc7l08bOYGzC07hnY0fcs0zt3JSzjT211fyr7WvExseza9Pv7zL8a955laGRSWSEZ+GAqzd9RWrtnzGSdlTWXTKz474cz303lPYQyO4YtZFncsMqoGzC07hsVUvoKFR1VjLJzvW8eeFvzvB3+IQFG1GcchAnqFAisPiqA4+CmeJCaG9pvsdRNF3ZqZMZvmO91hVtIazR57aufyDwjUAFBwy2ZvH56WypRqLwUxMaNQh+5jCmr3r+KBoDfkJozuXf13+LXVtTuakzehclhMzEofVzuritZw98hSsRisAJc4ytlbv5KTUaRhVw2Gzujra+OfGf3NB9jmdLSbCLWEYVSOlDfvIj/ffTS5t3N858jlQhSTZaNq/E2/7sUdmi77lcTWy78s3GDbtAtRR4fi2N+kdSQQLuwk1zqp3CiGEAEBRFIyhJuKmDqNyzV694wScyLw40i7MQTUZKf/6XfZ98bpMOif6jLup1n+z2GwY0vOsby7bAUC5s4rbX/lrt+9PGpHP9FETSbDHcu740/im+Ds+2PIpre2t2Kxh5CSN5JpTL+WcglO7bXsk91x0G1mJGby+/l3+uuJRIqw2zhg7m+vn/pK4iJgu6+anjOa9bz9i+dcrARgRl8rvz7+Bi6aci+EIn0k3lWzllXVv8eK1izEauq5z+7zrAHhq9b8JMVm5Ye4vOW/8GcedXfjJxM5Dh6LJ+HBxDJqmUfPlfvYu3653lEFnzd511LTWAbByz2o8Pg/njDwNgJjQKGalfP84TWuHi7tW/z/Km6o4JX0mqfZkdtTu4bPS9YyOzeK2mf+FqvjveFe31HLDyjvJiRnJnbO7TiLwyJfPsLbsK/LjRzM+YQw1rjpW7llNqCmU/51zC5GHtIr4ouwbFn/5NCn2ZE5Jm4HL08Y7uz9EQeF/T7n1iG0lnt34Mjtq9/DnObd0ebN+7KslrN+/kfOzz8LZ1sB7uz/i6gmXdvZNDjRh6Q6yF01g7ycvUbnxfb3jDFl5l9+LOTzGP3q4ST4MihOnToxESQ6RC1khRMDQNA2vy8N3936Gzy1zHACgQsbP8rBnx9DR2kjRf56ksXSr3qlEEJr466fQSl34Njr1jiLE4OEwYTw57tjriaAgI4fFMSmKQvSERPZ/UIin2a13nEFldfFattV0nYn11a3+vks5MSO7FIdDTSHcNfu3vLp1BV+Xf8vq4rVEhTg4L2su87PP7iwMH8uvJl5Oin0YH5esZcm3SwkzhzA5eRwX587rUhgGmDpsPGaDieXb3+XFzcswqkbGxGbzkzHnH7EwvKuuiFVFn3L3yTd1u4t7Wf5CAFbs/A8Wg5mLRv+oy88YaOJn+Ge9lX7D+tqx/AHGXvq/GMZH4v1YJooQJyjUIIVhIUTA6Rw9PH04FauL9Y6ju5BEG6N+OQ5jmJn6PV9TtOpZvG0tescSQUrzeYd8WwkhekrNjpBRw0OIjBwWx0XTNCo+Kmb/+4XHXlmIQSL/zll0tNWw+YXf6x1lyEs56afE55+K91snWqF8OBS9p+bbUdLC5EJWCBFwNE3D1+7lu3s/w9s2dJ+USZ6bQfzs4Wg+LyUfv0jNljV6RxJBbtyixRhajXg/qdE7ihCDg4waHnLk9pk4brHTh2OwymBzERzMDiuGEBP1e77RO4oA9n78Ih2tjaij7RB6+L5iQhyTRUVJlcKwECIwKYqCwWokflaK3lF0YQw1knvjVBJOTqO1powt//ofKQyLAeF1t4FFri+FOF4HRw2LoUOKw+K4KIqC0WokfvbQvJgVwSduVgqKokhLiQCya8XDoIBa4NA7ihik1BE2kLqwECKAaZpG3MwUDKEmvaMMqKiCBMbeOgNrbCjlX73Ntlf+TJuzQu9YYojwulvBLKUPIY6Lw4SaYJXBFkOMnCFFj8TPTMEUbtY7hhAnzJETQ4eriZaKIr2jiANaKgup37MeNc6KMjxE7zhisDGrKBlheqcQQoijUhQF1aSSMDtV7ygDQ4XMK/JJuygXj7uZHa/fR9na1/w9YIUYIB5XE4pJlRvIQhwHGTU8NElxWPSIYlRJPDVd7xhCnBDFpGK2W3AWbgTkjS+Q7Hn3CbztLtSxDhnhIXpEzQoHgyKjHIQQAU9RFOKmD8NoC+4BF6HJ4eTfMQt7Vgz1u79m8wt30lS2Xe9YYgjqaG30v5BJ6YQ4Ohk1PGTJ2VH0iKIoxExKxhITqncUIXotdkoyiqriLNqgdxTRjY89/3kCTApqnl3vMGKwCDWgpEuvYSHE4KEYVRJOTtM7Rr9JPiuT7Gsnopig6P1n2PPuP/C2y4SzQh/uFqf/hQw8EOKo1BwZNTxUydlR9Ery3Ay9IwjRa1HjEvF5Omjcu1XvKOIwGoo20VS2DXVYKEq8Ve84YhBQsyPkUVEhxKCiKAqxU5Mx2S16R+lTRpuZ0b+ZRsLsVFqr97LlX3dRs+1TvWOJIa69sRYARSalE+LIIk2o8TJqeKiS4rDoMUVViBwTR+jwCL2jCNErIXEhNJZuwedx6x1FHMGuFQ/j6+jwT05nlAsUcRThRpThIXIhK4QYdBRVIXFOmt4x+kzU+ATG3jINS0wI+79cwbZX/5f2hiq9YwmBu6Ha/0JGDgtxRGqujBoeyuTsKHpF82kMOzNT7xhC9Jg9NwbVaKS+cKPeUcRR+DxuSlY/D1YVNVduRIkjk/8/hBCD1cF2bebIQf6UjAqZPy8g7cJcPG1NbH/tXvZ98bpMOicCRpuz0v9Ceg4LcVhKghU1VkYND2VydhS9oqgK4SMiiRgVpXcUIXokdsowwN+6QAS2mm2f0lq9F3WEDaKCe9Ie0UtRZtREGTUshBjcBvNkz6HDI8j//Szso6Kp37WezS/eSfP+nXrHEqKL9oZqNE1DkeKwEN0poI6xy6jhIU7OjqLXNJ/GsLNGSp9HMajYUiNoqSyio7VB7yjiOOx840E0rxfDeIe8Y4luDGPlQlYIMbgpqkL0uMRBOdnzsHNGkn3NBBSjRuF/nmLPe4/hbW/VO5YQh+EDTQOz9BwW4oeUtDAUm1EGWwxx8lFb9JqiKoQk2IjKT9A7ihDHxRofhsFion7PBr2jiOPkcTVS9sXrKDYTala43nFEAFGSQ1AizXIhK4QICkmnj9A7wnEz2syMvmka8TNTaKkqZsu/7qJ2+1q9YwlxVJrPK20lhPghk4KaI72GhRSHxQnSfBpJczNQDPLhXAS++FmpADiLNuobRPRIxdfv0OasQhkZDhFGveOIQKCCOlouZIUQwUFRFaLy4glLtesd5ZiiJiYy9pbpWKKs7Fv3JtuX3kP7wcm+hAhgPk8HikxIJ0QX6qhwMCky2EJIcVicGEVVsDisnX1chQhkEaOicDfV4aot0zuK6KEdb9wPaBjGReodRQQAZYQNJVQefxNCBA/Np5E6PxvUAD2vGRRG/nIcaRfk4HE1sH3pvexft1wmnRODhq+jDazSVkKITqEGlAybXE8LQIrDog9omkbiqemoFnmzFYFLDTViCjNRv+cbvaOIXnA3VFP17Sp/G4EMm95xhJ7MKmp2+ICMGt64cSOLFy+msbGxy/JTTjmFW2+9tUf76s02/WHPnj0sXryYsrLuN8kCJeOx/DBnc3Mz9957L5dffjmTJk0iKyuLZcuW6ZhQiJ5TVIWQeBtx0wNvwEVYip38O2YRkRlF3c51/knnynfpHUuIHvG0t4KMHBaikzo6QuaPEp3k7ChOmKIoGEKMJJ02eHqliaEnfnoKiqpKS4lBbO8nL9HR0oCaGwGhcjNqqFKzw8EwMI+/bdy4kUceeaRbcfiRRx7h2muv7dG+erNNfygqKuKRRx5h37593b4XKBl7yul0snTpUjRNY/bs2XrHEaLXNE0j6fQMTBEWvaN0GjZvFFlXj0cxetmz8gkKVz6B1+3SO5YQPeZpawaTVMKEACDKjJocKqOGRSdp3ij6hKIoxE0fTt2GClr3N+kdR4huIsfG4XW30bRvh95RxAnYteLv5Fx0J2qBA9/aWr3jiIFmN6Gkh+l+IZubmzsg2wy0wZDxcJKTk1m/fj0A27Zt46233tI5kRC9oygKqlFl2DkjKXpps65ZjBFmsq+egCUqlOby3exZ+QTuxhpdMwlxIjyuRv/1g1kFt0/vOELoyjDWjqZpul9Ti8AhI4dFn0q9IEceTRCBRwVLtBVn8SbpjTfItVQVU7frS9Q4K0pKqN5xxEBSwDDOMWCHW7x4Mffccw8Ap556KllZWWRlZVFWVtYnbSUWL15MVlZWt/WWLVvWeZxDt7322mtZvXo1559/Pnl5eZx55pksXbq02/YVFRXccccdzJ49mzFjxjBr1ix+85vf0NTUxLJly/j1r38NwGWXXdb5M61bt+6wGcFfbF20aBETJkwgLy+PBQsW8P777x828/r167nrrruYMmUKU6ZM4brrrqOysrLLup9//jmXXnopkydPJi8vj1NOOYUbb7yxR7/LH5IPNiKYHJycLnxklG4ZYiYnM/bm6Zgjrez7Yjnblv5VCsNi0HM3O/0vLFICEUObkhrqb9Un10/iEDJyWPQZRVUITQ4ndtowqtfKhF8icESNS0Q1GHAWbtQ7iugDhSufxJ6Wh2GsHW9lG7TL6I+hQBkRhuIwD9jxFi5cSFNTE8899xyPPPIIsbGxAMTFxQ1YhkNt3bqV++67j0WLFhEdHc0rr7zCHXfcQWpqKpMmTQKgvLycCy+8EIBrrrmGzMxM6urqWL16Na2trZx88sncdNNN/O1vf+Ouu+5i9OjRAGRmZh72mLt27eKSSy4hMTGRu+++m9DQUF555RWuu+467r33Xs4///wu6992223MmTOH+++/n/Lycu677z5uvvlmlixZAkBpaSmLFi3itNNO48orr8RisVBRUcHq1av755cmxCCl+TRSz89my4NfoHkG8D3OqDLq5wXY0h24m2opfO9xmiv2DNzxg8ibX5dRXN1MUXUz1Y3txIRbeOiyiUfdZkNxHe9t2k9RdTMer0ZUmJmxKQ4un53R4+PvrWnhzlc34fVpXD83i8mZMV2+/+fXv2P7/sbDbvvHhXmMiAvv/LqywcWznxSyq7yJ8BAjc/OSODM/qdt2Sz4pZPv+Bv50UQGGAJxY0d1cB4BiUdHkQVcxVFlU1DEyalh0J8Vh0ac0TSN5bibOzdV0NLbrHUcIAGInJqH5fDSUfKd3FNEnfBS+9xgj5/036lg7vq/q9Q4k+luIATUnYkAvZBMSEkhK8n/4zcnJYdgwfSeJcjqdvPzyy8THxwMwadIk1q1bx4oVKzqLww8//DANDQ289dZbpKWldW57zjnndL5OT08H/AXhgoKCox7z0UcfRdM0lixZQkyMv7AwZ84cFixYwP3338+8efNQ1e9HYJ188snccccdnV83NDRw3333UVVVRVxcHFu2bMHtdvPHP/6R8PDvCw8/LDILMdQpqoIlKoT42SlUfFg8IMcMS7OTeXk+RquJmm1rKfn4BXzutgE5djB65YsSbBYjabFhtLYf+6m1ZV/uZdn6UsamOFgwKQWzSaW2qZ3S2tYeH9unaTz90W5MBgWv78iTt4Zbjfx0Znq35XER1i77eujd7bg9Pi6elsq+ulZe+LSIKJuZyRnfF5x3VzSxaksFd10wNiALwwDtB0e/m2XeCjF0qWPsYByYuTvE4CLFYdGnDvZKGz5vFIUvSCFOBIaQJBtN+3fibe/5BbYITA0l39FYuhV7ymi0MhdahXyADWZqvn3AJqELVLm5uZ2FYQCLxUJaWlqXieXWrFnD9OnTuxSGT8S6deuYPn16Z2EY/O/z8+bN45577qGoqIiMjO9HtJ166qldtj/YNmP//v3ExcWRm5uLyWTi+uuvZ+HChUyYMKHLzySE+J6maSTOSaduYyXuuv6dAC7lvCxiJifh87Sz571nqNu5rl+PNxQ88LMJxNn9RdZbX9pAW8eRC8SbS50sW1/KgskpzJ80/ISP/Z9vyymra+Xc8cm89mXpEdezmAzMzDr60zAVThelta3cfv4YcpPtAJTVtfLVntrO4rDH6+Pp1bs5fWwCGfHhR9udrtqcB9ocSVsJMUQpsRbU4dKWTxyenBlFn1NUhcjRcdhzYo69shD9LCzNjsFsxFm4Qe8ooo/tfmsxvo4O1AIHGIdu0TDYKUlW1ISQIV0YBnA4HN2Wmc1m3G5359f19fUkJCT02TEbGhq6FIYPOthiw+l0HjWj2exvA9Le7n+SKCUlhWeffRaz2cztt9/O7NmzOffcc1m+fHmfZRYiWCiKgqIqpMwb1W/HMNktjL55OrFTh9FcsYfNL94lheE+crAwfDze/LqMiBAT8yb4n1Bpc3vxaUce8Xs0tU3tLF1XwgWTU4i2WY65vk/TaHV70I5wvI4DbU1slu/HlIVZjLQf0u7k7Q37aG33cuGU1F5lHijuhmrA31ZCiCFHBbXAccS/dSFk5LDoF5pPI+X8bLbs+RyfWyYAE/qJn5ECgLNoo75BRJ/zedwUr36O9NN+iTo6At+mBr0jib5mUlDzHEHZF81i8X9od7vdnUVU8Bd4eysyMpKKiooTznaQw+Ggpqb7JFTV1dWd3++piRMnMnHiRLxeL5s3b+bpp5/mlltuIT4+nmnTpp1oZCGCiqIq2LNicOTG4txa3af7jpmSzPBzR6KoCmWfL6P8q7dBigYDrq3Dy/b9DeSnRrJ6ayXLvyqlvsWN2agyPi2KS2elYw89/n77z36yh7gIK2fmJ/HZjqqjrlvf4ubKJ77A7fFhMaqMTXFw0dRUkiK/H1mYGBmCzWJk+Vel/Hh6GvvqWvl2r5MFk/0jnMudLpZ/VcYNZ2ZhNQV2uwafx43m08AsxWEx9KhZ4ShhUv4TRyZnRtEvFFXBHGEh6fQRekcRQ1x4ugNXXTntDX37oUoEhtpta2mtLkFNt0H0wE1WJgaGmhsBFlW3wvAPR772peTkZAC2b9/eZflHH33U633OmjWLtWvXUlJScsR1TCYTAG1tx27FMnXqVNauXdulQKxpGitWrCA+Pp4RI3r/Hm8wGMjPz+eWW24BYMeOHb3elxDBTPNpDJ83CtXURx/bjCqjFo0n5bwsOlrr2fbqXyhf/5YUhnVS2dCGT4M9lc288GkhJ+fGc8NZ2ZwyOoF1e2r43+WbaT9KS4pDfbGrmo3F9fz85Ixj9v2NjbByzrhkFp2SyfVzszh1TAKbSpz8Yem3lNa2dK5nNhq48pRMvit18pvnv+b+t7eRnRzBGXlJaJrGM6t3M3FEFAVpUSf0exgoms8rbSXE0BNuRBkZuC1fRGCQWweiX8VNH07tN+W4ypv1jiKGILPdgiHURPW2b/SOIvrRzuUPUPDLBzGMi8T7YSUM4MTuoh9Fmf1Ffx2NGuV/nPuFF15g3rx5GI3Gzj66J+qkk07C4XBwxx13cMMNN2AwGHj99dcpLy/v9T6vv/56PvnkEy655BKuueYaRo4cidPpZPXq1dx4443Ex8eTmZmJoigsXboUm82G2WwmPT0dm6377/rXv/41H330EZdffjnXXnstoaGhvPzyy2zevJm//e1vPS7av/TSS6xbt46TTjqJxMREXC4XL730EiaTialTp/b65wb4+OOPcblcnT2YN2/eTGiof/TbmWeeeUL7FkJPiqpgtltJPCWdfSv3nNC+bCMcZF6Wh8Fionrrp+z9+F/4OqRnv57aDjxh2ejq4JdzMpiT628NNGlENCFmA6+vL2XNjipOG5N41P20tHt4/tMiTs6NZ2RCxDGPe/WpI7t8PTkzhvHpUfzv8s28+GkRt543pvN7E0dEM3qYnf31LsIsRhIcIQB8tLWC0ppWrrskC7fHy7/XlvBNcR0Wo8qpYxI5I+/omfXg83agyoR0YogxFDgguB7AE/1AisOi36UuyGH7o+tBBiSIARY3KxVFUagv3Kh3FNGPPG3NlH3+GsNnXoSaFYFvW6PekcSJUvwXsnq3k5g4cSKLFi3i9ddf59///jc+n49Vq1b5I/Yi16Hb2Gw2nnzySf7yl79w8803Ex4ezsKFC5k1axa///3ve5U3MTGRV199lYcffpjHHnuMhoYGoqKimDRpEmFhYYB/xPKtt97KkiVLuPTSS/F6vSxZsoQpU6Z0219GRgYvvfQSDzzwAHfeeScdHR1kZWXx6KOPctppp/U4X05ODp9++il///vfqa2tJSwsjJycHJ566imys7N79TMfdPfdd3eZnO/FF1/kxRdfBGRUsggO8bNTqd1QQVtVy7FXPoyU+dnETEzE19HO7nefon7X+j5OKHrDbPSPYlUUuk0ONys7jtfXl7JtX8Mxi8P/+qwITYMfT0vrdZbsJDvZSRFs3deA2+PFbPy+iBpiNnaZbM7Z4ualtcX8bIa/7cU/V+/hu1In15w2krpmN09+uJuIEBNTRwbWHDS+jnYM1jC9YwgxYJTUUJToY/cfF0KKw6JfKapCWHIEsVOHUf15md5xxBDjyI2hw9VES2Wh3lFEP6v45j1ix5yEZVQc7GuFRo/ekcQJUEbaUCJMescA4Le//S2//e1vuyxrbm7ucb/dw22Tl5fHv//9727rLly4sMvXH3744WH3+fzzz3dblpSUxF//+tejZrniiiu44oorui0/3HGys7N54oknjrq/Cy64gAsuuKDb8ilTpnQpzBYUFPDoo48edV/H43A5j/Q7EiKYpMzPZucTX/dowIXZYWXU1eOxOEJo2reTwpVP4G6u67+QokeibP72RWEWIyZD13YHjgO9hlvaj95Woqi6mU+2VXHB5BSa2jpoausA/KORAZytHVQ4XUSHW7od44diwq1s0xppafd0KQ7/0JI1haTF2JidE49P0/hkexWXzU4nO8kOwMaSej7eVhlwxWFveysmmzxeL4YIq4o6xq77YAsxOEhxWPQ7TdNIPjMT55ZqOhr7vm+jEIdlVDHbLdRs+0r66A0RO5Y/QN5l92AYH4n342p5WmGwCjOgZkcE5IXsrl27WL16NQ0NDeTn5/fbNkII8UOKqhCe5iBuxnCqPi09rm1ipw9j2NmZKAqUrV1K+dfvyjVRgLGHmom2Wahrbqe9w4vlkEnd6pr9n5siQo5+s7S2qR0NeO3Lvbz25d5u31+yxj9I4o8L8xgRd/TCaGWDC4OqEGY58jG/KapjY0k9f7m4AIAmVwcdXh/Rtu9HJ0bbzBRXB15bQU9bM0QFXrsLIfqDOj4SjErAXU+LwCTFYdHvFEVBNaqkLshh97MbpWAjBkTc1GQUVcVZtFHvKGKAuBurqdz0AQnjzkDJsKHtDrwPJeLY1IJIUHrXtqG//fGPf6SoqIif//znzJ07FwCP5+ij1A+3jTg8r9eLdpTClaIoGAzSK1IMXQcHXDTuqqOt8ijtJYwqWVeOIyzFTntDNYXvPUZLVfGA5RQ9MzMrlje+LuPDLRWcVZDcuXzV5goAClIjO5d5vD6qGtswGw3EhPuLsRnxNq6f270f/rb9Dbz/XQVnFySRGR9OfIS/V3BruweryYD6g0nrNhTXsbO8ifyUyM52Fz/kcnt49pM9zJ80vLP3cLjVhFFVKK1tJS/Fn7W0tpXIsMCbKNjjavJfX5hU6JBJKkTwUtLDUOOsescQg4gUh8WAUFQF+6ho4qYPp+qz4xvtIMSJiBqXgM/roXHvFr2jiAFUuubfRI2ajCnHjne/C1qPb4ZvERiUTBtqbOD2RTtcG4fRo0cfdZv58+cfdjvR3emnn96lb/APTZ48WX6XYkhTFAUUSP/xGLY/8iWat/vNlPCMSDIuHeufdG7LJ+z95CV8HfLk3kD7dEcVNU3+33ujqwOPz8fyr/yfgWLCLV36C58zPpn1hbX8a20xFc42UmJC2VHexNqd1eQm25ma+X1rhvoWN7/71waykyL4/fyxAESGWZic2f29s63Dfw2UGR/O5EP2sXVfAy9+VsS4tCjiIqwYVIU9lU18trOacKuRn81KP+LP9coXe7FZTJx9SBFbVRWmjYpl+VelaJqGs9XNppJ6rvrBpHeBwN3i9L+wSHFYBDGbUdpJiB6T4rAYMJqmkXxWJk2F9bjKZUSf6F8hcaE07t2Cz+MesGO++XUZxdXNFFU3U93YTky4hYcum3jYdd/ZsI9viusod7poafMQZjWSFBnCGXlJTBoRfdzHrGlq542vStlS1kB9ixub1UhabBjnjEvu7Pt2qI3FdbzxdRl7a1owGlRGD7Pz4+lpxEV0vbNc2eDi2U8K2VXeRHiIkbl5SZyZn9Rtf0s+KWT7/gb+dFEBBjUwLj52vfl3ci++C3WcA99ntXrHEcfLbkLNDcx2EkezdOnSo34/MjLyqN8X3/u///s/3O4jn7MPTqonxFCmqAqhCTaSThvBvpV7unwvdUEO0eMT8Ha0sfvtJ6jf87VOKcXqrZVs3991gtyl6/wtH7KTIroUh0PNRu6cP5al6/bydVEtq7dVEmUzM2/CMM6fOLzbCN8TlegIIT3Wxsbiehpa3Xh9GlE2C6eOTmDehGFE2Q5/k3Z3RRMfbqngDwvGdrvmu/RAQfmtb/ZhMaksnJrKrKzYPs3dF9xNB/ptW1SQj6MiGClgmBAJamA+hScCl6Id7fk9IfqY5tNor21l6+Iv0eRuregn9pwYMi/Lp3jVc1Rv+XjAjvuzRz/DZvEXZ4uqWwgxG45YHF68cjtmo4HkyBDCrSaa2z18ubuGPVXNLJicwvxJw495vPqWdm7/90a8msYpoxNIsIdQ3+Jm9dYK6lrc/ObsHMalRXWuv35PLQ+/t52UmDBOzo3H5fby3qb9qAr86aJ8IsP8HwZ8msYdL2/E7fFxZn4S++pa+WBzBdefmcXkjO9HnuyuaOJPr3/HXReM7TKDdSBIP+MqYrKn4f2mHm1vq95xxLEYFAynxEGIASVAbjIIIUQg0zSNnU98Q3OxE3OklaxFEzA7rDSWbafwP0/S0Vyvd0QhAk5k5iQyz/4V3nW1aOVtescRos8pWeEYciL0jiEGIRk5LAaUoipYYkIZfs5I9i7fcewNhOiF2KnDAHAWbxrQ4z7wswnE2f0jcG99aUPn43yH819zs7stOzM/iTtf2cjbG8o4b8KwY44UWbO9mqY2Dzeelc2EQ0YbTxsZw00vfsPqrZWdxWGP18eSNYVE2SzcOX8sVrO/b2d+ioPfv7qJZV+W8ss5mQBUOF2U1rZy+/ljyE32jz4uq2vlqz21ncVhj9fH06t3c/rYhIArDAMU/edpHGn5GMba8Va2QbvcjApkap4dQg0ywkEIIY6XBmkXj6bmy30knpqGokDpp69QsWGlTDonxBG0N1T5X1gO31NZiEHNYULNDh90T+GJwCBnRTHgFEUhdsowHLmB96iRCA5hKRG0VBbTcbCv2AA5WBjuLYOqEBlmob3Dh8d37A92Lrd/IizHDyb8cISaURSwHDKZyPb9jdS3uDk5N76zMAyQGmsjJ8nOF7tr8Hj9BdQOj/+/Nsv39w/DLEbaPd8XWN/esI/Wdi8XTkntxU86EHzseff/wKig5jn0DiOOQkkOQU0Nk4tYIYToAUVVMNstJJ0+AndTDVtf/jMV37wnhWEhjqLNWel/YZbJTUWQUcEw0d/KTK6pRW9IcVjoQvNppF6YgykicCceEoOTNT4Mg8VIfeE3ekc5Ls1tHTS6OthX18rr6/fy7d56cpLtR5wl+lBjD8wI/ewnhWzb10Bdczt7Kpt49P0dWE0Gzhr3/WQhhVX+xmojE7qP8s1MCMfl9lLh9D9elxgZgs1iZPlXpVQ1trGhuI5v9zo7ty13ulj+VRk/P2kEVlPgXlw3lm6hce8W1OQQlESZrTcghRpQCxxIhyshhOg5RVFQFIX969+itbpE7zhCBDxfRxuaT0ORkcMiyKij7Sg2kxSGRa9JWwmhC0VVMFiMpF88mp1PfQNSFxB9JH5WCoqi4CzcqHeU43LTi9/Q3OYfAWxQFSZlRHPFSRnHtW1usp3LZ4/gtS/38r/LN3cuT7Bb+Z8FeSRHhXYuq2/xT/IU+YNRxocuq29pZ1h0KGajgStPyeTxVbv48nn/ZDZjUxyckZeEpmk8s3o3E0dEUXBIP+NAtfvtRxh31cOo+Q68NZXQISebgKEcGOFgVORCVggheknTfKSe9FOa9u3A3VijdxwhAp/mA7MUh0XwUOIsqBk2vWOIQU6Kw0I3iqoQPiKShNmpVHwsox1E34gYGY27qQ5XbZneUY7Lf5+VTYfHR12Lmy931+L2+HC5PUSEmI5r+4gQE+lxNsYMc5DgsFLhbOPtDfv429tb+f35Y4kO94/Od3v8/Y9Nhu4Xw+YDyw5tGzFxRDSjh9nZX+8izGIkwRECwEdbKyitaeW6S7Jwe7z8e20J3xTXYTGqnDomkTPyEk/o99HXfB43RR8+x4gzrkQdbce30al3JHGAmhWOEiVPjwghxIlQFBXVaCbjzGvYvvQeNN+R5zsQQoDP2yEjh0XwCDGgToySPsPihMlZUehK0zSSzsggdLjMqClOnBpixGQzDZqWEgDZSXbGpkRyUk48N/8oF6vZwB+XfUfLgdHER/PRlgr+8f5OLpmexjnjkpmQHs0545K57bzR1DW7efmL72+6mI3+9g8d3u4Ts7kPLLP8oJVFiNlIRnx4Z2HY2eLmpbXFXDIjDXuomRc/LWZjST3XnDaS8yYO56W1xXyxK/BGLdXt+JyWyiLUtDCUmO4jp4UOos0oWYE3kaEQQgxGiqpiSxhB8tTz9Y4iRMDzdrSjWAK3LZoQx00Bw+QoMMlTeOLESXFY6OrgSWzET8agysQA4gTFzxiOoqqDpqXE4czKiqOhtYP1hbXHXPfNb8pIdIQwPDqsy/Lh0WEkOkLYvr+hc9n3rSPc3fbzfcuJo4/iXLKmkLQYG7Nz4vFpGp9sr+JHE5LJTrIzfVQskzKi+Xhb5TFz62Hnmw+ieb2o4yLlnU9vJgXDxMBvSSKEEINNwoSziRieq3cMIQKa1+0Cq1wMisFPHWNHiTRLYVj0CTkrCt0pqoLZYSXlvCy9o4hBLnJsPN6ONpr27dA7Sq8dHMXb3NZxzHXrm934jjCRl0/T8Pq+/96IOH8fql0VTd3W3V3RRIjZQILjyJO2fVNUx8aSen5xsr8fcpOrgw6vj2jb9wXlaJuZ2ub2Y+bWg7ethdK1S1HCjKjZ8qSCntQCB1hVuZAVQoi+pmmMmLsIY4i8zwlxJN62FjBJGUQMbkqSVfoMiz4lZ0UREBRFIXp8IlEFCXpHEYOVCpZoKw1F3wZ8v722Di9t7u4ZfT6ND74rByAz4ftH7j1eH/vrW6lp6lp4TY4KpdzpYvcPCr67Khopd7o6C8IA2UkROEJNrN5a2eXYJTUtbNvfwOSMaIyH6UcM4HJ7ePaTPcyfNLyzxUS41YRRVSitbe1cr7S29bAT3gWKyg0rcdVXoIy0gf34ejqLvqWkhqImh0phWAgh+oGiqhhDbGSecy2KKk/kCXE4Ha4mFFUBk1yLiEEqzIA6PhLtCIOEhOgNmZBOBAxN00hdkENbVQut+7uPbhTiaKIKElENBuqLNuqW4dMdVZ0F3EZXBx6fj+VflQIQE25hZlYcAJVOF39evpnJGdEkOkIIsxqpb3bz+a4ayp0uZmXHkZ1k79xvfYub3/1rA9lJEfx+/tjO5RdMHs5D727nr29u5pTRCSQ4Qqhwuli1uQKjqnLBpJTOdY0GlUtnjeCRlTv40+vfcXJuPC63l/c27SfCamLB5O/X/aFXvtiLzWLi7ILkzmWqqjBtVCzLvypF0zScrW42ldRz1akj++aX2U92Lr+fvMvvxTDOgffjapBrqoETZUbNd8iEGUII0Y8URSU8aRQpJ11CyUfP6x1HiIDT0eL0vzCr0BHYA0qE6EYFw+RoMEifYdG3pDgsAoaiKKBCxuX5bFv8JZ7m7r1RhTiSmElJaD4fDcXf6ZZh9dZKtu9v7LJs6bq9gH/k7sHicJTNwoxRsewsb+SrwjraOryEmA2kxYRx/sRhTB8Ve1zHm5Aeza3zRvP2hn18sq2KVreHMIuRvJRIzp84jNTYro8aTcmMwWxUWf5VKS+tLcZoUBg9zMGPp6USZTt8v+HdFU18uKWCPywYi0HtegFy6ax0AN76Zh8Wk8rCqanMyjq+7HpxN9VSsXEliePPQsmwoe1u1jvS0BBiwDAlChTkQlYIIQZA3Ng5tFaXUr15td5RhAgo7uZ6/wuLAVqkOCwGFzXPgSJPQIp+oGgyFl0EGM2n0bKvkZ1PfIPm8ekdRwwSBXefREvVbnYs+396RxGDQP4vHsAUYsf7YaV8MOhvBgXDrBiwm6QwLIQQA0TTNNB87Hj9Ppr27dQ7jhABIyprGhlzr8L7RS1aRZvecYQ4bsrwEAwTZFJn0T+k57AIOIqqYBtuJ3V+tt5RxCARlmbHYDbi1LGlhBhcdq54CBRQx0XqHSXoqeMcUhgWQogB5j/nKmSecx3m8Gi94wgRMNobqvwvLFIKEYOIw4RaIH2GRf+RM6IIWNHjE4mbeeQ+qEIcFDdjOADOwo36BhGDhqt6L7U7PkeNsaCkhuodJ2gpo2yow2QCOiGE0IOiqhjMoYz80Q2oxsCdMFaIgdRWX+F/YZZSiBgkrCqGqdHSnk30KzkjioClaRrDzsokYpSMdhBHF54eiau+/PuRAEIch6L3n8bT1oo6xg5WeTvsa0qCFUOuXUY4CCGEjhRVJSQ6mfTTr9Q7ihABwdve4p8c12LQO4oQx2ZQ/IVhi4qiSmFY9B/5NCwC1sG7YiMuGYM1Vkb2icMzRpgxhppw7tmgdxQx6GjsfudRMCqoeQ69wwSXcCPqRP+jbzLCQQgh9KUoClEjJ5I46Vy9owgRGHw+aSshBgV1QqS0ZxMDQs6IIqApqoJqMpB5RQEGq1HvOCIAJcxKRVEUnIVSHBY911S2jYaS71CTQlASrXrHCQ4mFcO0aDAociErhBABZNi0C3CMKNA7hhC683k90lZCBDw1J9z/GUWup8UAkDOiCHiKqmCOtDLip2NBHqUQP+DIjcXjaqa5slDvKGKQ2v32o/g63KgFDjDJOeaEKKBOjoIQg1zICiFEgNF8PkbMvZqQqGS9owihK5+nHUVGDosApgwLQc2K0DuGGELkjCgGBUVRiMiMYtjZI/WOIgKJUcXssFBfuAGkr6noJc3bQdGqf4JZRR1t1zvOoKaOtaPGWqQwLIQQAUhRVVSDiZHzbsBgCdM7jhC68bpdID2HRaCKNKOOj5R5O8SAkuKwGFTiZwwnemKS3jFEgIidkoyiqjiLNuodRQxydTvX0VJRiJoWhhIjM7r3hpIWijrCpncMIYQQR6GoKubwKDLP/hWKKsUxMTR52lqkrYQITCEGDFOjAGSwhRhQckYUg4qmaaSen4Ut3aF3FBEAoscl4PN6aNy7Re8oIgjseONBfB4P6rhIMMjFWE8o8RbUPIeMcBBCiEFAUVQihueSftovAXm/E0OPx9WEYlDkek8EFqPin7fDrKJIO00xwKQ4LAYVRVFAUci8PJ+QBBmhNtSFxIfRWLoVn8etdxQRBHzuVsrWLkUJM6Jmh+sdZ/CINqNOjgZFRjgIIcRgEp09lZSTLtE7hhADrqO10f9C+g6LQKGCOjUawo1yPS10IWdDMegoqoJqMjDyl+MwR4XoHUfoxJ4dg2o04CzcoHcUEUQqN/4HV105SqYN7Ca94wQ+u8k/wkGVwrAQQgxG8fmnkjTlPL1jCDGg3M31/hfSWkIECHVCFGqMzNsh9CNnQzEoKaqCMdTEqCvHYQyX/qBDUexU/0zbzqJNOicRwWbn8vtB0zCMj5SnbY8mzIhhRjQYFLmQFUKIQSx5ynnEF5yudwwhBoy7sQYARUYOiwCg5ttRk2XQm9CXnA3FoKWoCma7lVG/GIfBatQ7jhhgYal2WqqK6Whx6h1FBBl3cx0V37yHYjf5RxCL7kIMGGZGg0mVwrAQQgxymqaRMvsnRGdP1zuKEAOivaHa/8IikzIKfSlZ4ajp8nlD6E+Kw2JQU1QFa3wYmZfno5jkf+ehwhofhsFipH6PtJQQ/aNs7VLcTfWoOREQJjefujCr/hHDVoMUhoUQIggoioKm+Ug/7Rc4RozTO44Q/c7lrPC/kLYSQkfKiDAMORF6xxACkOKwCAKKohCWamfEJWP9s86KoBc/MwVFUXAWbdQ7ighiO998CADDOIeuOQKKUcEwPRrCZLIMIYQIJoqiggIZZ/2K8GHZescRol95WhvQNE3aSgjdKMNDMOQ50DRN7yhCAFIcFkFCURQc2TGkXzwaVClYBLuIUdG4m+tw1ZTqHUUEMVdtKTXbP0OJsaCkhuodR38qGKZGg90khWEhhAhCiqKiKCojf3QDYXFpescRon/5fCDFYaEDJdGKOj7Sf4NCrqlFgJCzoQgqkWPjSVuQI5NIBTHVasRkM0lLCTEgij94Bk9bC+pYO1iH8FumAuqkKIg2y0WsEEIEMUVVUQ0mRp3/W6xRSXrHEaLfaD4vmKXnsBhYSozFf00Nck0tAsoQ/qQrglX0+ERSzpPH4YJV/MzhKKoqLSXEgNn9zj/AoKDmO/SOoht1fCRqYohcxAohxBCgqCoGcwhZ82/CHB6tdxwh+oXX0y5tJcSAUmIsqNOiQZHCsAg8cjYUQSl2SjLDzh2pdwzRDyLHxuPtaKNp3w69o4ghoqlsGw3F3/qLo0lWveMMOHWsHXW4tNUQQoihRFFVTCERZF1wM8YQmTBJBB+fu03aSogBo8QeKAyrUhgWgUnOhiJoxc9IIemMEXrHEH1JBUu0lYbi79C8Hr3TiCFk19uP4u1o948eNg2dCzp1rB01w6Z3DCGEEDpQVBVLRAzZF96CKcyhdxwh+pSnvQXMUg4R/U+Jk8KwCHxyNhRBLXFOOslnZugdQ/SRqIIEVIMBZ6H0GxYDzOeh6P1nwKyijrHrnWZAqOMcUhgWQoghTlFUrPZ4chbejjkiRu84QvQZj6sZxahKRUT0KyXegjpVWkmIwCenQhH0Ek5KI+X8bJmkLgjETExC8/lwFn+ndxQxBNXvXk9LxR7U1DCUWIvecfqPAuqkSNTUML2TCCGECACKqmK2RZGz8A6skYl6xxGiT7hbnf4XFpmUTvQPJcGKOkUKw2JwkOKwGBJipyST/uMxKAY5KQ9mocnhNJfvwtveoncUMUTteOMhfB4P6jgHBOP5RAV1SjRqsvQYFkII8T1/D+JwchbeRmhsit5xhDhhHc1O/wtpLSH6gZJgRZ0cNeCF4Y0bN7J48WIaGxu7LD/llFO49dZbe7Sv3mzTH/bs2cPixYspKyvr9r1AyXgsP8zZ3NzMvffey+WXX86kSZPIyspi2bJlOiaU4rAYQqLy4sm4NA/FJP/bD0ZhKXYMZiP10lJC6MjnbqX0s5dRQo2o2eF6x+lbRgV1WgxKfBCPihZCCNFriqpiMIeSveAWbAnStk0Mbu7GGgAUmZRO9DElUZ/CMPiLw4888ki34vAjjzzCtdde26N99Wab/lBUVMQjjzzCvn37un0vUDL2lNPpZOnSpWiaxuzZs/WOA0hx+LDkbkvwihgVzahfjMNgNeodRfRQ3MzhADgLN+obRAx5VZtW4ardj5JpA4dJ7zh9w6RgmBGDEmOWx96EEEIckaKqqEYLWRfcTMTwXL3jCNFrbQ3V/hdSHBZ9SEkK0a0wfDS5ubmkpPTsqY/ebDPQBkPGw0lOTmb9+vUsWbKEK6+8Uu84gBSHD0vutgQvRVEIS7UzatF4jGFBUtQZIsJHRNJWX0F7Q5XeUYRgxxv3g6ZhGB85+PuZW1QMs2LBYQqoi1ghhBCBSVFVFNXIyHn/jWNEgd5xhOiVdmel/4VZeg6LvqGkh6FOivS/1uGaevHixdxzzz0AnHrqqWRlZZGVlUVZWVmfDHRcvHgxWVlZ3dZbtmxZ53EO3fbaa69l9erVnH/++eTl5XHmmWeydOnSbttXVFRwxx13MHv2bMaMGcOsWbP4zW9+Q1NTE8uWLePXv/41AJdddlnnz7Ru3brDZgTYtm0bixYtYsKECeTl5bFgwQLef//9w2Zev349d911F1OmTGHKlClcd911VFZWdln3888/59JLL2Xy5Mnk5eVxyimncOONN/bod/lDgfiZS4ZP9kBubs/vjvdmm4E2GDL2JUVRCIm3kXXNRHY+9Q0dDe16RxLHYIwwYww1UbPtG72jCAFAR3M95V+/Q9Kkc1FG2tB2NusdqXesKoaZsRBmCMiLFCGEEIFJUVXQIPPs6yj8z5PU7VyndyQhesTdXIemaSgWFU3vMGLQU3MiULPC/f9P6XRNvXDhQpqamnjuued45JFHiI2NBSAuLk6XPFu3buW+++5j0aJFREdH88orr3DHHXeQmprKpEmTACgvL+fCCy8E4JprriEzM5O6ujpWr15Na2srJ598MjfddBN/+9vfuOuuuxg9ejQAmZmZhz3mrl27uOSSS0hMTOTuu+8mNDSUV155heuuu457772X888/v8v6t912G3PmzOH++++nvLyc++67j5tvvpklS5YAUFpayqJFizjttNO48sorsVgsVFRUsHr16v75pelIisM/sHjxYh555BHAf7floFWrVnHZZZcxefJk/vrXvx73/k455ZQu2xzc/44dO7qst2zZMm677TZWrVrFsGHDOrfNzs7moosu4qGHHqKwsJCkpCSuvPLKzj+ggyoqKli8eDFr1qyhrq6OyMhIJk2axN13383777/PbbfdBvjvthy0ZMkSpkyZ0i0j+O+2PPjgg3z99dd0dHQwcuRIrrnmGk4//fRumV944QVWrFjBypUrAZg0aRJ33nkn8fHxnet+/vnn/OMf/2DHjh20tbURExNDfn4+Dz744HH/LvuSoipYokLI/tVEdj61gfaaVl1yiOOTMCsVRVFwFm3UO4oQnfZ9vozo7OmYsyPx7m+DZo/ekXom1IBhZgyESGFYCCFEzymKioaPEXMXYTBZqd7ysd6RhOgZnyYT0okTo4Ba4EBNDfN/qeM1dUJCAklJSQDk5OR01pX04nQ6efnllzvrQpMmTWLdunWsWLGiszj88MMP09DQwFtvvUVaWlrntuecc07n6/T0dMBfEC4oKDjqMR999FE0TWPJkiXExMQAMGfOHBYsWMD999/PvHnzUNXv/+ZPPvlk7rjjjs6vGxoauO+++6iqqiIuLo4tW7bgdrv54x//SHj49/PN/LDIHAzkTPgDCxcu5PLLLwf87RZefvllXn75Zd3vtvz85z/nH//4B6NGjeKOO+5g/fr1neuUl5ezYMECVq9ezVVXXcWTTz7JrbfeisFg6HK3BeCuu+7q/JkO3nX5oYN3W8rKyrj77rt56KGHiI2N5brrrmP58uXd1r/tttuwWCzcf//93HTTTXz55ZfcfPPNnd8/eLclJiaG++67jyeeeILrr78eTdP3Hq2iKpjCLWRfM5GQRJuuWcTROXJj8bQ101yxR+8oQnSx803/DS7DOIe+QXoq3IhhdqwUhoUQQpwQRfF/nEw79XLix83VOY0QPaP5PNJzWPSeQUGdEt1ZGBZd5ebmdhkwaLFYSEtL69LqdM2aNUyfPr1LYfhErFu3junTp3cWhsFfsJ83bx5VVVUUFRV1Wf/QAaFAZ9uM/fv3d/4MJpOJ66+/nnfeeadby4lgIiOHf0Dutgytuy2KqmAIMZJ19QR2P7uJ5mKn3pHEDxlVzA4LNdvXgs43FIT4obbafdRs+5TY0bNQ0kLRigfBUwjRZgxTosGkSGFYCCHECVMUBU3TSJl1MUZLKPu+WA7yoL4YBHxeNwaLzEMjesGsYpgWHTyTU/cDh8PRbZnZbMbtdnd+XV9fT0JCQp8ds6GhoUth+KCDLTacTudRM5rNZgDa2/2tR1NSUnj22Wd58sknuf3223G5XIwcOZIrr7wyIOpZfUlukwU4udvS/xRVQTUZGPmLAuzZ3U8kQl+xk5NQVBVn4Ua9owhxWMWr/onH1Yw6xg7WwH5bVVJDMcyIkcKwEEKIPnXwPSVp8o/IOOsaVKNZ50RCHJvX3QYWmZBO9FCoAcPsmCE3mbPFYgHoUtwFf4G3tyIjI6moqDihXIdyOBzU1NR0W15dXd35/Z6aOHEijz/+OF9//TWvvPIKI0aM4JZbbuHzzz8/0bgBJbA/xYqguttiNpu5/fbbmT17Nueee+5hW1ToRVEVFINKxmV5xM9O1TuOOET0+ER8Xg+NpVv0jiLEEe1++1H/o2X5Dr2jHJE6JgLDuEhQAnOGXCGEEMEhMnMi2Qtvx2SL1DuKEEflbW+VnsOiZyIOtGYLMwbk9fQPazF9KTk5GYDt27d3Wf7RRx/1ep+zZs1i7dq1lJSUHHEdk8k/Orutre2Y+5s6dSpr167tUiDWNI0VK1YQHx/PiBEjep3VYDCQn5/PLbfcAtBtHrHBTtpKDLBD77Yc/MOFoXG3ZeLEiXi9XjZv3szTTz/NLbfcQnx8PNOmTTvRyH1CUf2PxA07K5OQRBslr21D8/j0jjXkhcSH0li6FV9H37/BCdFXmvbvwFm0icgRBWjJIWj7XHpH+p7x/7d359FR13m+/1+f77eWpLLvK4RAIAkgoEJCo4gg3e1cHVpAvCMzuJxDM/zUC0N3e5BG7ca+x7bHbWTpdkbnXJt2Li5c6auM091Kk1avykyr2IIKKBHZQhZISMhWqdTvj7IKQsKWrZLU83GOJ1Xfqu+33hW16pPX9/N9f4ysycmyMqMkEQwDAPqWMUaelFyN+5ufaN9ra3Xq2P5wlwR0ydvUIE+aFZgyx599uACTGSVrcpJkD9wr8MaMGSNJev755zVnzhw5HI7Qld09NWPGDCUmJmr16tVavny5bNvWli1bdPTo0W4fc9myZXrrrbe0cOFCLV26VKNHj1Ztba3Kysq0YsUKZWRkqKCgQMYYbd68WbGxsXK5XMrPz1dsbOd1o+6++25t375dt99+u+666y55PB69+OKL2rVrlx577LFL/ve2adMm7dixQzNmzFBWVpaampq0adMmOZ1OTZ06tdvvW5L+9Kc/qampKdQVYNeuXfJ4PJKk66+/vkfH7g5Ok3WBsy2Re7Yl+GGRMilThUuvlDPeHeaKIltCUaosh4OWEhgUvnj9l/K1tsiamCA5B8jXq8eWfU2aTAafZQCA/mMsS46oWBXdfJ+Sx5SGuxygS22NJwM3mD2MCzCjY2WVJg/oYFgKTMpbsmSJ3njjDS1cuFA333yzKisrJXVvgsiZ+8TGxuqZZ55RTEyM7r33Xv3kJz/R6NGjtXTp0m7Xm5WVpZdfflnTp0/X008/rcWLF+vhhx+W1+tVTExgob+cnBzdd9992r17txYtWqSbb75Zu3d3fVXxqFGjtGnTJuXk5OiBBx7QsmXLVF1drQ0bNuiv//qvL7m+4uJieb1ePfXUU/r+97+vVatWyev16tlnn1VRUVG337ckrVmzRsuXL9c//uM/SpL+7d/+TcuXL9fy5ct7dNzuYuZwFzjbMnjOtvQlT1aciv9Hib7c+LFOHTwZ7nIiUtrUwMmU2q8+DnMlwEVob1P5m/+qUX/1/8m6LF7tH9aGt55kl+ypyZLTGtCDWADA0GQsS/Ibjbr+7xWdnM1CdRhwWk99c/Wu25aamTqMLthG1uWJsnI98vv9g2JM/cMf/lA//OEPO2xraGi45CvAu9pnwoQJeuGFFzo9d8GCBR3u//GPf+zymL/5zW86bcvOztYjjzxy3lruuOMO3XHHHZ22d/U6RUVF+pd/+ZfzHm/evHmaN29ep+2lpaUdJjBOmjRJGzZsOO+xLkZXdZ7rdxQuhMNdCJ5t2bJli1544QW1t7dr27ZtknrvbMvDDz+se++9V3FxcVqwYIGmT5+u+++/v1v1Bs+2rF27Vk8//bTq6uqUnJysKVOmdDrbsnHjRi1atEg+n08bN25UaWnnM/nBsy1PPPGEHnjgAXm9XhUWFmrDhg2aPXv2JddXXFysd955R0899ZRqamoUExOj4uLiXjnb0peMZeTwODXm76/UgVc+0/EPe691By5OTF6CTlUekLeh+21XgP504os/q+HoF4obPlr+g03yV4WnHYoZFi2L/sIAgDA7c6G66JRs7f/Ds7QKw4DRUn9ckmRcFqct0FmUJXtqipQQuAp7MI6p9+3bp7KyMtXV1WnixIl9tg8GP+P3+/kcvEglJSWaP39+qCVCX+2DgSV4hvDY2wd06HdfSu38L9MfotI8Grtiqo7s+K2O/Odr4S4HuGiWK0qXL14r0yr5tlVKvv79zLDGxssaEzdoZjcAACKD3+9XU80h7Xv1KbU2HA93OYAS8iZozPf+Qb4/H5f/0ABaLwLhl+ySXZosuQb3FXiLFi1SeXm5brzxRq1cuVLGGLW1tZ13nzvvvLPTPuiaz+fT+SJVY4xs2+7HirqPmcMXgbMtkS34YZgxPU9RGbEq37RLvubzf6Ci5zKmD5cxRifoN4xBpr21WV+/s0kjrl0kqzhe7bvq+ueFbSPryiRZ2dGSBufsBgDA0GWMUXRyjsbe+s1CdRVfhrskRLjm2m+uDKXnMM5ghntkTUocElfgddXGYdy4cefdZ+7cuV3uh86+/e1vhxaU60pJScmg+V0SDl+Ehx56SOXl5brzzjv13e9+V5IueLalq30w+MWPTlbRPVP0xa8/VktVY7jLGdLiC1PU2nBCTdUHw10KcMmq/rJd6eNnKXpUtnSoUar19u0LemzZpSlSPF/rAICBy1iWHO4YFc1fqa+2/S/VfP5euEtCBGupqw5caeWmrQQkGckalyCrIHZIX4G3efPm8z6elJTUT5UMfr/61a/U2tp6zseDbV4HA9pKdNOFFqibO3fuBZtqY3Dyt/vV7vVp///epZN7a8JdzpBkRTk06YHpqvxku77+07+FuxygWxwxiZp0x2PSKZ982yv7bA0ekx0V6C/sGNirJwMAEOT3t8sYSxUf/UGH3t0sv4+r8hAek+95Vv4DTWr/uDbcpSCcoizZk5NlUt3hrgQIC6YYdRNnWyKXsYwsp62COybqyB/2q+JPX7Hwci9Lv2qYjGWptnxnuEsBuq3tVK2OfLBVOSVzZEbHyb+3vndfwJKs8QmyRg7t2Q0AgKHHmMBl/JmXf0dxuUX68j9+pZbaY2GuCpHI3+6T3LSViGQm3S1rcrLkZCyNyEU43E2XXXZZuEtAGBnLyO/3K+e7oxQ/JlnlL+6Wt46Vl3tL8mUZ8nlbVH94T7hLAXrkyPu/VWrRVXIVJct3pElq6KWZUbEO2SXJMvGDd/VkAAAkyZOSq3G3rtGB7RtV8/m74S4HEaa9rVW2m1gkIhnJKmYhZ0CSOEUGdFPwyyM2L1Hj/mGqEsenh7miIcKS3KlRqvvqL1xiiCFh7/99UpJkX57YK8czwz2yZ6ZLcfwhAwAY/IxlyXI4NfI7izXyO9+X5YoKd0mIID5vi+S2w10G+lu0LXt6qqwxcZKYaAEQDgM9ZCwjy2Vr1N9eprx5xbJcDC56InlipizbpqUEhozmE0dU9elbMilumfweLErgMLKuTJJ9RZJkMYgFAAwdwe+05MKpGr/wIcVk5Ie5IkQKX0sjbSUijMmMCky0SHKFuxRgwOBTEOgFxgoMaFMmZ6l4WYk8OXFhrmjwSp2SLb+/XbVf/SXcpQC95sAffy1vU4OscfFSdDdOICU4Zc9Ml8mNlkQwDAAYmowxcsUmq3jBj5V5xfWS+L5D32prbpBxWvynFgmMZI2Plz01RXKykDNwJsJhoBcZY+ROilbRXVOUMSOPQUY3eHLi1HDkC/maT4W7FKBXffHv6yTbyJqYeEn7mVExsmekSdE2g1gAwJBnLEsyloZdfYvG3PQDOTzx4S4JQ5i38WTghotoZEjz2LKvSZNVQBsJoCt8AgK9zFhGMlLu9QUas/gKOePd4S5p0IgZniDb5dCJ/R+FuxSg1zUc2afa/R/JyoySyYm+8A4uS9bUZNmXJUrm9BUKAAAMdcHgJn5YsS772/+phDwWA0ff8J6qDdwgHB6yTH6M7OsypERnuEsBBiw+AYE+EFqsbkSixq6YqsRxaWGuaHBIv2qYJKmWcBhD1Bf/8Uv5WpsDs4fP80eISXPLnpUukxFYlIfZDQCASGSMJdvt0ZjvrdCwq/+7jM1irOhdrfXHJUmGvsNDj8eWdVWK7ImJrNcBXACfgEAfMpaR7bI16u8maPjcIllO/pc7n7hRSWo+UaGWuspwlwL0jfZ27X/jWclpZI1P6Py4w8ialCj7qlTJbTGIBQBEPGMFxs+ZV3xXY2+5X9Gpw8JcEYaSlrqqwA0WFR9STJ4nMNEiNXAVL2Nq4PxIqoA+FrwUPHVKtoqXlSomr4tACHLEu+TwOGkpgSGv9ssP1XBkn6zhHpn0021nTLpb9nUZMnmewH0GsQAAdBCdkqtxf/MT5U67WZbDFe5yMAQ01x0L3GDm8NAQbcualiL78iTJZtE54GLxCQj0E2OM3MnRKlo6WXnzimRHc1ncmTKn58kYo9r9O8NdCtDn9r76T2pva5N1eWJgEHtFkuxpqVIUs4UBADgXY1kylqWsyf9N4//ufyp++Lhwl4RBrrk2cMUibSUGPzPcI/u6dJk0ZgsDl4pPQKAfBWcRp0zO1vgfTVPy5ZlhrmjgSBybqrbmU2qo+CLcpQB9rt3brK/f+t9SlC372xkywwIL1DGIBQDg4rhik1V40w+V/53FckTHhbscDFbtbfK3+1mQbjCL+mYR5yuYLQx0F5+AQBgYY2RHOZR/yziNXny53KmecJcUXg5LrkR3YCE6vz/c1QB9zhmbpIS88YHBqyEUBgDgUgV7EacUfkuX3fZzpRRNC3NFGKz87T7JTc/hQcdIZlSM7NkZLOIM9BDXtQNhEpxFHJefpLH/UKqK7V+p4k8H5G9rD3Nl/S+tJFvGslVbvjPcpQB9yxilXzZLuVfND/VKZBALAED3GWNku6I08juLlVp8lb76469Z3BiXpN3XKptweHBJdsmelCgT75Tf72c8DfQQ4TAQZsYykl/Knj1SyZdn6utXPlf9/hPhLqtfpVyepXZfm+q+3h3uUoA+E52Sq/zZdyomI59BLAAAvciYwCziuJxCjf/bn+nIf/5fVXz4+8CMUOAC2r0tst2x4S4DF8NlyRoXLysvJtAOREy0AHoD4TAwAAS/0NxJ0Rrz/StU89FRHfr3fWo75Q1zZf0jOjNGJw/uVru3JdylAL3OERWr7NLvKf2ymaFtDGIBAOh9xrIkY5Q77WalFH5L5W/+L506tj/cZWGA87U0yRkXH+4ycAEmzyNrXILkDIyjg1fiAug5wmFgAAl+wSVPylRCcZoO/fs+1XxwRBrCbXjjC1NkOWzV7t8Z7lKAXmUsW+kTZimn9CZZrigCYQAA+kHw+zYqKUvFt6xW5V/+qMM7fitf86kwV4aBqq25QUrOCncZOJcEZ6CFRJKLq++APkI4DAxAxhjZblsj5hcrdXKWvn51r5qO1Ie7rD6R/q1cSVLtVx+HuRKg9yTkT9Tw6bcqKjGdQSwAAGEQXLAufcIspRZP05H/2qpjO9+U3xcZV+bh4nmbTgbGai5Lao289V8GLKclqzhOJj8mtIkxNdA3CIeBASr4xRczLEFj/0eJjv/lmI784Uu11DSFubLeFZOXoFNVX8vbEFl9ljE0RafkaPj0WxU/fKz87YE/LhjEAgAQPsYYWc4oDbtqgTImztahd/+Pava8J/mH8KV5uCTeU7WBG4TDA4MlmVGxssbESQ7DWBroB4TDwAAXbDWRND5dSePTVfWfh3V0W7naGlrDXFnPudM8st0O1e78MNylAD3iiI5TztSblDZ+RqgNTHDGEgAACK9guOT0JGjkdxYr84rrdfD/vaSTB3aFuTIMBK31xwM33JbUEN5aIp0Z5pE1Nl4m2ubqO6AfEQ4Dg0QwJE4rzVHqlVk69vbXqnjrgNpbBu8qzJlXD5cxRrXlO8NdCtAtxnYoY+JsZZfMkeV0BwawjGEBABiQgiduo5OzVfi9H+jkwU918J2X1Fj1dZgrQzi1nKyWJBm3NZSXehnQTLpb1vgEmXin/N/M6icYBvoP4TAwyBhjJIelrFn5Spuaq6Pby1X1/mH52wbfJVDxhSlqbahlQI7Bxxgljy5R7rfmyZ2QxswGAAAGkWBIHJdTpHG3/lQ1n7+nQ+9vUes3ISEiS3NdZeCGi6u++l2CU9a4eFnpUYTCQBgRDgODUPAL0452aNgNY5Rx9XAd+cN+1Xx0VIPldLcV5ZAzzqXKXe+GuxTg4n0TCueU3qSopAz6CgMAMIgFQ+LkwlIljZ6iyo+36cift8rXfCrMlaE/tZyoCNxw2+EtJJJ4bFlF8TLDokObGE8D4UM4DAxiof5pcW6NWDBWGTPydPh3X6jus4E/6yF9Wq6MZal2/0fhLgW4MGOUPKZUOaXfU1TiGaEwfYUBABj0jLFkbEsZl39HaeOv0ZH/fE3HPt4mv88b7tLQD9rbWuVv98u4aCvR52JsWWPiZIZ5JEMgDAwUhMPAEBDsRxyV6lHBbRPVcKBOh3/3hRq+qg1vYeeRPCFDPm+L6g/vCXcpwLkRCgMAEDGMMbKcURp29S3KvOJ6VXz4O1V+UqZ2b3O4S0Mf87f7AgvSoW/EOmQVxsnkBmYKEwoDAwvhMDCEBEPimGHxKvz7K9VwoE4Vb30VmEk8kE6DG8mdGq3a8o/k97WFuxqgM0JhAAAiUjC0ckTHatjVtyhryo06tvMNHfv4TdpNDGF+n1eGnsO9L94RmCmcQygMDGSEw8AQdGZIXLBoopprGnXsra9V89FR+b3hX7gueWKmLNtW7f6d4S4F6IhQGAAAKNBqQpJsV7RySr+nzCv+SlWf/FEVH/1B3lO14S0Ovc7X1iJnVEy4yxg6EpyyCuNkZUezcDMwCBAOA0NYMCR2J0Urb26Rcr47SpXvHlTV+4fUdip8PdRSp2TL729X3Vd/CVsNwJksZ5RSi69SxuXfVlRCOqEwAACQdMZC0E6XMi7/rtInzlb1Z/9Pxz76vZqDC5lh0PO1NsnpiQt3GYNfskvWmDhZmVHy+wOXrhIMAwMf4TAQAYIhsR3tUPbskcq8doRqPjiiY+98rZbqpn6vx5Mbq4YjX6ituaHfXxs4kzs+TekTr1PauGtku6Lk9xMKAwCArhljZGyH0sZNV/r4Gaot36mKD3+n+sN7w10aesjXfEpKYPzXLZZkcjyyRsXIJLoIhYFBiHAYiCDBL2jLYSm1JEepJTmq/bRKx97+WqcO1PVLDZ5h8bJdTtXu/6hfXg/oSlxukTImfVuJ+ZMknf5/I3gJKQAAwLkExwsJeROUmD9JpyoPqOKD/9DxL/4s+cPfwg2XzttUH5hQ4zSSdyAt1jKAuS1Z+TEy+TEyblv+dkJhYLAiHAYiVPBLO7E4TUnj0tVwsE7H/nRAtZ9W9enidRlXD5cknSjf2XcvAnTB2E6lFE1V5qTvKDolR/72dgavAACg24JXGnlSh2nUXy3VsPrjOvbxm6r+7F21NZ0Mc3W4FKE+0i5b8rJg9nklOmWNig0sMnfGUDp4tSqAwYdwGIhwocXrcuI16u8mqOVEk6p3HFbNRxXynmzp9deLG5Wk5tpjaqk91uvHBrrijE1S+mUzlX7ZTDmiYugnDAAAelVwTOGMTdKwq29R7rT5qi3/WFW731bdgU+YTTwItDScCNxwW9Kp8NYyIBnJZEcHQuFkF4vMAUMM4TAASadDYldilHKuL1D2d0bp5BfHVfPnI6r9rFr+tp4Pah3xLjk8TlV/+GGPjwWcj7FsxQ8fr9TiaUoadYV0RrsIQmEAANAXQm2qLFuJ+ZOUNOoKtZ6qU/Wnb6v607fVUlcV5gpxLq111ZIk47b68iLKwSfOIWu4R2a4J9A6gn7CwJBEOAygg9ODWqP4gmQljEmRr7lNNTsrVPPBUTUe6v4lchlXD5cxRrW0lEAfiU4dptTiaUopmiZndFygdQRhMAAA6Geh2cSeeGVNvkHZU27UyUOfq2r3WzrxxQfy+7xhrhBnaqmrDNxwMW6U0wQWmMvzyCSdXmBOIhQGhirCYQDnFJxNbEc5lFaSo/SpuWqqPKWaPx9RzUcVamtovaTjJY1NU1vzKTUc/bIvykWEckTHK6WwVKljr5YndVjHASzBMAAACKMzw7S47DGKzy2S79omVe95T9W731Jj1ddhrA5BTScqAjfckTt2NGlumTyPTHa0jGWYJQxEEMJhABclGBRHpXqU+99GK+f6AtXtqVbNB0dV93m1/L4LXIDlsORKcqtmz/v0XUOPGduhxPyJSi2+Sgl5E2Qs63QvYQawAABgAAqetLbd0Uq/7FplTJilxqqvVbX7LdXseV++lsYwVxi52lsb5W/3y7jsyGorEWN/0zYiRiba7tBLmDE1EDkIhwFckmBIbCyjhMJUJRanqa3Rq+M7K1Tz0VE1Hqrvcr+0Kdkylq3a/Tv7sVoMLUaxmSOVUvQtJRdOlcPt6dA2glnCAABgsDDfrIcQnZKrvGv/TsOm/41OHvxUJ778ULX7d6qtqfut3NBN/vbImDkc65DJjpKVEy2TQNsIAITDAHogGBQ7PE6lfStX6dOGqbWuWbW7q3Rid5UavqqV2gODjZTLM9Xua1Pd17vDWDEGG2M7FD9srJJGXq7EUVcE+gj720N/UBEIAwCAwSw4lrFshxKGj1fiiAnyz/Kr4egXgaD4yw/VcpKF7PpDu88rM1R7Dsc5AmFwdrRMvFOSaBsBIIRwGECvCA4qnPFupU0NBMVtjV7Vflql2k+rFJ0Vo5OHPlO7tznMlWKgs90xSsyfoMSRlyshb4Jsp6vjDGEzRAftAAAgop0e6xjFZo5SXPZoDZ/+39VUc1jHv/izTnz5oZqqD4a5yqGrva1VjqiocJfRexKcsrKjZXKiZWIdHWYIS4TCAE4z/rM/IQCgF/nb/aEZxo1VB3XsL9tU99Vf5D1VG97CMKC44lJCs4PjsseEeggzMxgAAES6M2d4ttTX6MQXH6h2/4eqP7JP4s/5XnPZbT+XOypVvt9VhLuU7rGNTIpLJiNKJitKxuNgdjCAi0I4DKDfnBn2NVYdVG35TtV+9bFOHStnYBthjO1QTEZ+oGXEqCvkSR0mSQTCAAAA5xH4890vYyy1NTfoxJcfqe6rj1V/eK/amhvCXd6gVnzL/YpJz5fv1SPhLuXixTtk0qNkMtwyKW4ZyxAIA7hkhMMAwuLMQYuvtVn1h/eq/vDnqj+8V41VB+Rv94W5QvQmY9mKychXXG5R4J+s0bIcTgavAAAAPXDmifWm40d08tDnqj+8R/WH9rCo3SUa/dfLlZg/UW1bj0htAzQmcVky6e7TgbDblhT424rxNIDuIhwGMCCcObD1eVvVcGRvYGB7eI9OHSsnLB5kjGXLkz5C8cEwOHu0LIdLErODAQAA+oLf75f8/tA4q7n2mE4e/Cw0pqat2/nlzbpD6eOvUdsfKqTGAfK3R7Qtk+wK/JPqkkn4ZjxNGAygFxEOAxiQzgwQ29u8ajj6xTczi/eooWK//L62MFeIM1nOKHlShyk2e7TicwsVm10o20kYDAAY2nbu3Km3335bt99+u+Lj40PbZ82apZKSEj3yyCMXfazu7NMXvvzyS73++uuaO3eucnNzOzw2UGq8kK7q9Hq9+tWvfqUtW7aoqqpKeXl5uuOOO7RgwYIwVtq3zg6LW+qqTs8sPrxHrfU1Ya5wYMkumaOcqTep7U+V0glv/xdgJCU4T4fBKW6Z6NMzgyWutgPQNxzhLgAAunJmmGg5nIrLKVRcbpGMMfK3+9R0/IhOVR5QU9XXaqz+Wo1VB+VrbQpjxZHDdnvkSRuumLQ8edLzFJORL3dCemiwenYYTDAMABiqdu7cqfXr12vu3LkdwuH169crNjb2ko7VnX36Qnl5udavX6+SkpJO4fBAqbE7fvrTn2rr1q1asWKFiouLVVZWpvvvv19tbW269dZbw11enzDGSGeEie6ENKXGpSht3HRJUmvDcdUf2aem6sNqrDmopupDER0Yt3zz3o3Lll/9EA57bJn402GwklwydnA8fXpRb4lQGEDfIhwGMCh0DBttRafkKjo5W2bs1aHtLSdrdKqyXI1VB78JjL+Wt+FEOModMhzR8YpJz5MnbXggCE7Plzs+JfS4v90nY9kd9iEMBgBEurFjx/bLPv1tMNTYlX379mnz5s1atWqV7rjjDklSaWmpKisr9eSTT2revHlyu93hLbKfnDlOc8UmK7lgssyY0tA2X2uzGqsPqan6YCgwbqo5HBGTMFrqKgM33L08lnUYKd4pk+CUiXfIJDgD9x2B1+lqVvCZwTAA9DXCYQCDUmAmRMdQ0h2fIldsopILJoe2tTWf0qnKr9RUc0QtJ6vUUlellrpKtZyslt8XhsvFBiJjyR2foqjETEUlZsidFPjpScmVMyYh9LSug2D77KMBABAR1q1bp/Xr10uSrrvuutD2bdu26bbbbutxW4ng8ffs2dPhea+88opWrVqlbdu2hWb2zpo1S0VFRbrlllv0T//0T9q/f7+ys7O1ePFi3XzzzR32r6io0Lp16/T222/r+PHjSkpK0pQpU7RmzRq98cYbWrVqlSTptttuC+2zceNGlZaWdtmu4bPPPtOTTz6pDz74QF6vV6NHj9bSpUv17W9/u1PNzz//vF577TX9/ve/lyRNmTJFDzzwgDIyMkLPfe+99/TLX/5Se/bsUXNzs1JTUzVx4kQ9+eSTF/27PNubb74pY4zmzJnTYfu8efO0detWvf/++5oxY0a3jz+YnT2Ws11Ris0apdjMkR2C5Nb644HJF9WH1FR9SI01h9RSe2xIrQvSfOJY4Iarm+Gwy5JibJkYh0ycU0pwyCS4Qq0hpHMEwcwKBhBmhMMAhpSzB7iOqBjF5xYrPre404xWb2OdmmsrA2FxXdUZ4XGVvI11/Vl2n7PdHrnjU+WOT5M7IS1wOyFN7oQMueNTOvze/O3tkpGM6fj7IggGAOC0BQsWqL6+Xr/+9a+1fv16paWlSZLS09PDUs+nn36qRx99VEuWLFFKSopeeuklrV69Wnl5eZoyZYok6ejRo6GweOnSpSooKNDx48dVVlamxsZGXXvttfrRj36kxx57TA8++KDGjRsnSSooKOjyNfft26eFCxcqKytLa9askcfj0UsvvaR77rlHv/jFL3TTTTd1eP6qVas0c+ZMPf744zp69KgeffRR3Xvvvdq4caMk6eDBg1qyZIlmz56txYsXy+12q6KiQmVlZT363ezbt0+pqalKTk7usL2wsFCStHfv3ogNh7tydjsKSXLFJcsZk6iEERNPtxLzt6utqV4tJ2vUWl+j1objam04odb644Hb9ccDY+pBssxRW9PJwEJvbktdVuwwgVYQHkcgBA7+jHFIHkeoJYR07h7BBMEABiLCYQBD3rnaHDg9CXJExys2c6RkrA6DtfY2r7yNdfI21aut8aTamurV1twgb1OD2prrA/ebGtTW1CBvc718zY1S18PIPmE5o+SMjpPDEydHdJyc0fGBn2fcd3ri5fAkyBEVI8vu+HF/rgBYoi0EAAAXIzMzU9nZ2ZKk4uLiTv15+1ttba1efPHF0CzcKVOmaMeOHXrttddC4fDatWtVV1enrVu3asSIEaF9b7jhhtDt/Px8SYFAeNKkSed9zQ0bNsjv92vjxo1KTU2VJM2cOVPz58/X448/rjlz5sg6Y1xx7bXXavXq1aH7dXV1evTRR1VZWan09HTt3r1bra2teuihhxQXFxd63tkh86Wqra1VYmJip+0JCQmhx3FhZ48RjbFC4+mY9DzJmE5jS397u7yNdYHw+IzQuPVUrXytTWr3tsjX2hz46Q38bG9r7Z/3YzvkcMfIERUrOypGjqiYwAJ+aW5Z4xMC7SWiLJkoW3LbMmfNKD7fInGEwAAGE8JhABGtq/YUUmARvMBM29RAkCp/lwPeIL+/Xb6WJrW3tcrva1O7z/vNz7Yzfnrlb/cF7re3ye8L3Da2Lct2yjicsmyHjO2UZTtlOYLbXIHtHR7v+uP7YmqVCIABABhqxo4d26E9g9vt1ogRI3T48OHQtrffflvTpk3rEAz3xI4dOzRt2rRQMCwp1L7h5z//ucrLyzVq1KjQY2e235BOz9w9cuSI0tPTNXbsWDmdTi1btkwLFizQlVde2eE99cT5AjyCvJ4513haCow5XbFJcsYkKiYj/4JjVCkwrm73tqq9rUW+1kBo7GttUntr8zcBcqskv4yxZCw79I+sM+9bMpbj9H3bljGBn5bDJYfbI8vh6uK1/TKJLinBGZj3Yc793wf/3QAYKgiHAeACLiZINcYKzDZQTJeP+/3+by6pu9DsYvPNoLl7g01CXwAAIlNXM2NdLpdaW0/Pwjxx4oQyMzN77TXr6uo6BMNBwRYbZ8/IPbtGlysQzrW0tEiShg8frueee07PPPOMfvzjH6upqUmjR4/W4sWLezR7ODExUXv37u20PVhfcAYx+s75AuTOz7Vku6Jku6Lk9AS2XdxY2gQPcPo1u1NnqN5L3h0ABiXCYQDoB131bgMAADgXt9stSWptbQ2FqFIg4O2upKQkVVRU9Li2oMTERFVXV3faXlVVFXr8Uk2ePFmTJ0+Wz+fTrl279K//+q9auXKlMjIy9K1vfatbdRYUFOj111/XiRMnlJSUFNoeDIzHjBnTreOi/zCWBoC+wxQzAAAAAOiGs2e+9qacnBxJ0ueff95h+/bt27t9zOnTp+vdd9/VgQMHzvkcp9MpSWpubr7g8aZOnap33323Q0Ds9/v12muvKSMjQyNHjux2rbZta+LEiVq5cqUkac+ePd0+1uzZs+X3+/Xqq6922L5lyxbFx8ertLS028cGAGCwY+YwAAAAAHRDcMbp888/rzlz5sjhcIT66PbUjBkzlJiYqNWrV2v58uWybVtbtmzR0aNHu33MZcuW6a233tLChQu1dOlSjR49WrW1tSorK9OKFSuUkZGhgoICGWO0efNmxcbGyuVyKT8/X7GxsZ2Od/fdd2v79u26/fbbddddd8nj8ejFF1/Url279Nhjj13yZf2bNm3Sjh07NGPGDGVlZampqUmbNm2S0+nU1KlTu/2+x4wZo3nz5umJJ56Q3+/X2LFjtX37dr366qt68MEHFRUV1e1jAwAw2BEOAwAAAEA3TJ48WUuWLNGWLVv0wgsvqL29Xdu2bZPUs36nkhQbG6tnnnlGDz/8sO69917FxcVpwYIFmj59uu6///5u1ZuVlaWXX35Za9eu1dNPP626ujolJydrypQpiokJrJuQk5Oj++67Txs3btSiRYvk8/m0cePGLmfXjho1Sps2bdITTzyhBx54QF6vV4WFhdqwYYNmz559yfUVFxfrnXfe0VNPPaWamhrFxMSouLhYzz77rIqKirr1noPWrFmjjIwMPffcc6qurtawYcP0s5/9TLfcckuPjgsAwGBn/H7/hVZHAgAAAABcpJKSEs2fPz/UEqGv9gEAAOgpZg4DAAAAQC/Yt2+fysrKVFdXp4kTJ/bZPgAAAL2FmcMAAAAA0AsWLVqk8vJy3XjjjVq5cqWMMWprazvvPnfeeWenfdA1n8+n8/35aoyRbdv9WBEAAIMf4TAAAAAA9JELLVA3d+5cPfLII/1UzeA2a9YsHT58+JyPl5SU6De/+U0/VgQAwOBHOAwAAAAAfeSTTz457+NJSUnKzc3tp2oGtz179qi1tfWcj8fExGjkyJH9WBEAAIMf4TAAAAAAAAAARCAr3AUAAAAAAAAAAPof4TAAAAAAAAAARCDCYQAAAAAAAACIQITDAAAAAAAAABCBCIcBAJ3s3LlT69at08mTJztsnzVrlu67775LOlZ39ukLX375pdatW6dDhw51emyg1HghXdXp9Xq1du1azZw5U+PHj9cNN9ygl19+OUwVAgAAAAAGE0e4CwAADDw7d+7U+vXrNXfuXMXHx4e2r1+/XrGxsZd0rO7s0xfKy8u1fv16lZSUKDc3t8NjA6XG7vjpT3+qrVu3asWKFSouLlZZWZnuv/9+tbW16dZbbw13eQAAAACAAYxwGABw0caOHdsv+/S3wVBjV/bt26fNmzdr1apVuuOOOyRJpaWlqqys1JNPPql58+bJ7XaHt0gAAAAAwIBFWwkAQAfr1q3Tz3/+c0nSddddp8LCQhUWFurQoUO90lZi3bp1Kiws7PS8V155JfQ6Z+571113qaysTDfddJMmTJig66+/Xps3b+60f0VFhVavXq1rrrlG48eP1/Tp0/WDH/xA9fX1euWVV3T33XdLkm677bbQe9qxY0eXNUrSZ599piVLlujKK6/UhAkTNH/+fL3xxhtd1vxf//VfevDBB1VaWqrS0lLdc889OnbsWIfnvvfee1q0aJFKSko0YcIEzZo1SytWrLik3+XZ3nzzTRljNGfOnA7b582bp7q6Or3//vs9Oj4AAAAAYGhj5jAAoIMFCxaovr5ev/71r7V+/XqlpaVJktLT08NSz6effqpHH31US5YsUUpKil566SWtXr1aeXl5mjJliiTp6NGjuvnmmyVJS5cuVUFBgY4fP66ysjI1Njbq2muv1Y9+9CM99thjevDBBzVu3DhJUkFBQZevuW/fPi1cuFBZWVlas2aNPB6PXnrpJd1zzz36xS9+oZtuuqnD81etWqWZM2fq8ccf19GjR/Xoo4/q3nvv1caNGyVJBw8e1JIlSzR79mwtXrxYbrdbFRUVKisr69HvZt++fUpNTVVycnKH7cHwfe/evZoxY0aPXgMAAAAAMHQRDgMAOsjMzFR2drYkqbi4uFN/3v5WW1urF198URkZGZKkKVOmaMeOHXrttddC4fDatWtVV1enrVu3asSIEaF9b7jhhtDt/Px8SYFAeNKkSed9zQ0bNsjv92vjxo1KTU2VJM2cOVPz58/X448/rjlz5siyTl98c+2112r16tWh+3V1dXr00UdVWVmp9PR07d69W62trXrooYcUFxcXet7ZIfOlqq2tVWJiYqftCQkJoccBAAAAADgX2koAAAa0sWPHhoJhSXK73RoxYoQOHz4c2vb2229r2rRpHYLhntixY4emTZsWCoYlhdo3VFZWqry8vMPzr7vuug73gzN3jxw5EnoPTqdTy5Yt0+uvv96p5URPGGPOua2rxwAAAAAACCIcBgAMaF3NjHW5XGptbQ3dP3HihDIzM3vtNevq6joEw0HBFhtnz8g9u0aXyyVJamlpkSQNHz5czz33nFwul3784x/rmmuu0Y033qjf/va3PaozMTFRJ06c6LQ9WF9wBjEAAAAAAF0hHAYA9Cu32y1JHcJdSV2GnBcrKSlJFRUVParrTImJiaquru60vaqqKvT4pZo8ebL++Z//WR988IFeeukljRw5UitXrtR7773X7ToLCgpUXV3d6Xe3d+9eSdKYMWO6fWwAAAAAwNBHOAwA6OTsma+9KScnR5L0+eefd9i+ffv2bh9z+vTpevfdd3XgwIFzPsfpdEqSmpubL3i8qVOn6t133+0QEPv9fr322mvKyMjQyJEju12rbduaOHGiVq5cKUnas2dPt481e/Zs+f1+vfrqqx22b9myRfHx8SotLe32sQEAAAAAQx8L0gEAOgnOOH3++ec1Z84cORyOUB/dnpoxY4YSExO1evVqLV++XLZta8uWLTp69Gi3j7ls2TK99dZbWrhwoZYuXarRo0ertrZWZWVlWrFihTIyMlRQUCBjjDZv3qzY2Fi5XC7l5+crNja20/Huvvtubd++XbfffrvuuusueTwevfjii9q1a5cee+yxS+7lu2nTJu3YsUMzZsxQVlaWmpqatGnTJjmdTk2dOrXb73vMmDGaN2+ennjiCfn9fo0dO1bbt2/Xq6++qgcffFBRUVHdPjYAAAAAYOgjHAYAdDJ58mQtWbJEW7Zs0QsvvKD29nZt27ZNUvcWOTtzn9jYWD3zzDN6+OGHde+99youLk4LFizQ9OnTdf/993er3qysLL388stau3atnn76adXV1Sk5OVlTpkxRTEyMpMCM5fvuu08bN27UokWL5PP5tHHjxi5n144aNUqbNm3SE088oQceeEBer1eFhYXasGGDZs+efcn1FRcX65133tFTTz2lmpoaxcTEqLi4WM8++6yKioq69Z6D1qxZo4yMDD333HOqrq7WsGHD9LOf/Uy33HJLj44LAAAAABj6jN/v94e7CADA4FBSUqL58+eHWiL01T4AAAAAAKDvMXMYAHBB+/btU1lZmerq6jRx4sQ+2wcAAAAAAPQfZg4DAC5o0aJFKi8v14033qiVK1fKGKO2trbz7nPnnXd22gdd8/l8Ot/XsTFGtm33Y0UAAAAAgEhAOAwA6JYLLVA3d+5cPfLII/1UzeA2a9YsHT58+JyPl5SU6De/+U0/VgQAAAAAiASEwwCAbvnkk0/O+3hSUpJyc3P7qZrBbc+ePWptbT3n4zExMRo5cmQ/VgQAAAAAiASEwwAAAAAAAAAQgaxwFwAAAAAAAAAA6H+EwwAAAAAAAAAQgQiHAQAAAAAAACACEQ4DAAAAAAAAQAQiHAYAAAAAAACACEQ4DAAAAAAAAAARiHAYAAAAAAAAACIQ4TAAAAAAAAAARCDCYQAAAAAAAACIQITDAAAAAAAAABCBCIcBAAAAAAAAIAIRDgMAAAAAAABABCIcBgAAAAAAAIAIRDgMAAAAAAAAABGIcBgAAAAAAAAAIhDhMAAAAAAAAABEIMJhAAAAAAAAAIhAhMMAAAAAAAAAEIEIhwEAAAAAAAAgAhEOAwAAAAAAAEAEIhwGAAAAAAAAgAhEOAwAAAAAAAAAEYhwGAAAAAAAAAAiEOEwAAAAAAAAAEQgwmEAAAAAAAAAiECEwwAAAAAAAAAQgQiHAQAAAAAAACACEQ4DAAAAAAAAQAQiHAYAAAAAAACACEQ4DAAAAAAAAAARiHAYAAAAAAAAACIQ4TAAAAAAAAAARCDCYQAAAAAAAACIQITDAAAAAAAAABCB/n/kiNhaYE2GxAAAAABJRU5ErkJggg==\n",
      "text/plain": [
       "<Figure size 1440x720 with 2 Axes>"
      ]
     },
     "metadata": {},
     "output_type": "display_data"
    }
   ],
   "source": [
    "(\n",
    "    fig,\n",
    "    (ax1, ax2),\n",
    ") = plt.subplots(ncols=2, figsize=(20, 10), tight_layout=True)\n",
    "scores_df.groupby(\"scaffold_type\").size().plot(kind=\"pie\", autopct=\"%1.2f%%\", ax=ax1)\n",
    "ax1.set_ylabel(\"before\", rotation=0)\n",
    "filtered.groupby(\"scaffold_type\").size().plot(kind=\"pie\", autopct=\"%1.2f%%\", ax=ax2)\n",
    "ax2.set_ylabel(\"after\", rotation=0)\n",
    "\n",
    "plt.savefig(os.path.join(output_path, \"filtering_effect_scaffold_type.png\"))"
   ]
  },
  {
   "cell_type": "markdown",
<<<<<<< HEAD
   "id": "9370e392",
=======
   "id": "717bc95f",
>>>>>>> 1318e07 (make list)
   "metadata": {},
   "source": [
    "### Sort the filtered df by length"
   ]
  },
  {
   "cell_type": "code",
<<<<<<< HEAD
   "execution_count": null,
   "id": "c935e624",
=======
   "execution_count": 10,
   "id": "9701a052",
>>>>>>> 1318e07 (make list)
   "metadata": {},
   "outputs": [],
   "source": [
    "filtered = filtered.sort_values(\"looped_length\")"
   ]
  },
  {
   "cell_type": "markdown",
<<<<<<< HEAD
   "id": "6ea59feb",
=======
   "id": "df6c651c",
>>>>>>> 1318e07 (make list)
   "metadata": {},
   "source": [
    "### Save a list of outputs\n",
    "Sort by length"
   ]
  },
  {
   "cell_type": "code",
<<<<<<< HEAD
   "execution_count": null,
   "id": "1e2447d5",
   "metadata": {},
   "outputs": [],
=======
   "execution_count": 11,
   "id": "4d1438a6",
   "metadata": {},
   "outputs": [
    {
     "data": {
      "application/vnd.jupyter.widget-view+json": {
       "model_id": "9dae84246e65487884cfd38399aef7ec",
       "version_major": 2,
       "version_minor": 0
      },
      "text/plain": [
       "  0%|          | 0/13725 [00:00<?, ?it/s]"
      ]
     },
     "metadata": {},
     "output_type": "display_data"
    }
   ],
>>>>>>> 1318e07 (make list)
   "source": [
    "simulation_name = \"07_fold_paired_states_Y\"\n",
    "output_path = os.path.join(os.getcwd(), f\"projects/crispy_shifties/{simulation_name}\")\n",
    "\n",
    "with open(os.path.join(output_path, \"folded_paired_states.list\"), \"w\") as f:\n",
    "    for path in tqdm(filtered.index):\n",
    "        print(path, file=f)"
   ]
  },
  {
   "cell_type": "markdown",
<<<<<<< HEAD
   "id": "6bc41f11",
=======
   "id": "daac91a6",
>>>>>>> 1318e07 (make list)
   "metadata": {},
   "source": [
    "### Save a list of chunked outputs\n",
    "TODO, probably 50 per chunk?"
   ]
  },
  {
   "cell_type": "code",
<<<<<<< HEAD
   "execution_count": null,
   "id": "e82bf32c",
   "metadata": {},
   "outputs": [],
=======
   "execution_count": 12,
   "id": "2203ff9f",
   "metadata": {},
   "outputs": [
    {
     "data": {
      "application/vnd.jupyter.widget-view+json": {
       "model_id": "274c4d35a3034f8092082ce4d6acd123",
       "version_major": 2,
       "version_minor": 0
      },
      "text/plain": [
       "  0%|          | 0/13725 [00:00<?, ?it/s]"
      ]
     },
     "metadata": {},
     "output_type": "display_data"
    }
   ],
>>>>>>> 1318e07 (make list)
   "source": [
    "from more_itertools import ichunked\n",
    "\n",
    "with open(os.path.join(output_path, \"folded_paired_states.pair\"), \"w\") as f:\n",
    "    for paths in ichunked(tqdm(filtered.index), 50):\n",
    "        line = \"____\".join(paths)\n",
    "        print(line, file=f)"
   ]
  },
  {
   "cell_type": "markdown",
<<<<<<< HEAD
   "id": "7ac562bd",
=======
   "id": "7c188dda",
>>>>>>> 1318e07 (make list)
   "metadata": {},
   "source": [
    "### Prototyping blocks"
   ]
  },
  {
   "cell_type": "markdown",
<<<<<<< HEAD
   "id": "3b3e1c07",
=======
   "id": "24efbffc",
>>>>>>> 1318e07 (make list)
   "metadata": {},
   "source": [
    "test `fold_paired_state_Y`"
   ]
  },
  {
   "cell_type": "code",
   "execution_count": null,
<<<<<<< HEAD
   "id": "55751586",
=======
   "id": "59a7df2d",
>>>>>>> 1318e07 (make list)
   "metadata": {
    "tags": []
   },
   "outputs": [],
   "source": [
    "%%time \n",
    "from operator import gt, lt\n",
    "import pyrosetta\n",
    "\n",
    "filter_dict = {\n",
    "    \"mean_plddt\": (gt, 85.0),\n",
    "    \"rmsd_to_reference\": (lt, 2.2),\n",
    "    \"mean_pae_interaction\": (lt, 10.0),\n",
    "}\n",
    "\n",
    "pyrosetta.init()\n",
    "\n",
    "\n",
    "sys.path.insert(0, \"~/projects/crispy_shifty/\") # TODO projects\n",
    "from crispy_shifty.protocols.folding import fold_paired_state_Y\n",
    "\n",
    "t = fold_paired_state_Y(\n",
    "        None,\n",
    "        **{\n",
    "#             'fasta_path': '/global/cfs/cdirs/m3962/projects/crispy_shifty/projects/crispy_shifties/06_mpnn_paired_states/fastas/0000/06_mpnn_paired_states_e6c08d9247294efbb7f84c704711447b.fa',\n",
    "            \"filter_dict\": filter_dict,\n",
    "            \"models\": [1], # TODO\n",
    "            'pdb_path': '/mnt/home/pleung/projects/crispy_shifty/projects/crispy_shifties/06_mpnn_paired_states/decoys/0000/06_mpnn_paired_states_e6c08d9247294efbb7f84c704711447b.pdb.bz2____/mnt/home/pleung/projects/crispy_shifty/projects/crispy_shifties/06_mpnn_paired_states/fastas/0000/06_mpnn_paired_states_e6c08d9247294efbb7f84c704711447b.fa',\n",
    "#             'fasta_path': 'bar.fa',\n",
    "#             \"models\": [1, 2], # TODO\n",
    "#             'pdb_path': 'foo.pdb.bz2',\n",
    "            \n",
    "        }\n",
    ")\n",
    "for i, tppose in enumerate(t):\n",
    "    tppose.pose.dump_pdb(f\"{i}.pdb\")"
   ]
  },
  {
   "cell_type": "code",
   "execution_count": null,
<<<<<<< HEAD
   "id": "aece2a50",
=======
   "id": "efc374e4",
>>>>>>> 1318e07 (make list)
   "metadata": {
    "scrolled": true
   },
   "outputs": [],
   "source": [
    "tppose.pose.scores"
   ]
  }
 ],
 "metadata": {
  "kernelspec": {
   "display_name": "crispy (3.8.12)",
   "language": "python",
   "name": "crispy"
  },
  "language_info": {
   "codemirror_mode": {
    "name": "ipython",
    "version": 3
   },
   "file_extension": ".py",
   "mimetype": "text/x-python",
   "name": "python",
   "nbconvert_exporter": "python",
   "pygments_lexer": "ipython3",
   "version": "3.8.12"
  }
 },
 "nbformat": 4,
 "nbformat_minor": 5
}
