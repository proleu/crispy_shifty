{
 "cells": [
  {
   "cell_type": "markdown",
   "id": "1e8625e2",
   "metadata": {},
   "source": [
    "# Run hacked AlphaFold2 on the designed paired state Y's"
   ]
  },
  {
   "cell_type": "markdown",
   "id": "fcf5b787",
   "metadata": {},
   "source": [
    "### Imports"
   ]
  },
  {
   "cell_type": "code",
   "execution_count": 1,
   "id": "8ba23b2e",
   "metadata": {},
   "outputs": [
    {
     "name": "stdout",
     "output_type": "stream",
     "text": [
      "running in directory: /global/cfs/cdirs/m4129/projects/crispy_shifty/projects/crispy_shifties\n",
      "running on node: nid002360\n"
     ]
    }
   ],
   "source": [
    "%load_ext lab_black\n",
    "# Python standard library\n",
    "from glob import glob\n",
    "import os\n",
    "import socket\n",
    "import sys\n",
    "\n",
    "# 3rd party library imports\n",
    "import dask\n",
    "import matplotlib.pyplot as plt\n",
    "import pandas as pd\n",
    "import pyrosetta\n",
    "import numpy as np\n",
    "import scipy\n",
    "import seaborn as sns\n",
    "from tqdm.auto import tqdm  # jupyter compatible progress bar\n",
    "\n",
    "tqdm.pandas()  # link tqdm to pandas\n",
    "# Notebook magic\n",
    "# save plots in the notebook\n",
    "%matplotlib inline\n",
    "# reloads modules automatically before executing cells\n",
    "%load_ext autoreload\n",
    "%autoreload 2\n",
    "print(f\"running in directory: {os.getcwd()}\")  # where are we?\n",
    "print(f\"running on node: {socket.gethostname()}\")  # what node are we on?"
   ]
  },
  {
   "cell_type": "markdown",
   "id": "494f1acb",
   "metadata": {},
   "source": [
    "### Set working directory to the root of the crispy_shifty repo\n",
    "Note: We want to use perlmutter"
   ]
  },
  {
   "cell_type": "code",
   "execution_count": 2,
   "id": "344ba6d1",
   "metadata": {},
   "outputs": [],
   "source": [
    "os.chdir(\"/global/cfs/cdirs/m4129/projects/crispy_shifty\")"
   ]
  },
  {
   "cell_type": "markdown",
   "id": "a53c2342",
   "metadata": {},
   "source": [
    "### Fix the paths\n",
    "Necessary because we are on perlmutter"
   ]
  },
  {
   "cell_type": "code",
   "execution_count": 3,
   "id": "0e37d60c",
   "metadata": {},
   "outputs": [
    {
     "name": "stderr",
     "output_type": "stream",
     "text": [
      "/global/cfs/cdirs/m4129/projects/crispy_shifty/envs/crispy/lib/python3.8/site-packages/dask_jobqueue/core.py:20: FutureWarning: tmpfile is deprecated and will be removed in a future release. Please use dask.utils.tmpfile instead.\n",
      "  from distributed.utils import tmpfile\n"
     ]
    }
   ],
   "source": [
    "from crispy_shifty.utils.io import fix_path_prefixes\n",
    "\n",
    "pairs = os.path.join(\n",
    "    os.getcwd(),\n",
    "    \"projects/crispy_shifties/06_mpnn_paired_states/mpnn_paired_states.pair\",\n",
    ")\n",
    "new_pairs = fix_path_prefixes(\n",
    "    find=\"/mnt\",\n",
    "    replace=\"/global/cfs/cdirs/m4129\",\n",
    "    file=pairs,\n",
    "    overwrite=True,\n",
    ")\n",
    "best_pairs = os.path.join(\n",
    "    os.getcwd(),\n",
    "    \"projects/crispy_shifties/06_mpnn_paired_states_best/best_mpnn_paired_states.pair\",\n",
    ")\n",
    "new_pairs = fix_path_prefixes(\n",
    "    find=\"/mnt\",\n",
    "    replace=\"/global/cfs/cdirs/m4129\",\n",
    "    file=best_pairs,\n",
    "    overwrite=True,\n",
    ")"
   ]
  },
  {
   "cell_type": "markdown",
   "id": "baf15654",
   "metadata": {
    "tags": []
   },
   "source": [
    "### Run AF2 on the designed paired states Y's"
   ]
  },
  {
   "cell_type": "code",
   "execution_count": 5,
   "id": "8b60b02b",
   "metadata": {},
   "outputs": [
    {
     "name": "stdout",
     "output_type": "stream",
     "text": [
      "Run the following command with your desired environment active:\n",
      "sbatch -a 1-5533 /pscratch/sd/p/pleung/07_fold_paired_states_Y/run.sh\n"
     ]
    }
   ],
   "source": [
    "from crispy_shifty.utils.io import gen_array_tasks\n",
    "\n",
    "simulation_name = \"07_fold_paired_states_Y\"\n",
    "design_list_file = os.path.join(\n",
    "    os.getcwd(),\n",
    "    \"projects/crispy_shifties/06_mpnn_paired_states/mpnn_paired_states.pair\",\n",
    ")\n",
    "output_path = os.path.join(f\"/pscratch/sd/p/pleung/{simulation_name}\")\n",
    "\n",
    "options = \" \".join(\n",
    "    [\n",
    "        \"out:level 200\",\n",
    "    ]\n",
    ")\n",
    "extra_kwargs = {\"models\": \"1\"}\n",
    "\n",
    "gen_array_tasks(\n",
    "    distribute_func=\"crispy_shifty.protocols.folding.fold_paired_state_Y\",\n",
    "    design_list_file=design_list_file,\n",
    "    output_path=output_path,\n",
    "    perlmutter_mode=True,\n",
    "    nstruct=1,\n",
    "    nstruct_per_task=1,\n",
    "    options=options,\n",
    "    extra_kwargs=extra_kwargs,\n",
    "    simulation_name=simulation_name,\n",
    "    time=\"27:30\",\n",
    ")"
   ]
  },
  {
   "cell_type": "markdown",
   "id": "f56cc1a9-14fd-4247-a0cd-9fe00a43ef74",
   "metadata": {
    "tags": []
   },
   "source": [
    "### Run AF2 on the best designed paired states Y's"
   ]
  },
  {
   "cell_type": "code",
   "execution_count": 5,
   "id": "1d0326d9-6cfe-49f6-84bb-a7112fbb4150",
   "metadata": {},
   "outputs": [
    {
     "name": "stdout",
     "output_type": "stream",
     "text": [
      "Run the following command with your desired environment active:\n",
      "sbatch -a 1-5533 /pscratch/sd/p/pleung/07_fold_paired_states_Y/run.sh\n"
     ]
    }
   ],
   "source": [
    "from crispy_shifty.utils.io import gen_array_tasks\n",
    "\n",
    "simulation_name = \"07_fold_paired_states_Y\"\n",
    "design_list_file = os.path.join(\n",
    "    os.getcwd(),\n",
    "    \"projects/crispy_shifties/06_mpnn_paired_states_best/best_mpnn_paired_states.pair\",\n",
    ")\n",
    "output_path = os.path.join(f\"/pscratch/sd/p/pleung/{simulation_name}\")\n",
    "\n",
    "options = \" \".join(\n",
    "    [\n",
    "        \"out:level 200\",\n",
    "    ]\n",
    ")\n",
    "extra_kwargs = {\"models\": \"1\"}\n",
    "\n",
    "gen_array_tasks(\n",
    "    distribute_func=\"crispy_shifty.protocols.folding.fold_paired_state_Y\",\n",
    "    design_list_file=design_list_file,\n",
    "    output_path=output_path,\n",
    "    perlmutter_mode=True,\n",
    "    nstruct=1,\n",
    "    nstruct_per_task=1,\n",
    "    options=options,\n",
    "    extra_kwargs=extra_kwargs,\n",
    "    simulation_name=simulation_name,\n",
    "    time=\"27:30\",\n",
    ")"
   ]
  },
  {
   "cell_type": "markdown",
   "id": "ad856284",
   "metadata": {},
   "source": [
    "### Set working directory to the root of the crispy_shifty repo\n",
    "Note: We rsync the perlmutter results, now back on the digs"
   ]
  },
  {
   "cell_type": "code",
   "execution_count": null,
   "id": "8ff1ecce",
   "metadata": {},
   "outputs": [],
   "source": [
    "os.chdir(\"/projects/crispy_shifty\")"
   ]
  },
  {
   "cell_type": "markdown",
   "id": "5cbbdc7c",
   "metadata": {},
   "source": [
    "### Collect scorefiles of the folded paired state Ys and concatenate"
   ]
  },
  {
   "cell_type": "code",
   "execution_count": null,
   "id": "29838df2",
   "metadata": {
    "scrolled": true,
    "tags": []
   },
   "outputs": [],
   "source": [
    "sys.path.insert(0, \"/projects/crispy_shifty\")\n",
    "from crispy_shifty.utils.io import collect_score_file\n",
    "\n",
    "simulation_name = \"07_fold_paired_states_Y\"\n",
    "output_path = os.path.join(os.getcwd(), f\"projects/crispy_shifties/{simulation_name}\")\n",
    "\n",
    "if not os.path.exists(os.path.join(output_path, \"scores.json\")):\n",
    "    collect_score_file(output_path, \"scores\")"
   ]
  },
  {
   "cell_type": "markdown",
   "id": "f5a5b345",
   "metadata": {},
   "source": [
    "### Load resulting concatenated scorefile"
   ]
  },
  {
   "cell_type": "code",
   "execution_count": null,
   "id": "534d9103",
   "metadata": {
    "scrolled": true,
    "tags": []
   },
   "outputs": [],
   "source": [
    "sys.path.insert(0, \"/projects/crispy_shifty\")\n",
    "from crispy_shifty.utils.io import parse_scorefile_linear\n",
    "\n",
    "output_path = os.path.join(os.getcwd(), f\"projects/crispy_shifties/{simulation_name}\")\n",
    "\n",
    "if not os.path.exists(os.path.join(output_path, \"scores.csv\")):\n",
    "    scores_df = parse_scorefile_linear(os.path.join(output_path, \"scores.json\"))"
   ]
  },
  {
   "cell_type": "markdown",
   "id": "2b2f6993",
   "metadata": {},
   "source": [
    "### Dump scores_df as a CSV and then reload, for performance reasons"
   ]
  },
  {
   "cell_type": "code",
   "execution_count": null,
   "id": "64879d67",
   "metadata": {},
   "outputs": [],
   "source": [
    "if not os.path.exists(os.path.join(output_path, \"scores.csv\")):\n",
    "    scores_df.to_csv(os.path.join(output_path, \"scores.csv\"))\n",
    "\n",
    "scores_df = pd.read_csv(os.path.join(output_path, \"scores.csv\"), index_col=\"Unnamed: 0\")"
   ]
  },
  {
   "cell_type": "markdown",
   "id": "61607c65",
   "metadata": {},
   "source": [
    "### Setup for plotting"
   ]
  },
  {
   "cell_type": "code",
   "execution_count": null,
   "id": "4f81a2cf",
   "metadata": {},
   "outputs": [],
   "source": [
    "sns.set(\n",
    "    context=\"talk\",\n",
    "    font_scale=1,  # make the font larger; default is pretty small\n",
    "    style=\"ticks\",  # make the background white with black lines\n",
    "    palette=\"colorblind\",  # a color palette that is colorblind friendly!\n",
    ")"
   ]
  },
  {
   "cell_type": "markdown",
   "id": "4074723e",
   "metadata": {},
   "source": [
    "### Data exploration\n",
    "Gonna remove the Rosetta sfxn scoreterms for now"
   ]
  },
  {
   "cell_type": "code",
   "execution_count": null,
   "id": "4dce353d",
   "metadata": {},
   "outputs": [],
   "source": [
    "rosetta = scores_df[scores_df[\"designed_by\"] == \"rosetta\"]\n",
    "mpnn = scores_df[scores_df[\"designed_by\"] == \"mpnn\"].sample(1000, random_state=0)\n",
    "sample_df = pd.concat([rosetta, mpnn])"
   ]
  },
  {
   "cell_type": "markdown",
   "id": "2063b310",
   "metadata": {},
   "source": [
    "### Remove score terms we don't care about"
   ]
  },
  {
   "cell_type": "code",
   "execution_count": null,
   "id": "848b8a24",
   "metadata": {},
   "outputs": [],
   "source": [
    "from crispy_shifty.protocols.design import beta_nov16_terms\n",
    "\n",
    "sample_df = sample_df[\n",
    "    [term for term in sample_df.columns if term not in beta_nov16_terms]\n",
    "]\n",
    "print(len(sample_df))\n",
    "print(list(sample_df.columns))"
   ]
  },
  {
   "cell_type": "code",
   "execution_count": null,
   "id": "1d0c8ab5",
   "metadata": {},
   "outputs": [],
   "source": [
    "from crispy_shifty.plotting.utils import histplot_df, pairplot_df\n",
    "\n",
    "to_plot = [\n",
    "    \"best_average_plddts\",\n",
    "    \"best_model\",\n",
    "    \"best_ptm\",\n",
    "    \"best_rmsd_to_input\",\n",
    "    \"cms_AcB\",\n",
    "    \"cms_AnAc\",\n",
    "    \"cms_AnAcB\",\n",
    "    \"cms_AnB\",\n",
    "    \"designed_by\",\n",
    "    \"interface\",\n",
    "    \"mean_pae\",\n",
    "    \"mean_pae_interaction\",\n",
    "    \"mean_pae_interaction_AB\",\n",
    "    \"mean_pae_interaction_BA\",\n",
    "    \"mean_pae_intra_chain\",\n",
    "    \"mean_pae_intra_chain_A\",\n",
    "    \"mean_pae_intra_chain_B\",\n",
    "    \"mean_plddt\",\n",
    "    \"mismatch_probability_parent\",\n",
    "    \"pTMscore\",\n",
    "    \"packstat_parent\",\n",
    "    \"pdb\",\n",
    "    \"recycles\",\n",
    "    \"rmsd_to_reference\",\n",
    "    \"sap_parent\",\n",
    "    \"sc_AcB\",\n",
    "    \"sc_AnAc\",\n",
    "    \"sc_AnAcB\",\n",
    "    \"sc_AnB\",\n",
    "    \"sc_all_parent\",\n",
    "    \"score_per_res\",\n",
    "    \"score_per_res_parent\",\n",
    "    \"ss_sc\",\n",
    "    \"state\",\n",
    "    \"topo\",\n",
    "]\n",
    "print(to_plot)"
   ]
  },
  {
   "cell_type": "markdown",
   "id": "434ebc1c",
   "metadata": {},
   "source": [
    "### Plot before and after multistate design AF2 metrics"
   ]
  },
  {
   "cell_type": "code",
   "execution_count": null,
   "id": "600f013d",
   "metadata": {},
   "outputs": [],
   "source": [
    "cols = [\n",
    "    \"best_average_plddts\",\n",
    "    \"best_ptm\",\n",
    "    \"best_rmsd_to_input\",\n",
    "    \"mean_plddt\",\n",
    "    \"pTMscore\",\n",
    "    \"rmsd_to_reference\",\n",
    "]\n",
    "the_fig = histplot_df(\n",
    "    df=sample_df,\n",
    "    cols=cols,\n",
    "    bins=10,\n",
    "    hue=\"designed_by\",\n",
    ")\n",
    "plt.savefig(os.path.join(output_path, \"old_vs_new_af2_scores.png\"))"
   ]
  },
  {
   "cell_type": "code",
   "execution_count": null,
   "id": "3cbec0bd",
   "metadata": {},
   "outputs": [],
   "source": [
    "the_fig = pairplot_df(\n",
    "    df=sample_df,\n",
    "    cols=cols,\n",
    "    hue=\"designed_by\",\n",
    ")\n",
    "plt.savefig(os.path.join(output_path, \"old_vs_new_af2_scores_paired.png\"))"
   ]
  },
  {
   "cell_type": "code",
   "execution_count": null,
   "id": "fd6c15c9-368d-475b-a82f-ff2f2d5b73a4",
   "metadata": {},
   "outputs": [],
   "source": [
    "# the_fig = histplot_df(\n",
    "#     df=sample_df,\n",
    "#     cols=cols,\n",
    "#     bins=10,\n",
    "#     hue=\"interface\",\n",
    "# )"
   ]
  },
  {
   "cell_type": "code",
   "execution_count": null,
   "id": "2d86abb6-161c-42e8-9239-292ebf506620",
   "metadata": {},
   "outputs": [],
   "source": [
    "# the_fig = pairplot_df(\n",
    "#     df=sample_df,\n",
    "#     cols=cols,\n",
    "#     hue=\"interface\",\n",
    "# )"
   ]
  },
  {
   "cell_type": "markdown",
   "id": "815ee885-f71d-4cbe-b969-170664185438",
   "metadata": {},
   "source": [
    "### Plot effects of MPNN temperature and selector areas on AF2 metrics"
   ]
  },
  {
   "cell_type": "code",
   "execution_count": null,
   "id": "2d3377d3-f632-42a3-8340-d6927b0d538a",
   "metadata": {},
   "outputs": [],
   "source": [
    "# mpnn[\"mpnn_temperature\"] = mpnn[\"mpnn_temperature\"].astype(str)\n",
    "\n",
    "# cols = [\n",
    "#     \"best_average_plddts\",\n",
    "#     \"best_ptm\",\n",
    "#     \"best_rmsd_to_input\",\n",
    "#     \"mean_plddt\",\n",
    "#     \"pTMscore\",\n",
    "#     \"rmsd_to_reference\",\n",
    "# ]\n",
    "# the_fig = histplot_df(\n",
    "#     df=mpnn,\n",
    "#     cols=cols,\n",
    "#     bins=10,\n",
    "#     hue=\"mpnn_temperature\",\n",
    "# )"
   ]
  },
  {
   "cell_type": "code",
   "execution_count": null,
   "id": "f4330ca8-0ffb-4460-93ba-3bec9dfbe2bc",
   "metadata": {},
   "outputs": [],
   "source": [
    "# the_fig = pairplot_df(\n",
    "#     df=mpnn,\n",
    "#     cols=cols,\n",
    "#     hue=\"mpnn_temperature\",\n",
    "# )"
   ]
  },
  {
   "cell_type": "code",
   "execution_count": null,
   "id": "8e574056-f7c2-4652-8c09-000acbd6897b",
   "metadata": {},
   "outputs": [],
   "source": [
    "mpnn[\"mpnn_msd_temperature\"] = mpnn[\"mpnn_msd_temperature\"].astype(str)\n",
    "\n",
    "cols = [\n",
    "    \"best_average_plddts\",\n",
    "    \"best_ptm\",\n",
    "    \"best_rmsd_to_input\",\n",
    "    \"mean_plddt\",\n",
    "    \"pTMscore\",\n",
    "    \"rmsd_to_reference\",\n",
    "]\n",
    "the_fig = histplot_df(\n",
    "    df=mpnn,\n",
    "    cols=cols,\n",
    "    bins=10,\n",
    "    hue=\"mpnn_msd_temperature\",\n",
    ")\n",
    "plt.savefig(os.path.join(output_path, \"old_vs_new_af2_scores_temp.png\"))"
   ]
  },
  {
   "cell_type": "code",
   "execution_count": null,
   "id": "92cddb76-c32b-4ba2-ab50-1b8024fed632",
   "metadata": {},
   "outputs": [],
   "source": [
    "the_fig = pairplot_df(\n",
    "    df=mpnn,\n",
    "    cols=cols,\n",
    "    hue=\"mpnn_msd_temperature\",\n",
    ")\n",
    "plt.savefig(os.path.join(output_path, \"old_vs_new_af2_scores_temp_paired.png\"))"
   ]
  },
  {
   "cell_type": "code",
   "execution_count": null,
   "id": "66d6436b-fce7-4048-8028-4e99b9dc7f09",
   "metadata": {},
   "outputs": [],
   "source": [
    "the_fig = histplot_df(\n",
    "    df=mpnn,\n",
    "    cols=cols,\n",
    "    bins=10,\n",
    "    hue=\"mpnn_msd_design_area\",\n",
    ")\n",
    "plt.savefig(os.path.join(output_path, \"old_vs_new_af2_scores_area.png\"))"
   ]
  },
  {
   "cell_type": "code",
   "execution_count": null,
   "id": "a28e61cc-8fd6-41e0-8e4c-c602aa6a2fb6",
   "metadata": {},
   "outputs": [],
   "source": [
    "the_fig = pairplot_df(\n",
    "    df=mpnn,\n",
    "    cols=cols,\n",
    "    hue=\"mpnn_msd_design_area\",\n",
    ")\n",
    "plt.savefig(os.path.join(output_path, \"old_vs_new_af2_scores_area_paired.png\"))"
   ]
  },
  {
   "cell_type": "code",
   "execution_count": null,
   "id": "581c3637-a7d9-4524-888c-7dd354cf46e8",
   "metadata": {},
   "outputs": [],
   "source": [
    "# sample_df[\"best_model\"] = sample_df[\"best_model\"].astype(str)\n",
    "# the_fig = histplot_df(\n",
    "#     df=sample_df,\n",
    "#     cols=cols,\n",
    "#     bins=10,\n",
    "#     hue=\"best_model\",\n",
    "# )"
   ]
  },
  {
   "cell_type": "code",
   "execution_count": null,
   "id": "d146aab6-d5b9-4310-88c4-84a3653c7e6a",
   "metadata": {},
   "outputs": [],
   "source": [
    "# sample_df[\"best_model\"] = sample_df[\"best_model\"].astype(str)\n",
    "# the_fig = histplot_df(\n",
    "#     df=sample_df,\n",
    "#     cols=cols,\n",
    "#     bins=10,\n",
    "#     hue=\"topo\",\n",
    "# )"
   ]
  },
  {
   "cell_type": "markdown",
   "id": "7eae3243-6f78-4bf3-b18f-03312ad157ef",
   "metadata": {},
   "source": [
    "### Plot interface metrics"
   ]
  },
  {
   "cell_type": "code",
   "execution_count": null,
   "id": "e4640cea-9a60-4947-98d8-a1903d7b1ef9",
   "metadata": {},
   "outputs": [],
   "source": [
    "cols = [\n",
    "    \"cms_AnAcB\",\n",
    "    \"mean_pae\",\n",
    "    \"mean_pae_interaction\",\n",
    "    \"mean_pae_intra_chain\",\n",
    "    \"mean_plddt\",\n",
    "    \"sc_AnAcB\",\n",
    "]\n",
    "the_fig = histplot_df(\n",
    "    df=sample_df,\n",
    "    cols=cols,\n",
    "    bins=10,\n",
    "    hue=\"designed_by\",\n",
    ")\n",
    "plt.savefig(os.path.join(output_path, \"interface_scores.png\"))"
   ]
  },
  {
   "cell_type": "code",
   "execution_count": null,
   "id": "8310fd31-889e-43e8-8efa-afb4881c35f2",
   "metadata": {},
   "outputs": [],
   "source": [
    "the_fig = pairplot_df(\n",
    "    df=sample_df,\n",
    "    cols=cols,\n",
    "    hue=\"designed_by\",\n",
    ")\n",
    "plt.savefig(os.path.join(output_path, \"interface_scores_paired.png\"))"
   ]
  },
  {
   "cell_type": "code",
   "execution_count": null,
   "id": "c7f458f6-fa0e-48c6-822e-d01a019e5ae0",
   "metadata": {},
   "outputs": [],
   "source": [
    "# the_fig = histplot_df(\n",
    "#     df=sample_df,\n",
    "#     cols=cols,\n",
    "#     bins=10,\n",
    "#     hue=\"interface\",\n",
    "# )"
   ]
  },
  {
   "cell_type": "code",
   "execution_count": null,
   "id": "d265fb3e-8516-4a20-9a42-e016619b910a",
   "metadata": {},
   "outputs": [],
   "source": [
    "# the_fig = pairplot_df(\n",
    "#     df=sample_df,\n",
    "#     cols=cols,\n",
    "#     hue=\"interface\",\n",
    "# )"
   ]
  },
  {
   "cell_type": "markdown",
   "id": "44238c33-929c-411a-b7ed-7c17828770f9",
   "metadata": {},
   "source": [
    "### Plot effects of MPNN temperature and selector areas on interface metrics"
   ]
  },
  {
   "cell_type": "code",
   "execution_count": null,
   "id": "77cd2aae-1d7a-4a72-bead-e735426318b9",
   "metadata": {},
   "outputs": [],
   "source": [
    "cols = [\n",
    "    \"cms_AnAcB\",\n",
    "    \"mean_pae\",\n",
    "    \"mean_pae_interaction\",\n",
    "    \"mean_pae_intra_chain\",\n",
    "    \"mean_plddt\",\n",
    "    \"sc_AnAcB\",\n",
    "]\n",
    "the_fig = histplot_df(\n",
    "    df=mpnn,\n",
    "    cols=cols,\n",
    "    bins=10,\n",
    "    hue=\"mpnn_msd_temperature\",\n",
    ")\n",
    "plt.savefig(os.path.join(output_path, \"interface_scores_temp.png\"))"
   ]
  },
  {
   "cell_type": "code",
   "execution_count": null,
   "id": "7f9c8d61-8a29-4cff-9340-8bf3c4e20e22",
   "metadata": {},
   "outputs": [],
   "source": [
    "the_fig = pairplot_df(\n",
    "    df=mpnn,\n",
    "    cols=cols,\n",
    "    hue=\"mpnn_msd_temperature\",\n",
    ")\n",
    "plt.savefig(os.path.join(output_path, \"interface_scores_temp_paired.png\"))"
   ]
  },
  {
   "cell_type": "code",
   "execution_count": null,
   "id": "649aeac9-7b8b-4271-aed7-3ab61e3afa9b",
   "metadata": {},
   "outputs": [],
   "source": [
    "the_fig = histplot_df(\n",
    "    df=mpnn,\n",
    "    cols=cols,\n",
    "    bins=10,\n",
    "    hue=\"mpnn_msd_design_area\",\n",
    ")\n",
    "plt.savefig(os.path.join(output_path, \"interface_scores_area.png\"))"
   ]
  },
  {
   "cell_type": "code",
   "execution_count": null,
   "id": "8ea6bd07-0416-41f4-8097-1dee8badcbd2",
   "metadata": {},
   "outputs": [],
   "source": [
    "the_fig = pairplot_df(\n",
    "    df=mpnn,\n",
    "    cols=cols,\n",
    "    hue=\"mpnn_msd_design_area\",\n",
    ")\n",
    "plt.savefig(os.path.join(output_path, \"interface_scores_area_paired.png\"))"
   ]
  },
  {
   "cell_type": "markdown",
   "id": "b5623717",
   "metadata": {},
   "source": [
    "### Filter the whole df"
   ]
  },
  {
   "cell_type": "code",
   "execution_count": null,
   "id": "d1f6086b",
   "metadata": {},
   "outputs": [],
   "source": [
    "query = \"mean_plddt > 90 and mean_pae_interaction < 5 and rmsd_to_reference < 1.5\"\n",
    "\n",
    "filtered = scores_df.query(query)\n",
    "len(filtered)"
   ]
  },
  {
   "cell_type": "code",
   "execution_count": null,
   "id": "0784073b-4f2e-44ef-9282-7784c6334757",
   "metadata": {},
   "outputs": [],
   "source": [
    "print(list(sorted(set([v for v in filtered.parent.values if len(v) == 5]))))\n",
    "print(len([v for v in filtered.designed_by.values if v == \"rosetta\"]))"
   ]
  },
  {
   "cell_type": "markdown",
   "id": "8d09acbf",
   "metadata": {},
   "source": [
    "### Plot topo and scaffold_type fraction before and after"
   ]
  },
  {
   "cell_type": "code",
   "execution_count": null,
   "id": "88b0a258",
   "metadata": {},
   "outputs": [],
   "source": [
    "(\n",
    "    fig,\n",
    "    (ax1, ax2),\n",
    ") = plt.subplots(ncols=2, figsize=(20, 10), tight_layout=True)\n",
    "scores_df.groupby(\"scaffold_type\").size().plot(kind=\"pie\", autopct=\"%1.2f%%\", ax=ax1)\n",
    "ax1.set_ylabel(\"before\", rotation=0)\n",
    "filtered.groupby(\"scaffold_type\").size().plot(kind=\"pie\", autopct=\"%1.2f%%\", ax=ax2)\n",
    "ax2.set_ylabel(\"after\", rotation=0)\n",
    "\n",
    "plt.savefig(os.path.join(output_path, \"filtering_effect_scaffold_type.png\"))"
   ]
  },
  {
   "cell_type": "markdown",
   "id": "9370e392",
   "metadata": {},
   "source": [
    "### Sort the filtered df by length"
   ]
  },
  {
   "cell_type": "code",
   "execution_count": null,
   "id": "c935e624",
   "metadata": {},
   "outputs": [],
   "source": [
    "filtered = filtered.sort_values(\"looped_length\")"
   ]
  },
  {
   "cell_type": "markdown",
   "id": "6ea59feb",
   "metadata": {},
   "source": [
    "### Save a list of outputs\n",
    "Sort by length"
   ]
  },
  {
   "cell_type": "code",
   "execution_count": null,
   "id": "1e2447d5",
   "metadata": {},
   "outputs": [],
   "source": [
    "simulation_name = \"07_fold_paired_states_Y\"\n",
    "output_path = os.path.join(os.getcwd(), f\"projects/crispy_shifties/{simulation_name}\")\n",
    "\n",
    "with open(os.path.join(output_path, \"folded_paired_states.list\"), \"w\") as f:\n",
    "    for path in tqdm(filtered.index):\n",
    "        print(path, file=f)"
   ]
  },
  {
   "cell_type": "markdown",
   "id": "6bc41f11",
   "metadata": {},
   "source": [
    "### Save a list of chunked outputs\n",
    "50 per chunk"
   ]
  },
  {
   "cell_type": "code",
   "execution_count": null,
   "id": "e82bf32c",
   "metadata": {},
   "outputs": [],
   "source": [
    "from more_itertools import ichunked\n",
    "\n",
    "with open(os.path.join(output_path, \"folded_paired_states.pair\"), \"w\") as f:\n",
    "    for paths in ichunked(tqdm(filtered.index), 50):\n",
    "        line = \"____\".join(paths)\n",
    "        print(line, file=f)"
   ]
  },
  {
   "cell_type": "markdown",
   "id": "7ac562bd",
   "metadata": {},
   "source": [
    "### Prototyping blocks"
   ]
  },
  {
   "cell_type": "markdown",
   "id": "3b3e1c07",
   "metadata": {},
   "source": [
    "test `fold_paired_state_Y`"
   ]
  },
  {
   "cell_type": "code",
   "execution_count": null,
   "id": "55751586",
   "metadata": {
    "tags": []
   },
   "outputs": [],
   "source": [
    "%%time \n",
    "from operator import gt, lt\n",
    "import pyrosetta\n",
    "\n",
    "filter_dict = {\n",
    "    \"mean_plddt\": (gt, 85.0),\n",
    "    \"rmsd_to_reference\": (lt, 2.2),\n",
    "    \"mean_pae_interaction\": (lt, 10.0),\n",
    "}\n",
    "\n",
    "pyrosetta.init()\n",
    "\n",
    "\n",
    "sys.path.insert(0, \"~/projects/crispy_shifty/\") # TODO projects\n",
    "from crispy_shifty.protocols.folding import fold_paired_state_Y\n",
    "\n",
    "t = fold_paired_state_Y(\n",
    "        None,\n",
    "        **{\n",
    "#             'fasta_path': 'TODO',\n",
    "            \"filter_dict\": filter_dict,\n",
    "            \"models\": [1], # TODO\n",
    "            'pdb_path': '/mnt/home/pleung/projects/crispy_shifty/projects/crispy_shifties/06_mpnn_paired_states/decoys/0000/06_mpnn_paired_states_e6c08d9247294efbb7f84c704711447b.pdb.bz2____/mnt/home/pleung/projects/crispy_shifty/projects/crispy_shifties/06_mpnn_paired_states/fastas/0000/06_mpnn_paired_states_e6c08d9247294efbb7f84c704711447b.fa',\n",
    "#             'fasta_path': 'bar.fa',\n",
    "#             \"models\": [1, 2], # TODO\n",
    "#             'pdb_path': 'foo.pdb.bz2',\n",
    "            \n",
    "        }\n",
    ")\n",
    "for i, tppose in enumerate(t):\n",
    "    tppose.pose.dump_pdb(f\"{i}.pdb\")"
   ]
  },
  {
   "cell_type": "code",
   "execution_count": null,
   "id": "aece2a50",
   "metadata": {
    "scrolled": true
   },
   "outputs": [],
   "source": [
    "tppose.pose.scores"
   ]
  }
 ],
 "metadata": {
  "kernelspec": {
   "display_name": "crispy (3.8.12)",
   "language": "python",
   "name": "crispy"
  },
  "language_info": {
   "codemirror_mode": {
    "name": "ipython",
    "version": 3
   },
   "file_extension": ".py",
   "mimetype": "text/x-python",
   "name": "python",
   "nbconvert_exporter": "python",
   "pygments_lexer": "ipython3",
   "version": "3.8.12"
  }
 },
 "nbformat": 4,
 "nbformat_minor": 5
}
