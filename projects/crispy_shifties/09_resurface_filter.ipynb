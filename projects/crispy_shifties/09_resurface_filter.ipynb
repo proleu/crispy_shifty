{
 "cells": [
  {
   "cell_type": "markdown",
   "id": "ea3228c0",
   "metadata": {},
   "source": [
    "# Filter down the folded paired states to an orderable subset"
   ]
  },
  {
   "cell_type": "markdown",
   "id": "5e19c9e0",
   "metadata": {},
   "source": [
    "### Imports"
   ]
  },
  {
   "cell_type": "code",
   "execution_count": 1,
   "id": "73f8ec0b",
   "metadata": {},
   "outputs": [
    {
     "name": "stdout",
     "output_type": "stream",
     "text": [
      "running in directory: /global/cfs/cdirs/m4129/projects/crispy_shifty/projects/crispy_shifties\n",
      "running on node: nid002065\n"
     ]
    }
   ],
   "source": [
    "%load_ext lab_black\n",
    "# Python standard library\n",
    "from glob import glob\n",
    "import os\n",
    "import socket\n",
    "import sys\n",
    "\n",
    "# 3rd party library imports\n",
    "import dask\n",
    "import matplotlib.pyplot as plt\n",
    "import pandas as pd\n",
    "import pyrosetta\n",
    "import numpy as np\n",
    "import scipy\n",
    "import seaborn as sns\n",
    "from tqdm.auto import tqdm  # jupyter compatible progress bar\n",
    "\n",
    "tqdm.pandas()  # link tqdm to pandas\n",
    "# Notebook magic\n",
    "# save plots in the notebook\n",
    "%matplotlib inline\n",
    "# reloads modules automatically before executing cells\n",
    "%load_ext autoreload\n",
    "%autoreload 2\n",
    "print(f\"running in directory: {os.getcwd()}\")  # where are we?\n",
    "print(f\"running on node: {socket.gethostname()}\")  # what node are we on?"
   ]
  },
  {
   "cell_type": "markdown",
   "id": "7a13bfec",
   "metadata": {},
   "source": [
    "### Set working directory to the root of the crispy_shifty repo"
   ]
  },
  {
   "cell_type": "code",
   "execution_count": 2,
   "id": "ebe39097",
   "metadata": {},
   "outputs": [],
   "source": [
    "os.chdir(\"/global/cfs/cdirs/m4129/projects/crispy_shifty\")"
   ]
  },
  {
   "cell_type": "markdown",
   "id": "b5d24d4c",
   "metadata": {},
   "source": [
    "### Fix the paths\n",
    "Necessary because we copied these designs from perlmutter"
   ]
  },
  {
   "cell_type": "code",
   "execution_count": 3,
   "id": "bc83809d",
   "metadata": {},
   "outputs": [
    {
     "name": "stderr",
     "output_type": "stream",
     "text": [
      "/global/cfs/cdirs/m4129/projects/crispy_shifty/envs/crispy/lib/python3.8/site-packages/dask_jobqueue/core.py:20: FutureWarning: tmpfile is deprecated and will be removed in a future release. Please use dask.utils.tmpfile instead.\n",
      "  from distributed.utils import tmpfile\n"
     ]
    }
   ],
   "source": [
    "from crispy_shifty.utils.io import fix_path_prefixes\n",
    "\n",
    "folded = os.path.join(\n",
    "    os.getcwd(),\n",
    "    \"projects/crispy_shifties/08_fold_paired_states_X/folded_paired_states.list\",\n",
    ")\n",
    "new_folded = fix_path_prefixes(\n",
    "    find=\"/mnt\",\n",
    "    replace=\"/global/cfs/cdirs/m4129\",\n",
    "    file=folded,\n",
    "    overwrite=True,\n",
    ")"
   ]
  },
  {
   "cell_type": "markdown",
   "id": "1c16cf22-feb5-4685-bc67-f1a324116571",
   "metadata": {
    "tags": []
   },
   "source": [
    "### Resurface the predicted states peptides"
   ]
  },
  {
   "cell_type": "code",
   "execution_count": null,
   "id": "405f24bf",
   "metadata": {},
   "outputs": [],
   "source": [
    "from crispy_shifty.utils.io import gen_array_tasks\n",
    "\n",
    "simulation_name = \"09_resurface\"\n",
    "design_list_file = os.path.join(\n",
    "    os.getcwd(),\n",
    "    \"projects/crispy_shifties/08_fold_paired_states_X/folded_paired_states.list\",\n",
    ")\n",
    "output_path = os.path.join(f\"/pscratch/sd/p/pleung/{simulation_name}\")\n",
    "options = \" \".join(\n",
    "    [\n",
    "        \"out:level 200\",\n",
    "    ]\n",
    ")\n",
    "\n",
    "extra_kwargs = {\"models\": \"1\", \"yeet_chain\": \"3\"}\n",
    "\n",
    "gen_array_tasks(\n",
    "    distribute_func=\"crispy_shifty.protocols.cleaning.finalize_peptide\",\n",
    "    design_list_file=design_list_file,\n",
    "    output_path=output_path,\n",
    "    perlmutter_mode=True,\n",
    "    nstruct=1,\n",
    "    nstruct_per_task=4,\n",
    "    options=options,\n",
    "    extra_kwargs=extra_kwargs,\n",
    "    simulation_name=simulation_name,\n",
    "    time=\"1:59:30\",\n",
    ")"
   ]
  },
  {
   "cell_type": "markdown",
   "id": "6c1e89c2-96ab-47bd-94c2-50dab59e1781",
   "metadata": {},
   "source": [
    "### Prototyping blocks"
   ]
  },
  {
   "cell_type": "markdown",
   "id": "7fa9d1dc-248c-400d-a7c8-a0813a98e508",
   "metadata": {},
   "source": [
    "test `finalize_peptide`"
   ]
  },
  {
   "cell_type": "code",
   "execution_count": null,
   "id": "1a95f66e-ec7c-4094-b6b3-29e44f89f0fb",
   "metadata": {
    "scrolled": true,
    "tags": []
   },
   "outputs": [],
   "source": [
    "%%time \n",
    "import pyrosetta\n",
    "\n",
    "pyrosetta.init(\n",
    "    \"-corrections::beta_nov16  -mute all\"\n",
    ")\n",
    "\n",
    "\n",
    "sys.path.insert(0, \"/projects/crispy_shifty/\")\n",
    "from crispy_shifty.protocols.cleaning import finalize_peptide\n",
    "\n",
    "t = finalize_peptide(\n",
    "        None,\n",
    "        **{\n",
    "            'pdb_path': '/mnt/projects/crispy_shifty/projects/crispy_shifties/08_fold_paired_states_X/decoys/0052/08_fold_paired_states_X_d9d44e6fa15b4dd39296e2f1d3055a12.pdb.bz2',\n",
    "            'yeet_chain': '3',\n",
    "            'models': '1',\n",
    "        }\n",
    ")\n",
    "for i, tppose in enumerate(t):\n",
    "    tppose.pose.dump_pdb(f\"{i}.pdb\")"
   ]
  },
  {
   "cell_type": "markdown",
   "id": "cbf906cd-a6f6-48c7-8e22-69a5a7cf265d",
   "metadata": {},
   "source": [
    "test `filter_paired_state`"
   ]
  },
  {
   "cell_type": "code",
   "execution_count": null,
   "id": "ab4cdf43-e38b-4294-b61f-2aefa80b6daa",
   "metadata": {},
   "outputs": [],
   "source": [
    "# %%time\n",
    "# import pyrosetta\n",
    "\n",
    "# pyrosetta.init(\n",
    "# \"-corrections::beta_nov16 -indexed_structure_store:fragment_store /net/databases/VALL_clustered/connect_chains/ss_grouped_vall_helix_shortLoop.h5\"\n",
    "# )\n",
    "\n",
    "\n",
    "# sys.path.insert(0, \"/projects/crispy_shifty/\")\n",
    "# from crispy_shifty.protocols.msd import filter_paired_state\n",
    "\n",
    "# t = filter_paired_state(\n",
    "#         None,\n",
    "#         **{\n",
    "#             'pdb_path': '/mnt/home/pleung/projects/crispy_shifty/projects/crispy_shifties/07_fold_paired_states_Y/decoys/0000/07_fold_paired_states_Y_760c687ae53646b59bd36bbe91998593.pdb.bz2 /mnt/home/pleung/projects/crispy_shifty/projects/crispy_shifties/07_fold_paired_states_Y/decoys/0000/07_fold_paired_states_Y_2118b14f45e849ac99034c2e36a8230f.pdb.bz2 /mnt/home/pleung/projects/crispy_shifty/projects/crispy_shifties/07_fold_paired_states_Y/decoys/0000/07_fold_paired_states_Y_806db75a0f8949119a54d50ee8c28576.pdb.bz2 /mnt/home/pleung/projects/crispy_shifty/projects/crispy_shifties/07_fold_paired_states_Y/decoys/0000/07_fold_paired_states_Y_bf4fc1710acb4037917254ce283a7223.pdb.bz2 /mnt/home/pleung/projects/crispy_shifty/projects/crispy_shifties/07_fold_paired_states_Y/decoys/0000/07_fold_paired_states_Y_1984895bd0d744e7b7c82446e07b8189.pdb.bz2 /mnt/home/pleung/projects/crispy_shifty/projects/crispy_shifties/07_fold_paired_states_Y/decoys/0000/07_fold_paired_states_Y_ff38fa4457a84da1b0d95850f99b6f10.pdb.bz2 /mnt/home/pleung/projects/crispy_shifty/projects/crispy_shifties/07_fold_paired_states_Y/decoys/0000/07_fold_paired_states_Y_c712e867dda84adab431812f7d1ed004.pdb.bz2 /mnt/home/pleung/projects/crispy_shifty/projects/crispy_shifties/07_fold_paired_states_Y/decoys/0000/07_fold_paired_states_Y_5b83ffb2312944f084a5557ed82ed5d9.pdb.bz2 /mnt/home/pleung/projects/crispy_shifty/projects/crispy_shifties/07_fold_paired_states_Y/decoys/0000/07_fold_paired_states_Y_b319b9e9da43467596e807f54262cde2.pdb.bz2 /mnt/home/pleung/projects/crispy_shifty/projects/crispy_shifties/07_fold_paired_states_Y/decoys/0000/07_fold_paired_states_Y_fecc3fb836b24903af7b13df546ea87c.pdb.bz2 /mnt/home/pleung/projects/crispy_shifty/projects/crispy_shifties/07_fold_paired_states_Y/decoys/0000/07_fold_paired_states_Y_1d931fe681f0482098275e4fd0749d3e.pdb.bz2 /mnt/home/pleung/projects/crispy_shifty/projects/crispy_shifties/07_fold_paired_states_Y/decoys/0000/07_fold_paired_states_Y_e942561def5b4e4491b3c9d9b2d15f76.pdb.bz2 /mnt/home/pleung/projects/crispy_shifty/projects/crispy_shifties/07_fold_paired_states_Y/decoys/0000/07_fold_paired_states_Y_b4791741764a4a1eb28a624286d32a12.pdb.bz2 /mnt/home/pleung/projects/crispy_shifty/projects/crispy_shifties/07_fold_paired_states_Y/decoys/0000/07_fold_paired_states_Y_261a0384260a4d169bab95c703574b15.pdb.bz2 /mnt/home/pleung/projects/crispy_shifty/projects/crispy_shifties/07_fold_paired_states_Y/decoys/0000/07_fold_paired_states_Y_5ff0e503a5704aa39ed3b721793432e5.pdb.bz2 /mnt/home/pleung/projects/crispy_shifty/projects/crispy_shifties/07_fold_paired_states_Y/decoys/0000/07_fold_paired_states_Y_ea30c907f4d54a0a807e2b3475004032.pdb.bz2 /mnt/home/pleung/projects/crispy_shifty/projects/crispy_shifties/07_fold_paired_states_Y/decoys/0000/07_fold_paired_states_Y_a62763836a9a4543858b45840ede8c70.pdb.bz2 /mnt/home/pleung/projects/crispy_shifty/projects/crispy_shifties/07_fold_paired_states_Y/decoys/0000/07_fold_paired_states_Y_d2efc01301a74800b6f5669dba46434b.pdb.bz2 /mnt/home/pleung/projects/crispy_shifty/projects/crispy_shifties/07_fold_paired_states_Y/decoys/0000/07_fold_paired_states_Y_b60157d157614d5eb8d540ec1cad6cbd.pdb.bz2 /mnt/home/pleung/projects/crispy_shifty/projects/crispy_shifties/07_fold_paired_states_Y/decoys/0000/07_fold_paired_states_Y_d66fa964e5d545feaa20bd131bb372d5.pdb.bz2 /mnt/home/pleung/projects/crispy_shifty/projects/crispy_shifties/07_fold_paired_states_Y/decoys/0000/07_fold_paired_states_Y_c3e8d46a19c3441fb1c02e6ab8cc0f1e.pdb.bz2 /mnt/home/pleung/projects/crispy_shifty/projects/crispy_shifties/07_fold_paired_states_Y/decoys/0000/07_fold_paired_states_Y_f763ddc8862f4716ab73613645b818b5.pdb.bz2 /mnt/home/pleung/projects/crispy_shifty/projects/crispy_shifties/07_fold_paired_states_Y/decoys/0000/07_fold_paired_states_Y_b5c33cfd51c74dfa8259136db8fc02e9.pdb.bz2 /mnt/home/pleung/projects/crispy_shifty/projects/crispy_shifties/07_fold_paired_states_Y/decoys/0000/07_fold_paired_states_Y_00e8a2bb6e3241a78f3688a5727f53ca.pdb.bz2 /mnt/home/pleung/projects/crispy_shifty/projects/crispy_shifties/07_fold_paired_states_Y/decoys/0000/07_fold_paired_states_Y_1e151d604abe47aca2d3b0d2ca8449bd.pdb.bz2 /mnt/home/pleung/projects/crispy_shifty/projects/crispy_shifties/07_fold_paired_states_Y/decoys/0000/07_fold_paired_states_Y_dda3a86db52549d5881ea816b39fe2fa.pdb.bz2 /mnt/home/pleung/projects/crispy_shifty/projects/crispy_shifties/07_fold_paired_states_Y/decoys/0000/07_fold_paired_states_Y_497eff9bccbc466999ac1445d8c72307.pdb.bz2 /mnt/home/pleung/projects/crispy_shifty/projects/crispy_shifties/07_fold_paired_states_Y/decoys/0000/07_fold_paired_states_Y_35a59b20c8a342dab46b094dc085fbbe.pdb.bz2 /mnt/home/pleung/projects/crispy_shifty/projects/crispy_shifties/07_fold_paired_states_Y/decoys/0000/07_fold_paired_states_Y_9e1e91449de0489a95ecd922947c130c.pdb.bz2 /mnt/home/pleung/projects/crispy_shifty/projects/crispy_shifties/07_fold_paired_states_Y/decoys/0000/07_fold_paired_states_Y_45c296059f6a45879dd55ddb1909bdfd.pdb.bz2 /mnt/home/pleung/projects/crispy_shifty/projects/crispy_shifties/07_fold_paired_states_Y/decoys/0000/07_fold_paired_states_Y_9a8528df5cdd405d81a1d825e281a7d8.pdb.bz2 /mnt/home/pleung/projects/crispy_shifty/projects/crispy_shifties/07_fold_paired_states_Y/decoys/0000/07_fold_paired_states_Y_23965c49bce44dc88f1d373832948c11.pdb.bz2 /mnt/home/pleung/projects/crispy_shifty/projects/crispy_shifties/07_fold_paired_states_Y/decoys/0000/07_fold_paired_states_Y_45dce59a18a742b28c5ade3172290005.pdb.bz2 /mnt/home/pleung/projects/crispy_shifty/projects/crispy_shifties/07_fold_paired_states_Y/decoys/0000/07_fold_paired_states_Y_c6f1549c40824fe4a7b71e548ae44237.pdb.bz2 /mnt/home/pleung/projects/crispy_shifty/projects/crispy_shifties/07_fold_paired_states_Y/decoys/0000/07_fold_paired_states_Y_96b04c0f1f834a07a0de2240712e91dd.pdb.bz2 /mnt/home/pleung/projects/crispy_shifty/projects/crispy_shifties/07_fold_paired_states_Y/decoys/0000/07_fold_paired_states_Y_2e6f7255b1344097b82f1ce9d29b9117.pdb.bz2 /mnt/home/pleung/projects/crispy_shifty/projects/crispy_shifties/07_fold_paired_states_Y/decoys/0000/07_fold_paired_states_Y_0c915ad2756c4728ae0e5292ae9aa73e.pdb.bz2 /mnt/home/pleung/projects/crispy_shifty/projects/crispy_shifties/07_fold_paired_states_Y/decoys/0000/07_fold_paired_states_Y_018f599f71d649bda48372a0f63a6337.pdb.bz2 /mnt/home/pleung/projects/crispy_shifty/projects/crispy_shifties/07_fold_paired_states_Y/decoys/0000/07_fold_paired_states_Y_892f31cdce9e4265b491359fc274d050.pdb.bz2 /mnt/home/pleung/projects/crispy_shifty/projects/crispy_shifties/07_fold_paired_states_Y/decoys/0000/07_fold_paired_states_Y_ab90cfa6b99f4df792b36c5afc737631.pdb.bz2 /mnt/home/pleung/projects/crispy_shifty/projects/crispy_shifties/07_fold_paired_states_Y/decoys/0000/07_fold_paired_states_Y_e8d8ae2c9c684a1c927ca22d0cfee18f.pdb.bz2 /mnt/home/pleung/projects/crispy_shifty/projects/crispy_shifties/07_fold_paired_states_Y/decoys/0000/07_fold_paired_states_Y_a2998e9517124945844771da288f5ad0.pdb.bz2 /mnt/home/pleung/projects/crispy_shifty/projects/crispy_shifties/07_fold_paired_states_Y/decoys/0000/07_fold_paired_states_Y_335f541ac8084aaa99ecae31bada0095.pdb.bz2 /mnt/home/pleung/projects/crispy_shifty/projects/crispy_shifties/07_fold_paired_states_Y/decoys/0000/07_fold_paired_states_Y_bd0143a910f14248a19c9c8b4d05a551.pdb.bz2 /mnt/home/pleung/projects/crispy_shifty/projects/crispy_shifties/07_fold_paired_states_Y/decoys/0000/07_fold_paired_states_Y_9bd90f2f947642ec8e45dc9aa29cd095.pdb.bz2 /mnt/home/pleung/projects/crispy_shifty/projects/crispy_shifties/07_fold_paired_states_Y/decoys/0000/07_fold_paired_states_Y_bd53adc3fba34f378958fb65820ff1c5.pdb.bz2 /mnt/home/pleung/projects/crispy_shifty/projects/crispy_shifties/07_fold_paired_states_Y/decoys/0000/07_fold_paired_states_Y_7dfa893d4bee4a4a961c70f127e33c13.pdb.bz2 /mnt/home/pleung/projects/crispy_shifty/projects/crispy_shifties/07_fold_paired_states_Y/decoys/0000/07_fold_paired_states_Y_d44931e5caf743bab11932b80e2659ff.pdb.bz2 /mnt/home/pleung/projects/crispy_shifty/projects/crispy_shifties/07_fold_paired_states_Y/decoys/0000/07_fold_paired_states_Y_63921631bf6e44d19d5c978877f830f7.pdb.bz2 /mnt/home/pleung/projects/crispy_shifty/projects/crispy_shifties/07_fold_paired_states_Y/decoys/0000/07_fold_paired_states_Y_25f37915e4d74cef85291bc417db4118.pdb.bz2 /mnt/home/pleung/projects/crispy_shifty/projects/crispy_shifties/07_fold_paired_states_Y/decoys/0000/07_fold_paired_states_Y_12f06b9607dc4f19b6bd12e99f4514ec.pdb.bz2 /mnt/home/pleung/projects/crispy_shifty/projects/crispy_shifties/07_fold_paired_states_Y/decoys/0000/07_fold_paired_states_Y_28182b7490bb430eae7ccde30a0d2754.pdb.bz2 /mnt/home/pleung/projects/crispy_shifty/projects/crispy_shifties/07_fold_paired_states_Y/decoys/0000/07_fold_paired_states_Y_d9c4a62d284c44258cfa185e6cffddcb.pdb.bz2 /mnt/home/pleung/projects/crispy_shifty/projects/crispy_shifties/07_fold_paired_states_Y/decoys/0000/07_fold_paired_states_Y_5b58abbc36184d88b4039d156541ad04.pdb.bz2 /mnt/home/pleung/projects/crispy_shifty/projects/crispy_shifties/07_fold_paired_states_Y/decoys/0000/07_fold_paired_states_Y_90772bccd98e42bc821ffc28da0aa225.pdb.bz2 /mnt/home/pleung/projects/crispy_shifty/projects/crispy_shifties/07_fold_paired_states_Y/decoys/0000/07_fold_paired_states_Y_f4a09a7f494f49fea4c1535328dc615d.pdb.bz2 /mnt/home/pleung/projects/crispy_shifty/projects/crispy_shifties/07_fold_paired_states_Y/decoys/0000/07_fold_paired_states_Y_c8a9c5ba7e9b490ca72b98e86182cc22.pdb.bz2 /mnt/home/pleung/projects/crispy_shifty/projects/crispy_shifties/07_fold_paired_states_Y/decoys/0000/07_fold_paired_states_Y_a06efe01bba64d39992b001faf05be0c.pdb.bz2 /mnt/home/pleung/projects/crispy_shifty/projects/crispy_shifties/07_fold_paired_states_Y/decoys/0000/07_fold_paired_states_Y_d313e754e58a4005a3a1ab885ac2efbb.pdb.bz2 /mnt/home/pleung/projects/crispy_shifty/projects/crispy_shifties/07_fold_paired_states_Y/decoys/0000/07_fold_paired_states_Y_6061f155ab794b0b83f6f2e19db15473.pdb.bz2 /mnt/home/pleung/projects/crispy_shifty/projects/crispy_shifties/07_fold_paired_states_Y/decoys/0000/07_fold_paired_states_Y_3f2369ac5c0c471b9e686b782f761244.pdb.bz2 /mnt/home/pleung/projects/crispy_shifty/projects/crispy_shifties/07_fold_paired_states_Y/decoys/0000/07_fold_paired_states_Y_410e3919547f4adcaedcf972769a6950.pdb.bz2 /mnt/home/pleung/projects/crispy_shifty/projects/crispy_shifties/07_fold_paired_states_Y/decoys/0000/07_fold_paired_states_Y_56f46e89edfb4d83a2102e142f7c1f56.pdb.bz2 /mnt/home/pleung/projects/crispy_shifty/projects/crispy_shifties/07_fold_paired_states_Y/decoys/0000/07_fold_paired_states_Y_9f89cb16e6bf4b26b7f55722659e0596.pdb.bz2 /mnt/home/pleung/projects/crispy_shifty/projects/crispy_shifties/07_fold_paired_states_Y/decoys/0000/07_fold_paired_states_Y_26c2d2d3350d47e28ea86a272299987a.pdb.bz2 /mnt/home/pleung/projects/crispy_shifty/projects/crispy_shifties/07_fold_paired_states_Y/decoys/0000/07_fold_paired_states_Y_507d748832f242d79d589557ff8f8c3a.pdb.bz2 /mnt/home/pleung/projects/crispy_shifty/projects/crispy_shifties/07_fold_paired_states_Y/decoys/0000/07_fold_paired_states_Y_5ea6d6ffdf7b4d66b4a1d1fd5de60175.pdb.bz2 /mnt/home/pleung/projects/crispy_shifty/projects/crispy_shifties/07_fold_paired_states_Y/decoys/0000/07_fold_paired_states_Y_986cd31fdbfa47e4af3111b964db5e11.pdb.bz2 /mnt/home/pleung/projects/crispy_shifty/projects/crispy_shifties/07_fold_paired_states_Y/decoys/0000/07_fold_paired_states_Y_f78e47f8d1ea4bf59b53425b29726f96.pdb.bz2 /mnt/home/pleung/projects/crispy_shifty/projects/crispy_shifties/07_fold_paired_states_Y/decoys/0000/07_fold_paired_states_Y_5c820da32f73451d847e5e6a3abad86d.pdb.bz2 /mnt/home/pleung/projects/crispy_shifty/projects/crispy_shifties/07_fold_paired_states_Y/decoys/0000/07_fold_paired_states_Y_676b0769624245b9a34e6dfa1dee3ef5.pdb.bz2 /mnt/home/pleung/projects/crispy_shifty/projects/crispy_shifties/07_fold_paired_states_Y/decoys/0000/07_fold_paired_states_Y_c97be179d46f4ec08a34153b42b68b0c.pdb.bz2 /mnt/home/pleung/projects/crispy_shifty/projects/crispy_shifties/07_fold_paired_states_Y/decoys/0000/07_fold_paired_states_Y_981e6b2cb50f41f8aee5bda9c8a50c71.pdb.bz2 /mnt/home/pleung/projects/crispy_shifty/projects/crispy_shifties/07_fold_paired_states_Y/decoys/0000/07_fold_paired_states_Y_08c4e9c1de034b09a59add4f767fe65a.pdb.bz2 /mnt/home/pleung/projects/crispy_shifty/projects/crispy_shifties/07_fold_paired_states_Y/decoys/0000/07_fold_paired_states_Y_e1815ba370b64285ae5000b3d4b16292.pdb.bz2 /mnt/home/pleung/projects/crispy_shifty/projects/crispy_shifties/07_fold_paired_states_Y/decoys/0000/07_fold_paired_states_Y_70cf0471881146ac93054f9082a17639.pdb.bz2 /mnt/home/pleung/projects/crispy_shifty/projects/crispy_shifties/07_fold_paired_states_Y/decoys/0000/07_fold_paired_states_Y_5d84254a968e481dba4592d3e2b63dc6.pdb.bz2 /mnt/home/pleung/projects/crispy_shifty/projects/crispy_shifties/07_fold_paired_states_Y/decoys/0000/07_fold_paired_states_Y_1b757e1311cc4456a7c510042261493d.pdb.bz2 /mnt/home/pleung/projects/crispy_shifty/projects/crispy_shifties/07_fold_paired_states_Y/decoys/0000/07_fold_paired_states_Y_26f9b1b83be1413c87f681543221cac9.pdb.bz2 /mnt/home/pleung/projects/crispy_shifty/projects/crispy_shifties/07_fold_paired_states_Y/decoys/0000/07_fold_paired_states_Y_f76a614bd449489182e987ecb13a9ce0.pdb.bz2 /mnt/home/pleung/projects/crispy_shifty/projects/crispy_shifties/07_fold_paired_states_Y/decoys/0000/07_fold_paired_states_Y_7f3c8d9f96ba4ec68596a11422725cdd.pdb.bz2 /mnt/home/pleung/projects/crispy_shifty/projects/crispy_shifties/07_fold_paired_states_Y/decoys/0000/07_fold_paired_states_Y_a6429f90372e4cc8a85b415188914a55.pdb.bz2 /mnt/home/pleung/projects/crispy_shifty/projects/crispy_shifties/07_fold_paired_states_Y/decoys/0000/07_fold_paired_states_Y_403c1f10d975414e890a0b9b280eaf0a.pdb.bz2 /mnt/home/pleung/projects/crispy_shifty/projects/crispy_shifties/07_fold_paired_states_Y/decoys/0000/07_fold_paired_states_Y_a582f049287b4b598403c0fd82d217b2.pdb.bz2 /mnt/home/pleung/projects/crispy_shifty/projects/crispy_shifties/07_fold_paired_states_Y/decoys/0000/07_fold_paired_states_Y_1d427ef8b2cf43959c61847fef0c9e89.pdb.bz2 /mnt/home/pleung/projects/crispy_shifty/projects/crispy_shifties/07_fold_paired_states_Y/decoys/0000/07_fold_paired_states_Y_10a2d6c9762f4a54ba7c21aecae4b270.pdb.bz2 /mnt/home/pleung/projects/crispy_shifty/projects/crispy_shifties/07_fold_paired_states_Y/decoys/0000/07_fold_paired_states_Y_586163d0e4134e5dbe52efab1a0d67c3.pdb.bz2 /mnt/home/pleung/projects/crispy_shifty/projects/crispy_shifties/07_fold_paired_states_Y/decoys/0000/07_fold_paired_states_Y_4a79bf27aad4406a87f99b23dcbddce7.pdb.bz2 /mnt/home/pleung/projects/crispy_shifty/projects/crispy_shifties/07_fold_paired_states_Y/decoys/0000/07_fold_paired_states_Y_3861ea9bae014dc88c63763f909f0a54.pdb.bz2 /mnt/home/pleung/projects/crispy_shifty/projects/crispy_shifties/07_fold_paired_states_Y/decoys/0000/07_fold_paired_states_Y_8272675c92b84570a0386ad84498991b.pdb.bz2 /mnt/home/pleung/projects/crispy_shifty/projects/crispy_shifties/07_fold_paired_states_Y/decoys/0000/07_fold_paired_states_Y_68c8c93fc0444e4ca2e1fbf1151d944b.pdb.bz2 /mnt/home/pleung/projects/crispy_shifty/projects/crispy_shifties/07_fold_paired_states_Y/decoys/0000/07_fold_paired_states_Y_646b1f3e41244da5ae625cc8c7668de4.pdb.bz2 /mnt/home/pleung/projects/crispy_shifty/projects/crispy_shifties/07_fold_paired_states_Y/decoys/0000/07_fold_paired_states_Y_d086fd3d9e2c490faf45e8c60ff3fb93.pdb.bz2 /mnt/home/pleung/projects/crispy_shifty/projects/crispy_shifties/07_fold_paired_states_Y/decoys/0000/07_fold_paired_states_Y_e7f52917fe494a20a32d89860fd906b6.pdb.bz2 /mnt/home/pleung/projects/crispy_shifty/projects/crispy_shifties/07_fold_paired_states_Y/decoys/0000/07_fold_paired_states_Y_f9fd36225b9441fa92107490d388efb5.pdb.bz2 /mnt/home/pleung/projects/crispy_shifty/projects/crispy_shifties/07_fold_paired_states_Y/decoys/0000/07_fold_paired_states_Y_1da1cf24ec7a4e6ca139ab3dba7752c5.pdb.bz2 /mnt/home/pleung/projects/crispy_shifty/projects/crispy_shifties/07_fold_paired_states_Y/decoys/0000/07_fold_paired_states_Y_d34ed61477704b7eb443640b82c1cc3c.pdb.bz2',\n",
    "#         }\n",
    "# )\n",
    "# for i, tppose in enumerate(t):\n",
    "#     tppose.pose.dump_pdb(f\"{i}.pdb\")"
   ]
  },
  {
   "cell_type": "code",
   "execution_count": null,
   "id": "b5da4354-f5b5-445f-8584-e61e6b7172ad",
   "metadata": {},
   "outputs": [],
   "source": [
    "# tppose.pose.scores"
   ]
  },
  {
   "cell_type": "markdown",
   "id": "633c82d8",
   "metadata": {},
   "source": [
    "### Collect scorefiles of the filtered states and concatenate"
   ]
  },
  {
   "cell_type": "code",
   "execution_count": null,
   "id": "7c959e3b",
   "metadata": {
    "scrolled": true,
    "tags": []
   },
   "outputs": [],
   "source": [
    "# sys.path.insert(0, \"/projects/crispy_shifty\")\n",
    "# from crispy_shifty.utils.io import collect_score_file\n",
    "\n",
    "# simulation_name = \"09_filter_and_order\"\n",
    "# output_path = os.path.join(os.getcwd(), f\"projects/crispy_shifties/{simulation_name}\")\n",
    "\n",
    "# if not os.path.exists(os.path.join(output_path, \"scores.json\")):\n",
    "#     collect_score_file(output_path, \"scores\")"
   ]
  },
  {
   "cell_type": "markdown",
   "id": "a7f489de",
   "metadata": {},
   "source": [
    "### Load resulting concatenated scorefile"
   ]
  },
  {
   "cell_type": "code",
   "execution_count": null,
   "id": "7012378e",
   "metadata": {
    "scrolled": true,
    "tags": []
   },
   "outputs": [],
   "source": [
    "# sys.path.insert(0, \"/projects/crispy_shifty\")\n",
    "# from crispy_shifty.utils.io import parse_scorefile_linear\n",
    "\n",
    "# output_path = os.path.join(os.getcwd(), f\"projects/crispy_shifties/{simulation_name}\")\n",
    "\n",
    "# if not os.path.exists(os.path.join(output_path, \"scores.csv\")):\n",
    "#     scores_df = parse_scorefile_linear(os.path.join(output_path, \"scores.json\"))"
   ]
  },
  {
   "cell_type": "markdown",
   "id": "39910822",
   "metadata": {},
   "source": [
    "### Dump scores_df as a CSV and then reload, for performance reasons"
   ]
  },
  {
   "cell_type": "code",
   "execution_count": null,
   "id": "e9cef517",
   "metadata": {},
   "outputs": [],
   "source": [
    "# if not os.path.exists(os.path.join(output_path, \"scores.csv\")):\n",
    "#     scores_df.to_csv(os.path.join(output_path, \"scores.csv\"))\n",
    "\n",
    "# scores_df = pd.read_csv(os.path.join(output_path, \"scores.csv\"), index_col=\"Unnamed: 0\")"
   ]
  },
  {
   "cell_type": "markdown",
   "id": "aaf5ee62-c19d-4693-9fc9-ee4961345992",
   "metadata": {},
   "source": [
    "### Setup for plotting"
   ]
  },
  {
   "cell_type": "code",
   "execution_count": null,
   "id": "61ad01f9-dfd1-411e-bbbc-a893f6376140",
   "metadata": {},
   "outputs": [],
   "source": [
    "# sns.set(\n",
    "#     context=\"talk\",\n",
    "#     font_scale=1,  # make the font larger; default is pretty small\n",
    "#     style=\"ticks\",  # make the background white with black lines\n",
    "#     palette=\"colorblind\",  # a color palette that is colorblind friendly!\n",
    "# )"
   ]
  },
  {
   "cell_type": "markdown",
   "id": "1ef2aaaf-20b7-4d99-a897-f64ef0b48c15",
   "metadata": {},
   "source": [
    "### Data exploration\n",
    "Gonna remove the Rosetta sfxn scoreterms for now"
   ]
  },
  {
   "cell_type": "code",
   "execution_count": null,
   "id": "43bd5e87-df6a-4cad-929c-2eafa7bdef34",
   "metadata": {},
   "outputs": [],
   "source": [
    "# rosetta = scores_df[scores_df[\"designed_by\"] == \"rosetta\"]\n",
    "# mpnn = scores_df[scores_df[\"designed_by\"] == \"mpnn\"].sample(1000, random_state=0)\n",
    "# sample_df = pd.concat([rosetta, mpnn])"
   ]
  },
  {
   "cell_type": "markdown",
   "id": "88575adc-558b-4960-819a-2980a554673d",
   "metadata": {},
   "source": [
    "### Remove score terms we don't care about"
   ]
  },
  {
   "cell_type": "code",
   "execution_count": null,
   "id": "b8098895-30fa-4c2e-83f7-bf51213787ff",
   "metadata": {},
   "outputs": [],
   "source": [
    "# from crispy_shifty.protocols.design import beta_nov16_terms\n",
    "\n",
    "# sample_df = sample_df[\n",
    "#     [term for term in sample_df.columns if term not in beta_nov16_terms]\n",
    "# ]\n",
    "# print(len(sample_df))\n",
    "# print(list(sample_df.columns))"
   ]
  },
  {
   "cell_type": "code",
   "execution_count": null,
   "id": "626c0b6f-5dc0-43ab-bc89-f2fdcbbdd6ff",
   "metadata": {},
   "outputs": [],
   "source": [
    "# from crispy_shifty.utils.plotting import histplot_df, pairplot_df"
   ]
  },
  {
   "cell_type": "markdown",
   "id": "9eac7454-a007-461a-9ed3-9b3e4fb8c9b7",
   "metadata": {},
   "source": [
    "### Plot Y Rosetta metrics"
   ]
  },
  {
   "cell_type": "code",
   "execution_count": null,
   "id": "720032de-b922-4520-9de4-2f63f8c3d325",
   "metadata": {},
   "outputs": [],
   "source": [
    "# avoid = [\"Y_model\", \"Y_recycles\", \"Y_seed\", \"Y_type\"]\n",
    "# cols = [col for col in scores_df.columns if \"Y_\" in col and col not in avoid]\n",
    "\n",
    "# the_fig = histplot_df(\n",
    "#     df=sample_df,\n",
    "#     cols=cols,\n",
    "#     hue=\"designed_by\",\n",
    "#     stat=\"proportion\",\n",
    "#     common_norm=False,\n",
    "#     bins=20,\n",
    "# )\n",
    "# plt.savefig(os.path.join(output_path, \"Y_all_scores.png\"))"
   ]
  },
  {
   "cell_type": "code",
   "execution_count": null,
   "id": "fc9a63fd-07a9-4092-91d7-e5423574a522",
   "metadata": {},
   "outputs": [],
   "source": [
    "# cols = [col for col in scores_df.columns if \"A_\" in col and \"final_seq\" not in col]\n",
    "\n",
    "# the_fig = histplot_df(\n",
    "#     df=sample_df,\n",
    "#     cols=cols,\n",
    "#     hue=\"designed_by\",\n",
    "#     stat=\"proportion\",\n",
    "#     common_norm=False,\n",
    "#     bins=20,\n",
    "# )\n",
    "# plt.savefig(os.path.join(output_path, \"A_all_scores.png\"))"
   ]
  },
  {
   "cell_type": "code",
   "execution_count": null,
   "id": "7d744c24-0e06-4e03-8f94-42a1022c4b6c",
   "metadata": {},
   "outputs": [],
   "source": [
    "# cols = [col for col in scores_df.columns if \"B_\" in col and \"final_seq\" not in col]\n",
    "\n",
    "# the_fig = histplot_df(\n",
    "#     df=sample_df,\n",
    "#     cols=cols,\n",
    "#     hue=\"designed_by\",\n",
    "#     stat=\"proportion\",\n",
    "#     common_norm=False,\n",
    "#     bins=20,\n",
    "# )\n",
    "# plt.savefig(os.path.join(output_path, \"B_all_scores.png\"))"
   ]
  },
  {
   "cell_type": "code",
   "execution_count": null,
   "id": "3e8ef3c8-80c2-4ce3-b35d-1f6ff76ef584",
   "metadata": {},
   "outputs": [],
   "source": [
    "# cols = [col for col in scores_df.columns if \"C_\" in col and \"final_seq\" not in col]\n",
    "\n",
    "# the_fig = histplot_df(\n",
    "#     df=sample_df,\n",
    "#     cols=cols,\n",
    "#     hue=\"designed_by\",\n",
    "#     stat=\"proportion\",\n",
    "#     common_norm=False,\n",
    "#     bins=20,\n",
    "# )\n",
    "# plt.savefig(os.path.join(output_path, \"C_all_scores.png\"))"
   ]
  },
  {
   "cell_type": "code",
   "execution_count": null,
   "id": "2dc98e42-bedf-4537-9afa-c5afe9eb4cdd",
   "metadata": {},
   "outputs": [],
   "source": [
    "# sample_df[\"delta_sap_XY\"] = sample_df[\"Y_sap\"] - (\n",
    "#     sample_df[\"C_sap\"] + sample_df[\"B_sap\"]\n",
    "# )\n",
    "# sample_df[\"delta_sap_AC\"] = sample_df[\"C_sap\"] - sample_df[\"A_sap\"]\n",
    "\n",
    "\n",
    "# cols = [col for col in scores_df.columns if \"sap\" in col] + [\n",
    "#     \"delta_sap_XY\",\n",
    "#     \"delta_sap_AC\",\n",
    "# ]\n",
    "\n",
    "\n",
    "# the_fig = histplot_df(\n",
    "#     df=sample_df,\n",
    "#     cols=cols,\n",
    "#     hue=\"designed_by\",\n",
    "#     stat=\"proportion\",\n",
    "#     common_norm=False,\n",
    "#     bins=20,\n",
    "# )\n",
    "# plt.savefig(os.path.join(output_path, \"sap_all_scores.png\"))"
   ]
  },
  {
   "cell_type": "code",
   "execution_count": null,
   "id": "5b8924a5-3191-4c77-a4bf-857e7521a6bd",
   "metadata": {},
   "outputs": [],
   "source": [
    "# the_fig = pairplot_df(\n",
    "#     df=sample_df,\n",
    "#     cols=cols,\n",
    "#     hue=\"designed_by\",\n",
    "# )\n",
    "# plt.savefig(os.path.join(output_path, \"sap_all_scores_paired.png\"))"
   ]
  },
  {
   "cell_type": "code",
   "execution_count": null,
   "id": "7b3e9d3d-5b5f-4d7a-94a0-d466f7078737",
   "metadata": {},
   "outputs": [],
   "source": [
    "# sample_df[\"delta_total_score_XY\"] = sample_df[\"Y_total_score\"] - (\n",
    "#     sample_df[\"C_total_score\"] + sample_df[\"B_total_score\"]\n",
    "# )\n",
    "# sample_df[\"delta_total_score_AC\"] = (\n",
    "#     sample_df[\"C_total_score\"] - sample_df[\"A_total_score\"]\n",
    "# )\n",
    "# avoid = [\"Y_pTMscore\", \"pTMscore\", \"score\", \"score_per_res\", \"score_per_res_x\"]\n",
    "# cols = [col for col in scores_df.columns if \"score\" in col and col not in avoid] + [\n",
    "#     \"delta_total_score_XY\",\n",
    "#     \"delta_total_score_AC\",\n",
    "# ]\n",
    "\n",
    "# the_fig = histplot_df(\n",
    "#     df=sample_df,\n",
    "#     cols=cols,\n",
    "#     hue=\"designed_by\",\n",
    "#     stat=\"proportion\",\n",
    "#     common_norm=False,\n",
    "#     bins=20,\n",
    "# )\n",
    "# plt.savefig(os.path.join(output_path, \"rosetta_all_scores.png\"))"
   ]
  },
  {
   "cell_type": "code",
   "execution_count": null,
   "id": "dc91ea22-428b-4763-a4d2-528990efd656",
   "metadata": {},
   "outputs": [],
   "source": [
    "# cols = [col for col in scores_df.columns if \"parent_\" in col or \"_parent\" in col]\n",
    "\n",
    "# the_fig = histplot_df(\n",
    "#     df=sample_df,\n",
    "#     cols=cols,\n",
    "#     hue=\"designed_by\",\n",
    "#     stat=\"proportion\",\n",
    "#     common_norm=False,\n",
    "#     bins=20,\n",
    "# )\n",
    "# plt.savefig(os.path.join(output_path, \"parent_all_scores.png\"))"
   ]
  },
  {
   "cell_type": "markdown",
   "id": "886eb7e1-e9c1-467c-bc44-5da73330fcce",
   "metadata": {},
   "source": [
    "### Filter the whole df"
   ]
  },
  {
   "cell_type": "code",
   "execution_count": null,
   "id": "0d2d5a58-1679-4acc-ad76-791dab525337",
   "metadata": {},
   "outputs": [],
   "source": [
    "# scores_df[\"delta_sap_XY\"] = scores_df[\"Y_sap\"] - (\n",
    "#     scores_df[\"C_sap\"] + scores_df[\"B_sap\"]\n",
    "# )\n",
    "# scores_df[\"delta_sap_AC\"] = scores_df[\"C_sap\"] - scores_df[\"A_sap\"]\n",
    "\n",
    "# scores_df[\"delta_total_score_XY\"] = scores_df[\"Y_total_score\"] - (\n",
    "#     scores_df[\"C_total_score\"] + scores_df[\"B_total_score\"]\n",
    "# )\n",
    "# scores_df[\"delta_total_score_AC\"] = (\n",
    "#     scores_df[\"C_total_score\"] - scores_df[\"A_total_score\"]\n",
    "# )\n",
    "# query = \" \".join(\n",
    "#     [\n",
    "#         \"delta_total_score_XY < 0\",\n",
    "#         \"and delta_total_score_AC < 0\",\n",
    "#         \"and delta_sap_XY < 0\",\n",
    "#         \"and delta_sap_AC < 0\",\n",
    "#         \"and B_sap < 50\",\n",
    "#         \"and C_sap < 50\",\n",
    "#         \"and Y_sap < 80\",\n",
    "#     ]\n",
    "# )\n",
    "\n",
    "# filtered = scores_df.query(query)\n",
    "# len(filtered)"
   ]
  },
  {
   "cell_type": "code",
   "execution_count": null,
   "id": "2f8be66c-9758-4067-99f2-75bcc309939e",
   "metadata": {},
   "outputs": [],
   "source": [
    "# print(list(sorted(set([v for v in filtered.state.values if len(v) == 17]))))"
   ]
  },
  {
   "cell_type": "markdown",
   "id": "ae5087c0-e42a-4ce4-a762-b414f1047ef0",
   "metadata": {},
   "source": [
    "### Get a set of 24 by getting at least one of each state and maxing some metrics"
   ]
  },
  {
   "cell_type": "code",
   "execution_count": null,
   "id": "f113b917-5672-44f3-9a14-8e8f2c24e243",
   "metadata": {},
   "outputs": [],
   "source": [
    "# to_order = []\n",
    "\n",
    "# for state in sorted(list(set(filtered.state.values))):\n",
    "#     if len(state) != 17:\n",
    "#         continue\n",
    "#     else:\n",
    "#         subset_df = filtered.query(f\"state == @state\")\n",
    "#         # if len is less than or equal to 3 take all,\n",
    "#         if len(subset_df) <= 3:\n",
    "#             to_order.extend(list(subset_df.index))\n",
    "#         # else, take min sap_C, min delta_sap_XY, and min delta_total_score_XY\n",
    "#         else:\n",
    "#             subset_df.sort_values(\n",
    "#                 \"C_sap\", axis=0, ascending=True, ignore_index=False, inplace=True\n",
    "#             )\n",
    "#             to_order.append(list(subset_df.index)[0])\n",
    "#             subset_df.sort_values(\n",
    "#                 \"delta_sap_XY\", axis=0, ascending=True, ignore_index=False, inplace=True\n",
    "#             )\n",
    "#             # check to see if it was already added\n",
    "#             for i in range(len(subset_df)):\n",
    "#                 if list(subset_df.index)[i] not in to_order:\n",
    "#                     to_order.append(list(subset_df.index)[i])\n",
    "#                     break\n",
    "#                 else:\n",
    "#                     continue\n",
    "#             subset_df.sort_values(\n",
    "#                 \"delta_total_score_XY\",\n",
    "#                 axis=0,\n",
    "#                 ascending=True,\n",
    "#                 ignore_index=False,\n",
    "#                 inplace=True,\n",
    "#             )\n",
    "#             # check to see if it was already added\n",
    "#             for i in range(len(subset_df)):\n",
    "#                 if list(subset_df.index)[i] not in to_order:\n",
    "#                     to_order.append(list(subset_df.index)[i])\n",
    "#                     break\n",
    "#                 else:\n",
    "#                     continue\n",
    "# # add 3 random ones to get to 24\n",
    "# random_dhr_df = filtered.query(\"scaffold_type == 'tj_DHRs_final'\").sample(\n",
    "#     3, random_state=0\n",
    "# )\n",
    "# to_order.extend(list(random_dhr_df.index))"
   ]
  },
  {
   "cell_type": "code",
   "execution_count": null,
   "id": "befb2f74-4ac1-46a3-b09d-ea6997595b89",
   "metadata": {},
   "outputs": [],
   "source": [
    "print(len(to_order))\n",
    "print(len(set(to_order)))"
   ]
  },
  {
   "cell_type": "code",
   "execution_count": null,
   "id": "bfa5780a-029f-404d-aa6e-c0b8441ac685",
   "metadata": {},
   "outputs": [],
   "source": [
    "to_order_df = scores_df.loc[to_order]"
   ]
  },
  {
   "cell_type": "code",
   "execution_count": null,
   "id": "1f94813c-8097-4de9-9186-4439104b5ff3",
   "metadata": {},
   "outputs": [],
   "source": [
    "# to_order_df.delta_total_score_XY.values\n",
    "to_order_df.columns"
   ]
  },
  {
   "cell_type": "code",
   "execution_count": null,
   "id": "b9e7303b-2af4-47f5-8576-83729dd3e591",
   "metadata": {},
   "outputs": [],
   "source": [
    "def seq2chargeA(row: pd.Series, chain: str) -> float:\n",
    "    from Bio.SeqUtils.ProtParam import ProteinAnalysis\n",
    "\n",
    "    seq = row[f\"{chain}_final_seq\"]\n",
    "    analysis = ProteinAnalysis(seq)\n",
    "    return analysis.charge_at_pH(7)\n",
    "\n",
    "\n",
    "to_order_df[\"A_charge\"] = to_order_df.progress_apply(seq2chargeA, chain=\"A\", axis=1)\n",
    "to_order_df[\"B_charge\"] = to_order_df.progress_apply(seq2chargeA, chain=\"B\", axis=1)"
   ]
  },
  {
   "cell_type": "code",
   "execution_count": null,
   "id": "a1e99793-3b78-4d6d-8610-24344a94bb35",
   "metadata": {},
   "outputs": [],
   "source": [
    "the_fig = sns.histplot(\n",
    "    x=to_order_df.A_charge.values, y=to_order_df.B_charge.values, cbar=True\n",
    ")"
   ]
  },
  {
   "cell_type": "markdown",
   "id": "247ee5ca",
   "metadata": {},
   "source": [
    "### Save a list of outputs"
   ]
  },
  {
   "cell_type": "code",
   "execution_count": null,
   "id": "bf4ed92a",
   "metadata": {},
   "outputs": [],
   "source": [
    "simulation_name = \"09_filter_and_order\"\n",
    "output_path = os.path.join(os.getcwd(), f\"projects/crispy_shifties/{simulation_name}\")\n",
    "\n",
    "with open(os.path.join(output_path, \"filtered_orderable.list\"), \"w\") as f:\n",
    "    for path in tqdm(to_order):\n",
    "        print(path, file=f)"
   ]
  },
  {
   "cell_type": "markdown",
   "id": "00eec64a-9838-4065-bb1f-688167bf448c",
   "metadata": {},
   "source": [
    "### Make an order with `domesticator`\n",
    "TODO do this better in production"
   ]
  },
  {
   "cell_type": "code",
   "execution_count": null,
   "id": "e727f22d-fdb5-4f91-94e0-bd7fcc399074",
   "metadata": {},
   "outputs": [],
   "source": [
    "def cmd_no_stderr(command, wait=True):\n",
    "    \"\"\"@nrbennet @bcov @pleung\"\"\"\n",
    "\n",
    "    import subprocess\n",
    "\n",
    "    the_command = subprocess.Popen(\n",
    "        command,\n",
    "        shell=True,\n",
    "        stdout=subprocess.PIPE,\n",
    "        stderr=subprocess.PIPE,\n",
    "        universal_newlines=True,\n",
    "    )\n",
    "    if not wait:\n",
    "        return\n",
    "    the_stuff = the_command.communicate()\n",
    "    return str(the_stuff[0])\n",
    "\n",
    "\n",
    "def capture_1shot_domesticator(stdout: str) -> str:\n",
    "    \"\"\"split input into lines.\n",
    "    loop once through discarding lines up to ones including >.\n",
    "    return joined output\"\"\"\n",
    "    sequence = []\n",
    "    append = False\n",
    "    for line in stdout.splitlines():\n",
    "        if append:\n",
    "            sequence.append(line)\n",
    "        else:\n",
    "            pass\n",
    "        if \">unknown_seq1\" in line:\n",
    "            append = True\n",
    "        else:\n",
    "            pass\n",
    "    to_return = \"\".join(sequence)\n",
    "    return to_return"
   ]
  },
  {
   "cell_type": "markdown",
   "id": "3490f170-4383-41f4-9602-a93b8da620eb",
   "metadata": {},
   "source": [
    "### Reindex `to_order_df` and make sure it is set to the same order as the ordered sequences\n",
    "previously had an issue where the order got mixed up due to the non-deterministic `set()` method in python"
   ]
  },
  {
   "cell_type": "code",
   "execution_count": null,
   "id": "bf0a5f77-318d-44ce-84ba-8815ac9df3a2",
   "metadata": {},
   "outputs": [],
   "source": [
    "order = []\n",
    "with open(os.path.join(output_path, \"filtered_orderable.list\"), \"r\") as f:\n",
    "    for line in f:\n",
    "        order.append(line.rstrip())\n",
    "to_order_df = to_order_df.reindex(order)\n",
    "ids = [f\"cs_{i}\" for i in range(200, 224)]\n",
    "to_order_df[\"id\"] = ids\n",
    "to_order_df.head()"
   ]
  },
  {
   "cell_type": "markdown",
   "id": "f3f6ea20-534a-40f7-8a0e-3290050602e7",
   "metadata": {},
   "source": [
    "### Reverse translate"
   ]
  },
  {
   "cell_type": "code",
   "execution_count": null,
   "id": "f940a586-73e1-46bc-8492-b27bf74eabef",
   "metadata": {},
   "outputs": [],
   "source": [
    "prefix = \"atactacggtctcaagga\"  # for scarless cloning\n",
    "suffix = \"GGttcccgagaccgtaatgc\"  # for scarless cloning\n",
    "long_prefix = \"TTTAGCGCGCCGCCTGACGGATGATGCGCGAAGAAATTGAACGCCTGGCGCGCGAATTCGTGAACGTACCGAAGATGAAGAGGTGCGCCGACatactacggtctcaagga\"\n",
    "long_suffix = \"GGttcccgagaccgtaatgcAAATGAAAGAGGAAATTCGCCGCCTGGCGGAAGAACTGGAAAAGAAAACGAAAGATGAAGAGGTTAAAGAATTAGCCCGCAAAGCGGAAAGA\"\n",
    "with open(os.path.join(output_path, \"cs_dna.list\"), \"w+\") as f:\n",
    "    for chain in tqdm([\"A_final_seq\", \"B_final_seq\"]):\n",
    "        for index, row in tqdm(to_order_df.iterrows()):\n",
    "            protein = row[chain]\n",
    "            id_ = row[\"id\"]\n",
    "            full_id = id_ + chain[0]\n",
    "            fully_domesticated = capture_1shot_domesticator(\n",
    "                cmd_no_stderr(\n",
    "                    f\"./scripts/domesticator.py {protein} --avoid_restriction_sites BsaI XhoI NdeI --avoid_patterns AGGAGG GCTGGTGG ATCTGTT GGRGGT --avoid_kmers 8 --avoid_kmers_boost 10 --species e_coli\"\n",
    "                )\n",
    "            )\n",
    "            if \"A\" in chain:\n",
    "                f.write(full_id + \"\\t\" + prefix + fully_domesticated + suffix + \"\\n\")\n",
    "            else:\n",
    "                f.write(\n",
    "                    full_id\n",
    "                    + \"\\t\"\n",
    "                    + long_prefix\n",
    "                    + fully_domesticated\n",
    "                    + long_suffix\n",
    "                    + \"\\n\"\n",
    "                )"
   ]
  },
  {
   "cell_type": "markdown",
   "id": "523250aa-d98c-4e72-8608-91a945b0b153",
   "metadata": {
    "tags": []
   },
   "source": [
    "### Dump PDBs and resurface peptides\n",
    "only resurface the best ones"
   ]
  },
  {
   "cell_type": "code",
   "execution_count": null,
   "id": "39aed315-9386-4b1b-8ca4-7ce6cabe2815",
   "metadata": {
    "scrolled": true,
    "tags": []
   },
   "outputs": [],
   "source": [
    "import shutil\n",
    "import pyrosetta\n",
    "from crispy_shifty.protocols.cleaning import (\n",
    "    path_to_pose_or_ppose,\n",
    "    trim_and_resurface_peptide,\n",
    ")\n",
    "\n",
    "pyrosetta.init(\"-corrections::beta_nov16 true -out::level 200\")\n",
    "\n",
    "simulation_name = \"09_filter_and_order\"\n",
    "output_path = os.path.join(os.getcwd(), f\"projects/crispy_shifties/{simulation_name}\")\n",
    "pdbs_path = os.path.join(output_path, \"pdbs\")\n",
    "os.makedirs(pdbs_path, exist_ok=True)\n",
    "\n",
    "new_chBs = {}\n",
    "\n",
    "for i, r in tqdm(to_order_df.iterrows(), total=to_order_df.shape[0]):\n",
    "    pose = next(\n",
    "        path_to_pose_or_ppose(path=r.name, cluster_scores=True, pack_result=False)\n",
    "    )\n",
    "    pose.dump_pdb(os.path.join(pdbs_path, f\"{r.id}.pdb\"))\n",
    "    resurf_1 = trim_and_resurface_peptide(pose.clone())\n",
    "    resurf_1.dump_pdb(os.path.join(pdbs_path, f\"{r.id}r1.pdb\"))\n",
    "    new_chBs[r.id] = resurf_1.scores[\"B_final_seq\"]"
   ]
  },
  {
   "cell_type": "markdown",
   "id": "4ed7395a-88de-4237-b601-a7fb0bc45343",
   "metadata": {},
   "source": [
    "### Add resurfaced peptide sequences to df"
   ]
  },
  {
   "cell_type": "code",
   "execution_count": null,
   "id": "98bde455-02e1-4886-a505-e5a5ded50a6f",
   "metadata": {},
   "outputs": [],
   "source": [
    "def add_resurfaced_chB_to_df(row: pd.Series) -> str:\n",
    "    seq = new_chBs[row.id]\n",
    "    return seq\n",
    "\n",
    "\n",
    "to_order_df[\"B_final_seq_r1\"] = to_order_df.progress_apply(\n",
    "    add_resurfaced_chB_to_df, axis=1\n",
    ")"
   ]
  },
  {
   "cell_type": "markdown",
   "id": "11ab9798-e753-47fd-9bf5-26022f0e2b5a",
   "metadata": {},
   "source": [
    "### Reorder the new chBs"
   ]
  },
  {
   "cell_type": "code",
   "execution_count": null,
   "id": "0b1d25f1-ae70-464c-bc8e-113f2c0ec931",
   "metadata": {},
   "outputs": [],
   "source": [
    "from crispy_shifty.utils.ordering import tag_256\n",
    "\n",
    "n_term_pad, c_term_pad = tag_256[:128], tag_256[128:]\n",
    "prefix = \"atactacggtctcaagga\"  # for scarless cloning\n",
    "suffix = \"GGttcccgagaccgtaatgc\"  # for scarless cloning\n",
    "long_prefix = n_term_pad + prefix\n",
    "long_suffix = suffix + c_term_pad\n",
    "with open(os.path.join(output_path, \"cs_dna_resurf.list\"), \"w+\") as f:\n",
    "    for index, row in tqdm(to_order_df.iterrows(), total=to_order_df.shape[0]):\n",
    "        protein = row[\"B_final_seq_r1\"]\n",
    "        id_ = row[\"id\"]\n",
    "        full_id = id_ + \"Br1\"\n",
    "        fully_domesticated = capture_1shot_domesticator(\n",
    "            cmd_no_stderr(\n",
    "                f\"./scripts/domesticator.py SGGS{protein}SGGS \\\n",
    "                --avoid_restriction_sites BsaI XhoI NdeI \\\n",
    "                --avoid_patterns AGGAGG GCTGGTGG ATCTGTT GGRGGT \\\n",
    "                --avoid_kmers 8 --avoid_kmers_boost 10 --species e_coli\"\n",
    "            )\n",
    "        )\n",
    "        f.write(full_id + \"\\t\" + long_prefix + fully_domesticated + long_suffix + \"\\n\")"
   ]
  },
  {
   "cell_type": "markdown",
   "id": "80654821-a5fe-4db3-a210-5caf8ad6df68",
   "metadata": {},
   "source": [
    "### Dump the `to_order_df` as a final CSV"
   ]
  },
  {
   "cell_type": "code",
   "execution_count": null,
   "id": "989d2fe3-804e-4275-86ff-dcf20050b57b",
   "metadata": {
    "tags": []
   },
   "outputs": [],
   "source": [
    "if not os.path.exists(os.path.join(output_path, \"final_order_scores.csv\")):\n",
    "    to_order_df.to_csv(\n",
    "        os.path.join(output_path, \"final_order_scores.csv\"), index_label=\"pdb_path\"\n",
    "    )"
   ]
  },
  {
   "cell_type": "markdown",
   "id": "99e34a95-02d7-48f9-9331-56ac991e8ebd",
   "metadata": {
    "tags": []
   },
   "source": [
    "### Dump PDBs and resurface peptides\n",
    "only resurface the best ones"
   ]
  },
  {
   "cell_type": "code",
   "execution_count": null,
   "id": "6a73c00b-0efb-4d09-95c1-1b7998902d43",
   "metadata": {
    "scrolled": true,
    "tags": []
   },
   "outputs": [],
   "source": [
    "import shutil\n",
    "import pyrosetta\n",
    "from crispy_shifty.protocols.cleaning import (\n",
    "    path_to_pose_or_ppose,\n",
    "    trim_and_resurface_peptide,\n",
    ")\n",
    "\n",
    "pyrosetta.init(\"-corrections::beta_nov16 true -out::level 200\")\n",
    "\n",
    "simulation_name = \"09_filter_and_order\"\n",
    "output_path = os.path.join(os.getcwd(), f\"projects/crispy_shifties/{simulation_name}\")\n",
    "pdbs_path = os.path.join(output_path, \"pdbs\")\n",
    "os.makedirs(pdbs_path, exist_ok=True)\n",
    "\n",
    "new_chBs = {}\n",
    "\n",
    "for i, r in tqdm(to_order_df.iterrows(), total=to_order_df.shape[0]):\n",
    "    pose = next(\n",
    "        path_to_pose_or_ppose(path=r.name, cluster_scores=True, pack_result=False)\n",
    "    )\n",
    "    resurf_2 = trim_and_resurface_peptide(pose.clone())\n",
    "    resurf_2.dump_pdb(os.path.join(pdbs_path, f\"{r.id}r2.pdb\"))\n",
    "    new_chBs[r.id] = resurf_2.scores[\"B_final_seq\"]"
   ]
  },
  {
   "cell_type": "markdown",
   "id": "75f933d6-5dba-400c-b53f-553393eaffa3",
   "metadata": {},
   "source": [
    "### Add resurfaced peptide sequences to df"
   ]
  },
  {
   "cell_type": "code",
   "execution_count": null,
   "id": "16a260f6-f328-4e91-9ac7-56c4911b65c4",
   "metadata": {},
   "outputs": [],
   "source": [
    "def add_resurfaced_chB_to_df(row: pd.Series) -> str:\n",
    "    seq = new_chBs[row.id]\n",
    "    return seq\n",
    "\n",
    "\n",
    "to_order_df[\"B_final_seq_r2\"] = to_order_df.progress_apply(\n",
    "    add_resurfaced_chB_to_df, axis=1\n",
    ")"
   ]
  },
  {
   "cell_type": "markdown",
   "id": "c2ba6c45-cdfd-481c-8b6e-f4ebfed2b55a",
   "metadata": {},
   "source": [
    "### Reorder the new chBs with `JohnBercow.py`"
   ]
  },
  {
   "cell_type": "code",
   "execution_count": null,
   "id": "0f8c8238-f3e3-4908-97fc-3a3afc29cec7",
   "metadata": {},
   "outputs": [],
   "source": [
    "br2_df = pd.DataFrame(to_order_df[[\"B_final_seq_r2\", \"id\"]])\n",
    "order_fasta = os.path.join(output_path, \"20220413_order.fasta\")\n",
    "if not os.path.exists(order_fasta):\n",
    "    with open(order_fasta, \"w\") as f:\n",
    "        for index, row in tqdm(br2_df.iterrows(), total=br2_df.shape[0]):\n",
    "            protein = \"SGGS\" + row[\"B_final_seq_r2\"] + \"SGGS\"\n",
    "            id_ = row[\"id\"]\n",
    "            full_id = id_ + \"Br2\"\n",
    "            print(f\">{full_id}\", file=f)\n",
    "            print(protein, file=f)"
   ]
  },
  {
   "cell_type": "markdown",
   "id": "ab5a8c18-d958-4eaf-a23b-bd9eeef4eb77",
   "metadata": {},
   "source": [
    "### Dump the `to_order_df` as a final CSV"
   ]
  },
  {
   "cell_type": "code",
   "execution_count": null,
   "id": "45b4bdb5-7dfe-4fb1-ad96-437638b270ec",
   "metadata": {
    "tags": []
   },
   "outputs": [],
   "source": [
    "if not os.path.exists(os.path.join(output_path, \"final_order_Br2_scores.csv\")):\n",
    "    to_order_df.to_csv(\n",
    "        os.path.join(output_path, \"final_order_scores.csv\"), index_label=\"pdb_path\"\n",
    "    )"
   ]
  },
  {
   "cell_type": "markdown",
   "id": "c0c50c87",
   "metadata": {},
   "source": [
    "### Prototyping blocks"
   ]
  },
  {
   "cell_type": "markdown",
   "id": "b8cc0bf9",
   "metadata": {},
   "source": [
    "test `filter_paired_state`"
   ]
  },
  {
   "cell_type": "code",
   "execution_count": null,
   "id": "f19db1f0",
   "metadata": {},
   "outputs": [],
   "source": [
    "# %%time \n",
    "# import pyrosetta\n",
    "\n",
    "# pyrosetta.init(\n",
    "    # \"-corrections::beta_nov16 -indexed_structure_store:fragment_store /net/databases/VALL_clustered/connect_chains/ss_grouped_vall_helix_shortLoop.h5\"\n",
    "# )\n",
    "\n",
    "\n",
    "# sys.path.insert(0, \"/projects/crispy_shifty/\")\n",
    "# from crispy_shifty.protocols.msd import filter_paired_state\n",
    "\n",
    "# t = filter_paired_state(\n",
    "#         None,\n",
    "#         **{\n",
    "#             'pdb_path': '/mnt/home/pleung/projects/crispy_shifty/projects/crispy_shifties/07_fold_paired_states_Y/decoys/0000/07_fold_paired_states_Y_760c687ae53646b59bd36bbe91998593.pdb.bz2 /mnt/home/pleung/projects/crispy_shifty/projects/crispy_shifties/07_fold_paired_states_Y/decoys/0000/07_fold_paired_states_Y_2118b14f45e849ac99034c2e36a8230f.pdb.bz2 /mnt/home/pleung/projects/crispy_shifty/projects/crispy_shifties/07_fold_paired_states_Y/decoys/0000/07_fold_paired_states_Y_806db75a0f8949119a54d50ee8c28576.pdb.bz2 /mnt/home/pleung/projects/crispy_shifty/projects/crispy_shifties/07_fold_paired_states_Y/decoys/0000/07_fold_paired_states_Y_bf4fc1710acb4037917254ce283a7223.pdb.bz2 /mnt/home/pleung/projects/crispy_shifty/projects/crispy_shifties/07_fold_paired_states_Y/decoys/0000/07_fold_paired_states_Y_1984895bd0d744e7b7c82446e07b8189.pdb.bz2 /mnt/home/pleung/projects/crispy_shifty/projects/crispy_shifties/07_fold_paired_states_Y/decoys/0000/07_fold_paired_states_Y_ff38fa4457a84da1b0d95850f99b6f10.pdb.bz2 /mnt/home/pleung/projects/crispy_shifty/projects/crispy_shifties/07_fold_paired_states_Y/decoys/0000/07_fold_paired_states_Y_c712e867dda84adab431812f7d1ed004.pdb.bz2 /mnt/home/pleung/projects/crispy_shifty/projects/crispy_shifties/07_fold_paired_states_Y/decoys/0000/07_fold_paired_states_Y_5b83ffb2312944f084a5557ed82ed5d9.pdb.bz2 /mnt/home/pleung/projects/crispy_shifty/projects/crispy_shifties/07_fold_paired_states_Y/decoys/0000/07_fold_paired_states_Y_b319b9e9da43467596e807f54262cde2.pdb.bz2 /mnt/home/pleung/projects/crispy_shifty/projects/crispy_shifties/07_fold_paired_states_Y/decoys/0000/07_fold_paired_states_Y_fecc3fb836b24903af7b13df546ea87c.pdb.bz2 /mnt/home/pleung/projects/crispy_shifty/projects/crispy_shifties/07_fold_paired_states_Y/decoys/0000/07_fold_paired_states_Y_1d931fe681f0482098275e4fd0749d3e.pdb.bz2 /mnt/home/pleung/projects/crispy_shifty/projects/crispy_shifties/07_fold_paired_states_Y/decoys/0000/07_fold_paired_states_Y_e942561def5b4e4491b3c9d9b2d15f76.pdb.bz2 /mnt/home/pleung/projects/crispy_shifty/projects/crispy_shifties/07_fold_paired_states_Y/decoys/0000/07_fold_paired_states_Y_b4791741764a4a1eb28a624286d32a12.pdb.bz2 /mnt/home/pleung/projects/crispy_shifty/projects/crispy_shifties/07_fold_paired_states_Y/decoys/0000/07_fold_paired_states_Y_261a0384260a4d169bab95c703574b15.pdb.bz2 /mnt/home/pleung/projects/crispy_shifty/projects/crispy_shifties/07_fold_paired_states_Y/decoys/0000/07_fold_paired_states_Y_5ff0e503a5704aa39ed3b721793432e5.pdb.bz2 /mnt/home/pleung/projects/crispy_shifty/projects/crispy_shifties/07_fold_paired_states_Y/decoys/0000/07_fold_paired_states_Y_ea30c907f4d54a0a807e2b3475004032.pdb.bz2 /mnt/home/pleung/projects/crispy_shifty/projects/crispy_shifties/07_fold_paired_states_Y/decoys/0000/07_fold_paired_states_Y_a62763836a9a4543858b45840ede8c70.pdb.bz2 /mnt/home/pleung/projects/crispy_shifty/projects/crispy_shifties/07_fold_paired_states_Y/decoys/0000/07_fold_paired_states_Y_d2efc01301a74800b6f5669dba46434b.pdb.bz2 /mnt/home/pleung/projects/crispy_shifty/projects/crispy_shifties/07_fold_paired_states_Y/decoys/0000/07_fold_paired_states_Y_b60157d157614d5eb8d540ec1cad6cbd.pdb.bz2 /mnt/home/pleung/projects/crispy_shifty/projects/crispy_shifties/07_fold_paired_states_Y/decoys/0000/07_fold_paired_states_Y_d66fa964e5d545feaa20bd131bb372d5.pdb.bz2 /mnt/home/pleung/projects/crispy_shifty/projects/crispy_shifties/07_fold_paired_states_Y/decoys/0000/07_fold_paired_states_Y_c3e8d46a19c3441fb1c02e6ab8cc0f1e.pdb.bz2 /mnt/home/pleung/projects/crispy_shifty/projects/crispy_shifties/07_fold_paired_states_Y/decoys/0000/07_fold_paired_states_Y_f763ddc8862f4716ab73613645b818b5.pdb.bz2 /mnt/home/pleung/projects/crispy_shifty/projects/crispy_shifties/07_fold_paired_states_Y/decoys/0000/07_fold_paired_states_Y_b5c33cfd51c74dfa8259136db8fc02e9.pdb.bz2 /mnt/home/pleung/projects/crispy_shifty/projects/crispy_shifties/07_fold_paired_states_Y/decoys/0000/07_fold_paired_states_Y_00e8a2bb6e3241a78f3688a5727f53ca.pdb.bz2 /mnt/home/pleung/projects/crispy_shifty/projects/crispy_shifties/07_fold_paired_states_Y/decoys/0000/07_fold_paired_states_Y_1e151d604abe47aca2d3b0d2ca8449bd.pdb.bz2 /mnt/home/pleung/projects/crispy_shifty/projects/crispy_shifties/07_fold_paired_states_Y/decoys/0000/07_fold_paired_states_Y_dda3a86db52549d5881ea816b39fe2fa.pdb.bz2 /mnt/home/pleung/projects/crispy_shifty/projects/crispy_shifties/07_fold_paired_states_Y/decoys/0000/07_fold_paired_states_Y_497eff9bccbc466999ac1445d8c72307.pdb.bz2 /mnt/home/pleung/projects/crispy_shifty/projects/crispy_shifties/07_fold_paired_states_Y/decoys/0000/07_fold_paired_states_Y_35a59b20c8a342dab46b094dc085fbbe.pdb.bz2 /mnt/home/pleung/projects/crispy_shifty/projects/crispy_shifties/07_fold_paired_states_Y/decoys/0000/07_fold_paired_states_Y_9e1e91449de0489a95ecd922947c130c.pdb.bz2 /mnt/home/pleung/projects/crispy_shifty/projects/crispy_shifties/07_fold_paired_states_Y/decoys/0000/07_fold_paired_states_Y_45c296059f6a45879dd55ddb1909bdfd.pdb.bz2 /mnt/home/pleung/projects/crispy_shifty/projects/crispy_shifties/07_fold_paired_states_Y/decoys/0000/07_fold_paired_states_Y_9a8528df5cdd405d81a1d825e281a7d8.pdb.bz2 /mnt/home/pleung/projects/crispy_shifty/projects/crispy_shifties/07_fold_paired_states_Y/decoys/0000/07_fold_paired_states_Y_23965c49bce44dc88f1d373832948c11.pdb.bz2 /mnt/home/pleung/projects/crispy_shifty/projects/crispy_shifties/07_fold_paired_states_Y/decoys/0000/07_fold_paired_states_Y_45dce59a18a742b28c5ade3172290005.pdb.bz2 /mnt/home/pleung/projects/crispy_shifty/projects/crispy_shifties/07_fold_paired_states_Y/decoys/0000/07_fold_paired_states_Y_c6f1549c40824fe4a7b71e548ae44237.pdb.bz2 /mnt/home/pleung/projects/crispy_shifty/projects/crispy_shifties/07_fold_paired_states_Y/decoys/0000/07_fold_paired_states_Y_96b04c0f1f834a07a0de2240712e91dd.pdb.bz2 /mnt/home/pleung/projects/crispy_shifty/projects/crispy_shifties/07_fold_paired_states_Y/decoys/0000/07_fold_paired_states_Y_2e6f7255b1344097b82f1ce9d29b9117.pdb.bz2 /mnt/home/pleung/projects/crispy_shifty/projects/crispy_shifties/07_fold_paired_states_Y/decoys/0000/07_fold_paired_states_Y_0c915ad2756c4728ae0e5292ae9aa73e.pdb.bz2 /mnt/home/pleung/projects/crispy_shifty/projects/crispy_shifties/07_fold_paired_states_Y/decoys/0000/07_fold_paired_states_Y_018f599f71d649bda48372a0f63a6337.pdb.bz2 /mnt/home/pleung/projects/crispy_shifty/projects/crispy_shifties/07_fold_paired_states_Y/decoys/0000/07_fold_paired_states_Y_892f31cdce9e4265b491359fc274d050.pdb.bz2 /mnt/home/pleung/projects/crispy_shifty/projects/crispy_shifties/07_fold_paired_states_Y/decoys/0000/07_fold_paired_states_Y_ab90cfa6b99f4df792b36c5afc737631.pdb.bz2 /mnt/home/pleung/projects/crispy_shifty/projects/crispy_shifties/07_fold_paired_states_Y/decoys/0000/07_fold_paired_states_Y_e8d8ae2c9c684a1c927ca22d0cfee18f.pdb.bz2 /mnt/home/pleung/projects/crispy_shifty/projects/crispy_shifties/07_fold_paired_states_Y/decoys/0000/07_fold_paired_states_Y_a2998e9517124945844771da288f5ad0.pdb.bz2 /mnt/home/pleung/projects/crispy_shifty/projects/crispy_shifties/07_fold_paired_states_Y/decoys/0000/07_fold_paired_states_Y_335f541ac8084aaa99ecae31bada0095.pdb.bz2 /mnt/home/pleung/projects/crispy_shifty/projects/crispy_shifties/07_fold_paired_states_Y/decoys/0000/07_fold_paired_states_Y_bd0143a910f14248a19c9c8b4d05a551.pdb.bz2 /mnt/home/pleung/projects/crispy_shifty/projects/crispy_shifties/07_fold_paired_states_Y/decoys/0000/07_fold_paired_states_Y_9bd90f2f947642ec8e45dc9aa29cd095.pdb.bz2 /mnt/home/pleung/projects/crispy_shifty/projects/crispy_shifties/07_fold_paired_states_Y/decoys/0000/07_fold_paired_states_Y_bd53adc3fba34f378958fb65820ff1c5.pdb.bz2 /mnt/home/pleung/projects/crispy_shifty/projects/crispy_shifties/07_fold_paired_states_Y/decoys/0000/07_fold_paired_states_Y_7dfa893d4bee4a4a961c70f127e33c13.pdb.bz2 /mnt/home/pleung/projects/crispy_shifty/projects/crispy_shifties/07_fold_paired_states_Y/decoys/0000/07_fold_paired_states_Y_d44931e5caf743bab11932b80e2659ff.pdb.bz2 /mnt/home/pleung/projects/crispy_shifty/projects/crispy_shifties/07_fold_paired_states_Y/decoys/0000/07_fold_paired_states_Y_63921631bf6e44d19d5c978877f830f7.pdb.bz2 /mnt/home/pleung/projects/crispy_shifty/projects/crispy_shifties/07_fold_paired_states_Y/decoys/0000/07_fold_paired_states_Y_25f37915e4d74cef85291bc417db4118.pdb.bz2 /mnt/home/pleung/projects/crispy_shifty/projects/crispy_shifties/07_fold_paired_states_Y/decoys/0000/07_fold_paired_states_Y_12f06b9607dc4f19b6bd12e99f4514ec.pdb.bz2 /mnt/home/pleung/projects/crispy_shifty/projects/crispy_shifties/07_fold_paired_states_Y/decoys/0000/07_fold_paired_states_Y_28182b7490bb430eae7ccde30a0d2754.pdb.bz2 /mnt/home/pleung/projects/crispy_shifty/projects/crispy_shifties/07_fold_paired_states_Y/decoys/0000/07_fold_paired_states_Y_d9c4a62d284c44258cfa185e6cffddcb.pdb.bz2 /mnt/home/pleung/projects/crispy_shifty/projects/crispy_shifties/07_fold_paired_states_Y/decoys/0000/07_fold_paired_states_Y_5b58abbc36184d88b4039d156541ad04.pdb.bz2 /mnt/home/pleung/projects/crispy_shifty/projects/crispy_shifties/07_fold_paired_states_Y/decoys/0000/07_fold_paired_states_Y_90772bccd98e42bc821ffc28da0aa225.pdb.bz2 /mnt/home/pleung/projects/crispy_shifty/projects/crispy_shifties/07_fold_paired_states_Y/decoys/0000/07_fold_paired_states_Y_f4a09a7f494f49fea4c1535328dc615d.pdb.bz2 /mnt/home/pleung/projects/crispy_shifty/projects/crispy_shifties/07_fold_paired_states_Y/decoys/0000/07_fold_paired_states_Y_c8a9c5ba7e9b490ca72b98e86182cc22.pdb.bz2 /mnt/home/pleung/projects/crispy_shifty/projects/crispy_shifties/07_fold_paired_states_Y/decoys/0000/07_fold_paired_states_Y_a06efe01bba64d39992b001faf05be0c.pdb.bz2 /mnt/home/pleung/projects/crispy_shifty/projects/crispy_shifties/07_fold_paired_states_Y/decoys/0000/07_fold_paired_states_Y_d313e754e58a4005a3a1ab885ac2efbb.pdb.bz2 /mnt/home/pleung/projects/crispy_shifty/projects/crispy_shifties/07_fold_paired_states_Y/decoys/0000/07_fold_paired_states_Y_6061f155ab794b0b83f6f2e19db15473.pdb.bz2 /mnt/home/pleung/projects/crispy_shifty/projects/crispy_shifties/07_fold_paired_states_Y/decoys/0000/07_fold_paired_states_Y_3f2369ac5c0c471b9e686b782f761244.pdb.bz2 /mnt/home/pleung/projects/crispy_shifty/projects/crispy_shifties/07_fold_paired_states_Y/decoys/0000/07_fold_paired_states_Y_410e3919547f4adcaedcf972769a6950.pdb.bz2 /mnt/home/pleung/projects/crispy_shifty/projects/crispy_shifties/07_fold_paired_states_Y/decoys/0000/07_fold_paired_states_Y_56f46e89edfb4d83a2102e142f7c1f56.pdb.bz2 /mnt/home/pleung/projects/crispy_shifty/projects/crispy_shifties/07_fold_paired_states_Y/decoys/0000/07_fold_paired_states_Y_9f89cb16e6bf4b26b7f55722659e0596.pdb.bz2 /mnt/home/pleung/projects/crispy_shifty/projects/crispy_shifties/07_fold_paired_states_Y/decoys/0000/07_fold_paired_states_Y_26c2d2d3350d47e28ea86a272299987a.pdb.bz2 /mnt/home/pleung/projects/crispy_shifty/projects/crispy_shifties/07_fold_paired_states_Y/decoys/0000/07_fold_paired_states_Y_507d748832f242d79d589557ff8f8c3a.pdb.bz2 /mnt/home/pleung/projects/crispy_shifty/projects/crispy_shifties/07_fold_paired_states_Y/decoys/0000/07_fold_paired_states_Y_5ea6d6ffdf7b4d66b4a1d1fd5de60175.pdb.bz2 /mnt/home/pleung/projects/crispy_shifty/projects/crispy_shifties/07_fold_paired_states_Y/decoys/0000/07_fold_paired_states_Y_986cd31fdbfa47e4af3111b964db5e11.pdb.bz2 /mnt/home/pleung/projects/crispy_shifty/projects/crispy_shifties/07_fold_paired_states_Y/decoys/0000/07_fold_paired_states_Y_f78e47f8d1ea4bf59b53425b29726f96.pdb.bz2 /mnt/home/pleung/projects/crispy_shifty/projects/crispy_shifties/07_fold_paired_states_Y/decoys/0000/07_fold_paired_states_Y_5c820da32f73451d847e5e6a3abad86d.pdb.bz2 /mnt/home/pleung/projects/crispy_shifty/projects/crispy_shifties/07_fold_paired_states_Y/decoys/0000/07_fold_paired_states_Y_676b0769624245b9a34e6dfa1dee3ef5.pdb.bz2 /mnt/home/pleung/projects/crispy_shifty/projects/crispy_shifties/07_fold_paired_states_Y/decoys/0000/07_fold_paired_states_Y_c97be179d46f4ec08a34153b42b68b0c.pdb.bz2 /mnt/home/pleung/projects/crispy_shifty/projects/crispy_shifties/07_fold_paired_states_Y/decoys/0000/07_fold_paired_states_Y_981e6b2cb50f41f8aee5bda9c8a50c71.pdb.bz2 /mnt/home/pleung/projects/crispy_shifty/projects/crispy_shifties/07_fold_paired_states_Y/decoys/0000/07_fold_paired_states_Y_08c4e9c1de034b09a59add4f767fe65a.pdb.bz2 /mnt/home/pleung/projects/crispy_shifty/projects/crispy_shifties/07_fold_paired_states_Y/decoys/0000/07_fold_paired_states_Y_e1815ba370b64285ae5000b3d4b16292.pdb.bz2 /mnt/home/pleung/projects/crispy_shifty/projects/crispy_shifties/07_fold_paired_states_Y/decoys/0000/07_fold_paired_states_Y_70cf0471881146ac93054f9082a17639.pdb.bz2 /mnt/home/pleung/projects/crispy_shifty/projects/crispy_shifties/07_fold_paired_states_Y/decoys/0000/07_fold_paired_states_Y_5d84254a968e481dba4592d3e2b63dc6.pdb.bz2 /mnt/home/pleung/projects/crispy_shifty/projects/crispy_shifties/07_fold_paired_states_Y/decoys/0000/07_fold_paired_states_Y_1b757e1311cc4456a7c510042261493d.pdb.bz2 /mnt/home/pleung/projects/crispy_shifty/projects/crispy_shifties/07_fold_paired_states_Y/decoys/0000/07_fold_paired_states_Y_26f9b1b83be1413c87f681543221cac9.pdb.bz2 /mnt/home/pleung/projects/crispy_shifty/projects/crispy_shifties/07_fold_paired_states_Y/decoys/0000/07_fold_paired_states_Y_f76a614bd449489182e987ecb13a9ce0.pdb.bz2 /mnt/home/pleung/projects/crispy_shifty/projects/crispy_shifties/07_fold_paired_states_Y/decoys/0000/07_fold_paired_states_Y_7f3c8d9f96ba4ec68596a11422725cdd.pdb.bz2 /mnt/home/pleung/projects/crispy_shifty/projects/crispy_shifties/07_fold_paired_states_Y/decoys/0000/07_fold_paired_states_Y_a6429f90372e4cc8a85b415188914a55.pdb.bz2 /mnt/home/pleung/projects/crispy_shifty/projects/crispy_shifties/07_fold_paired_states_Y/decoys/0000/07_fold_paired_states_Y_403c1f10d975414e890a0b9b280eaf0a.pdb.bz2 /mnt/home/pleung/projects/crispy_shifty/projects/crispy_shifties/07_fold_paired_states_Y/decoys/0000/07_fold_paired_states_Y_a582f049287b4b598403c0fd82d217b2.pdb.bz2 /mnt/home/pleung/projects/crispy_shifty/projects/crispy_shifties/07_fold_paired_states_Y/decoys/0000/07_fold_paired_states_Y_1d427ef8b2cf43959c61847fef0c9e89.pdb.bz2 /mnt/home/pleung/projects/crispy_shifty/projects/crispy_shifties/07_fold_paired_states_Y/decoys/0000/07_fold_paired_states_Y_10a2d6c9762f4a54ba7c21aecae4b270.pdb.bz2 /mnt/home/pleung/projects/crispy_shifty/projects/crispy_shifties/07_fold_paired_states_Y/decoys/0000/07_fold_paired_states_Y_586163d0e4134e5dbe52efab1a0d67c3.pdb.bz2 /mnt/home/pleung/projects/crispy_shifty/projects/crispy_shifties/07_fold_paired_states_Y/decoys/0000/07_fold_paired_states_Y_4a79bf27aad4406a87f99b23dcbddce7.pdb.bz2 /mnt/home/pleung/projects/crispy_shifty/projects/crispy_shifties/07_fold_paired_states_Y/decoys/0000/07_fold_paired_states_Y_3861ea9bae014dc88c63763f909f0a54.pdb.bz2 /mnt/home/pleung/projects/crispy_shifty/projects/crispy_shifties/07_fold_paired_states_Y/decoys/0000/07_fold_paired_states_Y_8272675c92b84570a0386ad84498991b.pdb.bz2 /mnt/home/pleung/projects/crispy_shifty/projects/crispy_shifties/07_fold_paired_states_Y/decoys/0000/07_fold_paired_states_Y_68c8c93fc0444e4ca2e1fbf1151d944b.pdb.bz2 /mnt/home/pleung/projects/crispy_shifty/projects/crispy_shifties/07_fold_paired_states_Y/decoys/0000/07_fold_paired_states_Y_646b1f3e41244da5ae625cc8c7668de4.pdb.bz2 /mnt/home/pleung/projects/crispy_shifty/projects/crispy_shifties/07_fold_paired_states_Y/decoys/0000/07_fold_paired_states_Y_d086fd3d9e2c490faf45e8c60ff3fb93.pdb.bz2 /mnt/home/pleung/projects/crispy_shifty/projects/crispy_shifties/07_fold_paired_states_Y/decoys/0000/07_fold_paired_states_Y_e7f52917fe494a20a32d89860fd906b6.pdb.bz2 /mnt/home/pleung/projects/crispy_shifty/projects/crispy_shifties/07_fold_paired_states_Y/decoys/0000/07_fold_paired_states_Y_f9fd36225b9441fa92107490d388efb5.pdb.bz2 /mnt/home/pleung/projects/crispy_shifty/projects/crispy_shifties/07_fold_paired_states_Y/decoys/0000/07_fold_paired_states_Y_1da1cf24ec7a4e6ca139ab3dba7752c5.pdb.bz2 /mnt/home/pleung/projects/crispy_shifty/projects/crispy_shifties/07_fold_paired_states_Y/decoys/0000/07_fold_paired_states_Y_d34ed61477704b7eb443640b82c1cc3c.pdb.bz2',\n",
    "#         }\n",
    "# )\n",
    "# for i, tppose in enumerate(t):\n",
    "#     tppose.pose.dump_pdb(f\"{i}.pdb\")"
   ]
  },
  {
   "cell_type": "code",
   "execution_count": null,
   "id": "c480a6f4",
   "metadata": {},
   "outputs": [],
   "source": [
    "# tppose.pose.scores"
   ]
  },
  {
   "cell_type": "markdown",
   "id": "63f895e6-78a9-4f36-9b3a-f5c25177f388",
   "metadata": {},
   "source": [
    "test `trim_and_resurface_peptide`"
   ]
  },
  {
   "cell_type": "code",
   "execution_count": null,
   "id": "65f9f570-7ec0-45a5-9a5c-bf9c32690263",
   "metadata": {},
   "outputs": [],
   "source": [
    "%%time \n",
    "import pyrosetta\n",
    "\n",
    "pyrosetta.init(\n",
    "    \"-corrections::beta_nov16\"\n",
    ")\n",
    "\n",
    "\n",
    "sys.path.insert(0, \"/projects/crispy_shifty/\")\n",
    "from crispy_shifty.protocols.cleaning import finalize_peptide\n",
    "\n",
    "t = finalize_peptide(\n",
    "        None,\n",
    "        **{\n",
    "            'pdb_path': '/mnt/projects/crispy_shifty/projects/crispy_shifties/09_filter_and_order/decoys/0006/09_filter_and_order_e9b844167bf84dd2ac7cde5045dc43b1.pdb.bz2',\n",
    "        }\n",
    ")\n",
    "for i, tppose in enumerate(t):\n",
    "    tppose.pose.dump_pdb(f\"{i}.pdb\")"
   ]
  },
  {
   "cell_type": "code",
   "execution_count": null,
   "id": "6e0aae9c-ecff-45ee-b795-0d3d2eaf7dbf",
   "metadata": {},
   "outputs": [],
   "source": [
    "# tppose.pose.scores"
   ]
  },
  {
   "cell_type": "code",
   "execution_count": null,
   "id": "bd82cdff-c3f9-43f4-a395-974125af1c52",
   "metadata": {},
   "outputs": [],
   "source": []
  }
 ],
 "metadata": {
  "kernelspec": {
   "display_name": "crispy (3.8.12)",
   "language": "python",
   "name": "crispy"
  },
  "language_info": {
   "codemirror_mode": {
    "name": "ipython",
    "version": 3
   },
   "file_extension": ".py",
   "mimetype": "text/x-python",
   "name": "python",
   "nbconvert_exporter": "python",
   "pygments_lexer": "ipython3",
   "version": "3.8.12"
  }
 },
 "nbformat": 4,
 "nbformat_minor": 5
}
