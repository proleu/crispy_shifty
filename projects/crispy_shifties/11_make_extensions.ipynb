{
 "cells": [
  {
   "cell_type": "markdown",
   "metadata": {},
   "source": [
    "# Make extended versions for FRET, etc."
   ]
  },
  {
   "cell_type": "markdown",
   "metadata": {},
   "source": [
    "### Imports"
   ]
  },
  {
   "cell_type": "code",
   "execution_count": 1,
   "metadata": {},
   "outputs": [
    {
     "name": "stdout",
     "output_type": "stream",
     "text": [
      "running in directory: /mnt/projects/crispy_shifty/projects/crispy_shifties\n",
      "running on node: gpu6\n"
     ]
    }
   ],
   "source": [
    "%load_ext lab_black\n",
    "# Python standard library\n",
    "from glob import glob\n",
    "import os\n",
    "import socket\n",
    "import sys\n",
    "\n",
    "# 3rd party library imports\n",
    "import dask\n",
    "import matplotlib.pyplot as plt\n",
    "import pandas as pd\n",
    "import pyrosetta\n",
    "import numpy as np\n",
    "import scipy\n",
    "import seaborn as sns\n",
    "from tqdm.auto import tqdm  # jupyter compatible progress bar\n",
    "\n",
    "tqdm.pandas()  # link tqdm to pandas\n",
    "# Notebook magic\n",
    "# save plots in the notebook\n",
    "%matplotlib inline\n",
    "# reloads modules automatically before executing cells\n",
    "%load_ext autoreload\n",
    "%autoreload 2\n",
    "print(f\"running in directory: {os.getcwd()}\")  # where are we?\n",
    "print(f\"running on node: {socket.gethostname()}\")  # what node are we on?"
   ]
  },
  {
   "cell_type": "markdown",
   "metadata": {},
   "source": [
    "### Set working directory to the root of the crispy_shifty repo"
   ]
  },
  {
   "cell_type": "code",
   "execution_count": 2,
   "metadata": {},
   "outputs": [],
   "source": [
    "os.chdir(\"/projects/crispy_shifty\")"
   ]
  },
  {
   "cell_type": "markdown",
   "metadata": {},
   "source": [
    "### Start on some from Flo"
   ]
  },
  {
   "cell_type": "code",
   "execution_count": null,
   "metadata": {
    "scrolled": true,
    "tags": []
   },
   "outputs": [],
   "source": [
    "hinge = \"/mnt/home/flop/switch/5thround/extend/cs221_Y_n1c1.pdb\"\n",
    "basename = \"cs_221AB_n1c1\"\n",
    "\n",
    "sys.path.insert(0, \"/projects/crispy_shifty\")\n",
    "from crispy_shifty.protocols.cleaning import design_after_repeat_propagation\n",
    "\n",
    "simulation_name = \"11_make_extensions\"\n",
    "output_path = os.path.join(os.getcwd(), f\"projects/crispy_shifties/{simulation_name}\")\n",
    "os.makedirs(output_path, exist_ok=True)\n",
    "pdbs_path = os.path.join(output_path, \"pdbs\")\n",
    "os.makedirs(pdbs_path, exist_ok=True)\n",
    "\n",
    "pposes = design_after_repeat_propagation(\n",
    "    None,\n",
    "    pdb_path=hinge,\n",
    "    max_recycles=5,\n",
    "    models=\"all\",\n",
    "    num_repeats_extended=1,\n",
    "    num_sequences=96,\n",
    ")\n",
    "\n",
    "for i, p in enumerate(pposes):\n",
    "    p.pose.dump_pdb(os.path.join(pdbs_path, f\"{basename}_{i}.pdb\"))"
   ]
  },
  {
   "cell_type": "code",
   "execution_count": null,
   "metadata": {
    "scrolled": true,
    "tags": []
   },
   "outputs": [
    {
     "name": "stderr",
     "output_type": "stream",
     "text": [
      "/projects/crispy_shifty/envs/crispy/lib/python3.8/site-packages/dask_jobqueue/core.py:20: FutureWarning: tmpfile is deprecated and will be removed in a future release. Please use dask.utils.tmpfile instead.\n",
      "  from distributed.utils import tmpfile\n"
     ]
    },
    {
     "name": "stdout",
     "output_type": "stream",
     "text": [
      "core.io.pose_from_sfr.PoseFromSFRBuilder: [ WARNING ] discarding 3 atoms at position 77 in file /mnt/home/flop/switch/5thround/extend/cs221_Y_n2c2.pdb. Best match rsd_type:  GLU\n",
      "core.io.pose_from_sfr.PoseFromSFRBuilder: [ WARNING ] can't find pose atom for file-residue 77 atom 1H   (trying to store temperature in PDBInfo)\n",
      "core.io.pose_from_sfr.PoseFromSFRBuilder: [ WARNING ] can't find pose atom for file-residue 77 atom 2H   (trying to store temperature in PDBInfo)\n",
      "core.io.pose_from_sfr.PoseFromSFRBuilder: [ WARNING ] can't find pose atom for file-residue 77 atom 3H   (trying to store temperature in PDBInfo)\n",
      "Scores may be absent or incorrectly formatted\n",
      "0.11 min: Redesigning caps with MPNN\n",
      "\n",
      "----------------------------------------\n",
      "pssm_jsonl is NOT loaded\n",
      "----------------------------------------\n",
      "omit_AA_jsonl is NOT loaded\n",
      "----------------------------------------\n",
      "bias_AA_jsonl is NOT loaded\n",
      "----------------------------------------\n",
      "tied_positions_jsonl is NOT loaded\n",
      "----------------------------------------\n",
      "bias by residue dictionary is not loaded, or not provided\n",
      "----------------------------------------\n",
      "discarded {'bad_chars': 0, 'too_long': 0, 'bad_seq_length': 0}\n",
      "----------------------------------------\n",
      "Number of edges: 48\n",
      "Training noise level: 0.1A\n",
      "Generating sequences for: tmp\n",
      "16 sequences of length 334 generated in 1.162 seconds\n",
      "\n",
      "0.40 min: MPNN design complete, updating pose datacache\n",
      "0.40 min: Filtering sequences with AF2\n",
      "0.40 min: Setting up for AF2\n",
      "0.40 min: Running AF2\n"
     ]
    }
   ],
   "source": [
    "hinge = \"/mnt/home/flop/switch/5thround/extend/cs221_Y_n2c2.pdb\"\n",
    "basename = \"cs_221AB_n2c2\"\n",
    "\n",
    "sys.path.insert(0, \"/projects/crispy_shifty\")\n",
    "from crispy_shifty.protocols.cleaning import design_after_repeat_propagation\n",
    "\n",
    "simulation_name = \"11_make_extensions\"\n",
    "output_path = os.path.join(os.getcwd(), f\"projects/crispy_shifties/{simulation_name}\")\n",
    "os.makedirs(output_path, exist_ok=True)\n",
    "pdbs_path = os.path.join(output_path, \"pdbs\")\n",
    "os.makedirs(pdbs_path, exist_ok=True)\n",
    "\n",
    "pposes = (\n",
    "    design_after_repeat_propagation(\n",
    "        None,\n",
    "        pdb_path=hinge,\n",
    "        max_recycles=5,\n",
    "        models=\"5\",\n",
    "        no_filter_on_rmsd=True,\n",
    "        num_repeats_extended=1,\n",
    "        num_sequences=16,\n",
    "    )\n",
    ")\n",
    "\n",
    "for i, p in enumerate(pposes):\n",
    "    p.pose.dump_pdb(os.path.join(pdbs_path, f\"{basename}_{i}.pdb\"))"
   ]
  },
  {
   "cell_type": "markdown",
   "metadata": {},
   "source": [
    "### Make new extensions"
   ]
  },
  {
   "cell_type": "code",
   "execution_count": null,
   "metadata": {},
   "outputs": [],
   "source": [
    "def range_CA_align(pose1, pose2, start1, end1, start2, end2):\n",
    "#modified from Adam's function (pose 1 mobile)\n",
    "    pose1_residue_selection = range(start1,end1)\n",
    "    pose2_residue_selection = range(start2,end2)\n",
    "    \n",
    "    assert len(pose1_residue_selection) == len(pose2_residue_selection)\n",
    "\n",
    "    pose1_coordinates = pyrosetta.rosetta.utility.vector1_numeric_xyzVector_double_t()\n",
    "    pose2_coordinates = pyrosetta.rosetta.utility.vector1_numeric_xyzVector_double_t()\n",
    "\n",
    "    for pose1_residue_index, pose2_residue_index in zip(pose1_residue_selection, pose2_residue_selection):\n",
    "        pose1_coordinates.append(pose1.residues[pose1_residue_index].xyz('CA'))\n",
    "        pose2_coordinates.append(pose2.residues[pose2_residue_index].xyz('CA'))\n",
    "\n",
    "    rotation_matrix = pyrosetta.rosetta.numeric.xyzMatrix_double_t()\n",
    "    pose1_center = pyrosetta.rosetta.numeric.xyzVector_double_t()\n",
    "    pose2_center = pyrosetta.rosetta.numeric.xyzVector_double_t()\n",
    "\n",
    "    pyrosetta.rosetta.protocols.toolbox.superposition_transform(pose1_coordinates,\n",
    "                                                                pose2_coordinates,\n",
    "                                                                rotation_matrix,\n",
    "                                                                pose1_center,\n",
    "                                                                pose2_center)\n",
    "\n",
    "    pyrosetta.rosetta.protocols.toolbox.apply_superposition_transform(pose1,\n",
    "                                                                      rotation_matrix,\n",
    "                                                                      pose1_center,\n",
    "                                                                      pose2_center)\n",
    "                     \n",
    "def clash_check(pose):\n",
    "    all_gly = pose.clone()\n",
    "    true_sel = pyrosetta.rosetta.core.select.residue_selector.TrueResidueSelector()\n",
    "    true_x = true_sel.apply(all_gly)\n",
    "    pyrosetta.rosetta.protocols.toolbox.pose_manipulation.repack_these_residues(true_x, all_gly, sfxn, False, \"G\" )\n",
    "    score = sfxn(all_gly)\n",
    "    return score\n",
    "\n",
    "def helix_dict(pose):\n",
    "    #pose = pyrosetta.io.pose_from_pdb(filename)\n",
    "    ss = pyrosetta.rosetta.core.scoring.dssp.Dssp(pose)\n",
    "    hlx_dict = {}\n",
    "    n = 1\n",
    "    for i in range(1,len(pose.sequence())):\n",
    "        if (ss.get_dssp_secstruct(i) == \"H\") & (ss.get_dssp_secstruct(i-1) !=\"H\"):\n",
    "            hlx_dict[n] = [i]\n",
    "        if (ss.get_dssp_secstruct(i) == \"H\") & (ss.get_dssp_secstruct(i+1) !=\"H\"):\n",
    "            hlx_dict[n].append(i)\n",
    "            n +=1\n",
    "    return hlx_dict\n",
    "\n",
    "def load_pose(name):\n",
    "    if type(name) == str:\n",
    "        pose = pyrosetta.io.pose_from_pdb(name)\n",
    "    else:\n",
    "        try:\n",
    "            pose = name.clone()\n",
    "        except:\n",
    "            print(\"input must be a pose or a path to a pose\")\n",
    "    return pose\n",
    "\n",
    "\n",
    "def swap_ab(name):\n",
    "    pose_ab = load_pose(name)\n",
    "    pose_ba = pose_ab.split_by_chain(2)\n",
    "    pyrosetta.rosetta.core.pose.append_pose_to_pose(pose_ba,pose_ab.split_by_chain(1),1)\n",
    "    return pose_ba\n",
    "# swap_ab: normally assume that oligomer is chain A and heterodimer is chain B. If the other way round ,then do swap_ab\n",
    "\n",
    "def extend_dhr(pose1,pose2, keep = \"c\", h1n = \"last\", h2n = \"last\", h1_c = 3, h2_c = 4):\n",
    "    if type(pose1) == str:\n",
    "        pose_n = pyrosetta.io.pose_from_pdb(pose1).split_by_chain(1)\n",
    "    else:\n",
    "        pose_n = pose1.split_by_chain(1)\n",
    "    if type(pose2) == str:\n",
    "        pose_c = pyrosetta.io.pose_from_pdb(pose2).split_by_chain(1)\n",
    "    else:\n",
    "        pose_c = pose2.split_by_chain(1)\n",
    "    hdn = helix_dict(pose_n)\n",
    "    hdc = helix_dict(pose_c)\n",
    "    if (h1n == \"last\") or (h1n == -2):\n",
    "        h1_n = list(hdn)[-2]\n",
    "    else:\n",
    "        h1_n = h1n\n",
    "    if (h2n == \"last\") or (h2n == -1):\n",
    "        h2_n = list(hdn)[-1]\n",
    "    else:\n",
    "        h2_n = h2n\n",
    "    copy_c = pose_c.clone()\n",
    "    newpose = pyrosetta.rosetta.core.pose.Pose()\n",
    "    start_c = hdc[h1_c][0]\n",
    "    end_c = hdc[h2_c][1]\n",
    "    start_n = hdn[h1_n][0]\n",
    "    end_n = hdn[h2_n][1]\n",
    "    if (end_n - start_n) != (end_c - start_c):\n",
    "        #print(end_n - start_n)\n",
    "        #print(end_c - start_c)\n",
    "        if keep == \"n\":\n",
    "            start_c = end_c - (end_n - start_n)\n",
    "        elif keep == \"c\":\n",
    "            end_n = start_n + (end_c - start_c) \n",
    "        else:\n",
    "            print(\"keep must be n or c\")\n",
    "        while (start_c < 1) or (start_n < 1):\n",
    "            start_c +=1\n",
    "            start_n +=1\n",
    "    range_CA_align(copy_c, pose_n, start_c, end_c, start_n, end_n)\n",
    "    if keep == \"n\":\n",
    "        cut1 = end_n \n",
    "        cut2 = end_c         \n",
    "    elif keep == \"c\":\n",
    "        cut1 = start_n \n",
    "        cut2 = start_c \n",
    "    else:\n",
    "        print(\"keep must be n or c\")\n",
    "    #print(cut1,cut2)\n",
    "    for i in range(1,cut1):\n",
    "        newpose.append_residue_by_bond(pose_n.residue(i))\n",
    "    for i in range(cut2,len(pose_c.sequence())+1):\n",
    "        newpose.append_residue_by_bond(copy_c.residue(i))\n",
    "    offset = (len(newpose.sequence())-len(pose_c.sequence()))    \n",
    "    \n",
    "    selx = pyrosetta.rosetta.core.select.residue_selector.ResiduePDBInfoHasLabelSelector(\"IntX\")\n",
    "    sely = pyrosetta.rosetta.core.select.residue_selector.ResiduePDBInfoHasLabelSelector(\"IntY\")\n",
    "    int_n = pyrosetta.rosetta.core.select.residue_selector.OrResidueSelector(selx,sely).apply(pose_n)\n",
    "    int_c = pyrosetta.rosetta.core.select.residue_selector.OrResidueSelector(selx,sely).apply(pose_c)\n",
    "    for i in pyrosetta.rosetta.core.select.get_residues_from_subset(int_n):\n",
    "        newpose.replace_residue(i,pose_n.residue(i),1)\n",
    "    for i in pyrosetta.rosetta.core.select.get_residues_from_subset(int_c):\n",
    "        newpose.replace_residue(i+offset,pose_c.residue(i),1)\n",
    "    info = pyrosetta.rosetta.core.pose.PDBInfo(newpose,1)\n",
    "    for label in [\"IntX\",\"IntY\"]:\n",
    "        sel = pyrosetta.rosetta.core.select.residue_selector.ResiduePDBInfoHasLabelSelector(label)\n",
    "        int_n = sel.apply(pose_n)\n",
    "        int_c = sel.apply(pose_c)\n",
    "        for i in pyrosetta.rosetta.core.select.get_residues_from_subset(int_n):            \n",
    "            info.add_reslabel(i,label)\n",
    "        for i in pyrosetta.rosetta.core.select.get_residues_from_subset(int_c):            \n",
    "            info.add_reslabel(i+offset,label)\n",
    "        newpose.pdb_info(info)\n",
    "    return newpose\n",
    "    \n",
    "    \n",
    "def oligomer_align(oligomer,monomer,const_term = \"n\", mono_chains = [1]):\n",
    "    oligo = load_pose(oligomer)\n",
    "    mono_full = load_pose(monomer)\n",
    "    if mono_chains == [1]:\n",
    "        mono = mono_full\n",
    "    else:\n",
    "        mono = pyrosetta.rosetta.core.pose.Pose()\n",
    "        for i in mono_chains:\n",
    "            pyrosetta.rosetta.core.pose.append_pose_to_pose(mono,mono_full.split_by_chain(i),1)\n",
    "    if const_term in [\"n\",\"N\"]:\n",
    "        start_m = 1\n",
    "        end_m = len(oligo.chain_sequence(1))\n",
    "    elif const_term in [\"c\",\"C\"]:\n",
    "        start_m = mono.size() - len(oligo.chain_sequence(1)) + 1\n",
    "        end_m = mono.size()\n",
    "    else:\n",
    "        print(\"const_term must be n or c\")\n",
    "    newpose = pyrosetta.rosetta.core.pose.Pose()\n",
    "    for i in range(oligo.num_chains()):\n",
    "        start_o = 1 + (i * len(oligo.chain_sequence(1)))\n",
    "        end_o = ((i+1) * len(oligo.chain_sequence(1)))\n",
    "        range_CA_align(mono, oligo, start_m, end_m, start_o, end_o)\n",
    "        if i == 0:\n",
    "            newpose = mono.clone()\n",
    "        if i >= 1:\n",
    "            for j in range(1,mono.num_chains()+1):\n",
    "                pyrosetta.rosetta.core.pose.append_pose_to_pose(newpose,mono.split_by_chain(j),1)\n",
    "        \n",
    "    return newpose\n",
    "\n",
    "def swap_chains(name,order):\n",
    "    pose_in = load_pose(name)\n",
    "    pose_out = pyrosetta.rosetta.core.pose.Pose()\n",
    "    for i in order:\n",
    "        pyrosetta.rosetta.core.pose.append_pose_to_pose(pose_out,pose_in.split_by_chain(i),1)\n",
    "    return pose_out\n",
    "\n",
    "\n",
    "def extend_oligomer(oligomer,extension,term,keep,oligo_hlx1,oligo_hlx2,ext_hlx1,ext_hlx2):\n",
    "    oligo = load_pose(oligomer)\n",
    "    ext = load_pose(extension)\n",
    "    oligo_sym = oligo.num_chains()\n",
    "    ext_chains = range(1,ext.num_chains()+1)\n",
    "    if term in ['N','n']:\n",
    "        p1 = extend_dhr(extension,oligomer,keep,ext_hlx1,ext_hlx2,oligo_hlx1,oligo_hlx2)\n",
    "        p2 = oligomer_align(oligomer,p1,\"c\",ext_chains)\n",
    "    elif term in ['C','c']:\n",
    "        p1 = extend_dhr(oligomer,extension,keep,oligo_hlx1,oligo_hlx2,ext_hlx1,ext_hlx2)\n",
    "        p2 = oligomer_align(oligomer,p1,\"n\",[x-1+oligo_sym for x in ext_chains])\n",
    "    else:\n",
    "        print(\"term must be n or c\")\n",
    "    return p2\n",
    "\n",
    "def extend_oligo_hinge(hinge,parent,nrep=2,crep=2):\n",
    "    par = load_pose(parent).split_by_chain(1)\n",
    "    hin = load_pose(hinge)\n",
    "    nres = []\n",
    "    cres = []\n",
    "    offset = hin.split_by_chain(1).size() - par.size()\n",
    "    for i in range(1,par.size()//2 - 10):\n",
    "        if par.sequence(i,i) != hin.sequence(i,i):\n",
    "            nres.append(i)\n",
    "    for i in range(par.size()//2 + 10,par.size()):\n",
    "        if par.sequence(i,i) != hin.sequence(i+offset,i+offset):\n",
    "            cres.append(i)        \n",
    "    print(nres)\n",
    "    print(cres)\n",
    "    p1 = extend_dhr(par,hin.split_by_chain(1),\"n\",5,6,1,2)\n",
    "    offset_n = p1.split_by_chain(1).size() - hin.split_by_chain(1).size()\n",
    "    print(offset_n,offset)\n",
    "    p2 = oligomer_align(hin,p1,const_term = \"c\")\n",
    "    p3 = extend_dhr(p2.split_by_chain(1),par,\"c\",\"last\",\"last\",3,4)\n",
    "    offset_c = p3.split_by_chain(1).size() - p1.split_by_chain(1).size()\n",
    "    for i in nres:\n",
    "        p3.replace_residue(i+offset_n,hin.residue(i),1)\n",
    "    for i in cres:\n",
    "        p3.replace_residue(i+offset_n+offset,hin.residue(i+offset),1)\n",
    "    p4 = oligomer_align(p2,p3,const_term = \"n\")\n",
    "    return p4\n",
    "\n",
    "def extend_mono_hinge(hinge,parent,nrep=2,crep=2):\n",
    "    par = load_pose(parent).split_by_chain(1)\n",
    "    hin = load_pose(hinge)\n",
    "    nres = []\n",
    "    cres = []\n",
    "    offset = hin.split_by_chain(1).size() - par.size()\n",
    "    for i in range(1,par.size()//2 - 10):\n",
    "        if par.sequence(i,i) != hin.sequence(i,i):\n",
    "            nres.append(i)\n",
    "    for i in range(par.size()//2 + 10,par.size()):\n",
    "        if par.sequence(i,i) != hin.sequence(i+offset,i+offset):\n",
    "            cres.append(i)        \n",
    "    print(nres)\n",
    "    print(cres)\n",
    "    if nrep ==2:\n",
    "        p1 = extend_dhr(par,hin.split_by_chain(1),\"c\",7,8,3,4)\n",
    "    elif nrep ==1: \n",
    "        p1 = extend_dhr(par,hin.split_by_chain(1),\"c\",5,6,3,4)\n",
    "    offset_n = p1.split_by_chain(1).size() - hin.split_by_chain(1).size()\n",
    "    print(offset_n,offset)\n",
    "    p2 = p1\n",
    "    if crep == 2:\n",
    "        p3 = extend_dhr(p2.split_by_chain(1),par,\"c\",\"last\",\"last\",3,4)\n",
    "    elif crep == 1:\n",
    "        p3 = extend_dhr(p2.split_by_chain(1),par,\"c\",\"last\",\"last\",5,6)\n",
    "    offset_c = p3.split_by_chain(1).size() - p1.split_by_chain(1).size()\n",
    "    for i in nres:\n",
    "        p3.replace_residue(i+offset_n,hin.residue(i),1)\n",
    "    for i in cres:\n",
    "        p3.replace_residue(i+offset_n+offset,hin.residue(i+offset),1)\n",
    "    p4 = p3\n",
    "    return p4"
   ]
  },
  {
   "cell_type": "code",
   "execution_count": null,
   "metadata": {},
   "outputs": [],
   "source": [
    "p = extend_mono_hinge(\"in/cs_221X.pdb\",\"in/DHR20.pdb\",1,1)\n",
    "p.dump_pdb(\"cs221_X_n1c1.pdb\")\n",
    "p = extend_mono_hinge(\"in/cs_221Y.pdb\",\"in/DHR20.pdb\",1,1)\n",
    "p.dump_pdb(\"cs221_Y_n1c1.pdb\")\n",
    "p = extend_mono_hinge(\"in/cs_221X.pdb\",\"in/DHR20.pdb\")\n",
    "p.dump_pdb(\"cs221_X_n2c2.pdb\")\n",
    "p = extend_mono_hinge(\"in/cs_221Y.pdb\",\"in/DHR20.pdb\")\n",
    "p.dump_pdb(\"cs221_Y_n2c2.pdb\")"
   ]
  },
  {
   "cell_type": "code",
   "execution_count": null,
   "metadata": {},
   "outputs": [],
   "source": [
    "p = extend_dhr('in/DHR14a.pdb','in/J7X_G133P.pdb',\"n\", 3,4,1,2)\n",
    "p.dump_pdb('J7X_P_extn1.pdb')\n",
    "p = extend_dhr('in/DHR14a.pdb','in/J7Y_G133P.pdb',\"n\", 3,4,1,2)\n",
    "p.dump_pdb('J7Y_P_extn1.pdb')"
   ]
  },
  {
   "cell_type": "code",
   "execution_count": null,
   "metadata": {},
   "outputs": [],
   "source": [
    "p = extend_dhr('in/DHR14a.pdb','in/J7X_G133P.pdb',\"n\", 5,6,1,2)\n",
    "p.dump_pdb('J7X_P_extn2.pdb')\n",
    "p = extend_dhr('in/DHR14a.pdb','in/J7Y_G133P.pdb',\"n\", 5,6,1,2)\n",
    "p.dump_pdb('J7Y_P_extn2.pdb')"
   ]
  },
  {
   "cell_type": "code",
   "execution_count": null,
   "metadata": {},
   "outputs": [],
   "source": [
    "p = extend_dhr('in/DHR14b.pdb','in/J7X_G133P.pdb',\"n\", 3,4,1,2)\n",
    "p.dump_pdb('J7X_P_extn1_dhr14x.pdb')\n",
    "p = extend_dhr('in/DHR14b.pdb','in/J7Y_G133P.pdb',\"n\", 3,4,1,2)\n",
    "p.dump_pdb('J7Y_P_extn1_dhr14x.pdb')\n",
    "p = extend_dhr('in/DHR14b.pdb','in/J7X_G133P.pdb',\"n\", 5,6,1,2)\n",
    "p.dump_pdb('J7X_P_extn2_dhr14x.pdb')\n",
    "p = extend_dhr('in/DHR14b.pdb','in/J7Y_G133P.pdb',\"n\", 5,6,1,2)\n",
    "p.dump_pdb('J7Y_P_extn2_dhr14x.pdb')"
   ]
  },
  {
   "cell_type": "code",
   "execution_count": null,
   "metadata": {},
   "outputs": [],
   "source": [
    "p = extend_mono_hinge(\"in/cs201r1_X.pdb\",\"in/DHR82.pdb\",1,1)\n",
    "p.dump_pdb(\"cs201_X_n1c1.pdb\")\n",
    "p = extend_mono_hinge(\"in/cs201r1_Y.pdb\",\"in/DHR82.pdb\",1,1)\n",
    "p.dump_pdb(\"cs201_Y_n1c1.pdb\")\n",
    "p = extend_mono_hinge(\"in/cs201r1_X.pdb\",\"in/DHR82.pdb\")\n",
    "p.dump_pdb(\"cs201_X_n2c2.pdb\")\n",
    "p = extend_mono_hinge(\"in/cs201r1_Y.pdb\",\"in/DHR82.pdb\")\n",
    "p.dump_pdb(\"cs201_Y_n2c2.pdb\")"
   ]
  },
  {
   "cell_type": "code",
   "execution_count": null,
   "metadata": {},
   "outputs": [],
   "source": [
    "p = extend_mono_hinge(\"in/pair157_232_Y_0001.pdb\",\"in/DHR82.pdb\")\n",
    "p.dump_pdb(\"FF74_Y_n2c2_new_unrel.pdb\")"
   ]
  },
  {
   "cell_type": "code",
   "execution_count": null,
   "metadata": {},
   "outputs": [],
   "source": [
    "p = extend_mono_hinge(\"in/pair157_232_X_0001.pdb\",\"in/DHR82.pdb\",1,1)\n",
    "p.dump_pdb(\"FF74_X_n1c1.pdb\")\n",
    "p = extend_mono_hinge(\"in/pair157_232_Y_0001.pdb\",\"in/DHR82.pdb\",1,1)\n",
    "p.dump_pdb(\"FF74_Y_n1c1.pdb\")"
   ]
  },
  {
   "cell_type": "code",
   "execution_count": null,
   "metadata": {},
   "outputs": [],
   "source": [
    "p = extend_hinge(\"in/FF86-0.pdb\",\"in/DHR21.pdb\")\n",
    "p.dump_pdb(\"v3_FF86-0_n2c2.pdb\")\n",
    "p = extend_hinge(\"in/FF86-1.pdb\",\"in/DHR21.pdb\")\n",
    "p.dump_pdb(\"v3_FF86-1_n2c2.pdb\")\n",
    "p = extend_hinge(\"in/FF86-2.pdb\",\"in/DHR21.pdb\")\n",
    "p.dump_pdb(\"v3_FF86-2_n2c2.pdb\")"
   ]
  },
  {
   "cell_type": "code",
   "execution_count": null,
   "metadata": {},
   "outputs": [],
   "source": [
    "p = extend_oligo_hinge(\"in/FF81-0.pdb\",\"in/DHR46.pdb\")\n",
    "p.dump_pdb(\"v3_FF81-0_n2c2.pdb\")\n",
    "p = extend_oligo_hinge(\"in/FF81-1.pdb\",\"in/DHR46.pdb\")\n",
    "p.dump_pdb(\"v3_FF81-1_n2c2.pdb\")"
   ]
  },
  {
   "cell_type": "code",
   "execution_count": null,
   "metadata": {},
   "outputs": [],
   "source": [
    "helix_dict(load_pose(\"in/pair157_232_X_0001.pdb\"))"
   ]
  },
  {
   "cell_type": "code",
   "execution_count": null,
   "metadata": {},
   "outputs": [],
   "source": [
    "helix_dict(load_pose(\"/projects/crispy_shifty/data/pdbs/DHR20.pdb\"))[1]"
   ]
  },
  {
   "cell_type": "code",
   "execution_count": null,
   "metadata": {},
   "outputs": [],
   "source": [
    "hd = helix_dict(load_pose(\"in/DHR46.pdb\"))\n",
    "for i in list(hd):\n",
    "    print(hd[i][1]-hd[i][0])"
   ]
  },
  {
   "cell_type": "code",
   "execution_count": null,
   "metadata": {},
   "outputs": [],
   "source": [
    "hd = helix_dict(load_pose(\"in/FF81-1.pdb\"))\n",
    "for i in list(hd):\n",
    "    print(hd[i][1]-hd[i][0])"
   ]
  },
  {
   "cell_type": "code",
   "execution_count": null,
   "metadata": {},
   "outputs": [],
   "source": [
    "pyrosetta.rosetta.protocols.protein_interface_design.FavorNativeResidue?"
   ]
  },
  {
   "cell_type": "code",
   "execution_count": null,
   "metadata": {},
   "outputs": [],
   "source": [
    "p = extend_oligo_hinge(\"in/FF81-0.pdb\",\"in/DHR46.pdb\")"
   ]
  },
  {
   "cell_type": "code",
   "execution_count": null,
   "metadata": {},
   "outputs": [],
   "source": [
    "res = p.residue(4)"
   ]
  },
  {
   "cell_type": "code",
   "execution_count": null,
   "metadata": {},
   "outputs": [],
   "source": [
    "res."
   ]
  },
  {
   "cell_type": "code",
   "execution_count": null,
   "metadata": {},
   "outputs": [],
   "source": [
    "\n"
   ]
  },
  {
   "cell_type": "code",
   "execution_count": null,
   "metadata": {},
   "outputs": [],
   "source": []
  },
  {
   "cell_type": "code",
   "execution_count": null,
   "metadata": {},
   "outputs": [],
   "source": []
  }
 ],
 "metadata": {
  "kernelspec": {
   "display_name": "crispy (3.8.12)",
   "language": "python",
   "name": "crispy"
  },
  "language_info": {
   "codemirror_mode": {
    "name": "ipython",
    "version": 3
   },
   "file_extension": ".py",
   "mimetype": "text/x-python",
   "name": "python",
   "nbconvert_exporter": "python",
   "pygments_lexer": "ipython3",
   "version": "3.8.12"
  }
 },
 "nbformat": 4,
 "nbformat_minor": 4
}
