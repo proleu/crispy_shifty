{
 "cells": [
  {
   "cell_type": "markdown",
   "metadata": {},
   "source": [
    "# Run hacked AlphaFold2 on the designed paired states"
   ]
  },
  {
   "cell_type": "markdown",
   "metadata": {},
   "source": [
    "### Imports"
   ]
  },
  {
   "cell_type": "code",
   "execution_count": 1,
   "metadata": {},
   "outputs": [
    {
     "name": "stdout",
     "output_type": "stream",
     "text": [
      "running in directory: /mnt/home/pleung/projects/crispy_shifty/projects/crispy_shifties\n",
      "running on node: gpu3\n"
     ]
    }
   ],
   "source": [
    "%load_ext lab_black\n",
    "# Python standard library\n",
    "from glob import glob\n",
    "import os\n",
    "import socket\n",
    "import sys\n",
    "\n",
    "# 3rd party library imports\n",
    "import dask\n",
    "import matplotlib.pyplot as plt\n",
    "import pandas as pd\n",
    "import pyrosetta\n",
    "import numpy as np\n",
    "import scipy\n",
    "import seaborn as sns\n",
    "from tqdm.auto import tqdm  # jupyter compatible progress bar\n",
    "\n",
    "tqdm.pandas()  # link tqdm to pandas\n",
    "# Notebook magic\n",
    "# save plots in the notebook\n",
    "%matplotlib inline\n",
    "# reloads modules automatically before executing cells\n",
    "%load_ext autoreload\n",
    "%autoreload 2\n",
    "print(f\"running in directory: {os.getcwd()}\")  # where are we?\n",
    "print(f\"running on node: {socket.gethostname()}\")  # what node are we on?"
   ]
  },
  {
   "cell_type": "markdown",
   "metadata": {},
   "source": [
    "### Set working directory to the root of the crispy_shifty repo\n",
    "Note: We want to use perlmutter"
   ]
  },
  {
   "cell_type": "code",
   "execution_count": 2,
   "metadata": {},
   "outputs": [],
   "source": [
    "# os.chdir(\"/global/cfs/cdirs/m3962/projects/crispy_shifty\") # TODO\n",
    "os.chdir(\"/home/pleung/projects/crispy_shifty\")"
   ]
  },
  {
   "cell_type": "markdown",
   "metadata": {},
   "source": [
    "### Fix the paths\n",
    "Necessary because we are on perlmutter"
   ]
  },
  {
   "cell_type": "code",
   "execution_count": 3,
   "metadata": {},
   "outputs": [],
   "source": [
    "# from crispy_shifty.utils.io import fix_path_prefixes\n",
    "\n",
    "# pairs = os.path.join(\n",
    "#     os.getcwd(),\n",
    "#     \"projects/crispy_shifties/06_mpnn_paired_states/mpnn_paired_states.pair\",\n",
    "# )\n",
    "# new_pairs = fix_path_prefixes(\n",
    "#     find=\"/mnt/home/pleung\",\n",
    "#     replace=\"/global/cfs/cdirs/m3962\",\n",
    "#     file=pairs,\n",
    "#     overwrite=True,\n",
    "# )"
   ]
  },
  {
   "cell_type": "markdown",
   "metadata": {
    "tags": []
   },
   "source": [
    "### Run AF2 on the designed paired states\n",
    "TODO"
   ]
  },
  {
   "cell_type": "code",
   "execution_count": 4,
   "metadata": {},
   "outputs": [],
   "source": [
    "# from crispy_shifty.utils.io import gen_array_tasks\n",
    "\n",
    "# simulation_name = \"07_fold_paired_states\"\n",
    "# design_list_file = os.path.join(\n",
    "#     os.getcwd(),\n",
    "#     \"projects/crispy_shifties/06_mpnn_paired_states/mpnn_paired_states.pair\",\n",
    "# )\n",
    "# output_path = os.path.join(f\"/pscratch/sd/p/pleung/{simulation_name}\")\n",
    "\n",
    "# options = \" \".join(\n",
    "#     [\n",
    "#         \"out:level 200\",\n",
    "#     ]\n",
    "# )\n",
    "# extra_kwargs = {\"models\": \"1\"}\n",
    "\n",
    "# gen_array_tasks(\n",
    "#     distribute_func=\"crispy_shifty.protocols.folding.fold_paired_state_y\",\n",
    "#     design_list_file=design_list_file,\n",
    "#     output_path=output_path,\n",
    "#     perlmutter_mode=True,\n",
    "#     nstruct=1,\n",
    "#     nstruct_per_task=1,\n",
    "#     options=options,\n",
    "#     extra_kwargs=extra_kwargs,\n",
    "#     simulation_name=simulation_name,\n",
    "# )"
   ]
  },
  {
   "cell_type": "markdown",
   "metadata": {},
   "source": [
    "### Set working directory to the root of the crispy_shifty repo\n",
    "Note: We rsync the perlmutter results, now back on the digs"
   ]
  },
  {
   "cell_type": "code",
   "execution_count": 5,
   "metadata": {},
   "outputs": [],
   "source": [
    "# os.chdir(\"/home/pleung/projects/crispy_shifty\")  # TODO"
   ]
  },
  {
   "cell_type": "markdown",
   "metadata": {},
   "source": [
    "### Collect scorefiles of designed bound states and concatenate\n",
    "TODO change to projects dir"
   ]
  },
  {
   "cell_type": "code",
   "execution_count": 6,
   "metadata": {
    "scrolled": true,
    "tags": []
   },
   "outputs": [],
   "source": [
    "# sys.path.insert(0, \"~/projects/crispy_shifty\")  # TODO\n",
    "# from crispy_shifty.utils.io import collect_score_file\n",
    "\n",
    "# simulation_name = \"07_fold_paired_states\"\n",
    "# output_path = os.path.join(os.getcwd(), f\"projects/crispy_shifties/{simulation_name}\")\n",
    "\n",
    "# if not os.path.exists(os.path.join(output_path, \"scores.json\")):\n",
    "#     collect_score_file(output_path, \"scores\")"
   ]
  },
  {
   "cell_type": "markdown",
   "metadata": {},
   "source": [
    "### Load resulting concatenated scorefile\n",
    "TODO change to projects dir  \n",
    "TODO might have to switch to a dask accelerated approach for production"
   ]
  },
  {
   "cell_type": "code",
   "execution_count": 7,
   "metadata": {
    "scrolled": true,
    "tags": []
   },
   "outputs": [],
   "source": [
    "# sys.path.insert(0, \"~/projects/crispy_shifty\")  # TODO\n",
    "# from crispy_shifty.utils.io import parse_scorefile_linear\n",
    "\n",
    "# output_path = os.path.join(os.getcwd(), f\"projects/crispy_shifties/{simulation_name}\")\n",
    "\n",
    "# if not os.path.exists(os.path.join(output_path, \"scores.csv\")):\n",
    "#     scores_df = parse_scorefile_linear(os.path.join(output_path, \"scores.json\"))"
   ]
  },
  {
   "cell_type": "markdown",
   "metadata": {},
   "source": [
    "### Dump scores_df as a CSV and then reload, for performance reasons"
   ]
  },
  {
   "cell_type": "code",
   "execution_count": 8,
   "metadata": {},
   "outputs": [],
   "source": [
    "# if not os.path.exists(os.path.join(output_path, \"scores.csv\")):\n",
    "#     scores_df.to_csv(os.path.join(output_path, \"scores.csv\"))\n",
    "\n",
    "# scores_df = pd.read_csv(os.path.join(output_path, \"scores.csv\"), index_col=\"Unnamed: 0\")"
   ]
  },
  {
   "cell_type": "markdown",
   "metadata": {},
   "source": [
    "### Setup for plotting"
   ]
  },
  {
   "cell_type": "code",
   "execution_count": 9,
   "metadata": {},
   "outputs": [],
   "source": [
    "# sns.set(\n",
    "#     context=\"talk\",\n",
    "#     font_scale=1,  # make the font larger; default is pretty small\n",
    "#     style=\"ticks\",  # make the background white with black lines\n",
    "#     palette=\"colorblind\",  # a color palette that is colorblind friendly!\n",
    "# )"
   ]
  },
  {
   "cell_type": "markdown",
   "metadata": {},
   "source": [
    "### Data exploration\n",
    "Gonna remove the Rosetta sfxn scoreterms for now"
   ]
  },
  {
   "cell_type": "code",
   "execution_count": 10,
   "metadata": {},
   "outputs": [],
   "source": [
    "# rosetta = scores_df[scores_df[\"designed_by\"] == \"rosetta\"]\n",
    "# mpnn = scores_df[scores_df[\"designed_by\"] == \"mpnn\"].sample(1305, random_state=0)\n",
    "# sample_df = pd.concat([rosetta, mpnn])"
   ]
  },
  {
   "cell_type": "markdown",
   "metadata": {},
   "source": [
    "### Remove score terms we don't care about"
   ]
  },
  {
   "cell_type": "code",
   "execution_count": 11,
   "metadata": {},
   "outputs": [],
   "source": [
    "# from crispy_shifty.protocols.design import beta_nov16_terms\n",
    "\n",
    "# sample_df = sample_df[\n",
    "#     [term for term in sample_df.columns if term not in beta_nov16_terms]\n",
    "# ]\n",
    "# print(len(sample_df))"
   ]
  },
  {
   "cell_type": "code",
   "execution_count": 12,
   "metadata": {},
   "outputs": [],
   "source": [
    "# sample_df = sample_df[[term for term in sample_df.columns if \"mpnn_seq\" not in term]]\n",
    "\n",
    "# sample_df.head()"
   ]
  },
  {
   "cell_type": "code",
   "execution_count": 13,
   "metadata": {},
   "outputs": [],
   "source": [
    "# from crispy_shifty.plotting.utils import histplot_df, pairplot_df\n",
    "\n",
    "# to_plot = [\n",
    "#     \"best_average_plddts\",\n",
    "#     \"best_model\",\n",
    "#     \"best_ptm\",\n",
    "#     \"best_rmsd_to_input\",\n",
    "#     \"cms_AcB\",\n",
    "#     \"cms_AnAc\",\n",
    "#     \"cms_AnAcB\",\n",
    "#     \"cms_AnB\",\n",
    "#     \"designed_by\",\n",
    "#     \"mean_pae\",\n",
    "#     \"mean_pae_interaction\",\n",
    "#     \"mean_pae_interaction_AB\",\n",
    "#     \"mean_pae_interaction_BA\",\n",
    "#     \"mean_pae_intra_chain\",\n",
    "#     \"mean_pae_intra_chain_A\",\n",
    "#     \"mean_pae_intra_chain_B\",\n",
    "#     \"mean_plddt\",\n",
    "#     \"mismatch_probability_parent\",\n",
    "#     \"pTMscore\",\n",
    "#     \"packstat_parent\",\n",
    "#     \"pdb\",\n",
    "#     \"recycles\",\n",
    "#     \"rmsd_to_reference\",\n",
    "#     \"sap_parent\",\n",
    "#     \"sc_AcB\",\n",
    "#     \"sc_AnAc\",\n",
    "#     \"sc_AnAcB\",\n",
    "#     \"sc_AnB\",\n",
    "#     \"sc_all_parent\",\n",
    "#     \"score_per_res\",\n",
    "#     \"score_per_res_parent\",\n",
    "#     \"ss_sc\",\n",
    "#     \"state\",\n",
    "#     \"topo\",\n",
    "# ]\n",
    "# print(to_plot)"
   ]
  },
  {
   "cell_type": "markdown",
   "metadata": {},
   "source": [
    "### Plot before and after interface design"
   ]
  },
  {
   "cell_type": "code",
   "execution_count": 14,
   "metadata": {},
   "outputs": [],
   "source": [
    "# cols = [\n",
    "#     \"best_average_plddts\",\n",
    "#     \"best_ptm\",\n",
    "#     \"best_rmsd_to_input\",\n",
    "#     \"mean_plddt\",\n",
    "#     \"pTMscore\",\n",
    "#     \"rmsd_to_reference\",\n",
    "# ]\n",
    "# the_fig = histplot_df(\n",
    "#     df=sample_df,\n",
    "#     cols=cols,\n",
    "#     bins=10,\n",
    "#     hue=\"designed_by\",\n",
    "# )\n",
    "# plt.savefig(os.path.join(output_path, \"old_vs_new_af2_scores.png\"))"
   ]
  },
  {
   "cell_type": "code",
   "execution_count": 15,
   "metadata": {},
   "outputs": [],
   "source": [
    "# sample_df[\"best_model\"] = sample_df[\"best_model\"].astype(str)\n",
    "# the_fig = histplot_df(\n",
    "#     df=sample_df,\n",
    "#     cols=cols,\n",
    "#     bins=10,\n",
    "#     hue=\"best_model\",\n",
    "# )"
   ]
  },
  {
   "cell_type": "code",
   "execution_count": 16,
   "metadata": {},
   "outputs": [],
   "source": [
    "# sample_df[\"best_model\"] = sample_df[\"best_model\"].astype(str)\n",
    "# the_fig = histplot_df(\n",
    "#     df=sample_df,\n",
    "#     cols=cols,\n",
    "#     bins=10,\n",
    "#     hue=\"topo\",\n",
    "# )"
   ]
  },
  {
   "cell_type": "code",
   "execution_count": 17,
   "metadata": {},
   "outputs": [],
   "source": [
    "# the_fig = pairplot_df(\n",
    "#     df=sample_df,\n",
    "#     cols=cols,\n",
    "#     hue=\"designed_by\",\n",
    "# )\n",
    "# plt.savefig(os.path.join(output_path, \"old_vs_new_af2_scores_paired.png\"))"
   ]
  },
  {
   "cell_type": "markdown",
   "metadata": {},
   "source": [
    "### Plot interface correllations"
   ]
  },
  {
   "cell_type": "code",
   "execution_count": 18,
   "metadata": {},
   "outputs": [],
   "source": [
    "# cols = [\n",
    "#     \"cms_AnAcB\",\n",
    "#     \"mean_pae\",\n",
    "#     \"mean_pae_interaction\",\n",
    "#     \"mean_pae_intra_chain\",\n",
    "#     \"mean_plddt\",\n",
    "#     \"sc_AnAcB\",\n",
    "# ]\n",
    "# the_fig = histplot_df(\n",
    "#     df=sample_df,\n",
    "#     cols=cols,\n",
    "#     bins=10,\n",
    "#     hue=\"designed_by\",\n",
    "# )\n",
    "# plt.savefig(os.path.join(output_path, \"interface_scores.png\"))"
   ]
  },
  {
   "cell_type": "code",
   "execution_count": 19,
   "metadata": {},
   "outputs": [],
   "source": [
    "# sample_df[\"best_model\"] = sample_df[\"best_model\"].astype(str)\n",
    "# the_fig = histplot_df(\n",
    "#     df=sample_df,\n",
    "#     cols=cols,\n",
    "#     bins=10,\n",
    "#     hue=\"best_model\",\n",
    "# )"
   ]
  },
  {
   "cell_type": "code",
   "execution_count": 20,
   "metadata": {},
   "outputs": [],
   "source": [
    "# sample_df[\"best_model\"] = sample_df[\"best_model\"].astype(str)\n",
    "# the_fig = histplot_df(\n",
    "#     df=sample_df,\n",
    "#     cols=cols,\n",
    "#     bins=10,\n",
    "#     hue=\"topo\",\n",
    "# )"
   ]
  },
  {
   "cell_type": "code",
   "execution_count": 21,
   "metadata": {},
   "outputs": [],
   "source": [
    "# the_fig = pairplot_df(\n",
    "#     df=sample_df,\n",
    "#     cols=cols,\n",
    "#     hue=\"designed_by\",\n",
    "# )\n",
    "# plt.savefig(os.path.join(output_path, \"interface_scores_paired.png\"))"
   ]
  },
  {
   "cell_type": "markdown",
   "metadata": {},
   "source": [
    "### Plot before and after for other scores"
   ]
  },
  {
   "cell_type": "code",
   "execution_count": 22,
   "metadata": {},
   "outputs": [],
   "source": [
    "# cols = [\n",
    "#     \"mean_plddt\",\n",
    "#     \"mismatch_probability_parent\",\n",
    "#     \"pTMscore\",\n",
    "#     \"packstat_parent\",\n",
    "#     \"rmsd_to_reference\",\n",
    "#     \"sap_parent\",\n",
    "#     \"sc_all_parent\",\n",
    "#     \"score_per_res\",\n",
    "#     \"score_per_res_parent\",\n",
    "#     \"ss_sc\",\n",
    "# ]\n",
    "# the_fig = histplot_df(\n",
    "#     df=sample_df,\n",
    "#     cols=cols,\n",
    "#     bins=10,\n",
    "#     hue=\"designed_by\",\n",
    "# )\n",
    "# plt.savefig(os.path.join(output_path, \"old_vs_new_other_scores.png\"))"
   ]
  },
  {
   "cell_type": "code",
   "execution_count": 23,
   "metadata": {},
   "outputs": [],
   "source": [
    "# sample_df[\"best_model\"] = sample_df[\"best_model\"].astype(str)\n",
    "# the_fig = histplot_df(\n",
    "#     df=sample_df,\n",
    "#     cols=cols,\n",
    "#     bins=10,\n",
    "#     hue=\"best_model\",\n",
    "# )"
   ]
  },
  {
   "cell_type": "code",
   "execution_count": 24,
   "metadata": {},
   "outputs": [],
   "source": [
    "# sample_df[\"best_model\"] = sample_df[\"best_model\"].astype(str)\n",
    "# the_fig = histplot_df(\n",
    "#     df=sample_df,\n",
    "#     cols=cols,\n",
    "#     bins=10,\n",
    "#     hue=\"topo\",\n",
    "# )"
   ]
  },
  {
   "cell_type": "code",
   "execution_count": 25,
   "metadata": {},
   "outputs": [],
   "source": [
    "# the_fig = pairplot_df(\n",
    "#     df=sample_df,\n",
    "#     cols=cols,\n",
    "#     hue=\"designed_by\",\n",
    "# )\n",
    "# plt.savefig(os.path.join(output_path, \"old_vs_new_other_scores_paired.png\"))"
   ]
  },
  {
   "cell_type": "markdown",
   "metadata": {},
   "source": [
    "### Filter the whole df"
   ]
  },
  {
   "cell_type": "code",
   "execution_count": 26,
   "metadata": {},
   "outputs": [],
   "source": [
    "# query = \"mean_plddt > 90 and mean_pae_interaction < 5 and rmsd_to_reference < 1.75\"\n",
    "\n",
    "# filtered = scores_df.query(query)\n",
    "# len(filtered)"
   ]
  },
  {
   "cell_type": "markdown",
   "metadata": {},
   "source": [
    "### Plot topo and scaffold_type fraction before and after"
   ]
  },
  {
   "cell_type": "code",
   "execution_count": 27,
   "metadata": {},
   "outputs": [],
   "source": [
    "# (\n",
    "#     fig,\n",
    "#     (ax1, ax2),\n",
    "# ) = plt.subplots(ncols=2, figsize=(20, 10), tight_layout=True)\n",
    "# scores_df.groupby(\"scaffold_type\").size().plot(kind=\"pie\", autopct=\"%1.2f%%\", ax=ax1)\n",
    "# ax1.set_ylabel(\"before\", rotation=0)\n",
    "# filtered.groupby(\"scaffold_type\").size().plot(kind=\"pie\", autopct=\"%1.2f%%\", ax=ax2)\n",
    "# ax2.set_ylabel(\"after\", rotation=0)\n",
    "\n",
    "# plt.savefig(os.path.join(output_path, \"filtering_effect_scaffold_type.png\"))"
   ]
  },
  {
   "cell_type": "markdown",
   "metadata": {},
   "source": [
    "### Save a list of outputs"
   ]
  },
  {
   "cell_type": "code",
   "execution_count": 28,
   "metadata": {},
   "outputs": [],
   "source": [
    "# simulation_name = \"07_fold_paired_states\"\n",
    "# output_path = os.path.join(os.getcwd(), f\"projects/crispy_shifties/{simulation_name}\")\n",
    "\n",
    "# with open(os.path.join(output_path, \"folded_paired_states.list\"), \"w\") as f:\n",
    "#     for path in tqdm(filtered.index):\n",
    "#         print(path, file=f)"
   ]
  },
  {
   "cell_type": "markdown",
   "metadata": {},
   "source": [
    "### Prototyping blocks"
   ]
  },
  {
   "cell_type": "markdown",
   "metadata": {},
   "source": [
    "test `fold_bound_state`"
   ]
  },
  {
   "cell_type": "code",
   "execution_count": null,
   "metadata": {
    "tags": []
   },
   "outputs": [],
   "source": [
    "%%time \n",
    "from operator import gt, lt\n",
    "import pyrosetta\n",
    "\n",
    "filter_dict = {\n",
    "    \"mean_plddt\": (gt, 85.0),\n",
    "    \"rmsd_to_reference\": (lt, 2.2),\n",
    "    \"mean_pae_interaction\": (lt, 10.0),\n",
    "}\n",
    "\n",
    "rank_on = \"mean_plddt\"\n",
    "prefix = \"mpnn_seq\"\n",
    "\n",
    "pyrosetta.init()\n",
    "\n",
    "\n",
    "sys.path.insert(0, \"~/projects/crispy_shifty/\") # TODO projects\n",
    "from crispy_shifty.protocols.folding import fold_paired_state\n",
    "\n",
    "t = fold_paired_state(\n",
    "        None,\n",
    "        **{\n",
    "#             'fasta_path': '/global/cfs/cdirs/m3962/projects/crispy_shifty/projects/crispy_shifties/06_mpnn_paired_states/fastas/0000/06_mpnn_paired_states_e6c08d9247294efbb7f84c704711447b.fa',\n",
    "            \"filter_dict\": filter_dict,\n",
    "            \"models\": [1], # TODO\n",
    "            'pdb_path': '/mnt/home/pleung/projects/crispy_shifty/projects/crispy_shifties/06_mpnn_paired_states/decoys/0000/06_mpnn_paired_states_e6c08d9247294efbb7f84c704711447b.pdb.bz2____/mnt/home/pleung/projects/crispy_shifty/projects/crispy_shifties/06_mpnn_paired_states/fastas/0000/06_mpnn_paired_states_e6c08d9247294efbb7f84c704711447b.fa',\n",
    "            'predict': 'Y',\n",
    "            'prefix': prefix,\n",
    "            'rank_on': rank_on,\n",
    "#             'fasta_path': 'bar.fa',\n",
    "#             \"models\": [1, 2], # TODO\n",
    "#             'pdb_path': 'foo.pdb.bz2',\n",
    "            \n",
    "        }\n",
    ")\n",
    "for i, tppose in enumerate(t):\n",
    "    tppose.pose.dump_pdb(f\"{i}.pdb\")"
   ]
  },
  {
   "cell_type": "code",
   "execution_count": 30,
   "metadata": {
    "scrolled": true
   },
   "outputs": [
    {
     "data": {
      "text/plain": [
       "{'bb_clash': '221.09518432617188',\n",
       " 'bb_clash_delta_x': '13.552555084228516',\n",
       " 'best_average_DAN_plddts': '0.9306640625',\n",
       " 'best_average_plddts': '96.9742251504',\n",
       " 'best_model': '3',\n",
       " 'best_ptm': '0.9283211335',\n",
       " 'best_rmsd_to_input': '0.9192778265',\n",
       " 'buns_parent': '0.0',\n",
       " 'cms_AcB': '586.4059448242188',\n",
       " 'cms_AnAc': '286.85723876953125',\n",
       " 'cms_AnAcB': '898.9122314453125',\n",
       " 'cms_AnB': '333.16864013671875',\n",
       " 'designed_by': 'mpnn',\n",
       " 'docked_helix': '4',\n",
       " 'dslf_fa13': 0.0,\n",
       " 'dssp': 'LHHHHHHHHHHHHHHHHHHHHHHHHHHHLLHHHHHHHHHHHHHHHHHHHHHHHHHLLHHHHHHHHHHHHHHHHHHHHHHHHHHHHLLHHHHHHHHHHHHHHHHHHHHHHHHHLLLLLHHHHHHHHHHHHHHHHHHHHHHHHHHHHHHHLLHHHHHHHHHHHHHHHHHHHHHHHHHLLHHHHHHHHHHHHHHHHHHHHHHHHHHHHLLHHHHHHHHHHHHHHHHHHHHHHHHHLLHHHHHHHHHHHHHHHHHHHHHHHHHHHHHHHHHL',\n",
       " 'elapsed_time': 29.873727798461914,\n",
       " 'exposed_hydrophobics_parent': '112.3860855102539',\n",
       " 'fa_atr': -1673.7088367376107,\n",
       " 'fa_dun': 513.9332453546053,\n",
       " 'fa_dun_dev': '65.50578162942362',\n",
       " 'fa_dun_rot': '357.2002899779557',\n",
       " 'fa_dun_semi': '661.4841626109978',\n",
       " 'fa_elec': -581.0223874292058,\n",
       " 'fa_intra_atr_xover4': '-187.33844616102263',\n",
       " 'fa_intra_elec': '-144.81037798952173',\n",
       " 'fa_intra_rep': 554.3321029889922,\n",
       " 'fa_intra_rep_xover4': '149.00133564116285',\n",
       " 'fa_intra_sol_xover4': 70.45631513995379,\n",
       " 'fa_rep': 387.5719959982994,\n",
       " 'fa_sol': 1150.1685052339649,\n",
       " 'geometry_parent': '1.0',\n",
       " 'hbond_bb_sc': -8.010223127798557,\n",
       " 'hbond_lr_bb': -12.315573509923677,\n",
       " 'hbond_sc': -64.31923096466959,\n",
       " 'hbond_sr_bb': -224.90620840103986,\n",
       " 'holes_all_parent': '-1.966635823249817',\n",
       " 'holes_core_parent': '-2.6489784717559814',\n",
       " 'hxl_tors': '37.78924620909306',\n",
       " 'interface': 'upweight',\n",
       " 'lk_ball': '1612.2948996415437',\n",
       " 'lk_ball_bridge': '7.121255370702928',\n",
       " 'lk_ball_bridge_uncpl': '52.851626426731',\n",
       " 'lk_ball_iso': '3781.54030707547',\n",
       " 'lk_ball_wtd': -19.01933933382838,\n",
       " 'loop_dist': '14.96590746681455',\n",
       " 'loop_sc': '0.7752404246414895',\n",
       " 'looped_length': '233.0',\n",
       " 'mean_pae': 3.8393564224243164,\n",
       " 'mean_pae_interaction': 5.135443687438965,\n",
       " 'mean_pae_interaction_AB': 6.498778820037842,\n",
       " 'mean_pae_interaction_BA': 3.772108554840088,\n",
       " 'mean_pae_intra_chain': 4.436681747436523,\n",
       " 'mean_pae_intra_chain_A': 3.3066580295562744,\n",
       " 'mean_pae_intra_chain_B': 5.566705226898193,\n",
       " 'mean_plddt': 94.35962677001953,\n",
       " 'mismatch_probability_parent': '0.2699572741985321',\n",
       " 'model': '1',\n",
       " 'mpnn_seq_0000': '{\"model_1_ptm_seed_0\": {\"mean_plddt\": 93.27705383300781, \"recycles\": 3, \"tol\": 1.408474326133728, \"model\": \"1\", \"type\": \"monomer_ptm\", \"seed\": \"0\", \"rmsd_to_reference\": 5.57089376449585, \"mean_pae_interaction_AB\": 29.0025634765625, \"mean_pae_interaction_BA\": 26.833036422729492, \"mean_pae_interaction\": 27.917800903320312, \"mean_pae_intra_chain_A\": 3.0296366214752197, \"mean_pae_intra_chain_B\": 6.070737838745117, \"mean_pae_intra_chain\": 4.550187110900879, \"mean_pae\": 8.74105167388916, \"pTMscore\": 0.8152349591255188, \"elapsed_time\": 255.27376461029053}, \"seq\": \"SEELERESEEAERRLQEARKRSEEARERGDLKELAEALIEEARAVQELARVASERGNEEEAERAWEKAQRVYEEAQKVYEEAREQGDIEVLVLALMAAALAVLALAWVAASMRSGNTEEGAKLLEQASHLAQQILEEARKLSEEARELGDDHVLALALAAIALAVEVLALVATARGNKEEAERAYEDARRVEEEARKVKESAEEQGDSEVKRLAEEAEQLAREARRLVQETRG/GLRGGLQVLVRLLLKVMRILYQAVDILVHGLFDIG\"}',\n",
       " 'mpnn_seq_0001': '{\"model_1_ptm_seed_0\": {\"mean_plddt\": 94.22209167480469, \"recycles\": 3, \"tol\": 0.1423758715391159, \"model\": \"1\", \"type\": \"monomer_ptm\", \"seed\": \"0\", \"rmsd_to_reference\": 0.8747243881225586, \"mean_pae_interaction_AB\": 6.4994025230407715, \"mean_pae_interaction_BA\": 3.860020399093628, \"mean_pae_interaction\": 5.17971134185791, \"mean_pae_intra_chain_A\": 3.289686918258667, \"mean_pae_intra_chain_B\": 5.6523213386535645, \"mean_pae_intra_chain\": 4.471004009246826, \"mean_pae\": 3.841799736022949, \"pTMscore\": 0.9071496725082397, \"elapsed_time\": 29.440260648727417}, \"seq\": \"SEELERESEEAERRLQEARKRSEEARERGDLKELAEALIEEARAVQELARVASERGNEEEAERAWEKAQRVYEEAQKVYEEAREQGDEEVLVLALRAAGYAVLALALVAASMRARNEEEAAKLLEQASHLAQQILEEARKLSEKARELGDDEVLALALEAIAIAVLVLAQAAAARGNKEEAERAYEDARRVEEEARKVKESAEEQGDSEVKRLAEEAEQLAREARRLVQETRG/GLKGGLRVLARELLETARTLQEAVDILVHGVVARG\"}',\n",
       " 'mpnn_seq_0002': '{\"model_1_ptm_seed_0\": {\"mean_plddt\": 94.20299530029297, \"recycles\": 3, \"tol\": 0.16271474957466125, \"model\": \"1\", \"type\": \"monomer_ptm\", \"seed\": \"0\", \"rmsd_to_reference\": 0.7848448753356934, \"mean_pae_interaction_AB\": 6.301733016967773, \"mean_pae_interaction_BA\": 3.762613296508789, \"mean_pae_interaction\": 5.032173156738281, \"mean_pae_intra_chain_A\": 3.3177874088287354, \"mean_pae_intra_chain_B\": 5.435181140899658, \"mean_pae_intra_chain\": 4.376484394073486, \"mean_pae\": 3.8210885524749756, \"pTMscore\": 0.9073271155357361, \"elapsed_time\": 29.485711336135864}, \"seq\": \"SEELERESEEAERRLQEARKRSEEARERGDLKELAEALIEEARAVQELARVASERGNEEEAERAWEKAQRVYEEAQKVYEEAREQGDEEVLVLALQAAGYAVLALALVAASMRAENTEEAAKLLEQASHLAQQILEEARKLSEKARELGDDYVLAIALEAIAIAVLVLAQAAAARGNKEEAERAYEDARRVEEEARKVKESAEEQGDSEVKRLAEEAEQLAREARRLVQETRG/GLKGGLRVLAERLLETARTLKEAVDILVHGVVAKG\"}',\n",
       " 'mpnn_seq_0003': '{\"model_1_ptm_seed_0\": {\"mean_plddt\": 94.5475845336914, \"recycles\": 3, \"tol\": 0.1021847054362297, \"model\": \"1\", \"type\": \"monomer_ptm\", \"seed\": \"0\", \"rmsd_to_reference\": 0.8847541213035583, \"mean_pae_interaction_AB\": 6.2970170974731445, \"mean_pae_interaction_BA\": 3.7945191860198975, \"mean_pae_interaction\": 5.0457682609558105, \"mean_pae_intra_chain_A\": 3.269951820373535, \"mean_pae_intra_chain_B\": 5.482475757598877, \"mean_pae_intra_chain\": 4.376214027404785, \"mean_pae\": 3.7888104915618896, \"pTMscore\": 0.9100072979927063, \"elapsed_time\": 29.86606502532959}, \"seq\": \"SEELERESEEAERRLQEARKRSEEARERGDLKELAEALIEEARAVQELARVASERGNEEEAERAWEKAQRVYEEAQKVYEEAREQGDEEVLVLALRAAGYAVLALALVAASMRKENKEEAAKLLEQASHLAQQILEEARKLSEKARELGDDEVLALALEAIAIAVLVLAKAAVARGNKEEAERAYEDARRVEEEARKVKESAEEQGDSEVKRLAEEAEQLAREARRLVQETRG/GLKGGLRVLARELLETARTLEEAVDILVHGVVDAG\"}',\n",
       " 'mpnn_seq_0004': '{\"model_1_ptm_seed_0\": {\"mean_plddt\": 91.05286407470703, \"recycles\": 3, \"tol\": 6.565707683563232, \"model\": \"1\", \"type\": \"monomer_ptm\", \"seed\": \"0\", \"rmsd_to_reference\": 5.533242702484131, \"mean_pae_interaction_AB\": 29.434572219848633, \"mean_pae_interaction_BA\": 26.500280380249023, \"mean_pae_interaction\": 27.967426300048828, \"mean_pae_intra_chain_A\": 2.769742250442505, \"mean_pae_intra_chain_B\": 9.31332778930664, \"mean_pae_intra_chain\": 6.041534900665283, \"mean_pae\": 8.611306190490723, \"pTMscore\": 0.8177992105484009, \"elapsed_time\": 29.597798585891724}, \"seq\": \"SEELERESEEAERRLQEARKRSEEARERGDLKELAEALIEEARAVQELARVASERGNEEEAERAWEKAQRVYEEAQKVYEEAREQGDLEVLVLALQAAGYAVLALALVAESMKKENKEEAAKLLEQASHLAQQILEEARKLSEEARELGNDEVLALALEAIAIAVLVLAKAAVARGNKEEAERAYEDARRVEEEARKVKESAEEQGDSEVKRLAEEAEQLAREARRLVQETRG/GKEGGLRVLARRLLETARTLDEAVDILVHGVVEKG\"}',\n",
       " 'mpnn_seq_0005': '{\"model_1_ptm_seed_0\": {\"mean_plddt\": 94.4186782836914, \"recycles\": 3, \"tol\": 0.10931464284658432, \"model\": \"1\", \"type\": \"monomer_ptm\", \"seed\": \"0\", \"rmsd_to_reference\": 0.8186310529708862, \"mean_pae_interaction_AB\": 5.848082065582275, \"mean_pae_interaction_BA\": 3.6319761276245117, \"mean_pae_interaction\": 4.740029335021973, \"mean_pae_intra_chain_A\": 3.3575210571289062, \"mean_pae_intra_chain_B\": 4.917019367218018, \"mean_pae_intra_chain\": 4.137269973754883, \"mean_pae\": 3.7746105194091797, \"pTMscore\": 0.9107875227928162, \"elapsed_time\": 29.386900186538696}, \"seq\": \"SEELERESEEAERRLQEARKRSEEARERGDLKELAEALIEEARAVQELARVASERGNEEEAERAWEKAQRVYEEAQKVYEEAREQGDLEVLVLALQAAAYAVLALALVAASMRAENTEEAAKLLEQASHLAQQILEEARKLSEKARELGDDEVLALALEAIAIAVKVLAQAAAARGNKEEAERAYEDARRVEEEARKVKESAEEQGDSEVKRLAEEAEQLAREARRLVQETRG/GLKGGLRVLARRLLETARTLQEAVDILVHGVVEKG\"}',\n",
       " 'mpnn_seq_0006': '{\"model_1_ptm_seed_0\": {\"mean_plddt\": 94.36286926269531, \"recycles\": 3, \"tol\": 0.211395263671875, \"model\": \"1\", \"type\": \"monomer_ptm\", \"seed\": \"0\", \"rmsd_to_reference\": 0.9469350576400757, \"mean_pae_interaction_AB\": 6.253288745880127, \"mean_pae_interaction_BA\": 3.738203763961792, \"mean_pae_interaction\": 4.99574613571167, \"mean_pae_intra_chain_A\": 3.371425151824951, \"mean_pae_intra_chain_B\": 5.153974533081055, \"mean_pae_intra_chain\": 4.262700080871582, \"mean_pae\": 3.8448033332824707, \"pTMscore\": 0.9036935567855835, \"elapsed_time\": 29.166963815689087}, \"seq\": \"SEELERESEEAERRLQEARKRSEEARERGDLKELAEALIEEARAVQELARVASERGNEEEAERAWEKAQRVYEEAQKVYEEAREQGDLEVLVLALRAAGYAVLALALVAESMKKENKEEAAKLLEQASHLAQQILEEARKLSEEARELGDDEVLALALEAIAIAVLVLAQAAAARGNKEEAERAYEDARRVEEEARKVKESAEEQGDSEVKRLAEEAEQLAREARRLVQETRG/GKKGGLRVLARELLEVARTLKEAVDKLVHGVVEKG\"}',\n",
       " 'mpnn_seq_0007': '{\"model_1_ptm_seed_0\": {\"mean_plddt\": 94.3432846069336, \"recycles\": 3, \"tol\": 0.20943792164325714, \"model\": \"1\", \"type\": \"monomer_ptm\", \"seed\": \"0\", \"rmsd_to_reference\": 0.8911319971084595, \"mean_pae_interaction_AB\": 6.345178127288818, \"mean_pae_interaction_BA\": 3.7971243858337402, \"mean_pae_interaction\": 5.071151256561279, \"mean_pae_intra_chain_A\": 3.309610366821289, \"mean_pae_intra_chain_B\": 5.349488735198975, \"mean_pae_intra_chain\": 4.329549789428711, \"mean_pae\": 3.8187003135681152, \"pTMscore\": 0.9058048725128174, \"elapsed_time\": 29.186885356903076}, \"seq\": \"SEELERESEEAERRLQEARKRSEEARERGDLKELAEALIEEARAVQELARVASERGNEEEAERAWEKAQRVYEEAQKVYEEAREQGDLEVLVLALRAAGLAVLALALVAASMKKENKEEAAKLLEQASHLAQQILEEARKLSEEARELGDDEVLALALEAIAIAVLVLAQAAAARGNKEEAERAYEDARRVEEEARKVKESAEEQGDSEVKRLAEEAEQLAREARRLVQETRG/GKKGGLRVLARELLETARELQKAVDILVHGVVEAG\"}',\n",
       " 'mpnn_seq_0008': '{\"model_1_ptm_seed_0\": {\"mean_plddt\": 94.24410247802734, \"recycles\": 3, \"tol\": 0.12347060441970825, \"model\": \"1\", \"type\": \"monomer_ptm\", \"seed\": \"0\", \"rmsd_to_reference\": 0.7976970672607422, \"mean_pae_interaction_AB\": 6.208156108856201, \"mean_pae_interaction_BA\": 3.779433012008667, \"mean_pae_interaction\": 4.9937944412231445, \"mean_pae_intra_chain_A\": 3.3412506580352783, \"mean_pae_intra_chain_B\": 5.3063764572143555, \"mean_pae_intra_chain\": 4.323813438415527, \"mean_pae\": 3.823563814163208, \"pTMscore\": 0.9059406518936157, \"elapsed_time\": 29.11342167854309}, \"seq\": \"SEELERESEEAERRLQEARKRSEEARERGDLKELAEALIEEARAVQELARVASERGNEEEAERAWEKAQRVYEEAQKVYEEAREQGDEEVLVLALRAAGYAVLALALVAASMRAENTEEAAKLLEQASHLAQQILEEARKLSEKARELGDDEVLALALEAIAIAVLVLAQAAAARGNKEEAERAYEDARRVEEEARKVKESAEEQGDSEVKRLAEEAEQLAREARRLVQETRG/GLKGGLRVLARELLETARTLKEAVDILVHGVVAKG\"}',\n",
       " 'mpnn_seq_0009': '{\"model_1_ptm_seed_0\": {\"mean_plddt\": 94.17868041992188, \"recycles\": 3, \"tol\": 0.1181362047791481, \"model\": \"1\", \"type\": \"monomer_ptm\", \"seed\": \"0\", \"rmsd_to_reference\": 0.9045010805130005, \"mean_pae_interaction_AB\": 6.580654621124268, \"mean_pae_interaction_BA\": 3.8753600120544434, \"mean_pae_interaction\": 5.2280073165893555, \"mean_pae_intra_chain_A\": 3.361680030822754, \"mean_pae_intra_chain_B\": 5.713392734527588, \"mean_pae_intra_chain\": 4.53753662109375, \"mean_pae\": 3.9107766151428223, \"pTMscore\": 0.9055707454681396, \"elapsed_time\": 29.1983802318573}, \"seq\": \"SEELERESEEAERRLQEARKRSEEARERGDLKELAEALIEEARAVQELARVASERGNEEEAERAWEKAQRVYEEAQKVYEEAREQGDEEVLVLALQAAGLAVLAMAEVAASMLSENTEEAAKLLEQASHLAQQILEEARKLSEEARELGDDYVLALALAAIAIAVLVLAKAAAARGNKEEAERAYEDARRVEEEARKVKESAEEQGDSEVKRLAEEAEQLAREARRLVQETRG/GKKGGLRVLAERLLEVAKTLEKAVDLLVHGVVDKG\"}',\n",
       " 'mpnn_seq_0010': '{\"model_1_ptm_seed_0\": {\"mean_plddt\": 94.35111999511719, \"recycles\": 3, \"tol\": 6.0648722648620605, \"model\": \"1\", \"type\": \"monomer_ptm\", \"seed\": \"0\", \"rmsd_to_reference\": 5.182679176330566, \"mean_pae_interaction_AB\": 29.347196578979492, \"mean_pae_interaction_BA\": 27.447246551513672, \"mean_pae_interaction\": 28.397220611572266, \"mean_pae_intra_chain_A\": 2.7671127319335938, \"mean_pae_intra_chain_B\": 5.881524562835693, \"mean_pae_intra_chain\": 4.324318885803223, \"mean_pae\": 8.643937110900879, \"pTMscore\": 0.8144029378890991, \"elapsed_time\": 29.674290895462036}, \"seq\": \"SEELERESEEAERRLQEARKRSEEARERGDLKELAEALIEEARAVQELARVASERGNEEEAERAWEKAQRVYEEAQKVYEEAREQGDEYVLVLALEAAGLAVLAMAEVAASMLRENREEAAKLLEQASHLAQQILEEARKLSEKARELGDDYVLAKALAAIAIAVLVLAMAAAARGNKEEAERAYEDARRVEEEARKVKESAEEQGDSEVKRLAEEAEQLAREARRLVQETRG/GLKGGLRVLADRLLRVARTLFIAVFLLVHGVVAAG\"}',\n",
       " 'mpnn_seq_0011': '{\"model_1_ptm_seed_0\": {\"mean_plddt\": 92.73492431640625, \"recycles\": 3, \"tol\": 4.75449800491333, \"model\": \"1\", \"type\": \"monomer_ptm\", \"seed\": \"0\", \"rmsd_to_reference\": 5.307408332824707, \"mean_pae_interaction_AB\": 27.874387741088867, \"mean_pae_interaction_BA\": 25.474956512451172, \"mean_pae_interaction\": 26.674671173095703, \"mean_pae_intra_chain_A\": 2.9057250022888184, \"mean_pae_intra_chain_B\": 6.883070468902588, \"mean_pae_intra_chain\": 4.894397735595703, \"mean_pae\": 8.379369735717773, \"pTMscore\": 0.8159047365188599, \"elapsed_time\": 29.191033840179443}, \"seq\": \"SEELERESEEAERRLQEARKRSEEARERGDLKELAEALIEEARAVQELARVASERGNEEEAERAWEKAQRVYEEAQKVYEEAREQGDEYVLVLALQAAGLAVLAMAEVAASMLSRNTEEAAKLLEQASHLAQQILEEARKLSEKARELGDDYVLALALAAIAIAVLVLAMAAVARGNKEEAERAYEDARRVEEEARKVKESAEEQGDSEVKRLAEEAEQLAREARRLVQETRG/GLKGGLRVLAERLLGVARTLFIAVFLLVHGVVARG\"}',\n",
       " 'mpnn_seq_0012': '{\"model_1_ptm_seed_0\": {\"mean_plddt\": 94.29801177978516, \"recycles\": 3, \"tol\": 0.12239678204059601, \"model\": \"1\", \"type\": \"monomer_ptm\", \"seed\": \"0\", \"rmsd_to_reference\": 0.9210099577903748, \"mean_pae_interaction_AB\": 5.303506851196289, \"mean_pae_interaction_BA\": 3.636324167251587, \"mean_pae_interaction\": 4.469915390014648, \"mean_pae_intra_chain_A\": 3.4718270301818848, \"mean_pae_intra_chain_B\": 4.343640327453613, \"mean_pae_intra_chain\": 3.907733678817749, \"mean_pae\": 3.771350383758545, \"pTMscore\": 0.9059960246086121, \"elapsed_time\": 29.213154315948486}, \"seq\": \"SEELERESEEAERRLQEARKRSEEARERGDLKELAEALIEEARAVQELARVASERGNEEEAERAWEKAQRVYEEAQKVYEEAREQGDEYVLVLALEAAGLAVLAMAEVGASMLSENTEEAAKLLEQASHLAQQILEEARKLSEKARELGDDYVLAKALAAIAIAVLVLAMAAAARGNKEEAERAYEDARRVEEEARKVKESAEEQGDSEVKRLAEEAEQLAREARRLVQETRG/GLKGGLRVLADRLLRVARTLFIAVFLLVHGIVAKG\"}',\n",
       " 'mpnn_seq_0013': '{\"model_1_ptm_seed_0\": {\"mean_plddt\": 93.82864379882812, \"recycles\": 3, \"tol\": 5.223710536956787, \"model\": \"1\", \"type\": \"monomer_ptm\", \"seed\": \"0\", \"rmsd_to_reference\": 5.408987045288086, \"mean_pae_interaction_AB\": 29.44379997253418, \"mean_pae_interaction_BA\": 27.46966552734375, \"mean_pae_interaction\": 28.45673370361328, \"mean_pae_intra_chain_A\": 2.687991142272949, \"mean_pae_intra_chain_B\": 6.201236248016357, \"mean_pae_intra_chain\": 4.444613456726074, \"mean_pae\": 8.604155540466309, \"pTMscore\": 0.8167346715927124, \"elapsed_time\": 29.244503021240234}, \"seq\": \"SEELERESEEAERRLQEARKRSEEARERGDLKELAEALIEEARAVQELARVASERGNEEEAERAWEKAQRVYEEAQKVYEEAREQGDEEVLVLALQAAGLAVLAMAEVAASMLSENKEEAAKLLEQASHLAQQILEEARKLSEKARELGDDYVLALALAAIAIAVLVLAMAAAARGNKEEAERAYEDARRVEEEARKVKESAEEQGDSEVKRLAEEAEQLAREARRLVQETRG/GLAGGLRVLAERLLGVARTLFIAVFLLVHGVVARG\"}',\n",
       " 'mpnn_seq_0014': '{\"model_1_ptm_seed_0\": {\"mean_plddt\": 93.13626098632812, \"recycles\": 3, \"tol\": 4.005953311920166, \"model\": \"1\", \"type\": \"monomer_ptm\", \"seed\": \"0\", \"rmsd_to_reference\": 5.193074703216553, \"mean_pae_interaction_AB\": 29.106369018554688, \"mean_pae_interaction_BA\": 27.41402244567871, \"mean_pae_interaction\": 28.260196685791016, \"mean_pae_intra_chain_A\": 2.9211719036102295, \"mean_pae_intra_chain_B\": 6.039595127105713, \"mean_pae_intra_chain\": 4.480383396148682, \"mean_pae\": 8.734014511108398, \"pTMscore\": 0.8120859861373901, \"elapsed_time\": 29.144919872283936}, \"seq\": \"SEELERESEEAERRLQEARKRSEEARERGDLKELAEALIEEARAVQELARVASERGNEEEAERAWEKAQRVYEEAQKVYEEAREQGDEYVLVLALEAAGLAVLAMAEVAASMLSENTEEAAKLLEQASHLAQQILEEARKLSEKARELGDDYVLAKALAAIAIAVLVLAMAAAARGNKEEAERAYEDARRVEEEARKVKESAEEQGDSEVKRLAEEAEQLAREARRLVQETRG/GLKGGLRVLADRLLRVARTLFIAVFLLVHGVVDKG\"}',\n",
       " 'mpnn_seq_0015': '{\"model_1_ptm_seed_0\": {\"mean_plddt\": 94.43083953857422, \"recycles\": 3, \"tol\": 0.0824897512793541, \"model\": \"1\", \"type\": \"monomer_ptm\", \"seed\": \"0\", \"rmsd_to_reference\": 0.9104546308517456, \"mean_pae_interaction_AB\": 5.735976696014404, \"mean_pae_interaction_BA\": 3.6189868450164795, \"mean_pae_interaction\": 4.677481651306152, \"mean_pae_intra_chain_A\": 3.341127395629883, \"mean_pae_intra_chain_B\": 4.806784152984619, \"mean_pae_intra_chain\": 4.073955535888672, \"mean_pae\": 3.74383282661438, \"pTMscore\": 0.9079875349998474, \"elapsed_time\": 29.146674394607544}, \"seq\": \"SEELERESEEAERRLQEARKRSEEARERGDLKELAEALIEEARAVQELARVASERGNEEEAERAWEKAQRVYEEAQKVYEEAREQGDEYVLVLALEAAGLAVLAMAEVAASMLSENTEEAAKLLEQASHLAQQILEEARKLSEKARELGDDYVLAKALAAIAIAVLVLAQAAAARGNKEEAERAYEDARRVEEEARKVKESAEEQGDSEVKRLAEEAEQLAREARRLVQETRG/GEKGGLRVLADRLLRVARTLQIAVTLLVHGVVARG\"}',\n",
       " 'mpnn_seq_0016': '{\"model_1_ptm_seed_0\": {\"mean_plddt\": 93.71044158935547, \"recycles\": 3, \"tol\": 5.609484672546387, \"model\": \"1\", \"type\": \"monomer_ptm\", \"seed\": \"0\", \"rmsd_to_reference\": 5.4572625160217285, \"mean_pae_interaction_AB\": 29.50035858154297, \"mean_pae_interaction_BA\": 27.525968551635742, \"mean_pae_interaction\": 28.513164520263672, \"mean_pae_intra_chain_A\": 2.8104071617126465, \"mean_pae_intra_chain_B\": 6.361536026000977, \"mean_pae_intra_chain\": 4.585971832275391, \"mean_pae\": 8.711504936218262, \"pTMscore\": 0.8156218528747559, \"elapsed_time\": 29.1151225566864}, \"seq\": \"SEELERESEEAERRLQEARKRSEEARERGDLKELAEALIEEARAVQELARVASERGNEEEAERAWEKAQRVYEEAQKVYEEAREQGDEEVLVLALQAAGLAVLAMAEVAASMLSENTEEAAKLLEQASHLAQQILEEARKLSEKAREEGDDYVLALALAAIAIAVLVLAMAAAARGNKEEAERAYEDARRVEEEARKVKESAEEQGDSEVKRLAEEAEQLAREARRLVQETRG/GLKGGLRVLAERLLGVARTLFVAVFLLVHGVVARG\"}',\n",
       " 'mpnn_seq_0017': '{\"model_1_ptm_seed_0\": {\"mean_plddt\": 94.11898803710938, \"recycles\": 3, \"tol\": 0.0681949257850647, \"model\": \"1\", \"type\": \"monomer_ptm\", \"seed\": \"0\", \"rmsd_to_reference\": 0.8865780830383301, \"mean_pae_interaction_AB\": 6.677868366241455, \"mean_pae_interaction_BA\": 3.9024689197540283, \"mean_pae_interaction\": 5.290168762207031, \"mean_pae_intra_chain_A\": 3.3273258209228516, \"mean_pae_intra_chain_B\": 5.743621826171875, \"mean_pae_intra_chain\": 4.535473823547363, \"mean_pae\": 3.8987951278686523, \"pTMscore\": 0.9060640335083008, \"elapsed_time\": 29.113019704818726}, \"seq\": \"SEELERESEEAERRLQEARKRSEEARERGDLKELAEALIEEARAVQELARVASERGNEEEAERAWEKAQRVYEEAQKVYEEAREQGDREVLVLALQAAALAVLAQAEVAASMRSRNTEEAAKLLEQASHLAQQILEEARKLSEEARELGDDEVLAKALLAIALAVKVLAQAAAARGNKEEAERAYEDARRVEEEARKVKESAEEQGDSEVKRLAEEAEQLAREARRLVQETRG/GKKGGLRVLAEELLEVAKTLDRAVDLLVHGVVARG\"}',\n",
       " 'mpnn_seq_0018': '{\"model_1_ptm_seed_0\": {\"mean_plddt\": 93.3610610961914, \"recycles\": 3, \"tol\": 5.398715496063232, \"model\": \"1\", \"type\": \"monomer_ptm\", \"seed\": \"0\", \"rmsd_to_reference\": 5.218706130981445, \"mean_pae_interaction_AB\": 29.111658096313477, \"mean_pae_interaction_BA\": 26.99566078186035, \"mean_pae_interaction\": 28.053659439086914, \"mean_pae_intra_chain_A\": 2.694211721420288, \"mean_pae_intra_chain_B\": 6.250735282897949, \"mean_pae_intra_chain\": 4.472473621368408, \"mean_pae\": 8.52176570892334, \"pTMscore\": 0.8202008605003357, \"elapsed_time\": 29.846134662628174}, \"seq\": \"SEELERESEEAERRLQEARKRSEEARERGDLKELAEALIEEARAVQELARVASERGNEEEAERAWEKAQRVYEEAQKVYEEAREQGDEEVLVLALQAAALAVLAMAEVAASMLADNREEAAKLLEQASHLAQQILEEARKLSEKARELGDDEVLAKALLAIALAVLVLAMAAAARGNKEEAERAYEDARRVEEEARKVKESAEEQGDSEVKRLAEEAEQLAREARRLVQETRG/GLKGGLRVLAEELLEVAKTLFEAVTLLVHGVVDKG\"}',\n",
       " 'mpnn_seq_0019': '{\"model_1_ptm_seed_0\": {\"mean_plddt\": 92.1717529296875, \"recycles\": 3, \"tol\": 2.412459373474121, \"model\": \"1\", \"type\": \"monomer_ptm\", \"seed\": \"0\", \"rmsd_to_reference\": 5.250076770782471, \"mean_pae_interaction_AB\": 27.67649269104004, \"mean_pae_interaction_BA\": 25.081846237182617, \"mean_pae_interaction\": 26.379169464111328, \"mean_pae_intra_chain_A\": 2.9793875217437744, \"mean_pae_intra_chain_B\": 7.091560363769531, \"mean_pae_intra_chain\": 5.035473823547363, \"mean_pae\": 8.371720314025879, \"pTMscore\": 0.8188947439193726, \"elapsed_time\": 29.28719186782837}, \"seq\": \"SEELERESEEAERRLQEARKRSEEARERGDLKELAEALIEEARAVQELARVASERGNEEEAERAWEKAQRVYEEAQKVYEEAREQGDEEVLVLALQAAALAVLAMAEVAASMLAENTEEAAKLLEQASHLAQQILEEARKLSEKARELGDDEVLAKALLAIALAVLVLAMAAAARGNKEEAERAYEDARRVEEEARKVKESAEEQGDSEVKRLAEEAEQLAREARRLVQETRG/GLKGGLRVLAEELLEVAKTLYRAVTLLVHGVVARG\"}',\n",
       " 'mpnn_seq_0020': '{\"model_1_ptm_seed_0\": {\"mean_plddt\": 92.2337875366211, \"recycles\": 3, \"tol\": 3.994835138320923, \"model\": \"1\", \"type\": \"monomer_ptm\", \"seed\": \"0\", \"rmsd_to_reference\": 5.258716583251953, \"mean_pae_interaction_AB\": 27.792261123657227, \"mean_pae_interaction_BA\": 25.21251106262207, \"mean_pae_interaction\": 26.50238609313965, \"mean_pae_intra_chain_A\": 2.9798755645751953, \"mean_pae_intra_chain_B\": 6.855996131896973, \"mean_pae_intra_chain\": 4.917935848236084, \"mean_pae\": 8.396373748779297, \"pTMscore\": 0.818329930305481, \"elapsed_time\": 29.157705307006836}, \"seq\": \"SEELERESEEAERRLQEARKRSEEARERGDLKELAEALIEEARAVQELARVASERGNEEEAERAWEKAQRVYEEAQKVYEEAREQGDEEVLVLALQAAALAVLAMAEVAASMLARNTEEAAKLLEQASHLAQQILEEARKLSEKARELGDDEVLAKALLAIALAVLVLAMAAAARGNKEEAERAYEDARRVEEEARKVKESAEEQGDSEVKRLAEEAEQLAREARRLVQETRG/GLKGGLRVLAEELLEVAKTLFRAVTLLVHGVVERG\"}',\n",
       " 'mpnn_seq_0021': '{\"model_1_ptm_seed_0\": {\"mean_plddt\": 92.46391296386719, \"recycles\": 3, \"tol\": 2.197281837463379, \"model\": \"1\", \"type\": \"monomer_ptm\", \"seed\": \"0\", \"rmsd_to_reference\": 5.313508987426758, \"mean_pae_interaction_AB\": 29.436553955078125, \"mean_pae_interaction_BA\": 26.815418243408203, \"mean_pae_interaction\": 28.125986099243164, \"mean_pae_intra_chain_A\": 2.6859021186828613, \"mean_pae_intra_chain_B\": 8.263754844665527, \"mean_pae_intra_chain\": 5.474828720092773, \"mean_pae\": 8.56524658203125, \"pTMscore\": 0.820417046546936, \"elapsed_time\": 29.24089789390564}, \"seq\": \"SEELERESEEAERRLQEARKRSEEARERGDLKELAEALIEEARAVQELARVASERGNEEEAERAWEKAQRVYEEAQKVYEEAREQGDEEVLVLALQAAALAVLAMAEVAASMLAENREEAAKLLEQASHLAQQILEEARKLSEKARELGDDEVLAKALLAIALAVLVLAKAAAARGNKEEAERAYEDARRVEEEARKVKESAEEQGDSEVKRLAEEAEQLAREARRLVQETRG/GLKGGLRVLAEELLRTARTLDRAVDLLVHGVVERG\"}',\n",
       " 'mpnn_seq_0022': '{\"model_1_ptm_seed_0\": {\"mean_plddt\": 93.86550903320312, \"recycles\": 3, \"tol\": 0.13432979583740234, \"model\": \"1\", \"type\": \"monomer_ptm\", \"seed\": \"0\", \"rmsd_to_reference\": 0.8422741889953613, \"mean_pae_interaction_AB\": 6.6621174812316895, \"mean_pae_interaction_BA\": 4.035977363586426, \"mean_pae_interaction\": 5.349047660827637, \"mean_pae_intra_chain_A\": 3.4791882038116455, \"mean_pae_intra_chain_B\": 5.600660800933838, \"mean_pae_intra_chain\": 4.539924621582031, \"mean_pae\": 4.015730381011963, \"pTMscore\": 0.898358166217804, \"elapsed_time\": 29.148726224899292}, \"seq\": \"SEELERESEEAERRLQEARKRSEEARERGDLKELAEALIEEARAVQELARVASERGNEEEAERAWEKAQRVYEEAQKVYEEAREQGDEEVLVLALQAAALAVLAQAEVAASMLAENTEEAAKLLEQASHLAQQILEEARKLSEKARELGDDEVLAKALLAIALAVKVLAQAAAARGNKEEAERAYEDARRVEEEARKVKESAEEQGDSEVKRLAEEAEQLAREARRLVQETRG/GLKGGLRVLAEELLRVARELDKAVDLLVHGVVAKG\"}',\n",
       " 'mpnn_seq_0023': '{\"model_1_ptm_seed_0\": {\"mean_plddt\": 92.4210433959961, \"recycles\": 3, \"tol\": 2.0067293643951416, \"model\": \"1\", \"type\": \"monomer_ptm\", \"seed\": \"0\", \"rmsd_to_reference\": 5.345637321472168, \"mean_pae_interaction_AB\": 27.103111267089844, \"mean_pae_interaction_BA\": 24.21133041381836, \"mean_pae_interaction\": 25.6572208404541, \"mean_pae_intra_chain_A\": 2.675168514251709, \"mean_pae_intra_chain_B\": 7.567933082580566, \"mean_pae_intra_chain\": 5.121550559997559, \"mean_pae\": 7.993264675140381, \"pTMscore\": 0.8218120336532593, \"elapsed_time\": 29.256187915802002}, \"seq\": \"SEELERESEEAERRLQEARKRSEEARERGDLKELAEALIEEARAVQELARVASERGNEEEAERAWEKAQRVYEEAQKVYEEAREQGDREVLVLALQAAALAVLAQALVAASMLADNREEAAKLLEQASHLAQQILEEARKLSEEARELGDDEVLAKALLAIALAVLVLAQAAAARGNKEEAERAYEDARRVEEEARKVKESAEEQGDSEVKRLAEEAEQLAREARRLVQETRG/GKKGGLRVLAEELLEVAKTLYEAVDILVHGVVEKG\"}',\n",
       " 'mpnn_seq_0024': '{\"model_1_ptm_seed_0\": {\"mean_plddt\": 94.51516723632812, \"recycles\": 3, \"tol\": 0.12310901284217834, \"model\": \"1\", \"type\": \"monomer_ptm\", \"seed\": \"0\", \"rmsd_to_reference\": 0.9415481686592102, \"mean_pae_interaction_AB\": 6.546818733215332, \"mean_pae_interaction_BA\": 3.7467873096466064, \"mean_pae_interaction\": 5.14680290222168, \"mean_pae_intra_chain_A\": 3.2611136436462402, \"mean_pae_intra_chain_B\": 5.550940036773682, \"mean_pae_intra_chain\": 4.406026840209961, \"mean_pae\": 3.8079779148101807, \"pTMscore\": 0.9080629348754883, \"elapsed_time\": 29.21931219100952}, \"seq\": \"SEELERESEEAERRLQEARKRSEEARERGDLKELAEALIEEARAVQELARVASERGNEEEAERAWEKAQRVYEEAQKVYEEAREQGDEEVLVKALQAAALAVLAQAEVAASMLAENKEEAAKLLEQASHLAQQILEEARKLSEKARELGDDEVLAEALLAIALAVLVLAKAAAARGNKEEAERAYEDARRVEEEARKVKESAEEQGDSEVKRLAEEAEQLAREARRLVQETRG/GLKGGLRVLARELLEVAKTLDRAVDLLVHGVVEKG\"}',\n",
       " 'mpnn_seq_0025': '{\"model_1_ptm_seed_0\": {\"mean_plddt\": 94.39845275878906, \"recycles\": 3, \"tol\": 0.8591750264167786, \"model\": \"1\", \"type\": \"monomer_ptm\", \"seed\": \"0\", \"rmsd_to_reference\": 5.3154191970825195, \"mean_pae_interaction_AB\": 29.431133270263672, \"mean_pae_interaction_BA\": 27.305173873901367, \"mean_pae_interaction\": 28.368152618408203, \"mean_pae_intra_chain_A\": 2.7445192337036133, \"mean_pae_intra_chain_B\": 5.222054481506348, \"mean_pae_intra_chain\": 3.9832868576049805, \"mean_pae\": 8.612998008728027, \"pTMscore\": 0.81693434715271, \"elapsed_time\": 29.091920137405396}, \"seq\": \"SEELERESEEAERRLQEARKRSEEARERGDLKELAEALIEEARAVQELARVASERGNEEEAERAWEKAQRVYEEAQKVYEEAREQGDEYVLVLALRAAALAVLAQALVAKSMLAENKEEAAKLLEQASHLAQQILEEARKLSEKARELGDDYVLAIALEAIALAVLVLAQAAVARGNKEEAERAYEDARRVEEEARKVKESAEEQGDSEVKRLAEEAEQLAREARRLVQETRG/GLKGGLRVLAEELLETARTLQEAVDELVHGVVEEG\"}',\n",
       " 'mpnn_seq_0026': '{\"model_1_ptm_seed_0\": {\"mean_plddt\": 90.1256103515625, \"recycles\": 3, \"tol\": 1.4188069105148315, \"model\": \"1\", \"type\": \"monomer_ptm\", \"seed\": \"0\", \"rmsd_to_reference\": 5.192692279815674, \"mean_pae_interaction_AB\": 23.83812713623047, \"mean_pae_interaction_BA\": 19.23246192932129, \"mean_pae_interaction\": 21.535293579101562, \"mean_pae_intra_chain_A\": 2.7852866649627686, \"mean_pae_intra_chain_B\": 9.81448745727539, \"mean_pae_intra_chain\": 6.299887180328369, \"mean_pae\": 7.191432952880859, \"pTMscore\": 0.834633469581604, \"elapsed_time\": 29.78875422477722}, \"seq\": \"SEELERESEEAERRLQEARKRSEEARERGDLKELAEALIEEARAVQELARVASERGNEEEAERAWEKAQRVYEEAQKVYEEAREQGDEYVLVLALQAAALAVLAMAEVAASMLAENKEEAAKLLEQASHLAQQILEEARKLSEKARELGDDYVLAIALEAIALAVLVLAMAAVARGNKEEAERAYEDARRVEEEARKVKESAEEQGDSEVKRLAEEAEQLAREARRLVQETRG/GLKGGLRVLAERLLETARTLYRAVTLLVHGVVARG\"}',\n",
       " 'mpnn_seq_0027': '{\"model_1_ptm_seed_0\": {\"mean_plddt\": 94.40681457519531, \"recycles\": 3, \"tol\": 1.9285211563110352, \"model\": \"1\", \"type\": \"monomer_ptm\", \"seed\": \"0\", \"rmsd_to_reference\": 5.5360331535339355, \"mean_pae_interaction_AB\": 29.255836486816406, \"mean_pae_interaction_BA\": 27.300817489624023, \"mean_pae_interaction\": 28.27832794189453, \"mean_pae_intra_chain_A\": 2.641911268234253, \"mean_pae_intra_chain_B\": 5.313581466674805, \"mean_pae_intra_chain\": 3.9777464866638184, \"mean_pae\": 8.51988410949707, \"pTMscore\": 0.8196243047714233, \"elapsed_time\": 29.158447742462158}, \"seq\": \"SEELERESEEAERRLQEARKRSEEARERGDLKELAEALIEEARAVQELARVASERGNEEEAERAWEKAQRVYEEAQKVYEEAREQGDEYVLVLALNAAAYAVLAQALVAASMLAENKEEAAKLLEQASHLAQQILEEARKLSEKARELGDDYVLAIALEAIALAVLVLAQAAAARGNKEEAERAYEDARRVEEEARKVKESAEEQGDSEVKRLAEEAEQLAREARRLVQETRG/GLKGGLRVLAERLLETARTLQKAVDELVHGVVERG\"}',\n",
       " 'mpnn_seq_0028': '{\"model_1_ptm_seed_0\": {\"mean_plddt\": 94.43388366699219, \"recycles\": 3, \"tol\": 1.938381552696228, \"model\": \"1\", \"type\": \"monomer_ptm\", \"seed\": \"0\", \"rmsd_to_reference\": 5.261905670166016, \"mean_pae_interaction_AB\": 29.238265991210938, \"mean_pae_interaction_BA\": 26.967971801757812, \"mean_pae_interaction\": 28.103118896484375, \"mean_pae_intra_chain_A\": 2.6577000617980957, \"mean_pae_intra_chain_B\": 4.999544620513916, \"mean_pae_intra_chain\": 3.828622341156006, \"mean_pae\": 8.479364395141602, \"pTMscore\": 0.8190074563026428, \"elapsed_time\": 29.2701473236084}, \"seq\": \"SEELERESEEAERRLQEARKRSEEARERGDLKELAEALIEEARAVQELARVASERGNEEEAERAWEKAQRVYEEAQKVYEEAREQGDLYVLVLALRAAALAVLAQALVAASMLARNEEEAAKLLEQASHLAQQILEEARKLSEEARELGDDYVLAIALEAIALAVLVLAQAAAARGNKEEAERAYEDARRVEEEARKVKESAEEQGDSEVKRLAEEAEQLAREARRLVQETRG/GKKGGLRVLAEELLETARELQRAVDELVHGVVAAG\"}',\n",
       " 'mpnn_seq_0029': '{\"model_1_ptm_seed_0\": {\"mean_plddt\": 89.76081085205078, \"recycles\": 3, \"tol\": 2.4158215522766113, \"model\": \"1\", \"type\": \"monomer_ptm\", \"seed\": \"0\", \"rmsd_to_reference\": 5.218896389007568, \"mean_pae_interaction_AB\": 23.081411361694336, \"mean_pae_interaction_BA\": 18.064002990722656, \"mean_pae_interaction\": 20.572708129882812, \"mean_pae_intra_chain_A\": 2.8089728355407715, \"mean_pae_intra_chain_B\": 10.204943656921387, \"mean_pae_intra_chain\": 6.5069580078125, \"mean_pae\": 7.008850574493408, \"pTMscore\": 0.8367114067077637, \"elapsed_time\": 29.17540192604065}, \"seq\": \"SEELERESEEAERRLQEARKRSEEARERGDLKELAEALIEEARAVQELARVASERGNEEEAERAWEKAQRVYEEAQKVYEEAREQGDEYVLVLALEAAALAVLAQALVAASMLAENKEEAAKLLEQASHLAQQILEEARKLSEKARELGDDYVLAKALAAIALAVLVLAQAAAARGNKEEAERAYEDARRVEEEARKVKESAEEQGDSEVKRLAEEAEQLAREARRLVQETRG/GLKGGLRVLADRLLRTARTLQEAVDILVHGVVEKG\"}',\n",
       " 'mpnn_seq_0030': '{\"model_1_ptm_seed_0\": {\"mean_plddt\": 91.39960479736328, \"recycles\": 3, \"tol\": 1.701324462890625, \"model\": \"1\", \"type\": \"monomer_ptm\", \"seed\": \"0\", \"rmsd_to_reference\": 5.273248672485352, \"mean_pae_interaction_AB\": 23.66254997253418, \"mean_pae_interaction_BA\": 19.95918083190918, \"mean_pae_interaction\": 21.81086540222168, \"mean_pae_intra_chain_A\": 2.810567617416382, \"mean_pae_intra_chain_B\": 7.919177055358887, \"mean_pae_intra_chain\": 5.364872455596924, \"mean_pae\": 7.244269371032715, \"pTMscore\": 0.8315746188163757, \"elapsed_time\": 29.19474506378174}, \"seq\": \"SEELERESEEAERRLQEARKRSEEARERGDLKELAEALIEEARAVQELARVASERGNEEEAERAWEKAQRVYEEAQKVYEEAREQGDEYVLVLALNAAALAVLAQALVAASMLAENREEAAKLLEQASHLAQQILEEARKLSEKARELGDDYVLAIALEAIALAVLVLAQAAAARGNKEEAERAYEDARRVEEEARKVKESAEEQGDSEVKRLAEEAEQLAREARRLVQETRG/GLKGGLRVLAERLLETARTLQRAVDELVHGVVERG\"}',\n",
       " 'mpnn_seq_0031': '{\"model_1_ptm_seed_0\": {\"mean_plddt\": 93.8311538696289, \"recycles\": 3, \"tol\": 2.5096375942230225, \"model\": \"1\", \"type\": \"monomer_ptm\", \"seed\": \"0\", \"rmsd_to_reference\": 5.317374229431152, \"mean_pae_interaction_AB\": 29.352195739746094, \"mean_pae_interaction_BA\": 27.40398406982422, \"mean_pae_interaction\": 28.378089904785156, \"mean_pae_intra_chain_A\": 2.71028733253479, \"mean_pae_intra_chain_B\": 5.62212610244751, \"mean_pae_intra_chain\": 4.1662068367004395, \"mean_pae\": 8.595196723937988, \"pTMscore\": 0.817981481552124, \"elapsed_time\": 29.181529760360718}, \"seq\": \"SEELERESEEAERRLQEARKRSEEARERGDLKELAEALIEEARAVQELARVASERGNEEEAERAWEKAQRVYEEAQKVYEEAREQGDEYVLVLALQAAALAVLAQAEVAASMLAENKEEAAKLLEQASHLAQQILEEARKLSEKARELGDDYVLAIALEAIALAVLVLAQAAAARGNKEEAERAYEDARRVEEEARKVKESAEEQGDSEVKRLAEEAEQLAREARRLVQETRG/GLKGGLRVLAERLLETARTLQRAVDLLVHGVVEKG\"}',\n",
       " 'mpnn_seq_0032': '{\"model_1_ptm_seed_0\": {\"mean_plddt\": 94.66963195800781, \"recycles\": 3, \"tol\": 0.08296047896146774, \"model\": \"1\", \"type\": \"monomer_ptm\", \"seed\": \"0\", \"rmsd_to_reference\": 0.8556766510009766, \"mean_pae_interaction_AB\": 6.0906147956848145, \"mean_pae_interaction_BA\": 3.525223970413208, \"mean_pae_interaction\": 4.807919502258301, \"mean_pae_intra_chain_A\": 3.2025644779205322, \"mean_pae_intra_chain_B\": 5.0887250900268555, \"mean_pae_intra_chain\": 4.145644664764404, \"mean_pae\": 3.670711040496826, \"pTMscore\": 0.9118576645851135, \"elapsed_time\": 29.166592597961426}, \"seq\": \"SEELERESEEAERRLQEARKRSEEARERGDLKELAEALIEEARAVQELARVASERGNEEEAERAWEKAQRVYEEAQKVYEEAREQGDEYVLVLALEAAALAVLAQALVAASMLAENKEEAAKLLEQASHLAQQILEEARKLSEKARELGDDYVLAIALEAIALAVLVLAQAAAARGNKEEAERAYEDARRVEEEARKVKESAEEQGDSEVKRLAEEAEQLAREARRLVQETRG/GLKGGLRVLAERLLRVARTLQRAVDELVHGVVEKG\"}',\n",
       " 'mpnn_seq_0033': '{\"model_1_ptm_seed_0\": {\"mean_plddt\": 94.45869445800781, \"recycles\": 3, \"tol\": 2.6788673400878906, \"model\": \"1\", \"type\": \"monomer_ptm\", \"seed\": \"0\", \"rmsd_to_reference\": 5.370617389678955, \"mean_pae_interaction_AB\": 29.560325622558594, \"mean_pae_interaction_BA\": 27.36853790283203, \"mean_pae_interaction\": 28.464431762695312, \"mean_pae_intra_chain_A\": 2.7423017024993896, \"mean_pae_intra_chain_B\": 5.9381489753723145, \"mean_pae_intra_chain\": 4.3402252197265625, \"mean_pae\": 8.641134262084961, \"pTMscore\": 0.8180088400840759, \"elapsed_time\": 29.690807580947876}, \"seq\": \"SEELERESEEAERRLQEARKRSEEARERGDLKELAEALIEEARAVQELARVASERGNEEEAERAWEKAQRVYEEAQKVYEEAREQGDLEVLVLALEAAALAVLAMAEVAASMLARNEEEAAKLLEQASHLAQQILEEARKLSEKARELGDDEVLAKALAAIALAVKVLALAAAARGNKEEAERAYEDARRVEEEARKVKESAEEQGDSEVKRLAEEAEQLAREARRLVQETRG/GLKGGLRVLVERLLRVARTLYEAVTLLVHGVVAKG\"}',\n",
       " 'mpnn_seq_0034': '{\"model_1_ptm_seed_0\": {\"mean_plddt\": 91.40512084960938, \"recycles\": 3, \"tol\": 1.2197105884552002, \"model\": \"1\", \"type\": \"monomer_ptm\", \"seed\": \"0\", \"rmsd_to_reference\": 5.547287464141846, \"mean_pae_interaction_AB\": 29.54193687438965, \"mean_pae_interaction_BA\": 26.3696346282959, \"mean_pae_interaction\": 27.955785751342773, \"mean_pae_intra_chain_A\": 2.7347748279571533, \"mean_pae_intra_chain_B\": 10.907602310180664, \"mean_pae_intra_chain\": 6.821188449859619, \"mean_pae\": 8.607864379882812, \"pTMscore\": 0.8189809322357178, \"elapsed_time\": 29.17003035545349}, \"seq\": \"SEELERESEEAERRLQEARKRSEEARERGDLKELAEALIEEARAVQELARVASERGNEEEAERAWEKAQRVYEEAQKVYEEAREQGDLEVLVLALQAAALAVLAKAEVAASMLSRNEEEAAKLLEQASHLAQQILEEARKLSEKARELGDDEVLAIALTAIALAVLVLAKAAVARGNKEEAERAYEDARRVEEEARKVKESAEEQGDSEVKRLAEEAEQLAREARRLVQETRG/GLKGGLRVLTRRLLETARTLDRAVDLLVHGVVARG\"}',\n",
       " 'mpnn_seq_0035': '{\"model_1_ptm_seed_0\": {\"mean_plddt\": 91.97804260253906, \"recycles\": 3, \"tol\": 2.2207083702087402, \"model\": \"1\", \"type\": \"monomer_ptm\", \"seed\": \"0\", \"rmsd_to_reference\": 5.473721504211426, \"mean_pae_interaction_AB\": 29.7980899810791, \"mean_pae_interaction_BA\": 26.82639503479004, \"mean_pae_interaction\": 28.31224250793457, \"mean_pae_intra_chain_A\": 2.7787363529205322, \"mean_pae_intra_chain_B\": 9.109359741210938, \"mean_pae_intra_chain\": 5.944047927856445, \"mean_pae\": 8.689666748046875, \"pTMscore\": 0.8175700306892395, \"elapsed_time\": 29.169466257095337}, \"seq\": \"SEELERESEEAERRLQEARKRSEEARERGDLKELAEALIEEARAVQELARVASERGNEEEAERAWEKAQRVYEEAQKVYEEAREQGDLEVLVLALQAAALAVLAKAEVAASMLAENREEAAKLLEQASHLAQQILEEARKLSEKARELGDDEVLAKALLAIALAVKVLAKAAVARGNKEEAERAYEDARRVEEEARKVKESAEEQGDSEVKRLAEEAEQLAREARRLVQETRG/GLKGGLRVLVERLLETAKTLDRAVDLLVHGVVARG\"}',\n",
       " 'mpnn_seq_0036': '{\"model_1_ptm_seed_0\": {\"mean_plddt\": 92.61149597167969, \"recycles\": 3, \"tol\": 3.082306146621704, \"model\": \"1\", \"type\": \"monomer_ptm\", \"seed\": \"0\", \"rmsd_to_reference\": 5.373610019683838, \"mean_pae_interaction_AB\": 27.17916488647461, \"mean_pae_interaction_BA\": 24.221227645874023, \"mean_pae_interaction\": 25.7001953125, \"mean_pae_intra_chain_A\": 2.7153382301330566, \"mean_pae_intra_chain_B\": 7.808695316314697, \"mean_pae_intra_chain\": 5.262016773223877, \"mean_pae\": 8.037043571472168, \"pTMscore\": 0.8220471143722534, \"elapsed_time\": 29.13282299041748}, \"seq\": \"SEELERESEEAERRLQEARKRSEEARERGDLKELAEALIEEARAVQELARVASERGNEEEAERAWEKAQRVYEEAQKVYEEAREQGDLEVLVLALQAAALAVLAQAEVAASMLSRNEEEAAKLLEQASHLAQQILEEARKLSEKARELGDDEVLAIALTAIALAVLVLAQAAVARGNKEEAERAYEDARRVEEEARKVKESAEEQGDSEVKRLAEEAEQLAREARRLVQETRG/GLKGGLRVLTERLLETARTLQRAVDLLVHGVVARG\"}',\n",
       " 'mpnn_seq_0037': '{\"model_1_ptm_seed_0\": {\"mean_plddt\": 91.67027282714844, \"recycles\": 3, \"tol\": 1.0546793937683105, \"model\": \"1\", \"type\": \"monomer_ptm\", \"seed\": \"0\", \"rmsd_to_reference\": 5.569355010986328, \"mean_pae_interaction_AB\": 29.697185516357422, \"mean_pae_interaction_BA\": 26.7424259185791, \"mean_pae_interaction\": 28.219806671142578, \"mean_pae_intra_chain_A\": 2.73576021194458, \"mean_pae_intra_chain_B\": 10.123645782470703, \"mean_pae_intra_chain\": 6.4297027587890625, \"mean_pae\": 8.652984619140625, \"pTMscore\": 0.818489670753479, \"elapsed_time\": 29.19100284576416}, \"seq\": \"SEELERESEEAERRLQEARKRSEEARERGDLKELAEALIEEARAVQELARVASERGNEEEAERAWEKAQRVYEEAQKVYEEAREQGDLEVLVKALEAAALAVLAKAEVAASMLSRNEEEAAKLLEQASHLAQQILEEARKLSEKARELGDDEVLAIALTAIALAVLVLAKAAVARGNKEEAERAYEDARRVEEEARKVKESAEEQGDSEVKRLAEEAEQLAREARRLVQETRG/GLKGGLRVLTRRLLEVARTLDRAVDLLVHGVVARG\"}',\n",
       " 'mpnn_seq_0038': '{\"model_1_ptm_seed_0\": {\"mean_plddt\": 91.9789810180664, \"recycles\": 3, \"tol\": 2.6585469245910645, \"model\": \"1\", \"type\": \"monomer_ptm\", \"seed\": \"0\", \"rmsd_to_reference\": 5.589548110961914, \"mean_pae_interaction_AB\": 29.154436111450195, \"mean_pae_interaction_BA\": 26.556264877319336, \"mean_pae_interaction\": 27.855350494384766, \"mean_pae_intra_chain_A\": 2.7205581665039062, \"mean_pae_intra_chain_B\": 7.774534225463867, \"mean_pae_intra_chain\": 5.247546195983887, \"mean_pae\": 8.520313262939453, \"pTMscore\": 0.816678524017334, \"elapsed_time\": 29.157950162887573}, \"seq\": \"SEELERESEEAERRLQEARKRSEEARERGDLKELAEALIEEARAVQELARVASERGNEEEAERAWEKAQRVYEEAQKVYEEAREQGDEEVLVLALQAAALAVLARAEVAASMLARNEEEAAKLLEQASHLAQQILEEARKLSEKARELGDDEVLAIALAAIALAVLVLAKAAVARGNKEEAERAYEDARRVEEEARKVKESAEEQGDSEVKRLAEEAEQLAREARRLVQETRG/GLKGGLRVLTERLYETAKTLDKAVDLLVHGVVAKG\"}',\n",
       " 'mpnn_seq_0039': '{\"model_1_ptm_seed_0\": {\"mean_plddt\": 92.04774475097656, \"recycles\": 3, \"tol\": 0.9666699767112732, \"model\": \"1\", \"type\": \"monomer_ptm\", \"seed\": \"0\", \"rmsd_to_reference\": 5.5040764808654785, \"mean_pae_interaction_AB\": 29.49616050720215, \"mean_pae_interaction_BA\": 26.68441390991211, \"mean_pae_interaction\": 28.090286254882812, \"mean_pae_intra_chain_A\": 2.7830657958984375, \"mean_pae_intra_chain_B\": 8.689590454101562, \"mean_pae_intra_chain\": 5.736328125, \"mean_pae\": 8.635110855102539, \"pTMscore\": 0.8168330788612366, \"elapsed_time\": 29.061160802841187}, \"seq\": \"SEELERESEEAERRLQEARKRSEEARERGDLKELAEALIEEARAVQELARVASERGNEEEAERAWEKAQRVYEEAQKVYEEAREQGDLEVLVLALNAAALAVLAKAEVAASMLADNREEAAKLLEQASHLAQQILEEARKLSEKARELGDDYVLAIALTAIALAVKVLAKAAVARGNKEEAERAYEDARRVEEEARKVKESAEEQGDSEVKRLAEEAEQLAREARRLVQETRG/GLKGGLRVLTERLLETARTLDRAVDLLVHGVVARG\"}',\n",
       " 'mpnn_seq_0040': '{\"model_1_ptm_seed_0\": {\"mean_plddt\": 89.28713989257812, \"recycles\": 3, \"tol\": 0.6893488764762878, \"model\": \"1\", \"type\": \"monomer_ptm\", \"seed\": \"0\", \"rmsd_to_reference\": 5.217253684997559, \"mean_pae_interaction_AB\": 25.216678619384766, \"mean_pae_interaction_BA\": 20.8385066986084, \"mean_pae_interaction\": 23.027591705322266, \"mean_pae_intra_chain_A\": 3.0621535778045654, \"mean_pae_intra_chain_B\": 9.57758903503418, \"mean_pae_intra_chain\": 6.319871425628662, \"mean_pae\": 7.731692790985107, \"pTMscore\": 0.8163112998008728, \"elapsed_time\": 29.74282956123352}, \"seq\": \"SEELERESEEAERRLQEARKRSEEARERGDLKELAEALIEEARAVQELARVASERGNEEEAERAWEKAQRVYEEAQKVYEEAREQGDEEVLVLALQAAALAVLALAEVAASMLAENREEAAKLLEQASHLAQQILEEARKLSEKARELGDDEVLALALAAIALAVLVLALAAVARGNKEEAERAYEDARRVEEEARKVKESAEEQGDSEVKRLAEEAEQLAREARRLVQETRG/GLKGGLRVLVERLLETARTLYEAVTLLVHGVVARG\"}',\n",
       " 'mpnn_seq_0041': '{\"model_1_ptm_seed_0\": {\"mean_plddt\": 94.43763732910156, \"recycles\": 3, \"tol\": 0.14139816164970398, \"model\": \"1\", \"type\": \"monomer_ptm\", \"seed\": \"0\", \"rmsd_to_reference\": 0.9958854913711548, \"mean_pae_interaction_AB\": 6.226226329803467, \"mean_pae_interaction_BA\": 3.7279865741729736, \"mean_pae_interaction\": 4.97710657119751, \"mean_pae_intra_chain_A\": 3.3366281986236572, \"mean_pae_intra_chain_B\": 5.311748027801514, \"mean_pae_intra_chain\": 4.324188232421875, \"mean_pae\": 3.819091558456421, \"pTMscore\": 0.9082507491111755, \"elapsed_time\": 29.161952257156372}, \"seq\": \"SEELERESEEAERRLQEARKRSEEARERGDLKELAEALIEEARAVQELARVASERGNEEEAERAWEKAQRVYEEAQKVYEEAREQGDEEVLVKALRAAALAVLAQAEVAASMLSDNTEEAAKLLEQASHLAQQILEEARKLSEKARELGDDEVLALALEAIALAVKVLAQAAVARGNKEEAERAYEDARRVEEEARKVKESAEEQGDSEVKRLAEEAEQLAREARRLVQETRG/GEKGGLRVLAEELLRVARELERAVDLLVHGVVARG\"}',\n",
       " 'mpnn_seq_0042': '{\"model_1_ptm_seed_0\": {\"mean_plddt\": 94.39523315429688, \"recycles\": 3, \"tol\": 0.11015930026769638, \"model\": \"1\", \"type\": \"monomer_ptm\", \"seed\": \"0\", \"rmsd_to_reference\": 0.9571928381919861, \"mean_pae_interaction_AB\": 6.326460361480713, \"mean_pae_interaction_BA\": 3.7731151580810547, \"mean_pae_interaction\": 5.049787521362305, \"mean_pae_intra_chain_A\": 3.3370349407196045, \"mean_pae_intra_chain_B\": 5.473791599273682, \"mean_pae_intra_chain\": 4.4054131507873535, \"mean_pae\": 3.8438334465026855, \"pTMscore\": 0.9076786041259766, \"elapsed_time\": 29.13123917579651}, \"seq\": \"SEELERESEEAERRLQEARKRSEEARERGDLKELAEALIEEARAVQELARVASERGNEEEAERAWEKAQRVYEEAQKVYEEAREQGDREVLVKALRAAALAVLAMAEVAASMLSDNTEEAAKLLEQASHLAQQILEEARKLSEEARELGDDYVLALALEAIALAVKVLAMAAVARGNKEEAERAYEDARRVEEEARKVKESAEEQGDSEVKRLAEEAEQLAREARRLVQETRG/GKKGGLRVLAEELLRVARELYRAVTLLVHGVVDRG\"}',\n",
       " 'mpnn_seq_0043': '{\"model_1_ptm_seed_0\": {\"mean_plddt\": 92.72799682617188, \"recycles\": 3, \"tol\": 1.7925841808319092, \"model\": \"1\", \"type\": \"monomer_ptm\", \"seed\": \"0\", \"rmsd_to_reference\": 5.569190502166748, \"mean_pae_interaction_AB\": 29.21750259399414, \"mean_pae_interaction_BA\": 26.980690002441406, \"mean_pae_interaction\": 28.099096298217773, \"mean_pae_intra_chain_A\": 2.9638423919677734, \"mean_pae_intra_chain_B\": 6.141757011413574, \"mean_pae_intra_chain\": 4.552799701690674, \"mean_pae\": 8.732538223266602, \"pTMscore\": 0.8157038688659668, \"elapsed_time\": 29.190282106399536}, \"seq\": \"SEELERESEEAERRLQEARKRSEEARERGDLKELAEALIEEARAVQELARVASERGNEEEAERAWEKAQRVYEEAQKVYEEAREQGDEEVLVKALQAAAYAVLAMAEVAASMLSENTEEAAKLLEQASHLAQQILEEARKLSEKARELGDDEVLAVALEAIALAVLVLAQAAVARGNKEEAERAYEDARRVEEEARKVKESAEEQGDSEVKRLAEEAEQLAREARRLVQETRG/GLKGGLRVLAEELLRTARTLQRAVDLLVHGVVARG\"}',\n",
       " 'mpnn_seq_0044': '{\"model_1_ptm_seed_0\": {\"mean_plddt\": 94.50106048583984, \"recycles\": 3, \"tol\": 0.14929261803627014, \"model\": \"1\", \"type\": \"monomer_ptm\", \"seed\": \"0\", \"rmsd_to_reference\": 1.0330201387405396, \"mean_pae_interaction_AB\": 6.218171119689941, \"mean_pae_interaction_BA\": 3.716670036315918, \"mean_pae_interaction\": 4.96742057800293, \"mean_pae_intra_chain_A\": 3.344644546508789, \"mean_pae_intra_chain_B\": 5.270018577575684, \"mean_pae_intra_chain\": 4.307331562042236, \"mean_pae\": 3.821953535079956, \"pTMscore\": 0.9068827033042908, \"elapsed_time\": 29.202898502349854}, \"seq\": \"SEELERESEEAERRLQEARKRSEEARERGDLKELAEALIEEARAVQELARVASERGNEEEAERAWEKAQRVYEEAQKVYEEAREQGDEEVLVKALRAAALAVLAMAEVAASMLSENTEEAAKLLEQASHLAQQILEEARKLSEKARELGDDEVLALALEAIALAVLVLAKAAVARGNKEEAERAYEDARRVEEEARKVKESAEEQGDSEVKRLAEEAEQLAREARRLVQETRG/GEKGGLRVLAEELLRVARELDRAVDLLVHGVVARG\"}',\n",
       " 'mpnn_seq_0045': '{\"model_1_ptm_seed_0\": {\"mean_plddt\": 94.37899780273438, \"recycles\": 3, \"tol\": 0.19675716757774353, \"model\": \"1\", \"type\": \"monomer_ptm\", \"seed\": \"0\", \"rmsd_to_reference\": 1.028321385383606, \"mean_pae_interaction_AB\": 6.212086200714111, \"mean_pae_interaction_BA\": 3.7306900024414062, \"mean_pae_interaction\": 4.97138786315918, \"mean_pae_intra_chain_A\": 3.3525686264038086, \"mean_pae_intra_chain_B\": 5.254100799560547, \"mean_pae_intra_chain\": 4.303334712982178, \"mean_pae\": 3.828083038330078, \"pTMscore\": 0.9071912169456482, \"elapsed_time\": 29.140822887420654}, \"seq\": \"SEELERESEEAERRLQEARKRSEEARERGDLKELAEALIEEARAVQELARVASERGNEEEAERAWEKAQRVYEEAQKVYEEAREQGDEEVLVKALRAAALAVLAMAEVAASMLSDNTEEAAKLLEQASHLAQQILEEARKLSEKARELGDDEVLALALEAIALAVRVLAMAAVARGNKEEAERAYEDARRVEEEARKVKESAEEQGDSEVKRLAEEAEQLAREARRLVQETRG/GEKGGLRVLAEELLRVARELERAVDLLVHGVVARG\"}',\n",
       " 'mpnn_seq_0046': '{\"model_1_ptm_seed_0\": {\"mean_plddt\": 94.60969543457031, \"recycles\": 3, \"tol\": 0.1875758022069931, \"model\": \"1\", \"type\": \"monomer_ptm\", \"seed\": \"0\", \"rmsd_to_reference\": 0.9217538833618164, \"mean_pae_interaction_AB\": 6.198390483856201, \"mean_pae_interaction_BA\": 3.6675939559936523, \"mean_pae_interaction\": 4.932991981506348, \"mean_pae_intra_chain_A\": 3.2638914585113525, \"mean_pae_intra_chain_B\": 5.26052188873291, \"mean_pae_intra_chain\": 4.262206554412842, \"mean_pae\": 3.752211809158325, \"pTMscore\": 0.908658504486084, \"elapsed_time\": 29.163060665130615}, \"seq\": \"SEELERESEEAERRLQEARKRSEEARERGDLKELAEALIEEARAVQELARVASERGNEEEAERAWEKAQRVYEEAQKVYEEAREQGDEEVLVKALRAAALAVLAQAEVAASMLSENREEAAKLLEQASHLAQQILEEARKLSEKARELGDDEVLALALEAIALAVLVLAQAAVARGNKEEAERAYEDARRVEEEARKVKESAEEQGDSEVKRLAEEAEQLAREARRLVQETRG/GEKGGLRVLAEELLEVARELQKAVDLLVHGVVAKG\"}',\n",
       " 'mpnn_seq_0047': '{\"model_1_ptm_seed_0\": {\"mean_plddt\": 94.51805114746094, \"recycles\": 3, \"tol\": 0.10811004042625427, \"model\": \"1\", \"type\": \"monomer_ptm\", \"seed\": \"0\", \"rmsd_to_reference\": 0.963830292224884, \"mean_pae_interaction_AB\": 6.21511697769165, \"mean_pae_interaction_BA\": 3.713775396347046, \"mean_pae_interaction\": 4.964446067810059, \"mean_pae_intra_chain_A\": 3.2986626625061035, \"mean_pae_intra_chain_B\": 5.31574010848999, \"mean_pae_intra_chain\": 4.307201385498047, \"mean_pae\": 3.7884302139282227, \"pTMscore\": 0.9080306887626648, \"elapsed_time\": 29.11071801185608}, \"seq\": \"SEELERESEEAERRLQEARKRSEEARERGDLKELAEALIEEARAVQELARVASERGNEEEAERAWEKAQRVYEEAQKVYEEAREQGDEEVLVKALRAAALAVLAQAEVAASMLSENREEAAKLLEQASHLAQQILEEARKLSEKARELGDDEVLALALEAIALAVEVLAQAAVARGNKEEAERAYEDARRVEEEARKVKESAEEQGDSEVKRLAEEAEQLAREARRLVQETRG/GLKGGLRVLAEELLRVARELQRAVDLLVHGVVARG\"}',\n",
       " 'mpnn_seq_0048': '{\"model_1_ptm_seed_0\": {\"mean_plddt\": 92.35721588134766, \"recycles\": 3, \"tol\": 0.864176332950592, \"model\": \"1\", \"type\": \"monomer_ptm\", \"seed\": \"0\", \"rmsd_to_reference\": 5.326821327209473, \"mean_pae_interaction_AB\": 29.237672805786133, \"mean_pae_interaction_BA\": 26.714323043823242, \"mean_pae_interaction\": 27.975997924804688, \"mean_pae_intra_chain_A\": 2.742257833480835, \"mean_pae_intra_chain_B\": 8.271340370178223, \"mean_pae_intra_chain\": 5.506799221038818, \"mean_pae\": 8.574469566345215, \"pTMscore\": 0.8171868324279785, \"elapsed_time\": 29.119693517684937}, \"seq\": \"SEELERESEEAERRLQEARKRSEEARERGDLKELAEALIEEARAVQELARVASERGNEEEAERAWEKAQRVYEEAQKVYEEAREQGDEEVLVKALQAAALAVLAMAEVAASMLSENREEAAKLLEQASHLAQQILEEARKLSEKARELGDDEVLAKALEAIALAVLVLAKAAVARGNKEEAERAYEDARRVEEEARKVKESAEEQGDSEVKRLAEEAEQLAREARRLVQETRG/GEKGGLRVLAEELLRTARTLDRAVDLLVHGVVARG\"}',\n",
       " 'mpnn_seq_0049': '{\"model_1_ptm_seed_0\": {\"mean_plddt\": 94.30443572998047, \"recycles\": 3, \"tol\": 1.7503668069839478, \"model\": \"1\", \"type\": \"monomer_ptm\", \"seed\": \"0\", \"rmsd_to_reference\": 5.182956695556641, \"mean_pae_interaction_AB\": 29.470888137817383, \"mean_pae_interaction_BA\": 27.283546447753906, \"mean_pae_interaction\": 28.377216339111328, \"mean_pae_intra_chain_A\": 2.7797367572784424, \"mean_pae_intra_chain_B\": 5.6984381675720215, \"mean_pae_intra_chain\": 4.2390875816345215, \"mean_pae\": 8.647408485412598, \"pTMscore\": 0.8167378902435303, \"elapsed_time\": 28.99490714073181}, \"seq\": \"SEELERESEEAERRLQEARKRSEEARERGDLKELAEALIEEARAVQELARVASERGNEEEAERAWEKAQRVYEEAQKVYEEAREQGDEYVLVLALRAAALAVLAQAEVAASMLSKNEEEAAKLLEQASHLAQQILEKARKLSEKARELGDDYVLALALEAIALAVKVLAQAAVARGNKEEAERAYEDARRVEEEARKVKESAEEQGDSEVKRLAEEAEQLAREARRLVQETRG/GLKGGLRVLAEELLRTARELEKAVDLLVHGVVAKG\"}',\n",
       " 'mpnn_seq_0050': '{\"model_1_ptm_seed_0\": {\"mean_plddt\": 92.34489440917969, \"recycles\": 3, \"tol\": 1.3708232641220093, \"model\": \"1\", \"type\": \"monomer_ptm\", \"seed\": \"0\", \"rmsd_to_reference\": 5.147676944732666, \"mean_pae_interaction_AB\": 28.69394874572754, \"mean_pae_interaction_BA\": 26.037919998168945, \"mean_pae_interaction\": 27.365934371948242, \"mean_pae_intra_chain_A\": 2.8274083137512207, \"mean_pae_intra_chain_B\": 6.803963661193848, \"mean_pae_intra_chain\": 4.815686225891113, \"mean_pae\": 8.474381446838379, \"pTMscore\": 0.8171224594116211, \"elapsed_time\": 29.80614471435547}, \"seq\": \"SEELERESEEAERRLQEARKRSEEARERGDLKELAEALIEEARAVQELARVASERGNEEEAERAWEKAQRVYEEAQKVYEEAREQGDEYVLVLALRAAALAVLALAEVAASMLSENREEAAKLLEQASHLAQQILEKARKLSEKARELGDDYVLALALEAIALAVLVLAKAAVARGNKEEAERAYEDARRVEEEARKVKESAEEQGDSEVKRLAEEAEQLAREARRLVQETRG/GVKGGLRVLAEELLRTARELDRAVDLLVHGVVARG\"}',\n",
       " 'mpnn_seq_0051': '{\"model_1_ptm_seed_0\": {\"mean_plddt\": 94.03241729736328, \"recycles\": 3, \"tol\": 0.59194415807724, \"model\": \"1\", \"type\": \"monomer_ptm\", \"seed\": \"0\", \"rmsd_to_reference\": 5.187272071838379, \"mean_pae_interaction_AB\": 29.40097999572754, \"mean_pae_interaction_BA\": 26.785873413085938, \"mean_pae_interaction\": 28.093425750732422, \"mean_pae_intra_chain_A\": 2.774376630783081, \"mean_pae_intra_chain_B\": 6.261233806610107, \"mean_pae_intra_chain\": 4.517805099487305, \"mean_pae\": 8.591974258422852, \"pTMscore\": 0.8179917335510254, \"elapsed_time\": 29.125145196914673}, \"seq\": \"SEELERESEEAERRLQEARKRSEEARERGDLKELAEALIEEARAVQELARVASERGNEEEAERAWEKAQRVYEEAQKVYEEAREQGDLYVLVLALRAAALAVLAQAEVAASMLSRNEEEAAKLLEQASHLAQQILEKARKLSEKARELGDDYVLALALEAIALAVRVLAQAAVARGNKEEAERAYEDARRVEEEARKVKESAEEQGDSEVKRLAEEAEQLAREARRLVQETRG/GLKGGLRVLAEELLRTARELERAVDLLVHGVVDRG\"}',\n",
       " 'mpnn_seq_0052': '{\"model_1_ptm_seed_0\": {\"mean_plddt\": 93.65799713134766, \"recycles\": 3, \"tol\": 0.5444265007972717, \"model\": \"1\", \"type\": \"monomer_ptm\", \"seed\": \"0\", \"rmsd_to_reference\": 5.175771713256836, \"mean_pae_interaction_AB\": 29.05373191833496, \"mean_pae_interaction_BA\": 26.483205795288086, \"mean_pae_interaction\": 27.768468856811523, \"mean_pae_intra_chain_A\": 2.779952049255371, \"mean_pae_intra_chain_B\": 6.4610161781311035, \"mean_pae_intra_chain\": 4.620484352111816, \"mean_pae\": 8.5233154296875, \"pTMscore\": 0.8181871771812439, \"elapsed_time\": 29.216227293014526}, \"seq\": \"SEELERESEEAERRLQEARKRSEEARERGDLKELAEALIEEARAVQELARVASERGNEEEAERAWEKAQRVYEEAQKVYEEAREQGDLYVLVLALRAAALAVLAQAEVAASMLSENREEAAKLLEQASHLAQQILEKARKLSEKARELGDDYVLALALEAIALAVRVLAQAAVARGNKEEAERAYEDARRVEEEARKVKESAEEQGDSEVKRLAEEAEQLAREARRLVQETRG/GVKGGLRVLAEELLRTARELDRAVDLLVHGVVARG\"}',\n",
       " 'mpnn_seq_0053': '{\"model_1_ptm_seed_0\": {\"mean_plddt\": 92.69900512695312, \"recycles\": 3, \"tol\": 1.5368517637252808, \"model\": \"1\", \"type\": \"monomer_ptm\", \"seed\": \"0\", \"rmsd_to_reference\": 5.321976184844971, \"mean_pae_interaction_AB\": 28.55455780029297, \"mean_pae_interaction_BA\": 25.594131469726562, \"mean_pae_interaction\": 27.074344635009766, \"mean_pae_intra_chain_A\": 2.784830331802368, \"mean_pae_intra_chain_B\": 6.9694342613220215, \"mean_pae_intra_chain\": 4.877132415771484, \"mean_pae\": 8.379593849182129, \"pTMscore\": 0.8186193704605103, \"elapsed_time\": 29.113797426223755}, \"seq\": \"SEELERESEEAERRLQEARKRSEEARERGDLKELAEALIEEARAVQELARVASERGNEEEAERAWEKAQRVYEEAQKVYEEAREQGDLEVLVKALRAAALAVLALAEVAASMLAENREEAAKLLEQASHLAQQILEKARKLSEKARELGDDYVLALALEAIALAVLVLAKAAVARGNKEEAERAYEDARRVEEEARKVKESAEEQGDSEVKRLAEEAEQLAREARRLVQETRG/GVKGGLRVLAEELLRTARELDRAVDLLVHGVVARG\"}',\n",
       " 'mpnn_seq_0054': '{\"model_1_ptm_seed_0\": {\"mean_plddt\": 94.07054138183594, \"recycles\": 3, \"tol\": 1.919712781906128, \"model\": \"1\", \"type\": \"monomer_ptm\", \"seed\": \"0\", \"rmsd_to_reference\": 5.1905035972595215, \"mean_pae_interaction_AB\": 29.257076263427734, \"mean_pae_interaction_BA\": 26.826780319213867, \"mean_pae_interaction\": 28.041927337646484, \"mean_pae_intra_chain_A\": 2.759873151779175, \"mean_pae_intra_chain_B\": 5.653775691986084, \"mean_pae_intra_chain\": 4.20682430267334, \"mean_pae\": 8.555983543395996, \"pTMscore\": 0.8187288045883179, \"elapsed_time\": 29.091826915740967}, \"seq\": \"SEELERESEEAERRLQEARKRSEEARERGDLKELAEALIEEARAVQELARVASERGNEEEAERAWEKAQRVYEEAQKVYEEAREQGDLYVLVLALRAAALAVLAQAEVAASMLSENREEAAKLLEQASHLAQQILEKARKLSEKARELGDDYVLALALEAIALAVQVLAQAAVARGNKEEAERAYEDARRVEEEARKVKESAEEQGDSEVKRLAEEAEQLAREARRLVQETRG/GLKGGLRVLAEELLRTARELQKAVDLLVHGVVAKG\"}',\n",
       " 'mpnn_seq_0055': '{\"model_1_ptm_seed_0\": {\"mean_plddt\": 94.4308090209961, \"recycles\": 3, \"tol\": 2.7182087898254395, \"model\": \"1\", \"type\": \"monomer_ptm\", \"seed\": \"0\", \"rmsd_to_reference\": 5.185302257537842, \"mean_pae_interaction_AB\": 29.091888427734375, \"mean_pae_interaction_BA\": 26.471790313720703, \"mean_pae_interaction\": 27.78183937072754, \"mean_pae_intra_chain_A\": 2.758423328399658, \"mean_pae_intra_chain_B\": 5.671647548675537, \"mean_pae_intra_chain\": 4.215035438537598, \"mean_pae\": 8.498496055603027, \"pTMscore\": 0.8185536861419678, \"elapsed_time\": 29.192973136901855}, \"seq\": \"SEELERESEEAERRLQEARKRSEEARERGDLKELAEALIEEARAVQELARVASERGNEEEAERAWEKAQRVYEEAQKVYEEAREQGDLYVLVLALRAAALAVLAQAEVAASMLSENKEEAAKLLEQASHLAQQILEKARKLSEEARELGDDYVLALALEAIALAVQVLAQAAVARGNKEEAERAYEDARRVEEEARKVKESAEEQGDSEVKRLAEEAEQLAREARRLVQETRG/GKKGGLRVLAEELLRTARELQKAVDLLVHGVVAKG\"}',\n",
       " 'mpnn_seq_0056': '{\"model_1_ptm_seed_0\": {\"mean_plddt\": 94.00627899169922, \"recycles\": 3, \"tol\": 1.2058591842651367, \"model\": \"1\", \"type\": \"monomer_ptm\", \"seed\": \"0\", \"rmsd_to_reference\": 5.181638240814209, \"mean_pae_interaction_AB\": 29.280576705932617, \"mean_pae_interaction_BA\": 26.856294631958008, \"mean_pae_interaction\": 28.068435668945312, \"mean_pae_intra_chain_A\": 2.7597908973693848, \"mean_pae_intra_chain_B\": 6.171518802642822, \"mean_pae_intra_chain\": 4.4656548500061035, \"mean_pae\": 8.571388244628906, \"pTMscore\": 0.8179622292518616, \"elapsed_time\": 29.087970495224}, \"seq\": \"SEELERESEEAERRLQEARKRSEEARERGDLKELAEALIEEARAVQELARVASERGNEEEAERAWEKAQRVYEEAQKVYEEAREQGDLYVLVLALRAAALAVLAQAEVAASMLAENREEAAKLLEQASHLAQQILEKARKLSEEARELGDDYVLALALEAIALAVKVLAQAAVARGNKEEAERAYEDARRVEEEARKVKESAEEQGDSEVKRLAEEAEQLAREARRLVQETRG/GKKGGLRVLAEELLETARELEKAVDLLVHGVVARG\"}',\n",
       " 'mpnn_seq_0057': '{\"model_1_ptm_seed_0\": {\"mean_plddt\": 94.46224975585938, \"recycles\": 3, \"tol\": 0.09848335385322571, \"model\": \"1\", \"type\": \"monomer_ptm\", \"seed\": \"0\", \"rmsd_to_reference\": 0.8903610706329346, \"mean_pae_interaction_AB\": 6.069849014282227, \"mean_pae_interaction_BA\": 3.746515989303589, \"mean_pae_interaction\": 4.908182621002197, \"mean_pae_intra_chain_A\": 3.3703460693359375, \"mean_pae_intra_chain_B\": 5.116145610809326, \"mean_pae_intra_chain\": 4.243246078491211, \"mean_pae\": 3.8235538005828857, \"pTMscore\": 0.9091779589653015, \"elapsed_time\": 29.750133275985718}, \"seq\": \"SEELERESEEAERRLQEARKRSEEARERGDLKELAEALIEEARAVQELARVASERGNEEEAERAWEKAQRVYEEAQKVYEEAREQGDEEVLVKALRAAALAVLAMAEVAASMKSRNTEEAAKLLEQASHLAQQILEKARKLSEKARELGDDEVLAKALEAIAIAVLVLAKAAVARGNKEEAERAYEDARRVEEEARKVKESAEEQGDSEVKRLAEEAEQLAREARRLVQETRG/GLKGGLRVLAEELLRTARELERAVDLLVHGVVARG\"}',\n",
       " 'mpnn_seq_0058': '{\"model_1_ptm_seed_0\": {\"mean_plddt\": 94.4910659790039, \"recycles\": 3, \"tol\": 0.15498562157154083, \"model\": \"1\", \"type\": \"monomer_ptm\", \"seed\": \"0\", \"rmsd_to_reference\": 0.8656659126281738, \"mean_pae_interaction_AB\": 5.923463821411133, \"mean_pae_interaction_BA\": 3.6752915382385254, \"mean_pae_interaction\": 4.79937744140625, \"mean_pae_intra_chain_A\": 3.3570337295532227, \"mean_pae_intra_chain_B\": 5.051154613494873, \"mean_pae_intra_chain\": 4.204093933105469, \"mean_pae\": 3.789217233657837, \"pTMscore\": 0.9101912975311279, \"elapsed_time\": 29.19444513320923}, \"seq\": \"SEELERESEEAERRLQEARKRSEEARERGDLKELAEALIEEARAVQELARVASERGNEEEAERAWEKAQRVYEEAQKVYEEAREQGDEEVLVKALEAAALAVLAMAEVAASMLSENKEEAAKLLEQASHLAQQILEKARKLSEKARELGDDEVLAKALAAIAIAVLVLAMAAVARGNKEEAERAYEDARRVEEEARKVKESAEEQGDSEVKRLAEEAEQLAREARRLVQETRG/GLKGGLRVLAERLLRVAETLYRAVTLLVHGVVARG\"}',\n",
       " 'mpnn_seq_0059': '{\"model_1_ptm_seed_0\": {\"mean_plddt\": 92.16169738769531, \"recycles\": 3, \"tol\": 1.2453675270080566, \"model\": \"1\", \"type\": \"monomer_ptm\", \"seed\": \"0\", \"rmsd_to_reference\": 5.22786808013916, \"mean_pae_interaction_AB\": 26.930931091308594, \"mean_pae_interaction_BA\": 29.57595443725586, \"mean_pae_interaction\": 28.253442764282227, \"mean_pae_intra_chain_A\": 2.9902524948120117, \"mean_pae_intra_chain_B\": 8.428306579589844, \"mean_pae_intra_chain\": 5.709279537200928, \"mean_pae\": 8.825538635253906, \"pTMscore\": 0.8120918273925781, \"elapsed_time\": 29.15714931488037}, \"seq\": \"SEELERESEEAERRLQEARKRSEEARERGDLKELAEALIEEARAVQELARVASERGNEEEAERAWEKAQRVYEEAQKVYEEAREQGDEEVLVKALEAAAYAVLAMAEVAASMLSENTEEAAKLLEQASHLAQQILEKARKLSEKARELGDDEVLAKALEAIAIAVLVLAKAAAARGNKEEAERAYEDARRVEEEARKVKESAEEQGDSEVKRLAEEAEQLAREARRLVQETRG/GLKGGLRVLAERLLRVARTLDRAVDLLVHGVVARG\"}',\n",
       " 'mpnn_seq_0060': '{\"model_1_ptm_seed_0\": {\"mean_plddt\": 94.18463134765625, \"recycles\": 3, \"tol\": 0.3764183521270752, \"model\": \"1\", \"type\": \"monomer_ptm\", \"seed\": \"0\", \"rmsd_to_reference\": 1.5529590845108032, \"mean_pae_interaction_AB\": 3.7577764987945557, \"mean_pae_interaction_BA\": 5.983590602874756, \"mean_pae_interaction\": 4.870683670043945, \"mean_pae_intra_chain_A\": 3.449215888977051, \"mean_pae_intra_chain_B\": 5.078519344329834, \"mean_pae_intra_chain\": 4.263867378234863, \"mean_pae\": 3.87398099899292, \"pTMscore\": 0.9053018689155579, \"elapsed_time\": 29.1577467918396}, \"seq\": \"SEELERESEEAERRLQEARKRSEEARERGDLKELAEALIEEARAVQELARVASERGNEEEAERAWEKAQRVYEEAQKVYEEAREQGDEEVLVKALEAAALAVLAMAEVAASMLSRNTEEAAKLLEQASHLAQQILEKARKLSEKARELGDDEVLAKALAAIAIAVLVLAMAAVARGNKEEAERAYEDARRVEEEARKVKESAEEQGDSEVKRLAEEAEQLAREARRLVQETRG/GLKGGLRVLAERLLRVAETLYRAVTLLVHGVVARG\"}',\n",
       " 'mpnn_seq_0061': '{\"model_1_ptm_seed_0\": {\"mean_plddt\": 91.34182739257812, \"recycles\": 3, \"tol\": 1.3830260038375854, \"model\": \"1\", \"type\": \"monomer_ptm\", \"seed\": \"0\", \"rmsd_to_reference\": 4.915238380432129, \"mean_pae_interaction_AB\": 26.040788650512695, \"mean_pae_interaction_BA\": 22.340171813964844, \"mean_pae_interaction\": 24.190479278564453, \"mean_pae_intra_chain_A\": 2.8299126625061035, \"mean_pae_intra_chain_B\": 9.107548713684082, \"mean_pae_intra_chain\": 5.968730926513672, \"mean_pae\": 7.805026531219482, \"pTMscore\": 0.8235704898834229, \"elapsed_time\": 29.16896104812622}, \"seq\": \"SEELERESEEAERRLQEARKRSEEARERGDLKELAEALIEEARAVQELARVASERGNEEEAERAWEKAQRVYEEAQKVYEEAREQGDEEVLVKALEAAALAVLAMAEVAASMLSENREEAAKLLEQASHLAQQILEKARKLSEKARELGDDEVLAKALEAIAIAVLVLAMAAAARGNKEEAERAYEDARRVEEEARKVKESAEEQGDSEVKRLAEEAEQLAREARRLVQETRG/GLKGGLRVLAERLLRVARTLFRAVTLLVHGVVARG\"}',\n",
       " 'mpnn_seq_0062': '{\"model_1_ptm_seed_0\": {\"mean_plddt\": 88.34600830078125, \"recycles\": 3, \"tol\": 1.5709959268569946, \"model\": \"1\", \"type\": \"monomer_ptm\", \"seed\": \"0\", \"rmsd_to_reference\": 4.83619499206543, \"mean_pae_interaction_AB\": 20.878459930419922, \"mean_pae_interaction_BA\": 15.129212379455566, \"mean_pae_interaction\": 18.003835678100586, \"mean_pae_intra_chain_A\": 2.97560977935791, \"mean_pae_intra_chain_B\": 10.754964828491211, \"mean_pae_intra_chain\": 6.8652873039245605, \"mean_pae\": 6.569223880767822, \"pTMscore\": 0.8443651795387268, \"elapsed_time\": 29.21813201904297}, \"seq\": \"SEELERESEEAERRLQEARKRSEEARERGDLKELAEALIEEARAVQELARVASERGNEEEAERAWEKAQRVYEEAQKVYEEAREQGDEEVLVKALEAAALAVLAMAEVAASMLSRNEEEAAKLLEQASHLAQQILEKARKLSEKARELGDDEVLAKALAAIAIAVLVLAMAAVARGNKEEAERAYEDARRVEEEARKVKESAEEQGDSEVKRLAEEAEQLAREARRLVQETRG/GVKGGLRVLAERLLRTAETLYRAVTLLVHGVVARG\"}',\n",
       " 'mpnn_seq_0063': '{\"model_1_ptm_seed_0\": {\"mean_plddt\": 90.61991119384766, \"recycles\": 3, \"tol\": 1.2156000137329102, \"model\": \"1\", \"type\": \"monomer_ptm\", \"seed\": \"0\", \"rmsd_to_reference\": 5.156389236450195, \"mean_pae_interaction_AB\": 25.622577667236328, \"mean_pae_interaction_BA\": 22.200868606567383, \"mean_pae_interaction\": 23.911724090576172, \"mean_pae_intra_chain_A\": 3.151103973388672, \"mean_pae_intra_chain_B\": 8.912151336669922, \"mean_pae_intra_chain\": 6.031627655029297, \"mean_pae\": 7.987394332885742, \"pTMscore\": 0.8131449818611145, \"elapsed_time\": 29.177157163619995}, \"seq\": \"SEELERESEEAERRLQEARKRSEEARERGDLKELAEALIEEARAVQELARVASERGNEEEAERAWEKAQRVYEEAQKVYEEAREQGDEEVLVKALEAAAYAVLALAEVAASMLSRNTEEAAKLLEQASHLAQQILEKARKLSEKARELGDDEVLAKALEAIAIAVLVLALAAAARGNKEEAERAYEDARRVEEEARKVKESAEEQGDSEVKRLAEEAEQLAREARRLVQETRG/GLKGGLRVLAERLLRVARTLYRAVELLVHGVVARG\"}',\n",
       " 'mpnn_seq_0064': '{\"model_1_ptm_seed_0\": {\"mean_plddt\": 92.2626953125, \"recycles\": 3, \"tol\": 2.4244630336761475, \"model\": \"1\", \"type\": \"monomer_ptm\", \"seed\": \"0\", \"rmsd_to_reference\": 4.922344207763672, \"mean_pae_interaction_AB\": 26.73565673828125, \"mean_pae_interaction_BA\": 23.6656494140625, \"mean_pae_interaction\": 25.200653076171875, \"mean_pae_intra_chain_A\": 2.9373762607574463, \"mean_pae_intra_chain_B\": 7.5524396896362305, \"mean_pae_intra_chain\": 5.244907855987549, \"mean_pae\": 8.09039306640625, \"pTMscore\": 0.8153371214866638, \"elapsed_time\": 29.724377632141113}, \"seq\": \"SEELERESEEAERRLQEARKRSEEARERGDLKELAEALIEEARAVQELARVASERGNEEEAERAWEKAQRVYEEAQKVYEEAREQGDEEVLVKALEAAALAVLAMAEVAASMLSENREEAAKLLEQASHLAQQILEKARKLSEKARELGDDEVLAKALAAIAIAVLVLAQAAAARGNKEEAERAYEDARRVEEEARKVKESAEEQGDSEVKRLAEEAEQLAREARRLVQETRG/GVKGGLRVLAERLLRVAETLKRAVDLLVHGVVERG\"}',\n",
       " 'mpnn_seq_0065': '{\"model_1_ptm_seed_0\": {\"mean_plddt\": 94.53239440917969, \"recycles\": 3, \"tol\": 0.09146025031805038, \"model\": \"1\", \"type\": \"monomer_ptm\", \"seed\": \"0\", \"rmsd_to_reference\": 0.8693394064903259, \"mean_pae_interaction_AB\": 5.832940578460693, \"mean_pae_interaction_BA\": 3.6016128063201904, \"mean_pae_interaction\": 4.717276573181152, \"mean_pae_intra_chain_A\": 3.3374078273773193, \"mean_pae_intra_chain_B\": 4.93577241897583, \"mean_pae_intra_chain\": 4.136590003967285, \"mean_pae\": 3.749574899673462, \"pTMscore\": 0.9095603823661804, \"elapsed_time\": 29.21857190132141}, \"seq\": \"SEELERESEEAERRLQEARKRSEEARERGDLKELAEALIEEARAVQELARVASERGNEEEAERAWEKAQRVYEEAQKVYEEAREQGDEEVLVLALQAAALAVLAMAEVAASMLSENTEEAAKLLEQASHLAQQILEEARKLSEEARELGDDEVLAKALAAIALAVLVLAKAAAARGNKEEAERAYEDARRVEEEARKVKESAEEQGDSEVKRLAEEAEQLAREARRLVQETRG/GKKGGLRVLAERLLETARTLDRAVTLLVHGVVAKG\"}',\n",
       " 'mpnn_seq_0066': '{\"model_1_ptm_seed_0\": {\"mean_plddt\": 92.44632720947266, \"recycles\": 3, \"tol\": 1.0823473930358887, \"model\": \"1\", \"type\": \"monomer_ptm\", \"seed\": \"0\", \"rmsd_to_reference\": 5.348723888397217, \"mean_pae_interaction_AB\": 28.87210464477539, \"mean_pae_interaction_BA\": 26.194835662841797, \"mean_pae_interaction\": 27.533470153808594, \"mean_pae_intra_chain_A\": 3.095083475112915, \"mean_pae_intra_chain_B\": 5.666685104370117, \"mean_pae_intra_chain\": 4.380884170532227, \"mean_pae\": 8.698052406311035, \"pTMscore\": 0.8128679990768433, \"elapsed_time\": 29.279896020889282}, \"seq\": \"SEELERESEEAERRLQEARKRSEEARERGDLKELAEALIEEARAVQELARVASERGNEEEAERAWEKAQRVYEEAQKVYEEAREQGDEEVLVLALQAAALAVLALAEVAASMLRDNTEEAAKLLEQASHLAQQILEEARKLSEEARELGDDEVLAKALLAIALAVLVLAKAAAARGNKEEAERAYEDARRVEEEARKVKESAEEQGDSEVKRLAEEAEQLAREARRLVQETRG/GKKGGLRVLAERLLETAKTLQRAVDLLVHGVVEAG\"}',\n",
       " 'mpnn_seq_0067': '{\"model_1_ptm_seed_0\": {\"mean_plddt\": 94.50698852539062, \"recycles\": 3, \"tol\": 0.20360736548900604, \"model\": \"1\", \"type\": \"monomer_ptm\", \"seed\": \"0\", \"rmsd_to_reference\": 0.9171872138977051, \"mean_pae_interaction_AB\": 5.8965606689453125, \"mean_pae_interaction_BA\": 3.6180996894836426, \"mean_pae_interaction\": 4.757329940795898, \"mean_pae_intra_chain_A\": 3.326658010482788, \"mean_pae_intra_chain_B\": 4.987159729003906, \"mean_pae_intra_chain\": 4.156908988952637, \"mean_pae\": 3.752781867980957, \"pTMscore\": 0.9079630970954895, \"elapsed_time\": 29.221585273742676}, \"seq\": \"SEELERESEEAERRLQEARKRSEEARERGDLKELAEALIEEARAVQELARVASERGNEEEAERAWEKAQRVYEEAQKVYEEAREQGDEEVLVLALQAAALAVLALAEVAASMLSRNEEEAAKLLEQASHLAQQILEEARKLSEEARELGDDEVLAKALAAIALAVLVLAKAAAARGNKEEAERAYEDARRVEEEARKVKESAEEQGDSEVKRLAEEAEQLAREARRLVQETRG/GKKGGLRVLAERLLETAQTLQRAVDLLVHGVVARG\"}',\n",
       " 'mpnn_seq_0068': '{\"model_1_ptm_seed_0\": {\"mean_plddt\": 94.52638244628906, \"recycles\": 3, \"tol\": 0.10152795165777206, \"model\": \"1\", \"type\": \"monomer_ptm\", \"seed\": \"0\", \"rmsd_to_reference\": 0.8586093187332153, \"mean_pae_interaction_AB\": 5.838884353637695, \"mean_pae_interaction_BA\": 3.588183879852295, \"mean_pae_interaction\": 4.713534355163574, \"mean_pae_intra_chain_A\": 3.3331940174102783, \"mean_pae_intra_chain_B\": 4.922188758850098, \"mean_pae_intra_chain\": 4.127691268920898, \"mean_pae\": 3.745461940765381, \"pTMscore\": 0.9105010032653809, \"elapsed_time\": 29.204561948776245}, \"seq\": \"SEELERESEEAERRLQEARKRSEEARERGDLKELAEALIEEARAVQELARVASERGNEEEAERAWEKAQRVYEEAQKVYEEAREQGDEEVLVLALQAAALAVLAMAEVAASMLSENTEEAAKLLEQASHLAQQILEEARKLSEEARELGDDEVLAKALTAIALAVLVLAKAAAARGNKEEAERAYEDARRVEEEARKVKESAEEQGDSEVKRLAEEAEQLAREARRLVQETRG/GKKGGLRVLAERLLETAQTLDQAVTLLVHGVVAKG\"}',\n",
       " 'mpnn_seq_0069': '{\"model_1_ptm_seed_0\": {\"mean_plddt\": 94.61474609375, \"recycles\": 3, \"tol\": 0.12697768211364746, \"model\": \"1\", \"type\": \"monomer_ptm\", \"seed\": \"0\", \"rmsd_to_reference\": 1.5317715406417847, \"mean_pae_interaction_AB\": 5.9104437828063965, \"mean_pae_interaction_BA\": 3.605529308319092, \"mean_pae_interaction\": 4.757986545562744, \"mean_pae_intra_chain_A\": 3.2930121421813965, \"mean_pae_intra_chain_B\": 4.961962699890137, \"mean_pae_intra_chain\": 4.1274871826171875, \"mean_pae\": 3.72921085357666, \"pTMscore\": 0.9114257097244263, \"elapsed_time\": 29.505154371261597}, \"seq\": \"SEELERESEEAERRLQEARKRSEEARERGDLKELAEALIEEARAVQELARVASERGNEEEAERAWEKAQRVYEEAQKVYEEAREQGDEEVLVLALQAAALAVLAMAEVAASMLSRNEEEAAKLLEQASHLAQQILELARKLSEKARELGDDEVLAKALTAIALAVLVLAKAAAARGNKEEAERAYEDARRVEEEARKVKESAEEQGDSEVKRLAEEAEQLAREARRLVQETRG/GEKGGLRVLAERLLEVARTLQRAVDLLVHGVVARG\"}',\n",
       " 'mpnn_seq_0070': '{\"model_1_ptm_seed_0\": {\"mean_plddt\": 94.45166015625, \"recycles\": 3, \"tol\": 0.08881515264511108, \"model\": \"1\", \"type\": \"monomer_ptm\", \"seed\": \"0\", \"rmsd_to_reference\": 0.7854309678077698, \"mean_pae_interaction_AB\": 5.92898416519165, \"mean_pae_interaction_BA\": 3.6271698474884033, \"mean_pae_interaction\": 4.778077125549316, \"mean_pae_intra_chain_A\": 3.322622299194336, \"mean_pae_intra_chain_B\": 4.998247146606445, \"mean_pae_intra_chain\": 4.160434722900391, \"mean_pae\": 3.752971649169922, \"pTMscore\": 0.9079204797744751, \"elapsed_time\": 29.206551790237427}, \"seq\": \"SEELERESEEAERRLQEARKRSEEARERGDLKELAEALIEEARAVQELARVASERGNEEEAERAWEKAQRVYEEAQKVYEEAREQGDEEVLVKALQAAALAVLALAEVAASMLAENTEEAAKLLEQASHLAQQILEEARKLSEEARELGDDEVLAKALTAIALAVLVLAKAAAARGNKEEAERAYEDARRVEEEARKVKESAEEQGDSEVKRLAEEAEQLAREARRLVQETRG/GKKGGLRVLAEELLETARTLQRAVDLLVHGVVARG\"}',\n",
       " 'mpnn_seq_0071': '{\"model_1_ptm_seed_0\": {\"mean_plddt\": 94.34890747070312, \"recycles\": 3, \"tol\": 0.16512660682201385, \"model\": \"1\", \"type\": \"monomer_ptm\", \"seed\": \"0\", \"rmsd_to_reference\": 0.8943801522254944, \"mean_pae_interaction_AB\": 6.524840354919434, \"mean_pae_interaction_BA\": 3.803678035736084, \"mean_pae_interaction\": 5.16425895690918, \"mean_pae_intra_chain_A\": 3.3152458667755127, \"mean_pae_intra_chain_B\": 5.612733840942383, \"mean_pae_intra_chain\": 4.463989734649658, \"mean_pae\": 3.8601632118225098, \"pTMscore\": 0.9092587828636169, \"elapsed_time\": 31.173621892929077}, \"seq\": \"SEELERESEEAERRLQEARKRSEEARERGDLKELAEALIEEARAVQELARVASERGNEEEAERAWEKAQRVYEEAQKVYEEAREQGDEEVLVLALEAAALAVLAMAEVAASMLSENTEEAAKLLEQASHLAQQILEEARKLSEEARELGDDEVLAKALTAIALAVLVLAKAAAARGNKEEAERAYEDARRVEEEARKVKESAEEQGDSEVKRLAEEAEQLAREARRLVQETRG/GKKGGLRVLAERLLEVARTLDRAVDLLVHGVVDRG\"}',\n",
       " 'mpnn_seq_0072': '{\"model_1_ptm_seed_0\": {\"mean_plddt\": 92.66913604736328, \"recycles\": 3, \"tol\": 1.5784435272216797, \"model\": \"1\", \"type\": \"monomer_ptm\", \"seed\": \"0\", \"rmsd_to_reference\": 5.284546852111816, \"mean_pae_interaction_AB\": 29.27198028564453, \"mean_pae_interaction_BA\": 26.51507568359375, \"mean_pae_interaction\": 27.89352798461914, \"mean_pae_intra_chain_A\": 2.720322847366333, \"mean_pae_intra_chain_B\": 7.81451940536499, \"mean_pae_intra_chain\": 5.267421245574951, \"mean_pae\": 8.531169891357422, \"pTMscore\": 0.8183994293212891, \"elapsed_time\": 29.36491298675537}, \"seq\": \"SEELERESEEAERRLQEARKRSEEARERGDLKELAEALIEEARAVQELARVASERGNEEEAERAWEKAQRVYEEAQKVYEEAREQGDEEVLVLALRAAALAVLAMAEVAASMLSKNEEEAAKLLEQASHLAQQILEEARKLSEEARELGDDYVLALALEAIALAVLVLAKAAAARGNKEEAERAYEDARRVEEEARKVKESAEEQGDSEVKRLAEEAEQLAREARRLVQETRG/GKKGGLRVLAEELLETARTLDRAVTLLVHGVVDAG\"}',\n",
       " 'mpnn_seq_0073': '{\"model_1_ptm_seed_0\": {\"mean_plddt\": 94.4938735961914, \"recycles\": 3, \"tol\": 0.12402256578207016, \"model\": \"1\", \"type\": \"monomer_ptm\", \"seed\": \"0\", \"rmsd_to_reference\": 0.8765124082565308, \"mean_pae_interaction_AB\": 6.22739839553833, \"mean_pae_interaction_BA\": 3.668318748474121, \"mean_pae_interaction\": 4.947858810424805, \"mean_pae_intra_chain_A\": 3.2768967151641846, \"mean_pae_intra_chain_B\": 5.321743011474609, \"mean_pae_intra_chain\": 4.299319744110107, \"mean_pae\": 3.774237871170044, \"pTMscore\": 0.9118561744689941, \"elapsed_time\": 29.796118021011353}, \"seq\": \"SEELERESEEAERRLQEARKRSEEARERGDLKELAEALIEEARAVQELARVASERGNEEEAERAWEKAQRVYEEAQKVYEEAREQGDEEVLVKALEAAALAVLAMAEVAASMLAENREEAAKLLEQASHLAQQILEEARKLSEKARELGDDEVLAKALLAIALAVKVLAMAAVARGNKEEAERAYEDARRVEEEARKVKESAEEQGDSEVKRLAEEAEQLAREARRLVQETRG/GLKGGLRVLAERLLRVAETLYRAVELLVHGVVERG\"}',\n",
       " 'mpnn_seq_0074': '{\"model_1_ptm_seed_0\": {\"mean_plddt\": 94.45999145507812, \"recycles\": 3, \"tol\": 0.1300637573003769, \"model\": \"1\", \"type\": \"monomer_ptm\", \"seed\": \"0\", \"rmsd_to_reference\": 0.9155371189117432, \"mean_pae_interaction_AB\": 6.313411235809326, \"mean_pae_interaction_BA\": 3.7025561332702637, \"mean_pae_interaction\": 5.007983684539795, \"mean_pae_intra_chain_A\": 3.2846720218658447, \"mean_pae_intra_chain_B\": 5.402156352996826, \"mean_pae_intra_chain\": 4.343414306640625, \"mean_pae\": 3.7933967113494873, \"pTMscore\": 0.9089261889457703, \"elapsed_time\": 29.14626407623291}, \"seq\": \"SEELERESEEAERRLQEARKRSEEARERGDLKELAEALIEEARAVQELARVASERGNEEEAERAWEKAQRVYEEAQKVYEEAREQGDREVLVKALRAAALAVLALAEVAASMLAENREEAAKLLEQASHLAQQILEEARKLSEEARELGDDEVLAKALLAIALAVKVLALAAVARGNKEEAERAYEDARRVEEEARKVKESAEEQGDSEVKRLAEEAEQLAREARRLVQETRG/GKKGGLRVLAEELLEVAETLYRAVELLVHGVVERG\"}',\n",
       " 'mpnn_seq_0075': '{\"model_1_ptm_seed_0\": {\"mean_plddt\": 94.51126098632812, \"recycles\": 3, \"tol\": 0.15381799638271332, \"model\": \"1\", \"type\": \"monomer_ptm\", \"seed\": \"0\", \"rmsd_to_reference\": 0.9042689800262451, \"mean_pae_interaction_AB\": 6.264671325683594, \"mean_pae_interaction_BA\": 3.6586363315582275, \"mean_pae_interaction\": 4.961653709411621, \"mean_pae_intra_chain_A\": 3.2618727684020996, \"mean_pae_intra_chain_B\": 5.348016262054443, \"mean_pae_intra_chain\": 4.3049445152282715, \"mean_pae\": 3.7660791873931885, \"pTMscore\": 0.9122772812843323, \"elapsed_time\": 29.42839241027832}, \"seq\": \"SEELERESEEAERRLQEARKRSEEARERGDLKELAEALIEEARAVQELARVASERGNEEEAERAWEKAQRVYEEAQKVYEEAREQGDEEVLVKALEAAALAVLAMAEVAASMLAENREEAAKLLEQASHLAQQILEEARKLSEKARELGDDEVLAEALLAIALAVKVLAMAAVARGNKEEAERAYEDARRVEEEARKVKESAEEQGDSEVKRLAEEAEQLAREARRLVQETRG/GLKGGLRVLARRLLRVAETLYRAVELLVHGVVERG\"}',\n",
       " 'mpnn_seq_0076': '{\"model_1_ptm_seed_0\": {\"mean_plddt\": 94.52500915527344, \"recycles\": 3, \"tol\": 0.15728719532489777, \"model\": \"1\", \"type\": \"monomer_ptm\", \"seed\": \"0\", \"rmsd_to_reference\": 0.9204647541046143, \"mean_pae_interaction_AB\": 6.319615364074707, \"mean_pae_interaction_BA\": 3.6731626987457275, \"mean_pae_interaction\": 4.996388912200928, \"mean_pae_intra_chain_A\": 3.2592105865478516, \"mean_pae_intra_chain_B\": 5.455942630767822, \"mean_pae_intra_chain\": 4.357576370239258, \"mean_pae\": 3.7742815017700195, \"pTMscore\": 0.9105303287506104, \"elapsed_time\": 29.149722814559937}, \"seq\": \"SEELERESEEAERRLQEARKRSEEARERGDLKELAEALIEEARAVQELARVASERGNEEEAERAWEKAQRVYEEAQKVYEEAREQGDREVLVKALRAAALAVLAMAEVAASMLAENREEAAKLLEQASHLAQQILEEARKLSEEARELGDDEVLALALAAIALAVKVLAMAAVARGNKEEAERAYEDARRVEEEARKVKESAEEQGDSEVKRLAEEAEQLAREARRLVQETRG/GKKGGLRVLARELLEVAETLYRAVELLVHGVVERG\"}',\n",
       " 'mpnn_seq_0077': '{\"model_1_ptm_seed_0\": {\"mean_plddt\": 94.79037475585938, \"recycles\": 3, \"tol\": 0.1336207538843155, \"model\": \"1\", \"type\": \"monomer_ptm\", \"seed\": \"0\", \"rmsd_to_reference\": 0.9593663215637207, \"mean_pae_interaction_AB\": 5.97176456451416, \"mean_pae_interaction_BA\": 3.615084648132324, \"mean_pae_interaction\": 4.793424606323242, \"mean_pae_intra_chain_A\": 3.29298996925354, \"mean_pae_intra_chain_B\": 4.99376106262207, \"mean_pae_intra_chain\": 4.143375396728516, \"mean_pae\": 3.738738775253296, \"pTMscore\": 0.9094988107681274, \"elapsed_time\": 29.509000062942505}, \"seq\": \"SEELERESEEAERRLQEARKRSEEARERGDLKELAEALIEEARAVQELARVASERGNEEEAERAWEKAQRVYEEAQKVYEEAREQGDEEVLVKALRAAALAVLAMALVAASMLSENEEEAAKLLEQASHLAQQILEEARKLSEKARELGDDEVLAKALAAIALAVLVLAQAAVARGNKEEAERAYEDARRVEEEARKVKESAEEQGDSEVKRLAEEAEQLAREARRLVQETRG/GEKGGLRVLVEELLEVAETLQRAVDILVHGVVERG\"}',\n",
       " 'mpnn_seq_0078': '{\"model_1_ptm_seed_0\": {\"mean_plddt\": 94.53096771240234, \"recycles\": 3, \"tol\": 0.22837989032268524, \"model\": \"1\", \"type\": \"monomer_ptm\", \"seed\": \"0\", \"rmsd_to_reference\": 0.7770492434501648, \"mean_pae_interaction_AB\": 6.28769063949585, \"mean_pae_interaction_BA\": 3.657505750656128, \"mean_pae_interaction\": 4.972598075866699, \"mean_pae_intra_chain_A\": 3.261192560195923, \"mean_pae_intra_chain_B\": 5.31118631362915, \"mean_pae_intra_chain\": 4.286189556121826, \"mean_pae\": 3.769939661026001, \"pTMscore\": 0.909600555896759, \"elapsed_time\": 29.18783664703369}, \"seq\": \"SEELERESEEAERRLQEARKRSEEARERGDLKELAEALIEEARAVQELARVASERGNEEEAERAWEKAQRVYEEAQKVYEEAREQGDEEVLVKALEAAAYAVLALARVAASMLAENREEAAKLLEQASHLAQQILEEARKLSEKARELGDDEVLAKALRAIALAVRVLAEAAVARGNKEEAERAYEDARRVEEEARKVKESAEEQGDSEVKRLAEEAEQLAREARRLVQETRG/GLKGGLRVLAERLLKVAETLQEAVELLVHGVVERG\"}',\n",
       " 'mpnn_seq_0079': '{\"model_1_ptm_seed_0\": {\"mean_plddt\": 93.97571563720703, \"recycles\": 3, \"tol\": 1.1083695888519287, \"model\": \"1\", \"type\": \"monomer_ptm\", \"seed\": \"0\", \"rmsd_to_reference\": 5.318337440490723, \"mean_pae_interaction_AB\": 28.74307632446289, \"mean_pae_interaction_BA\": 26.39969825744629, \"mean_pae_interaction\": 27.571388244628906, \"mean_pae_intra_chain_A\": 2.8259775638580322, \"mean_pae_intra_chain_B\": 5.922946453094482, \"mean_pae_intra_chain\": 4.374462127685547, \"mean_pae\": 8.50531005859375, \"pTMscore\": 0.8154184222221375, \"elapsed_time\": 29.222408294677734}, \"seq\": \"SEELERESEEAERRLQEARKRSEEARERGDLKELAEALIEEARAVQELARVASERGNEEEAERAWEKAQRVYEEAQKVYEEAREQGDREVLVKALEAAALAVLALAEVAASMLAENREEAAKLLEQASHLAQQILEEARKLSEEARELGDDEVLAKALLAIALAVKVLALAAVARGNKEEAERAYEDARRVEEEARKVKESAEEQGDSEVKRLAEEAEQLAREARRLVQETRG/GKKGGLRVLVERLLKVAETLYKAVELLVHGVVAKG\"}',\n",
       " 'mpnn_seq_0080': '{\"model_1_ptm_seed_0\": {\"mean_plddt\": 94.82669067382812, \"recycles\": 3, \"tol\": 0.08108498901128769, \"model\": \"1\", \"type\": \"monomer_ptm\", \"seed\": \"0\", \"rmsd_to_reference\": 0.9709130525588989, \"mean_pae_interaction_AB\": 5.434999942779541, \"mean_pae_interaction_BA\": 3.5437090396881104, \"mean_pae_interaction\": 4.489354610443115, \"mean_pae_intra_chain_A\": 3.327017068862915, \"mean_pae_intra_chain_B\": 4.543095588684082, \"mean_pae_intra_chain\": 3.935056209564209, \"mean_pae\": 3.6759865283966064, \"pTMscore\": 0.9119739532470703, \"elapsed_time\": 29.777806997299194}, \"seq\": \"SEELERESEEAERRLQEARKRSEEARERGDLKELAEALIEEARAVQELARVASERGNEEEAERAWEKAQRVYEEAQKVYEEAREQGDEEVLVKALEAAALAVLALAEVAASMLRENREEAAKLLEQASHLAQQILEEARKLSEKARELGDDEVLAKALLAIALAVKVLALAAVARGNKEEAERAYEDARRVEEEARKVKESAEEQGDSEVKRLAEEAEQLAREARRLVQETRG/GEKGGLRVLVERLLRVAETLYRAVELLVHGVVEAG\"}',\n",
       " 'mpnn_seq_0081': '{\"model_1_ptm_seed_0\": {\"mean_plddt\": 94.0079574584961, \"recycles\": 3, \"tol\": 0.139012411236763, \"model\": \"1\", \"type\": \"monomer_ptm\", \"seed\": \"0\", \"rmsd_to_reference\": 0.747382402420044, \"mean_pae_interaction_AB\": 6.437616348266602, \"mean_pae_interaction_BA\": 3.880352020263672, \"mean_pae_interaction\": 5.158984184265137, \"mean_pae_intra_chain_A\": 3.4486498832702637, \"mean_pae_intra_chain_B\": 5.44236946105957, \"mean_pae_intra_chain\": 4.445509910583496, \"mean_pae\": 3.9507148265838623, \"pTMscore\": 0.9011474847793579, \"elapsed_time\": 29.249135971069336}, \"seq\": \"SEELERESEEAERRLQEARKRSEEARERGDLKELAEALIEEARAVQELARVASERGNEEEAERAWEKAQRVYEEAQKVYEEAREQGDLEVLVKALQAAGYAVLALAEVAASMLSENKEEAAKLLEQASHLAQQILEKARKLSEKARELGDDYVLAIALAAIAIAVLVLAKAAAARGNKEEAERAYEDARRVEEEARKVKESAEEQGDSEVKRLAEEAEQLAREARRLVQETRG/GLKGGLRVLAEELYETAKTLDTAVDLLVHGVVAKG\"}',\n",
       " 'mpnn_seq_0082': '{\"model_1_ptm_seed_0\": {\"mean_plddt\": 91.91248321533203, \"recycles\": 3, \"tol\": 1.3010183572769165, \"model\": \"1\", \"type\": \"monomer_ptm\", \"seed\": \"0\", \"rmsd_to_reference\": 5.543334484100342, \"mean_pae_interaction_AB\": 28.017404556274414, \"mean_pae_interaction_BA\": 23.96430778503418, \"mean_pae_interaction\": 25.990856170654297, \"mean_pae_intra_chain_A\": 2.7518973350524902, \"mean_pae_intra_chain_B\": 8.87612247467041, \"mean_pae_intra_chain\": 5.814009666442871, \"mean_pae\": 8.147340774536133, \"pTMscore\": 0.8219447731971741, \"elapsed_time\": 29.25292134284973}, \"seq\": \"SEELERESEEAERRLQEARKRSEEARERGDLKELAEALIEEARAVQELARVASERGNEEEAERAWEKAQRVYEEAQKVYEEAREQGDLEVLVKALRAAGYAVLALAEVAASMLAENREEAAKLLEQASHLAQQILEKARKLSEKARELGDDYVLAIALEAIAIAVLVLAKAAAARGNKEEAERAYEDARRVEEEARKVKESAEEQGDSEVKRLAEEAEQLAREARRLVQETRG/GLKGGLRVLAEELLETARVLDEAVDLLVHGVVERG\"}',\n",
       " 'mpnn_seq_0083': '{\"model_1_ptm_seed_0\": {\"mean_plddt\": 94.07936096191406, \"recycles\": 3, \"tol\": 0.24150723218917847, \"model\": \"1\", \"type\": \"monomer_ptm\", \"seed\": \"0\", \"rmsd_to_reference\": 1.4832459688186646, \"mean_pae_interaction_AB\": 6.696225166320801, \"mean_pae_interaction_BA\": 3.9230852127075195, \"mean_pae_interaction\": 5.30965518951416, \"mean_pae_intra_chain_A\": 3.4056310653686523, \"mean_pae_intra_chain_B\": 5.689337730407715, \"mean_pae_intra_chain\": 4.547484397888184, \"mean_pae\": 3.9608206748962402, \"pTMscore\": 0.903539776802063, \"elapsed_time\": 29.46502685546875}, \"seq\": \"SEELERESEEAERRLQEARKRSEEARERGDLKELAEALIEEARAVQELARVASERGNEEEAERAWEKAQRVYEEAQKVYEEAREQGDEEVLVKALQAAGYAVLALAEVAASMLSRNEEEAAKLLEQASHLAQQILEKARKLSEKARELGDDYVLAIALAAIAIAVLVLAKAAAARGNKEEAERAYEDARRVEEEARKVKESAEEQGDSEVKRLAEEAEQLAREARRLVQETRG/GLKGGLRVLAEELLETAKTLDEAVDLLVHGVVEKG\"}',\n",
       " 'mpnn_seq_0084': '{\"model_1_ptm_seed_0\": {\"mean_plddt\": 94.24629211425781, \"recycles\": 3, \"tol\": 0.2615237236022949, \"model\": \"1\", \"type\": \"monomer_ptm\", \"seed\": \"0\", \"rmsd_to_reference\": 0.7688371539115906, \"mean_pae_interaction_AB\": 6.731438636779785, \"mean_pae_interaction_BA\": 3.861093044281006, \"mean_pae_interaction\": 5.296265602111816, \"mean_pae_intra_chain_A\": 3.3136603832244873, \"mean_pae_intra_chain_B\": 5.785632133483887, \"mean_pae_intra_chain\": 4.549646377563477, \"mean_pae\": 3.8950002193450928, \"pTMscore\": 0.9065511226654053, \"elapsed_time\": 29.178894996643066}, \"seq\": \"SEELERESEEAERRLQEARKRSEEARERGDLKELAEALIEEARAVQELARVASERGNEEEAERAWEKAQRVYEEAQKVYEEAREQGDEEVLVKALRAAGYAVLAMAEVAASMLSENKEEAAKLLEQASHLAQQILEKARKLSEKARELGDDYVLAIALEAIAIAVLVLAKAAAARGNKEEAERAYEDARRVEEEARKVKESAEEQGDSEVKRLAEEAEQLAREARRLVQETRG/GLKGGLRVLAEELLETARVLDEAVDLLVHGVVDKG\"}',\n",
       " 'mpnn_seq_0085': '{\"model_1_ptm_seed_0\": {\"mean_plddt\": 91.7100601196289, \"recycles\": 3, \"tol\": 1.0040862560272217, \"model\": \"1\", \"type\": \"monomer_ptm\", \"seed\": \"0\", \"rmsd_to_reference\": 5.506969928741455, \"mean_pae_interaction_AB\": 29.119888305664062, \"mean_pae_interaction_BA\": 25.489545822143555, \"mean_pae_interaction\": 27.304718017578125, \"mean_pae_intra_chain_A\": 2.754018545150757, \"mean_pae_intra_chain_B\": 9.013012886047363, \"mean_pae_intra_chain\": 5.88351583480835, \"mean_pae\": 8.446703910827637, \"pTMscore\": 0.8199048638343811, \"elapsed_time\": 29.227429389953613}, \"seq\": \"SEELERESEEAERRLQEARKRSEEARERGDLKELAEALIEEARAVQELARVASERGNEEEAERAWEKAQRVYEEAQKVYEEAREQGDLEVLVKALRAAGYAVLALAEVAASMLSENKEEAAKLLEQASHLAQQILEKARKLSEKARELGDDYVLALALEAIAIAVLVLAKAAAARGNKEEAERAYEDARRVEEEARKVKESAEEQGDSEVKRLAEEAEQLAREARRLVQETRG/GLKGGLRVLAEELLETARVLDEAVDLLVHGVVDKG\"}',\n",
       " 'mpnn_seq_0086': '{\"model_1_ptm_seed_0\": {\"mean_plddt\": 94.4575424194336, \"recycles\": 3, \"tol\": 0.15348337590694427, \"model\": \"1\", \"type\": \"monomer_ptm\", \"seed\": \"0\", \"rmsd_to_reference\": 0.7952815890312195, \"mean_pae_interaction_AB\": 6.39047384262085, \"mean_pae_interaction_BA\": 3.733999252319336, \"mean_pae_interaction\": 5.062236785888672, \"mean_pae_intra_chain_A\": 3.307070016860962, \"mean_pae_intra_chain_B\": 5.413824558258057, \"mean_pae_intra_chain\": 4.360447406768799, \"mean_pae\": 3.8219830989837646, \"pTMscore\": 0.9089524149894714, \"elapsed_time\": 29.153311491012573}, \"seq\": \"SEELERESEEAERRLQEARKRSEEARERGDLKELAEALIEEARAVQELARVASERGNEEEAERAWEKAQRVYEEAQKVYEEAREQGDEEVLVKALRAAGYAVLALAEVAASMLSENREEAAKLLEQASHLAQQILEKARKLSEKARELGDDYVLALALEAIAIAVLVLAKAAAARGNKEEAERAYEDARRVEEEARKVKESAEEQGDSEVKRLAEEAEQLAREARRLVQETRG/GLKGGLRVLAEELLETARVLDEAVDLLVHGVVEKG\"}',\n",
       " 'mpnn_seq_0087': '{\"model_1_ptm_seed_0\": {\"mean_plddt\": 94.2832260131836, \"recycles\": 3, \"tol\": 0.1729084849357605, \"model\": \"1\", \"type\": \"monomer_ptm\", \"seed\": \"0\", \"rmsd_to_reference\": 0.6952039003372192, \"mean_pae_interaction_AB\": 6.6548614501953125, \"mean_pae_interaction_BA\": 3.799781322479248, \"mean_pae_interaction\": 5.227321624755859, \"mean_pae_intra_chain_A\": 3.2893242835998535, \"mean_pae_intra_chain_B\": 5.659583568572998, \"mean_pae_intra_chain\": 4.474453926086426, \"mean_pae\": 3.8554773330688477, \"pTMscore\": 0.9073282480239868, \"elapsed_time\": 29.074814796447754}, \"seq\": \"SEELERESEEAERRLQEARKRSEEARERGDLKELAEALIEEARAVQELARVASERGNEEEAERAWEKAQRVYEEAQKVYEEAREQGDEEVLVKALRAAGYAVLALAEVAASMLAENREEAAKLLEQASHLAQQILEKARKLSEKARELGDDYVLAIALEAIAIAVLVLAKAAAARGNKEEAERAYEDARRVEEEARKVKESAEEQGDSEVKRLAEEAEQLAREARRLVQETRG/GLKGGLRVLAEELLETARVLDEAVDLLVHGVVERG\"}',\n",
       " 'mpnn_seq_0088': '{\"model_1_ptm_seed_0\": {\"mean_plddt\": 94.53022766113281, \"recycles\": 3, \"tol\": 0.11154723167419434, \"model\": \"1\", \"type\": \"monomer_ptm\", \"seed\": \"0\", \"rmsd_to_reference\": 0.797001838684082, \"mean_pae_interaction_AB\": 6.16615104675293, \"mean_pae_interaction_BA\": 3.621077537536621, \"mean_pae_interaction\": 4.893614292144775, \"mean_pae_intra_chain_A\": 3.2937567234039307, \"mean_pae_intra_chain_B\": 5.1724395751953125, \"mean_pae_intra_chain\": 4.233098030090332, \"mean_pae\": 3.768279790878296, \"pTMscore\": 0.9102023243904114, \"elapsed_time\": 29.734204292297363}, \"seq\": \"SEELERESEEAERRLQEARKRSEEARERGDLKELAEALIEEARAVQELARVASERGNEEEAERAWEKAQRVYEEAQKVYEEAREQGDEEVLVKALRAAGYAVLALAEVAASMLSENKEEAAKLLEQASHLAQQILEKARKLSERARELGDDYVLALALEAIAIAVLVLAKAAAARGNKEEAERAYEDARRVEEEARKVKESAEEQGDSEVKRLAEEAEQLAREARRLVQETRG/GEKGGLRVLAEELLETARVLDEAVDLLVHGVVEKG\"}',\n",
       " 'mpnn_seq_0089': '{\"model_1_ptm_seed_0\": {\"mean_plddt\": 92.51658630371094, \"recycles\": 3, \"tol\": 2.2906551361083984, \"model\": \"1\", \"type\": \"monomer_ptm\", \"seed\": \"0\", \"rmsd_to_reference\": 5.416538238525391, \"mean_pae_interaction_AB\": 25.745859146118164, \"mean_pae_interaction_BA\": 21.17645835876465, \"mean_pae_interaction\": 23.461158752441406, \"mean_pae_intra_chain_A\": 2.754406690597534, \"mean_pae_intra_chain_B\": 8.715605735778809, \"mean_pae_intra_chain\": 5.735006332397461, \"mean_pae\": 7.585475921630859, \"pTMscore\": 0.8328646421432495, \"elapsed_time\": 29.4370858669281}, \"seq\": \"SEELERESEEAERRLQEARKRSEEARERGDLKELAEALIEEARAVQELARVASERGNEEEAERAWEKAQRVYEEAQKVYEEAREQGDLEVLVKALEAAALAVLAMAEVAASMLSDNREEAAKLLEQASHLAQQILELARKYSEEARELGDDEVLAKALAAIALAVLVLAKAAAARGNKEEAERAYEDARRVEEEARKVKESAEEQGDSEVKRLAEEAEQLAREARRLVQETRG/GKKGGLRVLVERLLRVAETLDRAVDLLVHGVVERG\"}',\n",
       " 'mpnn_seq_0090': '{\"model_1_ptm_seed_0\": {\"mean_plddt\": 94.6279296875, \"recycles\": 3, \"tol\": 0.1898738592863083, \"model\": \"1\", \"type\": \"monomer_ptm\", \"seed\": \"0\", \"rmsd_to_reference\": 0.8807393312454224, \"mean_pae_interaction_AB\": 6.1385698318481445, \"mean_pae_interaction_BA\": 3.7250049114227295, \"mean_pae_interaction\": 4.931787490844727, \"mean_pae_intra_chain_A\": 3.311511754989624, \"mean_pae_intra_chain_B\": 5.271073341369629, \"mean_pae_intra_chain\": 4.291292667388916, \"mean_pae\": 3.785126209259033, \"pTMscore\": 0.9097293615341187, \"elapsed_time\": 29.124640703201294}, \"seq\": \"SEELERESEEAERRLQEARKRSEEARERGDLKELAEALIEEARAVQELARVASERGNEEEAERAWEKAQRVYEEAQKVYEEAREQGDEEVLVKALQAAALAVLAMAEVAASMLSENKEEAAKLLEQASHLAQQILELARKYSEKARELGDDEVLAKALAAIALAVLVLAKAAVARGNKEEAERAYEDARRVEEEARKVKESAEEQGDSEVKRLAEEAEQLAREARRLVQETRG/GLKGGLRVLVEELLETAKTLQRAVDLLVHGVVAKG\"}',\n",
       " 'mpnn_seq_0091': '{\"model_1_ptm_seed_0\": {\"mean_plddt\": 92.04972839355469, \"recycles\": 3, \"tol\": 0.7478761076927185, \"model\": \"1\", \"type\": \"monomer_ptm\", \"seed\": \"0\", \"rmsd_to_reference\": 5.509520530700684, \"mean_pae_interaction_AB\": 28.819660186767578, \"mean_pae_interaction_BA\": 25.627426147460938, \"mean_pae_interaction\": 27.223543167114258, \"mean_pae_intra_chain_A\": 2.8557310104370117, \"mean_pae_intra_chain_B\": 8.339911460876465, \"mean_pae_intra_chain\": 5.597821235656738, \"mean_pae\": 8.49260139465332, \"pTMscore\": 0.8140817880630493, \"elapsed_time\": 29.206018209457397}, \"seq\": \"SEELERESEEAERRLQEARKRSEEARERGDLKELAEALIEEARAVQELARVASERGNEEEAERAWEKAQRVYEEAQKVYEEAREQGDREVLVKALQAAALAVLAMAEVAASMLSDNKEEAAKLLEQASHLAQQILELARKYSEEARELGDDEVLAKALAAIALAVLVLAKAAVARGNKEEAERAYEDARRVEEEARKVKESAEEQGDSEVKRLAEEAEQLAREARRLVQETRG/GKKGGLRVLVEELLETARTLDRAVDLLVHGVVAKG\"}',\n",
       " 'mpnn_seq_0092': '{\"model_1_ptm_seed_0\": {\"mean_plddt\": 92.56501007080078, \"recycles\": 3, \"tol\": 1.232800006866455, \"model\": \"1\", \"type\": \"monomer_ptm\", \"seed\": \"0\", \"rmsd_to_reference\": 5.250650405883789, \"mean_pae_interaction_AB\": 28.014617919921875, \"mean_pae_interaction_BA\": 25.631444931030273, \"mean_pae_interaction\": 26.82303237915039, \"mean_pae_intra_chain_A\": 2.9461517333984375, \"mean_pae_intra_chain_B\": 6.885021686553955, \"mean_pae_intra_chain\": 4.915586471557617, \"mean_pae\": 8.445075988769531, \"pTMscore\": 0.8144307732582092, \"elapsed_time\": 29.207828521728516}, \"seq\": \"SEELERESEEAERRLQEARKRSEEARERGDLKELAEALIEEARAVQELARVASERGNEEEAERAWEKAQRVYEEAQKVYEEAREQGDREVLVKALQAAALAVLAMAEVAASMLSDNTEEAAKLLEQASHLAQQILEEARKLSEEARELGDDEVLAKALAAIALAVLVLAQAAAARGNKEEAERAYEDARRVEEEARKVKESAEEQGDSEVKRLAEEAEQLAREARRLVQETRG/GLKGGLRVLAEELLETAKTLQRAVDLLVHGVVDRG\"}',\n",
       " 'mpnn_seq_0093': '{\"model_1_ptm_seed_0\": {\"mean_plddt\": 94.37244415283203, \"recycles\": 3, \"tol\": 0.11133487522602081, \"model\": \"1\", \"type\": \"monomer_ptm\", \"seed\": \"0\", \"rmsd_to_reference\": 0.7810728549957275, \"mean_pae_interaction_AB\": 6.543586254119873, \"mean_pae_interaction_BA\": 3.7580511569976807, \"mean_pae_interaction\": 5.150818824768066, \"mean_pae_intra_chain_A\": 3.258803606033325, \"mean_pae_intra_chain_B\": 5.6362223625183105, \"mean_pae_intra_chain\": 4.447513103485107, \"mean_pae\": 3.8171327114105225, \"pTMscore\": 0.9099235534667969, \"elapsed_time\": 29.125458240509033}, \"seq\": \"SEELERESEEAERRLQEARKRSEEARERGDLKELAEALIEEARAVQELARVASERGNEEEAERAWEKAQRVYEEAQKVYEEAREQGDLEVLVKALQAAALAVLAMAEVAASMLADNREEAAKLLEQASHLAQQILELARKLSEEARELGDDEVLAKALAAIALAVLVLAQAAAARGNKEEAERAYEDARRVEEEARKVKESAEEQGDSEVKRLAEEAEQLAREARRLVQETRG/GKKGGLRVLAEELLETARTLQRAVDLLVHGVVDRG\"}',\n",
       " 'mpnn_seq_0094': '{\"model_1_ptm_seed_0\": {\"mean_plddt\": 93.18882751464844, \"recycles\": 3, \"tol\": 5.976471900939941, \"model\": \"1\", \"type\": \"monomer_ptm\", \"seed\": \"0\", \"rmsd_to_reference\": 5.24332332611084, \"mean_pae_interaction_AB\": 29.330711364746094, \"mean_pae_interaction_BA\": 26.835508346557617, \"mean_pae_interaction\": 28.083110809326172, \"mean_pae_intra_chain_A\": 2.807239055633545, \"mean_pae_intra_chain_B\": 6.957449436187744, \"mean_pae_intra_chain\": 4.8823442459106445, \"mean_pae\": 8.62294864654541, \"pTMscore\": 0.8139327764511108, \"elapsed_time\": 29.139200687408447}, \"seq\": \"SEELERESEEAERRLQEARKRSEEARERGDLKELAEALIEEARAVQELARVASERGNEEEAERAWEKAQRVYEEAQKVYEEAREQGDEEVLVKALEAAALAVLAMAEVAASMLSKNEEEAAKLLEQASHLAQQILEEARKLSEKARELGDDEVLAKALAAIALAVLVLAKAAVARGNKEEAERAYEDARRVEEEARKVKESAEEQGDSEVKRLAEEAEQLAREARRLVQETRG/GVKGGLRVLAERLLRVAETLDRAVDLLVHGVVAKG\"}',\n",
       " 'mpnn_seq_0095': '{\"model_1_ptm_seed_0\": {\"mean_plddt\": 94.44507598876953, \"recycles\": 3, \"tol\": 0.10115224868059158, \"model\": \"1\", \"type\": \"monomer_ptm\", \"seed\": \"0\", \"rmsd_to_reference\": 0.9177680015563965, \"mean_pae_interaction_AB\": 6.327670097351074, \"mean_pae_interaction_BA\": 3.76731276512146, \"mean_pae_interaction\": 5.047491550445557, \"mean_pae_intra_chain_A\": 3.289632797241211, \"mean_pae_intra_chain_B\": 5.466490268707275, \"mean_pae_intra_chain\": 4.378061294555664, \"mean_pae\": 3.802395820617676, \"pTMscore\": 0.9101213216781616, \"elapsed_time\": 29.481927633285522}, \"seq\": \"SEELERESEEAERRLQEARKRSEEARERGDLKELAEALIEEARAVQELARVASERGNEEEAERAWEKAQRVYEEAQKVYEEAREQGDEEVLVKALQAAALAVLAMAEVAASMLSRNQEEAAKLLEQASHLAQQILELARKYSEKARELGDDEVLAKALAAIALAVLVLAQAAAARGNKEEAERAYEDARRVEEEARKVKESAEEQGDSEVKRLAEEAEQLAREARRLVQETRG/GLKGGLRVLVDELLETAKTLQRAVDLLVHGVVARG\"}',\n",
       " 'mpnn_seq_0096': '{\"model_1_ptm_seed_0\": {\"mean_plddt\": 94.35962677001953, \"recycles\": 3, \"tol\": 0.12123849987983704, \"model\": \"1\", \"type\": \"monomer_ptm\", \"seed\": \"0\", \"rmsd_to_reference\": 0.8034023642539978, \"mean_pae_interaction_AB\": 6.498778820037842, \"mean_pae_interaction_BA\": 3.772108554840088, \"mean_pae_interaction\": 5.135443687438965, \"mean_pae_intra_chain_A\": 3.3066580295562744, \"mean_pae_intra_chain_B\": 5.566705226898193, \"mean_pae_intra_chain\": 4.436681747436523, \"mean_pae\": 3.8393564224243164, \"pTMscore\": 0.9072709083557129, \"elapsed_time\": 29.873727083206177}, \"seq\": \"SEELERESEEAERRLQEARKRSEEARERGDLKELAEALIEEARAVQELARVASERGNEEEAERAWEKAQRVYEEAQKVYEEAREQGDREVLVKALRAAALAVLAMAEVAASMLSENKEEAAKLLEQASHLAQQILELARKYSEEARELGDDEVLAKALAAIALAVLVLAKAAAARGNKEEAERAYEDARRVEEEARKVKESAEEQGDSEVKRLAEEAEQLAREARRLVQETRG/GKKGGLRVLVEELLETAKELDKAVDLLVHGVVAKG\"}',\n",
       " 'new_loop_str': '113,114,115,116,117,118,119,120',\n",
       " 'omega': 58.2091847033392,\n",
       " 'pTMscore': 0.9072709083557129,\n",
       " 'p_aa_pp': -90.80610520174639,\n",
       " 'packstat_parent': '0.6677196621894836',\n",
       " 'parent': 'DHR80',\n",
       " 'parent_length': '227',\n",
       " 'path_in': '/mnt/home/pleung/projects/crispy_shifty/projects/crispy_shifties/04_pair_bound_states/decoys/0000/04_pair_bound_states_82b1c71bfa06429da0d4797056d92d34.pdb.bz2',\n",
       " 'pdb': '/net/shared/scaffolds/pre_scaffold_DB/tj_DHRs_final/DHR80.pdb',\n",
       " 'pivot_helix': '5',\n",
       " 'pre_break_helix': '4',\n",
       " 'pro_close': 0.0,\n",
       " 'rama_prepro': -80.94616132008429,\n",
       " 'recycles': 3.0,\n",
       " 'ref': -10.65369000000002,\n",
       " 'res_type_constraint': '0.0',\n",
       " 'rmsd_to_reference': 0.8034023642539978,\n",
       " 'sap_parent': '21.873920440673828',\n",
       " 'sc_AcB': '0.8403430581092834',\n",
       " 'sc_AnAc': '0.7982770502567291',\n",
       " 'sc_AnAcB': '0.8331373333930969',\n",
       " 'sc_AnB': '0.8063129782676697',\n",
       " 'sc_all_parent': '0.6958991289138794',\n",
       " 'scaffold_type': 'tj_DHRs_final',\n",
       " 'score': '-1519.901400881569',\n",
       " 'score_per_res': '-3.0337353311009365',\n",
       " 'score_per_res_parent': '-2.871328115463257',\n",
       " 'score_per_res_x': '-2.7180913243783738',\n",
       " 'seed': '0',\n",
       " 'shift': '-4',\n",
       " 'ss_sc': '0.7352736315543953',\n",
       " 'state': 'DHR80_p_5_s_-4_d_4',\n",
       " 'time': '16137.41410946846',\n",
       " 'tol': 0.12123849987983704,\n",
       " 'topo': 'HHHHHHHH',\n",
       " 'total_length': '268.0',\n",
       " 'total_score': -865.2669009016745,\n",
       " 'trimmed_length': '227',\n",
       " 'type': 'monomer_ptm',\n",
       " 'wnm_all_x': '0.7404388785362244',\n",
       " 'yhh_planarity': 0.0}"
      ]
     },
     "execution_count": 30,
     "metadata": {},
     "output_type": "execute_result"
    }
   ],
   "source": [
    "tppose.pose.scores"
   ]
  }
 ],
 "metadata": {
  "kernelspec": {
   "display_name": "crispy (3.8.12)",
   "language": "python",
   "name": "crispy"
  },
  "language_info": {
   "codemirror_mode": {
    "name": "ipython",
    "version": 3
   },
   "file_extension": ".py",
   "mimetype": "text/x-python",
   "name": "python",
   "nbconvert_exporter": "python",
   "pygments_lexer": "ipython3",
   "version": "3.8.12"
  }
 },
 "nbformat": 4,
 "nbformat_minor": 5
}
