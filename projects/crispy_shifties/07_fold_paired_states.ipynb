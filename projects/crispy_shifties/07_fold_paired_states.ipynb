{
 "cells": [
  {
   "cell_type": "markdown",
   "metadata": {},
   "source": [
    "# Run hacked AlphaFold2 on the designed paired states"
   ]
  },
  {
   "cell_type": "markdown",
   "metadata": {},
   "source": [
    "### Imports"
   ]
  },
  {
   "cell_type": "code",
   "execution_count": 1,
   "metadata": {},
   "outputs": [
    {
     "name": "stdout",
     "output_type": "stream",
     "text": [
      "running in directory: /mnt/home/pleung/projects/crispy_shifty/projects/crispy_shifties\n",
      "running on node: gpu3\n"
     ]
    }
   ],
   "source": [
    "%load_ext lab_black\n",
    "# Python standard library\n",
    "from glob import glob\n",
    "import os\n",
    "import socket\n",
    "import sys\n",
    "\n",
    "# 3rd party library imports\n",
    "import dask\n",
    "import matplotlib.pyplot as plt\n",
    "import pandas as pd\n",
    "import pyrosetta\n",
    "import numpy as np\n",
    "import scipy\n",
    "import seaborn as sns\n",
    "from tqdm.auto import tqdm  # jupyter compatible progress bar\n",
    "\n",
    "tqdm.pandas()  # link tqdm to pandas\n",
    "# Notebook magic\n",
    "# save plots in the notebook\n",
    "%matplotlib inline\n",
    "# reloads modules automatically before executing cells\n",
    "%load_ext autoreload\n",
    "%autoreload 2\n",
    "print(f\"running in directory: {os.getcwd()}\")  # where are we?\n",
    "print(f\"running on node: {socket.gethostname()}\")  # what node are we on?"
   ]
  },
  {
   "cell_type": "markdown",
   "metadata": {},
   "source": [
    "### Set working directory to the root of the crispy_shifty repo\n",
    "Note: We want to use perlmutter"
   ]
  },
  {
   "cell_type": "code",
   "execution_count": 2,
   "metadata": {},
   "outputs": [],
   "source": [
    "# os.chdir(\"/global/cfs/cdirs/m3962/projects/crispy_shifty\") # TODO\n",
    "os.chdir(\"/home/pleung/projects/crispy_shifty\")"
   ]
  },
  {
   "cell_type": "markdown",
   "metadata": {},
   "source": [
    "### Fix the paths\n",
    "Necessary because we are on perlmutter"
   ]
  },
  {
   "cell_type": "code",
   "execution_count": 3,
   "metadata": {},
   "outputs": [],
   "source": [
    "# from crispy_shifty.utils.io import fix_path_prefixes\n",
    "\n",
    "# pairs = os.path.join(\n",
    "#     os.getcwd(),\n",
    "#     \"projects/crispy_shifties/06_mpnn_paired_states/mpnn_paired_states.pair\",\n",
    "# )\n",
    "# new_pairs = fix_path_prefixes(\n",
    "#     find=\"/mnt/home/pleung\",\n",
    "#     replace=\"/global/cfs/cdirs/m3962\",\n",
    "#     file=pairs,\n",
    "#     overwrite=True,\n",
    "# )"
   ]
  },
  {
   "cell_type": "markdown",
   "metadata": {
    "tags": []
   },
   "source": [
    "### Run AF2 on the designed paired states\n",
    "TODO"
   ]
  },
  {
   "cell_type": "code",
   "execution_count": 4,
   "metadata": {},
   "outputs": [],
   "source": [
    "# from crispy_shifty.utils.io import gen_array_tasks\n",
    "\n",
    "# simulation_name = \"07_fold_paired_states\"\n",
    "# design_list_file = os.path.join(\n",
    "#     os.getcwd(),\n",
    "#     \"projects/crispy_shifties/06_mpnn_paired_states/mpnn_paired_states.pair\",\n",
    "# )\n",
    "# output_path = os.path.join(f\"/pscratch/sd/p/pleung/{simulation_name}\")\n",
    "\n",
    "# options = \" \".join(\n",
    "#     [\n",
    "#         \"out:level 200\",\n",
    "#     ]\n",
    "# )\n",
    "# extra_kwargs = {\"models\": \"1\"}\n",
    "\n",
    "# gen_array_tasks(\n",
    "#     distribute_func=\"crispy_shifty.protocols.folding.fold_paired_state_y\",\n",
    "#     design_list_file=design_list_file,\n",
    "#     output_path=output_path,\n",
    "#     perlmutter_mode=True,\n",
    "#     nstruct=1,\n",
    "#     nstruct_per_task=1,\n",
    "#     options=options,\n",
    "#     extra_kwargs=extra_kwargs,\n",
    "#     simulation_name=simulation_name,\n",
    "# )"
   ]
  },
  {
   "cell_type": "markdown",
   "metadata": {},
   "source": [
    "### Set working directory to the root of the crispy_shifty repo\n",
    "Note: We rsync the perlmutter results, now back on the digs"
   ]
  },
  {
   "cell_type": "code",
   "execution_count": 5,
   "metadata": {},
   "outputs": [],
   "source": [
    "# os.chdir(\"/home/pleung/projects/crispy_shifty\")  # TODO"
   ]
  },
  {
   "cell_type": "markdown",
   "metadata": {},
   "source": [
    "### Collect scorefiles of designed bound states and concatenate\n",
    "TODO change to projects dir"
   ]
  },
  {
   "cell_type": "code",
   "execution_count": 6,
   "metadata": {
    "scrolled": true,
    "tags": []
   },
   "outputs": [],
   "source": [
    "# sys.path.insert(0, \"~/projects/crispy_shifty\")  # TODO\n",
    "# from crispy_shifty.utils.io import collect_score_file\n",
    "\n",
    "# simulation_name = \"07_fold_paired_states\"\n",
    "# output_path = os.path.join(os.getcwd(), f\"projects/crispy_shifties/{simulation_name}\")\n",
    "\n",
    "# if not os.path.exists(os.path.join(output_path, \"scores.json\")):\n",
    "#     collect_score_file(output_path, \"scores\")"
   ]
  },
  {
   "cell_type": "markdown",
   "metadata": {},
   "source": [
    "### Load resulting concatenated scorefile\n",
    "TODO change to projects dir  \n",
    "TODO might have to switch to a dask accelerated approach for production"
   ]
  },
  {
   "cell_type": "code",
   "execution_count": 7,
   "metadata": {
    "scrolled": true,
    "tags": []
   },
   "outputs": [],
   "source": [
    "# sys.path.insert(0, \"~/projects/crispy_shifty\")  # TODO\n",
    "# from crispy_shifty.utils.io import parse_scorefile_linear\n",
    "\n",
    "# output_path = os.path.join(os.getcwd(), f\"projects/crispy_shifties/{simulation_name}\")\n",
    "\n",
    "# if not os.path.exists(os.path.join(output_path, \"scores.csv\")):\n",
    "#     scores_df = parse_scorefile_linear(os.path.join(output_path, \"scores.json\"))"
   ]
  },
  {
   "cell_type": "markdown",
   "metadata": {},
   "source": [
    "### Dump scores_df as a CSV and then reload, for performance reasons"
   ]
  },
  {
   "cell_type": "code",
   "execution_count": 8,
   "metadata": {},
   "outputs": [],
   "source": [
    "# if not os.path.exists(os.path.join(output_path, \"scores.csv\")):\n",
    "#     scores_df.to_csv(os.path.join(output_path, \"scores.csv\"))\n",
    "\n",
    "# scores_df = pd.read_csv(os.path.join(output_path, \"scores.csv\"), index_col=\"Unnamed: 0\")"
   ]
  },
  {
   "cell_type": "markdown",
   "metadata": {},
   "source": [
    "### Setup for plotting"
   ]
  },
  {
   "cell_type": "code",
   "execution_count": 9,
   "metadata": {},
   "outputs": [],
   "source": [
    "# sns.set(\n",
    "#     context=\"talk\",\n",
    "#     font_scale=1,  # make the font larger; default is pretty small\n",
    "#     style=\"ticks\",  # make the background white with black lines\n",
    "#     palette=\"colorblind\",  # a color palette that is colorblind friendly!\n",
    "# )"
   ]
  },
  {
   "cell_type": "markdown",
   "metadata": {},
   "source": [
    "### Data exploration\n",
    "Gonna remove the Rosetta sfxn scoreterms for now"
   ]
  },
  {
   "cell_type": "code",
   "execution_count": 10,
   "metadata": {},
   "outputs": [],
   "source": [
    "# rosetta = scores_df[scores_df[\"designed_by\"] == \"rosetta\"]\n",
    "# mpnn = scores_df[scores_df[\"designed_by\"] == \"mpnn\"].sample(1305, random_state=0)\n",
    "# sample_df = pd.concat([rosetta, mpnn])"
   ]
  },
  {
   "cell_type": "markdown",
   "metadata": {},
   "source": [
    "### Remove score terms we don't care about"
   ]
  },
  {
   "cell_type": "code",
   "execution_count": 11,
   "metadata": {},
   "outputs": [],
   "source": [
    "# from crispy_shifty.protocols.design import beta_nov16_terms\n",
    "\n",
    "# sample_df = sample_df[\n",
    "#     [term for term in sample_df.columns if term not in beta_nov16_terms]\n",
    "# ]\n",
    "# print(len(sample_df))"
   ]
  },
  {
   "cell_type": "code",
   "execution_count": 12,
   "metadata": {},
   "outputs": [],
   "source": [
    "# sample_df = sample_df[[term for term in sample_df.columns if \"mpnn_seq\" not in term]]\n",
    "\n",
    "# sample_df.head()"
   ]
  },
  {
   "cell_type": "code",
   "execution_count": 13,
   "metadata": {},
   "outputs": [],
   "source": [
    "# from crispy_shifty.plotting.utils import histplot_df, pairplot_df\n",
    "\n",
    "# to_plot = [\n",
    "#     \"best_average_plddts\",\n",
    "#     \"best_model\",\n",
    "#     \"best_ptm\",\n",
    "#     \"best_rmsd_to_input\",\n",
    "#     \"cms_AcB\",\n",
    "#     \"cms_AnAc\",\n",
    "#     \"cms_AnAcB\",\n",
    "#     \"cms_AnB\",\n",
    "#     \"designed_by\",\n",
    "#     \"mean_pae\",\n",
    "#     \"mean_pae_interaction\",\n",
    "#     \"mean_pae_interaction_AB\",\n",
    "#     \"mean_pae_interaction_BA\",\n",
    "#     \"mean_pae_intra_chain\",\n",
    "#     \"mean_pae_intra_chain_A\",\n",
    "#     \"mean_pae_intra_chain_B\",\n",
    "#     \"mean_plddt\",\n",
    "#     \"mismatch_probability_parent\",\n",
    "#     \"pTMscore\",\n",
    "#     \"packstat_parent\",\n",
    "#     \"pdb\",\n",
    "#     \"recycles\",\n",
    "#     \"rmsd_to_reference\",\n",
    "#     \"sap_parent\",\n",
    "#     \"sc_AcB\",\n",
    "#     \"sc_AnAc\",\n",
    "#     \"sc_AnAcB\",\n",
    "#     \"sc_AnB\",\n",
    "#     \"sc_all_parent\",\n",
    "#     \"score_per_res\",\n",
    "#     \"score_per_res_parent\",\n",
    "#     \"ss_sc\",\n",
    "#     \"state\",\n",
    "#     \"topo\",\n",
    "# ]\n",
    "# print(to_plot)"
   ]
  },
  {
   "cell_type": "markdown",
   "metadata": {},
   "source": [
    "### Plot before and after interface design"
   ]
  },
  {
   "cell_type": "code",
   "execution_count": 14,
   "metadata": {},
   "outputs": [],
   "source": [
    "# cols = [\n",
    "#     \"best_average_plddts\",\n",
    "#     \"best_ptm\",\n",
    "#     \"best_rmsd_to_input\",\n",
    "#     \"mean_plddt\",\n",
    "#     \"pTMscore\",\n",
    "#     \"rmsd_to_reference\",\n",
    "# ]\n",
    "# the_fig = histplot_df(\n",
    "#     df=sample_df,\n",
    "#     cols=cols,\n",
    "#     bins=10,\n",
    "#     hue=\"designed_by\",\n",
    "# )\n",
    "# plt.savefig(os.path.join(output_path, \"old_vs_new_af2_scores.png\"))"
   ]
  },
  {
   "cell_type": "code",
   "execution_count": 15,
   "metadata": {},
   "outputs": [],
   "source": [
    "# sample_df[\"best_model\"] = sample_df[\"best_model\"].astype(str)\n",
    "# the_fig = histplot_df(\n",
    "#     df=sample_df,\n",
    "#     cols=cols,\n",
    "#     bins=10,\n",
    "#     hue=\"best_model\",\n",
    "# )"
   ]
  },
  {
   "cell_type": "code",
   "execution_count": 16,
   "metadata": {},
   "outputs": [],
   "source": [
    "# sample_df[\"best_model\"] = sample_df[\"best_model\"].astype(str)\n",
    "# the_fig = histplot_df(\n",
    "#     df=sample_df,\n",
    "#     cols=cols,\n",
    "#     bins=10,\n",
    "#     hue=\"topo\",\n",
    "# )"
   ]
  },
  {
   "cell_type": "code",
   "execution_count": 17,
   "metadata": {},
   "outputs": [],
   "source": [
    "# the_fig = pairplot_df(\n",
    "#     df=sample_df,\n",
    "#     cols=cols,\n",
    "#     hue=\"designed_by\",\n",
    "# )\n",
    "# plt.savefig(os.path.join(output_path, \"old_vs_new_af2_scores_paired.png\"))"
   ]
  },
  {
   "cell_type": "markdown",
   "metadata": {},
   "source": [
    "### Plot interface correllations"
   ]
  },
  {
   "cell_type": "code",
   "execution_count": 18,
   "metadata": {},
   "outputs": [],
   "source": [
    "# cols = [\n",
    "#     \"cms_AnAcB\",\n",
    "#     \"mean_pae\",\n",
    "#     \"mean_pae_interaction\",\n",
    "#     \"mean_pae_intra_chain\",\n",
    "#     \"mean_plddt\",\n",
    "#     \"sc_AnAcB\",\n",
    "# ]\n",
    "# the_fig = histplot_df(\n",
    "#     df=sample_df,\n",
    "#     cols=cols,\n",
    "#     bins=10,\n",
    "#     hue=\"designed_by\",\n",
    "# )\n",
    "# plt.savefig(os.path.join(output_path, \"interface_scores.png\"))"
   ]
  },
  {
   "cell_type": "code",
   "execution_count": 19,
   "metadata": {},
   "outputs": [],
   "source": [
    "# sample_df[\"best_model\"] = sample_df[\"best_model\"].astype(str)\n",
    "# the_fig = histplot_df(\n",
    "#     df=sample_df,\n",
    "#     cols=cols,\n",
    "#     bins=10,\n",
    "#     hue=\"best_model\",\n",
    "# )"
   ]
  },
  {
   "cell_type": "code",
   "execution_count": 20,
   "metadata": {},
   "outputs": [],
   "source": [
    "# sample_df[\"best_model\"] = sample_df[\"best_model\"].astype(str)\n",
    "# the_fig = histplot_df(\n",
    "#     df=sample_df,\n",
    "#     cols=cols,\n",
    "#     bins=10,\n",
    "#     hue=\"topo\",\n",
    "# )"
   ]
  },
  {
   "cell_type": "code",
   "execution_count": 21,
   "metadata": {},
   "outputs": [],
   "source": [
    "# the_fig = pairplot_df(\n",
    "#     df=sample_df,\n",
    "#     cols=cols,\n",
    "#     hue=\"designed_by\",\n",
    "# )\n",
    "# plt.savefig(os.path.join(output_path, \"interface_scores_paired.png\"))"
   ]
  },
  {
   "cell_type": "markdown",
   "metadata": {},
   "source": [
    "### Plot before and after for other scores"
   ]
  },
  {
   "cell_type": "code",
   "execution_count": 22,
   "metadata": {},
   "outputs": [],
   "source": [
    "# cols = [\n",
    "#     \"mean_plddt\",\n",
    "#     \"mismatch_probability_parent\",\n",
    "#     \"pTMscore\",\n",
    "#     \"packstat_parent\",\n",
    "#     \"rmsd_to_reference\",\n",
    "#     \"sap_parent\",\n",
    "#     \"sc_all_parent\",\n",
    "#     \"score_per_res\",\n",
    "#     \"score_per_res_parent\",\n",
    "#     \"ss_sc\",\n",
    "# ]\n",
    "# the_fig = histplot_df(\n",
    "#     df=sample_df,\n",
    "#     cols=cols,\n",
    "#     bins=10,\n",
    "#     hue=\"designed_by\",\n",
    "# )\n",
    "# plt.savefig(os.path.join(output_path, \"old_vs_new_other_scores.png\"))"
   ]
  },
  {
   "cell_type": "code",
   "execution_count": 23,
   "metadata": {},
   "outputs": [],
   "source": [
    "# sample_df[\"best_model\"] = sample_df[\"best_model\"].astype(str)\n",
    "# the_fig = histplot_df(\n",
    "#     df=sample_df,\n",
    "#     cols=cols,\n",
    "#     bins=10,\n",
    "#     hue=\"best_model\",\n",
    "# )"
   ]
  },
  {
   "cell_type": "code",
   "execution_count": 24,
   "metadata": {},
   "outputs": [],
   "source": [
    "# sample_df[\"best_model\"] = sample_df[\"best_model\"].astype(str)\n",
    "# the_fig = histplot_df(\n",
    "#     df=sample_df,\n",
    "#     cols=cols,\n",
    "#     bins=10,\n",
    "#     hue=\"topo\",\n",
    "# )"
   ]
  },
  {
   "cell_type": "code",
   "execution_count": 25,
   "metadata": {},
   "outputs": [],
   "source": [
    "# the_fig = pairplot_df(\n",
    "#     df=sample_df,\n",
    "#     cols=cols,\n",
    "#     hue=\"designed_by\",\n",
    "# )\n",
    "# plt.savefig(os.path.join(output_path, \"old_vs_new_other_scores_paired.png\"))"
   ]
  },
  {
   "cell_type": "markdown",
   "metadata": {},
   "source": [
    "### Filter the whole df"
   ]
  },
  {
   "cell_type": "code",
   "execution_count": 26,
   "metadata": {},
   "outputs": [],
   "source": [
    "# query = \"mean_plddt > 90 and mean_pae_interaction < 5 and rmsd_to_reference < 1.75\"\n",
    "\n",
    "# filtered = scores_df.query(query)\n",
    "# len(filtered)"
   ]
  },
  {
   "cell_type": "markdown",
   "metadata": {},
   "source": [
    "### Plot topo and scaffold_type fraction before and after"
   ]
  },
  {
   "cell_type": "code",
   "execution_count": 27,
   "metadata": {},
   "outputs": [],
   "source": [
    "# (\n",
    "#     fig,\n",
    "#     (ax1, ax2),\n",
    "# ) = plt.subplots(ncols=2, figsize=(20, 10), tight_layout=True)\n",
    "# scores_df.groupby(\"scaffold_type\").size().plot(kind=\"pie\", autopct=\"%1.2f%%\", ax=ax1)\n",
    "# ax1.set_ylabel(\"before\", rotation=0)\n",
    "# filtered.groupby(\"scaffold_type\").size().plot(kind=\"pie\", autopct=\"%1.2f%%\", ax=ax2)\n",
    "# ax2.set_ylabel(\"after\", rotation=0)\n",
    "\n",
    "# plt.savefig(os.path.join(output_path, \"filtering_effect_scaffold_type.png\"))"
   ]
  },
  {
   "cell_type": "markdown",
   "metadata": {},
   "source": [
    "### Save a list of outputs"
   ]
  },
  {
   "cell_type": "code",
   "execution_count": 28,
   "metadata": {},
   "outputs": [],
   "source": [
    "# simulation_name = \"07_fold_paired_states\"\n",
    "# output_path = os.path.join(os.getcwd(), f\"projects/crispy_shifties/{simulation_name}\")\n",
    "\n",
    "# with open(os.path.join(output_path, \"folded_paired_states.list\"), \"w\") as f:\n",
    "#     for path in tqdm(filtered.index):\n",
    "#         print(path, file=f)"
   ]
  },
  {
   "cell_type": "markdown",
   "metadata": {},
   "source": [
    "### Prototyping blocks"
   ]
  },
  {
   "cell_type": "markdown",
   "metadata": {},
   "source": [
    "test `fold_bound_state`"
   ]
  },
  {
   "cell_type": "code",
   "execution_count": 29,
   "metadata": {
    "tags": []
   },
   "outputs": [
    {
     "name": "stdout",
     "output_type": "stream",
     "text": [
      "PyRosetta-4 2021 [Rosetta PyRosetta4.conda.linux.cxx11thread.serialization.CentOS.python38.Release 2021.50+release.4ff291ed8257ec2d0cd4d96ae4289e1d39ce1007 2021-12-16T00:25:15] retrieved from: http://www.pyrosetta.org\n",
      "(C) Copyright Rosetta Commons Member Institutions. Created in JHU by Sergey Lyskov and PyRosetta Team.\n",
      "core.init: Checking for fconfig files in pwd and ./rosetta/flags\n",
      "core.init: Rosetta version: PyRosetta4.conda.linux.cxx11thread.serialization.CentOS.python38.Release r306 2021.50+release.4ff291e 4ff291ed8257ec2d0cd4d96ae4289e1d39ce1007 http://www.pyrosetta.org 2021-12-16T00:25:15\n",
      "core.init: command: PyRosetta -ex1 -ex2aro -database /projects/crispy_shifty/envs/crispy/lib/python3.8/site-packages/pyrosetta/database\n",
      "basic.random.init_random_generator: 'RNG device' seed mode, using '/dev/urandom', seed=-388472958 seed_offset=0 real_seed=-388472958 thread_index=0\n",
      "basic.random.init_random_generator: RandomGenerator:init: Normal mode, seed=-388472958 RG_type=mt19937\n"
     ]
    },
    {
     "name": "stderr",
     "output_type": "stream",
     "text": [
      "/projects/crispy_shifty/envs/crispy/lib/python3.8/site-packages/dask_jobqueue/core.py:20: FutureWarning: tmpfile is deprecated and will be removed in a future release. Please use dask.utils.tmpfile instead.\n",
      "  from distributed.utils import tmpfile\n"
     ]
    },
    {
     "name": "stdout",
     "output_type": "stream",
     "text": [
      "Warning: Use of `pyrosetta.distributed.cluster` namespace requires Anaconda (or Miniconda) to be properly installed for reproducibility of PyRosetta simulations. Please install Anaconda (or Miniconda) onto your system to enable running `which conda`. For installation instructions, visit:\n",
      "https://docs.anaconda.com/anaconda/install\n",
      "\n",
      "core.chemical.GlobalResidueTypeSet: Finished initializing fa_standard residue type set.  Created 983 residue types\n",
      "core.chemical.GlobalResidueTypeSet: Total time to initialize 0.905443 seconds.\n",
      "core.kinematics.FoldTree: delete_jump_seqpos: deleting jump 1\n",
      "core.kinematics.FoldTree: delete_jump_seqpos: renumbering jump 2 to 1\n",
      "core.kinematics.FoldTree: delete_jump_seqpos: deleting jump 1\n",
      "core.kinematics.FoldTree: delete_jump_seqpos: renumbering jump 2 to 1\n",
      "core.kinematics.FoldTree: delete_jump_seqpos: deleting jump 1\n",
      "core.kinematics.FoldTree: delete_jump_seqpos: renumbering jump 2 to 1\n",
      "0.06 min: Setting up for AF2\n",
      "0.06 min: Running AF2\n",
      "  File \"/mnt/home/pleung/projects/crispy_shifty/superfold/run_superfold_devel.py\", line 180\n",
      "    help=\"turn off chain order updates. A hack to not mess up Adam's predictions. Also does not calculate RMSD.\",\n",
      "    ^\n",
      "SyntaxError: invalid syntax\n",
      "\n",
      "0.06 min: AF2 complete, updating pose datacache\n",
      "Could not load json string for mpnn_seq_0000\n",
      "Could not load json string for mpnn_seq_0001\n",
      "Could not load json string for mpnn_seq_0002\n",
      "Could not load json string for mpnn_seq_0003\n",
      "Could not load json string for mpnn_seq_0004\n",
      "Could not load json string for mpnn_seq_0005\n",
      "Could not load json string for mpnn_seq_0006\n",
      "Could not load json string for mpnn_seq_0007\n",
      "Could not load json string for mpnn_seq_0008\n",
      "Could not load json string for mpnn_seq_0009\n",
      "Could not load json string for mpnn_seq_0010\n",
      "Could not load json string for mpnn_seq_0011\n",
      "Could not load json string for mpnn_seq_0012\n",
      "Could not load json string for mpnn_seq_0013\n",
      "Could not load json string for mpnn_seq_0014\n",
      "Could not load json string for mpnn_seq_0015\n",
      "Could not load json string for mpnn_seq_0016\n",
      "Could not load json string for mpnn_seq_0017\n",
      "Could not load json string for mpnn_seq_0018\n",
      "Could not load json string for mpnn_seq_0019\n",
      "Could not load json string for mpnn_seq_0020\n",
      "Could not load json string for mpnn_seq_0021\n",
      "Could not load json string for mpnn_seq_0022\n",
      "Could not load json string for mpnn_seq_0023\n",
      "Could not load json string for mpnn_seq_0024\n",
      "Could not load json string for mpnn_seq_0025\n",
      "Could not load json string for mpnn_seq_0026\n",
      "Could not load json string for mpnn_seq_0027\n",
      "Could not load json string for mpnn_seq_0028\n",
      "Could not load json string for mpnn_seq_0029\n",
      "Could not load json string for mpnn_seq_0030\n",
      "Could not load json string for mpnn_seq_0031\n",
      "Could not load json string for mpnn_seq_0032\n",
      "Could not load json string for mpnn_seq_0033\n",
      "Could not load json string for mpnn_seq_0034\n",
      "Could not load json string for mpnn_seq_0035\n",
      "Could not load json string for mpnn_seq_0036\n",
      "Could not load json string for mpnn_seq_0037\n",
      "Could not load json string for mpnn_seq_0038\n",
      "Could not load json string for mpnn_seq_0039\n",
      "Could not load json string for mpnn_seq_0040\n",
      "Could not load json string for mpnn_seq_0041\n",
      "Could not load json string for mpnn_seq_0042\n",
      "Could not load json string for mpnn_seq_0043\n",
      "Could not load json string for mpnn_seq_0044\n",
      "Could not load json string for mpnn_seq_0045\n",
      "Could not load json string for mpnn_seq_0046\n",
      "Could not load json string for mpnn_seq_0047\n",
      "Could not load json string for mpnn_seq_0048\n",
      "Could not load json string for mpnn_seq_0049\n",
      "Could not load json string for mpnn_seq_0050\n",
      "Could not load json string for mpnn_seq_0051\n",
      "Could not load json string for mpnn_seq_0052\n",
      "Could not load json string for mpnn_seq_0053\n",
      "Could not load json string for mpnn_seq_0054\n",
      "Could not load json string for mpnn_seq_0055\n",
      "Could not load json string for mpnn_seq_0056\n",
      "Could not load json string for mpnn_seq_0057\n",
      "Could not load json string for mpnn_seq_0058\n",
      "Could not load json string for mpnn_seq_0059\n",
      "Could not load json string for mpnn_seq_0060\n",
      "Could not load json string for mpnn_seq_0061\n",
      "Could not load json string for mpnn_seq_0062\n",
      "Could not load json string for mpnn_seq_0063\n",
      "Could not load json string for mpnn_seq_0064\n",
      "Could not load json string for mpnn_seq_0065\n",
      "Could not load json string for mpnn_seq_0066\n",
      "Could not load json string for mpnn_seq_0067\n",
      "Could not load json string for mpnn_seq_0068\n",
      "Could not load json string for mpnn_seq_0069\n",
      "Could not load json string for mpnn_seq_0070\n",
      "Could not load json string for mpnn_seq_0071\n",
      "Could not load json string for mpnn_seq_0072\n",
      "Could not load json string for mpnn_seq_0073\n",
      "Could not load json string for mpnn_seq_0074\n",
      "Could not load json string for mpnn_seq_0075\n",
      "Could not load json string for mpnn_seq_0076\n",
      "Could not load json string for mpnn_seq_0077\n",
      "Could not load json string for mpnn_seq_0078\n",
      "Could not load json string for mpnn_seq_0079\n",
      "Could not load json string for mpnn_seq_0080\n",
      "Could not load json string for mpnn_seq_0081\n",
      "Could not load json string for mpnn_seq_0082\n",
      "Could not load json string for mpnn_seq_0083\n",
      "Could not load json string for mpnn_seq_0084\n",
      "Could not load json string for mpnn_seq_0085\n",
      "Could not load json string for mpnn_seq_0086\n",
      "Could not load json string for mpnn_seq_0087\n",
      "Could not load json string for mpnn_seq_0088\n",
      "Could not load json string for mpnn_seq_0089\n",
      "Could not load json string for mpnn_seq_0090\n",
      "Could not load json string for mpnn_seq_0091\n",
      "Could not load json string for mpnn_seq_0092\n",
      "Could not load json string for mpnn_seq_0093\n",
      "Could not load json string for mpnn_seq_0094\n",
      "Could not load json string for mpnn_seq_0095\n",
      "Could not load json string for mpnn_seq_0096\n",
      "CPU times: user 3.53 s, sys: 125 ms, total: 3.66 s\n",
      "Wall time: 4.16 s\n"
     ]
    }
   ],
   "source": [
    "%%time \n",
    "from operator import gt, lt\n",
    "import pyrosetta\n",
    "\n",
    "filter_dict = {\n",
    "    \"mean_plddt\": (gt, 85.0),\n",
    "    \"rmsd_to_reference\": (lt, 2.2),\n",
    "    \"mean_pae_interaction\": (lt, 10.0),\n",
    "}\n",
    "\n",
    "rank_on = \"mean_plddt\"\n",
    "prefix = \"mpnn_seq\"\n",
    "\n",
    "pyrosetta.init()\n",
    "\n",
    "\n",
    "sys.path.insert(0, \"~/projects/crispy_shifty/\") # TODO projects\n",
    "from crispy_shifty.protocols.folding import fold_paired_state\n",
    "\n",
    "t = fold_paired_state(\n",
    "        None,\n",
    "        **{\n",
    "#             'fasta_path': '/global/cfs/cdirs/m3962/projects/crispy_shifty/projects/crispy_shifties/06_mpnn_paired_states/fastas/0000/06_mpnn_paired_states_e6c08d9247294efbb7f84c704711447b.fa',\n",
    "            \"filter_dict\": filter_dict,\n",
    "            \"models\": [1], # TODO\n",
    "            'pdb_path': '/mnt/home/pleung/projects/crispy_shifty/projects/crispy_shifties/06_mpnn_paired_states/decoys/0000/06_mpnn_paired_states_e6c08d9247294efbb7f84c704711447b.pdb.bz2____/mnt/home/pleung/projects/crispy_shifty/projects/crispy_shifties/06_mpnn_paired_states/fastas/0000/06_mpnn_paired_states_e6c08d9247294efbb7f84c704711447b.fa',\n",
    "            'predict': 'Y',\n",
    "            'prefix': prefix,\n",
    "            'rank_on': rank_on,\n",
    "#             'fasta_path': 'bar.fa',\n",
    "#             \"models\": [1, 2], # TODO\n",
    "#             'pdb_path': 'foo.pdb.bz2',\n",
    "            \n",
    "        }\n",
    ")\n",
    "for i, tppose in enumerate(t):\n",
    "    tppose.pose.dump_pdb(f\"{i}.pdb\")"
   ]
  },
  {
   "cell_type": "code",
   "execution_count": null,
   "metadata": {
    "scrolled": true
   },
   "outputs": [],
   "source": [
    "tppose.pose.scores"
   ]
  }
 ],
 "metadata": {
  "kernelspec": {
   "display_name": "crispy (3.8.12)",
   "language": "python",
   "name": "crispy"
  },
  "language_info": {
   "codemirror_mode": {
    "name": "ipython",
    "version": 3
   },
   "file_extension": ".py",
   "mimetype": "text/x-python",
   "name": "python",
   "nbconvert_exporter": "python",
   "pygments_lexer": "ipython3",
   "version": "3.8.12"
  }
 },
 "nbformat": 4,
 "nbformat_minor": 5
}
