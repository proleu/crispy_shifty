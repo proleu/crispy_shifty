{
 "cells": [
  {
   "cell_type": "markdown",
   "metadata": {},
   "source": [
    "# Run MPNN interface design on the bound states"
   ]
  },
  {
   "cell_type": "markdown",
   "metadata": {},
   "source": [
    "### Imports"
   ]
  },
  {
   "cell_type": "code",
   "execution_count": 1,
   "metadata": {},
   "outputs": [
    {
     "name": "stdout",
     "output_type": "stream",
     "text": [
      "running in directory: /mnt/home/pleung/projects/crispy_shifty/projects/crispy_shifties\n",
      "running on node: dig42\n"
     ]
    }
   ],
   "source": [
    "%load_ext lab_black\n",
    "# Python standard library\n",
    "from glob import glob\n",
    "import os\n",
    "import socket\n",
    "import sys\n",
    "\n",
    "# 3rd party library imports\n",
    "import dask\n",
    "import matplotlib.pyplot as plt\n",
    "import pandas as pd\n",
    "import pyrosetta\n",
    "import numpy as np\n",
    "import scipy\n",
    "import seaborn as sns\n",
    "from tqdm.auto import tqdm  # jupyter compatible progress bar\n",
    "\n",
    "tqdm.pandas()  # link tqdm to pandas\n",
    "# Notebook magic\n",
    "# save plots in the notebook\n",
    "%matplotlib inline\n",
    "# reloads modules automatically before executing cells\n",
    "%load_ext autoreload\n",
    "%autoreload 2\n",
    "print(f\"running in directory: {os.getcwd()}\")  # where are we?\n",
    "print(f\"running on node: {socket.gethostname()}\")  # what node are we on?"
   ]
  },
  {
   "cell_type": "markdown",
   "metadata": {},
   "source": [
    "### Set working directory to the root of the crispy_shifty repo\n",
    "TODO set to projects dir"
   ]
  },
  {
   "cell_type": "code",
   "execution_count": 2,
   "metadata": {},
   "outputs": [],
   "source": [
    "os.chdir(\"/home/pleung/projects/crispy_shifty\")\n",
    "# os.chdir(\"/projects/crispy_shifty\")"
   ]
  },
  {
   "cell_type": "markdown",
   "metadata": {},
   "source": [
    "### Run MPNN on the interfaces\n",
    "TODO"
   ]
  },
  {
   "cell_type": "code",
   "execution_count": 3,
   "metadata": {},
   "outputs": [
    {
     "name": "stderr",
     "output_type": "stream",
     "text": [
      "/projects/crispy_shifty/envs/crispy/lib/python3.8/site-packages/dask_jobqueue/core.py:20: FutureWarning: tmpfile is deprecated and will be removed in a future release. Please use dask.utils.tmpfile instead.\n",
      "  from distributed.utils import tmpfile\n"
     ]
    },
    {
     "name": "stdout",
     "output_type": "stream",
     "text": [
      "Warning: Use of `pyrosetta.distributed.cluster` namespace requires Anaconda (or Miniconda) to be properly installed for reproducibility of PyRosetta simulations. Please install Anaconda (or Miniconda) onto your system to enable running `which conda`. For installation instructions, visit:\n",
      "https://docs.anaconda.com/anaconda/install\n",
      "\n",
      "Run the following command with your desired environment active:\n",
      "sbatch -a 1-$(cat /mnt/home/pleung/projects/crispy_shifty/projects/crispy_shifties/02_mpnn_bound_states/tasks.cmds | wc -l) /mnt/home/pleung/projects/crispy_shifty/projects/crispy_shifties/02_mpnn_bound_states/run.sh\n"
     ]
    }
   ],
   "source": [
    "from crispy_shifty.utils.io import gen_array_tasks\n",
    "\n",
    "simulation_name = \"02_mpnn_bound_states\"\n",
    "design_list_file = os.path.join(\n",
    "    os.getcwd(), \"projects/crispy_shifties/01_loop_bound_states/looped_states.list\"\n",
    ")\n",
    "output_path = os.path.join(os.getcwd(), f\"projects/crispy_shifties/{simulation_name}\")\n",
    "options = \" \".join(\n",
    "    [\n",
    "        \"out:level 200\",\n",
    "    ]\n",
    ")\n",
    "\n",
    "gen_array_tasks(\n",
    "    distribute_func=\"crispy_shifty.protocols.mpnn.mpnn_bound_state\",\n",
    "    design_list_file=design_list_file,\n",
    "    output_path=output_path,\n",
    "    queue=\"medium\",\n",
    "    memory=\"4G\",\n",
    "    nstruct=1,\n",
    "    nstruct_per_task=1,\n",
    "    options=options,\n",
    "    simulation_name=simulation_name,\n",
    ")"
   ]
  },
  {
   "cell_type": "code",
   "execution_count": 4,
   "metadata": {},
   "outputs": [
    {
     "name": "stdout",
     "output_type": "stream",
     "text": [
      "Submitted batch job 5826055\n"
     ]
    }
   ],
   "source": [
    "!sbatch -a 1-$(cat /mnt/home/pleung/projects/crispy_shifty/projects/crispy_shifties/02_mpnn_bound_states/tasks.cmds | wc -l) /mnt/home/pleung/projects/crispy_shifty/projects/crispy_shifties/02_mpnn_bound_states/run.sh"
   ]
  },
  {
   "cell_type": "markdown",
   "metadata": {},
   "source": [
    "### Collect scorefiles of designed bound states and concatenate\n",
    "TODO change to projects dir"
   ]
  },
  {
   "cell_type": "code",
   "execution_count": 3,
   "metadata": {
    "scrolled": true,
    "tags": []
   },
   "outputs": [
    {
     "name": "stderr",
     "output_type": "stream",
     "text": [
      "/projects/crispy_shifty/envs/crispy/lib/python3.8/site-packages/dask_jobqueue/core.py:20: FutureWarning: tmpfile is deprecated and will be removed in a future release. Please use dask.utils.tmpfile instead.\n",
      "  from distributed.utils import tmpfile\n"
     ]
    },
    {
     "name": "stdout",
     "output_type": "stream",
     "text": [
      "Warning: Use of `pyrosetta.distributed.cluster` namespace requires Anaconda (or Miniconda) to be properly installed for reproducibility of PyRosetta simulations. Please install Anaconda (or Miniconda) onto your system to enable running `which conda`. For installation instructions, visit:\n",
      "https://docs.anaconda.com/anaconda/install\n",
      "\n"
     ]
    }
   ],
   "source": [
    "sys.path.insert(0, \"~/projects/crispy_shifty\")  # TODO\n",
    "from crispy_shifty.utils.io import collect_score_file\n",
    "\n",
    "simulation_name = \"02_mpnn_bound_states\"\n",
    "output_path = os.path.join(os.getcwd(), f\"projects/crispy_shifties/{simulation_name}\")\n",
    "\n",
    "if not os.path.exists(os.path.join(output_path, \"scores.json\")):\n",
    "    collect_score_file(output_path, \"scores\")"
   ]
  },
  {
   "cell_type": "markdown",
   "metadata": {},
   "source": [
    "### Load resulting concatenated scorefile\n",
    "TODO change to projects dir"
   ]
  },
  {
   "cell_type": "code",
   "execution_count": 4,
   "metadata": {
    "scrolled": true,
    "tags": []
   },
   "outputs": [
    {
     "data": {
      "application/vnd.jupyter.widget-view+json": {
       "model_id": "90f0b6a8655a4da9a2624f5c7b61c7dd",
       "version_major": 2,
       "version_minor": 0
      },
      "text/plain": [
       "  0%|          | 0/1305 [00:00<?, ?it/s]"
      ]
     },
     "metadata": {},
     "output_type": "display_data"
    }
   ],
   "source": [
    "sys.path.insert(0, \"~/projects/crispy_shifty\")  # TODO\n",
    "from crispy_shifty.utils.io import parse_scorefile_linear\n",
    "\n",
    "output_path = os.path.join(os.getcwd(), f\"projects/crispy_shifties/{simulation_name}\")\n",
    "\n",
    "scores_df = parse_scorefile_linear(os.path.join(output_path, \"scores.json\"))\n",
    "scores_df = scores_df.convert_dtypes()"
   ]
  },
  {
   "cell_type": "markdown",
   "metadata": {},
   "source": [
    "### Setup for plotting"
   ]
  },
  {
   "cell_type": "code",
   "execution_count": 5,
   "metadata": {},
   "outputs": [],
   "source": [
    "sns.set(\n",
    "    context=\"talk\",\n",
    "    font_scale=1,  # make the font larger; default is pretty small\n",
    "    style=\"ticks\",  # make the background white with black lines\n",
    "    palette=\"colorblind\",  # a color palette that is colorblind friendly!\n",
    ")"
   ]
  },
  {
   "cell_type": "markdown",
   "metadata": {},
   "source": [
    "### Data exploration\n",
    "Gonna remove the Rosetta sfxn scoreterms for now"
   ]
  },
  {
   "cell_type": "code",
   "execution_count": 6,
   "metadata": {},
   "outputs": [
    {
     "name": "stdout",
     "output_type": "stream",
     "text": [
      "1305\n",
      "['bb_clash', 'best_average_DAN_plddts', 'best_average_plddts', 'best_model', 'best_ptm', 'best_rmsd_to_input', 'buns_parent', 'cms_AcB', 'cms_AnAc', 'cms_AnAcB', 'cms_AnB', 'docked_helix', 'dssp', 'exposed_hydrophobics_parent', 'geometry_parent', 'holes_all_parent', 'holes_core_parent', 'loop_dist', 'loop_sc', 'looped_length', 'mismatch_probability_parent', 'mpnn_seq_0000', 'mpnn_seq_0001', 'mpnn_seq_0002', 'mpnn_seq_0003', 'mpnn_seq_0004', 'mpnn_seq_0005', 'mpnn_seq_0006', 'mpnn_seq_0007', 'mpnn_seq_0008', 'mpnn_seq_0009', 'mpnn_seq_0010', 'mpnn_seq_0011', 'mpnn_seq_0012', 'mpnn_seq_0013', 'mpnn_seq_0014', 'mpnn_seq_0015', 'mpnn_seq_0016', 'mpnn_seq_0017', 'mpnn_seq_0018', 'mpnn_seq_0019', 'mpnn_seq_0020', 'mpnn_seq_0021', 'mpnn_seq_0022', 'mpnn_seq_0023', 'mpnn_seq_0024', 'mpnn_seq_0025', 'mpnn_seq_0026', 'mpnn_seq_0027', 'mpnn_seq_0028', 'mpnn_seq_0029', 'mpnn_seq_0030', 'mpnn_seq_0031', 'mpnn_seq_0032', 'mpnn_seq_0033', 'mpnn_seq_0034', 'mpnn_seq_0035', 'mpnn_seq_0036', 'mpnn_seq_0037', 'mpnn_seq_0038', 'mpnn_seq_0039', 'mpnn_seq_0040', 'mpnn_seq_0041', 'mpnn_seq_0042', 'mpnn_seq_0043', 'mpnn_seq_0044', 'mpnn_seq_0045', 'mpnn_seq_0046', 'mpnn_seq_0047', 'mpnn_seq_0048', 'mpnn_seq_0049', 'mpnn_seq_0050', 'mpnn_seq_0051', 'mpnn_seq_0052', 'mpnn_seq_0053', 'mpnn_seq_0054', 'mpnn_seq_0055', 'mpnn_seq_0056', 'mpnn_seq_0057', 'mpnn_seq_0058', 'mpnn_seq_0059', 'mpnn_seq_0060', 'mpnn_seq_0061', 'mpnn_seq_0062', 'mpnn_seq_0063', 'mpnn_seq_0064', 'new_loop_str', 'packstat_parent', 'parent', 'parent_length', 'path_in', 'pdb', 'pivot_helix', 'pre_break_helix', 'sap_parent', 'sc_AcB', 'sc_AnAc', 'sc_AnAcB', 'sc_AnB', 'sc_all_parent', 'scaffold_type', 'score', 'score_per_res', 'score_per_res_parent', 'shift', 'ss_sc', 'state', 'time', 'topo', 'total_length', 'total_score', 'trimmed_length']\n"
     ]
    }
   ],
   "source": [
    "from crispy_shifty.protocols.design import beta_nov16_terms\n",
    "\n",
    "scores_df = scores_df[\n",
    "    [term for term in scores_df.columns if term not in beta_nov16_terms]\n",
    "]\n",
    "print(len(scores_df))\n",
    "print(list(scores_df.columns))"
   ]
  },
  {
   "cell_type": "markdown",
   "metadata": {},
   "source": [
    "### Save individual fastas\n",
    "TODO change to projects dir"
   ]
  },
  {
   "cell_type": "code",
   "execution_count": 7,
   "metadata": {
    "scrolled": true,
    "tags": []
   },
   "outputs": [
    {
     "data": {
      "application/vnd.jupyter.widget-view+json": {
       "model_id": "97ec3be54f2a4127adca32c9ebd7b322",
       "version_major": 2,
       "version_minor": 0
      },
      "text/plain": [
       "  0%|          | 0/1305 [00:00<?, ?it/s]"
      ]
     },
     "metadata": {},
     "output_type": "display_data"
    },
    {
     "name": "stderr",
     "output_type": "stream",
     "text": [
      "/mnt/home/pleung/projects/crispy_shifty/crispy_shifty/utils/io.py:114: PerformanceWarning: DataFrame is highly fragmented.  This is usually the result of calling `frame.insert` many times, which has poor performance.  Consider joining all columns at once using pd.concat(axis=1) instead.  To get a de-fragmented frame, use `newframe = frame.copy()`\n",
      "  df[\"fasta_path\"] = df.progress_apply(mask, args=(out_path), axis=1)\n"
     ]
    }
   ],
   "source": [
    "sys.path.insert(0, \"~/projects/crispy_shifty\")  # TODO\n",
    "from crispy_shifty.utils.io import df_to_fastas\n",
    "\n",
    "output_path = os.path.join(os.getcwd(), f\"projects/crispy_shifties/{simulation_name}\")\n",
    "\n",
    "scores_df = df_to_fastas(scores_df, prefix=\"mpnn_seq\")"
   ]
  },
  {
   "cell_type": "markdown",
   "metadata": {},
   "source": [
    "### Save a list of outputs"
   ]
  },
  {
   "cell_type": "code",
   "execution_count": 8,
   "metadata": {},
   "outputs": [
    {
     "data": {
      "application/vnd.jupyter.widget-view+json": {
       "model_id": "64ada87121b84e77abad3c1e880e334f",
       "version_major": 2,
       "version_minor": 0
      },
      "text/plain": [
       "  0%|          | 0/1305 [00:00<?, ?it/s]"
      ]
     },
     "metadata": {},
     "output_type": "display_data"
    }
   ],
   "source": [
    "simulation_name = \"02_mpnn_bound_states\"\n",
    "output_path = os.path.join(os.getcwd(), f\"projects/crispy_shifties/{simulation_name}\")\n",
    "\n",
    "with open(os.path.join(output_path, \"mpnn_states.list\"), \"w\") as f:\n",
    "    for path in tqdm(scores_df.index):\n",
    "        print(path, file=f)"
   ]
  },
  {
   "cell_type": "markdown",
   "metadata": {},
   "source": [
    "### Prototyping blocks"
   ]
  },
  {
   "cell_type": "markdown",
   "metadata": {},
   "source": [
    "test `mpnn_bound_state`"
   ]
  },
  {
   "cell_type": "code",
   "execution_count": 3,
   "metadata": {
    "scrolled": true,
    "tags": []
   },
   "outputs": [
    {
     "name": "stdout",
     "output_type": "stream",
     "text": [
      "PyRosetta-4 2021 [Rosetta PyRosetta4.conda.linux.cxx11thread.serialization.CentOS.python38.Release 2021.50+release.4ff291ed8257ec2d0cd4d96ae4289e1d39ce1007 2021-12-16T00:25:15] retrieved from: http://www.pyrosetta.org\n",
      "(C) Copyright Rosetta Commons Member Institutions. Created in JHU by Sergey Lyskov and PyRosetta Team.\n",
      "core.init: Checking for fconfig files in pwd and ./rosetta/flags\n",
      "core.init: Rosetta version: PyRosetta4.conda.linux.cxx11thread.serialization.CentOS.python38.Release r306 2021.50+release.4ff291e 4ff291ed8257ec2d0cd4d96ae4289e1d39ce1007 http://www.pyrosetta.org 2021-12-16T00:25:15\n",
      "core.init: command: PyRosetta -ex1 -ex2aro -database /projects/crispy_shifty/envs/crispy/lib/python3.8/site-packages/pyrosetta/database\n",
      "basic.random.init_random_generator: 'RNG device' seed mode, using '/dev/urandom', seed=-1028250697 seed_offset=0 real_seed=-1028250697 thread_index=0\n",
      "basic.random.init_random_generator: RandomGenerator:init: Normal mode, seed=-1028250697 RG_type=mt19937\n",
      "CPU times: user 40.5 ms, sys: 5.23 ms, total: 45.7 ms\n",
      "Wall time: 92.9 ms\n"
     ]
    }
   ],
   "source": [
    "%%time \n",
    "import pyrosetta\n",
    "\n",
    "pyrosetta.init()\n",
    "\n",
    "\n",
    "sys.path.insert(0, \"~/projects/crispy_shifty/\") # TODO projects\n",
    "from crispy_shifty.protocols.mpnn import mpnn_bound_state\n",
    "\n",
    "t = mpnn_bound_state(\n",
    "        None,\n",
    "        **{\n",
    "            'pdb_path': '/mnt/home/pleung/projects/crispy_shifty/projects/crispy_shifties/01_loop_bound_states/decoys/0001/01_loop_bound_states_17f57e75865441a78a0057fb8081b4de.pdb.bz2',\n",
    "        }\n",
    ")"
   ]
  },
  {
   "cell_type": "code",
   "execution_count": 4,
   "metadata": {},
   "outputs": [
    {
     "name": "stderr",
     "output_type": "stream",
     "text": [
      "/projects/crispy_shifty/envs/crispy/lib/python3.8/site-packages/dask_jobqueue/core.py:20: FutureWarning: tmpfile is deprecated and will be removed in a future release. Please use dask.utils.tmpfile instead.\n",
      "  from distributed.utils import tmpfile\n"
     ]
    },
    {
     "name": "stdout",
     "output_type": "stream",
     "text": [
      "Warning: Use of `pyrosetta.distributed.cluster` namespace requires Anaconda (or Miniconda) to be properly installed for reproducibility of PyRosetta simulations. Please install Anaconda (or Miniconda) onto your system to enable running `which conda`. For installation instructions, visit:\n",
      "https://docs.anaconda.com/anaconda/install\n",
      "\n",
      "core.chemical.GlobalResidueTypeSet: Finished initializing fa_standard residue type set.  Created 983 residue types\n",
      "core.chemical.GlobalResidueTypeSet: Total time to initialize 1.04848 seconds.\n",
      "0.05 min: Setting up design selector\n",
      "0.05 min: Designing interface with MPNN\n",
      "Discarded {'bad_chars': 0, 'too_long': 0, 'bad_seq_length': 0}\n",
      "Fixed positions dictionary is loaded\n",
      "PSSM is NOT loaded, or NOT provided\n",
      "Omit AA dictionary is NOT loaded, or NOT provided\n",
      "AA bias dictionary is not loaded, or not provided\n",
      "Generating sequences...\n",
      "Generating sequences for: tmp\n",
      "64 sequences of length 264 generated in 254.5058 seconds\n",
      "\n",
      "4.68 min: MPNN design complete, updating pose datacache\n"
     ]
    }
   ],
   "source": [
    "for i, tppose in enumerate(t):\n",
    "    tppose.pose.dump_pdb(f\"{i}.pdb\")"
   ]
  },
  {
   "cell_type": "code",
   "execution_count": 5,
   "metadata": {
    "scrolled": true
   },
   "outputs": [
    {
     "data": {
      "text/plain": [
       "{'bb_clash': '181.11883544921875',\n",
       " 'best_average_DAN_plddts': '0.9458007812',\n",
       " 'best_average_plddts': '93.5457403353',\n",
       " 'best_model': '2',\n",
       " 'best_ptm': '0.9095557015',\n",
       " 'best_rmsd_to_input': '0.7205311737',\n",
       " 'buns_parent': '0.0',\n",
       " 'cms_AcB': '349.0079040527344',\n",
       " 'cms_AnAc': '565.113037109375',\n",
       " 'cms_AnAcB': '651.3552856445312',\n",
       " 'cms_AnB': '323.6772155761719',\n",
       " 'docked_helix': '4',\n",
       " 'dssp': 'LHHHHHHHHHHHHHHHHHHHHHHHHHHHLLHHHHHHHHHHHHHHHHHHHHHHHHLLLHHHHHHHHHHHHHHHHHHHHHHHHHHHHLLHHHHHHHHHHHHHHHHHHHHHHHHHHHLLLLHHHHHHHHHHHHHHHHHHHHHHHHHHHHLLHHHHHHHHHHHHHHHHHHHHHHHHLLLHHHHHHHHHHHHHHHHHHHHHHHHHHHHLLHHHHHHHHHHHHHHHHHHHHHHHHLLHHHHHHHHHHHHHHHHHHHHHHHHHHHHHHHHL',\n",
       " 'exposed_hydrophobics_parent': '101.03326416015625',\n",
       " 'geometry_parent': '1.0',\n",
       " 'holes_all_parent': '-1.4798530340194702',\n",
       " 'holes_core_parent': '-1.9513436555862427',\n",
       " 'loop_dist': '12.737789269491895',\n",
       " 'loop_sc': '0.6821925849346034',\n",
       " 'looped_length': '230.0',\n",
       " 'mismatch_probability_parent': '0.2606607973575592',\n",
       " 'mpnn_seq_0000': 'DKTEELLDKVREAVKKVIKLLKEAAKQAGDPEALKEAKKASEELKKATELIRESGDSDELIKLLIRVLEAAAKVIEILILAAKQIGDPKAARMAAHMAVMFAHIAAMAVWAAAYAGYDEDFVKLVLWVIIAVLDVAYLLLLAAYQAGDPEAHREAIKAMIELVKAAALVMMRGDSDEEIKEIIKKLEEVAERIRQLIEQAKKQGDPEEAREAAKEAVELAKEAAEVVKRG/DGGGGGELLRDMQKATVMMQKAAHQMGIGGGGTG',\n",
       " 'mpnn_seq_0001': 'DKTEELLDKVREAVKKVIKLLKEAAKQAGDPEALKEAKKASEELKKATELIRESGDSDELIKLLIRVLEAAAKVIEILILAAKQIGDPEAARVAAKIAVKFARAAALAVLAAVGSGRDEDFVKLYLWVIIAVLDVAYLLLLAAYQAGDPEAHYEALRASNELFKAAAKVILRGDSDEEIKEIIKKLEEVAERIRQLIEQAKKQGDPEEAREAAKEAVELAKEAAEVVKRG/MKGKLEELERDFEEAFVLLEEAAKVLALGGGGAR',\n",
       " 'mpnn_seq_0002': 'DKTEELLDKVREAVKKVIKLLKEAAKQAGDPEALKEAKKASEELKKATELIRESGDSDELIKLLIRVLEAAAKVIEILILAAKQIGDPEAARVAAEIAVKFAEMAALMVLGAVGSGRDEDFVKLELWVIIAVLDVAYLLLLAAYQAGDPEAHFEALKASTELFEAAAIVMERGDSDEEIKEIIKKLEEVAERIRQLIEQAKKQGDPEEAREAAKEAVELAKEAAEVVKRG/MRGKLDELRRAFEKAFVKMKEAAEKFRKGGGGAG',\n",
       " 'mpnn_seq_0003': 'DKTEELLDKVREAVKKVIKLLKEAAKQAGDPEALKEAKKASEELKKATELIRESGDSDELIKLLIRVLEAAAKVIEILILAAKQIGDPRAARYAARIAVKFARIAALAVLGAVGSGRDEDFVKLYLWVIIAVLDVAYLLLLAAYQAGDPEAHREALRASTKLFEAAALVALRGDSDEEIKEIIKKLEEVAERIRQLIEQAKKQGDPEEAREAAKEAVELAKEAAEVVKRG/MEGVWDELLREFERAAVLLEEAARVFREGGGGAR',\n",
       " 'mpnn_seq_0004': 'DKTEELLDKVREAVKKVIKLLKEAAKQAGDPEALKEAKKASEELKKATELIRESGDSDELIKLLIRVLEAAAKVIEILILAAKQIGDPAWARAAAKIAVKFARAAALFVEAAVRSGRDEDFVKLYLWVIIAVLDVAYLLLLAAYQAGDPEAHLEALEASNRLFEAVARVMLRGDSDEEIKEIIKKLEEVAERIRQLIEQAKKQGDPEEAREAAKEAVELAKEAAEVVKRG/MEGKLEELLRRAEEAFVLLEEAARVLGEGGGGAR',\n",
       " 'mpnn_seq_0005': 'DKTEELLDKVREAVKKVIKLLKEAAKQAGDPEALKEAKKASEELKKATELIRESGDSDELIKLLIRVLEAAAKVIEILILAAKQIGDPEAARVAAEIAVKFAEIAADAVLAAVGSGRDEDFVKLLLWVIIAVLDVAYLLLLAAYQAGDPEAHLEALEASVKLFEAAALVMERGDSDEEIKEIIKKLEEVAERIRQLIEQAKKQGDPEEAREAAKEAVELAKEAAEVVKRG/MSGKLDELRRRFEEAYVKMKRAAEIVRKGGGGAG',\n",
       " 'mpnn_seq_0006': 'DKTEELLDKVREAVKKVIKLLKEAAKQAGDPEALKEAKKASEELKKATELIRESGDSDELIKLLIRVLEAAAKVIEILILAAKQIGDPRWARVAARIAVKFAEIAAEAVLAAVESGFDEDFVKLYLWVIIAVLDVAYLLLLAAYQAGDPEAHREALRASTKLLEAAALVMLRGDSDEEIKEIIKKLEEVAERIRQLIEQAKKQGDPEEAREAAKEAVELAKEAAEVVKRG/MDGVLDELLREMERAAVLMREAARVMGRGGGGAR',\n",
       " 'mpnn_seq_0007': 'DKTEELLDKVREAVKKVIKLLKEAAKQAGDPEALKEAKKASEELKKATELIRESGDSDELIKLLIRVLEAAAKVIEILILAAKQIGDPEAARVAAEIAVLFAEMAALAVLGAVRSGRDEDFVKLYLWVIIAVLDVAYLLLLAAYQAGDPEAHFEALEASTKLFEAAAIVVERGDSDEEIKEIIKKLEEVAERIRQLIEQAKKQGDPEEAREAAKEAVELAKEAAEVVKRG/MSGKLDELRRRMEEAFVKMREAAEILGLGGGGAG',\n",
       " 'mpnn_seq_0008': 'DKTEELLDKVREAVKKVIKLLKEAAKQAGDPEALKEAKKASEELKKATELIRESGDSDELIKLLIRVLEAAAKVIEILILAAKQIGSPEWARVAAEIAVKFAEIAAEAVLAAVGSGRDEDFVKLELWVIIAVLDVAYLLLLAAYQAGDPEAHLEALEASTELFEAAALVMERGDSDEEIKEIIKKLEEVAERIRQLIEQAKKQGDPEEAREAAKEAVELAKEAAEVVKRG/MSGKLEELRRRFEEAAVKMREAAKKLREGGGGAG',\n",
       " 'mpnn_seq_0009': 'DKTEELLDKVREAVKKVIKLLKEAAKQAGDPEALKEAKKASEELKKATELIRESGDSDELIKLLIRVLEAAAKVIEILILAAKQIGDPEAARVAARIAVKFARAAALMVLAAVHSGRDEDFVKLYLWVIIAVLDVAYLLLLAAYQAGDPEAHLEALRASTRLFEAAAIVMERGDSDEEIKEIIKKLEEVAERIRQLIEQAKKQGDPEEAREAAKEAVELAKEAAEVVKRG/MKGKLDELEREFDRAFVRLERAARILGEGGGGAR',\n",
       " 'mpnn_seq_0010': 'DKTEELLDKVREAVKKVIKLLKEAAKQAGDPEALKEAKKASEELKKATELIRESGDSDELIKLLIRVLEAAAKVIEILILAAKQIGDPEAARAAARIAVDFAEMAADAVLAAVRSGRDEDFVKLYLWVIIAVLDVAYLLLLAAYQAGDPEAHFEALRATTELFEAAALVIERGDSDEEIKEIIKKLEEVAERIRQLIEQAKKQGDPEEAREAAKEAVELAKEAAEVVKRG/MSGKLEELLRRFEAARVRMRRAAEILGEGGGGAG',\n",
       " 'mpnn_seq_0011': 'DKTEELLDKVREAVKKVIKLLKEAAKQAGDPEALKEAKKASEELKKATELIRESGDSDELIKLLIRVLEAAAKVIEILILAAKQIGDPRWARVAAAMAVKFARMAALAVLATVRSGRDEDFVKLLLWVIIAVLDVAYLLLLAAYQAGDPEAHREALRASTELFEAAALVIERGDSDEEIKEIIKKLEEVAERIRQLIEQAKKQGDPEEAREAAKEAVELAKEAAEVVKRG/MEGVLDELRRAFDAAFVRMERAALLWGEGGGGAG',\n",
       " 'mpnn_seq_0012': 'DKTEELLDKVREAVKKVIKLLKEAAKQAGDPEALKEAKKASEELKKATELIRESGDSDELIKLLIRVLEAAAKVIEILILAAKQIGDPEVARAAARMAVKFAEMAALQVLAAVRSGRDEDFVKLLLWVIIAVLDVAYLLLLAAYQAGDPEAHFEAVRASTRLFEAAAKVMLRGDSDEEIKEIIKKLEEVAERIRQLIEQAKKQGDPEEAREAAKEAVELAKEAAEVVKRG/MKGKLEELEREFDEAFVLMREAARVVGEGGGGAG',\n",
       " 'mpnn_seq_0013': 'DKTEELLDKVREAVKKVIKLLKEAAKQAGDPEALKEAKKASEELKKATELIRESGDSDELIKLLIRVLEAAAKVIEILILAAKQIGDPEAARAAARIAVLFAEAAADAVLAAVRSGRDEDFVKLYLWVIIAVLDVAYLLLLAAYQAGDPEAHFEALKASTELFEAAALVIERGDSDEEIKEIIKKLEEVAERIRQLIEQAKKQGDPEEAREAAKEAVELAKEAAEVVKRG/MSGKLDELLRAAEKAYVKLREAAKILGEGGGGAR',\n",
       " 'mpnn_seq_0014': 'DKTEELLDKVREAVKKVIKLLKEAAKQAGDPEALKEAKKASEELKKATELIRESGDSDELIKLLIRVLEAAAKVIEILILAAKQIGDPRWARVAAAIAVKFARAAALAVLAAVRSGRDEDFVKLYLWVIIAVLDVAYLLLLAAYQAGDPEAHLEALRASTKLFEAAAKVVLRGDSDEEIKEIIKKLEEVAERIRQLIEQAKKQGDPEEAREAAKEAVELAKEAAEVVKRG/MEGKLDELRREMEKAFVLLEEAAEVLGLGGGGAR',\n",
       " 'mpnn_seq_0015': 'DKTEELLDKVREAVKKVIKLLKEAAKQAGDPEALKEAKKASEELKKATELIRESGDSDELIKLLIRVLEAAAKVIEILILAAKQIGSPEWARAAAEIAVKFAEMAADAVLATVGSGRDEDFVKLYLWVIIAVLDVAYLLLLAAYQAGDPEAHEEALAASTELFEAAALVIERGDSDEEIKEIIKKLEEVAERIRQLIEQAKKQGDPEEAREAAKEAVELAKEAAEVVKRG/MSGKIDELLRRMEKAYVKMKKAAEKWRKGGGGAG',\n",
       " 'mpnn_seq_0016': 'DKTEELLDKVREAVKKVIKLLKEAAKQAGDPEALKEAKKASEELKKATELIRESGDSDELIKLLIRVLEAAAKVIEILILAAKQIGDPEAARVAAEIAVKFAEMAALAVLGAVGSGRDEDFVKLYLWVIIAVLDVAYLLLLAAYQAGDPEAHYEALEAANKLFEAAAIVWERGDSDEEIKEIIKKLEEVAERIRQLIEQAKKQGDPEEAREAAKEAVELAKEAAEVVKRG/MSGKLDELRRRFEEAFVKMKEAAKKLAEGGGGAG',\n",
       " 'mpnn_seq_0017': 'DKTEELLDKVREAVKKVIKLLKEAAKQAGDPEALKEAKKASEELKKATELIRESGDSDELIKLLIRVLEAAAKVIEILILAAKQIGDPAWARAAARIAVKFARAAALAVLGAVGSGRDEDFVKLELWVIIAVLDVAYLLLLAAYQAGDPEAHLEALRASTRLFEAAALVWKRGDSDEEIKEIIKKLEEVAERIRQLIEQAKKQGDPEEAREAAKEAVELAKEAAEVVKRG/MEGALEELLREFDRAFVLLEEAARILREGGGGAG',\n",
       " 'mpnn_seq_0018': 'DKTEELLDKVREAVKKVIKLLKEAAKQAGDPEALKEAKKASEELKKATELIRESGDSDELIKLLIRVLEAAAKVIEILILAAKQIGDPEAARVAAEIAVKFAEAAALAVLGAVGSGRDEDFVKLYLWVIIAVLDVAYLLLLAAYQAGDPEAHLEALEASTELFEAAALVVLRGDSDEEIKEIIKKLEEVAERIRQLIEQAKKQGDPEEAREAAKEAVELAKEAAEVVKRG/MSGKLDELRRRMEKAFVKLKEAAKVLAEGGGGAG',\n",
       " 'mpnn_seq_0019': 'DKTEELLDKVREAVKKVIKLLKEAAKQAGDPEALKEAKKASEELKKATELIRESGDSDELIKLLIRVLEAAAKVIEILILAAKQIGDPRYARAAARMAVKFAEMAALAVLGAVGSGRDEDFVKLYLWVIIAVLDVAYLLLLAAYQAGDPEAHFEALRASTELFKAVAKVVLRGDSDEEIKEIIKKLEEVAERIRQLIEQAKKQGDPEEAREAAKEAVELAKEAAEVVKRG/MEGKLEELLREFEEAFVLMKEAAEVLRLGGGGAR',\n",
       " 'mpnn_seq_0020': 'DKTEELLDKVREAVKKVIKLLKEAAKQAGDPEALKEAKKASEELKKATELIRESGDSDELIKLLIRVLEAAAKVIEILILAAKQIGDPRWARAAARMAVLFARAAAEAVLGTVNSGLDEDFVKLILWVIIAVLDVAYLLLLAAYQAGDPEAHYEAIRASTKLFEAAALVVLRGDSDEEIKEIIKKLEEVAERIRQLIEQAKKQGDPEEAREAAKEAVELAKEAAEVVKRG/MDGKIDELLREMEKAFVLLKEAAKIWGEGGGGAR',\n",
       " 'mpnn_seq_0021': 'DKTEELLDKVREAVKKVIKLLKEAAKQAGDPEALKEAKKASEELKKATELIRESGDSDELIKLLIRVLEAAAKVIEILILAAKQIGDPEWARVAAEIAVKFAEIAALAVLATVNSGRDEDFVKLYLWVIIAVLDVAYLLLLAAYQAGDPEAHEEALAASTRLFEAAALVLERGDSDEEIKEIIKKLEEVAERIRQLIEQAKKQGDPEEAREAAKEAVELAKEAAEVVKRG/RSGVLDELRRAFEKAFVKMKEAAKILGEGGGGAG',\n",
       " 'mpnn_seq_0022': 'DKTEELLDKVREAVKKVIKLLKEAAKQAGDPEALKEAKKASEELKKATELIRESGDSDELIKLLIRVLEAAAKVIEILILAAKQIGDPEFARVAARIAVKFARMAAEAVLAAVRSGLDEDFVKLYLWVIIAVLDVAYLLLLAAYQAGDPEAHFEALKASTKLFEAAALVVLRGDSDEEIKEIIKKLEEVAERIRQLIEQAKKQGDPEEAREAAKEAVELAKEAAEVVKRG/MKGKLEELEREMEKAAVLMREAAEKLGLGGGGAR',\n",
       " 'mpnn_seq_0023': 'DKTEELLDKVREAVKKVIKLLKEAAKQAGDPEALKEAKKASEELKKATELIRESGDSDELIKLLIRVLEAAAKVIEILILAAKQIGDPEAARVAAEIAVRFAEIAALLVEAAVRSGRDEDFVKLYLWVIIAVLDVAYLLLLAAYQAGDPEAHFEALEASTELFEAAALVILRGDSDEEIKEIIKKLEEVAERIRQLIEQAKKQGDPEEAREAAKEAVELAKEAAEVVKRG/MSGKLEELRRRMERAAVLMREAARVLGEGGGGAG',\n",
       " 'mpnn_seq_0024': 'DKTEELLDKVREAVKKVIKLLKEAAKQAGDPEALKEAKKASEELKKATELIRESGDSDELIKLLIRVLEAAAKVIEILILAAKQIGDPEAARVAARIAVLFAEAAALWVLGAVRSGRDEDFVKLELWVIIAVLDVAYLLLLAAYQAGDPEAHREALKASTELFKAAAKVVLRGDSDEEIKEIIKKLEEVAERIRQLIEQAKKQGDPEEAREAAKEAVELAKEAAEVVKRG/RSGVLDELLREAEEAFVELKEAAKVLGEGGGGAG',\n",
       " 'mpnn_seq_0025': 'DKTEELLDKVREAVKKVIKLLKEAAKQAGDPEALKEAKKASEELKKATELIRESGDSDELIKLLIRVLEAAAKVIEILILAAKQIGDPEAARVAAAIAVKFAEAAALAVLGAVRSGRDEDFVKLYLWVIIAVLDVAYLLLLAAYQAGDPEAHYEAVAASNELFKAAALVVERGDSDEEIKEIIKKLEEVAERIRQLIEQAKKQGDPEEAREAAKEAVELAKEAAEVVKRG/MRGKLEELRREADEAFVAMRRAAEILGLGGGGAR',\n",
       " 'mpnn_seq_0026': 'DKTEELLDKVREAVKKVIKLLKEAAKQAGDPEALKEAKKASEELKKATELIRESGDSDELIKLLIRVLEAAAKVIEILILAAKQIGDPEAARAAAAIAVDFAEIAADAVLAAVGSGLDEDFVKLLLWVIIAVLDVAYLLLLAAYQAGDPEAHFEALEATVKLFEAAAIVMERGDSDEEIKEIIKKLEEVAERIRQLIEQAKKQGDPEEAREAAKEAVELAKEAAEVVKRG/MSGKLDELLRRAREAAVKMREAAKKVAEGGGGAG',\n",
       " 'mpnn_seq_0027': 'DKTEELLDKVREAVKKVIKLLKEAAKQAGDPEALKEAKKASEELKKATELIRESGDSDELIKLLIRVLEAAAKVIEILILAAKQIGDPEWARVAAAMAVKFARMAALAVLATVGSGRDEDFVKLYLWVIIAVLDVAYLLLLAAYQAGDPEAHREALRASTRLFEAAAKVMLRGDSDEEIKEIIKKLEEVAERIRQLIEQAKKQGDPEEAREAAKEAVELAKEAAEVVKRG/RRGVLDELRREFDRAAVLMEEAARVLAEGGGGAR',\n",
       " 'mpnn_seq_0028': 'DKTEELLDKVREAVKKVIKLLKEAAKQAGDPEALKEAKKASEELKKATELIRESGDSDELIKLLIRVLEAAAKVIEILILAAKQIGSPEWARAAAKMAVKFARAAALAVLGAVGSGRDEDFVKLYLWVIIAVLDVAYLLLLAAYQAGDPEAHREALRAATELFKAAALVIERGDSDEEIKEIIKKLEEVAERIRQLIEQAKKQGDPEEAREAAKEAVELAKEAAEVVKRG/MEGVLRELLRAFEEAFVALERAARKLREGGGGAR',\n",
       " 'mpnn_seq_0029': 'DKTEELLDKVREAVKKVIKLLKEAAKQAGDPEALKEAKKASEELKKATELIRESGDSDELIKLLIRVLEAAAKVIEILILAAKQIGDPEAARYAAEIAVKFAEAAALAVLAAVGSGRDEDFVKLYLWVIIAVLDVAYLLLLAAYQAGDPEAHYEALEASTKLFEAAAIVVERGDSDEEIKEIIKKLEEVAERIRQLIEQAKKQGDPEEAREAAKEAVELAKEAAEVVKRG/MSGKLDELRRAMDKAFVKLKKAAEILRKGGGGAG',\n",
       " 'mpnn_seq_0030': 'DKTEELLDKVREAVKKVIKLLKEAAKQAGDPEALKEAKKASEELKKATELIRESGDSDELIKLLIRVLEAAAKVIEILILAAKQIGDPEVARVAAKMAVKFAEMAALAVLAAVRSGRDEDFVKLLLWVIIAVLDVAYLLLLAAYQAGDPEAHFEALAASTKLFEAAALVMERGDSDEEIKEIIKKLEEVAERIRQLIEQAKKQGDPEEAREAAKEAVELAKEAAEVVKRG/MSGKLEELERAFEEAFVRMRRAAKILGEGGGGAR',\n",
       " 'mpnn_seq_0031': 'DKTEELLDKVREAVKKVIKLLKEAAKQAGDPEALKEAKKASEELKKATELIRESGDSDELIKLLIRVLEAAAKVIEILILAAKQIGDPEAARVAAEIAVKFAEIAAEAVLAAVGSGRDEDFVKLELWVIIAVLDVAYLLLLAAYQAGDPEAHFEALKASTELLEAAALVILRGDSDEEIKEIIKKLEEVAERIRQLIEQAKKQGDPEEAREAAKEAVELAKEAAEVVKRG/MSGKLDELRRRFEEAYVKMKEAAKVLRDGGGGAG',\n",
       " 'mpnn_seq_0032': 'DKTEELLDKVREAVKKVIKLLKEAAKQAGDPEALKEAKKASEELKKATELIRESGDSDELIKLLIRVLEAAAKVIEILILAAKQIGDPEAARVAAAIAVDFAEAAALAVLGAVRSGLDEDFVKLILWVIIAVLDVAYLLLLAAYQAGDPEAHYEALEASTRLFEAAALVMERGDSDEEIKEIIKKLEEVAERIRQLIEQAKKQGDPEEAREAAKEAVELAKEAAEVVKRG/MRGKLDELRRRFEEAFVKLREAAEKLGAGGGGAG',\n",
       " 'mpnn_seq_0033': 'DKTEELLDKVREAVKKVIKLLKEAAKQAGDPEALKEAKKASEELKKATELIRESGDSDELIKLLIRVLEAAAKVIEILILAAKQIGSPEWARVAARIAVKFARIAALLVLGAVHSGRDEDFVKLYLWVIIAVLDVAYLLLLAAYQAGDPEAHFEALRASTRLFEAAALVILRGDSDEEIKEIIKKLEEVAERIRQLIEQAKKQGDPEEAREAAKEAVELAKEAAEVVKRG/MEGKLRELRREFERAAVLMEEAARVFGLGGGGAR',\n",
       " 'mpnn_seq_0034': 'DKTEELLDKVREAVKKVIKLLKEAAKQAGDPEALKEAKKASEELKKATELIRESGDSDELIKLLIRVLEAAAKVIEILILAAKQIGDPEAARVAAEIAVKFAEAAALLVLGAVRSGRDEDFVKLYLWVIIAVLDVAYLLLLAAYQAGDPEAHFEAIEASTKLFEAAALVIKRGDSDEEIKEIIKKLEEVAERIRQLIEQAKKQGDPEEAREAAKEAVELAKEAAEVVKRG/MSGKLDELRRAMEKAFVELKEAAKILGEGGGGAR',\n",
       " 'mpnn_seq_0035': 'DKTEELLDKVREAVKKVIKLLKEAAKQAGDPEALKEAKKASEELKKATELIRESGDSDELIKLLIRVLEAAAKVIEILILAAKQIGDPRWARVAARIAVKFAEAAALLVLAAVRSGRDEDFVKLYLWVIIAVLDVAYLLLLAAYQAGDPEAHFEALEASTKLFEAAALVMERGDSDEEIKEIIKKLEEVAERIRQLIEQAKKQGDPEEAREAAKEAVELAKEAAEVVKRG/MEGKLEELERAFEEAFVRLRRAARILGEGGGGAR',\n",
       " 'mpnn_seq_0036': 'DKTEELLDKVREAVKKVIKLLKEAAKQAGDPEALKEAKKASEELKKATELIRESGDSDELIKLLIRVLEAAAKVIEILILAAKQIGDPEWARVAAKMAVKFAEAAALAVLGTVGSGRDEDFVKLYLWVIIAVLDVAYLLLLAAYQAGDPEAHREALRASTELLEAVALVVLRGDSDEEIKEIIKKLEEVAERIRQLIEQAKKQGDPEEAREAAKEAVELAKEAAEVVKRG/MRGVLEELEREMERAFVLLREAALVWALGGGGAR',\n",
       " 'mpnn_seq_0037': 'DKTEELLDKVREAVKKVIKLLKEAAKQAGDPEALKEAKKASEELKKATELIRESGDSDELIKLLIRVLEAAAKVIEILILAAKQIGDPEAARVAAAIAVDFAEIAALAVLGAVHSGRDEDFVKLELWVIIAVLDVAYLLLLAAYQAGDPEAHYEALEASTELFKAAALVWLRGDSDEEIKEIIKKLEEVAERIRQLIEQAKKQGDPEEAREAAKEAVELAKEAAEVVKRG/MEGKLKELRRAFEEAAVLMREAARVLGEGGGGAG',\n",
       " 'mpnn_seq_0038': 'DKTEELLDKVREAVKKVIKLLKEAAKQAGDPEALKEAKKASEELKKATELIRESGDSDELIKLLIRVLEAAAKVIEILILAAKQIGDPEAARVAARMAVKFARAAALWVLGAVGSGRDEDFVKLILWVIIAVLDVAYLLLLAAYQAGDPEAHFEALKASTELFEAAALVVLRGDSDEEIKEIIKKLEEVAERIRQLIEQAKKQGDPEEAREAAKEAVELAKEAAEVVKRG/RRGKLEELERAFEEAFVKLEEAAKVLAEGGGGAR',\n",
       " 'mpnn_seq_0039': 'DKTEELLDKVREAVKKVIKLLKEAAKQAGDPEALKEAKKASEELKKATELIRESGDSDELIKLLIRVLEAAAKVIEILILAAKQIGDPEAARVAAEIAVKFAEAAALMVLGAVRSGRDEDFVKLYLWVIIAVLDVAYLLLLAAYQAGDPEAHREALAASTKLFEAAAEVMLRGDSDEEIKEIIKKLEEVAERIRQLIEQAKKQGDPEEAREAAKEAVELAKEAAEVVKRG/RSGVLDELRRAAEAAFVKLREAARVLAEGGGGAG',\n",
       " 'mpnn_seq_0040': 'DKTEELLDKVREAVKKVIKLLKEAAKQAGDPEALKEAKKASEELKKATELIRESGDSDELIKLLIRVLEAAAKVIEILILAAKQIGDPEAARVAARIAVMFAENAALAVLGAVGSGRDEDFVKLELWVIIAVLDVAYLLLLAAYQAGDPEAHYEALRASTKLVEAAALVILRGDSDEEIKEIIKKLEEVAERIRQLIEQAKKQGDPEEAREAAKEAVELAKEAAEVVKRG/MEGKLEELLREAEKAAVLMREAAKVLAEGGGGAG',\n",
       " 'mpnn_seq_0041': 'DKTEELLDKVREAVKKVIKLLKEAAKQAGDPEALKEAKKASEELKKATELIRESGDSDELIKLLIRVLEAAAKVIEILILAAKQIGDPEMARVAAAMAVKFARIAAEAVEAAVRSGRDEDFVKLLLWVIIAVLDVAYLLLLAAYQAGDPEAHFEALAASTELLKAVALVWLRGDSDEEIKEIIKKLEEVAERIRQLIEQAKKQGDPEEAREAAKEAVELAKEAAEVVKRG/MEGKLKELRRRFEEAAVLMEEAARILGEGGGGAR',\n",
       " 'mpnn_seq_0042': 'DKTEELLDKVREAVKKVIKLLKEAAKQAGDPEALKEAKKASEELKKATELIRESGDSDELIKLLIRVLEAAAKVIEILILAAKQIGDPEAARVAAEIAVLFAEAAADAVLGAVGSGRDEDFVKLYLWVIIAVLDVAYLLLLAAYQAGDPEAHFEALKASTKLFEAAALVIERGDSDEEIKEIIKKLEEVAERIRQLIEQAKKQGDPEEAREAAKEAVELAKEAAEVVKRG/MSGKLDELRREMEKAYVKFKRAAEKLRLGGGGAG',\n",
       " 'mpnn_seq_0043': 'DKTEELLDKVREAVKKVIKLLKEAAKQAGDPEALKEAKKASEELKKATELIRESGDSDELIKLLIRVLEAAAKVIEILILAAKQIGDPEFARVAAKIAVKFAEIAALAVLAAVGSGRDEDFVKLLLWVIIAVLDVAYLLLLAAYQAGDPEAHFEALEASTKLFEAAALVMLRGDSDEEIKEIIKKLEEVAERIRQLIEQAKKQGDPEEAREAAKEAVELAKEAAEVVKRG/MKGKLDELLRAFEEAAVLMRVAAAVVALGGGGAG',\n",
       " 'mpnn_seq_0044': 'DKTEELLDKVREAVKKVIKLLKEAAKQAGDPEALKEAKKASEELKKATELIRESGDSDELIKLLIRVLEAAAKVIEILILAAKQIGDPEAARVAAKIAVKFAEAAALAVLAAVRSGRDEDFVKLVLWVIIAVLDVAYLLLLAAYQAGDPEAHLEALEASTRLFEAVALVMLRGDSDEEIKEIIKKLEEVAERIRQLIEQAKKQGDPEEAREAAKEAVELAKEAAEVVKRG/MKGKLDELLRRAEEAFVLLREAAEVLGLGGGGAR',\n",
       " 'mpnn_seq_0045': 'DKTEELLDKVREAVKKVIKLLKEAAKQAGDPEALKEAKKASEELKKATELIRESGDSDELIKLLIRVLEAAAKVIEILILAAKQIGDPEAARAAAAIAVKFAEAAALLVLGTVGSGRDEDFVKLLLWVIIAVLDVAYLLLLAAYQAGDPEAHFEAVEASVELFEAAAIVMERGDSDEEIKEIIKKLEEVAERIRQLIEQAKKQGDPEEAREAAKEAVELAKEAAEVVKRG/MSGKLDELLRRMEEAFVKLRRAAEKLRLGGGGAG',\n",
       " 'mpnn_seq_0046': 'DKTEELLDKVREAVKKVIKLLKEAAKQAGDPEALKEAKKASEELKKATELIRESGDSDELIKLLIRVLEAAAKVIEILILAAKQIGDPEWARAAARIAVKFAEAAALAVLGAVGSGRDEDFVKLYLWVIIAVLDVAYLLLLAAYQAGDPEAHREALAASTRLFEAAALVILRGDSDEEIKEIIKKLEEVAERIRQLIEQAKKQGDPEEAREAAKEAVELAKEAAEVVKRG/MRGVIDELLREAERAFVLLREAAEVLARGGGGAR',\n",
       " 'mpnn_seq_0047': 'DKTEELLDKVREAVKKVIKLLKEAAKQAGDPEALKEAKKASEELKKATELIRESGDSDELIKLLIRVLEAAAKVIEILILAAKQIGDPEAARVAAEIAVKFAEIAAEAVLAAVGSGRDEDFVKLLLWVIIAVLDVAYLLLLAAYQAGDPEAHFEAIEASNKLLEAAALVVERGDSDEEIKEIIKKLEEVAERIRQLIEQAKKQGDPEEAREAAKEAVELAKEAAEVVKRG/MSGKLDELRRAFEKAAVKMRRAAKIWRDGGGGAG',\n",
       " 'mpnn_seq_0048': 'DKTEELLDKVREAVKKVIKLLKEAAKQAGDPEALKEAKKASEELKKATELIRESGDSDELIKLLIRVLEAAAKVIEILILAAKQIGDPEWARVAAEIAVKFAEAAALAVLAAVGSGRDEDFVKLILWVIIAVLDVAYLLLLAAYQAGDPEAHREALEATNKLFEAAALVALRGDSDEEIKEIIKKLEEVAERIRQLIEQAKKQGDPEEAREAAKEAVELAKEAAEVVKRG/RSGVLDELRRRFEEAFVKLKEAAEVLRLGGGGAG',\n",
       " 'mpnn_seq_0049': 'DKTEELLDKVREAVKKVIKLLKEAAKQAGDPEALKEAKKASEELKKATELIRESGDSDELIKLLIRVLEAAAKVIEILILAAKQIGSPEAARVAAKIAVKFARAAALFVLGTVHSGRDEDFVKLYLWVIIAVLDVAYLLLLAAYQAGDPEAHREALKASTKLFEAVAKVVLRGDSDEEIKEIIKKLEEVAERIRQLIEQAKKQGDPEEAREAAKEAVELAKEAAEVVKRG/MEGVLEELEREFEKAFVLLEEAAKVLGEGGGGAR',\n",
       " 'mpnn_seq_0050': 'DKTEELLDKVREAVKKVIKLLKEAAKQAGDPEALKEAKKASEELKKATELIRESGDSDELIKLLIRVLEAAAKVIEILILAAKQIGDPEAARVAAEIAVKFAEMAALAVLAAVRSGRDEDFVKLYLWVIIAVLDVAYLLLLAAYQAGDPEAHFEAIEASNKLFEAAAIVIERGDSDEEIKEIIKKLEEVAERIRQLIEQAKKQGDPEEAREAAKEAVELAKEAAEVVKRG/MEGKLKELLRKAEEAAVKMRKAAEILGEGGGGAR',\n",
       " 'mpnn_seq_0051': 'DKTEELLDKVREAVKKVIKLLKEAAKQAGDPEALKEAKKASEELKKATELIRESGDSDELIKLLIRVLEAAAKVIEILILAAKQIGSPEWARAAAKIAVKFARIAALLVLATVESGRDEDFVKLLLWVIIAVLDVAYLLLLAAYQAGDPEAHFEALEASTKLFEAAALVMLRGDSDEEIKEIIKKLEEVAERIRQLIEQAKKQGDPEEAREAAKEAVELAKEAAEVVKRG/MEGKIEELLRRMEKAAVLMEEAAKVVALGGGGAR',\n",
       " 'mpnn_seq_0052': 'DKTEELLDKVREAVKKVIKLLKEAAKQAGDPEALKEAKKASEELKKATELIRESGDSDELIKLLIRVLEAAAKVIEILILAAKQIGDPEAARAAARMAVKFAEIAAEAVLATVRSGRDEDFVKLQLWVIIAVLDVAYLLLLAAYQAGDPEAHREALEASTRLFEAAAKVILRGDSDEEIKEIIKKLEEVAERIRQLIEQAKKQGDPEEAREAAKEAVELAKEAAEVVKRG/MRGVLEELLREFERAAVLMREAARVLGEGGGGAR',\n",
       " 'mpnn_seq_0053': 'DKTEELLDKVREAVKKVIKLLKEAAKQAGDPEALKEAKKASEELKKATELIRESGDSDELIKLLIRVLEAAAKVIEILILAAKQIGDPEWARVAAEIAVKFAEAAALMVLAATRSGRDEDFVKLYLWVIIAVLDVAYLLLLAAYQAGDPEAHFEAVEASTKLFEAVARVMLRGDSDEEIKEIIKKLEEVAERIRQLIEQAKKQGDPEEAREAAKEAVELAKEAAEVVKRG/MEGKLTELRRRMEEAFVKLREAAEVLGEGGGGAG',\n",
       " 'mpnn_seq_0054': 'DKTEELLDKVREAVKKVIKLLKEAAKQAGDPEALKEAKKASEELKKATELIRESGDSDELIKLLIRVLEAAAKVIEILILAAKQIGDPEMARVAAKIAVLFAEIAALLVLGTVRSGRDEDFVKLYLWVIIAVLDVAYLLLLAAYQAGDPEAHFEALEASTKLLEAAALVILRGDSDEEIKEIIKKLEEVAERIRQLIEQAKKQGDPEEAREAAKEAVELAKEAAEVVKRG/MRGKLEELRRRMEEAFVLMREAAEVLGLGGGGAR',\n",
       " 'mpnn_seq_0055': 'DKTEELLDKVREAVKKVIKLLKEAAKQAGDPEALKEAKKASEELKKATELIRESGDSDELIKLLIRVLEAAAKVIEILILAAKQIGSPEAARHAAAMAVDFAEIAALLVLAAVGSGRDEDFVKLYLWVIIAVLDVAYLLLLAAYQAGDPEAHYEAIKATNELFEASALVMLRGDSDEEIKEIIKKLEEVAERIRQLIEQAKKQGDPEEAREAAKEAVELAKEAAEVVKRG/MEGKWDELYRRFQKAHVLMKEAAKVLAEGGGGAG',\n",
       " 'mpnn_seq_0056': 'DKTEELLDKVREAVKKVIKLLKEAAKQAGDPEALKEAKKASEELKKATELIRESGDSDELIKLLIRVLEAAAKVIEILILAAKQIGDPEAARVAAEIAVKFAEAAALAVLAAVRSGRDEDFVKLYLWVIIAVLDVAYLLLLAAYQAGDPEAHYEALEASTRLFEAAALVILRGDSDEEIKEIIKKLEEVAERIRQLIEQAKKQGDPEEAREAAKEAVELAKEAAEVVKRG/MSGKLDELRRRFEEAFVLLREAAEVLGEGGGGAG',\n",
       " 'mpnn_seq_0057': 'DKTEELLDKVREAVKKVIKLLKEAAKQAGDPEALKEAKKASEELKKATELIRESGDSDELIKLLIRVLEAAAKVIEILILAAKQIGDPEVARVAARMAVKFAEIAALAVLGAVGSGRDEDFVKLILWVIIAVLDVAYLLLLAAYQAGDPEAHFEAVRASNKLFEAAALVVERGDSDEEIKEIIKKLEEVAERIRQLIEQAKKQGDPEEAREAAKEAVELAKEAAEVVKRG/MKGKLEELEREFEEAAVRMRRAAEKLRLGGGGAR',\n",
       " 'mpnn_seq_0058': 'DKTEELLDKVREAVKKVIKLLKEAAKQAGDPEALKEAKKASEELKKATELIRESGDSDELIKLLIRVLEAAAKVIEILILAAKQIGDPEAARVAAAIAVKFAEAAALMVLGAVRSGRDEDFVKLYLWVIIAVLDVAYLLLLAAYQAGDPEAHYEALEAATKLFEAAALVVLRGDSDEEIKEIIKKLEEVAERIRQLIEQAKKQGDPEEAREAAKEAVELAKEAAEVVKRG/MSGKLDELLRRAEEAFVLLREAAEVLGEGGGGAG',\n",
       " 'mpnn_seq_0059': 'DKTEELLDKVREAVKKVIKLLKEAAKQAGDPEALKEAKKASEELKKATELIRESGDSDELIKLLIRVLEAAAKVIEILILAAKQIGDPEWARVAAKIAVKFAEAAALAVLGTVESGRDEDFVKLELWVIIAVLDVAYLLLLAAYQAGDPEAHFEALRASTELFEAAAKVVERGDSDEEIKEIIKKLEEVAERIRQLIEQAKKQGDPEEAREAAKEAVELAKEAAEVVKRG/RRGKLDELARAMERAFVRLKRAAEIWAKGGGGAR',\n",
       " 'mpnn_seq_0060': 'DKTEELLDKVREAVKKVIKLLKEAAKQAGDPEALKEAKKASEELKKATELIRESGDSDELIKLLIRVLEAAAKVIEILILAAKQIGDPRWARVAARIAVKFARAAALAVLAAVRSGRDEDFVKLLLWVIIAVLDVAYLLLLAAYQAGDPEAHLEALRASTRLFEAAAKVMLRGDSDEEIKEIIKKLEEVAERIRQLIEQAKKQGDPEEAREAAKEAVELAKEAAEVVKRG/MEGKLEELEREMEAAFVLLEEAARVVGEGGGGAR',\n",
       " 'mpnn_seq_0061': 'DKTEELLDKVREAVKKVIKLLKEAAKQAGDPEALKEAKKASEELKKATELIRESGDSDELIKLLIRVLEAAAKVIEILILAAKQIGDPEAARVAAEIAVKFAEAAALAVLAAVESGRDEDFVKLMLWVIIAVLDVAYLLLLAAYQAGDPEAHYEALEASTKLFEAAALVMLRGDSDEEIKEIIKKLEEVAERIRQLIEQAKKQGDPEEAREAAKEAVELAKEAAEVVKRG/MSGKLDELRRAAEKAFVLLKEAAEVVGKGGGGAG',\n",
       " 'mpnn_seq_0062': 'DKTEELLDKVREAVKKVIKLLKEAAKQAGDPEALKEAKKASEELKKATELIRESGDSDELIKLLIRVLEAAAKVIEILILAAKQIGDPRAARAAARMAVKFAEIAALAVLAAVGSGRDEDFVKLYLWVIIAVLDVAYLLLLAAYQAGDPEAHYEALKASTELFEAAALVWKRGDSDEEIKEIIKKLEEVAERIRQLIEQAKKQGDPEEAREAAKEAVELAKEAAEVVKRG/MEGKLEELLRAFEKAYVLMKEAAKILRDGGGGAR',\n",
       " 'mpnn_seq_0063': 'DKTEELLDKVREAVKKVIKLLKEAAKQAGDPEALKEAKKASEELKKATELIRESGDSDELIKLLIRVLEAAAKVIEILILAAKQIGSPEAARYAAEIAVKFAEAAALAVLAAVRSGRDEDFVKLELWVIIAVLDVAYLLLLAAYQAGDPEAHFEALEASNELFKAAALVMLRGDSDEEIKEIIKKLEEVAERIRQLIEQAKKQGDPEEAREAAKEAVELAKEAAEVVKRG/MEGKLEELRRAAEEAFVELKEAAEVLGEGGGGAG',\n",
       " 'mpnn_seq_0064': 'DKTEELLDKVREAVKKVIKLLKEAAKQAGDPEALKEAKKASEELKKATELIRESGDSDELIKLLIRVLEAAAKVIEILILAAKQIGDPEAARAAARIAVLFAEAAALWVKAAVRSGRDEDFVKLLLWVIIAVLDVAYLLLLAAYQAGDPEAHFEALEASTKLFEAAAEVVLRGDSDEEIKEIIKKLEEVAERIRQLIEQAKKQGDPEEAREAAKEAVELAKEAAEVVKRG/MSGKLDELLRAAEAAFVKLKEAAEVLGEGGGGAG',\n",
       " 'new_loop_str': '112,113,114,115,116,117,118',\n",
       " 'packstat_parent': '0.5288589596748352',\n",
       " 'parent': 'X28_2_23_4_ct0_fc',\n",
       " 'parent_length': '226',\n",
       " 'path_in': '/mnt/home/pleung/projects/crispy_shifty/scaffolds/02_make_bound_states/decoys/0001/notebooks_02_make_bound_states_20adad834f5d47c08bd6d6e79cf51c8f.pdb.bz2',\n",
       " 'pdb': '/net/shared/scaffolds/pre_scaffold_DB/tj_DHRs_filtered/X28_2_23_4_ct0_fc.pdb',\n",
       " 'pivot_helix': '5',\n",
       " 'pre_break_helix': '4',\n",
       " 'sap_parent': '23.40459442138672',\n",
       " 'sc_AcB': '0.8272022902965546',\n",
       " 'sc_AnAc': '0.7374032437801361',\n",
       " 'sc_AnAcB': '0.8192095458507538',\n",
       " 'sc_AnB': '0.8183962106704712',\n",
       " 'sc_all_parent': '0.6586981415748596',\n",
       " 'scaffold_type': 'tj_DHRs_filtered',\n",
       " 'score': '-744.0498188524189',\n",
       " 'score_per_res': '-2.895135481916027',\n",
       " 'score_per_res_parent': '-3.038778781890869',\n",
       " 'shift': '4',\n",
       " 'ss_sc': '0.6979646748443585',\n",
       " 'state': 'X28_2_23_4_ct0_fc_p_5_s_4_d_4',\n",
       " 'time': '10568.098697185516',\n",
       " 'topo': 'HHHHHHHH',\n",
       " 'total_length': '264.0',\n",
       " 'total_score': '8851.0',\n",
       " 'trimmed_length': '226'}"
      ]
     },
     "execution_count": 5,
     "metadata": {},
     "output_type": "execute_result"
    }
   ],
   "source": [
    "tppose.pose.scores"
   ]
  },
  {
   "cell_type": "code",
   "execution_count": null,
   "metadata": {},
   "outputs": [],
   "source": [
    "import pyrosetta.distributed.viewer as viewer\n",
    "\n",
    "ppose = pyrosetta.distributed.io.pose_from_file(\"test.pdb\")\n",
    "view = viewer.init(ppose, window_size=(1600, 1200))\n",
    "view.add(viewer.setStyle())\n",
    "view.add(viewer.setStyle(colorscheme=\"whiteCarbon\", radius=0.10))\n",
    "view.add(viewer.setHydrogenBonds())\n",
    "view.add(viewer.setHydrogens(polar_only=True))\n",
    "view.add(viewer.setDisulfides(radius=0.25))\n",
    "view()"
   ]
  },
  {
   "cell_type": "code",
   "execution_count": null,
   "metadata": {},
   "outputs": [],
   "source": []
  }
 ],
 "metadata": {
  "kernelspec": {
   "display_name": "crispy (3.8.12)",
   "language": "python",
   "name": "crispy"
  },
  "language_info": {
   "codemirror_mode": {
    "name": "ipython",
    "version": 3
   },
   "file_extension": ".py",
   "mimetype": "text/x-python",
   "name": "python",
   "nbconvert_exporter": "python",
   "pygments_lexer": "ipython3",
   "version": "3.8.12"
  }
 },
 "nbformat": 4,
 "nbformat_minor": 5
}
