{
 "cells": [
  {
   "cell_type": "markdown",
   "id": "ea3228c0",
   "metadata": {},
   "source": [
    "# Run hacked AlphaFold2 on the designed paired state X's"
   ]
  },
  {
   "cell_type": "markdown",
   "id": "5e19c9e0",
   "metadata": {},
   "source": [
    "### Imports"
   ]
  },
  {
   "cell_type": "code",
   "execution_count": 1,
   "id": "73f8ec0b",
   "metadata": {},
   "outputs": [
    {
     "name": "stdout",
     "output_type": "stream",
     "text": [
      "running in directory: /global/cfs/cdirs/m4129/projects/crispy_shifty/projects/crispy_shifties\n",
      "running on node: nid001004\n"
     ]
    }
   ],
   "source": [
    "%load_ext lab_black\n",
    "# Python standard library\n",
    "from glob import glob\n",
    "import os\n",
    "import socket\n",
    "import sys\n",
    "\n",
    "# 3rd party library imports\n",
    "import dask\n",
    "import matplotlib.pyplot as plt\n",
    "import pandas as pd\n",
    "import pyrosetta\n",
    "import numpy as np\n",
    "import scipy\n",
    "import seaborn as sns\n",
    "from tqdm.auto import tqdm  # jupyter compatible progress bar\n",
    "\n",
    "tqdm.pandas()  # link tqdm to pandas\n",
    "# Notebook magic\n",
    "# save plots in the notebook\n",
    "%matplotlib inline\n",
    "# reloads modules automatically before executing cells\n",
    "%load_ext autoreload\n",
    "%autoreload 2\n",
    "print(f\"running in directory: {os.getcwd()}\")  # where are we?\n",
    "print(f\"running on node: {socket.gethostname()}\")  # what node are we on?"
   ]
  },
  {
   "cell_type": "markdown",
   "id": "7a13bfec",
   "metadata": {},
   "source": [
    "### Set working directory to the root of the crispy_shifty repo\n",
    "Note: We want to use perlmutter"
   ]
  },
  {
   "cell_type": "code",
   "execution_count": 2,
   "id": "ebe39097",
   "metadata": {},
   "outputs": [],
   "source": [
    "os.chdir(\"/global/cfs/cdirs/m4129/projects/crispy_shifty\")"
   ]
  },
  {
   "cell_type": "markdown",
   "id": "a23997d0",
   "metadata": {
    "tags": []
   },
   "source": [
    "### Run AF2 on the designed paired state X's"
   ]
  },
  {
   "cell_type": "code",
   "execution_count": null,
   "id": "405f24bf",
   "metadata": {},
   "outputs": [],
   "source": [
    "from crispy_shifty.utils.io import gen_array_tasks\n",
    "\n",
    "simulation_name = \"08_fold_paired_states_X\"\n",
    "design_list_file = os.path.join(\n",
    "    os.getcwd(),\n",
    "    \"projects/crispy_shifties/07_fold_paired_states_Y/folded_paired_states.pair\",\n",
    ")\n",
    "output_path = os.path.join(f\"/pscratch/sd/p/pleung/{simulation_name}\")\n",
    "options = \" \".join(\n",
    "    [\n",
    "        \"out:level 200\",\n",
    "    ]\n",
    ")\n",
    "extra_kwargs = {\"models\": \"3\"}\n",
    "\n",
    "gen_array_tasks(\n",
    "    distribute_func=\"crispy_shifty.protocols.folding.fold_paired_state_X\",\n",
    "    design_list_file=design_list_file,\n",
    "    output_path=output_path,\n",
    "    perlmutter_mode=True,\n",
    "    nstruct=1,\n",
    "    nstruct_per_task=1,\n",
    "    options=options,\n",
    "    extra_kwargs=extra_kwargs,\n",
    "    simulation_name=simulation_name,\n",
    "    time=\"14:00\",\n",
    ")"
   ]
  },
  {
   "cell_type": "markdown",
   "id": "ef241366",
   "metadata": {},
   "source": [
    "### Set working directory to the root of the crispy_shifty repo\n",
    "Note: We rsync the perlmutter results, now back on the digs"
   ]
  },
  {
   "cell_type": "code",
   "execution_count": null,
   "id": "5695fc06",
   "metadata": {},
   "outputs": [],
   "source": [
    "os.chdir(\"/projects/crispy_shifty\")"
   ]
  },
  {
   "cell_type": "markdown",
   "id": "633c82d8",
   "metadata": {},
   "source": [
    "### Collect scorefiles of the folded paired state Xs and concatenate"
   ]
  },
  {
   "cell_type": "code",
   "execution_count": null,
   "id": "7c959e3b",
   "metadata": {
    "scrolled": true,
    "tags": []
   },
   "outputs": [],
   "source": [
    "sys.path.insert(0, \"/projects/crispy_shifty\")\n",
    "from crispy_shifty.utils.io import collect_score_file\n",
    "\n",
    "simulation_name = \"08_fold_paired_states_X\"\n",
    "output_path = os.path.join(os.getcwd(), f\"projects/crispy_shifties/{simulation_name}\")\n",
    "\n",
    "if not os.path.exists(os.path.join(output_path, \"scores.json\")):\n",
    "    collect_score_file(output_path, \"scores\")"
   ]
  },
  {
   "cell_type": "markdown",
   "id": "a7f489de",
   "metadata": {},
   "source": [
    "### Load resulting concatenated scorefile\n",
    "TODO might have to switch to a dask accelerated approach for production"
   ]
  },
  {
   "cell_type": "code",
   "execution_count": null,
   "id": "7012378e",
   "metadata": {
    "scrolled": true,
    "tags": []
   },
   "outputs": [],
   "source": [
    "sys.path.insert(0, \"/projects/crispy_shifty\")\n",
    "from crispy_shifty.utils.io import parse_scorefile_linear\n",
    "\n",
    "output_path = os.path.join(os.getcwd(), f\"projects/crispy_shifties/{simulation_name}\")\n",
    "\n",
    "if not os.path.exists(os.path.join(output_path, \"scores.csv\")):\n",
    "    scores_df = parse_scorefile_linear(os.path.join(output_path, \"scores.json\"))"
   ]
  },
  {
   "cell_type": "markdown",
   "id": "39910822",
   "metadata": {},
   "source": [
    "### Dump scores_df as a CSV and then reload, for performance reasons"
   ]
  },
  {
   "cell_type": "code",
   "execution_count": null,
   "id": "e9cef517",
   "metadata": {},
   "outputs": [],
   "source": [
    "if not os.path.exists(os.path.join(output_path, \"scores.csv\")):\n",
    "    scores_df.to_csv(os.path.join(output_path, \"scores.csv\"))\n",
    "\n",
    "scores_df = pd.read_csv(os.path.join(output_path, \"scores.csv\"), index_col=\"Unnamed: 0\")"
   ]
  },
  {
   "cell_type": "markdown",
   "id": "aaf5ee62-c19d-4693-9fc9-ee4961345992",
   "metadata": {},
   "source": [
    "### Setup for plotting"
   ]
  },
  {
   "cell_type": "code",
   "execution_count": null,
   "id": "61ad01f9-dfd1-411e-bbbc-a893f6376140",
   "metadata": {},
   "outputs": [],
   "source": [
    "sns.set(\n",
    "    context=\"talk\",\n",
    "    font_scale=1,  # make the font larger; default is pretty small\n",
    "    style=\"ticks\",  # make the background white with black lines\n",
    "    palette=\"colorblind\",  # a color palette that is colorblind friendly!\n",
    ")"
   ]
  },
  {
   "cell_type": "markdown",
   "id": "1ef2aaaf-20b7-4d99-a897-f64ef0b48c15",
   "metadata": {},
   "source": [
    "### Data exploration\n",
    "Gonna remove the Rosetta sfxn scoreterms for now"
   ]
  },
  {
   "cell_type": "code",
   "execution_count": null,
   "id": "43bd5e87-df6a-4cad-929c-2eafa7bdef34",
   "metadata": {},
   "outputs": [],
   "source": [
    "rosetta = scores_df[scores_df[\"designed_by\"] == \"rosetta\"]\n",
    "mpnn = scores_df[scores_df[\"designed_by\"] == \"mpnn\"].sample(1000, random_state=0)\n",
    "sample_df = pd.concat([rosetta, mpnn])"
   ]
  },
  {
   "cell_type": "markdown",
   "id": "88575adc-558b-4960-819a-2980a554673d",
   "metadata": {},
   "source": [
    "### Remove score terms we don't care about"
   ]
  },
  {
   "cell_type": "code",
   "execution_count": null,
   "id": "b8098895-30fa-4c2e-83f7-bf51213787ff",
   "metadata": {},
   "outputs": [],
   "source": [
    "from crispy_shifty.protocols.design import beta_nov16_terms\n",
    "\n",
    "sample_df = sample_df[\n",
    "    [term for term in sample_df.columns if term not in beta_nov16_terms]\n",
    "]\n",
    "print(len(sample_df))\n",
    "print(list(sample_df.columns))"
   ]
  },
  {
   "cell_type": "code",
   "execution_count": null,
   "id": "626c0b6f-5dc0-43ab-bc89-f2fdcbbdd6ff",
   "metadata": {},
   "outputs": [],
   "source": [
    "from crispy_shifty.utils.plotting import histplot_df, pairplot_df\n",
    "\n",
    "to_plot = [\n",
    "    \"best_average_plddts\",\n",
    "    \"best_model\",\n",
    "    \"best_ptm\",\n",
    "    \"best_rmsd_to_input\",\n",
    "    \"cms_AcB\",\n",
    "    \"cms_AnAc\",\n",
    "    \"cms_AnAcB\",\n",
    "    \"cms_AnB\",\n",
    "    \"designed_by\",\n",
    "    \"interface\",\n",
    "    \"mean_pae\",\n",
    "    \"mean_pae_interaction\",\n",
    "    \"mean_pae_interaction_AB\",\n",
    "    \"mean_pae_interaction_BA\",\n",
    "    \"mean_pae_intra_chain\",\n",
    "    \"mean_pae_intra_chain_A\",\n",
    "    \"mean_pae_intra_chain_B\",\n",
    "    \"mean_plddt\",\n",
    "    \"mismatch_probability_parent\",\n",
    "    \"pTMscore\",\n",
    "    \"packstat_parent\",\n",
    "    \"pdb\",\n",
    "    \"recycles\",\n",
    "    \"rmsd_to_reference\",\n",
    "    \"sap_parent\",\n",
    "    \"sc_AcB\",\n",
    "    \"sc_AnAc\",\n",
    "    \"sc_AnAcB\",\n",
    "    \"sc_AnB\",\n",
    "    \"sc_all_parent\",\n",
    "    \"score_per_res\",\n",
    "    \"score_per_res_parent\",\n",
    "    \"ss_sc\",\n",
    "    \"state\",\n",
    "    \"topo\",\n",
    "]\n",
    "print(to_plot)"
   ]
  },
  {
   "cell_type": "markdown",
   "id": "9eac7454-a007-461a-9ed3-9b3e4fb8c9b7",
   "metadata": {},
   "source": [
    "### Plot before and after multistate design AF2 metrics"
   ]
  },
  {
   "cell_type": "code",
   "execution_count": null,
   "id": "720032de-b922-4520-9de4-2f63f8c3d325",
   "metadata": {},
   "outputs": [],
   "source": [
    "cols = [\n",
    "    \"best_average_plddts\",\n",
    "    \"best_ptm\",\n",
    "    \"best_rmsd_to_input\",\n",
    "    \"mean_plddt\",\n",
    "    \"pTMscore\",\n",
    "    \"rmsd_to_reference\",\n",
    "]\n",
    "the_fig = histplot_df(\n",
    "    df=sample_df,\n",
    "    cols=cols,\n",
    "    bins=10,\n",
    "    hue=\"designed_by\",\n",
    ")\n",
    "plt.savefig(os.path.join(output_path, \"old_vs_new_af2_scores.png\"))"
   ]
  },
  {
   "cell_type": "code",
   "execution_count": null,
   "id": "a9b0110c-da4d-4cb9-b6d6-c1d957e01ebb",
   "metadata": {},
   "outputs": [],
   "source": [
    "the_fig = pairplot_df(\n",
    "    df=sample_df,\n",
    "    cols=cols,\n",
    "    hue=\"designed_by\",\n",
    ")\n",
    "plt.savefig(os.path.join(output_path, \"old_vs_new_af2_scores_paired.png\"))"
   ]
  },
  {
   "cell_type": "code",
   "execution_count": null,
   "id": "b8fd58fb-14d7-4b8a-a001-8cadfb94fc84",
   "metadata": {},
   "outputs": [],
   "source": [
    "# the_fig = histplot_df(\n",
    "#     df=sample_df,\n",
    "#     cols=cols,\n",
    "#     bins=10,\n",
    "#     hue=\"interface\",\n",
    "# )"
   ]
  },
  {
   "cell_type": "code",
   "execution_count": null,
   "id": "41586d17-9a22-478c-9504-73ace969560e",
   "metadata": {},
   "outputs": [],
   "source": [
    "# the_fig = pairplot_df(\n",
    "#     df=sample_df,\n",
    "#     cols=cols,\n",
    "#     hue=\"interface\",\n",
    "# )"
   ]
  },
  {
   "cell_type": "markdown",
   "id": "9d8178b8-dcc3-48da-a2c2-598bec28ce31",
   "metadata": {},
   "source": [
    "### Plot effects of MPNN temperature and selector areas on AF2 metrics"
   ]
  },
  {
   "cell_type": "code",
   "execution_count": null,
   "id": "c8e4e720-e529-4203-a8e4-079871db547a",
   "metadata": {},
   "outputs": [],
   "source": [
    "# mpnn[\"mpnn_temperature\"] = mpnn[\"mpnn_temperature\"].astype(str)\n",
    "\n",
    "# cols = [\n",
    "#     \"best_average_plddts\",\n",
    "#     \"best_ptm\",\n",
    "#     \"best_rmsd_to_input\",\n",
    "#     \"mean_plddt\",\n",
    "#     \"pTMscore\",\n",
    "#     \"rmsd_to_reference\",\n",
    "# ]\n",
    "# the_fig = histplot_df(\n",
    "#     df=mpnn,\n",
    "#     cols=cols,\n",
    "#     bins=10,\n",
    "#     hue=\"mpnn_temperature\",\n",
    "# )"
   ]
  },
  {
   "cell_type": "code",
   "execution_count": null,
   "id": "3b0f88fb-b998-4787-84db-e27c56e7b384",
   "metadata": {},
   "outputs": [],
   "source": [
    "# the_fig = pairplot_df(\n",
    "#     df=mpnn,\n",
    "#     cols=cols,\n",
    "#     hue=\"mpnn_temperature\",\n",
    "# )"
   ]
  },
  {
   "cell_type": "code",
   "execution_count": null,
   "id": "0e4a712f-cb69-447c-bcdd-22300b66ed21",
   "metadata": {},
   "outputs": [],
   "source": [
    "mpnn[\"mpnn_msd_temperature\"] = mpnn[\"mpnn_msd_temperature\"].astype(str)\n",
    "\n",
    "cols = [\n",
    "    \"best_average_plddts\",\n",
    "    \"best_ptm\",\n",
    "    \"best_rmsd_to_input\",\n",
    "    \"mean_plddt\",\n",
    "    \"pTMscore\",\n",
    "    \"rmsd_to_reference\",\n",
    "]\n",
    "the_fig = histplot_df(\n",
    "    df=mpnn,\n",
    "    cols=cols,\n",
    "    bins=10,\n",
    "    hue=\"mpnn_msd_temperature\",\n",
    ")\n",
    "plt.savefig(os.path.join(output_path, \"old_vs_new_af2_scores_temp.png\"))"
   ]
  },
  {
   "cell_type": "code",
   "execution_count": null,
   "id": "48010ba0-2436-4455-bc38-6eb2c466c664",
   "metadata": {},
   "outputs": [],
   "source": [
    "the_fig = pairplot_df(\n",
    "    df=mpnn,\n",
    "    cols=cols,\n",
    "    hue=\"mpnn_msd_temperature\",\n",
    ")\n",
    "plt.savefig(os.path.join(output_path, \"old_vs_new_af2_scores_temp_paired.png\"))"
   ]
  },
  {
   "cell_type": "code",
   "execution_count": null,
   "id": "0865560b-00fd-4969-8e50-2b4c68fe7080",
   "metadata": {},
   "outputs": [],
   "source": [
    "the_fig = histplot_df(\n",
    "    df=mpnn,\n",
    "    cols=cols,\n",
    "    bins=10,\n",
    "    hue=\"mpnn_msd_design_area\",\n",
    ")\n",
    "plt.savefig(os.path.join(output_path, \"old_vs_new_af2_scores_area.png\"))"
   ]
  },
  {
   "cell_type": "code",
   "execution_count": null,
   "id": "d0a7a7cb-1083-4c5c-b308-9f3532ea2348",
   "metadata": {},
   "outputs": [],
   "source": [
    "the_fig = pairplot_df(\n",
    "    df=mpnn,\n",
    "    cols=cols,\n",
    "    hue=\"mpnn_msd_design_area\",\n",
    ")\n",
    "plt.savefig(os.path.join(output_path, \"old_vs_new_af2_scores_area_paired.png\"))"
   ]
  },
  {
   "cell_type": "code",
   "execution_count": null,
   "id": "88c1298e-bf8b-432b-b283-2b0334e7b5f4",
   "metadata": {},
   "outputs": [],
   "source": [
    "# sample_df[\"best_model\"] = sample_df[\"best_model\"].astype(str)\n",
    "# the_fig = histplot_df(\n",
    "#     df=sample_df,\n",
    "#     cols=cols,\n",
    "#     bins=10,\n",
    "#     hue=\"best_model\",\n",
    "# )"
   ]
  },
  {
   "cell_type": "code",
   "execution_count": null,
   "id": "978c4ff2-b464-47e5-8406-7c03d50258ee",
   "metadata": {},
   "outputs": [],
   "source": [
    "# sample_df[\"best_model\"] = sample_df[\"best_model\"].astype(str)\n",
    "# the_fig = histplot_df(\n",
    "#     df=sample_df,\n",
    "#     cols=cols,\n",
    "#     bins=10,\n",
    "#     hue=\"topo\",\n",
    "# )"
   ]
  },
  {
   "cell_type": "markdown",
   "id": "43fc0193-7a7c-4850-a409-03c5ee10653c",
   "metadata": {},
   "source": [
    "### Plot effects of MPNN temperature and selector areas on interface metrics"
   ]
  },
  {
   "cell_type": "code",
   "execution_count": null,
   "id": "1b9fdd65-7b3e-4d9f-9d0f-69b400483c92",
   "metadata": {},
   "outputs": [],
   "source": [
    "cols = [\n",
    "    \"mean_pae_intra_chain\",\n",
    "    \"mean_plddt\",\n",
    "]\n",
    "the_fig = histplot_df(\n",
    "    df=mpnn,\n",
    "    cols=cols,\n",
    "    bins=10,\n",
    "    hue=\"mpnn_msd_temperature\",\n",
    ")\n",
    "# plt.savefig(os.path.join(output_path, \"interface_scores_temp.png\"))"
   ]
  },
  {
   "cell_type": "code",
   "execution_count": null,
   "id": "18b8b160-545d-40c0-af3c-2f925043c84e",
   "metadata": {},
   "outputs": [],
   "source": [
    "the_fig = pairplot_df(\n",
    "    df=mpnn,\n",
    "    cols=cols,\n",
    "    hue=\"mpnn_msd_temperature\",\n",
    ")\n",
    "# plt.savefig(os.path.join(output_path, \"interface_scores_paired.png\"))"
   ]
  },
  {
   "cell_type": "code",
   "execution_count": null,
   "id": "a7fb3aa6-c8dc-4ca5-b29a-229bdff64ad1",
   "metadata": {},
   "outputs": [],
   "source": [
    "the_fig = histplot_df(\n",
    "    df=mpnn,\n",
    "    cols=cols,\n",
    "    bins=10,\n",
    "    hue=\"mpnn_msd_design_area\",\n",
    ")\n",
    "# plt.savefig(os.path.join(output_path, \"interface_scores_area.png\"))"
   ]
  },
  {
   "cell_type": "code",
   "execution_count": null,
   "id": "100e4deb-8030-4209-9bf1-5694c6cea8da",
   "metadata": {},
   "outputs": [],
   "source": [
    "the_fig = pairplot_df(\n",
    "    df=mpnn,\n",
    "    cols=cols,\n",
    "    hue=\"mpnn_msd_design_area\",\n",
    ")\n",
    "# plt.savefig(os.path.join(output_path, \"interface_scores_area_paired.png\"))"
   ]
  },
  {
   "cell_type": "markdown",
   "id": "886eb7e1-e9c1-467c-bc44-5da73330fcce",
   "metadata": {},
   "source": [
    "### Filter the whole df"
   ]
  },
  {
   "cell_type": "code",
   "execution_count": null,
   "id": "0d2d5a58-1679-4acc-ad76-791dab525337",
   "metadata": {},
   "outputs": [],
   "source": [
    "query = \"mean_plddt > 92 and rmsd_to_reference < 1.5\"\n",
    "\n",
    "filtered = scores_df.query(query)\n",
    "len(filtered)"
   ]
  },
  {
   "cell_type": "code",
   "execution_count": null,
   "id": "2f8be66c-9758-4067-99f2-75bcc309939e",
   "metadata": {},
   "outputs": [],
   "source": [
    "print(list(sorted(set([v for v in filtered.parent.values if len(v) == 5]))))"
   ]
  },
  {
   "cell_type": "markdown",
   "id": "b3513ada",
   "metadata": {},
   "source": [
    "### Plot topo and scaffold_type fraction before and after"
   ]
  },
  {
   "cell_type": "code",
   "execution_count": null,
   "id": "80f584ca",
   "metadata": {},
   "outputs": [],
   "source": [
    "(\n",
    "    fig,\n",
    "    (ax1, ax2),\n",
    ") = plt.subplots(ncols=2, figsize=(20, 10), tight_layout=True)\n",
    "scores_df.groupby(\"scaffold_type\").size().plot(kind=\"pie\", autopct=\"%1.2f%%\", ax=ax1)\n",
    "ax1.set_ylabel(\"before\", rotation=0)\n",
    "filtered.groupby(\"scaffold_type\").size().plot(kind=\"pie\", autopct=\"%1.2f%%\", ax=ax2)\n",
    "ax2.set_ylabel(\"after\", rotation=0)\n",
    "\n",
    "plt.savefig(os.path.join(output_path, \"filtering_effect_scaffold_type.png\"))"
   ]
  },
  {
   "cell_type": "markdown",
   "id": "247ee5ca",
   "metadata": {},
   "source": [
    "### Save a list of outputs"
   ]
  },
  {
   "cell_type": "code",
   "execution_count": null,
   "id": "bf4ed92a",
   "metadata": {},
   "outputs": [],
   "source": [
    "simulation_name = \"08_fold_paired_states_X\"\n",
    "output_path = os.path.join(os.getcwd(), f\"projects/crispy_shifties/{simulation_name}\")\n",
    "\n",
    "with open(os.path.join(output_path, \"folded_paired_states.list\"), \"w\") as f:\n",
    "    for path in tqdm(filtered.index):\n",
    "        print(path, file=f)"
   ]
  },
  {
   "cell_type": "markdown",
   "id": "c0c50c87",
   "metadata": {},
   "source": [
    "### Prototyping blocks"
   ]
  },
  {
   "cell_type": "markdown",
   "id": "b8cc0bf9",
   "metadata": {},
   "source": [
    "test `fold_paired_state_X`"
   ]
  },
  {
   "cell_type": "code",
   "execution_count": null,
   "id": "f19db1f0",
   "metadata": {},
   "outputs": [],
   "source": [
    "%%time \n",
    "from operator import gt, lt\n",
    "import pyrosetta\n",
    "\n",
    "# filter_dict = {\n",
    "#     \"mean_plddt\": (gt, 85.0),\n",
    "#     \"rmsd_to_reference\": (lt, 2.2),\n",
    "#     \"mean_pae_interaction\": (lt, 10.0),\n",
    "# }\n",
    "\n",
    "pyrosetta.init()\n",
    "\n",
    "\n",
    "sys.path.insert(0, \"~/projects/crispy_shifty/\") # TODO projects\n",
    "from crispy_shifty.protocols.folding import fold_paired_state_X\n",
    "\n",
    "t = fold_paired_state_Y(\n",
    "        None,\n",
    "        **{\n",
    "            \"filter_dict\": {},\n",
    "            \"models\": [3], # TODO\n",
    "            'pdb_path': '/mnt/home/pleung/projects/crispy_shifty/projects/crispy_shifties/07_fold_paired_states_Y/decoys/0000/07_fold_paired_states_Y_760c687ae53646b59bd36bbe91998593.pdb.bz2 /mnt/home/pleung/projects/crispy_shifty/projects/crispy_shifties/07_fold_paired_states_Y/decoys/0000/07_fold_paired_states_Y_2118b14f45e849ac99034c2e36a8230f.pdb.bz2 /mnt/home/pleung/projects/crispy_shifty/projects/crispy_shifties/07_fold_paired_states_Y/decoys/0000/07_fold_paired_states_Y_806db75a0f8949119a54d50ee8c28576.pdb.bz2 /mnt/home/pleung/projects/crispy_shifty/projects/crispy_shifties/07_fold_paired_states_Y/decoys/0000/07_fold_paired_states_Y_bf4fc1710acb4037917254ce283a7223.pdb.bz2 /mnt/home/pleung/projects/crispy_shifty/projects/crispy_shifties/07_fold_paired_states_Y/decoys/0000/07_fold_paired_states_Y_1984895bd0d744e7b7c82446e07b8189.pdb.bz2 /mnt/home/pleung/projects/crispy_shifty/projects/crispy_shifties/07_fold_paired_states_Y/decoys/0000/07_fold_paired_states_Y_ff38fa4457a84da1b0d95850f99b6f10.pdb.bz2 /mnt/home/pleung/projects/crispy_shifty/projects/crispy_shifties/07_fold_paired_states_Y/decoys/0000/07_fold_paired_states_Y_c712e867dda84adab431812f7d1ed004.pdb.bz2 /mnt/home/pleung/projects/crispy_shifty/projects/crispy_shifties/07_fold_paired_states_Y/decoys/0000/07_fold_paired_states_Y_5b83ffb2312944f084a5557ed82ed5d9.pdb.bz2 /mnt/home/pleung/projects/crispy_shifty/projects/crispy_shifties/07_fold_paired_states_Y/decoys/0000/07_fold_paired_states_Y_b319b9e9da43467596e807f54262cde2.pdb.bz2 /mnt/home/pleung/projects/crispy_shifty/projects/crispy_shifties/07_fold_paired_states_Y/decoys/0000/07_fold_paired_states_Y_fecc3fb836b24903af7b13df546ea87c.pdb.bz2 /mnt/home/pleung/projects/crispy_shifty/projects/crispy_shifties/07_fold_paired_states_Y/decoys/0000/07_fold_paired_states_Y_1d931fe681f0482098275e4fd0749d3e.pdb.bz2 /mnt/home/pleung/projects/crispy_shifty/projects/crispy_shifties/07_fold_paired_states_Y/decoys/0000/07_fold_paired_states_Y_e942561def5b4e4491b3c9d9b2d15f76.pdb.bz2 /mnt/home/pleung/projects/crispy_shifty/projects/crispy_shifties/07_fold_paired_states_Y/decoys/0000/07_fold_paired_states_Y_b4791741764a4a1eb28a624286d32a12.pdb.bz2 /mnt/home/pleung/projects/crispy_shifty/projects/crispy_shifties/07_fold_paired_states_Y/decoys/0000/07_fold_paired_states_Y_261a0384260a4d169bab95c703574b15.pdb.bz2 /mnt/home/pleung/projects/crispy_shifty/projects/crispy_shifties/07_fold_paired_states_Y/decoys/0000/07_fold_paired_states_Y_5ff0e503a5704aa39ed3b721793432e5.pdb.bz2 /mnt/home/pleung/projects/crispy_shifty/projects/crispy_shifties/07_fold_paired_states_Y/decoys/0000/07_fold_paired_states_Y_ea30c907f4d54a0a807e2b3475004032.pdb.bz2 /mnt/home/pleung/projects/crispy_shifty/projects/crispy_shifties/07_fold_paired_states_Y/decoys/0000/07_fold_paired_states_Y_a62763836a9a4543858b45840ede8c70.pdb.bz2 /mnt/home/pleung/projects/crispy_shifty/projects/crispy_shifties/07_fold_paired_states_Y/decoys/0000/07_fold_paired_states_Y_d2efc01301a74800b6f5669dba46434b.pdb.bz2 /mnt/home/pleung/projects/crispy_shifty/projects/crispy_shifties/07_fold_paired_states_Y/decoys/0000/07_fold_paired_states_Y_b60157d157614d5eb8d540ec1cad6cbd.pdb.bz2 /mnt/home/pleung/projects/crispy_shifty/projects/crispy_shifties/07_fold_paired_states_Y/decoys/0000/07_fold_paired_states_Y_d66fa964e5d545feaa20bd131bb372d5.pdb.bz2 /mnt/home/pleung/projects/crispy_shifty/projects/crispy_shifties/07_fold_paired_states_Y/decoys/0000/07_fold_paired_states_Y_c3e8d46a19c3441fb1c02e6ab8cc0f1e.pdb.bz2 /mnt/home/pleung/projects/crispy_shifty/projects/crispy_shifties/07_fold_paired_states_Y/decoys/0000/07_fold_paired_states_Y_f763ddc8862f4716ab73613645b818b5.pdb.bz2 /mnt/home/pleung/projects/crispy_shifty/projects/crispy_shifties/07_fold_paired_states_Y/decoys/0000/07_fold_paired_states_Y_b5c33cfd51c74dfa8259136db8fc02e9.pdb.bz2 /mnt/home/pleung/projects/crispy_shifty/projects/crispy_shifties/07_fold_paired_states_Y/decoys/0000/07_fold_paired_states_Y_00e8a2bb6e3241a78f3688a5727f53ca.pdb.bz2 /mnt/home/pleung/projects/crispy_shifty/projects/crispy_shifties/07_fold_paired_states_Y/decoys/0000/07_fold_paired_states_Y_1e151d604abe47aca2d3b0d2ca8449bd.pdb.bz2 /mnt/home/pleung/projects/crispy_shifty/projects/crispy_shifties/07_fold_paired_states_Y/decoys/0000/07_fold_paired_states_Y_dda3a86db52549d5881ea816b39fe2fa.pdb.bz2 /mnt/home/pleung/projects/crispy_shifty/projects/crispy_shifties/07_fold_paired_states_Y/decoys/0000/07_fold_paired_states_Y_497eff9bccbc466999ac1445d8c72307.pdb.bz2 /mnt/home/pleung/projects/crispy_shifty/projects/crispy_shifties/07_fold_paired_states_Y/decoys/0000/07_fold_paired_states_Y_35a59b20c8a342dab46b094dc085fbbe.pdb.bz2 /mnt/home/pleung/projects/crispy_shifty/projects/crispy_shifties/07_fold_paired_states_Y/decoys/0000/07_fold_paired_states_Y_9e1e91449de0489a95ecd922947c130c.pdb.bz2 /mnt/home/pleung/projects/crispy_shifty/projects/crispy_shifties/07_fold_paired_states_Y/decoys/0000/07_fold_paired_states_Y_45c296059f6a45879dd55ddb1909bdfd.pdb.bz2 /mnt/home/pleung/projects/crispy_shifty/projects/crispy_shifties/07_fold_paired_states_Y/decoys/0000/07_fold_paired_states_Y_9a8528df5cdd405d81a1d825e281a7d8.pdb.bz2 /mnt/home/pleung/projects/crispy_shifty/projects/crispy_shifties/07_fold_paired_states_Y/decoys/0000/07_fold_paired_states_Y_23965c49bce44dc88f1d373832948c11.pdb.bz2 /mnt/home/pleung/projects/crispy_shifty/projects/crispy_shifties/07_fold_paired_states_Y/decoys/0000/07_fold_paired_states_Y_45dce59a18a742b28c5ade3172290005.pdb.bz2 /mnt/home/pleung/projects/crispy_shifty/projects/crispy_shifties/07_fold_paired_states_Y/decoys/0000/07_fold_paired_states_Y_c6f1549c40824fe4a7b71e548ae44237.pdb.bz2 /mnt/home/pleung/projects/crispy_shifty/projects/crispy_shifties/07_fold_paired_states_Y/decoys/0000/07_fold_paired_states_Y_96b04c0f1f834a07a0de2240712e91dd.pdb.bz2 /mnt/home/pleung/projects/crispy_shifty/projects/crispy_shifties/07_fold_paired_states_Y/decoys/0000/07_fold_paired_states_Y_2e6f7255b1344097b82f1ce9d29b9117.pdb.bz2 /mnt/home/pleung/projects/crispy_shifty/projects/crispy_shifties/07_fold_paired_states_Y/decoys/0000/07_fold_paired_states_Y_0c915ad2756c4728ae0e5292ae9aa73e.pdb.bz2 /mnt/home/pleung/projects/crispy_shifty/projects/crispy_shifties/07_fold_paired_states_Y/decoys/0000/07_fold_paired_states_Y_018f599f71d649bda48372a0f63a6337.pdb.bz2 /mnt/home/pleung/projects/crispy_shifty/projects/crispy_shifties/07_fold_paired_states_Y/decoys/0000/07_fold_paired_states_Y_892f31cdce9e4265b491359fc274d050.pdb.bz2 /mnt/home/pleung/projects/crispy_shifty/projects/crispy_shifties/07_fold_paired_states_Y/decoys/0000/07_fold_paired_states_Y_ab90cfa6b99f4df792b36c5afc737631.pdb.bz2 /mnt/home/pleung/projects/crispy_shifty/projects/crispy_shifties/07_fold_paired_states_Y/decoys/0000/07_fold_paired_states_Y_e8d8ae2c9c684a1c927ca22d0cfee18f.pdb.bz2 /mnt/home/pleung/projects/crispy_shifty/projects/crispy_shifties/07_fold_paired_states_Y/decoys/0000/07_fold_paired_states_Y_a2998e9517124945844771da288f5ad0.pdb.bz2 /mnt/home/pleung/projects/crispy_shifty/projects/crispy_shifties/07_fold_paired_states_Y/decoys/0000/07_fold_paired_states_Y_335f541ac8084aaa99ecae31bada0095.pdb.bz2 /mnt/home/pleung/projects/crispy_shifty/projects/crispy_shifties/07_fold_paired_states_Y/decoys/0000/07_fold_paired_states_Y_bd0143a910f14248a19c9c8b4d05a551.pdb.bz2 /mnt/home/pleung/projects/crispy_shifty/projects/crispy_shifties/07_fold_paired_states_Y/decoys/0000/07_fold_paired_states_Y_9bd90f2f947642ec8e45dc9aa29cd095.pdb.bz2 /mnt/home/pleung/projects/crispy_shifty/projects/crispy_shifties/07_fold_paired_states_Y/decoys/0000/07_fold_paired_states_Y_bd53adc3fba34f378958fb65820ff1c5.pdb.bz2 /mnt/home/pleung/projects/crispy_shifty/projects/crispy_shifties/07_fold_paired_states_Y/decoys/0000/07_fold_paired_states_Y_7dfa893d4bee4a4a961c70f127e33c13.pdb.bz2 /mnt/home/pleung/projects/crispy_shifty/projects/crispy_shifties/07_fold_paired_states_Y/decoys/0000/07_fold_paired_states_Y_d44931e5caf743bab11932b80e2659ff.pdb.bz2 /mnt/home/pleung/projects/crispy_shifty/projects/crispy_shifties/07_fold_paired_states_Y/decoys/0000/07_fold_paired_states_Y_63921631bf6e44d19d5c978877f830f7.pdb.bz2 /mnt/home/pleung/projects/crispy_shifty/projects/crispy_shifties/07_fold_paired_states_Y/decoys/0000/07_fold_paired_states_Y_25f37915e4d74cef85291bc417db4118.pdb.bz2 /mnt/home/pleung/projects/crispy_shifty/projects/crispy_shifties/07_fold_paired_states_Y/decoys/0000/07_fold_paired_states_Y_12f06b9607dc4f19b6bd12e99f4514ec.pdb.bz2 /mnt/home/pleung/projects/crispy_shifty/projects/crispy_shifties/07_fold_paired_states_Y/decoys/0000/07_fold_paired_states_Y_28182b7490bb430eae7ccde30a0d2754.pdb.bz2 /mnt/home/pleung/projects/crispy_shifty/projects/crispy_shifties/07_fold_paired_states_Y/decoys/0000/07_fold_paired_states_Y_d9c4a62d284c44258cfa185e6cffddcb.pdb.bz2 /mnt/home/pleung/projects/crispy_shifty/projects/crispy_shifties/07_fold_paired_states_Y/decoys/0000/07_fold_paired_states_Y_5b58abbc36184d88b4039d156541ad04.pdb.bz2 /mnt/home/pleung/projects/crispy_shifty/projects/crispy_shifties/07_fold_paired_states_Y/decoys/0000/07_fold_paired_states_Y_90772bccd98e42bc821ffc28da0aa225.pdb.bz2 /mnt/home/pleung/projects/crispy_shifty/projects/crispy_shifties/07_fold_paired_states_Y/decoys/0000/07_fold_paired_states_Y_f4a09a7f494f49fea4c1535328dc615d.pdb.bz2 /mnt/home/pleung/projects/crispy_shifty/projects/crispy_shifties/07_fold_paired_states_Y/decoys/0000/07_fold_paired_states_Y_c8a9c5ba7e9b490ca72b98e86182cc22.pdb.bz2 /mnt/home/pleung/projects/crispy_shifty/projects/crispy_shifties/07_fold_paired_states_Y/decoys/0000/07_fold_paired_states_Y_a06efe01bba64d39992b001faf05be0c.pdb.bz2 /mnt/home/pleung/projects/crispy_shifty/projects/crispy_shifties/07_fold_paired_states_Y/decoys/0000/07_fold_paired_states_Y_d313e754e58a4005a3a1ab885ac2efbb.pdb.bz2 /mnt/home/pleung/projects/crispy_shifty/projects/crispy_shifties/07_fold_paired_states_Y/decoys/0000/07_fold_paired_states_Y_6061f155ab794b0b83f6f2e19db15473.pdb.bz2 /mnt/home/pleung/projects/crispy_shifty/projects/crispy_shifties/07_fold_paired_states_Y/decoys/0000/07_fold_paired_states_Y_3f2369ac5c0c471b9e686b782f761244.pdb.bz2 /mnt/home/pleung/projects/crispy_shifty/projects/crispy_shifties/07_fold_paired_states_Y/decoys/0000/07_fold_paired_states_Y_410e3919547f4adcaedcf972769a6950.pdb.bz2 /mnt/home/pleung/projects/crispy_shifty/projects/crispy_shifties/07_fold_paired_states_Y/decoys/0000/07_fold_paired_states_Y_56f46e89edfb4d83a2102e142f7c1f56.pdb.bz2 /mnt/home/pleung/projects/crispy_shifty/projects/crispy_shifties/07_fold_paired_states_Y/decoys/0000/07_fold_paired_states_Y_9f89cb16e6bf4b26b7f55722659e0596.pdb.bz2 /mnt/home/pleung/projects/crispy_shifty/projects/crispy_shifties/07_fold_paired_states_Y/decoys/0000/07_fold_paired_states_Y_26c2d2d3350d47e28ea86a272299987a.pdb.bz2 /mnt/home/pleung/projects/crispy_shifty/projects/crispy_shifties/07_fold_paired_states_Y/decoys/0000/07_fold_paired_states_Y_507d748832f242d79d589557ff8f8c3a.pdb.bz2 /mnt/home/pleung/projects/crispy_shifty/projects/crispy_shifties/07_fold_paired_states_Y/decoys/0000/07_fold_paired_states_Y_5ea6d6ffdf7b4d66b4a1d1fd5de60175.pdb.bz2 /mnt/home/pleung/projects/crispy_shifty/projects/crispy_shifties/07_fold_paired_states_Y/decoys/0000/07_fold_paired_states_Y_986cd31fdbfa47e4af3111b964db5e11.pdb.bz2 /mnt/home/pleung/projects/crispy_shifty/projects/crispy_shifties/07_fold_paired_states_Y/decoys/0000/07_fold_paired_states_Y_f78e47f8d1ea4bf59b53425b29726f96.pdb.bz2 /mnt/home/pleung/projects/crispy_shifty/projects/crispy_shifties/07_fold_paired_states_Y/decoys/0000/07_fold_paired_states_Y_5c820da32f73451d847e5e6a3abad86d.pdb.bz2 /mnt/home/pleung/projects/crispy_shifty/projects/crispy_shifties/07_fold_paired_states_Y/decoys/0000/07_fold_paired_states_Y_676b0769624245b9a34e6dfa1dee3ef5.pdb.bz2 /mnt/home/pleung/projects/crispy_shifty/projects/crispy_shifties/07_fold_paired_states_Y/decoys/0000/07_fold_paired_states_Y_c97be179d46f4ec08a34153b42b68b0c.pdb.bz2 /mnt/home/pleung/projects/crispy_shifty/projects/crispy_shifties/07_fold_paired_states_Y/decoys/0000/07_fold_paired_states_Y_981e6b2cb50f41f8aee5bda9c8a50c71.pdb.bz2 /mnt/home/pleung/projects/crispy_shifty/projects/crispy_shifties/07_fold_paired_states_Y/decoys/0000/07_fold_paired_states_Y_08c4e9c1de034b09a59add4f767fe65a.pdb.bz2 /mnt/home/pleung/projects/crispy_shifty/projects/crispy_shifties/07_fold_paired_states_Y/decoys/0000/07_fold_paired_states_Y_e1815ba370b64285ae5000b3d4b16292.pdb.bz2 /mnt/home/pleung/projects/crispy_shifty/projects/crispy_shifties/07_fold_paired_states_Y/decoys/0000/07_fold_paired_states_Y_70cf0471881146ac93054f9082a17639.pdb.bz2 /mnt/home/pleung/projects/crispy_shifty/projects/crispy_shifties/07_fold_paired_states_Y/decoys/0000/07_fold_paired_states_Y_5d84254a968e481dba4592d3e2b63dc6.pdb.bz2 /mnt/home/pleung/projects/crispy_shifty/projects/crispy_shifties/07_fold_paired_states_Y/decoys/0000/07_fold_paired_states_Y_1b757e1311cc4456a7c510042261493d.pdb.bz2 /mnt/home/pleung/projects/crispy_shifty/projects/crispy_shifties/07_fold_paired_states_Y/decoys/0000/07_fold_paired_states_Y_26f9b1b83be1413c87f681543221cac9.pdb.bz2 /mnt/home/pleung/projects/crispy_shifty/projects/crispy_shifties/07_fold_paired_states_Y/decoys/0000/07_fold_paired_states_Y_f76a614bd449489182e987ecb13a9ce0.pdb.bz2 /mnt/home/pleung/projects/crispy_shifty/projects/crispy_shifties/07_fold_paired_states_Y/decoys/0000/07_fold_paired_states_Y_7f3c8d9f96ba4ec68596a11422725cdd.pdb.bz2 /mnt/home/pleung/projects/crispy_shifty/projects/crispy_shifties/07_fold_paired_states_Y/decoys/0000/07_fold_paired_states_Y_a6429f90372e4cc8a85b415188914a55.pdb.bz2 /mnt/home/pleung/projects/crispy_shifty/projects/crispy_shifties/07_fold_paired_states_Y/decoys/0000/07_fold_paired_states_Y_403c1f10d975414e890a0b9b280eaf0a.pdb.bz2 /mnt/home/pleung/projects/crispy_shifty/projects/crispy_shifties/07_fold_paired_states_Y/decoys/0000/07_fold_paired_states_Y_a582f049287b4b598403c0fd82d217b2.pdb.bz2 /mnt/home/pleung/projects/crispy_shifty/projects/crispy_shifties/07_fold_paired_states_Y/decoys/0000/07_fold_paired_states_Y_1d427ef8b2cf43959c61847fef0c9e89.pdb.bz2 /mnt/home/pleung/projects/crispy_shifty/projects/crispy_shifties/07_fold_paired_states_Y/decoys/0000/07_fold_paired_states_Y_10a2d6c9762f4a54ba7c21aecae4b270.pdb.bz2 /mnt/home/pleung/projects/crispy_shifty/projects/crispy_shifties/07_fold_paired_states_Y/decoys/0000/07_fold_paired_states_Y_586163d0e4134e5dbe52efab1a0d67c3.pdb.bz2 /mnt/home/pleung/projects/crispy_shifty/projects/crispy_shifties/07_fold_paired_states_Y/decoys/0000/07_fold_paired_states_Y_4a79bf27aad4406a87f99b23dcbddce7.pdb.bz2 /mnt/home/pleung/projects/crispy_shifty/projects/crispy_shifties/07_fold_paired_states_Y/decoys/0000/07_fold_paired_states_Y_3861ea9bae014dc88c63763f909f0a54.pdb.bz2 /mnt/home/pleung/projects/crispy_shifty/projects/crispy_shifties/07_fold_paired_states_Y/decoys/0000/07_fold_paired_states_Y_8272675c92b84570a0386ad84498991b.pdb.bz2 /mnt/home/pleung/projects/crispy_shifty/projects/crispy_shifties/07_fold_paired_states_Y/decoys/0000/07_fold_paired_states_Y_68c8c93fc0444e4ca2e1fbf1151d944b.pdb.bz2 /mnt/home/pleung/projects/crispy_shifty/projects/crispy_shifties/07_fold_paired_states_Y/decoys/0000/07_fold_paired_states_Y_646b1f3e41244da5ae625cc8c7668de4.pdb.bz2 /mnt/home/pleung/projects/crispy_shifty/projects/crispy_shifties/07_fold_paired_states_Y/decoys/0000/07_fold_paired_states_Y_d086fd3d9e2c490faf45e8c60ff3fb93.pdb.bz2 /mnt/home/pleung/projects/crispy_shifty/projects/crispy_shifties/07_fold_paired_states_Y/decoys/0000/07_fold_paired_states_Y_e7f52917fe494a20a32d89860fd906b6.pdb.bz2 /mnt/home/pleung/projects/crispy_shifty/projects/crispy_shifties/07_fold_paired_states_Y/decoys/0000/07_fold_paired_states_Y_f9fd36225b9441fa92107490d388efb5.pdb.bz2 /mnt/home/pleung/projects/crispy_shifty/projects/crispy_shifties/07_fold_paired_states_Y/decoys/0000/07_fold_paired_states_Y_1da1cf24ec7a4e6ca139ab3dba7752c5.pdb.bz2 /mnt/home/pleung/projects/crispy_shifty/projects/crispy_shifties/07_fold_paired_states_Y/decoys/0000/07_fold_paired_states_Y_d34ed61477704b7eb443640b82c1cc3c.pdb.bz2',\n",
    "        }\n",
    ")\n",
    "for i, tppose in enumerate(t):\n",
    "    tppose.pose.dump_pdb(f\"{i}.pdb\")"
   ]
  },
  {
   "cell_type": "code",
   "execution_count": null,
   "id": "c480a6f4",
   "metadata": {},
   "outputs": [],
   "source": [
    "tppose.pose.scores"
   ]
  }
 ],
 "metadata": {
  "kernelspec": {
   "display_name": "crispy (3.8.12)",
   "language": "python",
   "name": "crispy"
  },
  "language_info": {
   "codemirror_mode": {
    "name": "ipython",
    "version": 3
   },
   "file_extension": ".py",
   "mimetype": "text/x-python",
   "name": "python",
   "nbconvert_exporter": "python",
   "pygments_lexer": "ipython3",
   "version": "3.8.12"
  }
 },
 "nbformat": 4,
 "nbformat_minor": 5
}
