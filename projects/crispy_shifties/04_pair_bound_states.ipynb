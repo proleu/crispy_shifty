{
 "cells": [
  {
   "cell_type": "markdown",
   "metadata": {},
   "source": [
    "# Find unbound states to pair with the bound states"
   ]
  },
  {
   "cell_type": "markdown",
   "metadata": {},
   "source": [
    "### Imports"
   ]
  },
  {
   "cell_type": "code",
   "execution_count": 1,
   "metadata": {},
   "outputs": [
    {
     "name": "stdout",
     "output_type": "stream",
     "text": [
      "running in directory: /mnt/home/pleung/projects/crispy_shifty/projects/crispy_shifties\n",
      "running on node: dig159\n"
     ]
    }
   ],
   "source": [
    "%load_ext lab_black\n",
    "# Python standard library\n",
    "from glob import glob\n",
    "import os\n",
    "import socket\n",
    "import sys\n",
    "\n",
    "# 3rd party library imports\n",
    "import dask\n",
    "import matplotlib.pyplot as plt\n",
    "import pandas as pd\n",
    "import pyrosetta\n",
    "import numpy as np\n",
    "import scipy\n",
    "import seaborn as sns\n",
    "from tqdm.auto import tqdm  # jupyter compatible progress bar\n",
    "\n",
    "tqdm.pandas()  # link tqdm to pandas\n",
    "# Notebook magic\n",
    "# save plots in the notebook\n",
    "%matplotlib inline\n",
    "# reloads modules automatically before executing cells\n",
    "%load_ext autoreload\n",
    "%autoreload 2\n",
    "print(f\"running in directory: {os.getcwd()}\")  # where are we?\n",
    "print(f\"running on node: {socket.gethostname()}\")  # what node are we on?"
   ]
  },
  {
   "cell_type": "markdown",
   "metadata": {},
   "source": [
    "### Set working directory to the root of the crispy_shifty repo\n",
    "TODO set to projects dir"
   ]
  },
  {
   "cell_type": "code",
   "execution_count": 2,
   "metadata": {},
   "outputs": [],
   "source": [
    "os.chdir(\"/home/pleung/projects/crispy_shifty\")\n",
    "# os.chdir(\"/projects/crispy_shifty\")"
   ]
  },
  {
   "cell_type": "markdown",
   "metadata": {},
   "source": [
    "### Fix the paths\n",
    "Necessary because we copied these designs from perlmutter"
   ]
  },
  {
   "cell_type": "code",
   "execution_count": 3,
   "metadata": {},
   "outputs": [
    {
     "name": "stdout",
     "output_type": "stream",
     "text": [
      "Warning: Use of `pyrosetta.distributed.cluster` namespace requires Anaconda (or Miniconda) to be properly installed for reproducibility of PyRosetta simulations. Please install Anaconda (or Miniconda) onto your system to enable running `which conda`. For installation instructions, visit:\n",
      "https://docs.anaconda.com/anaconda/install\n",
      "\n"
     ]
    },
    {
     "name": "stderr",
     "output_type": "stream",
     "text": [
      "/projects/crispy_shifty/envs/crispy/lib/python3.8/site-packages/dask_jobqueue/core.py:20: FutureWarning: tmpfile is deprecated and will be removed in a future release. Please use dask.utils.tmpfile instead.\n",
      "  from distributed.utils import tmpfile\n"
     ]
    }
   ],
   "source": [
    "from crispy_shifty.utils.io import fix_path_prefixes\n",
    "\n",
    "folded = os.path.join(\n",
    "    os.getcwd(), \"projects/crispy_shifties/03_fold_bound_states/folded_states.list\"\n",
    ")\n",
    "new_folded = fix_path_prefixes(\n",
    "    find=\"/pscratch/sd/p/pleung\",\n",
    "    replace=\"/mnt/home/pleung/projects/crispy_shifty/projects/crispy_shifties\",\n",
    "    file=folded,\n",
    "    overwrite=True,\n",
    ")"
   ]
  },
  {
   "cell_type": "markdown",
   "metadata": {},
   "source": [
    "### Pair the designed bound states\n",
    "TODO"
   ]
  },
  {
   "cell_type": "code",
   "execution_count": 4,
   "metadata": {},
   "outputs": [
    {
     "name": "stdout",
     "output_type": "stream",
     "text": [
      "Run the following command with your desired environment active:\n",
      "sbatch -a 1-$(cat /mnt/home/pleung/projects/crispy_shifty/projects/crispy_shifties/04_pair_bound_states/tasks.cmds | wc -l) /mnt/home/pleung/projects/crispy_shifty/projects/crispy_shifties/04_pair_bound_states/run.sh\n"
     ]
    }
   ],
   "source": [
    "from crispy_shifty.utils.io import gen_array_tasks\n",
    "\n",
    "simulation_name = \"04_pair_bound_states\"\n",
    "design_list_file = os.path.join(\n",
    "    os.getcwd(),\n",
    "    \"projects/crispy_shifties/03_fold_bound_states/folded_states.list\",\n",
    ")\n",
    "output_path = os.path.join(os.getcwd(), f\"projects/crispy_shifties/{simulation_name}\")\n",
    "\n",
    "options = \" \".join(\n",
    "    [\n",
    "        \"out:level 200\",\n",
    "        \"corrections::beta_nov16 true\",\n",
    "        \"indexed_structure_store:fragment_store /net/databases/VALL_clustered/connect_chains/ss_grouped_vall_helix_shortLoop.h5\",\n",
    "    ]\n",
    ")\n",
    "\n",
    "extra_kwargs = {\n",
    "    \"reference_csv\": \"/mnt/home/pleung/projects/crispy_shifty/scaffolds/02_make_free_states/free_state_0s.csv\",\n",
    "}\n",
    "\n",
    "gen_array_tasks(\n",
    "    distribute_func=\"crispy_shifty.protocols.states.pair_bound_state\",\n",
    "    design_list_file=design_list_file,\n",
    "    output_path=output_path,\n",
    "    queue=\"short\",\n",
    "    memory=\"4G\",\n",
    "    nstruct=1,\n",
    "    nstruct_per_task=1,\n",
    "    options=options,\n",
    "    extra_kwargs=extra_kwargs,\n",
    "    simulation_name=simulation_name,\n",
    ")"
   ]
  },
  {
   "cell_type": "code",
   "execution_count": 4,
   "metadata": {},
   "outputs": [],
   "source": [
    "# !sbatch -a 1-$(cat /mnt/home/pleung/projects/crispy_shifty/projects/crispy_shifties/02_mpnn_bound_states/tasks.cmds | wc -l) /mnt/home/pleung/projects/crispy_shifty/projects/crispy_shifties/02_mpnn_bound_states/run.sh"
   ]
  },
  {
   "cell_type": "markdown",
   "metadata": {},
   "source": [
    "### Collect scorefiles of designed bound states and concatenate\n",
    "TODO change to projects dir"
   ]
  },
  {
   "cell_type": "code",
   "execution_count": 5,
   "metadata": {
    "scrolled": true,
    "tags": []
   },
   "outputs": [],
   "source": [
    "sys.path.insert(0, \"~/projects/crispy_shifty\")  # TODO\n",
    "from crispy_shifty.utils.io import collect_score_file\n",
    "\n",
    "simulation_name = \"04_pair_bound_states\"\n",
    "output_path = os.path.join(os.getcwd(), f\"projects/crispy_shifties/{simulation_name}\")\n",
    "\n",
    "if not os.path.exists(os.path.join(output_path, \"scores.json\")):\n",
    "    collect_score_file(output_path, \"scores\")"
   ]
  },
  {
   "cell_type": "markdown",
   "metadata": {},
   "source": [
    "### Load resulting concatenated scorefile\n",
    "TODO change to projects dir"
   ]
  },
  {
   "cell_type": "code",
   "execution_count": 6,
   "metadata": {
    "scrolled": true,
    "tags": []
   },
   "outputs": [
    {
     "data": {
      "application/vnd.jupyter.widget-view+json": {
       "model_id": "040636d9009e4d20b630dec95252fa9a",
       "version_major": 2,
       "version_minor": 0
      },
      "text/plain": [
       "  0%|          | 0/1130 [00:00<?, ?it/s]"
      ]
     },
     "metadata": {},
     "output_type": "display_data"
    }
   ],
   "source": [
    "sys.path.insert(0, \"~/projects/crispy_shifty\")  # TODO\n",
    "from crispy_shifty.utils.io import parse_scorefile_linear\n",
    "\n",
    "output_path = os.path.join(os.getcwd(), f\"projects/crispy_shifties/{simulation_name}\")\n",
    "\n",
    "scores_df = parse_scorefile_linear(os.path.join(output_path, \"scores.json\"))\n",
    "scores_df = scores_df.convert_dtypes()"
   ]
  },
  {
   "cell_type": "markdown",
   "metadata": {},
   "source": [
    "### Setup for plotting"
   ]
  },
  {
   "cell_type": "code",
   "execution_count": 7,
   "metadata": {},
   "outputs": [],
   "source": [
    "sns.set(\n",
    "    context=\"talk\",\n",
    "    font_scale=1,  # make the font larger; default is pretty small\n",
    "    style=\"ticks\",  # make the background white with black lines\n",
    "    palette=\"colorblind\",  # a color palette that is colorblind friendly!\n",
    ")"
   ]
  },
  {
   "cell_type": "markdown",
   "metadata": {},
   "source": [
    "### Data exploration\n",
    "Gonna remove the Rosetta sfxn scoreterms for now"
   ]
  },
  {
   "cell_type": "code",
   "execution_count": 8,
   "metadata": {},
   "outputs": [
    {
     "name": "stdout",
     "output_type": "stream",
     "text": [
      "1130\n"
     ]
    }
   ],
   "source": [
    "from crispy_shifty.protocols.design import beta_nov16_terms\n",
    "\n",
    "scores_df = scores_df[\n",
    "    [term for term in scores_df.columns if term not in beta_nov16_terms]\n",
    "]\n",
    "print(len(scores_df))"
   ]
  },
  {
   "cell_type": "code",
   "execution_count": 12,
   "metadata": {},
   "outputs": [
    {
     "name": "stdout",
     "output_type": "stream",
     "text": [
      "['bb_clash', 'bb_clash_delta_x', 'best_average_DAN_plddts', 'best_average_plddts', 'best_model', 'best_ptm', 'best_rmsd_to_input', 'buns_parent', 'cms_AcB', 'cms_AnAc', 'cms_AnAcB', 'cms_AnB', 'designed_by', 'docked_helix', 'dssp', 'elapsed_time', 'exposed_hydrophobics_parent', 'geometry_parent', 'holes_all_parent', 'holes_core_parent', 'loop_dist', 'loop_sc', 'looped_length', 'mean_pae', 'mean_pae_interaction', 'mean_pae_interaction_AB', 'mean_pae_interaction_BA', 'mean_pae_intra_chain', 'mean_pae_intra_chain_A', 'mean_pae_intra_chain_B', 'mean_plddt', 'mismatch_probability_parent', 'model', 'new_loop_str', 'pTMscore', 'packstat_parent', 'parent', 'parent_length', 'path_in', 'pdb', 'pivot_helix', 'pre_break_helix', 'recycles', 'rmsd_to_reference', 'sap_parent', 'sc_AcB', 'sc_AnAc', 'sc_AnAcB', 'sc_AnB', 'sc_all_parent', 'scaffold_type', 'score', 'score_per_res', 'score_per_res_parent', 'score_per_res_x', 'seed', 'shift', 'ss_sc', 'state', 'time', 'tol', 'topo', 'total_length', 'total_score', 'trimmed_length', 'type', 'wnm_all_x']\n"
     ]
    }
   ],
   "source": [
    "print(list(scores_df.columns))"
   ]
  },
  {
   "cell_type": "code",
   "execution_count": 14,
   "metadata": {},
   "outputs": [
    {
     "name": "stdout",
     "output_type": "stream",
     "text": [
      "['bb_clash_delta_x', 'score_per_res_x', 'wnm_all_x']\n"
     ]
    }
   ],
   "source": [
    "from crispy_shifty.plotting.utils import histplot_df, pairplot_df\n",
    "\n",
    "to_plot = [\n",
    "    \"bb_clash_delta_x\",\n",
    "    \"score_per_res_x\",\n",
    "    \"wnm_all_x\",\n",
    "]\n",
    "print(to_plot)"
   ]
  },
  {
   "cell_type": "markdown",
   "metadata": {},
   "source": [
    "### Filter extreme outliers and changes some dtypes"
   ]
  },
  {
   "cell_type": "code",
   "execution_count": 20,
   "metadata": {},
   "outputs": [],
   "source": [
    "scores_df[\"score_per_res_x\"] = scores_df[\"score_per_res_x\"].astype(float)\n",
    "\n",
    "query = \"bb_clash_delta_x < 500 and score_per_res_x < 0 and wnm_all_x < 5\"\n",
    "sample_df = scores_df.query(query)"
   ]
  },
  {
   "cell_type": "markdown",
   "metadata": {},
   "source": [
    "### Plot loop scores"
   ]
  },
  {
   "cell_type": "code",
   "execution_count": 21,
   "metadata": {},
   "outputs": [
    {
     "name": "stderr",
     "output_type": "stream",
     "text": [
      "3it [00:00, 13.70it/s]\n"
     ]
    },
    {
     "data": {
      "image/png": "[encoded data removed]",
      "text/plain": [
       "<Figure size 864x288 with 3 Axes>"
      ]
     },
     "metadata": {},
     "output_type": "display_data"
    }
   ],
   "source": [
    "cols = [\n",
    "    \"bb_clash_delta_x\",\n",
    "    \"score_per_res_x\",\n",
    "    \"wnm_all_x\",\n",
    "]\n",
    "the_fig = histplot_df(\n",
    "    df=sample_df,\n",
    "    cols=cols,\n",
    "    bins=10,\n",
    "    hue=\"scaffold_type\",\n",
    ")\n",
    "plt.savefig(os.path.join(output_path, \"loop_scores.png\"))"
   ]
  },
  {
   "cell_type": "markdown",
   "metadata": {},
   "source": [
    "### Filter out obviously bad decoys"
   ]
  },
  {
   "cell_type": "code",
   "execution_count": 22,
   "metadata": {},
   "outputs": [
    {
     "data": {
      "text/plain": [
       "661"
      ]
     },
     "execution_count": 22,
     "metadata": {},
     "output_type": "execute_result"
    }
   ],
   "source": [
    "query = \"bb_clash_delta_x < 200 and score_per_res_x < -2 and wnm_all_x < 1\"\n",
    "filtered = sample_df.query(query)\n",
    "len(filtered)"
   ]
  },
  {
   "cell_type": "markdown",
   "metadata": {},
   "source": [
    "### Save a list of outputs"
   ]
  },
  {
   "cell_type": "code",
   "execution_count": 23,
   "metadata": {},
   "outputs": [
    {
     "data": {
      "application/vnd.jupyter.widget-view+json": {
       "model_id": "39f946d4decf4e3a8d5ca926b6e86c85",
       "version_major": 2,
       "version_minor": 0
      },
      "text/plain": [
       "  0%|          | 0/661 [00:00<?, ?it/s]"
      ]
     },
     "metadata": {},
     "output_type": "display_data"
    }
   ],
   "source": [
    "simulation_name = \"04_pair_bound_states\"\n",
    "output_path = os.path.join(os.getcwd(), f\"projects/crispy_shifties/{simulation_name}\")\n",
    "\n",
    "with open(os.path.join(output_path, \"paired_states.list\"), \"w\") as f:\n",
    "    for path in tqdm(filtered.index):\n",
    "        print(path, file=f)"
   ]
  },
  {
   "cell_type": "markdown",
   "metadata": {},
   "source": [
    "### Prototyping blocks"
   ]
  },
  {
   "cell_type": "markdown",
   "metadata": {},
   "source": [
    "test `pair_bound_state`"
   ]
  },
  {
   "cell_type": "code",
   "execution_count": 4,
   "metadata": {
    "scrolled": true,
    "tags": []
   },
   "outputs": [
    {
     "name": "stdout",
     "output_type": "stream",
     "text": [
      "PyRosetta-4 2021 [Rosetta PyRosetta4.conda.linux.cxx11thread.serialization.CentOS.python38.Release 2021.50+release.4ff291ed8257ec2d0cd4d96ae4289e1d39ce1007 2021-12-16T00:25:15] retrieved from: http://www.pyrosetta.org\n",
      "(C) Copyright Rosetta Commons Member Institutions. Created in JHU by Sergey Lyskov and PyRosetta Team.\n",
      "core.init: Checking for fconfig files in pwd and ./rosetta/flags\n",
      "core.init: Rosetta version: PyRosetta4.conda.linux.cxx11thread.serialization.CentOS.python38.Release r306 2021.50+release.4ff291e 4ff291ed8257ec2d0cd4d96ae4289e1d39ce1007 http://www.pyrosetta.org 2021-12-16T00:25:15\n",
      "core.init: command: PyRosetta -corrections::beta_nov16 -indexed_structure_store:fragment_store /net/databases/VALL_clustered/connect_chains/ss_grouped_vall_helix_shortLoop.h5 -database /projects/crispy_shifty/envs/crispy/lib/python3.8/site-packages/pyrosetta/database\n",
      "basic.random.init_random_generator: 'RNG device' seed mode, using '/dev/urandom', seed=-1549180544 seed_offset=0 real_seed=-1549180544 thread_index=0\n",
      "basic.random.init_random_generator: RandomGenerator:init: Normal mode, seed=-1549180544 RG_type=mt19937\n",
      "core.chemical.GlobalResidueTypeSet: Finished initializing fa_standard residue type set.  Created 983 residue types\n",
      "core.chemical.GlobalResidueTypeSet: Total time to initialize 3.02299 seconds.\n",
      "core.conformation.Conformation: [ WARNING ] missing heavyatom:  OXT on residue LYS:CtermProteinFull 171\n",
      "core.conformation.Conformation: [ WARNING ] missing heavyatom:  OXT on residue GLY:CtermProteinFull 204\n",
      "core.conformation.Conformation: [ WARNING ] missing heavyatom:  OXT on residue ARG:CtermProteinFull 83\n",
      "core.scoring.etable: Starting energy table calculation\n",
      "core.scoring.etable: smooth_etable: changing atr/rep split to bottom of energy well\n",
      "core.scoring.etable: smooth_etable: spline smoothing lj etables (maxdis = 6)\n",
      "core.scoring.etable: smooth_etable: spline smoothing solvation etables (max_dis = 6)\n",
      "core.scoring.etable: Finished calculating energy tables.\n",
      "core.pack.task: Packer task: initialize from command line()\n",
      "core.pack.dunbrack.RotamerLibrary: shapovalov_lib_fixes_enable option is true.\n",
      "core.pack.dunbrack.RotamerLibrary: Binary rotamer library selected: /projects/crispy_shifty/envs/crispy/lib/python3.8/site-packages/pyrosetta/database/rotamer/beta_nov2016/Dunbrack10.lib.bin\n",
      "core.pack.dunbrack.RotamerLibrary: Using Dunbrack library binary file '/projects/crispy_shifty/envs/crispy/lib/python3.8/site-packages/pyrosetta/database/rotamer/beta_nov2016/Dunbrack10.lib.bin'.\n",
      "core.pack.dunbrack.RotamerLibrary: Dunbrack 2010 library took 0.956147 seconds to load from binary\n",
      "core.pack.pack_rotamers: built 167 rotamers at 167 positions.\n",
      "core.pack.pack_rotamers: Requesting all available threads for interaction graph computation.\n",
      "core.pack.interaction_graph.interaction_graph_factory: Instantiating PDInteractionGraph\n",
      "basic.thread_manager.RosettaThreadManager: Creating a thread pool of 1 threads.\n",
      "basic.thread_manager.RosettaThreadPool: Launched 0 new threads.\n",
      "core.pack.rotamer_set.RotamerSets: Completed interaction graph pre-calculation in 1 available threads (1 had been requested).\n",
      "0.15 min: Attempting blueprint rebuild of state X\n",
      "core.scoring.ramachandran: shapovalov_lib::shap_rama_smooth_level of 4( aka highest_smooth ) got activated.\n",
      "basic.io.database: Database file opened: scoring/score_functions/rama/shapovalov/kappa25/all.ramaProb\n",
      "basic.io.database: Database file opened: scoring/score_functions/rama/flat/avg_L_rama.dat\n",
      "core.scoring.ramachandran: Reading custom Ramachandran table from scoring/score_functions/rama/flat/avg_L_rama.dat.\n",
      "basic.io.database: Database file opened: scoring/score_functions/rama/flat/sym_all_rama.dat\n",
      "core.scoring.ramachandran: Reading custom Ramachandran table from scoring/score_functions/rama/flat/sym_all_rama.dat.\n",
      "basic.io.database: Database file opened: scoring/score_functions/rama/flat/sym_G_rama.dat\n",
      "core.scoring.ramachandran: Reading custom Ramachandran table from scoring/score_functions/rama/flat/sym_G_rama.dat.\n",
      "basic.io.database: Database file opened: scoring/score_functions/rama/flat/sym_P_rama.dat\n",
      "core.scoring.ramachandran: Reading custom Ramachandran table from scoring/score_functions/rama/flat/sym_P_rama.dat.\n",
      "basic.io.database: Database file opened: scoring/score_functions/rama/flat/avg_L_rama_str.dat\n",
      "core.scoring.ramachandran: Reading custom Ramachandran table from scoring/score_functions/rama/flat/avg_L_rama_str.dat.\n",
      "basic.io.database: Database file opened: scoring/score_functions/rama/flat/sym_all_rama_str.dat\n",
      "core.scoring.ramachandran: Reading custom Ramachandran table from scoring/score_functions/rama/flat/sym_all_rama_str.dat.\n",
      "basic.io.database: Database file opened: scoring/score_functions/rama/flat/sym_G_rama_str.dat\n",
      "core.scoring.ramachandran: Reading custom Ramachandran table from scoring/score_functions/rama/flat/sym_G_rama_str.dat.\n",
      "basic.io.database: Database file opened: scoring/score_functions/rama/flat/sym_P_rama_str.dat\n",
      "core.scoring.ramachandran: Reading custom Ramachandran table from scoring/score_functions/rama/flat/sym_P_rama_str.dat.\n",
      "basic.io.database: Database file opened: scoring/score_functions/SecondaryStructurePotential/phi.theta.36.HS.resmooth\n",
      "basic.io.database: Database file opened: scoring/score_functions/SecondaryStructurePotential/phi.theta.36.SS.resmooth\n",
      "basic.io.database: Database file opened: scoring/score_functions/hbonds/ref2015_params/HBPoly1D.csv\n",
      "basic.io.database: Database file opened: scoring/score_functions/hbonds/ref2015_params/HBFadeIntervals.csv\n",
      "basic.io.database: Database file opened: scoring/score_functions/hbonds/ref2015_params/HBEval.csv\n",
      "basic.io.database: Database file opened: scoring/score_functions/hbonds/ref2015_params/DonStrength.csv\n",
      "basic.io.database: Database file opened: scoring/score_functions/hbonds/ref2015_params/AccStrength.csv\n",
      "protocols.rosetta_scripts.RosettaScriptsParser: Validating input script...\n",
      "protocols.rosetta_scripts.RosettaScriptsSchemaValidator: Generating XML Schema for rosetta_scripts...\n",
      "protocols.rosetta_scripts.RosettaScriptsSchemaValidator: ...done\n",
      "protocols.rosetta_scripts.RosettaScriptsSchemaValidator: Initializing schema validator...\n",
      "protocols.rosetta_scripts.RosettaScriptsSchemaValidator: ...done\n",
      "protocols.rosetta_scripts.RosettaScriptsParser: ...done\n",
      "protocols.rosetta_scripts.RosettaScriptsParser: Parsed script:\n",
      "<ROSETTASCRIPTS>\n",
      "\t<MOVERS>\n",
      "\t\t<BluePrintBDR blueprint=\"/scratch/pleung/11543161/8812dd7eeadb42e1901817f8aaa5c965.bp\" name=\"blueprintbdr\" rmdl_attempts=\"20\" use_abego_bias=\"0\" use_sequence_bias=\"0\"/>\n",
      "\t</MOVERS>\n",
      "\t<PROTOCOLS/>\n",
      "</ROSETTASCRIPTS>\n",
      "core.scoring.ScoreFunctionFactory: SCOREFUNCTION: beta_nov16.wts\n",
      "basic.io.database: Database file opened: scoring/score_functions/rama/fd_beta_nov2016/all.ramaProb\n",
      "basic.io.database: Database file opened: scoring/score_functions/rama/fd_beta_nov2016/prepro.ramaProb\n",
      "basic.io.database: Database file opened: scoring/score_functions/omega/omega_ppdep.all.txt\n",
      "basic.io.database: Database file opened: scoring/score_functions/omega/omega_ppdep.gly.txt\n",
      "basic.io.database: Database file opened: scoring/score_functions/omega/omega_ppdep.pro.txt\n",
      "basic.io.database: Database file opened: scoring/score_functions/omega/omega_ppdep.valile.txt\n",
      "basic.io.database: Database file opened: scoring/score_functions/P_AA_pp/P_AA\n",
      "basic.io.database: Database file opened: scoring/score_functions/P_AA_pp/P_AA_n\n",
      "core.scoring.P_AA: shapovalov_lib::shap_p_aa_pp_smooth_level of 1( aka low_smooth ) got activated.\n",
      "basic.io.database: Database file opened: scoring/score_functions/P_AA_pp/shapovalov/10deg/kappa131/a20.prop\n",
      "basic.io.database: Database file opened: scoring/score_functions/bondlength_bondangle/hydroxyl_torsion_preference.txt\n",
      "core.scoring.etable: Starting energy table calculation\n",
      "core.scoring.etable: smooth_etable: changing atr/rep split to bottom of energy well\n",
      "core.scoring.etable: smooth_etable: spline smoothing lj etables (maxdis = 6)\n",
      "core.scoring.etable: smooth_etable: spline smoothing solvation etables (max_dis = 6)\n",
      "core.scoring.etable: Finished calculating energy tables.\n",
      "basic.io.database: Database file opened: scoring/score_functions/PairEPotential/pdb_pair_stats_fine\n",
      "basic.io.database: Database file opened: scoring/score_functions/InterchainPotential/interchain_env_log.txt\n",
      "basic.io.database: Database file opened: scoring/score_functions/InterchainPotential/interchain_pair_log.txt\n",
      "basic.io.database: Database file opened: scoring/score_functions/EnvPairPotential/env_log.txt\n",
      "basic.io.database: Database file opened: scoring/score_functions/EnvPairPotential/cbeta_den.txt\n",
      "basic.io.database: Database file opened: scoring/score_functions/EnvPairPotential/pair_log.txt\n",
      "basic.io.database: Database file opened: scoring/score_functions/EnvPairPotential/cenpack_log.txt\n",
      "protocols.jd2.parser.BluePrint: LHHHHHHHHHHHHHHHHHHHHHHLLHHHHHHHHHHHHHHHLLLHHHHHHHHHHHHHHHHHHHHHHHLLHHHHHHHHHHHHHHHLLLLHHHHHHHHHHHHHHHHHHHHHHHLLHHHHHHHHHHHHHHHLLLHHHHHHHHHHHHHHHHHHHHHHHLLHHHHHHHHHHHHHHHL\n",
      "protocols.jd2.parser.BluePrint: SDEEKWRELEERAEELSEEARERGNEELAELAKEARKLARSPDSDDSKWAELIIRAVELASRAEEQGNEELAELAREAAELARVVVVSDDSKWAELIIRAVELASRAEEQGNEELAELAREAAELARSPDEEDSKRAEEIIRAVEKALRAEEEGNKEEAEKAREEAQKSRK\n",
      "protocols.rosetta_scripts.RosettaScriptsParser: Defined mover named \"blueprintbdr\" of type BluePrintBDR\n",
      "protocols.rosetta_scripts.ParsedProtocol: ParsedProtocol mover with the following settings\n",
      "protocols.fldsgn.BluePrintBDR: SegmentRebuild left: 83, right: 84, ss: HLLLLH, aa:RVVVVS\n",
      "core.kinematics.AtomTree: [ WARNING ] DOF for this torsion angle could not be found in AtomTree.\n",
      "core.conformation.Conformation: [ WARNING ] Unable to set torsion angle in atom_tree: TorsionID 84 BB 3\n",
      "protocols.forge.build.BuildManager: FOLD_TREE  EDGE 1 84 -1  JEDGE 1 89 1  CA  C  END  EDGE 89 171 -1  EDGE 89 85 -1\n",
      "protocols.fldsgn.BluePrintBDR: ResiduePairConstraints: total: 0   plotting active...\n",
      "protocols.fldsgn.BluePrintBDR: IntraResidueConstraints: total: 0 showing active...\n",
      "protocols.fldsgn.BluePrintBDR: NonResiduePairConstraints: total: 0 showing active...\n",
      "core.kinematics.AtomTree: [ WARNING ] DOF for this torsion angle could not be found in AtomTree.\n",
      "core.conformation.Conformation: [ WARNING ] Unable to set torsion angle in atom_tree: TorsionID 86 BB 3\n",
      "protocols.forge.build.BuildManager: FOLD_TREE  EDGE 1 86 -1  JEDGE 1 89 1  CA  C  END  EDGE 89 171 -1  EDGE 89 87 -1\n",
      "core.chemical.GlobalResidueTypeSet: Finished initializing centroid residue type set.  Created 69 residue types\n",
      "core.chemical.GlobalResidueTypeSet: Total time to initialize 0.060735 seconds.\n",
      "protocols.forge.components.VarLengthBuild: VLB count_cutpoints 1 interval.left 83 interval.right 88\n",
      "protocols.forge.components.VarLengthBuild: picking 200 9-mers for position 83\n",
      "protocols.forge.components.VarLengthBuild: complete_ss length: 171 complete_abego size: 0\n",
      "core.fragment.picking_old.vall.vall_io: Reading Vall library from /projects/crispy_shifty/envs/crispy/lib/python3.8/site-packages/pyrosetta/database//sampling/filtered.vall.dat.2006-05-05 ...\n",
      "core.fragment.picking_old.vall.vall_io:    100000\n",
      "core.fragment.picking_old.vall.vall_io:    200000\n",
      "core.fragment.picking_old.vall.vall_io:    300000\n",
      "core.fragment.picking_old.vall.vall_io:    400000\n",
      "core.fragment.picking_old.vall.vall_io:    500000\n",
      "core.fragment.picking_old.vall.vall_io:    600000\n",
      "core.fragment.picking_old.vall.vall_io:    700000\n",
      "core.fragment.picking_old.vall.vall_io:    800000\n",
      "core.fragment.picking_old.vall.vall_io:    900000\n",
      "core.fragment.picking_old.vall.vall_io:    1000000\n",
      "core.fragment.picking_old.vall.vall_io:    1100000\n",
      "core.fragment.picking_old.vall.vall_io:    1200000\n",
      "core.fragment.picking_old.vall.vall_io:    1300000\n",
      "core.fragment.picking_old.vall.vall_io:    1400000\n",
      "core.fragment.picking_old.vall.vall_io: ... done.  Read 1400124 lines.  Time elapsed: 12 seconds.\n",
      "core.fragment.picking_old.vall.vall_io: Prior library contained 0 sections totaling 0 residues.\n",
      "core.fragment.picking_old.vall.vall_io: Added 62471 sections to library totaling 1400124 residues.\n",
      "core.fragment.picking_old.vall.eval.IdentityEval: ss = HLLLLHHHH  |  aa = .........\n",
      "core.fragment.picking_old.vall.VallLibrarian: best fragment:   score = 4.77833e-07\n",
      "core.fragment.picking_old.vall.VallLibrarian: worst fragment:  score = 8.89037e-05\n",
      "protocols.forge.components.VarLengthBuild: picking 200 9-mers for position 84\n",
      "protocols.forge.components.VarLengthBuild: complete_ss length: 171 complete_abego size: 0\n",
      "core.fragment.picking_old.vall.eval.IdentityEval: ss = LLLLHHHHH  |  aa = .........\n",
      "core.fragment.picking_old.vall.VallLibrarian: best fragment:   score = 1.31112e-07\n",
      "core.fragment.picking_old.vall.VallLibrarian: worst fragment:  score = 1.29768e-05\n",
      "protocols.forge.components.VarLengthBuild: picking 200 9-mers for position 85\n",
      "protocols.forge.components.VarLengthBuild: complete_ss length: 171 complete_abego size: 0\n",
      "core.fragment.picking_old.vall.eval.IdentityEval: ss = LLLHHHHHH  |  aa = .........\n",
      "core.fragment.picking_old.vall.VallLibrarian: best fragment:   score = 2.52353e-08\n",
      "core.fragment.picking_old.vall.VallLibrarian: worst fragment:  score = 1.12162e-05\n",
      "protocols.forge.components.VarLengthBuild: picking 200 9-mers for position 86\n",
      "protocols.forge.components.VarLengthBuild: complete_ss length: 171 complete_abego size: 0\n",
      "core.fragment.picking_old.vall.eval.IdentityEval: ss = LLHHHHHHH  |  aa = .........\n",
      "core.fragment.picking_old.vall.VallLibrarian: best fragment:   score = 2.81836e-08\n",
      "core.fragment.picking_old.vall.VallLibrarian: worst fragment:  score = 8.26249e-06\n",
      "protocols.forge.components.VarLengthBuild: picking 200 9-mers for position 87\n",
      "protocols.forge.components.VarLengthBuild: complete_ss length: 171 complete_abego size: 0\n",
      "core.fragment.picking_old.vall.eval.IdentityEval: ss = LHHHHHHHH  |  aa = .........\n",
      "core.fragment.picking_old.vall.VallLibrarian: best fragment:   score = 2.04294e-08\n",
      "core.fragment.picking_old.vall.VallLibrarian: worst fragment:  score = 8.42531e-06\n",
      "protocols.forge.components.VarLengthBuild: picking 200 9-mers for position 88\n",
      "protocols.forge.components.VarLengthBuild: complete_ss length: 171 complete_abego size: 0\n",
      "core.fragment.picking_old.vall.eval.IdentityEval: ss = HHHHHHHHH  |  aa = .........\n",
      "core.fragment.picking_old.vall.VallLibrarian: best fragment:   score = 1.80573e-08\n",
      "core.fragment.picking_old.vall.VallLibrarian: worst fragment:  score = 1.20831e-06\n",
      "protocols.forge.components.VarLengthBuild: picking 200 3-mers for position 83\n",
      "protocols.forge.components.VarLengthBuild: complete_ss length: 171 complete_abego size: 0\n",
      "core.fragment.picking_old.vall.eval.IdentityEval: ss = HLL  |  aa = ...\n",
      "core.fragment.picking_old.vall.VallLibrarian: best fragment:   score = 1.65771e-08\n",
      "core.fragment.picking_old.vall.VallLibrarian: worst fragment:  score = 4.87339e-06\n",
      "protocols.forge.components.VarLengthBuild: picking 200 3-mers for position 84\n",
      "protocols.forge.components.VarLengthBuild: complete_ss length: 171 complete_abego size: 0\n",
      "core.fragment.picking_old.vall.eval.IdentityEval: ss = LLL  |  aa = ...\n",
      "core.fragment.picking_old.vall.VallLibrarian: best fragment:   score = 1.90751e-10\n",
      "core.fragment.picking_old.vall.VallLibrarian: worst fragment:  score = 6.86325e-07\n",
      "protocols.forge.components.VarLengthBuild: picking 200 3-mers for position 85\n",
      "protocols.forge.components.VarLengthBuild: complete_ss length: 171 complete_abego size: 0\n",
      "core.fragment.picking_old.vall.eval.IdentityEval: ss = LLL  |  aa = ...\n",
      "core.fragment.picking_old.vall.VallLibrarian: best fragment:   score = 7.19346e-09\n",
      "core.fragment.picking_old.vall.VallLibrarian: worst fragment:  score = 6.55047e-07\n",
      "protocols.forge.components.VarLengthBuild: picking 200 3-mers for position 86\n",
      "protocols.forge.components.VarLengthBuild: complete_ss length: 171 complete_abego size: 0\n",
      "core.fragment.picking_old.vall.eval.IdentityEval: ss = LLH  |  aa = ...\n",
      "core.fragment.picking_old.vall.VallLibrarian: best fragment:   score = 7.5267e-10\n",
      "core.fragment.picking_old.vall.VallLibrarian: worst fragment:  score = 5.2524e-06\n",
      "protocols.forge.components.VarLengthBuild: picking 200 3-mers for position 87\n",
      "protocols.forge.components.VarLengthBuild: complete_ss length: 171 complete_abego size: 0\n",
      "core.fragment.picking_old.vall.eval.IdentityEval: ss = LHH  |  aa = ...\n",
      "core.fragment.picking_old.vall.VallLibrarian: best fragment:   score = 8.29228e-09\n",
      "core.fragment.picking_old.vall.VallLibrarian: worst fragment:  score = 3.95002e-06\n",
      "protocols.forge.components.VarLengthBuild: picking 200 3-mers for position 88\n",
      "protocols.forge.components.VarLengthBuild: complete_ss length: 171 complete_abego size: 0\n",
      "core.fragment.picking_old.vall.eval.IdentityEval: ss = HHH  |  aa = ...\n",
      "core.fragment.picking_old.vall.VallLibrarian: best fragment:   score = 8.16836e-10\n",
      "core.fragment.picking_old.vall.VallLibrarian: worst fragment:  score = 4.36569e-07\n",
      "protocols.forge.components.VarLengthBuild: total 9-mer fragments: 1200\n",
      "protocols.forge.components.VarLengthBuild: total 3-mer fragments: 1200\n",
      "protocols.forge.components.VarLengthBuild: total 1-mer fragments: 1200\n",
      "protocols.forge.remodel.RemodelMover: ** randomize_stage\n",
      "core.kinematics.AtomTree: [ WARNING ] DOF for this torsion angle could not be found in AtomTree.\n",
      "core.conformation.Conformation: [ WARNING ] Unable to set torsion angle in atom_tree: TorsionID 86 BB 2\n",
      "core.kinematics.AtomTree: [ WARNING ] DOF for this torsion angle could not be found in AtomTree.\n",
      "core.conformation.Conformation: [ WARNING ] Unable to set torsion angle in atom_tree: TorsionID 86 BB 3\n",
      "core.kinematics.AtomTree: [ WARNING ] DOF for this torsion angle could not be found in AtomTree.\n",
      "core.conformation.Conformation: [ WARNING ] Unable to set torsion angle in atom_tree: TorsionID 87 BB 1\n",
      "core.kinematics.AtomTree: [ WARNING ] DOF for this torsion angle could not be found in AtomTree.\n",
      "core.conformation.Conformation: [ WARNING ] Unable to set torsion angle in atom_tree: TorsionID 86 BB 2\n",
      "core.kinematics.AtomTree: [ WARNING ] DOF for this torsion angle could not be found in AtomTree.\n",
      "core.conformation.Conformation: [ WARNING ] Unable to set torsion angle in atom_tree: TorsionID 86 BB 3\n",
      "core.kinematics.AtomTree: [ WARNING ] DOF for this torsion angle could not be found in AtomTree.\n",
      "core.conformation.Conformation: [ WARNING ] Unable to set torsion angle in atom_tree: TorsionID 87 BB 1\n",
      "core.kinematics.AtomTree: [ WARNING ] DOF for this torsion angle could not be found in AtomTree.\n",
      "core.conformation.Conformation: [ WARNING ] Unable to set torsion angle in atom_tree: TorsionID 87 BB 1\n",
      "core.kinematics.AtomTree: [ WARNING ] DOF for this torsion angle could not be found in AtomTree.\n",
      "core.conformation.Conformation: [ WARNING ] Unable to set torsion angle in atom_tree: TorsionID 86 BB 2\n",
      "core.kinematics.AtomTree: [ WARNING ] DOF for this torsion angle could not be found in AtomTree.\n",
      "core.conformation.Conformation: [ WARNING ] Unable to set torsion angle in atom_tree: TorsionID 86 BB 3\n",
      "core.kinematics.AtomTree: [ WARNING ] DOF for this torsion angle could not be found in AtomTree.\n",
      "core.conformation.Conformation: [ WARNING ] Unable to set torsion angle in atom_tree: TorsionID 87 BB 1\n",
      "core.kinematics.AtomTree: [ WARNING ] DOF for this torsion angle could not be found in AtomTree.\n",
      "core.conformation.Conformation: [ WARNING ] Unable to set torsion angle in atom_tree: TorsionID 86 BB 2\n",
      "core.kinematics.AtomTree: [ WARNING ] DOF for this torsion angle could not be found in AtomTree.\n",
      "core.conformation.Conformation: [ WARNING ] Unable to set torsion angle in atom_tree: TorsionID 86 BB 3\n",
      "core.kinematics.AtomTree: [ WARNING ] DOF for this torsion angle could not be found in AtomTree.\n",
      "core.conformation.Conformation: [ WARNING ] Unable to set torsion angle in atom_tree: TorsionID 87 BB 1\n",
      "core.kinematics.AtomTree: [ WARNING ] DOF for this torsion angle could not be found in AtomTree.\n",
      "core.conformation.Conformation: [ WARNING ] Unable to set torsion angle in atom_tree: TorsionID 87 BB 1\n",
      "core.kinematics.AtomTree: [ WARNING ] DOF for this torsion angle could not be found in AtomTree.\n",
      "core.conformation.Conformation: [ WARNING ] Unable to set torsion angle in atom_tree: TorsionID 86 BB 2\n",
      "core.kinematics.AtomTree: [ WARNING ] DOF for this torsion angle could not be found in AtomTree.\n",
      "core.conformation.Conformation: [ WARNING ] Unable to set torsion angle in atom_tree: TorsionID 86 BB 3\n",
      "core.kinematics.AtomTree: [ WARNING ] DOF for this torsion angle could not be found in AtomTree.\n",
      "core.conformation.Conformation: [ WARNING ] Unable to set torsion angle in atom_tree: TorsionID 87 BB 1\n",
      "core.kinematics.AtomTree: [ WARNING ] DOF for this torsion angle could not be found in AtomTree.\n",
      "core.conformation.Conformation: [ WARNING ] Unable to set torsion angle in atom_tree: TorsionID 86 BB 2\n",
      "core.kinematics.AtomTree: [ WARNING ] DOF for this torsion angle could not be found in AtomTree.\n",
      "core.conformation.Conformation: [ WARNING ] Unable to set torsion angle in atom_tree: TorsionID 86 BB 3\n",
      "core.kinematics.AtomTree: [ WARNING ] DOF for this torsion angle could not be found in AtomTree.\n",
      "core.conformation.Conformation: [ WARNING ] Unable to set torsion angle in atom_tree: TorsionID 87 BB 1\n",
      "core.kinematics.AtomTree: [ WARNING ] DOF for this torsion angle could not be found in AtomTree.\n",
      "core.conformation.Conformation: [ WARNING ] Unable to set torsion angle in atom_tree: TorsionID 87 BB 1\n",
      "core.kinematics.AtomTree: [ WARNING ] DOF for this torsion angle could not be found in AtomTree.\n",
      "core.conformation.Conformation: [ WARNING ] Unable to set torsion angle in atom_tree: TorsionID 86 BB 2\n",
      "core.kinematics.AtomTree: [ WARNING ] DOF for this torsion angle could not be found in AtomTree.\n",
      "core.conformation.Conformation: [ WARNING ] Unable to set torsion angle in atom_tree: TorsionID 86 BB 3\n",
      "core.kinematics.AtomTree: [ WARNING ] DOF for this torsion angle could not be found in AtomTree.\n",
      "core.conformation.Conformation: [ WARNING ] Unable to set torsion angle in atom_tree: TorsionID 87 BB 1\n",
      "core.kinematics.AtomTree: [ WARNING ] DOF for this torsion angle could not be found in AtomTree.\n",
      "core.conformation.Conformation: [ WARNING ] Unable to set torsion angle in atom_tree: TorsionID 87 BB 1\n",
      "core.kinematics.AtomTree: [ WARNING ] DOF for this torsion angle could not be found in AtomTree.\n",
      "core.conformation.Conformation: [ WARNING ] Unable to set torsion angle in atom_tree: TorsionID 86 BB 2\n",
      "core.kinematics.AtomTree: [ WARNING ] DOF for this torsion angle could not be found in AtomTree.\n",
      "core.conformation.Conformation: [ WARNING ] Unable to set torsion angle in atom_tree: TorsionID 86 BB 3\n",
      "protocols.forge.remodel.RemodelMover:      start stop cut cbreak\n",
      "protocols.forge.remodel.RemodelMover:      83 88 86 4.68507\n",
      "protocols.forge.remodel.RemodelMover: * closure_attempt 1\n",
      "protocols.forge.remodel.RemodelMover: ** simultaneous_stage\n",
      "protocols.forge.remodel.RemodelMover:    n_loops = 1\n",
      "protocols.loops.loops_main: Added cutpoint variant to residue 86\n",
      "protocols.loops.loops_main: Added cutpoint variant to residue 87\n",
      "protocols.forge.remodel.RemodelMover: \n",
      "\n",
      "------------------------------------------------------------\n",
      " Scores                       Weight   Raw Score Wghtd.Score\n",
      "------------------------------------------------------------\n",
      " vdw                          1.000       1.143       1.143\n",
      " hbond_sr_bb                  1.000    -171.175    -171.175\n",
      " hbond_lr_bb                  1.000      -2.492      -2.492\n",
      " atom_pair_constraint         1.000       0.000       0.000\n",
      " angle_constraint             1.000       0.000       0.000\n",
      " dihedral_constraint          1.000       0.000       0.000\n",
      " rama                         0.100    -125.468     -12.547\n",
      " rg                           1.000      16.524      16.524\n",
      " hs_pair                      1.000       0.000       0.000\n",
      " ss_pair                      1.000       0.000       0.000\n",
      " rsigma                       1.000       0.000       0.000\n",
      " linear_chainbreak            0.556       1.789       0.994\n",
      "---------------------------------------------------\n",
      " Total weighted score:                     -167.554\n",
      "protocols.forge.remodel.RemodelMover:\n",
      "protocols.moves.MonteCarlo: MC: 2  -163.926  -167.554  -163.926  -167.554  0  0  0  accepted thermally\n",
      "protocols.moves.TrialCounter:         ccd_move trials=     12;  accepts= 0.6667;  energy_drop/trial=  -1.56703\n",
      "protocols.moves.TrialCounter:       simul_frag trials=    324;  accepts= 0.4969;  energy_drop/trial=  -0.07917\n",
      "protocols.forge.remodel.RemodelMover:      start stop cut cbreak\n",
      "protocols.forge.remodel.RemodelMover:      83 88 86 1.78898\n",
      "protocols.forge.remodel.RemodelMover: ** independent_stage\n",
      "protocols.forge.remodel.RemodelMover:    n_loops = 1\n",
      "protocols.loops.loops_main: Added cutpoint variant to residue 86\n",
      "protocols.loops.loops_main: Added cutpoint variant to residue 87\n",
      "protocols.forge.remodel.RemodelMover: \n",
      "\n",
      "------------------------------------------------------------\n",
      " Scores                       Weight   Raw Score Wghtd.Score\n",
      "------------------------------------------------------------\n",
      " vdw                          1.000       0.882       0.882\n",
      " hbond_sr_bb                  1.000    -170.507    -170.507\n",
      " hbond_lr_bb                  1.000      -2.492      -2.492\n",
      " atom_pair_constraint         1.000       0.000       0.000\n",
      " angle_constraint             1.000       0.000       0.000\n",
      " dihedral_constraint          1.000       0.000       0.000\n",
      " rama                         0.100    -123.700     -12.370\n",
      " rg                           1.000      16.528      16.528\n",
      " hs_pair                      1.000       0.000       0.000\n",
      " ss_pair                      1.000       0.000       0.000\n",
      " rsigma                       1.000       0.000       0.000\n",
      " linear_chainbreak            2.778       0.010       0.027\n",
      "---------------------------------------------------\n",
      " Total weighted score:                     -167.931\n",
      "protocols.forge.remodel.RemodelMover:\n",
      "protocols.moves.MonteCarlo: MC: 2  -163.388  -167.931  -163.388  -167.931  0  0  0  accepted thermally\n",
      "protocols.moves.TrialCounter:         ccd_move trials=    188;  accepts= 0.8511;  energy_drop/trial=  -0.48987\n",
      "protocols.moves.TrialCounter:             frag trials=    876;  accepts= 0.3037;  energy_drop/trial=   0.10571\n",
      "protocols.forge.remodel.RemodelMover:      start stop cut cbreak\n",
      "protocols.forge.remodel.RemodelMover:      83 88 86 0.00911835\n",
      "protocols.forge.remodel.RemodelMover: ** boost_closure_stage\n",
      "protocols.forge.remodel.RemodelMover:    n_loops = 0\n",
      "protocols.forge.remodel.RemodelMover:    no loops to work on with boost_closure. returning.\n",
      "protocols.forge.remodel.RemodelMover: * 1 / 1   closed / attempts\n",
      "protocols.forge.components.VarLengthBuild: centroid_build: loop: 83-88, final chainbreak = 0.00911835, max_linear_chainbreak_: 0.07\n",
      "protocols.forge.components.VarLengthBuild: centroid_build: final chainbreak at 86 = 0.00911835 max tolerance 0.07\n",
      "core.scoring.ScoreFunctionFactory: SCOREFUNCTION: beta_nov16.wts\n",
      "core.pack.task: Packer task: initialize from command line()\n",
      "basic.io.database: Database file opened: scoring/score_functions/elec_cp_reps.dat\n",
      "core.scoring.elec.util: Read 40 countpair representative atoms\n",
      "core.pack.pack_rotamers: built 0 rotamers at 0 positions.\n",
      "core.pack.pack_rotamers: Requesting all available threads for interaction graph computation.\n",
      "core.pack.interaction_graph.interaction_graph_factory: Instantiating DensePDInteractionGraph\n",
      "basic.thread_manager.RosettaThreadManager: [ WARNING ] A work vector of size zero was passed to the RosettaThreadManager!  Duly returning without doing anything.\n",
      "core.pack.rotamer_set.RotamerSets: Completed interaction graph pre-calculation in 1 available threads (all available had been requested).\n",
      "core.scoring.ScoreFunctionFactory: SCOREFUNCTION: beta_nov16.wts\n",
      "core.pack.task: Packer task: initialize from command line()\n",
      "core.pack.pack_rotamers: built 0 rotamers at 0 positions.\n",
      "core.pack.pack_rotamers: Requesting all available threads for interaction graph computation.\n",
      "core.pack.interaction_graph.interaction_graph_factory: Instantiating DensePDInteractionGraph\n",
      "basic.thread_manager.RosettaThreadManager: [ WARNING ] A work vector of size zero was passed to the RosettaThreadManager!  Duly returning without doing anything.\n",
      "core.pack.rotamer_set.RotamerSets: Completed interaction graph pre-calculation in 1 available threads (all available had been requested).\n",
      "core.scoring.ScoreFunctionFactory: SCOREFUNCTION: beta_nov16.wts\n",
      "core.pack.task: Packer task: initialize from command line()\n",
      "core.pack.pack_rotamers: built 0 rotamers at 0 positions.\n",
      "core.pack.pack_rotamers: Requesting all available threads for interaction graph computation.\n",
      "core.pack.interaction_graph.interaction_graph_factory: Instantiating DensePDInteractionGraph\n",
      "basic.thread_manager.RosettaThreadManager: [ WARNING ] A work vector of size zero was passed to the RosettaThreadManager!  Duly returning without doing anything.\n",
      "core.pack.rotamer_set.RotamerSets: Completed interaction graph pre-calculation in 1 available threads (all available had been requested).\n",
      "0.81 min: Successful blueprint rebuild of state X\n",
      "0.81 min: Setting up for design\n",
      "core.select.residue_selector.LayerSelector: Setting LayerSelector to use sidechain neighbors to determine burial.\n",
      "core.select.residue_selector.LayerSelector: Set cutoffs for core and surface to 5.2 and 2, respectively, in LayerSelector.\n",
      "core.select.residue_selector.LayerSelector: Setting core=true boundary=false surface=false in LayerSelector.\n",
      "core.select.residue_selector.LayerSelector: Setting LayerSelector to use sidechain neighbors to determine burial.\n",
      "core.select.residue_selector.LayerSelector: Setting LayerSelector to use sidechain neighbors to determine burial.\n",
      "core.select.residue_selector.LayerSelector: Set cutoffs for core and surface to 5.2 and 2, respectively, in LayerSelector.\n",
      "core.select.residue_selector.LayerSelector: Setting core=false boundary=true surface=false in LayerSelector.\n",
      "core.select.residue_selector.LayerSelector: Setting LayerSelector to use sidechain neighbors to determine burial.\n",
      "core.select.residue_selector.LayerSelector: Setting LayerSelector to use sidechain neighbors to determine burial.\n",
      "core.select.residue_selector.LayerSelector: Set cutoffs for core and surface to 5.2 and 2, respectively, in LayerSelector.\n",
      "core.select.residue_selector.LayerSelector: Setting core=false boundary=false surface=true in LayerSelector.\n",
      "core.select.residue_selector.LayerSelector: Setting LayerSelector to use sidechain neighbors to determine burial.\n",
      "basic.io.database: Database file opened: scoring/score_functions/P_AA_SS_cen6/P_AA_SS_cen6.txt\n",
      "core.indexed_structure_store.FragmentStoreManager: database loaded!\n",
      "core.select.residue_selector.NeighborhoodResidueSelector: [ WARNING ] ################ Cloning pose and building neighbor graph ################\n",
      "core.select.residue_selector.NeighborhoodResidueSelector: [ WARNING ] Ensure that pose is either scored or has update_residue_neighbors() called\n",
      "core.select.residue_selector.NeighborhoodResidueSelector: [ WARNING ] before using NeighborhoodResidueSelector for maximum performance!\n",
      "core.select.residue_selector.NeighborhoodResidueSelector: [ WARNING ] ##########################################################################\n",
      "core.pack.task: Packer task: initialize from command line()\n",
      "core.select.residue_selector.SecondaryStructureSelector: Using dssp for secondary structure: LHHHHHHHHHHHHHHHHHHHHHHLLHHHHHHHHHHHHHHHLLLHHHHHHHHHHHHHHHHHHHHHHHLLHHHHHHHHHHHHHHHLLLLHHHHHHHHHHHHHHHHHHHHHHHLLHHHHHHHHHHHHHHHLLLHHHHHHHHHHHHHHHHHHHHHHHLLHHHHHHHHHHHHHHHL\n",
      "core.select.residue_selector.SecondaryStructureSelector: Using dssp for secondary structure: LHHHHHHHHHHHHHHHHHHHHHHLLHHHHHHHHHHHHHHHLLLHHHHHHHHHHHHHHHHHHHHHHHLLHHHHHHHHHHHHHHHLLLLHHHHHHHHHHHHHHHHHHHHHHHLLHHHHHHHHHHHHHHHLLLHHHHHHHHHHHHHHHHHHHHHHHLLHHHHHHHHHHHHHHHL\n",
      "core.select.residue_selector.PrimarySequenceNeighborhoodSelector: ]\n",
      "core.select.residue_selector.SecondaryStructureSelector: Using dssp for secondary structure: LHHHHHHHHHHHHHHHHHHHHHHLLHHHHHHHHHHHHHHHLLLHHHHHHHHHHHHHHHHHHHHHHHLLHHHHHHHHHHHHHHHLLLLHHHHHHHHHHHHHHHHHHHHHHHLLHHHHHHHHHHHHHHHLLLHHHHHHHHHHHHHHHHHHHHHHHLLHHHHHHHHHHHHHHHL\n",
      "core.select.residue_selector.SecondaryStructureSelector: Using dssp for secondary structure: LHHHHHHHHHHHHHHHHHHHHHHLLHHHHHHHHHHHHHHHLLLHHHHHHHHHHHHHHHHHHHHHHHLLHHHHHHHHHHHHHHHLLLLHHHHHHHHHHHHHHHHHHHHHHHLLHHHHHHHHHHHHHHHLLLHHHHHHHHHHHHHHHHHHHHHHHLLHHHHHHHHHHHHHHHL\n",
      "core.select.residue_selector.SecondaryStructureSelector: Using dssp for secondary structure: LHHHHHHHHHHHHHHHHHHHHHHLLHHHHHHHHHHHHHHHLLLHHHHHHHHHHHHHHHHHHHHHHHLLHHHHHHHHHHHHHHHLLLLHHHHHHHHHHHHHHHHHHHHHHHLLHHHHHHHHHHHHHHHLLLHHHHHHHHHHHHHHHHHHHHHHHLLHHHHHHHHHHHHHHHL\n",
      "core.select.residue_selector.PrimarySequenceNeighborhoodSelector: ]\n",
      "core.select.residue_selector.PrimarySequenceNeighborhoodSelector: ]\n",
      "core.select.residue_selector.SecondaryStructureSelector: Using dssp for secondary structure: LHHHHHHHHHHHHHHHHHHHHHHLLHHHHHHHHHHHHHHHLLLHHHHHHHHHHHHHHHHHHHHHHHLLHHHHHHHHHHHHHHHLLLLHHHHHHHHHHHHHHHHHHHHHHHLLHHHHHHHHHHHHHHHLLLHHHHHHHHHHHHHHHHHHHHHHHLLHHHHHHHHHHHHHHHL\n",
      "core.select.residue_selector.SecondaryStructureSelector: Using dssp for secondary structure: LHHHHHHHHHHHHHHHHHHHHHHLLHHHHHHHHHHHHHHHLLLHHHHHHHHHHHHHHHHHHHHHHHLLHHHHHHHHHHHHHHHLLLLHHHHHHHHHHHHHHHHHHHHHHHLLHHHHHHHHHHHHHHHLLLHHHHHHHHHHHHHHHHHHHHHHHLLHHHHHHHHHHHHHHHL\n",
      "core.select.residue_selector.SecondaryStructureSelector: Using dssp for secondary structure: LHHHHHHHHHHHHHHHHHHHHHHLLHHHHHHHHHHHHHHHLLLHHHHHHHHHHHHHHHHHHHHHHHLLHHHHHHHHHHHHHHHLLLLHHHHHHHHHHHHHHHHHHHHHHHLLHHHHHHHHHHHHHHHLLLHHHHHHHHHHHHHHHHHHHHHHHLLHHHHHHHHHHHHHHHL\n",
      "core.select.residue_selector.SecondaryStructureSelector: Using dssp for secondary structure: LHHHHHHHHHHHHHHHHHHHHHHLLHHHHHHHHHHHHHHHLLLHHHHHHHHHHHHHHHHHHHHHHHLLHHHHHHHHHHHHHHHLLLLHHHHHHHHHHHHHHHHHHHHHHHLLHHHHHHHHHHHHHHHLLLHHHHHHHHHHHHHHHHHHHHHHHLLHHHHHHHHHHHHHHHL\n",
      "core.select.residue_selector.PrimarySequenceNeighborhoodSelector: ]\n",
      "core.select.residue_selector.PrimarySequenceNeighborhoodSelector: ]\n",
      "core.select.residue_selector.SecondaryStructureSelector: Using dssp for secondary structure: LHHHHHHHHHHHHHHHHHHHHHHLLHHHHHHHHHHHHHHHLLLHHHHHHHHHHHHHHHHHHHHHHHLLHHHHHHHHHHHHHHHLLLLHHHHHHHHHHHHHHHHHHHHHHHLLHHHHHHHHHHHHHHHLLLHHHHHHHHHHHHHHHHHHHHHHHLLHHHHHHHHHHHHHHHL\n",
      "core.select.residue_selector.SecondaryStructureSelector: Using dssp for secondary structure: LHHHHHHHHHHHHHHHHHHHHHHLLHHHHHHHHHHHHHHHLLLHHHHHHHHHHHHHHHHHHHHHHHLLHHHHHHHHHHHHHHHLLLLHHHHHHHHHHHHHHHHHHHHHHHLLHHHHHHHHHHHHHHHLLLHHHHHHHHHHHHHHHHHHHHHHHLLHHHHHHHHHHHHHHHL\n",
      "core.select.residue_selector.SecondaryStructureSelector: Using dssp for secondary structure: LHHHHHHHHHHHHHHHHHHHHHHLLHHHHHHHHHHHHHHHLLLHHHHHHHHHHHHHHHHHHHHHHHLLHHHHHHHHHHHHHHHLLLLHHHHHHHHHHHHHHHHHHHHHHHLLHHHHHHHHHHHHHHHLLLHHHHHHHHHHHHHHHHHHHHHHHLLHHHHHHHHHHHHHHHL\n",
      "core.select.residue_selector.SecondaryStructureSelector: Using dssp for secondary structure: LHHHHHHHHHHHHHHHHHHHHHHLLHHHHHHHHHHHHHHHLLLHHHHHHHHHHHHHHHHHHHHHHHLLHHHHHHHHHHHHHHHLLLLHHHHHHHHHHHHHHHHHHHHHHHLLHHHHHHHHHHHHHHHLLLHHHHHHHHHHHHHHHHHHHHHHHLLHHHHHHHHHHHHHHHL\n",
      "core.select.residue_selector.PrimarySequenceNeighborhoodSelector: ]\n",
      "core.select.residue_selector.SecondaryStructureSelector: Using dssp for secondary structure: LHHHHHHHHHHHHHHHHHHHHHHLLHHHHHHHHHHHHHHHLLLHHHHHHHHHHHHHHHHHHHHHHHLLHHHHHHHHHHHHHHHLLLLHHHHHHHHHHHHHHHHHHHHHHHLLHHHHHHHHHHHHHHHLLLHHHHHHHHHHHHHHHHHHHHHHHLLHHHHHHHHHHHHHHHL\n",
      "core.select.residue_selector.SecondaryStructureSelector: Using dssp for secondary structure: LHHHHHHHHHHHHHHHHHHHHHHLLHHHHHHHHHHHHHHHLLLHHHHHHHHHHHHHHHHHHHHHHHLLHHHHHHHHHHHHHHHLLLLHHHHHHHHHHHHHHHHHHHHHHHLLHHHHHHHHHHHHHHHLLLHHHHHHHHHHHHHHHHHHHHHHHLLHHHHHHHHHHHHHHHL\n",
      "core.select.residue_selector.SecondaryStructureSelector: Using dssp for secondary structure: LHHHHHHHHHHHHHHHHHHHHHHLLHHHHHHHHHHHHHHHLLLHHHHHHHHHHHHHHHHHHHHHHHLLHHHHHHHHHHHHHHHLLLLHHHHHHHHHHHHHHHHHHHHHHHLLHHHHHHHHHHHHHHHLLLHHHHHHHHHHHHHHHHHHHHHHHLLHHHHHHHHHHHHHHHL\n",
      "core.select.residue_selector.PrimarySequenceNeighborhoodSelector: ]\n",
      "core.select.residue_selector.PrimarySequenceNeighborhoodSelector: ]\n",
      "core.select.residue_selector.SecondaryStructureSelector: Using dssp for secondary structure: LHHHHHHHHHHHHHHHHHHHHHHLLHHHHHHHHHHHHHHHLLLHHHHHHHHHHHHHHHHHHHHHHHLLHHHHHHHHHHHHHHHLLLLHHHHHHHHHHHHHHHHHHHHHHHLLHHHHHHHHHHHHHHHLLLHHHHHHHHHHHHHHHHHHHHHHHLLHHHHHHHHHHHHHHHL\n",
      "core.select.residue_selector.SecondaryStructureSelector: Using dssp for secondary structure: LHHHHHHHHHHHHHHHHHHHHHHLLHHHHHHHHHHHHHHHLLLHHHHHHHHHHHHHHHHHHHHHHHLLHHHHHHHHHHHHHHHLLLLHHHHHHHHHHHHHHHHHHHHHHHLLHHHHHHHHHHHHHHHLLLHHHHHHHHHHHHHHHHHHHHHHHLLHHHHHHHHHHHHHHHL\n",
      "core.select.residue_selector.SecondaryStructureSelector: Using dssp for secondary structure: LHHHHHHHHHHHHHHHHHHHHHHLLHHHHHHHHHHHHHHHLLLHHHHHHHHHHHHHHHHHHHHHHHLLHHHHHHHHHHHHHHHLLLLHHHHHHHHHHHHHHHHHHHHHHHLLHHHHHHHHHHHHHHHLLLHHHHHHHHHHHHHHHHHHHHHHHLLHHHHHHHHHHHHHHHL\n",
      "core.select.residue_selector.SecondaryStructureSelector: Using dssp for secondary structure: LHHHHHHHHHHHHHHHHHHHHHHLLHHHHHHHHHHHHHHHLLLHHHHHHHHHHHHHHHHHHHHHHHLLHHHHHHHHHHHHHHHLLLLHHHHHHHHHHHHHHHHHHHHHHHLLHHHHHHHHHHHHHHHLLLHHHHHHHHHHHHHHHHHHHHHHHLLHHHHHHHHHHHHHHHL\n",
      "core.select.residue_selector.PrimarySequenceNeighborhoodSelector: ]\n",
      "core.select.residue_selector.PrimarySequenceNeighborhoodSelector: ]\n",
      "core.select.residue_selector.SecondaryStructureSelector: Using dssp for secondary structure: LHHHHHHHHHHHHHHHHHHHHHHLLHHHHHHHHHHHHHHHLLLHHHHHHHHHHHHHHHHHHHHHHHLLHHHHHHHHHHHHHHHLLLLHHHHHHHHHHHHHHHHHHHHHHHLLHHHHHHHHHHHHHHHLLLHHHHHHHHHHHHHHHHHHHHHHHLLHHHHHHHHHHHHHHHL\n",
      "core.select.residue_selector.SecondaryStructureSelector: Using dssp for secondary structure: LHHHHHHHHHHHHHHHHHHHHHHLLHHHHHHHHHHHHHHHLLLHHHHHHHHHHHHHHHHHHHHHHHLLHHHHHHHHHHHHHHHLLLLHHHHHHHHHHHHHHHHHHHHHHHLLHHHHHHHHHHHHHHHLLLHHHHHHHHHHHHHHHHHHHHHHHLLHHHHHHHHHHHHHHHL\n",
      "core.select.residue_selector.SecondaryStructureSelector: Using dssp for secondary structure: LHHHHHHHHHHHHHHHHHHHHHHLLHHHHHHHHHHHHHHHLLLHHHHHHHHHHHHHHHHHHHHHHHLLHHHHHHHHHHHHHHHLLLLHHHHHHHHHHHHHHHHHHHHHHHLLHHHHHHHHHHHHHHHLLLHHHHHHHHHHHHHHHHHHHHHHHLLHHHHHHHHHHHHHHHL\n",
      "core.select.residue_selector.SecondaryStructureSelector: Using dssp for secondary structure: LHHHHHHHHHHHHHHHHHHHHHHLLHHHHHHHHHHHHHHHLLLHHHHHHHHHHHHHHHHHHHHHHHLLHHHHHHHHHHHHHHHLLLLHHHHHHHHHHHHHHHHHHHHHHHLLHHHHHHHHHHHHHHHLLLHHHHHHHHHHHHHHHHHHHHHHHLLHHHHHHHHHHHHHHHL\n",
      "core.select.residue_selector.PrimarySequenceNeighborhoodSelector: ]\n",
      "core.select.residue_selector.SecondaryStructureSelector: Using dssp for secondary structure: LHHHHHHHHHHHHHHHHHHHHHHLLHHHHHHHHHHHHHHHLLLHHHHHHHHHHHHHHHHHHHHHHHLLHHHHHHHHHHHHHHHLLLLHHHHHHHHHHHHHHHHHHHHHHHLLHHHHHHHHHHHHHHHLLLHHHHHHHHHHHHHHHHHHHHHHHLLHHHHHHHHHHHHHHHL\n",
      "core.select.residue_selector.SecondaryStructureSelector: Using dssp for secondary structure: LHHHHHHHHHHHHHHHHHHHHHHLLHHHHHHHHHHHHHHHLLLHHHHHHHHHHHHHHHHHHHHHHHLLHHHHHHHHHHHHHHHLLLLHHHHHHHHHHHHHHHHHHHHHHHLLHHHHHHHHHHHHHHHLLLHHHHHHHHHHHHHHHHHHHHHHHLLHHHHHHHHHHHHHHHL\n",
      "core.select.residue_selector.SecondaryStructureSelector: Using dssp for secondary structure: LHHHHHHHHHHHHHHHHHHHHHHLLHHHHHHHHHHHHHHHLLLHHHHHHHHHHHHHHHHHHHHHHHLLHHHHHHHHHHHHHHHLLLLHHHHHHHHHHHHHHHHHHHHHHHLLHHHHHHHHHHHHHHHLLLHHHHHHHHHHHHHHHHHHHHHHHLLHHHHHHHHHHHHHHHL\n",
      "core.select.residue_selector.PrimarySequenceNeighborhoodSelector: ]\n",
      "core.select.residue_selector.PrimarySequenceNeighborhoodSelector: ]\n",
      "core.select.residue_selector.SecondaryStructureSelector: Using dssp for secondary structure: LHHHHHHHHHHHHHHHHHHHHHHLLHHHHHHHHHHHHHHHLLLHHHHHHHHHHHHHHHHHHHHHHHLLHHHHHHHHHHHHHHHLLLLHHHHHHHHHHHHHHHHHHHHHHHLLHHHHHHHHHHHHHHHLLLHHHHHHHHHHHHHHHHHHHHHHHLLHHHHHHHHHHHHHHHL\n",
      "core.select.residue_selector.SecondaryStructureSelector: Using dssp for secondary structure: LHHHHHHHHHHHHHHHHHHHHHHLLHHHHHHHHHHHHHHHLLLHHHHHHHHHHHHHHHHHHHHHHHLLHHHHHHHHHHHHHHHLLLLHHHHHHHHHHHHHHHHHHHHHHHLLHHHHHHHHHHHHHHHLLLHHHHHHHHHHHHHHHHHHHHHHHLLHHHHHHHHHHHHHHHL\n",
      "core.select.residue_selector.SecondaryStructureSelector: Using dssp for secondary structure: LHHHHHHHHHHHHHHHHHHHHHHLLHHHHHHHHHHHHHHHLLLHHHHHHHHHHHHHHHHHHHHHHHLLHHHHHHHHHHHHHHHLLLLHHHHHHHHHHHHHHHHHHHHHHHLLHHHHHHHHHHHHHHHLLLHHHHHHHHHHHHHHHHHHHHHHHLLHHHHHHHHHHHHHHHL\n",
      "core.select.residue_selector.SecondaryStructureSelector: Using dssp for secondary structure: LHHHHHHHHHHHHHHHHHHHHHHLLHHHHHHHHHHHHHHHLLLHHHHHHHHHHHHHHHHHHHHHHHLLHHHHHHHHHHHHHHHLLLLHHHHHHHHHHHHHHHHHHHHHHHLLHHHHHHHHHHHHHHHLLLHHHHHHHHHHHHHHHHHHHHHHHLLHHHHHHHHHHHHHHHL\n",
      "core.select.residue_selector.PrimarySequenceNeighborhoodSelector: ]\n",
      "core.select.residue_selector.PrimarySequenceNeighborhoodSelector: ]\n",
      "core.select.residue_selector.SecondaryStructureSelector: Using dssp for secondary structure: LHHHHHHHHHHHHHHHHHHHHHHLLHHHHHHHHHHHHHHHLLLHHHHHHHHHHHHHHHHHHHHHHHLLHHHHHHHHHHHHHHHLLLLHHHHHHHHHHHHHHHHHHHHHHHLLHHHHHHHHHHHHHHHLLLHHHHHHHHHHHHHHHHHHHHHHHLLHHHHHHHHHHHHHHHL\n",
      "core.select.residue_selector.SecondaryStructureSelector: Using dssp for secondary structure: LHHHHHHHHHHHHHHHHHHHHHHLLHHHHHHHHHHHHHHHLLLHHHHHHHHHHHHHHHHHHHHHHHLLHHHHHHHHHHHHHHHLLLLHHHHHHHHHHHHHHHHHHHHHHHLLHHHHHHHHHHHHHHHLLLHHHHHHHHHHHHHHHHHHHHHHHLLHHHHHHHHHHHHHHHL\n",
      "core.select.residue_selector.SecondaryStructureSelector: Using dssp for secondary structure: LHHHHHHHHHHHHHHHHHHHHHHLLHHHHHHHHHHHHHHHLLLHHHHHHHHHHHHHHHHHHHHHHHLLHHHHHHHHHHHHHHHLLLLHHHHHHHHHHHHHHHHHHHHHHHLLHHHHHHHHHHHHHHHLLLHHHHHHHHHHHHHHHHHHHHHHHLLHHHHHHHHHHHHHHHL\n",
      "core.select.residue_selector.SecondaryStructureSelector: Using dssp for secondary structure: LHHHHHHHHHHHHHHHHHHHHHHLLHHHHHHHHHHHHHHHLLLHHHHHHHHHHHHHHHHHHHHHHHLLHHHHHHHHHHHHHHHLLLLHHHHHHHHHHHHHHHHHHHHHHHLLHHHHHHHHHHHHHHHLLLHHHHHHHHHHHHHHHHHHHHHHHLLHHHHHHHHHHHHHHHL\n",
      "core.select.residue_selector.PrimarySequenceNeighborhoodSelector: ]\n",
      "protocols.task_operations.PruneBuriedUnsatsOperation: Building hbond graph\n",
      "protocols.task_operations.PruneBuriedUnsatsOperation: Hbond graph has: 22200 edges requiring: 6917336 bytes\n",
      "core.chemical.AtomICoor: [ WARNING ] IcoorAtomID::atom_id(): Cannot get atom_id for POLYMER_LOWER of residue LEU 1.  Returning BOGUS ID instead.\n",
      "core.conformation.Residue: [ WARNING ] missing an atom: 1  H   that depends on a nonexistent polymer connection!\n",
      "core.conformation.Residue: [ WARNING ]  --> generating it using idealized coordinates.\n",
      "core.scoring.atomic_depth.AtomicDepth: actual boxlength 113, box[108* 99*113], resolution  0.504\n",
      "protocols.task_operations.PruneBuriedUnsatsOperation: Pruned 854 / 9625 rotamers.\n",
      "core.pack.pack_rotamers: built 8771 rotamers at 41 positions.\n",
      "core.pack.pack_rotamers: Requesting all available threads for interaction graph computation.\n",
      "core.pack.interaction_graph.interaction_graph_factory: Instantiating PDInteractionGraph\n",
      "core.pack.rotamer_set.RotamerSets: Completed interaction graph pre-calculation in 1 available threads (1 had been requested).\n",
      "4.58 min: Filtering state X\n",
      "core.pack.task: Packer task: initialize from command line()\n",
      "core.pack.pack_rotamers: built 171 rotamers at 171 positions.\n",
      "core.pack.pack_rotamers: Requesting all available threads for interaction graph computation.\n",
      "core.pack.interaction_graph.interaction_graph_factory: Instantiating PDInteractionGraph\n",
      "core.pack.rotamer_set.RotamerSets: Completed interaction graph pre-calculation in 1 available threads (1 had been requested).\n",
      "protocols.rosetta_scripts.RosettaScriptsParser: Validating input script...\n",
      "protocols.rosetta_scripts.RosettaScriptsParser: ...done\n",
      "protocols.rosetta_scripts.RosettaScriptsParser: Parsed script:\n",
      "<ROSETTASCRIPTS>\n",
      "\t<FILTERS>\n",
      "\t\t<Worst9mer confidence=\"0\" name=\"wnm\" rmsd_lookup_threshold=\"0.4\"/>\n",
      "\t</FILTERS>\n",
      "\t<PROTOCOLS/>\n",
      "</ROSETTASCRIPTS>\n",
      "core.scoring.ScoreFunctionFactory: SCOREFUNCTION: beta_nov16.wts\n",
      "protocols.filters.Worst9merFilter: Structures which has the best fragment RMSD at the worst position greater than 99 will be filtered.\n",
      "protocols.rosetta_scripts.RosettaScriptsParser: Defined filter named \"wnm\" of type Worst9mer\n",
      "protocols.rosetta_scripts.ParsedProtocol: ParsedProtocol mover with the following settings\n",
      "core.scoring.ScoreFunctionFactory: SCOREFUNCTION: beta_nov16.wts\n",
      "protocols.simple_moves.SwitchChainOrderMover: Number of chains in pose: 1\n",
      "protocols.simple_moves.SwitchChainOrderMover: Now at chain: 1\n",
      "protocols.simple_moves.SwitchChainOrderMover: New pose's foldtree FOLD_TREE  EDGE 1 171 -1\n",
      "protocols.filters.Worst9merFilter: position:79 rmsd:0.506281\n",
      "protocols.filters.Worst9merFilter: position:80 rmsd:0.616129\n",
      "protocols.filters.Worst9merFilter: position:81 rmsd:0.949203\n",
      "protocols.filters.Worst9merFilter: position:82 rmsd:1.14416\n",
      "protocols.filters.Worst9merFilter: position:83 rmsd:0.525456\n",
      "4.62 min: Yeeting state X into state Y\n",
      "core.scoring.ScoreFunctionFactory: SCOREFUNCTION: beta_nov16.wts\n",
      "protocols.simple_moves.SwitchChainOrderMover: Number of chains in pose: 3\n",
      "protocols.simple_moves.SwitchChainOrderMover: Now at chain: 1\n",
      "protocols.simple_moves.SwitchChainOrderMover: Now at chain: 2\n",
      "protocols.simple_moves.SwitchChainOrderMover: Now at chain: 3\n",
      "protocols.simple_moves.SwitchChainOrderMover: New pose's foldtree FOLD_TREE  EDGE 1 171 -1  EDGE 1 172 1  EDGE 1 205 2  EDGE 172 204 -1  EDGE 205 375 -1\n",
      "CPU times: user 4min 17s, sys: 6.56 s, total: 4min 24s\n",
      "Wall time: 4min 37s\n"
     ]
    }
   ],
   "source": [
    "%%time \n",
    "import pyrosetta\n",
    "\n",
    "pyrosetta.init(\"-corrections::beta_nov16 -indexed_structure_store:fragment_store /net/databases/VALL_clustered/connect_chains/ss_grouped_vall_helix_shortLoop.h5\")\n",
    "\n",
    "sys.path.insert(0, \"~/projects/crispy_shifty/\") # TODO projects\n",
    "from crispy_shifty.protocols.states import pair_bound_state\n",
    "\n",
    "t = pair_bound_state(\n",
    "        None,\n",
    "        **{\n",
    "            'pdb_path': '/mnt/home/pleung/projects/crispy_shifty/projects/crispy_shifties/03_fold_bound_states/decoys/0026/03_fold_bound_states_ef5016a6c9d3470b97c4ecd1ba960f35.pdb.bz2',\n",
    "            'reference_csv': '/mnt/home/pleung/projects/crispy_shifty/scaffolds/02_make_free_states/free_state_0s.csv',\n",
    "        }\n",
    ")\n",
    "for i, tppose in enumerate(t):\n",
    "    tppose.pose.dump_pdb(f\"{i}.pdb\")"
   ]
  },
  {
   "cell_type": "code",
   "execution_count": 5,
   "metadata": {
    "scrolled": true
   },
   "outputs": [],
   "source": [
    "d = dict(tppose.pose.scores)\n",
    "from crispy_shifty.protocols.design import beta_nov16_terms\n",
    "\n",
    "d = {k: v for k, v in d.items() if k not in beta_nov16_terms}"
   ]
  },
  {
   "cell_type": "code",
   "execution_count": 6,
   "metadata": {},
   "outputs": [
    {
     "data": {
      "text/plain": [
       "{'bb_clash': '250.36671447753906',\n",
       " 'best_average_DAN_plddts': '0.9204101562',\n",
       " 'best_average_plddts': '94.379172804',\n",
       " 'best_model': '2',\n",
       " 'best_ptm': '0.8931488654',\n",
       " 'best_rmsd_to_input': '1.0943584816',\n",
       " 'buns_parent': '2.0',\n",
       " 'cms_AcB': '297.3140563964844',\n",
       " 'cms_AnAc': '226.63072204589844',\n",
       " 'cms_AnAcB': '640.595947265625',\n",
       " 'cms_AnB': '347.1438293457031',\n",
       " 'designed_by': 'mpnn',\n",
       " 'docked_helix': '5',\n",
       " 'dssp': 'LHHHHHHHHHHHHHHHHHHHHHHLLHHHHHHHHHHHHHHHLLLHHHHHHHHHHHHHHHHHHHHHHHLLHHHHHHHHHHHHHHHLLLLLHHHHHHHHHHHHHHHHHHHHHHLLHHHHHHHHHHHHHHHLLLHHHHHHHHHHHHHHHHHHHHHHHLLHHHHHHHHHHHHHHHLLHHHHHHHHHHHHHHHHHHHHHHHHHHHHHHHL',\n",
       " 'elapsed_time': '5.834771156311035',\n",
       " 'exposed_hydrophobics_parent': '7.770049571990967',\n",
       " 'geometry_parent': '1.0',\n",
       " 'holes_all_parent': '-1.5947035551071167',\n",
       " 'holes_core_parent': '-2.432673215866089',\n",
       " 'loop_dist': '11.541058243150694',\n",
       " 'loop_sc': '0.7584340187061882',\n",
       " 'looped_length': '171.0',\n",
       " 'mean_pae': '4.042686462402344',\n",
       " 'mean_pae_interaction': '4.77353048324585',\n",
       " 'mean_pae_interaction_AB': '5.596028804779053',\n",
       " 'mean_pae_interaction_BA': '3.9510319232940674',\n",
       " 'mean_pae_intra_chain': '3.96232271194458',\n",
       " 'mean_pae_intra_chain_A': '3.584859609603882',\n",
       " 'mean_pae_intra_chain_B': '4.339786052703857',\n",
       " 'mean_plddt': '93.13070678710938',\n",
       " 'mismatch_probability_parent': '0.27548661828041077',\n",
       " 'model': '1',\n",
       " 'new_loop_str': '84,85,86,87',\n",
       " 'pTMscore': '0.871558666229248',\n",
       " 'packstat_parent': '0.6529900431632996',\n",
       " 'parent': 'X23_2_15_3_ct5_fe',\n",
       " 'parent_length': '170',\n",
       " 'path_in': '/mnt/home/pleung/projects/crispy_shifty/scaffolds/02_make_bound_states/decoys/0000/notebooks_02_make_bound_states_5f2d5bc2fc7f4489a8954574460f967a.pdb.bz2',\n",
       " 'pdb': '/net/shared/scaffolds/pre_scaffold_DB/tj_DHRs_filtered/X23_2_15_3_ct5_fe.pdb',\n",
       " 'pivot_helix': '4',\n",
       " 'pre_break_helix': '4',\n",
       " 'recycles': '3.0',\n",
       " 'rmsd_to_reference': '1.1369162797927856',\n",
       " 'sap_parent': '12.518610954284668',\n",
       " 'sc_AcB': '0.7641283571720123',\n",
       " 'sc_AnAc': '0.8345917761325836',\n",
       " 'sc_AnAcB': '0.7713367640972137',\n",
       " 'sc_AnB': '0.765188068151474',\n",
       " 'sc_all_parent': '0.7005308270454407',\n",
       " 'scaffold_type': 'tj_DHRs_filtered',\n",
       " 'score': '-538.8222857841694',\n",
       " 'score_per_res': '-2.6941114289208468',\n",
       " 'score_per_res_parent': '-2.759491205215454',\n",
       " 'score_per_res_x': '-2.4743511455092237',\n",
       " 'seed': '0',\n",
       " 'shift': '-4',\n",
       " 'ss_sc': '0.7465597018078697',\n",
       " 'state': 'X23_2_15_3_ct5_fe_p_4_s_-4_d_5',\n",
       " 'time': '5695.367401123047',\n",
       " 'tol': '0.10318198055028915',\n",
       " 'topo': 'HHHHHHHH',\n",
       " 'total_length': '204.0',\n",
       " 'total_score': -494.4515912501564,\n",
       " 'trimmed_length': '170',\n",
       " 'type': 'monomer_ptm',\n",
       " 'bb_clash_delta_x': 1.2453746795654297,\n",
       " 'wnm_all_x': 1.1441597938537598}"
      ]
     },
     "execution_count": 6,
     "metadata": {},
     "output_type": "execute_result"
    }
   ],
   "source": [
    "d"
   ]
  },
  {
   "cell_type": "code",
   "execution_count": null,
   "metadata": {},
   "outputs": [],
   "source": []
  }
 ],
 "metadata": {
  "kernelspec": {
   "display_name": "crispy (3.8.12)",
   "language": "python",
   "name": "crispy"
  },
  "language_info": {
   "codemirror_mode": {
    "name": "ipython",
    "version": 3
   },
   "file_extension": ".py",
   "mimetype": "text/x-python",
   "name": "python",
   "nbconvert_exporter": "python",
   "pygments_lexer": "ipython3",
   "version": "3.8.12"
  }
 },
 "nbformat": 4,
 "nbformat_minor": 5
}
