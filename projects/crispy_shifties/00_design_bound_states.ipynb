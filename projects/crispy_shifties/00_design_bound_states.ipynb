{
 "cells": [
  {
   "cell_type": "markdown",
   "metadata": {
    "tags": []
   },
   "source": [
    "# Make bound and free states from the prepped inputs"
   ]
  },
  {
   "cell_type": "markdown",
   "metadata": {},
   "source": [
    "### Imports"
   ]
  },
  {
   "cell_type": "code",
   "execution_count": 1,
   "metadata": {},
   "outputs": [
    {
     "name": "stdout",
     "output_type": "stream",
     "text": [
      "running in directory: /mnt/home/pleung/projects/crispy_shifty/projects/crispy_shifties\n",
      "running on node: dig39\n"
     ]
    }
   ],
   "source": [
    "%load_ext lab_black\n",
    "# Python standard library\n",
    "from glob import glob\n",
    "import os\n",
    "import socket\n",
    "import sys\n",
    "\n",
    "# 3rd party library imports\n",
    "import dask\n",
    "import matplotlib.pyplot as plt\n",
    "import pandas as pd\n",
    "import pyrosetta\n",
    "import numpy as np\n",
    "import scipy\n",
    "import seaborn as sns\n",
    "from tqdm.auto import tqdm  # jupyter compatible progress bar\n",
    "\n",
    "tqdm.pandas()  # link tqdm to pandas\n",
    "# Notebook magic\n",
    "# save plots in the notebook\n",
    "%matplotlib inline\n",
    "# reloads modules automatically before executing cells\n",
    "%load_ext autoreload\n",
    "%autoreload 2\n",
    "print(f\"running in directory: {os.getcwd()}\")  # where are we?\n",
    "print(f\"running on node: {socket.gethostname()}\")  # what node are we on?"
   ]
  },
  {
   "cell_type": "markdown",
   "metadata": {},
   "source": [
    "### Set working directory to the root of the crispy_shifty repo\n",
    "TODO set to projects dir"
   ]
  },
  {
   "cell_type": "code",
   "execution_count": 2,
   "metadata": {},
   "outputs": [],
   "source": [
    "os.chdir(\"/home/pleung/projects/crispy_shifty\")\n",
    "# os.chdir(\"/projects/crispy_shifty\")"
   ]
  },
  {
   "cell_type": "markdown",
   "metadata": {},
   "source": [
    "### One-state design the helix-bound states\n",
    "TODO"
   ]
  },
  {
   "cell_type": "code",
   "execution_count": 3,
   "metadata": {},
   "outputs": [
    {
     "name": "stdout",
     "output_type": "stream",
     "text": [
      "Warning: Use of `pyrosetta.distributed.cluster` namespace requires Anaconda (or Miniconda) to be properly installed for reproducibility of PyRosetta simulations. Please install Anaconda (or Miniconda) onto your system to enable running `which conda`. For installation instructions, visit:\n",
      "https://docs.anaconda.com/anaconda/install\n",
      "\n",
      "Run the following command with your desired environment active:\n",
      "sbatch -a 1-$(cat /mnt/home/pleung/projects/crispy_shifty/projects/crispy_shifties/00_design_bound_states/tasks.cmds | wc -l) /mnt/home/pleung/projects/crispy_shifty/projects/crispy_shifties/00_design_bound_states/run.sh\n"
     ]
    },
    {
     "name": "stderr",
     "output_type": "stream",
     "text": [
      "/projects/crispy_shifty/envs/crispy/lib/python3.8/site-packages/dask_jobqueue/core.py:20: FutureWarning: tmpfile is deprecated and will be removed in a future release. Please use dask.utils.tmpfile instead.\n",
      "  from distributed.utils import tmpfile\n"
     ]
    }
   ],
   "source": [
    "from crispy_shifty.utils.io import gen_array_tasks\n",
    "\n",
    "simulation_name = \"00_design_bound_states\"\n",
    "design_list_file = os.path.join(\n",
    "    os.getcwd(), \"scaffolds/02_make_bound_states/bound_states.list\"\n",
    ")\n",
    "output_path = os.path.join(os.getcwd(), f\"projects/crispy_shifties/{simulation_name}\")\n",
    "options = \" \".join(\n",
    "    [\n",
    "        \"out:level 200\",\n",
    "        # \"indexed_structure_store:fragment_store /home/bcov/sc/scaffold_comparison/data/ss_grouped_vall_all.h5\",\n",
    "    ]\n",
    ")\n",
    "\n",
    "gen_array_tasks(\n",
    "    distribute_func=\"crispy_shifty.protocols.design.one_state_design_bound_state\",\n",
    "    design_list_file=design_list_file,\n",
    "    output_path=output_path,\n",
    "    queue=\"medium\",\n",
    "    memory=\"4G\",\n",
    "    nstruct=1,\n",
    "    nstruct_per_task=1,\n",
    "    options=options,\n",
    "    simulation_name=simulation_name,\n",
    ")"
   ]
  },
  {
   "cell_type": "code",
   "execution_count": 4,
   "metadata": {},
   "outputs": [
    {
     "name": "stdout",
     "output_type": "stream",
     "text": [
      "Submitted batch job 66953614\n"
     ]
    }
   ],
   "source": [
    "!sbatch -a 1-$(cat /mnt/home/pleung/projects/crispy_shifty/projects/crispy_shifties/00_design_bound_states/tasks.cmds | wc -l) /mnt/home/pleung/projects/crispy_shifty/projects/crispy_shifties/00_design_bound_states/run.sh"
   ]
  },
  {
   "cell_type": "markdown",
   "metadata": {},
   "source": [
    "### Collect scorefiles of designed bound states and concatenate\n",
    "TODO change to projects dir"
   ]
  },
  {
   "cell_type": "code",
   "execution_count": 3,
   "metadata": {
    "scrolled": true,
    "tags": []
   },
   "outputs": [
    {
     "name": "stderr",
     "output_type": "stream",
     "text": [
      "/projects/crispy_shifty/envs/crispy/lib/python3.8/site-packages/dask_jobqueue/core.py:20: FutureWarning: tmpfile is deprecated and will be removed in a future release. Please use dask.utils.tmpfile instead.\n",
      "  from distributed.utils import tmpfile\n"
     ]
    }
   ],
   "source": [
    "sys.path.insert(0, \"~/projects/crispy_shifty\")  # TODO\n",
    "from crispy_shifty.utils.io import collect_score_file\n",
    "\n",
    "simulation_name = \"00_design_bound_states\"\n",
    "output_path = os.path.join(os.getcwd(), f\"projects/crispy_shifties/{simulation_name}\")\n",
    "\n",
    "if not os.path.exists(os.path.join(output_path, \"scores.json\")):\n",
    "    collect_score_file(output_path, \"scores\")"
   ]
  },
  {
   "cell_type": "markdown",
   "metadata": {},
   "source": [
    "### Load resulting concatenated scorefile\n",
    "TODO change to projects dir"
   ]
  },
  {
   "cell_type": "code",
   "execution_count": 8,
   "metadata": {
    "scrolled": true,
    "tags": []
   },
   "outputs": [
    {
     "ename": "SyntaxError",
     "evalue": "invalid syntax (io.py, line 474)",
     "output_type": "error",
     "traceback": [
      "Traceback \u001b[0;36m(most recent call last)\u001b[0m:\n",
      "  File \u001b[1;32m\"/projects/crispy_shifty/envs/crispy/lib/python3.8/site-packages/IPython/core/interactiveshell.py\"\u001b[0m, line \u001b[1;32m3444\u001b[0m, in \u001b[1;35mrun_code\u001b[0m\n    exec(code_obj, self.user_global_ns, self.user_ns)\n",
      "\u001b[0;36m  File \u001b[0;32m\"/scratch/pleung/747473/ipykernel_2491069/47830639.py\"\u001b[0;36m, line \u001b[0;32m2\u001b[0;36m, in \u001b[0;35m<module>\u001b[0;36m\u001b[0m\n\u001b[0;31m    from crispy_shifty.utils.io import parse_scorefile_linear\u001b[0m\n",
      "\u001b[0;36m  File \u001b[0;32m\"/mnt/home/pleung/projects/crispy_shifty/crispy_shifty/utils/io.py\"\u001b[0;36m, line \u001b[0;32m474\u001b[0m\n\u001b[0;31m    \"echo \"${CMD}\" | bash\",\u001b[0m\n\u001b[0m           ^\u001b[0m\n\u001b[0;31mSyntaxError\u001b[0m\u001b[0;31m:\u001b[0m invalid syntax\n"
     ]
    }
   ],
   "source": [
    "sys.path.insert(0, \"~/projects/crispy_shifty\")  # TODO\n",
    "from crispy_shifty.utils.io import parse_scorefile_linear\n",
    "\n",
    "output_path = os.path.join(os.getcwd(), f\"projects/crispy_shifties/{simulation_name}\")\n",
    "\n",
    "scores_df = parse_scorefile_linear(os.path.join(output_path, \"scores.json\"))"
   ]
  },
  {
   "cell_type": "markdown",
   "metadata": {},
   "source": [
    "# Setup for plotting"
   ]
  },
  {
   "cell_type": "code",
   "execution_count": 5,
   "metadata": {},
   "outputs": [],
   "source": [
    "sns.set(\n",
    "    context=\"talk\",\n",
    "    font_scale=1,  # make the font larger; default is pretty small\n",
    "    style=\"ticks\",  # make the background white with black lines\n",
    "    palette=\"colorblind\",  # a color palette that is colorblind friendly!\n",
    ")"
   ]
  },
  {
   "cell_type": "markdown",
   "metadata": {},
   "source": [
    "### Data exploration"
   ]
  },
  {
   "cell_type": "code",
   "execution_count": 6,
   "metadata": {},
   "outputs": [
    {
     "data": {
      "text/plain": [
       "Index(['bb_clash', 'best_average_DAN_plddts', 'best_average_plddts',\n",
       "       'best_model', 'best_ptm', 'best_rmsd_to_input', 'buns_parent',\n",
       "       'cms_AcB', 'cms_AnAc', 'cms_AnAcB', 'cms_AnB', 'docked_helix',\n",
       "       'dslf_fa13', 'exposed_hydrophobics_parent', 'fa_atr', 'fa_dun',\n",
       "       'fa_dun_dev', 'fa_dun_rot', 'fa_dun_semi', 'fa_elec',\n",
       "       'fa_intra_atr_xover4', 'fa_intra_elec', 'fa_intra_rep',\n",
       "       'fa_intra_rep_xover4', 'fa_intra_sol_xover4', 'fa_rep', 'fa_sol',\n",
       "       'geometry_parent', 'hbond_bb_sc', 'hbond_lr_bb', 'hbond_sc',\n",
       "       'hbond_sr_bb', 'holes_all_parent', 'holes_core_parent', 'hxl_tors',\n",
       "       'lk_ball', 'lk_ball_bridge', 'lk_ball_bridge_uncpl', 'lk_ball_iso',\n",
       "       'lk_ball_wtd', 'loop_dist', 'metadata', 'mismatch_probability_parent',\n",
       "       'omega', 'p_aa_pp', 'packstat_parent', 'parent', 'parent_length', 'pdb',\n",
       "       'pivot_helix', 'pre_break_helix', 'pro_close', 'rama_prepro', 'ref',\n",
       "       'res_type_constraint', 'sap_parent', 'sc_AcB', 'sc_AnAc', 'sc_AnAcB',\n",
       "       'sc_AnB', 'sc_all_parent', 'scaffold_type', 'score', 'score_1',\n",
       "       'score_12', 'score_13', 'score_2', 'score_23', 'score_3',\n",
       "       'score_per_res', 'score_per_res_parent', 'shift', 'ss_sc', 'state',\n",
       "       'topo', 'total_score', 'trimmed_length', 'yhh_planarity'],\n",
       "      dtype='object')"
      ]
     },
     "execution_count": 6,
     "metadata": {},
     "output_type": "execute_result"
    }
   ],
   "source": [
    "scores_df.columns"
   ]
  },
  {
   "cell_type": "code",
   "execution_count": 12,
   "metadata": {},
   "outputs": [],
   "source": [
    "scores_df[\"time\"] = scores_df.metadata.astype(float) / 60\n",
    "scores_df[\"trimmed_length\"] = scores_df.trimmed_length.astype(int)"
   ]
  },
  {
   "cell_type": "code",
   "execution_count": 13,
   "metadata": {},
   "outputs": [
    {
     "name": "stderr",
     "output_type": "stream",
     "text": [
      "2it [00:00, 30.65it/s]\n"
     ]
    },
    {
     "data": {
      "image/png": "[encoded data removed]",
      "text/plain": [
       "<Figure size 576x288 with 2 Axes>"
      ]
     },
     "metadata": {},
     "output_type": "display_data"
    }
   ],
   "source": [
    "from crispy_shifty.plotting.utils import histplot_df, pairplot_df\n",
    "\n",
    "histplot_df(df=scores_df, bins=10, cols=[\"time\", \"trimmed_length\"])"
   ]
  },
  {
   "cell_type": "code",
   "execution_count": 14,
   "metadata": {},
   "outputs": [
    {
     "data": {
      "text/plain": [
       "<Figure size 576x576 with 0 Axes>"
      ]
     },
     "metadata": {},
     "output_type": "display_data"
    },
    {
     "data": {
      "image/png": "[encoded data removed]",
      "text/plain": [
       "<Figure size 360x360 with 5 Axes>"
      ]
     },
     "metadata": {},
     "output_type": "display_data"
    }
   ],
   "source": [
    "pairplot_df(df=scores_df, cols=[\"time\", \"trimmed_length\"])"
   ]
  },
  {
   "cell_type": "markdown",
   "metadata": {},
   "source": [
    "### TODO Save a list of outputs"
   ]
  },
  {
   "cell_type": "code",
   "execution_count": 6,
   "metadata": {},
   "outputs": [],
   "source": [
    "# with open(\n",
    "#     os.path.join(os.getcwd(), \"scaffolds/02_make_bound_states/bound_states.list\"), \"w\"\n",
    "# ) as f:\n",
    "#     for path in tqdm(bound_scores_df.index):\n",
    "#         print(path, file=f)\n",
    "# with open(\n",
    "#     os.path.join(os.getcwd(), \"scaffolds/02_make_free_states/free_states.list\"), \"w\"\n",
    "# ) as f:\n",
    "#     for path in tqdm(free_scores_df.index):\n",
    "#         print(path, file=f)"
   ]
  },
  {
   "cell_type": "markdown",
   "metadata": {},
   "source": [
    "### Prototyping blocks\n",
    "`\"-indexed_structure_store:fragment_store\": \"/home/bcov/sc/scaffold_comparison/data/ss_grouped_vall_all.h5\",` isn't needed.  \n",
    "`-precompute_ig true \\-precompute_ig true \\`\n",
    "`-indexed_structure_store:fragment_store /net/databases/VALL_clustered/connect_chains/ss_grouped_vall_helix_shortLoop.h5 \\`"
   ]
  },
  {
   "cell_type": "code",
   "execution_count": 3,
   "metadata": {
    "scrolled": true,
    "tags": []
   },
   "outputs": [
    {
     "name": "stdout",
     "output_type": "stream",
     "text": [
      "PyRosetta-4 2021 [Rosetta PyRosetta4.conda.linux.cxx11thread.serialization.CentOS.python38.Release 2021.44+release.de9edbfaf502e0b00debd50df9e9c36eb454838a 2021-11-02T20:42:19] retrieved from: http://www.pyrosetta.org\n",
      "(C) Copyright Rosetta Commons Member Institutions. Created in JHU by Sergey Lyskov and PyRosetta Team.\n",
      "core.init: Checking for fconfig files in pwd and ./rosetta/flags\n",
      "core.init: Rosetta version: PyRosetta4.conda.linux.cxx11thread.serialization.CentOS.python38.Release r301 2021.44+release.de9edbf de9edbfaf502e0b00debd50df9e9c36eb454838a http://www.pyrosetta.org 2021-11-02T20:42:19\n",
      "core.init: command: PyRosetta -corrections::beta_nov16 -database /projects/crispy_shifty/envs/crispy/lib/python3.8/site-packages/pyrosetta/database\n",
      "basic.random.init_random_generator: 'RNG device' seed mode, using '/dev/urandom', seed=1826118104 seed_offset=0 real_seed=1826118104 thread_index=0\n",
      "basic.random.init_random_generator: RandomGenerator:init: Normal mode, seed=1826118104 RG_type=mt19937\n",
      "CPU times: user 37.8 ms, sys: 236 µs, total: 38.1 ms\n",
      "Wall time: 62.3 ms\n"
     ]
    }
   ],
   "source": [
    "%%time \n",
    "import pyrosetta\n",
    "\n",
    "pyrosetta.init(\n",
    "    \"-corrections::beta_nov16\"\n",
    ")\n",
    "\n",
    "\n",
    "sys.path.insert(0, \"~/projects/crispy_shifty/\") # TODO projects\n",
    "from crispy_shifty.protocols.design import one_state_design_bound_state\n",
    "\n",
    "t = one_state_design_bound_state(\n",
    "        None,\n",
    "        **{\n",
    "            'pdb_path': '/mnt/home/pleung/projects/crispy_shifty/scaffolds/02_make_bound_states/decoys/0000/notebooks_02_make_bound_states_6f2b82a6c1404a7389d1fe5797fb9176.pdb.bz2',\n",
    "        }\n",
    ")"
   ]
  },
  {
   "cell_type": "code",
   "execution_count": null,
   "metadata": {
    "scrolled": true
   },
   "outputs": [
    {
     "name": "stdout",
     "output_type": "stream",
     "text": [
      "0.00 min: Generated interface selector\n",
      "core.select.residue_selector.LayerSelector: Setting LayerSelector to use sidechain neighbors to determine burial.\n",
      "core.select.residue_selector.LayerSelector: Set cutoffs for core and surface to 5.2 and 2, respectively, in LayerSelector.\n",
      "core.select.residue_selector.LayerSelector: Setting core=true boundary=false surface=false in LayerSelector.\n",
      "core.select.residue_selector.LayerSelector: Setting LayerSelector to use sidechain neighbors to determine burial.\n",
      "core.select.residue_selector.LayerSelector: Setting LayerSelector to use sidechain neighbors to determine burial.\n",
      "core.select.residue_selector.LayerSelector: Set cutoffs for core and surface to 5.2 and 2, respectively, in LayerSelector.\n",
      "core.select.residue_selector.LayerSelector: Setting core=false boundary=true surface=false in LayerSelector.\n",
      "core.select.residue_selector.LayerSelector: Setting LayerSelector to use sidechain neighbors to determine burial.\n",
      "core.select.residue_selector.LayerSelector: Setting LayerSelector to use sidechain neighbors to determine burial.\n",
      "core.select.residue_selector.LayerSelector: Set cutoffs for core and surface to 5.2 and 2, respectively, in LayerSelector.\n",
      "core.select.residue_selector.LayerSelector: Setting core=false boundary=false surface=true in LayerSelector.\n",
      "core.select.residue_selector.LayerSelector: Setting LayerSelector to use sidechain neighbors to determine burial.\n",
      "basic.io.database: Database file opened: scoring/score_functions/hbonds/ref2015_params/HBPoly1D.csv\n",
      "basic.io.database: Database file opened: scoring/score_functions/hbonds/ref2015_params/HBFadeIntervals.csv\n",
      "basic.io.database: Database file opened: scoring/score_functions/hbonds/ref2015_params/HBEval.csv\n",
      "basic.io.database: Database file opened: scoring/score_functions/hbonds/ref2015_params/DonStrength.csv\n",
      "basic.io.database: Database file opened: scoring/score_functions/hbonds/ref2015_params/AccStrength.csv\n",
      "0.00 min: Generated interface design task factory\n",
      "core.scoring.etable: Starting energy table calculation\n",
      "core.scoring.etable: smooth_etable: changing atr/rep split to bottom of energy well\n",
      "core.scoring.etable: smooth_etable: spline smoothing lj etables (maxdis = 6)\n",
      "core.scoring.etable: smooth_etable: spline smoothing solvation etables (max_dis = 6)\n",
      "core.scoring.etable: Finished calculating energy tables.\n",
      "core.chemical.GlobalResidueTypeSet: Finished initializing fa_standard residue type set.  Created 983 residue types\n",
      "core.chemical.GlobalResidueTypeSet: Total time to initialize 1.61752 seconds.\n",
      "basic.io.database: Database file opened: scoring/score_functions/rama/fd_beta_nov2016/all.ramaProb\n",
      "basic.io.database: Database file opened: scoring/score_functions/rama/fd_beta_nov2016/prepro.ramaProb\n",
      "basic.io.database: Database file opened: scoring/score_functions/omega/omega_ppdep.all.txt\n",
      "basic.io.database: Database file opened: scoring/score_functions/omega/omega_ppdep.gly.txt\n",
      "basic.io.database: Database file opened: scoring/score_functions/omega/omega_ppdep.pro.txt\n",
      "basic.io.database: Database file opened: scoring/score_functions/omega/omega_ppdep.valile.txt\n",
      "basic.io.database: Database file opened: scoring/score_functions/P_AA_pp/P_AA\n",
      "basic.io.database: Database file opened: scoring/score_functions/P_AA_pp/P_AA_n\n",
      "core.scoring.P_AA: shapovalov_lib::shap_p_aa_pp_smooth_level of 1( aka low_smooth ) got activated.\n",
      "basic.io.database: Database file opened: scoring/score_functions/P_AA_pp/shapovalov/10deg/kappa131/a20.prop\n",
      "basic.io.database: Database file opened: scoring/score_functions/bondlength_bondangle/hydroxyl_torsion_preference.txt\n",
      "0.08 min: Generated score functions\n",
      "0.08 min: Generated movemaps\n"
     ]
    },
    {
     "name": "stderr",
     "output_type": "stream",
     "text": [
      "/projects/crispy_shifty/envs/crispy/lib/python3.8/site-packages/dask_jobqueue/core.py:20: FutureWarning: tmpfile is deprecated and will be removed in a future release. Please use dask.utils.tmpfile instead.\n",
      "  from distributed.utils import tmpfile\n"
     ]
    },
    {
     "name": "stdout",
     "output_type": "stream",
     "text": [
      "core.conformation.Conformation: [ WARNING ] missing heavyatom:  OXT on residue LEU:CtermProteinFull 77\n",
      "core.conformation.Conformation: [ WARNING ] missing heavyatom:  OXT on residue LEU:CtermProteinFull 150\n",
      "select design_sel, (chain A and resid 61,62,65,66,68,69,72,73) or (chain B and resid 80,81,83,84,85,87,88,90,91,94,95,97,100,103,107) or (chain C and resid 133,136,137,140,141,143,144,148)\n",
      "{'bb_clash': '39.48820877075195', 'best_average_DAN_plddts': '0.94140625', 'best_average_plddts': '95.5781062937', 'best_model': '2', 'best_ptm': '0.8570135160000001', 'best_rmsd_to_input': '1.1307091845', 'buns_parent': '0.0', 'docked_helix': '3', 'dslf_fa13': '0.0', 'exposed_hydrophobics_parent': '742.7557373046875', 'fa_atr': '-952.4328631824205', 'fa_dun': '277.6150651452243', 'fa_dun_dev': '22.566758220895796', 'fa_dun_rot': '125.6771810081174', 'fa_dun_semi': '135.28502680613883', 'fa_elec': '-282.2033608643161', 'fa_intra_atr_xover4': '-61.02398186984928', 'fa_intra_elec': '-15.204921676787418', 'fa_intra_rep': '395.9794483518003', 'fa_intra_rep_xover4': '61.98092216938359', 'fa_intra_sol_xover4': '40.031423674400465', 'fa_rep': '2805.56992718213', 'fa_sol': '588.6163769631969', 'geometry_parent': '1.0', 'hbond_bb_sc': '-6.783954689151821', 'hbond_lr_bb': '-3.6967564571132048', 'hbond_sc': '-27.34541019036918', 'hbond_sr_bb': '-111.28877221897723', 'holes_all_parent': '-1.7357901334762573', 'holes_core_parent': '-0.9010522365570068', 'hxl_tors': '4.575411872460611', 'lk_ball': '392.32656985948427', 'lk_ball_bridge': '1.6105254730963108', 'lk_ball_bridge_uncpl': '12.13735680019068', 'lk_ball_iso': '966.6595204055966', 'lk_ball_wtd': '-21.647135892194076', 'mismatch_probability_parent': '0.24956312775611877', 'omega': '14.763996794504866', 'p_aa_pp': '-59.396423075166126', 'packstat_parent': '0.5846342444419861', 'parent': 'JHR_bd4_02262', 'parent_length': '135', 'pdb': '/net/shared/scaffolds/pre_scaffold_DB/drhicks1_JHR/JHR_bd4_02262.pdb', 'pivot_helix': '4', 'pre_break_helix': '4', 'pro_close': '0.4924184003810433', 'rama_prepro': '-47.7331226486428', 'ref': '45.589989999999986', 'sap_parent': '51.26724624633789', 'sc_all_parent': '0.8062247633934021', 'scaffold_type': 'drhicks1_JHR', 'score_per_res_parent': '-3.3872621059417725', 'shift': '-6', 'state': 'JHR_bd4_02262_p_4_s_-6_d_3', 'topo': 'HHHHHHH', 'total_score': '957.6168026179321', 'trimmed_length': '135', 'yhh_planarity': '0.0'}\n",
      "0.00 min: Starting 1 round of fixed backbone design...protocols.rosetta_scripts.RosettaScriptsParser: Validating input script...\n",
      "protocols.rosetta_scripts.RosettaScriptsSchemaValidator: Generating XML Schema for rosetta_scripts...\n",
      "protocols.rosetta_scripts.RosettaScriptsSchemaValidator: ...done\n",
      "protocols.rosetta_scripts.RosettaScriptsSchemaValidator: Initializing schema validator...\n",
      "protocols.rosetta_scripts.RosettaScriptsSchemaValidator: ...done\n",
      "protocols.rosetta_scripts.RosettaScriptsParser: ...done\n",
      "protocols.rosetta_scripts.RosettaScriptsParser: Parsed script:\n",
      "<ROSETTASCRIPTS>\n",
      "\t<MOVERS>\n",
      "\t\t<FastDesign batch=\"false\" bondangle=\"false\" bondlength=\"false\" cartesian=\"false\" min_type=\"lbfgs_armijo_nonmonotone\" name=\"fastdesign\" ramp_down_constraints=\"false\" relaxscript=\"InterfaceDesign2019\" repeats=\"1\"/>\n",
      "\t</MOVERS>\n",
      "\t<PROTOCOLS/>\n",
      "</ROSETTASCRIPTS>\n",
      "core.scoring.ScoreFunctionFactory: SCOREFUNCTION: beta_nov16.wts\n",
      "core.scoring.etable: Starting energy table calculation\n",
      "core.scoring.etable: smooth_etable: changing atr/rep split to bottom of energy well\n",
      "core.scoring.etable: smooth_etable: spline smoothing lj etables (maxdis = 6)\n",
      "core.scoring.etable: smooth_etable: spline smoothing solvation etables (max_dis = 6)\n",
      "core.scoring.etable: Finished calculating energy tables.\n",
      "basic.io.database: Database file opened: scoring/score_functions/PairEPotential/pdb_pair_stats_fine\n",
      "basic.io.database: Database file opened: scoring/score_functions/InterchainPotential/interchain_env_log.txt\n",
      "basic.io.database: Database file opened: scoring/score_functions/InterchainPotential/interchain_pair_log.txt\n",
      "basic.io.database: Database file opened: scoring/score_functions/EnvPairPotential/env_log.txt\n",
      "basic.io.database: Database file opened: scoring/score_functions/EnvPairPotential/cbeta_den.txt\n",
      "basic.io.database: Database file opened: scoring/score_functions/EnvPairPotential/pair_log.txt\n",
      "basic.io.database: Database file opened: scoring/score_functions/EnvPairPotential/cenpack_log.txt\n",
      "core.scoring.ramachandran: shapovalov_lib::shap_rama_smooth_level of 4( aka highest_smooth ) got activated.\n",
      "basic.io.database: Database file opened: scoring/score_functions/rama/shapovalov/kappa25/all.ramaProb\n",
      "basic.io.database: Database file opened: scoring/score_functions/rama/flat/avg_L_rama.dat\n",
      "core.scoring.ramachandran: Reading custom Ramachandran table from scoring/score_functions/rama/flat/avg_L_rama.dat.\n",
      "basic.io.database: Database file opened: scoring/score_functions/rama/flat/sym_all_rama.dat\n",
      "core.scoring.ramachandran: Reading custom Ramachandran table from scoring/score_functions/rama/flat/sym_all_rama.dat.\n",
      "basic.io.database: Database file opened: scoring/score_functions/rama/flat/sym_G_rama.dat\n",
      "core.scoring.ramachandran: Reading custom Ramachandran table from scoring/score_functions/rama/flat/sym_G_rama.dat.\n",
      "basic.io.database: Database file opened: scoring/score_functions/rama/flat/sym_P_rama.dat\n",
      "core.scoring.ramachandran: Reading custom Ramachandran table from scoring/score_functions/rama/flat/sym_P_rama.dat.\n",
      "basic.io.database: Database file opened: scoring/score_functions/rama/flat/avg_L_rama_str.dat\n",
      "core.scoring.ramachandran: Reading custom Ramachandran table from scoring/score_functions/rama/flat/avg_L_rama_str.dat.\n",
      "basic.io.database: Database file opened: scoring/score_functions/rama/flat/sym_all_rama_str.dat\n",
      "core.scoring.ramachandran: Reading custom Ramachandran table from scoring/score_functions/rama/flat/sym_all_rama_str.dat.\n",
      "basic.io.database: Database file opened: scoring/score_functions/rama/flat/sym_G_rama_str.dat\n",
      "core.scoring.ramachandran: Reading custom Ramachandran table from scoring/score_functions/rama/flat/sym_G_rama_str.dat.\n",
      "basic.io.database: Database file opened: scoring/score_functions/rama/flat/sym_P_rama_str.dat\n",
      "core.scoring.ramachandran: Reading custom Ramachandran table from scoring/score_functions/rama/flat/sym_P_rama_str.dat.\n",
      "protocols.relax.RelaxScriptManager: Reading relax scripts list from database.\n",
      "core.scoring.ScoreFunctionFactory: SCOREFUNCTION: beta_nov16.wts\n",
      "protocols.relax.RelaxScriptManager: Looking for MonomerRelax2019.txt\n",
      "protocols.relax.RelaxScriptManager: ================== Reading script file: /projects/crispy_shifty/envs/crispy/lib/python3.8/site-packages/pyrosetta/database/sampling/relax_scripts/MonomerRelax2019.txt ==================\n",
      "protocols.relax.RelaxScriptManager: repeat %%nrepeats%%\n",
      "protocols.relax.RelaxScriptManager: coord_cst_weight 1.0\n",
      "protocols.relax.RelaxScriptManager: scale:fa_rep 0.040\n",
      "protocols.relax.RelaxScriptManager: repack\n",
      "protocols.relax.RelaxScriptManager: scale:fa_rep 0.051\n",
      "protocols.relax.RelaxScriptManager: min 0.01\n",
      "protocols.relax.RelaxScriptManager: coord_cst_weight 0.5\n",
      "protocols.relax.RelaxScriptManager: scale:fa_rep 0.265\n",
      "protocols.relax.RelaxScriptManager: repack\n",
      "protocols.relax.RelaxScriptManager: scale:fa_rep 0.280\n",
      "protocols.relax.RelaxScriptManager: min 0.01\n",
      "protocols.relax.RelaxScriptManager: coord_cst_weight 0.0\n",
      "protocols.relax.RelaxScriptManager: scale:fa_rep 0.559\n",
      "protocols.relax.RelaxScriptManager: repack\n",
      "protocols.relax.RelaxScriptManager: scale:fa_rep 0.581\n",
      "protocols.relax.RelaxScriptManager: min 0.01\n",
      "protocols.relax.RelaxScriptManager: coord_cst_weight 0.0\n",
      "protocols.relax.RelaxScriptManager: scale:fa_rep 1\n",
      "protocols.relax.RelaxScriptManager: repack\n",
      "protocols.relax.RelaxScriptManager: min 0.00001\n",
      "protocols.relax.RelaxScriptManager: accept_to_best\n",
      "protocols.relax.RelaxScriptManager: endrepeat\n",
      "protocols.relax.RelaxScriptManager: Looking for InterfaceDesign2019.txt\n",
      "protocols.relax.RelaxScriptManager: ================== Reading script file: /projects/crispy_shifty/envs/crispy/lib/python3.8/site-packages/pyrosetta/database/sampling/relax_scripts/InterfaceDesign2019.txt ==================\n",
      "protocols.relax.RelaxScriptManager: repeat %%nrepeats%%\n",
      "protocols.relax.RelaxScriptManager: coord_cst_weight 1.0\n",
      "protocols.relax.RelaxScriptManager: scale:fa_rep 0.079\n",
      "protocols.relax.RelaxScriptManager: repack\n",
      "protocols.relax.RelaxScriptManager: scale:fa_rep 0.100\n",
      "protocols.relax.RelaxScriptManager: min 0.01\n",
      "protocols.relax.RelaxScriptManager: coord_cst_weight 0.5\n",
      "protocols.relax.RelaxScriptManager: scale:fa_rep 0.295\n",
      "protocols.relax.RelaxScriptManager: repack\n",
      "protocols.relax.RelaxScriptManager: scale:fa_rep 0.323\n",
      "protocols.relax.RelaxScriptManager: min 0.01\n",
      "protocols.relax.RelaxScriptManager: coord_cst_weight 0.0\n",
      "protocols.relax.RelaxScriptManager: scale:fa_rep 0.577\n",
      "protocols.relax.RelaxScriptManager: repack\n",
      "protocols.relax.RelaxScriptManager: scale:fa_rep 0.619\n",
      "protocols.relax.RelaxScriptManager: min 0.01\n",
      "protocols.relax.RelaxScriptManager: coord_cst_weight 0.0\n",
      "protocols.relax.RelaxScriptManager: scale:fa_rep 1\n",
      "protocols.relax.RelaxScriptManager: repack\n",
      "protocols.relax.RelaxScriptManager: min 0.00001\n",
      "protocols.relax.RelaxScriptManager: accept_to_best\n",
      "protocols.relax.RelaxScriptManager: endrepeat\n",
      "protocols.rosetta_scripts.RosettaScriptsParser: Defined mover named \"fastdesign\" of type FastDesign\n",
      "protocols.rosetta_scripts.ParsedProtocol: ParsedProtocol mover with the following settings\n",
      "protocols.pack_interface.ProteinProteinInterfaceUpweighterTaskOperation: Packer Energies between the interface residues are upweighted by factor 3.\n",
      "core.pack.task: Packer task: initialize from command line()\n",
      "core.select.residue_selector.SecondaryStructureSelector: Using dssp for secondary structure: LHHHHHHHHHHHHHHHHLLLHHHHHHHHHHHHHHHHHLLLHHHHHHHHHHHHHHHHHHLLHHHHHHHHHHHHHHHHLLLLHHHHHHHHHHHHHHHLLHHHHHHHHHHHHHHHHHLLLHHHHHHHHHHHHHHLLHHHHHHHHHHHHHHHHL\n",
      "core.select.residue_selector.SecondaryStructureSelector: Using dssp for secondary structure: LHHHHHHHHHHHHHHHHLLLHHHHHHHHHHHHHHHHHLLLHHHHHHHHHHHHHHHHHHLLHHHHHHHHHHHHHHHHLLLLHHHHHHHHHHHHHHHLLHHHHHHHHHHHHHHHHHLLLHHHHHHHHHHHHHHLLHHHHHHHHHHHHHHHHL\n",
      "core.select.residue_selector.PrimarySequenceNeighborhoodSelector: ]\n",
      "core.select.residue_selector.SecondaryStructureSelector: Using dssp for secondary structure: LHHHHHHHHHHHHHHHHLLLHHHHHHHHHHHHHHHHHLLLHHHHHHHHHHHHHHHHHHLLHHHHHHHHHHHHHHHHLLLLHHHHHHHHHHHHHHHLLHHHHHHHHHHHHHHHHHLLLHHHHHHHHHHHHHHLLHHHHHHHHHHHHHHHHL\n",
      "core.select.residue_selector.SecondaryStructureSelector: Using dssp for secondary structure: LHHHHHHHHHHHHHHHHLLLHHHHHHHHHHHHHHHHHLLLHHHHHHHHHHHHHHHHHHLLHHHHHHHHHHHHHHHHLLLLHHHHHHHHHHHHHHHLLHHHHHHHHHHHHHHHHHLLLHHHHHHHHHHHHHHLLHHHHHHHHHHHHHHHHL\n",
      "core.select.residue_selector.SecondaryStructureSelector: Using dssp for secondary structure: LHHHHHHHHHHHHHHHHLLLHHHHHHHHHHHHHHHHHLLLHHHHHHHHHHHHHHHHHHLLHHHHHHHHHHHHHHHHLLLLHHHHHHHHHHHHHHHLLHHHHHHHHHHHHHHHHHLLLHHHHHHHHHHHHHHLLHHHHHHHHHHHHHHHHL\n",
      "core.select.residue_selector.PrimarySequenceNeighborhoodSelector: ]\n",
      "core.select.residue_selector.PrimarySequenceNeighborhoodSelector: ]\n",
      "core.select.residue_selector.SecondaryStructureSelector: Using dssp for secondary structure: LHHHHHHHHHHHHHHHHLLLHHHHHHHHHHHHHHHHHLLLHHHHHHHHHHHHHHHHHHLLHHHHHHHHHHHHHHHHLLLLHHHHHHHHHHHHHHHLLHHHHHHHHHHHHHHHHHLLLHHHHHHHHHHHHHHLLHHHHHHHHHHHHHHHHL\n",
      "core.select.residue_selector.SecondaryStructureSelector: Using dssp for secondary structure: LHHHHHHHHHHHHHHHHLLLHHHHHHHHHHHHHHHHHLLLHHHHHHHHHHHHHHHHHHLLHHHHHHHHHHHHHHHHLLLLHHHHHHHHHHHHHHHLLHHHHHHHHHHHHHHHHHLLLHHHHHHHHHHHHHHLLHHHHHHHHHHHHHHHHL\n",
      "core.select.residue_selector.SecondaryStructureSelector: Using dssp for secondary structure: LHHHHHHHHHHHHHHHHLLLHHHHHHHHHHHHHHHHHLLLHHHHHHHHHHHHHHHHHHLLHHHHHHHHHHHHHHHHLLLLHHHHHHHHHHHHHHHLLHHHHHHHHHHHHHHHHHLLLHHHHHHHHHHHHHHLLHHHHHHHHHHHHHHHHL\n",
      "core.select.residue_selector.SecondaryStructureSelector: Using dssp for secondary structure: LHHHHHHHHHHHHHHHHLLLHHHHHHHHHHHHHHHHHLLLHHHHHHHHHHHHHHHHHHLLHHHHHHHHHHHHHHHHLLLLHHHHHHHHHHHHHHHLLHHHHHHHHHHHHHHHHHLLLHHHHHHHHHHHHHHLLHHHHHHHHHHHHHHHHL\n",
      "core.select.residue_selector.PrimarySequenceNeighborhoodSelector: ]\n",
      "core.select.residue_selector.PrimarySequenceNeighborhoodSelector: ]\n",
      "core.select.residue_selector.SecondaryStructureSelector: Using dssp for secondary structure: LHHHHHHHHHHHHHHHHLLLHHHHHHHHHHHHHHHHHLLLHHHHHHHHHHHHHHHHHHLLHHHHHHHHHHHHHHHHLLLLHHHHHHHHHHHHHHHLLHHHHHHHHHHHHHHHHHLLLHHHHHHHHHHHHHHLLHHHHHHHHHHHHHHHHL\n",
      "core.select.residue_selector.SecondaryStructureSelector: Using dssp for secondary structure: LHHHHHHHHHHHHHHHHLLLHHHHHHHHHHHHHHHHHLLLHHHHHHHHHHHHHHHHHHLLHHHHHHHHHHHHHHHHLLLLHHHHHHHHHHHHHHHLLHHHHHHHHHHHHHHHHHLLLHHHHHHHHHHHHHHLLHHHHHHHHHHHHHHHHL\n",
      "core.select.residue_selector.SecondaryStructureSelector: Using dssp for secondary structure: LHHHHHHHHHHHHHHHHLLLHHHHHHHHHHHHHHHHHLLLHHHHHHHHHHHHHHHHHHLLHHHHHHHHHHHHHHHHLLLLHHHHHHHHHHHHHHHLLHHHHHHHHHHHHHHHHHLLLHHHHHHHHHHHHHHLLHHHHHHHHHHHHHHHHL\n",
      "core.select.residue_selector.SecondaryStructureSelector: Using dssp for secondary structure: LHHHHHHHHHHHHHHHHLLLHHHHHHHHHHHHHHHHHLLLHHHHHHHHHHHHHHHHHHLLHHHHHHHHHHHHHHHHLLLLHHHHHHHHHHHHHHHLLHHHHHHHHHHHHHHHHHLLLHHHHHHHHHHHHHHLLHHHHHHHHHHHHHHHHL\n",
      "core.select.residue_selector.PrimarySequenceNeighborhoodSelector: ]\n",
      "core.select.residue_selector.SecondaryStructureSelector: Using dssp for secondary structure: LHHHHHHHHHHHHHHHHLLLHHHHHHHHHHHHHHHHHLLLHHHHHHHHHHHHHHHHHHLLHHHHHHHHHHHHHHHHLLLLHHHHHHHHHHHHHHHLLHHHHHHHHHHHHHHHHHLLLHHHHHHHHHHHHHHLLHHHHHHHHHHHHHHHHL\n",
      "core.select.residue_selector.SecondaryStructureSelector: Using dssp for secondary structure: LHHHHHHHHHHHHHHHHLLLHHHHHHHHHHHHHHHHHLLLHHHHHHHHHHHHHHHHHHLLHHHHHHHHHHHHHHHHLLLLHHHHHHHHHHHHHHHLLHHHHHHHHHHHHHHHHHLLLHHHHHHHHHHHHHHLLHHHHHHHHHHHHHHHHL\n",
      "core.select.residue_selector.SecondaryStructureSelector: Using dssp for secondary structure: LHHHHHHHHHHHHHHHHLLLHHHHHHHHHHHHHHHHHLLLHHHHHHHHHHHHHHHHHHLLHHHHHHHHHHHHHHHHLLLLHHHHHHHHHHHHHHHLLHHHHHHHHHHHHHHHHHLLLHHHHHHHHHHHHHHLLHHHHHHHHHHHHHHHHL\n",
      "core.select.residue_selector.PrimarySequenceNeighborhoodSelector: ]\n",
      "core.select.residue_selector.PrimarySequenceNeighborhoodSelector: ]\n",
      "core.select.residue_selector.SecondaryStructureSelector: Using dssp for secondary structure: LHHHHHHHHHHHHHHHHLLLHHHHHHHHHHHHHHHHHLLLHHHHHHHHHHHHHHHHHHLLHHHHHHHHHHHHHHHHLLLLHHHHHHHHHHHHHHHLLHHHHHHHHHHHHHHHHHLLLHHHHHHHHHHHHHHLLHHHHHHHHHHHHHHHHL\n",
      "core.select.residue_selector.SecondaryStructureSelector: Using dssp for secondary structure: LHHHHHHHHHHHHHHHHLLLHHHHHHHHHHHHHHHHHLLLHHHHHHHHHHHHHHHHHHLLHHHHHHHHHHHHHHHHLLLLHHHHHHHHHHHHHHHLLHHHHHHHHHHHHHHHHHLLLHHHHHHHHHHHHHHLLHHHHHHHHHHHHHHHHL\n",
      "core.select.residue_selector.SecondaryStructureSelector: Using dssp for secondary structure: LHHHHHHHHHHHHHHHHLLLHHHHHHHHHHHHHHHHHLLLHHHHHHHHHHHHHHHHHHLLHHHHHHHHHHHHHHHHLLLLHHHHHHHHHHHHHHHLLHHHHHHHHHHHHHHHHHLLLHHHHHHHHHHHHHHLLHHHHHHHHHHHHHHHHL\n",
      "core.select.residue_selector.SecondaryStructureSelector: Using dssp for secondary structure: LHHHHHHHHHHHHHHHHLLLHHHHHHHHHHHHHHHHHLLLHHHHHHHHHHHHHHHHHHLLHHHHHHHHHHHHHHHHLLLLHHHHHHHHHHHHHHHLLHHHHHHHHHHHHHHHHHLLLHHHHHHHHHHHHHHLLHHHHHHHHHHHHHHHHL\n",
      "core.select.residue_selector.PrimarySequenceNeighborhoodSelector: ]\n",
      "core.select.residue_selector.PrimarySequenceNeighborhoodSelector: ]\n",
      "core.select.residue_selector.SecondaryStructureSelector: Using dssp for secondary structure: LHHHHHHHHHHHHHHHHLLLHHHHHHHHHHHHHHHHHLLLHHHHHHHHHHHHHHHHHHLLHHHHHHHHHHHHHHHHLLLLHHHHHHHHHHHHHHHLLHHHHHHHHHHHHHHHHHLLLHHHHHHHHHHHHHHLLHHHHHHHHHHHHHHHHL\n",
      "core.select.residue_selector.SecondaryStructureSelector: Using dssp for secondary structure: LHHHHHHHHHHHHHHHHLLLHHHHHHHHHHHHHHHHHLLLHHHHHHHHHHHHHHHHHHLLHHHHHHHHHHHHHHHHLLLLHHHHHHHHHHHHHHHLLHHHHHHHHHHHHHHHHHLLLHHHHHHHHHHHHHHLLHHHHHHHHHHHHHHHHL\n",
      "core.select.residue_selector.SecondaryStructureSelector: Using dssp for secondary structure: LHHHHHHHHHHHHHHHHLLLHHHHHHHHHHHHHHHHHLLLHHHHHHHHHHHHHHHHHHLLHHHHHHHHHHHHHHHHLLLLHHHHHHHHHHHHHHHLLHHHHHHHHHHHHHHHHHLLLHHHHHHHHHHHHHHLLHHHHHHHHHHHHHHHHL\n",
      "core.select.residue_selector.SecondaryStructureSelector: Using dssp for secondary structure: LHHHHHHHHHHHHHHHHLLLHHHHHHHHHHHHHHHHHLLLHHHHHHHHHHHHHHHHHHLLHHHHHHHHHHHHHHHHLLLLHHHHHHHHHHHHHHHLLHHHHHHHHHHHHHHHHHLLLHHHHHHHHHHHHHHLLHHHHHHHHHHHHHHHHL\n",
      "core.select.residue_selector.PrimarySequenceNeighborhoodSelector: ]\n",
      "core.select.residue_selector.SecondaryStructureSelector: Using dssp for secondary structure: LHHHHHHHHHHHHHHHHLLLHHHHHHHHHHHHHHHHHLLLHHHHHHHHHHHHHHHHHHLLHHHHHHHHHHHHHHHHLLLLHHHHHHHHHHHHHHHLLHHHHHHHHHHHHHHHHHLLLHHHHHHHHHHHHHHLLHHHHHHHHHHHHHHHHL\n",
      "core.select.residue_selector.SecondaryStructureSelector: Using dssp for secondary structure: LHHHHHHHHHHHHHHHHLLLHHHHHHHHHHHHHHHHHLLLHHHHHHHHHHHHHHHHHHLLHHHHHHHHHHHHHHHHLLLLHHHHHHHHHHHHHHHLLHHHHHHHHHHHHHHHHHLLLHHHHHHHHHHHHHHLLHHHHHHHHHHHHHHHHL\n",
      "core.select.residue_selector.SecondaryStructureSelector: Using dssp for secondary structure: LHHHHHHHHHHHHHHHHLLLHHHHHHHHHHHHHHHHHLLLHHHHHHHHHHHHHHHHHHLLHHHHHHHHHHHHHHHHLLLLHHHHHHHHHHHHHHHLLHHHHHHHHHHHHHHHHHLLLHHHHHHHHHHHHHHLLHHHHHHHHHHHHHHHHL\n",
      "core.select.residue_selector.PrimarySequenceNeighborhoodSelector: ]\n",
      "core.select.residue_selector.PrimarySequenceNeighborhoodSelector: ]\n",
      "core.select.residue_selector.SecondaryStructureSelector: Using dssp for secondary structure: LHHHHHHHHHHHHHHHHLLLHHHHHHHHHHHHHHHHHLLLHHHHHHHHHHHHHHHHHHLLHHHHHHHHHHHHHHHHLLLLHHHHHHHHHHHHHHHLLHHHHHHHHHHHHHHHHHLLLHHHHHHHHHHHHHHLLHHHHHHHHHHHHHHHHL\n",
      "core.select.residue_selector.SecondaryStructureSelector: Using dssp for secondary structure: LHHHHHHHHHHHHHHHHLLLHHHHHHHHHHHHHHHHHLLLHHHHHHHHHHHHHHHHHHLLHHHHHHHHHHHHHHHHLLLLHHHHHHHHHHHHHHHLLHHHHHHHHHHHHHHHHHLLLHHHHHHHHHHHHHHLLHHHHHHHHHHHHHHHHL\n",
      "core.select.residue_selector.SecondaryStructureSelector: Using dssp for secondary structure: LHHHHHHHHHHHHHHHHLLLHHHHHHHHHHHHHHHHHLLLHHHHHHHHHHHHHHHHHHLLHHHHHHHHHHHHHHHHLLLLHHHHHHHHHHHHHHHLLHHHHHHHHHHHHHHHHHLLLHHHHHHHHHHHHHHLLHHHHHHHHHHHHHHHHL\n",
      "core.select.residue_selector.SecondaryStructureSelector: Using dssp for secondary structure: LHHHHHHHHHHHHHHHHLLLHHHHHHHHHHHHHHHHHLLLHHHHHHHHHHHHHHHHHHLLHHHHHHHHHHHHHHHHLLLLHHHHHHHHHHHHHHHLLHHHHHHHHHHHHHHHHHLLLHHHHHHHHHHHHHHLLHHHHHHHHHHHHHHHHL\n",
      "core.select.residue_selector.PrimarySequenceNeighborhoodSelector: ]\n",
      "core.select.residue_selector.PrimarySequenceNeighborhoodSelector: ]\n",
      "core.select.residue_selector.SecondaryStructureSelector: Using dssp for secondary structure: LHHHHHHHHHHHHHHHHLLLHHHHHHHHHHHHHHHHHLLLHHHHHHHHHHHHHHHHHHLLHHHHHHHHHHHHHHHHLLLLHHHHHHHHHHHHHHHLLHHHHHHHHHHHHHHHHHLLLHHHHHHHHHHHHHHLLHHHHHHHHHHHHHHHHL\n",
      "core.select.residue_selector.SecondaryStructureSelector: Using dssp for secondary structure: LHHHHHHHHHHHHHHHHLLLHHHHHHHHHHHHHHHHHLLLHHHHHHHHHHHHHHHHHHLLHHHHHHHHHHHHHHHHLLLLHHHHHHHHHHHHHHHLLHHHHHHHHHHHHHHHHHLLLHHHHHHHHHHHHHHLLHHHHHHHHHHHHHHHHL\n",
      "core.select.residue_selector.SecondaryStructureSelector: Using dssp for secondary structure: LHHHHHHHHHHHHHHHHLLLHHHHHHHHHHHHHHHHHLLLHHHHHHHHHHHHHHHHHHLLHHHHHHHHHHHHHHHHLLLLHHHHHHHHHHHHHHHLLHHHHHHHHHHHHHHHHHLLLHHHHHHHHHHHHHHLLHHHHHHHHHHHHHHHHL\n",
      "core.select.residue_selector.SecondaryStructureSelector: Using dssp for secondary structure: LHHHHHHHHHHHHHHHHLLLHHHHHHHHHHHHHHHHHLLLHHHHHHHHHHHHHHHHHHLLHHHHHHHHHHHHHHHHLLLLHHHHHHHHHHHHHHHLLHHHHHHHHHHHHHHHHHLLLHHHHHHHHHHHHHHLLHHHHHHHHHHHHHHHHL\n",
      "core.select.residue_selector.PrimarySequenceNeighborhoodSelector: ]\n",
      "protocols.denovo_design.movers.FastDesign: #Packer_Task\n",
      "protocols.denovo_design.movers.FastDesign:\n",
      "protocols.denovo_design.movers.FastDesign: Threads to request: ALL AVAILABLE\n",
      "protocols.denovo_design.movers.FastDesign:\n",
      "protocols.denovo_design.movers.FastDesign: resid\tpack?\tdesign?\tallowed_aas\n",
      "protocols.denovo_design.movers.FastDesign: 1\tFALSE\tFALSE\n",
      "protocols.denovo_design.movers.FastDesign: 2\tFALSE\tFALSE\n",
      "protocols.denovo_design.movers.FastDesign: 3\tFALSE\tFALSE\n",
      "protocols.denovo_design.movers.FastDesign: 4\tFALSE\tFALSE\n",
      "protocols.denovo_design.movers.FastDesign: 5\tFALSE\tFALSE\n",
      "protocols.denovo_design.movers.FastDesign: 6\tFALSE\tFALSE\n",
      "protocols.denovo_design.movers.FastDesign: 7\tFALSE\tFALSE\n",
      "protocols.denovo_design.movers.FastDesign: 8\tFALSE\tFALSE\n",
      "protocols.denovo_design.movers.FastDesign: 9\tFALSE\tFALSE\n",
      "protocols.denovo_design.movers.FastDesign: 10\tFALSE\tFALSE\n",
      "protocols.denovo_design.movers.FastDesign: 11\tFALSE\tFALSE\n",
      "protocols.denovo_design.movers.FastDesign: 12\tFALSE\tFALSE\n",
      "protocols.denovo_design.movers.FastDesign: 13\tFALSE\tFALSE\n",
      "protocols.denovo_design.movers.FastDesign: 14\tFALSE\tFALSE\n",
      "protocols.denovo_design.movers.FastDesign: 15\tFALSE\tFALSE\n",
      "protocols.denovo_design.movers.FastDesign: 16\tFALSE\tFALSE\n",
      "protocols.denovo_design.movers.FastDesign: 17\tFALSE\tFALSE\n",
      "protocols.denovo_design.movers.FastDesign: 18\tFALSE\tFALSE\n",
      "protocols.denovo_design.movers.FastDesign: 19\tFALSE\tFALSE\n",
      "protocols.denovo_design.movers.FastDesign: 20\tFALSE\tFALSE\n",
      "protocols.denovo_design.movers.FastDesign: 21\tFALSE\tFALSE\n",
      "protocols.denovo_design.movers.FastDesign: 22\tFALSE\tFALSE\n",
      "protocols.denovo_design.movers.FastDesign: 23\tFALSE\tFALSE\n",
      "protocols.denovo_design.movers.FastDesign: 24\tFALSE\tFALSE\n",
      "protocols.denovo_design.movers.FastDesign: 25\tFALSE\tFALSE\n",
      "protocols.denovo_design.movers.FastDesign: 26\tFALSE\tFALSE\n",
      "protocols.denovo_design.movers.FastDesign: 27\tFALSE\tFALSE\n",
      "protocols.denovo_design.movers.FastDesign: 28\tFALSE\tFALSE\n",
      "protocols.denovo_design.movers.FastDesign: 29\tFALSE\tFALSE\n",
      "protocols.denovo_design.movers.FastDesign: 30\tFALSE\tFALSE\n",
      "protocols.denovo_design.movers.FastDesign: 31\tFALSE\tFALSE\n",
      "protocols.denovo_design.movers.FastDesign: 32\tFALSE\tFALSE\n",
      "protocols.denovo_design.movers.FastDesign: 33\tFALSE\tFALSE\n",
      "protocols.denovo_design.movers.FastDesign: 34\tFALSE\tFALSE\n",
      "protocols.denovo_design.movers.FastDesign: 35\tFALSE\tFALSE\n",
      "protocols.denovo_design.movers.FastDesign: 36\tFALSE\tFALSE\n",
      "protocols.denovo_design.movers.FastDesign: 37\tFALSE\tFALSE\n",
      "protocols.denovo_design.movers.FastDesign: 38\tFALSE\tFALSE\n",
      "protocols.denovo_design.movers.FastDesign: 39\tFALSE\tFALSE\n",
      "protocols.denovo_design.movers.FastDesign: 40\tFALSE\tFALSE\n",
      "protocols.denovo_design.movers.FastDesign: 41\tFALSE\tFALSE\n",
      "protocols.denovo_design.movers.FastDesign: 42\tFALSE\tFALSE\n",
      "protocols.denovo_design.movers.FastDesign: 43\tFALSE\tFALSE\n",
      "protocols.denovo_design.movers.FastDesign: 44\tFALSE\tFALSE\n",
      "protocols.denovo_design.movers.FastDesign: 45\tFALSE\tFALSE\n",
      "protocols.denovo_design.movers.FastDesign: 46\tFALSE\tFALSE\n",
      "protocols.denovo_design.movers.FastDesign: 47\tFALSE\tFALSE\n",
      "protocols.denovo_design.movers.FastDesign: 48\tFALSE\tFALSE\n",
      "protocols.denovo_design.movers.FastDesign: 49\tFALSE\tFALSE\n",
      "protocols.denovo_design.movers.FastDesign: 50\tFALSE\tFALSE\n",
      "protocols.denovo_design.movers.FastDesign: 51\tFALSE\tFALSE\n",
      "protocols.denovo_design.movers.FastDesign: 52\tFALSE\tFALSE\n",
      "protocols.denovo_design.movers.FastDesign: 53\tFALSE\tFALSE\n",
      "protocols.denovo_design.movers.FastDesign: 54\tFALSE\tFALSE\n",
      "protocols.denovo_design.movers.FastDesign: 55\tFALSE\tFALSE\n",
      "protocols.denovo_design.movers.FastDesign: 56\tFALSE\tFALSE\n",
      "protocols.denovo_design.movers.FastDesign: 57\tFALSE\tFALSE\n",
      "protocols.denovo_design.movers.FastDesign: 58\tFALSE\tFALSE\n",
      "protocols.denovo_design.movers.FastDesign: 59\tFALSE\tFALSE\n",
      "protocols.denovo_design.movers.FastDesign: 60\tFALSE\tFALSE\n",
      "protocols.denovo_design.movers.FastDesign: 61\tTRUE\tTRUE\tALA,ASP,GLU,HIS,HIS_D,ILE,LYS,LEU,ASN,PRO,GLN,ARG,SER,THR,VAL,TRP,TYR\n",
      "protocols.denovo_design.movers.FastDesign: 62\tTRUE\tTRUE\tALA,ASP,GLU,HIS,HIS_D,ILE,LYS,LEU,MET,ASN,GLN,ARG,SER,THR,VAL,TRP,TYR\n",
      "protocols.denovo_design.movers.FastDesign: 63\tFALSE\tFALSE\n",
      "protocols.denovo_design.movers.FastDesign: 64\tFALSE\tFALSE\n",
      "protocols.denovo_design.movers.FastDesign: 65\tTRUE\tTRUE\tALA,PHE,ILE,LYS,LEU,MET,VAL,TRP\n",
      "protocols.denovo_design.movers.FastDesign: 66\tTRUE\tTRUE\tALA,ASP,GLU,HIS,HIS_D,ILE,LYS,LEU,MET,ASN,GLN,ARG,SER,THR,VAL,TRP,TYR\n",
      "protocols.denovo_design.movers.FastDesign: 67\tFALSE\tFALSE\n",
      "protocols.denovo_design.movers.FastDesign: 68\tTRUE\tTRUE\tALA,ASP,GLU,HIS,HIS_D,ILE,LYS,LEU,MET,ASN,GLN,ARG,SER,THR,VAL,TRP,TYR\n",
      "protocols.denovo_design.movers.FastDesign: 69\tTRUE\tTRUE\tALA,GLU,PHE,ILE,LEU,MET,VAL,TRP\n",
      "protocols.denovo_design.movers.FastDesign: 70\tFALSE\tFALSE\n",
      "protocols.denovo_design.movers.FastDesign: 71\tFALSE\tFALSE\n",
      "protocols.denovo_design.movers.FastDesign: 72\tTRUE\tTRUE\tALA,ASP,GLU,HIS,HIS_D,ILE,LYS,LEU,MET,ASN,GLN,ARG,SER,THR,VAL,TRP,TYR\n",
      "protocols.denovo_design.movers.FastDesign: 73\tTRUE\tTRUE\tGLU,HIS,HIS_D,LYS,GLN,ARG\n",
      "protocols.denovo_design.movers.FastDesign: 74\tFALSE\tFALSE\n",
      "protocols.denovo_design.movers.FastDesign: 75\tFALSE\tFALSE\n",
      "protocols.denovo_design.movers.FastDesign: 76\tFALSE\tFALSE\n",
      "protocols.denovo_design.movers.FastDesign: 77\tFALSE\tFALSE\n",
      "protocols.denovo_design.movers.FastDesign: 78\tFALSE\tFALSE\n",
      "protocols.denovo_design.movers.FastDesign: 79\tFALSE\tFALSE\n",
      "protocols.denovo_design.movers.FastDesign: 80\tTRUE\tTRUE\tASP,LEU,ASN,PRO,SER,THR\n",
      "protocols.denovo_design.movers.FastDesign: 81\tTRUE\tTRUE\tALA,ASP,GLU,HIS,HIS_D,ILE,LYS,LEU,ASN,PRO,GLN,ARG,SER,THR,VAL,TRP,TYR\n",
      "protocols.denovo_design.movers.FastDesign: 82\tFALSE\tFALSE\n",
      "protocols.denovo_design.movers.FastDesign: 83\tTRUE\tTRUE\tALA,ASP,GLU,HIS,HIS_D,ILE,LYS,LEU,MET,ASN,GLN,ARG,SER,THR,VAL,TRP,TYR\n",
      "protocols.denovo_design.movers.FastDesign: 84\tTRUE\tTRUE\tALA,ASP,GLU,HIS,HIS_D,ILE,LYS,LEU,MET,ASN,GLN,ARG,SER,THR,VAL,TRP,TYR\n",
      "protocols.denovo_design.movers.FastDesign: 85\tTRUE\tTRUE\tALA,PHE,ILE,LEU,MET,VAL,TRP\n",
      "protocols.denovo_design.movers.FastDesign: 86\tFALSE\tFALSE\n",
      "protocols.denovo_design.movers.FastDesign: 87\tTRUE\tTRUE\tALA,PHE,ILE,LEU,MET,VAL,TRP\n",
      "protocols.denovo_design.movers.FastDesign: 88\tTRUE\tTRUE\tALA,PHE,ILE,LEU,MET,VAL,TRP\n",
      "protocols.denovo_design.movers.FastDesign: 89\tFALSE\tFALSE\n",
      "protocols.denovo_design.movers.FastDesign: 90\tTRUE\tTRUE\tGLU,HIS,HIS_D,LYS,LEU,GLN,ARG\n",
      "protocols.denovo_design.movers.FastDesign: 91\tTRUE\tTRUE\tALA,PHE,ILE,LEU,MET,VAL,TRP\n",
      "protocols.denovo_design.movers.FastDesign: 92\tFALSE\tFALSE\n",
      "protocols.denovo_design.movers.FastDesign: 93\tFALSE\tFALSE\n",
      "protocols.denovo_design.movers.FastDesign: 94\tTRUE\tTRUE\tALA,ASP,GLU,HIS,HIS_D,ILE,LYS,LEU,MET,ASN,GLN,ARG,SER,THR,VAL,TRP,TYR\n",
      "protocols.denovo_design.movers.FastDesign: 95\tTRUE\tTRUE\tALA,ASP,GLU,HIS,HIS_D,ILE,LYS,LEU,MET,ASN,GLN,ARG,SER,THR,VAL,TRP,TYR\n",
      "protocols.denovo_design.movers.FastDesign: 96\tFALSE\tFALSE\n",
      "protocols.denovo_design.movers.FastDesign: 97\tTRUE\tTRUE\tASP,ASN,PRO,SER,THR\n",
      "protocols.denovo_design.movers.FastDesign: 98\tFALSE\tFALSE\n",
      "protocols.denovo_design.movers.FastDesign: 99\tFALSE\tFALSE\n",
      "protocols.denovo_design.movers.FastDesign: 100\tTRUE\tTRUE\tALA,PHE,ILE,LEU,MET,VAL,TRP\n",
      "protocols.denovo_design.movers.FastDesign: 101\tFALSE\tFALSE\n",
      "protocols.denovo_design.movers.FastDesign: 102\tFALSE\tFALSE\n",
      "protocols.denovo_design.movers.FastDesign: 103\tTRUE\tTRUE\tALA,ASP,GLU,HIS,HIS_D,ILE,LYS,LEU,MET,ASN,GLN,ARG,SER,THR,VAL,TRP,TYR\n",
      "protocols.denovo_design.movers.FastDesign: 104\tFALSE\tFALSE\n",
      "protocols.denovo_design.movers.FastDesign: 105\tFALSE\tFALSE\n",
      "protocols.denovo_design.movers.FastDesign: 106\tFALSE\tFALSE\n",
      "protocols.denovo_design.movers.FastDesign: 107\tTRUE\tTRUE\tALA,ASP,GLU,HIS,HIS_D,ILE,LYS,LEU,MET,ASN,GLN,ARG,SER,THR,VAL,TRP,TYR\n",
      "protocols.denovo_design.movers.FastDesign: 108\tFALSE\tFALSE\n",
      "protocols.denovo_design.movers.FastDesign: 109\tFALSE\tFALSE\n",
      "protocols.denovo_design.movers.FastDesign: 110\tFALSE\tFALSE\n",
      "protocols.denovo_design.movers.FastDesign: 111\tFALSE\tFALSE\n",
      "protocols.denovo_design.movers.FastDesign: 112\tFALSE\tFALSE\n",
      "protocols.denovo_design.movers.FastDesign: 113\tFALSE\tFALSE\n",
      "protocols.denovo_design.movers.FastDesign: 114\tFALSE\tFALSE\n",
      "protocols.denovo_design.movers.FastDesign: 115\tFALSE\tFALSE\n",
      "protocols.denovo_design.movers.FastDesign: 116\tFALSE\tFALSE\n",
      "protocols.denovo_design.movers.FastDesign: 117\tFALSE\tFALSE\n",
      "protocols.denovo_design.movers.FastDesign: 118\tFALSE\tFALSE\n",
      "protocols.denovo_design.movers.FastDesign: 119\tFALSE\tFALSE\n",
      "protocols.denovo_design.movers.FastDesign: 120\tFALSE\tFALSE\n",
      "protocols.denovo_design.movers.FastDesign: 121\tFALSE\tFALSE\n",
      "protocols.denovo_design.movers.FastDesign: 122\tFALSE\tFALSE\n",
      "protocols.denovo_design.movers.FastDesign: 123\tFALSE\tFALSE\n",
      "protocols.denovo_design.movers.FastDesign: 124\tFALSE\tFALSE\n",
      "protocols.denovo_design.movers.FastDesign: 125\tFALSE\tFALSE\n",
      "protocols.denovo_design.movers.FastDesign: 126\tFALSE\tFALSE\n",
      "protocols.denovo_design.movers.FastDesign: 127\tFALSE\tFALSE\n",
      "protocols.denovo_design.movers.FastDesign: 128\tFALSE\tFALSE\n",
      "protocols.denovo_design.movers.FastDesign: 129\tFALSE\tFALSE\n",
      "protocols.denovo_design.movers.FastDesign: 130\tFALSE\tFALSE\n",
      "protocols.denovo_design.movers.FastDesign: 131\tFALSE\tFALSE\n",
      "protocols.denovo_design.movers.FastDesign: 132\tFALSE\tFALSE\n",
      "protocols.denovo_design.movers.FastDesign: 133\tTRUE\tTRUE\tASP:NtermProteinFull,ASN:NtermProteinFull,PRO:NtermProteinFull,SER:NtermProteinFull,THR:NtermProteinFull\n",
      "protocols.denovo_design.movers.FastDesign: 134\tFALSE\tFALSE\n",
      "protocols.denovo_design.movers.FastDesign: 135\tFALSE\tFALSE\n",
      "protocols.denovo_design.movers.FastDesign: 136\tTRUE\tTRUE\tALA,ASP,GLU,HIS,HIS_D,ILE,LYS,LEU,MET,ASN,GLN,ARG,SER,THR,VAL,TRP,TYR\n",
      "protocols.denovo_design.movers.FastDesign: 137\tTRUE\tTRUE\tALA,ASP,GLU,HIS,HIS_D,ILE,LYS,LEU,MET,ASN,GLN,ARG,SER,THR,VAL,TRP,TYR\n",
      "protocols.denovo_design.movers.FastDesign: 138\tFALSE\tFALSE\n",
      "protocols.denovo_design.movers.FastDesign: 139\tFALSE\tFALSE\n",
      "protocols.denovo_design.movers.FastDesign: 140\tTRUE\tTRUE\tALA,PHE,ILE,LEU,MET,VAL,TRP\n",
      "protocols.denovo_design.movers.FastDesign: 141\tTRUE\tTRUE\tGLU,HIS,HIS_D,LYS,GLN,ARG\n",
      "protocols.denovo_design.movers.FastDesign: 142\tFALSE\tFALSE\n",
      "protocols.denovo_design.movers.FastDesign: 143\tTRUE\tTRUE\tALA,ASP,GLU,HIS,HIS_D,ILE,LYS,LEU,MET,ASN,GLN,ARG,SER,THR,VAL,TRP,TYR\n",
      "protocols.denovo_design.movers.FastDesign: 144\tTRUE\tTRUE\tALA,PHE,ILE,LEU,MET,VAL,TRP\n",
      "protocols.denovo_design.movers.FastDesign: 145\tFALSE\tFALSE\n",
      "protocols.denovo_design.movers.FastDesign: 146\tFALSE\tFALSE\n",
      "protocols.denovo_design.movers.FastDesign: 147\tFALSE\tFALSE\n",
      "protocols.denovo_design.movers.FastDesign: 148\tTRUE\tTRUE\tGLU,HIS,HIS_D,LYS,GLN,ARG\n",
      "protocols.denovo_design.movers.FastDesign: 149\tFALSE\tFALSE\n",
      "protocols.denovo_design.movers.FastDesign: 150\tFALSE\tFALSE\n",
      "basic.io.database: Database file opened: scoring/score_functions/elec_cp_reps.dat\n",
      "core.scoring.elec.util: Read 40 countpair representative atoms\n",
      "core.pack.dunbrack.RotamerLibrary: shapovalov_lib_fixes_enable option is true.\n",
      "core.pack.dunbrack.RotamerLibrary: Binary rotamer library selected: /projects/crispy_shifty/envs/crispy/lib/python3.8/site-packages/pyrosetta/database/rotamer/beta_nov2016/Dunbrack10.lib.bin\n",
      "core.pack.dunbrack.RotamerLibrary: Using Dunbrack library binary file '/projects/crispy_shifty/envs/crispy/lib/python3.8/site-packages/pyrosetta/database/rotamer/beta_nov2016/Dunbrack10.lib.bin'.\n",
      "core.pack.dunbrack.RotamerLibrary: Dunbrack 2010 library took 0.206577 seconds to load from binary\n",
      "protocols.relax.FastRelax: CMD: repeat  1033.64  0  0  0.55\n",
      "protocols.relax.FastRelax: CMD: coord_cst_weight  1033.64  0  0  0.55\n",
      "protocols.relax.FastRelax: CMD: scale:fa_rep  -387.629  0  0  0.04345\n",
      "protocols.pack_interface.ProteinProteinInterfaceUpweighterTaskOperation: Packer Energies between the interface residues are upweighted by factor 3.\n",
      "core.pack.task: Packer task: initialize from command line()\n",
      "core.select.residue_selector.SecondaryStructureSelector: Using dssp for secondary structure: LHHHHHHHHHHHHHHHHLLLHHHHHHHHHHHHHHHHHLLLHHHHHHHHHHHHHHHHHHLLHHHHHHHHHHHHHHHHLLLLHHHHHHHHHHHHHHHLLHHHHHHHHHHHHHHHHHLLLHHHHHHHHHHHHHHLLHHHHHHHHHHHHHHHHL\n",
      "core.select.residue_selector.SecondaryStructureSelector: Using dssp for secondary structure: LHHHHHHHHHHHHHHHHLLLHHHHHHHHHHHHHHHHHLLLHHHHHHHHHHHHHHHHHHLLHHHHHHHHHHHHHHHHLLLLHHHHHHHHHHHHHHHLLHHHHHHHHHHHHHHHHHLLLHHHHHHHHHHHHHHLLHHHHHHHHHHHHHHHHL\n",
      "core.select.residue_selector.PrimarySequenceNeighborhoodSelector: ]\n",
      "core.select.residue_selector.SecondaryStructureSelector: Using dssp for secondary structure: LHHHHHHHHHHHHHHHHLLLHHHHHHHHHHHHHHHHHLLLHHHHHHHHHHHHHHHHHHLLHHHHHHHHHHHHHHHHLLLLHHHHHHHHHHHHHHHLLHHHHHHHHHHHHHHHHHLLLHHHHHHHHHHHHHHLLHHHHHHHHHHHHHHHHL\n",
      "core.select.residue_selector.SecondaryStructureSelector: Using dssp for secondary structure: LHHHHHHHHHHHHHHHHLLLHHHHHHHHHHHHHHHHHLLLHHHHHHHHHHHHHHHHHHLLHHHHHHHHHHHHHHHHLLLLHHHHHHHHHHHHHHHLLHHHHHHHHHHHHHHHHHLLLHHHHHHHHHHHHHHLLHHHHHHHHHHHHHHHHL\n",
      "core.select.residue_selector.SecondaryStructureSelector: Using dssp for secondary structure: LHHHHHHHHHHHHHHHHLLLHHHHHHHHHHHHHHHHHLLLHHHHHHHHHHHHHHHHHHLLHHHHHHHHHHHHHHHHLLLLHHHHHHHHHHHHHHHLLHHHHHHHHHHHHHHHHHLLLHHHHHHHHHHHHHHLLHHHHHHHHHHHHHHHHL\n",
      "core.select.residue_selector.PrimarySequenceNeighborhoodSelector: ]\n",
      "core.select.residue_selector.PrimarySequenceNeighborhoodSelector: ]\n",
      "core.select.residue_selector.SecondaryStructureSelector: Using dssp for secondary structure: LHHHHHHHHHHHHHHHHLLLHHHHHHHHHHHHHHHHHLLLHHHHHHHHHHHHHHHHHHLLHHHHHHHHHHHHHHHHLLLLHHHHHHHHHHHHHHHLLHHHHHHHHHHHHHHHHHLLLHHHHHHHHHHHHHHLLHHHHHHHHHHHHHHHHL\n",
      "core.select.residue_selector.SecondaryStructureSelector: Using dssp for secondary structure: LHHHHHHHHHHHHHHHHLLLHHHHHHHHHHHHHHHHHLLLHHHHHHHHHHHHHHHHHHLLHHHHHHHHHHHHHHHHLLLLHHHHHHHHHHHHHHHLLHHHHHHHHHHHHHHHHHLLLHHHHHHHHHHHHHHLLHHHHHHHHHHHHHHHHL\n",
      "core.select.residue_selector.SecondaryStructureSelector: Using dssp for secondary structure: LHHHHHHHHHHHHHHHHLLLHHHHHHHHHHHHHHHHHLLLHHHHHHHHHHHHHHHHHHLLHHHHHHHHHHHHHHHHLLLLHHHHHHHHHHHHHHHLLHHHHHHHHHHHHHHHHHLLLHHHHHHHHHHHHHHLLHHHHHHHHHHHHHHHHL\n",
      "core.select.residue_selector.SecondaryStructureSelector: Using dssp for secondary structure: LHHHHHHHHHHHHHHHHLLLHHHHHHHHHHHHHHHHHLLLHHHHHHHHHHHHHHHHHHLLHHHHHHHHHHHHHHHHLLLLHHHHHHHHHHHHHHHLLHHHHHHHHHHHHHHHHHLLLHHHHHHHHHHHHHHLLHHHHHHHHHHHHHHHHL\n",
      "core.select.residue_selector.PrimarySequenceNeighborhoodSelector: ]\n",
      "core.select.residue_selector.PrimarySequenceNeighborhoodSelector: ]\n",
      "core.select.residue_selector.SecondaryStructureSelector: Using dssp for secondary structure: LHHHHHHHHHHHHHHHHLLLHHHHHHHHHHHHHHHHHLLLHHHHHHHHHHHHHHHHHHLLHHHHHHHHHHHHHHHHLLLLHHHHHHHHHHHHHHHLLHHHHHHHHHHHHHHHHHLLLHHHHHHHHHHHHHHLLHHHHHHHHHHHHHHHHL\n",
      "core.select.residue_selector.SecondaryStructureSelector: Using dssp for secondary structure: LHHHHHHHHHHHHHHHHLLLHHHHHHHHHHHHHHHHHLLLHHHHHHHHHHHHHHHHHHLLHHHHHHHHHHHHHHHHLLLLHHHHHHHHHHHHHHHLLHHHHHHHHHHHHHHHHHLLLHHHHHHHHHHHHHHLLHHHHHHHHHHHHHHHHL\n",
      "core.select.residue_selector.SecondaryStructureSelector: Using dssp for secondary structure: LHHHHHHHHHHHHHHHHLLLHHHHHHHHHHHHHHHHHLLLHHHHHHHHHHHHHHHHHHLLHHHHHHHHHHHHHHHHLLLLHHHHHHHHHHHHHHHLLHHHHHHHHHHHHHHHHHLLLHHHHHHHHHHHHHHLLHHHHHHHHHHHHHHHHL\n",
      "core.select.residue_selector.SecondaryStructureSelector: Using dssp for secondary structure: LHHHHHHHHHHHHHHHHLLLHHHHHHHHHHHHHHHHHLLLHHHHHHHHHHHHHHHHHHLLHHHHHHHHHHHHHHHHLLLLHHHHHHHHHHHHHHHLLHHHHHHHHHHHHHHHHHLLLHHHHHHHHHHHHHHLLHHHHHHHHHHHHHHHHL\n",
      "core.select.residue_selector.PrimarySequenceNeighborhoodSelector: ]\n",
      "core.select.residue_selector.SecondaryStructureSelector: Using dssp for secondary structure: LHHHHHHHHHHHHHHHHLLLHHHHHHHHHHHHHHHHHLLLHHHHHHHHHHHHHHHHHHLLHHHHHHHHHHHHHHHHLLLLHHHHHHHHHHHHHHHLLHHHHHHHHHHHHHHHHHLLLHHHHHHHHHHHHHHLLHHHHHHHHHHHHHHHHL\n",
      "core.select.residue_selector.SecondaryStructureSelector: Using dssp for secondary structure: LHHHHHHHHHHHHHHHHLLLHHHHHHHHHHHHHHHHHLLLHHHHHHHHHHHHHHHHHHLLHHHHHHHHHHHHHHHHLLLLHHHHHHHHHHHHHHHLLHHHHHHHHHHHHHHHHHLLLHHHHHHHHHHHHHHLLHHHHHHHHHHHHHHHHL\n",
      "core.select.residue_selector.SecondaryStructureSelector: Using dssp for secondary structure: LHHHHHHHHHHHHHHHHLLLHHHHHHHHHHHHHHHHHLLLHHHHHHHHHHHHHHHHHHLLHHHHHHHHHHHHHHHHLLLLHHHHHHHHHHHHHHHLLHHHHHHHHHHHHHHHHHLLLHHHHHHHHHHHHHHLLHHHHHHHHHHHHHHHHL\n",
      "core.select.residue_selector.PrimarySequenceNeighborhoodSelector: ]\n",
      "core.select.residue_selector.PrimarySequenceNeighborhoodSelector: ]\n",
      "core.select.residue_selector.SecondaryStructureSelector: Using dssp for secondary structure: LHHHHHHHHHHHHHHHHLLLHHHHHHHHHHHHHHHHHLLLHHHHHHHHHHHHHHHHHHLLHHHHHHHHHHHHHHHHLLLLHHHHHHHHHHHHHHHLLHHHHHHHHHHHHHHHHHLLLHHHHHHHHHHHHHHLLHHHHHHHHHHHHHHHHL\n",
      "core.select.residue_selector.SecondaryStructureSelector: Using dssp for secondary structure: LHHHHHHHHHHHHHHHHLLLHHHHHHHHHHHHHHHHHLLLHHHHHHHHHHHHHHHHHHLLHHHHHHHHHHHHHHHHLLLLHHHHHHHHHHHHHHHLLHHHHHHHHHHHHHHHHHLLLHHHHHHHHHHHHHHLLHHHHHHHHHHHHHHHHL\n",
      "core.select.residue_selector.SecondaryStructureSelector: Using dssp for secondary structure: LHHHHHHHHHHHHHHHHLLLHHHHHHHHHHHHHHHHHLLLHHHHHHHHHHHHHHHHHHLLHHHHHHHHHHHHHHHHLLLLHHHHHHHHHHHHHHHLLHHHHHHHHHHHHHHHHHLLLHHHHHHHHHHHHHHLLHHHHHHHHHHHHHHHHL\n",
      "core.select.residue_selector.SecondaryStructureSelector: Using dssp for secondary structure: LHHHHHHHHHHHHHHHHLLLHHHHHHHHHHHHHHHHHLLLHHHHHHHHHHHHHHHHHHLLHHHHHHHHHHHHHHHHLLLLHHHHHHHHHHHHHHHLLHHHHHHHHHHHHHHHHHLLLHHHHHHHHHHHHHHLLHHHHHHHHHHHHHHHHL\n",
      "core.select.residue_selector.PrimarySequenceNeighborhoodSelector: ]\n",
      "core.select.residue_selector.PrimarySequenceNeighborhoodSelector: ]\n",
      "core.select.residue_selector.SecondaryStructureSelector: Using dssp for secondary structure: LHHHHHHHHHHHHHHHHLLLHHHHHHHHHHHHHHHHHLLLHHHHHHHHHHHHHHHHHHLLHHHHHHHHHHHHHHHHLLLLHHHHHHHHHHHHHHHLLHHHHHHHHHHHHHHHHHLLLHHHHHHHHHHHHHHLLHHHHHHHHHHHHHHHHL\n",
      "core.select.residue_selector.SecondaryStructureSelector: Using dssp for secondary structure: LHHHHHHHHHHHHHHHHLLLHHHHHHHHHHHHHHHHHLLLHHHHHHHHHHHHHHHHHHLLHHHHHHHHHHHHHHHHLLLLHHHHHHHHHHHHHHHLLHHHHHHHHHHHHHHHHHLLLHHHHHHHHHHHHHHLLHHHHHHHHHHHHHHHHL\n",
      "core.select.residue_selector.SecondaryStructureSelector: Using dssp for secondary structure: LHHHHHHHHHHHHHHHHLLLHHHHHHHHHHHHHHHHHLLLHHHHHHHHHHHHHHHHHHLLHHHHHHHHHHHHHHHHLLLLHHHHHHHHHHHHHHHLLHHHHHHHHHHHHHHHHHLLLHHHHHHHHHHHHHHLLHHHHHHHHHHHHHHHHL\n",
      "core.select.residue_selector.SecondaryStructureSelector: Using dssp for secondary structure: LHHHHHHHHHHHHHHHHLLLHHHHHHHHHHHHHHHHHLLLHHHHHHHHHHHHHHHHHHLLHHHHHHHHHHHHHHHHLLLLHHHHHHHHHHHHHHHLLHHHHHHHHHHHHHHHHHLLLHHHHHHHHHHHHHHLLHHHHHHHHHHHHHHHHL\n",
      "core.select.residue_selector.PrimarySequenceNeighborhoodSelector: ]\n",
      "core.select.residue_selector.SecondaryStructureSelector: Using dssp for secondary structure: LHHHHHHHHHHHHHHHHLLLHHHHHHHHHHHHHHHHHLLLHHHHHHHHHHHHHHHHHHLLHHHHHHHHHHHHHHHHLLLLHHHHHHHHHHHHHHHLLHHHHHHHHHHHHHHHHHLLLHHHHHHHHHHHHHHLLHHHHHHHHHHHHHHHHL\n",
      "core.select.residue_selector.SecondaryStructureSelector: Using dssp for secondary structure: LHHHHHHHHHHHHHHHHLLLHHHHHHHHHHHHHHHHHLLLHHHHHHHHHHHHHHHHHHLLHHHHHHHHHHHHHHHHLLLLHHHHHHHHHHHHHHHLLHHHHHHHHHHHHHHHHHLLLHHHHHHHHHHHHHHLLHHHHHHHHHHHHHHHHL\n",
      "core.select.residue_selector.SecondaryStructureSelector: Using dssp for secondary structure: LHHHHHHHHHHHHHHHHLLLHHHHHHHHHHHHHHHHHLLLHHHHHHHHHHHHHHHHHHLLHHHHHHHHHHHHHHHHLLLLHHHHHHHHHHHHHHHLLHHHHHHHHHHHHHHHHHLLLHHHHHHHHHHHHHHLLHHHHHHHHHHHHHHHHL\n",
      "core.select.residue_selector.PrimarySequenceNeighborhoodSelector: ]\n",
      "core.select.residue_selector.PrimarySequenceNeighborhoodSelector: ]\n",
      "core.select.residue_selector.SecondaryStructureSelector: Using dssp for secondary structure: LHHHHHHHHHHHHHHHHLLLHHHHHHHHHHHHHHHHHLLLHHHHHHHHHHHHHHHHHHLLHHHHHHHHHHHHHHHHLLLLHHHHHHHHHHHHHHHLLHHHHHHHHHHHHHHHHHLLLHHHHHHHHHHHHHHLLHHHHHHHHHHHHHHHHL\n",
      "core.select.residue_selector.SecondaryStructureSelector: Using dssp for secondary structure: LHHHHHHHHHHHHHHHHLLLHHHHHHHHHHHHHHHHHLLLHHHHHHHHHHHHHHHHHHLLHHHHHHHHHHHHHHHHLLLLHHHHHHHHHHHHHHHLLHHHHHHHHHHHHHHHHHLLLHHHHHHHHHHHHHHLLHHHHHHHHHHHHHHHHL\n",
      "core.select.residue_selector.SecondaryStructureSelector: Using dssp for secondary structure: LHHHHHHHHHHHHHHHHLLLHHHHHHHHHHHHHHHHHLLLHHHHHHHHHHHHHHHHHHLLHHHHHHHHHHHHHHHHLLLLHHHHHHHHHHHHHHHLLHHHHHHHHHHHHHHHHHLLLHHHHHHHHHHHHHHLLHHHHHHHHHHHHHHHHL\n",
      "core.select.residue_selector.SecondaryStructureSelector: Using dssp for secondary structure: LHHHHHHHHHHHHHHHHLLLHHHHHHHHHHHHHHHHHLLLHHHHHHHHHHHHHHHHHHLLHHHHHHHHHHHHHHHHLLLLHHHHHHHHHHHHHHHLLHHHHHHHHHHHHHHHHHLLLHHHHHHHHHHHHHHLLHHHHHHHHHHHHHHHHL\n",
      "core.select.residue_selector.PrimarySequenceNeighborhoodSelector: ]\n",
      "core.select.residue_selector.PrimarySequenceNeighborhoodSelector: ]\n",
      "core.select.residue_selector.SecondaryStructureSelector: Using dssp for secondary structure: LHHHHHHHHHHHHHHHHLLLHHHHHHHHHHHHHHHHHLLLHHHHHHHHHHHHHHHHHHLLHHHHHHHHHHHHHHHHLLLLHHHHHHHHHHHHHHHLLHHHHHHHHHHHHHHHHHLLLHHHHHHHHHHHHHHLLHHHHHHHHHHHHHHHHL\n",
      "core.select.residue_selector.SecondaryStructureSelector: Using dssp for secondary structure: LHHHHHHHHHHHHHHHHLLLHHHHHHHHHHHHHHHHHLLLHHHHHHHHHHHHHHHHHHLLHHHHHHHHHHHHHHHHLLLLHHHHHHHHHHHHHHHLLHHHHHHHHHHHHHHHHHLLLHHHHHHHHHHHHHHLLHHHHHHHHHHHHHHHHL\n",
      "core.select.residue_selector.SecondaryStructureSelector: Using dssp for secondary structure: LHHHHHHHHHHHHHHHHLLLHHHHHHHHHHHHHHHHHLLLHHHHHHHHHHHHHHHHHHLLHHHHHHHHHHHHHHHHLLLLHHHHHHHHHHHHHHHLLHHHHHHHHHHHHHHHHHLLLHHHHHHHHHHHHHHLLHHHHHHHHHHHHHHHHL\n",
      "core.select.residue_selector.SecondaryStructureSelector: Using dssp for secondary structure: LHHHHHHHHHHHHHHHHLLLHHHHHHHHHHHHHHHHHLLLHHHHHHHHHHHHHHHHHHLLHHHHHHHHHHHHHHHHLLLLHHHHHHHHHHHHHHHLLHHHHHHHHHHHHHHHHHLLLHHHHHHHHHHHHHHLLHHHHHHHHHHHHHHHHL\n",
      "core.select.residue_selector.PrimarySequenceNeighborhoodSelector: ]\n",
      "protocols.task_operations.PruneBuriedUnsatsOperation: Building hbond graph\n",
      "basic.thread_manager.RosettaThreadManager: Creating a thread pool of 1 threads.\n",
      "basic.thread_manager.RosettaThreadPool: Launched 0 new threads.\n",
      "protocols.task_operations.PruneBuriedUnsatsOperation: Hbond graph has: 69909 edges requiring: 21483032 bytes\n",
      "core.chemical.AtomICoor: [ WARNING ] IcoorAtomID::atom_id(): Cannot get atom_id for POLYMER_LOWER of residue LEU 1.  Returning BOGUS ID instead.\n",
      "core.conformation.Residue: [ WARNING ] missing an atom: 1  H   that depends on a nonexistent polymer connection!\n",
      "core.conformation.Residue: [ WARNING ]  --> generating it using idealized coordinates.\n",
      "core.chemical.AtomICoor: [ WARNING ] IcoorAtomID::atom_id(): Cannot get atom_id for POLYMER_LOWER of residue LEU 78.  Returning BOGUS ID instead.\n",
      "core.conformation.Residue: [ WARNING ] missing an atom: 78  H   that depends on a nonexistent polymer connection!\n",
      "core.conformation.Residue: [ WARNING ]  --> generating it using idealized coordinates.\n",
      "core.chemical.AtomICoor: [ WARNING ] IcoorAtomID::atom_id(): Cannot get atom_id for POLYMER_LOWER of residue LEU 133.  Returning BOGUS ID instead.\n",
      "core.conformation.Residue: [ WARNING ] missing an atom: 133  H   that depends on a nonexistent polymer connection!\n",
      "core.conformation.Residue: [ WARNING ]  --> generating it using idealized coordinates.\n",
      "core.scoring.atomic_depth.AtomicDepth: actual boxlength 125, box[125* 88*106], resolution  0.504\n",
      "protocols.task_operations.PruneBuriedUnsatsOperation: Pruned 5831 / 26968 rotamers.\n",
      "core.pack.pack_rotamers: built 21137 rotamers at 31 positions.\n",
      "core.pack.pack_rotamers: Requesting all available threads for interaction graph computation.\n",
      "core.pack.interaction_graph.interaction_graph_factory: Instantiating PDInteractionGraph\n"
     ]
    }
   ],
   "source": [
    "for i, tppose in enumerate(t):\n",
    "    tppose.pose.dump_pdb(f\"{i}.pdb\")"
   ]
  },
  {
   "cell_type": "markdown",
   "metadata": {},
   "source": [
    "test crispy shifty array task utils"
   ]
  },
  {
   "cell_type": "code",
   "execution_count": 7,
   "metadata": {},
   "outputs": [
    {
     "name": "stdout",
     "output_type": "stream",
     "text": [
      "Run the following command with your desired environment active:\n",
      "sbatch -a 1-$(cat /mnt/home/pleung/projects/crispy_shifty/projects/crispy_shifties/test/tasks.cmds | wc -l) /mnt/home/pleung/projects/crispy_shifty/projects/crispy_shifties/test/run.sh\n"
     ]
    }
   ],
   "source": [
    "from crispy_shifty.utils.io import gen_array_tasks\n",
    "\n",
    "simulation_name = \"test\"\n",
    "design_list_file = os.path.join(\n",
    "    os.getcwd(), \"scaffolds/02_make_bound_states/bound_states.list\"\n",
    ")\n",
    "output_path = os.path.join(os.getcwd(), f\"projects/crispy_shifties/{simulation_name}\")\n",
    "options = \" \".join(\n",
    "    [\n",
    "        \"out:level 200\",\n",
    "        # \"indexed_structure_store:fragment_store /home/bcov/sc/scaffold_comparison/data/ss_grouped_vall_all.h5\",\n",
    "    ]\n",
    ")\n",
    "\n",
    "gen_array_tasks(\n",
    "    distribute_func=\"crispy_shifty.utils.io.test_func\",\n",
    "    design_list_file=design_list_file,\n",
    "    output_path=output_path,\n",
    "    queue=\"medium\",\n",
    "    memory=\"4G\",\n",
    "    nstruct=1,\n",
    "    nstruct_per_task=1,\n",
    "    options=options,\n",
    "    simulation_name=simulation_name,\n",
    ")"
   ]
  },
  {
   "cell_type": "code",
   "execution_count": 8,
   "metadata": {},
   "outputs": [
    {
     "name": "stdout",
     "output_type": "stream",
     "text": [
      "Submitted batch job 806707\n"
     ]
    }
   ],
   "source": [
    "!sbatch -a 1-$(cat /mnt/home/pleung/projects/crispy_shifty/projects/crispy_shifties/test/tasks.cmds | wc -l) /mnt/home/pleung/projects/crispy_shifty/projects/crispy_shifties/test/run.sh"
   ]
  },
  {
   "cell_type": "code",
   "execution_count": null,
   "metadata": {},
   "outputs": [],
   "source": []
  }
 ],
 "metadata": {
  "kernelspec": {
   "display_name": "crispy (3.8.12)",
   "language": "python",
   "name": "crispy"
  },
  "language_info": {
   "codemirror_mode": {
    "name": "ipython",
    "version": 3
   },
   "file_extension": ".py",
   "mimetype": "text/x-python",
   "name": "python",
   "nbconvert_exporter": "python",
   "pygments_lexer": "ipython3",
   "version": "3.8.12"
  }
 },
 "nbformat": 4,
 "nbformat_minor": 4
}
