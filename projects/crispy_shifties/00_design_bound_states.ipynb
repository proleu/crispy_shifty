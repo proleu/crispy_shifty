{
 "cells": [
  {
   "cell_type": "markdown",
   "metadata": {},
   "source": [
    "# Make bound and free states from the prepped inputs"
   ]
  },
  {
   "cell_type": "markdown",
   "metadata": {},
   "source": [
    "### Imports"
   ]
  },
  {
   "cell_type": "code",
   "execution_count": 1,
   "metadata": {},
   "outputs": [
    {
     "name": "stdout",
     "output_type": "stream",
     "text": [
      "running in directory: /mnt/home/pleung/projects/crispy_shifty/projects/crispy_shifties\n",
      "running on node: dig139\n"
     ]
    }
   ],
   "source": [
    "%load_ext lab_black\n",
    "# Python standard library\n",
    "from glob import glob\n",
    "import os\n",
    "import socket\n",
    "import sys\n",
    "\n",
    "# 3rd party library imports\n",
    "import dask\n",
    "import matplotlib.pyplot as plt\n",
    "import pandas as pd\n",
    "import pyrosetta\n",
    "import numpy as np\n",
    "import scipy\n",
    "import seaborn as sns\n",
    "from tqdm.auto import tqdm  # jupyter compatible progress bar\n",
    "\n",
    "tqdm.pandas()  # link tqdm to pandas\n",
    "# Notebook magic\n",
    "# save plots in the notebook\n",
    "%matplotlib inline\n",
    "# reloads modules automatically before executing cells\n",
    "%load_ext autoreload\n",
    "%autoreload 2\n",
    "print(f\"running in directory: {os.getcwd()}\")  # where are we?\n",
    "print(f\"running on node: {socket.gethostname()}\")  # what node are we on?"
   ]
  },
  {
   "cell_type": "markdown",
   "metadata": {},
   "source": [
    "### Set working directory to the root of the crispy_shifty repo\n",
    "TODO set to projects dir"
   ]
  },
  {
   "cell_type": "code",
   "execution_count": 2,
   "metadata": {},
   "outputs": [],
   "source": [
    "os.chdir(\"/home/pleung/projects/crispy_shifty\")\n",
    "# os.chdir(\"/projects/crispy_shifty\")"
   ]
  },
  {
   "cell_type": "markdown",
   "metadata": {},
   "source": [
    "### TODO\n",
    "TODO"
   ]
  },
  {
   "cell_type": "code",
   "execution_count": 3,
   "metadata": {},
   "outputs": [],
   "source": [
    "# sys.path.insert(0, os.getcwd())\n",
    "# from crispy_shifty.utils.io import parse_scorefile_linear\n",
    "\n",
    "\n",
    "# def create_tasks(scaffolds, options):\n",
    "#     for scaffold in scaffolds.index:\n",
    "#         # determine where to split the scaffold by counting the number of helixes\n",
    "#         num_helices = len(scaffolds.loc[scaffold][\"topo\"])\n",
    "#         # split even numbers in half\n",
    "#         if num_helices % 2 == 0:\n",
    "#             pre_break_helices = [int(num_helices / 2)]\n",
    "#         # get middle two for odd numbers\n",
    "#         else:\n",
    "#             first_helix = int(num_helices / 2)  # rounds down\n",
    "#             pre_break_helices = [first_helix, first_helix + 1]\n",
    "#         for pre_break_helix in pre_break_helices:\n",
    "#             tasks = {}\n",
    "#             tasks[\"clash_cutoff\"] = 5000\n",
    "#             tasks[\"extra_options\"] = options\n",
    "#             # interfaces must be a ratio of 1:3 or 3:1 between the n and c term halves and the bound helix\n",
    "#             tasks[\"int_cutoff\"] = 0.33\n",
    "#             # get the name of the original design\n",
    "#             tasks[\"name\"] = (\n",
    "#                 scaffolds.loc[scaffold][\"pdb\"].split(\"/\")[-1].replace(\".pdb\", \"\", 1)\n",
    "#             )\n",
    "#             tasks[\"pdb_path\"] = scaffold\n",
    "#             tasks[\"pre_break_helix\"] = pre_break_helix\n",
    "#             yield tasks\n",
    "\n",
    "\n",
    "# scaffolds = parse_scorefile_linear(\n",
    "#     os.path.join(os.getcwd(), \"scaffolds/01_prep_inputs/scores.json\")\n",
    "# )"
   ]
  },
  {
   "cell_type": "markdown",
   "metadata": {},
   "source": [
    "### TODO"
   ]
  },
  {
   "cell_type": "code",
   "execution_count": 4,
   "metadata": {
    "scrolled": true,
    "tags": []
   },
   "outputs": [],
   "source": [
    "# # Python standard library\n",
    "# import os\n",
    "# import pwd\n",
    "# import socket\n",
    "# import sys\n",
    "\n",
    "# # 3rd party library imports\n",
    "# from dask.distributed import Client\n",
    "# from dask_jobqueue import SLURMCluster\n",
    "\n",
    "# # Rosetta library imports\n",
    "# from pyrosetta.distributed.cluster.core import PyRosettaCluster\n",
    "\n",
    "# # Custom library imports\n",
    "# sys.path.insert(0, os.getcwd())\n",
    "# from crispy_shifty.protocols.states import (\n",
    "#     make_bound_states,\n",
    "# )  # the functions we will distribute\n",
    "\n",
    "\n",
    "# print(\n",
    "#     \"run the following from your local terminal to port forward the dashboard to localhost\"\n",
    "# )\n",
    "# print(\n",
    "#     f\"ssh -L 8000:localhost:8787 {pwd.getpwuid(os.getuid()).pw_name}@{socket.gethostname()}\"\n",
    "# )\n",
    "# print(\"dashboard is now visible at localhost:8000\")\n",
    "# print(f\"can also view dashboard at {socket.gethostname()}:8787 without port forwarding\")\n",
    "# options = {\n",
    "#     \"-out:level\": \"200\",  # warning outputs only\n",
    "# }\n",
    "# output_path = os.path.join(os.getcwd(), \"scaffolds/02_make_bound_states\")\n",
    "# os.makedirs(output_path, exist_ok=True)\n",
    "\n",
    "# if __name__ == \"__main__\":\n",
    "#     # configure SLURM cluster as a context manager\n",
    "#     with SLURMCluster(\n",
    "#         cores=1,\n",
    "#         processes=1,\n",
    "#         job_cpu=1,\n",
    "#         memory=\"8GB\",\n",
    "#         queue=\"short\",\n",
    "#         walltime=\"3:00:00\",\n",
    "#         death_timeout=120,\n",
    "#         local_directory=\"$TMPDIR\",  # spill worker litter on local node temp storage\n",
    "#         log_directory=\"/mnt/home/pleung/logs/slurm_logs\",\n",
    "#         extra=[\"--lifetime\", \"3h\", \"--lifetime-stagger\", \"5m\"],\n",
    "#     ) as cluster:\n",
    "#         print(cluster.job_script())\n",
    "#         # scale between 1-150 workers,\n",
    "#         cluster.adapt(\n",
    "#             minimum=1,\n",
    "#             maximum=150,\n",
    "#             wait_count=999,  # Number of consecutive times that a worker should be suggested for removal it is removed\n",
    "#             interval=\"5s\",  # Time between checks\n",
    "#             target_duration=\"60s\",\n",
    "#         )\n",
    "#         # setup a client to interact with the cluster as a context manager\n",
    "#         with Client(cluster) as client:\n",
    "#             print(client)\n",
    "#             client.upload_file(\n",
    "#                 os.path.join(os.getcwd(), \"crispy_shifty/protocols/states.py\")\n",
    "#             )  # upload the script that contains the functions to distribute\n",
    "#             PyRosettaCluster(\n",
    "#                 client=client,\n",
    "#                 logging_level=\"WARNING\",\n",
    "#                 output_path=output_path,\n",
    "#                 project_name=\"crispy_shifty\",\n",
    "#                 scratch_dir=output_path,\n",
    "#                 simulation_name=\"notebooks_02_make_bound_states\",\n",
    "#                 tasks=create_tasks(scaffolds, options),\n",
    "#             ).distribute(protocols=[make_bound_states])\n",
    "#             client.close()\n",
    "#         cluster.scale(0)\n",
    "#         cluster.close()\n",
    "#     print(\"distributed run complete\")"
   ]
  },
  {
   "cell_type": "markdown",
   "metadata": {},
   "source": [
    "### TODO Load resulting scorefiles of bound and free states"
   ]
  },
  {
   "cell_type": "code",
   "execution_count": 5,
   "metadata": {
    "scrolled": true,
    "tags": []
   },
   "outputs": [],
   "source": [
    "# sys.path.insert(0, os.getcwd())\n",
    "# from crispy_shifty.utils.io import parse_scorefile_linear\n",
    "\n",
    "# bound_scores_df = parse_scorefile_linear(\n",
    "#     os.path.join(os.getcwd(), \"scaffolds/02_make_bound_states/scores.json\")\n",
    "# )\n",
    "\n",
    "# free_scores_df = parse_scorefile_linear(\n",
    "#     os.path.join(os.getcwd(), \"scaffolds/02_make_free_states/scores.json\")\n",
    "# )"
   ]
  },
  {
   "cell_type": "markdown",
   "metadata": {},
   "source": [
    "### TODO Save a list of outputs"
   ]
  },
  {
   "cell_type": "code",
   "execution_count": 6,
   "metadata": {},
   "outputs": [],
   "source": [
    "# with open(\n",
    "#     os.path.join(os.getcwd(), \"scaffolds/02_make_bound_states/bound_states.list\"), \"w\"\n",
    "# ) as f:\n",
    "#     for path in tqdm(bound_scores_df.index):\n",
    "#         print(path, file=f)\n",
    "# with open(\n",
    "#     os.path.join(os.getcwd(), \"scaffolds/02_make_free_states/free_states.list\"), \"w\"\n",
    "# ) as f:\n",
    "#     for path in tqdm(free_scores_df.index):\n",
    "#         print(path, file=f)"
   ]
  },
  {
   "cell_type": "markdown",
   "metadata": {},
   "source": [
    "### Unused blocks\n",
    "`\"-indexed_structure_store:fragment_store\": \"/home/bcov/sc/scaffold_comparison/data/ss_grouped_vall_all.h5\",` isn't needed.  \n",
    "`-precompute_ig true \\-precompute_ig true \\`\n",
    "`-indexed_structure_store:fragment_store /net/databases/VALL_clustered/connect_chains/ss_grouped_vall_helix_shortLoop.h5 \\`"
   ]
  },
  {
   "cell_type": "code",
   "execution_count": 7,
   "metadata": {
    "scrolled": true,
    "tags": []
   },
   "outputs": [
    {
     "name": "stdout",
     "output_type": "stream",
     "text": [
      "PyRosetta-4 2021 [Rosetta PyRosetta4.conda.linux.cxx11thread.serialization.CentOS.python38.Release 2021.31+release.c7009b3115c22daa9efe2805d9d1ebba08426a54 2021-08-07T10:04:12] retrieved from: http://www.pyrosetta.org\n",
      "(C) Copyright Rosetta Commons Member Institutions. Created in JHU by Sergey Lyskov and PyRosetta Team.\n",
      "core.init: {0} Checking for fconfig files in pwd and ./rosetta/flags\n",
      "core.init: {0} Rosetta version: PyRosetta4.conda.linux.cxx11thread.serialization.CentOS.python38.Release r292 2021.31+release.c7009b3 c7009b3115c22daa9efe2805d9d1ebba08426a54 http://www.pyrosetta.org 2021-08-07T10:04:12\n",
      "core.init: {0} command: PyRosetta -corrections::beta_nov16 -indexed_structure_store:fragment_store /home/bcov/sc/scaffold_comparison/data/ss_grouped_vall_all.h5 -database /home/pleung/.conda/envs/crispy/lib/python3.8/site-packages/pyrosetta/database\n",
      "basic.random.init_random_generator: {0} 'RNG device' seed mode, using '/dev/urandom', seed=369645880 seed_offset=0 real_seed=369645880 thread_index=0\n",
      "basic.random.init_random_generator: {0} RandomGenerator:init: Normal mode, seed=369645880 RG_type=mt19937\n",
      "CPU times: user 26.7 ms, sys: 4.27 ms, total: 31 ms\n",
      "Wall time: 37.6 ms\n"
     ]
    }
   ],
   "source": [
    "%%time \n",
    "import pyrosetta\n",
    "\n",
    "pyrosetta.init(\n",
    "    \"\\\n",
    "    -corrections::beta_nov16 \\\n",
    "    -indexed_structure_store:fragment_store /home/bcov/sc/scaffold_comparison/data/ss_grouped_vall_all.h5 \"\n",
    ")\n",
    "\n",
    "\n",
    "sys.path.insert(0, \"~/projects/crispy_shifty/\") # TODO projects\n",
    "from crispy_shifty.protocols.design import one_state_design_bound_state\n",
    "\n",
    "t = one_state_design_bound_state(\n",
    "        None,\n",
    "        **{\n",
    "            'pdb_path': '/mnt/home/pleung/projects/crispy_shifty/scaffolds/02_make_bound_states/decoys/0000/notebooks_02_make_bound_states_6f2b82a6c1404a7389d1fe5797fb9176.pdb.bz2',\n",
    "        }\n",
    ")"
   ]
  },
  {
   "cell_type": "code",
   "execution_count": 8,
   "metadata": {
    "scrolled": true
   },
   "outputs": [
    {
     "name": "stdout",
     "output_type": "stream",
     "text": [
      "0.00 min: Generated interface selector\n",
      "core.select.residue_selector.LayerSelector: {0} Setting LayerSelector to use sidechain neighbors to determine burial.\n",
      "core.select.residue_selector.LayerSelector: {0} Set cutoffs for core and surface to 5.2 and 2, respectively, in LayerSelector.\n",
      "core.select.residue_selector.LayerSelector: {0} Setting core=true boundary=false surface=false in LayerSelector.\n",
      "core.select.residue_selector.LayerSelector: {0} Setting LayerSelector to use sidechain neighbors to determine burial.\n",
      "core.select.residue_selector.LayerSelector: {0} Setting LayerSelector to use sidechain neighbors to determine burial.\n",
      "core.select.residue_selector.LayerSelector: {0} Set cutoffs for core and surface to 5.2 and 2, respectively, in LayerSelector.\n",
      "core.select.residue_selector.LayerSelector: {0} Setting core=false boundary=true surface=false in LayerSelector.\n",
      "core.select.residue_selector.LayerSelector: {0} Setting LayerSelector to use sidechain neighbors to determine burial.\n",
      "core.select.residue_selector.LayerSelector: {0} Setting LayerSelector to use sidechain neighbors to determine burial.\n",
      "core.select.residue_selector.LayerSelector: {0} Set cutoffs for core and surface to 5.2 and 2, respectively, in LayerSelector.\n",
      "core.select.residue_selector.LayerSelector: {0} Setting core=false boundary=false surface=true in LayerSelector.\n",
      "core.select.residue_selector.LayerSelector: {0} Setting LayerSelector to use sidechain neighbors to determine burial.\n",
      "basic.io.database: {0} Database file opened: scoring/score_functions/hbonds/ref2015_params/HBPoly1D.csv\n",
      "basic.io.database: {0} Database file opened: scoring/score_functions/hbonds/ref2015_params/HBFadeIntervals.csv\n",
      "basic.io.database: {0} Database file opened: scoring/score_functions/hbonds/ref2015_params/HBEval.csv\n",
      "basic.io.database: {0} Database file opened: scoring/score_functions/hbonds/ref2015_params/DonStrength.csv\n",
      "basic.io.database: {0} Database file opened: scoring/score_functions/hbonds/ref2015_params/AccStrength.csv\n",
      "0.00 min: Generated interface design task factory\n",
      "core.scoring.etable: {0} Starting energy table calculation\n",
      "core.scoring.etable: {0} smooth_etable: changing atr/rep split to bottom of energy well\n",
      "core.scoring.etable: {0} smooth_etable: spline smoothing lj etables (maxdis = 6)\n",
      "core.scoring.etable: {0} smooth_etable: spline smoothing solvation etables (max_dis = 6)\n",
      "core.scoring.etable: {0} Finished calculating energy tables.\n",
      "core.chemical.GlobalResidueTypeSet: {0} Finished initializing fa_standard residue type set.  Created 983 residue types\n",
      "core.chemical.GlobalResidueTypeSet: {0} Total time to initialize 1.31939 seconds.\n",
      "basic.io.database: {0} Database file opened: scoring/score_functions/rama/fd_beta_nov2016/all.ramaProb\n",
      "basic.io.database: {0} Database file opened: scoring/score_functions/rama/fd_beta_nov2016/prepro.ramaProb\n",
      "basic.io.database: {0} Database file opened: scoring/score_functions/omega/omega_ppdep.all.txt\n",
      "basic.io.database: {0} Database file opened: scoring/score_functions/omega/omega_ppdep.gly.txt\n",
      "basic.io.database: {0} Database file opened: scoring/score_functions/omega/omega_ppdep.pro.txt\n",
      "basic.io.database: {0} Database file opened: scoring/score_functions/omega/omega_ppdep.valile.txt\n",
      "basic.io.database: {0} Database file opened: scoring/score_functions/P_AA_pp/P_AA\n",
      "basic.io.database: {0} Database file opened: scoring/score_functions/P_AA_pp/P_AA_n\n",
      "core.scoring.P_AA: {0} shapovalov_lib::shap_p_aa_pp_smooth_level of 1( aka low_smooth ) got activated.\n",
      "basic.io.database: {0} Database file opened: scoring/score_functions/P_AA_pp/shapovalov/10deg/kappa131/a20.prop\n",
      "basic.io.database: {0} Database file opened: scoring/score_functions/bondlength_bondangle/hydroxyl_torsion_preference.txt\n",
      "0.06 min: Generated score functions\n",
      "0.06 min: Generated movemaps\n",
      "core.conformation.Conformation: {0} [ WARNING ] missing heavyatom:  OXT on residue LEU:CtermProteinFull 77\n",
      "core.conformation.Conformation: {0} [ WARNING ] missing heavyatom:  OXT on residue LEU:CtermProteinFull 150\n",
      "select design_sel, (chain A and resid 61,62,65,66,68,69,72,73) or (chain B and resid 80,81,83,84,85,87,88,90,91,94,95,97,100,103,107) or (chain C and resid 133,136,137,140,141,143,144,148)\n",
      "{'bb_clash': '39.48820877075195', 'best_average_DAN_plddts': '0.94140625', 'best_average_plddts': '95.5781062937', 'best_model': '2', 'best_ptm': '0.8570135160000001', 'best_rmsd_to_input': '1.1307091845', 'buns_parent': '0.0', 'docked_helix': '3', 'dslf_fa13': '0.0', 'exposed_hydrophobics_parent': '742.7557373046875', 'fa_atr': '-952.4328631824205', 'fa_dun': '277.6150651452243', 'fa_dun_dev': '22.566758220895796', 'fa_dun_rot': '125.6771810081174', 'fa_dun_semi': '135.28502680613883', 'fa_elec': '-282.2033608643161', 'fa_intra_atr_xover4': '-61.02398186984928', 'fa_intra_elec': '-15.204921676787418', 'fa_intra_rep': '395.9794483518003', 'fa_intra_rep_xover4': '61.98092216938359', 'fa_intra_sol_xover4': '40.031423674400465', 'fa_rep': '2805.56992718213', 'fa_sol': '588.6163769631969', 'geometry_parent': '1.0', 'hbond_bb_sc': '-6.783954689151821', 'hbond_lr_bb': '-3.6967564571132048', 'hbond_sc': '-27.34541019036918', 'hbond_sr_bb': '-111.28877221897723', 'holes_all_parent': '-1.7357901334762573', 'holes_core_parent': '-0.9010522365570068', 'hxl_tors': '4.575411872460611', 'lk_ball': '392.32656985948427', 'lk_ball_bridge': '1.6105254730963108', 'lk_ball_bridge_uncpl': '12.13735680019068', 'lk_ball_iso': '966.6595204055966', 'lk_ball_wtd': '-21.647135892194076', 'mismatch_probability_parent': '0.24956312775611877', 'omega': '14.763996794504866', 'p_aa_pp': '-59.396423075166126', 'packstat_parent': '0.5846342444419861', 'parent': 'JHR_bd4_02262', 'parent_length': '135', 'pdb': '/net/shared/scaffolds/pre_scaffold_DB/drhicks1_JHR/JHR_bd4_02262.pdb', 'pivot_helix': '4', 'pre_break_helix': '4', 'pro_close': '0.4924184003810433', 'rama_prepro': '-47.7331226486428', 'ref': '45.589989999999986', 'sap_parent': '51.26724624633789', 'sc_all_parent': '0.8062247633934021', 'scaffold_type': 'drhicks1_JHR', 'score_per_res_parent': '-3.3872621059417725', 'shift': '-6', 'state': 'JHR_bd4_02262_p_4_s_-6_d_3', 'topo': 'HHHHHHH', 'total_score': '957.6168026179321', 'trimmed_length': '135', 'yhh_planarity': '0.0'}\n",
      "0.00 min: Clearing constraints...complete.\n",
      "0.00 min: Scoring loop distance...complete.\n",
      "0.00 min: Scoring contact molecular surface and shape complementarity..."
     ]
    },
    {
     "ename": "AttributeError",
     "evalue": "'pyrosetta.rosetta.protocols.simple_filters.Contact' object has no attribute 'selector1_'",
     "output_type": "error",
     "traceback": [
      "\u001b[0;31m---------------------------------------------------------------------------\u001b[0m",
      "\u001b[0;31mAttributeError\u001b[0m                            Traceback (most recent call last)",
      "\u001b[0;32m/scratch/pleung/66700476/ipykernel_2082899/2850637085.py\u001b[0m in \u001b[0;36m<module>\u001b[0;34m\u001b[0m\n\u001b[0;32m----> 1\u001b[0;31m \u001b[0;32mfor\u001b[0m \u001b[0mi\u001b[0m\u001b[0;34m,\u001b[0m \u001b[0mtppose\u001b[0m \u001b[0;32min\u001b[0m \u001b[0menumerate\u001b[0m\u001b[0;34m(\u001b[0m\u001b[0mt\u001b[0m\u001b[0;34m)\u001b[0m\u001b[0;34m:\u001b[0m\u001b[0;34m\u001b[0m\u001b[0;34m\u001b[0m\u001b[0m\n\u001b[0m\u001b[1;32m      2\u001b[0m     \u001b[0mtppose\u001b[0m\u001b[0;34m.\u001b[0m\u001b[0mpose\u001b[0m\u001b[0;34m.\u001b[0m\u001b[0mdump_pdb\u001b[0m\u001b[0;34m(\u001b[0m\u001b[0;34mf\"{i}.pdb\"\u001b[0m\u001b[0;34m)\u001b[0m\u001b[0;34m\u001b[0m\u001b[0;34m\u001b[0m\u001b[0m\n",
      "\u001b[0;32m/mnt/home/pleung/projects/crispy_shifty/crispy_shifty/protocols/design.py\u001b[0m in \u001b[0;36mone_state_design_bound_state\u001b[0;34m(packed_pose_in, **kwargs)\u001b[0m\n\u001b[1;32m    890\u001b[0m         \u001b[0mpair_names\u001b[0m \u001b[0;34m=\u001b[0m \u001b[0;34m[\u001b[0m\u001b[0;34m\"AnAc\"\u001b[0m\u001b[0;34m,\u001b[0m \u001b[0;34m\"AnB\"\u001b[0m\u001b[0;34m,\u001b[0m \u001b[0;34m\"AcB\"\u001b[0m\u001b[0;34m,\u001b[0m \u001b[0;34m\"AnAcB\"\u001b[0m\u001b[0;34m]\u001b[0m\u001b[0;34m\u001b[0m\u001b[0;34m\u001b[0m\u001b[0m\n\u001b[1;32m    891\u001b[0m         \u001b[0;32mfor\u001b[0m \u001b[0;34m(\u001b[0m\u001b[0msel_1\u001b[0m\u001b[0;34m,\u001b[0m \u001b[0msel_2\u001b[0m\u001b[0;34m)\u001b[0m\u001b[0;34m,\u001b[0m \u001b[0mname\u001b[0m \u001b[0;32min\u001b[0m \u001b[0mzip\u001b[0m\u001b[0;34m(\u001b[0m\u001b[0mselector_pairs\u001b[0m\u001b[0;34m,\u001b[0m \u001b[0mpair_names\u001b[0m\u001b[0;34m)\u001b[0m\u001b[0;34m:\u001b[0m\u001b[0;34m\u001b[0m\u001b[0;34m\u001b[0m\u001b[0m\n\u001b[0;32m--> 892\u001b[0;31m             \u001b[0mscore_cms\u001b[0m\u001b[0;34m(\u001b[0m\u001b[0mpose\u001b[0m\u001b[0;34m,\u001b[0m \u001b[0msel_1\u001b[0m\u001b[0;34m,\u001b[0m \u001b[0msel_2\u001b[0m\u001b[0;34m,\u001b[0m \u001b[0;34m\"cms_\"\u001b[0m \u001b[0;34m+\u001b[0m \u001b[0mname\u001b[0m\u001b[0;34m)\u001b[0m\u001b[0;34m\u001b[0m\u001b[0;34m\u001b[0m\u001b[0m\n\u001b[0m\u001b[1;32m    893\u001b[0m             \u001b[0mscore_sc\u001b[0m\u001b[0;34m(\u001b[0m\u001b[0mpose\u001b[0m\u001b[0;34m,\u001b[0m \u001b[0msel_1\u001b[0m\u001b[0;34m,\u001b[0m \u001b[0msel_2\u001b[0m\u001b[0;34m,\u001b[0m \u001b[0;34m\"sc_\"\u001b[0m \u001b[0;34m+\u001b[0m \u001b[0mname\u001b[0m\u001b[0;34m)\u001b[0m\u001b[0;34m\u001b[0m\u001b[0;34m\u001b[0m\u001b[0m\n\u001b[1;32m    894\u001b[0m         \u001b[0mprint\u001b[0m\u001b[0;34m(\u001b[0m\u001b[0;34m\"complete.\"\u001b[0m\u001b[0;34m)\u001b[0m\u001b[0;34m\u001b[0m\u001b[0;34m\u001b[0m\u001b[0m\n",
      "\u001b[0;32m/mnt/home/pleung/projects/crispy_shifty/crispy_shifty/protocols/design.py\u001b[0m in \u001b[0;36mscore_cms\u001b[0;34m(pose, sel_1, sel_2, name, filtered_area, distance_weight, quick, use_rosetta_radii)\u001b[0m\n\u001b[1;32m    447\u001b[0m         )\n\u001b[1;32m    448\u001b[0m     )\n\u001b[0;32m--> 449\u001b[0;31m     \u001b[0mcms_filter\u001b[0m\u001b[0;34m.\u001b[0m\u001b[0mselector1_\u001b[0m\u001b[0;34m(\u001b[0m\u001b[0msel_1\u001b[0m\u001b[0;34m)\u001b[0m\u001b[0;34m\u001b[0m\u001b[0;34m\u001b[0m\u001b[0m\n\u001b[0m\u001b[1;32m    450\u001b[0m     \u001b[0mcms_filter\u001b[0m\u001b[0;34m.\u001b[0m\u001b[0mselector2_\u001b[0m\u001b[0;34m(\u001b[0m\u001b[0msel_2\u001b[0m\u001b[0;34m)\u001b[0m\u001b[0;34m\u001b[0m\u001b[0;34m\u001b[0m\u001b[0m\n\u001b[1;32m    451\u001b[0m     \u001b[0mcms_filter\u001b[0m\u001b[0;34m.\u001b[0m\u001b[0mset_user_defined_name\u001b[0m\u001b[0;34m(\u001b[0m\u001b[0mname\u001b[0m\u001b[0;34m)\u001b[0m\u001b[0;34m\u001b[0m\u001b[0;34m\u001b[0m\u001b[0m\n",
      "\u001b[0;31mAttributeError\u001b[0m: 'pyrosetta.rosetta.protocols.simple_filters.Contact' object has no attribute 'selector1_'"
     ]
    }
   ],
   "source": [
    "for i, tppose in enumerate(t):\n",
    "    tppose.pose.dump_pdb(f\"{i}.pdb\")"
   ]
  },
  {
   "cell_type": "code",
   "execution_count": 11,
   "metadata": {},
   "outputs": [
    {
     "ename": "AttributeError",
     "evalue": "type object 'pyrosetta.rosetta.protocols.simple_filters.Contact' has no attribute 'setup_from_selectors'",
     "output_type": "error",
     "traceback": [
      "\u001b[0;31m---------------------------------------------------------------------------\u001b[0m",
      "\u001b[0;31mAttributeError\u001b[0m                            Traceback (most recent call last)",
      "\u001b[0;32m/scratch/pleung/66700476/ipykernel_2082899/423974793.py\u001b[0m in \u001b[0;36m<module>\u001b[0;34m\u001b[0m\n\u001b[0;32m----> 1\u001b[0;31m \u001b[0mcms\u001b[0m \u001b[0;34m=\u001b[0m \u001b[0mpyrosetta\u001b[0m\u001b[0;34m.\u001b[0m\u001b[0mrosetta\u001b[0m\u001b[0;34m.\u001b[0m\u001b[0mprotocols\u001b[0m\u001b[0;34m.\u001b[0m\u001b[0msimple_filters\u001b[0m\u001b[0;34m.\u001b[0m\u001b[0mContactMolecularSurfaceFilter\u001b[0m\u001b[0;34m.\u001b[0m\u001b[0msetup_from_selectors\u001b[0m\u001b[0;34m(\u001b[0m\u001b[0;34m)\u001b[0m\u001b[0;34m\u001b[0m\u001b[0;34m\u001b[0m\u001b[0m\n\u001b[0m",
      "\u001b[0;31mAttributeError\u001b[0m: type object 'pyrosetta.rosetta.protocols.simple_filters.Contact' has no attribute 'setup_from_selectors'"
     ]
    }
   ],
   "source": [
    "cms = pyrosetta.rosetta.protocols.simple_filters.ContactMolecularSurfaceFilter.setup_from_selectors()"
   ]
  },
  {
   "cell_type": "code",
   "execution_count": null,
   "metadata": {},
   "outputs": [],
   "source": []
  }
 ],
 "metadata": {
  "kernelspec": {
   "display_name": "crispy (3.8.10)",
   "language": "python",
   "name": "crispy"
  },
  "language_info": {
   "codemirror_mode": {
    "name": "ipython",
    "version": 3
   },
   "file_extension": ".py",
   "mimetype": "text/x-python",
   "name": "python",
   "nbconvert_exporter": "python",
   "pygments_lexer": "ipython3",
   "version": "3.8.10"
  }
 },
 "nbformat": 4,
 "nbformat_minor": 4
}
