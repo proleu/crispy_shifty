{
 "cells": [
  {
   "cell_type": "markdown",
   "metadata": {},
   "source": [
    "# Design the paired states with sequence symmetry, sampling backbones for MPNN while maintaining sequence realism"
   ]
  },
  {
   "cell_type": "markdown",
   "metadata": {},
   "source": [
    "### Imports"
   ]
  },
  {
   "cell_type": "code",
   "execution_count": 1,
   "metadata": {},
   "outputs": [
    {
     "name": "stdout",
     "output_type": "stream",
     "text": [
      "running in directory: /mnt/home/pleung/projects/crispy_shifty/projects/crispy_shifties\n",
      "running on node: dig135\n"
     ]
    }
   ],
   "source": [
    "%load_ext lab_black\n",
    "# Python standard library\n",
    "from glob import glob\n",
    "import os\n",
    "import socket\n",
    "import sys\n",
    "\n",
    "# 3rd party library imports\n",
    "import dask\n",
    "import matplotlib.pyplot as plt\n",
    "import pandas as pd\n",
    "import pyrosetta\n",
    "import numpy as np\n",
    "import scipy\n",
    "import seaborn as sns\n",
    "from tqdm.auto import tqdm  # jupyter compatible progress bar\n",
    "\n",
    "tqdm.pandas()  # link tqdm to pandas\n",
    "# Notebook magic\n",
    "# save plots in the notebook\n",
    "%matplotlib inline\n",
    "# reloads modules automatically before executing cells\n",
    "%load_ext autoreload\n",
    "%autoreload 2\n",
    "print(f\"running in directory: {os.getcwd()}\")  # where are we?\n",
    "print(f\"running on node: {socket.gethostname()}\")  # what node are we on?"
   ]
  },
  {
   "cell_type": "markdown",
   "metadata": {},
   "source": [
    "### Set working directory to the root of the crispy_shifty repo\n",
    "TODO set to projects dir"
   ]
  },
  {
   "cell_type": "code",
   "execution_count": 2,
   "metadata": {},
   "outputs": [],
   "source": [
    "os.chdir(\"/home/pleung/projects/crispy_shifty\")\n",
    "# os.chdir(\"/projects/crispy_shifty\")"
   ]
  },
  {
   "cell_type": "markdown",
   "metadata": {},
   "source": [
    "### Design the paired states\n",
    "TODO"
   ]
  },
  {
   "cell_type": "code",
   "execution_count": null,
   "metadata": {},
   "outputs": [],
   "source": [
    "from crispy_shifty.utils.io import gen_array_tasks\n",
    "\n",
    "simulation_name = \"05_design_paired_states\"\n",
    "design_list_file = os.path.join(\n",
    "    os.getcwd(),\n",
    "    \"projects/crispy_shifties/04_pair_bound_states/paired_states.list\",\n",
    ")\n",
    "output_path = os.path.join(os.getcwd(), f\"projects/crispy_shifties/{simulation_name}\")\n",
    "\n",
    "options = \" \".join(\n",
    "    [\n",
    "        \"out:level 200\",\n",
    "        \"corrections::beta_nov16 true\",\n",
    "        #         \"indexed_structure_store:fragment_store /net/databases/VALL_clustered/connect_chains/ss_grouped_vall_helix_shortLoop.h5\",\n",
    "    ]\n",
    ")\n",
    "\n",
    "gen_array_tasks(\n",
    "    distribute_func=\"crispy_shifty.protocols.msd.two_state_design_paired_state\",\n",
    "    design_list_file=design_list_file,\n",
    "    output_path=output_path,\n",
    "    queue=\"short\",\n",
    "    memory=\"6G\",\n",
    "    nstruct=1,\n",
    "    nstruct_per_task=1,\n",
    "    options=options,\n",
    "    simulation_name=simulation_name,\n",
    ")"
   ]
  },
  {
   "cell_type": "code",
   "execution_count": 4,
   "metadata": {},
   "outputs": [],
   "source": [
    "# !sbatch -a 1-$(cat /mnt/home/pleung/projects/crispy_shifty/projects/crispy_shifties/02_mpnn_bound_states/tasks.cmds | wc -l) /mnt/home/pleung/projects/crispy_shifty/projects/crispy_shifties/02_mpnn_bound_states/run.sh"
   ]
  },
  {
   "cell_type": "markdown",
   "metadata": {},
   "source": [
    "### Collect scorefiles of designed paired states and concatenate\n",
    "TODO change to projects dir"
   ]
  },
  {
   "cell_type": "code",
   "execution_count": 5,
   "metadata": {
    "scrolled": true,
    "tags": []
   },
   "outputs": [],
   "source": [
    "# sys.path.insert(0, \"~/projects/crispy_shifty\")  # TODO\n",
    "# from crispy_shifty.utils.io import collect_score_file\n",
    "\n",
    "# simulation_name = \"05_design_paired_states\"\n",
    "# output_path = os.path.join(os.getcwd(), f\"projects/crispy_shifties/{simulation_name}\")\n",
    "\n",
    "# if not os.path.exists(os.path.join(output_path, \"scores.json\")):\n",
    "#     collect_score_file(output_path, \"scores\")"
   ]
  },
  {
   "cell_type": "markdown",
   "metadata": {},
   "source": [
    "### Load resulting concatenated scorefile\n",
    "TODO change to projects dir"
   ]
  },
  {
   "cell_type": "code",
   "execution_count": 6,
   "metadata": {
    "scrolled": true,
    "tags": []
   },
   "outputs": [],
   "source": [
    "# sys.path.insert(0, \"~/projects/crispy_shifty\")  # TODO\n",
    "# from crispy_shifty.utils.io import parse_scorefile_linear\n",
    "\n",
    "# output_path = os.path.join(os.getcwd(), f\"projects/crispy_shifties/{simulation_name}\")\n",
    "\n",
    "# scores_df = parse_scorefile_linear(os.path.join(output_path, \"scores.json\"))\n",
    "# scores_df = scores_df.convert_dtypes()"
   ]
  },
  {
   "cell_type": "markdown",
   "metadata": {},
   "source": [
    "### Setup for plotting"
   ]
  },
  {
   "cell_type": "code",
   "execution_count": 7,
   "metadata": {},
   "outputs": [],
   "source": [
    "# sns.set(\n",
    "#     context=\"talk\",\n",
    "#     font_scale=1,  # make the font larger; default is pretty small\n",
    "#     style=\"ticks\",  # make the background white with black lines\n",
    "#     palette=\"colorblind\",  # a color palette that is colorblind friendly!\n",
    "# )"
   ]
  },
  {
   "cell_type": "markdown",
   "metadata": {},
   "source": [
    "### Data exploration\n",
    "Gonna remove the Rosetta sfxn scoreterms for now"
   ]
  },
  {
   "cell_type": "code",
   "execution_count": 8,
   "metadata": {},
   "outputs": [],
   "source": [
    "# from crispy_shifty.protocols.design import beta_nov16_terms\n",
    "\n",
    "# scores_df = scores_df[\n",
    "#     [term for term in scores_df.columns if term not in beta_nov16_terms]\n",
    "# ]\n",
    "# print(len(scores_df))"
   ]
  },
  {
   "cell_type": "code",
   "execution_count": 9,
   "metadata": {},
   "outputs": [],
   "source": [
    "# print(list(scores_df.columns))"
   ]
  },
  {
   "cell_type": "code",
   "execution_count": 10,
   "metadata": {},
   "outputs": [],
   "source": [
    "# from crispy_shifty.plotting.utils import histplot_df, pairplot_df\n",
    "\n",
    "# to_plot = [\n",
    "#     \"bb_clash_delta_x\",\n",
    "#     \"score_per_res_x\",\n",
    "#     \"wnm_all_x\",\n",
    "# ]\n",
    "# print(to_plot)"
   ]
  },
  {
   "cell_type": "markdown",
   "metadata": {},
   "source": [
    "### Filter extreme outliers and changes some dtypes"
   ]
  },
  {
   "cell_type": "code",
   "execution_count": 11,
   "metadata": {},
   "outputs": [],
   "source": [
    "# scores_df[\"score_per_res_x\"] = scores_df[\"score_per_res_x\"].astype(float)\n",
    "\n",
    "# query = \"bb_clash_delta_x < 500 and score_per_res_x < 0 and wnm_all_x < 5\"\n",
    "# sample_df = scores_df.query(query)"
   ]
  },
  {
   "cell_type": "markdown",
   "metadata": {},
   "source": [
    "### Plot loop scores"
   ]
  },
  {
   "cell_type": "code",
   "execution_count": 12,
   "metadata": {},
   "outputs": [],
   "source": [
    "# cols = [\n",
    "#     \"bb_clash_delta_x\",\n",
    "#     \"score_per_res_x\",\n",
    "#     \"wnm_all_x\",\n",
    "# ]\n",
    "# the_fig = histplot_df(\n",
    "#     df=sample_df,\n",
    "#     cols=cols,\n",
    "#     bins=10,\n",
    "#     hue=\"scaffold_type\",\n",
    "# )\n",
    "# plt.savefig(os.path.join(output_path, \"loop_scores.png\"))"
   ]
  },
  {
   "cell_type": "markdown",
   "metadata": {},
   "source": [
    "### Filter out obviously bad decoys"
   ]
  },
  {
   "cell_type": "code",
   "execution_count": 13,
   "metadata": {},
   "outputs": [],
   "source": [
    "# query = \"bb_clash_delta_x < 200 and score_per_res_x < -2 and wnm_all_x < 1\"\n",
    "# filtered = sample_df.query(query)\n",
    "# len(filtered)"
   ]
  },
  {
   "cell_type": "markdown",
   "metadata": {},
   "source": [
    "### Save a list of outputs"
   ]
  },
  {
   "cell_type": "code",
   "execution_count": 14,
   "metadata": {},
   "outputs": [],
   "source": [
    "# simulation_name = \"05_design_paired_states\"\n",
    "# output_path = os.path.join(os.getcwd(), f\"projects/crispy_shifties/{simulation_name}\")\n",
    "\n",
    "# with open(os.path.join(output_path, \"designed_paired_states.list\"), \"w\") as f:\n",
    "#     for path in tqdm(filtered.index):\n",
    "#         print(path, file=f)"
   ]
  },
  {
   "cell_type": "markdown",
   "metadata": {},
   "source": [
    "### Prototyping blocks"
   ]
  },
  {
   "cell_type": "markdown",
   "metadata": {},
   "source": [
    "test `design_paired_state`"
   ]
  },
  {
   "cell_type": "code",
   "execution_count": 15,
   "metadata": {
    "scrolled": true,
    "tags": []
   },
   "outputs": [],
   "source": [
    "# %%time\n",
    "# import pyrosetta\n",
    "\n",
    "# pyrosetta.init(\n",
    "#     \"-corrections::beta_nov16 \\\n",
    "#     -indexed_structure_store:fragment_store /net/databases/VALL_clustered/connect_chains/ss_grouped_vall_helix_shortLoop.h5\"\n",
    "# )\n",
    "\n",
    "# sys.path.insert(0, \"~/projects/crispy_shifty/\") # TODO projects\n",
    "# from crispy_shifty.protocols.msd import two_state_design_paired_state\n",
    "\n",
    "# t = two_state_design_paired_state(\n",
    "#         None,\n",
    "#         **{\n",
    "#             'pdb_path': '/mnt/home/pleung/projects/crispy_shifty/projects/crispy_shifties/04_pair_bound_states/decoys/0001/04_pair_bound_states_331c8b82841d4de280ff3db199bb973f.pdb.bz2'\n",
    "#         }\n",
    "# )\n",
    "# for i, tppose in enumerate(t):\n",
    "#     tppose.pose.dump_pdb(f\"{i}.pdb\")"
   ]
  },
  {
   "cell_type": "code",
   "execution_count": 16,
   "metadata": {
    "scrolled": true
   },
   "outputs": [],
   "source": [
    "# d = dict(tppose.pose.scores)\n",
    "# from crispy_shifty.protocols.design import beta_nov16_terms\n",
    "\n",
    "# d = {k: v for k, v in d.items() if k not in beta_nov16_terms}"
   ]
  },
  {
   "cell_type": "code",
   "execution_count": 17,
   "metadata": {},
   "outputs": [],
   "source": [
    "# d"
   ]
  },
  {
   "cell_type": "markdown",
   "metadata": {},
   "source": [
    "test `almost_linkres`"
   ]
  },
  {
   "cell_type": "code",
   "execution_count": null,
   "metadata": {},
   "outputs": [],
   "source": [
    "from pyrosetta.rosetta.core.select.residue_selector import (\n",
    "    OrResidueSelector,\n",
    "    ResidueIndexSelector,\n",
    ")\n",
    "\n",
    "from crispy_shifty.protocols.design import (\n",
    "    gen_movemap,\n",
    "    gen_std_layer_design,\n",
    "    gen_task_factory,\n",
    ")\n",
    "from crispy_shifty.protocols.msd import almost_linkres\n",
    "\n",
    "pyrosetta.init(\n",
    "    \"-corrections::beta_nov16 true \\\n",
    "    -packing:precompute_ig true \\\n",
    "    \"\n",
    ")\n",
    "\n",
    "mm = gen_movemap()\n",
    "sfxn = pyrosetta.create_score_function(\"beta_nov16.wts\")\n",
    "ld = gen_std_layer_design()\n",
    "\n",
    "# make some silly selectors\n",
    "\n",
    "pose = pyrosetta.io.pose_from_file(\"foo.pdb\")\n",
    "print(pose.chain_end(1))\n",
    "print(pose.chain_end(2))\n",
    "print(pose.chain_end(3))\n",
    "\n",
    "sel1 = ResidueIndexSelector(\"108,109,110,111,112\")\n",
    "sel2 = ResidueIndexSelector(\"362,363,364,365,366\")\n",
    "sel3 = ResidueIndexSelector(\"221,222,223,224,225\")\n",
    "pre_design_sel = OrResidueSelector(sel1, sel2)\n",
    "design_sel = OrResidueSelector(pre_design_sel, sel3)\n",
    "\n",
    "tf = gen_task_factory(\n",
    "    design_sel=design_sel,\n",
    "    layer_design=ld,\n",
    ")\n",
    "\n",
    "tm = almost_linkres(\n",
    "    pose=pose,\n",
    "    movemap=mm,\n",
    "    residue_selectors=[sel1, sel2],\n",
    "    scorefxn=sfxn,\n",
    "    task_factory=tf,\n",
    "    repeats=1,\n",
    ")"
   ]
  },
  {
   "cell_type": "code",
   "execution_count": 19,
   "metadata": {},
   "outputs": [
    {
     "data": {
      "text/plain": [
       "True"
      ]
     },
     "execution_count": 19,
     "metadata": {},
     "output_type": "execute_result"
    }
   ],
   "source": [
    "pose.dump_pdb(\"baz.pdb\")"
   ]
  },
  {
   "cell_type": "code",
   "execution_count": null,
   "metadata": {},
   "outputs": [],
   "source": []
  }
 ],
 "metadata": {
  "kernelspec": {
   "display_name": "crispy (3.8.12)",
   "language": "python",
   "name": "crispy"
  },
  "language_info": {
   "codemirror_mode": {
    "name": "ipython",
    "version": 3
   },
   "file_extension": ".py",
   "mimetype": "text/x-python",
   "name": "python",
   "nbconvert_exporter": "python",
   "pygments_lexer": "ipython3",
   "version": "3.8.12"
  }
 },
 "nbformat": 4,
 "nbformat_minor": 5
}
