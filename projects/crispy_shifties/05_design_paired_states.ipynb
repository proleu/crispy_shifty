{
 "cells": [
  {
   "cell_type": "markdown",
   "metadata": {},
   "source": [
    "# Design the paired states with sequence symmetry, sampling backbones for MPNN while maintaining sequence realism"
   ]
  },
  {
   "cell_type": "markdown",
   "metadata": {},
   "source": [
    "### Imports"
   ]
  },
  {
   "cell_type": "code",
   "execution_count": 1,
   "metadata": {},
   "outputs": [
    {
     "name": "stdout",
     "output_type": "stream",
     "text": [
      "running in directory: /mnt/home/pleung/projects/crispy_shifty/projects/crispy_shifties\n",
      "running on node: dig41\n"
     ]
    }
   ],
   "source": [
    "%load_ext lab_black\n",
    "# Python standard library\n",
    "from glob import glob\n",
    "import os\n",
    "import socket\n",
    "import sys\n",
    "\n",
    "# 3rd party library imports\n",
    "import dask\n",
    "import matplotlib.pyplot as plt\n",
    "import pandas as pd\n",
    "import pyrosetta\n",
    "import numpy as np\n",
    "import scipy\n",
    "import seaborn as sns\n",
    "from tqdm.auto import tqdm  # jupyter compatible progress bar\n",
    "\n",
    "tqdm.pandas()  # link tqdm to pandas\n",
    "# Notebook magic\n",
    "# save plots in the notebook\n",
    "%matplotlib inline\n",
    "# reloads modules automatically before executing cells\n",
    "%load_ext autoreload\n",
    "%autoreload 2\n",
    "print(f\"running in directory: {os.getcwd()}\")  # where are we?\n",
    "print(f\"running on node: {socket.gethostname()}\")  # what node are we on?"
   ]
  },
  {
   "cell_type": "markdown",
   "metadata": {},
   "source": [
    "### Set working directory to the root of the crispy_shifty repo\n",
    "TODO set to projects dir"
   ]
  },
  {
   "cell_type": "code",
   "execution_count": 2,
   "metadata": {},
   "outputs": [],
   "source": [
    "os.chdir(\"/home/pleung/projects/crispy_shifty\")\n",
    "# os.chdir(\"/projects/crispy_shifty\")"
   ]
  },
  {
   "cell_type": "markdown",
   "metadata": {},
   "source": [
    "### Design the paired states\n",
    "TODO"
   ]
  },
  {
   "cell_type": "code",
   "execution_count": 3,
   "metadata": {},
   "outputs": [],
   "source": [
    "# from crispy_shifty.utils.io import gen_array_tasks\n",
    "\n",
    "# simulation_name = \"05_design_paired_states\"\n",
    "# design_list_file = os.path.join(\n",
    "#     os.getcwd(),\n",
    "#     \"projects/crispy_shifties/04_pair_bound_states/paired_states.list\",\n",
    "# )\n",
    "# output_path = os.path.join(os.getcwd(), f\"projects/crispy_shifties/{simulation_name}\")\n",
    "\n",
    "# options = \" \".join(\n",
    "#     [\n",
    "#         \"out:level 200\",\n",
    "#         \"corrections::beta_nov16 true\",\n",
    "# #         \"indexed_structure_store:fragment_store /net/databases/VALL_clustered/connect_chains/ss_grouped_vall_helix_shortLoop.h5\",\n",
    "#     ]\n",
    "# )\n",
    "\n",
    "# gen_array_tasks(\n",
    "#     distribute_func=\"crispy_shifty.protocols.msd.design_paired_state\",\n",
    "#     design_list_file=design_list_file,\n",
    "#     output_path=output_path,\n",
    "#     queue=\"short\",\n",
    "#     memory=\"4G\",\n",
    "#     nstruct=1,\n",
    "#     nstruct_per_task=1,\n",
    "#     options=options,\n",
    "#     simulation_name=simulation_name,\n",
    "# )"
   ]
  },
  {
   "cell_type": "code",
   "execution_count": 4,
   "metadata": {},
   "outputs": [],
   "source": [
    "# !sbatch -a 1-$(cat /mnt/home/pleung/projects/crispy_shifty/projects/crispy_shifties/02_mpnn_bound_states/tasks.cmds | wc -l) /mnt/home/pleung/projects/crispy_shifty/projects/crispy_shifties/02_mpnn_bound_states/run.sh"
   ]
  },
  {
   "cell_type": "markdown",
   "metadata": {},
   "source": [
    "### Collect scorefiles of designed paired states and concatenate\n",
    "TODO change to projects dir"
   ]
  },
  {
   "cell_type": "code",
   "execution_count": 5,
   "metadata": {
    "scrolled": true,
    "tags": []
   },
   "outputs": [],
   "source": [
    "# sys.path.insert(0, \"~/projects/crispy_shifty\")  # TODO\n",
    "# from crispy_shifty.utils.io import collect_score_file\n",
    "\n",
    "# simulation_name = \"05_design_paired_states\"\n",
    "# output_path = os.path.join(os.getcwd(), f\"projects/crispy_shifties/{simulation_name}\")\n",
    "\n",
    "# if not os.path.exists(os.path.join(output_path, \"scores.json\")):\n",
    "#     collect_score_file(output_path, \"scores\")"
   ]
  },
  {
   "cell_type": "markdown",
   "metadata": {},
   "source": [
    "### Load resulting concatenated scorefile\n",
    "TODO change to projects dir"
   ]
  },
  {
   "cell_type": "code",
   "execution_count": 6,
   "metadata": {
    "scrolled": true,
    "tags": []
   },
   "outputs": [],
   "source": [
    "# sys.path.insert(0, \"~/projects/crispy_shifty\")  # TODO\n",
    "# from crispy_shifty.utils.io import parse_scorefile_linear\n",
    "\n",
    "# output_path = os.path.join(os.getcwd(), f\"projects/crispy_shifties/{simulation_name}\")\n",
    "\n",
    "# scores_df = parse_scorefile_linear(os.path.join(output_path, \"scores.json\"))\n",
    "# scores_df = scores_df.convert_dtypes()"
   ]
  },
  {
   "cell_type": "markdown",
   "metadata": {},
   "source": [
    "### Setup for plotting"
   ]
  },
  {
   "cell_type": "code",
   "execution_count": 7,
   "metadata": {},
   "outputs": [],
   "source": [
    "# sns.set(\n",
    "#     context=\"talk\",\n",
    "#     font_scale=1,  # make the font larger; default is pretty small\n",
    "#     style=\"ticks\",  # make the background white with black lines\n",
    "#     palette=\"colorblind\",  # a color palette that is colorblind friendly!\n",
    "# )"
   ]
  },
  {
   "cell_type": "markdown",
   "metadata": {},
   "source": [
    "### Data exploration\n",
    "Gonna remove the Rosetta sfxn scoreterms for now"
   ]
  },
  {
   "cell_type": "code",
   "execution_count": 8,
   "metadata": {},
   "outputs": [],
   "source": [
    "# from crispy_shifty.protocols.design import beta_nov16_terms\n",
    "\n",
    "# scores_df = scores_df[\n",
    "#     [term for term in scores_df.columns if term not in beta_nov16_terms]\n",
    "# ]\n",
    "# print(len(scores_df))"
   ]
  },
  {
   "cell_type": "code",
   "execution_count": 9,
   "metadata": {},
   "outputs": [],
   "source": [
    "# print(list(scores_df.columns))"
   ]
  },
  {
   "cell_type": "code",
   "execution_count": 10,
   "metadata": {},
   "outputs": [],
   "source": [
    "# from crispy_shifty.plotting.utils import histplot_df, pairplot_df\n",
    "\n",
    "# to_plot = [\n",
    "#     \"bb_clash_delta_x\",\n",
    "#     \"score_per_res_x\",\n",
    "#     \"wnm_all_x\",\n",
    "# ]\n",
    "# print(to_plot)"
   ]
  },
  {
   "cell_type": "markdown",
   "metadata": {},
   "source": [
    "### Filter extreme outliers and changes some dtypes"
   ]
  },
  {
   "cell_type": "code",
   "execution_count": 11,
   "metadata": {},
   "outputs": [],
   "source": [
    "# scores_df[\"score_per_res_x\"] = scores_df[\"score_per_res_x\"].astype(float)\n",
    "\n",
    "# query = \"bb_clash_delta_x < 500 and score_per_res_x < 0 and wnm_all_x < 5\"\n",
    "# sample_df = scores_df.query(query)"
   ]
  },
  {
   "cell_type": "markdown",
   "metadata": {},
   "source": [
    "### Plot loop scores"
   ]
  },
  {
   "cell_type": "code",
   "execution_count": 12,
   "metadata": {},
   "outputs": [],
   "source": [
    "# cols = [\n",
    "#     \"bb_clash_delta_x\",\n",
    "#     \"score_per_res_x\",\n",
    "#     \"wnm_all_x\",\n",
    "# ]\n",
    "# the_fig = histplot_df(\n",
    "#     df=sample_df,\n",
    "#     cols=cols,\n",
    "#     bins=10,\n",
    "#     hue=\"scaffold_type\",\n",
    "# )\n",
    "# plt.savefig(os.path.join(output_path, \"loop_scores.png\"))"
   ]
  },
  {
   "cell_type": "markdown",
   "metadata": {},
   "source": [
    "### Filter out obviously bad decoys"
   ]
  },
  {
   "cell_type": "code",
   "execution_count": 13,
   "metadata": {},
   "outputs": [],
   "source": [
    "# query = \"bb_clash_delta_x < 200 and score_per_res_x < -2 and wnm_all_x < 1\"\n",
    "# filtered = sample_df.query(query)\n",
    "# len(filtered)"
   ]
  },
  {
   "cell_type": "markdown",
   "metadata": {},
   "source": [
    "### Save a list of outputs"
   ]
  },
  {
   "cell_type": "code",
   "execution_count": 14,
   "metadata": {},
   "outputs": [],
   "source": [
    "# simulation_name = \"05_design_paired_states\"\n",
    "# output_path = os.path.join(os.getcwd(), f\"projects/crispy_shifties/{simulation_name}\")\n",
    "\n",
    "# with open(os.path.join(output_path, \"designed_paired_states.list\"), \"w\") as f:\n",
    "#     for path in tqdm(filtered.index):\n",
    "#         print(path, file=f)"
   ]
  },
  {
   "cell_type": "markdown",
   "metadata": {},
   "source": [
    "### Prototyping blocks"
   ]
  },
  {
   "cell_type": "markdown",
   "metadata": {},
   "source": [
    "test `design_paired_state`"
   ]
  },
  {
   "cell_type": "code",
   "execution_count": 15,
   "metadata": {
    "tags": []
   },
   "outputs": [
    {
     "name": "stdout",
     "output_type": "stream",
     "text": [
      "PyRosetta-4 2021 [Rosetta PyRosetta4.conda.linux.cxx11thread.serialization.CentOS.python38.Release 2021.50+release.4ff291ed8257ec2d0cd4d96ae4289e1d39ce1007 2021-12-16T00:25:15] retrieved from: http://www.pyrosetta.org\n",
      "(C) Copyright Rosetta Commons Member Institutions. Created in JHU by Sergey Lyskov and PyRosetta Team.\n",
      "core.init: Checking for fconfig files in pwd and ./rosetta/flags\n",
      "core.init: Rosetta version: PyRosetta4.conda.linux.cxx11thread.serialization.CentOS.python38.Release r306 2021.50+release.4ff291e 4ff291ed8257ec2d0cd4d96ae4289e1d39ce1007 http://www.pyrosetta.org 2021-12-16T00:25:15\n",
      "core.init: command: PyRosetta -corrections::beta_nov16 -indexed_structure_store:fragment_store /net/databases/VALL_clustered/connect_chains/ss_grouped_vall_helix_shortLoop.h5 -database /projects/crispy_shifty/envs/crispy/lib/python3.8/site-packages/pyrosetta/database\n",
      "basic.random.init_random_generator: 'RNG device' seed mode, using '/dev/urandom', seed=-631392715 seed_offset=0 real_seed=-631392715 thread_index=0\n",
      "basic.random.init_random_generator: RandomGenerator:init: Normal mode, seed=-631392715 RG_type=mt19937\n",
      "Warning: Use of `pyrosetta.distributed.cluster` namespace requires Anaconda (or Miniconda) to be properly installed for reproducibility of PyRosetta simulations. Please install Anaconda (or Miniconda) onto your system to enable running `which conda`. For installation instructions, visit:\n",
      "https://docs.anaconda.com/anaconda/install\n",
      "\n",
      "core.scoring.etable: Starting energy table calculation\n",
      "core.scoring.etable: smooth_etable: changing atr/rep split to bottom of energy well\n",
      "core.scoring.etable: smooth_etable: spline smoothing lj etables (maxdis = 6)\n",
      "core.scoring.etable: smooth_etable: spline smoothing solvation etables (max_dis = 6)\n"
     ]
    },
    {
     "name": "stderr",
     "output_type": "stream",
     "text": [
      "/projects/crispy_shifty/envs/crispy/lib/python3.8/site-packages/dask_jobqueue/core.py:20: FutureWarning: tmpfile is deprecated and will be removed in a future release. Please use dask.utils.tmpfile instead.\n",
      "  from distributed.utils import tmpfile\n"
     ]
    },
    {
     "name": "stdout",
     "output_type": "stream",
     "text": [
      "core.scoring.etable: Finished calculating energy tables.\n",
      "basic.io.database: Database file opened: scoring/score_functions/hbonds/ref2015_params/HBPoly1D.csv\n",
      "basic.io.database: Database file opened: scoring/score_functions/hbonds/ref2015_params/HBFadeIntervals.csv\n",
      "basic.io.database: Database file opened: scoring/score_functions/hbonds/ref2015_params/HBEval.csv\n",
      "basic.io.database: Database file opened: scoring/score_functions/hbonds/ref2015_params/DonStrength.csv\n",
      "basic.io.database: Database file opened: scoring/score_functions/hbonds/ref2015_params/AccStrength.csv\n",
      "core.chemical.GlobalResidueTypeSet: Finished initializing fa_standard residue type set.  Created 983 residue types\n",
      "core.chemical.GlobalResidueTypeSet: Total time to initialize 1.2887 seconds.\n",
      "basic.io.database: Database file opened: scoring/score_functions/rama/fd_beta_nov2016/all.ramaProb\n",
      "basic.io.database: Database file opened: scoring/score_functions/rama/fd_beta_nov2016/prepro.ramaProb\n",
      "basic.io.database: Database file opened: scoring/score_functions/omega/omega_ppdep.all.txt\n",
      "basic.io.database: Database file opened: scoring/score_functions/omega/omega_ppdep.gly.txt\n",
      "basic.io.database: Database file opened: scoring/score_functions/omega/omega_ppdep.pro.txt\n",
      "basic.io.database: Database file opened: scoring/score_functions/omega/omega_ppdep.valile.txt\n",
      "basic.io.database: Database file opened: scoring/score_functions/P_AA_pp/P_AA\n",
      "basic.io.database: Database file opened: scoring/score_functions/P_AA_pp/P_AA_n\n",
      "core.scoring.P_AA: shapovalov_lib::shap_p_aa_pp_smooth_level of 1( aka low_smooth ) got activated.\n",
      "basic.io.database: Database file opened: scoring/score_functions/P_AA_pp/shapovalov/10deg/kappa131/a20.prop\n",
      "basic.io.database: Database file opened: scoring/score_functions/bondlength_bondangle/hydroxyl_torsion_preference.txt\n",
      "0.06 min: Generated score functions\n",
      "0.06 min: Generated movemaps\n",
      "0.00 min: Generated selectors\n",
      "core.select.residue_selector.LayerSelector: Setting LayerSelector to use sidechain neighbors to determine burial.\n",
      "core.select.residue_selector.LayerSelector: Set cutoffs for core and surface to 5.2 and 2, respectively, in LayerSelector.\n",
      "core.select.residue_selector.LayerSelector: Setting core=true boundary=false surface=false in LayerSelector.\n",
      "core.select.residue_selector.LayerSelector: Setting LayerSelector to use sidechain neighbors to determine burial.\n",
      "core.select.residue_selector.LayerSelector: Setting LayerSelector to use sidechain neighbors to determine burial.\n",
      "core.select.residue_selector.LayerSelector: Set cutoffs for core and surface to 5.2 and 2, respectively, in LayerSelector.\n",
      "core.select.residue_selector.LayerSelector: Setting core=false boundary=true surface=false in LayerSelector.\n",
      "core.select.residue_selector.LayerSelector: Setting LayerSelector to use sidechain neighbors to determine burial.\n",
      "core.select.residue_selector.LayerSelector: Setting LayerSelector to use sidechain neighbors to determine burial.\n",
      "core.select.residue_selector.LayerSelector: Set cutoffs for core and surface to 5.2 and 2, respectively, in LayerSelector.\n",
      "core.select.residue_selector.LayerSelector: Setting core=false boundary=false surface=true in LayerSelector.\n",
      "core.select.residue_selector.LayerSelector: Setting LayerSelector to use sidechain neighbors to determine burial.\n",
      "0.00 min: Generated interface design task factory\n",
      "0.00 min: Starting 1 round of fixbb msd with neighborhood\n",
      "\n",
      "    <RESIDUE_SELECTORS>\n",
      "        <Index name=\"sel_0\" resnums=1,2,3,4,5,6,7,8,9,10,11,12,13,14,15,16,17,18,19,20,21,22,23,24,25,26,27,28,29,30,31,32,33,34,35,36,37,38,39,40,41,42,43,44,45,46,47,48,49,50,51,52,53,54,55,56,57,58,59,60,61,62,63,64,65,66,67,68,69,70,71,72,73,74,75,76,77,78,79,80,81,82,83,84,85,86,87,88,89,90,91,92,93,94,95,96,97,98,99,100,101,102,103,104,105,106,107,108,109,110,111,112,113,114,115,116,117,118,119,120,121,122,123,124,125,126,127,128,129,130,131,132,133,134,135,136,137,138,139,140,141,142,143,144,145,146,147,148,149,150,151,152,153,154,155,156,157,158,159,160,161,162,163,164,165,166,167,168,169,170,171,172,173,174,175,176,177,178,179,180,181,182,183,184,185,186,187,188,189,190,191,192,193,194,195,196,197,198,199,200,201,202,203,204,205,206,207,208,209,210,211,212,213,214,215,216,217,218,219,220 />\n",
      "<Index name=\"sel_1\" resnums=255,256,257,258,259,260,261,262,263,264,265,266,267,268,269,270,271,272,273,274,275,276,277,278,279,280,281,282,283,284,285,286,287,288,289,290,291,292,293,294,295,296,297,298,299,300,301,302,303,304,305,306,307,308,309,310,311,312,313,314,315,316,317,318,319,320,321,322,323,324,325,326,327,328,329,330,331,332,333,334,335,336,337,338,339,340,341,342,343,344,345,346,347,348,349,350,351,352,353,354,355,356,357,358,359,360,361,362,363,364,365,366,367,368,369,370,371,372,373,374,375,376,377,378,379,380,381,382,383,384,385,386,387,388,389,390,391,392,393,394,395,396,397,398,399,400,401,402,403,404,405,406,407,408,409,410,411,412,413,414,415,416,417,418,419,420,421,422,423,424,425,426,427,428,429,430,431,432,433,434,435,436,437,438,439,440,441,442,443,444,445,446,447,448,449,450,451,452,453,454,455,456,457,458,459,460,461,462,463,464,465,466,467,468,469,470,471,472,473,474 />\n",
      "    </RESIDUE_SELECTORS>\n",
      "    <MOVERS>\n",
      "        <SetupForSequenceSymmetryMover name=\"almost_linkres\" sequence_symmetry_behaviour=\"2state\" >\n",
      "            <SequenceSymmetry residue_selectors=\"sel_0,sel_1\" />\n",
      "        </SetupForSequenceSymmetryMover>\n",
      "    </MOVERS>\n",
      "    \n",
      "protocols.rosetta_scripts.RosettaScriptsParser: Validating input script...\n",
      "protocols.rosetta_scripts.RosettaScriptsSchemaValidator: Generating XML Schema for rosetta_scripts...\n",
      "protocols.rosetta_scripts.RosettaScriptsSchemaValidator: ...done\n",
      "protocols.rosetta_scripts.RosettaScriptsSchemaValidator: Initializing schema validator...\n",
      "protocols.rosetta_scripts.RosettaScriptsSchemaValidator: ...done\n",
      "protocols.rosetta_scripts.XmlObjects: \n",
      "\n",
      "File: /home/benchmark/rosetta/source/src/protocols/rosetta_scripts/RosettaScriptsParser.cc:1192\n",
      "Input rosetta scripts XML file \"XmlString (not real file)\" failed to validate against the rosetta scripts schema. Use the option -parser::output_schema <output filename> to output the schema to a file to see all valid options.\n",
      "Your XML has failed validation.  The error message below will tell you where in your XML file the error occurred.  Here's how to fix it:\n",
      "\n",
      "1) If the validation fails on something obvious, like an illegal attribute due to a spelling error (perhaps you used scorefnction instead of scorefunction), then you need to fix your XML file.\n",
      "2) If you haven't run the XML rewriter script and this might be pre-2017 Rosetta XML, run the rewriter script (tools/xsd_xrw/rewrite_rosetta_script.py) on your input XML first.  The attribute values not being in quotes (scorefunction=talaris2014 instead of scorefunction=\"talaris2014\") is a good indicator that this is your problem.\n",
      "3) If you are a developer and neither 1 nor 2 worked - email the developer's mailing list or try Slack.\n",
      "4) If you are an academic or commercial user - try the Rosetta Forums https://www.rosettacommons.org/forum\n",
      "\n",
      "\n",
      "Error messages were:\n",
      "Error: AttValue: \" or ' expected\n",
      "\n",
      "1: <ROSETTASCRIPTS>\n",
      "2: \n",
      "3:     <RESIDUE_SELECTORS>\n",
      "4:         <Index name=\"sel_0\" resnums=1,2,3,4,5,6,7,8,9,10,11,12,13,14,15,16,17,18,19,20,21,22,23,24,25,26,27,28,29,30,31,32,33,34,35,36,37,38,39,40,41,42,43,44,45,46,47,48,49,50,51,52,53,54,55,56,57,58,59,60,61,62,63,64,65,66,67,68,69,70,71,72,73,74,75,76,77,78,79,80,81,82,83,84,85,86,87,88,89,90,91,92,93,94,95,96,97,98,99,100,101,102,103,104,105,106,107,108,109,110,111,112,113,114,115,116,117,118,119,120,121,122,123,124,125,126,127,128,129,130,131,132,133,134,135,136,137,138,139,140,141,142,143,144,145,146,147,148,149,150,151,152,153,154,155,156,157,158,159,160,161,162,163,164,165,166,167,168,169,170,171,172,173,174,175,176,177,178,179,180,181,182,183,184,185,186,187,188,189,190,191,192,193,194,195,196,197,198,199,200,201,202,203,204,205,206,207,208,209,210,211,212,213,214,215,216,217,218,219,220 />\n",
      "5: <Index name=\"sel_1\" resnums=255,256,257,258,259,260,261,262,263,264,265,266,267,268,269,270,271,272,273,274,275,276,277,278,279,280,281,282,283,284,285,286,287,288,289,290,291,292,293,294,295,296,297,298,299,300,301,302,303,304,305,306,307,308,309,310,311,312,313,314,315,316,317,318,319,320,321,322,323,324,325,326,327,328,329,330,331,332,333,334,335,336,337,338,339,340,341,342,343,344,345,346,347,348,349,350,351,352,353,354,355,356,357,358,359,360,361,362,363,364,365,366,367,368,369,370,371,372,373,374,375,376,377,378,379,380,381,382,383,384,385,386,387,388,389,390,391,392,393,394,395,396,397,398,399,400,401,402,403,404,405,406,407,408,409,410,411,412,413,414,415,416,417,418,419,420,421,422,423,424,425,426,427,428,429,430,431,432,433,434,435,436,437,438,439,440,441,442,443,444,445,446,447,448,449,450,451,452,453,454,455,456,457,458,459,460,461,462,463,464,465,466,467,468,469,470,471,472,473,474 />\n",
      "6:     </RESIDUE_SELECTORS>\n",
      "7:     <MOVERS>\n",
      "8:         <SetupForSequenceSymmetryMover name=\"almost_linkres\" sequence_symmetry_behaviour=\"2state\" >\n",
      "9:             <SequenceSymmetry residue_selectors=\"sel_0,sel_1\" />\n",
      "Error: attributes construct error\n",
      "\n",
      "1: <ROSETTASCRIPTS>\n",
      "2: \n",
      "3:     <RESIDUE_SELECTORS>\n",
      "4:         <Index name=\"sel_0\" resnums=1,2,3,4,5,6,7,8,9,10,11,12,13,14,15,16,17,18,19,20,21,22,23,24,25,26,27,28,29,30,31,32,33,34,35,36,37,38,39,40,41,42,43,44,45,46,47,48,49,50,51,52,53,54,55,56,57,58,59,60,61,62,63,64,65,66,67,68,69,70,71,72,73,74,75,76,77,78,79,80,81,82,83,84,85,86,87,88,89,90,91,92,93,94,95,96,97,98,99,100,101,102,103,104,105,106,107,108,109,110,111,112,113,114,115,116,117,118,119,120,121,122,123,124,125,126,127,128,129,130,131,132,133,134,135,136,137,138,139,140,141,142,143,144,145,146,147,148,149,150,151,152,153,154,155,156,157,158,159,160,161,162,163,164,165,166,167,168,169,170,171,172,173,174,175,176,177,178,179,180,181,182,183,184,185,186,187,188,189,190,191,192,193,194,195,196,197,198,199,200,201,202,203,204,205,206,207,208,209,210,211,212,213,214,215,216,217,218,219,220 />\n",
      "5: <Index name=\"sel_1\" resnums=255,256,257,258,259,260,261,262,263,264,265,266,267,268,269,270,271,272,273,274,275,276,277,278,279,280,281,282,283,284,285,286,287,288,289,290,291,292,293,294,295,296,297,298,299,300,301,302,303,304,305,306,307,308,309,310,311,312,313,314,315,316,317,318,319,320,321,322,323,324,325,326,327,328,329,330,331,332,333,334,335,336,337,338,339,340,341,342,343,344,345,346,347,348,349,350,351,352,353,354,355,356,357,358,359,360,361,362,363,364,365,366,367,368,369,370,371,372,373,374,375,376,377,378,379,380,381,382,383,384,385,386,387,388,389,390,391,392,393,394,395,396,397,398,399,400,401,402,403,404,405,406,407,408,409,410,411,412,413,414,415,416,417,418,419,420,421,422,423,424,425,426,427,428,429,430,431,432,433,434,435,436,437,438,439,440,441,442,443,444,445,446,447,448,449,450,451,452,453,454,455,456,457,458,459,460,461,462,463,464,465,466,467,468,469,470,471,472,473,474 />\n",
      "6:     </RESIDUE_SELECTORS>\n",
      "7:     <MOVERS>\n",
      "8:         <SetupForSequenceSymmetryMover name=\"almost_linkres\" sequence_symmetry_behaviour=\"2state\" >\n",
      "9:             <SequenceSymmetry residue_selectors=\"sel_0,sel_1\" />\n",
      "Error: Couldn't find end of Start Tag Index line 4\n",
      "\n",
      "1: <ROSETTASCRIPTS>\n",
      "2: \n",
      "3:     <RESIDUE_SELECTORS>\n",
      "4:         <Index name=\"sel_0\" resnums=1,2,3,4,5,6,7,8,9,10,11,12,13,14,15,16,17,18,19,20,21,22,23,24,25,26,27,28,29,30,31,32,33,34,35,36,37,38,39,40,41,42,43,44,45,46,47,48,49,50,51,52,53,54,55,56,57,58,59,60,61,62,63,64,65,66,67,68,69,70,71,72,73,74,75,76,77,78,79,80,81,82,83,84,85,86,87,88,89,90,91,92,93,94,95,96,97,98,99,100,101,102,103,104,105,106,107,108,109,110,111,112,113,114,115,116,117,118,119,120,121,122,123,124,125,126,127,128,129,130,131,132,133,134,135,136,137,138,139,140,141,142,143,144,145,146,147,148,149,150,151,152,153,154,155,156,157,158,159,160,161,162,163,164,165,166,167,168,169,170,171,172,173,174,175,176,177,178,179,180,181,182,183,184,185,186,187,188,189,190,191,192,193,194,195,196,197,198,199,200,201,202,203,204,205,206,207,208,209,210,211,212,213,214,215,216,217,218,219,220 />\n",
      "5: <Index name=\"sel_1\" resnums=255,256,257,258,259,260,261,262,263,264,265,266,267,268,269,270,271,272,273,274,275,276,277,278,279,280,281,282,283,284,285,286,287,288,289,290,291,292,293,294,295,296,297,298,299,300,301,302,303,304,305,306,307,308,309,310,311,312,313,314,315,316,317,318,319,320,321,322,323,324,325,326,327,328,329,330,331,332,333,334,335,336,337,338,339,340,341,342,343,344,345,346,347,348,349,350,351,352,353,354,355,356,357,358,359,360,361,362,363,364,365,366,367,368,369,370,371,372,373,374,375,376,377,378,379,380,381,382,383,384,385,386,387,388,389,390,391,392,393,394,395,396,397,398,399,400,401,402,403,404,405,406,407,408,409,410,411,412,413,414,415,416,417,418,419,420,421,422,423,424,425,426,427,428,429,430,431,432,433,434,435,436,437,438,439,440,441,442,443,444,445,446,447,448,449,450,451,452,453,454,455,456,457,458,459,460,461,462,463,464,465,466,467,468,469,470,471,472,473,474 />\n",
      "6:     </RESIDUE_SELECTORS>\n",
      "7:     <MOVERS>\n",
      "8:         <SetupForSequenceSymmetryMover name=\"almost_linkres\" sequence_symmetry_behaviour=\"2state\" >\n",
      "9:             <SequenceSymmetry residue_selectors=\"sel_0,sel_1\" />\n",
      "Error: AttValue: \" or ' expected\n",
      "\n",
      " 1: <ROSETTASCRIPTS>\n",
      " 2: \n",
      " 3:     <RESIDUE_SELECTORS>\n",
      " 4:         <Index name=\"sel_0\" resnums=1,2,3,4,5,6,7,8,9,10,11,12,13,14,15,16,17,18,19,20,21,22,23,24,25,26,27,28,29,30,31,32,33,34,35,36,37,38,39,40,41,42,43,44,45,46,47,48,49,50,51,52,53,54,55,56,57,58,59,60,61,62,63,64,65,66,67,68,69,70,71,72,73,74,75,76,77,78,79,80,81,82,83,84,85,86,87,88,89,90,91,92,93,94,95,96,97,98,99,100,101,102,103,104,105,106,107,108,109,110,111,112,113,114,115,116,117,118,119,120,121,122,123,124,125,126,127,128,129,130,131,132,133,134,135,136,137,138,139,140,141,142,143,144,145,146,147,148,149,150,151,152,153,154,155,156,157,158,159,160,161,162,163,164,165,166,167,168,169,170,171,172,173,174,175,176,177,178,179,180,181,182,183,184,185,186,187,188,189,190,191,192,193,194,195,196,197,198,199,200,201,202,203,204,205,206,207,208,209,210,211,212,213,214,215,216,217,218,219,220 />\n",
      " 5: <Index name=\"sel_1\" resnums=255,256,257,258,259,260,261,262,263,264,265,266,267,268,269,270,271,272,273,274,275,276,277,278,279,280,281,282,283,284,285,286,287,288,289,290,291,292,293,294,295,296,297,298,299,300,301,302,303,304,305,306,307,308,309,310,311,312,313,314,315,316,317,318,319,320,321,322,323,324,325,326,327,328,329,330,331,332,333,334,335,336,337,338,339,340,341,342,343,344,345,346,347,348,349,350,351,352,353,354,355,356,357,358,359,360,361,362,363,364,365,366,367,368,369,370,371,372,373,374,375,376,377,378,379,380,381,382,383,384,385,386,387,388,389,390,391,392,393,394,395,396,397,398,399,400,401,402,403,404,405,406,407,408,409,410,411,412,413,414,415,416,417,418,419,420,421,422,423,424,425,426,427,428,429,430,431,432,433,434,435,436,437,438,439,440,441,442,443,444,445,446,447,448,449,450,451,452,453,454,455,456,457,458,459,460,461,462,463,464,465,466,467,468,469,470,471,472,473,474 />\n",
      " 6:     </RESIDUE_SELECTORS>\n",
      " 7:     <MOVERS>\n",
      " 8:         <SetupForSequenceSymmetryMover name=\"almost_linkres\" sequence_symmetry_behaviour=\"2state\" >\n",
      " 9:             <SequenceSymmetry residue_selectors=\"sel_0,sel_1\" />\n",
      "10:         </SetupForSequenceSymmetryMover>\n",
      "Error: attributes construct error\n",
      "\n",
      " 1: <ROSETTASCRIPTS>\n",
      " 2: \n",
      " 3:     <RESIDUE_SELECTORS>\n",
      " 4:         <Index name=\"sel_0\" resnums=1,2,3,4,5,6,7,8,9,10,11,12,13,14,15,16,17,18,19,20,21,22,23,24,25,26,27,28,29,30,31,32,33,34,35,36,37,38,39,40,41,42,43,44,45,46,47,48,49,50,51,52,53,54,55,56,57,58,59,60,61,62,63,64,65,66,67,68,69,70,71,72,73,74,75,76,77,78,79,80,81,82,83,84,85,86,87,88,89,90,91,92,93,94,95,96,97,98,99,100,101,102,103,104,105,106,107,108,109,110,111,112,113,114,115,116,117,118,119,120,121,122,123,124,125,126,127,128,129,130,131,132,133,134,135,136,137,138,139,140,141,142,143,144,145,146,147,148,149,150,151,152,153,154,155,156,157,158,159,160,161,162,163,164,165,166,167,168,169,170,171,172,173,174,175,176,177,178,179,180,181,182,183,184,185,186,187,188,189,190,191,192,193,194,195,196,197,198,199,200,201,202,203,204,205,206,207,208,209,210,211,212,213,214,215,216,217,218,219,220 />\n",
      " 5: <Index name=\"sel_1\" resnums=255,256,257,258,259,260,261,262,263,264,265,266,267,268,269,270,271,272,273,274,275,276,277,278,279,280,281,282,283,284,285,286,287,288,289,290,291,292,293,294,295,296,297,298,299,300,301,302,303,304,305,306,307,308,309,310,311,312,313,314,315,316,317,318,319,320,321,322,323,324,325,326,327,328,329,330,331,332,333,334,335,336,337,338,339,340,341,342,343,344,345,346,347,348,349,350,351,352,353,354,355,356,357,358,359,360,361,362,363,364,365,366,367,368,369,370,371,372,373,374,375,376,377,378,379,380,381,382,383,384,385,386,387,388,389,390,391,392,393,394,395,396,397,398,399,400,401,402,403,404,405,406,407,408,409,410,411,412,413,414,415,416,417,418,419,420,421,422,423,424,425,426,427,428,429,430,431,432,433,434,435,436,437,438,439,440,441,442,443,444,445,446,447,448,449,450,451,452,453,454,455,456,457,458,459,460,461,462,463,464,465,466,467,468,469,470,471,472,473,474 />\n",
      " 6:     </RESIDUE_SELECTORS>\n",
      " 7:     <MOVERS>\n",
      " 8:         <SetupForSequenceSymmetryMover name=\"almost_linkres\" sequence_symmetry_behaviour=\"2state\" >\n",
      " 9:             <SequenceSymmetry residue_selectors=\"sel_0,sel_1\" />\n",
      "10:         </SetupForSequenceSymmetryMover>\n",
      "Error: Couldn't find end of Start Tag Index line 5\n",
      "\n",
      " 1: <ROSETTASCRIPTS>\n",
      " 2: \n",
      " 3:     <RESIDUE_SELECTORS>\n",
      " 4:         <Index name=\"sel_0\" resnums=1,2,3,4,5,6,7,8,9,10,11,12,13,14,15,16,17,18,19,20,21,22,23,24,25,26,27,28,29,30,31,32,33,34,35,36,37,38,39,40,41,42,43,44,45,46,47,48,49,50,51,52,53,54,55,56,57,58,59,60,61,62,63,64,65,66,67,68,69,70,71,72,73,74,75,76,77,78,79,80,81,82,83,84,85,86,87,88,89,90,91,92,93,94,95,96,97,98,99,100,101,102,103,104,105,106,107,108,109,110,111,112,113,114,115,116,117,118,119,120,121,122,123,124,125,126,127,128,129,130,131,132,133,134,135,136,137,138,139,140,141,142,143,144,145,146,147,148,149,150,151,152,153,154,155,156,157,158,159,160,161,162,163,164,165,166,167,168,169,170,171,172,173,174,175,176,177,178,179,180,181,182,183,184,185,186,187,188,189,190,191,192,193,194,195,196,197,198,199,200,201,202,203,204,205,206,207,208,209,210,211,212,213,214,215,216,217,218,219,220 />\n",
      " 5: <Index name=\"sel_1\" resnums=255,256,257,258,259,260,261,262,263,264,265,266,267,268,269,270,271,272,273,274,275,276,277,278,279,280,281,282,283,284,285,286,287,288,289,290,291,292,293,294,295,296,297,298,299,300,301,302,303,304,305,306,307,308,309,310,311,312,313,314,315,316,317,318,319,320,321,322,323,324,325,326,327,328,329,330,331,332,333,334,335,336,337,338,339,340,341,342,343,344,345,346,347,348,349,350,351,352,353,354,355,356,357,358,359,360,361,362,363,364,365,366,367,368,369,370,371,372,373,374,375,376,377,378,379,380,381,382,383,384,385,386,387,388,389,390,391,392,393,394,395,396,397,398,399,400,401,402,403,404,405,406,407,408,409,410,411,412,413,414,415,416,417,418,419,420,421,422,423,424,425,426,427,428,429,430,431,432,433,434,435,436,437,438,439,440,441,442,443,444,445,446,447,448,449,450,451,452,453,454,455,456,457,458,459,460,461,462,463,464,465,466,467,468,469,470,471,472,473,474 />\n",
      " 6:     </RESIDUE_SELECTORS>\n",
      " 7:     <MOVERS>\n",
      " 8:         <SetupForSequenceSymmetryMover name=\"almost_linkres\" sequence_symmetry_behaviour=\"2state\" >\n",
      " 9:             <SequenceSymmetry residue_selectors=\"sel_0,sel_1\" />\n",
      "10:         </SetupForSequenceSymmetryMover>\n",
      "------------------------------------------------------------\n",
      "Warning messages were:\n",
      "------------------------------------------------------------\n",
      "protocols.rosetta_scripts.XmlObjects: Error creating parsed protocol.\n"
     ]
    },
    {
     "ename": "RuntimeError",
     "evalue": "\n\nFile: /home/benchmark/rosetta/source/src/protocols/rosetta_scripts/RosettaScriptsParser.cc:1192\nInput rosetta scripts XML file \"XmlString (not real file)\" failed to validate against the rosetta scripts schema. Use the option -parser::output_schema <output filename> to output the schema to a file to see all valid options.\nYour XML has failed validation.  The error message below will tell you where in your XML file the error occurred.  Here's how to fix it:\n\n1) If the validation fails on something obvious, like an illegal attribute due to a spelling error (perhaps you used scorefnction instead of scorefunction), then you need to fix your XML file.\n2) If you haven't run the XML rewriter script and this might be pre-2017 Rosetta XML, run the rewriter script (tools/xsd_xrw/rewrite_rosetta_script.py) on your input XML first.  The attribute values not being in quotes (scorefunction=talaris2014 instead of scorefunction=\"talaris2014\") is a good indicator that this is your problem.\n3) If you are a developer and neither 1 nor 2 worked - email the developer's mailing list or try Slack.\n4) If you are an academic or commercial user - try the Rosetta Forums https://www.rosettacommons.org/forum\n\n\nError messages were:\nError: AttValue: \" or ' expected\n\n1: <ROSETTASCRIPTS>\n2: \n3:     <RESIDUE_SELECTORS>\n4:         <Index name=\"sel_0\" resnums=1,2,3,4,5,6,7,8,9,10,11,12,13,14,15,16,17,18,19,20,21,22,23,24,25,26,27,28,29,30,31,32,33,34,35,36,37,38,39,40,41,42,43,44,45,46,47,48,49,50,51,52,53,54,55,56,57,58,59,60,61,62,63,64,65,66,67,68,69,70,71,72,73,74,75,76,77,78,79,80,81,82,83,84,85,86,87,88,89,90,91,92,93,94,95,96,97,98,99,100,101,102,103,104,105,106,107,108,109,110,111,112,113,114,115,116,117,118,119,120,121,122,123,124,125,126,127,128,129,130,131,132,133,134,135,136,137,138,139,140,141,142,143,144,145,146,147,148,149,150,151,152,153,154,155,156,157,158,159,160,161,162,163,164,165,166,167,168,169,170,171,172,173,174,175,176,177,178,179,180,181,182,183,184,185,186,187,188,189,190,191,192,193,194,195,196,197,198,199,200,201,202,203,204,205,206,207,208,209,210,211,212,213,214,215,216,217,218,219,220 />\n5: <Index name=\"sel_1\" resnums=255,256,257,258,259,260,261,262,263,264,265,266,267,268,269,270,271,272,273,274,275,276,277,278,279,280,281,282,283,284,285,286,287,288,289,290,291,292,293,294,295,296,297,298,299,300,301,302,303,304,305,306,307,308,309,310,311,312,313,314,315,316,317,318,319,320,321,322,323,324,325,326,327,328,329,330,331,332,333,334,335,336,337,338,339,340,341,342,343,344,345,346,347,348,349,350,351,352,353,354,355,356,357,358,359,360,361,362,363,364,365,366,367,368,369,370,371,372,373,374,375,376,377,378,379,380,381,382,383,384,385,386,387,388,389,390,391,392,393,394,395,396,397,398,399,400,401,402,403,404,405,406,407,408,409,410,411,412,413,414,415,416,417,418,419,420,421,422,423,424,425,426,427,428,429,430,431,432,433,434,435,436,437,438,439,440,441,442,443,444,445,446,447,448,449,450,451,452,453,454,455,456,457,458,459,460,461,462,463,464,465,466,467,468,469,470,471,472,473,474 />\n6:     </RESIDUE_SELECTORS>\n7:     <MOVERS>\n8:         <SetupForSequenceSymmetryMover name=\"almost_linkres\" sequence_symmetry_behaviour=\"2state\" >\n9:             <SequenceSymmetry residue_selectors=\"sel_0,sel_1\" />\nError: attributes construct error\n\n1: <ROSETTASCRIPTS>\n2: \n3:     <RESIDUE_SELECTORS>\n4:         <Index name=\"sel_0\" resnums=1,2,3,4,5,6,7,8,9,10,11,12,13,14,15,16,17,18,19,20,21,22,23,24,25,26,27,28,29,30,31,32,33,34,35,36,37,38,39,40,41,42,43,44,45,46,47,48,49,50,51,52,53,54,55,56,57,58,59,60,61,62,63,64,65,66,67,68,69,70,71,72,73,74,75,76,77,78,79,80,81,82,83,84,85,86,87,88,89,90,91,92,93,94,95,96,97,98,99,100,101,102,103,104,105,106,107,108,109,110,111,112,113,114,115,116,117,118,119,120,121,122,123,124,125,126,127,128,129,130,131,132,133,134,135,136,137,138,139,140,141,142,143,144,145,146,147,148,149,150,151,152,153,154,155,156,157,158,159,160,161,162,163,164,165,166,167,168,169,170,171,172,173,174,175,176,177,178,179,180,181,182,183,184,185,186,187,188,189,190,191,192,193,194,195,196,197,198,199,200,201,202,203,204,205,206,207,208,209,210,211,212,213,214,215,216,217,218,219,220 />\n5: <Index name=\"sel_1\" resnums=255,256,257,258,259,260,261,262,263,264,265,266,267,268,269,270,271,272,273,274,275,276,277,278,279,280,281,282,283,284,285,286,287,288,289,290,291,292,293,294,295,296,297,298,299,300,301,302,303,304,305,306,307,308,309,310,311,312,313,314,315,316,317,318,319,320,321,322,323,324,325,326,327,328,329,330,331,332,333,334,335,336,337,338,339,340,341,342,343,344,345,346,347,348,349,350,351,352,353,354,355,356,357,358,359,360,361,362,363,364,365,366,367,368,369,370,371,372,373,374,375,376,377,378,379,380,381,382,383,384,385,386,387,388,389,390,391,392,393,394,395,396,397,398,399,400,401,402,403,404,405,406,407,408,409,410,411,412,413,414,415,416,417,418,419,420,421,422,423,424,425,426,427,428,429,430,431,432,433,434,435,436,437,438,439,440,441,442,443,444,445,446,447,448,449,450,451,452,453,454,455,456,457,458,459,460,461,462,463,464,465,466,467,468,469,470,471,472,473,474 />\n6:     </RESIDUE_SELECTORS>\n7:     <MOVERS>\n8:         <SetupForSequenceSymmetryMover name=\"almost_linkres\" sequence_symmetry_behaviour=\"2state\" >\n9:             <SequenceSymmetry residue_selectors=\"sel_0,sel_1\" />\nError: Couldn't find end of Start Tag Index line 4\n\n1: <ROSETTASCRIPTS>\n2: \n3:     <RESIDUE_SELECTORS>\n4:         <Index name=\"sel_0\" resnums=1,2,3,4,5,6,7,8,9,10,11,12,13,14,15,16,17,18,19,20,21,22,23,24,25,26,27,28,29,30,31,32,33,34,35,36,37,38,39,40,41,42,43,44,45,46,47,48,49,50,51,52,53,54,55,56,57,58,59,60,61,62,63,64,65,66,67,68,69,70,71,72,73,74,75,76,77,78,79,80,81,82,83,84,85,86,87,88,89,90,91,92,93,94,95,96,97,98,99,100,101,102,103,104,105,106,107,108,109,110,111,112,113,114,115,116,117,118,119,120,121,122,123,124,125,126,127,128,129,130,131,132,133,134,135,136,137,138,139,140,141,142,143,144,145,146,147,148,149,150,151,152,153,154,155,156,157,158,159,160,161,162,163,164,165,166,167,168,169,170,171,172,173,174,175,176,177,178,179,180,181,182,183,184,185,186,187,188,189,190,191,192,193,194,195,196,197,198,199,200,201,202,203,204,205,206,207,208,209,210,211,212,213,214,215,216,217,218,219,220 />\n5: <Index name=\"sel_1\" resnums=255,256,257,258,259,260,261,262,263,264,265,266,267,268,269,270,271,272,273,274,275,276,277,278,279,280,281,282,283,284,285,286,287,288,289,290,291,292,293,294,295,296,297,298,299,300,301,302,303,304,305,306,307,308,309,310,311,312,313,314,315,316,317,318,319,320,321,322,323,324,325,326,327,328,329,330,331,332,333,334,335,336,337,338,339,340,341,342,343,344,345,346,347,348,349,350,351,352,353,354,355,356,357,358,359,360,361,362,363,364,365,366,367,368,369,370,371,372,373,374,375,376,377,378,379,380,381,382,383,384,385,386,387,388,389,390,391,392,393,394,395,396,397,398,399,400,401,402,403,404,405,406,407,408,409,410,411,412,413,414,415,416,417,418,419,420,421,422,423,424,425,426,427,428,429,430,431,432,433,434,435,436,437,438,439,440,441,442,443,444,445,446,447,448,449,450,451,452,453,454,455,456,457,458,459,460,461,462,463,464,465,466,467,468,469,470,471,472,473,474 />\n6:     </RESIDUE_SELECTORS>\n7:     <MOVERS>\n8:         <SetupForSequenceSymmetryMover name=\"almost_linkres\" sequence_symmetry_behaviour=\"2state\" >\n9:             <SequenceSymmetry residue_selectors=\"sel_0,sel_1\" />\nError: AttValue: \" or ' expected\n\n 1: <ROSETTASCRIPTS>\n 2: \n 3:     <RESIDUE_SELECTORS>\n 4:         <Index name=\"sel_0\" resnums=1,2,3,4,5,6,7,8,9,10,11,12,13,14,15,16,17,18,19,20,21,22,23,24,25,26,27,28,29,30,31,32,33,34,35,36,37,38,39,40,41,42,43,44,45,46,47,48,49,50,51,52,53,54,55,56,57,58,59,60,61,62,63,64,65,66,67,68,69,70,71,72,73,74,75,76,77,78,79,80,81,82,83,84,85,86,87,88,89,90,91,92,93,94,95,96,97,98,99,100,101,102,103,104,105,106,107,108,109,110,111,112,113,114,115,116,117,118,119,120,121,122,123,124,125,126,127,128,129,130,131,132,133,134,135,136,137,138,139,140,141,142,143,144,145,146,147,148,149,150,151,152,153,154,155,156,157,158,159,160,161,162,163,164,165,166,167,168,169,170,171,172,173,174,175,176,177,178,179,180,181,182,183,184,185,186,187,188,189,190,191,192,193,194,195,196,197,198,199,200,201,202,203,204,205,206,207,208,209,210,211,212,213,214,215,216,217,218,219,220 />\n 5: <Index name=\"sel_1\" resnums=255,256,257,258,259,260,261,262,263,264,265,266,267,268,269,270,271,272,273,274,275,276,277,278,279,280,281,282,283,284,285,286,287,288,289,290,291,292,293,294,295,296,297,298,299,300,301,302,303,304,305,306,307,308,309,310,311,312,313,314,315,316,317,318,319,320,321,322,323,324,325,326,327,328,329,330,331,332,333,334,335,336,337,338,339,340,341,342,343,344,345,346,347,348,349,350,351,352,353,354,355,356,357,358,359,360,361,362,363,364,365,366,367,368,369,370,371,372,373,374,375,376,377,378,379,380,381,382,383,384,385,386,387,388,389,390,391,392,393,394,395,396,397,398,399,400,401,402,403,404,405,406,407,408,409,410,411,412,413,414,415,416,417,418,419,420,421,422,423,424,425,426,427,428,429,430,431,432,433,434,435,436,437,438,439,440,441,442,443,444,445,446,447,448,449,450,451,452,453,454,455,456,457,458,459,460,461,462,463,464,465,466,467,468,469,470,471,472,473,474 />\n 6:     </RESIDUE_SELECTORS>\n 7:     <MOVERS>\n 8:         <SetupForSequenceSymmetryMover name=\"almost_linkres\" sequence_symmetry_behaviour=\"2state\" >\n 9:             <SequenceSymmetry residue_selectors=\"sel_0,sel_1\" />\n10:         </SetupForSequenceSymmetryMover>\nError: attributes construct error\n\n 1: <ROSETTASCRIPTS>\n 2: \n 3:     <RESIDUE_SELECTORS>\n 4:         <Index name=\"sel_0\" resnums=1,2,3,4,5,6,7,8,9,10,11,12,13,14,15,16,17,18,19,20,21,22,23,24,25,26,27,28,29,30,31,32,33,34,35,36,37,38,39,40,41,42,43,44,45,46,47,48,49,50,51,52,53,54,55,56,57,58,59,60,61,62,63,64,65,66,67,68,69,70,71,72,73,74,75,76,77,78,79,80,81,82,83,84,85,86,87,88,89,90,91,92,93,94,95,96,97,98,99,100,101,102,103,104,105,106,107,108,109,110,111,112,113,114,115,116,117,118,119,120,121,122,123,124,125,126,127,128,129,130,131,132,133,134,135,136,137,138,139,140,141,142,143,144,145,146,147,148,149,150,151,152,153,154,155,156,157,158,159,160,161,162,163,164,165,166,167,168,169,170,171,172,173,174,175,176,177,178,179,180,181,182,183,184,185,186,187,188,189,190,191,192,193,194,195,196,197,198,199,200,201,202,203,204,205,206,207,208,209,210,211,212,213,214,215,216,217,218,219,220 />\n 5: <Index name=\"sel_1\" resnums=255,256,257,258,259,260,261,262,263,264,265,266,267,268,269,270,271,272,273,274,275,276,277,278,279,280,281,282,283,284,285,286,287,288,289,290,291,292,293,294,295,296,297,298,299,300,301,302,303,304,305,306,307,308,309,310,311,312,313,314,315,316,317,318,319,320,321,322,323,324,325,326,327,328,329,330,331,332,333,334,335,336,337,338,339,340,341,342,343,344,345,346,347,348,349,350,351,352,353,354,355,356,357,358,359,360,361,362,363,364,365,366,367,368,369,370,371,372,373,374,375,376,377,378,379,380,381,382,383,384,385,386,387,388,389,390,391,392,393,394,395,396,397,398,399,400,401,402,403,404,405,406,407,408,409,410,411,412,413,414,415,416,417,418,419,420,421,422,423,424,425,426,427,428,429,430,431,432,433,434,435,436,437,438,439,440,441,442,443,444,445,446,447,448,449,450,451,452,453,454,455,456,457,458,459,460,461,462,463,464,465,466,467,468,469,470,471,472,473,474 />\n 6:     </RESIDUE_SELECTORS>\n 7:     <MOVERS>\n 8:         <SetupForSequenceSymmetryMover name=\"almost_linkres\" sequence_symmetry_behaviour=\"2state\" >\n 9:             <SequenceSymmetry residue_selectors=\"sel_0,sel_1\" />\n10:         </SetupForSequenceSymmetryMover>\nError: Couldn't find end of Start Tag Index line 5\n\n 1: <ROSETTASCRIPTS>\n 2: \n 3:     <RESIDUE_SELECTORS>\n 4:         <Index name=\"sel_0\" resnums=1,2,3,4,5,6,7,8,9,10,11,12,13,14,15,16,17,18,19,20,21,22,23,24,25,26,27,28,29,30,31,32,33,34,35,36,37,38,39,40,41,42,43,44,45,46,47,48,49,50,51,52,53,54,55,56,57,58,59,60,61,62,63,64,65,66,67,68,69,70,71,72,73,74,75,76,77,78,79,80,81,82,83,84,85,86,87,88,89,90,91,92,93,94,95,96,97,98,99,100,101,102,103,104,105,106,107,108,109,110,111,112,113,114,115,116,117,118,119,120,121,122,123,124,125,126,127,128,129,130,131,132,133,134,135,136,137,138,139,140,141,142,143,144,145,146,147,148,149,150,151,152,153,154,155,156,157,158,159,160,161,162,163,164,165,166,167,168,169,170,171,172,173,174,175,176,177,178,179,180,181,182,183,184,185,186,187,188,189,190,191,192,193,194,195,196,197,198,199,200,201,202,203,204,205,206,207,208,209,210,211,212,213,214,215,216,217,218,219,220 />\n 5: <Index name=\"sel_1\" resnums=255,256,257,258,259,260,261,262,263,264,265,266,267,268,269,270,271,272,273,274,275,276,277,278,279,280,281,282,283,284,285,286,287,288,289,290,291,292,293,294,295,296,297,298,299,300,301,302,303,304,305,306,307,308,309,310,311,312,313,314,315,316,317,318,319,320,321,322,323,324,325,326,327,328,329,330,331,332,333,334,335,336,337,338,339,340,341,342,343,344,345,346,347,348,349,350,351,352,353,354,355,356,357,358,359,360,361,362,363,364,365,366,367,368,369,370,371,372,373,374,375,376,377,378,379,380,381,382,383,384,385,386,387,388,389,390,391,392,393,394,395,396,397,398,399,400,401,402,403,404,405,406,407,408,409,410,411,412,413,414,415,416,417,418,419,420,421,422,423,424,425,426,427,428,429,430,431,432,433,434,435,436,437,438,439,440,441,442,443,444,445,446,447,448,449,450,451,452,453,454,455,456,457,458,459,460,461,462,463,464,465,466,467,468,469,470,471,472,473,474 />\n 6:     </RESIDUE_SELECTORS>\n 7:     <MOVERS>\n 8:         <SetupForSequenceSymmetryMover name=\"almost_linkres\" sequence_symmetry_behaviour=\"2state\" >\n 9:             <SequenceSymmetry residue_selectors=\"sel_0,sel_1\" />\n10:         </SetupForSequenceSymmetryMover>\n------------------------------------------------------------\nWarning messages were:\n------------------------------------------------------------\n",
     "output_type": "error",
     "traceback": [
      "\u001b[0;31m---------------------------------------------------------------------------\u001b[0m",
      "\u001b[0;31mRuntimeError\u001b[0m                              Traceback (most recent call last)",
      "\u001b[0;32m<timed exec>\u001b[0m in \u001b[0;36m<module>\u001b[0;34m\u001b[0m\n",
      "\u001b[0;32m/mnt/home/pleung/projects/crispy_shifty/crispy_shifty/protocols/msd.py\u001b[0m in \u001b[0;36mtwo_state_design_paired_state\u001b[0;34m(packed_pose_in, **kwargs)\u001b[0m\n\u001b[1;32m    203\u001b[0m             \u001b[0mstart_time\u001b[0m\u001b[0;34m=\u001b[0m\u001b[0mstart_time\u001b[0m\u001b[0;34m,\u001b[0m\u001b[0;34m\u001b[0m\u001b[0;34m\u001b[0m\u001b[0m\n\u001b[1;32m    204\u001b[0m         )\n\u001b[0;32m--> 205\u001b[0;31m         almost_linkres(\n\u001b[0m\u001b[1;32m    206\u001b[0m             \u001b[0mpose\u001b[0m\u001b[0;34m=\u001b[0m\u001b[0mpose\u001b[0m\u001b[0;34m,\u001b[0m\u001b[0;34m\u001b[0m\u001b[0;34m\u001b[0m\u001b[0m\n\u001b[1;32m    207\u001b[0m             \u001b[0mmovemap\u001b[0m\u001b[0;34m=\u001b[0m\u001b[0mfixbb_mm\u001b[0m\u001b[0;34m,\u001b[0m\u001b[0;34m\u001b[0m\u001b[0;34m\u001b[0m\u001b[0m\n",
      "\u001b[0;32m/mnt/home/pleung/projects/crispy_shifty/crispy_shifty/protocols/msd.py\u001b[0m in \u001b[0;36malmost_linkres\u001b[0;34m(pose, movemap, residue_selectors, scorefxn, task_factory, repeats)\u001b[0m\n\u001b[1;32m     68\u001b[0m     \u001b[0mprint\u001b[0m\u001b[0;34m(\u001b[0m\u001b[0mxml_string\u001b[0m\u001b[0;34m)\u001b[0m \u001b[0;31m# TODO\u001b[0m\u001b[0;34m\u001b[0m\u001b[0;34m\u001b[0m\u001b[0m\n\u001b[1;32m     69\u001b[0m     \u001b[0;31m# setup the SetupForSequenceSymmetryMover using the residue selectors\u001b[0m\u001b[0;34m\u001b[0m\u001b[0;34m\u001b[0m\u001b[0;34m\u001b[0m\u001b[0m\n\u001b[0;32m---> 70\u001b[0;31m     objs = pyrosetta.rosetta.protocols.rosetta_scripts.XmlObjects.create_from_string(\n\u001b[0m\u001b[1;32m     71\u001b[0m         \u001b[0mxml_string\u001b[0m\u001b[0;34m\u001b[0m\u001b[0;34m\u001b[0m\u001b[0m\n\u001b[1;32m     72\u001b[0m     )\n",
      "\u001b[0;31mRuntimeError\u001b[0m: \n\nFile: /home/benchmark/rosetta/source/src/protocols/rosetta_scripts/RosettaScriptsParser.cc:1192\nInput rosetta scripts XML file \"XmlString (not real file)\" failed to validate against the rosetta scripts schema. Use the option -parser::output_schema <output filename> to output the schema to a file to see all valid options.\nYour XML has failed validation.  The error message below will tell you where in your XML file the error occurred.  Here's how to fix it:\n\n1) If the validation fails on something obvious, like an illegal attribute due to a spelling error (perhaps you used scorefnction instead of scorefunction), then you need to fix your XML file.\n2) If you haven't run the XML rewriter script and this might be pre-2017 Rosetta XML, run the rewriter script (tools/xsd_xrw/rewrite_rosetta_script.py) on your input XML first.  The attribute values not being in quotes (scorefunction=talaris2014 instead of scorefunction=\"talaris2014\") is a good indicator that this is your problem.\n3) If you are a developer and neither 1 nor 2 worked - email the developer's mailing list or try Slack.\n4) If you are an academic or commercial user - try the Rosetta Forums https://www.rosettacommons.org/forum\n\n\nError messages were:\nError: AttValue: \" or ' expected\n\n1: <ROSETTASCRIPTS>\n2: \n3:     <RESIDUE_SELECTORS>\n4:         <Index name=\"sel_0\" resnums=1,2,3,4,5,6,7,8,9,10,11,12,13,14,15,16,17,18,19,20,21,22,23,24,25,26,27,28,29,30,31,32,33,34,35,36,37,38,39,40,41,42,43,44,45,46,47,48,49,50,51,52,53,54,55,56,57,58,59,60,61,62,63,64,65,66,67,68,69,70,71,72,73,74,75,76,77,78,79,80,81,82,83,84,85,86,87,88,89,90,91,92,93,94,95,96,97,98,99,100,101,102,103,104,105,106,107,108,109,110,111,112,113,114,115,116,117,118,119,120,121,122,123,124,125,126,127,128,129,130,131,132,133,134,135,136,137,138,139,140,141,142,143,144,145,146,147,148,149,150,151,152,153,154,155,156,157,158,159,160,161,162,163,164,165,166,167,168,169,170,171,172,173,174,175,176,177,178,179,180,181,182,183,184,185,186,187,188,189,190,191,192,193,194,195,196,197,198,199,200,201,202,203,204,205,206,207,208,209,210,211,212,213,214,215,216,217,218,219,220 />\n5: <Index name=\"sel_1\" resnums=255,256,257,258,259,260,261,262,263,264,265,266,267,268,269,270,271,272,273,274,275,276,277,278,279,280,281,282,283,284,285,286,287,288,289,290,291,292,293,294,295,296,297,298,299,300,301,302,303,304,305,306,307,308,309,310,311,312,313,314,315,316,317,318,319,320,321,322,323,324,325,326,327,328,329,330,331,332,333,334,335,336,337,338,339,340,341,342,343,344,345,346,347,348,349,350,351,352,353,354,355,356,357,358,359,360,361,362,363,364,365,366,367,368,369,370,371,372,373,374,375,376,377,378,379,380,381,382,383,384,385,386,387,388,389,390,391,392,393,394,395,396,397,398,399,400,401,402,403,404,405,406,407,408,409,410,411,412,413,414,415,416,417,418,419,420,421,422,423,424,425,426,427,428,429,430,431,432,433,434,435,436,437,438,439,440,441,442,443,444,445,446,447,448,449,450,451,452,453,454,455,456,457,458,459,460,461,462,463,464,465,466,467,468,469,470,471,472,473,474 />\n6:     </RESIDUE_SELECTORS>\n7:     <MOVERS>\n8:         <SetupForSequenceSymmetryMover name=\"almost_linkres\" sequence_symmetry_behaviour=\"2state\" >\n9:             <SequenceSymmetry residue_selectors=\"sel_0,sel_1\" />\nError: attributes construct error\n\n1: <ROSETTASCRIPTS>\n2: \n3:     <RESIDUE_SELECTORS>\n4:         <Index name=\"sel_0\" resnums=1,2,3,4,5,6,7,8,9,10,11,12,13,14,15,16,17,18,19,20,21,22,23,24,25,26,27,28,29,30,31,32,33,34,35,36,37,38,39,40,41,42,43,44,45,46,47,48,49,50,51,52,53,54,55,56,57,58,59,60,61,62,63,64,65,66,67,68,69,70,71,72,73,74,75,76,77,78,79,80,81,82,83,84,85,86,87,88,89,90,91,92,93,94,95,96,97,98,99,100,101,102,103,104,105,106,107,108,109,110,111,112,113,114,115,116,117,118,119,120,121,122,123,124,125,126,127,128,129,130,131,132,133,134,135,136,137,138,139,140,141,142,143,144,145,146,147,148,149,150,151,152,153,154,155,156,157,158,159,160,161,162,163,164,165,166,167,168,169,170,171,172,173,174,175,176,177,178,179,180,181,182,183,184,185,186,187,188,189,190,191,192,193,194,195,196,197,198,199,200,201,202,203,204,205,206,207,208,209,210,211,212,213,214,215,216,217,218,219,220 />\n5: <Index name=\"sel_1\" resnums=255,256,257,258,259,260,261,262,263,264,265,266,267,268,269,270,271,272,273,274,275,276,277,278,279,280,281,282,283,284,285,286,287,288,289,290,291,292,293,294,295,296,297,298,299,300,301,302,303,304,305,306,307,308,309,310,311,312,313,314,315,316,317,318,319,320,321,322,323,324,325,326,327,328,329,330,331,332,333,334,335,336,337,338,339,340,341,342,343,344,345,346,347,348,349,350,351,352,353,354,355,356,357,358,359,360,361,362,363,364,365,366,367,368,369,370,371,372,373,374,375,376,377,378,379,380,381,382,383,384,385,386,387,388,389,390,391,392,393,394,395,396,397,398,399,400,401,402,403,404,405,406,407,408,409,410,411,412,413,414,415,416,417,418,419,420,421,422,423,424,425,426,427,428,429,430,431,432,433,434,435,436,437,438,439,440,441,442,443,444,445,446,447,448,449,450,451,452,453,454,455,456,457,458,459,460,461,462,463,464,465,466,467,468,469,470,471,472,473,474 />\n6:     </RESIDUE_SELECTORS>\n7:     <MOVERS>\n8:         <SetupForSequenceSymmetryMover name=\"almost_linkres\" sequence_symmetry_behaviour=\"2state\" >\n9:             <SequenceSymmetry residue_selectors=\"sel_0,sel_1\" />\nError: Couldn't find end of Start Tag Index line 4\n\n1: <ROSETTASCRIPTS>\n2: \n3:     <RESIDUE_SELECTORS>\n4:         <Index name=\"sel_0\" resnums=1,2,3,4,5,6,7,8,9,10,11,12,13,14,15,16,17,18,19,20,21,22,23,24,25,26,27,28,29,30,31,32,33,34,35,36,37,38,39,40,41,42,43,44,45,46,47,48,49,50,51,52,53,54,55,56,57,58,59,60,61,62,63,64,65,66,67,68,69,70,71,72,73,74,75,76,77,78,79,80,81,82,83,84,85,86,87,88,89,90,91,92,93,94,95,96,97,98,99,100,101,102,103,104,105,106,107,108,109,110,111,112,113,114,115,116,117,118,119,120,121,122,123,124,125,126,127,128,129,130,131,132,133,134,135,136,137,138,139,140,141,142,143,144,145,146,147,148,149,150,151,152,153,154,155,156,157,158,159,160,161,162,163,164,165,166,167,168,169,170,171,172,173,174,175,176,177,178,179,180,181,182,183,184,185,186,187,188,189,190,191,192,193,194,195,196,197,198,199,200,201,202,203,204,205,206,207,208,209,210,211,212,213,214,215,216,217,218,219,220 />\n5: <Index name=\"sel_1\" resnums=255,256,257,258,259,260,261,262,263,264,265,266,267,268,269,270,271,272,273,274,275,276,277,278,279,280,281,282,283,284,285,286,287,288,289,290,291,292,293,294,295,296,297,298,299,300,301,302,303,304,305,306,307,308,309,310,311,312,313,314,315,316,317,318,319,320,321,322,323,324,325,326,327,328,329,330,331,332,333,334,335,336,337,338,339,340,341,342,343,344,345,346,347,348,349,350,351,352,353,354,355,356,357,358,359,360,361,362,363,364,365,366,367,368,369,370,371,372,373,374,375,376,377,378,379,380,381,382,383,384,385,386,387,388,389,390,391,392,393,394,395,396,397,398,399,400,401,402,403,404,405,406,407,408,409,410,411,412,413,414,415,416,417,418,419,420,421,422,423,424,425,426,427,428,429,430,431,432,433,434,435,436,437,438,439,440,441,442,443,444,445,446,447,448,449,450,451,452,453,454,455,456,457,458,459,460,461,462,463,464,465,466,467,468,469,470,471,472,473,474 />\n6:     </RESIDUE_SELECTORS>\n7:     <MOVERS>\n8:         <SetupForSequenceSymmetryMover name=\"almost_linkres\" sequence_symmetry_behaviour=\"2state\" >\n9:             <SequenceSymmetry residue_selectors=\"sel_0,sel_1\" />\nError: AttValue: \" or ' expected\n\n 1: <ROSETTASCRIPTS>\n 2: \n 3:     <RESIDUE_SELECTORS>\n 4:         <Index name=\"sel_0\" resnums=1,2,3,4,5,6,7,8,9,10,11,12,13,14,15,16,17,18,19,20,21,22,23,24,25,26,27,28,29,30,31,32,33,34,35,36,37,38,39,40,41,42,43,44,45,46,47,48,49,50,51,52,53,54,55,56,57,58,59,60,61,62,63,64,65,66,67,68,69,70,71,72,73,74,75,76,77,78,79,80,81,82,83,84,85,86,87,88,89,90,91,92,93,94,95,96,97,98,99,100,101,102,103,104,105,106,107,108,109,110,111,112,113,114,115,116,117,118,119,120,121,122,123,124,125,126,127,128,129,130,131,132,133,134,135,136,137,138,139,140,141,142,143,144,145,146,147,148,149,150,151,152,153,154,155,156,157,158,159,160,161,162,163,164,165,166,167,168,169,170,171,172,173,174,175,176,177,178,179,180,181,182,183,184,185,186,187,188,189,190,191,192,193,194,195,196,197,198,199,200,201,202,203,204,205,206,207,208,209,210,211,212,213,214,215,216,217,218,219,220 />\n 5: <Index name=\"sel_1\" resnums=255,256,257,258,259,260,261,262,263,264,265,266,267,268,269,270,271,272,273,274,275,276,277,278,279,280,281,282,283,284,285,286,287,288,289,290,291,292,293,294,295,296,297,298,299,300,301,302,303,304,305,306,307,308,309,310,311,312,313,314,315,316,317,318,319,320,321,322,323,324,325,326,327,328,329,330,331,332,333,334,335,336,337,338,339,340,341,342,343,344,345,346,347,348,349,350,351,352,353,354,355,356,357,358,359,360,361,362,363,364,365,366,367,368,369,370,371,372,373,374,375,376,377,378,379,380,381,382,383,384,385,386,387,388,389,390,391,392,393,394,395,396,397,398,399,400,401,402,403,404,405,406,407,408,409,410,411,412,413,414,415,416,417,418,419,420,421,422,423,424,425,426,427,428,429,430,431,432,433,434,435,436,437,438,439,440,441,442,443,444,445,446,447,448,449,450,451,452,453,454,455,456,457,458,459,460,461,462,463,464,465,466,467,468,469,470,471,472,473,474 />\n 6:     </RESIDUE_SELECTORS>\n 7:     <MOVERS>\n 8:         <SetupForSequenceSymmetryMover name=\"almost_linkres\" sequence_symmetry_behaviour=\"2state\" >\n 9:             <SequenceSymmetry residue_selectors=\"sel_0,sel_1\" />\n10:         </SetupForSequenceSymmetryMover>\nError: attributes construct error\n\n 1: <ROSETTASCRIPTS>\n 2: \n 3:     <RESIDUE_SELECTORS>\n 4:         <Index name=\"sel_0\" resnums=1,2,3,4,5,6,7,8,9,10,11,12,13,14,15,16,17,18,19,20,21,22,23,24,25,26,27,28,29,30,31,32,33,34,35,36,37,38,39,40,41,42,43,44,45,46,47,48,49,50,51,52,53,54,55,56,57,58,59,60,61,62,63,64,65,66,67,68,69,70,71,72,73,74,75,76,77,78,79,80,81,82,83,84,85,86,87,88,89,90,91,92,93,94,95,96,97,98,99,100,101,102,103,104,105,106,107,108,109,110,111,112,113,114,115,116,117,118,119,120,121,122,123,124,125,126,127,128,129,130,131,132,133,134,135,136,137,138,139,140,141,142,143,144,145,146,147,148,149,150,151,152,153,154,155,156,157,158,159,160,161,162,163,164,165,166,167,168,169,170,171,172,173,174,175,176,177,178,179,180,181,182,183,184,185,186,187,188,189,190,191,192,193,194,195,196,197,198,199,200,201,202,203,204,205,206,207,208,209,210,211,212,213,214,215,216,217,218,219,220 />\n 5: <Index name=\"sel_1\" resnums=255,256,257,258,259,260,261,262,263,264,265,266,267,268,269,270,271,272,273,274,275,276,277,278,279,280,281,282,283,284,285,286,287,288,289,290,291,292,293,294,295,296,297,298,299,300,301,302,303,304,305,306,307,308,309,310,311,312,313,314,315,316,317,318,319,320,321,322,323,324,325,326,327,328,329,330,331,332,333,334,335,336,337,338,339,340,341,342,343,344,345,346,347,348,349,350,351,352,353,354,355,356,357,358,359,360,361,362,363,364,365,366,367,368,369,370,371,372,373,374,375,376,377,378,379,380,381,382,383,384,385,386,387,388,389,390,391,392,393,394,395,396,397,398,399,400,401,402,403,404,405,406,407,408,409,410,411,412,413,414,415,416,417,418,419,420,421,422,423,424,425,426,427,428,429,430,431,432,433,434,435,436,437,438,439,440,441,442,443,444,445,446,447,448,449,450,451,452,453,454,455,456,457,458,459,460,461,462,463,464,465,466,467,468,469,470,471,472,473,474 />\n 6:     </RESIDUE_SELECTORS>\n 7:     <MOVERS>\n 8:         <SetupForSequenceSymmetryMover name=\"almost_linkres\" sequence_symmetry_behaviour=\"2state\" >\n 9:             <SequenceSymmetry residue_selectors=\"sel_0,sel_1\" />\n10:         </SetupForSequenceSymmetryMover>\nError: Couldn't find end of Start Tag Index line 5\n\n 1: <ROSETTASCRIPTS>\n 2: \n 3:     <RESIDUE_SELECTORS>\n 4:         <Index name=\"sel_0\" resnums=1,2,3,4,5,6,7,8,9,10,11,12,13,14,15,16,17,18,19,20,21,22,23,24,25,26,27,28,29,30,31,32,33,34,35,36,37,38,39,40,41,42,43,44,45,46,47,48,49,50,51,52,53,54,55,56,57,58,59,60,61,62,63,64,65,66,67,68,69,70,71,72,73,74,75,76,77,78,79,80,81,82,83,84,85,86,87,88,89,90,91,92,93,94,95,96,97,98,99,100,101,102,103,104,105,106,107,108,109,110,111,112,113,114,115,116,117,118,119,120,121,122,123,124,125,126,127,128,129,130,131,132,133,134,135,136,137,138,139,140,141,142,143,144,145,146,147,148,149,150,151,152,153,154,155,156,157,158,159,160,161,162,163,164,165,166,167,168,169,170,171,172,173,174,175,176,177,178,179,180,181,182,183,184,185,186,187,188,189,190,191,192,193,194,195,196,197,198,199,200,201,202,203,204,205,206,207,208,209,210,211,212,213,214,215,216,217,218,219,220 />\n 5: <Index name=\"sel_1\" resnums=255,256,257,258,259,260,261,262,263,264,265,266,267,268,269,270,271,272,273,274,275,276,277,278,279,280,281,282,283,284,285,286,287,288,289,290,291,292,293,294,295,296,297,298,299,300,301,302,303,304,305,306,307,308,309,310,311,312,313,314,315,316,317,318,319,320,321,322,323,324,325,326,327,328,329,330,331,332,333,334,335,336,337,338,339,340,341,342,343,344,345,346,347,348,349,350,351,352,353,354,355,356,357,358,359,360,361,362,363,364,365,366,367,368,369,370,371,372,373,374,375,376,377,378,379,380,381,382,383,384,385,386,387,388,389,390,391,392,393,394,395,396,397,398,399,400,401,402,403,404,405,406,407,408,409,410,411,412,413,414,415,416,417,418,419,420,421,422,423,424,425,426,427,428,429,430,431,432,433,434,435,436,437,438,439,440,441,442,443,444,445,446,447,448,449,450,451,452,453,454,455,456,457,458,459,460,461,462,463,464,465,466,467,468,469,470,471,472,473,474 />\n 6:     </RESIDUE_SELECTORS>\n 7:     <MOVERS>\n 8:         <SetupForSequenceSymmetryMover name=\"almost_linkres\" sequence_symmetry_behaviour=\"2state\" >\n 9:             <SequenceSymmetry residue_selectors=\"sel_0,sel_1\" />\n10:         </SetupForSequenceSymmetryMover>\n------------------------------------------------------------\nWarning messages were:\n------------------------------------------------------------\n"
     ]
    }
   ],
   "source": [
    "%%time \n",
    "import pyrosetta\n",
    "\n",
    "pyrosetta.init(\n",
    "    \"-corrections::beta_nov16 \\\n",
    "    -indexed_structure_store:fragment_store /net/databases/VALL_clustered/connect_chains/ss_grouped_vall_helix_shortLoop.h5\"\n",
    ")\n",
    "\n",
    "sys.path.insert(0, \"~/projects/crispy_shifty/\") # TODO projects\n",
    "from crispy_shifty.protocols.msd import two_state_design_paired_state\n",
    "\n",
    "t = two_state_design_paired_state(\n",
    "        None,\n",
    "        **{\n",
    "            'pdb_path': '/mnt/home/pleung/projects/crispy_shifty/projects/crispy_shifties/04_pair_bound_states/decoys/0001/04_pair_bound_states_331c8b82841d4de280ff3db199bb973f.pdb.bz2'\n",
    "        }\n",
    ")\n",
    "for i, tppose in enumerate(t):\n",
    "    tppose.pose.dump_pdb(f\"{i}.pdb\")"
   ]
  },
  {
   "cell_type": "code",
   "execution_count": 5,
   "metadata": {
    "scrolled": true
   },
   "outputs": [],
   "source": [
    "d = dict(tppose.pose.scores)\n",
    "from crispy_shifty.protocols.design import beta_nov16_terms\n",
    "\n",
    "d = {k: v for k, v in d.items() if k not in beta_nov16_terms}"
   ]
  },
  {
   "cell_type": "code",
   "execution_count": 6,
   "metadata": {},
   "outputs": [
    {
     "data": {
      "text/plain": [
       "{'bb_clash': '250.36671447753906',\n",
       " 'best_average_DAN_plddts': '0.9204101562',\n",
       " 'best_average_plddts': '94.379172804',\n",
       " 'best_model': '2',\n",
       " 'best_ptm': '0.8931488654',\n",
       " 'best_rmsd_to_input': '1.0943584816',\n",
       " 'buns_parent': '2.0',\n",
       " 'cms_AcB': '297.3140563964844',\n",
       " 'cms_AnAc': '226.63072204589844',\n",
       " 'cms_AnAcB': '640.595947265625',\n",
       " 'cms_AnB': '347.1438293457031',\n",
       " 'designed_by': 'mpnn',\n",
       " 'docked_helix': '5',\n",
       " 'dssp': 'LHHHHHHHHHHHHHHHHHHHHHHLLHHHHHHHHHHHHHHHLLLHHHHHHHHHHHHHHHHHHHHHHHLLHHHHHHHHHHHHHHHLLLLLHHHHHHHHHHHHHHHHHHHHHHLLHHHHHHHHHHHHHHHLLLHHHHHHHHHHHHHHHHHHHHHHHLLHHHHHHHHHHHHHHHLLHHHHHHHHHHHHHHHHHHHHHHHHHHHHHHHL',\n",
       " 'elapsed_time': '5.834771156311035',\n",
       " 'exposed_hydrophobics_parent': '7.770049571990967',\n",
       " 'geometry_parent': '1.0',\n",
       " 'holes_all_parent': '-1.5947035551071167',\n",
       " 'holes_core_parent': '-2.432673215866089',\n",
       " 'loop_dist': '11.541058243150694',\n",
       " 'loop_sc': '0.7584340187061882',\n",
       " 'looped_length': '171.0',\n",
       " 'mean_pae': '4.042686462402344',\n",
       " 'mean_pae_interaction': '4.77353048324585',\n",
       " 'mean_pae_interaction_AB': '5.596028804779053',\n",
       " 'mean_pae_interaction_BA': '3.9510319232940674',\n",
       " 'mean_pae_intra_chain': '3.96232271194458',\n",
       " 'mean_pae_intra_chain_A': '3.584859609603882',\n",
       " 'mean_pae_intra_chain_B': '4.339786052703857',\n",
       " 'mean_plddt': '93.13070678710938',\n",
       " 'mismatch_probability_parent': '0.27548661828041077',\n",
       " 'model': '1',\n",
       " 'new_loop_str': '84,85,86,87',\n",
       " 'pTMscore': '0.871558666229248',\n",
       " 'packstat_parent': '0.6529900431632996',\n",
       " 'parent': 'X23_2_15_3_ct5_fe',\n",
       " 'parent_length': '170',\n",
       " 'path_in': '/mnt/home/pleung/projects/crispy_shifty/scaffolds/02_make_bound_states/decoys/0000/notebooks_02_make_bound_states_5f2d5bc2fc7f4489a8954574460f967a.pdb.bz2',\n",
       " 'pdb': '/net/shared/scaffolds/pre_scaffold_DB/tj_DHRs_filtered/X23_2_15_3_ct5_fe.pdb',\n",
       " 'pivot_helix': '4',\n",
       " 'pre_break_helix': '4',\n",
       " 'recycles': '3.0',\n",
       " 'rmsd_to_reference': '1.1369162797927856',\n",
       " 'sap_parent': '12.518610954284668',\n",
       " 'sc_AcB': '0.7641283571720123',\n",
       " 'sc_AnAc': '0.8345917761325836',\n",
       " 'sc_AnAcB': '0.7713367640972137',\n",
       " 'sc_AnB': '0.765188068151474',\n",
       " 'sc_all_parent': '0.7005308270454407',\n",
       " 'scaffold_type': 'tj_DHRs_filtered',\n",
       " 'score': '-538.8222857841694',\n",
       " 'score_per_res': '-2.6941114289208468',\n",
       " 'score_per_res_parent': '-2.759491205215454',\n",
       " 'score_per_res_x': '-2.4743511455092237',\n",
       " 'seed': '0',\n",
       " 'shift': '-4',\n",
       " 'ss_sc': '0.7465597018078697',\n",
       " 'state': 'X23_2_15_3_ct5_fe_p_4_s_-4_d_5',\n",
       " 'time': '5695.367401123047',\n",
       " 'tol': '0.10318198055028915',\n",
       " 'topo': 'HHHHHHHH',\n",
       " 'total_length': '204.0',\n",
       " 'total_score': -494.4515912501564,\n",
       " 'trimmed_length': '170',\n",
       " 'type': 'monomer_ptm',\n",
       " 'bb_clash_delta_x': 1.2453746795654297,\n",
       " 'wnm_all_x': 1.1441597938537598}"
      ]
     },
     "execution_count": 6,
     "metadata": {},
     "output_type": "execute_result"
    }
   ],
   "source": [
    "d"
   ]
  },
  {
   "cell_type": "code",
   "execution_count": null,
   "metadata": {},
   "outputs": [],
   "source": []
  }
 ],
 "metadata": {
  "kernelspec": {
   "display_name": "crispy (3.8.12)",
   "language": "python",
   "name": "crispy"
  },
  "language_info": {
   "codemirror_mode": {
    "name": "ipython",
    "version": 3
   },
   "file_extension": ".py",
   "mimetype": "text/x-python",
   "name": "python",
   "nbconvert_exporter": "python",
   "pygments_lexer": "ipython3",
   "version": "3.8.12"
  }
 },
 "nbformat": 4,
 "nbformat_minor": 5
}
