{
 "cells": [
  {
   "cell_type": "markdown",
   "id": "2fe07f41",
   "metadata": {},
   "source": [
    "# Run MPNN multistate design on the paired states"
   ]
  },
  {
   "cell_type": "markdown",
   "id": "18187157",
   "metadata": {},
   "source": [
    "### Imports"
   ]
  },
  {
   "cell_type": "code",
   "execution_count": 1,
   "id": "b3782962",
   "metadata": {},
   "outputs": [
    {
     "name": "stdout",
     "output_type": "stream",
     "text": [
      "running in directory: /mnt/projects/crispy_shifty/projects/crispy_shifties\n",
      "running on node: dig68\n"
     ]
    }
   ],
   "source": [
    "%load_ext lab_black\n",
    "# Python standard library\n",
    "from glob import glob\n",
    "import os\n",
    "import socket\n",
    "import sys\n",
    "\n",
    "# 3rd party library imports\n",
    "import dask\n",
    "import matplotlib.pyplot as plt\n",
    "import pandas as pd\n",
    "import pyrosetta\n",
    "import numpy as np\n",
    "import scipy\n",
    "import seaborn as sns\n",
    "from tqdm.auto import tqdm  # jupyter compatible progress bar\n",
    "\n",
    "tqdm.pandas()  # link tqdm to pandas\n",
    "# Notebook magic\n",
    "# save plots in the notebook\n",
    "%matplotlib inline\n",
    "# reloads modules automatically before executing cells\n",
    "%load_ext autoreload\n",
    "%autoreload 2\n",
    "print(f\"running in directory: {os.getcwd()}\")  # where are we?\n",
    "print(f\"running on node: {socket.gethostname()}\")  # what node are we on?"
   ]
  },
  {
   "cell_type": "markdown",
   "id": "55ba5ef1",
   "metadata": {},
   "source": [
    "### Set working directory to the root of the crispy_shifty repo"
   ]
  },
  {
   "cell_type": "code",
   "execution_count": 2,
   "id": "fb927e4f",
   "metadata": {},
   "outputs": [],
   "source": [
    "os.chdir(\"/projects/crispy_shifty\")"
   ]
  },
  {
   "cell_type": "markdown",
   "id": "9cd18681",
   "metadata": {},
   "source": [
    "### Run MPNN on the paired states"
   ]
  },
  {
   "cell_type": "code",
   "execution_count": null,
   "id": "ce4677ae",
   "metadata": {},
   "outputs": [],
   "source": [
    "from crispy_shifty.utils.io import gen_array_tasks\n",
    "\n",
    "simulation_name = \"06_mpnn_paired_states\"\n",
    "design_list_file = os.path.join(\n",
    "    os.getcwd(),\n",
    "    \"projects/crispy_shifties/05_design_paired_states/designed_paired_states.list\",\n",
    ")\n",
    "output_path = os.path.join(os.getcwd(), f\"projects/crispy_shifties/{simulation_name}\")\n",
    "\n",
    "options = \" \".join(\n",
    "    [\n",
    "        \"out:level 200\",\n",
    "    ]\n",
    ")\n",
    "\n",
    "extra_kwargs = {\n",
    "    \"num_sequences\": \"100\",\n",
    "    \"mpnn_temperature\": \"0.2\",\n",
    "    \"mpnn_design_area\": \"scan\",\n",
    "}\n",
    "\n",
    "gen_array_tasks(\n",
    "    distribute_func=\"crispy_shifty.protocols.mpnn.mpnn_paired_state\",\n",
    "    design_list_file=design_list_file,\n",
    "    output_path=output_path,\n",
    "    queue=\"short\",\n",
    "    memory=\"5G\",\n",
    "    nstruct=1,\n",
    "    nstruct_per_task=1,\n",
    "    options=options,\n",
    "    extra_kwargs=extra_kwargs,\n",
    "    simulation_name=simulation_name,\n",
    ")"
   ]
  },
  {
   "cell_type": "markdown",
   "id": "61a61155",
   "metadata": {},
   "source": [
    "### Collect scorefiles of the MPNN designed paired states and concatenate"
   ]
  },
  {
   "cell_type": "code",
   "execution_count": null,
   "id": "a185300e",
   "metadata": {
    "scrolled": true,
    "tags": []
   },
   "outputs": [],
   "source": [
    "sys.path.insert(0, \"/projects/crispy_shifty\")\n",
    "from crispy_shifty.utils.io import collect_score_file\n",
    "\n",
    "simulation_name = \"06_mpnn_paired_states\"\n",
    "output_path = os.path.join(os.getcwd(), f\"projects/crispy_shifties/{simulation_name}\")\n",
    "\n",
    "if not os.path.exists(os.path.join(output_path, \"scores.json\")):\n",
    "    collect_score_file(output_path, \"scores\")"
   ]
  },
  {
   "cell_type": "markdown",
   "id": "d90a9364",
   "metadata": {},
   "source": [
    "### Load resulting concatenated scorefile"
   ]
  },
  {
   "cell_type": "code",
   "execution_count": null,
   "id": "20bd79dc",
   "metadata": {
    "scrolled": true,
    "tags": []
   },
   "outputs": [],
   "source": [
    "sys.path.insert(0, \"/projects/crispy_shifty\")\n",
    "from crispy_shifty.utils.io import parse_scorefile_linear\n",
    "\n",
    "output_path = os.path.join(os.getcwd(), f\"projects/crispy_shifties/{simulation_name}\")\n",
    "\n",
    "if not os.path.exists(os.path.join(output_path, \"scores.csv\")):\n",
    "    scores_df = parse_scorefile_linear(os.path.join(output_path, \"scores.json\"))"
   ]
  },
  {
   "cell_type": "markdown",
   "id": "c2b39f0e-ce3e-48a6-b3be-86ebade178ba",
   "metadata": {},
   "source": [
    "### Dump scores_df as a CSV and then reload, for performance reasons"
   ]
  },
  {
   "cell_type": "code",
   "execution_count": null,
   "id": "d95f89e2-57b9-4991-b145-532b3933d916",
   "metadata": {},
   "outputs": [],
   "source": [
    "if not os.path.exists(os.path.join(output_path, \"scores.csv\")):\n",
    "    scores_df.to_csv(os.path.join(output_path, \"scores.csv\"))\n",
    "\n",
    "scores_df = pd.read_csv(os.path.join(output_path, \"scores.csv\"), index_col=\"Unnamed: 0\")"
   ]
  },
  {
   "cell_type": "markdown",
   "id": "ae93c2ca-a8c8-4c4c-8d15-a36d9e4a673f",
   "metadata": {},
   "source": [
    "### Data exploration"
   ]
  },
  {
   "cell_type": "code",
   "execution_count": null,
   "id": "321fbe0b-9230-4be4-8cf2-73d5a56a5b72",
   "metadata": {},
   "outputs": [],
   "source": [
    "print(len(scores_df))\n",
    "print(list(scores_df.columns))"
   ]
  },
  {
   "cell_type": "code",
   "execution_count": null,
   "id": "12da79d4-8780-4cdb-a1d6-710cffdf627e",
   "metadata": {},
   "outputs": [],
   "source": [
    "set(scores_df.mpnn_msd_design_area.values)"
   ]
  },
  {
   "cell_type": "markdown",
   "id": "cccdc068-f5af-4f80-8acb-0b4eeb3aba8e",
   "metadata": {},
   "source": [
    "### Rebalance the df"
   ]
  },
  {
   "cell_type": "code",
   "execution_count": null,
   "id": "b037e642-1382-47b0-8209-38b95ac3a62b",
   "metadata": {},
   "outputs": [],
   "source": [
    "rebalanced = []\n",
    "goal_representation = 32\n",
    "\n",
    "for state in tqdm(set(scores_df.state.values)):\n",
    "    subset_df = scores_df.query(f\"state == @state\")\n",
    "    # if len is less than or equal to goal_representation take all,\n",
    "    if len(subset_df) <= goal_representation:\n",
    "        rebalanced.extend(list(subset_df.index))\n",
    "    else:\n",
    "        # get n randomly selected from this state\n",
    "        sample = subset_df.sample(goal_representation, random_state=0)\n",
    "        rebalanced.extend(list(sample.index))\n",
    "rebalanced_df = scores_df.loc[rebalanced]\n",
    "len(rebalanced_df)"
   ]
  },
  {
   "cell_type": "markdown",
   "id": "a3dacc1a",
   "metadata": {},
   "source": [
    "### Save individual fastas"
   ]
  },
  {
   "cell_type": "code",
   "execution_count": null,
   "id": "1c5991af",
   "metadata": {
    "scrolled": true,
    "tags": []
   },
   "outputs": [],
   "source": [
    "sys.path.insert(0, \"/projects/crispy_shifty\")\n",
    "from crispy_shifty.utils.io import df_to_fastas\n",
    "\n",
    "output_path = os.path.join(os.getcwd(), f\"projects/crispy_shifties/{simulation_name}\")\n",
    "\n",
    "rebalanced_df = df_to_fastas(rebalanced_df, prefix=\"mpnn_seq\")"
   ]
  },
  {
   "cell_type": "markdown",
   "id": "eacb6d9a",
   "metadata": {},
   "source": [
    "### Save a list of outputs\n",
    "Sort by length"
   ]
  },
  {
   "cell_type": "code",
   "execution_count": null,
   "id": "ecb164e7",
   "metadata": {},
   "outputs": [],
   "source": [
    "simulation_name = \"06_mpnn_paired_states\"\n",
    "output_path = os.path.join(os.getcwd(), f\"projects/crispy_shifties/{simulation_name}\")\n",
    "\n",
    "scores_df = rebalanced_df.sort_values(\"looped_length\")\n",
    "\n",
    "with open(os.path.join(output_path, \"mpnn_paired_states.list\"), \"w\") as f:\n",
    "    for path in tqdm(scores_df.index):\n",
    "        print(path, file=f)"
   ]
  },
  {
   "cell_type": "markdown",
   "id": "5d6c18db",
   "metadata": {},
   "source": [
    "### Concat the pdb.bz2 and fasta paths into a single list, for Superfold reasons"
   ]
  },
  {
   "cell_type": "code",
   "execution_count": null,
   "id": "ffb24c61",
   "metadata": {},
   "outputs": [],
   "source": [
    "simulation_name = \"06_mpnn_paired_states\"\n",
    "output_path = os.path.join(os.getcwd(), f\"projects/crispy_shifties/{simulation_name}\")\n",
    "\n",
    "with open(os.path.join(output_path, \"mpnn_paired_states.pair\"), \"w\") as f:\n",
    "    for path in tqdm(scores_df.index):\n",
    "        line = path + \"____\" + path.replace(\"decoys\", \"fastas\").replace(\"pdb.bz2\", \"fa\")\n",
    "        print(line, file=f)"
   ]
  },
  {
   "cell_type": "markdown",
   "id": "cb4307ab-3730-4f04-b4f3-1f39e972d029",
   "metadata": {},
   "source": [
    "### Run MPNN on the best paired states"
   ]
  },
  {
   "cell_type": "code",
   "execution_count": null,
   "id": "00344ed9-27f6-46e4-a17c-fe6c2dd5a177",
   "metadata": {},
   "outputs": [],
   "source": [
    "from crispy_shifty.utils.io import gen_array_tasks\n",
    "\n",
    "simulation_name = \"06_mpnn_paired_states_best\"\n",
    "design_list_file = os.path.join(\n",
    "    os.getcwd(),\n",
    "    \"projects/crispy_shifties/05_design_paired_states_best/best_designed_paired_states.list\",\n",
    ")\n",
    "output_path = os.path.join(os.getcwd(), f\"projects/crispy_shifties/{simulation_name}\")\n",
    "\n",
    "options = \" \".join(\n",
    "    [\n",
    "        \"out:level 200\",\n",
    "    ]\n",
    ")\n",
    "\n",
    "extra_kwargs = {\n",
    "    \"num_sequences\": \"100\",\n",
    "    \"mpnn_temperature\": \"0.2\",\n",
    "    \"mpnn_design_area\": \"scan\",\n",
    "}\n",
    "\n",
    "gen_array_tasks(\n",
    "    distribute_func=\"crispy_shifty.protocols.mpnn.mpnn_paired_state\",\n",
    "    design_list_file=design_list_file,\n",
    "    output_path=output_path,\n",
    "    queue=\"short\",\n",
    "    memory=\"5G\",\n",
    "    nstruct=1,\n",
    "    nstruct_per_task=1,\n",
    "    options=options,\n",
    "    extra_kwargs=extra_kwargs,\n",
    "    simulation_name=simulation_name,\n",
    ")"
   ]
  },
  {
   "cell_type": "markdown",
   "id": "02555e3b-7506-4dbe-a3ea-b460d2596257",
   "metadata": {},
   "source": [
    "### Collect scorefiles of the MPNN designed paired states and concatenate"
   ]
  },
  {
   "cell_type": "code",
   "execution_count": null,
   "id": "0f59f740-74ce-48cd-81f2-f04e10a5df73",
   "metadata": {
    "scrolled": true,
    "tags": []
   },
   "outputs": [],
   "source": [
    "sys.path.insert(0, \"/projects/crispy_shifty\")\n",
    "from crispy_shifty.utils.io import collect_score_file\n",
    "\n",
    "simulation_name = \"06_mpnn_paired_states_best\"\n",
    "output_path = os.path.join(os.getcwd(), f\"projects/crispy_shifties/{simulation_name}\")\n",
    "\n",
    "if not os.path.exists(os.path.join(output_path, \"scores.json\")):\n",
    "    collect_score_file(output_path, \"scores\")"
   ]
  },
  {
   "cell_type": "markdown",
   "id": "0a019a00-5c48-4beb-9835-ffc6d144ae66",
   "metadata": {},
   "source": [
    "### Load resulting concatenated scorefile"
   ]
  },
  {
   "cell_type": "code",
   "execution_count": null,
   "id": "c2681044-c828-4cc6-8da0-b73544a51d87",
   "metadata": {
    "scrolled": true,
    "tags": []
   },
   "outputs": [],
   "source": [
    "sys.path.insert(0, \"/projects/crispy_shifty\")\n",
    "from crispy_shifty.utils.io import parse_scorefile_linear\n",
    "\n",
    "output_path = os.path.join(os.getcwd(), f\"projects/crispy_shifties/{simulation_name}\")\n",
    "\n",
    "if not os.path.exists(os.path.join(output_path, \"scores.csv\")):\n",
    "    scores_df = parse_scorefile_linear(os.path.join(output_path, \"scores.json\"))"
   ]
  },
  {
   "cell_type": "markdown",
   "id": "b93b0ee5-c2a7-43a8-bba6-2c67a7bdb27a",
   "metadata": {},
   "source": [
    "### Dump scores_df as a CSV and then reload, for performance reasons"
   ]
  },
  {
   "cell_type": "code",
   "execution_count": null,
   "id": "75c03c53-8f4c-4c8c-9dc3-3445ec9bdd26",
   "metadata": {},
   "outputs": [],
   "source": [
    "if not os.path.exists(os.path.join(output_path, \"scores.csv\")):\n",
    "    scores_df.to_csv(os.path.join(output_path, \"scores.csv\"))\n",
    "\n",
    "scores_df = pd.read_csv(os.path.join(output_path, \"scores.csv\"), index_col=\"Unnamed: 0\")"
   ]
  },
  {
   "cell_type": "markdown",
   "id": "72e903c4-d24b-4fc4-8559-3a5a7fc55c0c",
   "metadata": {},
   "source": [
    "### Rebalance the df"
   ]
  },
  {
   "cell_type": "code",
   "execution_count": null,
   "id": "eb5ab7c3-9601-4e41-b57d-fbee3d83ae2d",
   "metadata": {},
   "outputs": [],
   "source": [
    "rebalanced = []\n",
    "goal_representation = 32\n",
    "\n",
    "for state in tqdm(set(scores_df.state.values)):\n",
    "    subset_df = scores_df.query(f\"state == @state\")\n",
    "    # if len is less than or equal to goal_representation take all,\n",
    "    if len(subset_df) <= goal_representation:\n",
    "        rebalanced.extend(list(subset_df.index))\n",
    "    else:\n",
    "        # get n randomly selected from this state\n",
    "        sample = subset_df.sample(goal_representation, random_state=0)\n",
    "        rebalanced.extend(list(sample.index))\n",
    "rebalanced_df = scores_df.loc[rebalanced]\n",
    "len(rebalanced_df)"
   ]
  },
  {
   "cell_type": "markdown",
   "id": "f2c81f0b-426e-4eb3-8994-b17e93d58eed",
   "metadata": {},
   "source": [
    "### Save individual fastas"
   ]
  },
  {
   "cell_type": "code",
   "execution_count": null,
   "id": "8dc3bb73-05c0-44da-b0a8-1546d8710ea0",
   "metadata": {
    "scrolled": true,
    "tags": []
   },
   "outputs": [],
   "source": [
    "sys.path.insert(0, \"/projects/crispy_shifty\")\n",
    "from crispy_shifty.utils.io import df_to_fastas\n",
    "\n",
    "output_path = os.path.join(os.getcwd(), f\"projects/crispy_shifties/{simulation_name}\")\n",
    "\n",
    "rebalanced_df = df_to_fastas(rebalanced_df, prefix=\"mpnn_seq\")"
   ]
  },
  {
   "cell_type": "markdown",
   "id": "84a076be-7c5e-465d-802c-399eb29970bb",
   "metadata": {},
   "source": [
    "### Save a list of outputs\n",
    "Sort by length"
   ]
  },
  {
   "cell_type": "code",
   "execution_count": null,
   "id": "bd9ad9c8-386b-4400-ae56-8665ecf0379e",
   "metadata": {},
   "outputs": [],
   "source": [
    "simulation_name = \"06_mpnn_paired_states_best\"\n",
    "output_path = os.path.join(os.getcwd(), f\"projects/crispy_shifties/{simulation_name}\")\n",
    "\n",
    "scores_df = rebalanced_df.sort_values(\"looped_length\")\n",
    "\n",
    "with open(os.path.join(output_path, \"best_mpnn_paired_states.list\"), \"w\") as f:\n",
    "    for path in tqdm(scores_df.index):\n",
    "        print(path, file=f)"
   ]
  },
  {
   "cell_type": "markdown",
   "id": "f504c141-70bf-498a-a1ce-7641ea24853b",
   "metadata": {},
   "source": [
    "### Concat the pdb.bz2 and fasta paths into a single list, for Superfold reasons"
   ]
  },
  {
   "cell_type": "code",
   "execution_count": null,
   "id": "e6372647-1c6e-4abf-9c57-f5532c0bd2f4",
   "metadata": {},
   "outputs": [],
   "source": [
    "simulation_name = \"06_mpnn_paired_states_best\"\n",
    "output_path = os.path.join(os.getcwd(), f\"projects/crispy_shifties/{simulation_name}\")\n",
    "\n",
    "with open(os.path.join(output_path, \"best_mpnn_paired_states.pair\"), \"w\") as f:\n",
    "    for path in tqdm(scores_df.index):\n",
    "        line = path + \"____\" + path.replace(\"decoys\", \"fastas\").replace(\"pdb.bz2\", \"fa\")\n",
    "        print(line, file=f)"
   ]
  },
  {
   "cell_type": "markdown",
   "id": "e3d102b5",
   "metadata": {},
   "source": [
    "### Prototyping blocks"
   ]
  },
  {
   "cell_type": "markdown",
   "id": "d63e0577",
   "metadata": {},
   "source": [
    "test `mpnn_paired_state`"
   ]
  },
  {
   "cell_type": "code",
   "execution_count": null,
   "id": "b9b0c4da",
   "metadata": {
    "scrolled": true,
    "tags": []
   },
   "outputs": [],
   "source": [
    "%%time \n",
    "import pyrosetta\n",
    "\n",
    "pyrosetta.init()\n",
    "\n",
    "\n",
    "sys.path.insert(0, \"/projects/crispy_shifty/\")\n",
    "from crispy_shifty.protocols.mpnn import mpnn_paired_state\n",
    "\n",
    "t = mpnn_paired_state(\n",
    "        None,\n",
    "        **{\n",
    "            'pdb_path': '/mnt/home/pleung/projects/crispy_shifty/projects/crispy_shifties/05_design_paired_states/decoys/0000/05_design_paired_states_c6be6ebc8a3146e2960cb45360a8a202.pdb.bz2',\n",
    "            'num_sequences': 100,\n",
    "        }\n",
    ")\n",
    "for i, tppose in enumerate(t):\n",
    "    tppose.pose.dump_pdb(f\"{i}.pdb\")"
   ]
  },
  {
   "cell_type": "code",
   "execution_count": null,
   "id": "d779138d",
   "metadata": {
    "scrolled": true
   },
   "outputs": [],
   "source": [
    "d = dict(tppose.pose.scores)\n",
    "#\n",
    "d"
   ]
  },
  {
   "cell_type": "code",
   "execution_count": null,
   "id": "4902948e",
   "metadata": {},
   "outputs": [],
   "source": []
  }
 ],
 "metadata": {
  "kernelspec": {
   "display_name": "crispy (3.8.12)",
   "language": "python",
   "name": "crispy"
  },
  "language_info": {
   "codemirror_mode": {
    "name": "ipython",
    "version": 3
   },
   "file_extension": ".py",
   "mimetype": "text/x-python",
   "name": "python",
   "nbconvert_exporter": "python",
   "pygments_lexer": "ipython3",
   "version": "3.8.12"
  }
 },
 "nbformat": 4,
 "nbformat_minor": 5
}
