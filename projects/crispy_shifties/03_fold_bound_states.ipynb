{
 "cells": [
  {
   "cell_type": "markdown",
   "metadata": {},
   "source": [
    "# Run hacked AlphaFold2 on the designed bound states"
   ]
  },
  {
   "cell_type": "markdown",
   "metadata": {},
   "source": [
    "### Imports"
   ]
  },
  {
   "cell_type": "code",
   "execution_count": 1,
   "metadata": {},
   "outputs": [
    {
     "name": "stdout",
     "output_type": "stream",
     "text": [
      "running in directory: /mnt/home/pleung/projects/crispy_shifty/projects/crispy_shifties\n",
      "running on node: gpu25\n"
     ]
    }
   ],
   "source": [
    "%load_ext lab_black\n",
    "# Python standard library\n",
    "from glob import glob\n",
    "import os\n",
    "import socket\n",
    "import sys\n",
    "\n",
    "# 3rd party library imports\n",
    "import dask\n",
    "import matplotlib.pyplot as plt\n",
    "import pandas as pd\n",
    "import pyrosetta\n",
    "import numpy as np\n",
    "import scipy\n",
    "import seaborn as sns\n",
    "from tqdm.auto import tqdm  # jupyter compatible progress bar\n",
    "\n",
    "tqdm.pandas()  # link tqdm to pandas\n",
    "# Notebook magic\n",
    "# save plots in the notebook\n",
    "%matplotlib inline\n",
    "# reloads modules automatically before executing cells\n",
    "%load_ext autoreload\n",
    "%autoreload 2\n",
    "print(f\"running in directory: {os.getcwd()}\")  # where are we?\n",
    "print(f\"running on node: {socket.gethostname()}\")  # what node are we on?"
   ]
  },
  {
   "cell_type": "markdown",
   "metadata": {},
   "source": [
    "### Set working directory to the root of the crispy_shifty repo\n",
    "TODO set to projects dir"
   ]
  },
  {
   "cell_type": "code",
   "execution_count": 2,
   "metadata": {},
   "outputs": [],
   "source": [
    "os.chdir(\"/home/pleung/projects/crispy_shifty\")\n",
    "# os.chdir(\"/projects/crispy_shifty\")"
   ]
  },
  {
   "cell_type": "markdown",
   "metadata": {},
   "source": [
    "### Run AF2 on the designed bound states\n",
    "TODO"
   ]
  },
  {
   "cell_type": "code",
   "execution_count": 3,
   "metadata": {},
   "outputs": [
    {
     "name": "stderr",
     "output_type": "stream",
     "text": [
      "/projects/crispy_shifty/envs/crispy/lib/python3.8/site-packages/dask_jobqueue/core.py:20: FutureWarning: tmpfile is deprecated and will be removed in a future release. Please use dask.utils.tmpfile instead.\n",
      "  from distributed.utils import tmpfile\n"
     ]
    },
    {
     "name": "stdout",
     "output_type": "stream",
     "text": [
      "Warning: Use of `pyrosetta.distributed.cluster` namespace requires Anaconda (or Miniconda) to be properly installed for reproducibility of PyRosetta simulations. Please install Anaconda (or Miniconda) onto your system to enable running `which conda`. For installation instructions, visit:\n",
      "https://docs.anaconda.com/anaconda/install\n",
      "\n",
      "Run the following command with your desired environment active:\n",
      "sbatch -a 1-$(cat /mnt/home/pleung/projects/crispy_shifty/projects/crispy_shifties/03_fold_bound_states/tasks.cmds | wc -l) /mnt/home/pleung/projects/crispy_shifty/projects/crispy_shifties/03_fold_bound_states/run.sh\n"
     ]
    }
   ],
   "source": [
    "from crispy_shifty.utils.io import gen_array_tasks\n",
    "\n",
    "simulation_name = \"03_fold_bound_states\"\n",
    "design_list_file = os.path.join(\n",
    "    os.getcwd(),\n",
    "    \"projects/crispy_shifties/02_mpnn_bound_states/test_mpnn_states.pair\",  # TODO\n",
    ")\n",
    "output_path = os.path.join(os.getcwd(), f\"projects/crispy_shifties/{simulation_name}\")\n",
    "\n",
    "options = \" \".join(\n",
    "    [\n",
    "        \"out:level 200\",\n",
    "    ]\n",
    ")\n",
    "extra_kwargs = {\"models\": \"1\"}\n",
    "\n",
    "gen_array_tasks(\n",
    "    distribute_func=\"crispy_shifty.protocols.folding.fold_bound_state\",\n",
    "    design_list_file=design_list_file,\n",
    "    output_path=output_path,\n",
    "    queue=\"gpu\",  # TODO\n",
    "    cores=2,\n",
    "    memory=\"16G\",  # TODO\n",
    "    gres=\"--gres=gpu:rtx2080:1\",  # TODO\n",
    "    # TODO perlmutter_mode=True,\n",
    "    nstruct=1,\n",
    "    nstruct_per_task=1,\n",
    "    options=options,\n",
    "    extra_kwargs=extra_kwargs,\n",
    "    simulation_name=simulation_name,\n",
    ")"
   ]
  },
  {
   "cell_type": "code",
   "execution_count": null,
   "metadata": {},
   "outputs": [],
   "source": [
    "# !sbatch -a 1-$(cat /mnt/home/pleung/projects/crispy_shifty/projects/crispy_shifties/02_mpnn_bound_states/tasks.cmds | wc -l) /mnt/home/pleung/projects/crispy_shifty/projects/crispy_shifties/02_mpnn_bound_states/run.sh"
   ]
  },
  {
   "cell_type": "markdown",
   "metadata": {},
   "source": [
    "### Collect scorefiles of designed bound states and concatenate\n",
    "TODO change to projects dir"
   ]
  },
  {
   "cell_type": "code",
   "execution_count": 4,
   "metadata": {
    "scrolled": true,
    "tags": []
   },
   "outputs": [],
   "source": [
    "sys.path.insert(0, \"~/projects/crispy_shifty\")  # TODO\n",
    "from crispy_shifty.utils.io import collect_score_file\n",
    "\n",
    "simulation_name = \"03_fold_bound_states\"\n",
    "output_path = os.path.join(os.getcwd(), f\"projects/crispy_shifties/{simulation_name}\")\n",
    "\n",
    "if not os.path.exists(os.path.join(output_path, \"scores.json\")):\n",
    "    collect_score_file(output_path, \"scores\")"
   ]
  },
  {
   "cell_type": "markdown",
   "metadata": {},
   "source": [
    "### Load resulting concatenated scorefile\n",
    "TODO change to projects dir"
   ]
  },
  {
   "cell_type": "code",
   "execution_count": 5,
   "metadata": {
    "scrolled": true,
    "tags": []
   },
   "outputs": [
    {
     "data": {
      "application/vnd.jupyter.widget-view+json": {
       "model_id": "eb7facc7d753429181e804d105a5794f",
       "version_major": 2,
       "version_minor": 0
      },
      "text/plain": [
       "  0%|          | 0/28 [00:00<?, ?it/s]"
      ]
     },
     "metadata": {},
     "output_type": "display_data"
    }
   ],
   "source": [
    "sys.path.insert(0, \"~/projects/crispy_shifty\")  # TODO\n",
    "from crispy_shifty.utils.io import parse_scorefile_linear\n",
    "\n",
    "output_path = os.path.join(os.getcwd(), f\"projects/crispy_shifties/{simulation_name}\")\n",
    "\n",
    "scores_df = parse_scorefile_linear(os.path.join(output_path, \"scores.json\"))\n",
    "scores_df = scores_df.convert_dtypes()"
   ]
  },
  {
   "cell_type": "markdown",
   "metadata": {},
   "source": [
    "### Setup for plotting"
   ]
  },
  {
   "cell_type": "code",
   "execution_count": 6,
   "metadata": {},
   "outputs": [],
   "source": [
    "sns.set(\n",
    "    context=\"talk\",\n",
    "    font_scale=1,  # make the font larger; default is pretty small\n",
    "    style=\"ticks\",  # make the background white with black lines\n",
    "    palette=\"colorblind\",  # a color palette that is colorblind friendly!\n",
    ")"
   ]
  },
  {
   "cell_type": "markdown",
   "metadata": {},
   "source": [
    "### Data exploration\n",
    "Gonna remove the Rosetta sfxn scoreterms for now"
   ]
  },
  {
   "cell_type": "code",
   "execution_count": 8,
   "metadata": {},
   "outputs": [
    {
     "name": "stdout",
     "output_type": "stream",
     "text": [
      "28\n"
     ]
    },
    {
     "data": {
      "text/html": [
       "<div>\n",
       "<style scoped>\n",
       "    .dataframe tbody tr th:only-of-type {\n",
       "        vertical-align: middle;\n",
       "    }\n",
       "\n",
       "    .dataframe tbody tr th {\n",
       "        vertical-align: top;\n",
       "    }\n",
       "\n",
       "    .dataframe thead th {\n",
       "        text-align: right;\n",
       "    }\n",
       "</style>\n",
       "<table border=\"1\" class=\"dataframe\">\n",
       "  <thead>\n",
       "    <tr style=\"text-align: right;\">\n",
       "      <th></th>\n",
       "      <th>bb_clash</th>\n",
       "      <th>best_average_DAN_plddts</th>\n",
       "      <th>best_average_plddts</th>\n",
       "      <th>best_model</th>\n",
       "      <th>best_ptm</th>\n",
       "      <th>best_rmsd_to_input</th>\n",
       "      <th>buns_parent</th>\n",
       "      <th>cms_AcB</th>\n",
       "      <th>cms_AnAc</th>\n",
       "      <th>cms_AnAcB</th>\n",
       "      <th>...</th>\n",
       "      <th>shift</th>\n",
       "      <th>ss_sc</th>\n",
       "      <th>state</th>\n",
       "      <th>time</th>\n",
       "      <th>tol</th>\n",
       "      <th>topo</th>\n",
       "      <th>total_length</th>\n",
       "      <th>total_score</th>\n",
       "      <th>trimmed_length</th>\n",
       "      <th>type</th>\n",
       "    </tr>\n",
       "  </thead>\n",
       "  <tbody>\n",
       "    <tr>\n",
       "      <th>/mnt/home/pleung/projects/crispy_shifty/projects/crispy_shifties/03_fold_bound_states/decoys/0000/03_fold_bound_states_0c486b984032424db6b3f91731e3dfc3.pdb.bz2</th>\n",
       "      <td>359.41107177734375</td>\n",
       "      <td>0.9311523438</td>\n",
       "      <td>94.7552406609</td>\n",
       "      <td>5</td>\n",
       "      <td>0.8127712368000001</td>\n",
       "      <td>0.6188827828</td>\n",
       "      <td>1.0</td>\n",
       "      <td>266.6231384277344</td>\n",
       "      <td>382.3677673339844</td>\n",
       "      <td>503.04888916015625</td>\n",
       "      <td>...</td>\n",
       "      <td>-4</td>\n",
       "      <td>0.8105477795163555</td>\n",
       "      <td>JHR_bd1_766_p_2_s_-4_d_3</td>\n",
       "      <td>5505.598720550537</td>\n",
       "      <td>0.125468</td>\n",
       "      <td>HHHH</td>\n",
       "      <td>134.0</td>\n",
       "      <td>188.6167</td>\n",
       "      <td>100</td>\n",
       "      <td>monomer_ptm</td>\n",
       "    </tr>\n",
       "    <tr>\n",
       "      <th>/mnt/home/pleung/projects/crispy_shifty/projects/crispy_shifties/03_fold_bound_states/decoys/0000/03_fold_bound_states_b361f6543dba4ae98f249a5ffc0c274d.pdb.bz2</th>\n",
       "      <td>359.41107177734375</td>\n",
       "      <td>0.9311523438</td>\n",
       "      <td>94.7552406609</td>\n",
       "      <td>5</td>\n",
       "      <td>0.8127712368000001</td>\n",
       "      <td>0.6188827828</td>\n",
       "      <td>1.0</td>\n",
       "      <td>266.6231384277344</td>\n",
       "      <td>382.3677673339844</td>\n",
       "      <td>503.04888916015625</td>\n",
       "      <td>...</td>\n",
       "      <td>-4</td>\n",
       "      <td>0.8105477795163555</td>\n",
       "      <td>JHR_bd1_766_p_2_s_-4_d_3</td>\n",
       "      <td>5505.598720550537</td>\n",
       "      <td>0.141378</td>\n",
       "      <td>HHHH</td>\n",
       "      <td>134.0</td>\n",
       "      <td>131.237213</td>\n",
       "      <td>100</td>\n",
       "      <td>monomer_ptm</td>\n",
       "    </tr>\n",
       "    <tr>\n",
       "      <th>/mnt/home/pleung/projects/crispy_shifty/projects/crispy_shifties/03_fold_bound_states/decoys/0000/03_fold_bound_states_d74ced26de114ab3857849be98f0fe1d.pdb.bz2</th>\n",
       "      <td>359.41107177734375</td>\n",
       "      <td>0.9311523438</td>\n",
       "      <td>94.7552406609</td>\n",
       "      <td>5</td>\n",
       "      <td>0.8127712368000001</td>\n",
       "      <td>0.6188827828</td>\n",
       "      <td>1.0</td>\n",
       "      <td>266.6231384277344</td>\n",
       "      <td>382.3677673339844</td>\n",
       "      <td>503.04888916015625</td>\n",
       "      <td>...</td>\n",
       "      <td>-4</td>\n",
       "      <td>0.8105477795163555</td>\n",
       "      <td>JHR_bd1_766_p_2_s_-4_d_3</td>\n",
       "      <td>5505.598720550537</td>\n",
       "      <td>0.092924</td>\n",
       "      <td>HHHH</td>\n",
       "      <td>134.0</td>\n",
       "      <td>-25.122496</td>\n",
       "      <td>100</td>\n",
       "      <td>monomer_ptm</td>\n",
       "    </tr>\n",
       "    <tr>\n",
       "      <th>/mnt/home/pleung/projects/crispy_shifty/projects/crispy_shifties/03_fold_bound_states/decoys/0000/03_fold_bound_states_6f075d7f5aac4e49bdc154b4be53a929.pdb.bz2</th>\n",
       "      <td>359.41107177734375</td>\n",
       "      <td>0.9311523438</td>\n",
       "      <td>94.7552406609</td>\n",
       "      <td>5</td>\n",
       "      <td>0.8127712368000001</td>\n",
       "      <td>0.6188827828</td>\n",
       "      <td>1.0</td>\n",
       "      <td>266.6231384277344</td>\n",
       "      <td>382.3677673339844</td>\n",
       "      <td>503.04888916015625</td>\n",
       "      <td>...</td>\n",
       "      <td>-4</td>\n",
       "      <td>0.8105477795163555</td>\n",
       "      <td>JHR_bd1_766_p_2_s_-4_d_3</td>\n",
       "      <td>5505.598720550537</td>\n",
       "      <td>0.163883</td>\n",
       "      <td>HHHH</td>\n",
       "      <td>134.0</td>\n",
       "      <td>-14.81866</td>\n",
       "      <td>100</td>\n",
       "      <td>monomer_ptm</td>\n",
       "    </tr>\n",
       "    <tr>\n",
       "      <th>/mnt/home/pleung/projects/crispy_shifty/projects/crispy_shifties/03_fold_bound_states/decoys/0000/03_fold_bound_states_05eed0e3ab914141b7ad95ef821bedc7.pdb.bz2</th>\n",
       "      <td>359.41107177734375</td>\n",
       "      <td>0.9311523438</td>\n",
       "      <td>94.7552406609</td>\n",
       "      <td>5</td>\n",
       "      <td>0.8127712368000001</td>\n",
       "      <td>0.6188827828</td>\n",
       "      <td>1.0</td>\n",
       "      <td>266.6231384277344</td>\n",
       "      <td>382.3677673339844</td>\n",
       "      <td>503.04888916015625</td>\n",
       "      <td>...</td>\n",
       "      <td>-4</td>\n",
       "      <td>0.8105477795163555</td>\n",
       "      <td>JHR_bd1_766_p_2_s_-4_d_3</td>\n",
       "      <td>5505.598720550537</td>\n",
       "      <td>0.129839</td>\n",
       "      <td>HHHH</td>\n",
       "      <td>134.0</td>\n",
       "      <td>-19.818137</td>\n",
       "      <td>100</td>\n",
       "      <td>monomer_ptm</td>\n",
       "    </tr>\n",
       "  </tbody>\n",
       "</table>\n",
       "<p>5 rows × 128 columns</p>\n",
       "</div>"
      ],
      "text/plain": [
       "                                                              bb_clash  \\\n",
       "/mnt/home/pleung/projects/crispy_shifty/project...  359.41107177734375   \n",
       "/mnt/home/pleung/projects/crispy_shifty/project...  359.41107177734375   \n",
       "/mnt/home/pleung/projects/crispy_shifty/project...  359.41107177734375   \n",
       "/mnt/home/pleung/projects/crispy_shifty/project...  359.41107177734375   \n",
       "/mnt/home/pleung/projects/crispy_shifty/project...  359.41107177734375   \n",
       "\n",
       "                                                   best_average_DAN_plddts  \\\n",
       "/mnt/home/pleung/projects/crispy_shifty/project...            0.9311523438   \n",
       "/mnt/home/pleung/projects/crispy_shifty/project...            0.9311523438   \n",
       "/mnt/home/pleung/projects/crispy_shifty/project...            0.9311523438   \n",
       "/mnt/home/pleung/projects/crispy_shifty/project...            0.9311523438   \n",
       "/mnt/home/pleung/projects/crispy_shifty/project...            0.9311523438   \n",
       "\n",
       "                                                   best_average_plddts  \\\n",
       "/mnt/home/pleung/projects/crispy_shifty/project...       94.7552406609   \n",
       "/mnt/home/pleung/projects/crispy_shifty/project...       94.7552406609   \n",
       "/mnt/home/pleung/projects/crispy_shifty/project...       94.7552406609   \n",
       "/mnt/home/pleung/projects/crispy_shifty/project...       94.7552406609   \n",
       "/mnt/home/pleung/projects/crispy_shifty/project...       94.7552406609   \n",
       "\n",
       "                                                   best_model  \\\n",
       "/mnt/home/pleung/projects/crispy_shifty/project...          5   \n",
       "/mnt/home/pleung/projects/crispy_shifty/project...          5   \n",
       "/mnt/home/pleung/projects/crispy_shifty/project...          5   \n",
       "/mnt/home/pleung/projects/crispy_shifty/project...          5   \n",
       "/mnt/home/pleung/projects/crispy_shifty/project...          5   \n",
       "\n",
       "                                                              best_ptm  \\\n",
       "/mnt/home/pleung/projects/crispy_shifty/project...  0.8127712368000001   \n",
       "/mnt/home/pleung/projects/crispy_shifty/project...  0.8127712368000001   \n",
       "/mnt/home/pleung/projects/crispy_shifty/project...  0.8127712368000001   \n",
       "/mnt/home/pleung/projects/crispy_shifty/project...  0.8127712368000001   \n",
       "/mnt/home/pleung/projects/crispy_shifty/project...  0.8127712368000001   \n",
       "\n",
       "                                                   best_rmsd_to_input  \\\n",
       "/mnt/home/pleung/projects/crispy_shifty/project...       0.6188827828   \n",
       "/mnt/home/pleung/projects/crispy_shifty/project...       0.6188827828   \n",
       "/mnt/home/pleung/projects/crispy_shifty/project...       0.6188827828   \n",
       "/mnt/home/pleung/projects/crispy_shifty/project...       0.6188827828   \n",
       "/mnt/home/pleung/projects/crispy_shifty/project...       0.6188827828   \n",
       "\n",
       "                                                   buns_parent  \\\n",
       "/mnt/home/pleung/projects/crispy_shifty/project...         1.0   \n",
       "/mnt/home/pleung/projects/crispy_shifty/project...         1.0   \n",
       "/mnt/home/pleung/projects/crispy_shifty/project...         1.0   \n",
       "/mnt/home/pleung/projects/crispy_shifty/project...         1.0   \n",
       "/mnt/home/pleung/projects/crispy_shifty/project...         1.0   \n",
       "\n",
       "                                                              cms_AcB  \\\n",
       "/mnt/home/pleung/projects/crispy_shifty/project...  266.6231384277344   \n",
       "/mnt/home/pleung/projects/crispy_shifty/project...  266.6231384277344   \n",
       "/mnt/home/pleung/projects/crispy_shifty/project...  266.6231384277344   \n",
       "/mnt/home/pleung/projects/crispy_shifty/project...  266.6231384277344   \n",
       "/mnt/home/pleung/projects/crispy_shifty/project...  266.6231384277344   \n",
       "\n",
       "                                                             cms_AnAc  \\\n",
       "/mnt/home/pleung/projects/crispy_shifty/project...  382.3677673339844   \n",
       "/mnt/home/pleung/projects/crispy_shifty/project...  382.3677673339844   \n",
       "/mnt/home/pleung/projects/crispy_shifty/project...  382.3677673339844   \n",
       "/mnt/home/pleung/projects/crispy_shifty/project...  382.3677673339844   \n",
       "/mnt/home/pleung/projects/crispy_shifty/project...  382.3677673339844   \n",
       "\n",
       "                                                             cms_AnAcB  ...  \\\n",
       "/mnt/home/pleung/projects/crispy_shifty/project...  503.04888916015625  ...   \n",
       "/mnt/home/pleung/projects/crispy_shifty/project...  503.04888916015625  ...   \n",
       "/mnt/home/pleung/projects/crispy_shifty/project...  503.04888916015625  ...   \n",
       "/mnt/home/pleung/projects/crispy_shifty/project...  503.04888916015625  ...   \n",
       "/mnt/home/pleung/projects/crispy_shifty/project...  503.04888916015625  ...   \n",
       "\n",
       "                                                   shift               ss_sc  \\\n",
       "/mnt/home/pleung/projects/crispy_shifty/project...    -4  0.8105477795163555   \n",
       "/mnt/home/pleung/projects/crispy_shifty/project...    -4  0.8105477795163555   \n",
       "/mnt/home/pleung/projects/crispy_shifty/project...    -4  0.8105477795163555   \n",
       "/mnt/home/pleung/projects/crispy_shifty/project...    -4  0.8105477795163555   \n",
       "/mnt/home/pleung/projects/crispy_shifty/project...    -4  0.8105477795163555   \n",
       "\n",
       "                                                                       state  \\\n",
       "/mnt/home/pleung/projects/crispy_shifty/project...  JHR_bd1_766_p_2_s_-4_d_3   \n",
       "/mnt/home/pleung/projects/crispy_shifty/project...  JHR_bd1_766_p_2_s_-4_d_3   \n",
       "/mnt/home/pleung/projects/crispy_shifty/project...  JHR_bd1_766_p_2_s_-4_d_3   \n",
       "/mnt/home/pleung/projects/crispy_shifty/project...  JHR_bd1_766_p_2_s_-4_d_3   \n",
       "/mnt/home/pleung/projects/crispy_shifty/project...  JHR_bd1_766_p_2_s_-4_d_3   \n",
       "\n",
       "                                                                 time  \\\n",
       "/mnt/home/pleung/projects/crispy_shifty/project...  5505.598720550537   \n",
       "/mnt/home/pleung/projects/crispy_shifty/project...  5505.598720550537   \n",
       "/mnt/home/pleung/projects/crispy_shifty/project...  5505.598720550537   \n",
       "/mnt/home/pleung/projects/crispy_shifty/project...  5505.598720550537   \n",
       "/mnt/home/pleung/projects/crispy_shifty/project...  5505.598720550537   \n",
       "\n",
       "                                                         tol  topo  \\\n",
       "/mnt/home/pleung/projects/crispy_shifty/project...  0.125468  HHHH   \n",
       "/mnt/home/pleung/projects/crispy_shifty/project...  0.141378  HHHH   \n",
       "/mnt/home/pleung/projects/crispy_shifty/project...  0.092924  HHHH   \n",
       "/mnt/home/pleung/projects/crispy_shifty/project...  0.163883  HHHH   \n",
       "/mnt/home/pleung/projects/crispy_shifty/project...  0.129839  HHHH   \n",
       "\n",
       "                                                   total_length total_score  \\\n",
       "/mnt/home/pleung/projects/crispy_shifty/project...        134.0    188.6167   \n",
       "/mnt/home/pleung/projects/crispy_shifty/project...        134.0  131.237213   \n",
       "/mnt/home/pleung/projects/crispy_shifty/project...        134.0  -25.122496   \n",
       "/mnt/home/pleung/projects/crispy_shifty/project...        134.0   -14.81866   \n",
       "/mnt/home/pleung/projects/crispy_shifty/project...        134.0  -19.818137   \n",
       "\n",
       "                                                   trimmed_length         type  \n",
       "/mnt/home/pleung/projects/crispy_shifty/project...            100  monomer_ptm  \n",
       "/mnt/home/pleung/projects/crispy_shifty/project...            100  monomer_ptm  \n",
       "/mnt/home/pleung/projects/crispy_shifty/project...            100  monomer_ptm  \n",
       "/mnt/home/pleung/projects/crispy_shifty/project...            100  monomer_ptm  \n",
       "/mnt/home/pleung/projects/crispy_shifty/project...            100  monomer_ptm  \n",
       "\n",
       "[5 rows x 128 columns]"
      ]
     },
     "execution_count": 8,
     "metadata": {},
     "output_type": "execute_result"
    }
   ],
   "source": [
    "from crispy_shifty.protocols.design import beta_nov16_terms\n",
    "\n",
    "scores_df = scores_df[\n",
    "    [term for term in scores_df.columns if term not in beta_nov16_terms]\n",
    "]\n",
    "print(len(scores_df))\n"
   ]
  },
  {
   "cell_type": "markdown",
   "metadata": {},
   "source": [
    "### Save a list of outputs"
   ]
  },
  {
   "cell_type": "code",
   "execution_count": null,
   "metadata": {},
   "outputs": [],
   "source": [
    "# simulation_name = \"03_fold_bound_states\"\n",
    "# output_path = os.path.join(os.getcwd(), f\"projects/crispy_shifties/{simulation_name}\")\n",
    "\n",
    "# with open(os.path.join(output_path, \"folded_states.list\"), \"w\") as f:\n",
    "#     for path in tqdm(scores_df.index):\n",
    "#         print(path, file=f)"
   ]
  },
  {
   "cell_type": "markdown",
   "metadata": {},
   "source": [
    "### Prototyping blocks"
   ]
  },
  {
   "cell_type": "markdown",
   "metadata": {},
   "source": [
    "test `fold_bound_state`"
   ]
  },
  {
   "cell_type": "code",
   "execution_count": null,
   "metadata": {
    "tags": []
   },
   "outputs": [],
   "source": [
    "%%time \n",
    "from operator import gt, lt\n",
    "import pyrosetta\n",
    "\n",
    "filter_dict = {\n",
    "    \"mean_plddt\": (gt, 85.0),\n",
    "    \"rmsd_to_reference\": (lt, 2.2),\n",
    "    \"mean_pae_interaction\": (lt, 10.0),\n",
    "}\n",
    "\n",
    "rank_on = \"mean_plddt\"\n",
    "prefix = \"mpnn_seq\"\n",
    "\n",
    "pyrosetta.init()\n",
    "\n",
    "\n",
    "sys.path.insert(0, \"~/projects/crispy_shifty/\") # TODO projects\n",
    "from crispy_shifty.protocols.folding import fold_bound_state\n",
    "\n",
    "t = fold_bound_state(\n",
    "        None,\n",
    "        **{\n",
    "            'fasta_path': '/mnt/home/pleung/projects/crispy_shifty/projects/crispy_shifties/02_mpnn_bound_states/fastas/0000/02_mpnn_bound_states_25a76fae39514121922e2b477b5b9813.fa',\n",
    "            \"filter_dict\": filter_dict,\n",
    "            \"models\": [1], # TODO\n",
    "            'pdb_path': '/mnt/home/pleung/projects/crispy_shifty/projects/crispy_shifties/02_mpnn_bound_states/decoys/0000/02_mpnn_bound_states_25a76fae39514121922e2b477b5b9813.pdb.bz2',\n",
    "            'prefix': prefix,\n",
    "            'rank_on': rank_on,\n",
    "#             'fasta_path': 'bar.fa',\n",
    "#             \"models\": [1, 2], # TODO\n",
    "#             'pdb_path': 'foo.pdb.bz2',\n",
    "            \n",
    "        }\n",
    ")\n",
    "for i, tppose in enumerate(t):\n",
    "    tppose.pose.dump_pdb(f\"{i}.pdb\")"
   ]
  },
  {
   "cell_type": "code",
   "execution_count": null,
   "metadata": {
    "scrolled": true
   },
   "outputs": [],
   "source": [
    "tppose.pose.scores"
   ]
  },
  {
   "cell_type": "markdown",
   "metadata": {},
   "source": [
    "test `generate_decoys_from_pose`"
   ]
  },
  {
   "cell_type": "code",
   "execution_count": null,
   "metadata": {},
   "outputs": [],
   "source": [
    "from operator import gt, lt\n",
    "from crispy_shifty.protocols.folding import generate_decoys_from_pose\n",
    "\n",
    "filter_dict = {\n",
    "    \"mean_plddt\": (gt, 85.0),\n",
    "    \"rmsd_to_reference\": (lt, 2.2),\n",
    "    \"mean_pae_interaction\": (lt, 10.0),\n",
    "}\n",
    "\n",
    "rank_on = \"mean_plddt\"\n",
    "prefix = \"mpnn_seq\"\n",
    "\n",
    "tpose = tppose.pose.clone()\n",
    "\n",
    "genr = generate_decoys_from_pose(\n",
    "    tpose, prefix=prefix, rank_on=rank_on, filter_dict=filter_dict\n",
    ")\n",
    "for d in genr:\n",
    "    print(d.sequence())"
   ]
  },
  {
   "cell_type": "code",
   "execution_count": null,
   "metadata": {},
   "outputs": [],
   "source": []
  },
  {
   "cell_type": "code",
   "execution_count": null,
   "metadata": {},
   "outputs": [],
   "source": []
  },
  {
   "cell_type": "code",
   "execution_count": null,
   "metadata": {},
   "outputs": [],
   "source": []
  }
 ],
 "metadata": {
  "kernelspec": {
   "display_name": "crispy (3.8.12)",
   "language": "python",
   "name": "crispy"
  },
  "language_info": {
   "codemirror_mode": {
    "name": "ipython",
    "version": 3
   },
   "file_extension": ".py",
   "mimetype": "text/x-python",
   "name": "python",
   "nbconvert_exporter": "python",
   "pygments_lexer": "ipython3",
   "version": "3.8.12"
  }
 },
 "nbformat": 4,
 "nbformat_minor": 5
}
