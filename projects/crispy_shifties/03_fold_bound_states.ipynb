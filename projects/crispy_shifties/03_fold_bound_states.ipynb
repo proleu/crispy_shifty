{
 "cells": [
  {
   "cell_type": "markdown",
   "metadata": {},
   "source": [
    "# Run hacked AlphaFold2 on the designed bound states"
   ]
  },
  {
   "cell_type": "markdown",
   "metadata": {},
   "source": [
    "### Imports"
   ]
  },
  {
   "cell_type": "code",
   "execution_count": 1,
   "metadata": {},
   "outputs": [
    {
     "name": "stdout",
     "output_type": "stream",
     "text": [
      "running in directory: /mnt/home/pleung/projects/crispy_shifty/projects/crispy_shifties\n",
      "running on node: gpu6\n"
     ]
    }
   ],
   "source": [
    "%load_ext lab_black\n",
    "# Python standard library\n",
    "from glob import glob\n",
    "import os\n",
    "import socket\n",
    "import sys\n",
    "\n",
    "# 3rd party library imports\n",
    "import dask\n",
    "import matplotlib.pyplot as plt\n",
    "import pandas as pd\n",
    "import pyrosetta\n",
    "import numpy as np\n",
    "import scipy\n",
    "import seaborn as sns\n",
    "from tqdm.auto import tqdm  # jupyter compatible progress bar\n",
    "\n",
    "tqdm.pandas()  # link tqdm to pandas\n",
    "# Notebook magic\n",
    "# save plots in the notebook\n",
    "%matplotlib inline\n",
    "# reloads modules automatically before executing cells\n",
    "%load_ext autoreload\n",
    "%autoreload 2\n",
    "print(f\"running in directory: {os.getcwd()}\")  # where are we?\n",
    "print(f\"running on node: {socket.gethostname()}\")  # what node are we on?"
   ]
  },
  {
   "cell_type": "markdown",
   "metadata": {},
   "source": [
    "### Set working directory to the root of the crispy_shifty repo\n",
    "TODO set to projects dir"
   ]
  },
  {
   "cell_type": "code",
   "execution_count": 2,
   "metadata": {},
   "outputs": [],
   "source": [
    "os.chdir(\"/home/pleung/projects/crispy_shifty\")\n",
    "# os.chdir(\"/projects/crispy_shifty\")"
   ]
  },
  {
   "cell_type": "markdown",
   "metadata": {},
   "source": [
    "### Run AF2 on the designed bound states\n",
    "TODO"
   ]
  },
  {
   "cell_type": "code",
   "execution_count": 3,
   "metadata": {},
   "outputs": [],
   "source": [
    "# from crispy_shifty.utils.io import gen_array_tasks\n",
    "\n",
    "# simulation_name = \"03_fold_bound_states\"\n",
    "# design_list_file = os.path.join(\n",
    "#     os.getcwd(), \"projects/crispy_shifties/02_mpnn_bound_states/mpnn_states.list\"\n",
    "# )\n",
    "# output_path = os.path.join(os.getcwd(), f\"projects/crispy_shifties/{simulation_name}\")\n",
    "# options = \" \".join(\n",
    "#     [\n",
    "#         \"out:level 200\",\n",
    "#     ]\n",
    "# )\n",
    "\n",
    "# gen_array_tasks(\n",
    "#     distribute_func=\"crispy_shifty.protocols.folding.fold_bound_state\",\n",
    "#     design_list_file=design_list_file,\n",
    "#     output_path=output_path,\n",
    "#     queue=\"medium\",\n",
    "#     memory=\"4G\",\n",
    "#     # TODO cores, GRES/gpu\n",
    "#     nstruct=1,\n",
    "#     nstruct_per_task=1,\n",
    "#     options=options,\n",
    "#     simulation_name=simulation_name,\n",
    "# )"
   ]
  },
  {
   "cell_type": "code",
   "execution_count": 4,
   "metadata": {},
   "outputs": [],
   "source": [
    "# !sbatch -a 1-$(cat /mnt/home/pleung/projects/crispy_shifty/projects/crispy_shifties/02_mpnn_bound_states/tasks.cmds | wc -l) /mnt/home/pleung/projects/crispy_shifty/projects/crispy_shifties/02_mpnn_bound_states/run.sh"
   ]
  },
  {
   "cell_type": "markdown",
   "metadata": {},
   "source": [
    "### Collect scorefiles of designed bound states and concatenate\n",
    "TODO change to projects dir"
   ]
  },
  {
   "cell_type": "code",
   "execution_count": 5,
   "metadata": {
    "scrolled": true,
    "tags": []
   },
   "outputs": [],
   "source": [
    "# sys.path.insert(0, \"~/projects/crispy_shifty\")  # TODO\n",
    "# from crispy_shifty.utils.io import collect_score_file\n",
    "\n",
    "# simulation_name = \"03_fold_bound_states\"\n",
    "# output_path = os.path.join(os.getcwd(), f\"projects/crispy_shifties/{simulation_name}\")\n",
    "\n",
    "# if not os.path.exists(os.path.join(output_path, \"scores.json\")):\n",
    "#     collect_score_file(output_path, \"scores\")"
   ]
  },
  {
   "cell_type": "markdown",
   "metadata": {},
   "source": [
    "### Load resulting concatenated scorefile\n",
    "TODO change to projects dir"
   ]
  },
  {
   "cell_type": "code",
   "execution_count": 6,
   "metadata": {
    "scrolled": true,
    "tags": []
   },
   "outputs": [],
   "source": [
    "# sys.path.insert(0, \"~/projects/crispy_shifty\")  # TODO\n",
    "# from crispy_shifty.utils.io import parse_scorefile_linear\n",
    "\n",
    "# output_path = os.path.join(os.getcwd(), f\"projects/crispy_shifties/{simulation_name}\")\n",
    "\n",
    "# scores_df = parse_scorefile_linear(os.path.join(output_path, \"scores.json\"))\n",
    "# scores_df = scores_df.convert_dtypes()"
   ]
  },
  {
   "cell_type": "markdown",
   "metadata": {},
   "source": [
    "### Setup for plotting"
   ]
  },
  {
   "cell_type": "code",
   "execution_count": 7,
   "metadata": {},
   "outputs": [],
   "source": [
    "# sns.set(\n",
    "#     context=\"talk\",\n",
    "#     font_scale=1,  # make the font larger; default is pretty small\n",
    "#     style=\"ticks\",  # make the background white with black lines\n",
    "#     palette=\"colorblind\",  # a color palette that is colorblind friendly!\n",
    "# )"
   ]
  },
  {
   "cell_type": "markdown",
   "metadata": {},
   "source": [
    "### Data exploration\n",
    "Gonna remove the Rosetta sfxn scoreterms for now"
   ]
  },
  {
   "cell_type": "code",
   "execution_count": 8,
   "metadata": {},
   "outputs": [],
   "source": [
    "# from crispy_shifty.protocols.design import beta_nov16_terms\n",
    "\n",
    "# scores_df = scores_df[\n",
    "#     [term for term in scores_df.columns if term not in beta_nov16_terms]\n",
    "# ]\n",
    "# print(len(scores_df))\n",
    "# scores_df.columns"
   ]
  },
  {
   "cell_type": "markdown",
   "metadata": {},
   "source": [
    "### Save a list of outputs"
   ]
  },
  {
   "cell_type": "code",
   "execution_count": 9,
   "metadata": {},
   "outputs": [],
   "source": [
    "# simulation_name = \"03_fold_bound_states\"\n",
    "# output_path = os.path.join(os.getcwd(), f\"projects/crispy_shifties/{simulation_name}\")\n",
    "\n",
    "# with open(os.path.join(output_path, \"folded_states.list\"), \"w\") as f:\n",
    "#     for path in tqdm(scores_df.index):\n",
    "#         print(path, file=f)"
   ]
  },
  {
   "cell_type": "markdown",
   "metadata": {},
   "source": [
    "### Prototyping blocks"
   ]
  },
  {
   "cell_type": "markdown",
   "metadata": {},
   "source": [
    "test `fold_bound_state`"
   ]
  },
  {
   "cell_type": "code",
   "execution_count": 10,
   "metadata": {
    "scrolled": true,
    "tags": []
   },
   "outputs": [
    {
     "name": "stdout",
     "output_type": "stream",
     "text": [
      "PyRosetta-4 2021 [Rosetta PyRosetta4.conda.linux.cxx11thread.serialization.CentOS.python38.Release 2021.50+release.4ff291ed8257ec2d0cd4d96ae4289e1d39ce1007 2021-12-16T00:25:15] retrieved from: http://www.pyrosetta.org\n",
      "(C) Copyright Rosetta Commons Member Institutions. Created in JHU by Sergey Lyskov and PyRosetta Team.\n",
      "core.init: Checking for fconfig files in pwd and ./rosetta/flags\n",
      "core.init: Rosetta version: PyRosetta4.conda.linux.cxx11thread.serialization.CentOS.python38.Release r306 2021.50+release.4ff291e 4ff291ed8257ec2d0cd4d96ae4289e1d39ce1007 http://www.pyrosetta.org 2021-12-16T00:25:15\n",
      "core.init: command: PyRosetta -ex1 -ex2aro -database /projects/crispy_shifty/envs/crispy/lib/python3.8/site-packages/pyrosetta/database\n",
      "basic.random.init_random_generator: 'RNG device' seed mode, using '/dev/urandom', seed=1053249104 seed_offset=0 real_seed=1053249104 thread_index=0\n",
      "basic.random.init_random_generator: RandomGenerator:init: Normal mode, seed=1053249104 RG_type=mt19937\n",
      "CPU times: user 25.2 ms, sys: 8.15 ms, total: 33.3 ms\n",
      "Wall time: 55.9 ms\n"
     ]
    }
   ],
   "source": [
    "%%time \n",
    "import pyrosetta\n",
    "\n",
    "pyrosetta.init()\n",
    "\n",
    "\n",
    "sys.path.insert(0, \"~/projects/crispy_shifty/\") # TODO projects\n",
    "from crispy_shifty.protocols.folding import fold_bound_state\n",
    "\n",
    "t = fold_bound_state(\n",
    "        None,\n",
    "        **{\n",
    "            'fasta_path': '/mnt/home/pleung/projects/crispy_shifty/projects/crispy_shifties/02_mpnn_bound_states/fastas/0000/02_mpnn_bound_states_25a76fae39514121922e2b477b5b9813.fa',\n",
    "            \"models\": [1], # TODO\n",
    "            'pdb_path': '/mnt/home/pleung/projects/crispy_shifty/projects/crispy_shifties/02_mpnn_bound_states/decoys/0000/02_mpnn_bound_states_25a76fae39514121922e2b477b5b9813.pdb.bz2',\n",
    "            \n",
    "        }\n",
    ")"
   ]
  },
  {
   "cell_type": "code",
   "execution_count": 11,
   "metadata": {},
   "outputs": [
    {
     "name": "stderr",
     "output_type": "stream",
     "text": [
      "/projects/crispy_shifty/envs/crispy/lib/python3.8/site-packages/dask_jobqueue/core.py:20: FutureWarning: tmpfile is deprecated and will be removed in a future release. Please use dask.utils.tmpfile instead.\n",
      "  from distributed.utils import tmpfile\n"
     ]
    },
    {
     "name": "stdout",
     "output_type": "stream",
     "text": [
      "Warning: Use of `pyrosetta.distributed.cluster` namespace requires Anaconda (or Miniconda) to be properly installed for reproducibility of PyRosetta simulations. Please install Anaconda (or Miniconda) onto your system to enable running `which conda`. For installation instructions, visit:\n",
      "https://docs.anaconda.com/anaconda/install\n",
      "\n",
      "core.chemical.GlobalResidueTypeSet: Finished initializing fa_standard residue type set.  Created 983 residue types\n",
      "core.chemical.GlobalResidueTypeSet: Total time to initialize 0.968952 seconds.\n",
      "0.04 min: Setting up for AF2\n",
      "/projects/crispy_shifty/envs/crispy/bin/python /mnt/home/pleung/projects/crispy_shifty/superfold/run_crispy.py /mnt/home/pleung/projects/crispy_shifty/projects/crispy_shifties/02_mpnn_bound_states/fastas/0000/02_mpnn_bound_states_25a76fae39514121922e2b477b5b9813.fa --mock_msa_depth 1 --nstruct 1 --num_ensemble 1 --pad_lengths   --pct_seq_mask 0.15 --seed_start 0 --turbo   --version monomer --max_recycles 3 --models 1 --recycle_tol 0.0 --type monomer_ptm --out_dir /scratch/pleung/7545711/e9aecd26b26d4f69a6f082de74a0b483 --initial_guess /scratch/pleung/7545711/e9aecd26b26d4f69a6f082de74a0b483/tmp.pdb --reference_pdb /scratch/pleung/7545711/e9aecd26b26d4f69a6f082de74a0b483/tmp.pdb\n",
      "0.04 min: AF2 complete, updating pose datacache\n"
     ]
    }
   ],
   "source": [
    "for i, tppose in enumerate(t):\n",
    "    tppose.pose.dump_pdb(f\"{i}.pdb\")"
   ]
  },
  {
   "cell_type": "code",
   "execution_count": null,
   "metadata": {},
   "outputs": [],
   "source": [
    "tppose.pose.scores"
   ]
  },
  {
   "cell_type": "code",
   "execution_count": null,
   "metadata": {},
   "outputs": [],
   "source": [
    "import pyrosetta.distributed.viewer as viewer\n",
    "\n",
    "ppose = pyrosetta.distributed.io.pose_from_file(\"test.pdb\")\n",
    "view = viewer.init(ppose, window_size=(1600, 1200))\n",
    "view.add(viewer.setStyle())\n",
    "view.add(viewer.setStyle(colorscheme=\"whiteCarbon\", radius=0.10))\n",
    "view.add(viewer.setHydrogenBonds())\n",
    "view.add(viewer.setHydrogens(polar_only=True))\n",
    "view.add(viewer.setDisulfides(radius=0.25))\n",
    "view()"
   ]
  },
  {
   "cell_type": "code",
   "execution_count": null,
   "metadata": {},
   "outputs": [],
   "source": []
  }
 ],
 "metadata": {
  "kernelspec": {
   "display_name": "crispy (3.8.12)",
   "language": "python",
   "name": "crispy"
  },
  "language_info": {
   "codemirror_mode": {
    "name": "ipython",
    "version": 3
   },
   "file_extension": ".py",
   "mimetype": "text/x-python",
   "name": "python",
   "nbconvert_exporter": "python",
   "pygments_lexer": "ipython3",
   "version": "3.8.12"
  }
 },
 "nbformat": 4,
 "nbformat_minor": 5
}
