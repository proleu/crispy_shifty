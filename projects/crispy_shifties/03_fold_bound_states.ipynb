{
 "cells": [
  {
   "cell_type": "markdown",
   "id": "4c6847f3",
   "metadata": {},
   "source": [
    "# Run hacked AlphaFold2 on the designed bound states"
   ]
  },
  {
   "cell_type": "markdown",
   "id": "23972c35",
   "metadata": {},
   "source": [
    "### Imports"
   ]
  },
  {
   "cell_type": "code",
   "execution_count": 1,
   "id": "c902cb02",
   "metadata": {},
   "outputs": [
    {
     "name": "stdout",
     "output_type": "stream",
     "text": [
      "running in directory: /global/cfs/cdirs/m4129/projects/crispy_shifty/projects/crispy_shifties\n",
      "running on node: nid002056\n"
     ]
    }
   ],
   "source": [
    "%load_ext lab_black\n",
    "# Python standard library\n",
    "from glob import glob\n",
    "import os\n",
    "import socket\n",
    "import sys\n",
    "\n",
    "# 3rd party library imports\n",
    "import dask\n",
    "import matplotlib.pyplot as plt\n",
    "import pandas as pd\n",
    "import pyrosetta\n",
    "import numpy as np\n",
    "import scipy\n",
    "import seaborn as sns\n",
    "from tqdm.auto import tqdm  # jupyter compatible progress bar\n",
    "\n",
    "tqdm.pandas()  # link tqdm to pandas\n",
    "# Notebook magic\n",
    "# save plots in the notebook\n",
    "%matplotlib inline\n",
    "# reloads modules automatically before executing cells\n",
    "%load_ext autoreload\n",
    "%autoreload 2\n",
    "print(f\"running in directory: {os.getcwd()}\")  # where are we?\n",
    "print(f\"running on node: {socket.gethostname()}\")  # what node are we on?"
   ]
  },
  {
   "cell_type": "markdown",
   "id": "73ba81f5",
   "metadata": {},
   "source": [
    "### Set working directory to the root of the crispy_shifty repo\n",
    "Note: We want to use perlmutter"
   ]
  },
  {
   "cell_type": "code",
   "execution_count": 2,
   "id": "45542925",
   "metadata": {},
   "outputs": [],
   "source": [
    "os.chdir(\"/global/cfs/cdirs/m4129/projects/crispy_shifty\")"
   ]
  },
  {
   "cell_type": "markdown",
   "id": "d1463e85",
   "metadata": {},
   "source": [
    "### Fix the paths\n",
    "Necessary because we are on perlmutter"
   ]
  },
  {
   "cell_type": "code",
   "execution_count": 3,
   "id": "cc6b2f1a",
   "metadata": {},
   "outputs": [
    {
     "name": "stderr",
     "output_type": "stream",
     "text": [
      "/global/cfs/cdirs/m3962/projects/crispy_shifty/envs/crispy/lib/python3.8/site-packages/dask_jobqueue/core.py:20: FutureWarning: tmpfile is deprecated and will be removed in a future release. Please use dask.utils.tmpfile instead.\n",
      "  from distributed.utils import tmpfile\n"
     ]
    }
   ],
   "source": [
    "from crispy_shifty.utils.io import fix_path_prefixes\n",
    "\n",
    "pairs = os.path.join(\n",
    "    os.getcwd(), \"projects/crispy_shifties/02_mpnn_bound_states/mpnn_states.pair\"\n",
    ")\n",
    "new_pairs = fix_path_prefixes(\n",
    "    find=\"/mnt\",\n",
    "    replace=\"/global/cfs/cdirs/m4129\",\n",
    "    file=pairs,\n",
    "    overwrite=True,\n",
    ")"
   ]
  },
  {
   "cell_type": "markdown",
   "id": "2fca7606",
   "metadata": {
    "tags": []
   },
   "source": [
    "### Run AF2 on the designed bound states"
   ]
  },
  {
   "cell_type": "code",
   "execution_count": 4,
   "id": "42c32884",
   "metadata": {},
   "outputs": [
    {
     "name": "stdout",
     "output_type": "stream",
     "text": [
      "Run the following command with your desired environment active:\n",
      "sbatch -a 1-1227 /pscratch/sd/p/pleung/03_fold_bound_states/run.sh\n"
     ]
    }
   ],
   "source": [
    "from crispy_shifty.utils.io import gen_array_tasks\n",
    "\n",
    "simulation_name = \"03_fold_bound_states\"\n",
    "design_list_file = os.path.join(\n",
    "    os.getcwd(),\n",
    "    \"projects/crispy_shifties/02_mpnn_bound_states/mpnn_states.pair\",\n",
    ")\n",
    "output_path = os.path.join(f\"/pscratch/sd/p/pleung/{simulation_name}\")\n",
    "\n",
    "options = \" \".join(\n",
    "    [\n",
    "        \"out:level 200\",\n",
    "    ]\n",
    ")\n",
    "extra_kwargs = {\"models\": \"1\"}\n",
    "\n",
    "gen_array_tasks(\n",
    "    distribute_func=\"crispy_shifty.protocols.folding.fold_bound_state\",\n",
    "    design_list_file=design_list_file,\n",
    "    output_path=output_path,\n",
    "    perlmutter_mode=True,\n",
    "    nstruct=1,\n",
    "    nstruct_per_task=1,\n",
    "    options=options,\n",
    "    extra_kwargs=extra_kwargs,\n",
    "    simulation_name=simulation_name,\n",
    "    time=\"28:00\",\n",
    ")"
   ]
  },
  {
   "cell_type": "markdown",
   "id": "8fe793bf",
   "metadata": {},
   "source": [
    "### Set working directory to the root of the crispy_shifty repo\n",
    "Note: We rsync the perlmutter results, now back on the digs"
   ]
  },
  {
   "cell_type": "code",
   "execution_count": null,
   "id": "cace6601",
   "metadata": {},
   "outputs": [],
   "source": [
    "os.chdir(\"/projects/crispy_shifty\")"
   ]
  },
  {
   "cell_type": "markdown",
   "id": "f71b154b",
   "metadata": {},
   "source": [
    "### Collect scorefiles of the folded bound states and concatenate"
   ]
  },
  {
   "cell_type": "code",
   "execution_count": null,
   "id": "d0644498",
   "metadata": {
    "scrolled": true,
    "tags": []
   },
   "outputs": [],
   "source": [
    "sys.path.insert(0, \"/projects/crispy_shifty\")\n",
    "from crispy_shifty.utils.io import collect_score_file\n",
    "\n",
    "simulation_name = \"03_fold_bound_states\"\n",
    "output_path = os.path.join(os.getcwd(), f\"projects/crispy_shifties/{simulation_name}\")\n",
    "\n",
    "if not os.path.exists(os.path.join(output_path, \"scores.json\")):\n",
    "    collect_score_file(output_path, \"scores\")"
   ]
  },
  {
   "cell_type": "markdown",
   "id": "4518b06f",
   "metadata": {},
   "source": [
    "### Load resulting concatenated scorefile\n",
    "TODO might have to switch to a dask accelerated approach for production"
   ]
  },
  {
   "cell_type": "code",
   "execution_count": null,
   "id": "7117fd8f",
   "metadata": {
    "scrolled": true,
    "tags": []
   },
   "outputs": [],
   "source": [
    "sys.path.insert(0, \"/projects/crispy_shifty\")\n",
    "from crispy_shifty.utils.io import parse_scorefile_linear\n",
    "\n",
    "output_path = os.path.join(os.getcwd(), f\"projects/crispy_shifties/{simulation_name}\")\n",
    "\n",
    "if not os.path.exists(os.path.join(output_path, \"scores.csv\")):\n",
    "    scores_df = parse_scorefile_linear(os.path.join(output_path, \"scores.json\"))"
   ]
  },
  {
   "cell_type": "markdown",
   "id": "f204ffc0",
   "metadata": {},
   "source": [
    "### Dump scores_df as a CSV and then reload, for performance reasons"
   ]
  },
  {
   "cell_type": "code",
   "execution_count": null,
   "id": "f3fd549f",
   "metadata": {},
   "outputs": [],
   "source": [
    "if not os.path.exists(os.path.join(output_path, \"scores.csv\")):\n",
    "    scores_df.to_csv(os.path.join(output_path, \"scores.csv\"))\n",
    "\n",
    "scores_df = pd.read_csv(os.path.join(output_path, \"scores.csv\"), index_col=\"Unnamed: 0\")"
   ]
  },
  {
   "cell_type": "markdown",
   "id": "1e2e5028",
   "metadata": {},
   "source": [
    "### Setup for plotting"
   ]
  },
  {
   "cell_type": "code",
   "execution_count": null,
   "id": "fa7042e3",
   "metadata": {},
   "outputs": [],
   "source": [
    "sns.set(\n",
    "    context=\"talk\",\n",
    "    font_scale=1,  # make the font larger; default is pretty small\n",
    "    style=\"ticks\",  # make the background white with black lines\n",
    "    palette=\"colorblind\",  # a color palette that is colorblind friendly!\n",
    ")"
   ]
  },
  {
   "cell_type": "markdown",
   "id": "d14b9526",
   "metadata": {},
   "source": [
    "### Data exploration\n",
    "Gonna remove the Rosetta sfxn scoreterms for now"
   ]
  },
  {
   "cell_type": "code",
   "execution_count": null,
   "id": "9cd60642",
   "metadata": {},
   "outputs": [],
   "source": [
    "rosetta = scores_df[scores_df[\"designed_by\"] == \"rosetta\"]\n",
    "mpnn = scores_df[scores_df[\"designed_by\"] == \"mpnn\"].sample(1000, random_state=0)\n",
    "sample_df = pd.concat([rosetta, mpnn])"
   ]
  },
  {
   "cell_type": "code",
   "execution_count": null,
   "id": "1cde9918",
   "metadata": {},
   "outputs": [],
   "source": [
    "from crispy_shifty.protocols.design import beta_nov16_terms\n",
    "\n",
    "sample_df = sample_df[\n",
    "    [term for term in sample_df.columns if term not in beta_nov16_terms]\n",
    "]\n",
    "print(len(sample_df))\n",
    "print(list(sample_df.columns))"
   ]
  },
  {
   "cell_type": "code",
   "execution_count": null,
   "id": "e1c027b2",
   "metadata": {},
   "outputs": [],
   "source": [
    "from crispy_shifty.utils.plotting import histplot_df, pairplot_df\n",
    "\n",
    "to_plot = [\n",
    "    \"best_average_plddts\",\n",
    "    \"best_model\",\n",
    "    \"best_ptm\",\n",
    "    \"best_rmsd_to_input\",\n",
    "    \"cms_AcB\",\n",
    "    \"cms_AnAc\",\n",
    "    \"cms_AnAcB\",\n",
    "    \"cms_AnB\",\n",
    "    \"designed_by\",\n",
    "    \"mean_pae\",\n",
    "    \"mean_pae_interaction\",\n",
    "    \"mean_pae_interaction_AB\",\n",
    "    \"mean_pae_interaction_BA\",\n",
    "    \"mean_pae_intra_chain\",\n",
    "    \"mean_pae_intra_chain_A\",\n",
    "    \"mean_pae_intra_chain_B\",\n",
    "    \"mean_plddt\",\n",
    "    \"mismatch_probability_parent\",\n",
    "    \"pTMscore\",\n",
    "    \"packstat_parent\",\n",
    "    \"pdb\",\n",
    "    \"recycles\",\n",
    "    \"rmsd_to_reference\",\n",
    "    \"sap_parent\",\n",
    "    \"sc_AcB\",\n",
    "    \"sc_AnAc\",\n",
    "    \"sc_AnAcB\",\n",
    "    \"sc_AnB\",\n",
    "    \"sc_all_parent\",\n",
    "    \"score_per_res\",\n",
    "    \"score_per_res_parent\",\n",
    "    \"ss_sc\",\n",
    "    \"state\",\n",
    "    \"topo\",\n",
    "]\n",
    "print(to_plot)"
   ]
  },
  {
   "cell_type": "markdown",
   "id": "1180ba01",
   "metadata": {},
   "source": [
    "### Plot before and after interface design AF2 metrics"
   ]
  },
  {
   "cell_type": "code",
   "execution_count": null,
   "id": "48836307",
   "metadata": {},
   "outputs": [],
   "source": [
    "cols = [\n",
    "    \"best_average_plddts\",\n",
    "    \"best_ptm\",\n",
    "    \"best_rmsd_to_input\",\n",
    "    \"mean_plddt\",\n",
    "    \"pTMscore\",\n",
    "    \"rmsd_to_reference\",\n",
    "]\n",
    "the_fig = histplot_df(\n",
    "    df=sample_df,\n",
    "    cols=cols,\n",
    "    bins=10,\n",
    "    hue=\"designed_by\",\n",
    ")\n",
    "plt.savefig(os.path.join(output_path, \"old_vs_new_af2_scores.png\"))"
   ]
  },
  {
   "cell_type": "code",
   "execution_count": null,
   "id": "63f73668",
   "metadata": {},
   "outputs": [],
   "source": [
    "the_fig = pairplot_df(\n",
    "    df=sample_df,\n",
    "    cols=cols,\n",
    "    hue=\"designed_by\",\n",
    ")\n",
    "plt.savefig(os.path.join(output_path, \"old_vs_new_af2_scores_paired.png\"))"
   ]
  },
  {
   "cell_type": "markdown",
   "id": "3b4c8585-4d63-48e0-9fbe-7f17c050faf4",
   "metadata": {},
   "source": [
    "### Plot effects of MPNN temperature and selector areas on AF2 metrics"
   ]
  },
  {
   "cell_type": "code",
   "execution_count": null,
   "id": "82acebc4-931b-4c0b-8b39-17778fac6e71",
   "metadata": {},
   "outputs": [],
   "source": [
    "mpnn[\"mpnn_temperature\"] = mpnn[\"mpnn_temperature\"].astype(str)\n",
    "\n",
    "cols = [\n",
    "    \"best_average_plddts\",\n",
    "    \"best_ptm\",\n",
    "    \"best_rmsd_to_input\",\n",
    "    \"mean_plddt\",\n",
    "    \"pTMscore\",\n",
    "    \"rmsd_to_reference\",\n",
    "]\n",
    "the_fig = histplot_df(\n",
    "    df=mpnn,\n",
    "    cols=cols,\n",
    "    bins=10,\n",
    "    hue=\"mpnn_temperature\",\n",
    ")\n",
    "plt.savefig(os.path.join(output_path, \"old_vs_new_af2_scores_temp.png\"))"
   ]
  },
  {
   "cell_type": "code",
   "execution_count": null,
   "id": "b410fed9-df41-48f0-8d99-e6b95ecd2bff",
   "metadata": {},
   "outputs": [],
   "source": [
    "the_fig = pairplot_df(\n",
    "    df=mpnn,\n",
    "    cols=cols,\n",
    "    hue=\"mpnn_temperature\",\n",
    ")\n",
    "plt.savefig(os.path.join(output_path, \"old_vs_new_af2_scores_temp_paired.png\"))"
   ]
  },
  {
   "cell_type": "code",
   "execution_count": null,
   "id": "51f48e34-84c7-48da-b386-b245c164effc",
   "metadata": {},
   "outputs": [],
   "source": [
    "the_fig = histplot_df(\n",
    "    df=mpnn,\n",
    "    cols=cols,\n",
    "    bins=10,\n",
    "    hue=\"mpnn_design_area\",\n",
    ")\n",
    "plt.savefig(os.path.join(output_path, \"old_vs_new_af2_scores_area.png\"))"
   ]
  },
  {
   "cell_type": "code",
   "execution_count": null,
   "id": "7bbf56d8-252e-486d-ab6d-647962839f57",
   "metadata": {},
   "outputs": [],
   "source": [
    "the_fig = pairplot_df(\n",
    "    df=mpnn,\n",
    "    cols=cols,\n",
    "    hue=\"mpnn_design_area\",\n",
    ")\n",
    "plt.savefig(os.path.join(output_path, \"old_vs_new_af2_scores_area_paired.png\"))"
   ]
  },
  {
   "cell_type": "code",
   "execution_count": null,
   "id": "efa263cb",
   "metadata": {},
   "outputs": [],
   "source": [
    "# sample_df[\"best_model\"] = sample_df[\"best_model\"].astype(str)\n",
    "# the_fig = histplot_df(\n",
    "#     df=sample_df,\n",
    "#     cols=cols,\n",
    "#     bins=10,\n",
    "#     hue=\"best_model\",\n",
    "# )"
   ]
  },
  {
   "cell_type": "code",
   "execution_count": null,
   "id": "33ac0b2a",
   "metadata": {},
   "outputs": [],
   "source": [
    "# sample_df[\"best_model\"] = sample_df[\"best_model\"].astype(str)\n",
    "# the_fig = histplot_df(\n",
    "#     df=sample_df,\n",
    "#     cols=cols,\n",
    "#     bins=10,\n",
    "#     hue=\"topo\",\n",
    "# )"
   ]
  },
  {
   "cell_type": "markdown",
   "id": "87b74fd8",
   "metadata": {},
   "source": [
    "### Plot interface metrics"
   ]
  },
  {
   "cell_type": "code",
   "execution_count": null,
   "id": "3c7f55b1",
   "metadata": {},
   "outputs": [],
   "source": [
    "cols = [\n",
    "    \"cms_AnAcB\",\n",
    "    \"mean_pae\",\n",
    "    \"mean_pae_interaction\",\n",
    "    \"mean_pae_intra_chain\",\n",
    "    \"mean_plddt\",\n",
    "    \"sc_AnAcB\",\n",
    "]\n",
    "the_fig = histplot_df(\n",
    "    df=sample_df,\n",
    "    cols=cols,\n",
    "    bins=10,\n",
    "    hue=\"designed_by\",\n",
    ")\n",
    "plt.savefig(os.path.join(output_path, \"interface_scores.png\"))"
   ]
  },
  {
   "cell_type": "code",
   "execution_count": null,
   "id": "03e93c2e",
   "metadata": {},
   "outputs": [],
   "source": [
    "the_fig = pairplot_df(\n",
    "    df=sample_df,\n",
    "    cols=cols,\n",
    "    hue=\"designed_by\",\n",
    ")\n",
    "plt.savefig(os.path.join(output_path, \"interface_scores_paired.png\"))"
   ]
  },
  {
   "cell_type": "markdown",
   "id": "ade09d43-13e5-42d2-8449-2c9e49051290",
   "metadata": {},
   "source": [
    "### Plot effects of MPNN temperature and selector areas on interface metrics"
   ]
  },
  {
   "cell_type": "code",
   "execution_count": null,
   "id": "40a435f4-99a2-4b79-9216-495234c3264a",
   "metadata": {},
   "outputs": [],
   "source": [
    "cols = [\n",
    "    \"cms_AnAcB\",\n",
    "    \"mean_pae\",\n",
    "    \"mean_pae_interaction\",\n",
    "    \"mean_pae_intra_chain\",\n",
    "    \"mean_plddt\",\n",
    "    \"sc_AnAcB\",\n",
    "]\n",
    "the_fig = histplot_df(\n",
    "    df=mpnn,\n",
    "    cols=cols,\n",
    "    bins=10,\n",
    "    hue=\"mpnn_temperature\",\n",
    ")\n",
    "plt.savefig(os.path.join(output_path, \"interface_scores_temp.png\"))"
   ]
  },
  {
   "cell_type": "code",
   "execution_count": null,
   "id": "e810278b-b2f6-4262-9bbb-82ac696dcffb",
   "metadata": {},
   "outputs": [],
   "source": [
    "the_fig = pairplot_df(\n",
    "    df=mpnn,\n",
    "    cols=cols,\n",
    "    hue=\"mpnn_temperature\",\n",
    ")\n",
    "plt.savefig(os.path.join(output_path, \"interface_scores_temp_paired.png\"))"
   ]
  },
  {
   "cell_type": "code",
   "execution_count": null,
   "id": "0c9bf10f-c16c-4f38-bfbe-236109f138bc",
   "metadata": {},
   "outputs": [],
   "source": [
    "the_fig = histplot_df(\n",
    "    df=mpnn,\n",
    "    cols=cols,\n",
    "    bins=10,\n",
    "    hue=\"mpnn_design_area\",\n",
    ")\n",
    "plt.savefig(os.path.join(output_path, \"interface_scores_area.png\"))"
   ]
  },
  {
   "cell_type": "code",
   "execution_count": null,
   "id": "defc29b7-4ee1-4170-bcd3-0879e73f36bf",
   "metadata": {},
   "outputs": [],
   "source": [
    "the_fig = pairplot_df(\n",
    "    df=mpnn,\n",
    "    cols=cols,\n",
    "    hue=\"mpnn_design_area\",\n",
    ")\n",
    "plt.savefig(os.path.join(output_path, \"interface_scores_area_paired.png\"))"
   ]
  },
  {
   "cell_type": "markdown",
   "id": "a3abab69",
   "metadata": {},
   "source": [
    "### Plot before and after for other scores"
   ]
  },
  {
   "cell_type": "code",
   "execution_count": null,
   "id": "8d58da4e",
   "metadata": {},
   "outputs": [],
   "source": [
    "cols = [\n",
    "    \"mean_plddt\",\n",
    "    \"mismatch_probability_parent\",\n",
    "    \"pTMscore\",\n",
    "    \"packstat_parent\",\n",
    "    \"rmsd_to_reference\",\n",
    "    \"sap_parent\",\n",
    "    \"sc_all_parent\",\n",
    "    \"score_per_res\",\n",
    "    \"score_per_res_parent\",\n",
    "    \"ss_sc\",\n",
    "]\n",
    "the_fig = histplot_df(\n",
    "    df=sample_df,\n",
    "    cols=cols,\n",
    "    bins=10,\n",
    "    hue=\"designed_by\",\n",
    ")\n",
    "plt.savefig(os.path.join(output_path, \"old_vs_new_other_scores.png\"))"
   ]
  },
  {
   "cell_type": "code",
   "execution_count": null,
   "id": "e05f6a8c",
   "metadata": {},
   "outputs": [],
   "source": [
    "the_fig = pairplot_df(\n",
    "    df=sample_df,\n",
    "    cols=cols,\n",
    "    hue=\"designed_by\",\n",
    ")\n",
    "plt.savefig(os.path.join(output_path, \"old_vs_new_other_scores_paired.png\"))"
   ]
  },
  {
   "cell_type": "markdown",
   "id": "97f53a1f",
   "metadata": {},
   "source": [
    "### Filter the whole df\n",
    "TODO could go slightly more lenient on pae for production"
   ]
  },
  {
   "cell_type": "code",
   "execution_count": null,
   "id": "be97fe19",
   "metadata": {},
   "outputs": [],
   "source": [
    "query = \"mean_plddt > 90 and mean_pae_interaction < 7.5 and rmsd_to_reference < 1.75 and mpnn_design_area == 'interface'\"  # TODO\n",
    "\n",
    "filtered = scores_df.query(query)\n",
    "len(filtered)"
   ]
  },
  {
   "cell_type": "markdown",
   "id": "1082bf13",
   "metadata": {},
   "source": [
    "### Plot topo and scaffold_type fraction before and after"
   ]
  },
  {
   "cell_type": "code",
   "execution_count": null,
   "id": "e4277479",
   "metadata": {},
   "outputs": [],
   "source": [
    "(\n",
    "    fig,\n",
    "    (ax1, ax2),\n",
    ") = plt.subplots(ncols=2, figsize=(20, 10), tight_layout=True)\n",
    "scores_df.groupby(\"scaffold_type\").size().plot(kind=\"pie\", autopct=\"%1.2f%%\", ax=ax1)\n",
    "ax1.set_ylabel(\"before\", rotation=0)\n",
    "filtered.groupby(\"scaffold_type\").size().plot(kind=\"pie\", autopct=\"%1.2f%%\", ax=ax2)\n",
    "ax2.set_ylabel(\"after\", rotation=0)\n",
    "\n",
    "plt.savefig(os.path.join(output_path, \"filtering_effect_scaffold_type.png\"))"
   ]
  },
  {
   "cell_type": "markdown",
   "id": "43d4c594",
   "metadata": {},
   "source": [
    "### Save a list of outputs\n",
    "Sort by length  \n",
    "TODO, do not sample in production run"
   ]
  },
  {
   "cell_type": "code",
   "execution_count": null,
   "id": "459fbe40",
   "metadata": {},
   "outputs": [],
   "source": [
    "simulation_name = \"03_fold_bound_states\"\n",
    "output_path = os.path.join(os.getcwd(), f\"projects/crispy_shifties/{simulation_name}\")\n",
    "filtered = filtered.sample(1000, random_state=0).sort_values(\"looped_length\")  # TODO\n",
    "with open(os.path.join(output_path, \"folded_states.list\"), \"w\") as f:\n",
    "    for path in tqdm(filtered.index):\n",
    "        print(path, file=f)"
   ]
  },
  {
   "cell_type": "markdown",
   "id": "dcace152",
   "metadata": {},
   "source": [
    "### Prototyping blocks"
   ]
  },
  {
   "cell_type": "markdown",
   "id": "18f5778c",
   "metadata": {},
   "source": [
    "test `fold_bound_state`"
   ]
  },
  {
   "cell_type": "code",
   "execution_count": null,
   "id": "9ba17e68",
   "metadata": {
    "tags": []
   },
   "outputs": [],
   "source": [
    "%%time \n",
    "from operator import gt, lt\n",
    "import pyrosetta\n",
    "\n",
    "filter_dict = {\n",
    "    \"mean_plddt\": (gt, 85.0),\n",
    "    \"rmsd_to_reference\": (lt, 2.2),\n",
    "    \"mean_pae_interaction\": (lt, 10.0),\n",
    "}\n",
    "\n",
    "rank_on = \"mean_plddt\"\n",
    "prefix = \"mpnn_seq\"\n",
    "\n",
    "pyrosetta.init()\n",
    "\n",
    "\n",
    "sys.path.insert(0, \"~/projects/crispy_shifty/\") # TODO projects\n",
    "from crispy_shifty.protocols.folding import fold_bound_state\n",
    "\n",
    "t = fold_bound_state(\n",
    "        None,\n",
    "        **{\n",
    "            'fasta_path': '/mnt/home/pleung/projects/crispy_shifty/projects/crispy_shifties/02_mpnn_bound_states/fastas/0000/02_mpnn_bound_states_25a76fae39514121922e2b477b5b9813.fa',\n",
    "            \"filter_dict\": filter_dict,\n",
    "            \"models\": [1], # TODO\n",
    "            'pdb_path': '/mnt/home/pleung/projects/crispy_shifty/projects/crispy_shifties/02_mpnn_bound_states/decoys/0000/02_mpnn_bound_states_25a76fae39514121922e2b477b5b9813.pdb.bz2',\n",
    "            'prefix': prefix,\n",
    "            'rank_on': rank_on,\n",
    "#             'fasta_path': 'bar.fa',\n",
    "#             \"models\": [1, 2], # TODO\n",
    "#             'pdb_path': 'foo.pdb.bz2',\n",
    "            \n",
    "        }\n",
    ")\n",
    "for i, tppose in enumerate(t):\n",
    "    tppose.pose.dump_pdb(f\"{i}.pdb\")"
   ]
  },
  {
   "cell_type": "code",
   "execution_count": null,
   "id": "9a4d0bf4",
   "metadata": {
    "scrolled": true
   },
   "outputs": [],
   "source": [
    "tppose.pose.scores"
   ]
  },
  {
   "cell_type": "markdown",
   "id": "883c96cd",
   "metadata": {},
   "source": [
    "test `generate_decoys_from_pose`"
   ]
  },
  {
   "cell_type": "code",
   "execution_count": null,
   "id": "5932059a",
   "metadata": {},
   "outputs": [],
   "source": [
    "from operator import gt, lt\n",
    "from crispy_shifty.protocols.folding import generate_decoys_from_pose\n",
    "\n",
    "filter_dict = {\n",
    "    \"mean_plddt\": (gt, 85.0),\n",
    "    \"rmsd_to_reference\": (lt, 2.2),\n",
    "    \"mean_pae_interaction\": (lt, 10.0),\n",
    "}\n",
    "\n",
    "rank_on = \"mean_plddt\"\n",
    "prefix = \"mpnn_seq\"\n",
    "\n",
    "tpose = tppose.pose.clone()\n",
    "\n",
    "genr = generate_decoys_from_pose(\n",
    "    tpose, prefix=prefix, rank_on=rank_on, filter_dict=filter_dict\n",
    ")\n",
    "for d in genr:\n",
    "    print(d.sequence())"
   ]
  },
  {
   "cell_type": "code",
   "execution_count": null,
   "id": "7ce39aea",
   "metadata": {},
   "outputs": [],
   "source": []
  },
  {
   "cell_type": "code",
   "execution_count": null,
   "id": "f6045009",
   "metadata": {},
   "outputs": [],
   "source": []
  },
  {
   "cell_type": "code",
   "execution_count": null,
   "id": "79e42662",
   "metadata": {},
   "outputs": [],
   "source": []
  }
 ],
 "metadata": {
  "kernelspec": {
   "display_name": "crispy (3.8.12)",
   "language": "python",
   "name": "crispy"
  },
  "language_info": {
   "codemirror_mode": {
    "name": "ipython",
    "version": 3
   },
   "file_extension": ".py",
   "mimetype": "text/x-python",
   "name": "python",
   "nbconvert_exporter": "python",
   "pygments_lexer": "ipython3",
   "version": "3.8.12"
  }
 },
 "nbformat": 4,
 "nbformat_minor": 5
}
