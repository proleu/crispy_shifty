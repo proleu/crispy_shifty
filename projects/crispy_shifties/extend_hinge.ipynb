{
 "cells": [
  {
   "cell_type": "code",
   "execution_count": 1,
   "metadata": {},
   "outputs": [
    {
     "name": "stdout",
     "output_type": "stream",
     "text": [
      "/mnt/home/flop/switch/5thround/extend\n",
      "PyRosetta-4 2022 [Rosetta PyRosetta4.conda.linux.cxx11thread.serialization.CentOS.python38.Release 2022.16+release.839b00f59d92ff5270c37073376bd37d27064c7e 2022-04-19T17:48:30] retrieved from: http://www.pyrosetta.org\n",
      "(C) Copyright Rosetta Commons Member Institutions. Created in JHU by Sergey Lyskov and PyRosetta Team.\n"
     ]
    }
   ],
   "source": [
    "!pwd\n",
    "import pyrosetta\n",
    "import os\n",
    "import glob\n",
    "pyrosetta.init(\"-mute all\")\n",
    "sfxn = pyrosetta.rosetta.core.scoring.ScoreFunction()\n",
    "sfxn.set_weight(pyrosetta.rosetta.core.scoring.fa_rep, 1)"
   ]
  },
  {
   "cell_type": "code",
   "execution_count": 2,
   "metadata": {},
   "outputs": [],
   "source": [
    "def range_CA_align(pose1, pose2, start1, end1, start2, end2):\n",
    "#modified from Adam's function (pose 1 mobile)\n",
    "    pose1_residue_selection = range(start1,end1)\n",
    "    pose2_residue_selection = range(start2,end2)\n",
    "    \n",
    "    assert len(pose1_residue_selection) == len(pose2_residue_selection)\n",
    "\n",
    "    pose1_coordinates = pyrosetta.rosetta.utility.vector1_numeric_xyzVector_double_t()\n",
    "    pose2_coordinates = pyrosetta.rosetta.utility.vector1_numeric_xyzVector_double_t()\n",
    "\n",
    "    for pose1_residue_index, pose2_residue_index in zip(pose1_residue_selection, pose2_residue_selection):\n",
    "        pose1_coordinates.append(pose1.residues[pose1_residue_index].xyz('CA'))\n",
    "        pose2_coordinates.append(pose2.residues[pose2_residue_index].xyz('CA'))\n",
    "\n",
    "    rotation_matrix = pyrosetta.rosetta.numeric.xyzMatrix_double_t()\n",
    "    pose1_center = pyrosetta.rosetta.numeric.xyzVector_double_t()\n",
    "    pose2_center = pyrosetta.rosetta.numeric.xyzVector_double_t()\n",
    "\n",
    "    pyrosetta.rosetta.protocols.toolbox.superposition_transform(pose1_coordinates,\n",
    "                                                                pose2_coordinates,\n",
    "                                                                rotation_matrix,\n",
    "                                                                pose1_center,\n",
    "                                                                pose2_center)\n",
    "\n",
    "    pyrosetta.rosetta.protocols.toolbox.apply_superposition_transform(pose1,\n",
    "                                                                      rotation_matrix,\n",
    "                                                                      pose1_center,\n",
    "                                                                      pose2_center)\n",
    "                     \n",
    "def clash_check(pose):\n",
    "    all_gly = pose.clone()\n",
    "    true_sel = pyrosetta.rosetta.core.select.residue_selector.TrueResidueSelector()\n",
    "    true_x = true_sel.apply(all_gly)\n",
    "    pyrosetta.rosetta.protocols.toolbox.pose_manipulation.repack_these_residues(true_x, all_gly, sfxn, False, \"G\" )\n",
    "    score = sfxn(all_gly)\n",
    "    return score\n",
    "\n",
    "def helix_dict(pose):\n",
    "    #pose = pyrosetta.io.pose_from_pdb(filename)\n",
    "    ss = pyrosetta.rosetta.core.scoring.dssp.Dssp(pose)\n",
    "    hlx_dict = {}\n",
    "    n = 1\n",
    "    for i in range(1,len(pose.sequence())):\n",
    "        if (ss.get_dssp_secstruct(i) == \"H\") & (ss.get_dssp_secstruct(i-1) !=\"H\"):\n",
    "            hlx_dict[n] = [i]\n",
    "        if (ss.get_dssp_secstruct(i) == \"H\") & (ss.get_dssp_secstruct(i+1) !=\"H\"):\n",
    "            hlx_dict[n].append(i)\n",
    "            n +=1\n",
    "    return hlx_dict\n",
    "\n",
    "def load_pose(name):\n",
    "    if type(name) == str:\n",
    "        pose = pyrosetta.io.pose_from_pdb(name)\n",
    "    else:\n",
    "        try:\n",
    "            pose = name.clone()\n",
    "        except:\n",
    "            print(\"input must be a pose or a path to a pose\")\n",
    "    return pose\n",
    "\n",
    "\n",
    "def swap_ab(name):\n",
    "    pose_ab = load_pose(name)\n",
    "    pose_ba = pose_ab.split_by_chain(2)\n",
    "    pyrosetta.rosetta.core.pose.append_pose_to_pose(pose_ba,pose_ab.split_by_chain(1),1)\n",
    "    return pose_ba\n",
    "# swap_ab: normally assume that oligomer is chain A and heterodimer is chain B. If the other way round ,then do swap_ab\n",
    "\n",
    "def extend_dhr(pose1,pose2, keep = \"c\", h1n = \"last\", h2n = \"last\", h1_c = 3, h2_c = 4):\n",
    "    if type(pose1) == str:\n",
    "        pose_n = pyrosetta.io.pose_from_pdb(pose1).split_by_chain(1)\n",
    "    else:\n",
    "        pose_n = pose1.split_by_chain(1)\n",
    "    if type(pose2) == str:\n",
    "        pose_c = pyrosetta.io.pose_from_pdb(pose2).split_by_chain(1)\n",
    "    else:\n",
    "        pose_c = pose2.split_by_chain(1)\n",
    "    hdn = helix_dict(pose_n)\n",
    "    hdc = helix_dict(pose_c)\n",
    "    if (h1n == \"last\") or (h1n == -2):\n",
    "        h1_n = list(hdn)[-2]\n",
    "    else:\n",
    "        h1_n = h1n\n",
    "    if (h2n == \"last\") or (h2n == -1):\n",
    "        h2_n = list(hdn)[-1]\n",
    "    else:\n",
    "        h2_n = h2n\n",
    "    copy_c = pose_c.clone()\n",
    "    newpose = pyrosetta.rosetta.core.pose.Pose()\n",
    "    start_c = hdc[h1_c][0]\n",
    "    end_c = hdc[h2_c][1]\n",
    "    start_n = hdn[h1_n][0]\n",
    "    end_n = hdn[h2_n][1]\n",
    "    if (end_n - start_n) != (end_c - start_c):\n",
    "        #print(end_n - start_n)\n",
    "        #print(end_c - start_c)\n",
    "        if keep == \"n\":\n",
    "            start_c = end_c - (end_n - start_n)\n",
    "        elif keep == \"c\":\n",
    "            end_n = start_n + (end_c - start_c) \n",
    "        else:\n",
    "            print(\"keep must be n or c\")\n",
    "        while (start_c < 1) or (start_n < 1):\n",
    "            start_c +=1\n",
    "            start_n +=1\n",
    "    range_CA_align(copy_c, pose_n, start_c, end_c, start_n, end_n)\n",
    "    if keep == \"n\":\n",
    "        cut1 = end_n \n",
    "        cut2 = end_c         \n",
    "    elif keep == \"c\":\n",
    "        cut1 = start_n \n",
    "        cut2 = start_c \n",
    "    else:\n",
    "        print(\"keep must be n or c\")\n",
    "    #print(cut1,cut2)\n",
    "    for i in range(1,cut1):\n",
    "        newpose.append_residue_by_bond(pose_n.residue(i))\n",
    "    for i in range(cut2,len(pose_c.sequence())+1):\n",
    "        newpose.append_residue_by_bond(copy_c.residue(i))\n",
    "    offset = (len(newpose.sequence())-len(pose_c.sequence()))    \n",
    "    \n",
    "    selx = pyrosetta.rosetta.core.select.residue_selector.ResiduePDBInfoHasLabelSelector(\"IntX\")\n",
    "    sely = pyrosetta.rosetta.core.select.residue_selector.ResiduePDBInfoHasLabelSelector(\"IntY\")\n",
    "    int_n = pyrosetta.rosetta.core.select.residue_selector.OrResidueSelector(selx,sely).apply(pose_n)\n",
    "    int_c = pyrosetta.rosetta.core.select.residue_selector.OrResidueSelector(selx,sely).apply(pose_c)\n",
    "    for i in pyrosetta.rosetta.core.select.get_residues_from_subset(int_n):\n",
    "        newpose.replace_residue(i,pose_n.residue(i),1)\n",
    "    for i in pyrosetta.rosetta.core.select.get_residues_from_subset(int_c):\n",
    "        newpose.replace_residue(i+offset,pose_c.residue(i),1)\n",
    "    info = pyrosetta.rosetta.core.pose.PDBInfo(newpose,1)\n",
    "    for label in [\"IntX\",\"IntY\"]:\n",
    "        sel = pyrosetta.rosetta.core.select.residue_selector.ResiduePDBInfoHasLabelSelector(label)\n",
    "        int_n = sel.apply(pose_n)\n",
    "        int_c = sel.apply(pose_c)\n",
    "        for i in pyrosetta.rosetta.core.select.get_residues_from_subset(int_n):            \n",
    "            info.add_reslabel(i,label)\n",
    "        for i in pyrosetta.rosetta.core.select.get_residues_from_subset(int_c):            \n",
    "            info.add_reslabel(i+offset,label)\n",
    "        newpose.pdb_info(info)\n",
    "    return newpose\n",
    "    \n",
    "    \n",
    "def oligomer_align(oligomer,monomer,const_term = \"n\", mono_chains = [1]):\n",
    "    oligo = load_pose(oligomer)\n",
    "    mono_full = load_pose(monomer)\n",
    "    if mono_chains == [1]:\n",
    "        mono = mono_full\n",
    "    else:\n",
    "        mono = pyrosetta.rosetta.core.pose.Pose()\n",
    "        for i in mono_chains:\n",
    "            pyrosetta.rosetta.core.pose.append_pose_to_pose(mono,mono_full.split_by_chain(i),1)\n",
    "    if const_term in [\"n\",\"N\"]:\n",
    "        start_m = 1\n",
    "        end_m = len(oligo.chain_sequence(1))\n",
    "    elif const_term in [\"c\",\"C\"]:\n",
    "        start_m = mono.size() - len(oligo.chain_sequence(1)) + 1\n",
    "        end_m = mono.size()\n",
    "    else:\n",
    "        print(\"const_term must be n or c\")\n",
    "    newpose = pyrosetta.rosetta.core.pose.Pose()\n",
    "    for i in range(oligo.num_chains()):\n",
    "        start_o = 1 + (i * len(oligo.chain_sequence(1)))\n",
    "        end_o = ((i+1) * len(oligo.chain_sequence(1)))\n",
    "        range_CA_align(mono, oligo, start_m, end_m, start_o, end_o)\n",
    "        if i == 0:\n",
    "            newpose = mono.clone()\n",
    "        if i >= 1:\n",
    "            for j in range(1,mono.num_chains()+1):\n",
    "                pyrosetta.rosetta.core.pose.append_pose_to_pose(newpose,mono.split_by_chain(j),1)\n",
    "        \n",
    "    return newpose\n",
    "\n",
    "def swap_chains(name,order):\n",
    "    pose_in = load_pose(name)\n",
    "    pose_out = pyrosetta.rosetta.core.pose.Pose()\n",
    "    for i in order:\n",
    "        pyrosetta.rosetta.core.pose.append_pose_to_pose(pose_out,pose_in.split_by_chain(i),1)\n",
    "    return pose_out\n",
    "\n",
    "\n",
    "def extend_oligomer(oligomer,extension,term,keep,oligo_hlx1,oligo_hlx2,ext_hlx1,ext_hlx2):\n",
    "    oligo = load_pose(oligomer)\n",
    "    ext = load_pose(extension)\n",
    "    oligo_sym = oligo.num_chains()\n",
    "    ext_chains = range(1,ext.num_chains()+1)\n",
    "    if term in ['N','n']:\n",
    "        p1 = extend_dhr(extension,oligomer,keep,ext_hlx1,ext_hlx2,oligo_hlx1,oligo_hlx2)\n",
    "        p2 = oligomer_align(oligomer,p1,\"c\",ext_chains)\n",
    "    elif term in ['C','c']:\n",
    "        p1 = extend_dhr(oligomer,extension,keep,oligo_hlx1,oligo_hlx2,ext_hlx1,ext_hlx2)\n",
    "        p2 = oligomer_align(oligomer,p1,\"n\",[x-1+oligo_sym for x in ext_chains])\n",
    "    else:\n",
    "        print(\"term must be n or c\")\n",
    "    return p2\n",
    "\n",
    "def extend_oligo_hinge(hinge,parent,nrep=2,crep=2):\n",
    "    par = load_pose(parent).split_by_chain(1)\n",
    "    hin = load_pose(hinge)\n",
    "    nres = []\n",
    "    cres = []\n",
    "    offset = hin.split_by_chain(1).size() - par.size()\n",
    "    for i in range(1,par.size()//2 - 10):\n",
    "        if par.sequence(i,i) != hin.sequence(i,i):\n",
    "            nres.append(i)\n",
    "    for i in range(par.size()//2 + 10,par.size()):\n",
    "        if par.sequence(i,i) != hin.sequence(i+offset,i+offset):\n",
    "            cres.append(i)        \n",
    "    print(nres)\n",
    "    print(cres)\n",
    "    p1 = extend_dhr(par,hin.split_by_chain(1),\"n\",5,6,1,2)\n",
    "    offset_n = p1.split_by_chain(1).size() - hin.split_by_chain(1).size()\n",
    "    print(offset_n,offset)\n",
    "    p2 = oligomer_align(hin,p1,const_term = \"c\")\n",
    "    p3 = extend_dhr(p2.split_by_chain(1),par,\"c\",\"last\",\"last\",3,4)\n",
    "    offset_c = p3.split_by_chain(1).size() - p1.split_by_chain(1).size()\n",
    "    for i in nres:\n",
    "        p3.replace_residue(i+offset_n,hin.residue(i),1)\n",
    "    for i in cres:\n",
    "        p3.replace_residue(i+offset_n+offset,hin.residue(i+offset),1)\n",
    "    p4 = oligomer_align(p2,p3,const_term = \"n\")\n",
    "    return p4\n",
    "\n",
    "def extend_mono_hinge(hinge,parent,nrep=2,crep=2):\n",
    "    par = load_pose(parent).split_by_chain(1)\n",
    "    hin = load_pose(hinge)\n",
    "    nres = []\n",
    "    cres = []\n",
    "    offset = hin.split_by_chain(1).size() - par.size()\n",
    "    for i in range(1,par.size()//2 - 10):\n",
    "        if par.sequence(i,i) != hin.sequence(i,i):\n",
    "            nres.append(i)\n",
    "    for i in range(par.size()//2 + 10,par.size()):\n",
    "        if par.sequence(i,i) != hin.sequence(i+offset,i+offset):\n",
    "            cres.append(i)        \n",
    "    print(nres)\n",
    "    print(cres)\n",
    "    if nrep ==2:\n",
    "        p1 = extend_dhr(par,hin.split_by_chain(1),\"c\",7,8,3,4)\n",
    "    elif nrep ==1: \n",
    "        p1 = extend_dhr(par,hin.split_by_chain(1),\"c\",5,6,3,4)\n",
    "    offset_n = p1.split_by_chain(1).size() - hin.split_by_chain(1).size()\n",
    "    print(offset_n,offset)\n",
    "    p2 = p1\n",
    "    if crep == 2:\n",
    "        p3 = extend_dhr(p2.split_by_chain(1),par,\"c\",\"last\",\"last\",3,4)\n",
    "    elif crep == 1:\n",
    "        p3 = extend_dhr(p2.split_by_chain(1),par,\"c\",\"last\",\"last\",5,6)\n",
    "    offset_c = p3.split_by_chain(1).size() - p1.split_by_chain(1).size()\n",
    "    for i in nres:\n",
    "        p3.replace_residue(i+offset_n,hin.residue(i),1)\n",
    "    for i in cres:\n",
    "        p3.replace_residue(i+offset_n+offset,hin.residue(i+offset),1)\n",
    "    p4 = p3\n",
    "    return p4"
   ]
  },
  {
   "cell_type": "code",
   "execution_count": 4,
   "metadata": {},
   "outputs": [
    {
     "name": "stdout",
     "output_type": "stream",
     "text": [
      "[1, 2, 3, 8, 15, 16, 17, 18, 19, 24, 27, 31, 34, 35, 37, 39, 40, 42, 44, 47, 51, 53, 54, 56, 57, 62, 64]\n",
      "[86, 87, 88, 90, 91, 92, 93, 94, 95, 96, 97, 98, 99, 100, 101, 102, 104, 105, 106, 107, 108, 109, 110, 111, 112, 113, 114, 115, 116, 117, 118, 119, 120, 121, 123, 124, 125, 126, 127, 128, 130, 131, 132, 133, 134, 135, 136, 137, 138, 139, 140, 141, 143, 144, 145, 146, 147, 148, 149, 150, 151]\n",
      "38 2\n",
      "[1, 2, 3, 8, 15, 16, 17, 18, 19, 24, 27, 31, 34, 35, 37, 39, 40, 42, 44, 47, 51, 53, 54, 56, 57, 62, 64]\n",
      "[86, 87, 88, 90, 91, 92, 93, 94, 95, 96, 97, 98, 99, 100, 101, 102, 104, 105, 106, 107, 108, 109, 110, 111, 112, 113, 114, 115, 116, 117, 118, 119, 120, 121, 123, 124, 125, 126, 127, 128, 130, 131, 132, 133, 134, 135, 136, 137, 138, 139, 140, 141, 143, 144, 145, 146, 147, 148, 149, 150, 151]\n",
      "38 2\n",
      "[1, 2, 3, 8, 15, 16, 17, 18, 19, 24, 27, 31, 34, 35, 37, 39, 40, 42, 44, 47, 51, 53, 54, 56, 57, 62, 64]\n",
      "[86, 87, 88, 90, 91, 92, 93, 94, 95, 96, 97, 98, 99, 100, 101, 102, 104, 105, 106, 107, 108, 109, 110, 111, 112, 113, 114, 115, 116, 117, 118, 119, 120, 121, 123, 124, 125, 126, 127, 128, 130, 131, 132, 133, 134, 135, 136, 137, 138, 139, 140, 141, 143, 144, 145, 146, 147, 148, 149, 150, 151]\n",
      "76 2\n",
      "[1, 2, 3, 8, 15, 16, 17, 18, 19, 24, 27, 31, 34, 35, 37, 39, 40, 42, 44, 47, 51, 53, 54, 56, 57, 62, 64]\n",
      "[86, 87, 88, 90, 91, 92, 93, 94, 95, 96, 97, 98, 99, 100, 101, 102, 104, 105, 106, 107, 108, 109, 110, 111, 112, 113, 114, 115, 116, 117, 118, 119, 120, 121, 123, 124, 125, 126, 127, 128, 130, 131, 132, 133, 134, 135, 136, 137, 138, 139, 140, 141, 143, 144, 145, 146, 147, 148, 149, 150, 151]\n",
      "76 2\n"
     ]
    },
    {
     "data": {
      "text/plain": [
       "True"
      ]
     },
     "execution_count": 4,
     "metadata": {},
     "output_type": "execute_result"
    }
   ],
   "source": [
    "p = extend_mono_hinge(\"in/cs_221X.pdb\",\"in/DHR20.pdb\",1,1)\n",
    "p.dump_pdb(\"cs221_X_n1c1.pdb\")\n",
    "p = extend_mono_hinge(\"in/cs_221Y.pdb\",\"in/DHR20.pdb\",1,1)\n",
    "p.dump_pdb(\"cs221_Y_n1c1.pdb\")\n",
    "p = extend_mono_hinge(\"in/cs_221X.pdb\",\"in/DHR20.pdb\")\n",
    "p.dump_pdb(\"cs221_X_n2c2.pdb\")\n",
    "p = extend_mono_hinge(\"in/cs_221Y.pdb\",\"in/DHR20.pdb\")\n",
    "p.dump_pdb(\"cs221_Y_n2c2.pdb\")"
   ]
  },
  {
   "cell_type": "code",
   "execution_count": 4,
   "metadata": {},
   "outputs": [
    {
     "data": {
      "text/plain": [
       "True"
      ]
     },
     "execution_count": 4,
     "metadata": {},
     "output_type": "execute_result"
    }
   ],
   "source": [
    "p = extend_dhr('in/DHR14a.pdb','in/J7X_G133P.pdb',\"n\", 3,4,1,2)\n",
    "p.dump_pdb('J7X_P_extn1.pdb')\n",
    "p = extend_dhr('in/DHR14a.pdb','in/J7Y_G133P.pdb',\"n\", 3,4,1,2)\n",
    "p.dump_pdb('J7Y_P_extn1.pdb')"
   ]
  },
  {
   "cell_type": "code",
   "execution_count": 5,
   "metadata": {},
   "outputs": [
    {
     "data": {
      "text/plain": [
       "True"
      ]
     },
     "execution_count": 5,
     "metadata": {},
     "output_type": "execute_result"
    }
   ],
   "source": [
    "p = extend_dhr('in/DHR14a.pdb','in/J7X_G133P.pdb',\"n\", 5,6,1,2)\n",
    "p.dump_pdb('J7X_P_extn2.pdb')\n",
    "p = extend_dhr('in/DHR14a.pdb','in/J7Y_G133P.pdb',\"n\", 5,6,1,2)\n",
    "p.dump_pdb('J7Y_P_extn2.pdb')"
   ]
  },
  {
   "cell_type": "code",
   "execution_count": 6,
   "metadata": {},
   "outputs": [
    {
     "data": {
      "text/plain": [
       "True"
      ]
     },
     "execution_count": 6,
     "metadata": {},
     "output_type": "execute_result"
    }
   ],
   "source": [
    "p = extend_dhr('in/DHR14b.pdb','in/J7X_G133P.pdb',\"n\", 3,4,1,2)\n",
    "p.dump_pdb('J7X_P_extn1_dhr14x.pdb')\n",
    "p = extend_dhr('in/DHR14b.pdb','in/J7Y_G133P.pdb',\"n\", 3,4,1,2)\n",
    "p.dump_pdb('J7Y_P_extn1_dhr14x.pdb')\n",
    "p = extend_dhr('in/DHR14b.pdb','in/J7X_G133P.pdb',\"n\", 5,6,1,2)\n",
    "p.dump_pdb('J7X_P_extn2_dhr14x.pdb')\n",
    "p = extend_dhr('in/DHR14b.pdb','in/J7Y_G133P.pdb',\"n\", 5,6,1,2)\n",
    "p.dump_pdb('J7Y_P_extn2_dhr14x.pdb')"
   ]
  },
  {
   "cell_type": "code",
   "execution_count": 3,
   "metadata": {},
   "outputs": [
    {
     "name": "stdout",
     "output_type": "stream",
     "text": [
      "[42, 49, 59, 62, 63, 66, 73, 77, 80, 84, 89, 94, 97, 99, 100, 104]\n",
      "[127, 128, 129, 130, 131, 132, 133, 134, 136, 137, 138, 139, 140, 141, 142, 143, 144, 145, 146, 147, 148, 149, 150, 151, 153, 154, 155, 160, 161, 162, 166, 167, 168, 169, 170, 171, 172, 173, 174, 175, 176, 177, 178, 180, 181, 182, 183, 184, 185, 186, 187, 188, 189, 190, 191, 192, 193, 194, 195, 197, 198, 199, 200, 201, 202, 203, 204, 205, 206, 207, 208, 211, 212, 213, 216, 217, 218, 219, 220, 222, 223, 224, 225, 226, 227, 228, 229, 230, 231]\n",
      "58 -2\n",
      "[42, 49, 59, 62, 63, 66, 73, 77, 80, 84, 89, 94, 97, 99, 100, 104]\n",
      "[127, 128, 129, 130, 131, 132, 133, 134, 136, 137, 138, 139, 140, 141, 142, 143, 144, 145, 146, 147, 148, 149, 150, 151, 153, 154, 155, 160, 161, 162, 166, 167, 168, 169, 170, 171, 172, 173, 174, 175, 176, 177, 178, 180, 181, 182, 183, 184, 185, 186, 187, 188, 189, 190, 191, 192, 193, 194, 195, 197, 198, 199, 200, 201, 202, 203, 204, 205, 206, 207, 208, 211, 212, 213, 216, 217, 218, 219, 220, 222, 223, 224, 225, 226, 227, 228, 229, 230, 231]\n",
      "58 -2\n",
      "[42, 49, 59, 62, 63, 66, 73, 77, 80, 84, 89, 94, 97, 99, 100, 104]\n",
      "[127, 128, 129, 130, 131, 132, 133, 134, 136, 137, 138, 139, 140, 141, 142, 143, 144, 145, 146, 147, 148, 149, 150, 151, 153, 154, 155, 160, 161, 162, 166, 167, 168, 169, 170, 171, 172, 173, 174, 175, 176, 177, 178, 180, 181, 182, 183, 184, 185, 186, 187, 188, 189, 190, 191, 192, 193, 194, 195, 197, 198, 199, 200, 201, 202, 203, 204, 205, 206, 207, 208, 211, 212, 213, 216, 217, 218, 219, 220, 222, 223, 224, 225, 226, 227, 228, 229, 230, 231]\n",
      "116 -2\n",
      "[42, 49, 59, 62, 63, 66, 73, 77, 80, 84, 89, 94, 97, 99, 100, 104]\n",
      "[127, 128, 129, 130, 131, 132, 133, 134, 136, 137, 138, 139, 140, 141, 142, 143, 144, 145, 146, 147, 148, 149, 150, 151, 153, 154, 155, 160, 161, 162, 166, 167, 168, 169, 170, 171, 172, 173, 174, 175, 176, 177, 178, 180, 181, 182, 183, 184, 185, 186, 187, 188, 189, 190, 191, 192, 193, 194, 195, 197, 198, 199, 200, 201, 202, 203, 204, 205, 206, 207, 208, 211, 212, 213, 216, 217, 218, 219, 220, 222, 223, 224, 225, 226, 227, 228, 229, 230, 231]\n",
      "116 -2\n"
     ]
    },
    {
     "data": {
      "text/plain": [
       "True"
      ]
     },
     "execution_count": 3,
     "metadata": {},
     "output_type": "execute_result"
    }
   ],
   "source": [
    "p = extend_mono_hinge(\"in/cs201r1_X.pdb\",\"in/DHR82.pdb\",1,1)\n",
    "p.dump_pdb(\"cs201_X_n1c1.pdb\")\n",
    "p = extend_mono_hinge(\"in/cs201r1_Y.pdb\",\"in/DHR82.pdb\",1,1)\n",
    "p.dump_pdb(\"cs201_Y_n1c1.pdb\")\n",
    "p = extend_mono_hinge(\"in/cs201r1_X.pdb\",\"in/DHR82.pdb\")\n",
    "p.dump_pdb(\"cs201_X_n2c2.pdb\")\n",
    "p = extend_mono_hinge(\"in/cs201r1_Y.pdb\",\"in/DHR82.pdb\")\n",
    "p.dump_pdb(\"cs201_Y_n2c2.pdb\")"
   ]
  },
  {
   "cell_type": "code",
   "execution_count": 120,
   "metadata": {},
   "outputs": [
    {
     "name": "stdout",
     "output_type": "stream",
     "text": [
      "[42, 49, 59, 63, 73, 80, 84, 90, 93, 96, 97, 99, 100, 101, 103, 104]\n",
      "[128, 129, 130, 132, 133, 135, 136, 139, 140, 144, 159, 170]\n",
      "116 3\n"
     ]
    },
    {
     "data": {
      "text/plain": [
       "True"
      ]
     },
     "execution_count": 120,
     "metadata": {},
     "output_type": "execute_result"
    }
   ],
   "source": [
    "p = extend_mono_hinge(\"in/pair157_232_Y_0001.pdb\",\"in/DHR82.pdb\")\n",
    "p.dump_pdb(\"FF74_Y_n2c2_new_unrel.pdb\")"
   ]
  },
  {
   "cell_type": "code",
   "execution_count": 5,
   "metadata": {},
   "outputs": [
    {
     "name": "stdout",
     "output_type": "stream",
     "text": [
      "[42, 49, 59, 63, 73, 80, 84, 90, 93, 96, 97, 99, 100, 101, 103, 104]\n",
      "[128, 129, 130, 132, 133, 135, 136, 139, 140, 144, 159, 170]\n",
      "58 3\n",
      "[42, 49, 59, 63, 73, 80, 84, 90, 93, 96, 97, 99, 100, 101, 103, 104]\n",
      "[128, 129, 130, 132, 133, 135, 136, 139, 140, 144, 159, 170]\n",
      "58 3\n"
     ]
    },
    {
     "data": {
      "text/plain": [
       "True"
      ]
     },
     "execution_count": 5,
     "metadata": {},
     "output_type": "execute_result"
    }
   ],
   "source": [
    "p = extend_mono_hinge(\"in/pair157_232_X_0001.pdb\",\"in/DHR82.pdb\",1,1)\n",
    "p.dump_pdb(\"FF74_X_n1c1.pdb\")\n",
    "p = extend_mono_hinge(\"in/pair157_232_Y_0001.pdb\",\"in/DHR82.pdb\",1,1)\n",
    "p.dump_pdb(\"FF74_Y_n1c1.pdb\")"
   ]
  },
  {
   "cell_type": "code",
   "execution_count": 111,
   "metadata": {},
   "outputs": [
    {
     "name": "stdout",
     "output_type": "stream",
     "text": [
      "[11, 14, 19, 20, 21, 25, 27, 31, 32, 34, 35, 36, 38, 39, 40, 41, 43, 46, 47, 55, 57, 60, 62]\n",
      "[88, 91, 93, 94, 95, 96, 99, 100, 101, 104, 105, 107, 108, 111, 113, 114, 115, 117, 118, 119, 120, 122, 126, 129, 130, 131, 142, 145, 146, 147, 148, 149]\n",
      "76 1\n",
      "[11, 14, 19, 20, 21, 25, 27, 31, 32, 34, 35, 36, 38, 39, 40, 41, 43, 46, 47, 55, 57, 60, 62]\n",
      "[88, 91, 93, 94, 95, 96, 99, 100, 101, 104, 105, 107, 108, 111, 113, 114, 115, 117, 118, 119, 120, 122, 126, 129, 130, 131, 142, 145, 146, 147, 148, 149]\n",
      "76 1\n",
      "[11, 14, 19, 20, 21, 25, 27, 31, 32, 34, 35, 36, 38, 39, 40, 41, 43, 46, 47, 55, 57, 60, 62]\n",
      "[88, 91, 93, 94, 95, 96, 99, 100, 101, 104, 105, 107, 108, 110, 111, 113, 114, 115, 117, 118, 119, 120, 122, 126, 129, 130, 131, 142, 145, 146, 147, 148, 149]\n",
      "76 1\n"
     ]
    },
    {
     "data": {
      "text/plain": [
       "True"
      ]
     },
     "execution_count": 111,
     "metadata": {},
     "output_type": "execute_result"
    }
   ],
   "source": [
    "p = extend_hinge(\"in/FF86-0.pdb\",\"in/DHR21.pdb\")\n",
    "p.dump_pdb(\"v3_FF86-0_n2c2.pdb\")\n",
    "p = extend_hinge(\"in/FF86-1.pdb\",\"in/DHR21.pdb\")\n",
    "p.dump_pdb(\"v3_FF86-1_n2c2.pdb\")\n",
    "p = extend_hinge(\"in/FF86-2.pdb\",\"in/DHR21.pdb\")\n",
    "p.dump_pdb(\"v3_FF86-2_n2c2.pdb\")"
   ]
  },
  {
   "cell_type": "code",
   "execution_count": 126,
   "metadata": {},
   "outputs": [
    {
     "name": "stdout",
     "output_type": "stream",
     "text": [
      "[20, 21, 22, 24, 27, 28, 31, 40, 43, 47, 55, 57, 58, 60, 62, 63, 64, 66, 67]\n",
      "[90, 91, 94, 95, 96, 100, 101, 103, 105, 106, 107, 114, 122, 125, 126, 134, 136, 139]\n",
      "78 1\n",
      "[20, 21, 22, 24, 27, 28, 31, 40, 43, 47, 55, 57, 58, 59, 60, 62, 63, 64, 66, 67]\n",
      "[90, 91, 94, 95, 96, 97, 100, 101, 103, 105, 106, 107, 114, 122, 125, 126, 134, 136, 139]\n",
      "78 1\n"
     ]
    },
    {
     "data": {
      "text/plain": [
       "True"
      ]
     },
     "execution_count": 126,
     "metadata": {},
     "output_type": "execute_result"
    }
   ],
   "source": [
    "p = extend_oligo_hinge(\"in/FF81-0.pdb\",\"in/DHR46.pdb\")\n",
    "p.dump_pdb(\"v3_FF81-0_n2c2.pdb\")\n",
    "p = extend_oligo_hinge(\"in/FF81-1.pdb\",\"in/DHR46.pdb\")\n",
    "p.dump_pdb(\"v3_FF81-1_n2c2.pdb\")"
   ]
  },
  {
   "cell_type": "code",
   "execution_count": 51,
   "metadata": {},
   "outputs": [
    {
     "data": {
      "text/plain": [
       "{1: [2, 28],\n",
       " 2: [31, 54],\n",
       " 3: [59, 86],\n",
       " 4: [89, 112],\n",
       " 5: [117, 147],\n",
       " 6: [150, 173],\n",
       " 7: [178, 205],\n",
       " 8: [208, 231],\n",
       " 9: [237, 262]}"
      ]
     },
     "execution_count": 51,
     "metadata": {},
     "output_type": "execute_result"
    }
   ],
   "source": [
    "helix_dict(load_pose(\"in/pair157_232_X_0001.pdb\"))"
   ]
  },
  {
   "cell_type": "code",
   "execution_count": 52,
   "metadata": {},
   "outputs": [
    {
     "data": {
      "text/plain": [
       "{1: [2, 28],\n",
       " 2: [31, 54],\n",
       " 3: [59, 86],\n",
       " 4: [89, 112],\n",
       " 5: [117, 144],\n",
       " 6: [147, 170],\n",
       " 7: [175, 202],\n",
       " 8: [205, 228]}"
      ]
     },
     "execution_count": 52,
     "metadata": {},
     "output_type": "execute_result"
    }
   ],
   "source": [
    "helix_dict(load_pose(\"in/DHR82.pdb\"))"
   ]
  },
  {
   "cell_type": "code",
   "execution_count": 123,
   "metadata": {},
   "outputs": [
    {
     "name": "stdout",
     "output_type": "stream",
     "text": [
      "14\n",
      "16\n",
      "15\n",
      "16\n",
      "15\n",
      "16\n",
      "15\n",
      "16\n"
     ]
    }
   ],
   "source": [
    "hd = helix_dict(load_pose(\"in/DHR46.pdb\"))\n",
    "for i in list(hd):\n",
    "    print(hd[i][1]-hd[i][0])"
   ]
  },
  {
   "cell_type": "code",
   "execution_count": 124,
   "metadata": {},
   "outputs": [
    {
     "name": "stdout",
     "output_type": "stream",
     "text": [
      "14\n",
      "16\n",
      "15\n",
      "14\n",
      "16\n",
      "16\n",
      "15\n",
      "16\n",
      "14\n",
      "16\n",
      "15\n",
      "14\n",
      "16\n",
      "16\n",
      "15\n",
      "16\n"
     ]
    }
   ],
   "source": [
    "hd = helix_dict(load_pose(\"in/FF81-1.pdb\"))\n",
    "for i in list(hd):\n",
    "    print(hd[i][1]-hd[i][0])"
   ]
  },
  {
   "cell_type": "code",
   "execution_count": 2,
   "metadata": {},
   "outputs": [
    {
     "data": {
      "text/plain": [
       "\u001b[0;31mDocstring:\u001b[0m     \n",
       "class FavorNativeResidue changes a pose object so that its residue identities at the\n",
       "initialization of FavorNativeResidue are kept in memory. If the res_type_constraint score term is set\n",
       "to a value other than 0, an energy bonus will be assigned if the residue doesn't change. This is useful\n",
       "e.g., in design based on a native scaffold where we want a barrier to mutation.\n",
       "\u001b[0;31mInit docstring:\u001b[0m\n",
       "__init__(*args, **kwargs)\n",
       "Overloaded function.\n",
       "\n",
       "1. __init__(self: pyrosetta.rosetta.protocols.protein_interface_design.FavorNativeResidue, pose: pyrosetta.rosetta.core.pose.Pose, native_residue_bonus: float) -> None\n",
       "\n",
       "2. __init__(self: pyrosetta.rosetta.protocols.protein_interface_design.FavorNativeResidue, pose: pyrosetta.rosetta.core.pose.Pose, native_residue_bonus: pyrosetta.rosetta.utility.vector1_double) -> None\n",
       "\n",
       "3. __init__(self: pyrosetta.rosetta.protocols.protein_interface_design.FavorNativeResidue, arg0: pyrosetta.rosetta.protocols.protein_interface_design.FavorNativeResidue) -> None\n",
       "\u001b[0;31mType:\u001b[0m           pybind11_type\n",
       "\u001b[0;31mSubclasses:\u001b[0m     \n"
      ]
     },
     "metadata": {},
     "output_type": "display_data"
    }
   ],
   "source": [
    "pyrosetta.rosetta.protocols.protein_interface_design.FavorNativeResidue?"
   ]
  },
  {
   "cell_type": "code",
   "execution_count": 3,
   "metadata": {},
   "outputs": [
    {
     "name": "stdout",
     "output_type": "stream",
     "text": [
      "[20, 21, 22, 24, 27, 28, 31, 40, 43, 47, 55, 57, 58, 60, 62, 63, 64, 66, 67]\n",
      "[90, 91, 94, 95, 96, 100, 101, 103, 105, 106, 107, 114, 122, 125, 126, 134, 136, 139]\n",
      "78 1\n"
     ]
    }
   ],
   "source": [
    "p = extend_oligo_hinge(\"in/FF81-0.pdb\",\"in/DHR46.pdb\")"
   ]
  },
  {
   "cell_type": "code",
   "execution_count": 6,
   "metadata": {},
   "outputs": [],
   "source": [
    "res = p.residue(4)"
   ]
  },
  {
   "cell_type": "code",
   "execution_count": 13,
   "metadata": {},
   "outputs": [
    {
     "data": {
      "text/plain": [
       "\u001b[0;31mDocstring:\u001b[0m\n",
       "nbrs(self: pyrosetta.rosetta.core.conformation.Residue, atm: int) -> pyrosetta.rosetta.utility.vector1_unsigned_long\n",
       "\n",
       "Convenience synonym for bonded_neighbor\n",
       "\n",
       "C++: core::conformation::Residue::nbrs(const unsigned long) const --> const class utility::vector1<unsigned long, class std::allocator<unsigned long> > &\n",
       "\u001b[0;31mType:\u001b[0m      method\n"
      ]
     },
     "metadata": {},
     "output_type": "display_data"
    }
   ],
   "source": [
    "res."
   ]
  },
  {
   "cell_type": "code",
   "execution_count": 2,
   "metadata": {},
   "outputs": [],
   "source": [
    "\n"
   ]
  },
  {
   "cell_type": "code",
   "execution_count": 4,
   "metadata": {},
   "outputs": [
    {
     "data": {
      "text/plain": [
       "vector1_core_scoring_ScoreType[]"
      ]
     },
     "execution_count": 4,
     "metadata": {},
     "output_type": "execute_result"
    }
   ],
   "source": []
  },
  {
   "cell_type": "code",
   "execution_count": null,
   "metadata": {},
   "outputs": [],
   "source": []
  }
 ],
 "metadata": {
  "kernelspec": {
   "display_name": "crispy (3.8.12)",
   "language": "python",
   "name": "crispy"
  },
  "language_info": {
   "codemirror_mode": {
    "name": "ipython",
    "version": 3
   },
   "file_extension": ".py",
   "mimetype": "text/x-python",
   "name": "python",
   "nbconvert_exporter": "python",
   "pygments_lexer": "ipython3",
   "version": "3.8.12"
  }
 },
 "nbformat": 4,
 "nbformat_minor": 4
}
