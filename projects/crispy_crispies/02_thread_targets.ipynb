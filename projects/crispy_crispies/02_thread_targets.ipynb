{
 "cells": [
  {
   "cell_type": "markdown",
   "id": "4c6847f3",
   "metadata": {},
   "source": [
    "# Filter binder scaffolds and thread new target sequences"
   ]
  },
  {
   "cell_type": "markdown",
   "id": "23972c35",
   "metadata": {},
   "source": [
    "### Imports"
   ]
  },
  {
   "cell_type": "code",
   "execution_count": 1,
   "id": "c902cb02",
   "metadata": {},
   "outputs": [
    {
     "name": "stdout",
     "output_type": "stream",
     "text": [
      "running in directory: /mnt/projects/crispy_shifty/projects/crispy_crispies\n",
      "running on node: dig64\n"
     ]
    }
   ],
   "source": [
    "%load_ext lab_black\n",
    "# Python standard library\n",
    "from glob import glob\n",
    "import os\n",
    "import socket\n",
    "import sys\n",
    "\n",
    "# 3rd party library imports\n",
    "import dask\n",
    "import matplotlib.pyplot as plt\n",
    "import pandas as pd\n",
    "import pyrosetta\n",
    "import numpy as np\n",
    "import scipy\n",
    "import seaborn as sns\n",
    "from tqdm.auto import tqdm  # jupyter compatible progress bar\n",
    "\n",
    "tqdm.pandas()  # link tqdm to pandas\n",
    "# Notebook magic\n",
    "# save plots in the notebook\n",
    "%matplotlib inline\n",
    "# reloads modules automatically before executing cells\n",
    "%load_ext autoreload\n",
    "%autoreload 2\n",
    "print(f\"running in directory: {os.getcwd()}\")  # where are we?\n",
    "print(f\"running on node: {socket.gethostname()}\")  # what node are we on?"
   ]
  },
  {
   "cell_type": "markdown",
   "id": "73ba81f5",
   "metadata": {},
   "source": [
    "### Set working directory to the root of the crispy_shifty repo"
   ]
  },
  {
   "cell_type": "code",
   "execution_count": 2,
   "id": "45542925",
   "metadata": {},
   "outputs": [],
   "source": [
    "os.chdir(\"/projects/crispy_shifty\")"
   ]
  },
  {
   "cell_type": "markdown",
   "id": "f204ffc0",
   "metadata": {},
   "source": [
    "### Load CSV of premade helix binder scaffolds"
   ]
  },
  {
   "cell_type": "code",
   "execution_count": null,
   "id": "f3fd549f",
   "metadata": {},
   "outputs": [],
   "source": [
    "simulation_name = \"03_fold_bound_states\"\n",
    "output_path = os.path.join(\n",
    "    os.getcwd(), f\"projects/crispy_shifty_junctions/{simulation_name}\"\n",
    ")\n",
    "scores_df = pd.read_csv(os.path.join(output_path, \"scores.csv\"), index_col=\"Unnamed: 0\")"
   ]
  },
  {
   "cell_type": "markdown",
   "id": "1e2e5028",
   "metadata": {},
   "source": [
    "### Setup for plotting"
   ]
  },
  {
   "cell_type": "code",
   "execution_count": null,
   "id": "fa7042e3",
   "metadata": {},
   "outputs": [],
   "source": [
    "sns.set(\n",
    "    context=\"talk\",\n",
    "    font_scale=1,  # make the font larger; default is pretty small\n",
    "    style=\"ticks\",  # make the background white with black lines\n",
    "    palette=\"colorblind\",  # a color palette that is colorblind friendly!\n",
    ")"
   ]
  },
  {
   "cell_type": "markdown",
   "id": "d14b9526",
   "metadata": {},
   "source": [
    "### Data exploration\n",
    "Gonna remove the Rosetta sfxn scoreterms for now"
   ]
  },
  {
   "cell_type": "code",
   "execution_count": null,
   "id": "9cd60642",
   "metadata": {},
   "outputs": [],
   "source": [
    "rosetta = scores_df[scores_df[\"designed_by\"] == \"rosetta\"]\n",
    "mpnn = scores_df[scores_df[\"designed_by\"] == \"mpnn\"].sample(1000, random_state=0)\n",
    "sample_df = pd.concat([rosetta, mpnn])"
   ]
  },
  {
   "cell_type": "code",
   "execution_count": null,
   "id": "1cde9918",
   "metadata": {},
   "outputs": [],
   "source": [
    "from crispy_shifty.protocols.design import beta_nov16_terms\n",
    "\n",
    "sample_df = sample_df[\n",
    "    [term for term in sample_df.columns if term not in beta_nov16_terms]\n",
    "]\n",
    "print(len(sample_df))\n",
    "print(list(sample_df.columns))"
   ]
  },
  {
   "cell_type": "markdown",
   "id": "1180ba01",
   "metadata": {},
   "source": [
    "### Plot AF2 interdomain metrics"
   ]
  },
  {
   "cell_type": "code",
   "execution_count": null,
   "id": "48836307",
   "metadata": {},
   "outputs": [],
   "source": [
    "from crispy_shifty.utils.plotting import histplot_df, pairplot_df\n",
    "\n",
    "cols = [\n",
    "    \"mean_pae\",\n",
    "    \"mean_pae_interaction\",\n",
    "    \"mean_pae_interaction_AB\",\n",
    "    \"mean_pae_interaction_BA\",\n",
    "    \"mean_pae_intra_chain\",\n",
    "    \"mean_pae_intra_chain_A\",\n",
    "    \"mean_pae_intra_chain_B\",\n",
    "    \"mean_plddt\",\n",
    "    \"pTMscore\",\n",
    "    \"rmsd_to_reference\",\n",
    "    \"trimmed_length\",\n",
    "]\n",
    "the_fig = histplot_df(\n",
    "    df=sample_df,\n",
    "    cols=cols,\n",
    "    bins=10,\n",
    "    hue=\"designed_by\",\n",
    ")"
   ]
  },
  {
   "cell_type": "code",
   "execution_count": null,
   "id": "63f73668",
   "metadata": {},
   "outputs": [],
   "source": [
    "the_fig = pairplot_df(\n",
    "    df=sample_df,\n",
    "    cols=cols,\n",
    "    hue=\"designed_by\",\n",
    ")\n",
    "plt.savefig(os.path.join(output_path, \"old_vs_new_af2_scores_paired.png\"))"
   ]
  },
  {
   "cell_type": "markdown",
   "id": "97f53a1f",
   "metadata": {},
   "source": [
    "### Filter the whole df"
   ]
  },
  {
   "cell_type": "code",
   "execution_count": null,
   "id": "be97fe19",
   "metadata": {},
   "outputs": [],
   "source": [
    "query = \"\"\"\n",
    "    mean_plddt > 94 \\\n",
    "    and pTMscore > 0.9 \\\n",
    "    and mean_pae_intra_chain_A < 3 \\\n",
    "    and rmsd_to_reference < 1.25 \\\n",
    "    and trimmed_length < 240 \\\n",
    "\"\"\"\n",
    "\n",
    "filtered = scores_df.query(query)\n",
    "len(filtered)"
   ]
  },
  {
   "cell_type": "markdown",
   "id": "43d4c594",
   "metadata": {},
   "source": [
    "### Save a list of outputs\n",
    "Sort by length  "
   ]
  },
  {
   "cell_type": "code",
   "execution_count": null,
   "id": "459fbe40",
   "metadata": {},
   "outputs": [],
   "source": [
    "simulation_name = \"02_thread_targets\"\n",
    "output_path = os.path.join(os.getcwd(), f\"projects/crispy_crispies/{simulation_name}\")\n",
    "os.makedirs(output_path, exist_ok=True)\n",
    "with open(os.path.join(output_path, \"input_scaffolds.list\"), \"w\") as f:\n",
    "    for path in tqdm(filtered.index):\n",
    "        print(path, file=f)\n",
    "\n",
    "downsample = filtered.sample(int(1e5), random_state=0)\n",
    "with open(os.path.join(output_path, \"input_scaffolds_100k.list\"), \"w\") as f:\n",
    "    for path in tqdm(downsample.index):\n",
    "        print(path, file=f)\n",
    "\n",
    "down_downsample = filtered.sample(int(1e3), random_state=0)\n",
    "with open(os.path.join(output_path, \"input_scaffolds_1k.list\"), \"w\") as f:\n",
    "    for path in tqdm(down_downsample.index):\n",
    "        print(path, file=f)"
   ]
  },
  {
   "cell_type": "markdown",
   "id": "a3082ef7-1bbb-4869-b7b3-ef5c0433c90a",
   "metadata": {},
   "source": [
    "### Fix the paths\n",
    "Necessary because scaffolds came from perlmutter"
   ]
  },
  {
   "cell_type": "code",
   "execution_count": null,
   "id": "cc6b2f1a",
   "metadata": {},
   "outputs": [],
   "source": [
    "from crispy_shifty.utils.io import fix_path_prefixes\n",
    "\n",
    "inputs = os.path.join(\n",
    "    os.getcwd(), \"projects/crispy_crispies/02_thread_targets/input_scaffolds.list\"\n",
    ")\n",
    "new_inputs = fix_path_prefixes(\n",
    "    find=\"/pscratch/sd/p/pleung\",\n",
    "    replace=\"/projects/crispy_shifty/projects/crispy_shifty_junctions\",\n",
    "    file=inputs,\n",
    "    overwrite=True,\n",
    ")\n",
    "inputs = os.path.join(\n",
    "    os.getcwd(), \"projects/crispy_crispies/02_thread_targets/input_scaffolds_100k.list\"\n",
    ")\n",
    "new_inputs = fix_path_prefixes(\n",
    "    find=\"/pscratch/sd/p/pleung\",\n",
    "    replace=\"/projects/crispy_shifty/projects/crispy_shifty_junctions\",\n",
    "    file=inputs,\n",
    "    overwrite=True,\n",
    ")\n",
    "inputs = os.path.join(\n",
    "    os.getcwd(), \"projects/crispy_crispies/02_thread_targets/input_scaffolds_1k.list\"\n",
    ")\n",
    "new_inputs = fix_path_prefixes(\n",
    "    find=\"/pscratch/sd/p/pleung\",\n",
    "    replace=\"/projects/crispy_shifty/projects/crispy_shifty_junctions\",\n",
    "    file=inputs,\n",
    "    overwrite=True,\n",
    ")"
   ]
  },
  {
   "cell_type": "markdown",
   "id": "45e6c3f6-00e6-4c3d-bef3-d845f5cb6a88",
   "metadata": {},
   "source": [
    "### Thread targets onto binder scaffolds"
   ]
  },
  {
   "cell_type": "code",
   "execution_count": null,
   "id": "4e54f9f7-a69f-4594-ad0c-6d2f6ac325ca",
   "metadata": {},
   "outputs": [],
   "source": [
    "from crispy_shifty.utils.io import gen_array_tasks\n",
    "\n",
    "simulation_name = \"02_thread_targets\"\n",
    "design_list_file = os.path.join(\n",
    "    os.getcwd(), \"projects/crispy_crispies/02_thread_targets/input_scaffolds_100k.list\"\n",
    ")\n",
    "output_path = os.path.join(os.getcwd(), f\"projects/crispy_crispies/{simulation_name}\")\n",
    "options = \" \".join(\n",
    "    [\n",
    "        \"out:level 200\",\n",
    "    ]\n",
    ")\n",
    "extra_kwargs = {\n",
    "    \"APOE_contacts\": \"6\",\n",
    "    \"GIP_contacts\": \"14\",\n",
    "    \"GLP1_contacts\": \"13\",\n",
    "    \"GLP2_contacts\": \"12\",\n",
    "    \"Glicentin_contacts\": \"5\",\n",
    "    \"Glucagon_contacts\": \"9\",\n",
    "    \"NPY_9-35_contacts\": \"12\",\n",
    "    \"PTH_contacts\": \"12\",\n",
    "    \"Secretin_contacts\": \"8\",\n",
    "}\n",
    "\n",
    "gen_array_tasks(\n",
    "    distribute_func=\"projects.crispy_crispies.deployables.thread_target\",\n",
    "    design_list_file=design_list_file,\n",
    "    output_path=output_path,\n",
    "    queue=\"medium\",\n",
    "    memory=\"4G\",\n",
    "    nstruct=1,\n",
    "    nstruct_per_task=100,\n",
    "    options=options,\n",
    "    extra_kwargs=extra_kwargs,\n",
    "    simulation_name=simulation_name,\n",
    ")"
   ]
  },
  {
   "cell_type": "markdown",
   "id": "c61f2bd5-f40f-47b3-8a99-fc2d8b705613",
   "metadata": {},
   "source": [
    "### Collect scorefiles of the threaded targets and concatenate"
   ]
  },
  {
   "cell_type": "code",
   "execution_count": 3,
   "id": "ffba839d-11fa-4ed0-8e52-2130216fa136",
   "metadata": {
    "scrolled": true,
    "tags": []
   },
   "outputs": [
    {
     "name": "stderr",
     "output_type": "stream",
     "text": [
      "/projects/crispy_shifty/envs/crispy/lib/python3.8/site-packages/dask_jobqueue/core.py:20: FutureWarning: tmpfile is deprecated and will be removed in a future release. Please use dask.utils.tmpfile instead.\n",
      "  from distributed.utils import tmpfile\n"
     ]
    }
   ],
   "source": [
    "sys.path.insert(0, \"/projects/crispy_shifty\")\n",
    "from crispy_shifty.utils.io import collect_score_file\n",
    "\n",
    "simulation_name = \"02_thread_targets\"\n",
    "output_path = os.path.join(os.getcwd(), f\"projects/crispy_crispies/{simulation_name}\")\n",
    "\n",
    "if not os.path.exists(os.path.join(output_path, \"scores.json\")):\n",
    "    collect_score_file(output_path, \"scores\")"
   ]
  },
  {
   "cell_type": "markdown",
   "id": "1f5c3b73-2343-4c04-9e35-fd57bd2f1c54",
   "metadata": {},
   "source": [
    "### Load resulting concatenated scorefile"
   ]
  },
  {
   "cell_type": "code",
   "execution_count": null,
   "id": "24b3558a-9973-4e62-994a-674da066ad27",
   "metadata": {
    "scrolled": true,
    "tags": []
   },
   "outputs": [
    {
     "data": {
      "application/vnd.jupyter.widget-view+json": {
       "model_id": "e063e42ff23d4738b9c1833ea0c39adf",
       "version_major": 2,
       "version_minor": 0
      },
      "text/plain": [
       "  0%|          | 0/801588 [00:00<?, ?it/s]"
      ]
     },
     "metadata": {},
     "output_type": "display_data"
    }
   ],
   "source": [
    "sys.path.insert(0, \"/projects/crispy_shifty\")\n",
    "from crispy_shifty.utils.io import parse_scorefile_linear\n",
    "\n",
    "output_path = os.path.join(os.getcwd(), f\"projects/crispy_crispies/{simulation_name}\")\n",
    "\n",
    "if not os.path.exists(os.path.join(output_path, \"scores.csv\")):\n",
    "    scores_df = parse_scorefile_linear(os.path.join(output_path, \"scores.json\"))"
   ]
  },
  {
   "cell_type": "markdown",
   "id": "f69fb286-1a69-4a7f-bb2c-f2efc3050609",
   "metadata": {},
   "source": [
    "### Dump scores_df as a CSV and then reload, for performance reasons"
   ]
  },
  {
   "cell_type": "code",
   "execution_count": null,
   "id": "8ff77914-0371-44a9-8365-f6108f4fbadc",
   "metadata": {},
   "outputs": [],
   "source": [
    "if not os.path.exists(os.path.join(output_path, \"scores.csv\")):\n",
    "    scores_df.to_csv(os.path.join(output_path, \"scores.csv\"))\n",
    "\n",
    "scores_df = pd.read_csv(os.path.join(output_path, \"scores.csv\"), index_col=\"Unnamed: 0\")"
   ]
  },
  {
   "cell_type": "markdown",
   "id": "5980dd4d-03bd-4115-a912-0c33ea9c66ff",
   "metadata": {},
   "source": [
    "### Data exploration"
   ]
  },
  {
   "cell_type": "code",
   "execution_count": null,
   "id": "7e77c39f-080e-46a5-b38d-a360d48ac51f",
   "metadata": {},
   "outputs": [],
   "source": [
    "print(len(scores_df))\n",
    "print(list(scores_df.columns))"
   ]
  },
  {
   "cell_type": "markdown",
   "id": "d34a4522-bdf3-4357-854e-990489214066",
   "metadata": {},
   "source": [
    "### Setup for plotting"
   ]
  },
  {
   "cell_type": "code",
   "execution_count": null,
   "id": "83ac98af-a71f-4717-8e48-799e323dcac8",
   "metadata": {},
   "outputs": [],
   "source": [
    "sns.set(\n",
    "    context=\"talk\",\n",
    "    font_scale=1,  # make the font larger; default is pretty small\n",
    "    style=\"ticks\",  # make the background white with black lines\n",
    "    palette=\"colorblind\",  # a color palette that is colorblind friendly!\n",
    ")"
   ]
  },
  {
   "cell_type": "code",
   "execution_count": null,
   "id": "3ac897e3-da1c-4f3e-a3ca-d46aa9d09eaa",
   "metadata": {},
   "outputs": [],
   "source": [
    "from crispy_shifty.utils.plotting import histplot_df, pairplot_df"
   ]
  },
  {
   "cell_type": "code",
   "execution_count": null,
   "id": "fb476794-92de-42e7-bba7-c4c1cb322493",
   "metadata": {},
   "outputs": [],
   "source": [
    "to_plot = [\n",
    "    \"count_apolar\",\n",
    "    \"trimmed_length\",\n",
    "]\n",
    "\n",
    "cols = [col for col in sorted(scores_df.columns) if col in to_plot]\n",
    "\n",
    "the_fig = histplot_df(\n",
    "    df=scores_df.sample(10000),\n",
    "    cols=cols,\n",
    "    hue=\"target_name\",\n",
    "    stat=\"count\",\n",
    "    common_norm=False,\n",
    "    bins=20,\n",
    ")\n",
    "\n",
    "plt.savefig(os.path.join(output_path, \"count_apolar_by_target.png\"))"
   ]
  },
  {
   "cell_type": "code",
   "execution_count": null,
   "id": "02cf946f-a2b1-48c9-8143-f7f2bc07942c",
   "metadata": {},
   "outputs": [],
   "source": [
    "the_fig = pairplot_df(\n",
    "    df=scores_df.sample(10000),\n",
    "    cols=cols,\n",
    "    hue=\"target_name\",\n",
    "    figsize=(30, 30),\n",
    ")\n",
    "# plt.tight_layout()\n",
    "plt.savefig(os.path.join(output_path, \"count_apolar_by_target_paired.png\"))"
   ]
  },
  {
   "cell_type": "code",
   "execution_count": null,
   "id": "3b9e770b-e3ca-4fa7-b280-35837448ccfe",
   "metadata": {},
   "outputs": [],
   "source": [
    "for target in sorted(set(scores_df.target_name.values)):\n",
    "    fig, ax = plt.subplots()\n",
    "    sns.histplot(\n",
    "        ax=ax, x=\"count_apolar\", data=scores_df.query(f\"target_name == '{target}'\")\n",
    "    )\n",
    "    plt.suptitle(target)"
   ]
  },
  {
   "cell_type": "code",
   "execution_count": null,
   "id": "f779f3df-b99b-412d-a599-facf3706f17e",
   "metadata": {},
   "outputs": [],
   "source": [
    "set(scores_df.target_name.values)"
   ]
  },
  {
   "cell_type": "markdown",
   "id": "dcace152",
   "metadata": {},
   "source": [
    "### Prototyping blocks"
   ]
  },
  {
   "cell_type": "markdown",
   "id": "18f5778c",
   "metadata": {},
   "source": [
    "test `thread_target`"
   ]
  },
  {
   "cell_type": "code",
   "execution_count": null,
   "id": "9ba17e68",
   "metadata": {
    "tags": []
   },
   "outputs": [],
   "source": [
    "%%time \n",
    "import pyrosetta\n",
    "\n",
    "pyrosetta.init(\n",
    "    \"-mute all\"\n",
    ")\n",
    "\n",
    "\n",
    "sys.path.insert(0, \"/projects/crispy_shifty/\")\n",
    "from projects.crispy_crispies.deployables import thread_target\n",
    "\n",
    "t = thread_target(\n",
    "    None,\n",
    "    pdb_path = \"/projects/crispy_shifty/projects/crispy_shifty_junctions/03_fold_bound_states/decoys/0232/03_fold_bound_states_9afabc356b124965a06c1434779bdf34.pdb.bz2\",\n",
    ")\n",
    "for i, pose in enumerate(t):\n",
    "    print(pose.scores)"
   ]
  }
 ],
 "metadata": {
  "kernelspec": {
   "display_name": "crispy (3.8.12)",
   "language": "python",
   "name": "crispy"
  },
  "language_info": {
   "codemirror_mode": {
    "name": "ipython",
    "version": 3
   },
   "file_extension": ".py",
   "mimetype": "text/x-python",
   "name": "python",
   "nbconvert_exporter": "python",
   "pygments_lexer": "ipython3",
   "version": "3.8.12"
  }
 },
 "nbformat": 4,
 "nbformat_minor": 5
}
