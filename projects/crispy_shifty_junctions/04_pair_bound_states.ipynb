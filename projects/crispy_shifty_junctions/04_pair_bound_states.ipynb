{
 "cells": [
  {
   "cell_type": "markdown",
   "id": "3f44b170",
   "metadata": {},
   "source": [
    "# Find unbound states to pair with the bound states"
   ]
  },
  {
   "cell_type": "markdown",
   "id": "a18279fe",
   "metadata": {},
   "source": [
    "### Imports"
   ]
  },
  {
   "cell_type": "code",
   "execution_count": 1,
   "id": "1c475c64",
   "metadata": {},
   "outputs": [
    {
     "name": "stdout",
     "output_type": "stream",
     "text": [
      "running in directory: /mnt/projects/crispy_shifty/projects/crispy_shifty_junctions\n",
      "running on node: dig116\n"
     ]
    }
   ],
   "source": [
    "%load_ext lab_black\n",
    "# Python standard library\n",
    "from glob import glob\n",
    "import os\n",
    "import socket\n",
    "import sys\n",
    "\n",
    "# 3rd party library imports\n",
    "import dask\n",
    "import matplotlib.pyplot as plt\n",
    "import pandas as pd\n",
    "import pyrosetta\n",
    "import numpy as np\n",
    "import scipy\n",
    "import seaborn as sns\n",
    "from tqdm.auto import tqdm  # jupyter compatible progress bar\n",
    "\n",
    "tqdm.pandas()  # link tqdm to pandas\n",
    "# Notebook magic\n",
    "# save plots in the notebook\n",
    "%matplotlib inline\n",
    "# reloads modules automatically before executing cells\n",
    "%load_ext autoreload\n",
    "%autoreload 2\n",
    "print(f\"running in directory: {os.getcwd()}\")  # where are we?\n",
    "print(f\"running on node: {socket.gethostname()}\")  # what node are we on?"
   ]
  },
  {
   "cell_type": "markdown",
   "id": "97f2d07a",
   "metadata": {},
   "source": [
    "### Set working directory to the root of the crispy_shifty repo"
   ]
  },
  {
   "cell_type": "code",
   "execution_count": 2,
   "id": "f8988811",
   "metadata": {},
   "outputs": [],
   "source": [
    "os.chdir(\"/projects/crispy_shifty\")"
   ]
  },
  {
   "cell_type": "markdown",
   "id": "0b11b891",
   "metadata": {},
   "source": [
    "### Fix the paths\n",
    "Necessary because we copied these designs from perlmutter"
   ]
  },
  {
   "cell_type": "code",
   "execution_count": 3,
   "id": "f973bc5d",
   "metadata": {},
   "outputs": [
    {
     "name": "stderr",
     "output_type": "stream",
     "text": [
      "/projects/crispy_shifty/envs/crispy/lib/python3.8/site-packages/dask_jobqueue/core.py:20: FutureWarning: tmpfile is deprecated and will be removed in a future release. Please use dask.utils.tmpfile instead.\n",
      "  from distributed.utils import tmpfile\n"
     ]
    }
   ],
   "source": [
    "from crispy_shifty.utils.io import fix_path_prefixes\n",
    "\n",
    "folded = os.path.join(\n",
    "    os.getcwd(),\n",
    "    \"projects/crispy_shifty_junctions/03_fold_bound_states/folded_states.list\",\n",
    ")\n",
    "new_folded = fix_path_prefixes(\n",
    "    find=\"/pscratch/sd/p/pleung\",\n",
    "    replace=\"/mnt/projects/crispy_shifty/projects/crispy_shifty_junctions\",\n",
    "    file=folded,\n",
    "    overwrite=True,\n",
    ")"
   ]
  },
  {
   "cell_type": "markdown",
   "id": "54e1ba7d",
   "metadata": {},
   "source": [
    "### Pair the designed bound states"
   ]
  },
  {
   "cell_type": "code",
   "execution_count": null,
   "id": "df5494a4",
   "metadata": {},
   "outputs": [],
   "source": [
    "from crispy_shifty.utils.io import gen_array_tasks\n",
    "\n",
    "simulation_name = \"04_pair_bound_states\"\n",
    "design_list_file = os.path.join(\n",
    "    os.getcwd(),\n",
    "    \"projects/crispy_shifty_junctions/03_fold_bound_states/folded_states.list\",\n",
    ")\n",
    "output_path = os.path.join(os.getcwd(), f\"projects/crispy_shifty_junctions/{simulation_name}\")\n",
    "\n",
    "options = \" \".join(\n",
    "    [\n",
    "        \"out:level 200\",\n",
    "        \"corrections::beta_nov16 true\",\n",
    "        \"indexed_structure_store:fragment_store /net/databases/VALL_clustered/connect_chains/ss_grouped_vall_helix_shortLoop.h5\",\n",
    "    ]\n",
    ")\n",
    "\n",
    "extra_kwargs = {\n",
    "    \"reference_csv\": \"/mnt/projects/crispy_shifty/scaffolds/02_make_free_states/free_state_0s.csv\",\n",
    "}\n",
    "\n",
    "gen_array_tasks(\n",
    "    distribute_func=\"crispy_shifty.protocols.states.pair_bound_state\",\n",
    "    design_list_file=design_list_file,\n",
    "    output_path=output_path,\n",
    "    queue=\"short\",\n",
    "    memory=\"4G\",\n",
    "    nstruct=1,\n",
    "    nstruct_per_task=10,\n",
    "    options=options,\n",
    "    extra_kwargs=extra_kwargs,\n",
    "    simulation_name=simulation_name,\n",
    ")"
   ]
  },
  {
   "cell_type": "markdown",
   "id": "217e5419",
   "metadata": {},
   "source": [
    "### Collect scorefiles of the paired bound states and concatenate"
   ]
  },
  {
   "cell_type": "code",
   "execution_count": null,
   "id": "03d354c0",
   "metadata": {
    "scrolled": true,
    "tags": []
   },
   "outputs": [],
   "source": [
    "sys.path.insert(0, \"/projects/crispy_shifty\")\n",
    "from crispy_shifty.utils.io import collect_score_file\n",
    "\n",
    "simulation_name = \"04_pair_bound_states\"\n",
    "output_path = os.path.join(os.getcwd(), f\"projects/crispy_shifties/{simulation_name}\")\n",
    "\n",
    "if not os.path.exists(os.path.join(output_path, \"scores.json\")):\n",
    "    collect_score_file(output_path, \"scores\")"
   ]
  },
  {
   "cell_type": "markdown",
   "id": "b938200c",
   "metadata": {},
   "source": [
    "### Load resulting concatenated scorefile"
   ]
  },
  {
   "cell_type": "code",
   "execution_count": null,
   "id": "52316076",
   "metadata": {
    "scrolled": true,
    "tags": []
   },
   "outputs": [],
   "source": [
    "sys.path.insert(0, \"/projects/crispy_shifty\")\n",
    "from crispy_shifty.utils.io import parse_scorefile_linear\n",
    "\n",
    "output_path = os.path.join(os.getcwd(), f\"projects/crispy_shifties/{simulation_name}\")\n",
    "\n",
    "if not os.path.exists(os.path.join(output_path, \"scores.csv\")):\n",
    "    scores_df = parse_scorefile_linear(os.path.join(output_path, \"scores.json\"))"
   ]
  },
  {
   "cell_type": "markdown",
   "id": "3058c767-a5a4-4be8-bda7-741fe4d72b9e",
   "metadata": {},
   "source": [
    "### Dump scores_df as a CSV and then reload, for performance reasons"
   ]
  },
  {
   "cell_type": "code",
   "execution_count": null,
   "id": "4f3fe62b-7f3a-4981-b6fc-12cfb5445b69",
   "metadata": {},
   "outputs": [],
   "source": [
    "if not os.path.exists(os.path.join(output_path, \"scores.csv\")):\n",
    "    scores_df.to_csv(os.path.join(output_path, \"scores.csv\"))\n",
    "\n",
    "scores_df = pd.read_csv(os.path.join(output_path, \"scores.csv\"), index_col=\"Unnamed: 0\")"
   ]
  },
  {
   "cell_type": "markdown",
   "id": "d490bfe3",
   "metadata": {},
   "source": [
    "### Setup for plotting"
   ]
  },
  {
   "cell_type": "code",
   "execution_count": null,
   "id": "d53d0e45",
   "metadata": {},
   "outputs": [],
   "source": [
    "sns.set(\n",
    "    context=\"talk\",\n",
    "    font_scale=1,  # make the font larger; default is pretty small\n",
    "    style=\"ticks\",  # make the background white with black lines\n",
    "    palette=\"colorblind\",  # a color palette that is colorblind friendly!\n",
    ")"
   ]
  },
  {
   "cell_type": "markdown",
   "id": "bc2eabfd",
   "metadata": {},
   "source": [
    "### Data exploration\n",
    "Gonna remove the Rosetta sfxn scoreterms for now"
   ]
  },
  {
   "cell_type": "code",
   "execution_count": null,
   "id": "6848e643",
   "metadata": {},
   "outputs": [],
   "source": [
    "from crispy_shifty.protocols.design import beta_nov16_terms\n",
    "\n",
    "scores_df = scores_df[\n",
    "    [term for term in scores_df.columns if term not in beta_nov16_terms]\n",
    "]\n",
    "print(len(scores_df))"
   ]
  },
  {
   "cell_type": "code",
   "execution_count": null,
   "id": "1c0a25c3",
   "metadata": {},
   "outputs": [],
   "source": [
    "print(list(scores_df.columns))"
   ]
  },
  {
   "cell_type": "code",
   "execution_count": null,
   "id": "a580e752",
   "metadata": {},
   "outputs": [],
   "source": [
    "from crispy_shifty.utils.plotting import histplot_df, pairplot_df\n",
    "\n",
    "to_plot = [\n",
    "    \"bb_clash_delta_x\",\n",
    "    \"score_per_res_x\",\n",
    "    \"wnm_all_x\",\n",
    "]\n",
    "print(to_plot)"
   ]
  },
  {
   "cell_type": "markdown",
   "id": "4bb5dca8",
   "metadata": {},
   "source": [
    "### Filter extreme outliers and change some dtypes"
   ]
  },
  {
   "cell_type": "code",
   "execution_count": null,
   "id": "9f293026",
   "metadata": {},
   "outputs": [],
   "source": [
    "scores_df[\"bb_clash_delta_x\"] = scores_df[\"bb_clash_delta_x\"].astype(float)\n",
    "scores_df[\"score_per_res_x\"] = scores_df[\"score_per_res_x\"].astype(float)\n",
    "scores_df[\"wnm_all_x\"] = scores_df[\"wnm_all_x\"].astype(float)\n",
    "\n",
    "\n",
    "query = \"bb_clash_delta_x < 500 and score_per_res_x < 0 and wnm_all_x < 5\"\n",
    "sample_df = scores_df.query(query)"
   ]
  },
  {
   "cell_type": "markdown",
   "id": "6793efcd",
   "metadata": {},
   "source": [
    "### Plot loop scores"
   ]
  },
  {
   "cell_type": "code",
   "execution_count": null,
   "id": "69869894",
   "metadata": {},
   "outputs": [],
   "source": [
    "cols = [\n",
    "    \"bb_clash_delta_x\",\n",
    "    \"score_per_res_x\",\n",
    "    \"wnm_all_x\",\n",
    "]\n",
    "the_fig = histplot_df(\n",
    "    df=sample_df,\n",
    "    cols=cols,\n",
    "    bins=10,\n",
    "    hue=\"scaffold_type\",\n",
    ")\n",
    "plt.savefig(os.path.join(output_path, \"loop_scores.png\"))"
   ]
  },
  {
   "cell_type": "code",
   "execution_count": null,
   "id": "aec8748c-0920-4550-b968-30fb9bde65a5",
   "metadata": {},
   "outputs": [],
   "source": [
    "the_fig = pairplot_df(\n",
    "    df=sample_df,\n",
    "    cols=cols,\n",
    "    hue=\"scaffold_type\",\n",
    ")\n",
    "plt.savefig(os.path.join(output_path, \"loop_scores_paired.png\"))"
   ]
  },
  {
   "cell_type": "markdown",
   "id": "74a42f38",
   "metadata": {},
   "source": [
    "### Filter out obviously bad decoys"
   ]
  },
  {
   "cell_type": "code",
   "execution_count": null,
   "id": "5ae6139f",
   "metadata": {},
   "outputs": [],
   "source": [
    "query = \"bb_clash_delta_x < 200 and score_per_res_x < -1.5 and wnm_all_x < 1.2\"\n",
    "filtered = scores_df.query(query)\n",
    "len(filtered)"
   ]
  },
  {
   "cell_type": "code",
   "execution_count": null,
   "id": "ba63b5af-0d2e-4820-9704-f01a02b21553",
   "metadata": {},
   "outputs": [],
   "source": [
    "len(set([x for x in filtered.parent.values if \"DHR\" in x]))"
   ]
  },
  {
   "cell_type": "markdown",
   "id": "e7b33493",
   "metadata": {},
   "source": [
    "### Save a list of outputs"
   ]
  },
  {
   "cell_type": "code",
   "execution_count": null,
   "id": "92e1421f",
   "metadata": {},
   "outputs": [],
   "source": [
    "simulation_name = \"04_pair_bound_states\"\n",
    "output_path = os.path.join(os.getcwd(), f\"projects/crispy_shifties/{simulation_name}\")\n",
    "\n",
    "with open(os.path.join(output_path, \"paired_states.list\"), \"w\") as f:\n",
    "    for path in tqdm(filtered.index):\n",
    "        print(path, file=f)"
   ]
  },
  {
   "cell_type": "markdown",
   "id": "4a87a025-4754-40bf-a68e-0b1e25c42982",
   "metadata": {},
   "source": [
    "### Pair the best designed bound states"
   ]
  },
  {
   "cell_type": "code",
   "execution_count": null,
   "id": "e4c89058-887a-41dc-b704-c04ab0a22aa7",
   "metadata": {},
   "outputs": [],
   "source": [
    "from crispy_shifty.utils.io import gen_array_tasks\n",
    "\n",
    "simulation_name = \"04_pair_bound_states_best\"\n",
    "design_list_file = os.path.join(\n",
    "    os.getcwd(),\n",
    "    \"projects/crispy_shifties/03_fold_bound_states/best_folded_states.list\",\n",
    ")\n",
    "output_path = os.path.join(os.getcwd(), f\"projects/crispy_shifties/{simulation_name}\")\n",
    "\n",
    "options = \" \".join(\n",
    "    [\n",
    "        \"out:level 200\",\n",
    "        \"corrections::beta_nov16 true\",\n",
    "        \"indexed_structure_store:fragment_store /net/databases/VALL_clustered/connect_chains/ss_grouped_vall_helix_shortLoop.h5\",\n",
    "    ]\n",
    ")\n",
    "\n",
    "extra_kwargs = {\n",
    "    \"reference_csv\": \"/mnt/projects/crispy_shifty/scaffolds/02_make_free_states/free_state_0s.csv\",\n",
    "}\n",
    "\n",
    "gen_array_tasks(\n",
    "    distribute_func=\"crispy_shifty.protocols.states.pair_bound_state\",\n",
    "    design_list_file=design_list_file,\n",
    "    output_path=output_path,\n",
    "    queue=\"short\",\n",
    "    memory=\"3G\",\n",
    "    nstruct=1,\n",
    "    nstruct_per_task=1,\n",
    "    options=options,\n",
    "    extra_kwargs=extra_kwargs,\n",
    "    simulation_name=simulation_name,\n",
    ")"
   ]
  },
  {
   "cell_type": "markdown",
   "id": "dc9ddd9d-9458-4269-b398-8b9b8834cdb6",
   "metadata": {},
   "source": [
    "### Collect scorefiles of the paired bound states and concatenate"
   ]
  },
  {
   "cell_type": "code",
   "execution_count": null,
   "id": "f10086bd-bab0-4681-a383-f88aca2514fe",
   "metadata": {
    "scrolled": true,
    "tags": []
   },
   "outputs": [],
   "source": [
    "sys.path.insert(0, \"/projects/crispy_shifty\")\n",
    "from crispy_shifty.utils.io import collect_score_file\n",
    "\n",
    "simulation_name = \"04_pair_bound_states_best\"\n",
    "output_path = os.path.join(os.getcwd(), f\"projects/crispy_shifties/{simulation_name}\")\n",
    "\n",
    "if not os.path.exists(os.path.join(output_path, \"scores.json\")):\n",
    "    collect_score_file(output_path, \"scores\")"
   ]
  },
  {
   "cell_type": "markdown",
   "id": "20cb5951-472e-4098-a70e-9a437d8ca220",
   "metadata": {},
   "source": [
    "### Load resulting concatenated scorefile"
   ]
  },
  {
   "cell_type": "code",
   "execution_count": null,
   "id": "392b00a8-da29-40c5-b875-5cbc399d5424",
   "metadata": {
    "scrolled": true,
    "tags": []
   },
   "outputs": [],
   "source": [
    "sys.path.insert(0, \"/projects/crispy_shifty\")\n",
    "from crispy_shifty.utils.io import parse_scorefile_linear\n",
    "\n",
    "output_path = os.path.join(os.getcwd(), f\"projects/crispy_shifties/{simulation_name}\")\n",
    "\n",
    "if not os.path.exists(os.path.join(output_path, \"scores.csv\")):\n",
    "    scores_df = parse_scorefile_linear(os.path.join(output_path, \"scores.json\"))"
   ]
  },
  {
   "cell_type": "markdown",
   "id": "5ea42020-7b09-4bbe-ac5b-ae5e875c9344",
   "metadata": {},
   "source": [
    "### Dump scores_df as a CSV and then reload, for performance reasons"
   ]
  },
  {
   "cell_type": "code",
   "execution_count": null,
   "id": "8d8b2e6f-293a-4977-b257-392c1c4e5c9b",
   "metadata": {},
   "outputs": [],
   "source": [
    "if not os.path.exists(os.path.join(output_path, \"scores.csv\")):\n",
    "    scores_df.to_csv(os.path.join(output_path, \"scores.csv\"))\n",
    "\n",
    "scores_df = pd.read_csv(os.path.join(output_path, \"scores.csv\"), index_col=\"Unnamed: 0\")"
   ]
  },
  {
   "cell_type": "markdown",
   "id": "ae3340ce-51d1-42d8-84ca-97355a394c6b",
   "metadata": {},
   "source": [
    "### Filter out obviously bad decoys"
   ]
  },
  {
   "cell_type": "code",
   "execution_count": null,
   "id": "c9de44d1-0549-4d76-88d7-0c6abf785161",
   "metadata": {},
   "outputs": [],
   "source": [
    "query = \"bb_clash_delta_x < 200 and score_per_res_x < -1.5 and wnm_all_x < 1.2\"\n",
    "filtered = scores_df.query(query)\n",
    "len(filtered)"
   ]
  },
  {
   "cell_type": "code",
   "execution_count": null,
   "id": "cce26126-b0ae-4a40-a5a9-c197e1aa7c04",
   "metadata": {},
   "outputs": [],
   "source": [
    "len(set([x for x in filtered.parent.values if \"DHR\" in x]))"
   ]
  },
  {
   "cell_type": "markdown",
   "id": "5bc13a52-5967-42a8-ba87-515ec4f277f3",
   "metadata": {},
   "source": [
    "### Save a list of outputs"
   ]
  },
  {
   "cell_type": "code",
   "execution_count": null,
   "id": "96a91d38-063f-4976-acb6-6b9ea4a9c532",
   "metadata": {},
   "outputs": [],
   "source": [
    "simulation_name = \"04_pair_bound_states_best\"\n",
    "output_path = os.path.join(os.getcwd(), f\"projects/crispy_shifties/{simulation_name}\")\n",
    "\n",
    "with open(os.path.join(output_path, \"best_paired_states.list\"), \"w\") as f:\n",
    "    for path in tqdm(filtered.index):\n",
    "        print(path, file=f)"
   ]
  },
  {
   "cell_type": "markdown",
   "id": "7434b49c",
   "metadata": {},
   "source": [
    "### Prototyping blocks"
   ]
  },
  {
   "cell_type": "markdown",
   "id": "9c19f298",
   "metadata": {},
   "source": [
    "test `pair_bound_state`"
   ]
  },
  {
   "cell_type": "code",
   "execution_count": null,
   "id": "89d358ed",
   "metadata": {
    "scrolled": true,
    "tags": []
   },
   "outputs": [],
   "source": [
    "%%time \n",
    "import pyrosetta\n",
    "\n",
    "pyrosetta.init(\"-corrections::beta_nov16 -indexed_structure_store:fragment_store /net/databases/VALL_clustered/connect_chains/ss_grouped_vall_helix_shortLoop.h5\")\n",
    "\n",
    "sys.path.insert(0, \"/projects/crispy_shifty/\")\n",
    "from crispy_shifty.protocols.states import pair_bound_state\n",
    "\n",
    "t = pair_bound_state(\n",
    "        None,\n",
    "        **{\n",
    "            'pdb_path': '/mnt/projects/crispy_shifty/projects/crispy_shifties/03_fold_bound_states/decoys/0046/03_fold_bound_states_eb3d67f280a349e28cdbb86f4a1c4678.pdb.bz2',\n",
    "            'reference_csv': '/mnt/projects/crispy_shifty/scaffolds/02_make_free_states/free_state_0s.csv',\n",
    "        }\n",
    ")\n",
    "for i, tppose in enumerate(t):\n",
    "    tppose.pose.dump_pdb(f\"{i}.pdb\")"
   ]
  },
  {
   "cell_type": "code",
   "execution_count": null,
   "id": "b7bd2e69",
   "metadata": {
    "scrolled": true
   },
   "outputs": [],
   "source": [
    "d = dict(tppose.pose.scores)\n",
    "from crispy_shifty.protocols.design import beta_nov16_terms\n",
    "\n",
    "d = {k: v for k, v in d.items() if k not in beta_nov16_terms}"
   ]
  },
  {
   "cell_type": "code",
   "execution_count": null,
   "id": "f66c3614",
   "metadata": {},
   "outputs": [],
   "source": [
    "d"
   ]
  },
  {
   "cell_type": "code",
   "execution_count": null,
   "id": "4427f85b",
   "metadata": {},
   "outputs": [],
   "source": []
  }
 ],
 "metadata": {
  "kernelspec": {
   "display_name": "crispy (3.8.12)",
   "language": "python",
   "name": "crispy"
  },
  "language_info": {
   "codemirror_mode": {
    "name": "ipython",
    "version": 3
   },
   "file_extension": ".py",
   "mimetype": "text/x-python",
   "name": "python",
   "nbconvert_exporter": "python",
   "pygments_lexer": "ipython3",
   "version": "3.8.12"
  }
 },
 "nbformat": 4,
 "nbformat_minor": 5
}
