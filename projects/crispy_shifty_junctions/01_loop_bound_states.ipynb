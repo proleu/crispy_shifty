{
 "cells": [
  {
   "cell_type": "markdown",
   "id": "219da8d0",
   "metadata": {},
   "source": [
    "# Add loops to the designed bound states"
   ]
  },
  {
   "cell_type": "markdown",
   "id": "ee1790f5",
   "metadata": {},
   "source": [
    "### Imports"
   ]
  },
  {
   "cell_type": "code",
   "execution_count": 1,
   "id": "dff821c6",
   "metadata": {},
   "outputs": [
    {
     "name": "stdout",
     "output_type": "stream",
     "text": [
      "running in directory: /mnt/projects/crispy_shifty/projects/crispy_shifty_junctions\n",
      "running on node: dig93\n"
     ]
    }
   ],
   "source": [
    "%load_ext lab_black\n",
    "# Python standard library\n",
    "from glob import glob\n",
    "import os\n",
    "import socket\n",
    "import sys\n",
    "\n",
    "# 3rd party library imports\n",
    "import dask\n",
    "import matplotlib.pyplot as plt\n",
    "import pandas as pd\n",
    "import pyrosetta\n",
    "import numpy as np\n",
    "import scipy\n",
    "import seaborn as sns\n",
    "from tqdm.auto import tqdm  # jupyter compatible progress bar\n",
    "\n",
    "tqdm.pandas()  # link tqdm to pandas\n",
    "# Notebook magic\n",
    "# save plots in the notebook\n",
    "%matplotlib inline\n",
    "# reloads modules automatically before executing cells\n",
    "%load_ext autoreload\n",
    "%autoreload 2\n",
    "print(f\"running in directory: {os.getcwd()}\")  # where are we?\n",
    "print(f\"running on node: {socket.gethostname()}\")  # what node are we on?"
   ]
  },
  {
   "cell_type": "markdown",
   "id": "ac12445b",
   "metadata": {},
   "source": [
    "### Set working directory to the root of the crispy_shifty repo"
   ]
  },
  {
   "cell_type": "code",
   "execution_count": 2,
   "id": "3643ef73",
   "metadata": {},
   "outputs": [],
   "source": [
    "os.chdir(\"/projects/crispy_shifty\")"
   ]
  },
  {
   "cell_type": "markdown",
   "id": "0ac259cc",
   "metadata": {},
   "source": [
    "### Add loops between chA and chB"
   ]
  },
  {
   "cell_type": "code",
   "execution_count": null,
   "id": "ef8a3532",
   "metadata": {},
   "outputs": [],
   "source": [
    "from crispy_shifty.utils.io import gen_array_tasks\n",
    "\n",
    "simulation_name = \"01_loop_bound_states\"\n",
    "design_list_file = os.path.join(\n",
    "    os.getcwd(), \"projects/crispy_shifty_junctions/00_design_bound_states/designed_states.list\"\n",
    ")\n",
    "output_path = os.path.join(os.getcwd(), f\"projects/crispy_shifty_junctions/{simulation_name}\")\n",
    "options = \" \".join(\n",
    "    [\n",
    "        \"out:level 200\",\n",
    "        \"corrections::beta_nov16 true\",\n",
    "        \"indexed_structure_store:fragment_store /net/databases/VALL_clustered/connect_chains/ss_grouped_vall_helix_shortLoop.h5\",\n",
    "    ]\n",
    ")\n",
    "\n",
    "gen_array_tasks(\n",
    "    distribute_func=\"crispy_shifty.protocols.looping.loop_bound_state\",\n",
    "    design_list_file=design_list_file,\n",
    "    output_path=output_path,\n",
    "    queue=\"medium\",\n",
    "    memory=\"4G\",\n",
    "    nstruct=1,\n",
    "    nstruct_per_task=10,\n",
    "    options=options,\n",
    "    simulation_name=simulation_name,\n",
    ")"
   ]
  },
  {
   "cell_type": "markdown",
   "id": "a3896e25",
   "metadata": {},
   "source": [
    "### Collect scorefiles of the looped bound states and concatenate"
   ]
  },
  {
   "cell_type": "code",
   "execution_count": null,
   "id": "ad3d9475",
   "metadata": {
    "scrolled": true,
    "tags": []
   },
   "outputs": [],
   "source": [
    "sys.path.insert(0, \"/projects/crispy_shifty\")\n",
    "from crispy_shifty.utils.io import collect_score_file\n",
    "\n",
    "simulation_name = \"01_loop_bound_states\"\n",
    "output_path = os.path.join(os.getcwd(), f\"projects/crispy_shifty_junctions/{simulation_name}\")\n",
    "\n",
    "if not os.path.exists(os.path.join(output_path, \"scores.json\")):\n",
    "    collect_score_file(output_path, \"scores\")"
   ]
  },
  {
   "cell_type": "markdown",
   "id": "a256351b",
   "metadata": {},
   "source": [
    "### Load resulting concatenated scorefile"
   ]
  },
  {
   "cell_type": "code",
   "execution_count": null,
   "id": "aa6d759e",
   "metadata": {
    "scrolled": true,
    "tags": []
   },
   "outputs": [],
   "source": [
    "sys.path.insert(0, \"/projects/crispy_shifty\")\n",
    "from crispy_shifty.utils.io import parse_scorefile_linear\n",
    "\n",
    "output_path = os.path.join(os.getcwd(), f\"projects/crispy_shifty_junctions/{simulation_name}\")\n",
    "\n",
    "scores_df = parse_scorefile_linear(os.path.join(output_path, \"scores.json\"))\n",
    "scores_df = scores_df.convert_dtypes()"
   ]
  },
  {
   "cell_type": "markdown",
   "id": "d3e2a516",
   "metadata": {},
   "source": [
    "### Setup for plotting"
   ]
  },
  {
   "cell_type": "code",
   "execution_count": null,
   "id": "210e2ec8",
   "metadata": {},
   "outputs": [],
   "source": [
    "sns.set(\n",
    "    context=\"talk\",\n",
    "    font_scale=1,  # make the font larger; default is pretty small\n",
    "    style=\"ticks\",  # make the background white with black lines\n",
    "    palette=\"colorblind\",  # a color palette that is colorblind friendly!\n",
    ")"
   ]
  },
  {
   "cell_type": "markdown",
   "id": "ad31abae",
   "metadata": {},
   "source": [
    "### Data exploration\n",
    "Gonna remove the Rosetta sfxn scoreterms for now"
   ]
  },
  {
   "cell_type": "code",
   "execution_count": null,
   "id": "022e09c9",
   "metadata": {},
   "outputs": [],
   "source": [
    "from crispy_shifty.protocols.design import beta_nov16_terms\n",
    "\n",
    "scores_df = scores_df[\n",
    "    [term for term in scores_df.columns if term not in beta_nov16_terms]\n",
    "]\n",
    "print(len(scores_df))\n",
    "scores_df.columns"
   ]
  },
  {
   "cell_type": "markdown",
   "id": "3a1f760b-6f01-4cce-9fbd-0232870c56fd",
   "metadata": {},
   "source": [
    "### Convert some dtypes"
   ]
  },
  {
   "cell_type": "code",
   "execution_count": null,
   "id": "77262725-4534-4313-af94-fe5c4a9f5a62",
   "metadata": {},
   "outputs": [],
   "source": [
    "scores_df[\"bb_clash_delta\"] = scores_df.bb_clash.astype(float)\n",
    "scores_df[\"looped_length\"] = scores_df.looped_length.astype(int)\n",
    "scores_df[\"trimmed_length\"] = scores_df.trimmed_length.astype(int)\n",
    "scores_df[\"loop_length_delta\"] = (\n",
    "    scores_df[\"looped_length\"] - scores_df[\"trimmed_length\"]\n",
    ")"
   ]
  },
  {
   "cell_type": "markdown",
   "id": "626edd2b-4576-40c5-b7b9-aed47058de88",
   "metadata": {},
   "source": [
    "### Check for the relationship between `bb_clash_delta` and `looped_length`"
   ]
  },
  {
   "cell_type": "code",
   "execution_count": null,
   "id": "e8ff41d0-3c5a-4986-a229-a24133a068c6",
   "metadata": {},
   "outputs": [],
   "source": [
    "from crispy_shifty.utils.plotting import histplot_df, pairplot_df\n",
    "\n",
    "cols = [\"bb_clash_delta\", \"looped_length\", \"loop_length_delta\"]\n",
    "\n",
    "the_fig = histplot_df(\n",
    "    df=scores_df,\n",
    "    cols=cols,\n",
    "    bins=10,\n",
    ")\n",
    "\n",
    "plt.savefig(os.path.join(output_path, \"bb_clash_vs_length.png\"))"
   ]
  },
  {
   "cell_type": "code",
   "execution_count": null,
   "id": "bba910a0-ea2e-4ba7-9657-6aaf2e01b568",
   "metadata": {},
   "outputs": [],
   "source": [
    "the_fig = pairplot_df(\n",
    "    df=scores_df,\n",
    "    cols=cols,\n",
    ")\n",
    "\n",
    "plt.savefig(os.path.join(output_path, \"bb_clash_vs_length_paired.png\"))"
   ]
  },
  {
   "cell_type": "markdown",
   "id": "7ca80cd7-0248-4629-9f24-06f4b0c4ef34",
   "metadata": {},
   "source": [
    "### Filter the looped states leniently\n",
    "We want to discard the obviously bad stuff here"
   ]
  },
  {
   "cell_type": "code",
   "execution_count": null,
   "id": "3175e895-1714-4add-9755-17b4dd49278f",
   "metadata": {},
   "outputs": [],
   "source": [
    "final_df = scores_df.query(\"loop_length_delta < 7 and bb_clash_delta < 1000\")\n",
    "print(len(final_df))"
   ]
  },
  {
   "cell_type": "markdown",
   "id": "5c8f74b5",
   "metadata": {},
   "source": [
    "### Save a list of outputs"
   ]
  },
  {
   "cell_type": "code",
   "execution_count": null,
   "id": "34c53ad4",
   "metadata": {},
   "outputs": [],
   "source": [
    "simulation_name = \"01_loop_bound_states\"\n",
    "output_path = os.path.join(os.getcwd(), f\"projects/crispy_shifties/{simulation_name}\")\n",
    "\n",
    "with open(os.path.join(output_path, \"looped_states.list\"), \"w\") as f:\n",
    "    for path in tqdm(final_df.index):\n",
    "        print(path, file=f)"
   ]
  },
  {
   "cell_type": "markdown",
   "id": "58f1d991-9996-49c1-9c8f-8d0d95f35a03",
   "metadata": {},
   "source": [
    "### Save a list of DHR outputs"
   ]
  },
  {
   "cell_type": "code",
   "execution_count": null,
   "id": "eeec4236-53dc-4896-bba3-4cff514e3456",
   "metadata": {},
   "outputs": [],
   "source": [
    "simulation_name = \"01_loop_bound_states\"\n",
    "output_path = os.path.join(os.getcwd(), f\"projects/crispy_shifties/{simulation_name}\")\n",
    "\n",
    "with open(os.path.join(output_path, \"DHR_looped_states.list\"), \"w\") as f:\n",
    "    for path in tqdm(\n",
    "        final_df.query(\n",
    "            \"scaffold_type == 'tj_DHRs_filtered' or scaffold_type == 'tj_DHRs_final'\"\n",
    "        ).index\n",
    "    ):\n",
    "        print(path, file=f)"
   ]
  },
  {
   "cell_type": "markdown",
   "id": "2dc57830",
   "metadata": {},
   "source": [
    "### Prototyping blocks"
   ]
  },
  {
   "cell_type": "markdown",
   "id": "5051cfb9",
   "metadata": {},
   "source": [
    "test `loop_bound_state`"
   ]
  },
  {
   "cell_type": "code",
   "execution_count": null,
   "id": "a69f98e4",
   "metadata": {
    "scrolled": true,
    "tags": []
   },
   "outputs": [],
   "source": [
    "%%time \n",
    "import pyrosetta\n",
    "\n",
    "pyrosetta.init(\n",
    "    \"-corrections::beta_nov16 -indexed_structure_store:fragment_store /net/databases/VALL_clustered/connect_chains/ss_grouped_vall_helix_shortLoop.h5\"\n",
    ")\n",
    "\n",
    "\n",
    "sys.path.insert(0, \"/projects/crispy_shifty/\")\n",
    "from crispy_shifty.protocols.looping import loop_bound_state\n",
    "\n",
    "t = loop_bound_state(\n",
    "        None,\n",
    "        **{\n",
    "            'pdb_path': '/mnt/projects/crispy_shifty/projects/crispy_shifties/00_design_bound_states/decoys/0000/00_design_bound_states_781df9c2878d4792982780ca383ea9ed.pdb.bz2',\n",
    "        }\n",
    ")\n",
    "for i, tppose in enumerate(t):\n",
    "    tppose.pose.dump_pdb(f\"{i}.pdb\")"
   ]
  },
  {
   "cell_type": "code",
   "execution_count": null,
   "id": "ddda7fa5",
   "metadata": {},
   "outputs": [],
   "source": [
    "import pyrosetta.distributed.viewer as viewer\n",
    "\n",
    "ppose = pyrosetta.distributed.io.pose_from_file(\"test.pdb\")\n",
    "view = viewer.init(ppose, window_size=(1600, 1200))\n",
    "view.add(viewer.setStyle())\n",
    "view.add(viewer.setStyle(colorscheme=\"whiteCarbon\", radius=0.10))\n",
    "view.add(viewer.setHydrogenBonds())\n",
    "view.add(viewer.setHydrogens(polar_only=True))\n",
    "view.add(viewer.setDisulfides(radius=0.25))\n",
    "view()"
   ]
  },
  {
   "cell_type": "code",
   "execution_count": null,
   "id": "ad2ae733",
   "metadata": {},
   "outputs": [],
   "source": []
  }
 ],
 "metadata": {
  "kernelspec": {
   "display_name": "crispy (3.8.12)",
   "language": "python",
   "name": "crispy"
  },
  "language_info": {
   "codemirror_mode": {
    "name": "ipython",
    "version": 3
   },
   "file_extension": ".py",
   "mimetype": "text/x-python",
   "name": "python",
   "nbconvert_exporter": "python",
   "pygments_lexer": "ipython3",
   "version": "3.8.12"
  }
 },
 "nbformat": 4,
 "nbformat_minor": 5
}
