{
 "cells": [
  {
   "cell_type": "code",
   "execution_count": 1,
   "metadata": {},
   "outputs": [],
   "source": [
    "# mpnn design all the looped poses\n",
    "\n",
    "from glob import glob\n",
    "\n",
    "with open(\"03_pair_looped/03_paired_looped_poses.list\", 'w') as f:\n",
    "    for fname in sorted(glob(\"/home/broerman/crispy_shifty/projects/crispy_shifty_dimers/round_3/design/03_pair_looped/decoys/*/*.pdb.bz2\")):\n",
    "        f.write(fname + \"\\n\")"
   ]
  },
  {
   "cell_type": "code",
   "execution_count": null,
   "metadata": {},
   "outputs": [],
   "source": [
    "import sys\n",
    "sys.path.insert(0, '/home/broerman/crispy_shifty/')\n",
    "\n",
    "from crispy_shifty.utils.io import gen_array_tasks\n",
    "\n",
    "simulation_name = \"04_two_state\"\n",
    "design_list_file = \"/home/broerman/crispy_shifty/projects/crispy_shifty_dimers/round_3/design/03_pair_looped/03_paired_looped_poses.list\"\n",
    "output_path = f\"/home/broerman/crispy_shifty/projects/crispy_shifty_dimers/round_3/design/04_two_state/{simulation_name}\"\n",
    "\n",
    "options = \" \".join(\n",
    "    [\n",
    "        \"out:level 200\",\n",
    "    ]\n",
    ")\n",
    "\n",
    "extra_kwargs = {\n",
    "    \"num_sequences\": \"10\",\n",
    "    \"batch_size\" = \"10\",\n",
    "    \"mpnn_temperature\": 0.2,\n",
    "    \"mpnn_design_area\": \"scan\",\n",
    "    \"mpnn_betas\": \"scan\",\n",
    "}\n",
    "\n",
    "gen_array_tasks(\n",
    "    distribute_func=\"crispy_shifty.protocols.mpnn.mpnn_dimers\",\n",
    "    design_list_file=design_list_file,\n",
    "    output_path=output_path,\n",
    "    queue=\"short\",\n",
    "    memory=\"12G\",\n",
    "    nstruct=1,\n",
    "    nstruct_per_task=1,\n",
    "    options=options,\n",
    "    extra_kwargs=extra_kwargs,\n",
    "    simulation_name=simulation_name,\n",
    ")"
   ]
  }
 ],
 "metadata": {
  "interpreter": {
   "hash": "f85aff12e6ff3566e4cf5a43ff1f550dd1dd8e886a46e6b0887a8a96c54cf981"
  },
  "kernelspec": {
   "display_name": "Python 3.8.12 ('crispy')",
   "language": "python",
   "name": "python3"
  },
  "language_info": {
   "codemirror_mode": {
    "name": "ipython",
    "version": 3
   },
   "file_extension": ".py",
   "mimetype": "text/x-python",
   "name": "python",
   "nbconvert_exporter": "python",
   "pygments_lexer": "ipython3",
   "version": "3.8.12"
  },
  "orig_nbformat": 4
 },
 "nbformat": 4,
 "nbformat_minor": 2
}
