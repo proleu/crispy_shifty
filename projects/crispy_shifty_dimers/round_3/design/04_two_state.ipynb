{
 "cells": [
  {
   "cell_type": "code",
   "execution_count": 1,
   "metadata": {},
   "outputs": [],
   "source": [
    "# mpnn design all the looped poses\n",
    "\n",
    "from glob import glob\n",
    "\n",
    "with open(\"03_pair_looped/03_paired_looped_poses.list\", 'w') as f:\n",
    "    for fname in sorted(glob(\"/home/broerman/crispy_shifty/projects/crispy_shifty_dimers/round_3/design/03_pair_looped/decoys/*/*.pdb.bz2\")):\n",
    "        f.write(fname + \"\\n\")"
   ]
  },
  {
   "cell_type": "code",
   "execution_count": 3,
   "metadata": {},
   "outputs": [
    {
     "name": "stderr",
     "output_type": "stream",
     "text": [
      "/projects/crispy_shifty/envs/crispy/lib/python3.8/site-packages/dask_jobqueue/core.py:20: FutureWarning: tmpfile is deprecated and will be removed in a future release. Please use dask.utils.tmpfile instead.\n",
      "  from distributed.utils import tmpfile\n"
     ]
    },
    {
     "ename": "InvalidGitRepositoryError",
     "evalue": "The working directory is dirty! Commit local changes to ensure reproducibility.",
     "output_type": "error",
     "traceback": [
      "\u001b[0;31m---------------------------------------------------------------------------\u001b[0m",
      "\u001b[0;31mInvalidGitRepositoryError\u001b[0m                 Traceback (most recent call last)",
      "\u001b[0;32m/tmp/ipykernel_1754474/3908279458.py\u001b[0m in \u001b[0;36m<module>\u001b[0;34m\u001b[0m\n\u001b[1;32m     22\u001b[0m }\n\u001b[1;32m     23\u001b[0m \u001b[0;34m\u001b[0m\u001b[0m\n\u001b[0;32m---> 24\u001b[0;31m gen_array_tasks(\n\u001b[0m\u001b[1;32m     25\u001b[0m     \u001b[0mdistribute_func\u001b[0m\u001b[0;34m=\u001b[0m\u001b[0;34m\"crispy_shifty.protocols.mpnn.mpnn_dimers\"\u001b[0m\u001b[0;34m,\u001b[0m\u001b[0;34m\u001b[0m\u001b[0;34m\u001b[0m\u001b[0m\n\u001b[1;32m     26\u001b[0m     \u001b[0mdesign_list_file\u001b[0m\u001b[0;34m=\u001b[0m\u001b[0mdesign_list_file\u001b[0m\u001b[0;34m,\u001b[0m\u001b[0;34m\u001b[0m\u001b[0;34m\u001b[0m\u001b[0m\n",
      "\u001b[0;32m~/crispy_shifty/crispy_shifty/utils/io.py\u001b[0m in \u001b[0;36mgen_array_tasks\u001b[0;34m(distribute_func, design_list_file, output_path, queue, extra_kwargs, cores, gres, memory, nstruct, nstruct_per_task, options, perlmutter_mode, sha1, simulation_name, time, func_root)\u001b[0m\n\u001b[1;32m    677\u001b[0m     \u001b[0;32mfrom\u001b[0m \u001b[0mcrispy_shifty\u001b[0m\u001b[0;34m.\u001b[0m\u001b[0mutils\u001b[0m\u001b[0;34m.\u001b[0m\u001b[0mio\u001b[0m \u001b[0;32mimport\u001b[0m \u001b[0mget_yml\u001b[0m\u001b[0;34m\u001b[0m\u001b[0;34m\u001b[0m\u001b[0m\n\u001b[1;32m    678\u001b[0m \u001b[0;34m\u001b[0m\u001b[0m\n\u001b[0;32m--> 679\u001b[0;31m     \u001b[0msha1\u001b[0m \u001b[0;34m=\u001b[0m \u001b[0mparse_sha1\u001b[0m\u001b[0;34m(\u001b[0m\u001b[0msha1\u001b[0m\u001b[0;34m)\u001b[0m\u001b[0;34m\u001b[0m\u001b[0;34m\u001b[0m\u001b[0m\n\u001b[0m\u001b[1;32m    680\u001b[0m     \u001b[0;31m# if the user provided None then sha1 is still an empty string, this fixes that\u001b[0m\u001b[0;34m\u001b[0m\u001b[0;34m\u001b[0m\u001b[0;34m\u001b[0m\u001b[0m\n\u001b[1;32m    681\u001b[0m     \u001b[0;32mif\u001b[0m \u001b[0msha1\u001b[0m \u001b[0;34m==\u001b[0m \u001b[0;34m\"\"\u001b[0m\u001b[0;34m:\u001b[0m\u001b[0;34m\u001b[0m\u001b[0;34m\u001b[0m\u001b[0m\n",
      "\u001b[0;32m/projects/crispy_shifty/envs/crispy/lib/python3.8/site-packages/pyrosetta/distributed/cluster/converters.py\u001b[0m in \u001b[0;36m_parse_sha1\u001b[0;34m(obj)\u001b[0m\n\u001b[1;32m    300\u001b[0m         \u001b[0;32mreturn\u001b[0m \u001b[0;34m\"\"\u001b[0m\u001b[0;34m\u001b[0m\u001b[0;34m\u001b[0m\u001b[0m\n\u001b[1;32m    301\u001b[0m \u001b[0;34m\u001b[0m\u001b[0m\n\u001b[0;32m--> 302\u001b[0;31m     \u001b[0;32mreturn\u001b[0m \u001b[0mconverter\u001b[0m\u001b[0;34m(\u001b[0m\u001b[0mobj\u001b[0m\u001b[0;34m)\u001b[0m\u001b[0;34m\u001b[0m\u001b[0;34m\u001b[0m\u001b[0m\n\u001b[0m\u001b[1;32m    303\u001b[0m \u001b[0;34m\u001b[0m\u001b[0m\n\u001b[1;32m    304\u001b[0m \u001b[0;34m\u001b[0m\u001b[0m\n",
      "\u001b[0;32m/projects/crispy_shifty/envs/crispy/lib/python3.8/functools.py\u001b[0m in \u001b[0;36mwrapper\u001b[0;34m(*args, **kw)\u001b[0m\n\u001b[1;32m    873\u001b[0m                             '1 positional argument')\n\u001b[1;32m    874\u001b[0m \u001b[0;34m\u001b[0m\u001b[0m\n\u001b[0;32m--> 875\u001b[0;31m         \u001b[0;32mreturn\u001b[0m \u001b[0mdispatch\u001b[0m\u001b[0;34m(\u001b[0m\u001b[0margs\u001b[0m\u001b[0;34m[\u001b[0m\u001b[0;36m0\u001b[0m\u001b[0;34m]\u001b[0m\u001b[0;34m.\u001b[0m\u001b[0m__class__\u001b[0m\u001b[0;34m)\u001b[0m\u001b[0;34m(\u001b[0m\u001b[0;34m*\u001b[0m\u001b[0margs\u001b[0m\u001b[0;34m,\u001b[0m \u001b[0;34m**\u001b[0m\u001b[0mkw\u001b[0m\u001b[0;34m)\u001b[0m\u001b[0;34m\u001b[0m\u001b[0;34m\u001b[0m\u001b[0m\n\u001b[0m\u001b[1;32m    876\u001b[0m \u001b[0;34m\u001b[0m\u001b[0m\n\u001b[1;32m    877\u001b[0m     \u001b[0mfuncname\u001b[0m \u001b[0;34m=\u001b[0m \u001b[0mgetattr\u001b[0m\u001b[0;34m(\u001b[0m\u001b[0mfunc\u001b[0m\u001b[0;34m,\u001b[0m \u001b[0;34m'__name__'\u001b[0m\u001b[0;34m,\u001b[0m \u001b[0;34m'singledispatch function'\u001b[0m\u001b[0;34m)\u001b[0m\u001b[0;34m\u001b[0m\u001b[0;34m\u001b[0m\u001b[0m\n",
      "\u001b[0;32m/projects/crispy_shifty/envs/crispy/lib/python3.8/site-packages/pyrosetta/distributed/cluster/converters.py\u001b[0m in \u001b[0;36m_register_str\u001b[0;34m(obj)\u001b[0m\n\u001b[1;32m    273\u001b[0m             \u001b[0;31m# Ensure that all changes to tracked files are committed\u001b[0m\u001b[0;34m\u001b[0m\u001b[0;34m\u001b[0m\u001b[0;34m\u001b[0m\u001b[0m\n\u001b[1;32m    274\u001b[0m             \u001b[0;32mif\u001b[0m \u001b[0mrepo\u001b[0m\u001b[0;34m.\u001b[0m\u001b[0mis_dirty\u001b[0m\u001b[0;34m(\u001b[0m\u001b[0muntracked_files\u001b[0m\u001b[0;34m=\u001b[0m\u001b[0;32mTrue\u001b[0m\u001b[0;34m)\u001b[0m\u001b[0;34m:\u001b[0m\u001b[0;34m\u001b[0m\u001b[0;34m\u001b[0m\u001b[0m\n\u001b[0;32m--> 275\u001b[0;31m                 raise git.InvalidGitRepositoryError(\n\u001b[0m\u001b[1;32m    276\u001b[0m                     \u001b[0;34m\"The working directory is dirty! \"\u001b[0m\u001b[0;34m\u001b[0m\u001b[0;34m\u001b[0m\u001b[0m\n\u001b[1;32m    277\u001b[0m                     \u001b[0;34m+\u001b[0m \u001b[0;34m\"Commit local changes to ensure reproducibility.\"\u001b[0m\u001b[0;34m\u001b[0m\u001b[0;34m\u001b[0m\u001b[0m\n",
      "\u001b[0;31mInvalidGitRepositoryError\u001b[0m: The working directory is dirty! Commit local changes to ensure reproducibility."
     ]
    }
   ],
   "source": [
    "import sys\n",
    "sys.path.insert(0, '/home/broerman/crispy_shifty/')\n",
    "\n",
    "from crispy_shifty.utils.io import gen_array_tasks\n",
    "\n",
    "simulation_name = \"04_two_state\"\n",
    "design_list_file = \"/home/broerman/crispy_shifty/projects/crispy_shifty_dimers/round_3/design/03_pair_looped/03_paired_looped_poses.list\"\n",
    "output_path = f\"/home/broerman/crispy_shifty/projects/crispy_shifty_dimers/round_3/design/04_two_state/{simulation_name}\"\n",
    "\n",
    "options = \" \".join(\n",
    "    [\n",
    "        \"out:level 200\",\n",
    "    ]\n",
    ")\n",
    "\n",
    "extra_kwargs = {\n",
    "    \"num_sequences\": \"10\",\n",
    "    \"batch_size\": \"10\",\n",
    "    \"mpnn_temperature\": 0.2,\n",
    "    \"mpnn_design_area\": \"full\",\n",
    "    \"mpnn_betas\": \"scan\",\n",
    "}\n",
    "\n",
    "gen_array_tasks(\n",
    "    distribute_func=\"crispy_shifty.protocols.mpnn.mpnn_dimers\",\n",
    "    design_list_file=design_list_file,\n",
    "    output_path=output_path,\n",
    "    queue=\"short\",\n",
    "    memory=\"12G\",\n",
    "    nstruct=1,\n",
    "    nstruct_per_task=1,\n",
    "    options=options,\n",
    "    extra_kwargs=extra_kwargs,\n",
    "    simulation_name=simulation_name,\n",
    ")"
   ]
  },
  {
   "cell_type": "code",
   "execution_count": null,
   "metadata": {},
   "outputs": [],
   "source": []
  }
 ],
 "metadata": {
  "interpreter": {
   "hash": "f85aff12e6ff3566e4cf5a43ff1f550dd1dd8e886a46e6b0887a8a96c54cf981"
  },
  "kernelspec": {
   "display_name": "Python 3.8.12 ('crispy')",
   "language": "python",
   "name": "python3"
  },
  "language_info": {
   "codemirror_mode": {
    "name": "ipython",
    "version": 3
   },
   "file_extension": ".py",
   "mimetype": "text/x-python",
   "name": "python",
   "nbconvert_exporter": "python",
   "pygments_lexer": "ipython3",
   "version": "3.8.12"
  },
  "orig_nbformat": 4
 },
 "nbformat": 4,
 "nbformat_minor": 2
}
