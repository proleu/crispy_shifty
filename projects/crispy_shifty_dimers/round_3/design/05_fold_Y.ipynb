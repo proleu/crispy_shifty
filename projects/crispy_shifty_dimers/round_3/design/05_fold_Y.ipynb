{
 "cells": [
  {
   "cell_type": "markdown",
   "metadata": {},
   "source": [
    "To be run on perlmutter"
   ]
  },
  {
   "cell_type": "code",
   "execution_count": 1,
   "metadata": {},
   "outputs": [],
   "source": [
    "import os\n",
    "import sys\n",
    "sys.path.insert(0, \"/global/cfs/cdirs/m4129/projects/crispy_shifty_adam\")"
   ]
  },
  {
   "cell_type": "code",
   "execution_count": 2,
   "metadata": {},
   "outputs": [
    {
     "name": "stderr",
     "output_type": "stream",
     "text": [
      "/global/cfs/cdirs/m4129/projects/crispy_shifty_adam/envs/crispy/lib/python3.8/site-packages/dask_jobqueue/core.py:20: FutureWarning: tmpfile is deprecated and will be removed in a future release. Please use dask.utils.tmpfile instead.\n",
      "  from distributed.utils import tmpfile\n"
     ]
    }
   ],
   "source": [
    "from crispy_shifty.utils.io import fix_path_prefixes\n",
    "\n",
    "pairs = '/global/u2/b/broerman/crispy_shifty/projects/crispy_shifty_dimers/round_3/design/04_two_state/mpnn_paired_states.pair'\n",
    "new_pairs = fix_path_prefixes(\n",
    "    find=\"/home\",\n",
    "    replace=\"/global/u2/b\",\n",
    "    file=pairs,\n",
    "    overwrite=True,\n",
    ")"
   ]
  },
  {
   "cell_type": "code",
   "execution_count": 4,
   "metadata": {},
   "outputs": [
    {
     "name": "stdout",
     "output_type": "stream",
     "text": [
      "Run the following command with your desired environment active:\n",
      "sbatch -a 1-3837 /pscratch/sd/b/broerman/05_fold_Y/run.sh\n"
     ]
    }
   ],
   "source": [
    "from crispy_shifty.utils.io import gen_array_tasks\n",
    "\n",
    "simulation_name = \"05_fold_Y\"\n",
    "design_list_file = '/global/u2/b/broerman/crispy_shifty/projects/crispy_shifty_dimers/round_3/design/04_two_state/mpnn_paired_states.pair'\n",
    "output_path = f\"/pscratch/sd/b/broerman/{simulation_name}\"\n",
    "\n",
    "options = \" \".join(\n",
    "    [\n",
    "        \"out:level 200\",\n",
    "    ]\n",
    ")\n",
    "extra_kwargs = {\"models\": \"all\"}\n",
    "\n",
    "gen_array_tasks(\n",
    "    distribute_func=\"crispy_shifty.protocols.folding.fold_dimer_Y\",\n",
    "    design_list_file=design_list_file,\n",
    "    output_path=output_path,\n",
    "    perlmutter_mode=True,\n",
    "    nstruct=1,\n",
    "    nstruct_per_task=1,\n",
    "    options=options,\n",
    "    extra_kwargs=extra_kwargs,\n",
    "    simulation_name=simulation_name,\n",
    "    time=\"45:00\",\n",
    ")"
   ]
  },
  {
   "cell_type": "code",
   "execution_count": 5,
   "metadata": {},
   "outputs": [
    {
     "name": "stdout",
     "output_type": "stream",
     "text": [
      "ssh nid002845\n"
     ]
    }
   ],
   "source": [
    "import socket\n",
    "print(f\"ssh {socket.gethostname()}\")"
   ]
  },
  {
   "cell_type": "code",
   "execution_count": 7,
   "metadata": {},
   "outputs": [
    {
     "name": "stdout",
     "output_type": "stream",
     "text": [
      "module load cudatoolkit/11.4\n",
      "N=$(( SLURM_ARRAY_TASK_ID - 1 ))\n",
      "N2=$(( N + 1 ))\n",
      "start_idx=$(( N*4 + 1 ))\n",
      "end_idx=$(( N2*4 ))\n",
      "source activate /global/cfs/cdirs/m4129/projects/crispy_shifty_adam/envs/crispy\n",
      "time head -n $end_idx /pscratch/sd/b/broerman/05_fold_Y/tasks.cmds | tail -n +$start_idx | parallel 'CUDA_VISIBLE_DEVICES=$((\"{%}\" - 1)) && bash -c {}'\n"
     ]
    }
   ],
   "source": [
    "print(\"\"\"module load cudatoolkit/11.4\n",
    "N=$(( SLURM_ARRAY_TASK_ID - 1 ))\n",
    "N2=$(( N + 1 ))\n",
    "start_idx=$(( N*4 + 1 ))\n",
    "end_idx=$(( N2*4 ))\n",
    "source activate /global/cfs/cdirs/m4129/projects/crispy_shifty_adam/envs/crispy\n",
    "time head -n $end_idx /pscratch/sd/b/broerman/05_fold_Y/tasks.cmds | tail -n +$start_idx | parallel 'CUDA_VISIBLE_DEVICES=$((\"{%}\" - 1)) && bash -c {}'\"\"\")"
   ]
  },
  {
   "cell_type": "code",
   "execution_count": null,
   "metadata": {},
   "outputs": [],
   "source": []
  }
 ],
 "metadata": {
  "kernelspec": {
   "display_name": "crispy-adam",
   "language": "python",
   "name": "crispy-adam"
  },
  "language_info": {
   "codemirror_mode": {
    "name": "ipython",
    "version": 3
   },
   "file_extension": ".py",
   "mimetype": "text/x-python",
   "name": "python",
   "nbconvert_exporter": "python",
   "pygments_lexer": "ipython3",
   "version": "3.8.12"
  }
 },
 "nbformat": 4,
 "nbformat_minor": 4
}
