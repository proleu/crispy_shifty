{
 "cells": [
  {
   "cell_type": "markdown",
   "metadata": {},
   "source": [
    "# Loop dimers"
   ]
  },
  {
   "cell_type": "code",
   "execution_count": 5,
   "metadata": {},
   "outputs": [
    {
     "name": "stdout",
     "output_type": "stream",
     "text": [
      "running in directory: /mnt/home/broerman/projects/crispy_shifty/projects/crispy_shifty_dimers\n",
      "running on node: jojo\n"
     ]
    }
   ],
   "source": [
    "# %load_ext lab_black\n",
    "# Python standard library\n",
    "from glob import glob\n",
    "import os\n",
    "import socket\n",
    "import sys\n",
    "\n",
    "# 3rd party library imports\n",
    "import dask\n",
    "import matplotlib.pyplot as plt\n",
    "import pandas as pd\n",
    "import pyrosetta\n",
    "import numpy as np\n",
    "import scipy\n",
    "import seaborn as sns\n",
    "from tqdm.auto import tqdm  # jupyter compatible progress bar\n",
    "\n",
    "tqdm.pandas()  # link tqdm to pandas\n",
    "# Notebook magic\n",
    "# save plots in the notebook\n",
    "%matplotlib inline\n",
    "# reloads modules automatically before executing cells\n",
    "%load_ext autoreload\n",
    "%autoreload 2\n",
    "print(f\"running in directory: {os.getcwd()}\")  # where are we?\n",
    "print(f\"running on node: {socket.gethostname()}\")  # what node are we on?"
   ]
  },
  {
   "cell_type": "code",
   "execution_count": 1,
   "metadata": {},
   "outputs": [
    {
     "name": "stderr",
     "output_type": "stream",
     "text": [
      "/projects/crispy_shifty/envs/crispy/lib/python3.8/site-packages/dask_jobqueue/core.py:20: FutureWarning: tmpfile is deprecated and will be removed in a future release. Please use dask.utils.tmpfile instead.\n",
      "  from distributed.utils import tmpfile\n"
     ]
    },
    {
     "name": "stdout",
     "output_type": "stream",
     "text": [
      "Run the following command with your desired environment active:\n",
      "sbatch -a 1-$(cat /home/broerman/projects/crispy_shifty/projects/crispy_shifty_dimers/03_close_loops/tasks.cmds | wc -l) /home/broerman/projects/crispy_shifty/projects/crispy_shifty_dimers/03_close_loops/run.sh\n"
     ]
    }
   ],
   "source": [
    "sys.path.insert(0, \"/home/broerman/projects/crispy_shifty\")\n",
    "from crispy_shifty.utils.io import gen_array_tasks\n",
    "\n",
    "design_list_file = \"/home/broerman/projects/crispy_shifty/projects/crispy_shifty_dimers/02_design_filter_3/filtered_designs.list\"\n",
    "output_path = \"/home/broerman/projects/crispy_shifty/projects/crispy_shifty_dimers/03_close_loops\"\n",
    "\n",
    "# Format as a string of key value pairs with no leading dashes on the argument names\n",
    "options = \"out:level 100 holes:dalphaball /home/bcov/ppi/tutorial_build/main/source/external/DAlpahBall/DAlphaBall.gcc indexed_structure_store:fragment_store /home/bcov/sc/scaffold_comparison/data/ss_grouped_vall_all.h5 precompute_ig true\"\n",
    "\n",
    "gen_array_tasks(distribute_func='crispy_shifty.protocols.looping.loop_dimer',\n",
    "                design_list_file=design_list_file,\n",
    "                output_path=output_path,\n",
    "                queue='short',\n",
    "                memory='8G',\n",
    "                nstruct=1,\n",
    "                nstruct_per_task=50,\n",
    "                options=options,\n",
    "                simulation_name='03_close_loops')"
   ]
  },
  {
   "cell_type": "code",
   "execution_count": null,
   "metadata": {},
   "outputs": [],
   "source": [
    "from crispy_shifty.utils.io import collect_score_file\n",
    "output_path = \"/home/broerman/projects/crispy_shifty/projects/crispy_shifty_dimers/03_close_loops\"\n",
    "collect_score_file(output_path, 'scores')"
   ]
  },
  {
   "cell_type": "markdown",
   "metadata": {},
   "source": [
    "## Everything after this is for testing ##"
   ]
  },
  {
   "cell_type": "code",
   "execution_count": 1,
   "metadata": {},
   "outputs": [
    {
     "name": "stderr",
     "output_type": "stream",
     "text": [
      "/projects/crispy_shifty/envs/crispy/lib/python3.8/site-packages/dask_jobqueue/core.py:20: FutureWarning: tmpfile is deprecated and will be removed in a future release. Please use dask.utils.tmpfile instead.\n",
      "  from distributed.utils import tmpfile\n"
     ]
    },
    {
     "name": "stdout",
     "output_type": "stream",
     "text": [
      "REMARK PyRosettaCluster: \n",
      "REMARK CrispyShifty: \n"
     ]
    }
   ],
   "source": [
    "import pyrosetta\n",
    "from pyrosetta.distributed.cluster.io import IO\n",
    "print(IO.REMARK_FORMAT)\n",
    "IO.REMARK_FORMAT = 'REMARK CrispyShifty: '\n",
    "print(IO.REMARK_FORMAT)\n",
    "path = '/home/broerman/projects/crispy_shifty/projects/crispy_shifty_dimers/02_design_filter_3/decoys/0006/_5fc0cbb34e88485690c5fd78d411902d.pdb.bz2'\n",
    "scores = pyrosetta.distributed.cluster.get_scores_dict(path)[\"scores\"]"
   ]
  },
  {
   "cell_type": "code",
   "execution_count": 1,
   "metadata": {},
   "outputs": [
    {
     "name": "stderr",
     "output_type": "stream",
     "text": [
      "/projects/crispy_shifty/envs/crispy/lib/python3.8/site-packages/dask_jobqueue/core.py:20: FutureWarning: tmpfile is deprecated and will be removed in a future release. Please use dask.utils.tmpfile instead.\n",
      "  from distributed.utils import tmpfile\n"
     ]
    }
   ],
   "source": [
    "import pyrosetta\n",
    "import pyrosetta.distributed.cluster as cluster\n",
    "path = '/home/broerman/projects/crispy_shifty/projects/crispy_shifty_dimers/03_close_loops_test/decoys/0000/03_close_loops_8bf01523165b483b9193640cfdc02091.pdb.bz2'\n",
    "scores = pyrosetta.distributed.cluster.get_scores_dict(path)[\"scores\"]\n",
    "print(scores)"
   ]
  },
  {
   "cell_type": "code",
   "execution_count": 3,
   "metadata": {},
   "outputs": [],
   "source": [
    "# Fix the use of REMARK CrispyShifty\" instead of \"REMARK PyRosettaCluster\" \n",
    "\n",
    "from glob import iglob\n",
    "import bz2\n",
    "# filepath = \"/home/broerman/projects/crispy_shifty/projects/crispy_shifty_dimers/02_design_filter_2/decoys/\"\n",
    "# filepath = \"/home/broerman/projects/crispy_shifty/projects/crispy_shifty_dimers/02_design_filter_3/decoys/\"\n",
    "# filepath = \"/home/broerman/projects/crispy_shifty/projects/crispy_shifty_dimers/03_close_loops_test/decoys/\"\n",
    "for filename in iglob(filepath + '*/*.pdb.bz2'):\n",
    "    with open(filename, \"rb\") as fbz2:\n",
    "        pdbstring = bz2.decompress(fbz2.read()).decode()\n",
    "    split_pdbstr = pdbstring.split(os.linesep)\n",
    "    for i, line in enumerate(reversed(split_pdbstr)):\n",
    "        if line.startswith(\"REMARK CrispyShifty\"):\n",
    "            newline = line.replace(\"CrispyShifty\", \"PyRosettaCluster\")\n",
    "            split_pdbstr[-i-1] = newline\n",
    "            with(open(filename, \"wb\")) as fbz2:\n",
    "                fbz2.write(bz2.compress(os.linesep.join(split_pdbstr).encode()))\n",
    "            break"
   ]
  },
  {
   "cell_type": "code",
   "execution_count": 2,
   "metadata": {},
   "outputs": [
    {
     "name": "stdout",
     "output_type": "stream",
     "text": [
      "Run the following command with your desired environment active:\n",
      "sbatch -a 1-$(cat /home/broerman/projects/crispy_shifty/projects/crispy_shifty_dimers/testing/03_close_loops_design/tasks.cmds | wc -l) /home/broerman/projects/crispy_shifty/projects/crispy_shifty_dimers/testing/03_close_loops_design/run.sh\n"
     ]
    }
   ],
   "source": [
    "sys.path.insert(0, \"/home/broerman/projects/crispy_shifty\")\n",
    "from crispy_shifty.utils.io import gen_array_tasks\n",
    "\n",
    "design_list_file = \"/home/broerman/projects/crispy_shifty/projects/crispy_shifty_dimers/02_design_filter_3/filtered_designs (copy).list\"\n",
    "output_path = \"/home/broerman/projects/crispy_shifty/projects/crispy_shifty_dimers/testing/03_close_loops_design\"\n",
    "\n",
    "# Format as a string of key value pairs with no leading dashes on the argument names\n",
    "options = \"out:level 100 holes:dalphaball /home/bcov/ppi/tutorial_build/main/source/external/DAlpahBall/DAlphaBall.gcc indexed_structure_store:fragment_store /home/bcov/sc/scaffold_comparison/data/ss_grouped_vall_all.h5 precompute_ig true\"\n",
    "\n",
    "gen_array_tasks(distribute_func='crispy_shifty.protocols.looping.loop_dimer',\n",
    "                design_list_file=design_list_file,\n",
    "                output_path=output_path,\n",
    "                queue='short',\n",
    "                memory='8G',\n",
    "                nstruct=1,\n",
    "                nstruct_per_task=1,\n",
    "                options=options,\n",
    "                simulation_name='03_close_loops')"
   ]
  },
  {
   "cell_type": "code",
   "execution_count": 6,
   "metadata": {},
   "outputs": [
    {
     "name": "stdout",
     "output_type": "stream",
     "text": [
      "0.03 min: Attempting closure by loop match...success.\n",
      "0.06 min: Scoring...complete.\n",
      "0.10 min: Attempting closure by loop match..."
     ]
    },
    {
     "name": "stderr",
     "output_type": "stream",
     "text": [
      "\n",
      "ERROR: No loop closures found below threshold, exiting\n",
      "ERROR:: Exit from: /home/benchmark/rosetta/source/src/protocols/pose_length_moves/ConnectChainsMover.cc line: 221\n"
     ]
    },
    {
     "name": "stdout",
     "output_type": "stream",
     "text": [
      "failed.\n",
      "0.11 min: Attempting closure by loop remodel...      4.574999999999999       9.712999999999999      -8.512999999999998\n",
      "success.\n",
      "0.50 min: Scoring...complete.\n"
     ]
    }
   ],
   "source": [
    "# testing\n",
    "\n",
    "sys.path.insert(0, \"/home/broerman/projects/crispy_shifty\")\n",
    "from crispy_shifty.protocols.looping import loop_dimer\n",
    "import pyrosetta.distributed.io as io\n",
    "\n",
    "pyrosetta.distributed.maybe_init(**{\n",
    "    \"options\": \"-corrections::beta_nov16 true\",\n",
    "    \"extra_options\":{\n",
    "        \"-out:level\": \"100\",\n",
    "        \"-holes:dalphaball\": \"/home/bcov/ppi/tutorial_build/main/source/external/DAlpahBall/DAlphaBall.gcc\",\n",
    "        \"-indexed_structure_store:fragment_store\": \"/home/bcov/sc/scaffold_comparison/data/ss_grouped_vall_all.h5\",\n",
    "        \"-precompute_ig\": \"true\"\n",
    "}})\n",
    "\n",
    "file = '/home/broerman/projects/crispy_shifty/projects/crispy_shifty_dimers/02_design_filter/decoys/0000/02_design_filter_0a0e27de4de64d10b9c4272024e98bf8.pdb.bz2'\n",
    "\n",
    "pposes = loop_dimer(**{'pdb_path': file})\n",
    "\n",
    "for ppose in pposes:\n",
    "    pose = io.to_pose(ppose)\n",
    "    pose.dump_pdb(f'testing/loop_dimer_test_scored.pdb')"
   ]
  },
  {
   "cell_type": "code",
   "execution_count": null,
   "metadata": {},
   "outputs": [],
   "source": [
    "import bz2\n",
    "with open('testing/unloopable.pdb', 'rb') as f_in:\n",
    "    with open('testing/unloopable.pdb.bz2', 'wb') as f_out:\n",
    "        f_out.write(bz2.compress(f_in.read()))"
   ]
  },
  {
   "cell_type": "code",
   "execution_count": 8,
   "metadata": {},
   "outputs": [
    {
     "name": "stdout",
     "output_type": "stream",
     "text": [
      "0.08 min: Attempting closure by loop match..."
     ]
    },
    {
     "name": "stderr",
     "output_type": "stream",
     "text": [
      "\n",
      "ERROR: No loop closures found below threshold, exiting\n",
      "ERROR:: Exit from: /home/benchmark/rosetta/source/src/protocols/pose_length_moves/ConnectChainsMover.cc line: 221\n"
     ]
    },
    {
     "name": "stdout",
     "output_type": "stream",
     "text": [
      "failed.\n",
      "4.23 min: Attempting closure by loop remodel...      52.65600000000000       39.76900000000000       35.24300000000000\n",
      "failed.\n"
     ]
    }
   ],
   "source": [
    "# testing\n",
    "\n",
    "sys.path.insert(0, \"/home/broerman/projects/crispy_shifty\")\n",
    "from crispy_shifty.protocols.looping import loop_dimer\n",
    "import pyrosetta.distributed.io as io\n",
    "\n",
    "pyrosetta.distributed.maybe_init(**{\n",
    "    \"options\": \"-corrections::beta_nov16 true\",\n",
    "    \"extra_options\":{\n",
    "        \"-out:level\": \"100\",\n",
    "        \"-holes:dalphaball\": \"/home/bcov/ppi/tutorial_build/main/source/external/DAlpahBall/DAlphaBall.gcc\",\n",
    "        \"-indexed_structure_store:fragment_store\": \"/home/bcov/sc/scaffold_comparison/data/ss_grouped_vall_all.h5\",\n",
    "        \"-precompute_ig\": \"true\"\n",
    "}})\n",
    "\n",
    "file = 'testing/unloopable.pdb.bz2'\n",
    "\n",
    "pposes = loop_dimer(**{'pdb_path': file})\n",
    "\n",
    "for ppose in pposes:\n",
    "    pose = io.to_pose(ppose)\n",
    "    pose.dump_pdb(f'testing/unloopable_dimer_test.pdb')"
   ]
  },
  {
   "cell_type": "code",
   "execution_count": null,
   "metadata": {},
   "outputs": [],
   "source": []
  }
 ],
 "metadata": {
  "interpreter": {
   "hash": "f85aff12e6ff3566e4cf5a43ff1f550dd1dd8e886a46e6b0887a8a96c54cf981"
  },
  "kernelspec": {
   "display_name": "crispy (3.8.12)",
   "language": "python",
   "name": "python3"
  },
  "language_info": {
   "codemirror_mode": {
    "name": "ipython",
    "version": 3
   },
   "file_extension": ".py",
   "mimetype": "text/x-python",
   "name": "python",
   "nbconvert_exporter": "python",
   "pygments_lexer": "ipython3",
   "version": "3.8.12"
  }
 },
 "nbformat": 4,
 "nbformat_minor": 4
}
