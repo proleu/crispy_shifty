{
 "cells": [
  {
   "cell_type": "code",
   "execution_count": 1,
   "metadata": {},
   "outputs": [],
   "source": [
    "import pyrosetta\n",
    "pyrosetta.distributed.maybe_init(**{\n",
    "    \"options\": \"-corrections::beta_nov16 true\",\n",
    "    \"extra_options\":{\n",
    "        \"-out:level\": \"100\",\n",
    "}})"
   ]
  },
  {
   "cell_type": "code",
   "execution_count": 2,
   "metadata": {},
   "outputs": [],
   "source": [
    "from glob import glob\n",
    "\n",
    "for design_fname in glob('/home/broerman/projects/CSD/round_2/designs/*.pdb'):\n",
    "    design_name = design_fname.split('/')[-1].split('_')[0]\n",
    "    pose_AX, pose_BX, pose_Y, pose_BY = pyrosetta.pose_from_pdb(design_fname).split_by_chain()\n",
    "    pyrosetta.rosetta.core.pose.append_pose_to_pose(pose_Y, pose_BY)\n",
    "    pose_AX.dump_pdb(f'/home/broerman/projects/CSD/round_2/designs/split/{design_name}A.pdb')\n",
    "    pose_BX.dump_pdb(f'/home/broerman/projects/CSD/round_2/designs/split/{design_name}B.pdb')\n",
    "    pose_Y.dump_pdb(f'/home/broerman/projects/CSD/round_2/designs/split/{design_name}AB.pdb')"
   ]
  },
  {
   "cell_type": "code",
   "execution_count": 3,
   "metadata": {},
   "outputs": [],
   "source": [
    "# alphafold\n",
    "\n",
    "from Bio import SeqIO\n",
    "from Bio.Seq import Seq\n",
    "from Bio.SeqRecord import SeqRecord\n",
    "from collections import defaultdict\n",
    "from IPython.utils.io import capture_output\n",
    "\n",
    "files_by_len = defaultdict(list)\n",
    "\n",
    "for design_fname in glob('/home/broerman/projects/CSD/round_2/designs/split/*.pdb'):\n",
    "\n",
    "    sequence = ''\n",
    "    with capture_output() as captured: # otherwise memory overloads lol\n",
    "        for i, record in enumerate(SeqIO.parse(design_fname, 'pdb-atom')):\n",
    "            sequence += str(record.seq)\n",
    "    \n",
    "    files_by_len[len(sequence)].append(design_fname)\n",
    "\n",
    "task_lines = []\n",
    "\n",
    "for length, file_list in files_by_len.items():\n",
    "\n",
    "    file_str = ' '.join(file_list)\n",
    "    task_lines.append(f\"/home/rdkibler/software/alphafold/superfold {file_str} --models all --max_recycles 4 --initial_guess --simple_rmsd --out_dir /home/broerman/projects/CSD/round_2/af2/af2_models\\n\")\n",
    "\n",
    "task_lines.sort(key=lambda x: -len(x))\n",
    "\n",
    "with open('af2_CSDs.tasks', 'w') as f:\n",
    "    f.write(''.join(task_lines))"
   ]
  },
  {
   "cell_type": "code",
   "execution_count": 4,
   "metadata": {},
   "outputs": [
    {
     "name": "stdout",
     "output_type": "stream",
     "text": [
      "sbatch -a 1-$(cat af2_CSDs.tasks | wc -l) af2_CSDs.sh\n"
     ]
    }
   ],
   "source": [
    "print('sbatch -a 1-$(cat af2_CSDs.tasks | wc -l) af2_CSDs.sh')"
   ]
  },
  {
   "cell_type": "code",
   "execution_count": null,
   "metadata": {},
   "outputs": [],
   "source": []
  }
 ],
 "metadata": {
  "interpreter": {
   "hash": "f85aff12e6ff3566e4cf5a43ff1f550dd1dd8e886a46e6b0887a8a96c54cf981"
  },
  "kernelspec": {
   "display_name": "Python 3.8.12 ('crispy')",
   "language": "python",
   "name": "python3"
  },
  "language_info": {
   "codemirror_mode": {
    "name": "ipython",
    "version": 3
   },
   "file_extension": ".py",
   "mimetype": "text/x-python",
   "name": "python",
   "nbconvert_exporter": "python",
   "pygments_lexer": "ipython3",
   "version": "3.8.12"
  },
  "orig_nbformat": 4
 },
 "nbformat": 4,
 "nbformat_minor": 2
}
