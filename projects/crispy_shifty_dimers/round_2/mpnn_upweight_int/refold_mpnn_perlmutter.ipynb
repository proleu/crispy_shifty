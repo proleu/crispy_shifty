{
 "cells": [
  {
   "cell_type": "markdown",
   "metadata": {},
   "source": [
    "To be run on perlmutter"
   ]
  },
  {
   "cell_type": "code",
   "execution_count": 1,
   "metadata": {},
   "outputs": [],
   "source": [
    "import os\n",
    "import sys\n",
    "sys.path.insert(0, \"/global/cfs/cdirs/m4129/projects/crispy_shifty_adam\")"
   ]
  },
  {
   "cell_type": "code",
   "execution_count": null,
   "metadata": {},
   "outputs": [],
   "source": [
    "from crispy_shifty.utils.io import fix_path_prefixes\n",
    "\n",
    "pairs = '/global/u2/b/broerman/projects/CSD/round_2/mpnn_upweight_int/02_mpnn_upweight_int/mpnn_paired_states.pair'\n",
    "new_pairs = fix_path_prefixes(\n",
    "    find=\"/home\",\n",
    "    replace=\"/global/u2/b\",\n",
    "    file=pairs,\n",
    "    overwrite=True,\n",
    ")"
   ]
  },
  {
   "cell_type": "code",
   "execution_count": 2,
   "metadata": {},
   "outputs": [
    {
     "name": "stderr",
     "output_type": "stream",
     "text": [
      "/global/cfs/cdirs/m4129/projects/crispy_shifty_adam/envs/crispy/lib/python3.8/site-packages/dask_jobqueue/core.py:20: FutureWarning: tmpfile is deprecated and will be removed in a future release. Please use dask.utils.tmpfile instead.\n",
      "  from distributed.utils import tmpfile\n"
     ]
    },
    {
     "name": "stdout",
     "output_type": "stream",
     "text": [
      "Run the following command with your desired environment active:\n",
      "sbatch -a 1-216 /pscratch/sd/b/broerman/03_fold_dimer_Y/run.sh\n"
     ]
    }
   ],
   "source": [
    "from crispy_shifty.utils.io import gen_array_tasks\n",
    "\n",
    "simulation_name = \"03_fold_dimer_Y\"\n",
    "design_list_file = '/global/u2/b/broerman/projects/CSD/round_2/mpnn_upweight_int/02_mpnn_upweight_int/mpnn_paired_states.pair'\n",
    "output_path = f\"/pscratch/sd/b/broerman/{simulation_name}\"\n",
    "\n",
    "options = \" \".join(\n",
    "    [\n",
    "        \"out:level 200\",\n",
    "    ]\n",
    ")\n",
    "extra_kwargs = {\"models\": \"all\"}\n",
    "\n",
    "gen_array_tasks(\n",
    "    distribute_func=\"crispy_shifty.protocols.folding.fold_dimer_Y\",\n",
    "    design_list_file=design_list_file,\n",
    "    output_path=output_path,\n",
    "    perlmutter_mode=True,\n",
    "    nstruct=1,\n",
    "    nstruct_per_task=1,\n",
    "    options=options,\n",
    "    extra_kwargs=extra_kwargs,\n",
    "    simulation_name=simulation_name,\n",
    "    time=\"28:00\",\n",
    ")"
   ]
  },
  {
   "cell_type": "code",
   "execution_count": 1,
   "metadata": {},
   "outputs": [
    {
     "name": "stdout",
     "output_type": "stream",
     "text": [
      "ssh nid002397\n"
     ]
    }
   ],
   "source": [
    "import socket\n",
    "print(f\"ssh {socket.gethostname()}\")"
   ]
  },
  {
   "cell_type": "code",
   "execution_count": 1,
   "metadata": {},
   "outputs": [
    {
     "name": "stdout",
     "output_type": "stream",
     "text": [
      "module load cudatoolkit/21.9_11.4\n",
      "N=215\n",
      "N2=$(( N + 1 ))\n",
      "start_idx=$(( N*4 + 1 ))\n",
      "end_idx=$(( N2*4 ))\n",
      "source activate /global/cfs/cdirs/m4129/projects/crispy_shifty_adam/envs/crispy\n",
      "time head -n $end_idx /pscratch/sd/b/broerman/03_fold_dimer_Y/tasks.cmds | tail -n +$start_idx | parallel 'CUDA_VISIBLE_DEVICES=$((\"{%}\" - 1)) && bash -c {}'\n"
     ]
    }
   ],
   "source": [
    "print(\"\"\"module load cudatoolkit/21.9_11.4\n",
    "N=215\n",
    "N2=$(( N + 1 ))\n",
    "start_idx=$(( N*4 + 1 ))\n",
    "end_idx=$(( N2*4 ))\n",
    "source activate /global/cfs/cdirs/m4129/projects/crispy_shifty_adam/envs/crispy\n",
    "time head -n $end_idx /pscratch/sd/b/broerman/03_fold_dimer_Y/tasks.cmds | tail -n +$start_idx | parallel 'CUDA_VISIBLE_DEVICES=$((\"{%}\" - 1)) && bash -c {}'\"\"\")"
   ]
  },
  {
   "cell_type": "code",
   "execution_count": null,
   "metadata": {},
   "outputs": [],
   "source": []
  },
  {
   "cell_type": "code",
   "execution_count": null,
   "metadata": {},
   "outputs": [],
   "source": []
  },
  {
   "cell_type": "markdown",
   "metadata": {},
   "source": [
    "#### Now fold state X"
   ]
  },
  {
   "cell_type": "code",
   "execution_count": 3,
   "metadata": {},
   "outputs": [
    {
     "name": "stdout",
     "output_type": "stream",
     "text": [
      "Run the following command with your desired environment active:\n",
      "sbatch -a 1-374 /pscratch/sd/b/broerman/04_fold_dimer_X/run.sh\n"
     ]
    }
   ],
   "source": [
    "from crispy_shifty.utils.io import gen_array_tasks\n",
    "\n",
    "simulation_name = \"04_fold_dimer_X\"\n",
    "design_list_file = \"/pscratch/sd/b/broerman/03_fold_dimer_Y/folded_paired_states.list\"\n",
    "output_path = f\"/pscratch/sd/b/broerman/{simulation_name}\"\n",
    "options = \" \".join(\n",
    "    [\n",
    "        \"out:level 200\",\n",
    "    ]\n",
    ")\n",
    "extra_kwargs = {\"models\": \"all\"}\n",
    "\n",
    "gen_array_tasks(\n",
    "    distribute_func=\"crispy_shifty.protocols.folding.fold_dimer_X\",\n",
    "    design_list_file=design_list_file,\n",
    "    output_path=output_path,\n",
    "    perlmutter_mode=True,\n",
    "    nstruct=1,\n",
    "    nstruct_per_task=1,\n",
    "    options=options,\n",
    "    extra_kwargs=extra_kwargs,\n",
    "    simulation_name=simulation_name,\n",
    "    time=\"8:00\",\n",
    ")"
   ]
  },
  {
   "cell_type": "code",
   "execution_count": 1,
   "metadata": {},
   "outputs": [
    {
     "name": "stdout",
     "output_type": "stream",
     "text": [
      "ssh nid002748\n"
     ]
    }
   ],
   "source": [
    "import socket\n",
    "print(f\"ssh {socket.gethostname()}\")"
   ]
  },
  {
   "cell_type": "code",
   "execution_count": 6,
   "metadata": {},
   "outputs": [
    {
     "name": "stdout",
     "output_type": "stream",
     "text": [
      "module load cudatoolkit/21.9_11.4\n",
      "N=373\n",
      "N2=$(( N + 1 ))\n",
      "start_idx=$(( N*4 + 1 ))\n",
      "end_idx=$(( N2*4 ))\n",
      "source activate /global/cfs/cdirs/m4129/projects/crispy_shifty_adam/envs/crispy\n",
      "time head -n $end_idx /pscratch/sd/b/broerman/04_fold_dimer_X/tasks.cmds | tail -n +$start_idx | parallel 'CUDA_VISIBLE_DEVICES=$((\"{%}\" - 1)) && bash -c {}'\n"
     ]
    }
   ],
   "source": [
    "print(\"\"\"module load cudatoolkit/21.9_11.4\n",
    "N=373\n",
    "N2=$(( N + 1 ))\n",
    "start_idx=$(( N*4 + 1 ))\n",
    "end_idx=$(( N2*4 ))\n",
    "source activate /global/cfs/cdirs/m4129/projects/crispy_shifty_adam/envs/crispy\n",
    "time head -n $end_idx /pscratch/sd/b/broerman/04_fold_dimer_X/tasks.cmds | tail -n +$start_idx | parallel 'CUDA_VISIBLE_DEVICES=$((\"{%}\" - 1)) && bash -c {}'\"\"\")"
   ]
  },
  {
   "cell_type": "code",
   "execution_count": null,
   "metadata": {},
   "outputs": [],
   "source": []
  }
 ],
 "metadata": {
  "interpreter": {
   "hash": "f85aff12e6ff3566e4cf5a43ff1f550dd1dd8e886a46e6b0887a8a96c54cf981"
  },
  "kernelspec": {
   "display_name": "crispy-adam",
   "language": "python",
   "name": "crispy-adam"
  },
  "language_info": {
   "codemirror_mode": {
    "name": "ipython",
    "version": 3
   },
   "file_extension": ".py",
   "mimetype": "text/x-python",
   "name": "python",
   "nbconvert_exporter": "python",
   "pygments_lexer": "ipython3",
   "version": "3.8.12"
  }
 },
 "nbformat": 4,
 "nbformat_minor": 4
}
