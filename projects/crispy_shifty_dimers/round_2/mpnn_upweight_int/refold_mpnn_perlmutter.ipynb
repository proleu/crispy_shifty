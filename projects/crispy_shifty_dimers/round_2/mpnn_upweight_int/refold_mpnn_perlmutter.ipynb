{
 "cells": [
  {
   "cell_type": "markdown",
   "metadata": {},
   "source": [
    "To be run on perlmutter"
   ]
  },
  {
   "cell_type": "code",
   "execution_count": null,
   "metadata": {},
   "outputs": [],
   "source": [
    "import os\n",
    "import sys\n",
    "sys.path.insert(0, \"/global/u2/b/broerman/projects/crispy_shifty\")\n",
    "from crispy_shifty.utils.io import fix_path_prefixes\n",
    "\n",
    "pairs = '/global/u2/b/broerman/projects/CSD/round_2/mpnn_upweight_int/02_mpnn_upweight_int/mpnn_paired_states.pair'\n",
    "new_pairs = fix_path_prefixes(\n",
    "    find=\"/home\",\n",
    "    replace=\"/global/u2/b\",\n",
    "    file=pairs,\n",
    "    overwrite=True,\n",
    ")"
   ]
  },
  {
   "cell_type": "code",
   "execution_count": null,
   "metadata": {},
   "outputs": [],
   "source": [
    "from crispy_shifty.utils.io import gen_array_tasks\n",
    "\n",
    "simulation_name = \"03_fold_dimer_Y\"\n",
    "design_list_file = '/global/u2/b/broerman/projects/CSD/round_2/mpnn_upweight_int/02_mpnn_upweight_int/mpnn_paired_states.pair'\n",
    "output_path = f\"/pscratch/sd/b/broerman/{simulation_name}\"\n",
    "\n",
    "options = \" \".join(\n",
    "    [\n",
    "        \"out:level 200\",\n",
    "    ]\n",
    ")\n",
    "extra_kwargs = {\"models\": \"all\"}\n",
    "\n",
    "gen_array_tasks(\n",
    "    distribute_func=\"crispy_shifty.protocols.folding.fold_dimer_Y\",\n",
    "    design_list_file=design_list_file,\n",
    "    output_path=output_path,\n",
    "    perlmutter_mode=True,\n",
    "    nstruct=1,\n",
    "    nstruct_per_task=1,\n",
    "    options=options,\n",
    "    extra_kwargs=extra_kwargs,\n",
    "    simulation_name=simulation_name,\n",
    "    time=\"29:30\",\n",
    ")"
   ]
  }
 ],
 "metadata": {
  "language_info": {
   "name": "python"
  },
  "orig_nbformat": 4
 },
 "nbformat": 4,
 "nbformat_minor": 2
}
