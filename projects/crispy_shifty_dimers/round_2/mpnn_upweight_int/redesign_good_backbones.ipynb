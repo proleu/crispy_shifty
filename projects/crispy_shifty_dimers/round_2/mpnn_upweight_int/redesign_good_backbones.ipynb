{
 "cells": [
  {
   "cell_type": "code",
   "execution_count": 1,
   "metadata": {},
   "outputs": [],
   "source": [
    "working_dimers = ['CSD20', 'CSD23', 'CSD25', 'CSD26']\n",
    "\n",
    "with open('../af2/good_models.list', 'r') as f:\n",
    "    good_models = f.read().splitlines()\n",
    "\n",
    "# working_models = [x for x in good_models if x.split('/')[-1][:5] in working_dimers]\n",
    "\n",
    "working_models = []\n",
    "\n",
    "for working_dimer in working_dimers:\n",
    "    models_all = [x for x in good_models if x.split('/')[-1][:5] == working_dimer]\n",
    "    models_A = [x for x in models_all if x.split('/')[-1].startswith(working_dimer + 'A_')]\n",
    "    models_B = [x for x in models_all if x.split('/')[-1].startswith(working_dimer + 'B_')]\n",
    "    models_AB = [x for x in models_all if x.split('/')[-1].startswith(working_dimer + 'AB_')]\n",
    "\n",
    "    working_models.append([models_A, models_B, models_AB, models_AB])"
   ]
  },
  {
   "cell_type": "code",
   "execution_count": 2,
   "metadata": {},
   "outputs": [],
   "source": [
    "import pyrosetta\n",
    "pyrosetta.distributed.maybe_init(**{\n",
    "    \"options\": \"-corrections::beta_nov16 true\",\n",
    "    \"extra_options\":{\n",
    "        \"-out:level\": \"100\",\n",
    "}})"
   ]
  },
  {
   "cell_type": "code",
   "execution_count": 4,
   "metadata": {},
   "outputs": [],
   "source": [
    "# make all combinations of backbones from different AF2 models for each SEC-validated heterodimer\n",
    "# this will provide MPNN with a good set of backbone diversity for MSD\n",
    "\n",
    "from itertools import product\n",
    "from copy import deepcopy\n",
    "\n",
    "import sys\n",
    "sys.path.insert(0, '/home/broerman/projects/crispy_shifty/')\n",
    "from crispy_shifty.protocols.states import yeet_pose_xyz\n",
    "\n",
    "sw = pyrosetta.rosetta.protocols.simple_moves.SwitchChainOrderMover()\n",
    "sw.chain_order('123456')\n",
    "\n",
    "for models_A_B_AB, working_dimer in zip(working_models, working_dimers):\n",
    "\n",
    "    poses_A_B_AB = []\n",
    "    for model_group, yeet_coords, split in zip(models_A_B_AB, [(1,0,0), (0,1,0), (-1,0,0), (0,-1,0)], [False,False,True,True]):\n",
    "        pose_group = []\n",
    "        for pdb_fname in model_group:\n",
    "            pose = pyrosetta.pose_from_pdb(pdb_fname)\n",
    "            model_num = pdb_fname.split('/')[-1].split('_')[2]\n",
    "\n",
    "            if yeet_coords:\n",
    "                pose = yeet_pose_xyz(pose, yeet_coords)\n",
    "\n",
    "            if split:\n",
    "                pose = pose.split_by_chain()\n",
    "\n",
    "            pose_group.append((pose, model_num))\n",
    "        poses_A_B_AB.append(pose_group)\n",
    "\n",
    "    for (pose_A, model_A), (pose_B, model_B), (poses_AB_1, model_AB_1), (poses_AB_2, model_AB_2) in product(*poses_A_B_AB):\n",
    "        combined_pose = deepcopy(pose_A)\n",
    "        pyrosetta.rosetta.core.pose.append_pose_to_pose(combined_pose, deepcopy(pose_B), True)\n",
    "        pyrosetta.rosetta.core.pose.append_pose_to_pose(combined_pose, deepcopy(poses_AB_1[1]), True)\n",
    "        pyrosetta.rosetta.core.pose.append_pose_to_pose(combined_pose, deepcopy(poses_AB_1[2]), True)\n",
    "        pyrosetta.rosetta.core.pose.append_pose_to_pose(combined_pose, deepcopy(poses_AB_2[1]), True)\n",
    "        pyrosetta.rosetta.core.pose.append_pose_to_pose(combined_pose, deepcopy(poses_AB_2[2]), True)\n",
    "        sw.apply(combined_pose)\n",
    "        combined_pose.dump_pdb('01_backbone_combos/' + working_dimer + '_' + model_A + model_B + model_AB_1 + model_AB_2 + '.pdb')"
   ]
  },
  {
   "cell_type": "code",
   "execution_count": 2,
   "metadata": {},
   "outputs": [],
   "source": [
    "from glob import glob\n",
    "with open('01_backbone_combos.list', 'w') as f:\n",
    "    for bb_combo_fname in glob('/home/broerman/projects/CSD/round_2/mpnn_upweight_int/01_backbone_combos/*.pdb'):\n",
    "        f.write(bb_combo_fname + '\\n')"
   ]
  },
  {
   "cell_type": "markdown",
   "metadata": {},
   "source": [
    "#### Run MPNN on the state combinations ####"
   ]
  },
  {
   "cell_type": "code",
   "execution_count": 4,
   "metadata": {},
   "outputs": [
    {
     "name": "stdout",
     "output_type": "stream",
     "text": [
      "Run the following command with your desired environment active:\n",
      "sbatch -a 1-287 /home/broerman/projects/CSD/round_2/mpnn_upweight_int/02_mpnn_upweight_int/run.sh\n"
     ]
    }
   ],
   "source": [
    "import sys\n",
    "sys.path.insert(0, '/home/broerman/projects/crispy_shifty/')\n",
    "\n",
    "from crispy_shifty.utils.io import gen_array_tasks\n",
    "\n",
    "simulation_name = \"02_mpnn_upweight_int\"\n",
    "design_list_file = \"/home/broerman/projects/CSD/round_2/mpnn_upweight_int/01_backbone_combos.list\"\n",
    "output_path = f\"/home/broerman/projects/CSD/round_2/mpnn_upweight_int/{simulation_name}\"\n",
    "\n",
    "options = \" \".join(\n",
    "    [\n",
    "        \"out:level 200\",\n",
    "    ]\n",
    ")\n",
    "\n",
    "extra_kwargs = {\n",
    "    \"num_sequences\": \"10\",\n",
    "    \"batch_size\" = \"10\",\n",
    "    \"mpnn_temperature\": 0.2,\n",
    "    \"mpnn_design_area\": \"scan\",\n",
    "}\n",
    "\n",
    "gen_array_tasks(\n",
    "    distribute_func=\"crispy_shifty.protocols.mpnn.mpnn_dimers\",\n",
    "    design_list_file=design_list_file,\n",
    "    output_path=output_path,\n",
    "    queue=\"short\",\n",
    "    memory=\"12G\",\n",
    "    nstruct=1,\n",
    "    nstruct_per_task=1,\n",
    "    options=options,\n",
    "    extra_kwargs=extra_kwargs,\n",
    "    simulation_name=simulation_name,\n",
    ")"
   ]
  },
  {
   "cell_type": "markdown",
   "metadata": {},
   "source": [
    "#### Collect scorefiles of the MPNN designed paired states and concatenate ####"
   ]
  },
  {
   "cell_type": "code",
   "execution_count": 5,
   "metadata": {},
   "outputs": [],
   "source": [
    "import os\n",
    "from crispy_shifty.utils.io import collect_score_file\n",
    "\n",
    "simulation_name = \"02_mpnn_upweight_int\"\n",
    "output_path = f\"/home/broerman/projects/CSD/round_2/mpnn_upweight_int/{simulation_name}\"\n",
    "\n",
    "if not os.path.exists(os.path.join(output_path, \"scores.json\")):\n",
    "    collect_score_file(output_path, \"scores\")"
   ]
  },
  {
   "cell_type": "markdown",
   "metadata": {},
   "source": [
    "#### Load resulting concatenated scorefile ####"
   ]
  },
  {
   "cell_type": "code",
   "execution_count": 6,
   "metadata": {},
   "outputs": [
    {
     "name": "stderr",
     "output_type": "stream",
     "text": [
      "100%|██████████| 861/861 [00:03<00:00, 229.05it/s]\n"
     ]
    }
   ],
   "source": [
    "sys.path.insert(0, \"/projects/crispy_shifty\")\n",
    "from crispy_shifty.utils.io import parse_scorefile_linear\n",
    "\n",
    "scores_df = parse_scorefile_linear(os.path.join(output_path, \"scores.json\"))\n",
    "scores_df = scores_df.convert_dtypes()"
   ]
  },
  {
   "cell_type": "markdown",
   "metadata": {},
   "source": [
    "#### Save individual fastas ####"
   ]
  },
  {
   "cell_type": "code",
   "execution_count": 7,
   "metadata": {},
   "outputs": [
    {
     "name": "stderr",
     "output_type": "stream",
     "text": [
      "100%|██████████| 861/861 [00:02<00:00, 374.08it/s]\n"
     ]
    }
   ],
   "source": [
    "from crispy_shifty.utils.io import df_to_fastas\n",
    "\n",
    "scores_df = df_to_fastas(scores_df, prefix=\"mpnn_seq\")"
   ]
  },
  {
   "cell_type": "markdown",
   "metadata": {},
   "source": [
    "#### Save a list of outputs ####"
   ]
  },
  {
   "cell_type": "code",
   "execution_count": 9,
   "metadata": {},
   "outputs": [
    {
     "name": "stderr",
     "output_type": "stream",
     "text": [
      "100%|██████████| 861/861 [00:00<00:00, 1119434.51it/s]\n"
     ]
    }
   ],
   "source": [
    "from tqdm.auto import tqdm\n",
    "with open(os.path.join(output_path, \"mpnn_paired_states.list\"), \"w\") as f:\n",
    "    for path in tqdm(scores_df.index):\n",
    "        print(path, file=f)"
   ]
  },
  {
   "cell_type": "markdown",
   "metadata": {},
   "source": [
    "#### Concat the pdb.bz2 and fasta paths into a single list, for Superfold reasons ####"
   ]
  },
  {
   "cell_type": "code",
   "execution_count": 10,
   "metadata": {},
   "outputs": [
    {
     "name": "stderr",
     "output_type": "stream",
     "text": [
      "100%|██████████| 861/861 [00:00<00:00, 745057.92it/s]\n"
     ]
    }
   ],
   "source": [
    "with open(os.path.join(output_path, \"mpnn_paired_states.pair\"), \"w\") as f:\n",
    "    for path in tqdm(scores_df.index):\n",
    "        line = path + \"____\" + path.replace(\"decoys\", \"fastas\").replace(\"pdb.bz2\", \"fa\")\n",
    "        print(line, file=f)"
   ]
  },
  {
   "cell_type": "code",
   "execution_count": null,
   "metadata": {},
   "outputs": [],
   "source": []
  }
 ],
 "metadata": {
  "interpreter": {
   "hash": "f85aff12e6ff3566e4cf5a43ff1f550dd1dd8e886a46e6b0887a8a96c54cf981"
  },
  "kernelspec": {
   "display_name": "Python 3.8.12 ('crispy')",
   "language": "python",
   "name": "python3"
  },
  "language_info": {
   "codemirror_mode": {
    "name": "ipython",
    "version": 3
   },
   "file_extension": ".py",
   "mimetype": "text/x-python",
   "name": "python",
   "nbconvert_exporter": "python",
   "pygments_lexer": "ipython3",
   "version": "3.8.12"
  },
  "orig_nbformat": 4
 },
 "nbformat": 4,
 "nbformat_minor": 2
}
