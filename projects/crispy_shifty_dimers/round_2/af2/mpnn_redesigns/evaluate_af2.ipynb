{
 "cells": [
  {
   "cell_type": "code",
   "execution_count": 1,
   "metadata": {},
   "outputs": [],
   "source": [
    "import pyrosetta\n",
    "pyrosetta.distributed.maybe_init(**{\n",
    "    \"options\": \"-corrections::beta_nov16 true\",\n",
    "    \"extra_options\":{\n",
    "        \"-out:level\": \"100\",\n",
    "}})"
   ]
  },
  {
   "cell_type": "code",
   "execution_count": 2,
   "metadata": {},
   "outputs": [],
   "source": [
    "# split state Y predictions\n",
    "\n",
    "from glob import glob\n",
    "import json\n",
    "\n",
    "sw = pyrosetta.rosetta.protocols.simple_moves.SwitchChainOrderMover()\n",
    "sw.chain_order('1')\n",
    "\n",
    "for design_fname in glob('/home/broerman/crispy_shifty/projects/crispy_shifty_dimers/round_2/af2/mpnn_redesigns/af2_models_initial_guess/*AB*.pdb'):\n",
    "    design_name_split = design_fname.split('/')[-1][:-4].split('_')\n",
    "    prediction_dict = json.load(open(f\"/home/broerman/crispy_shifty/projects/crispy_shifty_dimers/round_2/af2/mpnn_redesigns/af2_models_initial_guess/{'_'.join(design_name_split[:-1])}_prediction_results.json\"))\n",
    "    if prediction_dict['rmsd_to_input'] < 4:\n",
    "        pose_AY, pose_BY = pyrosetta.pose_from_pdb(design_fname).split_by_chain()\n",
    "        design_name_split[0] = design_name_split[0][:5] + 'AY'\n",
    "        sw.apply(pose_AY)\n",
    "        pose_AY.dump_pdb(f\"/home/broerman/crispy_shifty/projects/crispy_shifty_dimers/round_2/af2/mpnn_redesigns/split_Y/{'_'.join(design_name_split)}.pdb\")\n",
    "        design_name_split[0] = design_name_split[0][:5] + 'BY'\n",
    "        sw.apply(pose_BY)\n",
    "        pose_BY.dump_pdb(f\"/home/broerman/crispy_shifty/projects/crispy_shifty_dimers/round_2/af2/mpnn_redesigns/split_Y/{'_'.join(design_name_split)}.pdb\")"
   ]
  },
  {
   "cell_type": "code",
   "execution_count": 3,
   "metadata": {},
   "outputs": [
    {
     "data": {
      "text/plain": [
       "<AxesSubplot:ylabel='Count'>"
      ]
     },
     "execution_count": 3,
     "metadata": {},
     "output_type": "execute_result"
    },
    {
     "data": {
      "image/png": "[encoded data removed]",
      "text/plain": [
       "<Figure size 432x288 with 1 Axes>"
      ]
     },
     "metadata": {
      "needs_background": "light"
     },
     "output_type": "display_data"
    }
   ],
   "source": [
    "# investigate metrics\n",
    "\n",
    "from glob import glob\n",
    "import json\n",
    "import seaborn as sns\n",
    "\n",
    "rmsds = []\n",
    "\n",
    "for json_fname in glob('/home/broerman/crispy_shifty/projects/crispy_shifty_dimers/round_2/af2/mpnn_redesigns/af2_models/*.json'):\n",
    "    prediction_dict = json.load(open(json_fname))\n",
    "    rmsds.append(prediction_dict['rmsd_to_input'])\n",
    "\n",
    "sns.histplot(rmsds, bins=50)"
   ]
  },
  {
   "cell_type": "code",
   "execution_count": 3,
   "metadata": {},
   "outputs": [],
   "source": [
    "# list good designs\n",
    "\n",
    "from glob import glob\n",
    "import json\n",
    "\n",
    "good_models = []\n",
    "\n",
    "for design_fname in sorted(glob('/home/broerman/projects/CSD/round_2/af2/af2_models/*.pdb')):\n",
    "    design_name_split = design_fname.split('/')[-1][:-4].split('_')\n",
    "    prediction_dict = json.load(open(f\"/home/broerman/projects/CSD/round_2/af2/af2_models/{'_'.join(design_name_split[:-1])}_prediction_results.json\"))\n",
    "    if prediction_dict['rmsd_to_input'] < 4:\n",
    "        good_models.append(design_fname)\n",
    "\n",
    "with open('good_models.list', 'w') as f:\n",
    "    for design in good_models:\n",
    "        f.write(design + '\\n')"
   ]
  },
  {
   "cell_type": "code",
   "execution_count": null,
   "metadata": {},
   "outputs": [],
   "source": []
  }
 ],
 "metadata": {
  "interpreter": {
   "hash": "f85aff12e6ff3566e4cf5a43ff1f550dd1dd8e886a46e6b0887a8a96c54cf981"
  },
  "kernelspec": {
   "display_name": "crispy (3.8.12)",
   "language": "python",
   "name": "crispy"
  },
  "language_info": {
   "codemirror_mode": {
    "name": "ipython",
    "version": 3
   },
   "file_extension": ".py",
   "mimetype": "text/x-python",
   "name": "python",
   "nbconvert_exporter": "python",
   "pygments_lexer": "ipython3",
   "version": "3.8.12"
  },
  "orig_nbformat": 4
 },
 "nbformat": 4,
 "nbformat_minor": 2
}
