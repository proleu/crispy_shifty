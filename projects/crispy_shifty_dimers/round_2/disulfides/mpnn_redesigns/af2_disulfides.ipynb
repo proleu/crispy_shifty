{
 "cells": [
  {
   "cell_type": "code",
   "execution_count": 3,
   "metadata": {},
   "outputs": [],
   "source": [
    "import pyrosetta\n",
    "pyrosetta.distributed.maybe_init(**{\n",
    "    \"options\": \"-corrections::beta_nov16 true\",\n",
    "    \"extra_options\":{\n",
    "        \"-out:level\": \"100\",\n",
    "}})"
   ]
  },
  {
   "cell_type": "code",
   "execution_count": 5,
   "metadata": {},
   "outputs": [],
   "source": [
    "from glob import glob\n",
    "\n",
    "for design_fname in glob('/home/broerman/crispy_shifty/projects/crispy_shifty_dimers/round_2/disulfides/mpnn_redesigns/staples/*Y_*.pdb'):\n",
    "    design_name = design_fname.split('/')[-1]\n",
    "    if 'AY_' in design_name:\n",
    "        partner_fname = '/home/broerman/crispy_shifty/projects/crispy_shifty_dimers/round_2/af2/mpnn_redesigns/split_Y/' + design_name[:-13].replace('AY_', 'BY_') + '.pdb'\n",
    "        pose_Y = pyrosetta.pose_from_pdb(design_fname)\n",
    "        pose_B = pyrosetta.pose_from_pdb(partner_fname)\n",
    "    elif 'BY_' in design_name:\n",
    "        partner_fname = '/home/broerman/crispy_shifty/projects/crispy_shifty_dimers/round_2/af2/mpnn_redesigns/split_Y/' + design_name[:-13].replace('BY_', 'AY_') + '.pdb'\n",
    "        pose_Y = pyrosetta.pose_from_pdb(partner_fname)\n",
    "        pose_B = pyrosetta.pose_from_pdb(design_fname)\n",
    "    pyrosetta.rosetta.core.pose.append_pose_to_pose(pose_Y, pose_B, True)\n",
    "    pose_Y.dump_pdb(f'/home/broerman/crispy_shifty/projects/crispy_shifty_dimers/round_2/disulfides/mpnn_redesigns/staples/combine_Y/{design_name[:7]}AB_{design_name[7:]}')"
   ]
  },
  {
   "cell_type": "code",
   "execution_count": 6,
   "metadata": {},
   "outputs": [],
   "source": [
    "# alphafold\n",
    "\n",
    "from Bio import SeqIO\n",
    "from collections import defaultdict\n",
    "from glob import glob\n",
    "from IPython.utils.io import capture_output\n",
    "\n",
    "files_by_len = defaultdict(list)\n",
    "\n",
    "design_fnames = glob( '/home/broerman/crispy_shifty/projects/crispy_shifty_dimers/round_2/disulfides/mpnn_redesigns/staples/*A_*.pdb') + \\\n",
    "                glob('/home/broerman/crispy_shifty/projects/crispy_shifty_dimers/round_2/disulfides/mpnn_redesigns/staples/*B_*.pdb') + \\\n",
    "                glob('/home/broerman/crispy_shifty/projects/crispy_shifty_dimers/round_2/disulfides/mpnn_redesigns/staples/combine_Y/*.pdb')\n",
    "\n",
    "for design_fname in design_fnames:\n",
    "\n",
    "    sequence = ''\n",
    "    with capture_output() as captured: # otherwise memory overloads lol\n",
    "        for i, record in enumerate(SeqIO.parse(design_fname, 'pdb-atom')):\n",
    "            sequence += str(record.seq)\n",
    "    \n",
    "    files_by_len[len(sequence)].append(design_fname)\n",
    "\n",
    "task_lines = []\n",
    "\n",
    "for length, file_list in files_by_len.items():\n",
    "    file_str = ' '.join(file_list)\n",
    "    task_lines.append(f\"/home/rdkibler/software/alphafold/superfold {file_str} --models all --max_recycles 4 --initial_guess --simple_rmsd --out_dir /home/broerman/crispy_shifty/projects/crispy_shifty_dimers/round_2/disulfides/mpnn_redesigns/af2_models\\n\")\n",
    "\n",
    "task_lines.sort(key=lambda x: -len(x))\n",
    "\n",
    "with open('af2_disulfides.tasks', 'w') as f:\n",
    "    f.write(''.join(task_lines))"
   ]
  },
  {
   "cell_type": "code",
   "execution_count": 7,
   "metadata": {},
   "outputs": [
    {
     "name": "stdout",
     "output_type": "stream",
     "text": [
      "sbatch -a 1-$(cat af2_disulfides.tasks | wc -l) af2_disulfides.sh\n"
     ]
    }
   ],
   "source": [
    "print('sbatch -a 1-$(cat af2_disulfides.tasks | wc -l) af2_disulfides.sh')"
   ]
  },
  {
   "cell_type": "code",
   "execution_count": null,
   "metadata": {},
   "outputs": [],
   "source": []
  }
 ],
 "metadata": {
  "interpreter": {
   "hash": "f85aff12e6ff3566e4cf5a43ff1f550dd1dd8e886a46e6b0887a8a96c54cf981"
  },
  "kernelspec": {
   "display_name": "crispy (3.8.12)",
   "language": "python",
   "name": "crispy"
  },
  "language_info": {
   "codemirror_mode": {
    "name": "ipython",
    "version": 3
   },
   "file_extension": ".py",
   "mimetype": "text/x-python",
   "name": "python",
   "nbconvert_exporter": "python",
   "pygments_lexer": "ipython3",
   "version": "3.8.12"
  },
  "orig_nbformat": 4
 },
 "nbformat": 4,
 "nbformat_minor": 2
}
