{
 "cells": [
  {
   "cell_type": "markdown",
   "id": "3f44b170",
   "metadata": {},
   "source": [
    "# Find unbound states to pair with the bound states"
   ]
  },
  {
   "cell_type": "markdown",
   "id": "a18279fe",
   "metadata": {},
   "source": [
    "### Imports"
   ]
  },
  {
   "cell_type": "code",
   "execution_count": 1,
   "id": "1c475c64",
   "metadata": {},
   "outputs": [
    {
     "name": "stdout",
     "output_type": "stream",
     "text": [
      "running in directory: /home/broerman/crispy_shifty/projects/OPS/round_1/design\n",
      "running on node: sofia\n"
     ]
    }
   ],
   "source": [
    "# %load_ext lab_black\n",
    "# Python standard library\n",
    "from glob import glob\n",
    "import os\n",
    "import socket\n",
    "import sys\n",
    "\n",
    "# 3rd party library imports\n",
    "import dask\n",
    "import matplotlib.pyplot as plt\n",
    "import pandas as pd\n",
    "import pyrosetta\n",
    "import numpy as np\n",
    "import scipy\n",
    "import seaborn as sns\n",
    "from tqdm.auto import tqdm  # jupyter compatible progress bar\n",
    "\n",
    "tqdm.pandas()  # link tqdm to pandas\n",
    "# Notebook magic\n",
    "# save plots in the notebook\n",
    "%matplotlib inline\n",
    "# reloads modules automatically before executing cells\n",
    "%load_ext autoreload\n",
    "%autoreload 2\n",
    "print(f\"running in directory: {os.getcwd()}\")  # where are we?\n",
    "print(f\"running on node: {socket.gethostname()}\")  # what node are we on?"
   ]
  },
  {
   "cell_type": "markdown",
   "id": "0b11b891",
   "metadata": {},
   "source": [
    "### Fix the paths\n",
    "Necessary because we copied these designs from perlmutter"
   ]
  },
  {
   "cell_type": "code",
   "execution_count": 2,
   "id": "f973bc5d",
   "metadata": {},
   "outputs": [
    {
     "name": "stderr",
     "output_type": "stream",
     "text": [
      "/projects/crispy_shifty/envs/crispy/lib/python3.8/site-packages/dask_jobqueue/core.py:20: FutureWarning: tmpfile is deprecated and will be removed in a future release. Please use dask.utils.tmpfile instead.\n",
      "  from distributed.utils import tmpfile\n"
     ]
    }
   ],
   "source": [
    "sys.path.insert(0, \"/home/broerman/crispy_shifty\")\n",
    "from crispy_shifty.utils.io import fix_path_prefixes\n",
    "\n",
    "folded = \"/home/broerman/crispy_shifty/projects/OPS/round_1/design/06_fold_bound_states/folded_states.list\"\n",
    "new_folded = fix_path_prefixes(\n",
    "    find=\"/pscratch/sd/b/broerman\",\n",
    "    replace=\"/home/broerman/crispy_shifty/projects/OPS/round_1/design\",\n",
    "    file=folded,\n",
    "    overwrite=True,\n",
    ")"
   ]
  },
  {
   "cell_type": "markdown",
   "id": "54e1ba7d",
   "metadata": {},
   "source": [
    "### Pair the designed bound states"
   ]
  },
  {
   "cell_type": "code",
   "execution_count": 3,
   "id": "df5494a4",
   "metadata": {},
   "outputs": [
    {
     "name": "stderr",
     "output_type": "stream",
     "text": [
      "/projects/crispy_shifty/envs/crispy/lib/python3.8/site-packages/dask_jobqueue/core.py:20: FutureWarning: tmpfile is deprecated and will be removed in a future release. Please use dask.utils.tmpfile instead.\n",
      "  from distributed.utils import tmpfile\n"
     ]
    },
    {
     "name": "stdout",
     "output_type": "stream",
     "text": [
      "Run the following command with your desired environment active:\n",
      "sbatch -a 1-2349 /home/broerman/crispy_shifty/projects/OPS/round_1/design/07_pair_bound_states/run.sh\n"
     ]
    }
   ],
   "source": [
    "sys.path.insert(0, \"/home/broerman/crispy_shifty\")\n",
    "from crispy_shifty.utils.io import gen_array_tasks\n",
    "\n",
    "simulation_name = \"07_pair_bound_states\"\n",
    "design_list_file = \"/home/broerman/crispy_shifty/projects/OPS/round_1/design/06_fold_bound_states/folded_states.list\"\n",
    "output_path = os.path.join(\"/home/broerman/crispy_shifty/projects/OPS/round_1/design/\", simulation_name)\n",
    "\n",
    "options = \" \".join(\n",
    "    [\n",
    "        \"out:level 200\",\n",
    "        \"corrections::beta_nov16 true\",\n",
    "        \"indexed_structure_store:fragment_store /net/databases/VALL_clustered/connect_chains/ss_grouped_vall_helix_shortLoop.h5\",\n",
    "    ]\n",
    ")\n",
    "\n",
    "extra_kwargs = {\n",
    "    \"reference_csv\": \"/home/broerman/crispy_shifty/projects/OPS/round_1/design/02_make_free_states/free_state_0s.csv\",\n",
    "}\n",
    "\n",
    "gen_array_tasks(\n",
    "    distribute_func=\"crispy_shifty.protocols.states.pair_bound_state\",\n",
    "    design_list_file=design_list_file,\n",
    "    output_path=output_path,\n",
    "    queue=\"short\",\n",
    "    memory=\"3G\",\n",
    "    nstruct=1,\n",
    "    nstruct_per_task=1,\n",
    "    options=options,\n",
    "    extra_kwargs=extra_kwargs,\n",
    "    simulation_name=simulation_name,\n",
    ")"
   ]
  },
  {
   "cell_type": "markdown",
   "id": "217e5419",
   "metadata": {},
   "source": [
    "### Collect scorefiles of the paired bound states and concatenate"
   ]
  },
  {
   "cell_type": "code",
   "execution_count": 4,
   "id": "03d354c0",
   "metadata": {
    "scrolled": true,
    "tags": []
   },
   "outputs": [],
   "source": [
    "sys.path.insert(0, \"/home/broerman/crispy_shifty\")\n",
    "from crispy_shifty.utils.io import collect_score_file\n",
    "\n",
    "simulation_name = \"07_pair_bound_states\"\n",
    "output_path = os.path.join(\"/home/broerman/crispy_shifty/projects/OPS/round_1/design/\", simulation_name)\n",
    "\n",
    "if not os.path.exists(os.path.join(output_path, \"scores.json\")):\n",
    "    collect_score_file(output_path, \"scores\")"
   ]
  },
  {
   "cell_type": "markdown",
   "id": "b938200c",
   "metadata": {},
   "source": [
    "### Load resulting concatenated scorefile"
   ]
  },
  {
   "cell_type": "code",
   "execution_count": 6,
   "id": "52316076",
   "metadata": {
    "scrolled": true,
    "tags": []
   },
   "outputs": [
    {
     "data": {
      "application/vnd.jupyter.widget-view+json": {
       "model_id": "5b575ccb2a2a4e20943621cbd7d03258",
       "version_major": 2,
       "version_minor": 0
      },
      "text/plain": [
       "  0%|          | 0/2349 [00:00<?, ?it/s]"
      ]
     },
     "metadata": {},
     "output_type": "display_data"
    }
   ],
   "source": [
    "sys.path.insert(0, \"/home/broerman/crispy_shifty\")\n",
    "from crispy_shifty.utils.io import parse_scorefile_linear\n",
    "\n",
    "simulation_name = \"07_pair_bound_states\"\n",
    "output_path = os.path.join(\"/home/broerman/crispy_shifty/projects/OPS/round_1/design/\", simulation_name)\n",
    "\n",
    "if not os.path.exists(os.path.join(output_path, \"scores.csv\")):\n",
    "    scores_df = parse_scorefile_linear(os.path.join(output_path, \"scores.json\"))"
   ]
  },
  {
   "cell_type": "markdown",
   "id": "3058c767-a5a4-4be8-bda7-741fe4d72b9e",
   "metadata": {},
   "source": [
    "### Dump scores_df as a CSV and then reload, for performance reasons"
   ]
  },
  {
   "cell_type": "code",
   "execution_count": 7,
   "id": "4f3fe62b-7f3a-4981-b6fc-12cfb5445b69",
   "metadata": {},
   "outputs": [],
   "source": [
    "if not os.path.exists(os.path.join(output_path, \"scores.csv\")):\n",
    "    scores_df.to_csv(os.path.join(output_path, \"scores.csv\"))\n",
    "\n",
    "scores_df = pd.read_csv(os.path.join(output_path, \"scores.csv\"), index_col=\"Unnamed: 0\")"
   ]
  },
  {
   "cell_type": "markdown",
   "id": "bc2eabfd",
   "metadata": {},
   "source": [
    "### Data exploration\n",
    "Gonna remove the Rosetta sfxn scoreterms for now"
   ]
  },
  {
   "cell_type": "code",
   "execution_count": 8,
   "id": "6848e643",
   "metadata": {},
   "outputs": [
    {
     "name": "stdout",
     "output_type": "stream",
     "text": [
      "2349\n"
     ]
    }
   ],
   "source": [
    "from crispy_shifty.protocols.design import beta_nov16_terms\n",
    "\n",
    "scores_df = scores_df[\n",
    "    [term for term in scores_df.columns if term not in beta_nov16_terms]\n",
    "]\n",
    "print(len(scores_df))"
   ]
  },
  {
   "cell_type": "code",
   "execution_count": 9,
   "id": "1c0a25c3",
   "metadata": {},
   "outputs": [
    {
     "name": "stdout",
     "output_type": "stream",
     "text": [
      "['bb_clash', 'bb_clash_delta', 'bb_clash_delta_x', 'buns_parent', 'cms_AcB', 'cms_AnAc', 'cms_AnAcB', 'cms_AnB', 'designed_by', 'docked_helix', 'dssp', 'elapsed_time', 'exposed_hydrophobics_parent', 'fixed_resis', 'geometry_parent', 'holes_all_parent', 'holes_core_parent', 'loop_dist', 'loop_sc', 'looped_length', 'mean_pae', 'mean_pae_interaction', 'mean_pae_interaction_AB', 'mean_pae_interaction_BA', 'mean_pae_intra_chain', 'mean_pae_intra_chain_A', 'mean_pae_intra_chain_B', 'mean_plddt', 'mismatch_probability_parent', 'model', 'mpnn_design_area', 'mpnn_temperature', 'new_loop_str', 'pTMscore', 'packstat_parent', 'parent', 'parent_length', 'path_in', 'pdb', 'pivot_helix', 'pre_break_helix', 'recycles', 'repeat_len', 'rmsd_to_reference', 'sap_parent', 'sc_AcB', 'sc_AnAc', 'sc_AnAcB', 'sc_AnB', 'sc_all_parent', 'score', 'score_per_res', 'score_per_res_parent', 'score_per_res_x', 'seed', 'shift', 'ss_sc', 'state', 'time', 'tol', 'topo', 'total_length', 'total_score', 'trim_n', 'trimmed_length', 'type']\n"
     ]
    }
   ],
   "source": [
    "print(list(scores_df.columns))"
   ]
  },
  {
   "cell_type": "code",
   "execution_count": 27,
   "id": "a580e752",
   "metadata": {},
   "outputs": [
    {
     "name": "stdout",
     "output_type": "stream",
     "text": [
      "['bb_clash_delta_x', 'score_per_res_x']\n"
     ]
    }
   ],
   "source": [
    "from crispy_shifty.utils.plotting import histplot_df, pairplot_df\n",
    "\n",
    "to_plot = [\n",
    "    \"bb_clash_delta_x\",\n",
    "    \"score_per_res_x\",\n",
    "    # \"wnm_all_x\",\n",
    "]\n",
    "print(to_plot)"
   ]
  },
  {
   "cell_type": "markdown",
   "id": "4bb5dca8",
   "metadata": {},
   "source": [
    "### Filter extreme outliers and change some dtypes"
   ]
  },
  {
   "cell_type": "code",
   "execution_count": 28,
   "id": "9f293026",
   "metadata": {},
   "outputs": [],
   "source": [
    "scores_df[\"bb_clash_delta_x\"] = scores_df[\"bb_clash_delta_x\"].astype(float)\n",
    "scores_df[\"score_per_res_x\"] = scores_df[\"score_per_res_x\"].astype(float)\n",
    "# scores_df[\"wnm_all_x\"] = scores_df[\"wnm_all_x\"].astype(float)\n",
    "\n",
    "\n",
    "# query = \"bb_clash_delta_x < 500 and score_per_res_x < 0\"# and wnm_all_x < 5\"\n",
    "# sample_df = scores_df.query(query)\n",
    "sample_df = scores_df"
   ]
  },
  {
   "cell_type": "markdown",
   "id": "6793efcd",
   "metadata": {},
   "source": [
    "### Plot loop scores"
   ]
  },
  {
   "cell_type": "code",
   "execution_count": 29,
   "id": "69869894",
   "metadata": {},
   "outputs": [
    {
     "name": "stderr",
     "output_type": "stream",
     "text": [
      "2it [00:00, 38.09it/s]\n"
     ]
    },
    {
     "data": {
      "image/png": "[encoded data removed]",
      "text/plain": [
       "<Figure size 576x288 with 2 Axes>"
      ]
     },
     "metadata": {
      "needs_background": "light"
     },
     "output_type": "display_data"
    }
   ],
   "source": [
    "cols = [\n",
    "    \"bb_clash_delta_x\",\n",
    "    \"score_per_res_x\",\n",
    "    # \"wnm_all_x\",\n",
    "]\n",
    "the_fig = histplot_df(\n",
    "    df=sample_df,\n",
    "    cols=cols,\n",
    "    bins=10,\n",
    "    # hue=\"parent\",\n",
    ")\n",
    "plt.savefig(os.path.join(output_path, \"loop_scores.png\"))"
   ]
  },
  {
   "cell_type": "code",
   "execution_count": 30,
   "id": "aec8748c-0920-4550-b968-30fb9bde65a5",
   "metadata": {},
   "outputs": [
    {
     "data": {
      "text/plain": [
       "<Figure size 576x576 with 0 Axes>"
      ]
     },
     "metadata": {},
     "output_type": "display_data"
    },
    {
     "data": {
      "image/png": "[encoded data removed]",
      "text/plain": [
       "<Figure size 489x360 with 5 Axes>"
      ]
     },
     "metadata": {
      "needs_background": "light"
     },
     "output_type": "display_data"
    }
   ],
   "source": [
    "the_fig = pairplot_df(\n",
    "    df=sample_df,\n",
    "    cols=cols,\n",
    "    hue=\"parent\",\n",
    ")\n",
    "plt.savefig(os.path.join(output_path, \"loop_scores_paired.png\"))"
   ]
  },
  {
   "cell_type": "markdown",
   "id": "e7b33493",
   "metadata": {},
   "source": [
    "### Save a list of outputs\n",
    "\n",
    "Don't do any filtering since many of the input scaffolds score poorly"
   ]
  },
  {
   "cell_type": "code",
   "execution_count": 31,
   "id": "92e1421f",
   "metadata": {},
   "outputs": [
    {
     "data": {
      "application/vnd.jupyter.widget-view+json": {
       "model_id": "7ed85bb574d54b91ab088ca9e58201c7",
       "version_major": 2,
       "version_minor": 0
      },
      "text/plain": [
       "  0%|          | 0/2349 [00:00<?, ?it/s]"
      ]
     },
     "metadata": {},
     "output_type": "display_data"
    }
   ],
   "source": [
    "simulation_name = \"07_pair_bound_states\"\n",
    "output_path = os.path.join(\"/home/broerman/crispy_shifty/projects/OPS/round_1/design/\", simulation_name)\n",
    "\n",
    "with open(os.path.join(output_path, \"paired_states.list\"), \"w\") as f:\n",
    "    for path in tqdm(scores_df.index):\n",
    "        print(path, file=f)"
   ]
  },
  {
   "cell_type": "code",
   "execution_count": null,
   "id": "4427f85b",
   "metadata": {},
   "outputs": [],
   "source": []
  }
 ],
 "metadata": {
  "kernelspec": {
   "display_name": "crispy (3.8.12)",
   "language": "python",
   "name": "crispy"
  },
  "language_info": {
   "codemirror_mode": {
    "name": "ipython",
    "version": 3
   },
   "file_extension": ".py",
   "mimetype": "text/x-python",
   "name": "python",
   "nbconvert_exporter": "python",
   "pygments_lexer": "ipython3",
   "version": "3.8.12"
  }
 },
 "nbformat": 4,
 "nbformat_minor": 5
}
