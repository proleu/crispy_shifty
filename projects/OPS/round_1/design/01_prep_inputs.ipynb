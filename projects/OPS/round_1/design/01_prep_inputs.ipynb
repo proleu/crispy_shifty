{
 "cells": [
  {
   "cell_type": "markdown",
   "metadata": {},
   "source": [
    "# Prep filtered scaffold sets for distributed design"
   ]
  },
  {
   "cell_type": "markdown",
   "metadata": {},
   "source": [
    "### Imports"
   ]
  },
  {
   "cell_type": "code",
   "execution_count": 1,
   "metadata": {},
   "outputs": [
    {
     "name": "stdout",
     "output_type": "stream",
     "text": [
      "running in directory: /home/broerman/crispy_shifty/projects/OPS/round_1/design\n",
      "running on node: sofia\n"
     ]
    }
   ],
   "source": [
    "# %load_ext lab_black\n",
    "# Python standard library\n",
    "from glob import glob\n",
    "import os\n",
    "import socket\n",
    "import sys\n",
    "\n",
    "# 3rd party library imports\n",
    "import dask\n",
    "import matplotlib.pyplot as plt\n",
    "import pandas as pd\n",
    "import pyrosetta\n",
    "import numpy as np\n",
    "import scipy\n",
    "import seaborn as sns\n",
    "from tqdm.auto import tqdm  # jupyter compatible progress bar\n",
    "\n",
    "tqdm.pandas()  # link tqdm to pandas\n",
    "# Notebook magic\n",
    "# save plots in the notebook\n",
    "# %matplotlib inline\n",
    "# # reloads modules automatically before executing cells\n",
    "# %load_ext autoreload\n",
    "# %autoreload 2\n",
    "print(f\"running in directory: {os.getcwd()}\")  # where are we?\n",
    "print(f\"running on node: {socket.gethostname()}\")  # what node are we on?"
   ]
  },
  {
   "cell_type": "code",
   "execution_count": null,
   "metadata": {},
   "outputs": [],
   "source": [
    "# fixed messed up inputs\n",
    "pyrosetta.init()\n",
    "pose = pyrosetta.pose_from_pdb(\"/home/broerman/crispy_shifty/projects/OPS/round_1/design/00_scaffold_sets/inputs/input_switched/R6CP33_m1.pdb\")\n",
    "sw = pyrosetta.rosetta.protocols.simple_moves.SwitchChainOrderMover()\n",
    "sw.chain_order(\"21\")\n",
    "sw.apply(pose)\n",
    "pose.dump_pdb(\"/home/broerman/crispy_shifty/projects/OPS/round_1/design/00_scaffold_sets/inputs/R6CP33_m1.pdb\")\n",
    "pose = pyrosetta.pose_from_pdb(\"/home/broerman/crispy_shifty/projects/round_1/design/OPS/00_scaffold_sets/inputs/input_switched/DLPx6_PDL_0_4_5.pdb\")\n",
    "pdb_info = pyrosetta.rosetta.core.pose.PDBInfo(pose)\n",
    "pose.pdb_info(pdb_info)\n",
    "pose.dump_pdb(\"/home/broerman/crispy_shifty/projects/OPS/round_1/design/00_scaffold_sets/inputs/DLPx6_PDL_0_4_5.pdb\")"
   ]
  },
  {
   "cell_type": "markdown",
   "metadata": {
    "tags": []
   },
   "source": [
    "### Domesticate the scaffolds by trimming off leading and trailing loops and adding metadata to the output pdb.bz2s. "
   ]
  },
  {
   "cell_type": "code",
   "execution_count": 2,
   "metadata": {},
   "outputs": [],
   "source": [
    "design_list_file = \"/home/broerman/crispy_shifty/projects/OPS/round_1/design/00_scaffold_sets/inputs.list\"\n",
    "\n",
    "with open(design_list_file, \"w\") as f:\n",
    "    f.write(\"\\n\".join(sorted(glob(\"/home/broerman/crispy_shifty/projects/OPS/round_1/design/00_scaffold_sets/inputs/*.pdb\"))))"
   ]
  },
  {
   "cell_type": "code",
   "execution_count": 3,
   "metadata": {},
   "outputs": [
    {
     "name": "stdout",
     "output_type": "stream",
     "text": [
      "Run the following command with your desired environment active:\n",
      "sbatch -a 1-26 /home/broerman/crispy_shifty/projects/OPS/01_prep_inputs/run.sh\n"
     ]
    }
   ],
   "source": [
    "sys.path.insert(0, \"/home/broerman/crispy_shifty\")\n",
    "from crispy_shifty.utils.io import gen_array_tasks\n",
    "\n",
    "simulation_name = \"01_prep_inputs\"\n",
    "design_list_file = \"/home/broerman/crispy_shifty/projects/OPS/round_1/design/00_scaffold_sets/inputs.list\"\n",
    "output_path = os.path.join(\"/home/broerman/crispy_shifty/projects/OPS/round_1/design\", f\"{simulation_name}\")\n",
    "\n",
    "options = \" \".join(\n",
    "    [\n",
    "        \"out:level 200\",\n",
    "        \"corrections:beta_nov16 true\",\n",
    "        \"holes:dalphaball /software/rosetta/DAlphaBall.gcc\",\n",
    "        \"run:preserve_header true\" # for \"Tomponents\"\n",
    "    ]\n",
    ")\n",
    "extra_kwargs = {\n",
    "    \"metadata_csv\": \"/home/broerman/crispy_shifty/projects/OPS/round_1/design/00_scaffold_sets/metadata.csv\",\n",
    "    \"chains_to_keep\": \"12\",\n",
    "    \"num_ss_per_repeat\": \"2\",\n",
    "    \"fixed_resis\": \"distribute\"\n",
    "}\n",
    "\n",
    "gen_array_tasks(\n",
    "    distribute_func=\"crispy_shifty.protocols.cleaning.add_metadata_to_input\",\n",
    "    design_list_file=design_list_file,\n",
    "    output_path=output_path,\n",
    "    queue=\"short\",\n",
    "    memory=\"2G\",\n",
    "    nstruct=1,\n",
    "    nstruct_per_task=1,\n",
    "    options=options,\n",
    "    extra_kwargs=extra_kwargs,\n",
    "    simulation_name=simulation_name,\n",
    ")"
   ]
  },
  {
   "cell_type": "markdown",
   "metadata": {},
   "source": [
    "### Collect scorefiles of the prepped input scaffolds"
   ]
  },
  {
   "cell_type": "code",
   "execution_count": 3,
   "metadata": {
    "scrolled": true,
    "tags": []
   },
   "outputs": [],
   "source": [
    "sys.path.insert(0, \"/home/broerman/crispy_shifty\")\n",
    "from crispy_shifty.utils.io import collect_score_file\n",
    "\n",
    "simulation_name = \"01_prep_inputs\"\n",
    "output_path = os.path.join(\"/home/broerman/crispy_shifty/projects/OPS/round_1/design\", f\"{simulation_name}\")\n",
    "\n",
    "if not os.path.exists(os.path.join(output_path, \"scores.json\")):\n",
    "    collect_score_file(output_path, \"scores\")"
   ]
  },
  {
   "cell_type": "markdown",
   "metadata": {},
   "source": [
    "### Load resulting concatenated scorefile"
   ]
  },
  {
   "cell_type": "code",
   "execution_count": 4,
   "metadata": {
    "scrolled": true,
    "tags": []
   },
   "outputs": [
    {
     "data": {
      "application/vnd.jupyter.widget-view+json": {
       "model_id": "875f9dc3bcba4a41a2d13f3c5246d416",
       "version_major": 2,
       "version_minor": 0
      },
      "text/plain": [
       "  0%|          | 0/34 [00:00<?, ?it/s]"
      ]
     },
     "metadata": {},
     "output_type": "display_data"
    }
   ],
   "source": [
    "sys.path.insert(0, \"/home/broerman/crispy_shifty\")\n",
    "from crispy_shifty.utils.io import parse_scorefile_linear\n",
    "\n",
    "output_path = os.path.join(\"/home/broerman/crispy_shifty/projects/OPS/round_1/design\", f\"{simulation_name}\")\n",
    "\n",
    "if not os.path.exists(os.path.join(output_path, \"scores.csv\")):\n",
    "    scores_df = parse_scorefile_linear(os.path.join(output_path, \"scores.json\"))"
   ]
  },
  {
   "cell_type": "markdown",
   "metadata": {},
   "source": [
    "### Dump scores_df as a CSV and then reload, for performance reasons"
   ]
  },
  {
   "cell_type": "code",
   "execution_count": 5,
   "metadata": {},
   "outputs": [],
   "source": [
    "simulation_name = \"01_prep_inputs\"\n",
    "output_path = os.path.join(\"/home/broerman/crispy_shifty/projects/OPS/round_1/design\", f\"{simulation_name}\")\n",
    "if not os.path.exists(os.path.join(output_path, \"scores.csv\")):\n",
    "    scores_df.to_csv(os.path.join(output_path, \"scores.csv\"))\n",
    "\n",
    "scores_df = pd.read_csv(os.path.join(output_path, \"scores.csv\"), index_col=\"Unnamed: 0\")"
   ]
  },
  {
   "cell_type": "markdown",
   "metadata": {},
   "source": [
    "### Save a list of outputs"
   ]
  },
  {
   "cell_type": "code",
   "execution_count": 6,
   "metadata": {},
   "outputs": [],
   "source": [
    "# this design has binding functionality in the loops which will require significant modification to existing protocols to hingify\n",
    "excluded_inputs = set([\"DLPx6_PDL_0_4_5\"])\n",
    "\n",
    "with open(\n",
    "    \"01_prep_inputs/prepped_inputs.list\", \"w\"\n",
    ") as f:\n",
    "    for path, row in scores_df.iterrows():\n",
    "        if row['pdb'].split('/')[-1].split('.')[0] not in excluded_inputs:\n",
    "            print(path, file=f)"
   ]
  },
  {
   "cell_type": "code",
   "execution_count": 7,
   "metadata": {},
   "outputs": [
    {
     "name": "stdout",
     "output_type": "stream",
     "text": [
      "color green, 01_prep_inputs_a2a3f7d44d8344de953b158c18a98224 and resid 10+11+14+15+17+18+19+53+54+57+58+60+61+62+96+97+100+101+103+104+105+139+140+143+144+146+147+148+182+183+186+187+189+190+191+225+226+229+230+232+233+234;\n",
      "color green, 01_prep_inputs_08790e32144d489e86d77e343750b47b and resid 3+6+7+10+11+14+18+45+48+49+52+53+56+60+87+90+91+94+95+98+102+129+132+133+136+137+140+144;\n",
      "color green, 01_prep_inputs_445277da1b4f420d82945280feac6379 and resid 6+7+10+11+15+19+53+54+57+58+62+66+100+101+104+105+109+113+147+148+151+152+156+160+194+195+198+199+203+207+242+246+250+254;\n",
      "color green, 01_prep_inputs_378678039e684559baeb629273e48963 and resid 28+29+32+35+36+39+71+72+75+78+79+82+114+115+118+121+122+125+157+158+161+164+165+168;\n",
      "color green, 01_prep_inputs_405f5a0b5b1648249c6a5f941b95b5b1 and resid 43+46+50+98+101+105+153+156+160+208+211+215;\n",
      "color green, 01_prep_inputs_0226fbee4dbd472ca9baa3805917ba93 and resid 5+8+12+15+16+19+20+22+60+63+67+70+71+74+75+77+115+118+122+125+126+129+130+132+170+173+177+180+181+184+185+187+225+228+232+235+236+239+240+242+280+283+287+290+291+294+295+297;\n",
      "color green, 01_prep_inputs_c17f2c8c654b4f41811f4485a39f13c3 and resid 5+8+9+12+36+39+40+43+67+70+71+74+98+101+102+105+129+132+133+136+160+163+164+167;\n",
      "color green, 01_prep_inputs_d42845f5e42c44a49a26add9ed3ec345 and resid 1+2+5+9+12+13+16+43+44+47+51+54+55+58+85+86+89+93+96+97+100+127+128+131+135+138+139+142;\n",
      "color green, 01_prep_inputs_f5b29f56458d42eb9ca6a9f883dc9596 and resid 1+2+5+9+13+16+43+44+47+51+55+58+85+86+89+93+97+100+127+128+131+135+139+142;\n",
      "color green, 01_prep_inputs_20338f66b3da4210ac4b5d4f9785528f and resid 35+36+39+42+43+86+87+90+93+94+137+138+141+144+145+188+189+192+195+196+239+240+243+246+247+290+291+294+297+298;\n",
      "color green, 01_prep_inputs_d42f99aba6704cf3a93471e250b80fc6 and resid 32+35+36+39+42+43+46+83+86+87+90+93+94+97+134+137+138+141+144+145+148+185+188+189+192+195+196+199+236+239+240+243+246+247+250+287+290+291+294+297+298+301;\n",
      "color green, 01_prep_inputs_f4a79d316585455487195c9f37b4488b and resid 6+10+14+48+52+56+90+94+98+132+136+140;\n",
      "color green, 01_prep_inputs_b0a107342f1b4deba72055ad39dc5b17 and resid 1+6+9+12+13+40+41+44+49+52+55+56+83+84+87+92+95+98+99+126+127+130+135+138+141+142+169+170+173+178+181+184+185+212+213+216+221+224+227+228+255+256+259+264+267+270+271;\n",
      "color green, 01_prep_inputs_04c77c6cd7a84672aa0011412c0f1b56 and resid 3+6+7+10+11+15+19+50+53+54+57+58+62+66+97+100+101+104+105+109+113+144+147+148+151+152+156+160+191+194+195+198+199+203+207+238+241+242+245+246+250+254;\n",
      "color green, 01_prep_inputs_058cf0a61dc7417e916c8fc664c4c87f and resid 10+14+15+18+19+53+57+58+61+62+96+100+101+104+105+139+143+144+147+148+182+186+187+190+191+225+229+230+233+234;\n",
      "color green, 01_prep_inputs_9e5d2b13ca684523ba6c43acdf906e45 and resid 7+11+14+18+52+56+59+63+97+101+104+108+142+146+149+153+187+191+194+198+232+236+239+243;\n",
      "color green, 01_prep_inputs_5bb830a0e8064736828906cba4f183da and resid 11+14+15+18+19+54+57+58+61+62+97+100+101+104+105+140+143+144+147+148+183+186+187+190+191+226+229+230+233+234;\n",
      "color green, 01_prep_inputs_e123e62f56d14bcb8246243937dd8ec1 and resid 6+7+10+11+15+19+53+54+57+58+62+66+100+101+104+105+109+113+147+148+151+152+156+160+194+195+198+199+203+207+242+246+250+254;\n",
      "color green, 01_prep_inputs_b084662b60c04a9eb6187519a8718e0f and resid 35+36+39+43+86+87+90+94+137+138+141+145+188+189+192+196+239+240+243+247+290+291+294+298;\n",
      "color green, 01_prep_inputs_76c42f5e4ef4471da6e7bdebe5a91622 and resid 6+7+10+11+13+14+51+52+55+56+58+59+96+97+100+101+103+104+141+142+145+146+148+149+186+187+190+191+193+194+231+232+235+236+238+239;\n",
      "color green, 01_prep_inputs_a0986c6b343f4644a67d744fa03ea9fb and resid 10+14+15+18+19+53+57+58+61+62+96+100+101+104+105+139+143+144+147+148+182+186+187+190+191+225+229+230+233+234;\n",
      "color green, 01_prep_inputs_a6a01819064c4f6f8bb41f7372cfec1e and resid 2+5+6+9+10+13+14+43+46+47+50+51+54+55+84+87+88+91+92+95+96+125+128+129+132+133+136+137+166+169+170+173+174+177+178+207+210+211+214+215+218+219;\n",
      "color green, 01_prep_inputs_bb3275889b704f0db49d753e6c0cda23 and resid 5+8+9+12+36+39+40+43+67+70+71+74+98+101+102+105+129+132+133+136+160+163+164+167;\n",
      "color green, 01_prep_inputs_e02f5deebb5141909f778e13a3214e41 and resid 7+11+14+18+52+56+59+63+97+101+104+108+142+146+149+153+187+191+194+198+232+236+239+243;\n",
      "color green, 01_prep_inputs_7489c5a14f9940e3a2ff5a1cfc96b952 and resid 6+14+15+18+49+57+58+61+92+100+101+104+135+143+144+147;\n",
      "color green, 01_prep_inputs_b352dca9e49b4f19824e2ec7554d487c and resid 11+14+15+17+18+19+54+57+58+60+61+62+97+100+101+103+104+105+140+143+144+146+147+148+183+186+187+189+190+191+226+229+230+232+233+234;\n",
      "color green, 01_prep_inputs_4a0781fcea964039a6f7fa46b0c722e0 and resid 6+7+10+11+15+19+53+54+57+58+62+66+100+101+104+105+109+113+147+148+151+152+156+160+194+195+198+199+203+207+242+246+250+254;\n",
      "color green, 01_prep_inputs_3fc8cbec726745939c810a5235343cd7 and resid 3+6+11+14+46+49+54+57+89+92+97+100+132+135+140+143+175+178+183+186+218+221+226+229;\n",
      "color green, 01_prep_inputs_5ebc8baea8ee4d71a56ad023823c38d9 and resid 6+7+10+11+14+15+18+49+50+53+54+57+58+61+92+93+96+97+100+101+104+135+136+139+140+143+144+147;\n",
      "color green, 01_prep_inputs_30f19b9d7f5e40c78e31cf838f66f198 and resid 10+14+18+19+53+57+61+62+96+100+104+105+139+143+147+148+182+186+190+191+225+229+233+234;\n",
      "color green, 01_prep_inputs_1a0ada56107d4eaa857112412f5a0ca3 and resid 2+5+6+10+13+14+43+46+47+51+54+55+84+87+88+92+95+96+125+128+129+133+136+137+166+169+170+174+177+178+207+210+211+215+218+219;\n",
      "color green, 01_prep_inputs_f2e5b4d1dc0e4b07ad2212e3a209b78a and resid 5+9+12+36+40+43+67+71+74+98+102+105+129+133+136+160+164+167;\n",
      "color green, 01_prep_inputs_7adc8867c11c409db72032015a091c84 and resid 8+9+11+12+15+19+55+56+58+59+62+66+102+103+105+106+109+113+149+150+152+153+156+160+196+197+199+200+203+207+243+244+246+247+250+254;\n",
      "color green, 01_prep_inputs_b3ce3f8b87af463b906fce61a1f1e6d2 and resid 8+12+15+16+19+63+67+70+71+74+118+122+125+126+129+173+177+180+181+184+228+232+235+236+239+283+287+290+291+294;\n"
     ]
    }
   ],
   "source": [
    "# check fixed resis in pymol\n",
    "for index, row in scores_df.iterrows():\n",
    "    name = index.split('/')[-1].split('.')[0]\n",
    "    # print(f\"select {row['pdb'].split('/')[-1].split('.')[0]}, {name} and resid {'+'.join(row['fixed_resis'].split(','))};\")\n",
    "    print(f\"color green, {name} and resid {'+'.join(row['fixed_resis'].split(','))};\")"
   ]
  },
  {
   "cell_type": "code",
   "execution_count": null,
   "metadata": {},
   "outputs": [],
   "source": []
  }
 ],
 "metadata": {
  "kernelspec": {
   "display_name": "crispy (3.8.12)",
   "language": "python",
   "name": "crispy"
  },
  "language_info": {
   "codemirror_mode": {
    "name": "ipython",
    "version": 3
   },
   "file_extension": ".py",
   "mimetype": "text/x-python",
   "name": "python",
   "nbconvert_exporter": "python",
   "pygments_lexer": "ipython3",
   "version": "3.8.12"
  }
 },
 "nbformat": 4,
 "nbformat_minor": 4
}
