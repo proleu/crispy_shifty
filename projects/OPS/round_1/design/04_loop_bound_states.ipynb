{
 "cells": [
  {
   "cell_type": "markdown",
   "id": "219da8d0",
   "metadata": {},
   "source": [
    "# Add loops to the designed bound states"
   ]
  },
  {
   "cell_type": "markdown",
   "id": "ee1790f5",
   "metadata": {},
   "source": [
    "### Imports"
   ]
  },
  {
   "cell_type": "code",
   "execution_count": 1,
   "id": "dff821c6",
   "metadata": {},
   "outputs": [
    {
     "name": "stdout",
     "output_type": "stream",
     "text": [
      "running in directory: /home/broerman/crispy_shifty/projects/OPS/round_1/design\n",
      "running on node: sofia\n"
     ]
    }
   ],
   "source": [
    "%load_ext lab_black\n",
    "# Python standard library\n",
    "from glob import glob\n",
    "import os\n",
    "import socket\n",
    "import sys\n",
    "\n",
    "# 3rd party library imports\n",
    "import dask\n",
    "import matplotlib.pyplot as plt\n",
    "import pandas as pd\n",
    "import pyrosetta\n",
    "import numpy as np\n",
    "import scipy\n",
    "import seaborn as sns\n",
    "from tqdm.auto import tqdm  # jupyter compatible progress bar\n",
    "\n",
    "tqdm.pandas()  # link tqdm to pandas\n",
    "# Notebook magic\n",
    "# save plots in the notebook\n",
    "%matplotlib inline\n",
    "# reloads modules automatically before executing cells\n",
    "%load_ext autoreload\n",
    "%autoreload 2\n",
    "print(f\"running in directory: {os.getcwd()}\")  # where are we?\n",
    "print(f\"running on node: {socket.gethostname()}\")  # what node are we on?"
   ]
  },
  {
   "cell_type": "markdown",
   "id": "0ac259cc",
   "metadata": {},
   "source": [
    "### Add loops between chA and chB"
   ]
  },
  {
   "cell_type": "code",
   "execution_count": 2,
   "id": "ef8a3532",
   "metadata": {},
   "outputs": [
    {
     "name": "stderr",
     "output_type": "stream",
     "text": [
      "/projects/crispy_shifty/envs/crispy/lib/python3.8/site-packages/dask_jobqueue/core.py:20: FutureWarning: tmpfile is deprecated and will be removed in a future release. Please use dask.utils.tmpfile instead.\n",
      "  from distributed.utils import tmpfile\n"
     ]
    },
    {
     "name": "stdout",
     "output_type": "stream",
     "text": [
      "Run the following command with your desired environment active:\n",
      "sbatch -a 1-5429 /home/broerman/crispy_shifty/projects/OPS/round_1/design/04_loop_bound_states/run.sh\n"
     ]
    }
   ],
   "source": [
    "sys.path.insert(0, \"/home/broerman/crispy_shifty\")\n",
    "from crispy_shifty.utils.io import gen_array_tasks\n",
    "\n",
    "simulation_name = \"04_loop_bound_states\"\n",
    "design_list_file = \"/home/broerman/crispy_shifty/projects/OPS/round_1/design/03_design_bound_states/designed_states.list\"\n",
    "output_path = os.path.join(\n",
    "    \"/home/broerman/crispy_shifty/projects/OPS/round_1/design\", simulation_name\n",
    ")\n",
    "options = \" \".join(\n",
    "    [\n",
    "        \"out:level 200\",\n",
    "        \"corrections::beta_nov16 true\",\n",
    "        \"indexed_structure_store:fragment_store /net/databases/VALL_clustered/connect_chains/ss_grouped_vall_helix_shortLoop.h5\",\n",
    "    ]\n",
    ")\n",
    "\n",
    "gen_array_tasks(\n",
    "    distribute_func=\"crispy_shifty.protocols.looping.loop_bound_state\",\n",
    "    design_list_file=design_list_file,\n",
    "    output_path=output_path,\n",
    "    queue=\"short\",\n",
    "    memory=\"4G\",\n",
    "    nstruct=1,\n",
    "    nstruct_per_task=1,\n",
    "    options=options,\n",
    "    simulation_name=simulation_name,\n",
    ")"
   ]
  },
  {
   "cell_type": "markdown",
   "id": "a3896e25",
   "metadata": {},
   "source": [
    "### Collect scorefiles of the looped bound states and concatenate"
   ]
  },
  {
   "cell_type": "code",
   "execution_count": 3,
   "id": "ad3d9475",
   "metadata": {
    "scrolled": true,
    "tags": []
   },
   "outputs": [],
   "source": [
    "sys.path.insert(0, \"/home/broerman/crispy_shifty\")\n",
    "from crispy_shifty.utils.io import collect_score_file\n",
    "\n",
    "simulation_name = \"04_loop_bound_states\"\n",
    "output_path = os.path.join(\n",
    "    \"/home/broerman/crispy_shifty/projects/OPS/round_1/design\", simulation_name\n",
    ")\n",
    "\n",
    "if not os.path.exists(os.path.join(output_path, \"scores.json\")):\n",
    "    collect_score_file(output_path, \"scores\")"
   ]
  },
  {
   "cell_type": "markdown",
   "id": "a256351b",
   "metadata": {},
   "source": [
    "### Load resulting concatenated scorefile"
   ]
  },
  {
   "cell_type": "code",
   "execution_count": 9,
   "id": "aa6d759e",
   "metadata": {
    "scrolled": true,
    "tags": []
   },
   "outputs": [
    {
     "data": {
      "application/vnd.jupyter.widget-view+json": {
       "model_id": "4bf2e4e87603439d9f6d9478a81f22f3",
       "version_major": 2,
       "version_minor": 0
      },
      "text/plain": [
       "  0%|          | 0/2576 [00:00<?, ?it/s]"
      ]
     },
     "metadata": {},
     "output_type": "display_data"
    }
   ],
   "source": [
    "sys.path.insert(0, \"/home/broerman/crispy_shifty\")\n",
    "from crispy_shifty.utils.io import parse_scorefile_linear\n",
    "\n",
    "output_path = os.path.join(\n",
    "    \"/home/broerman/crispy_shifty/projects/OPS/round_1/design\", simulation_name\n",
    ")\n",
    "\n",
    "scores_df = parse_scorefile_linear(os.path.join(output_path, \"scores.json\"))\n",
    "scores_df = scores_df.convert_dtypes()"
   ]
  },
  {
   "cell_type": "markdown",
   "id": "ad31abae",
   "metadata": {},
   "source": [
    "### Data exploration\n",
    "Gonna remove the Rosetta sfxn scoreterms for now"
   ]
  },
  {
   "cell_type": "code",
   "execution_count": 10,
   "id": "022e09c9",
   "metadata": {},
   "outputs": [
    {
     "name": "stdout",
     "output_type": "stream",
     "text": [
      "2576\n"
     ]
    },
    {
     "data": {
      "text/plain": [
       "Index(['bb_clash', 'bb_clash_delta', 'buns_parent', 'cms_AcB', 'cms_AnAc',\n",
       "       'cms_AnAcB', 'cms_AnB', 'docked_helix', 'dssp',\n",
       "       'exposed_hydrophobics_parent', 'fixed_resis', 'geometry_parent',\n",
       "       'holes_all_parent', 'holes_core_parent', 'loop_dist', 'loop_sc',\n",
       "       'looped_length', 'mismatch_probability_parent', 'new_loop_str',\n",
       "       'packstat_parent', 'parent', 'parent_length', 'path_in', 'pdb',\n",
       "       'pivot_helix', 'pre_break_helix', 'repeat_len', 'sap_parent', 'sc_AcB',\n",
       "       'sc_AnAc', 'sc_AnAcB', 'sc_AnB', 'sc_all_parent', 'score',\n",
       "       'score_per_res', 'score_per_res_parent', 'shift', 'ss_sc', 'state',\n",
       "       'time', 'topo', 'total_length', 'total_score', 'trim_n',\n",
       "       'trimmed_length'],\n",
       "      dtype='object')"
      ]
     },
     "execution_count": 10,
     "metadata": {},
     "output_type": "execute_result"
    }
   ],
   "source": [
    "from crispy_shifty.protocols.design import beta_nov16_terms\n",
    "\n",
    "scores_df = scores_df[\n",
    "    [term for term in scores_df.columns if term not in beta_nov16_terms]\n",
    "]\n",
    "print(len(scores_df))\n",
    "scores_df.columns"
   ]
  },
  {
   "cell_type": "markdown",
   "id": "3a1f760b-6f01-4cce-9fbd-0232870c56fd",
   "metadata": {},
   "source": [
    "### Convert some dtypes"
   ]
  },
  {
   "cell_type": "code",
   "execution_count": 11,
   "id": "77262725-4534-4313-af94-fe5c4a9f5a62",
   "metadata": {},
   "outputs": [],
   "source": [
    "scores_df[\"bb_clash_delta\"] = scores_df.bb_clash_delta.astype(float)\n",
    "scores_df[\"looped_length\"] = scores_df.looped_length.astype(int)\n",
    "scores_df[\"trimmed_length\"] = scores_df.trimmed_length.astype(int)\n",
    "scores_df[\"loop_length_delta\"] = (\n",
    "    scores_df[\"looped_length\"] - scores_df[\"trimmed_length\"]\n",
    ")"
   ]
  },
  {
   "cell_type": "markdown",
   "id": "626edd2b-4576-40c5-b7b9-aed47058de88",
   "metadata": {},
   "source": [
    "### Check for the relationship between `bb_clash_delta` and `looped_length`"
   ]
  },
  {
   "cell_type": "code",
   "execution_count": 12,
   "id": "e8ff41d0-3c5a-4986-a229-a24133a068c6",
   "metadata": {},
   "outputs": [
    {
     "name": "stderr",
     "output_type": "stream",
     "text": [
      "3it [00:00, 39.20it/s]\n"
     ]
    },
    {
     "data": {
      "image/png": "[encoded data removed]",
      "text/plain": [
       "<Figure size 864x288 with 3 Axes>"
      ]
     },
     "metadata": {
      "needs_background": "light"
     },
     "output_type": "display_data"
    }
   ],
   "source": [
    "from crispy_shifty.utils.plotting import histplot_df, pairplot_df\n",
    "\n",
    "cols = [\"bb_clash_delta\", \"looped_length\", \"loop_length_delta\"]\n",
    "\n",
    "the_fig = histplot_df(\n",
    "    df=scores_df,\n",
    "    cols=cols,\n",
    "    bins=10,\n",
    ")\n",
    "\n",
    "plt.savefig(os.path.join(output_path, \"bb_clash_vs_length.png\"))"
   ]
  },
  {
   "cell_type": "code",
   "execution_count": 13,
   "id": "bba910a0-ea2e-4ba7-9657-6aaf2e01b568",
   "metadata": {},
   "outputs": [
    {
     "data": {
      "text/plain": [
       "<Figure size 864x864 with 0 Axes>"
      ]
     },
     "metadata": {},
     "output_type": "display_data"
    },
    {
     "data": {
      "image/png": "[encoded data removed]",
      "text/plain": [
       "<Figure size 540x540 with 9 Axes>"
      ]
     },
     "metadata": {
      "needs_background": "light"
     },
     "output_type": "display_data"
    }
   ],
   "source": [
    "the_fig = pairplot_df(\n",
    "    df=scores_df,\n",
    "    cols=cols,\n",
    ")\n",
    "\n",
    "plt.savefig(os.path.join(output_path, \"bb_clash_vs_length_paired.png\"))"
   ]
  },
  {
   "cell_type": "markdown",
   "id": "7ca80cd7-0248-4629-9f24-06f4b0c4ef34",
   "metadata": {},
   "source": [
    "### Filter the looped states leniently\n",
    "We want to discard the obviously bad stuff here"
   ]
  },
  {
   "cell_type": "code",
   "execution_count": 14,
   "id": "3175e895-1714-4add-9755-17b4dd49278f",
   "metadata": {},
   "outputs": [
    {
     "name": "stdout",
     "output_type": "stream",
     "text": [
      "2423\n"
     ]
    }
   ],
   "source": [
    "final_df = scores_df.query(\"loop_length_delta < 7 and bb_clash_delta < 1000\")\n",
    "print(len(final_df))"
   ]
  },
  {
   "cell_type": "markdown",
   "id": "5c8f74b5",
   "metadata": {},
   "source": [
    "### Save a list of outputs"
   ]
  },
  {
   "cell_type": "code",
   "execution_count": 15,
   "id": "34c53ad4",
   "metadata": {},
   "outputs": [
    {
     "data": {
      "application/vnd.jupyter.widget-view+json": {
       "model_id": "6cbb3268a58c4df89d1f1fcd3cffb98a",
       "version_major": 2,
       "version_minor": 0
      },
      "text/plain": [
       "  0%|          | 0/2423 [00:00<?, ?it/s]"
      ]
     },
     "metadata": {},
     "output_type": "display_data"
    }
   ],
   "source": [
    "simulation_name = \"04_loop_bound_states\"\n",
    "output_path = os.path.join(\n",
    "    \"/home/broerman/crispy_shifty/projects/OPS/round_1/design\", simulation_name\n",
    ")\n",
    "\n",
    "with open(os.path.join(output_path, \"looped_states.list\"), \"w\") as f:\n",
    "    for path in tqdm(final_df.index):\n",
    "        print(path, file=f)"
   ]
  },
  {
   "cell_type": "code",
   "execution_count": null,
   "id": "ad2ae733",
   "metadata": {},
   "outputs": [],
   "source": []
  }
 ],
 "metadata": {
  "kernelspec": {
   "display_name": "crispy (3.8.12)",
   "language": "python",
   "name": "crispy"
  },
  "language_info": {
   "codemirror_mode": {
    "name": "ipython",
    "version": 3
   },
   "file_extension": ".py",
   "mimetype": "text/x-python",
   "name": "python",
   "nbconvert_exporter": "python",
   "pygments_lexer": "ipython3",
   "version": "3.8.12"
  }
 },
 "nbformat": 4,
 "nbformat_minor": 5
}
