{
 "cells": [
  {
   "cell_type": "markdown",
   "id": "ea3228c0",
   "metadata": {},
   "source": [
    "# Filter down the folded paired states to an orderable subset"
   ]
  },
  {
   "cell_type": "markdown",
   "id": "5e19c9e0",
   "metadata": {},
   "source": [
    "### Imports"
   ]
  },
  {
   "cell_type": "code",
   "execution_count": 1,
   "id": "73f8ec0b",
   "metadata": {},
   "outputs": [
    {
     "name": "stdout",
     "output_type": "stream",
     "text": [
      "running in directory: /global/cfs/cdirs/m4129/projects/crispy_shifty_adam/projects/OPS/round_1/design\n",
      "running on node: nid002121\n"
     ]
    }
   ],
   "source": [
    "%load_ext lab_black\n",
    "# Python standard library\n",
    "from glob import glob\n",
    "import os\n",
    "import socket\n",
    "import sys\n",
    "\n",
    "# 3rd party library imports\n",
    "import dask\n",
    "import matplotlib.pyplot as plt\n",
    "import pandas as pd\n",
    "import pyrosetta\n",
    "import numpy as np\n",
    "import scipy\n",
    "import seaborn as sns\n",
    "from tqdm.auto import tqdm  # jupyter compatible progress bar\n",
    "\n",
    "tqdm.pandas()  # link tqdm to pandas\n",
    "# Notebook magic\n",
    "# save plots in the notebook\n",
    "%matplotlib inline\n",
    "# reloads modules automatically before executing cells\n",
    "%load_ext autoreload\n",
    "%autoreload 2\n",
    "print(f\"running in directory: {os.getcwd()}\")  # where are we?\n",
    "print(f\"running on node: {socket.gethostname()}\")  # what node are we on?"
   ]
  },
  {
   "cell_type": "markdown",
   "id": "b5d24d4c",
   "metadata": {},
   "source": [
    "### Fix the paths\n",
    "Necessary because we copied these designs from perlmutter"
   ]
  },
  {
   "cell_type": "code",
   "execution_count": 3,
   "id": "bc83809d",
   "metadata": {},
   "outputs": [
    {
     "name": "stderr",
     "output_type": "stream",
     "text": [
      "/global/cfs/cdirs/m4129/projects/crispy_shifty_adam/envs/crispy/lib/python3.8/site-packages/dask_jobqueue/core.py:20: FutureWarning: tmpfile is deprecated and will be removed in a future release. Please use dask.utils.tmpfile instead.\n",
      "  from distributed.utils import tmpfile\n"
     ]
    }
   ],
   "source": [
    "sys.path.insert(0, \"/global/cfs/cdirs/m4129/projects/crispy_shifty_adam\")\n",
    "from crispy_shifty.utils.io import fix_path_prefixes\n",
    "\n",
    "folded = \"/global/cfs/cdirs/m4129/projects/crispy_shifty_adam/projects/OPS/round_1/design/13_filter_and_order/to_order.list\"\n",
    "\n",
    "new_folded = fix_path_prefixes(\n",
    "    find=\"/home/broerman/crispy_shifty\",\n",
    "    replace=\"/global/cfs/cdirs/m4129/projects/crispy_shifty_adam\",\n",
    "    file=folded,\n",
    "    overwrite=True,\n",
    ")"
   ]
  },
  {
   "cell_type": "markdown",
   "id": "1c16cf22-feb5-4685-bc67-f1a324116571",
   "metadata": {
    "tags": []
   },
   "source": [
    "### Resurface the predicted states peptides"
   ]
  },
  {
   "cell_type": "code",
   "execution_count": null,
   "id": "405f24bf",
   "metadata": {},
   "outputs": [],
   "source": [
    "from crispy_shifty.utils.io import gen_array_tasks\n",
    "\n",
    "simulation_name = \"14_resurface\"\n",
    "design_list_file = \"/global/cfs/cdirs/m4129/projects/crispy_shifty_adam/projects/OPS/round_1/design/13_filter_and_order/to_order.list\"\n",
    "output_path = os.path.join(f\"/pscratch/sd/b/broerman/{simulation_name}\")\n",
    "options = \" \".join(\n",
    "    [\n",
    "        \"out:level 200\",\n",
    "    ]\n",
    ")\n",
    "\n",
    "extra_kwargs = {\"models\": \"1\"}\n",
    "\n",
    "gen_array_tasks(\n",
    "    distribute_func=\"crispy_shifty.protocols.cleaning.finalize_peptide\",\n",
    "    design_list_file=design_list_file,\n",
    "    output_path=output_path,\n",
    "    queue=\"gpu-remote\",\n",
    "    cores=2,\n",
    "    gres=\"--gres=gpu:a4000:1\",\n",
    "    memory=\"10G\",\n",
    "    nstruct=1,\n",
    "    nstruct_per_task=4,\n",
    "    options=options,\n",
    "    extra_kwargs=extra_kwargs,\n",
    "    simulation_name=simulation_name\n",
    ")"
   ]
  },
  {
   "cell_type": "markdown",
   "id": "f260736a-cb63-4908-bda1-c1512c00eaea",
   "metadata": {},
   "source": [
    "### Remove AF2 decoy data from the score JSONs\n",
    "Forgot to do it in the script"
   ]
  },
  {
   "cell_type": "code",
   "execution_count": null,
   "id": "ddba1c6a-c873-4a92-9199-db262de17571",
   "metadata": {},
   "outputs": [],
   "source": [
    "sys.path.insert(0, \"/home/broerman/crispy_shifty\")\n",
    "from crispy_shifty.utils.io import collect_and_clean_score_file\n",
    "\n",
    "simulation_name = \"14_resurface\"\n",
    "output_path = os.path.join(\"/home/broerman/crispy_shifty/projects/OPS/round_1/design/\", simulation_name)\n",
    "\n",
    "if not os.path.exists(os.path.join(output_path, \"scores.json\")):\n",
    "    collect_and_clean_score_file(output_path, \"mpnn_seq\", \"scores\")"
   ]
  },
  {
   "cell_type": "markdown",
   "id": "a7f489de",
   "metadata": {},
   "source": [
    "### Load resulting concatenated scorefile"
   ]
  },
  {
   "cell_type": "code",
   "execution_count": 3,
   "id": "7012378e",
   "metadata": {
    "scrolled": true,
    "tags": []
   },
   "outputs": [
    {
     "name": "stderr",
     "output_type": "stream",
     "text": [
      "/projects/crispy_shifty/envs/crispy/lib/python3.8/site-packages/dask_jobqueue/core.py:20: FutureWarning: tmpfile is deprecated and will be removed in a future release. Please use dask.utils.tmpfile instead.\n",
      "  from distributed.utils import tmpfile\n"
     ]
    }
   ],
   "source": [
    "from crispy_shifty.utils.io import parse_scorefile_linear\n",
    "\n",
    "simulation_name = \"14_resurface\"\n",
    "output_path = os.path.join(\"/home/broerman/crispy_shifty/projects/OPS/round_1/design/\", simulation_name)\n",
    "\n",
    "if not os.path.exists(os.path.join(output_path, \"scores.csv\")):\n",
    "    scores_df = parse_scorefile_linear(os.path.join(output_path, \"scores.json\"))"
   ]
  },
  {
   "cell_type": "markdown",
   "id": "39910822",
   "metadata": {},
   "source": [
    "### Dump scores_df as a CSV and then reload, for performance reasons"
   ]
  },
  {
   "cell_type": "code",
   "execution_count": 4,
   "id": "e9cef517",
   "metadata": {},
   "outputs": [],
   "source": [
    "if not os.path.exists(os.path.join(output_path, \"scores.csv\")):\n",
    "    scores_df.to_csv(os.path.join(output_path, \"scores.csv\"))\n",
    "\n",
    "scores_df = pd.read_csv(os.path.join(output_path, \"scores.csv\"), index_col=\"Unnamed: 0\")"
   ]
  },
  {
   "cell_type": "markdown",
   "id": "7ef960ca-a93e-4f00-b982-25cbc0975079",
   "metadata": {},
   "source": [
    "### Save a list of outputs"
   ]
  },
  {
   "cell_type": "code",
   "execution_count": 5,
   "id": "26ecfff8-5417-40ab-a5dd-884a26229620",
   "metadata": {},
   "outputs": [
    {
     "data": {
      "application/vnd.jupyter.widget-view+json": {
       "model_id": "95332b9bc01344f3921d0be6069b56fa",
       "version_major": 2,
       "version_minor": 0
      },
      "text/plain": [
       "  0%|          | 0/48561 [00:00<?, ?it/s]"
      ]
     },
     "metadata": {},
     "output_type": "display_data"
    }
   ],
   "source": [
    "with open(os.path.join(output_path, \"resurfaced_states.list\"), \"w\") as f:\n",
    "    for path in tqdm(scores_df.index):\n",
    "        print(path, file=f)"
   ]
  },
  {
   "cell_type": "markdown",
   "id": "760829ff-2d81-470a-9254-f95c8cbf1e6a",
   "metadata": {},
   "source": [
    "### Fix the paths\n",
    "Necessary because we copied these designs from perlmutter"
   ]
  },
  {
   "cell_type": "code",
   "execution_count": 6,
   "id": "c18f1cf6-70a3-4459-a5d9-97dda1afc870",
   "metadata": {},
   "outputs": [],
   "source": [
    "from crispy_shifty.utils.io import fix_path_prefixes\n",
    "\n",
    "resurfaced = os.path.join(output_path, \"resurfaced_states.list\")\n",
    "new_resurfaced = fix_path_prefixes(\n",
    "    find=\"/pscratch/sd/b/broerman\",\n",
    "    replace=\"/home/broerman/crispy_shifty/projects/OPS/round_1/design\",\n",
    "    file=resurfaced,\n",
    "    overwrite=True,\n",
    ")"
   ]
  },
  {
   "cell_type": "markdown",
   "id": "f8dbf3c5-acee-4e7c-a756-54de792071d3",
   "metadata": {
    "tags": []
   },
   "source": [
    "### Filter the predicted states"
   ]
  },
  {
   "cell_type": "code",
   "execution_count": 7,
   "id": "8690c655-ee0e-4e7c-b71a-f70d86cd40dc",
   "metadata": {},
   "outputs": [
    {
     "name": "stdout",
     "output_type": "stream",
     "text": [
      "Run the following command with your desired environment active:\n",
      "sbatch -a 1-12141 /mnt/projects/crispy_shifty/projects/crispy_shifties/09_filter/run.sh\n"
     ]
    }
   ],
   "source": [
    "from crispy_shifty.utils.io import gen_array_tasks\n",
    "\n",
    "simulation_name = \"14_filter\"\n",
    "design_list_file = resurfaced\n",
    "output_path = os.path.join(\"/home/broerman/crispy_shifty/projects/OPS/round_1/design/\", simulation_name)\n",
    "options = \" \".join(\n",
    "    [\n",
    "        \"out:level 200\",\n",
    "        \"corrections:beta_nov16 true\",\n",
    "        \"indexed_structure_store:fragment_store /net/databases/VALL_clustered/connect_chains/ss_grouped_vall_helix_shortLoop.h5\",\n",
    "    ]\n",
    ")\n",
    "\n",
    "# TODO add extra kwarg for not relaxing state X + peptide\n",
    "\n",
    "gen_array_tasks(\n",
    "    distribute_func=\"crispy_shifty.protocols.msd.filter_paired_state_OPS\",\n",
    "    design_list_file=design_list_file,\n",
    "    output_path=output_path,\n",
    "    queue=\"short\",\n",
    "    memory=\"4G\",\n",
    "    nstruct=1,\n",
    "    nstruct_per_task=4,\n",
    "    options=options,\n",
    "    simulation_name=simulation_name,\n",
    ")"
   ]
  },
  {
   "cell_type": "markdown",
   "id": "7c6b7a00-b83a-4e9a-bc67-90f5f7afad43",
   "metadata": {},
   "source": [
    "### Remove AF2 decoy data from the score JSONs\n",
    "Forgot to do it in the script, again"
   ]
  },
  {
   "cell_type": "code",
   "execution_count": 7,
   "id": "25fe0c35-5861-4889-9f64-f3909801f609",
   "metadata": {},
   "outputs": [],
   "source": [
    "sys.path.insert(0, \"/home/broerman/crispy_shifty\")\n",
    "from crispy_shifty.utils.io import collect_and_clean_score_file\n",
    "\n",
    "simulation_name = \"14_filter\"\n",
    "output_path = os.path.join(\"/home/broerman/crispy_shifty/projects/OPS/round_1/design/\", simulation_name)\n",
    "\n",
    "if not os.path.exists(os.path.join(output_path, \"scores.json\")):\n",
    "    collect_and_clean_score_file(output_path, \"mpnn_seq\", \"scores\")"
   ]
  },
  {
   "cell_type": "markdown",
   "id": "58109326-3ed1-48b3-b33a-821731f96cbb",
   "metadata": {},
   "source": [
    "### Load resulting concatenated scorefile"
   ]
  },
  {
   "cell_type": "code",
   "execution_count": 8,
   "id": "b35ce95d-ae99-4873-aef0-8f49f96ed0f6",
   "metadata": {
    "scrolled": true,
    "tags": []
   },
   "outputs": [],
   "source": [
    "from crispy_shifty.utils.io import parse_scorefile_linear\n",
    "\n",
    "if not os.path.exists(os.path.join(output_path, \"scores.csv\")):\n",
    "    scores_df = parse_scorefile_linear(os.path.join(output_path, \"scores.json\"))"
   ]
  },
  {
   "cell_type": "markdown",
   "id": "6e77004c-2586-46ba-9f0b-44c79b4ddee7",
   "metadata": {},
   "source": [
    "### Dump scores_df as a CSV and then reload, for performance reasons"
   ]
  },
  {
   "cell_type": "code",
   "execution_count": 9,
   "id": "977fb54d-ac36-44dd-a1ec-a9950b561bad",
   "metadata": {},
   "outputs": [],
   "source": [
    "if not os.path.exists(os.path.join(output_path, \"scores.csv\")):\n",
    "    scores_df.to_csv(os.path.join(output_path, \"scores.csv\"))\n",
    "\n",
    "scores_df = pd.read_csv(os.path.join(output_path, \"scores.csv\"), index_col=\"Unnamed: 0\")"
   ]
  },
  {
   "cell_type": "markdown",
   "id": "71bd38b2-7e28-4707-b248-49c2715c4244",
   "metadata": {},
   "source": [
    "### Save a list of outputs"
   ]
  },
  {
   "cell_type": "code",
   "execution_count": 10,
   "id": "a44154a8-c196-43c0-8375-fa82adf303ed",
   "metadata": {},
   "outputs": [
    {
     "data": {
      "application/vnd.jupyter.widget-view+json": {
       "model_id": "fcac372efa8d486ea323526fd11f4d78",
       "version_major": 2,
       "version_minor": 0
      },
      "text/plain": [
       "  0%|          | 0/48561 [00:00<?, ?it/s]"
      ]
     },
     "metadata": {},
     "output_type": "display_data"
    }
   ],
   "source": [
    "with open(os.path.join(output_path, \"filtered_states.list\"), \"w\") as f:\n",
    "    for path in tqdm(scores_df.index):\n",
    "        print(path, file=f)"
   ]
  }
 ],
 "metadata": {
  "kernelspec": {
   "display_name": "crispy-adam",
   "language": "python",
   "name": "crispy-adam"
  },
  "language_info": {
   "codemirror_mode": {
    "name": "ipython",
    "version": 3
   },
   "file_extension": ".py",
   "mimetype": "text/x-python",
   "name": "python",
   "nbconvert_exporter": "python",
   "pygments_lexer": "ipython3",
   "version": "3.8.12"
  }
 },
 "nbformat": 4,
 "nbformat_minor": 5
}
