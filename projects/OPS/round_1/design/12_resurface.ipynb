{
 "cells": [
  {
   "cell_type": "markdown",
   "id": "ea3228c0",
   "metadata": {},
   "source": [
    "# Resurface the peptides and their interactions with the hinge for the designs which pass alphafold"
   ]
  },
  {
   "cell_type": "markdown",
   "id": "5e19c9e0",
   "metadata": {},
   "source": [
    "### Imports"
   ]
  },
  {
   "cell_type": "code",
   "execution_count": 1,
   "id": "73f8ec0b",
   "metadata": {},
   "outputs": [
    {
     "name": "stdout",
     "output_type": "stream",
     "text": [
      "running in directory: /mnt/home/broerman/crispy_shifty/projects/OPS/round_1/design\n",
      "running on node: jojo\n"
     ]
    }
   ],
   "source": [
    "# %load_ext lab_black\n",
    "# Python standard library\n",
    "from glob import glob\n",
    "import os\n",
    "import socket\n",
    "import sys\n",
    "\n",
    "# 3rd party library imports\n",
    "import dask\n",
    "import matplotlib.pyplot as plt\n",
    "import pandas as pd\n",
    "import pyrosetta\n",
    "import numpy as np\n",
    "import scipy\n",
    "import seaborn as sns\n",
    "from tqdm.auto import tqdm  # jupyter compatible progress bar\n",
    "\n",
    "tqdm.pandas()  # link tqdm to pandas\n",
    "# Notebook magic\n",
    "# save plots in the notebook\n",
    "# %matplotlib inline\n",
    "# reloads modules automatically before executing cells\n",
    "# %load_ext autoreload\n",
    "# %autoreload 2\n",
    "print(f\"running in directory: {os.getcwd()}\")  # where are we?\n",
    "print(f\"running on node: {socket.gethostname()}\")  # what node are we on?"
   ]
  },
  {
   "cell_type": "markdown",
   "id": "1c16cf22-feb5-4685-bc67-f1a324116571",
   "metadata": {
    "tags": []
   },
   "source": [
    "### Resurface the predicted states peptides"
   ]
  },
  {
   "cell_type": "code",
   "execution_count": 4,
   "id": "405f24bf",
   "metadata": {},
   "outputs": [
    {
     "name": "stdout",
     "output_type": "stream",
     "text": [
      "Run the following command with your desired environment active:\n",
      "sbatch -a 1-489 /pscratch/sd/b/broerman/12_resurface/run.sh\n"
     ]
    }
   ],
   "source": [
    "sys.path.insert(0, \"/global/cfs/cdirs/m4129/projects/crispy_shifty_adam\")\n",
    "from crispy_shifty.utils.io import gen_array_tasks\n",
    "\n",
    "simulation_name = \"12_resurface\"\n",
    "design_list_file = (\n",
    "    \"/pscratch/sd/b/broerman/11_fold_paired_states_X/folded_paired_states.list\"\n",
    ")\n",
    "output_path = f\"/pscratch/sd/b/broerman/{simulation_name}\"\n",
    "options = \" \".join(\n",
    "    [\n",
    "        \"out:level 200\",\n",
    "    ]\n",
    ")\n",
    "\n",
    "extra_kwargs = {\n",
    "    \"models\": \"1\",\n",
    "    \"clean_disulfides\": \"true\",\n",
    "    \"redesign_hinge\": \"int_surf\",\n",
    "    \"path_to_model_weights\": \"/global/u2/b/broerman/databases/mpnn/vanilla_model_weights/\",\n",
    "}\n",
    "\n",
    "gen_array_tasks(\n",
    "    distribute_func=\"crispy_shifty.protocols.cleaning.finalize_peptide\",\n",
    "    design_list_file=design_list_file,\n",
    "    output_path=output_path,\n",
    "    perlmutter_mode=True,\n",
    "    # queue=\"gpu-remote\",\n",
    "    # cores=2,\n",
    "    # gres=\"--gres=gpu:a4000:1\",\n",
    "    # memory=\"10G\",\n",
    "    nstruct=1,\n",
    "    nstruct_per_task=4,\n",
    "    options=options,\n",
    "    extra_kwargs=extra_kwargs,\n",
    "    simulation_name=simulation_name,\n",
    "    time=\"1:29:30\",\n",
    ")"
   ]
  },
  {
   "cell_type": "code",
   "execution_count": 7,
   "id": "ff1e53ea",
   "metadata": {},
   "outputs": [],
   "source": [
    "from more_itertools import chunked\n",
    "\n",
    "simulation_name = \"12_resurface\"\n",
    "output_path = os.path.join(\n",
    "    \"/home/broerman/crispy_shifty/projects/OPS/round_1/design/\", simulation_name\n",
    ")\n",
    "\n",
    "with open(f\"{output_path}/rethread_chC/tasks.cmds\", \"w\") as f:\n",
    "    for fnames in chunked(\n",
    "        sorted(glob(f\"{output_path}/decoys_old_chC/*/*.pdb.bz2\")), 50\n",
    "    ):\n",
    "        f.write(\n",
    "            \"/home/broerman/crispy_shifty/projects/OPS/round_1/design/12_resurface/rethread_chC/12_resurface_rethread_chC.py \"\n",
    "            + \" \".join(fnames)\n",
    "            + \"\\n\"\n",
    "        )"
   ]
  },
  {
   "cell_type": "code",
   "execution_count": null,
   "id": "0572f898",
   "metadata": {},
   "outputs": [],
   "source": [
    "# # Forgot to thread the chain A sequence on chain C. Do this here.\n",
    "\n",
    "# import bz2\n",
    "# import json\n",
    "# import pyrosetta.distributed.io as io\n",
    "# from pyrosetta.distributed import cluster\n",
    "\n",
    "# sys.path.insert(0, \"/home/broerman/crispy_shifty\")\n",
    "\n",
    "# import pyrosetta\n",
    "\n",
    "# pyrosetta.distributed.maybe_init(\n",
    "#     **{\n",
    "#         \"options\": \"-corrections::beta_nov16 true\",\n",
    "#         \"extra_options\": {\"-out:level\": \"100\"},\n",
    "#     }\n",
    "# )\n",
    "\n",
    "# simulation_name = \"12_resurface\"\n",
    "# output_path = os.path.join(\n",
    "#     \"/home/broerman/crispy_shifty/projects/OPS/round_1/design/\", simulation_name\n",
    "# )\n",
    "\n",
    "# for fname in tqdm(glob(f\"{output_path}/decoys_old_chC/*/*.pdb.bz2\")):\n",
    "#     with open(fname, \"rb\") as f:  # read bz2 bytestream, decompress and decode\n",
    "#         decoy = io.to_pose(io.pose_from_pdbstring(bz2.decompress(f.read()).decode()))\n",
    "#     scores = pyrosetta.distributed.cluster.get_scores_dict(fname)\n",
    "#     for key, value in scores[\"scores\"].items():\n",
    "#         pyrosetta.rosetta.core.pose.setPoseExtraScore(decoy, key, value)\n",
    "\n",
    "#     # get the chA sequence\n",
    "#     chA_seq = decoy.chain_sequence(1)\n",
    "#     # setup SimpleThreadingMover\n",
    "#     stm = pyrosetta.rosetta.protocols.simple_moves.SimpleThreadingMover()\n",
    "#     # thread the sequence from chA onto chA\n",
    "#     stm.set_sequence(chA_seq, start_position=decoy.chain_begin(3))\n",
    "#     stm.apply(decoy)\n",
    "\n",
    "#     out_fname = fname.replace(\"decoys_old_chC\", \"decoys\")\n",
    "\n",
    "#     pdbfile_data = json.dumps(scores)\n",
    "#     # Write full .pdb record\n",
    "#     pdbstring_data = (\n",
    "#         io.to_pdbstring(decoy) + os.linesep + \"REMARK PyRosettaCluster: \" + pdbfile_data\n",
    "#     )\n",
    "#     with open(out_fname, \"wb\") as f:\n",
    "#         f.write(bz2.compress(str.encode(pdbstring_data)))"
   ]
  },
  {
   "cell_type": "code",
   "execution_count": 2,
   "id": "ddba1c6a-c873-4a92-9199-db262de17571",
   "metadata": {},
   "outputs": [
    {
     "name": "stderr",
     "output_type": "stream",
     "text": [
      "/projects/crispy_shifty/envs/crispy/lib/python3.8/site-packages/dask_jobqueue/core.py:20: FutureWarning: tmpfile is deprecated and will be removed in a future release. Please use dask.utils.tmpfile instead.\n",
      "  from distributed.utils import tmpfile\n"
     ]
    }
   ],
   "source": [
    "sys.path.insert(0, \"/home/broerman/crispy_shifty\")\n",
    "from crispy_shifty.utils.io import collect_score_file\n",
    "\n",
    "simulation_name = \"12_resurface\"\n",
    "output_path = os.path.join(\"/home/broerman/crispy_shifty/projects/OPS/round_1/design/\", simulation_name)\n",
    "\n",
    "if not os.path.exists(os.path.join(output_path, \"scores.json\")):\n",
    "    collect_score_file(output_path, \"scores\")"
   ]
  },
  {
   "cell_type": "markdown",
   "id": "a7f489de",
   "metadata": {},
   "source": [
    "### Load resulting concatenated scorefile"
   ]
  },
  {
   "cell_type": "code",
   "execution_count": 3,
   "id": "7012378e",
   "metadata": {
    "scrolled": true,
    "tags": []
   },
   "outputs": [
    {
     "data": {
      "application/vnd.jupyter.widget-view+json": {
       "model_id": "6341db89e4474630b6c97d0cb2bf4413",
       "version_major": 2,
       "version_minor": 0
      },
      "text/plain": [
       "  0%|          | 0/4317 [00:00<?, ?it/s]"
      ]
     },
     "metadata": {},
     "output_type": "display_data"
    }
   ],
   "source": [
    "from crispy_shifty.utils.io import parse_scorefile_linear\n",
    "\n",
    "simulation_name = \"12_resurface\"\n",
    "output_path = os.path.join(\n",
    "    \"/home/broerman/crispy_shifty/projects/OPS/round_1/design/\", simulation_name\n",
    ")\n",
    "\n",
    "if not os.path.exists(os.path.join(output_path, \"scores.csv\")):\n",
    "    scores_df = parse_scorefile_linear(os.path.join(output_path, \"scores.json\"))"
   ]
  },
  {
   "cell_type": "markdown",
   "id": "39910822",
   "metadata": {},
   "source": [
    "### Dump scores_df as a CSV and then reload, for performance reasons"
   ]
  },
  {
   "cell_type": "code",
   "execution_count": 4,
   "id": "e9cef517",
   "metadata": {},
   "outputs": [],
   "source": [
    "if not os.path.exists(os.path.join(output_path, \"scores.csv\")):\n",
    "    scores_df.to_csv(os.path.join(output_path, \"scores.csv\"))\n",
    "\n",
    "scores_df = pd.read_csv(os.path.join(output_path, \"scores.csv\"), index_col=\"Unnamed: 0\")"
   ]
  },
  {
   "cell_type": "markdown",
   "id": "7ef960ca-a93e-4f00-b982-25cbc0975079",
   "metadata": {},
   "source": [
    "### Save a list of outputs"
   ]
  },
  {
   "cell_type": "code",
   "execution_count": 5,
   "id": "26ecfff8-5417-40ab-a5dd-884a26229620",
   "metadata": {},
   "outputs": [
    {
     "data": {
      "application/vnd.jupyter.widget-view+json": {
       "model_id": "c1787b5a652a4b8490f8457ad75ae46c",
       "version_major": 2,
       "version_minor": 0
      },
      "text/plain": [
       "  0%|          | 0/4317 [00:00<?, ?it/s]"
      ]
     },
     "metadata": {},
     "output_type": "display_data"
    }
   ],
   "source": [
    "with open(os.path.join(output_path, \"resurfaced_states.list\"), \"w\") as f:\n",
    "    for path in tqdm(scores_df.index):\n",
    "        print(path, file=f)"
   ]
  }
 ],
 "metadata": {
  "kernelspec": {
   "display_name": "Python 3.8.12 ('crispy')",
   "language": "python",
   "name": "python3"
  },
  "language_info": {
   "codemirror_mode": {
    "name": "ipython",
    "version": 3
   },
   "file_extension": ".py",
   "mimetype": "text/x-python",
   "name": "python",
   "nbconvert_exporter": "python",
   "pygments_lexer": "ipython3",
   "version": "3.8.12"
  },
  "vscode": {
   "interpreter": {
    "hash": "f85aff12e6ff3566e4cf5a43ff1f550dd1dd8e886a46e6b0887a8a96c54cf981"
   }
  }
 },
 "nbformat": 4,
 "nbformat_minor": 5
}
