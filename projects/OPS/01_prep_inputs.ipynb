{
 "cells": [
  {
   "cell_type": "markdown",
   "metadata": {},
   "source": [
    "# Prep filtered scaffold sets for distributed design"
   ]
  },
  {
   "cell_type": "markdown",
   "metadata": {},
   "source": [
    "### Imports"
   ]
  },
  {
   "cell_type": "code",
   "execution_count": 1,
   "metadata": {},
   "outputs": [
    {
     "name": "stdout",
     "output_type": "stream",
     "text": [
      "running in directory: /home/broerman/crispy_shifty/projects/OPS\n",
      "running on node: sofia\n"
     ]
    }
   ],
   "source": [
    "# %load_ext lab_black\n",
    "# Python standard library\n",
    "from glob import glob\n",
    "import os\n",
    "import socket\n",
    "import sys\n",
    "\n",
    "# 3rd party library imports\n",
    "import dask\n",
    "import matplotlib.pyplot as plt\n",
    "import pandas as pd\n",
    "import pyrosetta\n",
    "import numpy as np\n",
    "import scipy\n",
    "import seaborn as sns\n",
    "from tqdm.auto import tqdm  # jupyter compatible progress bar\n",
    "\n",
    "tqdm.pandas()  # link tqdm to pandas\n",
    "# Notebook magic\n",
    "# save plots in the notebook\n",
    "# %matplotlib inline\n",
    "# # reloads modules automatically before executing cells\n",
    "# %load_ext autoreload\n",
    "# %autoreload 2\n",
    "print(f\"running in directory: {os.getcwd()}\")  # where are we?\n",
    "print(f\"running on node: {socket.gethostname()}\")  # what node are we on?"
   ]
  },
  {
   "cell_type": "code",
   "execution_count": null,
   "metadata": {},
   "outputs": [],
   "source": [
    "# fixed messed up inputs\n",
    "pyrosetta.init()\n",
    "pose = pyrosetta.pose_from_pdb(\"/home/broerman/crispy_shifty/projects/OPS/00_scaffold_sets/inputs/input_switched/R6CP33_m1.pdb\")\n",
    "sw = pyrosetta.rosetta.protocols.simple_moves.SwitchChainOrderMover()\n",
    "sw.chain_order(\"21\")\n",
    "sw.apply(pose)\n",
    "pose.dump_pdb(\"/home/broerman/crispy_shifty/projects/OPS/00_scaffold_sets/inputs/R6CP33_m1.pdb\")\n",
    "pose = pyrosetta.pose_from_pdb(\"/home/broerman/crispy_shifty/projects/OPS/00_scaffold_sets/inputs/input_switched/DLPx6_PDL_0_4_5.pdb\")\n",
    "pdb_info = pyrosetta.rosetta.core.pose.PDBInfo(pose)\n",
    "pose.pdb_info(pdb_info)\n",
    "pose.dump_pdb(\"/home/broerman/crispy_shifty/projects/OPS/00_scaffold_sets/inputs/DLPx6_PDL_0_4_5.pdb\")"
   ]
  },
  {
   "cell_type": "markdown",
   "metadata": {
    "tags": []
   },
   "source": [
    "### Domesticate the scaffolds by trimming off leading and trailing loops and adding metadata to the output pdb.bz2s. "
   ]
  },
  {
   "cell_type": "code",
   "execution_count": 2,
   "metadata": {},
   "outputs": [],
   "source": [
    "design_list_file = \"/home/broerman/crispy_shifty/projects/OPS/00_scaffold_sets/inputs.list\"\n",
    "\n",
    "with open(design_list_file, \"w\") as f:\n",
    "    f.write(\"\\n\".join(sorted(glob(\"/home/broerman/crispy_shifty/projects/OPS/00_scaffold_sets/inputs/*.pdb\"))))"
   ]
  },
  {
   "cell_type": "code",
   "execution_count": 3,
   "metadata": {},
   "outputs": [
    {
     "name": "stdout",
     "output_type": "stream",
     "text": [
      "Run the following command with your desired environment active:\n",
      "sbatch -a 1-26 /home/broerman/crispy_shifty/projects/OPS/01_prep_inputs/run.sh\n"
     ]
    }
   ],
   "source": [
    "sys.path.insert(0, \"/home/broerman/crispy_shifty\")\n",
    "from crispy_shifty.utils.io import gen_array_tasks\n",
    "\n",
    "simulation_name = \"01_prep_inputs\"\n",
    "design_list_file = \"/home/broerman/crispy_shifty/projects/OPS/00_scaffold_sets/inputs.list\"\n",
    "output_path = os.path.join(\"/home/broerman/crispy_shifty/projects/OPS/\", f\"{simulation_name}\")\n",
    "\n",
    "options = \" \".join(\n",
    "    [\n",
    "        \"out:level 200\",\n",
    "        \"corrections:beta_nov16 true\",\n",
    "        \"holes:dalphaball /software/rosetta/DAlphaBall.gcc\",\n",
    "        \"run:preserve_header true\" # for \"Tomponents\"\n",
    "    ]\n",
    ")\n",
    "extra_kwargs = {\n",
    "    \"metadata_csv\": \"/home/broerman/crispy_shifty/projects/OPS/00_scaffold_sets/metadata.csv\",\n",
    "    \"chains_to_keep\": \"12\",\n",
    "    \"num_ss_per_repeat\": \"2\",\n",
    "    \"fixed_resis\": \"distribute\"\n",
    "}\n",
    "\n",
    "gen_array_tasks(\n",
    "    distribute_func=\"crispy_shifty.protocols.cleaning.add_metadata_to_input\",\n",
    "    design_list_file=design_list_file,\n",
    "    output_path=output_path,\n",
    "    queue=\"short\",\n",
    "    memory=\"2G\",\n",
    "    nstruct=1,\n",
    "    nstruct_per_task=1,\n",
    "    options=options,\n",
    "    extra_kwargs=extra_kwargs,\n",
    "    simulation_name=simulation_name,\n",
    ")"
   ]
  },
  {
   "cell_type": "markdown",
   "metadata": {},
   "source": [
    "### Collect scorefiles of the prepped input scaffolds"
   ]
  },
  {
   "cell_type": "code",
   "execution_count": 9,
   "metadata": {
    "scrolled": true,
    "tags": []
   },
   "outputs": [],
   "source": [
    "sys.path.insert(0, \"/home/broerman/crispy_shifty\")\n",
    "from crispy_shifty.utils.io import collect_score_file\n",
    "\n",
    "simulation_name = \"01_prep_inputs\"\n",
    "output_path = os.path.join(\"/home/broerman/crispy_shifty/projects/OPS/\", f\"{simulation_name}\")\n",
    "\n",
    "if not os.path.exists(os.path.join(output_path, \"scores.json\")):\n",
    "    collect_score_file(output_path, \"scores\")"
   ]
  },
  {
   "cell_type": "markdown",
   "metadata": {},
   "source": [
    "### Load resulting concatenated scorefile"
   ]
  },
  {
   "cell_type": "code",
   "execution_count": 10,
   "metadata": {
    "scrolled": true,
    "tags": []
   },
   "outputs": [
    {
     "data": {
      "application/vnd.jupyter.widget-view+json": {
       "model_id": "464dbf187ce240fc90f3fefb73183407",
       "version_major": 2,
       "version_minor": 0
      },
      "text/plain": [
       "  0%|          | 0/35 [00:00<?, ?it/s]"
      ]
     },
     "metadata": {},
     "output_type": "display_data"
    }
   ],
   "source": [
    "sys.path.insert(0, \"/home/broerman/crispy_shifty\")\n",
    "from crispy_shifty.utils.io import parse_scorefile_linear\n",
    "\n",
    "output_path = os.path.join(\"/home/broerman/crispy_shifty/projects/OPS/\", f\"{simulation_name}\")\n",
    "\n",
    "if not os.path.exists(os.path.join(output_path, \"scores.csv\")):\n",
    "    scores_df = parse_scorefile_linear(os.path.join(output_path, \"scores.json\"))"
   ]
  },
  {
   "cell_type": "markdown",
   "metadata": {},
   "source": [
    "### Dump scores_df as a CSV and then reload, for performance reasons"
   ]
  },
  {
   "cell_type": "code",
   "execution_count": 11,
   "metadata": {},
   "outputs": [],
   "source": [
    "if not os.path.exists(os.path.join(output_path, \"scores.csv\")):\n",
    "    scores_df.to_csv(os.path.join(output_path, \"scores.csv\"))\n",
    "\n",
    "scores_df = pd.read_csv(os.path.join(output_path, \"scores.csv\"), index_col=\"Unnamed: 0\")"
   ]
  },
  {
   "cell_type": "markdown",
   "metadata": {},
   "source": [
    "### Save a list of outputs"
   ]
  },
  {
   "cell_type": "code",
   "execution_count": 12,
   "metadata": {},
   "outputs": [],
   "source": [
    "with open(\n",
    "    \"01_prep_inputs/prepped_inputs.list\", \"w\"\n",
    ") as f:\n",
    "    for path in scores_df.index:\n",
    "        print(path, file=f)"
   ]
  },
  {
   "cell_type": "code",
   "execution_count": 13,
   "metadata": {},
   "outputs": [
    {
     "name": "stdout",
     "output_type": "stream",
     "text": [
      "color green, 01_prep_inputs_644d3fd8dc9b484c97d9e994a4698701 and resid 1+2+5+9+13+16+43+44+47+51+55+58+85+86+89+93+97+100+127+128+131+135+139+142;\n",
      "color green, 01_prep_inputs_009cc77e2cce4ce282adc21ec14800c3 and resid 3+6+11+14+46+49+54+57+89+92+97+100+132+135+140+143+175+178+183+186+218+221+226+229;\n",
      "color green, 01_prep_inputs_fb7b2906199e4b53999089730d48e4db and resid 10+11+14+15+17+18+19+53+54+57+58+60+61+62+96+97+100+101+103+104+105+139+140+143+144+146+147+148+182+183+186+187+189+190+191+225+226+229+230+232+233+234;\n",
      "color green, 01_prep_inputs_49da073b32594a4d810fe6a81a5f495b and resid 6+7+10+11+13+14+51+52+55+56+58+59+96+97+100+101+103+104+141+142+145+146+148+149+186+187+190+191+193+194+231+232+235+236+238+239;\n",
      "color green, 01_prep_inputs_2742c96d62e0494592b7d5b9435eed08 and resid 5+9+12+36+40+43+67+71+74+98+102+105+129+133+136+160+164+167;\n",
      "color green, 01_prep_inputs_6036ba4febb047d4836e2a2c49766136 and resid 7+11+14+18+52+56+59+63+97+101+104+108+142+146+149+153+187+191+194+198+232+236+239+243;\n",
      "color green, 01_prep_inputs_7dedbd2108134b78936840b9301263e4 and resid 1+2+5+9+12+13+16+43+44+47+51+54+55+58+85+86+89+93+96+97+100+127+128+131+135+138+139+142;\n",
      "color green, 01_prep_inputs_4b484c34a9984e6c9af325dcb2deeec2 and resid 5+8+9+12+36+39+40+43+67+70+71+74+98+101+102+105+129+132+133+136+160+163+164+167;\n",
      "color green, 01_prep_inputs_70521de8ecc74dc88fbdfa5ad3825010 and resid 6+7+10+11+14+15+18+49+50+53+54+57+58+61+92+93+96+97+100+101+104+135+136+139+140+143+144+147;\n",
      "color green, 01_prep_inputs_4d0b0bbe35e0441199c4a1099d58ac38 and resid 5+8+9+12+36+39+40+43+67+70+71+74+98+101+102+105+129+132+133+136+160+163+164+167;\n",
      "color green, 01_prep_inputs_751426a032344d74af59bf47a5f3adc5 and resid 6+7+10+11+15+19+53+54+57+58+62+66+100+101+104+105+109+113+147+148+151+152+156+160+194+195+198+199+203+207+242+246+250+254;\n",
      "color green, 01_prep_inputs_f6e976d5c5ab4a8bba43c1fe3f3b3f96 and resid 2+5+6+9+10+13+14+43+46+47+50+51+54+55+84+87+88+91+92+95+96+125+128+129+132+133+136+137+166+169+170+173+174+177+178+207+210+211+214+215+218+219;\n",
      "color green, 01_prep_inputs_7113041d93364dbab0a575654d37ac90 and resid 6+10+14+48+52+56+90+94+98+132+136+140;\n",
      "color green, 01_prep_inputs_5487f75eb82149df87f7f5bbf7f47f42 and resid 6+14+15+18+49+57+58+61+92+100+101+104+135+143+144+147;\n",
      "color green, 01_prep_inputs_75653c35bb804dc88503c053744b9580 and resid 28+29+32+35+36+39+71+72+75+78+79+82+114+115+118+121+122+125+157+158+161+164+165+168;\n",
      "color green, 01_prep_inputs_02fa8db632284d829eeecdf085e4d011 and resid 35+36+39+42+43+86+87+90+93+94+137+138+141+144+145+188+189+192+195+196+239+240+243+246+247+290+291+294+297+298;\n",
      "color green, 01_prep_inputs_207291d2ace84973ae084ce699d62dad and resid 1+6+9+12+13+40+41+44+49+52+55+56+83+84+87+92+95+98+99+126+127+130+135+138+141+142+169+170+173+178+181+184+185+212+213+216+221+224+227+228+255+256+259+264+267+270+271;\n",
      "color green, 01_prep_inputs_c27e3babafdf4412993c8c4c027b6ad1 and resid 11+14+15+17+18+19+54+57+58+60+61+62+97+100+101+103+104+105+140+143+144+146+147+148+183+186+187+189+190+191+226+229+230+232+233+234;\n",
      "color green, 01_prep_inputs_61e6d41c52dd42c7a6ba09a1d008da67 and resid 7+11+14+18+52+56+59+63+97+101+104+108+142+146+149+153+187+191+194+198+232+236+239+243;\n",
      "color green, 01_prep_inputs_ef1aaf89784d4b188800b8116ab33d43 and resid 28+29+32+35+36+39+71+72+75+78+79+82+114+115+118+121+122+125+157+158+161+164+165+168;\n",
      "color green, 01_prep_inputs_1cc9221258eb4b6eb419bac6dcfed851 and resid 6+7+10+11+15+19+53+54+57+58+62+66+100+101+104+105+109+113+147+148+151+152+156+160+194+195+198+199+203+207+242+246+250+254;\n",
      "color green, 01_prep_inputs_b7acfa4964254141b84123df355ef7dd and resid 3+6+7+10+11+14+18+45+48+49+52+53+56+60+87+90+91+94+95+98+102+129+132+133+136+137+140+144;\n",
      "color green, 01_prep_inputs_8be71f7a0ecc49bdb23d63e4d62a7d21 and resid 8+9+11+12+15+19+55+56+58+59+62+66+102+103+105+106+109+113+149+150+152+153+156+160+196+197+199+200+203+207+243+244+246+247+250+254;\n",
      "color green, 01_prep_inputs_2a3e008c5f5a47de92b9aee7983a2af8 and resid 10+14+15+18+19+53+57+58+61+62+96+100+101+104+105+139+143+144+147+148+182+186+187+190+191+225+229+230+233+234;\n",
      "color green, 01_prep_inputs_58681c925b74426390a5a74aa549a131 and resid 2+5+6+10+13+14+43+46+47+51+54+55+84+87+88+92+95+96+125+128+129+133+136+137+166+169+170+174+177+178+207+210+211+215+218+219;\n",
      "color green, 01_prep_inputs_e41b6fbd71b74911a2723238e3bfe03a and resid 10+14+15+18+19+53+57+58+61+62+96+100+101+104+105+139+143+144+147+148+182+186+187+190+191+225+229+230+233+234;\n",
      "color green, 01_prep_inputs_0be73dbb8d1f491996cbeced704073d2 and resid 6+7+10+11+15+19+53+54+57+58+62+66+100+101+104+105+109+113+147+148+151+152+156+160+194+195+198+199+203+207+242+246+250+254;\n",
      "color green, 01_prep_inputs_84843e301ee148018b10d2dc120b549d and resid 35+36+39+43+86+87+90+94+137+138+141+145+188+189+192+196+239+240+243+247+290+291+294+298;\n",
      "color green, 01_prep_inputs_16599678da014786906f3dd1ff9d37f8 and resid 3+6+7+10+11+15+19+50+53+54+57+58+62+66+97+100+101+104+105+109+113+144+147+148+151+152+156+160+191+194+195+198+199+203+207+238+241+242+245+246+250+254;\n",
      "color green, 01_prep_inputs_328b8542455d4357a8d13b83112c932d and resid 5+8+12+15+16+19+20+22+60+63+67+70+71+74+75+77+115+118+122+125+126+129+130+132+170+173+177+180+181+184+185+187+225+228+232+235+236+239+240+242+280+283+287+290+291+294+295+297;\n",
      "color green, 01_prep_inputs_fa9272a6d96d4b1c83022655778c68a7 and resid 8+12+15+16+19+63+67+70+71+74+118+122+125+126+129+173+177+180+181+184+228+232+235+236+239+283+287+290+291+294;\n",
      "color green, 01_prep_inputs_80a0d3eb9302478c93ff310ee4c8662f and resid 32+35+36+39+42+43+46+83+86+87+90+93+94+97+134+137+138+141+144+145+148+185+188+189+192+195+196+199+236+239+240+243+246+247+250+287+290+291+294+297+298+301;\n",
      "color green, 01_prep_inputs_eaa6f2c07f2f4bc4860fcfdd38fbb794 and resid 10+14+18+19+53+57+61+62+96+100+104+105+139+143+147+148+182+186+190+191+225+229+233+234;\n",
      "color green, 01_prep_inputs_3e953100018d4276a4be3a45d80a9cab and resid 11+14+15+18+19+54+57+58+61+62+97+100+101+104+105+140+143+144+147+148+183+186+187+190+191+226+229+230+233+234;\n",
      "color green, 01_prep_inputs_6fadbb8fe5e64008948488afa01a31e1 and resid 43+46+50+98+101+105+153+156+160+208+211+215;\n"
     ]
    }
   ],
   "source": [
    "# check fixed resis in pymol\n",
    "for index, row in scores_df.iterrows():\n",
    "    name = index.split('/')[-1].split('.')[0]\n",
    "    # print(f\"select {row['pdb'].split('/')[-1].split('.')[0]}, {name} and resid {'+'.join(row['fixed_resis'].split(','))};\")\n",
    "    print(f\"color green, {name} and resid {'+'.join(row['fixed_resis'].split(','))};\")"
   ]
  },
  {
   "cell_type": "code",
   "execution_count": null,
   "metadata": {},
   "outputs": [],
   "source": []
  }
 ],
 "metadata": {
  "kernelspec": {
   "display_name": "crispy (3.8.12)",
   "language": "python",
   "name": "crispy"
  },
  "language_info": {
   "codemirror_mode": {
    "name": "ipython",
    "version": 3
   },
   "file_extension": ".py",
   "mimetype": "text/x-python",
   "name": "python",
   "nbconvert_exporter": "python",
   "pygments_lexer": "ipython3",
   "version": "3.8.12"
  }
 },
 "nbformat": 4,
 "nbformat_minor": 4
}
