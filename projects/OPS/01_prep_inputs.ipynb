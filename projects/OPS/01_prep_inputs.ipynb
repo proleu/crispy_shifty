{
 "cells": [
  {
   "cell_type": "markdown",
   "metadata": {},
   "source": [
    "# Prep filtered scaffold sets for distributed design"
   ]
  },
  {
   "cell_type": "markdown",
   "metadata": {},
   "source": [
    "### Imports"
   ]
  },
  {
   "cell_type": "code",
   "execution_count": 1,
   "metadata": {},
   "outputs": [
    {
     "name": "stdout",
     "output_type": "stream",
     "text": [
      "running in directory: /home/broerman/crispy_shifty/projects/OPS\n",
      "running on node: sofia\n"
     ]
    }
   ],
   "source": [
    "# %load_ext lab_black\n",
    "# Python standard library\n",
    "from glob import glob\n",
    "import os\n",
    "import socket\n",
    "import sys\n",
    "\n",
    "# 3rd party library imports\n",
    "import dask\n",
    "import matplotlib.pyplot as plt\n",
    "import pandas as pd\n",
    "import pyrosetta\n",
    "import numpy as np\n",
    "import scipy\n",
    "import seaborn as sns\n",
    "from tqdm.auto import tqdm  # jupyter compatible progress bar\n",
    "\n",
    "tqdm.pandas()  # link tqdm to pandas\n",
    "# Notebook magic\n",
    "# save plots in the notebook\n",
    "# %matplotlib inline\n",
    "# # reloads modules automatically before executing cells\n",
    "# %load_ext autoreload\n",
    "# %autoreload 2\n",
    "print(f\"running in directory: {os.getcwd()}\")  # where are we?\n",
    "print(f\"running on node: {socket.gethostname()}\")  # what node are we on?"
   ]
  },
  {
   "cell_type": "code",
   "execution_count": null,
   "metadata": {},
   "outputs": [],
   "source": [
    "# fixed messed up inputs\n",
    "pyrosetta.init()\n",
    "pose = pyrosetta.pose_from_pdb(\"/home/broerman/crispy_shifty/projects/OPS/00_scaffold_sets/inputs/input_switched/R6CP33_m1.pdb\")\n",
    "sw = pyrosetta.rosetta.protocols.simple_moves.SwitchChainOrderMover()\n",
    "sw.chain_order(\"21\")\n",
    "sw.apply(pose)\n",
    "pose.dump_pdb(\"/home/broerman/crispy_shifty/projects/OPS/00_scaffold_sets/inputs/R6CP33_m1.pdb\")\n",
    "pose = pyrosetta.pose_from_pdb(\"/home/broerman/crispy_shifty/projects/OPS/00_scaffold_sets/inputs/input_switched/DLPx6_PDL_0_4_5.pdb\")\n",
    "pdb_info = pyrosetta.rosetta.core.pose.PDBInfo(pose)\n",
    "pose.pdb_info(pdb_info)\n",
    "pose.dump_pdb(\"/home/broerman/crispy_shifty/projects/OPS/00_scaffold_sets/inputs/DLPx6_PDL_0_4_5.pdb\")"
   ]
  },
  {
   "cell_type": "markdown",
   "metadata": {
    "tags": []
   },
   "source": [
    "### Domesticate the scaffolds by trimming off leading and trailing loops and adding metadata to the output pdb.bz2s. "
   ]
  },
  {
   "cell_type": "code",
   "execution_count": 2,
   "metadata": {},
   "outputs": [],
   "source": [
    "design_list_file = \"/home/broerman/crispy_shifty/projects/OPS/00_scaffold_sets/inputs.list\"\n",
    "\n",
    "with open(design_list_file, \"w\") as f:\n",
    "    f.write(\"\\n\".join(sorted(glob(\"/home/broerman/crispy_shifty/projects/OPS/00_scaffold_sets/inputs/*.pdb\"))))"
   ]
  },
  {
   "cell_type": "code",
   "execution_count": 2,
   "metadata": {},
   "outputs": [
    {
     "name": "stderr",
     "output_type": "stream",
     "text": [
      "/projects/crispy_shifty/envs/crispy/lib/python3.8/site-packages/dask_jobqueue/core.py:20: FutureWarning: tmpfile is deprecated and will be removed in a future release. Please use dask.utils.tmpfile instead.\n",
      "  from distributed.utils import tmpfile\n"
     ]
    },
    {
     "ename": "InvalidGitRepositoryError",
     "evalue": "The working directory is dirty! Commit local changes to ensure reproducibility.",
     "output_type": "error",
     "traceback": [
      "\u001b[0;31m---------------------------------------------------------------------------\u001b[0m",
      "\u001b[0;31mInvalidGitRepositoryError\u001b[0m                 Traceback (most recent call last)",
      "\u001b[0;32m/tmp/ipykernel_2573454/2001124136.py\u001b[0m in \u001b[0;36m<module>\u001b[0;34m\u001b[0m\n\u001b[1;32m     21\u001b[0m }\n\u001b[1;32m     22\u001b[0m \u001b[0;34m\u001b[0m\u001b[0m\n\u001b[0;32m---> 23\u001b[0;31m gen_array_tasks(\n\u001b[0m\u001b[1;32m     24\u001b[0m     \u001b[0mdistribute_func\u001b[0m\u001b[0;34m=\u001b[0m\u001b[0;34m\"crispy_shifty.protocols.cleaning.add_metadata_to_input\"\u001b[0m\u001b[0;34m,\u001b[0m\u001b[0;34m\u001b[0m\u001b[0;34m\u001b[0m\u001b[0m\n\u001b[1;32m     25\u001b[0m     \u001b[0mdesign_list_file\u001b[0m\u001b[0;34m=\u001b[0m\u001b[0mdesign_list_file\u001b[0m\u001b[0;34m,\u001b[0m\u001b[0;34m\u001b[0m\u001b[0;34m\u001b[0m\u001b[0m\n",
      "\u001b[0;32m~/crispy_shifty/crispy_shifty/utils/io.py\u001b[0m in \u001b[0;36mgen_array_tasks\u001b[0;34m(distribute_func, design_list_file, output_path, queue, extra_kwargs, cores, gres, memory, nstruct, nstruct_per_task, options, perlmutter_mode, sha1, simulation_name, time, func_root)\u001b[0m\n\u001b[1;32m    677\u001b[0m     \u001b[0;32mfrom\u001b[0m \u001b[0mcrispy_shifty\u001b[0m\u001b[0;34m.\u001b[0m\u001b[0mutils\u001b[0m\u001b[0;34m.\u001b[0m\u001b[0mio\u001b[0m \u001b[0;32mimport\u001b[0m \u001b[0mget_yml\u001b[0m\u001b[0;34m\u001b[0m\u001b[0;34m\u001b[0m\u001b[0m\n\u001b[1;32m    678\u001b[0m \u001b[0;34m\u001b[0m\u001b[0m\n\u001b[0;32m--> 679\u001b[0;31m     \u001b[0msha1\u001b[0m \u001b[0;34m=\u001b[0m \u001b[0mparse_sha1\u001b[0m\u001b[0;34m(\u001b[0m\u001b[0msha1\u001b[0m\u001b[0;34m)\u001b[0m\u001b[0;34m\u001b[0m\u001b[0;34m\u001b[0m\u001b[0m\n\u001b[0m\u001b[1;32m    680\u001b[0m     \u001b[0;31m# if the user provided None then sha1 is still an empty string, this fixes that\u001b[0m\u001b[0;34m\u001b[0m\u001b[0;34m\u001b[0m\u001b[0;34m\u001b[0m\u001b[0m\n\u001b[1;32m    681\u001b[0m     \u001b[0;32mif\u001b[0m \u001b[0msha1\u001b[0m \u001b[0;34m==\u001b[0m \u001b[0;34m\"\"\u001b[0m\u001b[0;34m:\u001b[0m\u001b[0;34m\u001b[0m\u001b[0;34m\u001b[0m\u001b[0m\n",
      "\u001b[0;32m/projects/crispy_shifty/envs/crispy/lib/python3.8/site-packages/pyrosetta/distributed/cluster/converters.py\u001b[0m in \u001b[0;36m_parse_sha1\u001b[0;34m(obj)\u001b[0m\n\u001b[1;32m    300\u001b[0m         \u001b[0;32mreturn\u001b[0m \u001b[0;34m\"\"\u001b[0m\u001b[0;34m\u001b[0m\u001b[0;34m\u001b[0m\u001b[0m\n\u001b[1;32m    301\u001b[0m \u001b[0;34m\u001b[0m\u001b[0m\n\u001b[0;32m--> 302\u001b[0;31m     \u001b[0;32mreturn\u001b[0m \u001b[0mconverter\u001b[0m\u001b[0;34m(\u001b[0m\u001b[0mobj\u001b[0m\u001b[0;34m)\u001b[0m\u001b[0;34m\u001b[0m\u001b[0;34m\u001b[0m\u001b[0m\n\u001b[0m\u001b[1;32m    303\u001b[0m \u001b[0;34m\u001b[0m\u001b[0m\n\u001b[1;32m    304\u001b[0m \u001b[0;34m\u001b[0m\u001b[0m\n",
      "\u001b[0;32m/projects/crispy_shifty/envs/crispy/lib/python3.8/functools.py\u001b[0m in \u001b[0;36mwrapper\u001b[0;34m(*args, **kw)\u001b[0m\n\u001b[1;32m    873\u001b[0m                             '1 positional argument')\n\u001b[1;32m    874\u001b[0m \u001b[0;34m\u001b[0m\u001b[0m\n\u001b[0;32m--> 875\u001b[0;31m         \u001b[0;32mreturn\u001b[0m \u001b[0mdispatch\u001b[0m\u001b[0;34m(\u001b[0m\u001b[0margs\u001b[0m\u001b[0;34m[\u001b[0m\u001b[0;36m0\u001b[0m\u001b[0;34m]\u001b[0m\u001b[0;34m.\u001b[0m\u001b[0m__class__\u001b[0m\u001b[0;34m)\u001b[0m\u001b[0;34m(\u001b[0m\u001b[0;34m*\u001b[0m\u001b[0margs\u001b[0m\u001b[0;34m,\u001b[0m \u001b[0;34m**\u001b[0m\u001b[0mkw\u001b[0m\u001b[0;34m)\u001b[0m\u001b[0;34m\u001b[0m\u001b[0;34m\u001b[0m\u001b[0m\n\u001b[0m\u001b[1;32m    876\u001b[0m \u001b[0;34m\u001b[0m\u001b[0m\n\u001b[1;32m    877\u001b[0m     \u001b[0mfuncname\u001b[0m \u001b[0;34m=\u001b[0m \u001b[0mgetattr\u001b[0m\u001b[0;34m(\u001b[0m\u001b[0mfunc\u001b[0m\u001b[0;34m,\u001b[0m \u001b[0;34m'__name__'\u001b[0m\u001b[0;34m,\u001b[0m \u001b[0;34m'singledispatch function'\u001b[0m\u001b[0;34m)\u001b[0m\u001b[0;34m\u001b[0m\u001b[0;34m\u001b[0m\u001b[0m\n",
      "\u001b[0;32m/projects/crispy_shifty/envs/crispy/lib/python3.8/site-packages/pyrosetta/distributed/cluster/converters.py\u001b[0m in \u001b[0;36m_register_str\u001b[0;34m(obj)\u001b[0m\n\u001b[1;32m    273\u001b[0m             \u001b[0;31m# Ensure that all changes to tracked files are committed\u001b[0m\u001b[0;34m\u001b[0m\u001b[0;34m\u001b[0m\u001b[0;34m\u001b[0m\u001b[0m\n\u001b[1;32m    274\u001b[0m             \u001b[0;32mif\u001b[0m \u001b[0mrepo\u001b[0m\u001b[0;34m.\u001b[0m\u001b[0mis_dirty\u001b[0m\u001b[0;34m(\u001b[0m\u001b[0muntracked_files\u001b[0m\u001b[0;34m=\u001b[0m\u001b[0;32mTrue\u001b[0m\u001b[0;34m)\u001b[0m\u001b[0;34m:\u001b[0m\u001b[0;34m\u001b[0m\u001b[0;34m\u001b[0m\u001b[0m\n\u001b[0;32m--> 275\u001b[0;31m                 raise git.InvalidGitRepositoryError(\n\u001b[0m\u001b[1;32m    276\u001b[0m                     \u001b[0;34m\"The working directory is dirty! \"\u001b[0m\u001b[0;34m\u001b[0m\u001b[0;34m\u001b[0m\u001b[0m\n\u001b[1;32m    277\u001b[0m                     \u001b[0;34m+\u001b[0m \u001b[0;34m\"Commit local changes to ensure reproducibility.\"\u001b[0m\u001b[0;34m\u001b[0m\u001b[0;34m\u001b[0m\u001b[0m\n",
      "\u001b[0;31mInvalidGitRepositoryError\u001b[0m: The working directory is dirty! Commit local changes to ensure reproducibility."
     ]
    }
   ],
   "source": [
    "sys.path.insert(0, \"/home/broerman/crispy_shifty\")\n",
    "from crispy_shifty.utils.io import gen_array_tasks\n",
    "\n",
    "simulation_name = \"01_prep_inputs\"\n",
    "design_list_file = \"/home/broerman/crispy_shifty/projects/OPS/00_scaffold_sets/inputs.list\"\n",
    "output_path = os.path.join(\"/home/broerman/crispy_shifty/projects/OPS/\", f\"{simulation_name}\")\n",
    "\n",
    "options = \" \".join(\n",
    "    [\n",
    "        \"out:level 200\",\n",
    "        \"corrections:beta_nov16 true\",\n",
    "        \"holes:dalphaball /software/rosetta/DAlphaBall.gcc\",\n",
    "        \"run:preserve_header true\" # for \"Tomponents\"\n",
    "    ]\n",
    ")\n",
    "extra_kwargs = {\n",
    "    \"metadata_csv\": \"/home/broerman/crispy_shifty/projects/OPS/00_scaffold_sets/metadata.csv\",\n",
    "    \"chains_to_keep\": \"12\",\n",
    "    \"num_ss_per_repeat\": \"2\",\n",
    "    \"fixed_resis\": \"distribute\"\n",
    "}\n",
    "\n",
    "gen_array_tasks(\n",
    "    distribute_func=\"crispy_shifty.protocols.cleaning.add_metadata_to_input\",\n",
    "    design_list_file=design_list_file,\n",
    "    output_path=output_path,\n",
    "    queue=\"short\",\n",
    "    memory=\"2G\",\n",
    "    nstruct=1,\n",
    "    nstruct_per_task=1,\n",
    "    options=options,\n",
    "    extra_kwargs=extra_kwargs,\n",
    "    simulation_name=simulation_name,\n",
    ")"
   ]
  },
  {
   "cell_type": "markdown",
   "metadata": {},
   "source": [
    "### Collect scorefiles of the prepped input scaffolds"
   ]
  },
  {
   "cell_type": "code",
   "execution_count": 8,
   "metadata": {
    "scrolled": true,
    "tags": []
   },
   "outputs": [],
   "source": [
    "sys.path.insert(0, \"/home/broerman/crispy_shifty\")\n",
    "from crispy_shifty.utils.io import collect_score_file\n",
    "\n",
    "simulation_name = \"01_prep_inputs\"\n",
    "output_path = os.path.join(\"/home/broerman/crispy_shifty/projects/OPS/\", f\"{simulation_name}\")\n",
    "\n",
    "if not os.path.exists(os.path.join(output_path, \"scores.json\")):\n",
    "    collect_score_file(output_path, \"scores\")"
   ]
  },
  {
   "cell_type": "markdown",
   "metadata": {},
   "source": [
    "### Load resulting concatenated scorefile"
   ]
  },
  {
   "cell_type": "code",
   "execution_count": 9,
   "metadata": {
    "scrolled": true,
    "tags": []
   },
   "outputs": [
    {
     "data": {
      "application/vnd.jupyter.widget-view+json": {
       "model_id": "3a5261701eee42d89e6caaaffd0e3e30",
       "version_major": 2,
       "version_minor": 0
      },
      "text/plain": [
       "  0%|          | 0/34 [00:00<?, ?it/s]"
      ]
     },
     "metadata": {},
     "output_type": "display_data"
    }
   ],
   "source": [
    "sys.path.insert(0, \"/home/broerman/crispy_shifty\")\n",
    "from crispy_shifty.utils.io import parse_scorefile_linear\n",
    "\n",
    "output_path = os.path.join(\"/home/broerman/crispy_shifty/projects/OPS/\", f\"{simulation_name}\")\n",
    "\n",
    "if not os.path.exists(os.path.join(output_path, \"scores.csv\")):\n",
    "    scores_df = parse_scorefile_linear(os.path.join(output_path, \"scores.json\"))"
   ]
  },
  {
   "cell_type": "markdown",
   "metadata": {},
   "source": [
    "### Dump scores_df as a CSV and then reload, for performance reasons"
   ]
  },
  {
   "cell_type": "code",
   "execution_count": 10,
   "metadata": {},
   "outputs": [],
   "source": [
    "if not os.path.exists(os.path.join(output_path, \"scores.csv\")):\n",
    "    scores_df.to_csv(os.path.join(output_path, \"scores.csv\"))\n",
    "\n",
    "scores_df = pd.read_csv(os.path.join(output_path, \"scores.csv\"), index_col=\"Unnamed: 0\")"
   ]
  },
  {
   "cell_type": "markdown",
   "metadata": {},
   "source": [
    "### Save a list of outputs"
   ]
  },
  {
   "cell_type": "code",
   "execution_count": 11,
   "metadata": {},
   "outputs": [],
   "source": [
    "with open(\n",
    "    \"01_prep_inputs/prepped_inputs.list\", \"w\"\n",
    ") as f:\n",
    "    for path in scores_df.index:\n",
    "        print(path, file=f)"
   ]
  },
  {
   "cell_type": "code",
   "execution_count": 15,
   "metadata": {},
   "outputs": [
    {
     "name": "stdout",
     "output_type": "stream",
     "text": [
      "select sl_S2_06, 01_prep_inputs_6502abb5dc7a4e5fa37a4727a2f46254 and resid 6+14+15+18+49+57+58+61+92+100+101+104+135+143+144+147;\n",
      "select KW_b1_07_repeat, 01_prep_inputs_d5050856607840828f7cf8499f8a7daa and resid 1+2+5+9+13+16+43+44+47+51+55+58+85+86+89+93+97+100+127+128+131+135+139+142;\n",
      "select s8_LRT6, 01_prep_inputs_dfb593e567524924b446e02f4bf0718e and resid 10+14+15+18+19+53+57+58+61+62+96+100+101+104+105+139+143+144+147+148+182+186+187+190+191+225+229+230+233+234;\n",
      "select KW_b1_11_DY, 01_prep_inputs_8467fc2f59f2466f84a944cc741f888c and resid 6+10+14+48+52+56+90+94+98+132+136+140;\n",
      "select R6_04, 01_prep_inputs_6b538cd212394dd098a4847af6b4f864 and resid 7+11+14+18+52+56+59+63+97+101+104+108+142+146+149+153+187+191+194+198+232+236+239+243;\n",
      "select R6ST3, 01_prep_inputs_8f4cffc51181488cba665c6b56b48dc1 and resid 10+14+18+19+53+57+61+62+96+100+104+105+139+143+147+148+182+186+190+191+225+229+233+234;\n",
      "select R6M4, 01_prep_inputs_515773ce8d6143e5987629d0f3b29caf and resid 7+11+14+18+52+56+59+63+97+101+104+108+142+146+149+153+187+191+194+198+232+236+239+243;\n",
      "select KWH1_chainA_01, 01_prep_inputs_0a44ed12b4d5417a9ab2a8066a4196f1 and resid 27+28+31+34+35+38+71+72+75+78+79+82+115+116+119+122+123+126+159+160+163+166+167+170;\n",
      "select DLPx6_PDL_0_4_5, 01_prep_inputs_a708f74466254d7fb94bbe9131b3ffcb and resid 1+6+9+12+13+40+41+44+49+52+55+56+83+84+87+92+95+98+99+126+127+130+135+138+141+142+169+170+173+178+181+184+185+212+213+216+221+224+227+228+255+256+259+264+267+270+271;\n",
      "select R6_PO11, 01_prep_inputs_3cceb4ab65ea449cbba89b8defb17a68 and resid 8+9+11+12+15+19+55+56+58+59+62+66+102+103+105+106+109+113+149+150+152+153+156+160+196+197+199+200+203+207+243+244+246+247+250+254;\n",
      "select PF04_PDR, 01_prep_inputs_a67fe3fda93f460bb1f67a24743773da and resid 5+8+9+12+36+39+40+43+67+70+71+74+98+101+102+105+129+132+133+136+160+163+164+167;\n",
      "select s25, 01_prep_inputs_e67eb3fae6f849cab8a003f75b295c2f and resid 6+7+10+11+15+19+53+54+57+58+62+66+100+101+104+105+109+113+147+148+151+152+156+160+194+195+198+199+203+207+241+242+245+246+250+254;\n",
      "select s23, 01_prep_inputs_18012f7519554104a0ec8ad9422d3047 and resid 35+36+39+42+43+86+87+90+93+94+137+138+141+144+145+188+189+192+195+196+239+240+243+246+247+290+291+294+297+298;\n",
      "select s93, 01_prep_inputs_8720a3e359b445089888cb32a2dede59 and resid 3+6+7+10+11+15+19+50+53+54+57+58+62+66+97+100+101+104+105+109+113+144+147+148+151+152+156+160+191+194+195+198+199+203+207+238+241+242+245+246+250+254;\n",
      "select PF01_PSR, 01_prep_inputs_03d05e02914b4b24b7124f66b199f583 and resid 8+39+70+101+132+163;\n",
      "select R6_02, 01_prep_inputs_af110263fcb94d05bd21f292ba691a12 and resid 6+7+10+11+15+19+53+54+57+58+62+66+100+101+104+105+109+113+147+148+151+152+156+160+194+195+198+199+203+207+241+242+245+246+250+254;\n",
      "select sl_S2_08, 01_prep_inputs_6e4e5b398bc74ebbbca1be26974f160f and resid 10+14+15+18+19+53+57+58+61+62+96+100+101+104+105+139+143+144+147+148+182+186+187+190+191+225+229+230+233+234;\n",
      "select PF01_PSR, 01_prep_inputs_6024aba5beb1440290e7e160f63e8384 and resid 5+9+12+36+40+43+67+71+74+98+102+105+129+133+136+160+164+167;\n",
      "select R6PEP12_model00, 01_prep_inputs_905fdd87d23f4139b7dae7efc74ea3f7 and resid 35+36+39+43+86+87+90+94+137+138+141+145+188+189+192+196+239+240+243+247+290+291+294+298;\n",
      "select R6_n11, 01_prep_inputs_e09395fd189a490780b17aff219b60fa and resid 5+20+22+60+75+77+115+130+132+170+185+187+225+240+242+280+295+297;\n",
      "select R6_n6, 01_prep_inputs_8d7ccd73ea344ec7b3d5a65f96cf6b69 and resid 11+14+15+18+19+54+57+58+61+62+97+100+101+104+105+140+143+144+147+148+183+186+187+190+191+226+229+230+233+234;\n",
      "select PF06_PRQ, 01_prep_inputs_9dca02e5d7384029b2927af903902291 and resid 2+5+6+10+13+14+43+46+47+51+54+55+84+87+88+92+95+96+125+128+129+133+136+137+166+169+170+174+177+178+207+210+211+215+218+219;\n",
      "select R6ST3, 01_prep_inputs_067d2136c105433487668ace8c8affe8 and resid 11+15+17+54+58+60+97+101+103+140+144+146+183+187+189+226+230+232;\n",
      "select R6_n6, 01_prep_inputs_d1c759f78cd3481191b0b3c339c8be2c and resid 17+60+103+146+189+232;\n",
      "select PF06_PRQ, 01_prep_inputs_dbccb50831a54f87aa121e3f6e67ffce and resid 9+50+91+132+173+214;\n",
      "select P09_2_strand, 01_prep_inputs_0d3c8f01ab29483c92fa7ee9322ae309 and resid 43+46+50+98+101+105+153+156+160+208+211+215;\n",
      "select KW_b1_11_DY, 01_prep_inputs_cbec408282fa4845bd78a6023f0a1e03 and resid 3+7+11+18+45+49+53+60+87+91+95+102+129+133+137+144;\n",
      "select KW_b1_07_repeat, 01_prep_inputs_702bfa6bd05d4d02ac7f83e9d5801f6f and resid 12+54+96+138;\n",
      "select R6_n11, 01_prep_inputs_961513a351514be39e83b823007fac0b and resid 8+12+15+16+19+63+67+70+71+74+118+122+125+126+129+173+177+180+181+184+228+232+235+236+239+283+287+290+291+294;\n",
      "select R6CP33_m1, 01_prep_inputs_6fadeeb2bf1f4d7ea0f4d8d5faa539bc and resid 6+7+10+11+13+14+51+52+55+56+58+59+96+97+100+101+103+104+141+142+145+146+148+149+186+187+190+191+193+194+231+232+235+236+238+239;\n",
      "select RRN_s202, 01_prep_inputs_31c5bca4ed564a70bf0e09493bbf97f0 and resid 6+7+10+11+14+15+18+49+50+53+54+57+58+61+92+93+96+97+100+101+104+135+136+139+140+143+144+147;\n",
      "select s23, 01_prep_inputs_817c04aec14f4274a4557a2c4e50aa75 and resid 32+46+83+97+134+148+185+199+236+250+287+301;\n",
      "select R6PXX13, 01_prep_inputs_2706b93b9eee40c1aa06199847415bc0 and resid 3+6+11+14+46+49+54+57+89+92+97+100+132+135+140+143+175+178+183+186+218+221+226+229;\n",
      "select s59, 01_prep_inputs_a63a28479d59471aa23fcebf61a1d88b and resid 6+7+10+11+15+19+53+54+57+58+62+66+100+101+104+105+109+113+147+148+151+152+156+160+194+195+198+199+203+207+241+242+245+246+250+254;\n"
     ]
    }
   ],
   "source": [
    "# check fixed resis in pymol\n",
    "for index, row in scores_df.iterrows():\n",
    "    name = index.split('/')[-1].split('.')[0]\n",
    "    print(f\"select {row['pdb'].split('/')[-1].split('.')[0]}, {name} and resid {'+'.join(row['fixed_resis'].split(','))};\")"
   ]
  }
 ],
 "metadata": {
  "kernelspec": {
   "display_name": "crispy (3.8.12)",
   "language": "python",
   "name": "crispy"
  },
  "language_info": {
   "codemirror_mode": {
    "name": "ipython",
    "version": 3
   },
   "file_extension": ".py",
   "mimetype": "text/x-python",
   "name": "python",
   "nbconvert_exporter": "python",
   "pygments_lexer": "ipython3",
   "version": "3.8.12"
  }
 },
 "nbformat": 4,
 "nbformat_minor": 4
}
