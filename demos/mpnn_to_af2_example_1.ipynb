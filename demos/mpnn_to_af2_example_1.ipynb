{
 "cells": [
  {
   "cell_type": "markdown",
   "id": "d1c5d5c7",
   "metadata": {},
   "source": [
    "# Example 1: Naive MPNN redesign of some DHRs into AF2\n",
    "Variables in ALL_CAPS are the ones you should change"
   ]
  },
  {
   "cell_type": "markdown",
   "id": "9aaab957",
   "metadata": {},
   "source": [
    "### Imports"
   ]
  },
  {
   "cell_type": "code",
   "execution_count": 1,
   "id": "1864cdae",
   "metadata": {},
   "outputs": [
    {
     "name": "stdout",
     "output_type": "stream",
     "text": [
      "running in directory: /mnt/projects/crispy_shifty/demos\n",
      "running on node: dig36\n"
     ]
    }
   ],
   "source": [
    "%load_ext lab_black\n",
    "# Python standard library\n",
    "from glob import glob\n",
    "import os\n",
    "import socket\n",
    "import sys\n",
    "\n",
    "# 3rd party library imports\n",
    "import dask\n",
    "import matplotlib.pyplot as plt\n",
    "import pandas as pd\n",
    "import pyrosetta\n",
    "import numpy as np\n",
    "import scipy\n",
    "import seaborn as sns\n",
    "from tqdm.auto import tqdm  # jupyter compatible progress bar\n",
    "\n",
    "tqdm.pandas()  # link tqdm to pandas\n",
    "# Notebook magic\n",
    "# save plots in the notebook\n",
    "%matplotlib inline\n",
    "# reloads modules automatically before executing cells\n",
    "%load_ext autoreload\n",
    "%autoreload 2\n",
    "print(f\"running in directory: {os.getcwd()}\")  # where are we?\n",
    "print(f\"running on node: {socket.gethostname()}\")  # what node are we on?"
   ]
  },
  {
   "cell_type": "markdown",
   "id": "97451069",
   "metadata": {},
   "source": [
    "### Set working directory to the root of the crispy_shifty repo\n",
    "**Change this to wherever you cloned it**"
   ]
  },
  {
   "cell_type": "code",
   "execution_count": 2,
   "id": "705d1420",
   "metadata": {},
   "outputs": [],
   "source": [
    "WORKING_DIRECTORY = \"/projects/crispy_shifty\"\n",
    "\n",
    "os.chdir(WORKING_DIRECTORY)\n",
    "\n",
    "sys.path.insert(0, \"/projects/crispy_shifty\")"
   ]
  },
  {
   "cell_type": "markdown",
   "id": "a163a066",
   "metadata": {},
   "source": [
    "### Prep a list of designs\n",
    "To do this, you'll need a list with the fullpath of your designs, one per line.\n",
    "Here's how to do it with python, you could also `cd <dir full of your designs> ; realpath *.pdb > designs.list` or some such"
   ]
  },
  {
   "cell_type": "code",
   "execution_count": 3,
   "id": "8ba28bfd",
   "metadata": {},
   "outputs": [],
   "source": [
    "import shutil\n",
    "\n",
    "# we'll use TJ's DHRs for this demo, change this to the location of your designs\n",
    "INPUT_PATH = os.path.join(os.getcwd(), \"demos/mpnn_to_af2_example_1/inputs\")\n",
    "os.makedirs(INPUT_PATH, exist_ok=True)\n",
    "# we'll use a directory in demos for our output, you should change this too\n",
    "OUTPUT_PATH = os.path.join(os.getcwd(), \"demos/mpnn_to_af2_example_1/outputs\")\n",
    "os.makedirs(OUTPUT_PATH, exist_ok=True)\n",
    "# copy over the example inputs if they aren't there already\n",
    "pdbs = os.listdir(INPUT_PATH)\n",
    "if len(pdbs) == 0:\n",
    "    for file in glob(\n",
    "        \"/projects/crispy_shifty/demos/mpnn_to_af2_example_1/inputs/DHR*.pdb\"\n",
    "    ):\n",
    "        shutil.copy(file, INPUT_PATH)\n",
    "else:\n",
    "    pass\n",
    "inputs_list = os.path.join(INPUT_PATH, \"inputs.list\")\n",
    "# 'with open' statement is a context manager, when we exit the with statement,\n",
    "# the file is closed, preventing filesystem errors\n",
    "with open(inputs_list, \"w\") as f:\n",
    "    for pdb in glob(os.path.join(INPUT_PATH, \"DHR*.pdb\")):\n",
    "        print(pdb, file=f)"
   ]
  },
  {
   "cell_type": "markdown",
   "id": "4e2a5ccd",
   "metadata": {},
   "source": [
    "### Run MPNN to naively redesign entire DHRs\n",
    "We'll make array tasks since that is easiest, if you need to profile your code or want better analytics, you should use the `dask` stack, just be aware that it can only scale up to around 20k CPU hours or so on the digs"
   ]
  },
  {
   "cell_type": "code",
   "execution_count": 4,
   "id": "ca490601",
   "metadata": {},
   "outputs": [
    {
     "name": "stderr",
     "output_type": "stream",
     "text": [
      "/projects/crispy_shifty/envs/crispy/lib/python3.8/site-packages/dask_jobqueue/core.py:20: FutureWarning: tmpfile is deprecated and will be removed in a future release. Please use dask.utils.tmpfile instead.\n",
      "  from distributed.utils import tmpfile\n"
     ]
    },
    {
     "name": "stdout",
     "output_type": "stream",
     "text": [
      "Run the following command with your desired environment active:\n",
      "sbatch -a 1-2 /mnt/projects/crispy_shifty/demos/mpnn_to_af2_example_1/outputs/run.sh\n"
     ]
    }
   ],
   "source": [
    "# since we set the working dir to the root of the repo, python knows where to load this\n",
    "from crispy_shifty.utils.io import gen_array_tasks\n",
    "\n",
    "SIMULATION_NAME = \"mpnn_dhr\"  # change this to whatever you want\n",
    "design_list_file = inputs_list  # the file we just made\n",
    "\n",
    "# this is the relative path from the root of the repo to .py file\n",
    "# `crispy_shifty/protocols/demos.py` and `mpnn_dhr` is the function in the file\n",
    "DISTRIBUTE_FUNC = \"crispy_shifty.protocols.demos.mpnn_dhr\"\n",
    "\n",
    "# pyrosetta init options\n",
    "OPTIONS = \" \".join(\n",
    "    [\n",
    "        \"out:level 200\",  # warnings and errors only, normal output is 300\n",
    "    ]\n",
    ")\n",
    "# options for controlling function behavior\n",
    "EXTRA_OPTIONS = {\n",
    "    \"num_sequences\": \"48\",  # should be a multiple of 8\n",
    "}\n",
    "\n",
    "QUEUE = \"medium\"  # change if needed\n",
    "MEMORY = \"4G\"  # change if needed\n",
    "SHA1 = (\n",
    "    None  # change this to \"\" when you are ready to do a production run in your branch\n",
    ")\n",
    "# if SHA1 is not None, save the notebook and `git commit -am \"SOME MESSAGE\"` ;\n",
    "# then `git push; sleep 15` in your branch before running this cell\n",
    "\n",
    "gen_array_tasks(\n",
    "    distribute_func=DISTRIBUTE_FUNC,\n",
    "    design_list_file=design_list_file,\n",
    "    output_path=OUTPUT_PATH,  # the output dir we just made\n",
    "    queue=QUEUE,\n",
    "    memory=MEMORY,\n",
    "    nstruct=1,\n",
    "    nstruct_per_task=1,\n",
    "    options=OPTIONS,\n",
    "    extra_kwargs=EXTRA_OPTIONS,\n",
    "    sha1=SHA1,\n",
    "    simulation_name=SIMULATION_NAME,\n",
    ")"
   ]
  },
  {
   "cell_type": "code",
   "execution_count": 5,
   "id": "3e104187",
   "metadata": {},
   "outputs": [
    {
     "name": "stdout",
     "output_type": "stream",
     "text": [
      "Submitted batch job 24626055\n"
     ]
    }
   ],
   "source": [
    "!sbatch -a 1-2 /mnt/projects/crispy_shifty/demos/mpnn_to_af2_example_1/outputs/run.sh"
   ]
  },
  {
   "cell_type": "markdown",
   "id": "2d8d0765",
   "metadata": {},
   "source": [
    "### Collect scorefiles of designed dhrs and concatenate\n",
    "**Change this to wherever you cloned it**"
   ]
  },
  {
   "cell_type": "code",
   "execution_count": 6,
   "id": "9ecc6d79",
   "metadata": {
    "scrolled": true,
    "tags": []
   },
   "outputs": [],
   "source": [
    "CLONE_LOC = \"/projects/crispy_shifty\"\n",
    "sys.path.insert(0, CLONE_LOC)\n",
    "from crispy_shifty.utils.io import collect_score_file\n",
    "\n",
    "simulation_name = SIMULATION_NAME\n",
    "output_path = OUTPUT_PATH\n",
    "\n",
    "if not os.path.exists(os.path.join(output_path, \"scores.json\")):\n",
    "    collect_score_file(output_path, \"scores\")"
   ]
  },
  {
   "cell_type": "markdown",
   "id": "071c1aec",
   "metadata": {},
   "source": [
    "### Load resulting concatenated scorefile"
   ]
  },
  {
   "cell_type": "code",
   "execution_count": 7,
   "id": "74c1e28a",
   "metadata": {
    "scrolled": true,
    "tags": []
   },
   "outputs": [
    {
     "data": {
      "application/vnd.jupyter.widget-view+json": {
       "model_id": "13fa9dcc9d0840e8903c7fb6411e74d6",
       "version_major": 2,
       "version_minor": 0
      },
      "text/plain": [
       "  0%|          | 0/2 [00:00<?, ?it/s]"
      ]
     },
     "metadata": {},
     "output_type": "display_data"
    }
   ],
   "source": [
    "from crispy_shifty.utils.io import parse_scorefile_linear\n",
    "\n",
    "output_path = OUTPUT_PATH\n",
    "\n",
    "scores_df = parse_scorefile_linear(os.path.join(output_path, \"scores.json\"))\n",
    "scores_df = scores_df.convert_dtypes()"
   ]
  },
  {
   "cell_type": "markdown",
   "id": "ba3be7a8",
   "metadata": {},
   "source": [
    "### Data exploration\n",
    "As we can see, the sequences were added to the decoy scores"
   ]
  },
  {
   "cell_type": "code",
   "execution_count": 8,
   "id": "e0bb0364",
   "metadata": {},
   "outputs": [
    {
     "data": {
      "text/html": [
       "<div>\n",
       "<style scoped>\n",
       "    .dataframe tbody tr th:only-of-type {\n",
       "        vertical-align: middle;\n",
       "    }\n",
       "\n",
       "    .dataframe tbody tr th {\n",
       "        vertical-align: top;\n",
       "    }\n",
       "\n",
       "    .dataframe thead th {\n",
       "        text-align: right;\n",
       "    }\n",
       "</style>\n",
       "<table border=\"1\" class=\"dataframe\">\n",
       "  <thead>\n",
       "    <tr style=\"text-align: right;\">\n",
       "      <th></th>\n",
       "      <th>mpnn_seq_0000</th>\n",
       "      <th>mpnn_seq_0001</th>\n",
       "      <th>mpnn_seq_0002</th>\n",
       "      <th>mpnn_seq_0003</th>\n",
       "      <th>mpnn_seq_0004</th>\n",
       "      <th>mpnn_seq_0005</th>\n",
       "      <th>mpnn_seq_0006</th>\n",
       "      <th>mpnn_seq_0007</th>\n",
       "      <th>mpnn_seq_0008</th>\n",
       "      <th>mpnn_seq_0009</th>\n",
       "      <th>...</th>\n",
       "      <th>mpnn_seq_0040</th>\n",
       "      <th>mpnn_seq_0041</th>\n",
       "      <th>mpnn_seq_0042</th>\n",
       "      <th>mpnn_seq_0043</th>\n",
       "      <th>mpnn_seq_0044</th>\n",
       "      <th>mpnn_seq_0045</th>\n",
       "      <th>mpnn_seq_0046</th>\n",
       "      <th>mpnn_seq_0047</th>\n",
       "      <th>mpnn_seq_0048</th>\n",
       "      <th>path_in</th>\n",
       "    </tr>\n",
       "  </thead>\n",
       "  <tbody>\n",
       "    <tr>\n",
       "      <th>/mnt/projects/crispy_shifty/demos/mpnn_to_af2_example_1/outputs/decoys/0000/mpnn_dhr_9a37f03526824c1089959cd6a702314f.pdb.bz2</th>\n",
       "      <td>DEEVQEAVERAEELREEAEELIKKARKTGDPELLRKALEALEEAVR...</td>\n",
       "      <td>EEEARRRVEEAKERRRRAERLRREAKRTGDPRLLREAGRELREAIR...</td>\n",
       "      <td>SERVKRRVEEAKRLKEKAERLVKEAERTGDPRLLREARRELEKAVR...</td>\n",
       "      <td>SSEVRRRVEEAEELRRRAERLVREAERTGDPRLLREAREALREGIR...</td>\n",
       "      <td>SAAVTRAVTEARRLRARAEELIREARRTGSPELLREAQEALRVGIR...</td>\n",
       "      <td>REEVRRRVREAERLRERARRLVEEAERRGDVELLKEARRALRVAVE...</td>\n",
       "      <td>SEEVRRRVRKARELLREAERLVEEARKTGDPELLKKAREALNRGIE...</td>\n",
       "      <td>EEEVRRRVREARERRRRAERLIEEAKRTGDARLLREARKELERGIE...</td>\n",
       "      <td>SEAVRRAVREAKRLRERAERLVREARRTGDPRLLREAREALREAIE...</td>\n",
       "      <td>EEEVRKRVEEAEERKRRAERLIREARRTGDPELLREAKRELKRAIE...</td>\n",
       "      <td>...</td>\n",
       "      <td>SAEVDRRVREARRRRERAERLIERARETGDPELLREARRELDEGIR...</td>\n",
       "      <td>REEVRRRVETAKELRRRAEELIKRARKEGDPELLKTAREALRRGIR...</td>\n",
       "      <td>SEEVERAVEEAERLREEAERLVEEAERTGDVRLLERAEEALRRAIR...</td>\n",
       "      <td>SAEVDRRVTRAEELRARAERLVKEARRKGDPRLLKQAQEALDVGVR...</td>\n",
       "      <td>REEVRRRVREARERRRRAERLVEEAKRTGDPRLLKEAREELRVGVR...</td>\n",
       "      <td>SEEVRRRVEEARRLERRAEELIRRAKEEGDEELLKEARDALEKAIE...</td>\n",
       "      <td>SAEARRRVEEAKRLRREAERLIERGEERGDPDLLKEARDALDEAIR...</td>\n",
       "      <td>SAEVTRAVEEAERLRRRAERLVEEARRTGDPELLEEARRELDRGIR...</td>\n",
       "      <td>SEEVRRRVEEAKELYREAERLIEEARKTGDPELLKEAVEALKRGVE...</td>\n",
       "      <td>/mnt/projects/crispy_shifty/demos/mpnn_to_af2_...</td>\n",
       "    </tr>\n",
       "    <tr>\n",
       "      <th>/mnt/projects/crispy_shifty/demos/mpnn_to_af2_example_1/outputs/decoys/0000/mpnn_dhr_b63133c4900e4891b27a361d064ba115.pdb.bz2</th>\n",
       "      <td>NDEKRKRAEKALQRAQEAEKKGDVEEAVRAAQEAVRAAKESGDNDV...</td>\n",
       "      <td>SEELRREARRAMEEARRAMERGDVRRAVRALERAVRAAGKAGSKEL...</td>\n",
       "      <td>GERLREEARRAMDEADRALRRGDVGRAVRALERAVRAAGLAGSRDL...</td>\n",
       "      <td>SEELRREAERAMEEAERALREGDVRRAVEALRRAVRAAGEAGDRDL...</td>\n",
       "      <td>AERLEEEARRAMREAREALRRGDVRRAVRALRRAVRAAGLAGRRDL...</td>\n",
       "      <td>SEELRREARRAMEEARRALKRGDVRRAVEALRRAVEAAGLAGSRDL...</td>\n",
       "      <td>GEELRREAERAMREARRALEKGDVRRAVRALERAVRAAGLAGSRDL...</td>\n",
       "      <td>GAELRRRARRAMEEAREALREGDVGRAVRAMEEAVRAAGLAGSRDL...</td>\n",
       "      <td>SEELRREAREAMREAERALEEGDVRRAVEALRRAVRAAGEAGSRDL...</td>\n",
       "      <td>GERLLEEARRAMEEAERALRRGDVRRAVRALERAVRAAGLAGSREL...</td>\n",
       "      <td>...</td>\n",
       "      <td>GEELRREAREAMREAEEALREGDVRRAVEALERAVRAAGLAGDRAL...</td>\n",
       "      <td>GEELRREARRAMEEARRALKKGDVRRAVEALRRAVRAAGEAGDRDL...</td>\n",
       "      <td>GEELRREAREAMERARRALERGDVREAVRALERAVRAAGLAGSRDL...</td>\n",
       "      <td>GEELEREAREAMREAERALDRGDVREAVRALERAVEAAGRAGRRDL...</td>\n",
       "      <td>GRELREEARRAMERAEEALKEGDVKTAVEAAKRAVEAAGLAGDKEL...</td>\n",
       "      <td>SEELRREARRAMEEAERALERGDVRRAVRELERAVRAAGLAGSREL...</td>\n",
       "      <td>GEELRRRAREAMERARRALDRGDVREAVRALREAVRAAGLAGSRDL...</td>\n",
       "      <td>GERLREEARRAMERAREALKKGDVKKAVEALKRAVKAAGEAGDKEL...</td>\n",
       "      <td>SEELRREAREAMREARRALERGDVRRAVEALERAVDAAALAGDRAL...</td>\n",
       "      <td>/mnt/projects/crispy_shifty/demos/mpnn_to_af2_...</td>\n",
       "    </tr>\n",
       "  </tbody>\n",
       "</table>\n",
       "<p>2 rows × 50 columns</p>\n",
       "</div>"
      ],
      "text/plain": [
       "                                                                                        mpnn_seq_0000  \\\n",
       "/mnt/projects/crispy_shifty/demos/mpnn_to_af2_e...  DEEVQEAVERAEELREEAEELIKKARKTGDPELLRKALEALEEAVR...   \n",
       "/mnt/projects/crispy_shifty/demos/mpnn_to_af2_e...  NDEKRKRAEKALQRAQEAEKKGDVEEAVRAAQEAVRAAKESGDNDV...   \n",
       "\n",
       "                                                                                        mpnn_seq_0001  \\\n",
       "/mnt/projects/crispy_shifty/demos/mpnn_to_af2_e...  EEEARRRVEEAKERRRRAERLRREAKRTGDPRLLREAGRELREAIR...   \n",
       "/mnt/projects/crispy_shifty/demos/mpnn_to_af2_e...  SEELRREARRAMEEARRAMERGDVRRAVRALERAVRAAGKAGSKEL...   \n",
       "\n",
       "                                                                                        mpnn_seq_0002  \\\n",
       "/mnt/projects/crispy_shifty/demos/mpnn_to_af2_e...  SERVKRRVEEAKRLKEKAERLVKEAERTGDPRLLREARRELEKAVR...   \n",
       "/mnt/projects/crispy_shifty/demos/mpnn_to_af2_e...  GERLREEARRAMDEADRALRRGDVGRAVRALERAVRAAGLAGSRDL...   \n",
       "\n",
       "                                                                                        mpnn_seq_0003  \\\n",
       "/mnt/projects/crispy_shifty/demos/mpnn_to_af2_e...  SSEVRRRVEEAEELRRRAERLVREAERTGDPRLLREAREALREGIR...   \n",
       "/mnt/projects/crispy_shifty/demos/mpnn_to_af2_e...  SEELRREAERAMEEAERALREGDVRRAVEALRRAVRAAGEAGDRDL...   \n",
       "\n",
       "                                                                                        mpnn_seq_0004  \\\n",
       "/mnt/projects/crispy_shifty/demos/mpnn_to_af2_e...  SAAVTRAVTEARRLRARAEELIREARRTGSPELLREAQEALRVGIR...   \n",
       "/mnt/projects/crispy_shifty/demos/mpnn_to_af2_e...  AERLEEEARRAMREAREALRRGDVRRAVRALRRAVRAAGLAGRRDL...   \n",
       "\n",
       "                                                                                        mpnn_seq_0005  \\\n",
       "/mnt/projects/crispy_shifty/demos/mpnn_to_af2_e...  REEVRRRVREAERLRERARRLVEEAERRGDVELLKEARRALRVAVE...   \n",
       "/mnt/projects/crispy_shifty/demos/mpnn_to_af2_e...  SEELRREARRAMEEARRALKRGDVRRAVEALRRAVEAAGLAGSRDL...   \n",
       "\n",
       "                                                                                        mpnn_seq_0006  \\\n",
       "/mnt/projects/crispy_shifty/demos/mpnn_to_af2_e...  SEEVRRRVRKARELLREAERLVEEARKTGDPELLKKAREALNRGIE...   \n",
       "/mnt/projects/crispy_shifty/demos/mpnn_to_af2_e...  GEELRREAERAMREARRALEKGDVRRAVRALERAVRAAGLAGSRDL...   \n",
       "\n",
       "                                                                                        mpnn_seq_0007  \\\n",
       "/mnt/projects/crispy_shifty/demos/mpnn_to_af2_e...  EEEVRRRVREARERRRRAERLIEEAKRTGDARLLREARKELERGIE...   \n",
       "/mnt/projects/crispy_shifty/demos/mpnn_to_af2_e...  GAELRRRARRAMEEAREALREGDVGRAVRAMEEAVRAAGLAGSRDL...   \n",
       "\n",
       "                                                                                        mpnn_seq_0008  \\\n",
       "/mnt/projects/crispy_shifty/demos/mpnn_to_af2_e...  SEAVRRAVREAKRLRERAERLVREARRTGDPRLLREAREALREAIE...   \n",
       "/mnt/projects/crispy_shifty/demos/mpnn_to_af2_e...  SEELRREAREAMREAERALEEGDVRRAVEALRRAVRAAGEAGSRDL...   \n",
       "\n",
       "                                                                                        mpnn_seq_0009  \\\n",
       "/mnt/projects/crispy_shifty/demos/mpnn_to_af2_e...  EEEVRKRVEEAEERKRRAERLIREARRTGDPELLREAKRELKRAIE...   \n",
       "/mnt/projects/crispy_shifty/demos/mpnn_to_af2_e...  GERLLEEARRAMEEAERALRRGDVRRAVRALERAVRAAGLAGSREL...   \n",
       "\n",
       "                                                    ...  \\\n",
       "/mnt/projects/crispy_shifty/demos/mpnn_to_af2_e...  ...   \n",
       "/mnt/projects/crispy_shifty/demos/mpnn_to_af2_e...  ...   \n",
       "\n",
       "                                                                                        mpnn_seq_0040  \\\n",
       "/mnt/projects/crispy_shifty/demos/mpnn_to_af2_e...  SAEVDRRVREARRRRERAERLIERARETGDPELLREARRELDEGIR...   \n",
       "/mnt/projects/crispy_shifty/demos/mpnn_to_af2_e...  GEELRREAREAMREAEEALREGDVRRAVEALERAVRAAGLAGDRAL...   \n",
       "\n",
       "                                                                                        mpnn_seq_0041  \\\n",
       "/mnt/projects/crispy_shifty/demos/mpnn_to_af2_e...  REEVRRRVETAKELRRRAEELIKRARKEGDPELLKTAREALRRGIR...   \n",
       "/mnt/projects/crispy_shifty/demos/mpnn_to_af2_e...  GEELRREARRAMEEARRALKKGDVRRAVEALRRAVRAAGEAGDRDL...   \n",
       "\n",
       "                                                                                        mpnn_seq_0042  \\\n",
       "/mnt/projects/crispy_shifty/demos/mpnn_to_af2_e...  SEEVERAVEEAERLREEAERLVEEAERTGDVRLLERAEEALRRAIR...   \n",
       "/mnt/projects/crispy_shifty/demos/mpnn_to_af2_e...  GEELRREAREAMERARRALERGDVREAVRALERAVRAAGLAGSRDL...   \n",
       "\n",
       "                                                                                        mpnn_seq_0043  \\\n",
       "/mnt/projects/crispy_shifty/demos/mpnn_to_af2_e...  SAEVDRRVTRAEELRARAERLVKEARRKGDPRLLKQAQEALDVGVR...   \n",
       "/mnt/projects/crispy_shifty/demos/mpnn_to_af2_e...  GEELEREAREAMREAERALDRGDVREAVRALERAVEAAGRAGRRDL...   \n",
       "\n",
       "                                                                                        mpnn_seq_0044  \\\n",
       "/mnt/projects/crispy_shifty/demos/mpnn_to_af2_e...  REEVRRRVREARERRRRAERLVEEAKRTGDPRLLKEAREELRVGVR...   \n",
       "/mnt/projects/crispy_shifty/demos/mpnn_to_af2_e...  GRELREEARRAMERAEEALKEGDVKTAVEAAKRAVEAAGLAGDKEL...   \n",
       "\n",
       "                                                                                        mpnn_seq_0045  \\\n",
       "/mnt/projects/crispy_shifty/demos/mpnn_to_af2_e...  SEEVRRRVEEARRLERRAEELIRRAKEEGDEELLKEARDALEKAIE...   \n",
       "/mnt/projects/crispy_shifty/demos/mpnn_to_af2_e...  SEELRREARRAMEEAERALERGDVRRAVRELERAVRAAGLAGSREL...   \n",
       "\n",
       "                                                                                        mpnn_seq_0046  \\\n",
       "/mnt/projects/crispy_shifty/demos/mpnn_to_af2_e...  SAEARRRVEEAKRLRREAERLIERGEERGDPDLLKEARDALDEAIR...   \n",
       "/mnt/projects/crispy_shifty/demos/mpnn_to_af2_e...  GEELRRRAREAMERARRALDRGDVREAVRALREAVRAAGLAGSRDL...   \n",
       "\n",
       "                                                                                        mpnn_seq_0047  \\\n",
       "/mnt/projects/crispy_shifty/demos/mpnn_to_af2_e...  SAEVTRAVEEAERLRRRAERLVEEARRTGDPELLEEARRELDRGIR...   \n",
       "/mnt/projects/crispy_shifty/demos/mpnn_to_af2_e...  GERLREEARRAMERAREALKKGDVKKAVEALKRAVKAAGEAGDKEL...   \n",
       "\n",
       "                                                                                        mpnn_seq_0048  \\\n",
       "/mnt/projects/crispy_shifty/demos/mpnn_to_af2_e...  SEEVRRRVEEAKELYREAERLIEEARKTGDPELLKEAVEALKRGVE...   \n",
       "/mnt/projects/crispy_shifty/demos/mpnn_to_af2_e...  SEELRREAREAMREARRALERGDVRRAVEALERAVDAAALAGDRAL...   \n",
       "\n",
       "                                                                                              path_in  \n",
       "/mnt/projects/crispy_shifty/demos/mpnn_to_af2_e...  /mnt/projects/crispy_shifty/demos/mpnn_to_af2_...  \n",
       "/mnt/projects/crispy_shifty/demos/mpnn_to_af2_e...  /mnt/projects/crispy_shifty/demos/mpnn_to_af2_...  \n",
       "\n",
       "[2 rows x 50 columns]"
      ]
     },
     "execution_count": 8,
     "metadata": {},
     "output_type": "execute_result"
    }
   ],
   "source": [
    "scores_df.head()"
   ]
  },
  {
   "cell_type": "markdown",
   "id": "52e1b44c",
   "metadata": {},
   "source": [
    "### Save individual fastas"
   ]
  },
  {
   "cell_type": "code",
   "execution_count": 9,
   "id": "57e428ff",
   "metadata": {
    "scrolled": true,
    "tags": []
   },
   "outputs": [
    {
     "data": {
      "application/vnd.jupyter.widget-view+json": {
       "model_id": "6362d84ca9a34c689cc8ad8982d38d5a",
       "version_major": 2,
       "version_minor": 0
      },
      "text/plain": [
       "  0%|          | 0/2 [00:00<?, ?it/s]"
      ]
     },
     "metadata": {},
     "output_type": "display_data"
    }
   ],
   "source": [
    "from crispy_shifty.utils.io import df_to_fastas\n",
    "\n",
    "output_path = OUTPUT_PATH\n",
    "\n",
    "scores_df = df_to_fastas(scores_df, prefix=\"mpnn_seq\")"
   ]
  },
  {
   "cell_type": "markdown",
   "id": "e3c7d1d6",
   "metadata": {},
   "source": [
    "### Save a list of outputs"
   ]
  },
  {
   "cell_type": "code",
   "execution_count": 10,
   "id": "6c29cf15",
   "metadata": {},
   "outputs": [
    {
     "data": {
      "application/vnd.jupyter.widget-view+json": {
       "model_id": "71c1e90f310749aaa5aa44b3128d6ab6",
       "version_major": 2,
       "version_minor": 0
      },
      "text/plain": [
       "  0%|          | 0/2 [00:00<?, ?it/s]"
      ]
     },
     "metadata": {},
     "output_type": "display_data"
    }
   ],
   "source": [
    "output_path = OUTPUT_PATH\n",
    "\n",
    "with open(os.path.join(output_path, \"mpnn_designed.list\"), \"w\") as f:\n",
    "    for path in tqdm(scores_df.index):\n",
    "        print(path, file=f)"
   ]
  },
  {
   "cell_type": "markdown",
   "id": "b1c2b046",
   "metadata": {},
   "source": [
    "### Concat the pdb.bz2 and fasta paths into a single list, for an AF2 run"
   ]
  },
  {
   "cell_type": "code",
   "execution_count": 11,
   "id": "20cf84b4",
   "metadata": {},
   "outputs": [
    {
     "data": {
      "application/vnd.jupyter.widget-view+json": {
       "model_id": "a35502fdd8c64b2399e36148e9cfac9c",
       "version_major": 2,
       "version_minor": 0
      },
      "text/plain": [
       "  0%|          | 0/2 [00:00<?, ?it/s]"
      ]
     },
     "metadata": {},
     "output_type": "display_data"
    }
   ],
   "source": [
    "output_path = OUTPUT_PATH\n",
    "\n",
    "with open(os.path.join(output_path, \"mpnn_designed.pair\"), \"w\") as f:\n",
    "    for path in tqdm(scores_df.index):\n",
    "        line = path + \"____\" + path.replace(\"decoys\", \"fastas\").replace(\"pdb.bz2\", \"fa\")\n",
    "        print(line, file=f)"
   ]
  },
  {
   "cell_type": "markdown",
   "id": "adf8dd84-6bd0-440f-9551-524c88678960",
   "metadata": {
    "tags": []
   },
   "source": [
    "### Run Superfold to fold the DHRs with redesigned sequences"
   ]
  },
  {
   "cell_type": "code",
   "execution_count": 12,
   "id": "e638ae21-3b0f-4713-a906-ae96b3b45db0",
   "metadata": {},
   "outputs": [
    {
     "name": "stdout",
     "output_type": "stream",
     "text": [
      "Run the following command with your desired environment active:\n",
      "sbatch -a 1-2 /mnt/projects/crispy_shifty/demos/mpnn_to_af2_example_1/folded/run.sh\n"
     ]
    }
   ],
   "source": [
    "# since we set the working dir to the root of the repo, python knows where to load this\n",
    "from crispy_shifty.utils.io import gen_array_tasks\n",
    "\n",
    "SIMULATION_NAME = \"fold_dhr\"  # change this to whatever you want\n",
    "design_list_file = os.path.join(\n",
    "    output_path, \"mpnn_designed.pair\"\n",
    ")  # the file we just made\n",
    "\n",
    "# this is the relative path from the root of the repo to .py file\n",
    "# `crispy_shifty/protocols/demos.py` and `fold_dhr` is the function in the file\n",
    "DISTRIBUTE_FUNC = \"crispy_shifty.protocols.demos.fold_dhr\"\n",
    "\n",
    "# we'll use a directory in demos for our output, you should change this too\n",
    "OUTPUT_PATH = os.path.join(os.getcwd(), \"demos/mpnn_to_af2_example_1/folded\")\n",
    "os.makedirs(OUTPUT_PATH, exist_ok=True)\n",
    "\n",
    "# pyrosetta init options\n",
    "OPTIONS = \" \".join(\n",
    "    [\n",
    "        \"out:level 200\",  # warnings and errors only, normal output is 300\n",
    "    ]\n",
    ")\n",
    "# options for controlling function behavior\n",
    "EXTRA_OPTIONS = {\"models\": \"all\"}  # could use just \"3\" for example\n",
    "\n",
    "QUEUE = \"gpu\"  # change if needed, could use medium instead for example\n",
    "MEMORY = \"6G\"  # change if needed\n",
    "GRES = \"--gres=gpu:rtx2080:1\"\n",
    "SHA1 = (\n",
    "    None  # change this to \"\" when you are ready to do a production run in your branch\n",
    ")\n",
    "# if SHA1 is not None, save the notebook and `git commit -am \"SOME MESSAGE\"` ;\n",
    "# then `git push; sleep 15` in your branch before running this cell\n",
    "\n",
    "gen_array_tasks(\n",
    "    distribute_func=DISTRIBUTE_FUNC,\n",
    "    design_list_file=design_list_file,\n",
    "    output_path=OUTPUT_PATH,  # the output dir we just made\n",
    "    queue=QUEUE,\n",
    "    memory=MEMORY,\n",
    "    gres=GRES,\n",
    "    nstruct=1,\n",
    "    nstruct_per_task=1,\n",
    "    options=OPTIONS,\n",
    "    extra_kwargs=EXTRA_OPTIONS,\n",
    "    sha1=SHA1,\n",
    "    simulation_name=SIMULATION_NAME,\n",
    ")"
   ]
  },
  {
   "cell_type": "code",
   "execution_count": 14,
   "id": "dfb05042-abdc-4ba8-9d65-ff57646bdd36",
   "metadata": {},
   "outputs": [
    {
     "name": "stdout",
     "output_type": "stream",
     "text": [
      "Submitted batch job 24596894\n"
     ]
    }
   ],
   "source": [
    "!sbatch -a 1-2 /mnt/projects/crispy_shifty/demos/mpnn_to_af2_example_1/folded/run.sh"
   ]
  },
  {
   "cell_type": "markdown",
   "id": "2e298d94-b3c9-43a1-ab0c-8372f87679e3",
   "metadata": {},
   "source": [
    "### Collect scorefiles of folded dhrs and concatenate\n",
    "**Change this to wherever you cloned it**"
   ]
  },
  {
   "cell_type": "code",
   "execution_count": 6,
   "id": "746c80c6-8556-4ecb-b930-0579c3710740",
   "metadata": {
    "scrolled": true,
    "tags": []
   },
   "outputs": [],
   "source": [
    "CLONE_LOC = \"/projects/crispy_shifty\"\n",
    "sys.path.insert(0, CLONE_LOC)\n",
    "from crispy_shifty.utils.io import collect_score_file\n",
    "\n",
    "simulation_name = SIMULATION_NAME\n",
    "output_path = OUTPUT_PATH\n",
    "\n",
    "if not os.path.exists(os.path.join(output_path, \"scores.json\")):\n",
    "    collect_score_file(output_path, \"scores\")"
   ]
  },
  {
   "cell_type": "markdown",
   "id": "99a103ed-eac9-4821-a173-ba7f3ff56ddf",
   "metadata": {},
   "source": [
    "### Load resulting concatenated scorefile"
   ]
  },
  {
   "cell_type": "code",
   "execution_count": 7,
   "id": "f55078f4-8195-4105-9da5-8604cdaab7d9",
   "metadata": {
    "scrolled": true,
    "tags": []
   },
   "outputs": [
    {
     "data": {
      "application/vnd.jupyter.widget-view+json": {
       "model_id": "6c3e239d79304dd18ba07354a66ee273",
       "version_major": 2,
       "version_minor": 0
      },
      "text/plain": [
       "  0%|          | 0/2 [00:00<?, ?it/s]"
      ]
     },
     "metadata": {},
     "output_type": "display_data"
    }
   ],
   "source": [
    "from crispy_shifty.utils.io import parse_scorefile_linear\n",
    "\n",
    "output_path = OUTPUT_PATH\n",
    "\n",
    "scores_df = parse_scorefile_linear(os.path.join(output_path, \"scores.json\"))\n",
    "scores_df = scores_df.convert_dtypes()"
   ]
  },
  {
   "cell_type": "markdown",
   "id": "6f811bf4-e682-4a9f-8020-7e4abb580795",
   "metadata": {},
   "source": [
    "### Data exploration\n",
    "As we can see, the sequences were added to the decoy scores"
   ]
  },
  {
   "cell_type": "code",
   "execution_count": 8,
   "id": "a03cc05c-e812-4857-9db4-d13e842c0e76",
   "metadata": {},
   "outputs": [
    {
     "data": {
      "text/html": [
       "<div>\n",
       "<style scoped>\n",
       "    .dataframe tbody tr th:only-of-type {\n",
       "        vertical-align: middle;\n",
       "    }\n",
       "\n",
       "    .dataframe tbody tr th {\n",
       "        vertical-align: top;\n",
       "    }\n",
       "\n",
       "    .dataframe thead th {\n",
       "        text-align: right;\n",
       "    }\n",
       "</style>\n",
       "<table border=\"1\" class=\"dataframe\">\n",
       "  <thead>\n",
       "    <tr style=\"text-align: right;\">\n",
       "      <th></th>\n",
       "      <th>mpnn_seq_0000</th>\n",
       "      <th>mpnn_seq_0001</th>\n",
       "      <th>mpnn_seq_0002</th>\n",
       "      <th>mpnn_seq_0003</th>\n",
       "      <th>mpnn_seq_0004</th>\n",
       "      <th>mpnn_seq_0005</th>\n",
       "      <th>mpnn_seq_0006</th>\n",
       "      <th>mpnn_seq_0007</th>\n",
       "      <th>mpnn_seq_0008</th>\n",
       "      <th>mpnn_seq_0009</th>\n",
       "      <th>...</th>\n",
       "      <th>mpnn_seq_0040</th>\n",
       "      <th>mpnn_seq_0041</th>\n",
       "      <th>mpnn_seq_0042</th>\n",
       "      <th>mpnn_seq_0043</th>\n",
       "      <th>mpnn_seq_0044</th>\n",
       "      <th>mpnn_seq_0045</th>\n",
       "      <th>mpnn_seq_0046</th>\n",
       "      <th>mpnn_seq_0047</th>\n",
       "      <th>mpnn_seq_0048</th>\n",
       "      <th>path_in</th>\n",
       "    </tr>\n",
       "  </thead>\n",
       "  <tbody>\n",
       "    <tr>\n",
       "      <th>/mnt/projects/crispy_shifty/demos/mpnn_to_af2_example_1/outputs/decoys/0000/mpnn_dhr_7c5290f17b604a00874b8e84ed32371b.pdb.bz2</th>\n",
       "      <td>DEEVQEAVERAEELREEAEELIKKARKTGDPELLRKALEALEEAVR...</td>\n",
       "      <td>SAEVRERVERARELLREAERLIEEAKKTGDPELLERARRALERAVR...</td>\n",
       "      <td>AEEVRRRVERARELRRRAEELVERARKTGDPRLLLRAVEALRVGVR...</td>\n",
       "      <td>SSAVRRAVEQAERLRREAEELVKRAKTTGDPELLKQAREALRVGIE...</td>\n",
       "      <td>SAEVRRRVRRAEELRREAEELVREARRTGSPELLRRARDALREGIR...</td>\n",
       "      <td>SEEVKRRVEQAKELRKRAEKLKKKAEKEGDPRLLEQAKEALRYGIE...</td>\n",
       "      <td>AEEVRRRVTEAEELRRRAEELRREAERTGDPRLLLEARRALEEGIR...</td>\n",
       "      <td>RKEVREAREKAEELREKAERLVEKAKEKGDPELLKQANEALKKAIR...</td>\n",
       "      <td>SAEVRRRVEEAERLRREAERLVKEGERTGDVRLLREARRALERAIE...</td>\n",
       "      <td>REEVERRVEEAERLREEAERLIEEARTTGDWELLERAREAARRGIE...</td>\n",
       "      <td>...</td>\n",
       "      <td>SAEVRRRVEEAEELRREAERLVREARRTGDPRLLREAREALRRAVE...</td>\n",
       "      <td>SEETRRRVREAEELRRRAERLIEEAKRTGDPELLKEAREALRYGIR...</td>\n",
       "      <td>REEVRRRVEEARRLRRRAERLVEEAERTGDPELLKEARRALEKGIE...</td>\n",
       "      <td>SEEVRRRVEEARRLRRRAEELVRRARERGDPRLLREARRALERGVR...</td>\n",
       "      <td>MEEVRRRVREAKRLKERAERLIKEAERTGSAELLQEAKEALEKGIE...</td>\n",
       "      <td>SEEVTRRVRRAEELLREAERLREEAERTGDPRLLRRAREALRRGIE...</td>\n",
       "      <td>SAEVRRRVEEAKERRRRAERLIERARREGDPELLREAKRELDRGIE...</td>\n",
       "      <td>REEVRRRVEEAERLRRRAERLIEEAKKKGDSELLKEAREALRRGIE...</td>\n",
       "      <td>SAEVRRRVEEAERLRREAERLVREAERTGDPRLLEEARRALERGVR...</td>\n",
       "      <td>/mnt/projects/crispy_shifty/demos/mpnn_to_af2_...</td>\n",
       "    </tr>\n",
       "    <tr>\n",
       "      <th>/mnt/projects/crispy_shifty/demos/mpnn_to_af2_example_1/outputs/decoys/0000/mpnn_dhr_39dad348b60b4b8d949301afba65049e.pdb.bz2</th>\n",
       "      <td>NDEKRKRAEKALQRAQEAEKKGDVEEAVRAAQEAVRAAKESGDNDV...</td>\n",
       "      <td>GEELEREARRAMERAREALRKGDVRRAVEELRRAVRAAGRAGSRDL...</td>\n",
       "      <td>SEELRREAERAMREAREALKKGDVGEAVRALRRAVRAAGLAGSRDL...</td>\n",
       "      <td>AEELRREAREAMERAREALKKGDVKEAVEYLRRAVRAAGEAGSRDL...</td>\n",
       "      <td>AEELRREARRAMEEARRALERGDVREAVRALERAVRAAGEAGDREL...</td>\n",
       "      <td>ASELERRARAAMEEADRALERGDVGSAVRALERAVRAAGEAGSRAL...</td>\n",
       "      <td>GSRLREEARRAMERAREALRRGDVGSAVRELERAVRAAGLAGDRRL...</td>\n",
       "      <td>GEELRREARRAMEEAERALERGDVRRAVEAMERAVRAAGLAGDREL...</td>\n",
       "      <td>GAELRREARRAMEEARRALERGDVKSAVEAMRRAVRAAGLAGSRDL...</td>\n",
       "      <td>GEELRRRARRAMEEAEEALKRGDVGKAVRALREAVRAAGLAGDKEL...</td>\n",
       "      <td>...</td>\n",
       "      <td>AEELRRRAREAMEEARRALERGDVRRAVRALEEAVRAAGLAGSRDL...</td>\n",
       "      <td>GEELRREAERAMERAKEALRKGDVKRAVEALKEAVRAAEEAGDKEL...</td>\n",
       "      <td>GEELRREARRAMERAEEALRRGDVRTAVEALRRAVEAAGEAGSKEL...</td>\n",
       "      <td>GERLREEARRAMEEAREALKKGDVKRAVESLRRAVRAAGLAGDRDL...</td>\n",
       "      <td>GEELRREAEEAMREAEEALRRGDVRRAVEALRRAVRAAGLAGSREL...</td>\n",
       "      <td>GEKLREKARKAMEKAREALKRGDVKRAVEALKEAVRAAGLAGDKDL...</td>\n",
       "      <td>SEELLRRARRALEEARRALEEGDVGRAVRYLERAVKAAGEAGSREL...</td>\n",
       "      <td>GEELKKEAKEAMKEAKKAMEKGDVGKAVEALKKAVKAAGKAGSREL...</td>\n",
       "      <td>SEELRRRARRALEEARRALEKGDVERAVEALREAVRAAGEAGSRDL...</td>\n",
       "      <td>/mnt/projects/crispy_shifty/demos/mpnn_to_af2_...</td>\n",
       "    </tr>\n",
       "  </tbody>\n",
       "</table>\n",
       "<p>2 rows × 50 columns</p>\n",
       "</div>"
      ],
      "text/plain": [
       "                                                                                        mpnn_seq_0000  \\\n",
       "/mnt/projects/crispy_shifty/demos/mpnn_to_af2_e...  DEEVQEAVERAEELREEAEELIKKARKTGDPELLRKALEALEEAVR...   \n",
       "/mnt/projects/crispy_shifty/demos/mpnn_to_af2_e...  NDEKRKRAEKALQRAQEAEKKGDVEEAVRAAQEAVRAAKESGDNDV...   \n",
       "\n",
       "                                                                                        mpnn_seq_0001  \\\n",
       "/mnt/projects/crispy_shifty/demos/mpnn_to_af2_e...  SAEVRERVERARELLREAERLIEEAKKTGDPELLERARRALERAVR...   \n",
       "/mnt/projects/crispy_shifty/demos/mpnn_to_af2_e...  GEELEREARRAMERAREALRKGDVRRAVEELRRAVRAAGRAGSRDL...   \n",
       "\n",
       "                                                                                        mpnn_seq_0002  \\\n",
       "/mnt/projects/crispy_shifty/demos/mpnn_to_af2_e...  AEEVRRRVERARELRRRAEELVERARKTGDPRLLLRAVEALRVGVR...   \n",
       "/mnt/projects/crispy_shifty/demos/mpnn_to_af2_e...  SEELRREAERAMREAREALKKGDVGEAVRALRRAVRAAGLAGSRDL...   \n",
       "\n",
       "                                                                                        mpnn_seq_0003  \\\n",
       "/mnt/projects/crispy_shifty/demos/mpnn_to_af2_e...  SSAVRRAVEQAERLRREAEELVKRAKTTGDPELLKQAREALRVGIE...   \n",
       "/mnt/projects/crispy_shifty/demos/mpnn_to_af2_e...  AEELRREAREAMERAREALKKGDVKEAVEYLRRAVRAAGEAGSRDL...   \n",
       "\n",
       "                                                                                        mpnn_seq_0004  \\\n",
       "/mnt/projects/crispy_shifty/demos/mpnn_to_af2_e...  SAEVRRRVRRAEELRREAEELVREARRTGSPELLRRARDALREGIR...   \n",
       "/mnt/projects/crispy_shifty/demos/mpnn_to_af2_e...  AEELRREARRAMEEARRALERGDVREAVRALERAVRAAGEAGDREL...   \n",
       "\n",
       "                                                                                        mpnn_seq_0005  \\\n",
       "/mnt/projects/crispy_shifty/demos/mpnn_to_af2_e...  SEEVKRRVEQAKELRKRAEKLKKKAEKEGDPRLLEQAKEALRYGIE...   \n",
       "/mnt/projects/crispy_shifty/demos/mpnn_to_af2_e...  ASELERRARAAMEEADRALERGDVGSAVRALERAVRAAGEAGSRAL...   \n",
       "\n",
       "                                                                                        mpnn_seq_0006  \\\n",
       "/mnt/projects/crispy_shifty/demos/mpnn_to_af2_e...  AEEVRRRVTEAEELRRRAEELRREAERTGDPRLLLEARRALEEGIR...   \n",
       "/mnt/projects/crispy_shifty/demos/mpnn_to_af2_e...  GSRLREEARRAMERAREALRRGDVGSAVRELERAVRAAGLAGDRRL...   \n",
       "\n",
       "                                                                                        mpnn_seq_0007  \\\n",
       "/mnt/projects/crispy_shifty/demos/mpnn_to_af2_e...  RKEVREAREKAEELREKAERLVEKAKEKGDPELLKQANEALKKAIR...   \n",
       "/mnt/projects/crispy_shifty/demos/mpnn_to_af2_e...  GEELRREARRAMEEAERALERGDVRRAVEAMERAVRAAGLAGDREL...   \n",
       "\n",
       "                                                                                        mpnn_seq_0008  \\\n",
       "/mnt/projects/crispy_shifty/demos/mpnn_to_af2_e...  SAEVRRRVEEAERLRREAERLVKEGERTGDVRLLREARRALERAIE...   \n",
       "/mnt/projects/crispy_shifty/demos/mpnn_to_af2_e...  GAELRREARRAMEEARRALERGDVKSAVEAMRRAVRAAGLAGSRDL...   \n",
       "\n",
       "                                                                                        mpnn_seq_0009  \\\n",
       "/mnt/projects/crispy_shifty/demos/mpnn_to_af2_e...  REEVERRVEEAERLREEAERLIEEARTTGDWELLERAREAARRGIE...   \n",
       "/mnt/projects/crispy_shifty/demos/mpnn_to_af2_e...  GEELRRRARRAMEEAEEALKRGDVGKAVRALREAVRAAGLAGDKEL...   \n",
       "\n",
       "                                                    ...  \\\n",
       "/mnt/projects/crispy_shifty/demos/mpnn_to_af2_e...  ...   \n",
       "/mnt/projects/crispy_shifty/demos/mpnn_to_af2_e...  ...   \n",
       "\n",
       "                                                                                        mpnn_seq_0040  \\\n",
       "/mnt/projects/crispy_shifty/demos/mpnn_to_af2_e...  SAEVRRRVEEAEELRREAERLVREARRTGDPRLLREAREALRRAVE...   \n",
       "/mnt/projects/crispy_shifty/demos/mpnn_to_af2_e...  AEELRRRAREAMEEARRALERGDVRRAVRALEEAVRAAGLAGSRDL...   \n",
       "\n",
       "                                                                                        mpnn_seq_0041  \\\n",
       "/mnt/projects/crispy_shifty/demos/mpnn_to_af2_e...  SEETRRRVREAEELRRRAERLIEEAKRTGDPELLKEAREALRYGIR...   \n",
       "/mnt/projects/crispy_shifty/demos/mpnn_to_af2_e...  GEELRREAERAMERAKEALRKGDVKRAVEALKEAVRAAEEAGDKEL...   \n",
       "\n",
       "                                                                                        mpnn_seq_0042  \\\n",
       "/mnt/projects/crispy_shifty/demos/mpnn_to_af2_e...  REEVRRRVEEARRLRRRAERLVEEAERTGDPELLKEARRALEKGIE...   \n",
       "/mnt/projects/crispy_shifty/demos/mpnn_to_af2_e...  GEELRREARRAMERAEEALRRGDVRTAVEALRRAVEAAGEAGSKEL...   \n",
       "\n",
       "                                                                                        mpnn_seq_0043  \\\n",
       "/mnt/projects/crispy_shifty/demos/mpnn_to_af2_e...  SEEVRRRVEEARRLRRRAEELVRRARERGDPRLLREARRALERGVR...   \n",
       "/mnt/projects/crispy_shifty/demos/mpnn_to_af2_e...  GERLREEARRAMEEAREALKKGDVKRAVESLRRAVRAAGLAGDRDL...   \n",
       "\n",
       "                                                                                        mpnn_seq_0044  \\\n",
       "/mnt/projects/crispy_shifty/demos/mpnn_to_af2_e...  MEEVRRRVREAKRLKERAERLIKEAERTGSAELLQEAKEALEKGIE...   \n",
       "/mnt/projects/crispy_shifty/demos/mpnn_to_af2_e...  GEELRREAEEAMREAEEALRRGDVRRAVEALRRAVRAAGLAGSREL...   \n",
       "\n",
       "                                                                                        mpnn_seq_0045  \\\n",
       "/mnt/projects/crispy_shifty/demos/mpnn_to_af2_e...  SEEVTRRVRRAEELLREAERLREEAERTGDPRLLRRAREALRRGIE...   \n",
       "/mnt/projects/crispy_shifty/demos/mpnn_to_af2_e...  GEKLREKARKAMEKAREALKRGDVKRAVEALKEAVRAAGLAGDKDL...   \n",
       "\n",
       "                                                                                        mpnn_seq_0046  \\\n",
       "/mnt/projects/crispy_shifty/demos/mpnn_to_af2_e...  SAEVRRRVEEAKERRRRAERLIERARREGDPELLREAKRELDRGIE...   \n",
       "/mnt/projects/crispy_shifty/demos/mpnn_to_af2_e...  SEELLRRARRALEEARRALEEGDVGRAVRYLERAVKAAGEAGSREL...   \n",
       "\n",
       "                                                                                        mpnn_seq_0047  \\\n",
       "/mnt/projects/crispy_shifty/demos/mpnn_to_af2_e...  REEVRRRVEEAERLRRRAERLIEEAKKKGDSELLKEAREALRRGIE...   \n",
       "/mnt/projects/crispy_shifty/demos/mpnn_to_af2_e...  GEELKKEAKEAMKEAKKAMEKGDVGKAVEALKKAVKAAGKAGSREL...   \n",
       "\n",
       "                                                                                        mpnn_seq_0048  \\\n",
       "/mnt/projects/crispy_shifty/demos/mpnn_to_af2_e...  SAEVRRRVEEAERLRREAERLVREAERTGDPRLLEEARRALERGVR...   \n",
       "/mnt/projects/crispy_shifty/demos/mpnn_to_af2_e...  SEELRRRARRALEEARRALEKGDVERAVEALREAVRAAGEAGSRDL...   \n",
       "\n",
       "                                                                                              path_in  \n",
       "/mnt/projects/crispy_shifty/demos/mpnn_to_af2_e...  /mnt/projects/crispy_shifty/demos/mpnn_to_af2_...  \n",
       "/mnt/projects/crispy_shifty/demos/mpnn_to_af2_e...  /mnt/projects/crispy_shifty/demos/mpnn_to_af2_...  \n",
       "\n",
       "[2 rows x 50 columns]"
      ]
     },
     "execution_count": 8,
     "metadata": {},
     "output_type": "execute_result"
    }
   ],
   "source": [
    "scores_df.head()"
   ]
  },
  {
   "cell_type": "code",
   "execution_count": null,
   "id": "d9a0d681-777e-4375-95c4-a1bc12428dce",
   "metadata": {},
   "outputs": [],
   "source": []
  }
 ],
 "metadata": {
  "kernelspec": {
   "display_name": "crispy (3.8.12)",
   "language": "python",
   "name": "crispy"
  },
  "language_info": {
   "codemirror_mode": {
    "name": "ipython",
    "version": 3
   },
   "file_extension": ".py",
   "mimetype": "text/x-python",
   "name": "python",
   "nbconvert_exporter": "python",
   "pygments_lexer": "ipython3",
   "version": "3.8.12"
  }
 },
 "nbformat": 4,
 "nbformat_minor": 5
}
