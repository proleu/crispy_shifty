{
 "cells": [
  {
   "cell_type": "markdown",
   "metadata": {},
   "source": [
    "# MPNN design using the crispy_shifty modules\n",
    "Variables in ALL_CAPS are the ones you should change"
   ]
  },
  {
   "cell_type": "markdown",
   "metadata": {},
   "source": [
    "## Example 1: Naive redesign of DHRs"
   ]
  },
  {
   "cell_type": "markdown",
   "metadata": {},
   "source": [
    "### Imports"
   ]
  },
  {
   "cell_type": "code",
   "execution_count": 1,
   "metadata": {},
   "outputs": [
    {
     "name": "stdout",
     "output_type": "stream",
     "text": [
      "running in directory: /mnt/home/pleung/projects/crispy_shifty/demos\n",
      "running on node: dig201\n"
     ]
    }
   ],
   "source": [
    "%load_ext lab_black\n",
    "# Python standard library\n",
    "from glob import glob\n",
    "import os\n",
    "import socket\n",
    "import sys\n",
    "\n",
    "# 3rd party library imports\n",
    "import dask\n",
    "import matplotlib.pyplot as plt\n",
    "import pandas as pd\n",
    "import pyrosetta\n",
    "import numpy as np\n",
    "import scipy\n",
    "import seaborn as sns\n",
    "from tqdm.auto import tqdm  # jupyter compatible progress bar\n",
    "\n",
    "tqdm.pandas()  # link tqdm to pandas\n",
    "# Notebook magic\n",
    "# save plots in the notebook\n",
    "%matplotlib inline\n",
    "# reloads modules automatically before executing cells\n",
    "%load_ext autoreload\n",
    "%autoreload 2\n",
    "print(f\"running in directory: {os.getcwd()}\")  # where are we?\n",
    "print(f\"running on node: {socket.gethostname()}\")  # what node are we on?"
   ]
  },
  {
   "cell_type": "markdown",
   "metadata": {},
   "source": [
    "### Set working directory to the root of the crispy_shifty repo\n",
    "**Change this to wherever you cloned it**"
   ]
  },
  {
   "cell_type": "code",
   "execution_count": 2,
   "metadata": {},
   "outputs": [],
   "source": [
    "WORKING_DIRECTORY = \"/home/pleung/projects/crispy_shifty\"\n",
    "\n",
    "os.chdir(WORKING_DIRECTORY)"
   ]
  },
  {
   "cell_type": "markdown",
   "metadata": {},
   "source": [
    "### Prep a list of designs\n",
    "To do this, you'll need a list with the fullpath of your designs, one per line.\n",
    "Here's how to do it with python, you could also `cd <dir full of your designs> ; realpath *.pdb > designs.list` or some such"
   ]
  },
  {
   "cell_type": "code",
   "execution_count": 3,
   "metadata": {},
   "outputs": [],
   "source": [
    "# we'll use TJ's DHRs for this demo, change this to the location of your designs\n",
    "INPUT_PATH = os.path.join(os.getcwd(), \"demos/mpnn_pipeline_example/inputs\")\n",
    "# we'll use a directory in demos for our output, you should change this too\n",
    "OUTPUT_PATH = os.path.join(os.getcwd(), \"demos/mpnn_pipeline_example/outputs\")\n",
    "os.makedirs(OUTPUT_PATH, exist_ok=True)\n",
    "inputs_list = os.path.join(INPUT_PATH, \"inputs.list\")\n",
    "# 'with open' statement is a context manager, when we exit the with statement,\n",
    "# the file is closed, preventing filesystem errors\n",
    "with open(inputs_list, \"w\") as f:\n",
    "    for pdb in glob(os.path.join(INPUT_PATH, \"DHR*.pdb\")):\n",
    "        print(pdb, file=f)"
   ]
  },
  {
   "cell_type": "markdown",
   "metadata": {},
   "source": [
    "### Run MPNN to naively redesign entire DHRs\n",
    "We'll make array tasks since that is easiest, if you need to profile your code or want better analytics, you should use the `dask` stack, just be aware that it can only scale up to around 20k CPU hours or so on the digs"
   ]
  },
  {
   "cell_type": "code",
   "execution_count": 4,
   "metadata": {},
   "outputs": [
    {
     "name": "stderr",
     "output_type": "stream",
     "text": [
      "/projects/crispy_shifty/envs/crispy/lib/python3.8/site-packages/dask_jobqueue/core.py:20: FutureWarning: tmpfile is deprecated and will be removed in a future release. Please use dask.utils.tmpfile instead.\n",
      "  from distributed.utils import tmpfile\n"
     ]
    },
    {
     "name": "stdout",
     "output_type": "stream",
     "text": [
      "Warning: Use of `pyrosetta.distributed.cluster` namespace requires Anaconda (or Miniconda) to be properly installed for reproducibility of PyRosetta simulations. Please install Anaconda (or Miniconda) onto your system to enable running `which conda`. For installation instructions, visit:\n",
      "https://docs.anaconda.com/anaconda/install\n",
      "\n",
      "Run the following command with your desired environment active:\n",
      "sbatch -a 1-2 /mnt/home/pleung/projects/crispy_shifty/demos/mpnn_pipeline_example/outputs/run.sh\n"
     ]
    }
   ],
   "source": [
    "# since we set the working dir to the root of the repo, python knows where to load this\n",
    "from crispy_shifty.utils.io import gen_array_tasks\n",
    "\n",
    "SIMULATION_NAME = \"mpnn_dhr\"  # change this to whatever you want\n",
    "design_list_file = inputs_list  # the file we just made\n",
    "\n",
    "\n",
    "DISTRIBUTE_FUNC = \"crispy_shifty.protocols.demos.mpnn_dhr\"  # TODO\n",
    "\n",
    "# pyrosetta init options\n",
    "OPTIONS = \" \".join(\n",
    "    [\n",
    "        \"out:level 200\",  # warnings and errors only, normal output is 300\n",
    "    ]\n",
    ")\n",
    "# options for controlling function behavior\n",
    "EXTRA_OPTIONS = \"TODO\"\n",
    "\n",
    "QUEUE = \"medium\"  # change if needed\n",
    "MEMORY = \"4G\"  # change if needed\n",
    "SHA1 = (\n",
    "    None  # change this to \"\" when you are ready to do a production run in your branch\n",
    ")\n",
    "# if SHA1 is not None, save the notebook and `git commit -am \"SOME MESSAGE\"; git push` in your branch before running this cell\n",
    "\n",
    "gen_array_tasks(\n",
    "    distribute_func=DISTRIBUTE_FUNC,\n",
    "    design_list_file=design_list_file,\n",
    "    output_path=OUTPUT_PATH,  # the output dir we just made\n",
    "    queue=QUEUE,\n",
    "    memory=MEMORY,\n",
    "    nstruct=1,\n",
    "    nstruct_per_task=1,\n",
    "    options=OPTIONS,\n",
    "    sha1=SHA1,\n",
    "    simulation_name=SIMULATION_NAME,\n",
    ")"
   ]
  },
  {
   "cell_type": "code",
   "execution_count": 6,
   "metadata": {},
   "outputs": [
    {
     "name": "stdout",
     "output_type": "stream",
     "text": [
      "Submitted batch job 12863693\n"
     ]
    }
   ],
   "source": [
    "!sbatch -a 1-2 /mnt/home/pleung/projects/crispy_shifty/demos/mpnn_pipeline_example/outputs/run.sh"
   ]
  },
  {
   "cell_type": "markdown",
   "metadata": {},
   "source": [
    "### Collect scorefiles of designed bound states and concatenate\n",
    "**Change this to wherever you cloned it**"
   ]
  },
  {
   "cell_type": "code",
   "execution_count": 8,
   "metadata": {
    "scrolled": true,
    "tags": []
   },
   "outputs": [],
   "source": [
    "CLONE_LOC = \"~/projects/crispy_shifty\"\n",
    "sys.path.insert(0, CLONE_LOC)  # TODO\n",
    "from crispy_shifty.utils.io import collect_score_file\n",
    "\n",
    "simulation_name = SIMULATION_NAME\n",
    "output_path = OUTPUT_PATH\n",
    "\n",
    "if not os.path.exists(os.path.join(output_path, \"scores.json\")):\n",
    "    collect_score_file(output_path, \"scores\")"
   ]
  },
  {
   "cell_type": "markdown",
   "metadata": {},
   "source": [
    "### Load resulting concatenated scorefile"
   ]
  },
  {
   "cell_type": "code",
   "execution_count": 9,
   "metadata": {
    "scrolled": true,
    "tags": []
   },
   "outputs": [
    {
     "data": {
      "application/vnd.jupyter.widget-view+json": {
       "model_id": "0584bbdeb2624eb790d1dd380a116ad2",
       "version_major": 2,
       "version_minor": 0
      },
      "text/plain": [
       "  0%|          | 0/2 [00:00<?, ?it/s]"
      ]
     },
     "metadata": {},
     "output_type": "display_data"
    }
   ],
   "source": [
    "from crispy_shifty.utils.io import parse_scorefile_linear\n",
    "\n",
    "output_path = OUTPUT_PATH\n",
    "\n",
    "scores_df = parse_scorefile_linear(os.path.join(output_path, \"scores.json\"))\n",
    "scores_df = scores_df.convert_dtypes()"
   ]
  },
  {
   "cell_type": "markdown",
   "metadata": {},
   "source": [
    "### Setup for plotting"
   ]
  },
  {
   "cell_type": "code",
   "execution_count": 10,
   "metadata": {},
   "outputs": [],
   "source": [
    "sns.set(\n",
    "    context=\"talk\",\n",
    "    font_scale=1,  # make the font larger; default is pretty small\n",
    "    style=\"ticks\",  # make the background white with black lines\n",
    "    palette=\"colorblind\",  # a color palette that is colorblind friendly!\n",
    ")"
   ]
  },
  {
   "cell_type": "markdown",
   "metadata": {},
   "source": [
    "### Data exploration\n",
    "As we can see, the sequences were added to the decoy scores"
   ]
  },
  {
   "cell_type": "code",
   "execution_count": 12,
   "metadata": {},
   "outputs": [
    {
     "data": {
      "text/html": [
       "<div>\n",
       "<style scoped>\n",
       "    .dataframe tbody tr th:only-of-type {\n",
       "        vertical-align: middle;\n",
       "    }\n",
       "\n",
       "    .dataframe tbody tr th {\n",
       "        vertical-align: top;\n",
       "    }\n",
       "\n",
       "    .dataframe thead th {\n",
       "        text-align: right;\n",
       "    }\n",
       "</style>\n",
       "<table border=\"1\" class=\"dataframe\">\n",
       "  <thead>\n",
       "    <tr style=\"text-align: right;\">\n",
       "      <th></th>\n",
       "      <th>mpnn_seq_0000</th>\n",
       "      <th>mpnn_seq_0001</th>\n",
       "      <th>mpnn_seq_0002</th>\n",
       "      <th>mpnn_seq_0003</th>\n",
       "      <th>mpnn_seq_0004</th>\n",
       "      <th>mpnn_seq_0005</th>\n",
       "      <th>mpnn_seq_0006</th>\n",
       "      <th>mpnn_seq_0007</th>\n",
       "      <th>mpnn_seq_0008</th>\n",
       "      <th>mpnn_seq_0009</th>\n",
       "      <th>...</th>\n",
       "      <th>mpnn_seq_0055</th>\n",
       "      <th>mpnn_seq_0056</th>\n",
       "      <th>mpnn_seq_0057</th>\n",
       "      <th>mpnn_seq_0058</th>\n",
       "      <th>mpnn_seq_0059</th>\n",
       "      <th>mpnn_seq_0060</th>\n",
       "      <th>mpnn_seq_0061</th>\n",
       "      <th>mpnn_seq_0062</th>\n",
       "      <th>mpnn_seq_0063</th>\n",
       "      <th>mpnn_seq_0064</th>\n",
       "    </tr>\n",
       "  </thead>\n",
       "  <tbody>\n",
       "    <tr>\n",
       "      <th>/mnt/home/pleung/projects/crispy_shifty/demos/mpnn_pipeline_example/outputs/decoys/0000/mpnn_dhr_4060a530e985481fa006afaa12150c0b.pdb.bz2</th>\n",
       "      <td>DEEVQEAVERAEELREEAEELIKKARKTGDPELLRKALEALEEAVR...</td>\n",
       "      <td>REEVERRVEEAKERERRAERLIEEARETGDPELLRQAKEELREGIE...</td>\n",
       "      <td>SEEVRRRVEEAKRLREEAERLIKEAREKGDPELLERAQEALKEGIR...</td>\n",
       "      <td>SERVRRRVREAERLLEEAERLREEAEKTGDPELLLEAKEAAERGIE...</td>\n",
       "      <td>EEEVRRRVEEAKRLLEEAERLVEEAERRGDPELLKEAQRALDRGIE...</td>\n",
       "      <td>EEEVERRVEEAKRLLEEAERLVREAEETGDPELLKEAKEKLREGIE...</td>\n",
       "      <td>EEEVRRRVEEAKERLERARRLVEEAEKRGDPELLKEAQEELREGVR...</td>\n",
       "      <td>REEVERRVREARRLREEAERLIKEAKEKGDVELLKEAEEALRRGVE...</td>\n",
       "      <td>SAKVKERVEKAKELRKKAEELIEEAKKKGDPELLKKAKEELRKGVE...</td>\n",
       "      <td>RREVEERVERARELLRRARELVERARREGDPELLEEAREALRRAIE...</td>\n",
       "      <td>...</td>\n",
       "      <td>EEEVERRVEEAKRRKERAERLIERAEKEGDSELLKEAKEELDRGVR...</td>\n",
       "      <td>REEVERRVREAEERRRRAERLIEEAERTGDAELLREARRELEEGIR...</td>\n",
       "      <td>SEEVRRRVEEAKERRRRAEELKREAERTGDPELLKEAEEELREGVE...</td>\n",
       "      <td>SEEVKRRVEEAKRLLEEAERLIERARREGDPELLEKAREALRRGIE...</td>\n",
       "      <td>KEEVERRVEEAKELKEEARRLIEEAEETGDPELLKEAVEKLRRGIE...</td>\n",
       "      <td>REEVERRVREAEERRERAERLVEEAKRTGDPELLREAREELRRGVE...</td>\n",
       "      <td>REEVERRVREARRLREEAERLRREAEETGDPELLREARRALEEGIR...</td>\n",
       "      <td>SEEVRRRVEEARERRRRAERLVEEAERTGDPELLRQAREEVRVGIE...</td>\n",
       "      <td>EEEVKRRVEEAKELKEKAEELVKKAKEKGDPELLKEAKEALKRGVE...</td>\n",
       "      <td>REEVERRVREAEELKREAEELLREARERGDPELLLEAKRALDEGIE...</td>\n",
       "    </tr>\n",
       "    <tr>\n",
       "      <th>/mnt/home/pleung/projects/crispy_shifty/demos/mpnn_pipeline_example/outputs/decoys/0000/mpnn_dhr_306e80b8d1f149a88955579892084c50.pdb.bz2</th>\n",
       "      <td>NDEKRKRAEKALQRAQEAEKKGDVEEAVRAAQEAVRAAKESGDNDV...</td>\n",
       "      <td>AEELEREAREAMEEARRALEEGDVRRAVEYLRRAVRAAGLAGSREL...</td>\n",
       "      <td>GEELKREAIRAMEEAEEALKKGDVKRAVESLEKAVEAAGLAGSKEL...</td>\n",
       "      <td>GEELEREAKAAMEEAKKALEKGDVKRAVESLERAVEAAGEAGRKDL...</td>\n",
       "      <td>AEELRRRARRAMEEAREALRRGDVRRAVEALREAVRAAGLAGDKEL...</td>\n",
       "      <td>GEELLREARRAMEEAREALRKGDVRSAVEYLRRAVEAAGLAGSREE...</td>\n",
       "      <td>KEKLKEEAKKAMEKAEEALKEGDVEKAVEYLEKAVKAAGEAGSKEL...</td>\n",
       "      <td>AEELRREAIEAMEKAEEALRKGDVRRAVEYLERAVRAAGLAGSKEL...</td>\n",
       "      <td>GEELRREAREAMREAEEALRKGDVGRAVEALERAVRAAEEAGSREL...</td>\n",
       "      <td>GKELEKEAKEAMEKAEKALEKGDVKKAVEYLERAVKAAGEAGSKEL...</td>\n",
       "      <td>...</td>\n",
       "      <td>AEELRREAREAMEEAERALEEGDVRRAVEYLERAVRAAGEAGSKDL...</td>\n",
       "      <td>AEELREEARRAMEKAREALRKGDVRRAVEYLREAVEAAGKAGSKEL...</td>\n",
       "      <td>AEELLREARRAMEEAREALRRGDVERAVRALERAVRAAGEAGSKEL...</td>\n",
       "      <td>AEELLRRAREAMEEARRALREGDVRRAVEYLREAVEAAGLAGSREL...</td>\n",
       "      <td>AERLREEAREAMREAERALRKGDVRRAVEALRRAVEAAGLAGSKEL...</td>\n",
       "      <td>AEELKREAKRAMEEAREALRVGDVRRAVEYLEKAVEAAGLAGDRDL...</td>\n",
       "      <td>GEELRREAEEAMKKAEEALKKGDVKKAVEYLKEAVKAAEEAGDKDL...</td>\n",
       "      <td>AEELLREAEEAMEKAREALERGDVEEAVRYLERAVEAAGKAGSKEL...</td>\n",
       "      <td>AEELRRRARRAMEEARRALEVGDVERAVEALREAVRAAGEAGSKEL...</td>\n",
       "      <td>AEELRREARRAMEEAERALEKGDVEKAVEELRRAVEAAGLAGDREL...</td>\n",
       "    </tr>\n",
       "  </tbody>\n",
       "</table>\n",
       "<p>2 rows × 65 columns</p>\n",
       "</div>"
      ],
      "text/plain": [
       "                                                                                        mpnn_seq_0000  \\\n",
       "/mnt/home/pleung/projects/crispy_shifty/demos/m...  DEEVQEAVERAEELREEAEELIKKARKTGDPELLRKALEALEEAVR...   \n",
       "/mnt/home/pleung/projects/crispy_shifty/demos/m...  NDEKRKRAEKALQRAQEAEKKGDVEEAVRAAQEAVRAAKESGDNDV...   \n",
       "\n",
       "                                                                                        mpnn_seq_0001  \\\n",
       "/mnt/home/pleung/projects/crispy_shifty/demos/m...  REEVERRVEEAKERERRAERLIEEARETGDPELLRQAKEELREGIE...   \n",
       "/mnt/home/pleung/projects/crispy_shifty/demos/m...  AEELEREAREAMEEARRALEEGDVRRAVEYLRRAVRAAGLAGSREL...   \n",
       "\n",
       "                                                                                        mpnn_seq_0002  \\\n",
       "/mnt/home/pleung/projects/crispy_shifty/demos/m...  SEEVRRRVEEAKRLREEAERLIKEAREKGDPELLERAQEALKEGIR...   \n",
       "/mnt/home/pleung/projects/crispy_shifty/demos/m...  GEELKREAIRAMEEAEEALKKGDVKRAVESLEKAVEAAGLAGSKEL...   \n",
       "\n",
       "                                                                                        mpnn_seq_0003  \\\n",
       "/mnt/home/pleung/projects/crispy_shifty/demos/m...  SERVRRRVREAERLLEEAERLREEAEKTGDPELLLEAKEAAERGIE...   \n",
       "/mnt/home/pleung/projects/crispy_shifty/demos/m...  GEELEREAKAAMEEAKKALEKGDVKRAVESLERAVEAAGEAGRKDL...   \n",
       "\n",
       "                                                                                        mpnn_seq_0004  \\\n",
       "/mnt/home/pleung/projects/crispy_shifty/demos/m...  EEEVRRRVEEAKRLLEEAERLVEEAERRGDPELLKEAQRALDRGIE...   \n",
       "/mnt/home/pleung/projects/crispy_shifty/demos/m...  AEELRRRARRAMEEAREALRRGDVRRAVEALREAVRAAGLAGDKEL...   \n",
       "\n",
       "                                                                                        mpnn_seq_0005  \\\n",
       "/mnt/home/pleung/projects/crispy_shifty/demos/m...  EEEVERRVEEAKRLLEEAERLVREAEETGDPELLKEAKEKLREGIE...   \n",
       "/mnt/home/pleung/projects/crispy_shifty/demos/m...  GEELLREARRAMEEAREALRKGDVRSAVEYLRRAVEAAGLAGSREE...   \n",
       "\n",
       "                                                                                        mpnn_seq_0006  \\\n",
       "/mnt/home/pleung/projects/crispy_shifty/demos/m...  EEEVRRRVEEAKERLERARRLVEEAEKRGDPELLKEAQEELREGVR...   \n",
       "/mnt/home/pleung/projects/crispy_shifty/demos/m...  KEKLKEEAKKAMEKAEEALKEGDVEKAVEYLEKAVKAAGEAGSKEL...   \n",
       "\n",
       "                                                                                        mpnn_seq_0007  \\\n",
       "/mnt/home/pleung/projects/crispy_shifty/demos/m...  REEVERRVREARRLREEAERLIKEAKEKGDVELLKEAEEALRRGVE...   \n",
       "/mnt/home/pleung/projects/crispy_shifty/demos/m...  AEELRREAIEAMEKAEEALRKGDVRRAVEYLERAVRAAGLAGSKEL...   \n",
       "\n",
       "                                                                                        mpnn_seq_0008  \\\n",
       "/mnt/home/pleung/projects/crispy_shifty/demos/m...  SAKVKERVEKAKELRKKAEELIEEAKKKGDPELLKKAKEELRKGVE...   \n",
       "/mnt/home/pleung/projects/crispy_shifty/demos/m...  GEELRREAREAMREAEEALRKGDVGRAVEALERAVRAAEEAGSREL...   \n",
       "\n",
       "                                                                                        mpnn_seq_0009  \\\n",
       "/mnt/home/pleung/projects/crispy_shifty/demos/m...  RREVEERVERARELLRRARELVERARREGDPELLEEAREALRRAIE...   \n",
       "/mnt/home/pleung/projects/crispy_shifty/demos/m...  GKELEKEAKEAMEKAEKALEKGDVKKAVEYLERAVKAAGEAGSKEL...   \n",
       "\n",
       "                                                    ...  \\\n",
       "/mnt/home/pleung/projects/crispy_shifty/demos/m...  ...   \n",
       "/mnt/home/pleung/projects/crispy_shifty/demos/m...  ...   \n",
       "\n",
       "                                                                                        mpnn_seq_0055  \\\n",
       "/mnt/home/pleung/projects/crispy_shifty/demos/m...  EEEVERRVEEAKRRKERAERLIERAEKEGDSELLKEAKEELDRGVR...   \n",
       "/mnt/home/pleung/projects/crispy_shifty/demos/m...  AEELRREAREAMEEAERALEEGDVRRAVEYLERAVRAAGEAGSKDL...   \n",
       "\n",
       "                                                                                        mpnn_seq_0056  \\\n",
       "/mnt/home/pleung/projects/crispy_shifty/demos/m...  REEVERRVREAEERRRRAERLIEEAERTGDAELLREARRELEEGIR...   \n",
       "/mnt/home/pleung/projects/crispy_shifty/demos/m...  AEELREEARRAMEKAREALRKGDVRRAVEYLREAVEAAGKAGSKEL...   \n",
       "\n",
       "                                                                                        mpnn_seq_0057  \\\n",
       "/mnt/home/pleung/projects/crispy_shifty/demos/m...  SEEVRRRVEEAKERRRRAEELKREAERTGDPELLKEAEEELREGVE...   \n",
       "/mnt/home/pleung/projects/crispy_shifty/demos/m...  AEELLREARRAMEEAREALRRGDVERAVRALERAVRAAGEAGSKEL...   \n",
       "\n",
       "                                                                                        mpnn_seq_0058  \\\n",
       "/mnt/home/pleung/projects/crispy_shifty/demos/m...  SEEVKRRVEEAKRLLEEAERLIERARREGDPELLEKAREALRRGIE...   \n",
       "/mnt/home/pleung/projects/crispy_shifty/demos/m...  AEELLRRAREAMEEARRALREGDVRRAVEYLREAVEAAGLAGSREL...   \n",
       "\n",
       "                                                                                        mpnn_seq_0059  \\\n",
       "/mnt/home/pleung/projects/crispy_shifty/demos/m...  KEEVERRVEEAKELKEEARRLIEEAEETGDPELLKEAVEKLRRGIE...   \n",
       "/mnt/home/pleung/projects/crispy_shifty/demos/m...  AERLREEAREAMREAERALRKGDVRRAVEALRRAVEAAGLAGSKEL...   \n",
       "\n",
       "                                                                                        mpnn_seq_0060  \\\n",
       "/mnt/home/pleung/projects/crispy_shifty/demos/m...  REEVERRVREAEERRERAERLVEEAKRTGDPELLREAREELRRGVE...   \n",
       "/mnt/home/pleung/projects/crispy_shifty/demos/m...  AEELKREAKRAMEEAREALRVGDVRRAVEYLEKAVEAAGLAGDRDL...   \n",
       "\n",
       "                                                                                        mpnn_seq_0061  \\\n",
       "/mnt/home/pleung/projects/crispy_shifty/demos/m...  REEVERRVREARRLREEAERLRREAEETGDPELLREARRALEEGIR...   \n",
       "/mnt/home/pleung/projects/crispy_shifty/demos/m...  GEELRREAEEAMKKAEEALKKGDVKKAVEYLKEAVKAAEEAGDKDL...   \n",
       "\n",
       "                                                                                        mpnn_seq_0062  \\\n",
       "/mnt/home/pleung/projects/crispy_shifty/demos/m...  SEEVRRRVEEARERRRRAERLVEEAERTGDPELLRQAREEVRVGIE...   \n",
       "/mnt/home/pleung/projects/crispy_shifty/demos/m...  AEELLREAEEAMEKAREALERGDVEEAVRYLERAVEAAGKAGSKEL...   \n",
       "\n",
       "                                                                                        mpnn_seq_0063  \\\n",
       "/mnt/home/pleung/projects/crispy_shifty/demos/m...  EEEVKRRVEEAKELKEKAEELVKKAKEKGDPELLKEAKEALKRGVE...   \n",
       "/mnt/home/pleung/projects/crispy_shifty/demos/m...  AEELRRRARRAMEEARRALEVGDVERAVEALREAVRAAGEAGSKEL...   \n",
       "\n",
       "                                                                                        mpnn_seq_0064  \n",
       "/mnt/home/pleung/projects/crispy_shifty/demos/m...  REEVERRVREAEELKREAEELLREARERGDPELLLEAKRALDEGIE...  \n",
       "/mnt/home/pleung/projects/crispy_shifty/demos/m...  AEELRREARRAMEEAERALEKGDVEKAVEELRRAVEAAGLAGDREL...  \n",
       "\n",
       "[2 rows x 65 columns]"
      ]
     },
     "execution_count": 12,
     "metadata": {},
     "output_type": "execute_result"
    }
   ],
   "source": [
    "scores_df.head()"
   ]
  },
  {
   "cell_type": "markdown",
   "metadata": {},
   "source": [
    "### Save individual fastas"
   ]
  },
  {
   "cell_type": "code",
   "execution_count": 13,
   "metadata": {
    "scrolled": true,
    "tags": []
   },
   "outputs": [
    {
     "data": {
      "application/vnd.jupyter.widget-view+json": {
       "model_id": "ad095f5e4e9e4d3481ced811a1cbafbe",
       "version_major": 2,
       "version_minor": 0
      },
      "text/plain": [
       "  0%|          | 0/2 [00:00<?, ?it/s]"
      ]
     },
     "metadata": {},
     "output_type": "display_data"
    }
   ],
   "source": [
    "from crispy_shifty.utils.io import df_to_fastas\n",
    "\n",
    "output_path = OUTPUT_PATH\n",
    "\n",
    "scores_df = df_to_fastas(scores_df, prefix=\"mpnn_seq\")"
   ]
  },
  {
   "cell_type": "markdown",
   "metadata": {},
   "source": [
    "### Save a list of outputs"
   ]
  },
  {
   "cell_type": "code",
   "execution_count": 14,
   "metadata": {},
   "outputs": [
    {
     "data": {
      "application/vnd.jupyter.widget-view+json": {
       "model_id": "e3de622fa36949a8b4cf7b5e1b79f5bc",
       "version_major": 2,
       "version_minor": 0
      },
      "text/plain": [
       "  0%|          | 0/2 [00:00<?, ?it/s]"
      ]
     },
     "metadata": {},
     "output_type": "display_data"
    }
   ],
   "source": [
    "output_path = OUTPUT_PATH\n",
    "\n",
    "with open(os.path.join(output_path, \"mpnn_designed.list\"), \"w\") as f:\n",
    "    for path in tqdm(scores_df.index):\n",
    "        print(path, file=f)"
   ]
  },
  {
   "cell_type": "markdown",
   "metadata": {},
   "source": [
    "### Concat the pdb.bz2 and fasta paths into a single list, for reasons"
   ]
  },
  {
   "cell_type": "code",
   "execution_count": 15,
   "metadata": {},
   "outputs": [
    {
     "data": {
      "application/vnd.jupyter.widget-view+json": {
       "model_id": "e82af8866c2b4abaab1792b5c81bc6d3",
       "version_major": 2,
       "version_minor": 0
      },
      "text/plain": [
       "  0%|          | 0/2 [00:00<?, ?it/s]"
      ]
     },
     "metadata": {},
     "output_type": "display_data"
    }
   ],
   "source": [
    "output_path = OUTPUT_PATH\n",
    "\n",
    "with open(os.path.join(output_path, \"mpnn_designed.pair\"), \"w\") as f:\n",
    "    for path in tqdm(scores_df.index):\n",
    "        line = path + \"____\" + path.replace(\"decoys\", \"fastas\").replace(\"pdb.bz2\", \"fa\")\n",
    "        print(line, file=f)"
   ]
  },
  {
   "cell_type": "markdown",
   "metadata": {},
   "source": [
    "## Example 2: Junction design, generating all decoys"
   ]
  },
  {
   "cell_type": "markdown",
   "metadata": {},
   "source": [
    "### Imports"
   ]
  },
  {
   "cell_type": "code",
   "execution_count": 16,
   "metadata": {},
   "outputs": [
    {
     "name": "stdout",
     "output_type": "stream",
     "text": [
      "The lab_black extension is already loaded. To reload it, use:\n",
      "  %reload_ext lab_black\n",
      "The autoreload extension is already loaded. To reload it, use:\n",
      "  %reload_ext autoreload\n",
      "running in directory: /mnt/home/pleung/projects/crispy_shifty\n",
      "running on node: dig201\n"
     ]
    }
   ],
   "source": [
    "%load_ext lab_black\n",
    "# Python standard library\n",
    "from glob import glob\n",
    "import os\n",
    "import socket\n",
    "import sys\n",
    "\n",
    "# 3rd party library imports\n",
    "import dask\n",
    "import matplotlib.pyplot as plt\n",
    "import pandas as pd\n",
    "import pyrosetta\n",
    "import numpy as np\n",
    "import scipy\n",
    "import seaborn as sns\n",
    "from tqdm.auto import tqdm  # jupyter compatible progress bar\n",
    "\n",
    "tqdm.pandas()  # link tqdm to pandas\n",
    "# Notebook magic\n",
    "# save plots in the notebook\n",
    "%matplotlib inline\n",
    "# reloads modules automatically before executing cells\n",
    "%load_ext autoreload\n",
    "%autoreload 2\n",
    "print(f\"running in directory: {os.getcwd()}\")  # where are we?\n",
    "print(f\"running on node: {socket.gethostname()}\")  # what node are we on?"
   ]
  },
  {
   "cell_type": "markdown",
   "metadata": {},
   "source": [
    "### Set working directory to the root of the crispy_shifty repo\n",
    "**Change this to wherever you cloned it**"
   ]
  },
  {
   "cell_type": "code",
   "execution_count": 17,
   "metadata": {},
   "outputs": [],
   "source": [
    "WORKING_DIRECTORY = \"/home/pleung/projects/crispy_shifty\"\n",
    "\n",
    "os.chdir(WORKING_DIRECTORY)"
   ]
  },
  {
   "cell_type": "markdown",
   "metadata": {},
   "source": [
    "### Prep a list of designs\n",
    "To do this, you'll need a list with the fullpath of your designs, one per line.\n",
    "Here's how to do it with python, you could also `cd <dir full of your designs> ; realpath *.pdb > designs.list` or some such"
   ]
  },
  {
   "cell_type": "code",
   "execution_count": 3,
   "metadata": {},
   "outputs": [],
   "source": [
    "# # we'll use TJ's DHRs for this demo, change this to the location of your designs\n",
    "# INPUT_PATH = os.path.join(os.getcwd(), \"demos/mpnn_pipeline_example/inputs\")\n",
    "# # we'll use a directory in demos for our output, you should change this too\n",
    "# OUTPUT_PATH = os.path.join(os.getcwd(), \"demos/mpnn_pipeline_example/outputs\")\n",
    "# os.makedirs(OUTPUT_PATH, exist_ok=True)\n",
    "# inputs_list = os.path.join(INPUT_PATH, \"inputs.list\")\n",
    "# # 'with open' statement is a context manager, when we exit the with statement,\n",
    "# # the file is closed, preventing filesystem errors\n",
    "# with open(inputs_list, \"w\") as f:\n",
    "#     for pdb in glob(os.path.join(INPUT_PATH, \"DHR*.pdb\")):\n",
    "#         print(pdb, file=f)"
   ]
  },
  {
   "cell_type": "markdown",
   "metadata": {},
   "source": [
    "### Make a dask distributable / PyRosettaCluster compatible design function"
   ]
  },
  {
   "cell_type": "code",
   "execution_count": null,
   "metadata": {},
   "outputs": [],
   "source": [
    "# Python standard library\n",
    "from typing import Dict, Iterator, List, Optional, Union\n",
    "\n",
    "# 3rd party library imports\n",
    "# Rosetta library imports\n",
    "from pyrosetta.distributed.packed_pose.core import PackedPose\n",
    "from pyrosetta.distributed import requires_init\n",
    "\n",
    "# Custom library imports\n",
    "\n",
    "@requires_init\n",
    "def mpnn_dhr(\n",
    "    packed_pose_in: Optional[PackedPose] = None, **kwargs\n",
    ") -> Iterator[PackedPose]:\n",
    "    \"\"\"\n",
    "    :param: packed_pose_in: a PackedPose object to be interface designed with MPNN.\n",
    "    :param: kwargs: keyword arguments to be passed to MPNNDesign, or this function.\n",
    "    :return: an iterator of PackedPose objects.\n",
    "    \"\"\"\n",
    "\n",
    "    from pathlib import Path\n",
    "    import sys\n",
    "    from time import time\n",
    "    import pyrosetta\n",
    "    import pyrosetta.distributed.io as io\n",
    "    from pyrosetta.rosetta.core.select.residue_selector import ChainSelector\n",
    "    \n",
    "    CLONE_LOC = \"~/projects/crispy_shifty\"\n",
    "\n",
    "    # insert the root of the repo into the sys.path\n",
    "    sys.path.insert(0, CLONE_LOC)\n",
    "    from crispy_shifty.protocols.cleaning import path_to_pose_or_ppose\n",
    "    from crispy_shifty.protocols.design import interface_between_selectors\n",
    "    from crispy_shifty.protocols.mpnn import MPNNDesign\n",
    "    from crispy_shifty.utils.io import print_timestamp\n",
    "\n",
    "    start_time = time()\n",
    "\n",
    "    # generate poses or convert input packed pose into pose\n",
    "    if packed_pose_in is not None:\n",
    "        poses = [io.to_pose(packed_pose_in)]\n",
    "        pdb_path = \"none\"\n",
    "    else:\n",
    "        pdb_path = kwargs[\"pdb_path\"]\n",
    "        poses = path_to_pose_or_ppose(\n",
    "            path=pdb_path, cluster_scores=True, pack_result=False\n",
    "        )\n",
    "\n",
    "    for pose in poses:\n",
    "        pose.update_residue_neighbors()\n",
    "        scores = dict(pose.scores)\n",
    "        print_timestamp(\"Setting up design selector\", start_time)\n",
    "        # MAKE A SELECTOR THAT SELECTS THE RESIDUES TO BE DESIGNED\n",
    "#         DESIGN_SELECTOR = ChainSelector(1)\n",
    "        print_timestamp(\"Designing interface with MPNN\", start_time)\n",
    "        # construct the MPNNDesign object\n",
    "#         mpnn_design = MPNNDesign(\n",
    "#             design_selector=DESIGN_SELECTOR,\n",
    "#             # MPNN understands layers, unsats, helix caps etc so just ban CYS\n",
    "#             omit_AAs=\"CX\",\n",
    "#             **kwargs,\n",
    "#         )\n",
    "#         # design the pose\n",
    "#         mpnn_design.apply(pose)\n",
    "        print_timestamp(\"MPNN design complete, updating pose datacache\", start_time)\n",
    "        # update the scores dict\n",
    "        scores.update(pose.scores)\n",
    "        # update the pose with the updated scores dict\n",
    "        for key, value in scores.items():\n",
    "            pyrosetta.rosetta.core.pose.setPoseExtraScore(pose, key, value)\n",
    "        # generate decoys with the new sequences\n",
    "        for decoy_pose in mpnn_design.generate_all_poses(pose, include_native=False)\n",
    "            ppose = io.to_packed(decoy_pose)\n",
    "            yield ppose"
   ]
  },
  {
   "cell_type": "code",
   "execution_count": null,
   "metadata": {},
   "outputs": [],
   "source": []
  },
  {
   "cell_type": "markdown",
   "metadata": {},
   "source": [
    "## Example 3: Sequence design with repeat symmetry"
   ]
  },
  {
   "cell_type": "code",
   "execution_count": null,
   "metadata": {},
   "outputs": [],
   "source": []
  },
  {
   "cell_type": "markdown",
   "metadata": {},
   "source": [
    "## Example 4: Conformational switch design"
   ]
  },
  {
   "cell_type": "code",
   "execution_count": null,
   "metadata": {},
   "outputs": [],
   "source": []
  }
 ],
 "metadata": {
  "kernelspec": {
   "display_name": "crispy (3.8.12)",
   "language": "python",
   "name": "crispy"
  },
  "language_info": {
   "codemirror_mode": {
    "name": "ipython",
    "version": 3
   },
   "file_extension": ".py",
   "mimetype": "text/x-python",
   "name": "python",
   "nbconvert_exporter": "python",
   "pygments_lexer": "ipython3",
   "version": "3.8.12"
  }
 },
 "nbformat": 4,
 "nbformat_minor": 5
}
