{
 "cells": [
  {
   "cell_type": "markdown",
   "metadata": {},
   "source": [
    "# Make bound and free states from the prepped inputs"
   ]
  },
  {
   "cell_type": "markdown",
   "metadata": {},
   "source": [
    "### Imports"
   ]
  },
  {
   "cell_type": "code",
   "execution_count": null,
   "metadata": {},
   "outputs": [],
   "source": [
    "%load_ext lab_black\n",
    "# Python standard library\n",
    "from glob import glob\n",
    "import os\n",
    "import socket\n",
    "import sys\n",
    "\n",
    "# 3rd party library imports\n",
    "import dask\n",
    "import matplotlib.pyplot as plt\n",
    "import pandas as pd\n",
    "import pyrosetta\n",
    "import numpy as np\n",
    "import scipy\n",
    "import seaborn as sns\n",
    "from tqdm.auto import tqdm  # jupyter compatible progress bar\n",
    "\n",
    "tqdm.pandas()  # link tqdm to pandas\n",
    "# Notebook magic\n",
    "# save plots in the notebook\n",
    "%matplotlib inline\n",
    "# reloads modules automatically before executing cells\n",
    "%load_ext autoreload\n",
    "%autoreload 2\n",
    "print(f\"running in directory: {os.getcwd()}\")  # where are we?\n",
    "print(f\"running on node: {socket.gethostname()}\")  # what node are we on?"
   ]
  },
  {
   "cell_type": "markdown",
   "metadata": {},
   "source": [
    "### Set working directory to the root of the crispy_shifty repo"
   ]
  },
  {
   "cell_type": "code",
   "execution_count": 2,
   "metadata": {},
   "outputs": [],
   "source": [
    "os.chdir(\"/home/pleung/projects/crispy_shifty\")  # TODO projects dir"
   ]
  },
  {
   "cell_type": "markdown",
   "metadata": {},
   "source": [
    "### Load a the scorefile containing the cleaned input scaffolds\n",
    "These scaffolds had their disulfides removed and have some standard rosetta metrics, AF2 scores and various metadata written to them.  \n",
    "We will also make the task generator here"
   ]
  },
  {
   "cell_type": "code",
   "execution_count": 3,
   "metadata": {},
   "outputs": [
    {
     "name": "stderr",
     "output_type": "stream",
     "text": [
      "15503it [01:07, 228.03it/s]\n"
     ]
    }
   ],
   "source": [
    "sys.path.insert(0, os.getcwd())\n",
    "from crispy_shifty.utils.io import parse_scorefile_linear\n",
    "\n",
    "\n",
    "def create_tasks(scaffolds, options):\n",
    "    for scaffold in scaffolds.index:\n",
    "        num_helices = len(scaffolds.loc[scaffold][\"topo\"])\n",
    "        if scaffolds.loc[scaffold][\"scaffold_type\"] != \"drhicks1_JHR\":\n",
    "            continue  # TODO\n",
    "        if num_helices % 2 == 0:  # split even numbers in half\n",
    "            pre_break_helices = [int(num_helices / 2)]\n",
    "        else:  # get middle two for odd numbers\n",
    "            first_helix = int(num_helices / 2)  # rounds down\n",
    "            pre_break_helices = [first_helix, first_helix + 1]\n",
    "        for pre_break_helix in pre_break_helices:\n",
    "            tasks = {}\n",
    "            tasks[\"clash_cutoff\"] = 5000\n",
    "            tasks[\"extra_options\"] = options\n",
    "            tasks[\"name\"] = (\n",
    "                scaffolds.loc[scaffold][\"pdb\"].split(\"/\")[-1].replace(\".pdb\", \"\", 1)\n",
    "            )\n",
    "            tasks[\"pdb_path\"] = scaffold\n",
    "            tasks[\"pre_break_helix\"] = pre_break_helix\n",
    "            yield tasks\n",
    "\n",
    "\n",
    "scaffolds = parse_scorefile_linear(\n",
    "    os.path.join(os.getcwd(), \"scaffolds/01_prep_inputs/scores.json\")\n",
    ")"
   ]
  },
  {
   "cell_type": "markdown",
   "metadata": {},
   "source": [
    "### Make helix-bound states from the scaffolds"
   ]
  },
  {
   "cell_type": "code",
   "execution_count": null,
   "metadata": {
    "scrolled": true,
    "tags": []
   },
   "outputs": [],
   "source": [
    "# Python standard library\n",
    "import os\n",
    "import pwd\n",
    "import socket\n",
    "import sys\n",
    "\n",
    "# 3rd party library imports\n",
    "from dask.distributed import Client\n",
    "from dask_jobqueue import SLURMCluster\n",
    "\n",
    "# Rosetta library imports\n",
    "from pyrosetta.distributed.cluster.core import PyRosettaCluster\n",
    "\n",
    "# Custom library imports\n",
    "sys.path.insert(0, os.getcwd())\n",
    "from crispy_shifty.protocols.states import make_bound_states  # the functions we will distribute\n",
    "\n",
    "\n",
    "print(\n",
    "    \"run the following from your local terminal to port forward the dashboard to localhost\"\n",
    ")\n",
    "print(\n",
    "    f\"ssh -L 8000:localhost:8787 {pwd.getpwuid(os.getuid()).pw_name}@{socket.gethostname()}\"\n",
    ")\n",
    "print(\"dashboard is now visible at localhost:8000\")\n",
    "print(f\"can also view dashboard at {socket.gethostname()}:8787 without port forwarding\")\n",
    "options = {\n",
    "    \"-out:level\": \"200\",  # warning outputs only\n",
    "}\n",
    "output_path = os.path.join(os.getcwd(), \"scaffolds/02_make_states\")\n",
    "os.makedirs(output_path, exist_ok=True)\n",
    "\n",
    "if __name__ == \"__main__\":\n",
    "    # configure SLURM cluster as a context manager\n",
    "    with SLURMCluster(\n",
    "        cores=1,\n",
    "        processes=1,\n",
    "        job_cpu=1,\n",
    "        memory=\"8GB\",\n",
    "        queue=\"short\",\n",
    "        walltime=\"3:00:00\",\n",
    "        death_timeout=120,\n",
    "        local_directory=\"$TMPDIR\",  # spill worker litter on local node temp storage\n",
    "        log_directory=\"/mnt/home/pleung/logs/slurm_logs\",\n",
    "        extra=[\"--lifetime\", \"3h\", \"--lifetime-stagger\", \"5m\"],\n",
    "    ) as cluster:\n",
    "        print(cluster.job_script())\n",
    "        # scale between 1-150 workers,\n",
    "        cluster.adapt(\n",
    "            minimum=1,\n",
    "            maximum=150,\n",
    "            wait_count=999,  # Number of consecutive times that a worker should be suggested for removal it is removed\n",
    "            interval=\"5s\",  # Time between checks\n",
    "            target_duration=\"60s\",\n",
    "        )\n",
    "        # setup a client to interact with the cluster as a context manager\n",
    "        with Client(cluster) as client:\n",
    "            print(client)\n",
    "            client.upload_file(\n",
    "                os.path.join(os.getcwd(), \"crispy_shifty/protocols/states.py\")\n",
    "            )  # upload the script that contains the functions to distribute\n",
    "            PyRosettaCluster(\n",
    "                client=client,\n",
    "                logging_level=\"WARNING\",\n",
    "                output_path=output_path,\n",
    "                project_name=\"crispy_shifty\",\n",
    "                scratch_dir=output_path,\n",
    "                simulation_name=\"notebooks_02_make_states\",\n",
    "                tasks=create_tasks(scaffolds, options),\n",
    "            ).distribute(protocols=[make_bound_states])\n",
    "            client.close()\n",
    "        cluster.scale(0)\n",
    "        cluster.close()\n",
    "    print(\"distributed run complete\")"
   ]
  },
  {
   "cell_type": "markdown",
   "metadata": {},
   "source": [
    "### Unused blocks"
   ]
  },
  {
   "cell_type": "code",
   "execution_count": null,
   "metadata": {
    "scrolled": true,
    "tags": []
   },
   "outputs": [],
   "source": [
    "%%time \n",
    "import pyrosetta\n",
    "\n",
    "pyrosetta.init()\n",
    "\n",
    "\n",
    "sys.path.insert(0, \"~/projects/crispy_shifty/\") # TODO projects\n",
    "from crispy_shifty.protocols.states import make_bound_states\n",
    "\n",
    "\n",
    "t = next(\n",
    "    make_bound_states(\n",
    "        None,\n",
    "        **{\n",
    "            'pdb_path': '/mnt/projects/crispy_shifty/scaffolds/01_prep_inputs/decoys/0000/notebooks_01_prep_inputs_5f660bfadf6b46fa8bdfc410a4f2dc2b.pdb.bz2',\n",
    "            'name': 'JHR_bd5_04863',\n",
    "            'pre_break_helix': 3,\n",
    "        }\n",
    "    )\n",
    ")"
   ]
  },
  {
   "cell_type": "code",
   "execution_count": 14,
   "metadata": {},
   "outputs": [
    {
     "data": {
      "text/plain": [
       "True"
      ]
     },
     "execution_count": 14,
     "metadata": {},
     "output_type": "execute_result"
    }
   ],
   "source": [
    "t.pose.dump_pdb(\"test.pdb\")"
   ]
  },
  {
   "cell_type": "code",
   "execution_count": 15,
   "metadata": {
    "scrolled": true
   },
   "outputs": [
    {
     "data": {
      "text/plain": [
       "{'best_average_DAN_plddts': '0.9248046875',\n",
       " 'best_average_plddts': '95.1726622713',\n",
       " 'best_model': '5',\n",
       " 'best_ptm': '0.8553902834',\n",
       " 'best_rmsd_to_input': '1.2009233396',\n",
       " 'buns_parent': '0.0',\n",
       " 'docked_helix': '3',\n",
       " 'dslf_fa13': '0.0',\n",
       " 'exposed_hydrophobics_parent': '734.278564453125',\n",
       " 'fa_atr': '-851.7773147936174',\n",
       " 'fa_dun_dev': '22.375049926361513',\n",
       " 'fa_dun_rot': '89.51412508526414',\n",
       " 'fa_dun_semi': '150.17635028193519',\n",
       " 'fa_elec': '-275.7626123403799',\n",
       " 'fa_intra_atr_xover4': '-50.247539441568634',\n",
       " 'fa_intra_elec': '-17.843802392344905',\n",
       " 'fa_intra_rep_xover4': '51.75833742586744',\n",
       " 'fa_intra_sol_xover4': '36.48246339198184',\n",
       " 'fa_rep': '192.4940382661695',\n",
       " 'fa_sol': '639.1173028594893',\n",
       " 'geometry_parent': '1.0',\n",
       " 'hbond_bb_sc': '-7.789377755467804',\n",
       " 'hbond_lr_bb': '-5.9531405191324',\n",
       " 'hbond_sc': '-20.2549378213548',\n",
       " 'hbond_sr_bb': '-113.80052920118844',\n",
       " 'holes_all_parent': '-1.4814857244491577',\n",
       " 'holes_core_parent': '-1.3556149005889893',\n",
       " 'hxl_tors': '0.604019396639593',\n",
       " 'lk_ball': '381.09204964583364',\n",
       " 'lk_ball_bridge': '3.7390293893955024',\n",
       " 'lk_ball_bridge_uncpl': '27.668825952210415',\n",
       " 'lk_ball_iso': '943.0437224226577',\n",
       " 'mismatch_probability_parent': '0.2561006546020508',\n",
       " 'omega': '21.476099927816847',\n",
       " 'p_aa_pp': '-56.81380568220571',\n",
       " 'packstat_parent': '0.6346622705459595',\n",
       " 'parent': 'JHR_bd5_04863',\n",
       " 'parent_length': '131',\n",
       " 'pdb': '/net/shared/scaffolds/pre_scaffold_DB/drhicks1_JHR/JHR_bd5_04863.pdb',\n",
       " 'pivot_helix': '4',\n",
       " 'pre_break_helix': '3',\n",
       " 'pro_close': '0.24510421977495603',\n",
       " 'rama_prepro': '23.144880983117',\n",
       " 'ref': '-66.1666780000001',\n",
       " 'sap_parent': '45.263484954833984',\n",
       " 'sc_all_parent': '0.805534303188324',\n",
       " 'scaffold_type': 'drhicks1_JHR',\n",
       " 'score_per_res_parent': '-3.275052309036255',\n",
       " 'shift': '-7',\n",
       " 'state': 'JHR_bd5_04863_p_4_s_-7_d_3',\n",
       " 'topo': 'HHHHHHH',\n",
       " 'total_score': '-429.0318610961128',\n",
       " 'trimmed_length': '131',\n",
       " 'bb_clash': 40704.52734375}"
      ]
     },
     "execution_count": 15,
     "metadata": {},
     "output_type": "execute_result"
    }
   ],
   "source": [
    "t.scores"
   ]
  },
  {
   "cell_type": "code",
   "execution_count": null,
   "metadata": {},
   "outputs": [],
   "source": []
  }
 ],
 "metadata": {
  "kernelspec": {
   "display_name": "crispy (3.8.10)",
   "language": "python",
   "name": "crispy"
  },
  "language_info": {
   "codemirror_mode": {
    "name": "ipython",
    "version": 3
   },
   "file_extension": ".py",
   "mimetype": "text/x-python",
   "name": "python",
   "nbconvert_exporter": "python",
   "pygments_lexer": "ipython3",
   "version": "3.8.10"
  }
 },
 "nbformat": 4,
 "nbformat_minor": 4
}
