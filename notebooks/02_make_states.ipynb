{
 "cells": [
  {
   "cell_type": "markdown",
   "metadata": {},
   "source": [
    "# Make bound and free states from the prepped inputs"
   ]
  },
  {
   "cell_type": "markdown",
   "metadata": {},
   "source": [
    "### Imports"
   ]
  },
  {
   "cell_type": "code",
   "execution_count": 1,
   "metadata": {},
   "outputs": [
    {
     "name": "stdout",
     "output_type": "stream",
     "text": [
      "running in directory: /mnt/home/pleung/projects/crispy_shifty/notebooks\n",
      "running on node: dig65\n"
     ]
    }
   ],
   "source": [
    "%load_ext lab_black\n",
    "# Python standard library\n",
    "from glob import glob\n",
    "import os\n",
    "import socket\n",
    "import sys\n",
    "\n",
    "# 3rd party library imports\n",
    "import dask\n",
    "import matplotlib.pyplot as plt\n",
    "import pandas as pd\n",
    "import pyrosetta\n",
    "import numpy as np\n",
    "import scipy\n",
    "import seaborn as sns\n",
    "from tqdm.auto import tqdm  # jupyter compatible progress bar\n",
    "\n",
    "tqdm.pandas()  # link tqdm to pandas\n",
    "# Notebook magic\n",
    "# save plots in the notebook\n",
    "%matplotlib inline\n",
    "# reloads modules automatically before executing cells\n",
    "%load_ext autoreload\n",
    "%autoreload 2\n",
    "print(f\"running in directory: {os.getcwd()}\")  # where are we?\n",
    "print(f\"running on node: {socket.gethostname()}\")  # what node are we on?"
   ]
  },
  {
   "cell_type": "markdown",
   "metadata": {},
   "source": [
    "### Set working directory to the root of the crispy_shifty repo\n",
    "TODO set to projects dir"
   ]
  },
  {
   "cell_type": "code",
   "execution_count": 2,
   "metadata": {},
   "outputs": [],
   "source": [
    "os.chdir(\"/home/pleung/projects/crispy_shifty\")\n",
    "# os.chdir(\"/projects/crispy_shifty\")"
   ]
  },
  {
   "cell_type": "markdown",
   "metadata": {},
   "source": [
    "### Load a the scorefile containing the cleaned input scaffolds\n",
    "These scaffolds had their disulfides removed and have some standard rosetta metrics, AF2 scores and various metadata written to them.  \n",
    "We will also make the task generator here"
   ]
  },
  {
   "cell_type": "code",
   "execution_count": 3,
   "metadata": {},
   "outputs": [
    {
     "name": "stderr",
     "output_type": "stream",
     "text": [
      "/projects/crispy_shifty/envs/crispy/lib/python3.8/site-packages/dask_jobqueue/core.py:20: FutureWarning: tmpfile is deprecated and will be removed in a future release. Please use dask.utils.tmpfile instead.\n",
      "  from distributed.utils import tmpfile\n"
     ]
    },
    {
     "data": {
      "application/vnd.jupyter.widget-view+json": {
       "model_id": "0088da7f6cd44663a96f830ed0522bc5",
       "version_major": 2,
       "version_minor": 0
      },
      "text/plain": [
       "  0%|          | 0/113 [00:00<?, ?it/s]"
      ]
     },
     "metadata": {},
     "output_type": "display_data"
    }
   ],
   "source": [
    "sys.path.insert(0, os.getcwd())\n",
    "from crispy_shifty.utils.io import parse_scorefile_linear\n",
    "\n",
    "\n",
    "def create_tasks(scaffolds, options):\n",
    "    for scaffold in scaffolds.index:\n",
    "        # determine where to split the scaffold by counting the number of helixes\n",
    "        num_helices = len(scaffolds.loc[scaffold][\"topo\"])\n",
    "        # split even numbers in half\n",
    "        if num_helices % 2 == 0:\n",
    "            pre_break_helices = [int(num_helices / 2)]\n",
    "        # get middle two for odd numbers\n",
    "        else:\n",
    "            first_helix = int(num_helices / 2)  # rounds down\n",
    "            pre_break_helices = [first_helix, first_helix + 1]\n",
    "        for pre_break_helix in pre_break_helices:\n",
    "            tasks = {}\n",
    "            tasks[\"clash_cutoff\"] = 5000\n",
    "            tasks[\"extra_options\"] = options\n",
    "            # interfaces must be a ratio of 1:3 or 3:1 between the n and c term halves and the bound helix\n",
    "            tasks[\"int_cutoff\"] = 0.33\n",
    "            # get the name of the original design\n",
    "            tasks[\"name\"] = (\n",
    "                scaffolds.loc[scaffold][\"pdb\"].split(\"/\")[-1].replace(\".pdb\", \"\", 1)\n",
    "            )\n",
    "            tasks[\"pdb_path\"] = scaffold\n",
    "            tasks[\"pre_break_helix\"] = pre_break_helix\n",
    "            yield tasks\n",
    "\n",
    "\n",
    "scaffolds = parse_scorefile_linear(\n",
    "    os.path.join(os.getcwd(), \"scaffolds/01_prep_inputs/scores.json\")\n",
    ")"
   ]
  },
  {
   "cell_type": "markdown",
   "metadata": {},
   "source": [
    "### Make helix-bound states from the scaffolds"
   ]
  },
  {
   "cell_type": "code",
   "execution_count": 4,
   "metadata": {
    "scrolled": true,
    "tags": []
   },
   "outputs": [
    {
     "name": "stdout",
     "output_type": "stream",
     "text": [
      "run the following from your local terminal to port forward the dashboard to localhost\n",
      "ssh -L 8000:localhost:8787 pleung@dig27\n",
      "dashboard is now visible at localhost:8000\n",
      "can also view dashboard at dig27:8787 without port forwarding\n",
      "#!/usr/bin/env bash\n",
      "\n",
      "#SBATCH -J dask-worker\n",
      "#SBATCH -e /mnt/home/pleung/logs/slurm_logs/dask-worker-%J.err\n",
      "#SBATCH -o /mnt/home/pleung/logs/slurm_logs/dask-worker-%J.out\n",
      "#SBATCH -p short\n",
      "#SBATCH -n 1\n",
      "#SBATCH --cpus-per-task=1\n",
      "#SBATCH --mem=8G\n",
      "#SBATCH -t 3:00:00\n",
      "\n",
      "/projects/crispy_shifty/envs/crispy/bin/python -m distributed.cli.dask_worker tcp://172.16.131.57:46203 --nthreads 1 --memory-limit 7.45GiB --name dummy-name --nanny --death-timeout 120 --local-directory $TMPDIR --lifetime 3h --lifetime-stagger 5m --protocol tcp://\n",
      "\n",
      "<Client: 'tcp://172.16.131.57:46203' processes=0 threads=0, memory=0 B>\n"
     ]
    },
    {
     "name": "stderr",
     "output_type": "stream",
     "text": [
      "tornado.application - ERROR - Exception in callback functools.partial(<bound method IOLoop._discard_future_result of <zmq.eventloop.ioloop.ZMQIOLoop object at 0x7fdff1a98dc0>>, <Task finished name='Task-97620' coro=<Cluster._sync_cluster_info() done, defined at /projects/crispy_shifty/envs/crispy/lib/python3.8/site-packages/distributed/deploy/cluster.py:104> exception=CommClosedError(\"Exception while trying to call remote method 'set_metadata' before comm was established.\")>)\n",
      "Traceback (most recent call last):\n",
      "  File \"/projects/crispy_shifty/envs/crispy/lib/python3.8/site-packages/distributed/comm/tcp.py\", line 205, in read\n",
      "    frames_nbytes = await stream.read_bytes(fmt_size)\n",
      "tornado.iostream.StreamClosedError: Stream is closed\n",
      "\n",
      "The above exception was the direct cause of the following exception:\n",
      "\n",
      "Traceback (most recent call last):\n",
      "  File \"/projects/crispy_shifty/envs/crispy/lib/python3.8/site-packages/distributed/core.py\", line 787, in send_recv_from_rpc\n",
      "    result = await send_recv(comm=comm, op=key, **kwargs)\n",
      "  File \"/projects/crispy_shifty/envs/crispy/lib/python3.8/site-packages/distributed/core.py\", line 640, in send_recv\n",
      "    response = await comm.read(deserializers=deserializers)\n",
      "  File \"/projects/crispy_shifty/envs/crispy/lib/python3.8/site-packages/distributed/comm/tcp.py\", line 221, in read\n",
      "    convert_stream_closed_error(self, e)\n",
      "  File \"/projects/crispy_shifty/envs/crispy/lib/python3.8/site-packages/distributed/comm/tcp.py\", line 128, in convert_stream_closed_error\n",
      "    raise CommClosedError(f\"in {obj}: {exc}\") from exc\n",
      "distributed.comm.core.CommClosedError: in <TCP (closed) rpc.set_metadata local=tcp://172.16.131.57:56222 remote=tcp://172.16.131.57:46203>: Stream is closed\n",
      "\n",
      "The above exception was the direct cause of the following exception:\n",
      "\n",
      "Traceback (most recent call last):\n",
      "  File \"/projects/crispy_shifty/envs/crispy/lib/python3.8/site-packages/tornado/ioloop.py\", line 741, in _run_callback\n",
      "    ret = callback()\n",
      "  File \"/projects/crispy_shifty/envs/crispy/lib/python3.8/site-packages/tornado/ioloop.py\", line 765, in _discard_future_result\n",
      "    future.result()\n",
      "  File \"/projects/crispy_shifty/envs/crispy/lib/python3.8/site-packages/distributed/deploy/cluster.py\", line 105, in _sync_cluster_info\n",
      "    await self.scheduler_comm.set_metadata(\n",
      "  File \"/projects/crispy_shifty/envs/crispy/lib/python3.8/site-packages/distributed/core.py\", line 790, in send_recv_from_rpc\n",
      "    raise type(e)(\n",
      "distributed.comm.core.CommClosedError: Exception while trying to call remote method 'set_metadata' before comm was established.\n",
      "Task was destroyed but it is pending!\n",
      "task: <Task pending name='Task-97615' coro=<_needs_document_lock.<locals>._needs_document_lock_wrapper() done, defined at /projects/crispy_shifty/envs/crispy/lib/python3.8/site-packages/bokeh/server/session.py:77> wait_for=<Future finished result=<tornado.lock...x7fdff0073f70>> cb=[multi_future.<locals>.callback() at /projects/crispy_shifty/envs/crispy/lib/python3.8/site-packages/tornado/gen.py:520]>\n"
     ]
    },
    {
     "name": "stdout",
     "output_type": "stream",
     "text": [
      "distributed run complete\n"
     ]
    }
   ],
   "source": [
    "# Python standard library\n",
    "import os\n",
    "import pwd\n",
    "import socket\n",
    "import sys\n",
    "import time\n",
    "\n",
    "# 3rd party library imports\n",
    "from dask.distributed import Client\n",
    "from dask_jobqueue import SLURMCluster\n",
    "\n",
    "# Rosetta library imports\n",
    "from pyrosetta.distributed.cluster.core import PyRosettaCluster\n",
    "\n",
    "# Custom library imports\n",
    "sys.path.insert(0, os.getcwd())\n",
    "from crispy_shifty.protocols.states import (\n",
    "    make_bound_states,\n",
    ")  # the functions we will distribute\n",
    "\n",
    "\n",
    "print(\n",
    "    \"run the following from your local terminal to port forward the dashboard to localhost\"\n",
    ")\n",
    "print(\n",
    "    f\"ssh -L 8000:localhost:8787 {pwd.getpwuid(os.getuid()).pw_name}@{socket.gethostname()}\"\n",
    ")\n",
    "print(\"dashboard is now visible at localhost:8000\")\n",
    "print(f\"can also view dashboard at {socket.gethostname()}:8787 without port forwarding\")\n",
    "options = {\n",
    "    \"-out:level\": \"200\",  # warning outputs only\n",
    "}\n",
    "output_path = os.path.join(os.getcwd(), \"scaffolds/02_make_bound_states\")\n",
    "os.makedirs(output_path, exist_ok=True)\n",
    "\n",
    "if __name__ == \"__main__\":\n",
    "    # configure SLURM cluster as a context manager\n",
    "    with SLURMCluster(\n",
    "        cores=1,\n",
    "        processes=1,\n",
    "        job_cpu=1,\n",
    "        memory=\"8GB\",\n",
    "        queue=\"short\",\n",
    "        walltime=\"3:00:00\",\n",
    "        death_timeout=120,\n",
    "        local_directory=\"$TMPDIR\",  # spill worker litter on local node temp storage\n",
    "        log_directory=\"/mnt/home/pleung/logs/slurm_logs\",\n",
    "        extra=[\"--lifetime\", \"3h\", \"--lifetime-stagger\", \"5m\"],\n",
    "    ) as cluster:\n",
    "        print(cluster.job_script())\n",
    "        # scale between 1-150 workers,\n",
    "        cluster.adapt(\n",
    "            minimum=1,\n",
    "            maximum=150,\n",
    "            wait_count=999,  # Number of consecutive times that a worker should be suggested for removal it is removed\n",
    "            interval=\"5s\",  # Time between checks\n",
    "            target_duration=\"60s\",\n",
    "        )\n",
    "        # setup a client to interact with the cluster as a context manager\n",
    "        with Client(cluster) as client:\n",
    "            print(client)\n",
    "            client.upload_file(\n",
    "                os.path.join(os.getcwd(), \"crispy_shifty/protocols/states.py\")\n",
    "            )  # upload the script that contains the functions to distribute\n",
    "            PyRosettaCluster(\n",
    "                client=client,\n",
    "                logging_level=\"WARNING\",\n",
    "                output_path=output_path,\n",
    "                project_name=\"crispy_shifty\",\n",
    "                scratch_dir=output_path,\n",
    "                simulation_name=\"notebooks_02_make_bound_states\",\n",
    "                tasks=create_tasks(scaffolds, options),\n",
    "            ).distribute(protocols=[make_bound_states])\n",
    "            time.sleep(5)\n",
    "            client.close()\n",
    "        time.sleep(5)\n",
    "        cluster.scale(0)\n",
    "        time.sleep(5)\n",
    "        cluster.close()\n",
    "    print(\"distributed run complete\")"
   ]
  },
  {
   "cell_type": "markdown",
   "metadata": {},
   "source": [
    "### Make free states from the scaffolds"
   ]
  },
  {
   "cell_type": "code",
   "execution_count": 6,
   "metadata": {
    "scrolled": true,
    "tags": []
   },
   "outputs": [
    {
     "name": "stdout",
     "output_type": "stream",
     "text": [
      "run the following from your local terminal to port forward the dashboard to localhost\n",
      "ssh -L 8000:localhost:8787 pleung@dig27\n",
      "dashboard is now visible at localhost:8000\n",
      "can also view dashboard at dig27:8787 without port forwarding\n",
      "#!/usr/bin/env bash\n",
      "\n",
      "#SBATCH -J dask-worker\n",
      "#SBATCH -e /mnt/home/pleung/logs/slurm_logs/dask-worker-%J.err\n",
      "#SBATCH -o /mnt/home/pleung/logs/slurm_logs/dask-worker-%J.out\n",
      "#SBATCH -p short\n",
      "#SBATCH -n 1\n",
      "#SBATCH --cpus-per-task=1\n",
      "#SBATCH --mem=8G\n",
      "#SBATCH -t 3:00:00\n",
      "\n",
      "/projects/crispy_shifty/envs/crispy/bin/python -m distributed.cli.dask_worker tcp://172.16.131.57:40235 --nthreads 1 --memory-limit 7.45GiB --name dummy-name --nanny --death-timeout 120 --local-directory $TMPDIR --lifetime 3h --lifetime-stagger 5m --protocol tcp://\n",
      "\n",
      "<Client: 'tcp://172.16.131.57:40235' processes=0 threads=0, memory=0 B>\n"
     ]
    },
    {
     "name": "stderr",
     "output_type": "stream",
     "text": [
      "Task was destroyed but it is pending!\n",
      "task: <Task pending name='Task-85764' coro=<_needs_document_lock.<locals>._needs_document_lock_wrapper() running at /projects/crispy_shifty/envs/crispy/lib/python3.8/site-packages/bokeh/server/session.py:105> wait_for=<Task finished name='Task-85883' coro=<WebSocketProtocol13.write_message.<locals>.wrapper() done, defined at /projects/crispy_shifty/envs/crispy/lib/python3.8/site-packages/tornado/websocket.py:1100> result=None> cb=[multi_future.<locals>.callback() at /projects/crispy_shifty/envs/crispy/lib/python3.8/site-packages/tornado/gen.py:520]>\n",
      "Exception ignored in: <coroutine object _needs_document_lock.<locals>._needs_document_lock_wrapper at 0x7f6d129f1440>\n",
      "Traceback (most recent call last):\n",
      "  File \"/projects/crispy_shifty/envs/crispy/lib/python3.8/site-packages/bokeh/server/session.py\", line 105, in _needs_document_lock_wrapper\n",
      "    await p\n",
      "  File \"/projects/crispy_shifty/envs/crispy/lib/python3.8/site-packages/tornado/locks.py\", line 283, in __exit__\n",
      "    self._obj.release()\n",
      "  File \"/projects/crispy_shifty/envs/crispy/lib/python3.8/site-packages/tornado/locks.py\", line 483, in release\n",
      "    super().release()\n",
      "  File \"/projects/crispy_shifty/envs/crispy/lib/python3.8/site-packages/tornado/locks.py\", line 412, in release\n",
      "    waiter.set_result(_ReleasingContextManager(self))\n",
      "  File \"/projects/crispy_shifty/envs/crispy/lib/python3.8/asyncio/base_events.py\", line 719, in call_soon\n",
      "    self._check_closed()\n",
      "  File \"/projects/crispy_shifty/envs/crispy/lib/python3.8/asyncio/base_events.py\", line 508, in _check_closed\n",
      "    raise RuntimeError('Event loop is closed')\n",
      "RuntimeError: Event loop is closed\n"
     ]
    },
    {
     "name": "stdout",
     "output_type": "stream",
     "text": [
      "distributed run complete\n"
     ]
    }
   ],
   "source": [
    "# Python standard library\n",
    "import os\n",
    "import pwd\n",
    "import socket\n",
    "import sys\n",
    "import time\n",
    "\n",
    "# 3rd party library imports\n",
    "from dask.distributed import Client\n",
    "from dask_jobqueue import SLURMCluster\n",
    "\n",
    "# Rosetta library imports\n",
    "from pyrosetta.distributed.cluster.core import PyRosettaCluster\n",
    "\n",
    "# Custom library imports\n",
    "sys.path.insert(0, os.getcwd())\n",
    "from crispy_shifty.protocols.states import (\n",
    "    make_free_states,\n",
    ")  # the functions we will distribute\n",
    "\n",
    "\n",
    "print(\n",
    "    \"run the following from your local terminal to port forward the dashboard to localhost\"\n",
    ")\n",
    "print(\n",
    "    f\"ssh -L 8000:localhost:8787 {pwd.getpwuid(os.getuid()).pw_name}@{socket.gethostname()}\"\n",
    ")\n",
    "print(\"dashboard is now visible at localhost:8000\")\n",
    "print(f\"can also view dashboard at {socket.gethostname()}:8787 without port forwarding\")\n",
    "options = {\n",
    "    \"-out:level\": \"200\",  # warning outputs only\n",
    "}\n",
    "output_path = os.path.join(os.getcwd(), \"scaffolds/02_make_free_states\")\n",
    "os.makedirs(output_path, exist_ok=True)\n",
    "\n",
    "if __name__ == \"__main__\":\n",
    "    # configure SLURM cluster as a context manager\n",
    "    with SLURMCluster(\n",
    "        cores=1,\n",
    "        processes=1,\n",
    "        job_cpu=1,\n",
    "        memory=\"8GB\",\n",
    "        queue=\"short\",\n",
    "        walltime=\"3:00:00\",\n",
    "        death_timeout=120,\n",
    "        local_directory=\"$TMPDIR\",  # spill worker litter on local node temp storage\n",
    "        log_directory=\"/mnt/home/pleung/logs/slurm_logs\",\n",
    "        extra=[\"--lifetime\", \"3h\", \"--lifetime-stagger\", \"5m\"],\n",
    "    ) as cluster:\n",
    "        print(cluster.job_script())\n",
    "        # scale between 1-150 workers,\n",
    "        cluster.adapt(\n",
    "            minimum=1,\n",
    "            maximum=150,\n",
    "            wait_count=999,  # Number of consecutive times that a worker should be suggested for removal it is removed\n",
    "            interval=\"5s\",  # Time between checks\n",
    "            target_duration=\"60s\",\n",
    "        )\n",
    "        # setup a client to interact with the cluster as a context manager\n",
    "        with Client(cluster) as client:\n",
    "            print(client)\n",
    "            client.upload_file(\n",
    "                os.path.join(os.getcwd(), \"crispy_shifty/protocols/states.py\")\n",
    "            )  # upload the script that contains the functions to distribute\n",
    "            PyRosettaCluster(\n",
    "                client=client,\n",
    "                logging_level=\"WARNING\",\n",
    "                output_path=output_path,\n",
    "                project_name=\"crispy_shifty\",\n",
    "                scratch_dir=output_path,\n",
    "                simulation_name=\"notebooks_02_make_free_states\",\n",
    "                tasks=create_tasks(scaffolds, options),\n",
    "            ).distribute(protocols=[make_free_states])\n",
    "            time.sleep(5)\n",
    "            client.close()\n",
    "        time.sleep(5)\n",
    "        cluster.scale(0)\n",
    "        time.sleep(5)\n",
    "        cluster.close()\n",
    "    print(\"distributed run complete\")"
   ]
  },
  {
   "cell_type": "markdown",
   "metadata": {},
   "source": [
    "### Load resulting scorefiles of bound and free states"
   ]
  },
  {
   "cell_type": "code",
   "execution_count": 7,
   "metadata": {
    "scrolled": true,
    "tags": []
   },
   "outputs": [
    {
     "data": {
      "application/vnd.jupyter.widget-view+json": {
       "model_id": "001a6571453c406bbafecfb3724c2400",
       "version_major": 2,
       "version_minor": 0
      },
      "text/plain": [
       "  0%|          | 0/1693 [00:00<?, ?it/s]"
      ]
     },
     "metadata": {},
     "output_type": "display_data"
    },
    {
     "data": {
      "application/vnd.jupyter.widget-view+json": {
       "model_id": "e68885d8caaa4cd3b34cd41a24245a68",
       "version_major": 2,
       "version_minor": 0
      },
      "text/plain": [
       "  0%|          | 0/2073 [00:00<?, ?it/s]"
      ]
     },
     "metadata": {},
     "output_type": "display_data"
    }
   ],
   "source": [
    "sys.path.insert(0, os.getcwd())\n",
    "from crispy_shifty.utils.io import parse_scorefile_linear\n",
    "\n",
    "bound_scores_df = parse_scorefile_linear(\n",
    "    os.path.join(os.getcwd(), \"scaffolds/02_make_bound_states/scores.json\")\n",
    ")\n",
    "\n",
    "free_scores_df = parse_scorefile_linear(\n",
    "    os.path.join(os.getcwd(), \"scaffolds/02_make_free_states/scores.json\")\n",
    ")"
   ]
  },
  {
   "cell_type": "markdown",
   "metadata": {},
   "source": [
    "### Save a list of outputs"
   ]
  },
  {
   "cell_type": "code",
   "execution_count": 8,
   "metadata": {},
   "outputs": [
    {
     "data": {
      "application/vnd.jupyter.widget-view+json": {
       "model_id": "5736de8d57fc425891874ae3476f8123",
       "version_major": 2,
       "version_minor": 0
      },
      "text/plain": [
       "  0%|          | 0/1693 [00:00<?, ?it/s]"
      ]
     },
     "metadata": {},
     "output_type": "display_data"
    },
    {
     "data": {
      "application/vnd.jupyter.widget-view+json": {
       "model_id": "0078146997e741658336516716e83998",
       "version_major": 2,
       "version_minor": 0
      },
      "text/plain": [
       "  0%|          | 0/2073 [00:00<?, ?it/s]"
      ]
     },
     "metadata": {},
     "output_type": "display_data"
    }
   ],
   "source": [
    "with open(\n",
    "    os.path.join(os.getcwd(), \"scaffolds/02_make_bound_states/bound_states.list\"), \"w\"\n",
    ") as f:\n",
    "    for path in tqdm(bound_scores_df.index):\n",
    "        print(path, file=f)\n",
    "with open(\n",
    "    os.path.join(os.getcwd(), \"scaffolds/02_make_free_states/free_states.list\"), \"w\"\n",
    ") as f:\n",
    "    for path in tqdm(free_scores_df.index):\n",
    "        print(path, file=f)"
   ]
  },
  {
   "cell_type": "markdown",
   "metadata": {},
   "source": [
    "### Prototyping blocks"
   ]
  },
  {
   "cell_type": "code",
   "execution_count": null,
   "metadata": {
    "scrolled": true,
    "tags": []
   },
   "outputs": [],
   "source": [
    "%%time \n",
    "import pyrosetta\n",
    "\n",
    "pyrosetta.init()\n",
    "\n",
    "\n",
    "sys.path.insert(0, \"~/projects/crispy_shifty/\") # TODO projects\n",
    "from crispy_shifty.protocols.oop_states import make_bound_states\n",
    "# from crispy_shifty.protocols.states import make_bound_states\n",
    "\n",
    "\n",
    "t = make_bound_states(\n",
    "        None,\n",
    "        **{\n",
    "            'pdb_path': '/projects/crispy_shifty/scaffolds/01_prep_inputs/decoys/0007/notebooks_01_prep_inputs_ed174efba2714e1aaaa163c9fc406d39.pdb.bz2',\n",
    "            'name': 'DHR78_DHR71_l2_0_v2c',\n",
    "            'pre_break_helix': 4,\n",
    "#             'clash_cutoff': 5000,\n",
    "#             'int_cutoff': 0.9,\n",
    "#             'full_helix': True,\n",
    "        }\n",
    ")"
   ]
  },
  {
   "cell_type": "code",
   "execution_count": null,
   "metadata": {
    "scrolled": true
   },
   "outputs": [],
   "source": [
    "for i, tppose in enumerate(t):\n",
    "    tppose.pose.dump_pdb(f\"{tppose.scores['state']}.pdb\")"
   ]
  },
  {
   "cell_type": "code",
   "execution_count": 5,
   "metadata": {
    "scrolled": true,
    "tags": []
   },
   "outputs": [
    {
     "name": "stdout",
     "output_type": "stream",
     "text": [
      "PyRosetta-4 2021 [Rosetta PyRosetta4.conda.linux.cxx11thread.serialization.CentOS.python38.Release 2021.50+release.4ff291ed8257ec2d0cd4d96ae4289e1d39ce1007 2021-12-16T00:25:15] retrieved from: http://www.pyrosetta.org\n",
      "(C) Copyright Rosetta Commons Member Institutions. Created in JHU by Sergey Lyskov and PyRosetta Team.\n",
      "core.init: Checking for fconfig files in pwd and ./rosetta/flags\n",
      "core.init: Rosetta version: PyRosetta4.conda.linux.cxx11thread.serialization.CentOS.python38.Release r306 2021.50+release.4ff291e 4ff291ed8257ec2d0cd4d96ae4289e1d39ce1007 http://www.pyrosetta.org 2021-12-16T00:25:15\n",
      "core.init: command: PyRosetta -ex1 -ex2aro -database /projects/crispy_shifty/envs/crispy/lib/python3.8/site-packages/pyrosetta/database\n",
      "basic.random.init_random_generator: 'RNG device' seed mode, using '/dev/urandom', seed=526310612 seed_offset=0 real_seed=526310612 thread_index=0\n",
      "basic.random.init_random_generator: RandomGenerator:init: Normal mode, seed=526310612 RG_type=mt19937\n",
      "core.import_pose.import_pose: File '/home/pleung/projects/bistable_bundle/r4/helix_binders/08_analysis/pdbs/cs_088_Y.pdb' automatically determined to be of type PDB\n"
     ]
    }
   ],
   "source": [
    "import pyrosetta\n",
    "\n",
    "sys.path.insert(0, \"/projects/crispy_shifty/\")  # TODO projects\n",
    "from crispy_shifty.protocols.states import grow_terminal_helices\n",
    "\n",
    "\n",
    "pyrosetta.init()\n",
    "tpose = pyrosetta.pose_from_file(\n",
    "    \"/home/pleung/projects/bistable_bundle/r4/helix_binders/08_analysis/pdbs/cs_088_Y.pdb\"\n",
    ")\n",
    "tpose2 = grow_terminal_helices(\n",
    "    pose=tpose,\n",
    "    chain=2,\n",
    "    extend_n_term=7,\n",
    "    extend_c_term=7,\n",
    ")"
   ]
  },
  {
   "cell_type": "code",
   "execution_count": 18,
   "metadata": {
    "scrolled": true,
    "tags": []
   },
   "outputs": [
    {
     "name": "stdout",
     "output_type": "stream",
     "text": [
      "PyRosetta-4 2021 [Rosetta PyRosetta4.conda.linux.cxx11thread.serialization.CentOS.python38.Release 2021.50+release.4ff291ed8257ec2d0cd4d96ae4289e1d39ce1007 2021-12-16T00:25:15] retrieved from: http://www.pyrosetta.org\n",
      "(C) Copyright Rosetta Commons Member Institutions. Created in JHU by Sergey Lyskov and PyRosetta Team.\n",
      "core.init: Checking for fconfig files in pwd and ./rosetta/flags\n",
      "core.init: Rosetta version: PyRosetta4.conda.linux.cxx11thread.serialization.CentOS.python38.Release r306 2021.50+release.4ff291e 4ff291ed8257ec2d0cd4d96ae4289e1d39ce1007 http://www.pyrosetta.org 2021-12-16T00:25:15\n",
      "core.init: command: PyRosetta -ex1 -ex2aro -database /projects/crispy_shifty/envs/crispy/lib/python3.8/site-packages/pyrosetta/database\n",
      "basic.random.init_random_generator: 'RNG device' seed mode, using '/dev/urandom', seed=207898523 seed_offset=0 real_seed=207898523 thread_index=0\n",
      "basic.random.init_random_generator: RandomGenerator:init: Normal mode, seed=207898523 RG_type=mt19937\n",
      "core.import_pose.import_pose: File '/home/pleung/projects/bistable_bundle/r4/helix_binders/08_analysis/pdbs/cs_088_Y.pdb' automatically determined to be of type PDB\n",
      "core.scoring.ScoreFunctionFactory: SCOREFUNCTION: ref2015\n",
      "protocols.simple_moves.SwitchChainOrderMover: Number of chains in pose: 2\n",
      "protocols.simple_moves.SwitchChainOrderMover: Now at chain: 1\n",
      "protocols.simple_moves.SwitchChainOrderMover: Now at chain: 2\n",
      "protocols.simple_moves.SwitchChainOrderMover: New pose's foldtree FOLD_TREE  EDGE 1 206 -1  EDGE 1 207 1  EDGE 207 229 -1\n",
      "core.scoring.ScoreFunctionFactory: SCOREFUNCTION: ref2015\n",
      "protocols.simple_moves.SwitchChainOrderMover: Number of chains in pose: 2\n",
      "protocols.simple_moves.SwitchChainOrderMover: Now at chain: 2\n",
      "protocols.simple_moves.SwitchChainOrderMover: New pose's foldtree FOLD_TREE  EDGE 1 23 -1\n",
      "protocols.rosetta_scripts.RosettaScriptsParser: Validating input script...\n",
      "protocols.rosetta_scripts.RosettaScriptsParser: ...done\n",
      "protocols.rosetta_scripts.RosettaScriptsParser: Parsed script:\n",
      "<ROSETTASCRIPTS>\n",
      "\t<MOVERS>\n",
      "\t\t<InsertResMover additionalResidue=\"7\" chain=\"A\" grow_toward_Nterm=\"false\" name=\"cterm\" residue=\"23\" steal_angles_from_res=\"23\"/>\n",
      "\t</MOVERS>\n",
      "\t<PROTOCOLS/>\n",
      "</ROSETTASCRIPTS>\n",
      "core.scoring.ScoreFunctionFactory: SCOREFUNCTION: ref2015\n",
      "protocols.pose_length_moves.InsertResMover: additionalRes7,7\n",
      "protocols.rosetta_scripts.RosettaScriptsParser: Defined mover named \"cterm\" of type InsertResMover\n",
      "protocols.rosetta_scripts.ParsedProtocol: ParsedProtocol mover with the following settings\n",
      "protocols.pose_length_moves.InsertResMover: NOT YET IMPLEMENTED CORRECTLY WILL THROW OFF SELECTOR****************************\n",
      "protocols.rosetta_scripts.RosettaScriptsParser: Validating input script...\n",
      "protocols.rosetta_scripts.RosettaScriptsParser: ...done\n",
      "protocols.rosetta_scripts.RosettaScriptsParser: Parsed script:\n",
      "<ROSETTASCRIPTS>\n",
      "\t<MOVERS>\n",
      "\t\t<InsertResMover additionalResidue=\"7\" chain=\"A\" grow_toward_Nterm=\"true\" name=\"nterm\" residue=\"1\" steal_angles_from_res=\"2\"/>\n",
      "\t</MOVERS>\n",
      "\t<PROTOCOLS/>\n",
      "</ROSETTASCRIPTS>\n",
      "core.scoring.ScoreFunctionFactory: SCOREFUNCTION: ref2015\n",
      "protocols.pose_length_moves.InsertResMover: additionalRes7,7\n",
      "protocols.rosetta_scripts.RosettaScriptsParser: Defined mover named \"nterm\" of type InsertResMover\n",
      "protocols.rosetta_scripts.ParsedProtocol: ParsedProtocol mover with the following settings\n",
      "core.chemical.AtomICoor: [ WARNING ] IcoorAtomID::atom_id(): Cannot get atom_id for POLYMER_LOWER of residue ASP 1.  Returning BOGUS ID instead.\n",
      "core.conformation.Residue: [ WARNING ] missing an atom: 1  H   that depends on a nonexistent polymer connection!\n",
      "core.conformation.Residue: [ WARNING ]  --> generating it using idealized coordinates.\n",
      "protocols.pose_length_moves.InsertResMover: NOT YET IMPLEMENTED CORRECTLY WILL THROW OFF SELECTOR****************************\n",
      "protocols.simple_moves.SwitchChainOrderMover: Number of chains in pose: 2\n",
      "protocols.simple_moves.SwitchChainOrderMover: Now at chain: 1\n",
      "protocols.simple_moves.SwitchChainOrderMover: Now at chain: 2\n",
      "protocols.simple_moves.SwitchChainOrderMover: New pose's foldtree FOLD_TREE  EDGE 1 206 -1  EDGE 1 207 1  EDGE 207 243 -1\n"
     ]
    }
   ],
   "source": [
    "import pyrosetta\n",
    "\n",
    "sys.path.insert(0, \"~/projects/crispy_shifty/\")  # TODO projects\n",
    "from crispy_shifty.protocols.states import extend_helix_termini\n",
    "\n",
    "\n",
    "pyrosetta.init()\n",
    "tpose = pyrosetta.pose_from_file(\n",
    "    \"/home/pleung/projects/bistable_bundle/r4/helix_binders/08_analysis/pdbs/cs_088_Y.pdb\"\n",
    ")\n",
    "tpose2 = extend_helix_termini(\n",
    "    pose=tpose,\n",
    "    chain=2,\n",
    "    extend_n_term=7,\n",
    "    extend_c_term=7,\n",
    ")"
   ]
  },
  {
   "cell_type": "code",
   "execution_count": 19,
   "metadata": {},
   "outputs": [
    {
     "data": {
      "text/plain": [
       "True"
      ]
     },
     "execution_count": 19,
     "metadata": {},
     "output_type": "execute_result"
    }
   ],
   "source": [
    "tpose2.dump_pdb(\"test2.pdb\")"
   ]
  },
  {
   "cell_type": "code",
   "execution_count": 19,
   "metadata": {},
   "outputs": [],
   "source": [
    "!cp /home/pleung/projects/bistable_bundle/r4/helix_binders/08_analysis/pdbs/cs_088_Y.pdb ."
   ]
  },
  {
   "cell_type": "code",
   "execution_count": null,
   "metadata": {},
   "outputs": [],
   "source": []
  }
 ],
 "metadata": {
  "kernelspec": {
   "display_name": "crispy (3.8.12)",
   "language": "python",
   "name": "crispy"
  },
  "language_info": {
   "codemirror_mode": {
    "name": "ipython",
    "version": 3
   },
   "file_extension": ".py",
   "mimetype": "text/x-python",
   "name": "python",
   "nbconvert_exporter": "python",
   "pygments_lexer": "ipython3",
   "version": "3.8.12"
  }
 },
 "nbformat": 4,
 "nbformat_minor": 4
}
