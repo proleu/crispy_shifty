{
 "cells": [
  {
   "cell_type": "markdown",
   "metadata": {},
   "source": [
    "# Prep filtered scaffold sets for distributed design"
   ]
  },
  {
   "cell_type": "markdown",
   "metadata": {},
   "source": [
    "### Imports"
   ]
  },
  {
   "cell_type": "code",
   "execution_count": 1,
   "metadata": {},
   "outputs": [
    {
     "name": "stdout",
     "output_type": "stream",
     "text": [
      "running in directory: /mnt/home/pleung/projects/crispy_shifty/notebooks\n",
      "running on node: dig158\n"
     ]
    },
    {
     "data": {
      "application/javascript": [
       "\n",
       "            setTimeout(function() {\n",
       "                var nbb_cell_id = 1;\n",
       "                var nbb_unformatted_code = \"%load_ext nb_black\\n# python internal\\nfrom glob import glob\\nimport os\\nimport socket\\nimport sys\\n\\n# conda/pip\\nimport dask\\nimport matplotlib.pyplot as plt\\nimport pandas as pd\\nimport pyrosetta\\nimport numpy as np\\nimport scipy\\nimport seaborn as sns\\nfrom tqdm.auto import tqdm # jupyter compatible progress bar\\ntqdm.pandas() # link tqdm to pandas\\n\\n# notebook magic\\n# save plots in the notebook\\n%matplotlib inline \\n# reloads modules automatically before executing cells\\n%load_ext autoreload\\n%autoreload 2\\nprint(f\\\"running in directory: {os.getcwd()}\\\") # where are we?\\nprint(f\\\"running on node: {socket.gethostname()}\\\") # what node are we on?\";\n",
       "                var nbb_formatted_code = \"%load_ext nb_black\\n# python internal\\nfrom glob import glob\\nimport os\\nimport socket\\nimport sys\\n\\n# conda/pip\\nimport dask\\nimport matplotlib.pyplot as plt\\nimport pandas as pd\\nimport pyrosetta\\nimport numpy as np\\nimport scipy\\nimport seaborn as sns\\nfrom tqdm.auto import tqdm  # jupyter compatible progress bar\\n\\ntqdm.pandas()  # link tqdm to pandas\\n\\n# notebook magic\\n# save plots in the notebook\\n%matplotlib inline\\n# reloads modules automatically before executing cells\\n%load_ext autoreload\\n%autoreload 2\\nprint(f\\\"running in directory: {os.getcwd()}\\\")  # where are we?\\nprint(f\\\"running on node: {socket.gethostname()}\\\")  # what node are we on?\";\n",
       "                var nbb_cells = Jupyter.notebook.get_cells();\n",
       "                for (var i = 0; i < nbb_cells.length; ++i) {\n",
       "                    if (nbb_cells[i].input_prompt_number == nbb_cell_id) {\n",
       "                        if (nbb_cells[i].get_text() == nbb_unformatted_code) {\n",
       "                             nbb_cells[i].set_text(nbb_formatted_code);\n",
       "                        }\n",
       "                        break;\n",
       "                    }\n",
       "                }\n",
       "            }, 500);\n",
       "            "
      ],
      "text/plain": [
       "<IPython.core.display.Javascript object>"
      ]
     },
     "metadata": {},
     "output_type": "display_data"
    }
   ],
   "source": [
    "%load_ext nb_black\n",
    "# python internal\n",
    "from glob import glob\n",
    "import os\n",
    "import socket\n",
    "import sys\n",
    "\n",
    "# conda/pip\n",
    "import dask\n",
    "import matplotlib.pyplot as plt\n",
    "import pandas as pd\n",
    "import pyrosetta\n",
    "import numpy as np\n",
    "import scipy\n",
    "import seaborn as sns\n",
    "from tqdm.auto import tqdm # jupyter compatible progress bar\n",
    "tqdm.pandas() # link tqdm to pandas\n",
    "\n",
    "# notebook magic\n",
    "# save plots in the notebook\n",
    "%matplotlib inline \n",
    "# reloads modules automatically before executing cells\n",
    "%load_ext autoreload\n",
    "%autoreload 2\n",
    "print(f\"running in directory: {os.getcwd()}\") # where are we?\n",
    "print(f\"running on node: {socket.gethostname()}\") # what node are we on?"
   ]
  },
  {
   "cell_type": "markdown",
   "metadata": {},
   "source": [
    "### Load a dataframe of filtered scaffolds and associated metadata\n",
    "These scaffolds had AF2 run on them; for their best quality prediction out of the 5 AF2 ptm models they have > 92 plddt and < 1.5 RMSD to design. "
   ]
  },
  {
   "cell_type": "code",
   "execution_count": 2,
   "metadata": {},
   "outputs": [
    {
     "data": {
      "application/javascript": [
       "\n",
       "            setTimeout(function() {\n",
       "                var nbb_cell_id = 2;\n",
       "                var nbb_unformatted_code = \"inputs = pd.read_csv(f\\\"/mnt/home/pleung/projects/crispy_shifty/scaffolds/all_filtered.csv\\\")\";\n",
       "                var nbb_formatted_code = \"inputs = pd.read_csv(\\n    f\\\"/mnt/home/pleung/projects/crispy_shifty/scaffolds/all_filtered.csv\\\"\\n)\";\n",
       "                var nbb_cells = Jupyter.notebook.get_cells();\n",
       "                for (var i = 0; i < nbb_cells.length; ++i) {\n",
       "                    if (nbb_cells[i].input_prompt_number == nbb_cell_id) {\n",
       "                        if (nbb_cells[i].get_text() == nbb_unformatted_code) {\n",
       "                             nbb_cells[i].set_text(nbb_formatted_code);\n",
       "                        }\n",
       "                        break;\n",
       "                    }\n",
       "                }\n",
       "            }, 500);\n",
       "            "
      ],
      "text/plain": [
       "<IPython.core.display.Javascript object>"
      ]
     },
     "metadata": {},
     "output_type": "display_data"
    }
   ],
   "source": [
    "inputs = pd.read_csv(f\"/mnt/home/pleung/projects/crispy_shifty/scaffolds/all_filtered.csv\")"
   ]
  },
  {
   "cell_type": "markdown",
   "metadata": {},
   "source": [
    "### Domesticate the scaffolds by trimming off leading and trailing loops, designing away disulfides and adding metadata to the output pdb.bz2s. \n",
    "Will need to refold the resultant no_cys variants to check that they're ok"
   ]
  },
  {
   "cell_type": "code",
   "execution_count": null,
   "metadata": {},
   "outputs": [],
   "source": [
    "# remove_terminal_loops\n",
    "\"\"\"\n",
    "Use DSSP and delete region mover to idealize inputs\n",
    "\"\"\"\n",
    "# redesign_disulfides\n",
    "\"\"\"\n",
    "fixbb fastdesign with beta_nov16 on all cys residues using layerdesign\n",
    "\"\"\"\n",
    "# add_metadata"
   ]
  }
 ],
 "metadata": {
  "kernelspec": {
   "display_name": "crispy (3.8.10)",
   "language": "python",
   "name": "crispy"
  },
  "language_info": {
   "codemirror_mode": {
    "name": "ipython",
    "version": 3
   },
   "file_extension": ".py",
   "mimetype": "text/x-python",
   "name": "python",
   "nbconvert_exporter": "python",
   "pygments_lexer": "ipython3",
   "version": "3.8.10"
  }
 },
 "nbformat": 4,
 "nbformat_minor": 4
}
