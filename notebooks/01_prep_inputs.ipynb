{
 "cells": [
  {
   "cell_type": "markdown",
   "metadata": {},
   "source": [
    "# Prep filtered scaffold sets for distributed design"
   ]
  },
  {
   "cell_type": "markdown",
   "metadata": {},
   "source": [
    "### Imports"
   ]
  },
  {
   "cell_type": "code",
   "execution_count": 1,
   "metadata": {},
   "outputs": [
    {
     "name": "stdout",
     "output_type": "stream",
     "text": [
      "running in directory: /mnt/projects/crispy_shifty/notebooks\n",
      "running on node: dig136\n"
     ]
    }
   ],
   "source": [
    "%load_ext lab_black\n",
    "# Python standard library\n",
    "from glob import glob\n",
    "import os\n",
    "import socket\n",
    "import sys\n",
    "\n",
    "# 3rd party library imports\n",
    "import dask\n",
    "import matplotlib.pyplot as plt\n",
    "import pandas as pd\n",
    "import pyrosetta\n",
    "import numpy as np\n",
    "import scipy\n",
    "import seaborn as sns\n",
    "from tqdm.auto import tqdm  # jupyter compatible progress bar\n",
    "\n",
    "tqdm.pandas()  # link tqdm to pandas\n",
    "# Notebook magic\n",
    "# save plots in the notebook\n",
    "%matplotlib inline\n",
    "# reloads modules automatically before executing cells\n",
    "%load_ext autoreload\n",
    "%autoreload 2\n",
    "print(f\"running in directory: {os.getcwd()}\")  # where are we?\n",
    "print(f\"running on node: {socket.gethostname()}\")  # what node are we on?"
   ]
  },
  {
   "cell_type": "markdown",
   "metadata": {},
   "source": [
    "### Set working directory to the root of the crispy_shifty repo"
   ]
  },
  {
   "cell_type": "code",
   "execution_count": 2,
   "metadata": {},
   "outputs": [],
   "source": [
    "os.chdir(\"/projects/crispy_shifty\")"
   ]
  },
  {
   "cell_type": "markdown",
   "metadata": {},
   "source": [
    "### Load a dataframe of filtered scaffolds and associated metadata\n",
    "These scaffolds had AF2 run on them; for their best quality prediction out of the 5 AF2 ptm models they have > 92 plddt and < 1.5 RMSD to design.  \n",
    "We will also make the task generator here"
   ]
  },
  {
   "cell_type": "code",
   "execution_count": 3,
   "metadata": {},
   "outputs": [],
   "source": [
    "def create_tasks(scaffolds, options):\n",
    "    metadata_to_keep = [\n",
    "        \"pdb\",\n",
    "        \"topo\",\n",
    "        \"best_model\",\n",
    "        \"best_average_plddts\",\n",
    "        \"best_ptm\",\n",
    "        \"best_rmsd_to_input\",\n",
    "        \"best_average_DAN_plddts\",\n",
    "        \"scaffold_type\",\n",
    "    ]\n",
    "    for _, row in scaffolds.iterrows():\n",
    "        metadata = dict(row)\n",
    "        metadata = {k: v for k, v in metadata.items() if k in metadata_to_keep}\n",
    "        pdb_path = metadata[\"pdb\"]\n",
    "        tasks = {}\n",
    "        tasks[\"extra_options\"] = options\n",
    "        tasks[\"metadata\"] = metadata\n",
    "        tasks[\"pdb_path\"] = pdb_path\n",
    "        yield tasks\n",
    "\n",
    "\n",
    "scaffolds = pd.read_csv(\n",
    "    os.path.join(os.getcwd(), \"scaffolds/00_filter_scaffold_sets/all_filtered.csv\")\n",
    ")"
   ]
  },
  {
   "cell_type": "markdown",
   "metadata": {},
   "source": [
    "### Domesticate the scaffolds by trimming off leading and trailing loops, designing away disulfides and adding metadata to the output pdb.bz2s. "
   ]
  },
  {
   "cell_type": "code",
   "execution_count": null,
   "metadata": {},
   "outputs": [
    {
     "name": "stdout",
     "output_type": "stream",
     "text": [
      "Warning: Use of `pyrosetta.distributed.cluster` namespace requires Anaconda (or Miniconda) to be properly installed for reproducibility of PyRosetta simulations. Please install Anaconda (or Miniconda) onto your system to enable running `which conda`. For installation instructions, visit:\n",
      "https://docs.anaconda.com/anaconda/install\n",
      "\n",
      "run the following from your local terminal to port forward the dashboard to localhost\n",
      "ssh -L 8000:localhost:8787 pleung@dig63\n",
      "dashboard is now visible at localhost:8000\n",
      "can also view dashboard at dig63:8787 without port forwarding\n",
      "#!/usr/bin/env bash\n",
      "\n",
      "#SBATCH -J dask-worker\n",
      "#SBATCH -e /mnt/home/pleung/logs/slurm_logs/dask-worker-%J.err\n",
      "#SBATCH -o /mnt/home/pleung/logs/slurm_logs/dask-worker-%J.out\n",
      "#SBATCH -p medium\n",
      "#SBATCH -n 1\n",
      "#SBATCH --cpus-per-task=1\n",
      "#SBATCH --mem=12G\n",
      "#SBATCH -t 23:30:00\n",
      "\n",
      "/home/pleung/.conda/envs/crispy/bin/python -m distributed.cli.dask_worker tcp://172.16.131.93:36045 --nthreads 1 --memory-limit 11.18GiB --name dummy-name --nanny --death-timeout 120 --local-directory $TMPDIR/dask --lifetime 23h --lifetime-stagger 5m --protocol tcp://\n",
      "\n",
      "<Client: 'tcp://172.16.131.93:36045' processes=0 threads=0, memory=0 B>\n"
     ]
    },
    {
     "name": "stderr",
     "output_type": "stream",
     "text": [
      "WARNING:root:`conda env export --prefix /home/pleung/.conda/envs/crispy` did not run successfully, so the active conda environment YML file string was not saved! It is recommended to run: \n",
      "`conda env export --prefix /home/pleung/.conda/envs/crispy > environment.yml`\n",
      "to reproduce this simulation later.\n"
     ]
    }
   ],
   "source": [
    "# Python standard library                                                       \n",
    "import os\n",
    "import pwd\n",
    "import socket\n",
    "import sys\n",
    "# 3rd party library imports                                                     \n",
    "from dask.distributed import Client\n",
    "from dask_jobqueue import SLURMCluster\n",
    "# Rosetta library imports                                                       \n",
    "from pyrosetta.distributed.cluster.core import PyRosettaCluster\n",
    "# Custom library imports\n",
    "sys.path.insert(0, os.path.join(os.getcwd(), \"crispy_shifty/protocols\"))\n",
    "from cleaning import remove_terminal_loops, redesign_disulfides # the functions we will distribute\n",
    "\n",
    "\n",
    "print(\"run the following from your local terminal to port forward the dashboard to localhost\")\n",
    "print(\n",
    "    f\"ssh -L 8000:localhost:8787 {pwd.getpwuid(os.getuid()).pw_name}@{socket.gethostname()}\"\n",
    ")\n",
    "print(\"dashboard is now visible at localhost:8000\")\n",
    "print(f\"can also view dashboard at {socket.gethostname()}:8787 without port forwarding\")\n",
    "options = {\n",
    "    \"-out:level\": \"200\", # warning outputs only\n",
    "    \"-corrections::beta_nov16\": \"true\",\n",
    "    \"-detect_disulf\": \"false\",\n",
    "    \"-holes:dalphaball\": \"/home/bcov/ppi/tutorial_build/main/source/external/DAlpahBall/DAlphaBall.gcc\",\n",
    "    \"-indexed_structure_store:fragment_store\": \"/home/bcov/sc/scaffold_comparison/data/ss_grouped_vall_all.h5\",\n",
    "}\n",
    "output_path = os.path.join(os.getcwd(), \"scaffolds/01_prep_inputs\")\n",
    "os.makedirs(output_path, exist_ok=True)\n",
    "\n",
    "if __name__ == \"__main__\":\n",
    "    # configure SLURM cluster as a context manager\n",
    "    with SLURMCluster(\n",
    "        cores=1,\n",
    "        processes=1,\n",
    "        job_cpu=1,\n",
    "        memory=\"12GB\",\n",
    "        queue=\"medium\",\n",
    "        walltime=\"23:30:00\",\n",
    "        death_timeout=120,\n",
    "        local_directory=\"$TMPDIR/dask\",\n",
    "        log_directory=\"/mnt/home/pleung/logs/slurm_logs\",\n",
    "        extra=[\"--lifetime\", \"23h\", \"--lifetime-stagger\", \"5m\"],\n",
    "    ) as cluster:\n",
    "        print(cluster.job_script())\n",
    "        # scale between 1-300 workers,\n",
    "        cluster.adapt(\n",
    "            minimum=1,\n",
    "            maximum=300,\n",
    "            wait_count=999,  # Number of consecutive times that a worker should be suggested for removal it is removed\n",
    "            interval=\"5s\",  # Time between checks\n",
    "        )\n",
    "        # setup a client to interact with the cluster as a context manager\n",
    "        with Client(cluster) as client:\n",
    "            print(client)\n",
    "            client.upload_file(os.path.join(os.getcwd(), \"crispy_shifty/protocols/cleaning.py\")) # upload the script that contains the functions to distribute\n",
    "            PyRosettaCluster(\n",
    "                client=client,\n",
    "                logging_level=\"WARNING\",\n",
    "                output_path=output_path,\n",
    "                project_name=\"crispy_shifty\",\n",
    "                scratch_dir=output_path,\n",
    "                simulation_name=\"notebooks_01_prep_inputs\",\n",
    "                tasks=create_tasks(scaffolds, options),\n",
    "            ).distribute(protocols=[remove_terminal_loops, redesign_disulfides])\n",
    "            client.close()\n",
    "        cluster.scale(0)\n",
    "        cluster.close()\n",
    "    print(\"distributed run complete\")"
   ]
  },
  {
   "cell_type": "markdown",
   "metadata": {},
   "source": [
    "### TODO\n",
    "TODO: refold the resultant no_cys variants to check that they're ok?  \n",
    "TODO: install conda into the crispy env?"
   ]
  },
  {
   "cell_type": "code",
   "execution_count": 3,
   "metadata": {},
   "outputs": [
    {
     "name": "stdout",
     "output_type": "stream",
     "text": [
      "Warning: Use of `pyrosetta.distributed.cluster` namespace requires Anaconda (or Miniconda) to be properly installed for reproducibility of PyRosetta simulations. Please install Anaconda (or Miniconda) onto your system to enable running `which conda`. For installation instructions, visit:\n",
      "https://docs.anaconda.com/anaconda/install\n",
      "\n",
      "core.conformation.Conformation: {0} [ WARNING ] missing heavyatom:  OXT on residue ARG:CtermProteinFull 107\n",
      "LHHHHHHHHHHHHHHLLLLHHHHHHHHHHHHHHHHHHHHHHHHHHHHHHLLLHHHHHHHHHHHHHHHHHHLLLLHHHHHHHHHHHHHHHHHHHHHHHHHHHHHL\n"
     ]
    },
    {
     "data": {
      "text/plain": [
       "[<pyrosetta.distributed.packed_pose.core.PackedPose at 0x7fb99c3970a0>]"
      ]
     },
     "execution_count": 3,
     "metadata": {},
     "output_type": "execute_result"
    }
   ],
   "source": [
    "sys.path.insert(\n",
    "    0, \"/home/pleung/projects/crispy_shifty/protocols\"\n",
    ")  # TODO change to projects dir for production\n",
    "from cleaning import remove_terminal_loops, redesign_disulfides\n",
    "\n",
    "remove_terminal_loops(\n",
    "    None,\n",
    "    pdb_path=\"/net/shared/scaffolds/pre_scaffold_DB/bcov_JHR/JHR_bd1_555.pdb\",\n",
    "    metadata={\n",
    "        \"pdb\": \"/net/shared/scaffolds/pre_scaffold_DB/bcov_JHR/JHR_bd1_555.pdb\",\n",
    "        \"topo\": \"HHHH\",\n",
    "        \"best_model\": 2,\n",
    "        \"best_average_plddts\": 96.0650150399,\n",
    "        \"best_ptm\": 0.8458813818,\n",
    "        \"best_rmsd_to_input\": 1.2088154485,\n",
    "        \"best_average_DAN_plddts\": 0.947265625,\n",
    "        \"scaffold_type\": \"bcov_JHR\",\n",
    "    },\n",
    ")"
   ]
  },
  {
   "cell_type": "code",
   "execution_count": null,
   "metadata": {},
   "outputs": [],
   "source": []
  }
 ],
 "metadata": {
  "kernelspec": {
   "display_name": "crispy (3.8.10)",
   "language": "python",
   "name": "crispy"
  },
  "language_info": {
   "codemirror_mode": {
    "name": "ipython",
    "version": 3
   },
   "file_extension": ".py",
   "mimetype": "text/x-python",
   "name": "python",
   "nbconvert_exporter": "python",
   "pygments_lexer": "ipython3",
   "version": "3.8.10"
  }
 },
 "nbformat": 4,
 "nbformat_minor": 4
}
